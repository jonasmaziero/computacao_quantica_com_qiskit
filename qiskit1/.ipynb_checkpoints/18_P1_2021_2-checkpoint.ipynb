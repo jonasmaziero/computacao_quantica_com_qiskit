{
 "cells": [
  {
   "cell_type": "markdown",
   "id": "1ffd2e87",
   "metadata": {},
   "source": [
    "### Universidade Federal de Santa Maria, CCNE, Departamento de Física <br> FSC835 - TÓPICOS ESPECIAIS EM FÍSICA III (Computação Quântica com Qiskit) <br> Prof. Jonas Maziero, Semestre 2021/2, Data: 11 de janeiro de 2022\n",
    "\n",
    "# Avaliação I"
   ]
  },
  {
   "cell_type": "markdown",
   "id": "496435e5",
   "metadata": {},
   "source": [
    "---\n",
    "$1.$ No IBMQ temos medidas prontas somente do observável $Z$, cuja base de autovetores é a base padrão: $\\{|0\\rangle,|1\\rangle\\}$. Mas vamos considerar que precisamos medir um observável qualquer,\n",
    "$$\\hat{n}\\cdot\\vec{\\sigma} = \\begin{bmatrix}\n",
    "\\cos\\theta & e^{-i\\phi}\\sin\\theta \\\\\n",
    "e^{i\\phi}\\sin\\theta & -\\cos\\theta \\\\\n",
    "\\end{bmatrix},$$\n",
    "de um qubit, com $\\theta\\in[0,\\pi]$ e $\\phi\\in[0,2\\pi)$. Os autovetores de $\\hat{n}\\cdot\\vec{\\sigma}$ são\n",
    "\\begin{cases}\n",
    "|n_{+}\\rangle = \\cos(\\theta/2)|0\\rangle + e^{i\\phi}\\sin(\\theta/2)|1\\rangle, \\\\\n",
    "|n_{-}\\rangle = e^{-i\\phi}\\sin(\\theta/2)|0\\rangle - \\cos(\\theta/2)|1\\rangle.\n",
    "\\end{cases}\n",
    "Usando a porta lógica \n",
    "$$U(\\theta,\\phi,\\lambda) = \\begin{bmatrix} \\cos(\\theta/2) & -e^{i\\lambda}\\sin(\\theta/2) \\\\ e^{i\\phi}\\sin(\\theta/2) & e^{i(\\phi+\\lambda)}\\cos(\\theta/2) \\end{bmatrix},$$\n",
    "verifique que\n",
    "\\begin{cases}\n",
    "U(\\theta,\\phi,\\pi-\\phi)|0\\rangle = |n_{+}\\rangle, \\\\\n",
    "U(\\theta,\\phi,\\pi-\\phi)|1\\rangle = |n_{-}\\rangle.\n",
    "\\end{cases}\n",
    "Verifique também que $U^{\\dagger}(\\theta,\\phi,\\lambda) = U(\\theta,\\pi-\\lambda,-\\pi-\\phi)$. Partindo desses resultados, verifique que\n",
    "\\begin{cases}\n",
    "Pr(n_{+}|\\psi) = Pr(0|\\psi'), \\\\\n",
    "Pr(n_{-}|\\psi) = Pr(1|\\psi'),\n",
    "\\end{cases}\n",
    "com \n",
    "$$|\\psi'\\rangle = U^{\\dagger}(\\theta,\\phi,\\pi-\\phi)|\\psi\\rangle.$$\n",
    "Ou seja, se queremos medir $\\hat{n}\\cdot\\vec{\\sigma}$ para um sistema preparado no estado $|\\psi\\rangle$, podemos fazer isso aplicando primeiro $U^{\\dagger}(\\theta,\\phi,\\pi-\\phi)$ nesse estado e depois medindo $Z$."
   ]
  },
  {
   "cell_type": "markdown",
   "id": "4b459502",
   "metadata": {},
   "source": [
    "_SOL._ Temos que\n",
    "\\begin{align}\n",
    "U(\\theta,\\phi,\\pi-\\phi) & = \\begin{bmatrix} \\cos(\\theta/2) & -e^{i(\\pi-\\phi)}\\sin(\\theta/2) \\\\ e^{i\\phi}\\sin(\\theta/2) & e^{i(\\phi+\\pi-\\phi)}\\cos(\\theta/2) \\end{bmatrix} = \\begin{bmatrix} \\cos(\\theta/2) & -e^{i\\pi}e^{-i\\phi}\\sin(\\theta/2) \\\\ e^{i\\phi}\\sin(\\theta/2) & e^{i\\pi}\\cos(\\theta/2) \\end{bmatrix} \\\\\n",
    "& = \\begin{bmatrix} \\cos(\\theta/2) & e^{-i\\phi}\\sin(\\theta/2) \\\\ e^{i\\phi}\\sin(\\theta/2) & -\\cos(\\theta/2) \\end{bmatrix}.\n",
    "\\end{align}\n",
    "Assim vem que\n",
    "\\begin{align}\n",
    "U(\\theta,\\phi,\\pi-\\phi)|0\\rangle & = \\begin{bmatrix} \\cos(\\theta/2) & e^{-i\\phi}\\sin(\\theta/2) \\\\ e^{i\\phi}\\sin(\\theta/2) & -\\cos(\\theta/2) \\end{bmatrix}\\begin{bmatrix} 1 \\\\ 0 \\end{bmatrix} = \\begin{bmatrix} \\cos(\\theta/2)  \\\\ e^{i\\phi}\\sin(\\theta/2)  \\end{bmatrix} \\\\\n",
    "& = \\cos(\\theta/2)\\begin{bmatrix} 1  \\\\ 0  \\end{bmatrix}  + e^{i\\phi}\\sin(\\theta/2)\\begin{bmatrix} 0  \\\\ 1  \\end{bmatrix} = |n_{+}\\rangle, \\\\\n",
    "U(\\theta,\\phi,\\pi-\\phi)|1\\rangle & = \\begin{bmatrix} \\cos(\\theta/2) & e^{-i\\phi}\\sin(\\theta/2) \\\\ e^{i\\phi}\\sin(\\theta/2) & -\\cos(\\theta/2) \\end{bmatrix}\\begin{bmatrix} 0 \\\\ 1 \\end{bmatrix} = \\begin{bmatrix} e^{-i\\phi}\\sin(\\theta/2)  \\\\ -\\cos(\\theta/2) \\end{bmatrix} \\\\\n",
    "& = e^{-i\\phi}\\sin(\\theta/2)\\begin{bmatrix} 1  \\\\ 0  \\end{bmatrix} - \\cos(\\theta/2)\\begin{bmatrix} 0  \\\\ 1  \\end{bmatrix} = |n_{-}\\rangle.\n",
    "\\end{align}"
   ]
  },
  {
   "cell_type": "markdown",
   "id": "b22acc44",
   "metadata": {},
   "source": [
    "Ademais\n",
    "\\begin{align}\n",
    "U^{\\dagger}(\\theta,\\phi,\\lambda) & = \\begin{bmatrix} \\cos(\\theta/2) & -e^{i\\lambda}\\sin(\\theta/2) \\\\ e^{i\\phi}\\sin(\\theta/2) & e^{i(\\phi+\\lambda)}\\cos(\\theta/2) \\end{bmatrix}^{\\dagger} = \\begin{bmatrix} \\cos(\\theta/2) & e^{-i\\phi}\\sin(\\theta/2) \\\\ -e^{-i\\lambda}\\sin(\\theta/2) & e^{-i(\\phi+\\lambda)}\\cos(\\theta/2) \\end{bmatrix}, \\\\\n",
    "U(\\theta,\\pi-\\lambda,-\\pi-\\phi) & = \\begin{bmatrix} \\cos(\\theta/2) & -e^{i(-\\pi-\\phi)}\\sin(\\theta/2) \\\\ e^{i(\\pi-\\lambda)}\\sin(\\theta/2) & e^{i(\\pi-\\lambda)-\\pi-\\phi)}\\cos(\\theta/2) \\end{bmatrix} = \\begin{bmatrix} \\cos(\\theta/2) & -e^{-i\\pi}e^{-i\\phi}\\sin(\\theta/2) \\\\ e^{i\\pi}e^{-i\\lambda}\\sin(\\theta/2) & e^{-i(\\lambda+\\phi)}\\cos(\\theta/2) \\end{bmatrix} \\\\\n",
    "& = U^{\\dagger}(\\theta,\\phi,\\lambda).\n",
    "\\end{align}\n",
    "\n",
    "Por fim, notamos que\n",
    "\\begin{align}\n",
    "Pr(n_{+}|\\psi) & = |\\langle n_{+}|\\psi\\rangle|^{2} = |\\langle 0|U^{\\dagger}(\\theta,\\phi,\\pi-\\phi)|\\psi\\rangle|^{2} \\equiv |\\langle 0|\\psi'\\rangle|^{2} = Pr(0|\\psi'), \\\\\n",
    "Pr(n_{-}|\\psi) & = |\\langle n_{-}|\\psi\\rangle|^{2} = |\\langle 1|U^{\\dagger}(\\theta,\\phi,\\pi-\\phi)|\\psi\\rangle|^{2} \\equiv |\\langle 1|\\psi'\\rangle|^{2} = Pr(1|\\psi'),\n",
    "\\end{align}\n",
    "com \n",
    "\\begin{align}\n",
    "|\\psi'\\rangle & = U^{\\dagger}(\\theta,\\phi,\\pi-\\phi)|\\psi\\rangle = U(\\theta,\\pi-\\pi+\\phi,-\\pi-\\phi)|\\psi\\rangle \\\\\n",
    "& = U(\\theta,\\phi,-\\pi-\\phi)|\\psi\\rangle = U(\\theta,\\phi,\\pi-\\phi)|\\psi\\rangle.\n",
    "\\end{align}\n",
    "Acima usamos e.g. $$|n_{+}\\rangle^{\\dagger}=\\big(U(\\theta,\\phi,\\pi-\\phi)|0\\rangle\\big)^{\\dagger} = \\langle 0|U^{\\dagger}(\\theta,\\phi,\\pi-\\phi)=\\langle n_{+}|.$$"
   ]
  },
  {
   "cell_type": "markdown",
   "id": "a9ae8e27",
   "metadata": {},
   "source": [
    "---\n",
    "$2.$ Considere um qubit preparado no estado $|+\\rangle=(|0\\rangle+|1\\rangle)/\\sqrt{2}$ e uma medida do observável $O = (X+Z)/\\sqrt{2}$. Calcule analiticamente as probabilidades dos diferentes valores de $O$. Além disso, com base nos resultados obtidos na questão anterior, simule e implemente experimentalmente a preparação de $|+\\rangle$ e a medida de $O$ para estimar as probabilidades dos possíveis valores de $O$."
   ]
  },
  {
   "cell_type": "markdown",
   "id": "6b33a6e5",
   "metadata": {},
   "source": [
    "_SOL._ Começamos notando que \n",
    "$$\\hat{n}\\cdot\\vec{\\sigma} = X\\sin\\theta\\cos\\phi + Y\\sin\\theta\\sin\\phi + Z\\cos\\theta := O \\equiv H = \\frac{1}{\\sqrt{2}}\\begin{bmatrix}1&1\\\\1&-1\\end{bmatrix}$$\n",
    "se fazemos \n",
    "$$\\theta = \\pi/4 \\text{ e } \\phi = 0.$$\n",
    "Nesse caso, os autovetores de $O$ são\n",
    "\\begin{cases}\n",
    "|n_{+}(\\pi/4,0)\\rangle = \\cos(\\pi/8)|0\\rangle + \\sin(\\pi/8)|1\\rangle, \\\\\n",
    "|n_{-}(\\pi/4,0)\\rangle = \\sin(\\pi/8)|0\\rangle - \\cos(\\pi/8)|1\\rangle.\n",
    "\\end{cases}\n",
    "\n",
    "OBS: $|\\pm\\rangle$ não são autovetores de $H$ (como veremos na próxima questão), mas sim de $X$.\n",
    "\n",
    "Por conseguinte, teremos as seguintes probabilidades\n",
    "\\begin{align}\n",
    "Pr(n_{+}(\\pi/4,0)|+) & = |\\langle +|n_{+}(\\pi/4,0)\\rangle|^{2} \\\\\n",
    "& = \\Big|\\frac{1}{\\sqrt{2}}\\big(\\langle 0|+\\langle 1|\\big)\\big(\\cos(\\pi/8)|0\\rangle + \\sin(\\pi/8)|1\\rangle\\big)\\Big|^{2} \\\\\n",
    "& = \\frac{1}{2}\\Big|\\cos(\\pi/8) + \\sin(\\pi/8)\\Big|^{2} = \\frac{1}{2}\\big(\\cos^{2}(\\pi/8) + \\sin^{2}(\\pi/8) + 2\\sin(\\pi/8)\\cos(\\pi/8)\\big) \\\\\n",
    "& = \\frac{1}{2}\\big(1 + \\sin(\\pi/4)\\big) = \\frac{1}{2}\\big(1 + 1/\\sqrt{2}\\big) \\approx 0.85, \\\\\n",
    "Pr(n_{-}(\\pi/4,0)|+) & = 1 - Pr(n_{+}(\\pi/4,0)|+) = \\frac{1}{2}\\big(1 - 1/\\sqrt{2}\\big) \\approx 0.15.\n",
    "\\end{align}"
   ]
  },
  {
   "cell_type": "code",
   "execution_count": 1,
   "id": "3db43f9d",
   "metadata": {},
   "outputs": [],
   "source": [
    "%run init.ipynb"
   ]
  },
  {
   "cell_type": "code",
   "execution_count": 6,
   "id": "889226c5",
   "metadata": {},
   "outputs": [
    {
     "data": {
      "image/png": "[encoded data removed]",
      "text/latex": [
       "$\\displaystyle \\left( \\frac{\\sqrt{\\sqrt{2} + 2}}{2}, \\  \\frac{\\sqrt{2 - \\sqrt{2}}}{2}\\right)$"
      ],
      "text/plain": [
       "⎛  ________    ________⎞\n",
       "⎜╲╱ √2 + 2   ╲╱ 2 - √2 ⎟\n",
       "⎜──────────, ──────────⎟\n",
       "⎝    2           2     ⎠"
      ]
     },
     "execution_count": 6,
     "metadata": {},
     "output_type": "execute_result"
    }
   ],
   "source": [
    "simplify(cos(pi/8)), simplify(sin(pi/8))"
   ]
  },
  {
   "cell_type": "code",
   "execution_count": 9,
   "id": "d9547492",
   "metadata": {},
   "outputs": [],
   "source": [
    "from qiskit.visualization import plot_bloch_vector\n",
    "th, ph = pi/4, 0\n",
    "#plot_bloch_vector([[math.sin(th)*math.cos(ph), math.sin(th)*math.sin(ph), math.cos(th)]])"
   ]
  },
  {
   "cell_type": "code",
   "execution_count": 4,
   "id": "7ee6dd49",
   "metadata": {},
   "outputs": [
    {
     "data": {
      "image/png": "[encoded data removed]",
      "text/latex": [
       "$\\displaystyle 0.853553390593274$"
      ],
      "text/plain": [
       "0.8535533905932737"
      ]
     },
     "execution_count": 4,
     "metadata": {},
     "output_type": "execute_result"
    }
   ],
   "source": [
    "float(1+1/sqrt(2))/2"
   ]
  },
  {
   "cell_type": "code",
   "execution_count": 2,
   "id": "477b4767",
   "metadata": {},
   "outputs": [
    {
     "data": {
      "image/png": "[encoded data removed]",
      "text/latex": [
       "$\\displaystyle \\left[ \\left( -1, \\  1, \\  \\left[ \\left[\\begin{matrix}1 - \\sqrt{2}\\\\1\\end{matrix}\\right]\\right]\\right), \\  \\left( 1, \\  1, \\  \\left[ \\left[\\begin{matrix}1 + \\sqrt{2}\\\\1\\end{matrix}\\right]\\right]\\right)\\right]$"
      ],
      "text/plain": [
       "⎡⎛       ⎡⎡1 - √2⎤⎤⎞  ⎛      ⎡⎡1 + √2⎤⎤⎞⎤\n",
       "⎢⎜-1, 1, ⎢⎢      ⎥⎥⎟, ⎜1, 1, ⎢⎢      ⎥⎥⎟⎥\n",
       "⎣⎝       ⎣⎣  1   ⎦⎦⎠  ⎝      ⎣⎣  1   ⎦⎦⎠⎦"
      ]
     },
     "execution_count": 2,
     "metadata": {},
     "output_type": "execute_result"
    }
   ],
   "source": [
    "X = Matrix([[0,1],[1,0]]); Z = Matrix([[1,0],[0,-1]]); O = (X+Z)/sqrt(2); O.eigenvects()"
   ]
  },
  {
   "cell_type": "code",
   "execution_count": 8,
   "id": "414c22c3",
   "metadata": {},
   "outputs": [],
   "source": [
    "from qiskit import *\n",
    "nshots = 8192\n",
    "qiskit.IBMQ.load_account()\n",
    "provider = qiskit.IBMQ.get_provider(hub='ibm-q', group='open', project='main')\n",
    "simulator = Aer.get_backend('qasm_simulator')\n",
    "device = provider.get_backend('ibmq_belem')\n",
    "from qiskit.tools.monitor import job_monitor\n",
    "from qiskit.tools.visualization import plot_histogram"
   ]
  },
  {
   "cell_type": "code",
   "execution_count": 9,
   "id": "c94575e7",
   "metadata": {},
   "outputs": [
    {
     "data": {
      "text/html": [
       "<pre style=\"word-wrap: normal;white-space: pre;background: #fff0;line-height: 1.1;font-family: &quot;Courier New&quot;,Courier,monospace\">     ┌───┐ ░ ┌────────────┐┌─┐\n",
       "q_0: ┤ H ├─░─┤ U(π/4,0,π) ├┤M├\n",
       "     └───┘ ░ └────────────┘└╥┘\n",
       "c: 1/═══════════════════════╩═\n",
       "                            0 </pre>"
      ],
      "text/plain": [
       "     ┌───┐ ░ ┌────────────┐┌─┐\n",
       "q_0: ┤ H ├─░─┤ U(π/4,0,π) ├┤M├\n",
       "     └───┘ ░ └────────────┘└╥┘\n",
       "c: 1/═══════════════════════╩═\n",
       "                            0 "
      ]
     },
     "execution_count": 9,
     "metadata": {},
     "output_type": "execute_result"
    }
   ],
   "source": [
    "qc = QuantumCircuit(1, 1)\n",
    "qc.h(0) # preparação do estado\n",
    "qc.barrier() \n",
    "# medida de O=H\n",
    "th = math.pi/4; ph = 0; lb = math.pi - ph; qc.u(th, ph, lb, 0)\n",
    "qc.measure(0, 0)\n",
    "qc.draw()"
   ]
  },
  {
   "cell_type": "code",
   "execution_count": 10,
   "id": "69370def",
   "metadata": {},
   "outputs": [
    {
     "data": {
      "image/png": "[encoded data removed]",
      "text/plain": [
       "<Figure size 504x360 with 1 Axes>"
      ]
     },
     "execution_count": 10,
     "metadata": {},
     "output_type": "execute_result"
    }
   ],
   "source": [
    "result = execute(qc, backend = simulator, shots = nshots).result()\n",
    "plot_histogram(result.get_counts(qc))"
   ]
  },
  {
   "cell_type": "code",
   "execution_count": 8,
   "id": "8df6a4e9",
   "metadata": {},
   "outputs": [
    {
     "name": "stdout",
     "output_type": "stream",
     "text": [
      "Job Status: job has successfully run\n"
     ]
    }
   ],
   "source": [
    "job = execute(qc, backend = device, shots = nshots)\n",
    "job_monitor(job)"
   ]
  },
  {
   "cell_type": "code",
   "execution_count": 9,
   "id": "bce08b2e",
   "metadata": {},
   "outputs": [
    {
     "data": {
      "image/png": "[encoded data removed]",
      "text/plain": [
       "<Figure size 504x360 with 1 Axes>"
      ]
     },
     "execution_count": 9,
     "metadata": {},
     "output_type": "execute_result"
    }
   ],
   "source": [
    "plot_histogram(job.result().get_counts(qc))"
   ]
  },
  {
   "cell_type": "markdown",
   "id": "f92db462",
   "metadata": {},
   "source": [
    "---\n",
    "$3.$ Como já foi dito na 1ª questão, no IBMQ só temos prontas medidas locais de $Z$. Agora vamos considerar que queremos fazer medidas na base de Bell, que é a seguinte base de estados emaranhados de 2 qubits:\n",
    "\\begin{cases}\n",
    "|B_{00}\\rangle := |\\Phi_{+}\\rangle = \\frac{1}{\\sqrt{2}}\\big(|00\\rangle + |11\\rangle\\big), \\\\\n",
    "|B_{01}\\rangle := |\\Psi_{+}\\rangle = \\frac{1}{\\sqrt{2}}\\big(|01\\rangle + |10\\rangle\\big), \\\\\n",
    "|B_{10}\\rangle := |\\Phi_{-}\\rangle = \\frac{1}{\\sqrt{2}}\\big(|00\\rangle - |11\\rangle\\big), \\\\\n",
    "|B_{11}\\rangle := |\\Psi_{-}\\rangle = \\frac{1}{\\sqrt{2}}\\big(|01\\rangle - |10\\rangle\\big).\n",
    "\\end{cases}\n",
    "Primeiramente, descreva qual é a ação da porta de Hadamard, $H=\\frac{1}{\\sqrt{2}}\\big(|0\\rangle\\langle0|+|0\\rangle\\langle1|+|1\\rangle\\langle0|-|1\\rangle\\langle1|\\big)$, na base computacional, $\\{|0\\rangle,|1\\rangle\\}$. \n",
    "Seguindo, descreva qual é a ação da porta lógica de negação controlada, $C_{x}^{ab} = |0\\rangle_{a}\\langle 0|\\otimes I_{b} + |1\\rangle_{a}\\langle 1|\\otimes X_{b}$, na base computacional de 2 qubits, $\\{|00\\rangle,|01\\rangle,|10\\rangle,|11\\rangle\\}$. \n",
    "Feito isso, verifique que\n",
    "\\begin{equation}\n",
    "C_{x}^{01}(H\\otimes I)|jk\\rangle = |B_{jk}\\rangle\n",
    "\\end{equation}\n",
    "para $j,k=0,1$.\n",
    "Também de forma análoga à questão 1, se preparamos os 2 qubits em um estado qualquer $|\\Psi\\rangle$ e queremos fazer uma medida na base de Bell, podemos fazer isso primeiramente aplicando uma transformação unitária $V$ no estado $|\\Psi\\rangle$, para obter $|\\Psi'\\rangle = V|\\Psi\\rangle$, e depois fazendo uma medida na base computacional $\\{|jk\\rangle\\}_{j,k=0}^{1}$. Escreva $V$ em termos de $H$ e $C_{x}$."
   ]
  },
  {
   "cell_type": "markdown",
   "id": "9a015d14",
   "metadata": {},
   "source": [
    "_SOL._ A porta de Hadamard cria estados com máxima coerência em relação à base computacional. Mais especificamente, $H$ leva estados da base de autovetores de $Z$ para estados da base de autovetores de $X$:\n",
    "\\begin{align}\n",
    "H|0\\rangle & = \\frac{1}{\\sqrt{2}}\\big(|0\\rangle\\langle0|0\\rangle+|0\\rangle\\langle1|0\\rangle+|1\\rangle\\langle0|0\\rangle-|1\\rangle\\langle1|0\\rangle\\big) \\\\\n",
    "& = \\frac{1}{\\sqrt{2}}\\big(|0\\rangle + |1\\rangle\\big) = |+\\rangle, \\\\\n",
    "H|1\\rangle & = \\frac{1}{\\sqrt{2}}\\big(|0\\rangle\\langle0|1\\rangle+|0\\rangle\\langle1|1\\rangle+|1\\rangle\\langle0|1\\rangle-|1\\rangle\\langle1|1\\rangle\\big) \\\\\n",
    "& = \\frac{1}{\\sqrt{2}}\\big(|0\\rangle - |1\\rangle\\big) = |-\\rangle.\n",
    "\\end{align}\n",
    "Como $H^{\\dagger}=H$, teremos que \n",
    "\\begin{cases}\n",
    "H|+\\rangle = HH|0\\rangle = |0\\rangle, \\\\\n",
    "H|-\\rangle = HH|1\\rangle = |1\\rangle.\n",
    "\\end{cases}"
   ]
  },
  {
   "cell_type": "markdown",
   "id": "7418c05f",
   "metadata": {},
   "source": [
    "Já a negação controlada não causa nenhuma modificação se o estado do qubit de controle for $|0\\rangle$ mas inverte o estado do qubit controlado se o estado do qubit de controle for $|1\\rangle$:\n",
    "\\begin{align}\n",
    "C_{x}^{01}|00\\rangle & = |0\\rangle\\langle 0|0\\rangle\\otimes I|0\\rangle + |1\\rangle\\langle 1|0\\rangle\\otimes X|0\\rangle = |00\\rangle, \\\\\n",
    "C_{x}^{01}|01\\rangle & = |0\\rangle\\langle 0|0\\rangle\\otimes I|1\\rangle + |1\\rangle\\langle 1|0\\rangle\\otimes X|1\\rangle = |01\\rangle, \\\\\n",
    "C_{x}^{01}|10\\rangle & = |0\\rangle\\langle 0|1\\rangle\\otimes I|0\\rangle + |1\\rangle\\langle 1|1\\rangle\\otimes X|0\\rangle = |11\\rangle, \\\\\n",
    "C_{x}^{01}|11\\rangle & = |0\\rangle\\langle 0|1\\rangle\\otimes I|1\\rangle + |1\\rangle\\langle 1|1\\rangle\\otimes X|1\\rangle = |10\\rangle,\n",
    "\\end{align}\n",
    "em que usamos que, como $X=|0\\rangle\\langle 1|+|1\\rangle\\langle 0|$, temos $X|0\\rangle=|1\\rangle$ e $X|1\\rangle=|0\\rangle$. Também usamos $(A\\otimes B)(C\\otimes D) = AC\\otimes BD$."
   ]
  },
  {
   "cell_type": "markdown",
   "id": "7ac788e2",
   "metadata": {},
   "source": [
    "Seguindo, vamos verificar que\n",
    "\\begin{align}\n",
    "C_{x}^{01}(H\\otimes I)|00\\rangle & = C_{x}^{01}|+0\\rangle = \\frac{1}{\\sqrt{2}}\\big(C_{x}^{01}|00\\rangle + C_{x}^{01}|10\\rangle\\big) \\\\\n",
    "&  = \\frac{1}{\\sqrt{2}}\\big(|00\\rangle + |11\\rangle\\big) = |\\Phi_{+}\\rangle = |B_{00}\\rangle, \\\\\n",
    "C_{x}^{01}(H\\otimes I)|01\\rangle & = C_{x}^{01}|+1\\rangle = \\frac{1}{\\sqrt{2}}\\big(C_{x}^{01}|01\\rangle + C_{x}^{01}|11\\rangle\\big) \\\\\n",
    "&  = \\frac{1}{\\sqrt{2}}\\big(|01\\rangle + |10\\rangle\\big) = |\\Psi_{+}\\rangle = |B_{01}\\rangle, \\\\\n",
    "C_{x}^{01}(H\\otimes I)|10\\rangle & = C_{x}^{01}|-0\\rangle = \\frac{1}{\\sqrt{2}}\\big(C_{x}^{01}|00\\rangle - C_{x}^{01}|10\\rangle\\big) \\\\\n",
    "&  = \\frac{1}{\\sqrt{2}}\\big(|00\\rangle - |11\\rangle\\big) = |\\Phi_{-}\\rangle = |B_{10}\\rangle, \\\\\n",
    "C_{x}^{01}(H\\otimes I)|11\\rangle & = C_{x}^{01}|-1\\rangle = \\frac{1}{\\sqrt{2}}\\big(C_{x}^{01}|01\\rangle - C_{x}^{01}|11\\rangle\\big) \\\\\n",
    "&  = \\frac{1}{\\sqrt{2}}\\big(|01\\rangle - |10\\rangle\\big) = |\\Psi_{-}\\rangle = |B_{11}\\rangle.\n",
    "\\end{align}"
   ]
  },
  {
   "cell_type": "markdown",
   "id": "ecbc6b2b",
   "metadata": {},
   "source": [
    "Ou seja, \n",
    "$$C_{x}^{01}(H\\otimes I)|jk\\rangle = |B_{jk}\\rangle.$$\n",
    "Como $H$ e $C_{x}^{01}$ são hermitianas, teremos também que\n",
    "\\begin{align}\n",
    "(H\\otimes I)C_{x}^{01}|B_{jk}\\rangle & = (H\\otimes I)C_{x}^{01}C_{x}^{01}(H\\otimes I)|jk\\rangle = (H\\otimes I)(H\\otimes I)|jk\\rangle \\\\\n",
    "& = |jk\\rangle.\n",
    "\\end{align}\n",
    "\n",
    "Por fim, consideremos 2 qubits preparados no estado $|\\Psi\\rangle$. Se definimos $|B_{jk}\\rangle = C_{x}^{01}(H\\otimes I)|jk\\rangle:= W|jk\\rangle$, para medidas na base de Bell teremos as probabilidades:\n",
    "\\begin{align}\n",
    "Pr(B_{jk}|\\Psi) & = |\\langle B_{jk}|\\Psi\\rangle|^{2} = |\\langle jk|W^{\\dagger}|\\Psi\\rangle|^{2}  = |\\langle jk|\\Psi'\\rangle|^{2} = Pr(jk|\\Psi'),\n",
    "\\end{align}\n",
    "com\n",
    "\\begin{align}\n",
    "|\\Psi'\\rangle & = V|\\Psi\\rangle = W^{\\dagger}|\\Psi\\rangle = \\big(C_{x}^{01}(H\\otimes I)\\big)^{\\dagger}|\\Psi\\rangle \\\\\n",
    "& = (H\\otimes I)^{\\dagger}(C_{x}^{01})^{\\dagger}|\\Psi\\rangle = (H\\otimes I)C_{x}^{01}|\\Psi\\rangle.\n",
    "\\end{align}\n",
    "Portanto\n",
    "$$V = (H\\otimes I)C_{x}^{01}.$$"
   ]
  },
  {
   "cell_type": "markdown",
   "id": "615a8aba",
   "metadata": {},
   "source": [
    "---\n",
    "$4.$ Considere 2 qubits preparados no seguinte estado:\n",
    "$$|\\Psi\\rangle = |+-\\rangle.$$\n",
    "Para este estado, calcule analiticamente as probabilidades para medidas na base de Bell. Feito isso, simule e estime experimentalmente (usando o IBMQ) essas probabilidades."
   ]
  },
  {
   "cell_type": "markdown",
   "id": "849ea142",
   "metadata": {},
   "source": [
    "_SOL._ Usando $\\langle +|0\\rangle = \\langle +|1\\rangle = \\langle -|0\\rangle = -\\langle -|1\\rangle = 1/\\sqrt{2}$, teremos que\n",
    "\\begin{align}\n",
    "Pr\\big(\\Phi_{+}|+-\\big) & = \\big|\\langle +-|\\Phi_{+}\\rangle\\big|^{2} = \\Big|\\frac{1}{\\sqrt{2}}\\Big(\\langle +-|00\\rangle + \\langle +-|11\\rangle\\Big)\\Big|^{2} \\\\\n",
    "&  = \\Big|\\frac{1}{\\sqrt{2}}\\Big(\\frac{1}{\\sqrt{2}}\\frac{1}{\\sqrt{2}} + \\frac{1}{\\sqrt{2}}\\frac{-1}{\\sqrt{2}}\\Big)\\Big|^{2} = 0, \\\\\n",
    "Pr\\big(\\Phi_{-}|+-\\big) & = \\big|\\langle +-|\\Phi_{-}\\rangle\\big|^{2} = \\Big|\\frac{1}{\\sqrt{2}}\\Big(\\langle +-|00\\rangle - \\langle +-|11\\rangle\\Big)\\Big|^{2} \\\\\n",
    "&  = \\Big|\\frac{1}{\\sqrt{2}}\\big(\\frac{1}{\\sqrt{2}}\\frac{1}{\\sqrt{2}} - \\frac{1}{\\sqrt{2}}\\frac{-1}{\\sqrt{2}}\\big)\\Big|^{2} = \\frac{1}{2}, \\\\\n",
    "Pr\\big(\\Psi_{+}|+-\\big) & = \\big|\\langle +-|\\Psi_{+}\\rangle\\big|^{2} = \\Big|\\frac{1}{\\sqrt{2}}\\Big(\\langle +-|01\\rangle + \\langle +-|10\\rangle\\Big)\\Big|^{2} \\\\\n",
    "&  = \\Big|\\frac{1}{\\sqrt{2}}\\Big(\\frac{1}{\\sqrt{2}}\\frac{-1}{\\sqrt{2}} + \\frac{1}{\\sqrt{2}}\\frac{1}{\\sqrt{2}}\\Big)\\Big|^{2} = 0, \\\\\n",
    "Pr\\big(\\Psi_{-}|+-\\big) & = \\big|\\langle +-|\\Psi_{-}\\rangle\\big|^{2} = \\Big|\\frac{1}{\\sqrt{2}}\\Big(\\langle +-|01\\rangle - \\langle +-|10\\rangle\\Big)\\Big|^{2} \\\\\n",
    "&  = \\Big|\\frac{1}{\\sqrt{2}}\\Big(\\frac{1}{\\sqrt{2}}\\frac{-1}{\\sqrt{2}} - \\frac{1}{\\sqrt{2}}\\frac{1}{\\sqrt{2}}\\Big)\\Big|^{2} = \\frac{1}{2}.\n",
    "\\end{align}\n",
    "Observe que este resultado é esperado, uma vez que \n",
    "$$|\\Psi\\rangle = |+-\\rangle = \\frac{1}{2}\\big(|00\\rangle-|01\\rangle+|10\\rangle-|11\\rangle\\big) = \\frac{1}{\\sqrt{2}}\\big(|\\Phi_{-}\\rangle-|\\Psi_{-}\\rangle\\big).$$"
   ]
  },
  {
   "cell_type": "code",
   "execution_count": 11,
   "id": "26248aad",
   "metadata": {},
   "outputs": [
    {
     "data": {
      "text/html": [
       "<pre style=\"word-wrap: normal;white-space: pre;background: #fff0;line-height: 1.1;font-family: &quot;Courier New&quot;,Courier,monospace\">          ┌───┐\n",
       "q_0: ──■──┤ H ├\n",
       "     ┌─┴─┐└───┘\n",
       "q_1: ┤ X ├─────\n",
       "     └───┘     </pre>"
      ],
      "text/plain": [
       "          ┌───┐\n",
       "q_0: ──■──┤ H ├\n",
       "     ┌─┴─┐└───┘\n",
       "q_1: ┤ X ├─────\n",
       "     └───┘     "
      ]
     },
     "execution_count": 11,
     "metadata": {},
     "output_type": "execute_result"
    }
   ],
   "source": [
    "def qc_bb_cb():\n",
    "    qc = QuantumCircuit(2, name = 'BB->CB')\n",
    "    qc.cx(0,1); qc.h(0)#; qc.measure([0,1],[0,1])\n",
    "    return qc\n",
    "qc_bb_cb_ = qc_bb_cb(); qc_bb_cb_.draw()"
   ]
  },
  {
   "cell_type": "code",
   "execution_count": 12,
   "id": "68abafbc",
   "metadata": {},
   "outputs": [
    {
     "data": {
      "text/html": [
       "<pre style=\"word-wrap: normal;white-space: pre;background: #fff0;line-height: 1.1;font-family: &quot;Courier New&quot;,Courier,monospace\">     ┌───┐      ░ ┌─────────┐┌─┐   \n",
       "q_0: ┤ H ├──────░─┤0        ├┤M├───\n",
       "     ├───┤┌───┐ ░ │  BB->CB │└╥┘┌─┐\n",
       "q_1: ┤ X ├┤ H ├─░─┤1        ├─╫─┤M├\n",
       "     └───┘└───┘ ░ └─────────┘ ║ └╥┘\n",
       "c: 2/═════════════════════════╩══╩═\n",
       "                              0  1 </pre>"
      ],
      "text/plain": [
       "     ┌───┐      ░ ┌─────────┐┌─┐   \n",
       "q_0: ┤ H ├──────░─┤0        ├┤M├───\n",
       "     ├───┤┌───┐ ░ │  BB->CB │└╥┘┌─┐\n",
       "q_1: ┤ X ├┤ H ├─░─┤1        ├─╫─┤M├\n",
       "     └───┘└───┘ ░ └─────────┘ ║ └╥┘\n",
       "c: 2/═════════════════════════╩══╩═\n",
       "                              0  1 "
      ]
     },
     "execution_count": 12,
     "metadata": {},
     "output_type": "execute_result"
    }
   ],
   "source": [
    "qc = QuantumCircuit(2, 2)\n",
    "qc.x(1); qc.h([0,1]) # preparação do estado |+->\n",
    "qc.barrier()\n",
    "qc_bb_cb_ = qc_bb_cb(); qc.append(qc_bb_cb_, [0,1]); qc.measure([0,1],[0,1])\n",
    "qc.draw()"
   ]
  },
  {
   "cell_type": "code",
   "execution_count": 13,
   "id": "ea61d33b",
   "metadata": {},
   "outputs": [
    {
     "data": {
      "image/png": "[encoded data removed]",
      "text/plain": [
       "<Figure size 504x360 with 1 Axes>"
      ]
     },
     "execution_count": 13,
     "metadata": {},
     "output_type": "execute_result"
    }
   ],
   "source": [
    "result = execute(qc, backend = simulator, shots = nshots).result()\n",
    "plot_histogram(result.get_counts(qc))"
   ]
  },
  {
   "cell_type": "code",
   "execution_count": 32,
   "id": "1fcbae34",
   "metadata": {},
   "outputs": [
    {
     "name": "stdout",
     "output_type": "stream",
     "text": [
      "Job Status: job has successfully run\n"
     ]
    }
   ],
   "source": [
    "job = execute(qc, backend = device, shots = nshots)\n",
    "job_monitor(job)"
   ]
  },
  {
   "cell_type": "code",
   "execution_count": 33,
   "id": "49b3d1c7",
   "metadata": {},
   "outputs": [
    {
     "data": {
      "image/png": "[encoded data removed]",
      "text/plain": [
       "<Figure size 504x360 with 1 Axes>"
      ]
     },
     "execution_count": 33,
     "metadata": {},
     "output_type": "execute_result"
    }
   ],
   "source": [
    "plot_histogram(job.result().get_counts(qc))"
   ]
  },
  {
   "cell_type": "code",
   "execution_count": null,
   "id": "576fa187",
   "metadata": {},
   "outputs": [],
   "source": []
  }
 ],
 "metadata": {
  "kernelspec": {
   "display_name": "Python 3 (ipykernel)",
   "language": "python",
   "name": "python3"
  },
  "language_info": {
   "codemirror_mode": {
    "name": "ipython",
    "version": 3
   },
   "file_extension": ".py",
   "mimetype": "text/x-python",
   "name": "python",
   "nbconvert_exporter": "python",
   "pygments_lexer": "ipython3",
   "version": "3.9.13"
  }
 },
 "nbformat": 4,
 "nbformat_minor": 5
}
