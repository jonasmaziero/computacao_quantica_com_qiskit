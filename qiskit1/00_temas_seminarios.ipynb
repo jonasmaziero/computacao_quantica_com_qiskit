{
 "cells": [
  {
   "cell_type": "markdown",
   "id": "39950d90",
   "metadata": {},
   "source": [
    "# Temas para os trabalhos/seminários\n",
    "\n",
    "* _Marcos_: Medidas não reveladas.\n",
    "\n",
    "* _Vitor_: Swap de emaranhamento. 03/fev\n",
    "\n",
    "* _Said_: Violação das desigualdades de Bell. 10/fev\n",
    "\n",
    "* _Tiago_: Redes neurais quânticas (convolução). 12/fev\n",
    "\n",
    "* _Diego_: Complementariedade no apagador quântico. 15/fev\n",
    "\n",
    "* _Douglas_: Distribuição de emaranhamento. 22/fev\n",
    "\n",
    "* _Marcelo_: Criptografia quântica. 24/fev\n",
    "\n",
    "* _Lucas_: Redes neurais quânticas (planaltos estéreis). \n",
    "\n",
    "* _Rene_: QAOA.\n",
    "\n",
    "* _Isabella_: Teleportação.\n",
    "\n",
    "* _João_: Compilador. \n",
    "\n",
    "* _Victor_: Codificação superdensa."
   ]
  },
  {
   "cell_type": "markdown",
   "id": "4341e84c",
   "metadata": {},
   "source": [
    "# Sobre a avaliação\n",
    "Serão considerados:\n",
    "* Introdução ao tema do protocolo (2 pontos)\n",
    "* Cálculos analíticos envolvidos com o protocolo (2 pontos)\n",
    "* Planejamento para simulação do protocolo (2 pontos)\n",
    "* Execução da simulação, experimento e resultados (2 pontos)\n",
    "* Generalizações/extensões do protocolo (2 pontos)"
   ]
  },
  {
   "cell_type": "markdown",
   "id": "69e5969e",
   "metadata": {},
   "source": [
    "## Outros temas\n",
    "* Algoritmos de Bernstein-Vazirani, Simon, Shor, QFT, Phase estimation, ...\n",
    "* Estados aleatórios\n",
    "* Máquinas de clonar\n",
    "* Química quântica\n",
    "* Redes neurais artificiais quânticas\n",
    "* Jogos quânticos\n",
    "* POVMs (https://arxiv.org/abs/2106.04160)\n",
    "* Quantum annealing (Traveling salesman, ...)\n",
    "* Optimização (VQA, QAOA, ...)\n",
    "* Correção de erros\n",
    "* Mitigação de erros\n",
    "* Quantum walks\n",
    "* Quantum Monte Carlo\n",
    "* DQC1\n",
    "* Distilação de emaranhamento\n",
    "* Preparação de estados (Bell, GHZ, W, cluster, Bell-diagonal, X, ...)\n",
    "* Estimando a informação de Fisher (https://arxiv.org/abs/2105.13164)\n",
    "* Grover apps (https://arxiv.org/abs/2106.09976)\n",
    "* Quantum Darwinism (https://arxiv.org/abs/2110.06243)\n",
    "* Tomografia de processos (de portas lógicas, em particular)\n",
    "* Quantum volume"
   ]
  },
  {
   "cell_type": "code",
   "execution_count": null,
   "id": "bcc5993b",
   "metadata": {},
   "outputs": [],
   "source": []
  }
 ],
 "metadata": {
  "kernelspec": {
   "display_name": "Python 3 (ipykernel)",
   "language": "python",
   "name": "python3"
  },
  "language_info": {
   "codemirror_mode": {
    "name": "ipython",
    "version": 3
   },
   "file_extension": ".py",
   "mimetype": "text/x-python",
   "name": "python",
   "nbconvert_exporter": "python",
   "pygments_lexer": "ipython3",
   "version": "3.8.11"
  }
 },
 "nbformat": 4,
 "nbformat_minor": 5
}
