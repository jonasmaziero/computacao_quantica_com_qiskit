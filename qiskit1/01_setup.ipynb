{
 "cells": [
  {
   "cell_type": "markdown",
   "id": "27dcb860",
   "metadata": {},
   "source": [
    "### Notas de aula de Computação Quântica <br> Autor: Jonas Maziero"
   ]
  },
  {
   "cell_type": "markdown",
   "id": "8e8d85a1",
   "metadata": {},
   "source": [
    "# Instalação do qiskit\n",
    "\n",
    "Instruções são encontradas em https://qiskit.org/documentation/stable/0.24/install.html\n",
    "\n",
    "1) Instale o Anaconda: https://www.anaconda.com/products/individual\n",
    "\n",
    "2) Instale o qiskit: $\\textit{pip install qiskit}$\n",
    "\n",
    "3) Teste a instalação abrindo o jupyter notebook e usando o comando $\\textit{import qiskit}$ seguido do comando $\\textit{qiskit.__qiskit_version__}$\n",
    "\n",
    "3) Faça sua conta no IBMQ: https://quantum-computing.ibm.com/ <br>\n",
    "Você vai precisar do \"API token\" obtido na sua conta"
   ]
  },
  {
   "cell_type": "code",
   "execution_count": null,
   "id": "93a692c5",
   "metadata": {},
   "outputs": [],
   "source": []
  }
 ],
 "metadata": {
  "kernelspec": {
   "display_name": "Python 3 (ipykernel)",
   "language": "python",
   "name": "python3"
  },
  "language_info": {
   "codemirror_mode": {
    "name": "ipython",
    "version": 3
   },
   "file_extension": ".py",
   "mimetype": "text/x-python",
   "name": "python",
   "nbconvert_exporter": "python",
   "pygments_lexer": "ipython3",
   "version": "3.9.13"
  }
 },
 "nbformat": 4,
 "nbformat_minor": 5
}
