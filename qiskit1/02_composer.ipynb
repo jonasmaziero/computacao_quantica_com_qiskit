{
 "cells": [
  {
   "cell_type": "code",
   "execution_count": 14,
   "id": "4bbf4daf",
   "metadata": {},
   "outputs": [],
   "source": [
    "%run init.ipynb"
   ]
  },
  {
   "cell_type": "markdown",
   "id": "50c1fc0c",
   "metadata": {},
   "source": [
    "### Notas de aula de Computação Quântica <br> Autor: Jonas Maziero"
   ]
  },
  {
   "cell_type": "markdown",
   "id": "b9c34b4b",
   "metadata": {},
   "source": [
    "# Composer\n",
    "\n",
    "<img src='fig_composer.png' width='600'>\n",
    "\n",
    "OBS. Pode-se acompanhar o __status dos jobs__ enviados para execução em: https://quantum-computing.ibm.com/jobs"
   ]
  },
  {
   "cell_type": "markdown",
   "id": "9d40c914",
   "metadata": {},
   "source": [
    "# Estado inicial e medida\n",
    "\n",
    "* Todos os qubits são inicialmente preparados no estado $|0\\rangle$\n",
    "\n",
    "* Medidas são feitas diretamente somente na base padrão $\\{|0\\rangle,|1\\rangle\\}$ \n",
    "\n",
    "## Erro de preparação/medida\n",
    "Em uma 1ª rodada de medidas, preparando-se o estado $|0\\rangle$ 8192 vezes no ibmq_belem, obtivemos 8160 vezes o estado $|0\\rangle$ e 32 vezes o estado $|1\\rangle$, tendo um erro de $\\approx 0.39 \\%$. Numa 2ª rodada de medidas, o erro foi de $0.46\\ \\%$. Na 3ª rodada, o erro foi de $\\approx 0.49\\ \\%$.\n",
    "\n",
    "_OBS._ Nesses erros de preparação, na verdade também estão embutidos erros nas medidas.\n",
    "\n",
    "__Exercício:__ Verificar o erro de preparação nos outros chips."
   ]
  },
  {
   "cell_type": "markdown",
   "id": "76545753",
   "metadata": {},
   "source": [
    "## Superposição e medida em outra base\n",
    "\n",
    "Vamos preparar o estado $$|+\\rangle=H|0\\rangle$$ e medir 1º na base computacional:\n",
    "<img src='fig_H.png' width='300'>\n",
    "Nesse caso, as probabilidades são:\n",
    "\\begin{align}\n",
    "& Pr(0) = \\frac{N_{0}}{N} \\approx \\frac{4312}{8192} = 0.5263671875 \\approx 0.53 ,\\\\\n",
    "& Pr(1) = \\frac{N_{1}}{N} \\equiv 1-Pr(0) \\approx 0.47.\n",
    "\\end{align}\n",
    "_OBS._ Idealmente deveríamos ter $Pr(0)=Pr(1)=0.5$.\n",
    "\n",
    "Para fazer uma medida na base $\\{|\\pm\\rangle\\}$ aplicamos 1º uma Hadamard:\n",
    "<img src='fig_HH.png' width='300'>\n",
    "Nesse caso\n",
    "\\begin{align}\n",
    "& Pr(+) = \\frac{N_{0}}{N} \\approx \\frac{8155}{8192} = 0.9954833984375 \\approx 0.99 ,\\\\\n",
    "& Pr(-) = 1-Pr(+) \\approx 0.01.\n",
    "\\end{align}\n",
    "_OBS._ Idealmente deveríamos ter $Pr(+)=1$ e $Pr(-)=0$.\n",
    "\n",
    "__Exercício:__ Prepare o estado $|+\\rangle$ e meça na base $\\{|\\oplus\\rangle,|\\ominus\\rangle\\}$."
   ]
  },
  {
   "cell_type": "code",
   "execution_count": 2,
   "id": "6979907d",
   "metadata": {},
   "outputs": [
    {
     "data": {
      "image/png": "[encoded data removed]",
      "text/latex": [
       "$\\displaystyle \\left( 0.5263671875, \\  0.9954833984375\\right)$"
      ],
      "text/plain": [
       "(0.5263671875, 0.9954833984375)"
      ]
     },
     "execution_count": 2,
     "metadata": {},
     "output_type": "execute_result"
    }
   ],
   "source": [
    "4312/8192, 8155/8192"
   ]
  },
  {
   "cell_type": "markdown",
   "id": "70a8a282",
   "metadata": {},
   "source": [
    "## Tomografia de estados\n",
    "### 1 qubit\n",
    "O estado de um sistema quântico é descrito de forma geral por um operador densidade, que é uma matriz positiva semi-definida, $\\rho\\ge\\mathbb{O}$, e com traço igual a um, $Tr(\\rho)=1$. __Probabilidades__ são dadas por\n",
    "$$Pr(x|\\rho)=Tr(\\Pi_{x}\\rho),$$\n",
    "com $\\Pi_{x}=|x\\rangle\\langle x|$. Para estados puros $|\\psi\\rangle$ temos que $\\rho=|\\psi\\rangle\\langle\\psi|$ e $Pr(x|\\rho)=|\\langle x|\\psi\\rangle|^{2}$. \n",
    "\n",
    "O __valor médio__ de um observável $X$ é dado por $\\langle X\\rangle=\\sum_{x}xPr(x)=Tr(X\\rho)$.\n",
    "\n",
    "As __matrizes de Pauli__ e a matriz densidade,\n",
    "\\begin{align}\n",
    "X\\equiv\\sigma_{1}=\\begin{bmatrix}0&1\\\\1&0\\end{bmatrix}, Y\\equiv\\sigma_{2}=\\begin{bmatrix}0&-i\\\\i&0\\end{bmatrix}, Z\\equiv\\sigma_{3}=\\begin{bmatrix}1&0\\\\0&-1\\end{bmatrix}, I\\equiv\\sigma_{0}=\\begin{bmatrix}1&0\\\\0&1\\end{bmatrix},\n",
    "\\end{align}\n",
    "formam uma base ortonormal para o espaço vetorial composto por matrizes complexas $2\\text{x}2$:\n",
    "$$\\rho= aX+bY+cZ+dI,$$\n",
    "com\n",
    "$$a=\\langle X\\rangle/2=Tr(\\rho X)/2, b=\\langle Y\\rangle/2=Tr(\\rho Y)/2, c=\\langle Z\\rangle/2=Tr(\\rho Z)/2, d=Tr(\\rho)/2 =1/2.$$\n",
    "Por conseguinte\n",
    "$$\\rho= \\frac{1}{2}\\left(I+\\langle X\\rangle X+ \\langle Y\\rangle Y+ \\langle Z\\rangle Z\\right).$$\n",
    "Então, se conhecemos os valores médios desses observáveis, conhecemos o __estado quântico__ correspondente do sistema."
   ]
  },
  {
   "cell_type": "code",
   "execution_count": 3,
   "id": "61b1c829",
   "metadata": {},
   "outputs": [
    {
     "data": {
      "image/png": "[encoded data removed]",
      "text/latex": [
       "$\\displaystyle \\left( a, \\  b, \\  c, \\  d\\right)$"
      ],
      "text/plain": [
       "(a, b, c, d)"
      ]
     },
     "execution_count": 3,
     "metadata": {},
     "output_type": "execute_result"
    }
   ],
   "source": [
    "a,b,c,d = symbols('a b c d')\n",
    "a, b, c, d"
   ]
  },
  {
   "cell_type": "code",
   "execution_count": 4,
   "id": "247be4e4",
   "metadata": {},
   "outputs": [
    {
     "data": {
      "image/png": "[encoded data removed]",
      "text/latex": [
       "$\\displaystyle \\left( \\left[\\begin{matrix}0 & 1\\\\1 & 0\\end{matrix}\\right], \\  \\left[\\begin{matrix}0 & - 1.0 i\\\\1.0 i & 0\\end{matrix}\\right], \\  \\left[\\begin{matrix}1 & 0\\\\0 & -1\\end{matrix}\\right], \\  \\left[\\begin{matrix}1 & 0\\\\0 & 1\\end{matrix}\\right]\\right)$"
      ],
      "text/plain": [
       "⎛⎡0  1⎤  ⎡  0    -1.0⋅ⅈ⎤  ⎡1  0 ⎤  ⎡1  0⎤⎞\n",
       "⎜⎢    ⎥, ⎢             ⎥, ⎢     ⎥, ⎢    ⎥⎟\n",
       "⎝⎣1  0⎦  ⎣1.0⋅ⅈ    0   ⎦  ⎣0  -1⎦  ⎣0  1⎦⎠"
      ]
     },
     "execution_count": 4,
     "metadata": {},
     "output_type": "execute_result"
    }
   ],
   "source": [
    "X = Matrix([[0,1],[1,0]]); Y = Matrix([[0,-1j],[1j,0]]); Z = Matrix([[1,0],[0,-1]]); I = Matrix([[1,0],[0,1]])\n",
    "X, Y, Z, I"
   ]
  },
  {
   "cell_type": "code",
   "execution_count": 5,
   "id": "4ddbd68f",
   "metadata": {},
   "outputs": [
    {
     "data": {
      "image/png": "[encoded data removed]",
      "text/latex": [
       "$\\displaystyle \\left[\\begin{matrix}c + d & a - 1.0 i b\\\\a + 1.0 i b & - c + d\\end{matrix}\\right]$"
      ],
      "text/plain": [
       "⎡   c + d     a - ⅈ⋅b⎤\n",
       "⎢                    ⎥\n",
       "⎣a + 1.0⋅ⅈ⋅b  -c + d ⎦"
      ]
     },
     "execution_count": 5,
     "metadata": {},
     "output_type": "execute_result"
    }
   ],
   "source": [
    "rho = a*X+b*Y+c*Z+d*I; rho"
   ]
  },
  {
   "cell_type": "code",
   "execution_count": 6,
   "id": "5748cab9",
   "metadata": {},
   "outputs": [
    {
     "data": {
      "image/png": "[encoded data removed]",
      "text/latex": [
       "$\\displaystyle \\left( 2 a, \\  2.0 b, \\  2 c, \\  2 d\\right)$"
      ],
      "text/plain": [
       "(2⋅a, 2.0⋅b, 2⋅c, 2⋅d)"
      ]
     },
     "execution_count": 6,
     "metadata": {},
     "output_type": "execute_result"
    }
   ],
   "source": [
    "tr(X*rho), simplify(tr(Y*rho)), tr(Z*rho), tr(I*rho),"
   ]
  },
  {
   "cell_type": "markdown",
   "id": "beff7bca",
   "metadata": {},
   "source": [
    "Pode-se verificar que as decomposições espectrais (autovalores e autovetores) desses observáveis são\n",
    "\\begin{align}\n",
    "& X = |+\\rangle\\langle +|-|-\\rangle\\langle -|, \\\\\n",
    "& Y = |\\oplus\\rangle\\langle\\oplus|-|\\ominus\\rangle\\langle\\ominus|, \\\\\n",
    "& Z = |0\\rangle\\langle 0|-|1\\rangle\\langle 1|.\n",
    "\\end{align}\n",
    "Os valores médios correspondente são então\n",
    "\\begin{align}\n",
    "& \\langle X\\rangle = Pr(+)-Pr(-)=2Pr(+)-1, \\\\\n",
    "& \\langle Y\\rangle = Pr(\\oplus)-Pr(\\ominus)=2Pr(\\oplus)-1, \\\\\n",
    "& \\langle Z\\rangle = Pr(0)-Pr(1)=2Pr(0)-1.\n",
    "\\end{align}"
   ]
  },
  {
   "cell_type": "markdown",
   "id": "41a7e269",
   "metadata": {},
   "source": [
    "#### Exemplo: estado $|0\\rangle$\n",
    "Dos experimentos obtemos \n",
    "\\begin{align}\n",
    "& Pr(+) \\approx 4260/8192 \\approx 0.52, \\\\\n",
    "& Pr(\\oplus) \\approx 4470/8192 \\approx 0.55, \\\\\n",
    "& Pr(0) \\approx 8158/8192 \\approx 0.99.\n",
    "\\end{align}\n",
    "Com isso, teremos que\n",
    "\\begin{align}\n",
    "\\langle X\\rangle \\approx 0.04, \\langle Y\\rangle \\approx 0.09, \\langle Z\\rangle \\approx 0.99.\n",
    "\\end{align}\n",
    "Com isso, temos que o estado tomografado é\n",
    "$$\\rho_{e} = \\begin{bmatrix}0.996 & 0.02-0.46 i \\\\ 0.02+0.46 i & 0.004 \\end{bmatrix},$$\n",
    "sendo que o teórico é\n",
    "$$\\rho_{t} = \\begin{bmatrix}1 & 0 \\\\ 0 & 0 \\end{bmatrix}.$$"
   ]
  },
  {
   "cell_type": "code",
   "execution_count": 7,
   "id": "5ae074a2",
   "metadata": {},
   "outputs": [
    {
     "data": {
      "image/png": "[encoded data removed]",
      "text/latex": [
       "$\\displaystyle \\left( 0.52001953125, \\  0.545654296875, \\  0.995849609375\\right)$"
      ],
      "text/plain": [
       "(0.52001953125, 0.545654296875, 0.995849609375)"
      ]
     },
     "execution_count": 7,
     "metadata": {},
     "output_type": "execute_result"
    }
   ],
   "source": [
    "pp=4260/8192; pop=4470/8192; p0=8158/8192; pp, pop, p0"
   ]
  },
  {
   "cell_type": "code",
   "execution_count": 8,
   "id": "5a41ac89",
   "metadata": {},
   "outputs": [
    {
     "data": {
      "image/png": "[encoded data removed]",
      "text/latex": [
       "$\\displaystyle \\left( 0.0400390625, \\  0.09130859375, \\  0.99169921875\\right)$"
      ],
      "text/plain": [
       "(0.0400390625, 0.09130859375, 0.99169921875)"
      ]
     },
     "execution_count": 8,
     "metadata": {},
     "output_type": "execute_result"
    }
   ],
   "source": [
    "Xav = 2*pp-1; Yav = 2*pop-1; Zav = 2*p0-1; Xav, Yav, Zav"
   ]
  },
  {
   "cell_type": "code",
   "execution_count": 9,
   "id": "7e0de611",
   "metadata": {},
   "outputs": [
    {
     "data": {
      "image/png": "[encoded data removed]",
      "text/latex": [
       "$\\displaystyle \\left( \\left[\\begin{matrix}0.995849609375 & 0.02001953125 - 0.045654296875 i\\\\0.02001953125 + 0.045654296875 i & 0.004150390625\\end{matrix}\\right], \\  \\left[ \\left( 0.998349206452624 + 5.88496475529165 \\cdot 10^{-69} i, \\  1, \\  \\left[ \\left[\\begin{matrix}0.998745274305649 + 2.12276433379052 \\cdot 10^{-68} i\\\\0.0201110803105386 + 0.0458630733911064 i\\end{matrix}\\right]\\right]\\right), \\  \\left( 0.00165079354737561 + 5.88496475529165 \\cdot 10^{-69} i, \\  1, \\  \\left[ \\left[\\begin{matrix}-0.0201110803105386 + 0.0458630733911064 i\\\\0.998745274305649 - 1.2043623467038 \\cdot 10^{-131} i\\end{matrix}\\right]\\right]\\right)\\right]\\right)$"
      ],
      "text/plain": [
       "⎛⎡         0.995849609375           0.02001953125 - 0.045654296875⋅ⅈ⎤  ⎡⎛     \n",
       "⎜⎢                                                                  ⎥, ⎢⎜0.998\n",
       "⎝⎣0.02001953125 + 0.045654296875⋅ⅈ           0.004150390625         ⎦  ⎣⎝     \n",
       "\n",
       "                                          ⎡⎡0.998745274305649 + 2.122764333790\n",
       "349206452624 + 5.88496475529165e-69⋅ⅈ, 1, ⎢⎢                                  \n",
       "                                          ⎣⎣0.0201110803105386 + 0.04586307339\n",
       "\n",
       "52e-68⋅ⅈ⎤⎤⎞  ⎛                                                 ⎡⎡-0.0201110803\n",
       "        ⎥⎥⎟, ⎜0.00165079354737561 + 5.88496475529165e-69⋅ⅈ, 1, ⎢⎢             \n",
       "11064⋅ⅈ ⎦⎦⎠  ⎝                                                 ⎣⎣0.99874527430\n",
       "\n",
       "105386 + 0.0458630733911064⋅ⅈ⎤⎤⎞⎤⎞\n",
       "                             ⎥⎥⎟⎥⎟\n",
       "5649 - 1.2043623467038e-131⋅ⅈ⎦⎦⎠⎦⎠"
      ]
     },
     "execution_count": 9,
     "metadata": {},
     "output_type": "execute_result"
    }
   ],
   "source": [
    "def rho_1qb_tomo(Xav,Yav,Zav):\n",
    "    return (1/2)*(Xav*X+Yav*Y+Zav*Z+I)\n",
    "rho = rho_1qb_tomo(Xav,Yav,Zav); rho, rho.eigenvects()"
   ]
  },
  {
   "cell_type": "markdown",
   "id": "34457c1b",
   "metadata": {},
   "source": [
    "__Estados não físicos:__ Por causa do número finito de medidas feitas para estimar as probabilidades e os valores médios, e dos erros experimentais e/ou aleatórios que ocorrem nas diferentes preparações, essa maneira simplória de estimar o estado quântico do sistema pode levar a matrizes densidade não válidas (com autovalores negativos ou mesmo imaginários)."
   ]
  },
  {
   "cell_type": "markdown",
   "id": "6f40d626",
   "metadata": {},
   "source": [
    "## 2 qubits\n",
    "Podemos formar uma base para matrizes complexas $4\\text{x}4$ tomando o produto tensorial das matrizes de Pauli. Assim a matriz densidade de um sistema com 2 qubits pode ser escrita como\n",
    "\\begin{align}\n",
    "\\rho &= \\frac{1}{4}\\Big(I\\otimes I + \\langle X^{a}\\rangle X\\otimes I  + \\langle Y^{a}\\rangle Y\\otimes I  + \\langle Z^{a}\\rangle Z\\otimes I + \\langle X^{b}\\rangle I\\otimes X + \\langle Y^{b}\\rangle I\\otimes Y  + \\langle Z^{b}\\rangle I\\otimes Z \\\\\n",
    "& \\hspace{1.2cm} + \\langle X\\otimes X\\rangle X\\otimes X + \\langle X\\otimes Y\\rangle X\\otimes Y   + \\langle X\\otimes Z\\rangle X\\otimes Z \\\\\n",
    "& \\hspace{1.2cm} + \\langle Y\\otimes X\\rangle Y\\otimes X + \\langle Y\\otimes Y\\rangle Y\\otimes Y   + \\langle Y\\otimes Z\\rangle Y\\otimes Z \\\\ \n",
    "& \\hspace{1.2cm} + \\langle Z\\otimes X\\rangle Z\\otimes X + \\langle Z\\otimes Y\\rangle Z\\otimes Y   + \\langle Z\\otimes Z\\rangle Z\\otimes Z \\Big).\n",
    "\\end{align}"
   ]
  },
  {
   "cell_type": "code",
   "execution_count": 10,
   "id": "7d3f0406",
   "metadata": {},
   "outputs": [
    {
     "data": {
      "image/png": "[encoded data removed]",
      "text/latex": [
       "$\\displaystyle \\left( c_{00}, \\  a_{1}, \\  a_{2}, \\  a_{3}, \\  b_{1}, \\  b_{2}, \\  b_{3}, \\  c_{11}, \\  c_{12}, \\  c_{13}, \\  c_{21}, \\  c_{22}, \\  c_{23}, \\  c_{31}, \\  c_{32}, \\  c_{33}\\right)$"
      ],
      "text/plain": [
       "(c_{00}, a₁, a₂, a₃, b₁, b₂, b₃, c_{11}, c_{12}, c_{13}, c_{21}, c_{22}, c_{23\n",
       "}, c_{31}, c_{32}, c_{33})"
      ]
     },
     "execution_count": 10,
     "metadata": {},
     "output_type": "execute_result"
    }
   ],
   "source": [
    "c00, a1, a2, a3, b1, b2, b3 = symbols('c_{00} a_1 a_2 a_3 b_1 b_2 b_3')\n",
    "c11, c12, c13, c21,c22,c23,c31,c32,c33 = symbols('c_{11} c_{12} c_{13} c_{21} c_{22} c_{23} c_{31} c_{32} c_{33}')\n",
    "c00, a1, a2, a3, b1, b2, b3, c11, c12, c13, c21,c22,c23,c31,c32,c33"
   ]
  },
  {
   "cell_type": "code",
   "execution_count": 11,
   "id": "be05d6a9",
   "metadata": {},
   "outputs": [
    {
     "data": {
      "image/png": "[encoded data removed]",
      "text/latex": [
       "$\\displaystyle \\left[\\begin{matrix}a_{3} + b_{3} + c_{00} + c_{33} & b_{1} - 1.0 i b_{2} + c_{31} - 1.0 i c_{32} & a_{1} - 1.0 i a_{2} + c_{13} - 1.0 i c_{23} & c_{11} - 1.0 i c_{12} - 1.0 i c_{21} - 1.0 c_{22}\\\\b_{1} + 1.0 i b_{2} + c_{31} + 1.0 i c_{32} & a_{3} - b_{3} + c_{00} - c_{33} & c_{11} + 1.0 i c_{12} - 1.0 i c_{21} + 1.0 c_{22} & a_{1} - 1.0 i a_{2} - c_{13} + 1.0 i c_{23}\\\\a_{1} + 1.0 i a_{2} + c_{13} + 1.0 i c_{23} & c_{11} - 1.0 i c_{12} + 1.0 i c_{21} + 1.0 c_{22} & - a_{3} + b_{3} + c_{00} - c_{33} & b_{1} - 1.0 i b_{2} - c_{31} + 1.0 i c_{32}\\\\c_{11} + 1.0 i c_{12} + 1.0 i c_{21} - 1.0 c_{22} & a_{1} + 1.0 i a_{2} - c_{13} - 1.0 i c_{23} & b_{1} + 1.0 i b_{2} - c_{31} - 1.0 i c_{32} & - a_{3} - b_{3} + c_{00} + c_{33}\\end{matrix}\\right]$"
      ],
      "text/plain": [
       "⎡          a₃ + b₃ + c_{00} + c_{33}                    b₁ - ⅈ⋅b₂ + c_{31} - ⅈ\n",
       "⎢                                                                             \n",
       "⎢    b₁ + 1.0⋅ⅈ⋅b₂ + c_{31} + 1.0⋅ⅈ⋅c_{32}                a₃ - b₃ + c_{00} - c\n",
       "⎢                                                                             \n",
       "⎢    a₁ + 1.0⋅ⅈ⋅a₂ + c_{13} + 1.0⋅ⅈ⋅c_{23}      c_{11} - ⅈ⋅c_{12} + 1.0⋅ⅈ⋅c_{2\n",
       "⎢                                                                             \n",
       "⎣c_{11} + 1.0⋅ⅈ⋅c_{12} + 1.0⋅ⅈ⋅c_{21} - c_{22}        a₁ + 1.0⋅ⅈ⋅a₂ - c_{13} -\n",
       "\n",
       "⋅c_{32}                  a₁ - ⅈ⋅a₂ + c_{13} - ⅈ⋅c_{23}          c_{11} - ⅈ⋅c_{\n",
       "                                                                              \n",
       "_{33}            c_{11} + 1.0⋅ⅈ⋅c_{12} - ⅈ⋅c_{21} + 1.0⋅c_{22}    a₁ - ⅈ⋅a₂ - \n",
       "                                                                              \n",
       "1} + 1.0⋅c_{22}           -a₃ + b₃ + c_{00} - c_{33}              b₁ - ⅈ⋅b₂ - \n",
       "                                                                              \n",
       " ⅈ⋅c_{23}              b₁ + 1.0⋅ⅈ⋅b₂ - c_{31} - ⅈ⋅c_{32}             -a₃ - b₃ \n",
       "\n",
       "12} - ⅈ⋅c_{21} - c_{22}⎤\n",
       "                       ⎥\n",
       "c_{13} + 1.0⋅ⅈ⋅c_{23}  ⎥\n",
       "                       ⎥\n",
       "c_{31} + 1.0⋅ⅈ⋅c_{32}  ⎥\n",
       "                       ⎥\n",
       "+ c_{00} + c_{33}      ⎦"
      ]
     },
     "execution_count": 11,
     "metadata": {},
     "output_type": "execute_result"
    }
   ],
   "source": [
    "\n",
    "rho = c00*tp(I,I) + a1*tp(X,I) + a2*tp(Y,I) + a3*tp(Z,I) + b1*tp(I,X) + b2*tp(I,Y) + b3*tp(I,Z) \n",
    "rho += c11*tp(X,X) + c12*tp(X,Y) + c13*tp(X,Z) + c21*tp(Y,X) + c22*tp(Y,Y) + c23*tp(Y,Z)\n",
    "rho += c31*tp(Z,X) + c32*tp(Z,Y) + c33*tp(Z,Z)\n",
    "rho"
   ]
  },
  {
   "cell_type": "code",
   "execution_count": 12,
   "id": "16c1c5b9",
   "metadata": {},
   "outputs": [
    {
     "data": {
      "image/png": "[encoded data removed]",
      "text/latex": [
       "$\\displaystyle \\left( 4 c_{00}, \\  4 a_{1}, \\  4.0 a_{2}, \\  4 a_{3}, \\  4 b_{1}, \\  4.0 b_{2}, \\  4 b_{3}, \\  4 c_{11}, \\  4.0 c_{12}, \\  4 c_{13}, \\  4.0 c_{21}, \\  4.0 c_{22}, \\  4.0 c_{23}, \\  4 c_{31}, \\  4.0 c_{32}, \\  4 c_{33}\\right)$"
      ],
      "text/plain": [
       "(4⋅c_{00}, 4⋅a₁, 4.0⋅a₂, 4⋅a₃, 4⋅b₁, 4.0⋅b₂, 4⋅b₃, 4⋅c_{11}, 4.0⋅c_{12}, 4⋅c_{\n",
       "13}, 4.0⋅c_{21}, 4.0⋅c_{22}, 4.0⋅c_{23}, 4⋅c_{31}, 4.0⋅c_{32}, 4⋅c_{33})"
      ]
     },
     "execution_count": 12,
     "metadata": {},
     "output_type": "execute_result"
    }
   ],
   "source": [
    "tr(rho), tr(rho*tp(X,I)), simplify(tr(rho*tp(Y,I))), simplify(tr(rho*tp(Z,I))), \\\n",
    "simplify(tr(rho*tp(I,X))), simplify(tr(rho*tp(I,Y))), simplify(tr(rho*tp(I,Z))), \\\n",
    "tr(rho*tp(X,X)), simplify(tr(rho*tp(X,Y))), simplify(tr(rho*tp(X,Z))), \\\n",
    "simplify(tr(rho*tp(Y,X))), simplify(tr(rho*tp(Y,Y))), simplify(tr(rho*tp(Y,Z))), \\\n",
    "tr(rho*tp(Z,X)), simplify(tr(rho*tp(Z,Y))), simplify(tr(rho*tp(Z,Z)))"
   ]
  },
  {
   "cell_type": "markdown",
   "id": "b3afa01f",
   "metadata": {},
   "source": [
    "### \"Funções correlação\"\n",
    "Para calcular valores médios do tipo $\\langle A\\otimes B\\rangle$ usamos as decomposições espectrais \n",
    "$$A\\otimes B = \\sum_{j}a_{j}|a_{j}\\rangle\\langle a_{j}|\\otimes\\sum_{k}b_{k}|b_{k}\\rangle\\langle b_{k}| = \\sum_{j,k}a_{j}b_{k}|a_{j}b_{k}\\rangle\\langle a_{j}b_{k}|.$$\n",
    "Assim\n",
    "$$\\langle A\\otimes B\\rangle = \\sum_{j,k}a_{j}b_{k}Pr(a_{j},b_{k}).$$\n",
    "Alguns exemplos particulares são\n",
    "\\begin{align}\n",
    "\\langle X\\otimes X\\rangle &= (+1)(+1)Pr(+,+) + (+1)(-1)Pr(+,-) + (-1)(+1)Pr(-,+) + (-1)(-1)Pr(-,-) \\\\\n",
    "& = Pr(+,+) -Pr(+,-) -Pr(-,+) + Pr(-,-), \\\\\n",
    "\\langle X\\otimes Y\\rangle &= (+1)(+1)Pr(+,\\oplus) + (+1)(-1)Pr(+,\\ominus) + (-1)(+1)Pr(-,\\oplus) + (-1)(-1)Pr(-,\\ominus) \\\\\n",
    "& = Pr(+,\\oplus) -Pr(+,\\ominus) -Pr(-,\\oplus) + Pr(-,\\ominus), \\\\\n",
    "\\langle X\\otimes Z\\rangle &= (+1)(+1)Pr(+,0) + (+1)(-1)Pr(+,1) + (-1)(+1)Pr(-,0) + (-1)(-1)Pr(-,1) \\\\\n",
    "& = Pr(+,0) -Pr(+,1) -Pr(-,0) + Pr(-,1), \\\\\n",
    "& \\vdots.\n",
    "\\end{align}\n",
    "\n",
    "__Exercício:__ Escreva as outras 6 \"funções correlação\" em termos das probabilidades conjuntas."
   ]
  },
  {
   "cell_type": "markdown",
   "id": "cd7a504d",
   "metadata": {},
   "source": [
    "### Probabilidades marginais\n",
    "Uma vez estimadas, por exemplo, as distribuições de probabilidade conjuntas\n",
    "\\begin{align}\n",
    "& \\{Pr(+,+),Pr(+,-),Pr(-,+),Pr(-,-)\\}, \\\\\n",
    "& \\{Pr(\\oplus,\\oplus),Pr(\\oplus,\\ominus),Pr(\\ominus,\\oplus),Pr(\\ominus,\\ominus)\\}, \\\\\n",
    "& \\{Pr(0,0),Pr(0,1),Pr(1,0),Pr(1,1)\\}, \\\\\n",
    "\\end{align}\n",
    "obtemos as distribuições de probabilidades marginais da seguinte forma\n",
    "\\begin{align}\n",
    "& \\{Pr_{a}(+),Pr_{a}(-)\\} =  \\{Pr(+,+)+Pr(+,-),Pr(-,+)+Pr(-,-)\\}, \\\\\n",
    "& \\{Pr_{b}(+),Pr_{b}(-)\\} =  \\{Pr(+,+)+Pr(-,+),Pr(+,-)+Pr(-,-)\\}, \\\\\n",
    "& \\vdots.\n",
    "\\end{align}\n",
    "__Exercício:__ Escreva as distribuições de probabilidade marginais $\\{Pr_{a}(\\oplus),Pr_{a}(\\ominus)\\}$, $\\{Pr_{b}(\\oplus),Pr_{b}(\\ominus)\\}$, $\\{Pr_{a}(0),Pr_{a}(1)\\}$ e $\\{Pr_{b}(0),Pr_{b}(1)\\}$ em termos das probabilidades conjuntas.\n",
    "\n",
    "__Exercício:__ Forneça outro exemplo de distribuição de probabilidades conjunta que poderíamos usar para obter a distribuição de probabilidades marginal $\\{Pr_{a}(+),Pr_{a}(-)\\}$."
   ]
  },
  {
   "cell_type": "markdown",
   "id": "8852adcd",
   "metadata": {},
   "source": [
    "Os valores médios locais podem ser calculados como nos seguintes exemplos:\n",
    "\\begin{align}\n",
    "& \\langle X^{a}\\rangle = Pr_{a}(+)-Pr_{a}(-), \\\\\n",
    "& \\langle Y^{a}\\rangle = Pr_{a}(\\oplus)-Pr_{a}(\\ominus), \\\\\n",
    "& \\langle Z^{a}\\rangle = Pr_{a}(0)-Pr_{a}(1).\n",
    "\\end{align}\n",
    "__Exercício:__ Escreva os valores médios $\\langle X^{b}\\rangle,\\langle Y^{b}\\rangle,\\langle Z^{b}\\rangle$ em termos das probabilidades marginais correspondentes."
   ]
  },
  {
   "cell_type": "markdown",
   "id": "82758108",
   "metadata": {},
   "source": [
    "### Complexidade da tomografia de estados quânticos\n",
    "\n",
    "Para $n$ qubits, como para cada um deles temos quatro matrizes de Pauli, teremos que medir\n",
    "$$N=4^{n}-1=2^{2n}-1 \\text{ valores médios}.$$\n",
    "Para $n=1$ temos $N=3$. Para $n=2$ temos $N=15$. Embora não precisamos de fato medir todos esses $N$ valores médios, pois podemos obter as distribuições de probabilidades marginais a partir das distribuições de probabilidades conjuntas, $N$ cresce realmente muito rápido com $n$. Isso impossibilita fazer tomografia de estados quânticos na prática quando $n$ é grande. E Nem precisa ser muito grande:"
   ]
  },
  {
   "cell_type": "code",
   "execution_count": 30,
   "id": "7ff6bf4d",
   "metadata": {},
   "outputs": [
    {
     "data": {
      "text/plain": [
       "20354201441027016733116592294117482916287606860189680019559568902170379456331382783"
      ]
     },
     "execution_count": 30,
     "metadata": {},
     "output_type": "execute_result"
    }
   ],
   "source": [
    "n = 137; N = 4**n-1; N-10**82"
   ]
  },
  {
   "cell_type": "markdown",
   "id": "5feb18d4",
   "metadata": {},
   "source": [
    "Por isso, muitos artigos foram e ainda são feitos para estimar a qualidade de preparação de estados com menos medidas, com medidas aleatórias, etc."
   ]
  },
  {
   "cell_type": "markdown",
   "id": "5f29f707",
   "metadata": {},
   "source": [
    "OBS. Quando forem fazer tomografia de estados quânticos de circuitos grandes, pensem 2 vezes para não passar do limite de madidas que cada usuário tem no IBMQ."
   ]
  },
  {
   "cell_type": "markdown",
   "id": "c5b32e92",
   "metadata": {},
   "source": [
    "### Estado emaranhado\n",
    "Podemos criar um estado emaranhado $$|\\Phi_{+}\\rangle=(|00\\rangle+|11\\rangle)/\\sqrt{2}$$ usando\n",
    "\\begin{align}\n",
    "& CNOT_{12}(H\\otimes I)|00\\rangle = CNOT_{12}(H|0\\rangle\\otimes I|0\\rangle) = CNOT_{12}|+\\rangle|0\\rangle \\\\ \n",
    "& = CNOT_{12}\\frac{1}{\\sqrt{2}}(|0\\rangle+|1\\rangle)\\otimes|0\\rangle = CNOT_{12}(|00\\rangle+|10\\rangle)/\\sqrt{2} = |\\Phi_{+}\\rangle.\n",
    "\\end{align}\n",
    "Circuito quântico:\n",
    "<img src='fig_phip.png' width='400'>\n",
    "\n",
    "Mais adiante usaremos uma maneira melhor e pronta para fazer tomografia de estados quânticos. Nesse caso, só observo que para medidas de $Z\\otimes Z$ obtemos as probabilidades\n",
    "$$Pr(0,0)\\approx 0.477, Pr(0,1)\\approx 0.031, Pr(1,0)\\approx 0.031, Pr(1,1)\\approx 0.461,$$\n",
    "que é um indicativo de que preparamos algo similar ao estado que queríamos preparar.\n",
    "\n",
    "__Exercício:__ Prepare o estado $$|\\Psi_{+}\\rangle=\\frac{1}{\\sqrt{2}}(|01\\rangle+|10\\rangle)$$ e obtenha a distribuição de probabilidades para medidas de $Z\\otimes Z$. "
   ]
  },
  {
   "cell_type": "code",
   "execution_count": 15,
   "id": "58f5cf46",
   "metadata": {},
   "outputs": [
    {
     "data": {
      "image/png": "[encoded data removed]",
      "text/latex": [
       "$\\displaystyle \\left( 0.476806640625, \\  0.0313720703125, \\  0.0308837890625, \\  0.4609375\\right)$"
      ],
      "text/plain": [
       "(0.476806640625, 0.0313720703125, 0.0308837890625, 0.4609375)"
      ]
     },
     "execution_count": 15,
     "metadata": {},
     "output_type": "execute_result"
    }
   ],
   "source": [
    "p00 = 3906/8192; p01 = 257/8192; p10 = 253/8192; p11 = 3776/8192; p00,p01,p10,p11"
   ]
  },
  {
   "cell_type": "code",
   "execution_count": null,
   "id": "78c2e33b",
   "metadata": {},
   "outputs": [],
   "source": []
  }
 ],
 "metadata": {
  "kernelspec": {
   "display_name": "Python 3 (ipykernel)",
   "language": "python",
   "name": "python3"
  },
  "language_info": {
   "codemirror_mode": {
    "name": "ipython",
    "version": 3
   },
   "file_extension": ".py",
   "mimetype": "text/x-python",
   "name": "python",
   "nbconvert_exporter": "python",
   "pygments_lexer": "ipython3",
   "version": "3.9.13"
  }
 },
 "nbformat": 4,
 "nbformat_minor": 5
}
