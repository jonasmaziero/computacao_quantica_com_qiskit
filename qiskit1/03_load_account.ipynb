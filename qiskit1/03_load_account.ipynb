{
 "cells": [
  {
   "cell_type": "markdown",
   "id": "cafbe343",
   "metadata": {},
   "source": [
    "### Notas de aula de Computação Quântica <br> Autor: Jonas Maziero"
   ]
  },
  {
   "cell_type": "code",
   "execution_count": 1,
   "id": "03e1d09a",
   "metadata": {},
   "outputs": [],
   "source": [
    "# importa o qiskit, cujas funcoes podemos entao usar\n",
    "import qiskit"
   ]
  },
  {
   "cell_type": "code",
   "execution_count": 2,
   "id": "3e29f09a",
   "metadata": {},
   "outputs": [
    {
     "data": {
      "text/plain": [
       "{'qiskit-terra': '0.20.2', 'qiskit-aer': '0.10.4', 'qiskit-ignis': '0.7.1', 'qiskit-ibmq-provider': '0.19.1', 'qiskit-aqua': None, 'qiskit': '0.36.2', 'qiskit-nature': None, 'qiskit-finance': None, 'qiskit-optimization': None, 'qiskit-machine-learning': None}"
      ]
     },
     "execution_count": 2,
     "metadata": {},
     "output_type": "execute_result"
    }
   ],
   "source": [
    "# para ver que versoes das ferramentas do qiskit temos instaladas\n",
    "qiskit.__qiskit_version__"
   ]
  },
  {
   "cell_type": "code",
   "execution_count": 3,
   "id": "1f6f7da4",
   "metadata": {},
   "outputs": [],
   "source": [
    "# determina o API token a ser usado\n",
    "qiskit.IBMQ.save_account('76cefda2ab77d95541b7cf7a52dc060ae5552c2c67297b954cb056ea1dbf4cc2de3428fc8156cfa85ce0816608b323bf8b9134d8567bcebd3d84d2c4d9473bb9', \n",
    "                  overwrite = True)"
   ]
  },
  {
   "cell_type": "code",
   "execution_count": 4,
   "id": "45df71a4",
   "metadata": {},
   "outputs": [
    {
     "data": {
      "text/plain": [
       "<AccountProvider for IBMQ(hub='ibm-q', group='open', project='main')>"
      ]
     },
     "execution_count": 4,
     "metadata": {},
     "output_type": "execute_result"
    }
   ],
   "source": [
    "# conecta meu computador com minha conta IBMQ na nuvem\n",
    "qiskit.IBMQ.load_account()"
   ]
  },
  {
   "cell_type": "code",
   "execution_count": 5,
   "id": "f81f2805",
   "metadata": {},
   "outputs": [],
   "source": [
    "# determina qual das minhas \"contas\" vou usar. \n",
    "provider = qiskit.IBMQ.get_provider(hub='ibm-q', group='open', project='main')"
   ]
  },
  {
   "cell_type": "code",
   "execution_count": 6,
   "id": "cedf8fdd",
   "metadata": {},
   "outputs": [
    {
     "data": {
      "text/plain": [
       "[<IBMQSimulator('ibmq_qasm_simulator') from IBMQ(hub='ibm-q', group='open', project='main')>,\n",
       " <IBMQBackend('ibmq_lima') from IBMQ(hub='ibm-q', group='open', project='main')>,\n",
       " <IBMQBackend('ibmq_belem') from IBMQ(hub='ibm-q', group='open', project='main')>,\n",
       " <IBMQBackend('ibmq_quito') from IBMQ(hub='ibm-q', group='open', project='main')>,\n",
       " <IBMQSimulator('simulator_statevector') from IBMQ(hub='ibm-q', group='open', project='main')>,\n",
       " <IBMQSimulator('simulator_mps') from IBMQ(hub='ibm-q', group='open', project='main')>,\n",
       " <IBMQSimulator('simulator_extended_stabilizer') from IBMQ(hub='ibm-q', group='open', project='main')>,\n",
       " <IBMQSimulator('simulator_stabilizer') from IBMQ(hub='ibm-q', group='open', project='main')>,\n",
       " <IBMQBackend('ibmq_jakarta') from IBMQ(hub='ibm-q', group='open', project='main')>,\n",
       " <IBMQBackend('ibmq_manila') from IBMQ(hub='ibm-q', group='open', project='main')>,\n",
       " <IBMQBackend('ibm_lagos') from IBMQ(hub='ibm-q', group='open', project='main')>,\n",
       " <IBMQBackend('ibm_nairobi') from IBMQ(hub='ibm-q', group='open', project='main')>,\n",
       " <IBMQBackend('ibm_perth') from IBMQ(hub='ibm-q', group='open', project='main')>,\n",
       " <IBMQBackend('ibm_oslo') from IBMQ(hub='ibm-q', group='open', project='main')>]"
      ]
     },
     "execution_count": 6,
     "metadata": {},
     "output_type": "execute_result"
    }
   ],
   "source": [
    "# mostra quais beckends posso utilizar\n",
    "provider.backends()"
   ]
  },
  {
   "cell_type": "code",
   "execution_count": 7,
   "id": "e5bc7c66",
   "metadata": {},
   "outputs": [],
   "source": [
    "provider = qiskit.IBMQ.get_provider(hub = 'ibm-q-research-2', group = 'federal-uni-sant-1', project = 'main')"
   ]
  },
  {
   "cell_type": "code",
   "execution_count": 13,
   "id": "ba24054f",
   "metadata": {},
   "outputs": [],
   "source": [
    "# para ter um panorama do tipo e status dos backends disponiveis\n",
    "#from qiskit.tools.monitor import backend_overview, backend_monitor\n",
    "#backend_overview()"
   ]
  },
  {
   "cell_type": "code",
   "execution_count": 14,
   "id": "736c89e2",
   "metadata": {},
   "outputs": [],
   "source": [
    "# utilizado para obter informacoes sobre um determinado backend\n",
    "#simulator = provider.get_backend('ibmq_qasm_simulator')\n",
    "#device = provider.get_backend('ibmq_oslo')"
   ]
  },
  {
   "cell_type": "code",
   "execution_count": null,
   "id": "41cef668",
   "metadata": {},
   "outputs": [],
   "source": [
    "# informacao detalhada sobre um determinado backend\n",
    "#chip_info = backend_monitor(device); print(chip_info)"
   ]
  },
  {
   "cell_type": "code",
   "execution_count": null,
   "id": "ed7f6598",
   "metadata": {},
   "outputs": [],
   "source": []
  }
 ],
 "metadata": {
  "kernelspec": {
   "display_name": "Python 3 (ipykernel)",
   "language": "python",
   "name": "python3"
  },
  "language_info": {
   "codemirror_mode": {
    "name": "ipython",
    "version": 3
   },
   "file_extension": ".py",
   "mimetype": "text/x-python",
   "name": "python",
   "nbconvert_exporter": "python",
   "pygments_lexer": "ipython3",
   "version": "3.9.13"
  },
  "vscode": {
   "interpreter": {
    "hash": "c261aea317cc0286b3b3261fbba9abdec21eaa57589985bb7a274bf54d6cc0a7"
   }
  }
 },
 "nbformat": 4,
 "nbformat_minor": 5
}
