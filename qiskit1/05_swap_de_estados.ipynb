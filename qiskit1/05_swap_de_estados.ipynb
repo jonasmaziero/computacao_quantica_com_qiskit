{
 "cells": [
  {
   "cell_type": "code",
   "execution_count": 44,
   "id": "68912e32",
   "metadata": {},
   "outputs": [],
   "source": [
    "%run init.ipynb"
   ]
  },
  {
   "cell_type": "code",
   "execution_count": 45,
   "id": "312e6e97",
   "metadata": {},
   "outputs": [],
   "source": [
    "from qiskit import *"
   ]
  },
  {
   "cell_type": "markdown",
   "id": "136e8983",
   "metadata": {},
   "source": [
    "### Notas de aula de Computação Quântica <br> Autor: Jonas Maziero\n",
    "\n",
    "# Troca de estados quânticos\n",
    "\n",
    "## Matriz densidade de 2 qubits"
   ]
  },
  {
   "cell_type": "code",
   "execution_count": 15,
   "id": "d1cf76b8",
   "metadata": {},
   "outputs": [
    {
     "data": {
      "image/png": "[encoded data removed]",
      "text/latex": [
       "$\\displaystyle \\left[\\begin{matrix}0.25 z_{a} + 0.25 z_{b} + 0.25 zz + 0.25 & 0.25 x_{b} - 0.25 i xy - 0.25 i y_{b} + 0.25 zx & 0.25 x_{a} + 0.25 xz - 0.25 i y_{a} - 0.25 i yz & 0.25 xx - 0.25 i xy - 0.25 i yx - 0.25 yy\\\\0.25 x_{b} + 0.25 i xy + 0.25 i y_{b} + 0.25 zx & 0.25 z_{a} - 0.25 z_{b} - 0.25 zz + 0.25 & 0.25 xx + 0.25 i xy - 0.25 i yx + 0.25 yy & 0.25 x_{a} - 0.25 xz - 0.25 i y_{a} + 0.25 i yz\\\\0.25 x_{a} + 0.25 xz + 0.25 i y_{a} + 0.25 i yz & 0.25 xx - 0.25 i xy + 0.25 i yx + 0.25 yy & - 0.25 z_{a} + 0.25 z_{b} - 0.25 zz + 0.25 & 0.25 x_{b} + 0.25 i xy - 0.25 i y_{b} - 0.25 zx\\\\0.25 xx + 0.25 i xy + 0.25 i yx - 0.25 yy & 0.25 x_{a} - 0.25 xz + 0.25 i y_{a} - 0.25 i yz & 0.25 x_{b} - 0.25 i xy + 0.25 i y_{b} - 0.25 zx & - 0.25 z_{a} - 0.25 z_{b} + 0.25 zz + 0.25\\end{matrix}\\right]$"
      ],
      "text/plain": [
       "⎡    0.25⋅zₐ + 0.25⋅z_b + 0.25⋅zz + 0.25      0.25⋅x_b - 0.25⋅ⅈ⋅xy - 0.25⋅ⅈ⋅y_\n",
       "⎢                                                                             \n",
       "⎢0.25⋅x_b + 0.25⋅ⅈ⋅xy + 0.25⋅ⅈ⋅y_b + 0.25⋅zx      0.25⋅zₐ - 0.25⋅z_b - 0.25⋅zz\n",
       "⎢                                                                             \n",
       "⎢ 0.25⋅xₐ + 0.25⋅xz + 0.25⋅ⅈ⋅yₐ + 0.25⋅ⅈ⋅yz    0.25⋅xx - 0.25⋅ⅈ⋅xy + 0.25⋅ⅈ⋅yx\n",
       "⎢                                                                             \n",
       "⎣ 0.25⋅xx + 0.25⋅ⅈ⋅xy + 0.25⋅ⅈ⋅yx - 0.25⋅yy    0.25⋅xₐ - 0.25⋅xz + 0.25⋅ⅈ⋅yₐ -\n",
       "\n",
       "b + 0.25⋅zx   0.25⋅xₐ + 0.25⋅xz - 0.25⋅ⅈ⋅yₐ - 0.25⋅ⅈ⋅yz    0.25⋅xx - 0.25⋅ⅈ⋅xy\n",
       "                                                                              \n",
       " + 0.25       0.25⋅xx + 0.25⋅ⅈ⋅xy - 0.25⋅ⅈ⋅yx + 0.25⋅yy    0.25⋅xₐ - 0.25⋅xz -\n",
       "                                                                              \n",
       " + 0.25⋅yy      -0.25⋅zₐ + 0.25⋅z_b - 0.25⋅zz + 0.25      0.25⋅x_b + 0.25⋅ⅈ⋅xy\n",
       "                                                                              \n",
       " 0.25⋅ⅈ⋅yz   0.25⋅x_b - 0.25⋅ⅈ⋅xy + 0.25⋅ⅈ⋅y_b - 0.25⋅zx     -0.25⋅zₐ - 0.25⋅z\n",
       "\n",
       " - 0.25⋅ⅈ⋅yx - 0.25⋅yy ⎤\n",
       "                       ⎥\n",
       " 0.25⋅ⅈ⋅yₐ + 0.25⋅ⅈ⋅yz ⎥\n",
       "                       ⎥\n",
       " - 0.25⋅ⅈ⋅y_b - 0.25⋅zx⎥\n",
       "                       ⎥\n",
       "_b + 0.25⋅zz + 0.25    ⎦"
      ]
     },
     "execution_count": 15,
     "metadata": {},
     "output_type": "execute_result"
    }
   ],
   "source": [
    "X = Matrix([[0,1],[1,0]]); Y = Matrix([[0,-1j],[1j,0]]); Z = Matrix([[1,0],[0,-1]]); I = Matrix([[1,0],[0,1]])\n",
    "xa,ya,za,xb,yb,zb = symbols('x_a y_a z_a x_b y_b z_b')\n",
    "xx,xy,xz,yx,yy,yz,zx,zy,zz = symbols('xx xy xz yx yy yz zx zy zz')\n",
    "rho_ab = (1/4)*(tp(I,I) + xa*tp(X,I) + ya*tp(Y,I) + za*tp(Z,I) + xb*tp(I,X) + yb*tp(I,Y) + zb*tp(I,Z))\n",
    "rho_ab += (1/4)*(xx*tp(X,X) + xy*tp(X,Y) + xz*tp(X,Z) + yx*tp(Y,X) + yy*tp(Y,Y) + yz*tp(Y,Z))\n",
    "rho_ab += (1/4)*(zx*tp(Z,X) + xy*tp(Z,Y) + zz*tp(Z,Z))\n",
    "rho_ab"
   ]
  },
  {
   "cell_type": "code",
   "execution_count": 16,
   "id": "d6607fa7",
   "metadata": {},
   "outputs": [
    {
     "data": {
      "image/png": "[encoded data removed]",
      "text/latex": [
       "$\\displaystyle 1.0$"
      ],
      "text/plain": [
       "1.00000000000000"
      ]
     },
     "execution_count": 16,
     "metadata": {},
     "output_type": "execute_result"
    }
   ],
   "source": [
    "trace(rho_ab)"
   ]
  },
  {
   "cell_type": "markdown",
   "id": "b443aa8e",
   "metadata": {},
   "source": [
    "## Traço, traço parcial e matriz densidade reduzida\n",
    "O traço de uma matriz é a soma dos elementos em sua diagonal principal\n",
    "\\begin{equation}\n",
    "Tr(A) = \\sum_{j}A_{j,j} = \\sum_{j}\\langle \\Psi_{j}|A|\\Psi_{j}\\rangle,\n",
    "\\end{equation}\n",
    "com $\\{\\Psi_{j}\\}$ sendo uma base qualquer do espaço onde a matriz $A$ está definida.\n",
    "\n",
    "A função traço parcial é definida por\n",
    "\\begin{align}\n",
    "& \\rho_{a} = Tr_{b}(\\rho_{ab})= \\sum_{j=1}^{d_{b}}(I\\otimes\\langle b_{j}|)\\rho_{ab}(I\\otimes|b_{j}\\rangle), \\\\\n",
    "& \\rho_{b} = \\sum_{j=1}^{d_{a}}(\\langle a_{j}|\\otimes I)\\rho_{ab}(|a_{j}\\rangle\\otimes I).\n",
    "\\end{align}"
   ]
  },
  {
   "cell_type": "code",
   "execution_count": 6,
   "id": "4477fb69",
   "metadata": {},
   "outputs": [],
   "source": [
    "def ptraceA(da, db, rho):\n",
    "    rhoB = zeros(db,db)\n",
    "    for j in range(0, db):\n",
    "        for k in range(0, db):\n",
    "            for l in range(0, da):\n",
    "                rhoB[j,k] += rho[l*db+j,l*db+k]\n",
    "    return rhoB\n",
    "def ptraceB(da, db, rho):\n",
    "    rhoA = zeros(da,da)\n",
    "    for j in range(0, da):\n",
    "        for k in range(0, da):\n",
    "            for l in range(0, db):\n",
    "                rhoA[j,k] += rho[j*db+l,k*db+l]\n",
    "    return rhoA"
   ]
  },
  {
   "cell_type": "code",
   "execution_count": 19,
   "id": "281d6cc6",
   "metadata": {},
   "outputs": [
    {
     "data": {
      "image/png": "[encoded data removed]",
      "text/latex": [
       "$\\displaystyle \\left[\\begin{matrix}0.5 z_{a} + 0.5 & 0.5 x_{a} - 0.5 i y_{a}\\\\0.5 x_{a} + 0.5 i y_{a} & 0.5 - 0.5 z_{a}\\end{matrix}\\right]$"
      ],
      "text/plain": [
       "⎡  0.5⋅zₐ + 0.5     0.5⋅xₐ - 0.5⋅ⅈ⋅yₐ⎤\n",
       "⎢                                    ⎥\n",
       "⎣0.5⋅xₐ + 0.5⋅ⅈ⋅yₐ    0.5 - 0.5⋅zₐ   ⎦"
      ]
     },
     "execution_count": 19,
     "metadata": {},
     "output_type": "execute_result"
    }
   ],
   "source": [
    "rho_a = ptraceB(2, 2, rho_ab); rho_a"
   ]
  },
  {
   "cell_type": "code",
   "execution_count": 20,
   "id": "426e227d",
   "metadata": {},
   "outputs": [
    {
     "data": {
      "image/png": "[encoded data removed]",
      "text/latex": [
       "$\\displaystyle \\left[\\begin{matrix}0.5 z_{b} + 0.5 & 0.5 x_{b} - 0.5 i y_{b}\\\\0.5 x_{b} + 0.5 i y_{b} & 0.5 - 0.5 z_{b}\\end{matrix}\\right]$"
      ],
      "text/plain": [
       "⎡   0.5⋅z_b + 0.5     0.5⋅x_b - 0.5⋅ⅈ⋅y_b⎤\n",
       "⎢                                        ⎥\n",
       "⎣0.5⋅x_b + 0.5⋅ⅈ⋅y_b     0.5 - 0.5⋅z_b   ⎦"
      ]
     },
     "execution_count": 20,
     "metadata": {},
     "output_type": "execute_result"
    }
   ],
   "source": [
    "rho_b = ptraceA(2, 2, rho_ab); rho_b"
   ]
  },
  {
   "cell_type": "markdown",
   "id": "c4453d31",
   "metadata": {},
   "source": [
    "Ou seja\n",
    "\\begin{align}\n",
    "& \\rho_{a} = \\frac{1}{2}\\big(I+x_{a}X+y_{a}Y+z_{a}Z\\big), \\\\\n",
    "& \\rho_{b} = \\frac{1}{2}\\big(I+x_{b}X+y_{b}Y+z_{b}Z\\big).\n",
    "\\end{align}"
   ]
  },
  {
   "cell_type": "markdown",
   "id": "bfd2dbf9",
   "metadata": {},
   "source": [
    "## Aplicando a SWAP"
   ]
  },
  {
   "cell_type": "code",
   "execution_count": 25,
   "id": "13d10b71",
   "metadata": {},
   "outputs": [
    {
     "data": {
      "image/png": "[encoded data removed]",
      "text/latex": [
       "$\\displaystyle \\left( \\left[\\begin{matrix}1\\\\0\\end{matrix}\\right], \\  \\left[\\begin{matrix}0\\\\1\\end{matrix}\\right], \\  \\left[\\begin{matrix}1 & 0\\\\0 & 1\\end{matrix}\\right], \\  \\left[\\begin{matrix}0 & 1\\\\1 & 0\\end{matrix}\\right], \\  \\left[\\begin{matrix}1 & 0\\\\0 & 0\\end{matrix}\\right], \\  \\left[\\begin{matrix}1\\\\0\\\\0\\\\0\\end{matrix}\\right]\\right)$"
      ],
      "text/plain": [
       "⎛                                  ⎡1⎤⎞\n",
       "⎜                                  ⎢ ⎥⎟\n",
       "⎜⎡1⎤  ⎡0⎤  ⎡1  0⎤  ⎡0  1⎤  ⎡1  0⎤  ⎢0⎥⎟\n",
       "⎜⎢ ⎥, ⎢ ⎥, ⎢    ⎥, ⎢    ⎥, ⎢    ⎥, ⎢ ⎥⎟\n",
       "⎜⎣0⎦  ⎣1⎦  ⎣0  1⎦  ⎣1  0⎦  ⎣0  0⎦  ⎢0⎥⎟\n",
       "⎜                                  ⎢ ⎥⎟\n",
       "⎝                                  ⎣0⎦⎠"
      ]
     },
     "execution_count": 25,
     "metadata": {},
     "output_type": "execute_result"
    }
   ],
   "source": [
    "# alguns resultados prontos que usare de init.ipynb\n",
    "cb(2,0), cb(2,1), id(2), pauli(1), proj(cb(2,0)), tp(cb(2,0),cb(2,0))"
   ]
  },
  {
   "cell_type": "code",
   "execution_count": 21,
   "id": "908247a3",
   "metadata": {},
   "outputs": [
    {
     "data": {
      "image/png": "[encoded data removed]",
      "text/latex": [
       "$\\displaystyle \\left[\\begin{matrix}1 & 0 & 0 & 0\\\\0 & 1 & 0 & 0\\\\0 & 0 & 0 & 1\\\\0 & 0 & 1 & 0\\end{matrix}\\right]$"
      ],
      "text/plain": [
       "⎡1  0  0  0⎤\n",
       "⎢          ⎥\n",
       "⎢0  1  0  0⎥\n",
       "⎢          ⎥\n",
       "⎢0  0  0  1⎥\n",
       "⎢          ⎥\n",
       "⎣0  0  1  0⎦"
      ]
     },
     "execution_count": 21,
     "metadata": {},
     "output_type": "execute_result"
    }
   ],
   "source": [
    "CX_ab = tp(proj(cb(2,0)),id(2)) + tp(proj(cb(2,1)),pauli(1)); CX_ab"
   ]
  },
  {
   "cell_type": "code",
   "execution_count": 22,
   "id": "f90af6de",
   "metadata": {},
   "outputs": [
    {
     "data": {
      "image/png": "[encoded data removed]",
      "text/latex": [
       "$\\displaystyle \\left[\\begin{matrix}1 & 0 & 0 & 0\\\\0 & 0 & 0 & 1\\\\0 & 0 & 1 & 0\\\\0 & 1 & 0 & 0\\end{matrix}\\right]$"
      ],
      "text/plain": [
       "⎡1  0  0  0⎤\n",
       "⎢          ⎥\n",
       "⎢0  0  0  1⎥\n",
       "⎢          ⎥\n",
       "⎢0  0  1  0⎥\n",
       "⎢          ⎥\n",
       "⎣0  1  0  0⎦"
      ]
     },
     "execution_count": 22,
     "metadata": {},
     "output_type": "execute_result"
    }
   ],
   "source": [
    "CX_ba = tp(id(2),proj(cb(2,0))) + tp(pauli(1),proj(cb(2,1))); CX_ba"
   ]
  },
  {
   "cell_type": "code",
   "execution_count": 31,
   "id": "fe7f1cad",
   "metadata": {},
   "outputs": [
    {
     "data": {
      "image/png": "[encoded data removed]",
      "text/latex": [
       "$\\displaystyle \\left[\\begin{matrix}1 & 0 & 0 & 0\\\\0 & 0 & 1 & 0\\\\0 & 1 & 0 & 0\\\\0 & 0 & 0 & 1\\end{matrix}\\right]$"
      ],
      "text/plain": [
       "⎡1  0  0  0⎤\n",
       "⎢          ⎥\n",
       "⎢0  0  1  0⎥\n",
       "⎢          ⎥\n",
       "⎢0  1  0  0⎥\n",
       "⎢          ⎥\n",
       "⎣0  0  0  1⎦"
      ]
     },
     "execution_count": 31,
     "metadata": {},
     "output_type": "execute_result"
    }
   ],
   "source": [
    "SWAP = CX_ab*CX_ba*CX_ab; SWAP"
   ]
  },
  {
   "cell_type": "code",
   "execution_count": 32,
   "id": "6678d660",
   "metadata": {},
   "outputs": [
    {
     "data": {
      "image/png": "[encoded data removed]",
      "text/latex": [
       "$\\displaystyle \\left[\\begin{matrix}1 & 0 & 0 & 0\\\\0 & 0 & 1 & 0\\\\0 & 1 & 0 & 0\\\\0 & 0 & 0 & 1\\end{matrix}\\right]$"
      ],
      "text/plain": [
       "⎡1  0  0  0⎤\n",
       "⎢          ⎥\n",
       "⎢0  0  1  0⎥\n",
       "⎢          ⎥\n",
       "⎢0  1  0  0⎥\n",
       "⎢          ⎥\n",
       "⎣0  0  0  1⎦"
      ]
     },
     "execution_count": 32,
     "metadata": {},
     "output_type": "execute_result"
    }
   ],
   "source": [
    "SWAP = CX_ba*CX_ab*CX_ba; SWAP"
   ]
  },
  {
   "cell_type": "markdown",
   "id": "63f37c62",
   "metadata": {},
   "source": [
    "$$\\rho_{ab}^{swap} = (SWAP)\\rho_{ab}(SWAP)^{\\dagger}$$"
   ]
  },
  {
   "cell_type": "code",
   "execution_count": 33,
   "id": "18c2d06f",
   "metadata": {},
   "outputs": [],
   "source": [
    "# aplica a troca ao estado de 2 qubits\n",
    "rho_ab_swap = SWAP*rho_ab*SWAP # pois a SWAP é hermitiana"
   ]
  },
  {
   "cell_type": "code",
   "execution_count": 34,
   "id": "3c65bfe4",
   "metadata": {},
   "outputs": [
    {
     "data": {
      "image/png": "[encoded data removed]",
      "text/latex": [
       "$\\displaystyle \\left[\\begin{matrix}0.5 z_{b} + 0.5 & 0.5 x_{b} - 0.5 i y_{b}\\\\0.5 x_{b} + 0.5 i y_{b} & 0.5 - 0.5 z_{b}\\end{matrix}\\right]$"
      ],
      "text/plain": [
       "⎡   0.5⋅z_b + 0.5     0.5⋅x_b - 0.5⋅ⅈ⋅y_b⎤\n",
       "⎢                                        ⎥\n",
       "⎣0.5⋅x_b + 0.5⋅ⅈ⋅y_b     0.5 - 0.5⋅z_b   ⎦"
      ]
     },
     "execution_count": 34,
     "metadata": {},
     "output_type": "execute_result"
    }
   ],
   "source": [
    "# verificação que a troca ocorreu\n",
    "rho_a_swap = ptraceB(2, 2, rho_ab_swap); rho_a_swap"
   ]
  },
  {
   "cell_type": "code",
   "execution_count": 35,
   "id": "07d9e75b",
   "metadata": {},
   "outputs": [
    {
     "data": {
      "image/png": "[encoded data removed]",
      "text/latex": [
       "$\\displaystyle \\left[\\begin{matrix}0.5 z_{a} + 0.5 & 0.5 x_{a} - 0.5 i y_{a}\\\\0.5 x_{a} + 0.5 i y_{a} & 0.5 - 0.5 z_{a}\\end{matrix}\\right]$"
      ],
      "text/plain": [
       "⎡  0.5⋅zₐ + 0.5     0.5⋅xₐ - 0.5⋅ⅈ⋅yₐ⎤\n",
       "⎢                                    ⎥\n",
       "⎣0.5⋅xₐ + 0.5⋅ⅈ⋅yₐ    0.5 - 0.5⋅zₐ   ⎦"
      ]
     },
     "execution_count": 35,
     "metadata": {},
     "output_type": "execute_result"
    }
   ],
   "source": [
    "rho_b_swap = ptraceA(2, 2, rho_ab_swap); rho_b_swap"
   ]
  },
  {
   "cell_type": "markdown",
   "id": "36ec15bc",
   "metadata": {},
   "source": [
    "Ou seja\n",
    "$$\\rho_{a}^{swap}=\\rho_{b} \\text{ e } \\rho_{b}^{swap}=\\rho_{a}.$$"
   ]
  },
  {
   "cell_type": "markdown",
   "id": "658843b6",
   "metadata": {},
   "source": [
    "### Traço parcial calculado numericamente\n",
    "Precisaremos dessas funções para os dados obtidos dos experimentos e simulações."
   ]
  },
  {
   "cell_type": "code",
   "execution_count": 55,
   "id": "34d066a2",
   "metadata": {},
   "outputs": [],
   "source": [
    "def pTraceL_num(dl, dr, rhoLR):\n",
    "    # Returns the left partial trace over the 'left' subsystem of rhoLR\n",
    "    rhoR = np.zeros((dr, dr), dtype=complex)\n",
    "    for j in range(0, dr):\n",
    "        for k in range(j, dr):\n",
    "            for l in range(0, dl):\n",
    "                rhoR[j,k] += rhoLR[l*dr+j,l*dr+k]\n",
    "            if j != k:\n",
    "                rhoR[k,j] = np.conj(rhoR[j,k])\n",
    "    return rhoR\n",
    "\n",
    "\n",
    "def pTraceR_num(dl, dr, rhoLR):\n",
    "    # Returns the right partial trace over the 'right' subsystem of rhoLR\n",
    "    rhoL = np.zeros((dl, dl), dtype=complex)\n",
    "    for j in range(0, dl):\n",
    "        for k in range(j, dl):\n",
    "            for l in range(0, dr):\n",
    "                rhoL[j,k] += rhoLR[j*dr+l,k*dr+l]\n",
    "        if j != k:\n",
    "            rhoL[k,j] = np.conj(rhoL[j,k])\n",
    "    return rhoL"
   ]
  },
  {
   "cell_type": "markdown",
   "id": "5d3353ed",
   "metadata": {},
   "source": [
    "## Simulação e implementação experimental da troca de estados\n",
    "\n",
    "Vamos considerar \n",
    "\\begin{align}\n",
    "& \\rho_{a} = |0\\rangle\\langle 0| = \\begin{bmatrix}1&0\\\\0&0 \\end{bmatrix}, \\\\\n",
    "& \\rho_{b} = |\\oplus\\rangle\\langle \\oplus| = \\begin{bmatrix}1/2&-i/2\\\\i/2&1/2 \\end{bmatrix}.\n",
    "\\end{align}"
   ]
  },
  {
   "cell_type": "markdown",
   "id": "b39b7d7b",
   "metadata": {},
   "source": [
    "### Simulação"
   ]
  },
  {
   "cell_type": "code",
   "execution_count": 50,
   "id": "2afa6a68",
   "metadata": {},
   "outputs": [],
   "source": [
    "qr = QuantumRegister(2); qc = QuantumCircuit(qr)"
   ]
  },
  {
   "cell_type": "markdown",
   "id": "d313b396",
   "metadata": {},
   "source": [
    "#### Preparação dos estados"
   ]
  },
  {
   "cell_type": "code",
   "execution_count": 51,
   "id": "5f35e3d3",
   "metadata": {},
   "outputs": [
    {
     "data": {
      "text/html": [
       "<pre style=\"word-wrap: normal;white-space: pre;background: #fff0;line-height: 1.1;font-family: &quot;Courier New&quot;,Courier,monospace\">                \n",
       "q1_0: ──────────\n",
       "      ┌───┐┌───┐\n",
       "q1_1: ┤ H ├┤ S ├\n",
       "      └───┘└───┘</pre>"
      ],
      "text/plain": [
       "                \n",
       "q1_0: ──────────\n",
       "      ┌───┐┌───┐\n",
       "q1_1: ┤ H ├┤ S ├\n",
       "      └───┘└───┘"
      ]
     },
     "execution_count": 51,
     "metadata": {},
     "output_type": "execute_result"
    }
   ],
   "source": [
    "qc.h(qr[1]); qc.s(qr[1]); qc.draw()"
   ]
  },
  {
   "cell_type": "markdown",
   "id": "696b122e",
   "metadata": {},
   "source": [
    "##### Para a TEQ do circuito acima"
   ]
  },
  {
   "cell_type": "code",
   "execution_count": 53,
   "id": "3f50d6e6",
   "metadata": {},
   "outputs": [
    {
     "data": {
      "text/plain": [
       "array([[ 5.00280446e-01+0.00000000e+00j, -3.70362278e-03-4.21296259e-04j,\n",
       "         5.52106670e-03-4.98425746e-01j, -1.59591063e-03+1.63496300e-03j],\n",
       "       [-3.70362278e-03+4.21296259e-04j,  5.37412125e-04+0.00000000e+00j,\n",
       "         1.38224356e-03+3.85082021e-03j,  1.14618881e-05-5.22998440e-04j],\n",
       "       [ 5.52106670e-03+4.98425746e-01j,  1.38224356e-03-3.85082021e-03j,\n",
       "         4.98662244e-01+0.00000000e+00j, -1.80074933e-03-2.57547291e-03j],\n",
       "       [-1.59591063e-03-1.63496300e-03j,  1.14618881e-05+5.22998440e-04j,\n",
       "        -1.80074933e-03+2.57547291e-03j,  5.19898627e-04+0.00000000e+00j]])"
      ]
     },
     "execution_count": 53,
     "metadata": {},
     "output_type": "execute_result"
    }
   ],
   "source": [
    "from qiskit.ignis.verification.tomography import state_tomography_circuits, StateTomographyFitter\n",
    "nshots = 8192\n",
    "qstc = state_tomography_circuits(qc, [qr[0],qr[1]]); # circuito para TEQ\n",
    "job = qiskit.execute(qstc, Aer.get_backend('qasm_simulator'), shots=nshots) # executa no simulador\n",
    "qstf = StateTomographyFitter(job.result(), qstc) # ajusta os dados\n",
    "rhoBA = qstf.fit(method='lstsq'); rhoBA # extrai o operador densidade"
   ]
  },
  {
   "cell_type": "markdown",
   "id": "5ea27837",
   "metadata": {},
   "source": [
    "Aqui aparece a questão da ordem trocada dos qubits ($\\rho\\equiv\\rho_{BA}$)"
   ]
  },
  {
   "cell_type": "code",
   "execution_count": 56,
   "id": "177e357f",
   "metadata": {},
   "outputs": [
    {
     "data": {
      "text/plain": [
       "array([[ 0.99894269+0.j        , -0.00550437-0.00299677j],\n",
       "       [-0.00550437+0.00299677j,  0.00105731+0.j        ]])"
      ]
     },
     "execution_count": 56,
     "metadata": {},
     "output_type": "execute_result"
    }
   ],
   "source": [
    "rhoA = pTraceL_num(2, 2, rhoBA); rhoA"
   ]
  },
  {
   "cell_type": "code",
   "execution_count": 57,
   "id": "708c7fb0",
   "metadata": {},
   "outputs": [
    {
     "data": {
      "text/plain": [
       "array([[0.50081786+0.j        , 0.00553253-0.49894874j],\n",
       "       [0.00553253+0.49894874j, 0.49918214+0.j        ]])"
      ]
     },
     "execution_count": 57,
     "metadata": {},
     "output_type": "execute_result"
    }
   ],
   "source": [
    "rhoB = pTraceR_num(2, 2, rhoBA); rhoB"
   ]
  },
  {
   "cell_type": "markdown",
   "id": "8597b632",
   "metadata": {},
   "source": [
    "#### Fazendo o swap dos estados"
   ]
  },
  {
   "cell_type": "code",
   "execution_count": 59,
   "id": "e631c874",
   "metadata": {},
   "outputs": [
    {
     "data": {
      "text/html": [
       "<pre style=\"word-wrap: normal;white-space: pre;background: #fff0;line-height: 1.1;font-family: &quot;Courier New&quot;,Courier,monospace\">                                    \n",
       "q1_0: ────────────■────■────■────■──\n",
       "      ┌───┐┌───┐┌─┴─┐┌─┴─┐┌─┴─┐┌─┴─┐\n",
       "q1_1: ┤ H ├┤ S ├┤ X ├┤ X ├┤ X ├┤ X ├\n",
       "      └───┘└───┘└───┘└───┘└───┘└───┘</pre>"
      ],
      "text/plain": [
       "                                    \n",
       "q1_0: ────────────■────■────■────■──\n",
       "      ┌───┐┌───┐┌─┴─┐┌─┴─┐┌─┴─┐┌─┴─┐\n",
       "q1_1: ┤ H ├┤ S ├┤ X ├┤ X ├┤ X ├┤ X ├\n",
       "      └───┘└───┘└───┘└───┘└───┘└───┘"
      ]
     },
     "execution_count": 59,
     "metadata": {},
     "output_type": "execute_result"
    }
   ],
   "source": [
    "qc.cx(qr[0],qr[1]); qc.cx(qr[0],qr[1]); qc.draw()"
   ]
  },
  {
   "cell_type": "markdown",
   "id": "a9981dc1",
   "metadata": {},
   "source": [
    "##### Retirando uma porta lógica (errada) do circuito\n",
    "Dá pra fazer isso iniciando o circuito do zero ou usando os comandos a seguir."
   ]
  },
  {
   "cell_type": "code",
   "execution_count": 60,
   "id": "7ee3c704",
   "metadata": {},
   "outputs": [
    {
     "data": {
      "text/plain": [
       "[(<qiskit.circuit.library.standard_gates.h.HGate object at 0x7f7d57c84dc0>, [Qubit(QuantumRegister(2, 'q1'), 1)], []), (<qiskit.circuit.library.standard_gates.s.SGate object at 0x7f7d57c84fa0>, [Qubit(QuantumRegister(2, 'q1'), 1)], []), (<qiskit.circuit.library.standard_gates.x.CXGate object at 0x7f7d5437de50>, [Qubit(QuantumRegister(2, 'q1'), 0), Qubit(QuantumRegister(2, 'q1'), 1)], []), (<qiskit.circuit.library.standard_gates.x.CXGate object at 0x7f7d5437ddf0>, [Qubit(QuantumRegister(2, 'q1'), 0), Qubit(QuantumRegister(2, 'q1'), 1)], []), (<qiskit.circuit.library.standard_gates.x.CXGate object at 0x7f7d57c84670>, [Qubit(QuantumRegister(2, 'q1'), 0), Qubit(QuantumRegister(2, 'q1'), 1)], []), (<qiskit.circuit.library.standard_gates.x.CXGate object at 0x7f7d54360bb0>, [Qubit(QuantumRegister(2, 'q1'), 0), Qubit(QuantumRegister(2, 'q1'), 1)], [])]"
      ]
     },
     "execution_count": 60,
     "metadata": {},
     "output_type": "execute_result"
    }
   ],
   "source": [
    "# data contém todas as portas lógicas do cicuito quântico em uma lista (ou dicionário)\n",
    "data = qc.data; data"
   ]
  },
  {
   "cell_type": "code",
   "execution_count": 61,
   "id": "fed9f53d",
   "metadata": {},
   "outputs": [
    {
     "name": "stdout",
     "output_type": "stream",
     "text": [
      "(<qiskit.circuit.library.standard_gates.x.CXGate object at 0x7f7d5437ddf0>, [Qubit(QuantumRegister(2, 'q1'), 0), Qubit(QuantumRegister(2, 'q1'), 1)], [])\n"
     ]
    }
   ],
   "source": [
    "# imprime uma componente de qc.data\n",
    "print( data[3] )"
   ]
  },
  {
   "cell_type": "code",
   "execution_count": 62,
   "id": "6074011c",
   "metadata": {},
   "outputs": [
    {
     "data": {
      "text/plain": [
       "(<qiskit.circuit.library.standard_gates.x.CXGate at 0x7f7d5437ddf0>,\n",
       " [Qubit(QuantumRegister(2, 'q1'), 0), Qubit(QuantumRegister(2, 'q1'), 1)],\n",
       " [])"
      ]
     },
     "execution_count": 62,
     "metadata": {},
     "output_type": "execute_result"
    }
   ],
   "source": [
    "# deleta uma componente de data\n",
    "data.pop(3)"
   ]
  },
  {
   "cell_type": "code",
   "execution_count": 63,
   "id": "3002c8f2",
   "metadata": {},
   "outputs": [
    {
     "data": {
      "text/plain": [
       "(<qiskit.circuit.library.standard_gates.x.CXGate at 0x7f7d54360bb0>,\n",
       " [Qubit(QuantumRegister(2, 'q1'), 0), Qubit(QuantumRegister(2, 'q1'), 1)],\n",
       " [])"
      ]
     },
     "execution_count": 63,
     "metadata": {},
     "output_type": "execute_result"
    }
   ],
   "source": [
    "data.pop(4)"
   ]
  },
  {
   "cell_type": "code",
   "execution_count": 65,
   "id": "2f5b77ed",
   "metadata": {},
   "outputs": [
    {
     "data": {
      "text/plain": [
       "(<qiskit.circuit.library.standard_gates.x.CXGate at 0x7f7d57c84670>,\n",
       " [Qubit(QuantumRegister(2, 'q1'), 0), Qubit(QuantumRegister(2, 'q1'), 1)],\n",
       " [])"
      ]
     },
     "execution_count": 65,
     "metadata": {},
     "output_type": "execute_result"
    }
   ],
   "source": [
    "data.pop(3)"
   ]
  },
  {
   "cell_type": "code",
   "execution_count": 66,
   "id": "ccebe11f",
   "metadata": {},
   "outputs": [
    {
     "data": {
      "text/html": [
       "<pre style=\"word-wrap: normal;white-space: pre;background: #fff0;line-height: 1.1;font-family: &quot;Courier New&quot;,Courier,monospace\">                     \n",
       "q1_0: ────────────■──\n",
       "      ┌───┐┌───┐┌─┴─┐\n",
       "q1_1: ┤ H ├┤ S ├┤ X ├\n",
       "      └───┘└───┘└───┘</pre>"
      ],
      "text/plain": [
       "                     \n",
       "q1_0: ────────────■──\n",
       "      ┌───┐┌───┐┌─┴─┐\n",
       "q1_1: ┤ H ├┤ S ├┤ X ├\n",
       "      └───┘└───┘└───┘"
      ]
     },
     "execution_count": 66,
     "metadata": {},
     "output_type": "execute_result"
    }
   ],
   "source": [
    "# agora o circuit está como queremos\n",
    "qc.draw()"
   ]
  },
  {
   "cell_type": "markdown",
   "id": "3fb18c5a",
   "metadata": {},
   "source": [
    "#### Voltando ao swap dos estados"
   ]
  },
  {
   "cell_type": "code",
   "execution_count": 71,
   "id": "caac830b",
   "metadata": {},
   "outputs": [
    {
     "data": {
      "text/html": [
       "<pre style=\"word-wrap: normal;white-space: pre;background: #fff0;line-height: 1.1;font-family: &quot;Courier New&quot;,Courier,monospace\">                     ┌───┐┌───┐\n",
       "q1_0: ────────────■──┤ X ├┤ X ├\n",
       "      ┌───┐┌───┐┌─┴─┐└─┬─┘└─┬─┘\n",
       "q1_1: ┤ H ├┤ S ├┤ X ├──■────■──\n",
       "      └───┘└───┘└───┘          </pre>"
      ],
      "text/plain": [
       "                     ┌───┐┌───┐\n",
       "q1_0: ────────────■──┤ X ├┤ X ├\n",
       "      ┌───┐┌───┐┌─┴─┐└─┬─┘└─┬─┘\n",
       "q1_1: ┤ H ├┤ S ├┤ X ├──■────■──\n",
       "      └───┘└───┘└───┘          "
      ]
     },
     "execution_count": 71,
     "metadata": {},
     "output_type": "execute_result"
    }
   ],
   "source": [
    "qc.cx(qr[1],qr[0]); qc.draw()"
   ]
  },
  {
   "cell_type": "code",
   "execution_count": 72,
   "id": "ea56ebb5",
   "metadata": {},
   "outputs": [
    {
     "data": {
      "text/plain": [
       "(<qiskit.circuit.library.standard_gates.x.CXGate at 0x7f7d54367430>,\n",
       " [Qubit(QuantumRegister(2, 'q1'), 1), Qubit(QuantumRegister(2, 'q1'), 0)],\n",
       " [])"
      ]
     },
     "execution_count": 72,
     "metadata": {},
     "output_type": "execute_result"
    }
   ],
   "source": [
    "data = qc.data; data.pop(3)"
   ]
  },
  {
   "cell_type": "code",
   "execution_count": 73,
   "id": "d64b8e3b",
   "metadata": {},
   "outputs": [
    {
     "data": {
      "text/html": [
       "<pre style=\"word-wrap: normal;white-space: pre;background: #fff0;line-height: 1.1;font-family: &quot;Courier New&quot;,Courier,monospace\">                     ┌───┐     \n",
       "q1_0: ────────────■──┤ X ├──■──\n",
       "      ┌───┐┌───┐┌─┴─┐└─┬─┘┌─┴─┐\n",
       "q1_1: ┤ H ├┤ S ├┤ X ├──■──┤ X ├\n",
       "      └───┘└───┘└───┘     └───┘</pre>"
      ],
      "text/plain": [
       "                     ┌───┐     \n",
       "q1_0: ────────────■──┤ X ├──■──\n",
       "      ┌───┐┌───┐┌─┴─┐└─┬─┘┌─┴─┐\n",
       "q1_1: ┤ H ├┤ S ├┤ X ├──■──┤ X ├\n",
       "      └───┘└───┘└───┘     └───┘"
      ]
     },
     "execution_count": 73,
     "metadata": {},
     "output_type": "execute_result"
    }
   ],
   "source": [
    "qc.cx(qr[0],qr[1]); qc.draw()"
   ]
  },
  {
   "cell_type": "code",
   "execution_count": 74,
   "id": "985966bc",
   "metadata": {},
   "outputs": [],
   "source": [
    "qstc = state_tomography_circuits(qc, [qr[0],qr[1]]); # circuito para TEQ\n",
    "job = qiskit.execute(qstc, Aer.get_backend('qasm_simulator'), shots=nshots) # executa no simulador\n",
    "qstf = StateTomographyFitter(job.result(), qstc) # ajusta os dados\n",
    "rhoBA = qstf.fit(method='lstsq'); # extrai o operador densidade"
   ]
  },
  {
   "cell_type": "code",
   "execution_count": 75,
   "id": "956d3d52",
   "metadata": {},
   "outputs": [
    {
     "data": {
      "text/plain": [
       "array([[ 0.49951394+0.j        , -0.00188106-0.49904599j],\n",
       "       [-0.00188106+0.49904599j,  0.50048606+0.j        ]])"
      ]
     },
     "execution_count": 75,
     "metadata": {},
     "output_type": "execute_result"
    }
   ],
   "source": [
    "rhoA = pTraceL_num(2, 2, rhoBA); rhoA"
   ]
  },
  {
   "cell_type": "code",
   "execution_count": 76,
   "id": "f8c52c97",
   "metadata": {},
   "outputs": [
    {
     "data": {
      "text/plain": [
       "array([[ 9.99011909e-01+0.j        , -6.98091086e-03-0.00010763j],\n",
       "       [-6.98091086e-03+0.00010763j,  9.88091258e-04+0.j        ]])"
      ]
     },
     "execution_count": 76,
     "metadata": {},
     "output_type": "execute_result"
    }
   ],
   "source": [
    "rhoB = pTraceR_num(2, 2, rhoBA); rhoB"
   ]
  },
  {
   "cell_type": "markdown",
   "id": "90cdb0d2",
   "metadata": {},
   "source": [
    "### Experimento"
   ]
  },
  {
   "cell_type": "markdown",
   "id": "25a40f25",
   "metadata": {},
   "source": [
    "##### Preparação dos estados"
   ]
  },
  {
   "cell_type": "code",
   "execution_count": 152,
   "id": "6ca7714d",
   "metadata": {},
   "outputs": [
    {
     "data": {
      "text/html": [
       "<pre style=\"word-wrap: normal;white-space: pre;background: #fff0;line-height: 1.1;font-family: &quot;Courier New&quot;,Courier,monospace\">                  ░ \n",
       "q16_0: ───────────░─\n",
       "       ┌───┐┌───┐ ░ \n",
       "q16_1: ┤ H ├┤ S ├─░─\n",
       "       └───┘└───┘ ░ </pre>"
      ],
      "text/plain": [
       "                  ░ \n",
       "q16_0: ───────────░─\n",
       "       ┌───┐┌───┐ ░ \n",
       "q16_1: ┤ H ├┤ S ├─░─\n",
       "       └───┘└───┘ ░ "
      ]
     },
     "execution_count": 152,
     "metadata": {},
     "output_type": "execute_result"
    }
   ],
   "source": [
    "qr = QuantumRegister(2); qc = QuantumCircuit(qr)\n",
    "qc.h(qr[1]); qc.s(qr[1]); qc.barrier(); qc.draw()"
   ]
  },
  {
   "cell_type": "code",
   "execution_count": 81,
   "id": "430c7d3e",
   "metadata": {},
   "outputs": [],
   "source": [
    "qiskit.IBMQ.load_account();\n",
    "provider = IBMQ.get_provider(hub = 'ibm-q-research-2', group = 'federal-uni-sant-1', project = 'main')\n",
    "device = provider.get_backend('ibmq_belem')\n",
    "from qiskit.tools.monitor import job_monitor"
   ]
  },
  {
   "cell_type": "code",
   "execution_count": 82,
   "id": "1638c0c5",
   "metadata": {},
   "outputs": [
    {
     "name": "stdout",
     "output_type": "stream",
     "text": [
      "61841ca06e4da211ea9b5b9e\n",
      "Job Status: job has successfully run\n"
     ]
    }
   ],
   "source": [
    "qstc = state_tomography_circuits(qc, [qr[0],qr[1]]); # circuito para TEQ\n",
    "job = qiskit.execute(qstc, backend = device, shots = nshots)\n",
    "print(job.job_id()); job_monitor(job)"
   ]
  },
  {
   "cell_type": "code",
   "execution_count": 83,
   "id": "b74b7222",
   "metadata": {},
   "outputs": [
    {
     "data": {
      "text/plain": [
       "array([[0.99352204+0.j        , 0.02644131-0.06014646j],\n",
       "       [0.02644131+0.06014646j, 0.00647796+0.j        ]])"
      ]
     },
     "execution_count": 83,
     "metadata": {},
     "output_type": "execute_result"
    }
   ],
   "source": [
    "qstf = StateTomographyFitter(job.result(), qstc) # ajusta os dados\n",
    "rhoBA = qstf.fit(method='lstsq'); # extrai o operador densidade\n",
    "rhoA = pTraceL_num(2, 2, rhoBA); rhoA"
   ]
  },
  {
   "cell_type": "code",
   "execution_count": 84,
   "id": "82682697",
   "metadata": {},
   "outputs": [
    {
     "data": {
      "text/plain": [
       "array([[0.52465211+0.j        , 0.03226595-0.48297778j],\n",
       "       [0.03226595+0.48297778j, 0.47534789+0.j        ]])"
      ]
     },
     "execution_count": 84,
     "metadata": {},
     "output_type": "execute_result"
    }
   ],
   "source": [
    "rhoB = pTraceR_num(2, 2, rhoBA); rhoB"
   ]
  },
  {
   "cell_type": "markdown",
   "id": "4ff0169e",
   "metadata": {},
   "source": [
    "##### Troca dos estados"
   ]
  },
  {
   "cell_type": "code",
   "execution_count": 153,
   "id": "7c84e336",
   "metadata": {},
   "outputs": [],
   "source": [
    "qc.cx(qr[0],qr[1]); qc.cx(qr[1],qr[0]); qc.cx(qr[0],qr[1]); "
   ]
  },
  {
   "cell_type": "code",
   "execution_count": 150,
   "id": "4f0d64f8",
   "metadata": {},
   "outputs": [
    {
     "data": {
      "text/plain": [
       "(<qiskit.circuit.library.standard_gates.x.CXGate at 0x7f7d522ad0d0>,\n",
       " [Qubit(QuantumRegister(2, 'q15'), 0), Qubit(QuantumRegister(2, 'q15'), 1)],\n",
       " [])"
      ]
     },
     "execution_count": 150,
     "metadata": {},
     "output_type": "execute_result"
    }
   ],
   "source": [
    "data = qc.data; data.pop(5)"
   ]
  },
  {
   "cell_type": "code",
   "execution_count": 154,
   "id": "56dea6a6",
   "metadata": {},
   "outputs": [
    {
     "data": {
      "text/html": [
       "<pre style=\"word-wrap: normal;white-space: pre;background: #fff0;line-height: 1.1;font-family: &quot;Courier New&quot;,Courier,monospace\">                  ░      ┌───┐     \n",
       "q16_0: ───────────░───■──┤ X ├──■──\n",
       "       ┌───┐┌───┐ ░ ┌─┴─┐└─┬─┘┌─┴─┐\n",
       "q16_1: ┤ H ├┤ S ├─░─┤ X ├──■──┤ X ├\n",
       "       └───┘└───┘ ░ └───┘     └───┘</pre>"
      ],
      "text/plain": [
       "                  ░      ┌───┐     \n",
       "q16_0: ───────────░───■──┤ X ├──■──\n",
       "       ┌───┐┌───┐ ░ ┌─┴─┐└─┬─┘┌─┴─┐\n",
       "q16_1: ┤ H ├┤ S ├─░─┤ X ├──■──┤ X ├\n",
       "       └───┘└───┘ ░ └───┘     └───┘"
      ]
     },
     "execution_count": 154,
     "metadata": {},
     "output_type": "execute_result"
    }
   ],
   "source": [
    "qc.draw()"
   ]
  },
  {
   "cell_type": "code",
   "execution_count": 91,
   "id": "7539f8cc",
   "metadata": {},
   "outputs": [
    {
     "name": "stdout",
     "output_type": "stream",
     "text": [
      "61841d516e4da2c4c09b5bad\n",
      "Job Status: job has successfully run\n"
     ]
    }
   ],
   "source": [
    "qstc = state_tomography_circuits(qc, [qr[0],qr[1]]); # circuito para TEQ\n",
    "job = qiskit.execute(qstc, backend = device, shots = nshots)\n",
    "print(job.job_id()); job_monitor(job)"
   ]
  },
  {
   "cell_type": "code",
   "execution_count": 92,
   "id": "7899b295",
   "metadata": {},
   "outputs": [
    {
     "data": {
      "text/plain": [
       "array([[0.51277093+0.j       , 0.0100801 -0.4409531j],\n",
       "       [0.0100801 +0.4409531j, 0.48722907+0.j       ]])"
      ]
     },
     "execution_count": 92,
     "metadata": {},
     "output_type": "execute_result"
    }
   ],
   "source": [
    "qstf = StateTomographyFitter(job.result(), qstc) # ajusta os dados\n",
    "rhoBA = qstf.fit(method='lstsq'); # extrai o operador densidade\n",
    "rhoA = pTraceL_num(2, 2, rhoBA); rhoA"
   ]
  },
  {
   "cell_type": "code",
   "execution_count": 93,
   "id": "5bd53488",
   "metadata": {},
   "outputs": [
    {
     "data": {
      "text/plain": [
       "array([[0.93142851+0.j       , 0.03019276-0.0574553j],\n",
       "       [0.03019276+0.0574553j, 0.06857149+0.j       ]])"
      ]
     },
     "execution_count": 93,
     "metadata": {},
     "output_type": "execute_result"
    }
   ],
   "source": [
    "rhoB = pTraceR_num(2, 2, rhoBA); rhoB"
   ]
  },
  {
   "cell_type": "markdown",
   "id": "ea8e662f",
   "metadata": {},
   "source": [
    "### Exercício \n",
    "Simule e execute a troca de estados para o estado de 2 qubits preparado sendo\n",
    "$$|\\Psi\\rangle = \\cos(\\theta/2)\\cos(\\phi/2)|00\\rangle + \\cos(\\theta/2)\\sin(\\phi/2)|01\\rangle + \\sin(\\theta/2)\\cos(\\phi/2)|11\\rangle  + \\sin(\\theta/2)\\sin(\\phi/2)|10\\rangle.$$\n",
    "Faça o circuito para preparar este estado geral. Para a simulação e execução use \n",
    "$$\\theta=\\pi/3 \\text{ e } \\phi = \\pi/4.$$\n",
    "As contas abaixo, que usei pra formular este exercício, podem lhe ajudar a preceber como montar o circuito quântico."
   ]
  },
  {
   "cell_type": "code",
   "execution_count": 29,
   "id": "f38fe9ea",
   "metadata": {},
   "outputs": [
    {
     "data": {
      "image/png": "[encoded data removed]",
      "text/latex": [
       "$\\displaystyle \\left[\\begin{matrix}\\cos{\\left(\\frac{\\theta}{2} \\right)}\\\\\\sin{\\left(\\frac{\\theta}{2} \\right)}\\end{matrix}\\right]$"
      ],
      "text/plain": [
       "⎡   ⎛θ⎞⎤\n",
       "⎢cos⎜─⎟⎥\n",
       "⎢   ⎝2⎠⎥\n",
       "⎢      ⎥\n",
       "⎢   ⎛θ⎞⎥\n",
       "⎢sin⎜─⎟⎥\n",
       "⎣   ⎝2⎠⎦"
      ]
     },
     "execution_count": 29,
     "metadata": {},
     "output_type": "execute_result"
    }
   ],
   "source": [
    "def psi(th):\n",
    "    return cos(th/2)*cb(2,0) + sin(th/2)*cb(2,1)\n",
    "th, ph = symbols('theta phi'); psi(th)"
   ]
  },
  {
   "cell_type": "code",
   "execution_count": 31,
   "id": "3ab392f1",
   "metadata": {},
   "outputs": [
    {
     "data": {
      "image/png": "[encoded data removed]",
      "text/latex": [
       "$\\displaystyle \\left[\\begin{matrix}\\cos{\\left(\\frac{\\phi}{2} \\right)} \\cos{\\left(\\frac{\\theta}{2} \\right)}\\\\\\sin{\\left(\\frac{\\phi}{2} \\right)} \\cos{\\left(\\frac{\\theta}{2} \\right)}\\\\\\sin{\\left(\\frac{\\phi}{2} \\right)} \\sin{\\left(\\frac{\\theta}{2} \\right)}\\\\\\sin{\\left(\\frac{\\theta}{2} \\right)} \\cos{\\left(\\frac{\\phi}{2} \\right)}\\end{matrix}\\right]$"
      ],
      "text/plain": [
       "⎡   ⎛φ⎞    ⎛θ⎞⎤\n",
       "⎢cos⎜─⎟⋅cos⎜─⎟⎥\n",
       "⎢   ⎝2⎠    ⎝2⎠⎥\n",
       "⎢             ⎥\n",
       "⎢   ⎛φ⎞    ⎛θ⎞⎥\n",
       "⎢sin⎜─⎟⋅cos⎜─⎟⎥\n",
       "⎢   ⎝2⎠    ⎝2⎠⎥\n",
       "⎢             ⎥\n",
       "⎢   ⎛φ⎞    ⎛θ⎞⎥\n",
       "⎢sin⎜─⎟⋅sin⎜─⎟⎥\n",
       "⎢   ⎝2⎠    ⎝2⎠⎥\n",
       "⎢             ⎥\n",
       "⎢   ⎛θ⎞    ⎛φ⎞⎥\n",
       "⎢sin⎜─⎟⋅cos⎜─⎟⎥\n",
       "⎣   ⎝2⎠    ⎝2⎠⎦"
      ]
     },
     "execution_count": 31,
     "metadata": {},
     "output_type": "execute_result"
    }
   ],
   "source": [
    "def Psi(th,ph):\n",
    "    return CX_ab*tp(psi(th),psi(ph))\n",
    "th, ph = symbols('theta phi'); Psi(th,ph)"
   ]
  },
  {
   "cell_type": "code",
   "execution_count": 32,
   "id": "3dca71d9",
   "metadata": {},
   "outputs": [
    {
     "data": {
      "image/png": "[encoded data removed]",
      "text/latex": [
       "$\\displaystyle \\left[\\begin{matrix}0.800103145191266\\\\0.331413574035592\\\\0.191341716182545\\\\0.461939766255643\\end{matrix}\\right]$"
      ],
      "text/plain": [
       "⎡0.800103145191266⎤\n",
       "⎢                 ⎥\n",
       "⎢0.331413574035592⎥\n",
       "⎢                 ⎥\n",
       "⎢0.191341716182545⎥\n",
       "⎢                 ⎥\n",
       "⎣0.461939766255643⎦"
      ]
     },
     "execution_count": 32,
     "metadata": {},
     "output_type": "execute_result"
    }
   ],
   "source": [
    "th, ph = math.pi/3, math.pi/4; Psi(th,ph)"
   ]
  },
  {
   "cell_type": "code",
   "execution_count": 33,
   "id": "007b02df",
   "metadata": {},
   "outputs": [
    {
     "data": {
      "image/png": "[encoded data removed]",
      "text/latex": [
       "$\\displaystyle \\left[\\begin{matrix}\\cos{\\left(\\frac{\\theta}{2} \\right)} \\cos{\\left(\\frac{\\phi}{2} - \\frac{\\overline{\\phi}}{2} \\right)} \\cos{\\left(\\frac{\\overline{\\theta}}{2} \\right)} & \\sin{\\left(\\frac{\\phi}{2} + \\frac{\\overline{\\phi}}{2} \\right)} \\sin{\\left(\\frac{\\overline{\\theta}}{2} \\right)} \\cos{\\left(\\frac{\\theta}{2} \\right)}\\\\\\sin{\\left(\\frac{\\theta}{2} \\right)} \\sin{\\left(\\frac{\\phi}{2} + \\frac{\\overline{\\phi}}{2} \\right)} \\cos{\\left(\\frac{\\overline{\\theta}}{2} \\right)} & \\sin{\\left(\\frac{\\theta}{2} \\right)} \\sin{\\left(\\frac{\\overline{\\theta}}{2} \\right)} \\cos{\\left(\\frac{\\phi}{2} - \\frac{\\overline{\\phi}}{2} \\right)}\\end{matrix}\\right]$"
      ],
      "text/plain": [
       "⎡          ⎛    _⎞    ⎛_⎞     ⎛    _⎞    ⎛_⎞       ⎤\n",
       "⎢   ⎛θ⎞    ⎜φ   φ⎟    ⎜θ⎟     ⎜φ   φ⎟    ⎜θ⎟    ⎛θ⎞⎥\n",
       "⎢cos⎜─⎟⋅cos⎜─ - ─⎟⋅cos⎜─⎟  sin⎜─ + ─⎟⋅sin⎜─⎟⋅cos⎜─⎟⎥\n",
       "⎢   ⎝2⎠    ⎝2   2⎠    ⎝2⎠     ⎝2   2⎠    ⎝2⎠    ⎝2⎠⎥\n",
       "⎢                                                  ⎥\n",
       "⎢          ⎛    _⎞    ⎛_⎞            ⎛_⎞    ⎛    _⎞⎥\n",
       "⎢   ⎛θ⎞    ⎜φ   φ⎟    ⎜θ⎟     ⎛θ⎞    ⎜θ⎟    ⎜φ   φ⎟⎥\n",
       "⎢sin⎜─⎟⋅sin⎜─ + ─⎟⋅cos⎜─⎟  sin⎜─⎟⋅sin⎜─⎟⋅cos⎜─ - ─⎟⎥\n",
       "⎣   ⎝2⎠    ⎝2   2⎠    ⎝2⎠     ⎝2⎠    ⎝2⎠    ⎝2   2⎠⎦"
      ]
     },
     "execution_count": 33,
     "metadata": {},
     "output_type": "execute_result"
    }
   ],
   "source": [
    "def rhoA(th,ph):\n",
    "    return ptraceB(2, 2, proj(Psi(th,ph)))\n",
    "th, ph = symbols('theta phi'); simplify(rhoA(th,ph))"
   ]
  },
  {
   "cell_type": "code",
   "execution_count": 34,
   "id": "6cda8955",
   "metadata": {},
   "outputs": [
    {
     "data": {
      "image/png": "[encoded data removed]",
      "text/latex": [
       "$\\displaystyle \\left[\\begin{matrix}0.75 & 0.306186217847897\\\\0.306186217847897 & 0.25\\end{matrix}\\right]$"
      ],
      "text/plain": [
       "⎡      0.75         0.306186217847897⎤\n",
       "⎢                                    ⎥\n",
       "⎣0.306186217847897        0.25       ⎦"
      ]
     },
     "execution_count": 34,
     "metadata": {},
     "output_type": "execute_result"
    }
   ],
   "source": [
    "th, ph = math.pi/3, math.pi/4; simplify(rhoA(th,ph))"
   ]
  },
  {
   "cell_type": "code",
   "execution_count": 41,
   "id": "fe31d7aa",
   "metadata": {},
   "outputs": [
    {
     "data": {
      "image/png": "[encoded data removed]",
      "text/latex": [
       "$\\displaystyle \\left\\{ 0.104715292478953 : 1, \\  0.895284707521047 : 1\\right\\}$"
      ],
      "text/plain": [
       "{0.104715292478953: 1, 0.895284707521047: 1}"
      ]
     },
     "execution_count": 41,
     "metadata": {},
     "output_type": "execute_result"
    }
   ],
   "source": [
    "rhoa = rhoA(th,ph); rhoa.eigenvals()"
   ]
  },
  {
   "cell_type": "code",
   "execution_count": 35,
   "id": "037f3712",
   "metadata": {},
   "outputs": [
    {
     "data": {
      "image/png": "[encoded data removed]",
      "text/latex": [
       "$\\displaystyle \\left[\\begin{matrix}\\sin{\\left(\\frac{\\phi}{2} \\right)} \\sin{\\left(\\frac{\\theta}{2} \\right)} \\sin{\\left(\\frac{\\overline{\\phi}}{2} \\right)} \\sin{\\left(\\frac{\\overline{\\theta}}{2} \\right)} + \\cos{\\left(\\frac{\\phi}{2} \\right)} \\cos{\\left(\\frac{\\theta}{2} \\right)} \\cos{\\left(\\frac{\\overline{\\phi}}{2} \\right)} \\cos{\\left(\\frac{\\overline{\\theta}}{2} \\right)} & \\sin{\\left(\\frac{\\phi}{2} \\right)} \\sin{\\left(\\frac{\\theta}{2} \\right)} \\sin{\\left(\\frac{\\overline{\\theta}}{2} \\right)} \\cos{\\left(\\frac{\\overline{\\phi}}{2} \\right)} + \\sin{\\left(\\frac{\\overline{\\phi}}{2} \\right)} \\cos{\\left(\\frac{\\phi}{2} \\right)} \\cos{\\left(\\frac{\\theta}{2} \\right)} \\cos{\\left(\\frac{\\overline{\\theta}}{2} \\right)}\\\\\\sin{\\left(\\frac{\\phi}{2} \\right)} \\cos{\\left(\\frac{\\theta}{2} \\right)} \\cos{\\left(\\frac{\\overline{\\phi}}{2} \\right)} \\cos{\\left(\\frac{\\overline{\\theta}}{2} \\right)} + \\sin{\\left(\\frac{\\theta}{2} \\right)} \\sin{\\left(\\frac{\\overline{\\phi}}{2} \\right)} \\sin{\\left(\\frac{\\overline{\\theta}}{2} \\right)} \\cos{\\left(\\frac{\\phi}{2} \\right)} & \\sin{\\left(\\frac{\\phi}{2} \\right)} \\sin{\\left(\\frac{\\overline{\\phi}}{2} \\right)} \\cos{\\left(\\frac{\\theta}{2} \\right)} \\cos{\\left(\\frac{\\overline{\\theta}}{2} \\right)} + \\sin{\\left(\\frac{\\theta}{2} \\right)} \\sin{\\left(\\frac{\\overline{\\theta}}{2} \\right)} \\cos{\\left(\\frac{\\phi}{2} \\right)} \\cos{\\left(\\frac{\\overline{\\phi}}{2} \\right)}\\end{matrix}\\right]$"
      ],
      "text/plain": [
       "⎡                 ⎛_⎞    ⎛_⎞                    ⎛_⎞    ⎛_⎞                   ⎛\n",
       "⎢   ⎛φ⎞    ⎛θ⎞    ⎜φ⎟    ⎜θ⎟      ⎛φ⎞    ⎛θ⎞    ⎜φ⎟    ⎜θ⎟     ⎛φ⎞    ⎛θ⎞    ⎜\n",
       "⎢sin⎜─⎟⋅sin⎜─⎟⋅sin⎜─⎟⋅sin⎜─⎟ + cos⎜─⎟⋅cos⎜─⎟⋅cos⎜─⎟⋅cos⎜─⎟  sin⎜─⎟⋅sin⎜─⎟⋅sin⎜\n",
       "⎢   ⎝2⎠    ⎝2⎠    ⎝2⎠    ⎝2⎠      ⎝2⎠    ⎝2⎠    ⎝2⎠    ⎝2⎠     ⎝2⎠    ⎝2⎠    ⎝\n",
       "⎢                                                                             \n",
       "⎢                 ⎛_⎞    ⎛_⎞             ⎛_⎞    ⎛_⎞                   ⎛_⎞     \n",
       "⎢   ⎛φ⎞    ⎛θ⎞    ⎜φ⎟    ⎜θ⎟      ⎛θ⎞    ⎜φ⎟    ⎜θ⎟    ⎛φ⎞     ⎛φ⎞    ⎜φ⎟    ⎛\n",
       "⎢sin⎜─⎟⋅cos⎜─⎟⋅cos⎜─⎟⋅cos⎜─⎟ + sin⎜─⎟⋅sin⎜─⎟⋅sin⎜─⎟⋅cos⎜─⎟  sin⎜─⎟⋅sin⎜─⎟⋅cos⎜\n",
       "⎣   ⎝2⎠    ⎝2⎠    ⎝2⎠    ⎝2⎠      ⎝2⎠    ⎝2⎠    ⎝2⎠    ⎝2⎠     ⎝2⎠    ⎝2⎠    ⎝\n",
       "\n",
       "_⎞    ⎛_⎞      ⎛_⎞                  ⎛_⎞⎤\n",
       "θ⎟    ⎜φ⎟      ⎜φ⎟    ⎛φ⎞    ⎛θ⎞    ⎜θ⎟⎥\n",
       "─⎟⋅cos⎜─⎟ + sin⎜─⎟⋅cos⎜─⎟⋅cos⎜─⎟⋅cos⎜─⎟⎥\n",
       "2⎠    ⎝2⎠      ⎝2⎠    ⎝2⎠    ⎝2⎠    ⎝2⎠⎥\n",
       "                                       ⎥\n",
       "      ⎛_⎞             ⎛_⎞           ⎛_⎞⎥\n",
       "θ⎞    ⎜θ⎟      ⎛θ⎞    ⎜θ⎟    ⎛φ⎞    ⎜φ⎟⎥\n",
       "─⎟⋅cos⎜─⎟ + sin⎜─⎟⋅sin⎜─⎟⋅cos⎜─⎟⋅cos⎜─⎟⎥\n",
       "2⎠    ⎝2⎠      ⎝2⎠    ⎝2⎠    ⎝2⎠    ⎝2⎠⎦"
      ]
     },
     "execution_count": 35,
     "metadata": {},
     "output_type": "execute_result"
    }
   ],
   "source": [
    "def rhoB(th,ph):\n",
    "    return ptraceA(2, 2, proj(Psi(th,ph)))\n",
    "th, ph = symbols('theta phi'); simplify(rhoB(th,ph))"
   ]
  },
  {
   "cell_type": "code",
   "execution_count": 36,
   "id": "fc2c8c3b",
   "metadata": {},
   "outputs": [
    {
     "data": {
      "image/png": "[encoded data removed]",
      "text/latex": [
       "$\\displaystyle \\left[\\begin{matrix}0.676776695296637 & 0.353553390593274\\\\0.353553390593274 & 0.323223304703363\\end{matrix}\\right]$"
      ],
      "text/plain": [
       "⎡0.676776695296637  0.353553390593274⎤\n",
       "⎢                                    ⎥\n",
       "⎣0.353553390593274  0.323223304703363⎦"
      ]
     },
     "execution_count": 36,
     "metadata": {},
     "output_type": "execute_result"
    }
   ],
   "source": [
    "th, ph = math.pi/3, math.pi/4; simplify(rhoB(th,ph))"
   ]
  },
  {
   "cell_type": "code",
   "execution_count": 40,
   "id": "c2e5c2ac",
   "metadata": {},
   "outputs": [
    {
     "data": {
      "image/png": "[encoded data removed]",
      "text/latex": [
       "$\\displaystyle \\left\\{ 0.104715292478953 : 1, \\  0.895284707521047 : 1\\right\\}$"
      ],
      "text/plain": [
       "{0.104715292478953: 1, 0.895284707521047: 1}"
      ]
     },
     "execution_count": 40,
     "metadata": {},
     "output_type": "execute_result"
    }
   ],
   "source": [
    "rhob = rhoB(th,ph); rhob.eigenvals()"
   ]
  },
  {
   "cell_type": "markdown",
   "id": "71afba7a",
   "metadata": {},
   "source": [
    "#### preparação"
   ]
  },
  {
   "cell_type": "code",
   "execution_count": 155,
   "id": "cf153720",
   "metadata": {},
   "outputs": [],
   "source": [
    "qr = QuantumRegister(2); qc = QuantumCircuit(qr)"
   ]
  },
  {
   "cell_type": "code",
   "execution_count": 156,
   "id": "883b5d71",
   "metadata": {},
   "outputs": [],
   "source": [
    "th = math.pi/3; ph = math.pi/4\n",
    "qc.u(th,0,0,qr[0]); qc.u(ph,0,0,qr[1]); qc.cx(qr[0],qr[1]); qc.barrier();"
   ]
  },
  {
   "cell_type": "code",
   "execution_count": 157,
   "id": "f1e74a55",
   "metadata": {},
   "outputs": [
    {
     "data": {
      "text/html": [
       "<pre style=\"word-wrap: normal;white-space: pre;background: #fff0;line-height: 1.1;font-family: &quot;Courier New&quot;,Courier,monospace\">       ┌────────────┐      ░ \n",
       "q17_0: ┤ U(π/3,0,0) ├──■───░─\n",
       "       ├────────────┤┌─┴─┐ ░ \n",
       "q17_1: ┤ U(π/4,0,0) ├┤ X ├─░─\n",
       "       └────────────┘└───┘ ░ </pre>"
      ],
      "text/plain": [
       "       ┌────────────┐      ░ \n",
       "q17_0: ┤ U(π/3,0,0) ├──■───░─\n",
       "       ├────────────┤┌─┴─┐ ░ \n",
       "q17_1: ┤ U(π/4,0,0) ├┤ X ├─░─\n",
       "       └────────────┘└───┘ ░ "
      ]
     },
     "execution_count": 157,
     "metadata": {},
     "output_type": "execute_result"
    }
   ],
   "source": [
    "qc.draw()"
   ]
  },
  {
   "cell_type": "code",
   "execution_count": 118,
   "id": "1df43995",
   "metadata": {},
   "outputs": [
    {
     "data": {
      "text/plain": [
       "(<qiskit.circuit.library.standard_gates.u.UGate at 0x7f7d5226be80>,\n",
       " [Qubit(QuantumRegister(2, 'q9'), 1)],\n",
       " [])"
      ]
     },
     "execution_count": 118,
     "metadata": {},
     "output_type": "execute_result"
    }
   ],
   "source": [
    "data = qc.data; data.pop(1);"
   ]
  },
  {
   "cell_type": "markdown",
   "id": "45c2f341",
   "metadata": {},
   "source": [
    "##### simulação"
   ]
  },
  {
   "cell_type": "code",
   "execution_count": 130,
   "id": "8930ba57",
   "metadata": {},
   "outputs": [],
   "source": [
    "qstc = state_tomography_circuits(qc, [qr[0],qr[1]]); # circuito para TEQ\n",
    "job = qiskit.execute(qstc, Aer.get_backend('qasm_simulator'), shots=nshots) # executa no simulador\n",
    "qstf = StateTomographyFitter(job.result(), qstc) # ajusta os dados\n",
    "rhoBA = qstf.fit(method='lstsq'); # extrai o operador densidade"
   ]
  },
  {
   "cell_type": "code",
   "execution_count": 131,
   "id": "52644318",
   "metadata": {},
   "outputs": [
    {
     "data": {
      "text/plain": [
       "array([[0.74863109+0.j        , 0.30284415-0.00066973j],\n",
       "       [0.30284415+0.00066973j, 0.25136891+0.j        ]])"
      ]
     },
     "execution_count": 131,
     "metadata": {},
     "output_type": "execute_result"
    }
   ],
   "source": [
    "rhoA = pTraceL_num(2, 2, rhoBA); rhoA"
   ]
  },
  {
   "cell_type": "code",
   "execution_count": 132,
   "id": "a17d8cd2",
   "metadata": {},
   "outputs": [
    {
     "data": {
      "text/plain": [
       "array([[0.67607346+0.j        , 0.34993063+0.00195568j],\n",
       "       [0.34993063-0.00195568j, 0.32392654+0.j        ]])"
      ]
     },
     "execution_count": 132,
     "metadata": {},
     "output_type": "execute_result"
    }
   ],
   "source": [
    "rhoB = pTraceR_num(2, 2, rhoBA); rhoB"
   ]
  },
  {
   "cell_type": "markdown",
   "id": "e68bb7e6",
   "metadata": {},
   "source": [
    "##### experimento"
   ]
  },
  {
   "cell_type": "code",
   "execution_count": 133,
   "id": "eab9ed57",
   "metadata": {},
   "outputs": [
    {
     "name": "stdout",
     "output_type": "stream",
     "text": [
      "6184249ba248d57c6890d805\n",
      "Job Status: job has successfully run\n"
     ]
    }
   ],
   "source": [
    "qstc = state_tomography_circuits(qc, [qr[0],qr[1]]); # circuito para TEQ\n",
    "job = qiskit.execute(qstc, backend = device, shots = nshots)\n",
    "print(job.job_id()); job_monitor(job)"
   ]
  },
  {
   "cell_type": "code",
   "execution_count": 159,
   "id": "bc2fc199",
   "metadata": {},
   "outputs": [
    {
     "data": {
      "text/plain": [
       "array([[0.74863109+0.j        , 0.30284415-0.00066973j],\n",
       "       [0.30284415+0.00066973j, 0.25136891+0.j        ]])"
      ]
     },
     "execution_count": 159,
     "metadata": {},
     "output_type": "execute_result"
    }
   ],
   "source": [
    "rhoA = pTraceL_num(2, 2, rhoBA); rhoA"
   ]
  },
  {
   "cell_type": "code",
   "execution_count": 160,
   "id": "dd71d9fb",
   "metadata": {},
   "outputs": [
    {
     "data": {
      "text/plain": [
       "array([[0.67607346+0.j        , 0.34993063+0.00195568j],\n",
       "       [0.34993063-0.00195568j, 0.32392654+0.j        ]])"
      ]
     },
     "execution_count": 160,
     "metadata": {},
     "output_type": "execute_result"
    }
   ],
   "source": [
    "rhoB = pTraceR_num(2, 2, rhoBA); rhoB"
   ]
  },
  {
   "cell_type": "markdown",
   "id": "beaa0ac9",
   "metadata": {},
   "source": [
    "#### troca de estados"
   ]
  },
  {
   "cell_type": "code",
   "execution_count": 158,
   "id": "3381de7f",
   "metadata": {},
   "outputs": [
    {
     "data": {
      "text/html": [
       "<pre style=\"word-wrap: normal;white-space: pre;background: #fff0;line-height: 1.1;font-family: &quot;Courier New&quot;,Courier,monospace\">       ┌────────────┐      ░ ┌───┐     ┌───┐\n",
       "q17_0: ┤ U(π/3,0,0) ├──■───░─┤ X ├──■──┤ X ├\n",
       "       ├────────────┤┌─┴─┐ ░ └─┬─┘┌─┴─┐└─┬─┘\n",
       "q17_1: ┤ U(π/4,0,0) ├┤ X ├─░───■──┤ X ├──■──\n",
       "       └────────────┘└───┘ ░      └───┘     </pre>"
      ],
      "text/plain": [
       "       ┌────────────┐      ░ ┌───┐     ┌───┐\n",
       "q17_0: ┤ U(π/3,0,0) ├──■───░─┤ X ├──■──┤ X ├\n",
       "       ├────────────┤┌─┴─┐ ░ └─┬─┘┌─┴─┐└─┬─┘\n",
       "q17_1: ┤ U(π/4,0,0) ├┤ X ├─░───■──┤ X ├──■──\n",
       "       └────────────┘└───┘ ░      └───┘     "
      ]
     },
     "execution_count": 158,
     "metadata": {},
     "output_type": "execute_result"
    }
   ],
   "source": [
    "qc.cx(qr[1],qr[0]); qc.cx(qr[0],qr[1]); qc.cx(qr[1],qr[0])\n",
    "qc.draw()"
   ]
  },
  {
   "cell_type": "markdown",
   "id": "f42dd97e",
   "metadata": {},
   "source": [
    "#### simulação"
   ]
  },
  {
   "cell_type": "code",
   "execution_count": 161,
   "id": "34e52f99",
   "metadata": {},
   "outputs": [],
   "source": [
    "qstc = state_tomography_circuits(qc, [qr[0],qr[1]]); # circuito para TEQ\n",
    "job = qiskit.execute(qstc, Aer.get_backend('qasm_simulator'), shots=nshots) # executa no simulador\n",
    "qstf = StateTomographyFitter(job.result(), qstc) # ajusta os dados\n",
    "rhoBA = qstf.fit(method='lstsq'); # extrai o operador densidade"
   ]
  },
  {
   "cell_type": "code",
   "execution_count": 162,
   "id": "de6eb593",
   "metadata": {},
   "outputs": [
    {
     "data": {
      "text/plain": [
       "array([[0.67552911+0.j        , 0.35113749+0.00340661j],\n",
       "       [0.35113749-0.00340661j, 0.32447089+0.j        ]])"
      ]
     },
     "execution_count": 162,
     "metadata": {},
     "output_type": "execute_result"
    }
   ],
   "source": [
    "rhoA = pTraceL_num(2, 2, rhoBA); rhoA"
   ]
  },
  {
   "cell_type": "code",
   "execution_count": 163,
   "id": "44844369",
   "metadata": {},
   "outputs": [
    {
     "data": {
      "text/plain": [
       "array([[0.7480852 +0.j        , 0.30240235-0.00110915j],\n",
       "       [0.30240235+0.00110915j, 0.2519148 +0.j        ]])"
      ]
     },
     "execution_count": 163,
     "metadata": {},
     "output_type": "execute_result"
    }
   ],
   "source": [
    "rhoB = pTraceR_num(2, 2, rhoBA); rhoB"
   ]
  },
  {
   "cell_type": "markdown",
   "id": "77822a59",
   "metadata": {},
   "source": [
    "##### experimento"
   ]
  },
  {
   "cell_type": "code",
   "execution_count": 164,
   "id": "d8570a68",
   "metadata": {},
   "outputs": [
    {
     "name": "stdout",
     "output_type": "stream",
     "text": [
      "61842631d0f1dd2c89e9ce3b\n",
      "Job Status: job has successfully run\n"
     ]
    }
   ],
   "source": [
    "qstc = state_tomography_circuits(qc, [qr[0],qr[1]]); # circuito para TEQ\n",
    "job = qiskit.execute(qstc, backend = device, shots = nshots)\n",
    "print(job.job_id()); job_monitor(job)"
   ]
  },
  {
   "cell_type": "code",
   "execution_count": 165,
   "id": "715653d2",
   "metadata": {},
   "outputs": [
    {
     "data": {
      "text/plain": [
       "array([[0.67552911+0.j        , 0.35113749+0.00340661j],\n",
       "       [0.35113749-0.00340661j, 0.32447089+0.j        ]])"
      ]
     },
     "execution_count": 165,
     "metadata": {},
     "output_type": "execute_result"
    }
   ],
   "source": [
    "rhoA = pTraceL_num(2, 2, rhoBA); rhoA"
   ]
  },
  {
   "cell_type": "code",
   "execution_count": 166,
   "id": "d74c7b76",
   "metadata": {},
   "outputs": [
    {
     "data": {
      "text/plain": [
       "array([[0.7480852 +0.j        , 0.30240235-0.00110915j],\n",
       "       [0.30240235+0.00110915j, 0.2519148 +0.j        ]])"
      ]
     },
     "execution_count": 166,
     "metadata": {},
     "output_type": "execute_result"
    }
   ],
   "source": [
    "rhoB = pTraceR_num(2, 2, rhoBA); rhoB"
   ]
  },
  {
   "cell_type": "code",
   "execution_count": null,
   "id": "0e3c2758",
   "metadata": {},
   "outputs": [],
   "source": []
  }
 ],
 "metadata": {
  "kernelspec": {
   "display_name": "Python 3 (ipykernel)",
   "language": "python",
   "name": "python3"
  },
  "language_info": {
   "codemirror_mode": {
    "name": "ipython",
    "version": 3
   },
   "file_extension": ".py",
   "mimetype": "text/x-python",
   "name": "python",
   "nbconvert_exporter": "python",
   "pygments_lexer": "ipython3",
   "version": "3.9.13"
  }
 },
 "nbformat": 4,
 "nbformat_minor": 5
}
