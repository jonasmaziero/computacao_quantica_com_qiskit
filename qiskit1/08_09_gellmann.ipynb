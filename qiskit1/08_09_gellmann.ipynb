{
 "cells": [
  {
   "cell_type": "code",
   "execution_count": 26,
   "metadata": {},
   "outputs": [],
   "source": [
    "%run init.ipynb"
   ]
  },
  {
   "cell_type": "markdown",
   "metadata": {},
   "source": [
    "### Notas de aula de Computação Quântica <br> Autor: Jonas Maziero"
   ]
  },
  {
   "cell_type": "markdown",
   "metadata": {},
   "source": [
    "# Generalized Gell-Mann matrices\n",
    "A matriz identidade e as matrizes generalizadas de Gell-Mann formam uma base para $\\mathbb{C}^{d\\text{x}d}$ e são dadas por (https://arxiv.org/abs/1603.05284):\n",
    "\\begin{align}\n",
    "& \\Gamma_{j}^{d} = \\sqrt{\\frac{2}{j(j+1)}}\\sum_{k=1}^{j+1}(-1)^{\\delta_{k,j+1}}|k\\rangle\\langle k|\\text{, } j=1,\\cdots,d-1, \\\\\n",
    "& \\Gamma_{k,l}^{s} = |k\\rangle\\langle l|+|l\\rangle\\langle k|\\text{, }1\\le k<l\\le d, \\\\\n",
    "& \\Gamma_{k,l}^{a} = -i(|k\\rangle\\langle l|-|l\\rangle\\langle k|)\\text{, }1\\le k<l\\le d.\n",
    "\\end{align}\n",
    "Remark. The last two groups have $d(d-1)/2$ generators each. One can verify that for these matrices:\n",
    "\\begin{align}\n",
    "& \\mathrm{Tr}(\\Gamma_{g}) = 0\\text{, traceless} \\\\\n",
    "& \\Gamma_{g}=\\Gamma_{g}^{\\dagger}\\text{, Hermitian} \\\\\n",
    "& \\mathrm{Tr}(\\Gamma_{g}\\Gamma_{g'}) = 2\\delta_{gg'}\\text{, can be made orthonormal.}\n",
    "\\end{align}\n",
    "\n",
    "Orthonormal GGM basis\n",
    "\\begin{equation}\n",
    "\\left\\{\\frac{\\Gamma_{0}}{\\sqrt{d}},\\frac{\\Gamma_{j}^{d}}{\\sqrt{2}},\\frac{\\Gamma_{k,l}^{s}}{\\sqrt{2}},\\frac{\\Gamma_{k,l}^{a}}{\\sqrt{2}}\\right\\},\n",
    "\\end{equation}\n",
    "with $1\\le j < d-1$ and $1\\le k<l\\le d$."
   ]
  },
  {
   "cell_type": "code",
   "execution_count": 9,
   "metadata": {},
   "outputs": [],
   "source": [
    "def gell_mann(d, g, j, k):\n",
    "    gm = np.zeros((d,d), dtype= complex)\n",
    "    if g == 'i':  # identity\n",
    "        for j in range(0,d):\n",
    "            gm[j,j] = 1\n",
    "    elif g == 'd':  # diagonal\n",
    "        nt = math.sqrt(2/(j*(j+1)))\n",
    "        for m in range(0,j):\n",
    "            gm[m,m] = nt\n",
    "        gm[j,j] = -j*nt\n",
    "    elif g == 's':  # symmetric\n",
    "        gm[j-1,k-1] = 1;  gm[k-1,j-1] = 1\n",
    "    elif g == 'a':  # anti-symmetric\n",
    "        gm[j-1,k-1] = -1j;  gm[k-1,j-1] = 1j\n",
    "    return gm"
   ]
  },
  {
   "cell_type": "code",
   "execution_count": 10,
   "metadata": {},
   "outputs": [
    {
     "data": {
      "text/plain": [
       "(array([[1.+0.j, 0.+0.j],\n",
       "        [0.+0.j, 1.+0.j]]),\n",
       " array([[ 1.+0.j,  0.+0.j],\n",
       "        [ 0.+0.j, -1.+0.j]]),\n",
       " array([[0.+0.j, 1.+0.j],\n",
       "        [1.+0.j, 0.+0.j]]),\n",
       " array([[ 0.+0.j, -0.-1.j],\n",
       "        [ 0.+1.j,  0.+0.j]]))"
      ]
     },
     "execution_count": 10,
     "metadata": {},
     "output_type": "execute_result"
    }
   ],
   "source": [
    "gell_mann(2, 'i', 0, 0), gell_mann(2, 'd', 1, 1), gell_mann(2, 's', 1, 2), gell_mann(2, 'a', 1, 2)"
   ]
  },
  {
   "cell_type": "markdown",
   "metadata": {},
   "source": [
    "# Decomposition of $A\\in\\mathbb{C}^{d\\mathrm{x}d}$ in GGM basis\n",
    "Let's make use of Hilbert-Schmidt inner product,\n",
    "\\begin{equation}\n",
    "\\langle A|B\\rangle := \\mathrm{Tr}(A^{\\dagger}B),\n",
    "\\end{equation}\n",
    "and the $d\\mathrm{x}d$ identity matrix $\\Gamma_{0}^{d}$ to identify the orthonormal basis, the GGMB: \n",
    "\\begin{equation}\n",
    "\\Gamma_{g}:=\\{\\Gamma_{0}^{d}/\\sqrt{d},\\Gamma_{g}/\\sqrt{2}\\}\n",
    "\\end{equation}\n",
    "for $\\mathbb{C}^{d\\mathrm{x}d}$, i.e., $\\mathrm{Tr}(\\Gamma_{g}'\\Gamma_{g'}') = \\delta_{gg'}$, and write\n",
    "\\begin{align}\n",
    "A & = \\sum_{g}c_{g}\\Gamma_{g} = \\sum_{g}\\langle\\Gamma_{g}|A\\rangle\\Gamma_{g} = \\sum_{g}\\mathrm{Tr}(\\Gamma_{g}^{\\dagger}A)\\Gamma_{g} = \\sum_{g}\\mathrm{Tr}(\\Gamma_{g}A)\\Gamma_{g} \\\\\n",
    "& = \\mathrm{Tr}(d^{-1/2}\\Gamma_{0}A)d^{-1/2}\\Gamma_{0} + \\sum_{g}\\mathrm{Tr}(2^{-1/2}\\Gamma_{g}A)2^{-1/2}\\Gamma_{g} \\\\\n",
    "& = d^{-1}\\mathrm{Tr}(A)\\Gamma_{0} + 2^{-1}\\sum_{g}\\mathrm{Tr}(\\Gamma_{g}A)\\Gamma_{g} \\\\\n",
    "& = \\frac{\\mathrm{Tr}(A)}{d}\\Gamma_{0} +  \\sum_{j=1}^{d-1}\\frac{\\mathrm{Tr}(\\Gamma_{j}^{d}A)}{2}\\Gamma_{j}^{d}  + \\sum_{\\substack{k,l\\\\1\\le k<l\\le d}}\\frac{\\mathrm{Tr}(\\Gamma_{(k,l)}^{s}A)}{2}\\Gamma_{(k,l)}^{s}  +  \\sum_{\\substack{k,l\\\\1\\le k<l\\le d}}\\frac{\\mathrm{Tr}(\\Gamma_{(k,l)}^{a}A)}{2}\\Gamma_{(k,l)}^{a} \\\\\n",
    "& = \\frac{\\mathrm{Tr}(A)}{\\sqrt{d}}\\frac{\\Gamma_{0}}{\\sqrt{d}} +  \\sum_{j=1}^{d-1}\\frac{\\mathrm{Tr}(\\Gamma_{j}^{d}A)}{\\sqrt{2}}\\frac{\\Gamma_{j}^{d}}{\\sqrt{2}}  + \\sum_{\\substack{k,l\\\\1\\le k<l\\le d}}\\frac{\\mathrm{Tr}(\\Gamma_{(k,l)}^{s}A)}{\\sqrt{2}}\\frac{\\Gamma_{(k,l)}^{s}}{\\sqrt{2}}  +  \\sum_{\\substack{k,l\\\\1\\le k<l\\le d}}\\frac{\\mathrm{Tr}(\\Gamma_{(k,l)}^{a}A)}{\\sqrt{2}}\\frac{\\Gamma_{(k,l)}^{a}}{\\sqrt{2}}.\n",
    "\\end{align}"
   ]
  },
  {
   "cell_type": "markdown",
   "metadata": {},
   "source": [
    "The coefficients of this decomposition can be obtained from the so called Bloch's vector:\n",
    "\\begin{equation}\n",
    "\\vec{\\beta} = \\left(\\mathrm{Tr}(A),\\{\\mathrm{Tr}(A\\Gamma_{j}^{d})\\},\\{\\mathrm{Tr}(A\\Gamma_{k,l}^{\\tau})\\}\\right), \n",
    "\\end{equation}\n",
    "with $\\tau = s, a$.\n",
    "For the first component we have\n",
    "\\begin{equation}\n",
    "\\mathrm{Tr}(A)=\\sum_{j=1}^{d}A_{jj}.\n",
    "\\end{equation}\n",
    "For the $d-1$ _diagonal_ generators:\n",
    "\\begin{align}\n",
    "\\mathrm{Tr}(\\Gamma_{j}^{d}A) & = \\sqrt{\\frac{2}{j(j+1)}}\\sum_{k=1}^{j+1}(-j)^{\\delta_{k,j+1}}\\mathrm{Tr}(|k\\rangle\\langle k|A) \\\\\n",
    "& = \\sqrt{\\frac{2}{j(j+1)}}\\sum_{k=1}^{j+1}(-j)^{\\delta_{k,j+1}}\\langle k|A|k\\rangle \\\\\n",
    "& = \\sqrt{\\frac{2}{j(j+1)}}\\left(\\sum_{k=1}^{j}A_{k,k} - jA_{j+1,j+1}\\right).\n",
    "\\end{align}\n",
    "\n",
    "For the $d(d-1)/2$  _symmetric_ generators ($1\\le k<l\\le d$):\n",
    "\\begin{align}\n",
    "\\mathrm{Tr}(\\Gamma_{(k,l)}^{s}A) & = \\mathrm{Tr}((|k\\rangle\\langle l|+|l\\rangle\\langle k|)A) \\\\\n",
    "& = A_{l,k} + A_{k,l}.\n",
    "\\end{align}\n",
    "If $A=A^{\\dagger}$ then $\\mathrm{Tr}(\\Gamma_{(k,l)}^{s}A)=A_{l,k} + A_{l,k}^{*}=2\\Re A_{l,k}$.\n",
    "\n",
    "For the $d(d-1)/2$  _anti-symmetric_ generators ($1\\le k<l\\le d$):\n",
    "\\begin{align}\n",
    "\\mathrm{Tr}(\\Gamma_{(k,l)}^{a}A) & = -i\\mathrm{Tr}((|k\\rangle\\langle l|-|l\\rangle\\langle k|)A) \\\\\n",
    "& = -i(A_{l,k} - A_{k,l}).\n",
    "\\end{align}\n",
    "If $A=A^{\\dagger}$ then $\\mathrm{Tr}(\\Gamma_{(k,l)}^{a}A)= -i(A_{l,k} - A_{l,k}^{*})=2\\Im A_{l,k}$."
   ]
  },
  {
   "cell_type": "markdown",
   "metadata": {},
   "source": [
    "The code we provide to compute the Bloch vector assumes the following sequencing for its components:\n",
    "\\begin{align}\n",
    "\\beta_{0} & = \\mathrm{Tr}(A) \\text{, } \\\\\n",
    "\\beta_{j} & = \\mathrm{Tr}(\\Gamma_{j}^{d}A) \\text{ for } j=1,\\cdots,d-1\\text{, } \\\\\n",
    "\\beta_{j} & = \\mathrm{Tr}(\\Gamma_{k,l}^{s}A) \\text{ for } j=d,\\cdots,2^{-1}d(d+1)-1 \\\\\n",
    "\\beta_{j} & = \\mathrm{Tr}(\\Gamma_{k,l}^{a}A) \\text{ for } j=2^{-1}d(d+1),\\cdots,d^{2}-1.\n",
    "\\end{align}\n",
    "For the last two groups, we use the convetion:\n",
    "\\begin{align}\n",
    "& k=1\\text{, }l=2,\\cdots,d, \\\\\n",
    "& k=2\\text{, }l=3,\\cdots,d, \\\\\n",
    "& \\vdots, \\\\\n",
    "& k=d-1\\text{, }l=d\n",
    "\\end{align}\n",
    "as the sequences for $k,l$ when increasing the index $j$.  "
   ]
  },
  {
   "cell_type": "code",
   "execution_count": 17,
   "metadata": {},
   "outputs": [],
   "source": [
    "def bloch_vector(A):\n",
    "    d = A.shape[0]; bv = np.zeros((d**2-1), dtype = complex)\n",
    "    #bv[0] = trace(d,A)\n",
    "    for j in range(1,d):   # diagonal\n",
    "        bv[j-1] = 0\n",
    "        for k in range(1,j+1):\n",
    "            bv[j-1] += A[k-1,k-1]\n",
    "        bv[j-1] -= j*A[j,j]\n",
    "        bv[j-1] *= math.sqrt(2/(j*(j+1)))\n",
    "    for k in range(1,d):  # symmetric\n",
    "        for l in range(k+1,d+1):\n",
    "            j += 1\n",
    "            bv[j-1] = A[l-1,k-1] + A[k-1,l-1]\n",
    "    for k in range(1,d):  # anti-symmetric\n",
    "        for l in range(k+1,d+1):\n",
    "            j += 1\n",
    "            bv[j-1] = -1j*(A[l-1,k-1] - A[k-1,l-1])\n",
    "    return bv.real"
   ]
  },
  {
   "cell_type": "code",
   "execution_count": 18,
   "metadata": {},
   "outputs": [
    {
     "data": {
      "text/plain": [
       "array([0.3, 0.1, 0.2])"
      ]
     },
     "execution_count": 18,
     "metadata": {},
     "output_type": "execute_result"
    }
   ],
   "source": [
    "s0 = np.array([[1,0],[0,1]]); s1 = np.array([[0,1],[1,0]])\n",
    "s2 = np.array([[0,-1j],[1j,0]]); s3 = np.array([[1,0],[0,-1]])\n",
    "A = 0.5*(s0 + 0.1*s1 + 0.2*s2 + 0.3*s3); bloch_vector(A)"
   ]
  },
  {
   "cell_type": "markdown",
   "metadata": {},
   "source": [
    "# Decomposition of $M\\in\\mathbb{C}^{d_{a}\\mathrm{x}d_{a}}\\otimes\\mathbb{C}^{d_{b}\\mathrm{x}d_{b}}$ in local GGMB\n",
    "Now the orthonormal basis is the tensor product of the local basis:\n",
    "\\begin{align}\n",
    "& \\frac{\\mathbb{I}_{d_{a}}}{\\sqrt{d_{a}}}\\otimes\\frac{\\mathbb{I}_{d_{b}}}{\\sqrt{d_{b}}},\n",
    "\\frac{\\mathbb{I}_{d_{a}}}{\\sqrt{d_{a}}}\\otimes\\left\\{\\frac{\\Gamma_{j}^{d}}{\\sqrt{2}}\\right\\}_{j},\n",
    "\\left\\{\\frac{\\Gamma_{j}^{d}}{\\sqrt{2}}\\right\\}_{j}\\otimes \\frac{\\mathbb{I}_{d_{b}}}{\\sqrt{d_{b}}},\n",
    "\\left\\{\\frac{\\Gamma_{j}^{d}}{\\sqrt{2}}\\right\\}_{j}\\otimes\\left\\{\\frac{\\Gamma_{k}^{d}}{\\sqrt{2}}\\right\\}_{k}, \\\\\n",
    "& \\frac{\\mathbb{I}_{d_{a}}}{\\sqrt{d_{a}}}\\otimes\\left\\{\\frac{\\Gamma_{k,l}^{g}}{\\sqrt{2}}\\right\\}_{k,l,g},\n",
    "\\left\\{\\frac{\\Gamma_{k,l}^{g}}{\\sqrt{2}}\\right\\}_{k,l,g}\\otimes\\frac{\\mathbb{I}_{d_{b}}}{\\sqrt{d_{b}}}, \\\\\n",
    "& \\left\\{\\frac{\\Gamma_{j}^{d}}{\\sqrt{2}}\\right\\}_{j}\\otimes\\left\\{\\frac{\\Gamma_{k,l}^{g}}{\\sqrt{2}}\\right\\}_{k,l,g},\n",
    "\\left\\{\\frac{\\Gamma_{k,l}^{g}}{\\sqrt{2}}\\right\\}_{k,l,g}\\otimes\\left\\{\\frac{\\Gamma_{j}^{d}}{\\sqrt{2}}\\right\\}_{j}, \\\\\n",
    "& \\left\\{\\frac{\\Gamma_{k,l}^{g}}{\\sqrt{2}}\\right\\}_{k,l,g}\\otimes\\left\\{\\frac{\\Gamma_{m,n}^{h}}{\\sqrt{2}}\\right\\}_{m,n,h},\n",
    "\\end{align}\n",
    "where $g,h=s,a$."
   ]
  },
  {
   "cell_type": "markdown",
   "metadata": {},
   "source": [
    "Now\n",
    "\\begin{align}\n",
    "M = & \\frac{\\mathrm{Tr}(M)}{\\sqrt{d_{a}d_{b}}}\\frac{\\mathbb{I}_{d_{a}}}{\\sqrt{d_{a}}}\\otimes\\frac{\\mathbb{I}_{d_{b}}}{\\sqrt{d_{b}}} +\n",
    "\\sum_{j}\\frac{\\mathrm{Tr}(\\mathbb{I}_{d_{a}}\\otimes\\Gamma_{j}^{d}M)}{\\sqrt{d_{a}2}}\\frac{\\mathbb{I}_{d_{a}}}{\\sqrt{d_{a}}}\\otimes\\frac{\\Gamma_{j}^{d}}{\\sqrt{2}} +\n",
    "\\sum_{j}\\frac{\\mathrm{Tr}(\\Gamma_{j}^{d}\\otimes\\mathbb{I}_{d_{b}}M)}{\\sqrt{2d_{b}}}\\frac{\\Gamma_{j}^{d}}{\\sqrt{2}}\\otimes\\frac{\\mathbb{I}_{d_{b}}}{\\sqrt{d_{b}}} \\\\\n",
    "& +\\sum_{k,l,g}\\frac{\\mathrm{Tr}(\\mathbb{I}_{d_{a}}\\otimes\\Gamma_{k,l}^{g}M)}{\\sqrt{d_{a}2}}\\frac{\\mathbb{I}_{d_{a}}}{\\sqrt{d_{a}}}\\otimes\\frac{\\Gamma_{k,l}^{g}}{\\sqrt{2}} +\n",
    "\\sum_{k,l,g}\\frac{\\mathrm{Tr}(\\Gamma_{k,l}^{g}\\otimes\\mathbb{I}_{d_{b}}M)}{\\sqrt{2d_{b}}}\\frac{\\Gamma_{k,l}^{g}}{\\sqrt{2}}\\otimes\\frac{\\mathbb{I}_{d_{b}}}{\\sqrt{d_{b}}} \\\\ \n",
    "& + \\sum_{j,k}\\frac{\\mathrm{Tr}(\\Gamma_{j}^{d}\\otimes\\Gamma_{k}^{d}M)}{\\sqrt{2}\\sqrt{2}}\\frac{\\Gamma_{j}^{d}}{\\sqrt{2}}\\otimes\\frac{\\Gamma_{k}^{d}}{\\sqrt{2}}\n",
    "+ \\sum_{j,k,l,g}\\frac{\\mathrm{Tr}(\\Gamma_{j}^{d}\\otimes\\Gamma_{k,l}^{g}M)}{\\sqrt{2}\\sqrt{2}}\\frac{\\Gamma_{j}^{d}}{\\sqrt{2}}\\otimes\\frac{\\Gamma_{k,l}^{g}}{\\sqrt{2}} \\\\\n",
    "& + \\sum_{k,l,g,j}\\frac{\\mathrm{Tr}(\\Gamma_{k,l}^{g}\\otimes\\Gamma_{j}^{d}M)}{\\sqrt{2}\\sqrt{2}}\\frac{\\Gamma_{k,l}^{g}}{\\sqrt{2}}\\otimes\\frac{\\Gamma_{j}^{d}}{\\sqrt{2}}\n",
    "+ \\sum_{k,l,g,m,n,h}\\frac{\\mathrm{Tr}(\\Gamma_{k,l}^{g}\\otimes\\Gamma_{m,n}^{h}M)}{\\sqrt{2}\\sqrt{2}}\\frac{\\Gamma_{k,l}^{g}}{\\sqrt{2}}\\otimes\\frac{\\Gamma_{m,n}^{h}}{\\sqrt{2}}.\n",
    "\\end{align}"
   ]
  },
  {
   "cell_type": "markdown",
   "metadata": {},
   "source": [
    "The reduce matrices are defined via partial trace [Int. J. Mod. Phys. C 28, 1750005,(2016)]:\n",
    "\\begin{align}\n",
    "M_{a} & = \\mathrm{Tr}_{b}(M) = \\sum_{j=1}^{d_{b}}(\\mathbb{I}_{a}\\otimes\\langle j|)M(\\mathbb{I}_{a}\\otimes|j\\rangle), \\\\\n",
    "M_{b} & = \\mathrm{Tr}_{a}(M) = \\sum_{j=1}^{d_{a}}(\\langle j|\\otimes\\mathbb{I}_{b})M(|j\\rangle\\otimes\\mathbb{I}_{b}).\n",
    "\\end{align}\n",
    "Besides, for any operators $A\\in\\mathbb{C}^{d_{a}\\mathrm{x}d_{a}}$ and $B\\in\\mathbb{C}^{d_{b}\\mathrm{x}d_{b}}$ we have\n",
    "\\begin{align}\n",
    "& \\mathrm{Tr}_{ab}(A\\otimes\\mathbb{I}_{b}M) = \\mathrm{Tr}_{a}(AM_{a}) \\\\\n",
    "& \\mathrm{Tr}_{ab}(\\mathbb{I}_{a}\\otimes BM) = \\mathrm{Tr}_{b}(BM_{b}).\n",
    "\\end{align}\n",
    "So the coefficients in the first two rows in the equation for $M$ can be cumputed from the local Bloch vectors, since\n",
    "\\begin{align}\n",
    "& \\mathrm{Tr}(\\mathbb{I}_{d_{a}}\\otimes\\Gamma_{j}^{d}M) = \\mathrm{Tr}(\\Gamma_{j}^{d}M_{b}), \\\\\n",
    "& \\mathrm{Tr}(\\Gamma_{j}^{d}\\otimes\\mathbb{I}_{d_{a}}M) = \\mathrm{Tr}(\\Gamma_{j}^{d}M_{a}), \\\\\n",
    "& \\mathrm{Tr}(\\mathbb{I}_{d_{a}}\\otimes\\Gamma_{k,l}^{g}M) = \\mathrm{Tr}(\\Gamma_{k,l}^{g}M_{b}), \\\\\n",
    "& \\mathrm{Tr}(\\Gamma_{k,l}^{g}\\otimes\\mathbb{I}_{d_{a}}M) = \\mathrm{Tr}(\\Gamma_{k,l}^{g}M_{a})\n",
    "\\end{align}"
   ]
  },
  {
   "cell_type": "markdown",
   "metadata": {},
   "source": [
    "and\n",
    "\\begin{align}\n",
    "M_{a} & = \\frac{\\mathrm{Tr}(M)}{\\sqrt{d_{a}}}\\frac{\\mathbb{I}_{d_{a}}}{\\sqrt{d_{a}}}  +\n",
    "\\sum_{j}\\frac{\\mathrm{Tr}(\\Gamma_{j}^{d}\\otimes\\mathbb{I}_{d_{b}}M)}{\\sqrt{2}}\\frac{\\Gamma_{j}^{d}}{\\sqrt{2}} + \\sum_{k,l,g}\\frac{\\mathrm{Tr}(\\Gamma_{k,l}^{g}\\otimes\\mathbb{I}_{d_{b}}M)}{\\sqrt{2}}\\frac{\\Gamma_{k,l}^{g}}{\\sqrt{2}} \\\\\n",
    "& = \\frac{\\mathrm{Tr}(M_{a})}{\\sqrt{d_{a}}}\\frac{\\mathbb{I}_{d_{a}}}{\\sqrt{d_{a}}}  +\n",
    "\\sum_{j}\\frac{\\mathrm{Tr}(\\Gamma_{j}^{d}M_{a})}{\\sqrt{2}}\\frac{\\Gamma_{j}^{d}}{\\sqrt{2}} + \\sum_{k,l,g}\\frac{\\mathrm{Tr}(\\Gamma_{k,l}^{g}M_{a})}{\\sqrt{2}}\\frac{\\Gamma_{k,l}^{g}}{\\sqrt{2}}, \\\\\n",
    "M_{b} & = \\frac{\\mathrm{Tr}(M)}{\\sqrt{d_{b}}}\\frac{\\mathbb{I}_{d_{b}}}{\\sqrt{d_{b}}}  +\n",
    "\\sum_{j}\\frac{\\mathrm{Tr}(\\mathbb{I}_{d_{a}}\\otimes\\Gamma_{j}^{d}M)}{\\sqrt{2}}\\frac{\\Gamma_{j}^{d}}{\\sqrt{2}} + \\sum_{k,l,g}\\frac{\\mathrm{Tr}(\\mathbb{I}_{d_{a}}\\otimes\\Gamma_{k,l}^{g}M)}{\\sqrt{2}}\\frac{\\Gamma_{k,l}^{g}}{\\sqrt{2}} \\\\\n",
    "& = \\frac{\\mathrm{Tr}(M_{b})}{\\sqrt{d_{b}}}\\frac{\\mathbb{I}_{d_{b}}}{\\sqrt{d_{b}}}  +\n",
    "\\sum_{j}\\frac{\\mathrm{Tr}(\\Gamma_{j}^{d}M_{b})}{\\sqrt{2}}\\frac{\\Gamma_{j}^{d}}{\\sqrt{2}} + \\sum_{k,l,g}\\frac{\\mathrm{Tr}(\\Gamma_{k,l}^{g}M_{b})}{\\sqrt{2}}\\frac{\\Gamma_{k,l}^{g}}{\\sqrt{2}}.\n",
    "\\end{align}"
   ]
  },
  {
   "cell_type": "markdown",
   "metadata": {},
   "source": [
    "The coefficients in the last two rows in the equation for $M$ are obtained from the __correlation matrix__\n",
    "\\begin{equation}\n",
    "C = \\begin{bmatrix} C^{dd} & C^{ds} & C^{da} \\\\ C^{sd} & C^{ss} & C^{sa} \\\\ C^{ad} & C^{as} & C^{aa} \\end{bmatrix},\n",
    "\\end{equation}\n",
    "where\n",
    "\\begin{align}\n",
    "& C^{dd} = \\left(\\mathrm{Tr}(\\Gamma_{j}^{d}\\otimes\\Gamma_{k}^{d}M)\\right) \\in\\mathbb{C}^{(d_{a}-1)\\mathrm{x}(d_{b}-1)} \\\\\n",
    "& C^{dg} = \\left(\\mathrm{Tr}(\\Gamma_{j}^{d}\\otimes\\Gamma_{k,l}^{g}M)\\right) \\in\\mathbb{C}^{(d_{a}-1)\\mathrm{x}(2^{-1}d_{b}(d_{b}-1))} \\\\\n",
    "& C^{gd} = \\left(\\mathrm{Tr}(\\Gamma_{k,l}^{g}\\otimes\\Gamma_{j}^{d}M)\\right) \\in\\mathbb{C}^{(2^{-1}d_{a}(d_{a}-1))\\mathrm{x}(d_{b}-1)} \\\\\n",
    "& C^{gh} = \\left(\\mathrm{Tr}(\\Gamma_{k,l}^{g}\\otimes\\Gamma_{m,n}^{h}M)\\right) \\in\\mathbb{C}^{(2^{-1}d_{a}(d_{a}-1))\\mathrm{x}(2^{-1}d_{b}(d_{b}-1))}.\n",
    "\\end{align}"
   ]
  },
  {
   "cell_type": "markdown",
   "metadata": {},
   "source": [
    "Computing the average values <br>\n",
    "### diagonal-diagonal\n",
    "\\begin{align}\n",
    "C_{j,k}^{dd} & = \\mathrm{Tr}\\left(\\Gamma_{j}^{d}\\otimes\\Gamma_{k}^{d}M\\right) \\\\\n",
    "& = \\mathrm{Tr}\\left(\\sqrt{\\frac{2}{j(j+1)}}\\sum_{m=1}^{j+1}(-j)^{\\delta_{m,j+1}}|m\\rangle\\langle m|\\otimes\\sqrt{\\frac{2}{k(k+1)}}\\sum_{n=1}^{k+1}(-k)^{\\delta_{n,k+1}}|n\\rangle\\langle n|M\\right) \\\\\n",
    "& = \\frac{2}{\\sqrt{j(j+1)k(k+1)}}\\sum_{m=1}^{j+1}(-j)^{\\delta_{m,j+1}}\\sum_{n=1}^{k+1}(-k)^{\\delta_{n,k+1}}\\mathrm{Tr}\\left(|m\\rangle\\langle m|\\otimes|n\\rangle\\langle n|M\\right) \\\\\n",
    "& = \\frac{2}{\\sqrt{j(j+1)k(k+1)}}\\sum_{m=1}^{j+1}\\sum_{n=1}^{k+1}(-j)^{\\delta_{m,j+1}}(-k)^{\\delta_{n,k+1}}\\mathrm{Tr}\\left(|m\\rangle\\otimes|n\\rangle\\langle m|\\otimes\\langle n|M\\right) \\\\\n",
    "& = \\frac{2}{\\sqrt{j(j+1)k(k+1)}}\\sum_{m=1}^{j+1}\\sum_{n=1}^{k+1}(-j)^{\\delta_{m,j+1}}(-k)^{\\delta_{n,k+1}}\\langle m|\\otimes\\langle n|M|m\\rangle\\otimes|n\\rangle \\\\\n",
    "& = \\frac{2}{\\sqrt{j(j+1)k(k+1)}}\\sum_{m=1}^{j+1}\\sum_{n=1}^{k+1}(-j)^{\\delta_{m,j+1}}(-k)^{\\delta_{n,k+1}}M_{((m-1)d_{b}+n),((m-1)d_{b}+n)}.\n",
    "\\end{align}"
   ]
  },
  {
   "cell_type": "code",
   "execution_count": 22,
   "metadata": {},
   "outputs": [],
   "source": [
    "def corr_mat_dd(da, db, M):\n",
    "    cmdd = np.zeros((da-1,db-1), dtype = complex)\n",
    "    for j in range(1,da):\n",
    "        for k in range(1,db):\n",
    "            for m in range(1,j+1):\n",
    "                for n in range(1,k+1):\n",
    "                    cmdd[j-1,k-1] += M[(m-1)*db+(n-1),(m-1)*db+(n-1)]\n",
    "            m = j+1\n",
    "            for n in range(1,k+1):\n",
    "                cmdd[j-1,k-1] -= j*M[(m-1)*db+(n-1),(m-1)*db+(n-1)]\n",
    "            n = k+1\n",
    "            for m in range(1,j+1):\n",
    "                cmdd[j-1,k-1] -= k*M[(m-1)*db+(n-1),(m-1)*db+(n-1)]\n",
    "            m = j+1\n",
    "            n = k+1\n",
    "            cmdd[j-1,k-1] += j*k*M[(m-1)*db+(n-1),(m-1)*db+(n-1)]\n",
    "            cmdd[j-1,k-1] *= 2/sqrt(j*(j+1)*k*(k+1))\n",
    "    return cmdd.real"
   ]
  },
  {
   "cell_type": "code",
   "execution_count": 23,
   "metadata": {},
   "outputs": [],
   "source": [
    "def Pauli(j):\n",
    "    if j == 0:\n",
    "        return np.array([[1,0],[0,1]])\n",
    "    elif j == 1:\n",
    "        return np.array([[0,1],[1,0]])\n",
    "    elif j == 2:\n",
    "        return np.array([[0,-1j],[1j,0]])\n",
    "    elif j == 3:\n",
    "        return np.array([[1,0],[0,-1]])"
   ]
  },
  {
   "cell_type": "code",
   "execution_count": 24,
   "metadata": {},
   "outputs": [],
   "source": [
    "def rho2qb(a1, a2, a3, b1, b2, b3, c11, c12, c13, c21, c22, c23, c31, c32, c33):\n",
    "    return (1/4)*(tp(Pauli(0),Pauli(0)) + b1*tp(Pauli(0),Pauli(1)) + b2*tp(Pauli(0),Pauli(2)) + b3*tp(Pauli(0),Pauli(3))\n",
    "           + a1*tp(Pauli(1),Pauli(0)) + c11*tp(Pauli(1),Pauli(1)) + c12*tp(Pauli(1),Pauli(2)) + c13*tp(Pauli(1),Pauli(3))\n",
    "           + a2*tp(Pauli(2),Pauli(0)) + c21*tp(Pauli(2),Pauli(1)) + c22*tp(Pauli(2),Pauli(2)) + c23*tp(Pauli(2),Pauli(3))\n",
    "           + a3*tp(Pauli(3),Pauli(0)) + c31*tp(Pauli(3),Pauli(1)) + c32*tp(Pauli(3),Pauli(2)) + c33*tp(Pauli(3),Pauli(3)))"
   ]
  },
  {
   "cell_type": "code",
   "execution_count": 27,
   "metadata": {},
   "outputs": [
    {
     "data": {
      "text/plain": [
       "array([[0.33]])"
      ]
     },
     "execution_count": 27,
     "metadata": {},
     "output_type": "execute_result"
    }
   ],
   "source": [
    "a1, a2, a3, b1, b2, b3 = 0.11, 0.12, 0.13, 0.25, 0.26, 0.27\n",
    "c11, c12, c13, c21, c22, c23, c31, c32, c33 = 0.11, 0.12, 0.13, 0.21, 0.22, 0.23, 0.31, 0.32, 0.33\n",
    "corr_mat_dd(2,2,rho2qb(a1, a2, a3, b1, b2, b3, c11, c12, c13, c21, c22, c23, c31, c32, c33))"
   ]
  },
  {
   "cell_type": "markdown",
   "metadata": {},
   "source": [
    "### diagonal-symmetric:\n",
    "\\begin{equation}\n",
    "C^{ds}_{j,(k,l)} = \\sqrt{\\frac{2}{j(j+1)}}\\sum_{m=1}^{j+1}(-j)^{\\delta_{m,j+1}}\\left(M_{((m-1)d_{b}+l),((m-1)d_{b}+k)}+M_{((m-1)d_{b}+k),((m-1)d_{b}+l)}\\right).\n",
    "\\end{equation}"
   ]
  },
  {
   "cell_type": "code",
   "execution_count": 28,
   "metadata": {},
   "outputs": [],
   "source": [
    "def corr_mat_ds(da, db, M):\n",
    "    cmds = np.zeros((da-1,db*(db-1)//2), dtype = complex)\n",
    "    for j in range(1,da):\n",
    "        n = 0\n",
    "        for k in range(1,db):\n",
    "            for l in range(k+1,db+1):\n",
    "                n += 1\n",
    "                for m in range(1,j+1):\n",
    "                    cmds[j-1,n-1] += (M[(m-1)*db+(l-1),(m-1)*db+(k-1)] + M[(m-1)*db+(k-1),(m-1)*db+(l-1)])\n",
    "                m = j+1\n",
    "                cmds[j-1,n-1] -= j*(M[(m-1)*db+(l-1),(m-1)*db+(k-1)] + M[(m-1)*db+(k-1),(m-1)*db+(l-1)])\n",
    "                cmds[j-1,n-1] *= sqrt(2/(j*(j+1)))\n",
    "    return cmds.real"
   ]
  },
  {
   "cell_type": "code",
   "execution_count": 29,
   "metadata": {},
   "outputs": [
    {
     "data": {
      "text/plain": [
       "array([[0.31]])"
      ]
     },
     "execution_count": 29,
     "metadata": {},
     "output_type": "execute_result"
    }
   ],
   "source": [
    "corr_mat_ds(2,2,rho2qb(a1, a2, a3, b1, b2, b3, c11, c12, c13, c21, c22, c23, c31, c32, c33))"
   ]
  },
  {
   "cell_type": "markdown",
   "metadata": {},
   "source": [
    "### diagonal-antisymmetric:\n",
    "\\begin{equation}\n",
    "C^{da}_{j,(k,l)} = -i\\sqrt{\\frac{2}{j(j+1)}}\\sum_{m=1}^{j+1}(-j)^{\\delta_{m,j+1}}\\left(M_{((m-1)d_{b}+l),((m-1)d_{b}+k)}-M_{((m-1)d_{b}+k),((m-1)d_{b}+l)}\\right).\n",
    "\\end{equation}"
   ]
  },
  {
   "cell_type": "code",
   "execution_count": 45,
   "metadata": {},
   "outputs": [],
   "source": [
    "def corr_mat_da(da, db, M):\n",
    "    cmda = np.zeros((da-1,db*(db-1)//2), dtype = complex)\n",
    "    for j in range(1,da):\n",
    "        n = 0\n",
    "        for k in range(1,db):\n",
    "            for l in range(k+1,db+1):\n",
    "                n += 1\n",
    "                for m in range(1,j+1):\n",
    "                    cmda[j-1,n-1] += (M[(m-1)*db+(l-1),(m-1)*db+(k-1)] - M[(m-1)*db+(k-1),(m-1)*db+(l-1)])\n",
    "                m = j+1\n",
    "                cmda[j-1,n-1] -= j*(M[(m-1)*db+(l-1),(m-1)*db+(k-1)] - M[(m-1)*db+(k-1),(m-1)*db+(l-1)])\n",
    "                cmda[j-1,n-1] *= -1j*sqrt(2/(j*(j+1)))\n",
    "    return cmda.real"
   ]
  },
  {
   "cell_type": "code",
   "execution_count": 46,
   "metadata": {},
   "outputs": [
    {
     "data": {
      "text/plain": [
       "array([[0.32]])"
      ]
     },
     "execution_count": 46,
     "metadata": {},
     "output_type": "execute_result"
    }
   ],
   "source": [
    "corr_mat_da(2,2,rho2qb(a1, a2, a3, b1, b2, b3, c11, c12, c13, c21, c22, c23, c31, c32, c33))"
   ]
  },
  {
   "cell_type": "markdown",
   "metadata": {},
   "source": [
    "### symmetric-diagonal:\n",
    "\\begin{equation}\n",
    "C^{sd}_{(k,l),j} = \\sqrt{\\frac{2}{j(j+1)}}\\sum_{m=1}^{j+1}(-j)^{\\delta_{m,j+1}}\\left(M_{((l-1)d_{b}+m),((k-1)d_{b}+m)}+M_{((k-1)d_{b}+m),((l-1)d_{b}+m)}\\right).\n",
    "\\end{equation}"
   ]
  },
  {
   "cell_type": "code",
   "execution_count": 30,
   "metadata": {},
   "outputs": [],
   "source": [
    "def corr_mat_sd(da, db, M):\n",
    "    cmsd = np.zeros((da*(da-1)//2,db-1), dtype = complex)\n",
    "    n = 0\n",
    "    for k in range(1,da):\n",
    "        for l in range(k+1,da+1):\n",
    "            n += 1\n",
    "            for j in range(1,db):    \n",
    "                for m in range(1,j+1):\n",
    "                    cmsd[n-1,j-1] += (M[(l-1)*db+(m-1),(k-1)*db+(m-1)] + M[(k-1)*db+(m-1),(l-1)*db+(m-1)])\n",
    "                m = j+1\n",
    "                cmsd[n-1,j-1] -= j*(M[(l-1)*db+(m-1),(k-1)*db+(m-1)] + M[(k-1)*db+(m-1),(l-1)*db+(m-1)])\n",
    "                cmsd[n-1,j-1] *= sqrt(2/(j*(j+1)))\n",
    "    return cmsd.real"
   ]
  },
  {
   "cell_type": "code",
   "execution_count": 31,
   "metadata": {},
   "outputs": [
    {
     "data": {
      "text/plain": [
       "array([[0.13]])"
      ]
     },
     "execution_count": 31,
     "metadata": {},
     "output_type": "execute_result"
    }
   ],
   "source": [
    "corr_mat_sd(2,2,rho2qb(a1, a2, a3, b1, b2, b3, c11, c12, c13, c21, c22, c23, c31, c32, c33))"
   ]
  },
  {
   "cell_type": "markdown",
   "metadata": {},
   "source": [
    "### antisymmetric-diagonal:\n",
    "\\begin{equation}\n",
    "C^{ad}_{(k,l),j} = -i\\sqrt{\\frac{2}{j(j+1)}}\\sum_{m=1}^{j+1}(-j)^{\\delta_{m,j+1}}\\left(M_{(l-1)d_{b}+m),((k-1)d_{b}+m)}-M_{((k-1)d_{b}+m),((l-1)d_{b}+m)}\\right).\n",
    "\\end{equation}"
   ]
  },
  {
   "cell_type": "code",
   "execution_count": 32,
   "metadata": {},
   "outputs": [],
   "source": [
    "def corr_mat_ad(da, db, M):\n",
    "    cmad = np.zeros((da*(da-1)//2,db-1), dtype = complex)\n",
    "    n = 0\n",
    "    for k in range(1,da):\n",
    "        for l in range(k+1,da+1):\n",
    "            n += 1\n",
    "            for j in range(1,db):    \n",
    "                for m in range(1,j+1):\n",
    "                    cmad[n-1,j-1] += (M[(l-1)*db+m-1,(k-1)*db+m-1] - M[(k-1)*db+m-1,(l-1)*db+m-1])\n",
    "                m = j+1\n",
    "                cmad[n-1,j-1] -= j*(M[(l-1)*db+m-1,(k-1)*db+m-1] - M[(k-1)*db+m-1,(l-1)*db+m-1])\n",
    "                cmad[n-1,j-1] *= -1j*sqrt(2/(j*(j+1)))\n",
    "    return cmad.real"
   ]
  },
  {
   "cell_type": "code",
   "execution_count": 33,
   "metadata": {},
   "outputs": [
    {
     "data": {
      "text/plain": [
       "array([[0.23]])"
      ]
     },
     "execution_count": 33,
     "metadata": {},
     "output_type": "execute_result"
    }
   ],
   "source": [
    "corr_mat_ad(2,2,rho2qb(a1, a2, a3, b1, b2, b3, c11, c12, c13, c21, c22, c23, c31, c32, c33))"
   ]
  },
  {
   "cell_type": "markdown",
   "metadata": {},
   "source": [
    "### symmetric-symmetric\n",
    "\\begin{equation}\n",
    "C^{ss}_{(k,l),(m,n)} = M_{(l-1)d_{b}+n,(k-1)d_{b}+m} + M_{(k-1)d_{b}+m,(l-1)d_{b}+n} + M_{(l-1)d_{b}+m,(k-1)d_{b}+n} + M_{(k-1)d_{b}+n,(l-1)d_{b}+m}\n",
    "\\end{equation}"
   ]
  },
  {
   "cell_type": "code",
   "execution_count": 34,
   "metadata": {},
   "outputs": [],
   "source": [
    "def corr_mat_ss(da, db, M):\n",
    "    cmss = np.zeros((da*(da-1)//2,db*(db-1)//2), dtype = complex)\n",
    "    p = 0\n",
    "    for k in range(1,da):\n",
    "        for l in range(k+1,da+1):\n",
    "            p += 1\n",
    "            q = 0\n",
    "            for m in range(1,db):\n",
    "                for n in range(m+1,db+1):\n",
    "                    q += 1\n",
    "                    cmss[p-1,q-1] += (M[(l-1)*db+n-1,(k-1)*db+m-1] + M[(k-1)*db+m-1,(l-1)*db+n-1])\n",
    "                    cmss[p-1,q-1] += (M[(l-1)*db+m-1,(k-1)*db+n-1] + M[(k-1)*db+n-1,(l-1)*db+m-1])\n",
    "    return cmss.real"
   ]
  },
  {
   "cell_type": "code",
   "execution_count": 35,
   "metadata": {},
   "outputs": [
    {
     "data": {
      "text/plain": [
       "array([[0.11]])"
      ]
     },
     "execution_count": 35,
     "metadata": {},
     "output_type": "execute_result"
    }
   ],
   "source": [
    "corr_mat_ss(2,2,rho2qb(a1, a2, a3, b1, b2, b3, c11, c12, c13, c21, c22, c23, c31, c32, c33))"
   ]
  },
  {
   "cell_type": "markdown",
   "metadata": {},
   "source": [
    "### symmetric-antisymmetric\n",
    "\\begin{equation}\n",
    "C^{sa}_{(k,l),(m,n)} = -i\\left(M_{(l-1)d_{b}+n,(k-1)d_{b}+m} - M_{(k-1)d_{b}+m,(l-1)d_{b}+n} + M_{(k-1)d_{b}+n,(l-1)d_{b}+m} - M_{(l-1)d_{b}+m,(k-1)d_{b}+n}\\right)\n",
    "\\end{equation}"
   ]
  },
  {
   "cell_type": "code",
   "execution_count": 36,
   "metadata": {},
   "outputs": [],
   "source": [
    "def corr_mat_sa(da, db, M):\n",
    "    cmsa = np.zeros((da*(da-1)//2,db*(db-1)//2), dtype = complex)\n",
    "    p = 0\n",
    "    for k in range(1,da):\n",
    "        for l in range(k+1,da+1):\n",
    "            p += 1\n",
    "            q = 0\n",
    "            for m in range(1,db):\n",
    "                for n in range(m+1,db+1):\n",
    "                    q += 1\n",
    "                    cmsa[p-1,q-1] -= 1j*(M[(l-1)*db+n-1,(k-1)*db+m-1] - M[(k-1)*db+m-1,(l-1)*db+n-1])\n",
    "                    cmsa[p-1,q-1] -= 1j*(M[(k-1)*db+n-1,(l-1)*db+m-1] - M[(l-1)*db+m-1,(k-1)*db+n-1])\n",
    "    return cmsa.real"
   ]
  },
  {
   "cell_type": "code",
   "execution_count": 37,
   "metadata": {},
   "outputs": [
    {
     "data": {
      "image/png": "[encoded data removed]",
      "text/latex": [
       "$\\displaystyle \\left[\\left[\\begin{matrix}0.12\\end{matrix}\\right]\\right]$"
      ],
      "text/plain": [
       "[[0.12]]"
      ]
     },
     "execution_count": 37,
     "metadata": {},
     "output_type": "execute_result"
    }
   ],
   "source": [
    "simplify(corr_mat_sa(2,2,rho2qb(a1, a2, a3, b1, b2, b3, c11, c12, c13, c21, c22, c23, c31, c32, c33)))"
   ]
  },
  {
   "cell_type": "markdown",
   "metadata": {},
   "source": [
    "### antisymmetric-symmetric\n",
    "\\begin{equation}\n",
    "C^{as}_{(k,l),(m,n)} = -i\\left(M_{(l-1)d_{b}+n,(k-1)d_{b}+m} - M_{(k-1)d_{b}+m,(l-1)d_{b}+n} + M_{(l-1)d_{b}+m,(k-1)d_{b}+n} - M_{(k-1)d_{b}+n,(l-1)d_{b}+m}\\right)\n",
    "\\end{equation}"
   ]
  },
  {
   "cell_type": "code",
   "execution_count": 38,
   "metadata": {},
   "outputs": [],
   "source": [
    "def corr_mat_as(da, db, M):\n",
    "    cmas = np.zeros((da*(da-1)//2,db*(db-1)//2), dtype = complex)\n",
    "    p = 0\n",
    "    for k in range(1,da):\n",
    "        for l in range(k+1,da+1):\n",
    "            p += 1\n",
    "            q = 0\n",
    "            for m in range(1,db):\n",
    "                for n in range(m+1,db+1):\n",
    "                    q += 1\n",
    "                    cmas[p-1,q-1] -= 1j*(M[(l-1)*db+n-1,(k-1)*db+m-1] - M[(k-1)*db+m-1,(l-1)*db+n-1])\n",
    "                    cmas[p-1,q-1] -= 1j*(M[(l-1)*db+m-1,(k-1)*db+n-1] - M[(k-1)*db+n-1,(l-1)*db+m-1])\n",
    "    return cmas.real"
   ]
  },
  {
   "cell_type": "code",
   "execution_count": 39,
   "metadata": {},
   "outputs": [
    {
     "data": {
      "image/png": "[encoded data removed]",
      "text/latex": [
       "$\\displaystyle \\left[\\left[\\begin{matrix}0.21\\end{matrix}\\right]\\right]$"
      ],
      "text/plain": [
       "[[0.21]]"
      ]
     },
     "execution_count": 39,
     "metadata": {},
     "output_type": "execute_result"
    }
   ],
   "source": [
    "simplify(corr_mat_as(2,2,rho2qb(a1, a2, a3, b1, b2, b3, c11, c12, c13, c21, c22, c23, c31, c32, c33)))"
   ]
  },
  {
   "cell_type": "markdown",
   "metadata": {},
   "source": [
    "### antisymmetric-antisymmetric\n",
    "\\begin{equation}\n",
    "C^{aa}_{(k,l),(m,n)} = M_{(l-1)d_{b}+m,(k-1)d_{b}+n} + M_{(k-1)d_{b}+n,(l-1)d_{b}+m} - M_{(l-1)d_{b}+n,(k-1)d_{b}+m} - M_{(k-1)d_{b}+m,(l-1)d_{b}+n}\n",
    "\\end{equation}"
   ]
  },
  {
   "cell_type": "code",
   "execution_count": 40,
   "metadata": {},
   "outputs": [],
   "source": [
    "def corr_mat_aa(da, db, M):\n",
    "    cmaa = np.zeros((da*(da-1)//2,db*(db-1)//2), dtype = complex)\n",
    "    p = 0\n",
    "    for k in range(1,da):\n",
    "        for l in range(k+1,da+1):\n",
    "            p += 1\n",
    "            q = 0\n",
    "            for m in range(1,db):\n",
    "                for n in range(m+1,db+1):\n",
    "                    q += 1\n",
    "                    cmaa[p-1,q-1] += (M[(l-1)*db+m-1,(k-1)*db+n-1] + M[(k-1)*db+n-1,(l-1)*db+m-1])\n",
    "                    cmaa[p-1,q-1] -= (M[(l-1)*db+n-1,(k-1)*db+m-1] + M[(k-1)*db+m-1,(l-1)*db+n-1])\n",
    "    return cmaa.real"
   ]
  },
  {
   "cell_type": "code",
   "execution_count": 41,
   "metadata": {},
   "outputs": [
    {
     "data": {
      "text/plain": [
       "array([[0.22]])"
      ]
     },
     "execution_count": 41,
     "metadata": {},
     "output_type": "execute_result"
    }
   ],
   "source": [
    "corr_mat_aa(2,2,rho2qb(a1, a2, a3, b1, b2, b3, c11, c12, c13, c21, c22, c23, c31, c32, c33))"
   ]
  },
  {
   "cell_type": "markdown",
   "metadata": {},
   "source": [
    "## Correlation matrix"
   ]
  },
  {
   "cell_type": "code",
   "execution_count": 49,
   "metadata": {},
   "outputs": [],
   "source": [
    "def corr_mat(da, db, M):\n",
    "    dda = int((da*(da-1))/2); ddb = int((db*(db-1))/2); cm = np.zeros((da**2-1,db**2-1))\n",
    "    k = -1; l = -1\n",
    "    cmdd = corr_mat_dd(da, db, M); cmds = corr_mat_ds(da, db, M); cmda = corr_mat_da(da, db, M)\n",
    "    for m in range(0,da-1): \n",
    "        k += 1\n",
    "        for n in range(0,db-1):  # diagonal-diagonal\n",
    "            l += 1; cm[k,l] = cmdd[m,n]\n",
    "        for n in range(0,ddb):  # diagonal-symmetric\n",
    "            l += 1; cm[k,l] = cmds[m,n]\n",
    "        for n in range(0,ddb):  # diagonal-antisymmetric\n",
    "            l += 1; cm[k,l] = cmda[m,n]\n",
    "    cmsd = corr_mat_sd(da, db, M); cmss = corr_mat_ss(da, db, M); cmsa = corr_mat_sa(da, db, M)\n",
    "    l = -1\n",
    "    for m in range(0,dda): \n",
    "        k += 1\n",
    "        for n in range(0,db-1):  # symmetric-diagonal\n",
    "            l += 1; cm[k,l] = cmsd[m,n]\n",
    "        for n in range(0,ddb):  # symmetric-symmetric\n",
    "            l += 1; cm[k,l] = cmss[m,n]\n",
    "        for n in range(0,ddb):  # symmetric-antisymmetric\n",
    "            l += 1; cm[k,l] = cmsa[m,n]\n",
    "    cmad = corr_mat_ad(da, db, M); cmas = corr_mat_as(da, db, M); cmaa = corr_mat_aa(da, db, M)\n",
    "    l = -1\n",
    "    for m in range(0,dda): \n",
    "        k += 1\n",
    "        for n in range(0,db-1):  # antisymmetric-diagonal\n",
    "            l += 1; cm[k,l] = cmad[m,n]\n",
    "        for n in range(0,ddb):  # antisymmetric-symmetric\n",
    "            l += 1; cm[k,l] = cmas[m,n]\n",
    "        for n in range(0,ddb):  # antisymmetric-antisymmetric\n",
    "            l += 1; cm[k,l] = cmaa[m,n]\n",
    "    return cm.real"
   ]
  },
  {
   "cell_type": "code",
   "execution_count": 50,
   "metadata": {},
   "outputs": [
    {
     "data": {
      "image/png": "[encoded data removed]",
      "text/latex": [
       "$\\displaystyle \\left[\\begin{matrix}0.33 & 0.31 & 0.32\\\\0.13 & 0.11 & 0.12\\\\0.23 & 0.21 & 0.22\\end{matrix}\\right]$"
      ],
      "text/plain": [
       "⎡0.33  0.31  0.32⎤\n",
       "⎢                ⎥\n",
       "⎢0.13  0.11  0.12⎥\n",
       "⎢                ⎥\n",
       "⎣0.23  0.21  0.22⎦"
      ]
     },
     "execution_count": 50,
     "metadata": {},
     "output_type": "execute_result"
    }
   ],
   "source": [
    "simplify(corr_mat(2,2,rho2qb(a1, a2, a3, b1, b2, b3, c11, c12, c13, c21, c22, c23, c31, c32, c33)))"
   ]
  },
  {
   "cell_type": "code",
   "execution_count": null,
   "metadata": {},
   "outputs": [],
   "source": []
  }
 ],
 "metadata": {
  "kernelspec": {
   "display_name": "Python 3 (ipykernel)",
   "language": "python",
   "name": "python3"
  },
  "language_info": {
   "codemirror_mode": {
    "name": "ipython",
    "version": 3
   },
   "file_extension": ".py",
   "mimetype": "text/x-python",
   "name": "python",
   "nbconvert_exporter": "python",
   "pygments_lexer": "ipython3",
   "version": "3.8.8"
  }
 },
 "nbformat": 4,
 "nbformat_minor": 2
}
