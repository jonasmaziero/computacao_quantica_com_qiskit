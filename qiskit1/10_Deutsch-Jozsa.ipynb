{
 "cells": [
  {
   "cell_type": "code",
   "execution_count": 1,
   "id": "ed1a589a",
   "metadata": {},
   "outputs": [],
   "source": [
    "%run init.ipynb"
   ]
  },
  {
   "cell_type": "markdown",
   "id": "55b4729c",
   "metadata": {},
   "source": [
    "### Notas de aula de Computação Quântica <br> Autor: Jonas Maziero"
   ]
  },
  {
   "cell_type": "markdown",
   "id": "ba9bff0c",
   "metadata": {},
   "source": [
    "# Algoritmo de Deutsch\n",
    "\n",
    "Queremos determinar se uma função $f:\\{0,1\\}\\rightarrow\\{0,1\\}$ é constante, $f(0)=f(1)$, ou balanceada, $f(0)\\ne f(1)$. Temos\n",
    "* Classicamente, precisamos calcular $f(0)$ e $f(1)$.\n",
    "* Quanticamente aplica-se o circuito uma única vez.\n",
    "\n",
    "O circuito da figura abaixo ilustra o algoritmo de Deutsch pra resolver este problema (https://arxiv.org/abs/2109.07910v1).\n",
    "<img src=\"fig_deutsch_algo.png\" width=\"400\">\n",
    "- Superposição: $H|0\\rangle = \\frac{1}{\\sqrt{2}}(|0\\rangle+|1\\rangle)=|+\\rangle$, $H|1\\rangle = \\frac{1}{\\sqrt{2}}(|0\\rangle-|1\\rangle)=|-\\rangle$. Assim \n",
    "\\begin{align}\n",
    "|\\psi_{1}\\rangle & = H|0\\rangle H|1\\rangle \\\\\n",
    "& = \\frac{1}{2}\\big(|0\\rangle|0\\rangle-|0\\rangle|1\\rangle+|1\\rangle|0\\rangle-|1\\rangle|1\\rangle\\big).\n",
    "\\end{align}"
   ]
  },
  {
   "cell_type": "markdown",
   "id": "1efcffc7",
   "metadata": {},
   "source": [
    "Caixa preta (oráculo): \n",
    "$$U_{f}|x\\rangle|y\\rangle = |x\\rangle|y\\oplus f(x)\\rangle.$$\n",
    "Algoritmos como o de Deutsch são chamados de algoritmos quânticos de consulta (quantum query algorithms), pois assumem que um 3ª parte implementa o oráculo $U_{f}$ e os computadores clássico e quântico fazem consultas a esse oráculo. Neste contexto, a vantagem do computador quântico se deve ao menor número de consultas ao oráculo para resolver uma dado problema, em relação ao computador clássico. \n",
    "\n",
    "Assim \n",
    "\\begin{align}\n",
    " & |\\psi_{2}\\rangle= \\frac{1}{2}\\big(U_{f}|0\\rangle|0\\rangle-U_{f}|0\\rangle|1\\rangle+U_{f}|1\\rangle|0\\rangle-U_{f}|1\\rangle|1\\rangle\\big) \\\\\n",
    "&= \\frac{1}{2}\\big(|0\\rangle|0\\oplus f(0)\\rangle-|0\\rangle|1\\oplus f(0)\\rangle+|1\\rangle|0\\oplus f(1)\\rangle-|1\\rangle|1\\oplus f(1)\\rangle\\big) \\\\\n",
    "&= \\frac{1}{2}\\big(|0\\rangle|f(0)\\rangle-|0\\rangle|\\overline{f(0)}\\rangle+|1\\rangle|f(1)\\rangle-|1\\rangle|\\overline{f(1)}\\rangle\\big).\n",
    "\\end{align}\n",
    "\n",
    "- Função constante:\n",
    "\\begin{equation}\n",
    "|\\psi_{2}\\rangle_{f(0)=f(1)} = \\frac{1}{\\sqrt{2}}(|0\\rangle+|1\\rangle)\\frac{1}{\\sqrt{2}}(|f(0)\\rangle-|\\overline{f(0)}\\rangle).\n",
    "\\end{equation}\n",
    "- Função balanceada:\n",
    "\\begin{equation}\n",
    "|\\psi_{2}\\rangle_{f(0)\\ne f(1)} = \\frac{1}{\\sqrt{2}}(|0\\rangle-|1\\rangle)\\frac{1}{\\sqrt{2}}(|f(0)\\rangle-|\\overline{f(0)}\\rangle).\n",
    "\\end{equation}\n",
    "\n",
    "- Usando interferência ($H|+\\rangle=|0\\rangle$ e $H|-\\rangle=|1\\rangle$):\n",
    "\\begin{equation}\n",
    "|\\psi_{3}\\rangle_{f(0)=f(1)} =  H|+\\rangle\\frac{1}{\\sqrt{2}}(|f(0)\\rangle+|\\overline{f(0)}\\rangle) = |0\\rangle\\frac{1}{\\sqrt{2}}(|f(0)\\rangle-|\\overline{f(0)}\\rangle).\n",
    "\\end{equation}\n",
    "\\begin{equation}\n",
    "|\\psi_{3}\\rangle_{f(0)\\ne f(1)} = H|-\\rangle\\frac{1}{\\sqrt{2}}(|f(0)\\rangle+|\\overline{f(0)}\\rangle) = |1\\rangle\\frac{1}{\\sqrt{2}}(|f(0)\\rangle-|\\overline{f(0)}\\rangle).\n",
    "\\end{equation}\n",
    "\n",
    "- Mede o 1º qubit:\n",
    "\\begin{cases}\n",
    "0 \\therefore \\text{ a função é constante, } \\\\\n",
    "1 \\therefore \\text{ a função é balanceada}.\n",
    "\\end{cases}"
   ]
  },
  {
   "cell_type": "markdown",
   "id": "20bebcd6",
   "metadata": {},
   "source": [
    "Rationalis: \n",
    "\\begin{align}\n",
    "U_{f}|x\\rangle|-\\rangle & = \\frac{1}{\\sqrt{2}}\\big(|x\\rangle|0\\oplus f(x)\\rangle - |x\\rangle|1\\oplus f(x)\\rangle\\big) = |x\\rangle\\frac{1}{\\sqrt{2}}\\big(|f(x)\\rangle - |\\bar{f(x)}\\rangle\\big) \\\\\n",
    "& = (-1)^{f(x)}|x\\rangle|-\\rangle.\n",
    "\\end{align}\n",
    "É essencial que o estado inicial do 2º qubit seja $|-\\rangle$. É direto ver com isso que \n",
    "\\begin{align}\n",
    "U_{f}|+\\rangle|-\\rangle &= \\frac{1}{\\sqrt{2}}\\big(U_{f}|0\\rangle|-\\rangle+U_{f}|1\\rangle|-\\rangle\\big) = \\frac{1}{\\sqrt{2}}\\big((-1)^{f(0)}|0\\rangle|-\\rangle+(-1)^{f(1)}|1\\rangle|-\\rangle\\big) \\\\\n",
    "& = \\frac{(-1)^{f(0)}}{\\sqrt{2}}\\big(|0\\rangle+(-1)^{f(1)-f(0)}|1\\rangle\\big)|-\\rangle.\n",
    "\\end{align}"
   ]
  },
  {
   "cell_type": "markdown",
   "id": "0b7a1215",
   "metadata": {},
   "source": [
    "## Algoritmo de Deutsch-Jozsa\n",
    "Uma função $f:\\{0,\\cdots,2^{n}-1\\}\\rightarrow \\{0,1\\}$, ou $f:\\{0,1\\}^{n}\\rightarrow \\{0,1\\}$, é constante se $f(x)=f(y)\\ \\forall x,y$ e balanceada se $f(x)=0$ para metade dos valores e $f(y)=1$ para a outra metade. O circuito da figura abaixo ilustra o algoritmo \n",
    "de Deutsch-Jozsa.\n",
    "<img src=\"fig_deutsch_jozsa.png\" width=\"450\">"
   ]
  },
  {
   "cell_type": "markdown",
   "id": "c157a38d",
   "metadata": {},
   "source": [
    "Temos que\n",
    "\\begin{align}\n",
    "|\\psi_{0}\\rangle & = |0\\rangle^{\\otimes n}|1\\rangle \\\\\n",
    "& \\equiv |0\\rangle\\otimes\\cdots\\otimes|0\\rangle\\otimes|1\\rangle.\n",
    "\\end{align}\n",
    "Aplicando as portas de Hadamard, criamos a superposição de estados\n",
    "\\begin{align}\n",
    "|\\psi_{1}\\rangle & = H^{\\otimes n}H|\\psi_{0}\\rangle = H|0\\rangle\\otimes\\cdots\\otimes H|0\\rangle\\otimes H|1\\rangle \\\\\n",
    "& = |+\\rangle\\otimes\\cdots\\otimes |+\\rangle\\otimes |-\\rangle \\\\\n",
    "& = |+\\rangle^{\\otimes n}|-\\rangle.\n",
    "\\end{align}\n",
    "Usando alguns exemplos, veremos como o estado acima poder ser escrito como uma superposição:\n",
    "\\begin{align}\n",
    "|+\\rangle & = \\frac{1}{2^{1/2}}\\big(|0\\rangle + |1\\rangle\\big) = \\frac{1}{2^{1/2}}\\sum_{x_{0}=0}^{1}|x_{0}\\rangle, \\\\\n",
    "|+\\rangle^{\\otimes 2} & = \\frac{1}{2^{1/2}}\\big(|0\\rangle + |1\\rangle\\big)\\frac{1}{2^{1/2}}\\big(|0\\rangle + |1\\rangle\\big) = \\frac{1}{2^{2/2}}\\big(|00\\rangle + |01\\rangle + |10\\rangle + |11\\rangle\\big) \\\\\n",
    "& = \\frac{1}{2^{2/2}}\\sum_{x_{1}=0}^{1}\\sum_{x_{0}=0}^{1}|x_{1}x_{0}\\rangle, \\\\\n",
    "& \\vdots \\\\\n",
    "|+\\rangle^{\\otimes n} & = \\frac{1}{2^{n/2}}\\sum_{x_{n-1}=0}^{1}\\cdots\\sum_{x_{1}=0}^{1}\\sum_{x_{0}=0}^{1}|x_{n-1}\\cdots x_{1}x_{0}\\rangle \\\\\n",
    "& = \\frac{1}{2^{n/2}}\\sum_{x=0}^{2^{n}-1}|x\\rangle, \\\\\n",
    "\\end{align}\n",
    "Notemos que cada sequência $x_{n-1}\\cdots x_{1}x_{0}$ nos fornece a representação binária, com $n$ bits, do número com representação decimal\n",
    "$$x = x_{0}2^{0}+x_{1}2^{1}+\\cdots+x_{n-1}2^{n-1}\\in[0,2^{n}-1].$$"
   ]
  },
  {
   "cell_type": "markdown",
   "id": "cf9049a1",
   "metadata": {},
   "source": [
    "Teremos assim que\n",
    "$$|\\psi_{1}\\rangle = \\frac{1}{2^{n/2}}\\sum_{x=0}^{2^{n}-1}|x\\rangle|-\\rangle = \\frac{1}{2^{n/2}}\\sum_{x=0}^{2^{n}-1}|x\\rangle\\frac{|0\\rangle-|1\\rangle}{\\sqrt{2}}.$$\n",
    "\n",
    "Agora vamos para a aplicação do oráculo, que neste caso também é definido como\n",
    "$$U_{f}|x\\rangle|y\\rangle := |x\\rangle|y\\oplus f(x)\\rangle.$$\n",
    "Com isso obteremos\n",
    "\\begin{align}\n",
    "|\\psi_{2}\\rangle & = U_{f}|\\psi_{1}\\rangle = \\frac{1}{2^{(n+1)/2}}\\sum_{x=0}^{2^{n}-1}\\big(U_{f}|x\\rangle|0\\rangle - U_{f}|x\\rangle|1\\rangle\\big) \\\\\n",
    "& = \\frac{1}{2^{(n+1)/2}}\\sum_{x=0}^{2^{n}-1}\\big(|x\\rangle|0\\oplus f(x)\\rangle - |x\\rangle|1\\oplus f(x)\\rangle\\big) \\\\\n",
    "& = \\frac{1}{2^{n/2}}\\sum_{x=0}^{2^{n}-1}|x\\rangle\\frac{|f(x)\\rangle - |\\bar{f(x)}\\rangle}{\\sqrt{2}} = \\frac{1}{2^{n/2}}\\sum_{x=0}^{2^{n}-1}|x\\rangle(-1)^{f(x)}|-\\rangle \\\\\n",
    "& = \\frac{1}{2^{n/2}}\\sum_{x_{n-1},\\cdots, x_{1},x_{0}=0}^{1}(-1)^{f(x_{n-1}\\cdots x_{1}x_{0})}|x_{n-1}\\cdots x_{1}x_{0}\\rangle|-\\rangle.\n",
    "\\end{align}"
   ]
  },
  {
   "cell_type": "markdown",
   "id": "f38669a2",
   "metadata": {},
   "source": [
    "Por fim, notando que \n",
    "$$H|x_{j}\\rangle = \\frac{1}{2^{1/2}}\\big(|0\\rangle+(-1)^{x_{j}}|1\\rangle\\big),$$\n",
    "aplicamos as $n$ portas de Hadamard para obter\n",
    "\\begin{align}\n",
    "|\\psi_{3}\\rangle &= H^{\\otimes n}\\otimes I|\\psi_{2}\\rangle = \\frac{1}{2^{n/2}}\\sum_{x_{n-1},\\cdots, x_{1},x_{0}=0}^{1}(-1)^{f(x_{n-1}\\cdots x_{1}x_{0})}\\Big(H|x_{n-1}\\rangle\\cdots H|x_{1}\\rangle H|x_{0}\\rangle\\Big)|-\\rangle \\\\\n",
    "&  = \\frac{1}{2^{n}}\\sum_{x_{n-1},\\cdots, x_{1},x_{0}=0}^{1}(-1)^{f(x_{n-1}\\cdots x_{1}x_{0})}\\Big(\\big(|0\\rangle+(-1)^{x_{n-1}}|1\\rangle\\big)\\cdots \\big(|0\\rangle+(-1)^{x_{1}}|1\\rangle\\big) \\big(|0\\rangle+(-1)^{x_{0}}|1\\rangle\\big)\\Big)|-\\rangle\n",
    "\\end{align}\n",
    "Agora, notamos que\n",
    "$$\n",
    "\\big(|0\\rangle+(-1)^{x_{j}}|1\\rangle\\big) = (-1)^{x_{j}0}|0\\rangle + (-1)^{x_{j}1}|1\\rangle = \\sum_{z_{j}=0}^{1}(-1)^{x_{j}z_{j}}|z_{j}\\rangle, \\\\\n",
    "$$\n",
    "para escrever\n",
    "\\begin{align}\n",
    "|\\psi_{3}\\rangle & = \\frac{1}{2^{n}}\\sum_{x_{n-1},\\cdots, x_{1},x_{0}=0}^{1}(-1)^{f(x_{n-1}\\cdots x_{1}x_{0})}\\Big(\\sum_{z_{n-1}=0}^{1}(-1)^{x_{n-1}z_{n-1}}|z_{n-1}\\rangle\\cdots \\sum_{z_{1}=0}^{1}(-1)^{x_{1}z_{1}}|z_{1}\\rangle \\sum_{z_{0}=0}^{1}(-1)^{x_{0}z_{0}}|z_{0}\\rangle\\Big)|-\\rangle \\\\\n",
    "& = \\frac{1}{2^{n}}\\sum_{x_{n-1},\\cdots, x_{1},x_{0}=0}^{1}\\sum_{z_{n-1},\\cdots, z_{1},z_{0}=0}^{1}(-1)^{f(x_{n-1}\\cdots x_{1}x_{0})+x_{n-1}z_{n-1}+\\cdots+x_{1}z_{1}+x_{0}z_{0}}|z_{n-1}\\cdots z_{1}z_{0}\\rangle|-\\rangle \\\\ \n",
    "& =: \\frac{1}{2^{n}}\\sum_{x=0}^{2^{n}-1}\\sum_{z=0}^{2^{n}-1}(-1)^{f(x)+x\\cdot z}|z\\rangle|-\\rangle =: \\sum_{z=0}^{2^{n}-1}c_{z}|z\\rangle|-\\rangle,\n",
    "\\end{align}\n",
    "em que definimos\n",
    "$$x\\cdot z := x_{n-1}z_{n-1}+\\cdots+x_{1}z_{1}+x_{0}z_{0} = \\sum_{j=0}^{n-1}x_{j}z_{j}$$\n",
    "e\n",
    "$$c_{z} := \\frac{1}{2^{n}}\\sum_{x=0}^{2^{n}-1}(-1)^{f(x)+x\\cdot z}.$$"
   ]
  },
  {
   "cell_type": "markdown",
   "id": "2be9f13f",
   "metadata": {},
   "source": [
    "Seguindo, olhamos para o coeficiente $c_{0}=c_{0\\cdots00}$. Nesse caso, como $z_{n-1}=\\cdots=z_{1}=z_{0}=0$ teremos \n",
    "$x\\cdot z=0$ e\n",
    "$$c_{0} = \\frac{1}{2^{n}}\\sum_{x=0}^{2^{n}-1}(-1)^{f(x)}.$$\n",
    "\n",
    "Por conseguinte\n",
    "\\begin{equation}\n",
    "\\begin{cases}\n",
    "f\\text{ é constante }\\therefore c_{0} = \\frac{1}{2^{n}}\\sum_{x=0}^{2^{n}-1}(\\pm 1) = \\pm 1 \\ \\therefore\\ Pr(0\\cdots 00)=1, \\\\\n",
    "f\\text{ é balanceada }\\therefore c_{0} = \\frac{1}{2^{n}}0 = 0 \\ \\therefore\\ Pr(0\\cdots 00)=0.\n",
    "\\end{cases}\n",
    "\\end{equation}\n",
    "Acima usamos que se $f$ é constante então $f(x)$ é $=0$ ou $=1$ pra todo $x$. Se $f$ é balanceada, então $f(x)$ é $=0$ para metade dos valores de $x$ e $=1$ para a outra metade dos valores de $x$."
   ]
  },
  {
   "cell_type": "markdown",
   "id": "3fc09df2",
   "metadata": {},
   "source": [
    "## Implementação no IBMQ"
   ]
  },
  {
   "cell_type": "code",
   "execution_count": 21,
   "id": "1ce026f0",
   "metadata": {},
   "outputs": [],
   "source": [
    "from qiskit import *"
   ]
  },
  {
   "cell_type": "markdown",
   "id": "19448964",
   "metadata": {},
   "source": [
    "Exemplo de função constante:\n",
    "$$f_{c}(x)=1.$$"
   ]
  },
  {
   "cell_type": "code",
   "execution_count": 39,
   "id": "67cb351a",
   "metadata": {},
   "outputs": [
    {
     "data": {
      "text/html": [
       "<pre style=\"word-wrap: normal;white-space: pre;background: #fff0;line-height: 1.1;font-family: &quot;Courier New&quot;,Courier,monospace\">             \n",
       "q144_0: ─────\n",
       "             \n",
       "q144_1: ─────\n",
       "             \n",
       "q144_2: ─────\n",
       "        ┌───┐\n",
       "q144_3: ┤ X ├\n",
       "        └───┘</pre>"
      ],
      "text/plain": [
       "             \n",
       "q144_0: ─────\n",
       "             \n",
       "q144_1: ─────\n",
       "             \n",
       "q144_2: ─────\n",
       "        ┌───┐\n",
       "q144_3: ┤ X ├\n",
       "        └───┘"
      ]
     },
     "execution_count": 39,
     "metadata": {},
     "output_type": "execute_result"
    }
   ],
   "source": [
    "def Uf_c(n):\n",
    "    qr = QuantumRegister(n+1); qc = QuantumCircuit(qr, name = 'Uf_c')\n",
    "    qc.x(qr[n])\n",
    "    return qc\n",
    "qc = Uf_c(3); qc.draw()"
   ]
  },
  {
   "cell_type": "markdown",
   "id": "a0189aac",
   "metadata": {},
   "source": [
    "Exemplo de função balanceada:\n",
    "$$f_{b}(x)=\\begin{cases}0 \\text{ se } x\\le 3 \\\\ 1 \\text{ se } x> 3 \\end{cases}.$$"
   ]
  },
  {
   "cell_type": "code",
   "execution_count": 40,
   "id": "f0b941e7",
   "metadata": {},
   "outputs": [
    {
     "data": {
      "text/html": [
       "<pre style=\"word-wrap: normal;white-space: pre;background: #fff0;line-height: 1.1;font-family: &quot;Courier New&quot;,Courier,monospace\">             \n",
       "q145_0: ─────\n",
       "             \n",
       "q145_1: ─────\n",
       "             \n",
       "q145_2: ──■──\n",
       "        ┌─┴─┐\n",
       "q145_3: ┤ X ├\n",
       "        └───┘</pre>"
      ],
      "text/plain": [
       "             \n",
       "q145_0: ─────\n",
       "             \n",
       "q145_1: ─────\n",
       "             \n",
       "q145_2: ──■──\n",
       "        ┌─┴─┐\n",
       "q145_3: ┤ X ├\n",
       "        └───┘"
      ]
     },
     "execution_count": 40,
     "metadata": {},
     "output_type": "execute_result"
    }
   ],
   "source": [
    "def Uf_b(n):\n",
    "    qr = QuantumRegister(n+1); qc = QuantumCircuit(qr, name = 'Uf_b')\n",
    "    qc.cx(qr[n-1],qr[n])\n",
    "    return qc\n",
    "qc = Uf_b(3); qc.draw()"
   ]
  },
  {
   "cell_type": "code",
   "execution_count": 54,
   "id": "e1952ade",
   "metadata": {},
   "outputs": [],
   "source": [
    "def deutsch_jozsa(n, typ):\n",
    "    qr = QuantumRegister(n+1); cr = ClassicalRegister(n); qc = QuantumCircuit(qr,cr)\n",
    "    qc.x(qr[n])\n",
    "    for j in range(0,n+1):\n",
    "        qc.h(qr[j])\n",
    "    qc.barrier()\n",
    "    qrs = []\n",
    "    for j in range(0,n+1):\n",
    "        qrs.append(qr[j])\n",
    "    if typ == 'c':\n",
    "        qc_uf = Uf_c(n); qc.append(qc_uf, qrs)\n",
    "    elif typ == 'b':\n",
    "        qc_uf = Uf_b(n); qc.append(qc_uf, qrs)\n",
    "    qc.barrier()\n",
    "    for j in range(0,n):\n",
    "        qc.h(qr[j])\n",
    "    for j in range(0,n):\n",
    "        qc.measure(qr[j], cr[j])\n",
    "    return qc"
   ]
  },
  {
   "cell_type": "code",
   "execution_count": 55,
   "id": "2614db1c",
   "metadata": {},
   "outputs": [
    {
     "data": {
      "text/html": [
       "<pre style=\"word-wrap: normal;white-space: pre;background: #fff0;line-height: 1.1;font-family: &quot;Courier New&quot;,Courier,monospace\">        ┌───┐      ░ ┌───────┐ ░ ┌───┐┌─┐      \n",
       "q245_0: ┤ H ├──────░─┤0      ├─░─┤ H ├┤M├──────\n",
       "        ├───┤      ░ │       │ ░ ├───┤└╥┘┌─┐   \n",
       "q245_1: ┤ H ├──────░─┤1      ├─░─┤ H ├─╫─┤M├───\n",
       "        ├───┤      ░ │  Uf_c │ ░ ├───┤ ║ └╥┘┌─┐\n",
       "q245_2: ┤ H ├──────░─┤2      ├─░─┤ H ├─╫──╫─┤M├\n",
       "        ├───┤┌───┐ ░ │       │ ░ └───┘ ║  ║ └╥┘\n",
       "q245_3: ┤ X ├┤ H ├─░─┤3      ├─░───────╫──╫──╫─\n",
       "        └───┘└───┘ ░ └───────┘ ░       ║  ║  ║ \n",
       " c18: 3/═══════════════════════════════╩══╩══╩═\n",
       "                                       0  1  2 </pre>"
      ],
      "text/plain": [
       "        ┌───┐      ░ ┌───────┐ ░ ┌───┐┌─┐      \n",
       "q245_0: ┤ H ├──────░─┤0      ├─░─┤ H ├┤M├──────\n",
       "        ├───┤      ░ │       │ ░ ├───┤└╥┘┌─┐   \n",
       "q245_1: ┤ H ├──────░─┤1      ├─░─┤ H ├─╫─┤M├───\n",
       "        ├───┤      ░ │  Uf_c │ ░ ├───┤ ║ └╥┘┌─┐\n",
       "q245_2: ┤ H ├──────░─┤2      ├─░─┤ H ├─╫──╫─┤M├\n",
       "        ├───┤┌───┐ ░ │       │ ░ └───┘ ║  ║ └╥┘\n",
       "q245_3: ┤ X ├┤ H ├─░─┤3      ├─░───────╫──╫──╫─\n",
       "        └───┘└───┘ ░ └───────┘ ░       ║  ║  ║ \n",
       " c18: 3/═══════════════════════════════╩══╩══╩═\n",
       "                                       0  1  2 "
      ]
     },
     "execution_count": 55,
     "metadata": {},
     "output_type": "execute_result"
    }
   ],
   "source": [
    "qc = deutsch_jozsa(3, 'c'); qc.draw() # exemplo pra funcao constante"
   ]
  },
  {
   "cell_type": "markdown",
   "id": "df64e4b2",
   "metadata": {},
   "source": [
    "Simulação"
   ]
  },
  {
   "cell_type": "code",
   "execution_count": 45,
   "id": "e44f402a",
   "metadata": {},
   "outputs": [
    {
     "data": {
      "image/png": "[encoded data removed]",
      "text/plain": [
       "<Figure size 504x360 with 1 Axes>"
      ]
     },
     "execution_count": 45,
     "metadata": {},
     "output_type": "execute_result"
    }
   ],
   "source": [
    "simulator = Aer.get_backend('qasm_simulator')\n",
    "nshots = 8192\n",
    "result = execute(qc, backend = simulator, shots = nshots).result()\n",
    "from qiskit.tools.visualization import plot_histogram\n",
    "plot_histogram(result.get_counts(qc))"
   ]
  },
  {
   "cell_type": "markdown",
   "id": "e1262403",
   "metadata": {},
   "source": [
    "Experimento"
   ]
  },
  {
   "cell_type": "code",
   "execution_count": 46,
   "id": "33781b51",
   "metadata": {},
   "outputs": [
    {
     "name": "stderr",
     "output_type": "stream",
     "text": [
      "ibmqfactory.load_account:WARNING:2021-11-17 22:57:30,611: Credentials are already in use. The existing account in the session will be replaced.\n"
     ]
    },
    {
     "name": "stdout",
     "output_type": "stream",
     "text": [
      "Job Status: job has successfully run\n"
     ]
    }
   ],
   "source": [
    "qiskit.IBMQ.load_account()\n",
    "provider = qiskit.IBMQ.get_provider(hub='ibm-q', group='open', project='main')\n",
    "device = provider.get_backend('ibmq_belem')\n",
    "from qiskit.tools.monitor import backend_overview, backend_monitor\n",
    "job = execute(qc, backend = device, shots = nshots)\n",
    "from qiskit.tools.monitor import job_monitor\n",
    "job_monitor(job)"
   ]
  },
  {
   "cell_type": "code",
   "execution_count": 47,
   "id": "5c4098c7",
   "metadata": {},
   "outputs": [
    {
     "data": {
      "image/png": "[encoded data removed]",
      "text/plain": [
       "<Figure size 504x360 with 1 Axes>"
      ]
     },
     "execution_count": 47,
     "metadata": {},
     "output_type": "execute_result"
    }
   ],
   "source": [
    "result = job.result(); plot_histogram(result.get_counts(qc))"
   ]
  },
  {
   "cell_type": "code",
   "execution_count": 56,
   "id": "ce9ad938",
   "metadata": {},
   "outputs": [
    {
     "data": {
      "text/html": [
       "<pre style=\"word-wrap: normal;white-space: pre;background: #fff0;line-height: 1.1;font-family: &quot;Courier New&quot;,Courier,monospace\">        ┌───┐      ░ ┌───────┐ ░ ┌───┐┌─┐      \n",
       "q247_0: ┤ H ├──────░─┤0      ├─░─┤ H ├┤M├──────\n",
       "        ├───┤      ░ │       │ ░ ├───┤└╥┘┌─┐   \n",
       "q247_1: ┤ H ├──────░─┤1      ├─░─┤ H ├─╫─┤M├───\n",
       "        ├───┤      ░ │  Uf_b │ ░ ├───┤ ║ └╥┘┌─┐\n",
       "q247_2: ┤ H ├──────░─┤2      ├─░─┤ H ├─╫──╫─┤M├\n",
       "        ├───┤┌───┐ ░ │       │ ░ └───┘ ║  ║ └╥┘\n",
       "q247_3: ┤ X ├┤ H ├─░─┤3      ├─░───────╫──╫──╫─\n",
       "        └───┘└───┘ ░ └───────┘ ░       ║  ║  ║ \n",
       " c19: 3/═══════════════════════════════╩══╩══╩═\n",
       "                                       0  1  2 </pre>"
      ],
      "text/plain": [
       "        ┌───┐      ░ ┌───────┐ ░ ┌───┐┌─┐      \n",
       "q247_0: ┤ H ├──────░─┤0      ├─░─┤ H ├┤M├──────\n",
       "        ├───┤      ░ │       │ ░ ├───┤└╥┘┌─┐   \n",
       "q247_1: ┤ H ├──────░─┤1      ├─░─┤ H ├─╫─┤M├───\n",
       "        ├───┤      ░ │  Uf_b │ ░ ├───┤ ║ └╥┘┌─┐\n",
       "q247_2: ┤ H ├──────░─┤2      ├─░─┤ H ├─╫──╫─┤M├\n",
       "        ├───┤┌───┐ ░ │       │ ░ └───┘ ║  ║ └╥┘\n",
       "q247_3: ┤ X ├┤ H ├─░─┤3      ├─░───────╫──╫──╫─\n",
       "        └───┘└───┘ ░ └───────┘ ░       ║  ║  ║ \n",
       " c19: 3/═══════════════════════════════╩══╩══╩═\n",
       "                                       0  1  2 "
      ]
     },
     "execution_count": 56,
     "metadata": {},
     "output_type": "execute_result"
    }
   ],
   "source": [
    "qc = deutsch_jozsa(3, 'b'); qc.draw() # exemplo de funcao balanceada"
   ]
  },
  {
   "cell_type": "code",
   "execution_count": 49,
   "id": "f08f5606",
   "metadata": {},
   "outputs": [
    {
     "data": {
      "image/png": "[encoded data removed]",
      "text/plain": [
       "<Figure size 504x360 with 1 Axes>"
      ]
     },
     "execution_count": 49,
     "metadata": {},
     "output_type": "execute_result"
    }
   ],
   "source": [
    "result = execute(qc, backend = simulator, shots = nshots).result()\n",
    "plot_histogram(result.get_counts(qc))"
   ]
  },
  {
   "cell_type": "code",
   "execution_count": 50,
   "id": "bdac3c38",
   "metadata": {},
   "outputs": [
    {
     "name": "stdout",
     "output_type": "stream",
     "text": [
      "Job Status: job has successfully run\n"
     ]
    }
   ],
   "source": [
    "job = execute(qc, backend = device, shots = nshots)\n",
    "job_monitor(job)"
   ]
  },
  {
   "cell_type": "code",
   "execution_count": 51,
   "id": "1542bd4f",
   "metadata": {},
   "outputs": [
    {
     "data": {
      "image/png": "[encoded data removed]",
      "text/plain": [
       "<Figure size 504x360 with 1 Axes>"
      ]
     },
     "execution_count": 51,
     "metadata": {},
     "output_type": "execute_result"
    }
   ],
   "source": [
    "result = job.result(); plot_histogram(result.get_counts(qc))"
   ]
  },
  {
   "cell_type": "markdown",
   "id": "244ca1eb",
   "metadata": {},
   "source": [
    "__Exercício__: Teste o algoritmo de Deutsch-Jozsa para outro par de funções $f$ (constante e balanceada). Use quantos qubits achar conveniente."
   ]
  },
  {
   "cell_type": "code",
   "execution_count": null,
   "id": "bd86190f",
   "metadata": {},
   "outputs": [],
   "source": []
  }
 ],
 "metadata": {
  "kernelspec": {
   "display_name": "Python 3 (ipykernel)",
   "language": "python",
   "name": "python3"
  },
  "language_info": {
   "codemirror_mode": {
    "name": "ipython",
    "version": 3
   },
   "file_extension": ".py",
   "mimetype": "text/x-python",
   "name": "python",
   "nbconvert_exporter": "python",
   "pygments_lexer": "ipython3",
   "version": "3.8.11"
  }
 },
 "nbformat": 4,
 "nbformat_minor": 5
}
