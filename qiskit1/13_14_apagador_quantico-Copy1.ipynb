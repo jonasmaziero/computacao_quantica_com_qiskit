{
 "cells": [
  {
   "cell_type": "code",
   "execution_count": 82,
   "id": "ae78d77c",
   "metadata": {},
   "outputs": [],
   "source": [
    "%run init.ipynb"
   ]
  },
  {
   "cell_type": "markdown",
   "id": "d06ed120",
   "metadata": {},
   "source": [
    "# Apagador quântico\n",
    "\n",
    "## Obtendo a informação de caminho\n",
    "O princípio de complementariedade de Bohr diz que não podemos observar o comportamento ondulatório do quanton (as oscilações no gráfico das probabilidades para o interferômetro de Mach-Zehnder (IMZ)) e saber seu caminho usando um único arranjo experimental. Se sabemos por qual caminho o quanton rumou, temos que $Pr(D_{0})=Pr(D_{1})=1/2\\ \\forall \\phi$. Para observarmos o padrão de interferência com máxima visibilidade, não podemos ter nenhuma informação de caminho. \n",
    "\n",
    "Podemos obter informação de caminho fazendo uma medida (forte ou fraca) em um dos caminhos, depois do primeiro divisor de feixes. Podemos obter informação de caminho também emaranhando o quanton com outro quanton auxiliar (_emaranhamento_ parcial seria equivalente à menor intensidade das medidas!?). Por agora, vamos seguir essa última possibilidade aqui. \n",
    "\n",
    "OBS: Seria interessante fazer essas medidas fracas usando o protocolo do Marcos. Pode ser uma ideia para \"completar\" o paper... Temos que ver ainda como implementar isso no IBMQ...\n",
    "\n",
    "Vamos utilizar o interferômetro de Mach-Zehnder agora com o 1º divisor de feixes trocado por um __divisor de feixes polarizador (DFP)__. \n",
    "<img src = 'fig_dfp.jpeg' width = '300'>\n",
    "O DFP deixa passar fótons com uma certa polarização, digamos horizontal, e reflete fótons com polarização ortogonal à 1ª, que seria vertical neste caso. Em equações\n",
    "\\begin{align}\n",
    "& U_{dfp}|H\\rangle|0\\rangle = |H\\rangle|0\\rangle, U_{dfp}|V\\rangle|0\\rangle = i|V\\rangle|1\\rangle, \\\\\n",
    "& U_{dfp}|H\\rangle|1\\rangle = i|H\\rangle|0\\rangle, U_{dfp}|V\\rangle|1\\rangle = |V\\rangle|1\\rangle.\n",
    "\\end{align}\n",
    "Veja a figura abaixo.\n",
    "<img src='fig_dfp.png' width = '300'>\n",
    "__OBS.__ Se teria que ir mais a fundo para verificar se a ação do DFP é de fato essa."
   ]
  },
  {
   "cell_type": "markdown",
   "id": "cc50ede5",
   "metadata": {},
   "source": [
    "Então, para estados de superposição da polarização, o DFP pode criar emaranhamento entre os graus de liberdade de polarização e modos espaciais do fóton:\n",
    "\\begin{align}\n",
    "U_{dfp}|\\psi\\rangle|0\\rangle & = U_{dfp}(c_{H}|H\\rangle+c_{V}|V\\rangle)|0\\rangle  = c_{H}U_{dfp}|H\\rangle|0\\rangle+c_{V}U_{dfp}|V\\rangle|0\\rangle \\\\\n",
    "& = c_{H}|H\\rangle|0\\rangle + ic_{V}|V\\rangle|1\\rangle.\n",
    "\\end{align}\n",
    "\n",
    "<img src = 'fig_imz_dfp.png' width = '300'>\n",
    "\n",
    "Vemos com isso que podemos acessar a informação sobre por qual caminho o fóton seguiu através desse seu outro grau de liberdade, a sua polarização. Isso nos indica que a visibilidade do padrão de interferência, no IMZ (veja a figura acima), deve ser nula. Vamos fazer as contas:\n",
    "\\begin{align}\n",
    "|\\psi_{0}\\rangle &= (c_{H}|H\\rangle + c_{V}|V\\rangle)|0\\rangle, \\\\\n",
    "|\\psi_{1}\\rangle &= U_{dfp}|\\psi_{0}\\rangle = c_{H}|H\\rangle|0\\rangle + ic_{V}|V\\rangle|1\\rangle, \\\\\n",
    "|\\psi_{2}\\rangle &= U_{e}|\\psi_{1}\\rangle =  ic_{H}|H\\rangle|1\\rangle + iic_{V}|V\\rangle|0\\rangle =  ic_{H}|H\\rangle|1\\rangle - c_{V}|V\\rangle|0\\rangle, \\\\\n",
    "|\\psi_{3}\\rangle &= U_{\\phi}|\\psi_{2}\\rangle =  ie^{i\\phi}c_{H}|H\\rangle|1\\rangle - c_{V}|V\\rangle|0\\rangle, \\\\\n",
    "|\\psi_{4}\\rangle &= U_{df}|\\psi_{3}\\rangle =  ie^{i\\phi}c_{H}|H\\rangle(i|0\\rangle+|1\\rangle)/\\sqrt{2} - c_{V}|V\\rangle(|0\\rangle+i|1\\rangle)/\\sqrt{2}.\n",
    "\\end{align}"
   ]
  },
  {
   "cell_type": "markdown",
   "id": "cfa3602b",
   "metadata": {},
   "source": [
    "O operador densidade correspondente é\n",
    "\\begin{align}\n",
    "\\rho_{4} &= |\\psi_{4}\\rangle\\langle\\psi_{4}| \\\\\n",
    "& = |c_{H}|^{2}|H\\rangle\\langle H|(i|0\\rangle+|1\\rangle)(-i\\langle 0|+\\langle 1|)/2 + |c_{V}|^{2}|V\\rangle\\langle V|(|0\\rangle+i|1\\rangle)(\\langle 0|-i\\langle 1|)/2 \\\\\n",
    "& + \\big(A|H\\rangle\\langle V| + t.c.\\big).\n",
    "\\end{align}\n",
    "Se tomamos o traço parcial sobre o grau de liberdade de polarização, obteremos o operador densidade reduzido do grau de liberdade espacial:\n",
    "\\begin{align}\n",
    "\\rho_{4}^{e} &= Tr_{p}(\\rho_{4}) \\\\\n",
    "& = |c_{H}|^{2}(i|0\\rangle+|1\\rangle)(-i\\langle 0|+\\langle 1|)/2 + |c_{V}|^{2}(|0\\rangle+i|1\\rangle)(\\langle 0|-i\\langle 1|)/2 \\\\\n",
    "&= ((|c_{H}|^{2}+|c_{V}|^{2})/2)|0\\rangle\\langle 0| + E|1\\rangle\\langle 1| + \\big(C|0\\rangle\\langle 1|+ t.c.\\big) \\\\\n",
    "&= (1/2)|0\\rangle\\langle 0| + E|1\\rangle\\langle 1| + \\big(C|0\\rangle\\langle 1|+ t.c.\\big)\n",
    "\\end{align}\n",
    "\n",
    "A probabilidade que nos interessa é então\n",
    "$$Pr(0) = \\langle 0|\\rho_{4}^{e}|0\\rangle = 1/2.$$\n",
    "Por conseguinte, $V=0$. \n",
    "\n",
    "Note que isso ocorre para qualquer que seja a quantidade de emaranhamento criado. Esse resultado é esperado pois mesmo que o estado de entrada seja $|\\psi_{0}\\rangle=|H,0\\rangle$ saberemos que o caminho tomado logo depois do DFP é o horizontal. Se houver superposição inicial de polarização, não conhecemos o caminho, por causa da superposição quântica, mas esta informação está disponível, uma vez que podemos descobrir esse caminho colocando um DFP entre o DFP existente e o espelho."
   ]
  },
  {
   "cell_type": "markdown",
   "id": "b1911dac",
   "metadata": {},
   "source": [
    "### Implementação no IBMQ\n",
    "\n",
    "Primeiramente, temos que obter a matriz para a transformação unitária implementada pelo DFP. Para um estado qualquer, teremos\n",
    "\\begin{align}\n",
    "U_{dfp}|\\Psi\\rangle & = c_{H0}U_{dfp}|H0\\rangle + c_{H1}U_{dfp}|H1\\rangle + c_{V0}U_{dfp}|V0\\rangle + c_{V1}U_{dfp}|V1\\rangle \\\\\n",
    "& = c_{H0}|H0\\rangle + ic_{H1}|H0\\rangle + ic_{V0}|V1\\rangle + c_{V1}|V1\\rangle \\\\\n",
    "& = \\begin{bmatrix} c_{H0}+ ic_{H1} \\\\ 0 \\\\ 0 \\\\ ic_{V0}+c_{V1} \\end{bmatrix} = U_{dfp}\\begin{bmatrix} c_{H0} \\\\ c_{H1} \\\\ c_{V0} \\\\ c_{V1} \\end{bmatrix} = \\begin{bmatrix}1&i&0&0  \\\\ 0&0&0&0 \\\\ 0&0&0&0 \\\\ 0&0&i&1 \\\\  \\end{bmatrix}\\begin{bmatrix} c_{H0} \\\\ c_{H1} \\\\ c_{V0} \\\\ c_{V1} \\end{bmatrix}.\n",
    "\\end{align}"
   ]
  },
  {
   "cell_type": "markdown",
   "id": "9caf33f8",
   "metadata": {},
   "source": [
    "Mas essa matriz, obviamente, não é unitária. Mas, com a ajuda do código abaixo, vemos que o DFP é representado pela seguinte matriz unitária:\n",
    "$$U_{dfp} \\doteq \\frac{1}{\\sqrt{2}}\\begin{bmatrix} 1&i&0&0 \\\\ i&1&0&0 \\\\ 0&0&1&i \\\\ 0&0&i&1 \\end{bmatrix} = C_{U_{df}}^{12}(X\\otimes I)C_{U_{df}}^{12}(X\\otimes I) = (X\\otimes I)C_{U_{df}}^{12}(X\\otimes I)C_{U_{df}}^{12} = I\\otimes U_{df},$$\n",
    "com\n",
    "$$C_{U_{df}}^{12} = |0\\rangle\\langle 0|\\otimes I + |1\\rangle\\langle 1|\\otimes U_{df}$$\n",
    "e \n",
    "$$U_{df} \\doteq \\frac{1}{\\sqrt{2}}\\begin{bmatrix}1&i \\\\ i&1 \\end{bmatrix} .$$\n",
    "\n",
    "OBS: Vale observar que $\\bar{C}_{U_{df}}^{12} = (X\\otimes I)C_{U_{df}}^{12}(X\\otimes I)$ é igual a $C_{U_{df}}^{12}$ com ação ocorrendo somente se o estado do controle for $|0\\rangle$:\n",
    "$$\\bar{C}_{U_{df}}^{12} = (X\\otimes I)C_{U_{df}}^{12}(X\\otimes I) = |1\\rangle\\langle 1|\\otimes I + |0\\rangle\\langle 0|\\otimes U_{df}.$$\n",
    "\n",
    "OBS: A representação matricial é feita na base padrão \n",
    "$$\\{|H0\\rangle,|H1\\rangle,|V0\\rangle,|V1\\rangle\\}=:\\{|00\\rangle,|01\\rangle,|10\\rangle,|11\\rangle\\},$$\n",
    "em que definimos\n",
    "$$|0\\rangle:=|H\\rangle \\text{ e } |1\\rangle:=|V\\rangle.$$\n",
    "\n",
    "OBS: Vale notar que\n",
    "\\begin{equation}\n",
    "U_{dfp}|\\Psi\\rangle = \\frac{1}{\\sqrt{2}}\\begin{bmatrix}1&i&0&0  \\\\ i&1&0&0 \\\\ 0&0&1&i \\\\ 0&0&i&1 \\\\  \\end{bmatrix}\\begin{bmatrix} c_{H0} \\\\ c_{H1} \\\\ c_{V0} \\\\ c_{V1} \\end{bmatrix} = \\frac{1}{\\sqrt{2}}\\begin{bmatrix} c_{H0}+ ic_{H1} \\\\ ic_{H0} + c_{H1} \\\\ c_{V0}+ic_{V1} \\\\ ic_{V0}+c_{V1} \\end{bmatrix}.\n",
    "\\end{equation}\n",
    "__OBS:__ Depois de \"resultados errados\" na simulação dos circuitos quânticos, percebi que essa matriz unitária não implementa a ação que queremos implementar. Por Exemplo\n",
    "$$U_{dfp}|00\\rangle = |0+\\rangle \\ne |00\\rangle.$$\n",
    "Por isso, abaixo vamos fazer outra proposta, que também é mais realística do ponto de vista físico."
   ]
  },
  {
   "cell_type": "code",
   "execution_count": 83,
   "id": "994cdfb4",
   "metadata": {},
   "outputs": [
    {
     "data": {
      "image/png": "[encoded data removed]",
      "text/latex": [
       "$\\displaystyle \\left[\\begin{matrix}\\frac{\\sqrt{2}}{2} & 0.5 \\sqrt{2} i & 0 & 0\\\\0.5 \\sqrt{2} i & \\frac{\\sqrt{2}}{2} & 0 & 0\\\\0 & 0 & \\frac{\\sqrt{2}}{2} & 0.5 \\sqrt{2} i\\\\0 & 0 & 0.5 \\sqrt{2} i & \\frac{\\sqrt{2}}{2}\\end{matrix}\\right]$"
      ],
      "text/plain": [
       "⎡   √2                                 ⎤\n",
       "⎢   ──     0.5⋅√2⋅ⅈ     0         0    ⎥\n",
       "⎢   2                                  ⎥\n",
       "⎢                                      ⎥\n",
       "⎢             √2                       ⎥\n",
       "⎢0.5⋅√2⋅ⅈ     ──        0         0    ⎥\n",
       "⎢             2                        ⎥\n",
       "⎢                                      ⎥\n",
       "⎢                       √2             ⎥\n",
       "⎢   0         0         ──     0.5⋅√2⋅ⅈ⎥\n",
       "⎢                       2              ⎥\n",
       "⎢                                      ⎥\n",
       "⎢                                 √2   ⎥\n",
       "⎢   0         0      0.5⋅√2⋅ⅈ     ──   ⎥\n",
       "⎣                                 2    ⎦"
      ]
     },
     "execution_count": 83,
     "metadata": {},
     "output_type": "execute_result"
    }
   ],
   "source": [
    "Udfp = (1/sqrt(2))*Matrix([[1,1j,0,0],[1j,1,0,0],[0,0,1,1j],[0,0,1j,1]]); Udfp"
   ]
  },
  {
   "cell_type": "code",
   "execution_count": 84,
   "id": "70642c12",
   "metadata": {},
   "outputs": [
    {
     "data": {
      "image/png": "[encoded data removed]",
      "text/latex": [
       "$\\displaystyle \\left( \\left[\\begin{matrix}1.0 & 0 & 0 & 0\\\\0 & 1.0 & 0 & 0\\\\0 & 0 & 1.0 & 0\\\\0 & 0 & 0 & 1.0\\end{matrix}\\right], \\  \\left[\\begin{matrix}1.0 & 0 & 0 & 0\\\\0 & 1.0 & 0 & 0\\\\0 & 0 & 1.0 & 0\\\\0 & 0 & 0 & 1.0\\end{matrix}\\right]\\right)$"
      ],
      "text/plain": [
       "⎛⎡1.0   0    0    0 ⎤  ⎡1.0   0    0    0 ⎤⎞\n",
       "⎜⎢                  ⎥  ⎢                  ⎥⎟\n",
       "⎜⎢ 0   1.0   0    0 ⎥  ⎢ 0   1.0   0    0 ⎥⎟\n",
       "⎜⎢                  ⎥, ⎢                  ⎥⎟\n",
       "⎜⎢ 0    0   1.0   0 ⎥  ⎢ 0    0   1.0   0 ⎥⎟\n",
       "⎜⎢                  ⎥  ⎢                  ⎥⎟\n",
       "⎝⎣ 0    0    0   1.0⎦  ⎣ 0    0    0   1.0⎦⎠"
      ]
     },
     "execution_count": 84,
     "metadata": {},
     "output_type": "execute_result"
    }
   ],
   "source": [
    "Udfp*conjugate(Udfp), conjugate(Udfp)*Udfp # ok!"
   ]
  },
  {
   "cell_type": "code",
   "execution_count": 85,
   "id": "b583282a",
   "metadata": {},
   "outputs": [
    {
     "data": {
      "image/png": "[encoded data removed]",
      "text/latex": [
       "$\\displaystyle \\left[\\begin{matrix}\\frac{\\sqrt{2}}{2} & 0.5 \\sqrt{2} i\\\\0.5 \\sqrt{2} i & \\frac{\\sqrt{2}}{2}\\end{matrix}\\right]$"
      ],
      "text/plain": [
       "⎡   √2             ⎤\n",
       "⎢   ──     0.5⋅√2⋅ⅈ⎥\n",
       "⎢   2              ⎥\n",
       "⎢                  ⎥\n",
       "⎢             √2   ⎥\n",
       "⎢0.5⋅√2⋅ⅈ     ──   ⎥\n",
       "⎣             2    ⎦"
      ]
     },
     "execution_count": 85,
     "metadata": {},
     "output_type": "execute_result"
    }
   ],
   "source": [
    "Udf = (1/sqrt(2))*Matrix([[1,1j],[1j,1]]); Udf"
   ]
  },
  {
   "cell_type": "code",
   "execution_count": 86,
   "id": "e22eb437",
   "metadata": {},
   "outputs": [
    {
     "data": {
      "image/png": "[encoded data removed]",
      "text/latex": [
       "$\\displaystyle \\left( \\left[\\begin{matrix}1 & 0 & 0 & 0\\\\0 & 1 & 0 & 0\\\\0 & 0 & \\frac{\\sqrt{2}}{2} & 0.5 \\sqrt{2} i\\\\0 & 0 & 0.5 \\sqrt{2} i & \\frac{\\sqrt{2}}{2}\\end{matrix}\\right], \\  \\left[\\begin{matrix}\\frac{\\sqrt{2}}{2} & 0.5 \\sqrt{2} i & 0 & 0\\\\0.5 \\sqrt{2} i & \\frac{\\sqrt{2}}{2} & 0 & 0\\\\0 & 0 & 1 & 0\\\\0 & 0 & 0 & 1\\end{matrix}\\right], \\  \\left[\\begin{matrix}\\frac{\\sqrt{2}}{2} & 0.5 \\sqrt{2} i & 0 & 0\\\\0.5 \\sqrt{2} i & \\frac{\\sqrt{2}}{2} & 0 & 0\\\\0 & 0 & \\frac{\\sqrt{2}}{2} & 0.5 \\sqrt{2} i\\\\0 & 0 & 0.5 \\sqrt{2} i & \\frac{\\sqrt{2}}{2}\\end{matrix}\\right], \\  \\left[\\begin{matrix}\\frac{\\sqrt{2}}{2} & 0.5 \\sqrt{2} i & 0 & 0\\\\0.5 \\sqrt{2} i & \\frac{\\sqrt{2}}{2} & 0 & 0\\\\0 & 0 & \\frac{\\sqrt{2}}{2} & 0.5 \\sqrt{2} i\\\\0 & 0 & 0.5 \\sqrt{2} i & \\frac{\\sqrt{2}}{2}\\end{matrix}\\right]\\right)$"
      ],
      "text/plain": [
       "⎛                                                        ⎡   √2               \n",
       "⎜                                                        ⎢   ──     0.5⋅√2⋅ⅈ  \n",
       "⎜⎡1  0     0         0    ⎤  ⎡   √2                   ⎤  ⎢   2                \n",
       "⎜⎢                        ⎥  ⎢   ──     0.5⋅√2⋅ⅈ  0  0⎥  ⎢                    \n",
       "⎜⎢0  1     0         0    ⎥  ⎢   2                    ⎥  ⎢             √2     \n",
       "⎜⎢                        ⎥  ⎢                        ⎥  ⎢0.5⋅√2⋅ⅈ     ──     \n",
       "⎜⎢         √2             ⎥  ⎢             √2         ⎥  ⎢             2      \n",
       "⎜⎢0  0     ──     0.5⋅√2⋅ⅈ⎥, ⎢0.5⋅√2⋅ⅈ     ──     0  0⎥, ⎢                    \n",
       "⎜⎢         2              ⎥  ⎢             2          ⎥  ⎢                    \n",
       "⎜⎢                        ⎥  ⎢                        ⎥  ⎢   0         0      \n",
       "⎜⎢                   √2   ⎥  ⎢   0         0      1  0⎥  ⎢                    \n",
       "⎜⎢0  0  0.5⋅√2⋅ⅈ     ──   ⎥  ⎢                        ⎥  ⎢                    \n",
       "⎜⎣                   2    ⎦  ⎣   0         0      0  1⎦  ⎢                    \n",
       "⎜                                                        ⎢   0         0      \n",
       "⎝                                                        ⎣                    \n",
       "\n",
       "                  ⎤  ⎡   √2                                 ⎤⎞\n",
       "   0         0    ⎥  ⎢   ──     0.5⋅√2⋅ⅈ     0         0    ⎥⎟\n",
       "                  ⎥  ⎢   2                                  ⎥⎟\n",
       "                  ⎥  ⎢                                      ⎥⎟\n",
       "                  ⎥  ⎢             √2                       ⎥⎟\n",
       "   0         0    ⎥  ⎢0.5⋅√2⋅ⅈ     ──        0         0    ⎥⎟\n",
       "                  ⎥  ⎢             2                        ⎥⎟\n",
       "                  ⎥, ⎢                                      ⎥⎟\n",
       "   √2             ⎥  ⎢                       √2             ⎥⎟\n",
       "   ──     0.5⋅√2⋅ⅈ⎥  ⎢   0         0         ──     0.5⋅√2⋅ⅈ⎥⎟\n",
       "   2              ⎥  ⎢                       2              ⎥⎟\n",
       "                  ⎥  ⎢                                      ⎥⎟\n",
       "             √2   ⎥  ⎢                                 √2   ⎥⎟\n",
       "0.5⋅√2⋅ⅈ     ──   ⎥  ⎢   0         0      0.5⋅√2⋅ⅈ     ──   ⎥⎟\n",
       "             2    ⎦  ⎣                                 2    ⎦⎠"
      ]
     },
     "execution_count": 86,
     "metadata": {},
     "output_type": "execute_result"
    }
   ],
   "source": [
    "X = Matrix([[0,1],[1,0]]); C_Udf = tp(proj(cb(2,0)),id(2)) + tp(proj(cb(2,1)),Udf)\n",
    "C_Udf, tp(X,id(2))*C_Udf*tp(X,id(2)), tp(X,id(2))*C_Udf*tp(X,id(2))*C_Udf, C_Udf*tp(X,id(2))*C_Udf*tp(X,id(2))"
   ]
  },
  {
   "cell_type": "code",
   "execution_count": 87,
   "id": "56f4ca98",
   "metadata": {},
   "outputs": [
    {
     "data": {
      "image/png": "[encoded data removed]",
      "text/latex": [
       "$\\displaystyle \\left[\\begin{matrix}\\frac{\\sqrt{2}}{2} & 0.5 \\sqrt{2} i & 0 & 0\\\\0.5 \\sqrt{2} i & \\frac{\\sqrt{2}}{2} & 0 & 0\\\\0 & 0 & \\frac{\\sqrt{2}}{2} & 0.5 \\sqrt{2} i\\\\0 & 0 & 0.5 \\sqrt{2} i & \\frac{\\sqrt{2}}{2}\\end{matrix}\\right]$"
      ],
      "text/plain": [
       "⎡   √2                                 ⎤\n",
       "⎢   ──     0.5⋅√2⋅ⅈ     0         0    ⎥\n",
       "⎢   2                                  ⎥\n",
       "⎢                                      ⎥\n",
       "⎢             √2                       ⎥\n",
       "⎢0.5⋅√2⋅ⅈ     ──        0         0    ⎥\n",
       "⎢             2                        ⎥\n",
       "⎢                                      ⎥\n",
       "⎢                       √2             ⎥\n",
       "⎢   0         0         ──     0.5⋅√2⋅ⅈ⎥\n",
       "⎢                       2              ⎥\n",
       "⎢                                      ⎥\n",
       "⎢                                 √2   ⎥\n",
       "⎢   0         0      0.5⋅√2⋅ⅈ     ──   ⎥\n",
       "⎣                                 2    ⎦"
      ]
     },
     "execution_count": 87,
     "metadata": {},
     "output_type": "execute_result"
    }
   ],
   "source": [
    "C_Udf*tp(X,id(2))*C_Udf*tp(X,id(2))"
   ]
  },
  {
   "cell_type": "markdown",
   "id": "89bd0b15",
   "metadata": {},
   "source": [
    "### Como implementar $C_{U_{df}}^{12}=|0\\rangle\\langle 0|\\otimes I + |1\\rangle\\langle 1|\\otimes U_{df}$?\n",
    "Para\n",
    "$$U = e^{i\\alpha}AXBXC$$\n",
    "com \n",
    "$$ABC = I,$$\n",
    "pode-se escrever\n",
    "$$C_{U}^{12} = \\big(P(\\alpha)\\otimes A\\big)C_{X}^{12}\\big(I\\otimes B\\big)C_{X}^{12}\\big(I\\otimes C\\big).$$\n",
    "Verificação:\n",
    "\\begin{align}\n",
    "& \\big(P(\\alpha)\\otimes A\\big)C_{X}^{12}\\big(I\\otimes B\\big)C_{X}^{12}\\big(I\\otimes C\\big) \\\\\n",
    "& = \\big(P(\\alpha)\\otimes A\\big)\\big(|0\\rangle\\langle 0|\\otimes I+|1\\rangle\\langle 1|\\otimes X\\big)\\big(I\\otimes B\\big)C_{X}^{12}\\big(I\\otimes C\\big) \\\\\n",
    "&  = \\big(|0\\rangle\\langle 0|\\otimes AB+e^{i\\alpha}|1\\rangle\\langle 1|\\otimes AXB\\big)\\big(|0\\rangle\\langle 0|\\otimes C+|1\\rangle\\langle 1|\\otimes XC\\big) \\\\\n",
    "& = |0\\rangle\\langle 0|\\otimes ABC + |1\\rangle\\langle 1|\\otimes e^{i\\alpha}AXBXC.\n",
    "\\end{align}\n",
    "\n",
    "Com o código abaixo verifica-se que\n",
    "$$U_{df} = U(\\pi,-\\pi/2,\\pi/2)SXHXS.$$\n",
    "No entanto, para $A=U(\\pi,-\\pi/2,\\pi/2)S$, $B=H$ e $C=S$ temos $ABC=U_{df}^{\\dagger}\\ne I$. Outra possibilidade? \n",
    "\n",
    "Por sorte, uma __U controlada__ geral está pronta no IBMQ (https://qiskit.org/documentation/stubs/qiskit.circuit.library.CUGate.html#qiskit.circuit.library.CUGate). Essa porta tem 4 parâmetros\n",
    "$$CU(\\theta,\\phi,\\lambda,\\gamma) = |0\\rangle\\langle 0 |\\otimes I + |1\\rangle\\langle 1|\\otimes e^{i\\gamma}U(\\theta,\\phi,\\lambda).$$\n",
    "Na aula passada, vimos que $U_{df} \\equiv U(\\theta=\\pi/2, \\phi = \\pi/2, \\lambda = -\\pi/2)$."
   ]
  },
  {
   "cell_type": "code",
   "execution_count": 88,
   "id": "f4f0a353",
   "metadata": {},
   "outputs": [
    {
     "data": {
      "image/png": "[encoded data removed]",
      "text/latex": [
       "$\\displaystyle \\left[\\begin{matrix}0.5 \\sqrt{2} & 0.5 \\sqrt{2} i\\\\0.5 \\sqrt{2} i & 0.5 \\sqrt{2}\\end{matrix}\\right]$"
      ],
      "text/plain": [
       "⎡ 0.5⋅√2   0.5⋅√2⋅ⅈ⎤\n",
       "⎢                  ⎥\n",
       "⎣0.5⋅√2⋅ⅈ   0.5⋅√2 ⎦"
      ]
     },
     "execution_count": 88,
     "metadata": {},
     "output_type": "execute_result"
    }
   ],
   "source": [
    "def P(al):\n",
    "    return Matrix([[1,0],[0,cos(al)+1j*sin(al)]])\n",
    "S = Matrix([[1,0],[0,1j]]); Sd = Matrix([[1,0],[0,-1j]]); H = (1/sqrt(2))*Matrix([[1,1],[1,-1]])\n",
    "X = Matrix([[0,1],[1,0]]); Y = Matrix([[0,-1j],[1j,0]]); Z = Matrix([[1,0],[0,-1]])\n",
    "def U(th,ph,lb):\n",
    "    return Matrix([[cos(th/2),-(cos(lb)+1j*sin(lb))*sin(th/2)],[(cos(ph)+1j*sin(ph))*sin(th/2),cos(th/2)]])\n",
    "th, ph, lb = symbols('theta phi lambda'); U(pi,-pi/2,pi/2)*S*X*H*X*S"
   ]
  },
  {
   "cell_type": "code",
   "execution_count": 93,
   "id": "ce987828",
   "metadata": {},
   "outputs": [
    {
     "data": {
      "image/png": "[encoded data removed]",
      "text/latex": [
       "$\\displaystyle \\left[\\begin{matrix}0.5 \\sqrt{2} & - 0.5 \\sqrt{2} i\\\\- 0.5 \\sqrt{2} i & 0.5 \\sqrt{2}\\end{matrix}\\right]$"
      ],
      "text/plain": [
       "⎡ 0.5⋅√2    -0.5⋅√2⋅ⅈ⎤\n",
       "⎢                    ⎥\n",
       "⎣-0.5⋅√2⋅ⅈ   0.5⋅√2  ⎦"
      ]
     },
     "execution_count": 93,
     "metadata": {},
     "output_type": "execute_result"
    }
   ],
   "source": [
    "A = U(pi,-pi/2,pi/2)*S; B = H; C = S; A*B*C  # = Udf^dagger != I"
   ]
  },
  {
   "cell_type": "code",
   "execution_count": 90,
   "id": "41767c84",
   "metadata": {},
   "outputs": [
    {
     "data": {
      "image/png": "[encoded data removed]",
      "text/latex": [
       "$\\displaystyle \\left( \\left[\\begin{matrix}a & b\\\\c & d\\end{matrix}\\right], \\  \\left[\\begin{matrix}x & y\\\\z & w\\end{matrix}\\right], \\  \\left[\\begin{matrix}a x + b z & a y + b w\\\\c x + d z & c y + d w\\end{matrix}\\right]\\right)$"
      ],
      "text/plain": [
       "⎛⎡a  b⎤  ⎡x  y⎤  ⎡a⋅x + b⋅z  a⋅y + b⋅w⎤⎞\n",
       "⎜⎢    ⎥, ⎢    ⎥, ⎢                    ⎥⎟\n",
       "⎝⎣c  d⎦  ⎣z  w⎦  ⎣c⋅x + d⋅z  c⋅y + d⋅w⎦⎠"
      ]
     },
     "execution_count": 90,
     "metadata": {},
     "output_type": "execute_result"
    }
   ],
   "source": [
    "a,b,c,d, x, y, z, w = symbols('a,b,c,d, x, y, z, w')\n",
    "A = Matrix([[a,b],[c,d]]); B = Matrix([[x,y],[z,w]]); A, B, A*B"
   ]
  },
  {
   "cell_type": "code",
   "execution_count": 91,
   "id": "273e0b5a",
   "metadata": {},
   "outputs": [
    {
     "data": {
      "image/png": "[encoded data removed]",
      "text/latex": [
       "$\\displaystyle \\left\\{ w : 0.0, \\  x : 0.0, \\  y : - 1.0 i, \\  z : - 1.0 i\\right\\}$"
      ],
      "text/plain": [
       "{w: 0.0, x: 0.0, y: -1.0⋅ⅈ, z: -1.0⋅ⅈ}"
      ]
     },
     "execution_count": 91,
     "metadata": {},
     "output_type": "execute_result"
    }
   ],
   "source": [
    "a = -1/sqrt(2); b = 1j/sqrt(2); c = b; d = a # para trocar o sinal dos elementos da diagonal principal\n",
    "solve([a*x+b*z+a, a*y+b*w-b, c*x+d*z-c, c*y+d*w+d], [x,y,z,w])"
   ]
  },
  {
   "cell_type": "markdown",
   "id": "57a3823d",
   "metadata": {},
   "source": [
    "### Obtendo informação de caminho no IBMQ\n",
    "Então, se preparamos dois qubits, o qubit 0 representanto a polarização e o qubit 1 representando o modo espacial do fóton, e substituímos o primeiro divisor de feixes do inteferômetro de Mach-Zehnder por um divisor de feixes polarizado, teremos acesso à informação de caminho e a visibilidade do padrão de interferência será nula.\n",
    "\n",
    "<img src = 'fig_qc_dfp.png' width = '400'>"
   ]
  },
  {
   "cell_type": "code",
   "execution_count": 94,
   "id": "d304b9fb",
   "metadata": {},
   "outputs": [
    {
     "name": "stderr",
     "output_type": "stream",
     "text": [
      "ibmqfactory.load_account:WARNING:2021-12-06 17:52:08,503: Credentials are already in use. The existing account in the session will be replaced.\n"
     ]
    }
   ],
   "source": [
    "from qiskit import *\n",
    "from qiskit.ignis.verification.tomography import state_tomography_circuits, StateTomographyFitter\n",
    "nshots = 8192\n",
    "qiskit.IBMQ.load_account()\n",
    "provider = qiskit.IBMQ.get_provider(hub='ibm-q', group='open', project='main')\n",
    "device = provider.get_backend('ibmq_belem')\n",
    "from qiskit.tools.monitor import job_monitor"
   ]
  },
  {
   "cell_type": "code",
   "execution_count": 95,
   "id": "6c0c7c7e",
   "metadata": {},
   "outputs": [],
   "source": [
    "def state_prep(th, ph):\n",
    "    qr = QuantumRegister(2); qc = QuantumCircuit(qr, name = 'prep')\n",
    "    qc.u(th, ph, 0, qr[0])\n",
    "    qc.u(th, ph, 0, qr[1])\n",
    "    return qc"
   ]
  },
  {
   "cell_type": "code",
   "execution_count": 164,
   "id": "668f4262",
   "metadata": {},
   "outputs": [
    {
     "data": {
      "text/html": [
       "<pre style=\"word-wrap: normal;white-space: pre;background: #fff0;line-height: 1.1;font-family: &quot;Courier New&quot;,Courier,monospace\">                             \n",
       "q30661_0: ─────────■─────────\n",
       "          ┌────────┴────────┐\n",
       "q30661_1: ┤ U(π,π/2,-π/2,0) ├\n",
       "          └─────────────────┘</pre>"
      ],
      "text/plain": [
       "                             \n",
       "q30661_0: ─────────■─────────\n",
       "          ┌────────┴────────┐\n",
       "q30661_1: ┤ U(π,π/2,-π/2,0) ├\n",
       "          └─────────────────┘"
      ]
     },
     "execution_count": 164,
     "metadata": {},
     "output_type": "execute_result"
    }
   ],
   "source": [
    "def qc_dfp():\n",
    "    qr = QuantumRegister(2); qc = QuantumCircuit(qr, name='DFP')\n",
    "    '''qc.x(qr[1])\n",
    "    qc.cu(math.pi/2, math.pi/2, -math.pi/2, 0.0, qr[1], qr[0]) # Udf controlada\n",
    "    qc.x(qr[1])\n",
    "    qc.cu(math.pi/2, math.pi/2, -math.pi/2, 0.0, qr[1], qr[0])'''\n",
    "    qc.cu(math.pi, math.pi/2, -math.pi/2, 0.0, qr[0], qr[1])\n",
    "    return qc\n",
    "qc_dfp_ = qc_dfp(); qc_dfp_.draw()"
   ]
  },
  {
   "cell_type": "code",
   "execution_count": 165,
   "id": "e8a5d0f5",
   "metadata": {},
   "outputs": [
    {
     "name": "stdout",
     "output_type": "stream",
     "text": [
      "[[ 1.+0.j  0.+0.j  0.+0.j  0.+0.j]\n",
      " [ 0.+0.j  0.+0.j  0.+0.j -0.+1.j]\n",
      " [ 0.+0.j  0.+0.j  1.+0.j  0.+0.j]\n",
      " [ 0.+0.j  0.+1.j  0.+0.j  0.+0.j]]\n"
     ]
    }
   ],
   "source": [
    "###### Para ver a matriz unitário implementada por um certo circuito quântico ##########\n",
    "backend = Aer.get_backend('unitary_simulator'); qc_dfp_ = qc_dfp(); job = execute(qc_dfp_, backend)\n",
    "result = job.result(); print(result.get_unitary(qc_dfp_, decimals=3))\n",
    "# agora tá certo, mas ao contrário em relação aos qubits..."
   ]
  },
  {
   "cell_type": "code",
   "execution_count": 107,
   "id": "68f14f69",
   "metadata": {},
   "outputs": [
    {
     "name": "stdout",
     "output_type": "stream",
     "text": [
      "[[1.+0.j 0.+0.j 0.+0.j 0.+0.j]\n",
      " [0.+0.j 1.+0.j 0.+0.j 0.+0.j]\n",
      " [0.+0.j 0.+0.j 0.+0.j 1.+0.j]\n",
      " [0.+0.j 0.+0.j 1.+0.j 0.+0.j]]\n"
     ]
    }
   ],
   "source": [
    "qr = QuantumRegister(2); qc = QuantumCircuit(qr, name='DFP')\n",
    "#qc.cx(qr[0],qr[1]) # Sai a matrix para C21\n",
    "qc.cx(qr[1],qr[0]) # Sai a matrix para C12 \n",
    "job = execute(qc, backend); result = job.result(); print(result.get_unitary(qc, decimals=3))"
   ]
  },
  {
   "cell_type": "code",
   "execution_count": 109,
   "id": "9952f696",
   "metadata": {},
   "outputs": [
    {
     "data": {
      "text/plain": [
       "array([[0.50227389+0.00000000e+00j, 0.49742805-4.50612693e-03j,\n",
       "        0.00619025+2.23768839e-03j, 0.00119854+6.76346475e-04j],\n",
       "       [0.49742805+4.50612693e-03j, 0.49598394+0.00000000e+00j,\n",
       "        0.0056165 +7.05293450e-04j, 0.00065513-9.01270228e-04j],\n",
       "       [0.00619025-2.23768839e-03j, 0.0056165 -7.05293450e-04j,\n",
       "        0.00090007+0.00000000e+00j, 0.00084367-9.74141496e-06j],\n",
       "       [0.00119854-6.76346475e-04j, 0.00065513+9.01270228e-04j,\n",
       "        0.00084367+9.74141496e-06j, 0.0008421 +0.00000000e+00j]])"
      ]
     },
     "execution_count": 109,
     "metadata": {},
     "output_type": "execute_result"
    }
   ],
   "source": [
    "qr = QuantumRegister(2); qc = QuantumCircuit(qr, name='DFP')\n",
    "qc.h(qr[0])\n",
    "#qc.cx(qr[0], qr[1]) # sai o estado certo, |00>+|11>\n",
    "qc.cx(qr[1], qr[0]) # sai |+0>\n",
    "qstc = state_tomography_circuits(qc, [qr[0],qr[1]])\n",
    "job = qiskit.execute(qstc, Aer.get_backend('qasm_simulator'), shots=nshots)\n",
    "qstf = StateTomographyFitter(job.result(), qstc); rho = qstf.fit(method='lstsq')\n",
    "rho"
   ]
  },
  {
   "cell_type": "code",
   "execution_count": null,
   "id": "e9ce7d6b",
   "metadata": {},
   "outputs": [],
   "source": [
    "# Verificação da Udf controlada\n",
    "qr = QuantumRegister(2); qc = QuantumCircuit(qr, name='DFP')\n",
    "qc.x(qr[1])\n",
    "qc.cu(math.pi/2, math.pi/2, -math.pi/2, 0.0, qr[1], qr[0]) # a sequência é target depois control\n",
    "qc.x(qr[1])\n",
    "job = execute(qc, backend); result = job.result(); print(result.get_unitary(qc, decimals=3))"
   ]
  },
  {
   "cell_type": "code",
   "execution_count": null,
   "id": "03cf084d",
   "metadata": {},
   "outputs": [],
   "source": [
    "qc.draw()"
   ]
  },
  {
   "cell_type": "code",
   "execution_count": null,
   "id": "5ba339af",
   "metadata": {},
   "outputs": [],
   "source": [
    "# Verificação da Udf controlada\n",
    "qr = QuantumRegister(2); qc = QuantumCircuit(qr, name='DFP')\n",
    "qc.cx(qr[1], qr[0]) # a sequência é target depois control\n",
    "job = execute(qc, backend); result = job.result(); print(result.get_unitary(qc, decimals=3))"
   ]
  },
  {
   "cell_type": "code",
   "execution_count": 112,
   "id": "616e2ff8",
   "metadata": {},
   "outputs": [
    {
     "data": {
      "text/html": [
       "<pre style=\"word-wrap: normal;white-space: pre;background: #fff0;line-height: 1.1;font-family: &quot;Courier New&quot;,Courier,monospace\">          ┌───────┐┌──────┐                                   \n",
       "q24467_0: ┤0      ├┤0     ├───────────────────────────────────\n",
       "          │  prep ││  DFP │┌───┐┌───┐┌────────┐┌───┐┌───┐┌───┐\n",
       "q24467_1: ┤1      ├┤1     ├┤ Z ├┤ Y ├┤ P(π/8) ├┤ S ├┤ H ├┤ S ├\n",
       "          └───────┘└──────┘└───┘└───┘└────────┘└───┘└───┘└───┘</pre>"
      ],
      "text/plain": [
       "          ┌───────┐┌──────┐                                   \n",
       "q24467_0: ┤0      ├┤0     ├───────────────────────────────────\n",
       "          │  prep ││  DFP │┌───┐┌───┐┌────────┐┌───┐┌───┐┌───┐\n",
       "q24467_1: ┤1      ├┤1     ├┤ Z ├┤ Y ├┤ P(π/8) ├┤ S ├┤ H ├┤ S ├\n",
       "          └───────┘└──────┘└───┘└───┘└────────┘└───┘└───┘└───┘"
      ]
     },
     "execution_count": 112,
     "metadata": {},
     "output_type": "execute_result"
    }
   ],
   "source": [
    "def qc_mzi_dfp(ph): # quantum circuit for the Mach-Zehnder interferometer com DFP\n",
    "    qr = QuantumRegister(2); qc = QuantumCircuit(qr)\n",
    "    state_prep_ = state_prep(0, 0); qc.append(state_prep_, [qr[0],qr[1]]) # estado prep\n",
    "    qc_dfp_ = qc_dfp(); qc.append(qc_dfp_, [qr[0],qr[1]]) # DFP\n",
    "    qc.z(qr[1]); qc.y(qr[1]) # espelho\n",
    "    qc.p(ph, qr[1]); # fase\n",
    "    qc.s(qr[1]); qc.h(qr[1]); qc.s(qr[1]) # DF\n",
    "    return qc\n",
    "qcmzi = qc_mzi_dfp(math.pi/8); qcmzi.draw()"
   ]
  },
  {
   "cell_type": "code",
   "execution_count": 113,
   "id": "7ae66880",
   "metadata": {},
   "outputs": [],
   "source": [
    "phmax = 2*math.pi; dph = phmax/20; ph = np.arange(0, phmax+dph, dph)#; ph\n",
    "d = ph.shape[0]; PD0teo = np.zeros(d); PD0sim = np.zeros(d); PD0exp = np.zeros(d)\n",
    "for j in range(0, d):\n",
    "    PD0teo[j] = 1/2 # theoretical\n",
    "    qr = QuantumRegister(2); qc = QuantumCircuit(qr)\n",
    "    state_prep_ = state_prep(0, 0); qc.append(state_prep_, [qr[0],qr[1]]) # state preparation (estado |00>)\n",
    "    qc_mzi_dfp_ = qc_mzi_dfp(ph[j]); qc.append(qc_mzi_dfp_, [qr[0],qr[1]]) # apply sim mzip \n",
    "    qstc = state_tomography_circuits(qc, qr[1]) # circuit for state tomography\n",
    "    job = qiskit.execute(qstc, Aer.get_backend('qasm_simulator'), shots=nshots)\n",
    "    qstf = StateTomographyFitter(job.result(), qstc); rho = qstf.fit(method='lstsq')\n",
    "    PD0sim[j] = rho[0,0].real\n",
    "    #print(rho[0,0].real)\n",
    "    # 1º fiz as simulações, só depois adicionei o código para os experimentos\n",
    "    '''job = qiskit.execute(qstc, backend = device, shots = nshots)\n",
    "    print(job.job_id()); job_monitor(job)\n",
    "    qstf = StateTomographyFitter(job.result(), qstc); rho = qstf.fit(method='lstsq')\n",
    "    PD0exp[j] = rho[0,0].real'''"
   ]
  },
  {
   "cell_type": "code",
   "execution_count": 114,
   "id": "ba542c9f",
   "metadata": {},
   "outputs": [
    {
     "data": {
      "image/png": "[encoded data removed]",
      "text/plain": [
       "<Figure size 600x400 with 1 Axes>"
      ]
     },
     "metadata": {
      "needs_background": "light"
     },
     "output_type": "display_data"
    }
   ],
   "source": [
    "matplotlib.rcParams.update({'font.size':12}); plt.figure(figsize = (6,4), dpi = 100)\n",
    "plt.plot(ph, PD0teo, label = r'$P_{teo}(D_{0})$')\n",
    "plt.plot(ph, PD0sim, 'o', label = r'$P_{sim}(D_{0})$')\n",
    "#plt.plot(ph, PD0exp, '*', label = r'$P_{exp}(D_{0})$')\n",
    "plt.legend(); plt.xlabel(r'$\\phi$'); plt.ylim(-0.02,1.02); plt.show()"
   ]
  },
  {
   "cell_type": "markdown",
   "id": "0a75fe09",
   "metadata": {},
   "source": [
    "## Apagando a informação de caminho\n",
    "\n",
    "Vamos considerar dois fótons emaranhados por __conversão paramétrica descendente__. O fóton B é enviado para o modo espacial horizontal do IMZ com DFP. Assim, o estado inicial é\n",
    "$$|\\psi_{0}\\rangle = \\frac{1}{\\sqrt{2}}\\big(|HV\\rangle_{AB}+|VH\\rangle_{AB}\\big)|0\\rangle_{B}.$$\n",
    "O modo espacial do fóton A não importa por agora.\n",
    "Aplicando os elementos do IMZ com DFP, obteremos\n",
    "\\begin{align}\n",
    "|\\psi_{1}\\rangle & = U_{dfp}|\\psi_{0}\\rangle = \\frac{1}{\\sqrt{2}}\\big(|H\\rangle_{A}U_{dfp}|V0\\rangle_{BB}+|V\\rangle_{A}U_{dfp}|H0\\rangle_{BB}\\big) \\\\\n",
    "&  = \\frac{1}{\\sqrt{2}}\\big(|H\\rangle_{A}i|V1\\rangle_{BB}+|V\\rangle_{A}|H0\\rangle_{BB}\\big), \\\\\n",
    "|\\psi_{2}\\rangle & = U_{e}|\\psi_{1}\\rangle  = \\frac{1}{\\sqrt{2}}\\big(ii|HV0\\rangle_{ABB}+i|VH1\\rangle_{ABB}\\big), \\\\\n",
    "|\\psi_{3}\\rangle & = U_{\\phi}|\\psi_{2}\\rangle  = \\frac{1}{\\sqrt{2}}\\big(-|HV0\\rangle_{ABB}+ie^{i\\phi}|VH1\\rangle_{ABB}\\big), \\\\\n",
    "|\\psi_{4}\\rangle & = U_{df}|\\psi_{3}\\rangle  = \\frac{1}{\\sqrt{2}}\\big(-|HV\\rangle_{AB}(|0\\rangle_{B}+i|1\\rangle_{B})/\\sqrt{2}+ie^{i\\phi}|VH\\rangle_{AB}(i|0\\rangle_{B}+|1\\rangle_{B})/\\sqrt{2}\\big) \\\\\n",
    "& = \\frac{1}{2}\\Big(-\\big(|HV\\rangle_{AB}+e^{i\\phi}|VH\\rangle_{AB}\\big)|0\\rangle_{B} -i\\big(|HV\\rangle_{AB}-e^{i\\phi}|VH\\rangle_{AB}\\big)|1\\rangle_{B}\\Big).\n",
    "\\end{align}"
   ]
  },
  {
   "cell_type": "markdown",
   "id": "d6b4a595",
   "metadata": {},
   "source": [
    "Para apagar essa informação, utilizamos uma __placa de quarto de onda__ (PQO), que atua como segue\n",
    "$$U_{pqo}|H\\rangle = (|H\\rangle+i|V\\rangle)/\\sqrt{2}=|\\oplus\\rangle \\text{ e } U_{pqo}|V\\rangle = (|H\\rangle-i|V\\rangle)/\\sqrt{2}=|\\ominus\\rangle.$$\n",
    "Ou seja \n",
    "$$U_{pqo} = SH.$$\n",
    "Aplicando essa operação no fóton A, teremos\n",
    "\\begin{align}\n",
    "|\\psi_{2}''\\rangle &= U_{pqo}|\\psi_{2}'\\rangle = \\frac{1}{\\sqrt{2}}\\big(U_{pqo}|H\\rangle|0\\rangle_{AB}+iU_{pqo}|V\\rangle|1\\rangle_{AB}\\big)|H\\rangle_{B} \\\\\n",
    "& = \\frac{1}{\\sqrt{2}}\\big(2^{-1/2}(|H\\rangle_{A}+i|V\\rangle_{A})|0\\rangle_{B}+i2^{-1/2}(|H\\rangle_{A}-i|V\\rangle_{A})|1\\rangle_{B}\\big)|H\\rangle_{B} \\\\\n",
    "& = \\frac{1}{2}\\big(|H\\rangle_{A}(|0\\rangle_{B}+i|1\\rangle_{B}) + i|V\\rangle_{A}(|0\\rangle_{B}-i|1\\rangle_{B})\\big)|H\\rangle_{B}.\n",
    "\\end{align}\n",
    "É fácil ver que a medida de polarização de A não revela mais o caminho do fóton B, cujo estado espacial colapsa para $(|0\\rangle_{B}\\pm i|1\\rangle_{B})/\\sqrt{2}$, para medidas na base $\\{|H\\rangle,|V\\rangle\\}$ em A.\n",
    "\n",
    "OBS. Seria interessante considerar um apagador quântico __sem a PMO__. Nesse caso suponho que o apagador deveria ser implementado através de uma porta possivelmente emaranhamente, no lugar da PQO. A configuração óptica seria complicada nesse caso, o que a princípio não seria um problema para a simulação no IBMQ."
   ]
  },
  {
   "cell_type": "markdown",
   "id": "fb34102a",
   "metadata": {},
   "source": [
    "##### Exercício\n",
    "Para a montagem experimental da última figura, com a PMO no caminho verticar (entre o DFP e o espelho), obtenha a sequência de estados e a probabilidade $Pr(D_{0})$.\n",
    "\n",
    "### Experimento da escolha adiada de Wheeler\n",
    "A observação intrigante de Wheeler, e que vem sendo debatida até hoje (05/dez/2021), é que poderíamos escolher colocar ou não a PQO no caminho do fóton A somente depois de ter passado um tempo suficiente para o fóton B ter chegado no detector A ou no detector B. Mas, uma vez que se a PQO está presento o comportamento do fóton é tipo onda e se a PQO está ausente o comportamento do fóton é tipo partícula, essa ação futura parece afetar o passado. E aí, que me diz disso?"
   ]
  },
  {
   "cell_type": "markdown",
   "id": "17c79535",
   "metadata": {},
   "source": [
    "## Implementação do apagador quântico no IBMQ\n",
    "Para preparação do estado emaranhado em polarização dos dois fótons, usamos o circuito quântico a seguir:"
   ]
  },
  {
   "cell_type": "code",
   "execution_count": 131,
   "id": "06016d65",
   "metadata": {},
   "outputs": [
    {
     "data": {
      "text/html": [
       "<pre style=\"word-wrap: normal;white-space: pre;background: #fff0;line-height: 1.1;font-family: &quot;Courier New&quot;,Courier,monospace\">          ┌───┐          \n",
       "q26132_0: ┤ H ├──■───────\n",
       "          └───┘┌─┴─┐┌───┐\n",
       "q26132_1: ─────┤ X ├┤ X ├\n",
       "               └───┘└───┘\n",
       "q26132_2: ───────────────\n",
       "                         </pre>"
      ],
      "text/plain": [
       "          ┌───┐          \n",
       "q26132_0: ┤ H ├──■───────\n",
       "          └───┘┌─┴─┐┌───┐\n",
       "q26132_1: ─────┤ X ├┤ X ├\n",
       "               └───┘└───┘\n",
       "q26132_2: ───────────────\n",
       "                         "
      ]
     },
     "execution_count": 131,
     "metadata": {},
     "output_type": "execute_result"
    }
   ],
   "source": [
    "def state_prep_psip():\n",
    "    qr = QuantumRegister(3); qc = QuantumCircuit(qr, name = 'prep')\n",
    "    qc.h(qr[0]); qc.cx(qr[0],qr[1]); qc.x(qr[1]) # prepara psi+_01\n",
    "    return qc\n",
    "state_prep_psip_ = state_prep_psip(); state_prep_psip_.draw()"
   ]
  },
  {
   "cell_type": "code",
   "execution_count": 132,
   "id": "2c2f9219",
   "metadata": {},
   "outputs": [
    {
     "data": {
      "text/html": [
       "<pre style=\"word-wrap: normal;white-space: pre;background: #fff0;line-height: 1.1;font-family: &quot;Courier New&quot;,Courier,monospace\">                             \n",
       "q26133_0: ─────────■─────────\n",
       "          ┌────────┴────────┐\n",
       "q26133_1: ┤ U(π,π/2,-π/2,0) ├\n",
       "          └─────────────────┘</pre>"
      ],
      "text/plain": [
       "                             \n",
       "q26133_0: ─────────■─────────\n",
       "          ┌────────┴────────┐\n",
       "q26133_1: ┤ U(π,π/2,-π/2,0) ├\n",
       "          └─────────────────┘"
      ]
     },
     "execution_count": 132,
     "metadata": {},
     "output_type": "execute_result"
    }
   ],
   "source": [
    "def qc_dfp():\n",
    "    qr = QuantumRegister(2); qc = QuantumCircuit(qr, name='DFP')\n",
    "    qc.cu(math.pi, math.pi/2, -math.pi/2, 0.0, qr[0], qr[1])\n",
    "    return qc\n",
    "qc_dfp_ = qc_dfp(); qc_dfp_.draw()"
   ]
  },
  {
   "cell_type": "code",
   "execution_count": 133,
   "id": "026f2672",
   "metadata": {},
   "outputs": [
    {
     "data": {
      "text/html": [
       "<pre style=\"word-wrap: normal;white-space: pre;background: #fff0;line-height: 1.1;font-family: &quot;Courier New&quot;,Courier,monospace\">          ┌───┐┌───┐┌───┐\n",
       "q26134_0: ┤ S ├┤ H ├┤ S ├\n",
       "          └───┘└───┘└───┘</pre>"
      ],
      "text/plain": [
       "          ┌───┐┌───┐┌───┐\n",
       "q26134_0: ┤ S ├┤ H ├┤ S ├\n",
       "          └───┘└───┘└───┘"
      ]
     },
     "execution_count": 133,
     "metadata": {},
     "output_type": "execute_result"
    }
   ],
   "source": [
    "def qc_df():\n",
    "    qr = QuantumRegister(1); qc = QuantumCircuit(qr, name='DF')\n",
    "    qc.s(qr[0]); qc.h(qr[0]); qc.s(qr[0])\n",
    "    return qc\n",
    "qc_df_ = qc_df(); qc_df_.draw()"
   ]
  },
  {
   "cell_type": "code",
   "execution_count": 134,
   "id": "af5111cf",
   "metadata": {},
   "outputs": [
    {
     "data": {
      "text/html": [
       "<pre style=\"word-wrap: normal;white-space: pre;background: #fff0;line-height: 1.1;font-family: &quot;Courier New&quot;,Courier,monospace\">          ┌───┐\n",
       "q26135_0: ┤ X ├\n",
       "          └─┬─┘\n",
       "q26135_1: ──■──\n",
       "               </pre>"
      ],
      "text/plain": [
       "          ┌───┐\n",
       "q26135_0: ┤ X ├\n",
       "          └─┬─┘\n",
       "q26135_1: ──■──\n",
       "               "
      ]
     },
     "execution_count": 134,
     "metadata": {},
     "output_type": "execute_result"
    }
   ],
   "source": [
    "def qc_pmo():\n",
    "    qr = QuantumRegister(2); qc = QuantumCircuit(qr, name='PMO')\n",
    "    qc.cx(qr[1],qr[0])\n",
    "    return qc\n",
    "qc_pmo_ = qc_pmo(); qc_pmo_.draw()"
   ]
  },
  {
   "cell_type": "code",
   "execution_count": 135,
   "id": "8d3098f5",
   "metadata": {},
   "outputs": [
    {
     "data": {
      "text/html": [
       "<pre style=\"word-wrap: normal;white-space: pre;background: #fff0;line-height: 1.1;font-family: &quot;Courier New&quot;,Courier,monospace\">          ┌───┐┌───┐\n",
       "q26136_0: ┤ H ├┤ S ├\n",
       "          └───┘└───┘</pre>"
      ],
      "text/plain": [
       "          ┌───┐┌───┐\n",
       "q26136_0: ┤ H ├┤ S ├\n",
       "          └───┘└───┘"
      ]
     },
     "execution_count": 135,
     "metadata": {},
     "output_type": "execute_result"
    }
   ],
   "source": [
    "def qc_pqo():\n",
    "    qr = QuantumRegister(1); qc = QuantumCircuit(qr, name='PQO')\n",
    "    qc.h(qr[0]); qc.s(qr[0])\n",
    "    return qc\n",
    "qc_pqo_ = qc_pqo(); qc_pqo_.draw()"
   ]
  },
  {
   "cell_type": "code",
   "execution_count": 143,
   "id": "241238af",
   "metadata": {},
   "outputs": [
    {
     "data": {
      "text/html": [
       "<pre style=\"word-wrap: normal;white-space: pre;background: #fff0;line-height: 1.1;font-family: &quot;Courier New&quot;,Courier,monospace\">          ┌───────┐┌─────┐                                   \n",
       "q26161_0: ┤0      ├┤ PQO ├───────────────────────────────────\n",
       "          │       │├─────┴┐┌──────┐                          \n",
       "q26161_1: ┤1 prep ├┤0     ├┤0     ├──────────────────────────\n",
       "          │       ││  DFP ││  PMO │┌───┐┌───┐┌────────┐┌────┐\n",
       "q26161_2: ┤2      ├┤1     ├┤1     ├┤ Z ├┤ Y ├┤ P(π/3) ├┤ DF ├\n",
       "          └───────┘└──────┘└──────┘└───┘└───┘└────────┘└────┘</pre>"
      ],
      "text/plain": [
       "          ┌───────┐┌─────┐                                   \n",
       "q26161_0: ┤0      ├┤ PQO ├───────────────────────────────────\n",
       "          │       │├─────┴┐┌──────┐                          \n",
       "q26161_1: ┤1 prep ├┤0     ├┤0     ├──────────────────────────\n",
       "          │       ││  DFP ││  PMO │┌───┐┌───┐┌────────┐┌────┐\n",
       "q26161_2: ┤2      ├┤1     ├┤1     ├┤ Z ├┤ Y ├┤ P(π/3) ├┤ DF ├\n",
       "          └───────┘└──────┘└──────┘└───┘└───┘└────────┘└────┘"
      ]
     },
     "execution_count": 143,
     "metadata": {},
     "output_type": "execute_result"
    }
   ],
   "source": [
    "def qc_apagador(ph):\n",
    "    qr = QuantumRegister(3); qc = QuantumCircuit(qr)\n",
    "    state_prep_psip_ = state_prep_psip(); qc.append(state_prep_psip_, [qr[0],qr[1],qr[2]])\n",
    "    qc_dfp_ = qc_dfp(); qc.append(qc_dfp_, [qr[1],qr[2]]) # DFP\n",
    "    qc_pmo_ = qc_pmo(); qc.append(qc_pmo_, [qr[1],qr[2]]) # PMO\n",
    "    qc_pqo_ = qc_pqo(); qc.append(qc_pqo_, [qr[0]])\n",
    "    qc.z(qr[2]); qc.y(qr[2]) # espelho\n",
    "    qc.p(ph, qr[2]); # fase\n",
    "    qc_df_ = qc_df(); qc.append(qc_df_, [qr[2]]) # DF\n",
    "    return qc\n",
    "qc_apagador_ = qc_apagador(math.pi/3); qc_apagador_.draw()"
   ]
  },
  {
   "cell_type": "code",
   "execution_count": 161,
   "id": "46a988c0",
   "metadata": {},
   "outputs": [],
   "source": [
    "phmax = 2*math.pi; dph = phmax/20; ph = np.arange(0, phmax+dph, dph)#; ph\n",
    "d = ph.shape[0]; PD0teo = np.zeros(d); PD0sim = np.zeros(d); PD0exp = np.zeros(d)\n",
    "for j in range(0, d):\n",
    "    PD0teo[j] = (2+math.cos(ph[j])+math.sin(ph[j]))/4 # theoretical\n",
    "    qr = QuantumRegister(3); qc = QuantumCircuit(qr)\n",
    "    qc_apagador_ = qc_apagador(ph[j]); qc.append(qc_apagador_, [qr[0],qr[1],qr[2]]) # apagador q\n",
    "    qstc = state_tomography_circuits(qc, qr[2]) # circuit for state tomography\n",
    "    job = qiskit.execute(qstc, Aer.get_backend('qasm_simulator'), shots=nshots)\n",
    "    qstf = StateTomographyFitter(job.result(), qstc); rho = qstf.fit(method='lstsq')\n",
    "    PD0sim[j] = rho[0,0].real\n",
    "    #print(rho[0,0].real)\n",
    "    # 1º fiz as simulações, só depois adicionei o código para os experimentos\n",
    "    '''job = qiskit.execute(qstc, backend = device, shots = nshots)\n",
    "    print(job.job_id()); job_monitor(job)\n",
    "    qstf = StateTomographyFitter(job.result(), qstc); rho = qstf.fit(method='lstsq')\n",
    "    PD0exp[j] = rho[0,0].real'''"
   ]
  },
  {
   "cell_type": "code",
   "execution_count": 163,
   "id": "f72d8b2a",
   "metadata": {},
   "outputs": [
    {
     "data": {
      "image/png": "[encoded data removed]",
      "text/plain": [
       "<Figure size 600x400 with 1 Axes>"
      ]
     },
     "metadata": {
      "needs_background": "light"
     },
     "output_type": "display_data"
    }
   ],
   "source": [
    "matplotlib.rcParams.update({'font.size':12}); plt.figure(figsize = (6,4), dpi = 100)\n",
    "plt.plot(ph, PD0teo, label = r'$P_{teo}(D_{0})$')\n",
    "plt.plot(ph, PD0sim, 'o', label = r'$P_{sim}(D_{0})$')\n",
    "#plt.plot(ph, PD0exp, '*', label = r'$P_{exp}(D_{0})$')\n",
    "plt.legend(); plt.xlabel(r'$\\phi$'); plt.ylim(-0.02,1.02); plt.show()"
   ]
  },
  {
   "cell_type": "markdown",
   "id": "b3694acb",
   "metadata": {},
   "source": [
    "###### Contas apara verificação da funcionalidade do circuito quântico"
   ]
  },
  {
   "cell_type": "code",
   "execution_count": 159,
   "id": "91e0c9a9",
   "metadata": {},
   "outputs": [],
   "source": [
    "H = (1/sqrt(2))*Matrix([[1,1],[1,-1]]); S = Matrix([[1,0],[0,1j]]); X = Matrix([[0,1],[1,0]])\n",
    "def U(th, ph, lb):\n",
    "    return Matrix([[cos(th/2),-(cos(lb)+1j*sin(lb))*sin(th/2)],\n",
    "                   [(cos(ph)+1j*sin(ph))*sin(th/2),(cos(ph+lb)+1j*sin(ph+lb))*cos(th/2)]])\n",
    "def dfp():\n",
    "    return tp(proj(cb(2,0)), id(2)) + tp(proj(cb(2,1)), U(math.pi, math.pi/2, -math.pi/2))\n",
    "def pmo():\n",
    "    return tp(id(2), proj(cb(2,0))) + tp(X, proj(cb(2,1)))"
   ]
  },
  {
   "cell_type": "code",
   "execution_count": 156,
   "id": "a9b3a008",
   "metadata": {},
   "outputs": [],
   "source": [
    "th, ph, lb = symbols('theta phi lambda');# U(th, ph, lb)"
   ]
  },
  {
   "cell_type": "code",
   "execution_count": 160,
   "id": "a398457b",
   "metadata": {},
   "outputs": [
    {
     "data": {
      "image/png": "[encoded data removed]",
      "text/latex": [
       "$\\displaystyle \\left[\\begin{matrix}1\\\\0\\\\0\\\\0\\\\0\\\\0\\\\0\\\\0\\end{matrix}\\right]$"
      ],
      "text/plain": [
       "⎡1⎤\n",
       "⎢ ⎥\n",
       "⎢0⎥\n",
       "⎢ ⎥\n",
       "⎢0⎥\n",
       "⎢ ⎥\n",
       "⎢0⎥\n",
       "⎢ ⎥\n",
       "⎢0⎥\n",
       "⎢ ⎥\n",
       "⎢0⎥\n",
       "⎢ ⎥\n",
       "⎢0⎥\n",
       "⎢ ⎥\n",
       "⎣0⎦"
      ]
     },
     "execution_count": 160,
     "metadata": {},
     "output_type": "execute_result"
    }
   ],
   "source": [
    "psi0 = tp(tp(cb(2,0),cb(2,0)),cb(2,0))#; psi0\n",
    "dfp_ = dfp(); psi1 = tp(id(2), dfp_)*psi0; psi1\n",
    "pmo_ = pmo(); psi2 = tp(id(2), pmo_)*psi1; psi2"
   ]
  },
  {
   "cell_type": "markdown",
   "id": "20ecaf39",
   "metadata": {},
   "source": [
    "Como os estados $\\big(|HV\\rangle_{AB}\\pm e^{i\\phi}|VH\\rangle_{AB}\\big)/\\sqrt{2}$ são ortonormais, quando tomamos o traço parcial sobre o grau de liberdade de polarização dos dois fótons, obteremos o operador densidade reduzido do grau de liberdade espacial do fóton B:\n",
    "$$\\rho_{4}^{eB} = I/2.$$\n",
    "Portanto, a visibilidade é nula. Entendemos isso olhando para o estado \n",
    "$$|\\psi_{1}\\rangle = \\big(i|HV1\\rangle_{ABB}+|VH0\\rangle_{ABB}\\big)/\\sqrt{2}.$$ Nesse caso, a informação de caminho pode ser obtida fazendo-se uma medida de polarização no fóton A ou no fóton B, pois esse estado é emaranhado nos 3 graus de liberdade.\n",
    "\n",
    "<img src='fig_apagador.png' width='400'>\n",
    "\n",
    "Uma __placa de meia onda__ (PMO) gira a polarização de forma que\n",
    "$$U_{pmo}|H\\rangle = |V\\rangle \\text{ e } U_{pmo}|V\\rangle = |H\\rangle.$$\n",
    "Se colocarmos uma PMO depois do DFP, no caminho horizontal antes do espelho, teríamos\n",
    "\\begin{align}\n",
    "|\\psi_{2}'\\rangle & = U_{pmo}|\\psi_{1}\\rangle = \\frac{1}{\\sqrt{2}}\\big(|HH0\\rangle_{ABB}+i|VH1\\rangle_{ABB}\\big) \\\\\n",
    "& = \\frac{1}{\\sqrt{2}}\\big(|H0\\rangle_{AB}+i|V1\\rangle_{AB}\\big)|H\\rangle_{B}.\n",
    "\\end{align}\n",
    "Com isso, desemaranhamos a polarização de B dos outros graus de liberdade. Mas ainda podemos ter informação de caminho através da polarização de A. \n",
    "\n",
    "Essa operação, da PMO, é uma CNOT nos graus de liberdade do fóton B:\n",
    "$$U_{pmo} = X_{B}\\otimes|0\\rangle_{B}\\langle0| + I_{B}\\otimes|1\\rangle_{B}\\langle1|.$$\n",
    "Teremos o mesmo efeito se colocarmos a _PMO no caminho vertical_. Então, para menor complexidade do circuito no IBMQ, usaremos\n",
    "$$U_{pmo} = X_{B}\\otimes|1\\rangle_{B}\\langle1| + I_{B}\\otimes|0\\rangle_{B}\\langle0|.$$"
   ]
  },
  {
   "cell_type": "markdown",
   "id": "f3f6d51b",
   "metadata": {},
   "source": [
    "## Contas, denovo\n",
    "A = polarização do fóton A; ; A' = modo espacial do fóton A; B = polarização do fóton B; B' = modo espacial do fóton B\n",
    "\\begin{align}\n",
    "|\\psi_{0}\\rangle & = \\frac{1}{\\sqrt{2}}\\big(|01\\rangle_{AB}+|10\\rangle_{AB}\\big)|0\\rangle_{B'}|0\\rangle_{A'}, \\\\\n",
    "|\\psi_{1}\\rangle & = U_{dfp}^{BB'}|\\psi_{0}\\rangle \\\\\n",
    "& = \\frac{1}{\\sqrt{2}}\\big(|0\\rangle_{A}U_{dfp}^{BB'}|10\\rangle_{BB'}+|1\\rangle_{A}U_{dfp}^{BB'}|00\\rangle_{BB'}\\big)|0\\rangle_{A'} \\\\\n",
    "& = \\frac{1}{\\sqrt{2}}\\big(|0\\rangle_{A}i|11\\rangle_{BB'}+|1\\rangle_{A}|00\\rangle_{BB'}\\big)|0\\rangle_{A'}, \\\\\n",
    "& = \\text{ estado genuinamente emaranhado nos 3 graus de liberdade} \\\\\n",
    "|\\psi_{2}\\rangle & = U_{pmo}^{BB'}|\\psi_{1}\\rangle \\\\\n",
    "& = \\frac{1}{\\sqrt{2}}\\big(i|0\\rangle_{A}U_{pmo}^{BB'}|11\\rangle_{BB'}+|1\\rangle_{A}U_{pmo}^{BB'}|00\\rangle_{BB'}\\big)|0\\rangle_{A'} \\\\\n",
    "& = \\frac{1}{\\sqrt{2}}\\big(i|0\\rangle_{A}|01\\rangle_{BB'}+|1\\rangle_{A}|00\\rangle_{BB'}\\big)|0\\rangle_{A'} \\\\\n",
    "& = \\frac{1}{\\sqrt{2}}\\big(i|01\\rangle_{AB'}+|10\\rangle_{AB'}\\big)|0\\rangle_{B}|0\\rangle_{A'}, \\\\\n",
    "& = \\text{ emaranhou A e B', os descorrelacionando de B}\n",
    "\\end{align}\n",
    "Se medimos a polarização horizontal-vertical de A, obtemos a informação de caminho."
   ]
  },
  {
   "cell_type": "markdown",
   "id": "757521df",
   "metadata": {},
   "source": [
    "\\begin{align}\n",
    "|\\psi_{3}\\rangle & = U_{e}^{B'}|\\psi_{2}\\rangle \\\\\n",
    "& = \\frac{1}{\\sqrt{2}}\\big(ii|00\\rangle_{AB'}+i|11\\rangle_{AB'}\\big)|0\\rangle_{B}|0\\rangle_{A'} \\\\\n",
    "|\\psi_{4}\\rangle & = U_{\\phi}^{B'}|\\psi_{3}\\rangle \\\\\n",
    "& = \\frac{1}{\\sqrt{2}}\\big(-|00\\rangle_{AB'}+ie^{i\\phi}|11\\rangle_{AB'}\\big)|0\\rangle_{B}|0\\rangle_{A'} \\\\\n",
    "|\\psi_{5}\\rangle & = U_{df}^{B'}|\\psi_{4}\\rangle \\\\\n",
    "& = \\frac{1}{\\sqrt{2}}\\Big(-|0\\rangle_{A}\\big(|0\\rangle_{B'}+i|1\\rangle_{B'}\\big)/\\sqrt{2}+ie^{i\\phi}|1\\rangle_{A}\\big(i|0\\rangle_{B'}+|1\\rangle_{B'}\\big)/\\sqrt{2}\\Big)|0\\rangle_{B}|0\\rangle_{A'} \\\\\n",
    "&  = -\\frac{1}{2}\\Big(|0\\rangle_{A}\\big(|0\\rangle_{B'}+i|1\\rangle_{B'}\\big) + e^{i\\phi}|1\\rangle_{A}\\big(|0\\rangle_{B'}-i|1\\rangle_{B'}\\big)\\Big)|0\\rangle_{B}|0\\rangle_{A'}.\n",
    "\\end{align}"
   ]
  },
  {
   "cell_type": "markdown",
   "id": "292c9f68",
   "metadata": {},
   "source": [
    "__Sem a PQO__:\n",
    "\\begin{align}\n",
    "\\rho_{5} &= \\frac{1}{4}\\Big(|0\\rangle_{A}\\langle 0|\\big(|0\\rangle_{B'}+i|1\\rangle_{B'}\\big)\\big(\\langle 0|_{B'}-i\\langle 1|_{B'}\\big) + |1\\rangle_{A}\\langle 1|\\big(|0\\rangle_{B'}-i|1\\rangle_{B'}\\big)\\big(\\langle 0|_{B'}+i\\langle 1|_{B'}\\big) \\\\\n",
    "& + \\big(e^{-i\\phi}|0\\rangle_{A}\\langle 1|\\big(|0\\rangle_{B'}+i|1\\rangle_{B'}\\big)\\big(\\langle 0|_{B'}+i\\langle 1|_{B'}\\big) + t.c.\\big)\\Big)|0\\rangle_{B}\\langle 0|\\otimes|0\\rangle_{A'}\\langle 0|.\n",
    "\\end{align}\n",
    "Assim\n",
    "\\begin{align}\n",
    "\\rho_{5}^{B'} & = Tr_{AA'B}(\\rho_{5}) \\\\\n",
    "& = \\frac{1}{4}\\Big(\\big(|0\\rangle_{B'}+i|1\\rangle_{B'}\\big)\\big(\\langle 0|_{B'}-i\\langle 1|_{B'}\\big) + \\big(|0\\rangle_{B'}-i|1\\rangle_{B'}\\big)\\big(\\langle 0|_{B'}+i\\langle 1|_{B'}\\big)\\Big) \\\\\n",
    "& = \\frac{1}{2}\\big(|0\\rangle_{B'}\\langle 0|+|1\\rangle_{B'}\\langle 1|\\big).\n",
    "\\end{align}\n",
    "Por conseguinte\n",
    "$$Pr(D_{0}) = 1/2\\ \\therefore\\ V=0.$$"
   ]
  },
  {
   "cell_type": "markdown",
   "id": "719b0d6c",
   "metadata": {},
   "source": [
    "__Com a PQO__: <br>\n",
    "Como não importa quando a PQO é aplicada, consideremos\n",
    "\\begin{align}\n",
    "|\\psi_{6}\\rangle & = U_{pqo}^{A}|\\psi_{5}\\rangle  \\\\\n",
    "& = -\\frac{1}{2}\\Big(U_{pqo}^{A}|0\\rangle_{A}\\big(|0\\rangle_{B'}+i|1\\rangle_{B'}\\big) + e^{i\\phi}U_{pqo}^{A}|1\\rangle_{A}\\big(|0\\rangle_{B'}-i|1\\rangle_{B'}\\big)\\Big)|0\\rangle_{B}|0\\rangle_{A'} \\\\\n",
    "& = -\\frac{1}{2\\sqrt{2}}\\Big(\\big(|0\\rangle_{A}+i|1\\rangle_{A}\\big)\\big(|0\\rangle_{B'}+i|1\\rangle_{B'}\\big) + e^{i\\phi}\\big(|0\\rangle_{A}-i|1\\rangle_{A}\\big)\\big(|0\\rangle_{B'}-i|1\\rangle_{B'}\\big)\\Big)|0\\rangle_{B}|0\\rangle_{A'} \\\\\n",
    "& = -\\frac{1}{2}\\Big(|\\oplus\\rangle_{A}\\big(|0\\rangle_{B'}+i|1\\rangle_{B'}\\big) + e^{i\\phi}|\\ominus\\rangle_{A}\\big(|0\\rangle_{B'}-i|1\\rangle_{B'}\\big)\\Big)|0\\rangle_{B}|0\\rangle_{A'}.\n",
    "\\end{align}\n",
    "Assim\n",
    "\\begin{align}\n",
    "\\rho_{6} & =  \\frac{1}{4}\\Big(|\\oplus\\rangle_{A}\\langle\\oplus|\\big(|0\\rangle_{B'}+i|1\\rangle_{B'}\\big)\\big(\\langle0|_{B'}-i\\langle 1|_{B'}\\big) + |\\ominus\\rangle_{A}\\langle\\ominus|\\big(|0\\rangle_{B'}-i|1\\rangle_{B'}\\big)\\big(\\langle0|_{B'}+i\\langle 1|_{B'}\\big) \\\\\n",
    "&  + \\big(e^{-i\\phi}|\\oplus\\rangle_{A}\\langle\\ominus|\\big(|0\\rangle_{B'}+i|1\\rangle_{B'}\\big)\\big(\\langle0|_{B'}-i\\langle 1|_{B'}\\big) + t.c.\\big)\\Big)\n",
    "\\end{align}\n",
    "e\n",
    "$$\\rho_{6}^{B'} = Tr_{AA'B}(\\rho_{6}) = I/2$$\n",
    "e \n",
    "$$Pr(D_{0}) = 1/2\\ \\therefore\\ V=0.$$"
   ]
  },
  {
   "cell_type": "markdown",
   "id": "421309cb",
   "metadata": {},
   "source": [
    "De certa forma, esse resultado é esperado pois uma operação local só pode mudar propriedades locais (preditibilidade e coerência (= visibilidade)). Então uma transformação unitária em A, a PQO, não pode modificar as propriedades locais do fóton B. \n",
    "\n",
    "Esse tipo de resultado é esperado pois, pela relação de complementariedade completa\n",
    "$$C(\\rho_{A}) + P(\\rho_{A}) + E(|\\psi\\rangle_{AB}) = c(d_{A}) = \\text{ constante}.$$\n",
    "Então, para modificar propriedade locais, se deve aplicar transformações unitarias locais em A, o que fará com que haja uma troca entre coerência e preditibilidade,\n",
    "$$U_{A}:C(\\rho_{A})\\leftrightarrow P(\\rho_{A}),$$\n",
    "ou se deve mecher no emaranhamento de A com outros sistemas\n",
    "$$U_{AB}: \\big(\\leftrightarrow E(|\\psi\\rangle_{AB}) \\leftrightarrow C(\\rho_{A})\\leftrightarrow P(\\rho_{A}) \\leftrightarrow\\big).$$\n",
    "OBS: No contexto da IMZ e apagador quântico, estamos nos referindo particularmente à coerência de caminho depois do 1º DF ou DFP."
   ]
  },
  {
   "cell_type": "markdown",
   "id": "fa98307a",
   "metadata": {},
   "source": [
    "## Sobre o apagador quântico, denovo\n",
    "Lembrando, o estado depois do DFP é \n",
    "$$|\\psi_{1}\\rangle = \\frac{1}{\\sqrt{2}}\\big(|0\\rangle_{A}i|11\\rangle_{BB'}+|1\\rangle_{A}|00\\rangle_{BB'}\\big)|0\\rangle_{A'}.$$\n",
    "Se aplicamos a PMO obtemos \n",
    "$$|\\psi_{2}\\rangle = \\frac{1}{\\sqrt{2}}\\big(i|01\\rangle_{AB'}+|10\\rangle_{AB'}\\big)|0\\rangle_{B}|0\\rangle_{A'}.$$\n",
    "A info de caminho está em A, por isso $V=0$, como verificamos acima. Se nesse ponto aplicamos a PQO em A, obteremos\n",
    "\\begin{align}\n",
    "|\\psi_{3}'\\rangle &= U_{pqo}^{A}|\\psi_{2}\\rangle \\\\\n",
    "& = \\frac{1}{2}\\big(i(|0\\rangle_{A}+i|1\\rangle_{A})|1\\rangle_{B'}+(|0\\rangle_{A}-i|1\\rangle_{A})|0\\rangle_{B'}\\big)|0\\rangle_{B}|0\\rangle_{A'} \\\\\n",
    "& = \\frac{1}{2}\\big(|0\\rangle_{A}(|0\\rangle_{B'}+i|1\\rangle_{B'})-i|1\\rangle_{A}(|0\\rangle_{B'}-i|1\\rangle_{B'})\\big)|0\\rangle_{B}|0\\rangle_{A'}.\n",
    "\\end{align}\n",
    "OBS: Aplicar a PQO e depois medir na base $\\{|0\\rangle_{A},|1\\rangle_{A}\\}$ é equivalente a medir na base $\\{|\\oplus\\rangle_{A},|\\ominus\\rangle_{A}\\}$.\n",
    "\n",
    "Para o estado $|\\psi_{3}'\\rangle$, se fazemos uma __medida projetiva__ na base $\\{|0\\rangle_{A},|1\\rangle_{A}\\}$, com pós-seleção,  selecionaremos os seguintes estados para o modo espacial:\n",
    "\\begin{align}\n",
    "& |0\\rangle_{A} \\longrightarrow |\\psi_{3,0}^{B'}\\rangle = (|0\\rangle_{B'}+i|1\\rangle_{B'})/\\sqrt{2} \\text{ com prob 1/2},\n",
    " \\\\\n",
    "& |1\\rangle_{A} \\longrightarrow |\\psi_{3,1}^{B'}\\rangle = -i(|0\\rangle_{B'}-i|1\\rangle_{B'})/\\sqrt{2} \\text{ com prob 1/2}.\n",
    "\\end{align}"
   ]
  },
  {
   "cell_type": "markdown",
   "id": "547b864f",
   "metadata": {},
   "source": [
    "Fazendo as contas até depois do DF, obteremos (__exercício__)\n",
    "\\begin{align}\n",
    "& |\\tilde{\\psi}_{3,0}^{B'}\\rangle = -\\frac{1}{2}\\big((1+e^{i\\phi})|0\\rangle_{B'}+i(1-e^{i\\phi})|1\\rangle_{B'}\\big) \\ \\therefore\\ Pr(D_{0})=(1+\\cos\\phi)/2\\ \\therefore\\ V=1, \\\\\n",
    "& |\\tilde{\\psi}_{3,1}^{B'}\\rangle = -\\frac{1}{2}\\big((1-e^{i\\phi})|0\\rangle_{B'}+i(1+e^{i\\phi})|1\\rangle_{B'}\\big) \\ \\therefore\\ Pr(D_{0})=(1-\\cos\\phi)/2\\ \\therefore\\ V=1.\n",
    "\\end{align}\n",
    "\n",
    "Ou seja, a medida projetiva na base $\\{|0\\rangle_{A},|1\\rangle_{A}\\}$ apaga a informação de caminho, se olharmos para cada resultado individualmente.\n",
    "\n",
    "Mas medidas envolvem interação (CNOTs) ..."
   ]
  },
  {
   "cell_type": "markdown",
   "id": "69492b80",
   "metadata": {},
   "source": [
    "### Nova análise do DFP\n",
    "Agora vamos considerar a condição mais razoável de que o DFP deixa passar fótons com polarização $H$ e reflete polarização vertical, para entrada por qualquer um dos modos espaciais. Veja a figura abaixo.\n",
    "<img src = 'fig_dfp_.png' width = '300'>\n",
    "Temos assim que\n",
    "\\begin{align}\n",
    "U_{dfp}|\\psi\\rangle & = c_{H0}U_{dfp}|H0\\rangle + c_{H1}U_{dfp}|H1\\rangle + c_{V0}U_{dfp}|V0\\rangle +  c_{V1}U_{dfp}|V1\\rangle \\\\\n",
    "& = c_{H0}|H0\\rangle + c_{H1}|H1\\rangle + ic_{V0}|V1\\rangle + ic_{V1}|V0\\rangle.\n",
    "\\end{align}\n",
    "Por conseguinte (__Exercício:__ Verifique)\n",
    "\\begin{align}\n",
    "U_{dfp} & \\doteq \\begin{bmatrix} 1&0&0&0 \\\\ 0&1&0&0 \\\\ 0&0&0&i \\\\ 0&0&i&0 \\end{bmatrix} \\\\\n",
    "& = |0\\rangle\\langle 0|\\otimes I + |1\\rangle\\langle 1|\\otimes U(\\pi,\\pi/2,-\\pi/2) \\\\\n",
    "& = C_{y}^{12}C_{z}.\n",
    "\\end{align}"
   ]
  },
  {
   "cell_type": "code",
   "execution_count": null,
   "id": "40ebc8ee",
   "metadata": {},
   "outputs": [],
   "source": []
  }
 ],
 "metadata": {
  "kernelspec": {
   "display_name": "Python 3",
   "language": "python",
   "name": "python3"
  },
  "language_info": {
   "codemirror_mode": {
    "name": "ipython",
    "version": 3
   },
   "file_extension": ".py",
   "mimetype": "text/x-python",
   "name": "python",
   "nbconvert_exporter": "python",
   "pygments_lexer": "ipython3",
   "version": "3.8.8"
  }
 },
 "nbformat": 4,
 "nbformat_minor": 5
}
