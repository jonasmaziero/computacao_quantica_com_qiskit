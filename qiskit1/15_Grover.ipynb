{
 "cells": [
  {
   "cell_type": "code",
   "execution_count": 1,
   "id": "7dc87dc8",
   "metadata": {},
   "outputs": [],
   "source": [
    "%run init.ipynb"
   ]
  },
  {
   "cell_type": "markdown",
   "id": "1ae85709",
   "metadata": {},
   "source": [
    "### Notas de aula de Computação Quântica <br> Autor: Jonas Maziero"
   ]
  },
  {
   "cell_type": "markdown",
   "id": "48cc74ab",
   "metadata": {},
   "source": [
    "# Algoritmo de Grover\n",
    "\n",
    "Suponha que temos um espaço amostral com \n",
    "$$N=2^{n} \\text{ amostras},$$\n",
    "com $n\\in\\mathbb{N}_{+}$. Focaremos nos índices das amostras, mais que nos seus valores. Com isso, vemos que os valores do índice podem ser armazenados usando $n$ qubits. O problema que queremos resolver é encontrar $1\\le M \\le N$ soluções, que são amostras que possuem uma determinada propriedade. Por definição, para\n",
    "$$x = 0,\\cdots, 2^{n}-1,$$\n",
    "temos que\n",
    "\\begin{cases}\n",
    "f(x) = 1 \\text{ se } x \\text{ é solução}, \\\\\n",
    "f(x) = 0 \\text{ se } x \\text{ não é solução}.\n",
    "\\end{cases}\n",
    "\n",
    "Vamos supor que nos é dado um __oráculo__, que consegue reconhecer soluções e que é representado pela matriz unitária $U_{f}$ cuja ação na base computacional é\n",
    "$$U_{f}|x\\rangle|y\\rangle = |x\\rangle|y\\oplus f(x)\\rangle,$$\n",
    "$x$ é o índice do registro quântico utilizado para representar os dados, $|y\\rangle$ é o estado inicial do qubit auxiliar e $\\oplus$ é a soma módulo 2. Por exemplo, podemos verificar se $x$ é solução preparando $|x\\rangle|0\\rangle$ e verificando se o qubit auxiliar é invertido para $|1\\rangle$."
   ]
  },
  {
   "cell_type": "markdown",
   "id": "326bb740",
   "metadata": {},
   "source": [
    "Assim como no algoritmo de Deutsch-Jozsa, no algoritmo de Grover inicializamos o qubit auxiliar no estado $|-\\rangle$. Teremos assim que\n",
    "\\begin{align}\n",
    "U_{f}|x\\rangle|-\\rangle & = \\frac{1}{\\sqrt{2}}\\Big(U_{f}|x\\rangle|0\\rangle - U_{f}|x\\rangle|1\\rangle\\Big) \\\\\n",
    "& = \\frac{1}{\\sqrt{2}}\\Big(|x\\rangle|0\\oplus f(x)\\rangle - |x\\rangle|1\\oplus f(x)\\rangle\\Big) \\\\\n",
    "& = \\frac{1}{\\sqrt{2}}\\Big(|x\\rangle|f(x)\\rangle - |x\\rangle|\\bar{f(x)}\\rangle\\Big) \\\\\n",
    "& = (-1)^{f(x)}|x\\rangle|-\\rangle.\n",
    "\\end{align}\n",
    "\n",
    "Ou seja, a ação do oráculo, $|x\\rangle\\rightarrow (-1)^{f(x)}|x\\rangle$, é marcar as soluções com uma fase $e^{i\\pi}=-1$.\n",
    "\n",
    "Vamos começar considerando o caso em que buscamos uma __única solução__ $|x'\\rangle$. \n",
    "\n",
    "Não é difícil ver que a transformação unitária\n",
    "\\begin{align}\n",
    "U_{o} & = I-2|x'\\rangle\\langle x'| \\\\\n",
    "& = \\sum_{x=0}^{N-1}|x\\rangle\\langle x|-2|x'\\rangle\\langle x'| = \\sum_{x\\ne x'}|x\\rangle\\langle x|-|x'\\rangle\\langle x'|,\n",
    "\\end{align}\n",
    "que atua somente nos $n$ qubits, não muda estados $|x\\rangle$ ortogonais a $|x'\\rangle$ e que adiciona uma fase $e^{i\\pi}=-1$ ao estado $|x'\\rangle$. Ou seja, $U_{o}$ tem o mesmo efeito que $U_{f}$.\n",
    "\n",
    "__Exercício:__ Verifique que o operador $U_{o} = I-2|x'\\rangle\\langle x'|$ é unitário."
   ]
  },
  {
   "cell_type": "markdown",
   "id": "03b5fc03",
   "metadata": {},
   "source": [
    "O algoritmo de Grover começa preparando o chamado _estado de Hadamard_\n",
    "\\begin{align}\n",
    "|h\\rangle & = H^{\\otimes n}|0\\rangle^{\\otimes n} = |+\\rangle^{\\otimes n} = \\frac{1}{\\sqrt{N}}\\sum_{x=0}^{N-1}|x\\rangle \\\\\n",
    "& = \\frac{1}{\\sqrt{N}}|x'\\rangle + \\frac{1}{\\sqrt{N}}\\sum_{x\\ne x'}|x\\rangle = \\frac{1}{\\sqrt{N}}|x'\\rangle + \\sqrt{\\frac{N-1}{N}}|x'_{\\perp}\\rangle \\\\\n",
    "& =:  \\sin\\theta|x'\\rangle + \\cos\\theta|x'_{\\perp}\\rangle,\n",
    "\\end{align}\n",
    "em que definimos\n",
    "$$\\theta = \\arcsin\\big(1/\\sqrt{N}\\big) = \\arccos\\big(\\sqrt{(N-1)/N}\\big)$$\n",
    "e\n",
    "$$|x'_{\\perp}\\rangle := \\frac{1}{\\sqrt{N-1}}\\sum_{x\\ne x'}|x\\rangle.$$\n",
    "\n",
    "Seguindo, definimos\n",
    "$$|h_{\\perp}\\rangle = \\cos\\theta|x'\\rangle - \\sin\\theta|x'_{\\perp}\\rangle.$$\n",
    "\n",
    "__Exercício:__ Verificar que\n",
    "\\begin{cases}\n",
    "|x'\\rangle = \\sin\\theta|h\\rangle + \\cos\\theta|h_{\\perp}\\rangle, \\\\\n",
    "|x'_{\\perp}\\rangle = \\cos\\theta|h\\rangle - \\sin\\theta|h_{\\perp}\\rangle.\n",
    "\\end{cases}"
   ]
  },
  {
   "cell_type": "markdown",
   "id": "64c684e3",
   "metadata": {},
   "source": [
    "Teremos assim que\n",
    "\\begin{align}\n",
    "U_{o}|h\\rangle & = \\sin\\theta U_{o}|x'\\rangle + \\cos\\theta U_{o}|x'_{\\perp}\\rangle \\\\\n",
    "& = -\\sin\\theta |x'\\rangle + \\cos\\theta |x'_{\\perp}\\rangle \\\\\n",
    "& = -\\sin\\theta\\big(\\sin\\theta|h\\rangle + \\cos\\theta|h_{\\perp}\\rangle\\big) + \\cos\\theta\\big(\\cos\\theta|h\\rangle - \\sin\\theta|h_{\\perp}\\rangle\\big) \\\\\n",
    "& = \\big(-\\sin^{2}\\theta+\\cos^{2}\\theta\\big)|h\\rangle + \\big(-\\sin\\theta\\cos\\theta-\\sin\\theta\\cos\\theta\\big)|h_{\\perp}\\rangle \\\\\n",
    "& = \\cos(2\\theta)|h\\rangle - \\sin(2\\theta)|h_{\\perp}\\rangle.\n",
    "\\end{align}\n",
    "\n",
    "Se olharmos para o \"plano\" ($|x'\\rangle,|x'_{\\perp}\\rangle$), vemos que a ação de $U_{o}$ (do oráculo) é refletir o vetor $|h\\rangle$ em relação ao eixo $|x'_{\\perp}\\rangle$. \n",
    "\n",
    "Seguindo, definimos o seguinte operador unitário:\n",
    "$$U_{h} := 2|h\\rangle\\langle h|-I.$$\n",
    "\n",
    "__Exercício:__ Verificar que o operador $U_{h}$ é unitário.\n",
    "\n",
    "Esse operador não modifica o estado $|h\\rangle$ mas dá uma fase $e^{i\\pi}=-1$ a todo estado ortogonal a $|h\\rangle$. Usando esse operador, podemos escrever\n",
    "\\begin{align}\n",
    "U_{h}U_{o}|h\\rangle & = \\cos(2\\theta)U_{h}|h\\rangle - \\sin(2\\theta)U_{h}|h_{\\perp}\\rangle \\\\\n",
    "& = \\cos(2\\theta)|h\\rangle + \\sin(2\\theta)|h_{\\perp}\\rangle \\\\\n",
    "&  = \\cos(2\\theta)\\big(\\sin\\theta|x'\\rangle + \\cos\\theta|x'_{\\perp}\\rangle\\big) + \\sin(2\\theta)\\big(\\cos\\theta|x'\\rangle - \\sin\\theta|x'_{\\perp}\\rangle\\big) \\\\\n",
    "&  = \\big(\\cos(2\\theta)\\sin\\theta + \\sin(2\\theta)\\cos\\theta \\big)|x'\\rangle + \\big(\\cos(2\\theta)\\cos\\theta - \\sin(2\\theta)\\cos\\theta \\big)|x'_{\\perp}\\rangle \\\\\n",
    "&  = \\sin(3\\theta)|x'\\rangle + \\cos(3\\theta)|x'_{\\perp}\\rangle.\n",
    "\\end{align}"
   ]
  },
  {
   "cell_type": "markdown",
   "id": "150bd2d4",
   "metadata": {},
   "source": [
    "Ou seja, o operador $U_{h}$ reflete o estado em relação a $|h\\rangle$. Veja a ilustração na figura abaixo.\n",
    "<img src = 'fig_grover.png' width = '300'>"
   ]
  },
  {
   "cell_type": "markdown",
   "id": "4dbc2b4c",
   "metadata": {},
   "source": [
    "A composição dessas duas operações unitárias, \n",
    "$$G = U_{h}U_{o},$$\n",
    "que é chamada de _iteração de Grover_, leva o estado inicial $|h\\rangle$, que está a um ângulo $\\pi/2-\\theta$ da solução $|x'\\rangle$, em um estado \n",
    "$$|g_{1}\\rangle = G|h\\rangle$$\n",
    "que está mais próximo, a um ângulo $\\pi/2-3\\theta$, da solução.\n",
    "\n",
    "Aplicando a iteração de Grover mais uma vez, teremos\n",
    "\\begin{align}\n",
    "|g_{2}\\rangle & = G|g_{1}\\rangle = U_{h}U_{o}|g_{1}\\rangle \\\\\n",
    "& = U_{h}\\Big(\\sin(3\\theta)U_{o}|x'\\rangle + \\cos(3\\theta)U_{o}|x'_{\\perp}\\rangle\\Big) \\\\\n",
    "& = U_{h}\\Big(-\\sin(3\\theta)|x'\\rangle + \\cos(3\\theta)|x'_{\\perp}\\rangle\\Big) \\\\\n",
    "& = U_{h}\\Big(-\\sin(3\\theta)\\big(\\sin\\theta|h\\rangle + \\cos\\theta|h_{\\perp}\\rangle\\big) + \\cos(3\\theta)\\big(\\cos\\theta|h\\rangle - \\sin\\theta|h_{\\perp}\\rangle\\big)\\Big) \\\\\n",
    "& = U_{h}\\Big( \\big(-\\sin(3\\theta)\\sin\\theta + \\cos(3\\theta)\\cos\\theta\\big)|h\\rangle - \\big( \\sin(3\\theta)\\cos\\theta + \\cos(3\\theta)\\sin\\theta \\big)|h_{\\perp}\\rangle\\big)  \\\\\n",
    "& = \\cos(4\\theta)U_{h}|h\\rangle - \\sin(4\\theta)U_{h}|h_{\\perp}\\rangle \\\\\n",
    "& = \\cos(4\\theta)|h\\rangle + \\sin(4\\theta)|h_{\\perp}\\rangle \\\\\n",
    "& = \\cos(4\\theta)\\big(\\sin\\theta|x'\\rangle + \\cos\\theta|x'_{\\perp}\\rangle\\big) + \\sin(4\\theta)\\big(\\cos\\theta|x'\\rangle - \\sin\\theta|x'_{\\perp}\\rangle\\big) \\\\\n",
    "& = \\big(\\cos(4\\theta)\\sin\\theta+\\sin(4\\theta)\\cos\\theta\\big)|x'\\rangle + \\big(\\cos(4\\theta)\\cos\\theta-\\sin(4\\theta)\\sin\\theta\\big)|x'_{\\perp}\\rangle \\\\\n",
    "& = \\sin(5\\theta)|x'\\rangle + \\cos(5\\theta)|x'_{\\perp}\\rangle.\n",
    "\\end{align}"
   ]
  },
  {
   "cell_type": "markdown",
   "id": "d20516c7",
   "metadata": {},
   "source": [
    "Generalizando, vemos que para a $j$-ésima iteração de Grover, teremos\n",
    "\\begin{align}\n",
    "|g_{j}\\rangle & = G^{j}|h\\rangle \\\\\n",
    "& = \\sin((2j+1)\\theta)|x'\\rangle + \\cos((2j+1)\\theta)|x'_{\\perp}\\rangle.\n",
    "\\end{align}\n",
    "\n",
    "Para que \n",
    "$$|g_{j}\\rangle = |x'\\rangle,$$\n",
    "temos que ter\n",
    "\\begin{align}\n",
    "(2j+1)\\theta = \\frac{\\pi}{2} \\ \\therefore\\ j = \\frac{\\pi}{4\\theta} - \\frac{1}{2} \\approx \\frac{\\pi\\sqrt{N}}{4} - \\frac{1}{2} = \\mathcal{O}\\big(\\sqrt{N}\\big).\n",
    "\\end{align}\n",
    "em que usamos que \n",
    "$$\\theta \\approx \\sin\\theta = \\frac{1}{\\sqrt{N}}$$\n",
    "para $N\\gg1$. Fica assim estabelecido, em termos do número de consultas ao oráculo, o ganho quadrático do algoritmo de Grover em relação ao caso clássico. O circuito quântico para implementação do algoritmo de Grover está ilustado na figura abaixo.\n",
    "<img src = 'fig_grover_qc.png' width = '500'>"
   ]
  },
  {
   "cell_type": "code",
   "execution_count": 165,
   "id": "d424bed1",
   "metadata": {
    "scrolled": true
   },
   "outputs": [
    {
     "data": {
      "image/png": "[encoded data removed]",
      "text/latex": [
       "$\\displaystyle \\left( 1024, \\  0.0312550884994952, \\  0.03125, \\  1.79078465932895, \\  32\\right)$"
      ],
      "text/plain": [
       "(1024, 0.031255088499495154, 0.03125, 1.7907846593289494, 32)"
      ]
     },
     "execution_count": 165,
     "metadata": {},
     "output_type": "execute_result"
    }
   ],
   "source": [
    "N = 2**10; th = asin(1/sqrt(N)); N, float(th), float(sin(th)), float(th*180/pi), sqrt(N)"
   ]
  },
  {
   "cell_type": "markdown",
   "id": "8b92d6b9",
   "metadata": {},
   "source": [
    "Com relação à implementação do algoritmo de Grover, vale observar que\n",
    "\\begin{align}\n",
    "U_{h} & = 2|h\\rangle\\langle h|-I = 2H^{\\otimes n}|0\\rangle\\langle 0|H^{\\otimes n}-I = H^{\\otimes n}\\big(2|0\\rangle\\langle 0|-I\\big)H^{\\otimes n} \\\\\n",
    "& = H^{\\otimes n}U_{z}H^{\\otimes n},\n",
    "\\end{align}\n",
    "em que definimos \n",
    "$$U_{z} := 2|0\\rangle\\langle 0|-I,$$\n",
    "que adiciona uma fase $e^{i\\pi}=-1$ a todos os estados da base computacional, com excessão de $|0\\rangle\\equiv|0\\rangle^{\\otimes n}$.\n",
    "\n",
    "O circuito quântico para a iteração de Grover, que também é chamada de operação de amplificação de amplitude, está ilustrado na figura abaixo.\n",
    "<img src = 'fig_grover_G.png' width = '500'>"
   ]
  },
  {
   "cell_type": "markdown",
   "id": "718731ec",
   "metadata": {},
   "source": [
    "Com relação à implementação de $U_{z}$, começamos notando que a operação $Z$ multicontrolada,\n",
    "$$MCZ = \\sum_{j_{0},\\cdots,j_{n-2}\\ne 1,\\cdots,1}|j_{0}\\rangle\\langle j_{0}|\\otimes\\cdots\\otimes|j_{n-2}\\rangle\\langle j_{n-2}|\\otimes I + |1\\rangle\\langle 1|\\otimes\\cdots\\otimes|1\\rangle\\langle 1|\\otimes Z,$$\n",
    "troca o sinal do estado $|n-1\\rangle$, i.e.,\n",
    "$$|1\\cdots 1\\rangle \\rightarrow -|1\\cdots 1\\rangle.$$\n",
    "Os outros estados da base computacional não mudam pela ação de $MCZ$. \n",
    "\n",
    "No entanto, a porta lógica quântica $MCZ$ não está diratamente implementada no IBMQ. Temo já implementada a NOT multicontrolada:\n",
    "$$MCX = \\sum_{j_{0},\\cdots,j_{n-2}\\ne 1,\\cdots,1}|j_{0}\\rangle\\langle j_{0}|\\otimes\\cdots\\otimes|j_{n-2}\\rangle\\langle j_{n-2}|\\otimes I + |1\\rangle\\langle 1|\\otimes\\cdots\\otimes|1\\rangle\\langle 1|\\otimes X.$$\n",
    "Lembrando, a ação de $Z$ na base $\\{|0\\rangle,|1\\rangle\\}$ é equivalente à ação de $X$ na base $\\{|+\\rangle,|-\\rangle\\} = \\{H|0\\rangle,H|1\\rangle\\}$. Vemos assim que\n",
    "$$MCZ = \\big(I\\otimes\\cdots \\otimes I\\otimes H\\big)MCX\\big(I\\otimes\\cdots \\otimes I\\otimes H\\big).$$\n",
    "\n",
    "Com isso conseguimos trocar o sinal de $|1\\cdots 1\\rangle$, mas o que queremos é trocar o sinal de $|0\\cdots 0\\rangle$ em relação aos outros estados da base computacional, ou vice versa. Para isso, antes de aplicar $MCZ$, invertemos os qubits:\n",
    "$$U_{z} = (XZXZ\\otimes I\\otimes\\cdots\\otimes I)(X\\otimes\\cdots\\otimes X)\\big(I\\otimes\\cdots \\otimes I\\otimes H\\big)MCX\\big(I\\otimes\\cdots \\otimes I\\otimes H\\big)(X\\otimes\\cdots\\otimes X).$$"
   ]
  },
  {
   "cell_type": "markdown",
   "id": "4307dab3",
   "metadata": {},
   "source": [
    "Em relação ao sinal de $-$ global, temos que\n",
    "$$\\sigma_{j}\\sigma_{k} = \\delta_{j,k}\\sigma_{0} + \\epsilon_{jkl}i\\sigma_{l}.$$\n",
    "Para $j\\ne k$ teremos\n",
    "\\begin{align}\n",
    "\\sigma_{j}\\sigma_{k}\\sigma_{j}\\sigma_{k} = \\epsilon_{jkl}i\\sigma_{l}\\epsilon_{jkl}i\\sigma_{l} = -\\epsilon_{jkl}^{2}\\sigma_{l}^{2} = -\\sigma_{0}\n",
    "\\end{align}\n",
    "para $l\\ne j$ e $l\\ne k$. Também usamos $\\sigma_{l}^{2}=\\sigma_{0}$."
   ]
  },
  {
   "cell_type": "markdown",
   "id": "a4d16311",
   "metadata": {},
   "source": [
    "## Implementação no IBMQ\n",
    "\n",
    "### Clássico"
   ]
  },
  {
   "cell_type": "code",
   "execution_count": 28,
   "id": "3757a65b",
   "metadata": {},
   "outputs": [],
   "source": [
    "my_list = [1,3,5,2,4,9,5,8,0,7,6]"
   ]
  },
  {
   "cell_type": "code",
   "execution_count": 29,
   "id": "09491892",
   "metadata": {},
   "outputs": [],
   "source": [
    "def my_oracle(my_input):\n",
    "    solution = 2\n",
    "    if my_input == solution:\n",
    "        response = True\n",
    "    else:\n",
    "        response = False\n",
    "    return response"
   ]
  },
  {
   "cell_type": "code",
   "execution_count": 30,
   "id": "82a33df1",
   "metadata": {},
   "outputs": [
    {
     "name": "stdout",
     "output_type": "stream",
     "text": [
      "False\n"
     ]
    }
   ],
   "source": [
    "my_input = 7; res = my_oracle(my_input); print(res)"
   ]
  },
  {
   "cell_type": "markdown",
   "id": "556f6f54",
   "metadata": {},
   "source": [
    "__Classicamente__ a complexidade computacional desse problema é \n",
    "$$\\mathcal{O}(N).$$\n",
    "Podemos encontrar o item procurado na primeira consulta ao oráculo se seu índice for $0$. Mas também podemos encontrar esse item na $N$-ésima consulta, se seu índice for $N-1$. Em média usaremos $N/2$ consultas ao oráculo. Uma busca clássica está implementada no código abaixo."
   ]
  },
  {
   "cell_type": "code",
   "execution_count": 32,
   "id": "5a22cbfa",
   "metadata": {},
   "outputs": [
    {
     "name": "stdout",
     "output_type": "stream",
     "text": [
      "Solução encontrada no índice 3 , após  4  consultas ao oráculo.\n"
     ]
    }
   ],
   "source": [
    "for j in range(0,len(my_list)):\n",
    "    if my_oracle(my_list[j]) == True:\n",
    "        print('Solução encontrada no índice',j, ', após ', j+1, ' consultas ao oráculo.')"
   ]
  },
  {
   "cell_type": "markdown",
   "id": "3a2c9e89",
   "metadata": {},
   "source": [
    "### Quântico"
   ]
  },
  {
   "cell_type": "code",
   "execution_count": 120,
   "id": "26cf258d",
   "metadata": {},
   "outputs": [
    {
     "name": "stderr",
     "output_type": "stream",
     "text": [
      "ibmqfactory.load_account:WARNING:2021-12-13 23:59:30,535: Credentials are already in use. The existing account in the session will be replaced.\n"
     ]
    }
   ],
   "source": [
    "from qiskit import *\n",
    "nshots = 8192\n",
    "qiskit.IBMQ.load_account()\n",
    "provider = qiskit.IBMQ.get_provider(hub='ibm-q', group='open', project='main')\n",
    "simulator = Aer.get_backend('qasm_simulator')\n",
    "device = provider.get_backend('ibmq_belem')\n",
    "from qiskit.tools.monitor import job_monitor\n",
    "from qiskit.tools.visualization import plot_histogram"
   ]
  },
  {
   "cell_type": "code",
   "execution_count": 166,
   "id": "908fb962",
   "metadata": {},
   "outputs": [
    {
     "data": {
      "text/html": [
       "<pre style=\"word-wrap: normal;white-space: pre;background: #fff0;line-height: 1.1;font-family: &quot;Courier New&quot;,Courier,monospace\">     ┌───┐┌───┐┌───┐┌───┐┌───┐     ┌───┐     \n",
       "q_0: ┤ Z ├┤ X ├┤ Z ├┤ X ├┤ X ├──■──┤ X ├─────\n",
       "     ├───┤└───┘└───┘└───┘└───┘  │  ├───┤     \n",
       "q_1: ┤ X ├──────────────────────■──┤ X ├─────\n",
       "     ├───┤┌───┐               ┌─┴─┐├───┤┌───┐\n",
       "q_2: ┤ X ├┤ H ├───────────────┤ X ├┤ H ├┤ X ├\n",
       "     └───┘└───┘               └───┘└───┘└───┘</pre>"
      ],
      "text/plain": [
       "     ┌───┐┌───┐┌───┐┌───┐┌───┐     ┌───┐     \n",
       "q_0: ┤ Z ├┤ X ├┤ Z ├┤ X ├┤ X ├──■──┤ X ├─────\n",
       "     ├───┤└───┘└───┘└───┘└───┘  │  ├───┤     \n",
       "q_1: ┤ X ├──────────────────────■──┤ X ├─────\n",
       "     ├───┤┌───┐               ┌─┴─┐├───┤┌───┐\n",
       "q_2: ┤ X ├┤ H ├───────────────┤ X ├┤ H ├┤ X ├\n",
       "     └───┘└───┘               └───┘└───┘└───┘"
      ]
     },
     "execution_count": 166,
     "metadata": {},
     "output_type": "execute_result"
    }
   ],
   "source": [
    "def qc_Uz(n): # 2|0><0| - I\n",
    "    qc = QuantumCircuit(n, name = 'Uz')\n",
    "    qrl = []\n",
    "    for j in range(0, n):\n",
    "        qrl.append(j)\n",
    "    qc.z(0); qc.x(0); qc.z(0); qc.x(0)\n",
    "    qc.x(qrl) # 00...0 -> 11...1 \n",
    "    qc.h(n-1); qc.mcx(qrl[0:n-1],n-1); qc.h(n-1) # Cz multicontrolada. Multiplica 11...1 por -1\n",
    "    qc.x(qrl); # 11...1 -> 00...0\n",
    "    return qc\n",
    "qc_Uz_ = qc_Uz(3); qc_Uz_.draw()"
   ]
  },
  {
   "cell_type": "code",
   "execution_count": 167,
   "id": "a71694a4",
   "metadata": {},
   "outputs": [
    {
     "data": {
      "text/html": [
       "<pre style=\"word-wrap: normal;white-space: pre;background: #fff0;line-height: 1.1;font-family: &quot;Courier New&quot;,Courier,monospace\">     ┌───┐┌─────┐┌───┐\n",
       "q_0: ┤ H ├┤0    ├┤ H ├\n",
       "     ├───┤│     │├───┤\n",
       "q_1: ┤ H ├┤1 Uz ├┤ H ├\n",
       "     ├───┤│     │├───┤\n",
       "q_2: ┤ H ├┤2    ├┤ H ├\n",
       "     └───┘└─────┘└───┘</pre>"
      ],
      "text/plain": [
       "     ┌───┐┌─────┐┌───┐\n",
       "q_0: ┤ H ├┤0    ├┤ H ├\n",
       "     ├───┤│     │├───┤\n",
       "q_1: ┤ H ├┤1 Uz ├┤ H ├\n",
       "     ├───┤│     │├───┤\n",
       "q_2: ┤ H ├┤2    ├┤ H ├\n",
       "     └───┘└─────┘└───┘"
      ]
     },
     "execution_count": 167,
     "metadata": {},
     "output_type": "execute_result"
    }
   ],
   "source": [
    "def qc_Uh(n): # 2|h><h| - I\n",
    "    qc = QuantumCircuit(n, name = 'Uh')\n",
    "    qrl = []\n",
    "    for j in range(0, n):\n",
    "        qrl.append(j)\n",
    "    qc.h(qrl) # transforma Uz em Uh\n",
    "    qc_Uz_ = qc_Uz(n); qc.append(qc_Uz_, qrl)\n",
    "    qc.h(qrl)\n",
    "    return qc\n",
    "qc_Uh_ = qc_Uh(3); qc_Uh_.draw()"
   ]
  },
  {
   "cell_type": "code",
   "execution_count": 157,
   "id": "aceb40d5",
   "metadata": {},
   "outputs": [
    {
     "data": {
      "text/html": [
       "<pre style=\"word-wrap: normal;white-space: pre;background: #fff0;line-height: 1.1;font-family: &quot;Courier New&quot;,Courier,monospace\">          \n",
       "q_0: ──■──\n",
       "       │  \n",
       "q_1: ──■──\n",
       "     ┌─┴─┐\n",
       "q_2: ┤ X ├\n",
       "     └───┘</pre>"
      ],
      "text/plain": [
       "          \n",
       "q_0: ──■──\n",
       "       │  \n",
       "q_1: ──■──\n",
       "     ┌─┴─┐\n",
       "q_2: ┤ X ├\n",
       "     └───┘"
      ]
     },
     "execution_count": 157,
     "metadata": {},
     "output_type": "execute_result"
    }
   ],
   "source": [
    "def qc_oracle(n):\n",
    "    # Nielsen & Chuang, Box 6.1 (N=4)\n",
    "    qc = QuantumCircuit(n+1, name = 'Oracle')\n",
    "    qc.ccx(0,1,2) # para a solução sendo o estado |11>\n",
    "    return qc\n",
    "qc_oracle_ = qc_oracle(2)\n",
    "qc_oracle_.draw('mpl')"
   ]
  },
  {
   "cell_type": "code",
   "execution_count": 158,
   "id": "5f851302",
   "metadata": {},
   "outputs": [
    {
     "data": {
      "text/html": [
       "<pre style=\"word-wrap: normal;white-space: pre;background: #fff0;line-height: 1.1;font-family: &quot;Courier New&quot;,Courier,monospace\">     ┌─────────┐┌─────┐\n",
       "q_0: ┤0        ├┤0    ├\n",
       "     │         ││  Uh │\n",
       "q_1: ┤1 Oracle ├┤1    ├\n",
       "     │         │└─────┘\n",
       "q_2: ┤2        ├───────\n",
       "     └─────────┘       </pre>"
      ],
      "text/plain": [
       "     ┌─────────┐┌─────┐\n",
       "q_0: ┤0        ├┤0    ├\n",
       "     │         ││  Uh │\n",
       "q_1: ┤1 Oracle ├┤1    ├\n",
       "     │         │└─────┘\n",
       "q_2: ┤2        ├───────\n",
       "     └─────────┘       "
      ]
     },
     "execution_count": 158,
     "metadata": {},
     "output_type": "execute_result"
    }
   ],
   "source": [
    "def qc_grover_iteration(n):\n",
    "    qc = QuantumCircuit(n+1, name = 'G')\n",
    "    qrl = []\n",
    "    for j in range(0, n+1):\n",
    "        qrl.append(j)\n",
    "    qc_oracle_ = qc_oracle(n)\n",
    "    qc.append(qc_oracle_, qrl)\n",
    "    qc_Uh_ = qc_Uh(n); qc.append(qc_Uh_, qrl[0:n])\n",
    "    return qc\n",
    "qc_grover_iteration_ = qc_grover_iteration(2)\n",
    "qc_grover_iteration_.draw('mpl')"
   ]
  },
  {
   "cell_type": "code",
   "execution_count": 159,
   "id": "b1269573",
   "metadata": {},
   "outputs": [
    {
     "data": {
      "text/html": [
       "<pre style=\"word-wrap: normal;white-space: pre;background: #fff0;line-height: 1.1;font-family: &quot;Courier New&quot;,Courier,monospace\">     ┌───┐\n",
       "q_0: ┤ H ├\n",
       "     ├───┤\n",
       "q_1: ┤ H ├\n",
       "     ├───┤\n",
       "q_2: ┤ H ├\n",
       "     └───┘</pre>"
      ],
      "text/plain": [
       "     ┌───┐\n",
       "q_0: ┤ H ├\n",
       "     ├───┤\n",
       "q_1: ┤ H ├\n",
       "     ├───┤\n",
       "q_2: ┤ H ├\n",
       "     └───┘"
      ]
     },
     "execution_count": 159,
     "metadata": {},
     "output_type": "execute_result"
    }
   ],
   "source": [
    "def qc_hadamard_state(n): # aplica a Hadamard em n qubits\n",
    "    qc = QuantumCircuit(n, name = 'H state') # começarei a não usar mais os qr[j]\n",
    "    qrl = [] # lista de registros quânticos\n",
    "    for j in range(0, n):\n",
    "        qrl.append(j)\n",
    "    qc.h(qrl) # aplica a hadamard em toda a lista de registros quânticos\n",
    "    return qc\n",
    "qc_hadamard_state_ = qc_hadamard_state(3); qc_hadamard_state_.draw()"
   ]
  },
  {
   "cell_type": "code",
   "execution_count": 168,
   "id": "8533a1c2",
   "metadata": {},
   "outputs": [
    {
     "data": {
      "text/html": [
       "<pre style=\"word-wrap: normal;white-space: pre;background: #fff0;line-height: 1.1;font-family: &quot;Courier New&quot;,Courier,monospace\">          ┌──────────┐┌────┐┌─┐   \n",
       "q_0: ─────┤0         ├┤0   ├┤M├───\n",
       "          │          ││    │└╥┘┌─┐\n",
       "q_1: ─────┤1 H state ├┤1 G ├─╫─┤M├\n",
       "     ┌───┐│          ││    │ ║ └╥┘\n",
       "q_2: ┤ X ├┤2         ├┤2   ├─╫──╫─\n",
       "     └───┘└──────────┘└────┘ ║  ║ \n",
       "c: 2/════════════════════════╩══╩═\n",
       "                             0  1 </pre>"
      ],
      "text/plain": [
       "          ┌──────────┐┌────┐┌─┐   \n",
       "q_0: ─────┤0         ├┤0   ├┤M├───\n",
       "          │          ││    │└╥┘┌─┐\n",
       "q_1: ─────┤1 H state ├┤1 G ├─╫─┤M├\n",
       "     ┌───┐│          ││    │ ║ └╥┘\n",
       "q_2: ┤ X ├┤2         ├┤2   ├─╫──╫─\n",
       "     └───┘└──────────┘└────┘ ║  ║ \n",
       "c: 2/════════════════════════╩══╩═\n",
       "                             0  1 "
      ]
     },
     "execution_count": 168,
     "metadata": {},
     "output_type": "execute_result"
    }
   ],
   "source": [
    "def qc_grover_search(n):\n",
    "    qc = QuantumCircuit(n+1, n)\n",
    "    qc.x(n)\n",
    "    qrl = [] # lista de registros quânticos\n",
    "    for j in range(0, n+1):\n",
    "        qrl.append(j)\n",
    "    qc_hadamard_state_ = qc_hadamard_state(n+1); qc.append(qc_hadamard_state_, qrl)\n",
    "    for j in range(0, int((math.pi*math.sqrt(2**n))/4 - 1/2)):\n",
    "        qc_grover_iteration_ = qc_grover_iteration(n); qc.append(qc_grover_iteration_, qrl)\n",
    "    qc.measure(qrl[0:n], qrl[0:n])\n",
    "    return qc\n",
    "qc_grover_search_ = qc_grover_search(2); qc_grover_search_.draw()"
   ]
  },
  {
   "cell_type": "code",
   "execution_count": 169,
   "id": "b8954d93",
   "metadata": {},
   "outputs": [
    {
     "data": {
      "image/png": "[encoded data removed]",
      "text/plain": [
       "<Figure size 504x360 with 1 Axes>"
      ]
     },
     "execution_count": 169,
     "metadata": {},
     "output_type": "execute_result"
    }
   ],
   "source": [
    "qc_grover_search_ = qc_grover_search(2)\n",
    "result = execute(qc_grover_search_, backend = simulator, shots = nshots).result()\n",
    "plot_histogram(result.get_counts(qc_grover_search_))"
   ]
  },
  {
   "cell_type": "code",
   "execution_count": 171,
   "id": "536235a4",
   "metadata": {},
   "outputs": [
    {
     "name": "stdout",
     "output_type": "stream",
     "text": [
      "Job Status: job has successfully run\n"
     ]
    }
   ],
   "source": [
    "job = execute(qc_grover_search_, backend = device, shots = nshots)\n",
    "job_monitor(job)"
   ]
  },
  {
   "cell_type": "code",
   "execution_count": 172,
   "id": "862d9e6c",
   "metadata": {},
   "outputs": [
    {
     "data": {
      "image/png": "[encoded data removed]",
      "text/plain": [
       "<Figure size 504x360 with 1 Axes>"
      ]
     },
     "execution_count": 172,
     "metadata": {},
     "output_type": "execute_result"
    }
   ],
   "source": [
    "plot_histogram(job.result().get_counts(qc_grover_search_))"
   ]
  },
  {
   "cell_type": "markdown",
   "id": "88aa6cfc",
   "metadata": {},
   "source": [
    "__Exercício:__ Implemente outros oráculos do Box 6.1 do Nielsen & Chuang."
   ]
  },
  {
   "cell_type": "markdown",
   "id": "3c6d01f8",
   "metadata": {},
   "source": [
    "##### Referências:\n",
    "* Nielsen e Chuang, capítulo 6.\n",
    "* https://youtu.be/IT-O-KSWlaE\n",
    "* https://youtu.be/0RPFWZj7Jm0"
   ]
  },
  {
   "cell_type": "code",
   "execution_count": null,
   "id": "287544d6",
   "metadata": {},
   "outputs": [],
   "source": []
  }
 ],
 "metadata": {
  "kernelspec": {
   "display_name": "Python 3 (ipykernel)",
   "language": "python",
   "name": "python3"
  },
  "language_info": {
   "codemirror_mode": {
    "name": "ipython",
    "version": 3
   },
   "file_extension": ".py",
   "mimetype": "text/x-python",
   "name": "python",
   "nbconvert_exporter": "python",
   "pygments_lexer": "ipython3",
   "version": "3.9.13"
  }
 },
 "nbformat": 4,
 "nbformat_minor": 5
}
