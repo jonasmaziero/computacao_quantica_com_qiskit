{
 "cells": [
  {
   "cell_type": "code",
   "execution_count": 1,
   "id": "2a54418d",
   "metadata": {},
   "outputs": [],
   "source": [
    "%run init.ipynb"
   ]
  },
  {
   "cell_type": "code",
   "execution_count": 2,
   "id": "b983c457",
   "metadata": {},
   "outputs": [],
   "source": [
    "from qiskit import *"
   ]
  },
  {
   "cell_type": "markdown",
   "id": "55542bb0",
   "metadata": {},
   "source": [
    "### Notas de aula de Computação Quântica <br> Autor: Jonas Maziero"
   ]
  },
  {
   "cell_type": "markdown",
   "id": "995fc27e",
   "metadata": {},
   "source": [
    "# Controle quântico\n",
    "\n",
    "## Exemplo para um qubit\n",
    "Chamamos de __controle__ as operações que podemos implementar em um determinado experimento. __Controle quântico__ é o controle que pode ser implementado de forma quântica, ou seja, na forma coerente onde existe uma suporposição de uma operação ser e de não ser aplicada. Também podemos pensar em controles quânticos envolvendo aplicações coerentes mas emaranhadas de certas operações quânticas.\n",
    "\n",
    "Um exemplo simples, já visto, é a CNOT. A porta NOT, $X$, é uma operação quântica no espaço de um qubit. Se usamos um qubit auxiliar em um estado de superposição,\n",
    "$$c_{0}|0\\rangle+c_{1}|1\\rangle,$$\n",
    "como o qubit de controle para uma CNOT, teremos implementado uma superposição de aplicar ou não a porta $X$ no qubit alvo. Veja o circuito abaixo. O qubit de controle inicia em um certo estado \n",
    "$$|\\phi\\rangle = c_{0}|0\\rangle + c_{1}|1\\rangle.$$"
   ]
  },
  {
   "cell_type": "markdown",
   "id": "73013c37",
   "metadata": {},
   "source": [
    "O qubit alvo está em um estado qualquer $|\\psi\\rangle.$ Aplicando a CNOT teremos\n",
    "\\begin{align}\n",
    "|\\Psi\\rangle & =  C_{x}^{01}(|\\phi\\rangle\\otimes|\\psi\\rangle) \\\\\n",
    "& = c_{0}C_{x}^{01}|0\\rangle_{c}|\\psi\\rangle_{a} + c_{1}C_{x}^{01}|1\\rangle_{c}|\\psi\\rangle_{a} \\\\\n",
    "& = c_{0}|0\\rangle_{c}\\otimes|\\psi\\rangle_{a} + c_{1}|1\\rangle_{c}\\otimes X|\\psi\\rangle_{a}.\n",
    "\\end{align}\n",
    "Antes de medirmos $a$, a operação $X$ está em uma superposição de ser e não ser aplicada. Se medimos $c$, a operação $X$ não será aplicada em $a$ como probabilidade $|c_{0}|^{2}$ ou será aplicada com probabilidade $|c_{1}|^{2}$.\n",
    "\n",
    "OBS. O mesmo tipo de análise se aplica a qualquer operação $U$ controlada, seja para um ou para mais qubits."
   ]
  },
  {
   "cell_type": "code",
   "execution_count": 9,
   "id": "a73003a1",
   "metadata": {},
   "outputs": [
    {
     "data": {
      "text/html": [
       "<pre style=\"word-wrap: normal;white-space: pre;background: #fff0;line-height: 1.1;font-family: &quot;Courier New&quot;,Courier,monospace\">       ┌────────────┐       ┌─┐\n",
       "q_0: ──┤ U(π/2,0,0) ├────■──┤M├\n",
       "     ┌─┴────────────┴─┐┌─┴─┐└╥┘\n",
       "q_1: ┤ U(π/2,π/4,π/8) ├┤ X ├─╫─\n",
       "     └────────────────┘└───┘ ║ \n",
       "c: 1/════════════════════════╩═\n",
       "                             0 </pre>"
      ],
      "text/plain": [
       "       ┌────────────┐       ┌─┐\n",
       "q_0: ──┤ U(π/2,0,0) ├────■──┤M├\n",
       "     ┌─┴────────────┴─┐┌─┴─┐└╥┘\n",
       "q_1: ┤ U(π/2,π/4,π/8) ├┤ X ├─╫─\n",
       "     └────────────────┘└───┘ ║ \n",
       "c: 1/════════════════════════╩═\n",
       "                             0 "
      ]
     },
     "execution_count": 9,
     "metadata": {},
     "output_type": "execute_result"
    }
   ],
   "source": [
    "thc, phc, lbc = math.pi/2, 0, 0; tha, pha, lba = math.pi/2, math.pi/4, math.pi/8\n",
    "qc = QuantumCircuit(2, 1); qc.u(thc, phc, lbc, 0); qc.u(tha, pha, lba, 1)\n",
    "qc.cx(0, 1); qc.measure(0, 0); qc.draw()"
   ]
  },
  {
   "cell_type": "markdown",
   "id": "03d435f8",
   "metadata": {},
   "source": [
    "## Apagador quântico com controle quântico\n",
    "Vimos que, no contexto do interferômetro de Mach-Zehnder, o experimentador pode escolher de forma tardia (depois que o fóton do IMZ chegou no detector) se aplica ou não a placa de quarto de onda (PQO) no fóton gêmeo auxiliar (veja a figura abaixo). Discussões sobre variáveis ocultas, livre arbítrio, etc, levaram à proposição da curiosa situação onde a __PQO é controlada de forma quântica__, sendo colocada em uma superposição de estar ou não presente. Isso implicaria que o fóton no IMZ está em uma __superposição de onda e partícula__.  Novamente, o comportameto dual do fóton no IMZ só é decidido quando do colapso da função de onda do fóton gêmeo auxiliar (pois isso decide se a PQO vai ser ou não colocada). Mas com o controle quântico a decisão não fica a cargo do experimentador nem de um gerador de números pseudo-aleatórios, pois o controle é quântico.\n",
    "<img src='fig_apagador.png' width='400'>"
   ]
  },
  {
   "cell_type": "markdown",
   "id": "df434a39",
   "metadata": {},
   "source": [
    "__Trabalho:__ Fica como sugestão de trabalho a implementação da simulação desse experimento no IBMQ. É tranquilamente suficiente para uma apresentação na JAI (título: Apagador quântico com controle quântico no IBMQ). Dá um artigo na RBEF se fizer uma discussão legal sobre controle quântico.\n",
    "\n",
    "__Outro exemplo__ interessante envolvendo controle quântico e o IMZ é a seguinte. Considere que colocamos o 2º divisor de feixes em uma superposição de estar um não presente. Se este está presente, $Pr(1)=0$. Se este não está presente, $Pr(1)=1/2$. Se o detector $D1$ clicar, sabemos que o DF não estava presente (no experimento, se usa pares emaranhados de fótons para saber quando o fóton deve chegar no detector, pela sua correlação com um fóton gêmeo)."
   ]
  },
  {
   "cell_type": "markdown",
   "id": "357f1ee1",
   "metadata": {},
   "source": [
    "## Controles emaranhados\n",
    "Vamos ver uma situação interessante. Começamos considerando dois qubits auxiliares emaranhados\n",
    "$$c_{00}|00\\rangle+c_{11}|11\\rangle.$$\n",
    "Apliquemos porta CNOT e CZ controladas como segue\n",
    "\\begin{align}\n",
    "C_{x}^{02}C_{z}^{13}(c_{00}|00\\rangle_{01}+c_{11}|11\\rangle_{01})|\\Psi\\rangle_{23} & = c_{00}C_{x}^{02}C_{z}^{13}|00\\rangle_{01}|\\Psi\\rangle_{23} + c_{11}C_{x}^{02}C_{z}^{13}|11\\rangle_{01}|\\Psi\\rangle_{23} \\\\\n",
    "& = c_{00}|00\\rangle_{01}|\\Psi\\rangle_{23} + c_{11}|11\\rangle_{01}X_{2}Z_{3}|\\Psi\\rangle_{23}.\n",
    "\\end{align}\n",
    "Ou seja, as portas $X$ e $Z$ estão em uma superposição coerente de serem ou não aplicadas. Mas essa suporposição é emaranhada, correlacionada, uma vez que se uma operação é aplicada a outra também é.\n",
    "\n",
    "Vemos assim que, de forma geral, superposição mais operações controladas nos possibilitam a implementação de superposições de operações quânticas, o chamado controle quântico."
   ]
  },
  {
   "cell_type": "code",
   "execution_count": null,
   "id": "737a0ddf",
   "metadata": {},
   "outputs": [],
   "source": []
  }
 ],
 "metadata": {
  "kernelspec": {
   "display_name": "Python 3",
   "language": "python",
   "name": "python3"
  },
  "language_info": {
   "codemirror_mode": {
    "name": "ipython",
    "version": 3
   },
   "file_extension": ".py",
   "mimetype": "text/x-python",
   "name": "python",
   "nbconvert_exporter": "python",
   "pygments_lexer": "ipython3",
   "version": "3.11.1 (tags/v3.11.1:a7a450f, Dec  6 2022, 19:58:39) [MSC v.1934 64 bit (AMD64)]"
  },
  "vscode": {
   "interpreter": {
    "hash": "c261aea317cc0286b3b3261fbba9abdec21eaa57589985bb7a274bf54d6cc0a7"
   }
  }
 },
 "nbformat": 4,
 "nbformat_minor": 5
}
