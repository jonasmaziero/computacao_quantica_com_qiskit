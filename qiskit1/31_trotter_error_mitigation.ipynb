{
 "cells": [
  {
   "cell_type": "markdown",
   "id": "a1949ccc",
   "metadata": {},
   "source": [
    "### Notas de aula de Computação Quântica <br> Autor: Jonas Maziero\n",
    "\n",
    "# Trotterização - Mitigação de erros com pós-processamento"
   ]
  },
  {
   "cell_type": "code",
   "execution_count": 1,
   "id": "d40a032b",
   "metadata": {},
   "outputs": [],
   "source": [
    "from qiskit import QuantumCircuit, IBMQ, Aer\n",
    "def qc_ezz(t):\n",
    "    qc = QuantumCircuit(2, name = 'e^(-itZZ)')\n",
    "    qc.cx(0, 1); qc.rz(2*t, 1); qc.cx(0, 1) \n",
    "    return qc\n",
    "def qc_exx(t):\n",
    "    qc = QuantumCircuit(2, name = 'e^(-itXX)')\n",
    "    qc.h([0,1]); qc.cx(0, 1); qc.rz(2*t, 1); qc.cx(0, 1); qc.h([0,1])\n",
    "    return qc\n",
    "def qc_eyy(t):\n",
    "    qc = QuantumCircuit(2, name = 'e^(-itYY)')\n",
    "    qc.sdg([0,1]); qc.h([0,1]); qc.cx(0, 1); qc.rz(2*t, 1); qc.cx(0, 1); qc.h([0,1]); qc.s([0,1])\n",
    "    return qc\n",
    "def qc_Bj(t):\n",
    "    qc = QuantumCircuit(3, name = 'B_j')\n",
    "    qc_ezz_ = qc_ezz(t); qc_eyy_ = qc_eyy(t); qc_exx_ = qc_exx(t)\n",
    "    qc.append(qc_ezz_, [1, 2]); qc.append(qc_eyy_, [1, 2]); qc.append(qc_exx_, [1, 2])\n",
    "    qc.append(qc_ezz_, [0, 1]); qc.append(qc_eyy_, [0, 1]); qc.append(qc_exx_, [0, 1])\n",
    "    return qc"
   ]
  },
  {
   "cell_type": "code",
   "execution_count": 2,
   "id": "80a9eed9",
   "metadata": {},
   "outputs": [],
   "source": [
    "nshots = 8192\n",
    "IBMQ.load_account()\n",
    "provider = IBMQ.get_provider(hub='ibm-q-community', group='ibmquantumawards', project='open-science-22')\n",
    "#provider = qiskit.IBMQ.get_provider(hub = 'ibm-q-research-2', group = 'federal-uni-sant-1', project = 'main')\n",
    "device = provider.get_backend('ibmq_jakarta')\n",
    "simulator = Aer.get_backend('qasm_simulator')\n",
    "from qiskit.tools.monitor import job_monitor\n",
    "from qiskit.ignis.verification.tomography import state_tomography_circuits, StateTomographyFitter\n",
    "from qiskit.tools.monitor import backend_overview, backend_monitor"
   ]
  },
  {
   "cell_type": "markdown",
   "id": "ec4ba0ba",
   "metadata": {},
   "source": [
    "chip jakarta\n",
    "<img src = 'fig_jakarta_chip.png' width = '600'>"
   ]
  },
  {
   "cell_type": "code",
   "execution_count": 3,
   "id": "a0154740",
   "metadata": {},
   "outputs": [
    {
     "data": {
      "text/plain": [
       "(array([[0, 0, 0, 0, 0, 0, 1, 0]]), array([[0, 0, 0, 1, 0, 0, 0, 0]]))"
      ]
     },
     "execution_count": 3,
     "metadata": {},
     "output_type": "execute_result"
    }
   ],
   "source": [
    "def qc_psi0():\n",
    "    qc = QuantumCircuit(3, name = 'psi0')\n",
    "    qc.x([0,1])\n",
    "    return qc\n",
    "import numpy as np\n",
    "ket0 = np.array([[1],[0]]); ket1 = np.array([[0],[1]]); #ket0, ket1\n",
    "psi0_ = np.kron(ket1, np.kron(ket1, ket0)); \n",
    "psi0__ = np.kron(ket0, np.kron(ket1, ket1)) # para calcular a fidelidade com o estado da tomografia\n",
    "psi0_.T, psi0__.T"
   ]
  },
  {
   "cell_type": "code",
   "execution_count": 4,
   "id": "707bd4af",
   "metadata": {},
   "outputs": [],
   "source": [
    "import scipy\n",
    "I = np.array([[1,0],[0,1]]); X = np.array([[0,1],[1,0]]); \n",
    "Y = np.array([[0,-1j],[1j,0]]); Z = np.array([[1,0],[0,-1]])\n",
    "H2 = np.kron(X, X) + np.kron(Y, Y) + np.kron(Z, Z)\n",
    "def UHxxx12_num(t):\n",
    "    H = np.kron(H2, I)\n",
    "    return scipy.linalg.expm(-1j*t*H)\n",
    "def UHxxx23_num(t):\n",
    "    H = np.kron(I, H2)\n",
    "    return scipy.linalg.expm(-1j*t*H)\n",
    "#U = UHxxx23_num(math.pi); print(U.shape[0])"
   ]
  },
  {
   "cell_type": "code",
   "execution_count": 5,
   "id": "16b77a82",
   "metadata": {},
   "outputs": [],
   "source": [
    "from qiskit import quantum_info, execute\n",
    "from qiskit.tools.monitor import job_monitor\n",
    "from qiskit.ignis.verification.tomography import state_tomography_circuits, StateTomographyFitter"
   ]
  },
  {
   "cell_type": "code",
   "execution_count": 7,
   "id": "fe28e71d",
   "metadata": {},
   "outputs": [],
   "source": [
    "from qiskit.ignis.mitigation.measurement import (complete_meas_cal, CompleteMeasFitter)\n",
    "from qiskit import QuantumCircuit, QuantumRegister, ClassicalRegister, Aer, execute, IBMQ"
   ]
  },
  {
   "cell_type": "code",
   "execution_count": 11,
   "id": "afbf0d99",
   "metadata": {},
   "outputs": [
    {
     "name": "stdout",
     "output_type": "stream",
     "text": [
      "Job Status: job has successfully run\n"
     ]
    }
   ],
   "source": [
    "qr = QuantumRegister(7)\n",
    "qubit_list = [5, 3, 1] # os qubits para os quais aplicaremos calibracao de medidas\n",
    "meas_calibs, state_labels = complete_meas_cal(qubit_list = qubit_list, qr = qr)\n",
    "job = execute(meas_calibs, backend = device, shots = nshots)\n",
    "job_monitor(job)\n",
    "cal_results = job.result()\n",
    "meas_fitter = CompleteMeasFitter(cal_results, state_labels)"
   ]
  },
  {
   "cell_type": "code",
   "execution_count": 14,
   "id": "3232822a",
   "metadata": {},
   "outputs": [
    {
     "name": "stdout",
     "output_type": "stream",
     "text": [
      "Job Status: job has successfully run\n",
      "No. passos= 1 ,F_teo= 1.0 ,F_sim= 0.9958882254932865 ,F_exp= 0.8869198627311783\n",
      "Job Status: job has successfully run\n",
      "No. passos= 2 ,F_teo= 1.0 ,F_sim= 0.9969185246651309 ,F_exp= 0.4945945384641882\n",
      "Job Status: job has successfully run\n",
      "No. passos= 3 ,F_teo= 0.07714843750000018 ,F_sim= 0.0778206969050526 ,F_exp= 0.10523544593902089\n",
      "Job Status: job has successfully run\n",
      "No. passos= 4 ,F_teo= 0.0 ,F_sim= 5.969854588581241e-05 ,F_exp= 0.09089799973348599\n",
      "Job Status: job has successfully run\n",
      "No. passos= 5 ,F_teo= 0.2568610946774409 ,F_sim= 0.2592369197912683 ,F_exp= 0.09748134832530922\n",
      "Job Status: job has successfully run\n",
      "No. passos= 6 ,F_teo= 0.573213338851928 ,F_sim= 0.5718147466697812 ,F_exp= 0.11186698596994515\n",
      "Job Status: job has successfully run\n",
      "No. passos= 7 ,F_teo= 0.7584840269784399 ,F_sim= 0.7542218755513783 ,F_exp= 0.1216007277291585\n",
      "Job Status: job has successfully run\n",
      "No. passos= 8 ,F_teo= 0.857330322265624 ,F_sim= 0.8522606698370779 ,F_exp= 0.11590502285383557\n"
     ]
    }
   ],
   "source": [
    "t = math.pi\n",
    "for j in range(0, 8): # muda o No. de passos de Trotter\n",
    "    # teórico\n",
    "    U12 = UHxxx12_num(t/(j+1)); U23 = UHxxx23_num(t/(j+1))\n",
    "    B = np.dot(U12, U23); U = np.linalg.matrix_power(B, j+1); psit = np.dot(U, psi0_)\n",
    "    F_teo = quantum_info.state_fidelity(psi0_, psit)\n",
    "    # circuit q\n",
    "    qc = QuantumCircuit(7)\n",
    "    qc.x([5, 3]) # initial state\n",
    "    qc_Bj_ = qc_Bj(t/(j+1))\n",
    "    for k in range(0, j+1):\n",
    "        qc.append(qc_Bj_, [5, 3, 1])\n",
    "    qstc = state_tomography_circuits(qc, [5, 3, 1])\n",
    "    # simulação\n",
    "    job_sim = execute(qstc, backend = simulator, shots = nshots)\n",
    "    qstf_sim = StateTomographyFitter(job_sim.result(), qstc)\n",
    "    rho_sim = qstf_sim.fit(method = 'lstsq')\n",
    "    F_sim = quantum_info.state_fidelity(psi0__, rho_sim)\n",
    "    # experimento\n",
    "    job_exp = execute(qstc, backend = device, shots = nshots)\n",
    "    job_monitor(job_exp)\n",
    "    mitigated_results = meas_fitter.filter.apply(job_exp.result())\n",
    "    qstf_exp = StateTomographyFitter(mitigated_results, qstc)\n",
    "    rho_exp = qstf_exp.fit(method = 'lstsq')\n",
    "    F_exp = quantum_info.state_fidelity(psi0__, rho_exp)\n",
    "    print('No. passos=', j+1, ',F_teo=', F_teo, ',F_sim=', F_sim, ',F_exp=', F_exp)"
   ]
  }
 ],
 "metadata": {
  "kernelspec": {
   "display_name": "Python 3 (ipykernel)",
   "language": "python",
   "name": "python3"
  },
  "language_info": {
   "codemirror_mode": {
    "name": "ipython",
    "version": 3
   },
   "file_extension": ".py",
   "mimetype": "text/x-python",
   "name": "python",
   "nbconvert_exporter": "python",
   "pygments_lexer": "ipython3",
   "version": "3.8.8"
  }
 },
 "nbformat": 4,
 "nbformat_minor": 5
}
