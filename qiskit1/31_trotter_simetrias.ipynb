{
 "cells": [
  {
   "cell_type": "markdown",
   "id": "5035abd0",
   "metadata": {},
   "source": [
    "### Notas de aula de Computação Quântica <br> Autor: Jonas Maziero"
   ]
  },
  {
   "cell_type": "markdown",
   "id": "61e4c3c4",
   "metadata": {},
   "source": [
    "# Usando as simetrias do hamiltoniano\n",
    "Para \n",
    "\\begin{equation}\n",
    "H_{xxx} = J\\sum_{\\langle j,k\\rangle}\\big(\\sigma_{j}^{x}\\sigma_{k}^{x}+\\sigma_{j}^{y}\\sigma_{k}^{y}+\\sigma_{j}^{z}\\sigma_{k}^{z}\\big)\n",
    "\\end{equation} \n",
    "e \n",
    "\\begin{equation}\n",
    "S_{d} := \\frac{1}{2}\\sum_{j=1}^{N}\\sigma_{j}^{d}\n",
    "\\end{equation}\n",
    "com $d=x,y,z$, temos que\n",
    "\\begin{equation}\n",
    "[H_{xxx},S_{x}] = [H_{xxx},S_{y}] = [H_{xxx},S_{z}] =0.\n",
    "\\end{equation}\n",
    "Lembremos que \n",
    "\\begin{equation}\n",
    "H_{xxx} = H_{xxx}^{(12)} + H_{xxx}^{(23)},\n",
    "\\end{equation}\n",
    "com (para três spins, $H_{xxx}^{(3)}$)\n",
    "\\begin{equation}\n",
    "H_{xxx}^{(12)} = (X\\otimes X+Y\\otimes Y+Z\\otimes Z)\\otimes I = H_{xxx}^{(2)}\\otimes I\n",
    "\\end{equation}\n",
    "e\n",
    "\\begin{equation}\n",
    "H_{xxx}^{(23)} = I\\otimes(X\\otimes X+Y\\otimes Y+Z\\otimes Z) = I\\otimes H_{xxx}^{(2)}.\n",
    "\\end{equation}\n",
    "Lembremos também que\n",
    "\\begin{equation}\n",
    "U = e^{-iH_{xxx}t} = e^{-i(H_{xxx}^{12}+H_{xxx}^{23})t} = \\lim_{j\\rightarrow\\infty}\\Big(e^{-iH_{xxx}^{12}t/j}e^{-iH_{xxx}^{23}t/j}\\Big)^{j}\n",
    "\\end{equation}\n",
    "e que aproximamos a relação exata usando um número finito $j=n_{pt}$ de passos de Trotter."
   ]
  },
  {
   "cell_type": "markdown",
   "id": "9cb582dc",
   "metadata": {},
   "source": [
    "Nesse ponto, não é difícil notar que não é a simetria em relação a $H_{xxx}$ que devemos usar na prática, mas sim a simetria em relação a $H_{xxx}^{(12)}$ e $H_{xxx}^{(23)}$. Usando os resultados listados acima, se definirmos\n",
    "\\begin{equation}\n",
    "S_{d}^{(jk)} = \\sigma_{j}^{d} + \\sigma_{k}^{d},\n",
    "\\end{equation}\n",
    "teremos que\n",
    "\\begin{equation}\n",
    "[H_{xxx}^{(jk)},S_{d}^{(jk)}] = 0 \\text{ para }j,k=1,2 \\text{ e } j,k=23.\n",
    "\\end{equation}\n",
    "Explicitamente\n",
    "\\begin{equation}\n",
    "[X\\otimes I+I\\otimes X, H_{xxx}^{(jk)}] = [Y\\otimes I+I\\otimes Y, H_{xxx}^{(jk)}] = [Z\\otimes I+I\\otimes Z, H_{xxx}^{(jk)}] = 0.\n",
    "\\end{equation}\n",
    "\n",
    "Teremos assim, por exemplo, que\n",
    "\\begin{equation}\n",
    "e^{-iH_{xxx}^{(jk)}t/j} = \\big(e^{iZ\\phi}\\otimes e^{iZ\\phi}\\big)e^{-iH_{xxx}^{(jk)}t/j}\\big(e^{-iZ\\phi}\\otimes e^{-iZ\\phi}\\big),\n",
    "\\end{equation}\n",
    "em que usamos que \n",
    "\\begin{equation}\n",
    "e^{\\pm i(Z\\otimes I+ I\\otimes Z)\\phi} = e^{\\pm i(Z\\otimes I)\\phi}e^{\\pm i(I\\otimes Z)\\phi} = \\big(e^{\\pm iZ\\phi}\\otimes I\\big)\\big(I\\otimes e^{\\pm iZ\\phi}\\big) = e^{iZ\\phi}\\otimes e^{iZ\\phi}.\n",
    "\\end{equation}"
   ]
  },
  {
   "cell_type": "markdown",
   "id": "98d7d27e",
   "metadata": {},
   "source": [
    "A operação básica da troterização é\n",
    "\\begin{equation}\n",
    "B_{j} = \\Big(e^{-iH_{xxx}^{(2)}t/j}\\otimes I\\Big)\\Big(I\\otimes e^{-iH_{xxx}^{(2)}t/j}\\Big).\n",
    "\\end{equation}\n",
    "Podemos usar as transformações de simetria\n",
    "\\begin{equation}\n",
    "B_{j} = \\Big(e^{iZ\\phi}\\otimes e^{iZ\\phi}\\otimes I\\Big)\\Big(e^{-iH_{xxx}^{(2)}t/j}\\otimes I\\Big)\\Big(e^{-iZ\\phi}\\otimes e^{-iZ\\phi}\\otimes I\\Big)\\Big(I\\otimes e^{iX\\theta}\\otimes e^{iX\\theta}\\Big)\\Big(I\\otimes e^{-iH_{xxx}^{(2)}t/j}\\Big)\\Big(I\\otimes e^{-iX\\theta}\\otimes e^{-iX\\theta}\\Big).\n",
    "\\end{equation}\n",
    "Claro, podemos utilizar várias outras combinações de transformações de simetria. Vale mencionar que se usamos e.g. $Z$ e $Z$ para os dois pares de spins, se cancelam ou se somanda para o spin do meio, dependendo da escolha do sinal da fase.\n",
    "\n",
    "Para a sequência, é válido fazer um estudo da dependência da fidelidade com a escolha da sequência de simetrias e também com os valores dos ângulos."
   ]
  },
  {
   "cell_type": "code",
   "execution_count": 35,
   "id": "b8ea24dd",
   "metadata": {},
   "outputs": [
    {
     "name": "stdout",
     "output_type": "stream",
     "text": [
      "61eeb8d21faa066ac33471ac\n",
      "Job Status: job has successfully run\n",
      "No. passos= 1 ,F_teo= 0.9999999999999982 ,F_sim= 0.9835439866736209 ,F_exp= 0.8693340150654622\n",
      "61eeba0a404aae6cc54398f9\n",
      "Job Status: job has successfully run\n",
      "No. passos= 2 ,F_teo= 0.9999999999999982 ,F_sim= 0.9828191225149983 ,F_exp= 0.3463818998642021\n",
      "61eebab86fb79788a44438e3\n",
      "Job Status: job has successfully run\n",
      "No. passos= 3 ,F_teo= 0.07714843750000015 ,F_sim= 0.07860760713526703 ,F_exp= 0.1277385074185349\n",
      "61eebae34eebda70647a9eeb\n",
      "Job Status: job has successfully run\n",
      "No. passos= 4 ,F_teo= 5.058650151352797e-31 ,F_sim= 0.005374151286554848 ,F_exp= 0.15742657473680358\n",
      "61eebb2cd6c095a34bdfc2c6\n",
      "Job Status: job has successfully run\n",
      "No. passos= 5 ,F_teo= 0.25686109467744184 ,F_sim= 0.2504194180680803 ,F_exp= 0.15878393105662453\n",
      "61eebba99847b3b227ab22f2\n",
      "Job Status: job has successfully run\n",
      "No. passos= 6 ,F_teo= 0.5732133388519284 ,F_sim= 0.5564887023558757 ,F_exp= 0.16294519364889065\n",
      "61eebbe9dfe4a9167822efb2\n",
      "Job Status: job has successfully run\n",
      "No. passos= 7 ,F_teo= 0.7584840269784391 ,F_sim= 0.7503263113545025 ,F_exp= 0.14714230365807587\n"
     ]
    }
   ],
   "source": [
    "nshots = 500; \n",
    "Npt = 7 # Número de passos de Trotter \n",
    "ph = 2*math.pi # ângulo para a transformação de simetria\n",
    "t = math.pi\n",
    "for j in range(0, Npt): # muda o No. de passos de Trotter\n",
    "    # teórico\n",
    "    U12 = UHxxx12_num(t/(j+1)); U23 = UHxxx23_num(t/(j+1))\n",
    "    B = np.dot(U12, U23); U = np.linalg.matrix_power(B, j+1); psit = np.dot(U, psi0_)\n",
    "    F_teo = qiskit.quantum_info.state_fidelity(psi0_, psit)\n",
    "    # circuit q\n",
    "    qc = QuantumCircuit(3)\n",
    "    qc_psi0_ = qc_psi0(); qc.append(qc_psi0_, [0, 1, 2]) # estado inicial \n",
    "    qc_Bj_ = qc_Bj(t/(j+1))\n",
    "    for k in range(0, j+1):\n",
    "        qc.rz(ph/(j+1), [0, 1, 2]) # transformação de simetria\n",
    "        qc.append(qc_Bj_, [0, 1, 2])\n",
    "    qc.rz(-ph, [0, 1, 2]) # revertendo a transformação de simetria\n",
    "    if j == 1:\n",
    "        qc.draw(output = 'mpl')\n",
    "    qstc = state_tomography_circuits(qc, [0, 1, 2])\n",
    "    # simulação\n",
    "    job = qiskit.execute(qstc, backend = simulator, shots = nshots)\n",
    "    qstf = StateTomographyFitter(job.result(), qstc)\n",
    "    rho = qstf.fit(method = 'lstsq')\n",
    "    F_sim = qiskit.quantum_info.state_fidelity(psi0__, rho)\n",
    "    # experimento\n",
    "    jobE = qiskit.execute(qstc, backend = device, shots = nshots)\n",
    "    print(jobE.job_id()); job_monitor(jobE)\n",
    "    qstfE = StateTomographyFitter(jobE.result(), qstc)\n",
    "    rhoE = qstfE.fit(method = 'lstsq')\n",
    "    F_exp = qiskit.quantum_info.state_fidelity(psi0__, rhoE)\n",
    "    print('No. passos=', j+1, ',F_teo=', F_teo, ',F_sim=', F_sim, ',F_exp=', F_exp)"
   ]
  },
  {
   "cell_type": "code",
   "execution_count": 37,
   "id": "db0d9b38",
   "metadata": {},
   "outputs": [
    {
     "data": {
      "image/png": "[encoded data removed]",
      "text/plain": [
       "<Figure size 1049.8x204.68 with 1 Axes>"
      ]
     },
     "execution_count": 37,
     "metadata": {},
     "output_type": "execute_result"
    }
   ],
   "source": [
    "qc.draw(output = 'mpl')"
   ]
  }
 ],
 "metadata": {
  "kernelspec": {
   "display_name": "Python 3 (ipykernel)",
   "language": "python",
   "name": "python3"
  },
  "language_info": {
   "codemirror_mode": {
    "name": "ipython",
    "version": 3
   },
   "file_extension": ".py",
   "mimetype": "text/x-python",
   "name": "python",
   "nbconvert_exporter": "python",
   "pygments_lexer": "ipython3",
   "version": "3.8.11"
  }
 },
 "nbformat": 4,
 "nbformat_minor": 5
}
