{
 "cells": [
  {
   "cell_type": "markdown",
   "id": "a2c8f61d",
   "metadata": {},
   "source": [
    "### Notas de aula de Computação Quântica <br> Autor: Jonas Maziero"
   ]
  },
  {
   "cell_type": "code",
   "execution_count": 3,
   "id": "383eb0d8",
   "metadata": {},
   "outputs": [],
   "source": [
    "%run init.ipynb"
   ]
  },
  {
   "cell_type": "markdown",
   "id": "0166c11c",
   "metadata": {},
   "source": [
    "# Transformada de Fourier quântica\n",
    "\n",
    "A __transformada de Fourier discreta clássica__ é um mapa entre o conjunto de $d$ números complexos\n",
    "$$x=(x_{0},\\cdots,x_{d-1})$$\n",
    "e o conjunto de $d$ números complexos\n",
    "$$y=(y_{0},\\cdots,y_{d-1})$$\n",
    "tal que\n",
    "\\begin{equation}\n",
    "y_{k} := \\frac{1}{\\sqrt{d}}\\sum_{j=0}^{d-1}x_{j}e^{2\\pi ijk/d}.\n",
    "\\end{equation}\n",
    "\n",
    "No caso quântico, esses conjuntos de __números complexos__ são representados por estados quânticos. Mais precisamente, eles são os coeficientes de um vetor de estado quando representado na base computacional (de um __qudit__):\n",
    "\\begin{align}\n",
    "|x\\rangle & = \\sum_{j=0}^{d-1}x_{j}|j\\rangle = \\begin{bmatrix} x_{0} \\\\ \\vdots \\\\ x_{d-1} \\end{bmatrix}, \\\\\n",
    "|y\\rangle & = \\sum_{k=0}^{d-1}y_{k}|k\\rangle = \\begin{bmatrix} y_{0} \\\\ \\vdots \\\\ y_{d-1} \\end{bmatrix} \\\\\n",
    "& \\equiv \\sum_{k=0}^{d-1}\\frac{1}{\\sqrt{d}}\\sum_{j=0}^{d-1}x_{j}e^{2\\pi ijk/d}|k\\rangle = \\sum_{j=0}^{d-1}x_{j}\\Big(\\frac{1}{\\sqrt{d}}\\sum_{k=0}^{d-1}e^{2\\pi ijk/d}|k\\rangle\\Big).\n",
    "\\end{align}\n",
    "\n",
    "_OBS._ A codificação em estados quânticos dos números envolvidos na transformada de Fourier implicam nas seguintes restrições sobre esses números:\n",
    "\\begin{align}\n",
    "& \\sum_{j=0}^{d-1}|x_{j}|^{2} = |x_{0}|^{2}+|x_{1}|^{2}+\\cdots+|x_{d-1}|^{2}=1, \\\\ \n",
    "& \\sum_{j=0}^{d-1}|y_{j}|^{2} = |y_{0}|^{2}+|y_{1}|^{2}+\\cdots+|y_{d-1}|^{2}=1. \n",
    "\\end{align}"
   ]
  },
  {
   "cell_type": "markdown",
   "id": "58eff326",
   "metadata": {},
   "source": [
    "Vemos que essa transformação,\n",
    "\\begin{align}\n",
    "|y\\rangle & =: U_{tfq}|x\\rangle \\\\\n",
    "& = U_{tfq}\\sum_{j=0}^{d-1}x_{j}|j\\rangle = \\sum_{j=0}^{d-1}x_{j}U_{tfq}|j\\rangle,\n",
    "\\end{align}\n",
    "pode ser obtida se a __ação dessa transformação na base computacional__ for\n",
    "$$U_{tfq}|j\\rangle = \\frac{1}{\\sqrt{d}}\\sum_{k=0}^{d-1}e^{2\\pi ijk/d}|k\\rangle \\text{, para }j=0,\\cdots,d-1.$$\n",
    "Isso pode ser obtido com\n",
    "$$U_{tfq} = \\frac{1}{\\sqrt{d}}\\sum_{k,l=0}^{d-1}e^{2\\pi ikl/d}|k\\rangle\\langle l| \\equiv F,$$\n",
    "que coincide com a __porta de Fourier__, que discutimos anteriormente, quando estudamos qudits."
   ]
  },
  {
   "cell_type": "markdown",
   "id": "556f048b",
   "metadata": {},
   "source": [
    "Vamos representar os vetores da base computacional de um qudit em termos da base computacional produto de\n",
    "$$n=\\log_{2}(d)$$\n",
    "qubits. Ou seja, assimiremos que\n",
    "$$d=2^{n}.$$\n",
    "\n",
    "Ou seja, escreveremos\n",
    "\\begin{align}\n",
    "|j\\rangle & = |j_{1}\\cdots j_{n}\\rangle \\\\\n",
    "& \\equiv |j_{1}\\rangle\\otimes\\cdots\\otimes|j_{n}\\rangle\n",
    "\\end{align}\n",
    "com\n",
    "$$j_{s}=0,1 \\text{ para } s=1,\\cdots,n$$\n",
    "e\n",
    "\\begin{align}\n",
    "j & = j_{1}2^{n-1}+j_{2}2^{n-2}+\\cdots+j_{n-1}2^{1}+j_{n}2^{0} \\\\\n",
    "& = \\sum_{l=1}^{n}j_{l}2^{n-l}.\n",
    "\\end{align}\n",
    "Para uso posterior, notemos que\n",
    "$$\\frac{j}{2^{n}} = j2^{-n} = \\sum_{l=1}^{n}j_{l}2^{-l}.$$"
   ]
  },
  {
   "cell_type": "markdown",
   "id": "39dd8066",
   "metadata": {},
   "source": [
    "Seguindo, vamos atuar o operador de um qudit representado por $\\log_{2}(d)$ qubits:\n",
    "\\begin{align}\n",
    "F|j\\rangle & = F|j_{1}\\cdots j_{n}\\rangle \\\\\n",
    "& = F(|j_{1}\\rangle\\otimes|j_{2}\\rangle\\otimes\\cdots\\otimes|j_{n-1}\\rangle\\otimes|j_{n}\\rangle) \\\\\n",
    "& = \\frac{1}{\\sqrt{d}}\\sum_{k=0}^{d-1}e^{2\\pi ijk/d}|k\\rangle  = \\frac{1}{\\sqrt{2^{n}}}\\sum_{k=0}^{2^{n}-1}e^{2\\pi ijk/2^{n}}|k\\rangle \\\\\n",
    "& = \\frac{1}{\\sqrt{2^{n}}}\\sum_{k_{1},k_{2},\\cdots, k_{n-1},k_{n}=0}^{1}e^{2\\pi ij\\sum_{l=1}^{n}k_{l}2^{-l}}|k_{1}k_{2}\\cdots k_{n-1}k_{n}\\rangle  \\\\\n",
    "& = \\frac{1}{\\sqrt{2^{n}}}\\sum_{k_{1},k_{2},\\cdots,k_{n-1},k_{n}=0}^{1}\\Pi_{l=1}^{n}e^{2\\pi ijk_{l}2^{-l}}|k_{1}k_{2}\\cdots k_{n-1}k_{n}\\rangle \\\\\n",
    "& = \\frac{1}{\\sqrt{2^{n}}}\\sum_{k_{1},k_{2},\\cdots,k_{n-1},k_{n}=0}^{1}e^{2\\pi ijk_{1}2^{-1}}e^{2\\pi ijk_{2}2^{-2}}\\cdots e^{2\\pi ijk_{n-1}2^{-n+1}}e^{2\\pi ijk_{n}2^{-n}}|k_{1}\\rangle\\otimes|k_{2}\\rangle\\otimes\\cdots\\otimes|k_{n-1}\\rangle\\otimes|k_{n}\\rangle \\\\\n",
    "& = \\frac{1}{\\sqrt{2^{n}}}\\Big(\\sum_{k_{1}=0}^{1}e^{2\\pi ijk_{1}2^{-1}}|k_{1}\\rangle\\Big)\\otimes\\Big(\\sum_{k_{2}=0}^{1}e^{2\\pi ijk_{2}2^{-2}}|k_{2}\\rangle\\Big)\\otimes\\cdots \\otimes\\Big(\\sum_{k_{n-1}=0}^{1}e^{2\\pi ijk_{n-1}2^{-n+1}}|k_{n-1}\\rangle\\Big)\\otimes\\Big(\\sum_{k_{n}=0}^{1}e^{2\\pi ijk_{n}2^{-n}}|k_{n}\\rangle\\Big) \\\\\n",
    "& = \\frac{1}{\\sqrt{2^{n}}}\\Big(|0\\rangle+e^{2\\pi ij2^{-1}}|1\\rangle\\Big)\\otimes\\Big(|0\\rangle+e^{2\\pi ij2^{-2}}|1\\rangle\\Big)\\otimes\\cdots \\otimes\\Big(|0\\rangle+e^{2\\pi ij2^{-n+1}}|1\\rangle\\Big)\\otimes\\Big(|0\\rangle+e^{2\\pi ij2^{-n}}|1\\rangle\\Big). \\hspace{1cm} (\\star)\n",
    "\\end{align}"
   ]
  },
  {
   "cell_type": "markdown",
   "id": "50d7cd22",
   "metadata": {},
   "source": [
    "Ou seja, para implementar a TFQ, precisamos preparar $n$ qubits em um estado produto de estados que são uma superposição dos estados da base computacional com o estado $|1\\rangle$  do qubit $p$ recebendo uma fase $e^{2\\pi ij2^{-p}}$\n",
    "com \n",
    "$$p=1,2,\\cdots,n.$$\n",
    "Podemos escrever essa fase como segue\n",
    "\\begin{align}\n",
    "e^{2\\pi ij2^{-p}} & = e^{2\\pi i\\sum_{l=1}^{n}j_{l}2^{n-l}2^{-p}} = e^{2\\pi i\\sum_{l=1}^{n}j_{l}2^{n-l-p}} = \\Pi_{l=1}^{n}e^{2\\pi ij_{l}2^{n-l-p}} \\\\\n",
    "& = e^{2\\pi ij_{1}2^{n-1-p}}e^{2\\pi ij_{2}2^{n-2-p}}\\cdots e^{2\\pi ij_{n-1}2^{n-n+1-p}}e^{2\\pi ij_{l}2^{n-n-p}} \\\\\n",
    "& = e^{2\\pi ij_{1}2^{n-1-p}}e^{2\\pi ij_{2}2^{n-2-p}}\\cdots e^{2\\pi ij_{n-1}2^{1-p}}e^{2\\pi ij_{n}2^{-p}}.\n",
    "\\end{align}\n",
    "Alguns casos\n",
    "\\begin{align}\n",
    "& e^{2\\pi ij2^{-1}} = e^{2\\pi ij_{1}2^{n-2}}e^{2\\pi ij_{2}2^{n-3}}\\cdots e^{2\\pi ij_{n-1}2^{0}}e^{2\\pi ij_{n}2^{-1}}, \\\\\n",
    "& e^{2\\pi ij2^{-2}} = e^{2\\pi ij_{1}2^{n-3}}e^{2\\pi ij_{2}2^{n-4}}\\cdots e^{2\\pi ij_{n-1}2^{-1}}e^{2\\pi ij_{n}2^{-2}}, \\\\\n",
    "& \\vdots \\\\\n",
    "& e^{2\\pi ij2^{-n+1}} = e^{2\\pi ij_{1}2^{0}}e^{2\\pi ij_{2}2^{-1}}\\cdots e^{2\\pi ij_{n-1}2^{2-n}}e^{2\\pi ij_{n}2^{-n+1}}, \\\\\n",
    "& e^{2\\pi ij2^{-n}} = e^{2\\pi ij_{1}2^{-1}}e^{2\\pi ij_{2}2^{-2}}\\cdots e^{2\\pi ij_{n-1}2^{1-n}}e^{2\\pi ij_{n}2^{-n}}.\n",
    "\\end{align}"
   ]
  },
  {
   "cell_type": "markdown",
   "id": "d843d06f",
   "metadata": {},
   "source": [
    "Lembrando, a ação da porta de Hadamard pode ser escrita de forma geral como\n",
    "$$H|j_{l}\\rangle = \\frac{1}{\\sqrt{2}}\\big(|0\\rangle+e^{2\\pi ij_{l}/2}|1\\rangle\\big).$$\n",
    "A porta de fase,\n",
    "$$P(\\phi) = |0\\rangle\\langle 0|+e^{i\\phi}|1\\rangle\\langle 1|,$$\n",
    "atua como segue\n",
    "$$P(\\phi)|0\\rangle = |0\\rangle \\text{ e } P(\\phi)|1\\rangle = e^{i\\phi}|1\\rangle.$$\n",
    "Olhando para a última igualdade para o estado $F|j\\rangle$, vemos que a forma dos estado locais se parecem com aquelas que podemos obter aplicando uma porta de fase $P(\\phi)$. No entanto, vemos também que essas fases, $e^{2\\pi i2^{-p}}$, dependem dos estados iniciais de todos os qubits. Isso nos indica que precisaremos aplicar portas de fases controladas\n",
    "$$C_{P(\\phi)}^{A\\rightarrow B} = |0\\rangle_{A}\\langle 0|\\otimes\\mathbb{I}_{B} + |1\\rangle_{A}\\langle 1|\\otimes P(\\phi).$$\n",
    "Ou seja, a porta de fase dá uma fase $e^{i\\phi}$ ao target se o estado do controle for $|1\\rangle$. Ou poderíamos dizer que essa porta adiciona uma fase \n",
    "$$e^{i\\phi j_{p}}$$ \n",
    "ao estado $|1\\rangle$ target, com $j_{p}=0,1$ dependendo do estado do qubit target $p$."
   ]
  },
  {
   "cell_type": "markdown",
   "id": "92e06532",
   "metadata": {},
   "source": [
    "Vamos começar olhando para o estado do __1º qubit__, que é proporcional a $|0\\rangle+e^{2\\pi ij2^{-1}}|1\\rangle.$ Essa exponencial é dada por\n",
    "$$e^{2\\pi ij2^{-1}} = e^{2\\pi ij_{1}2^{n-2}}e^{2\\pi ij_{2}2^{n-3}}\\cdots e^{2\\pi ij_{n-1}2^{0}}e^{2\\pi ij_{n}2^{-1}} = e^{2\\pi i\\big(j_{1}2^{n-2}+j_{2}2^{n-3}\\cdots+j_{n-1}2^{0}+j_{n}2^{-1}\\big)}.$$\n",
    "Pelo $j_{1}$, vamos começar aplicando a Hadamard no 1º qubit\n",
    "$$(H_{1}|j_{1}\\rangle)\\otimes|j_{2}\\cdots j_{n}\\rangle = \\frac{1}{\\sqrt{2}}\\Big(|0\\rangle+e^{2\\pi ij_{1}2^{-1}}|1\\rangle\\Big)\\otimes|j_{2}\\cdots j_{n}\\rangle$$\n",
    "\n",
    "Seguindo, aplicaremos a porta de fase controlada com o controle indo, individualmente, desde o qubit $l=2$ até o qubit $l=n$, adicionando uma fase\n",
    "$$e^{2\\pi ij_{l}2^{-l}}$$\n",
    "ao estado $|1\\rangle$ do target, o qubit 1 neste caso.\n",
    "\n",
    "Para o qubit $2$ como controle teremos\n",
    "$$C_{P(2\\pi i2^{-2})}^{2\\rightarrow 1}(H_{1}|j_{1}\\rangle)\\otimes|j_{2}\\cdots j_{n}\\rangle = \\frac{1}{\\sqrt{2}}\\Big(|0\\rangle+e^{2\\pi i(j_{1}2^{-1}+j_{2}2^{-2})}|1\\rangle\\Big)\\otimes|j_{2}\\cdots j_{n}\\rangle.$$\n",
    "Como a ação para os outros qubits é similar, teremos\n",
    "\\begin{align}\n",
    "\\Pi_{q=2}^{n}C_{P(2\\pi i2^{-q})}^{q\\rightarrow 1}(H_{1}|j_{1}\\rangle)\\otimes|j_{2}\\cdots j_{n}\\rangle & = \\frac{1}{\\sqrt{2}}\\Big(|0\\rangle+e^{2\\pi i(j_{1}2^{-1}+j_{2}2^{-2}+\\cdots+j_{n}2^{-n})}|1\\rangle\\Big)\\otimes|j_{2}\\cdots j_{n}\\rangle \\\\\n",
    "&  = \\frac{1}{\\sqrt{2}}\\Big(|0\\rangle+e^{2\\pi ij2^{-n}}|1\\rangle\\Big)\\otimes|j_{2}\\cdots j_{n}\\rangle \\\\\n",
    "& =: |\\xi_{0}\\rangle.\n",
    "\\end{align}\n",
    "Note que este é o estado do qubit $n$ no estado $F|j\\rangle$. Isso indica que depois de finalizar as operações, precisaremos fazer uma troca entre os estados dos qubits $1$ e $n$."
   ]
  },
  {
   "cell_type": "markdown",
   "id": "4dfb466e",
   "metadata": {},
   "source": [
    "Seguindo, aplicamos uma Hadamard no __2º qubit__, obtendo\n",
    "$$H_{2}|\\xi_{0}\\rangle = \\frac{1}{\\sqrt{2}}\\Big(|0\\rangle+e^{2\\pi ij2^{-n}}|1\\rangle\\Big)\\otimes\\Big(|0\\rangle+e^{2\\pi ij_{2}2^{-1}}|1\\rangle\\Big)\\otimes|j_{3}\\cdots j_{n}\\rangle.$$\n",
    "Seguindo, aplica-se portas de fase controladas como segue\n",
    "\\begin{align}\n",
    "& \\Pi_{q=3}^{n}C_{P(2\\pi i2^{-q+1})}^{q\\rightarrow 2}\\frac{1}{\\sqrt{2}}\\Big(|0\\rangle+e^{2\\pi ij2^{-n}}|1\\rangle\\Big)\\otimes\\big(H_{2}|j_{2}\\rangle\\big)\\otimes|j_{3}\\cdots j_{n}\\rangle \\\\\n",
    "& = \\frac{1}{\\sqrt{2}}\\Big(|0\\rangle+e^{2\\pi ij2^{-n}}|1\\rangle\\Big)\\otimes\\Big(|0\\rangle+e^{2\\pi i(j_{2}2^{-1}+j_{3}2^{-2}+\\cdots+j_{n}2^{-n+1})}|1\\rangle\\Big)\\otimes|j_{3}\\cdots j_{n}\\rangle \\\\\n",
    "& = \\frac{1}{\\sqrt{2}}\\Big(|0\\rangle+e^{2\\pi ij2^{-n}}|1\\rangle\\Big)\\otimes\\Big(|0\\rangle+e^{2\\pi i(j_{1}2^{0}+j_{2}2^{-1}+j_{3}2^{-2}+\\cdots+j_{n}2^{-n+1})}|1\\rangle\\Big)\\otimes|j_{3}\\cdots j_{n}\\rangle \\\\\n",
    "& = \\frac{1}{\\sqrt{2}}\\Big(|0\\rangle+e^{2\\pi ij2^{-n}}|1\\rangle\\Big)\\otimes\\Big(|0\\rangle+e^{2\\pi ij2^{-n+1}}|1\\rangle\\Big)\\otimes|j_{3}\\cdots j_{n}\\rangle \\\\\n",
    "& =: |\\xi_{1}\\rangle,\n",
    "\\end{align}\n",
    "em que usamos e\n",
    "$$e^{2\\pi ij_{1}2^{0}} = e^{2\\pi ij_{1}} = \\cos(j_{1}2\\pi)+i\\sin(j_{1}2\\pi) = 1+i0=1$$\n",
    "para $j_{1}=0,1$ e\n",
    "\\begin{align}\n",
    "j2^{-n+1} & = \\sum_{l=1}^{n}j_{l}2^{n-l}2^{-n+1} = \\sum_{l=1}^{n}j_{l}2^{-l+1} \\\\\n",
    "& = j_{1}2^{0} + j_{2}2^{-1} + j_{3}2^{-2}+\\cdots+j_{n}2^{-n+1}.\n",
    "\\end{align}"
   ]
  },
  {
   "cell_type": "markdown",
   "id": "8cd37c1e",
   "metadata": {},
   "source": [
    "Fazendo mais uma passo, aplicamos a Hadarmad no __3º qubit__ e as portas de fase controladas no qubit 3 com os qubits controle indo desde o 4º até o n-ésimo. Com isso, obteremos\n",
    "\\begin{align}\n",
    "& \\Pi_{q=4}^{n}C_{P(2\\pi i2^{-q+2})}^{q\\rightarrow 3}\\frac{1}{\\sqrt{2}}\\Big(|0\\rangle+e^{2\\pi ij2^{-n}}|1\\rangle\\Big)\\otimes\\Big(|0\\rangle+e^{2\\pi ij2^{-n+1}}|1\\rangle\\Big)\\otimes\\Big(H_{3}|j_{3}\\rangle\\Big)\\otimes|j_{4}j_{5}\\cdots j_{n}\\rangle \\\\\n",
    "& = \\frac{1}{\\sqrt{2}}\\Big(|0\\rangle+e^{2\\pi ij2^{-n}}|1\\rangle\\Big)\\otimes\\Big(|0\\rangle+e^{2\\pi ij2^{-n+1}}|1\\rangle\\Big)\\otimes\\Big(|0\\rangle+e^{2\\pi i(j_{3}2^{-1}+j_{4}2^{-2}+\\cdots+j_{n}2^{-n+2})}|1\\rangle\\Big)\\otimes|j_{4}j_{5}\\cdots j_{n}\\rangle \\\\\n",
    "& \\equiv \\frac{1}{\\sqrt{2}}\\Big(|0\\rangle+e^{2\\pi ij2^{-n}}|1\\rangle\\Big)\\otimes\\Big(|0\\rangle+e^{2\\pi ij2^{-n+1}}|1\\rangle\\Big)\\otimes\\Big(|0\\rangle+e^{2\\pi i(j_{1}2^{1}+j_{2}2^{0}+j_{3}2^{-1}+j_{4}2^{-2}+\\cdots+j_{n}2^{-n+2})}|1\\rangle\\Big)\\otimes|j_{4}j_{5}\\cdots j_{n}\\rangle \\\\\n",
    "& = \\frac{1}{\\sqrt{2}}\\Big(|0\\rangle+e^{2\\pi ij2^{-n}}|1\\rangle\\Big)\\otimes\\Big(|0\\rangle+e^{2\\pi ij2^{-n+1}}|1\\rangle\\Big)\\otimes\\Big(|0\\rangle+e^{2\\pi ij2^{-n+2}}|1\\rangle\\Big)\\otimes|j_{4}j_{5}\\cdots j_{n}\\rangle,\n",
    "\\end{align}\n",
    "em que usamos\n",
    "\\begin{align}\n",
    "& e^{2\\pi ij_{2}2^{0}} = e^{2\\pi ij_{2}} = \\cos(j_{2}2\\pi)+i\\sin(j_{2}2\\pi) = 1, \\\\\n",
    "& e^{2\\pi ij_{1}2^{1}} = e^{4\\pi ij_{1}} = \\cos(j_{1}4\\pi)+i\\sin(j_{1}4\\pi) = 1\n",
    "\\end{align}\n",
    "para $j_{1},j_{2}=0,1$\n",
    "\\begin{align}\n",
    "j2^{-n+2} & = \\sum_{l=1}^{n}j_{l}2^{n-l}2^{-n+2} = \\sum_{l=1}^{n}j_{l}2^{-l+2} \\\\\n",
    "& = j_{1}2^{1} + j_{2}2^{0} + j_{3}2^{-1} + \\cdots + j_{n-1}2^{-n+3} + j_{n}2^{-n+2}.\n",
    "\\end{align}"
   ]
  },
  {
   "cell_type": "markdown",
   "id": "8a30cc32",
   "metadata": {},
   "source": [
    "Bom, com isso podemos inferir que se continuarmos com esse processo, de aplicar a porta de Hadamard $H_{l}$ no qubit $l=4,\\cdots,n$ seguida de uma fase controlada aplicada no qubit $l$ com o qubit $q=l+1,\\cdots,n$ como controle, \n",
    "$$\\Pi_{q=l+1}^{n}C_{P(2\\pi i2^{-q+l-1})}^{q\\rightarrow l},$$\n",
    "obteremos o seguinte estado\n",
    "$$ |\\Xi\\rangle = \\frac{1}{\\sqrt{2}}\\Big(|0\\rangle+e^{2\\pi ij2^{-n}}|1\\rangle\\Big)\\otimes\\Big(|0\\rangle+e^{2\\pi ij2^{-n+1}}|1\\rangle\\Big)\\otimes\\Big(|0\\rangle+e^{2\\pi ij2^{-n+2}}|1\\rangle\\Big)\\otimes\\cdots\\otimes\\Big(|0\\rangle+e^{2\\pi ij2^{-2}}|1\\rangle\\Big)\\otimes\\Big(|0\\rangle+e^{2\\pi ij2^{-1}}|1\\rangle\\Big).$$\n",
    "Observe que para o __qubit $n$__ só aplicamos a Hadamard, sem aplicação de fases controladas.\n",
    "\n",
    "Vemos que este estado é equivalente ao estado da eq. ($\\star$) se trocarmos os estados dos qubit 1 e $n$, $2$ e $n-1$, $3$ e $n-2$, $\\cdots$. Assim, finalmente obtemos que\n",
    "\\begin{equation}\n",
    "F|j\\rangle = \\Pi_{l=1}^{n/2}SWAP^{l\\leftrightarrow n-l+1}|\\Xi\\rangle.\n",
    "\\end{equation}\n",
    "Essa equação é válida se $n$ for par. Se $n$ for ímpar, devemos usar como limite superior do produtório: \n",
    "$$(n-1)/2.$$\n",
    "Lembrando\n",
    "\\begin{align}\n",
    "SWAP^{l\\leftrightarrow n-l+1} & = CNOT^{l\\rightarrow n-l+1}CNOT^{n-l+1\\rightarrow l}CNOT^{l\\rightarrow n-l+1} \\\\\n",
    "& = CNOT^{n-l+1\\rightarrow l}CNOT^{l\\rightarrow n-l+1}CNOT^{n-l+1\\rightarrow l}.\n",
    "\\end{align}\n",
    "_OBS._ Essas SWAPs comutam, e a princípio poderiam ser aplicadas em paralelo. Mas, na prática isso não é bem assim pois não temos conectividade entre todos os qubits do chip, e isso implica em várias SWAPs intermedidárias de estado para então aplicar as CNOTs entre os qubits $l$ e $n-l+1.$"
   ]
  },
  {
   "cell_type": "markdown",
   "id": "a6f2eb1c-9713-4d42-ab42-e3adce8f2737",
   "metadata": {},
   "source": [
    "O circuito quântico para implementação da TFQ está mostrado na figura abaixo\n",
    "<img src='fig_tfq.png' width = '900'>"
   ]
  },
  {
   "cell_type": "markdown",
   "id": "b9185360",
   "metadata": {},
   "source": [
    "### Circuito quântico para a TFQ de $n$ qubits"
   ]
  },
  {
   "cell_type": "code",
   "execution_count": 91,
   "id": "6fb372cd",
   "metadata": {},
   "outputs": [
    {
     "name": "stderr",
     "output_type": "stream",
     "text": [
      "ibmqfactory.load_account:WARNING:2022-06-08 17:11:18,401: Credentials are already in use. The existing account in the session will be replaced.\n"
     ]
    }
   ],
   "source": [
    "from qiskit import *\n",
    "nshots = 8192\n",
    "IBMQ.load_account()\n",
    "provider= qiskit.IBMQ.get_provider(hub='ibm-q-research-2',group='federal-uni-sant-1',project='main')\n",
    "device = provider.get_backend('ibmq_lima')\n",
    "simulator = Aer.get_backend('qasm_simulator')\n",
    "from qiskit.visualization import plot_histogram\n",
    "from qiskit.tools.monitor import job_monitor\n",
    "from qiskit.quantum_info import state_fidelity"
   ]
  },
  {
   "cell_type": "code",
   "execution_count": 14,
   "id": "bad37f16",
   "metadata": {},
   "outputs": [],
   "source": [
    "def qc_qft(n):\n",
    "    qr = QuantumRegister(n); qc = QuantumCircuit(qr, name = 'QFT')\n",
    "    for l in range(0, n):\n",
    "        qc.h(qr[l])\n",
    "        if l < n-1:\n",
    "            for q in range(l+1, n):\n",
    "                lb = 2*math.pi*2**(-q+l-1)\n",
    "                qc.cp(lb, qr[q], qr[l])\n",
    "            #qc.barrier()\n",
    "    #qc.barrier()\n",
    "    if n%2 == 0:\n",
    "        ul = n//2\n",
    "    else:\n",
    "        ul = (n-1)//2\n",
    "    for p in range(0, ul):\n",
    "        qc.swap(p, n-1-p)\n",
    "    return qc"
   ]
  },
  {
   "cell_type": "code",
   "execution_count": 13,
   "id": "277164f4",
   "metadata": {},
   "outputs": [
    {
     "data": {
      "image/png": "[encoded data removed]",
      "text/plain": [
       "<Figure size 1424.12x264.88 with 1 Axes>"
      ]
     },
     "execution_count": 13,
     "metadata": {},
     "output_type": "execute_result"
    }
   ],
   "source": [
    "n = 4; qc_qft_ = qc_qft(n); qc_qft_.draw(output='mpl')"
   ]
  },
  {
   "cell_type": "markdown",
   "id": "e13e89cc",
   "metadata": {},
   "source": [
    "# TFQ inversa\n",
    "Para obter o circuito quântico para a transformada de Fourier quântica inversa, notemos primeiramente que a inversa da porta de Hadamard é a própria porta de Hadamard:\n",
    "$$H^{\\dagger} = H.$$\n",
    "Como a CNOT também é hermitiana, teremos também que\n",
    "$$SWAP^{\\dagger} = SWAP$$\n",
    "pois $SWAP_{AB} = CNOT_{AB}CNOT_{BA}CNOT_{AB}$ e a $CNOT$ é hermitiana.\n",
    "\n",
    "Já para a porta de fase temos que\n",
    "$$P(\\phi)^{\\dagger} = P(-\\phi).$$\n",
    "Assim\n",
    "$$C_{P(\\phi)}^{\\dagger} = C_{P(-\\phi)}.$$\n",
    "Assim, como implementado com o código abaixo, obtemos $F^\\dagger$ aplicando as operações inversar que aparecem na TFQ, da direita para a esquerda do circuito, de forma que $F^\\dagger F=I.$"
   ]
  },
  {
   "cell_type": "code",
   "execution_count": 17,
   "id": "92d685c8",
   "metadata": {
    "scrolled": true
   },
   "outputs": [],
   "source": [
    "def qc_iqft(n):\n",
    "    qr = QuantumRegister(n); qc = QuantumCircuit(qr, name = 'IQFT')\n",
    "    if n%2 == 0:\n",
    "        ul = n//2\n",
    "    else:\n",
    "        ul = (n-1)//2\n",
    "    for p in range(ul-1, -1, -1):\n",
    "        qc.swap(p, n-1-p)\n",
    "    #qc.barrier()\n",
    "    for l in range(n-1, -1, -1):\n",
    "        if l < n-1:\n",
    "            for q in range(n-1, l+1-1, -1):\n",
    "                lb = -2*math.pi*2**(-q+l-1)#; print(lb)\n",
    "                qc.cp(lb, qr[q], qr[l])\n",
    "        qc.h(qr[l])\n",
    "        #qc.barrier()\n",
    "    return qc"
   ]
  },
  {
   "cell_type": "code",
   "execution_count": 16,
   "id": "b6d4f15e",
   "metadata": {},
   "outputs": [
    {
     "data": {
      "image/png": "[encoded data removed]",
      "text/plain": [
       "<Figure size 1484.47x264.88 with 1 Axes>"
      ]
     },
     "execution_count": 16,
     "metadata": {},
     "output_type": "execute_result"
    }
   ],
   "source": [
    "n = 4; qc_iqft_ = qc_iqft(n); qc_iqft_.draw(output='mpl')"
   ]
  },
  {
   "cell_type": "markdown",
   "id": "0f2d2172",
   "metadata": {},
   "source": [
    "## TFQ para 1 qubit\n",
    "Para 1 qubit, a TFQ é simplementente a porta de Hadamard, a última linha do circuito da figura acima para a TFQ. Neste caso, se começamos com \n",
    "$$|x\\rangle=x_{0}|0\\rangle+x_{1}|1\\rangle,$$\n",
    "teremos\n",
    "\\begin{align}\n",
    "|y\\rangle & = F|x\\rangle = H|x\\rangle = x_{0}H|0\\rangle+x_{1}H|1\\rangle \\\\\n",
    "& = x_{0}2^{-1/2}(|0\\rangle+|1\\rangle)+x_{1}2^{-1/2}(|0\\rangle-|1\\rangle) \\\\\n",
    "& = 2^{-1/2}(x_{0}+x_{1})|0\\rangle + 2^{-1/2}(x_{0}-x_{1})|1\\rangle \\\\\n",
    "& = y_{0}|0\\rangle + y_{1}|1\\rangle.\n",
    "\\end{align}\n",
    "Alguns exemplos:\n",
    "\\begin{align}\n",
    "& |x\\rangle = |0\\rangle \\ \\therefore\\ |y\\rangle = |+\\rangle, \\\\\n",
    "& |x\\rangle = |1\\rangle \\ \\therefore\\ |y\\rangle = |-\\rangle, \\\\\n",
    "& |x\\rangle = |+\\rangle \\ \\therefore\\ |y\\rangle = |0\\rangle.\n",
    "\\end{align}"
   ]
  },
  {
   "cell_type": "markdown",
   "id": "3d468af1",
   "metadata": {},
   "source": [
    "Para preparação de um estado qualquer \n",
    "$$|x\\rangle=|x_{0}|e^{i\\phi_{0}}|0\\rangle+|x_{1}|e^{i\\phi_{1}}|1\\rangle,$$\n",
    "vamos lembrar que\n",
    "$$|x_{j}|=\\sqrt{\\Re(x_{j})^{2}+\\Im(x_{j})^{2}} \\text{ e } \\phi_{j} = \\arctan(\\Im(x_{j})/\\Re(x_{j})) \\text{ para } j=0,1,$$\n",
    "e vamos usar a porta $U(\\theta,\\phi,\\lambda)=\\begin{bmatrix}\\cos(\\theta/2) & -e^{i\\lambda}\\sin(\\theta/2) \\\\ e^{i\\phi}\\sin(\\theta/2) & e^{i(\\phi+\\lambda)}\\cos(\\theta/2) \\end{bmatrix}$. Temos que\n",
    "$$U(\\theta,\\phi,\\lambda)|0\\rangle = \\cos(\\theta/2)|0\\rangle + e^{i\\phi}\\sin(\\theta/2)|1\\rangle,$$\n",
    "que não é tão geral quanto o estado $|x\\rangle$. Consideremos então\n",
    "$$U(\\theta,\\phi,\\lambda)|1\\rangle = U(\\theta,\\phi,\\lambda)X|0\\rangle = -e^{i\\lambda}\\sin(\\theta/2)|0\\rangle +e^{i(\\phi+\\lambda)}\\cos(\\theta/2)|1\\rangle,$$\n",
    "que é equivalente ao estado $|x\\rangle$ se fazemos\n",
    "\\begin{align}\n",
    "& -e^{i\\lambda}=e^{i(\\pi+\\lambda)} = e^{i\\phi_{0}} \\ \\therefore\\ \\lambda = \\phi_{0}-\\pi, \\\\ \n",
    "& e^{i(\\phi+\\lambda)} = e^{i(\\phi+\\phi_{0}-\\pi)} = e^{i\\phi_{1}} \\ \\therefore\\ \\phi = \\phi_{1}-\\phi_{0}+\\pi, \\\\\n",
    "& \\sin(\\theta/2) = |x_{0}| \\ \\therefore\\ \\theta = 2\\arcsin(|x_{0}|) \\text{ ou } \\cos(\\theta/2) = |x_{1}| \\ \\therefore\\ \\theta = 2\\arccos(|x_{1}|).\n",
    "\\end{align}"
   ]
  },
  {
   "cell_type": "code",
   "execution_count": 54,
   "id": "a9a4f5e1",
   "metadata": {},
   "outputs": [
    {
     "name": "stdout",
     "output_type": "stream",
     "text": [
      "|x0|= 0.7071067811865475 , ph0= 0.0 , |x1|= 0.7071067811865475 , ph1= 0.0\n",
      "th= 1.5707963267948968 , ph= 3.141592653589793 , lb= -3.141592653589793\n"
     ]
    }
   ],
   "source": [
    "#x0 = 1 + 0*1j; x1 = 0 + 0*1j # estado |0>\n",
    "#x0 = 0 + 0*1j; x1 = 1 + 0*1j # estado |1>\n",
    "x0 = 1/math.sqrt(2) + 0*1j; x1 = 1/math.sqrt(2) + 0*1j # estado |+>\n",
    "\n",
    "mx0 = math.sqrt(x0.real**2 + x0.imag**2)\n",
    "if x0.real != 0:\n",
    "    ph0 = math.atan(x0.imag/x0.real)\n",
    "elif x0.real == 0 and x0.imag != 0:\n",
    "    ph0 = math.pi/2\n",
    "elif x0.real == 0 and x0.imag == 0:\n",
    "    ph0 = 0\n",
    "mx1 = math.sqrt(x1.real**2 + x1.imag**2)\n",
    "if x1.real != 0:\n",
    "    ph1 = math.atan(x1.imag/x1.real)\n",
    "elif x1.real == 0 and x1.imag != 0:\n",
    "    ph1 = math.pi/2\n",
    "elif x1.real == 0 and x1.imag == 0:\n",
    "    ph1 = 0\n",
    "print('|x0|=',mx0,', ph0=', ph0,', |x1|=', mx1,', ph1=', ph1)\n",
    "\n",
    "th = 2*math.acos(mx1); ph = ph1-ph0+math.pi; lb = ph0-math.pi\n",
    "print('th=',th,', ph=', ph,', lb=', lb)"
   ]
  },
  {
   "cell_type": "code",
   "execution_count": 55,
   "id": "40d80a9c",
   "metadata": {},
   "outputs": [
    {
     "data": {
      "image/png": "[encoded data removed]",
      "text/plain": [
       "<Figure size 353.649x84.28 with 1 Axes>"
      ]
     },
     "execution_count": 55,
     "metadata": {},
     "output_type": "execute_result"
    }
   ],
   "source": [
    "n = 1\n",
    "qr = QuantumRegister(n); qc = QuantumCircuit(qr)\n",
    "qc.x(qr[0]); qc.u(th, ph, lb, qr[0]); qc.barrier()\n",
    "qc_qft_ = qc_qft(n); qft = qc_qft_.to_gate(); qc.append(qft, [0])\n",
    "qc.draw(output='mpl')"
   ]
  },
  {
   "cell_type": "code",
   "execution_count": 56,
   "id": "468d1c46",
   "metadata": {},
   "outputs": [
    {
     "name": "stdout",
     "output_type": "stream",
     "text": [
      "[1.-6.123234e-17j 0.+6.123234e-17j]\n"
     ]
    }
   ],
   "source": [
    "svsimulator = Aer.get_backend('statevector_simulator')\n",
    "job = execute(qc, backend = svsimulator, shots = 1, memory = True)\n",
    "print(job.result().get_statevector(qc))"
   ]
  },
  {
   "cell_type": "markdown",
   "id": "6bacdb60",
   "metadata": {},
   "source": [
    "## TFQ para 2 qubits\n",
    "Neste caso podemos usar\n",
    "\\begin{align}\n",
    "|x\\rangle & = x_{0}|0\\rangle_{A}+x_{1}|1\\rangle_{A}+x_{2}|2\\rangle_{A}+x_{3}|3\\rangle_{A} \\\\\n",
    "& = x_{0}|00\\rangle_{q_{0}q_{1}}+x_{1}|01\\rangle_{q_{0}q_{1}}+x_{2}|10\\rangle_{q_{0}q_{1}}+x_{3}|11\\rangle_{q_{0}q_{1}}.\n",
    "\\end{align}\n",
    "Assim\n",
    "\\begin{align}\n",
    "|y\\rangle & = F|x\\rangle \\\\\n",
    "& = y_{0}|0\\rangle_{A}+y_{1}|1\\rangle_{A}+y_{2}|2\\rangle_{A}+y_{3}|3\\rangle_{A} \\\\\n",
    "& = y_{0}|00\\rangle_{q_{0}q_{1}}+y_{1}|01\\rangle_{q_{0}q_{1}}+y_{2}|10\\rangle_{q_{0}q_{1}}+y_{3}|11\\rangle_{q_{0}q_{1}}\n",
    "\\end{align}\n",
    "com \n",
    "$$y_{k} := \\frac{1}{\\sqrt{d}}\\sum_{j=0}^{d-1}x_{j}e^{2\\pi ijk/d}.$$"
   ]
  },
  {
   "cell_type": "code",
   "execution_count": 70,
   "id": "ee832815",
   "metadata": {},
   "outputs": [],
   "source": [
    "def tfc(x): # classical discrete Fourier transform\n",
    "    d = len(x)\n",
    "    y = np.zeros(d, dtype = complex)\n",
    "    for k in range(0, d):\n",
    "        for j in range(0, d):\n",
    "            y[k] += x[j]*(math.cos(2*math.pi*j*k/d) + 1j*math.sin(2*math.pi*j*k/d))\n",
    "    return y/math.sqrt(d)"
   ]
  },
  {
   "cell_type": "code",
   "execution_count": 80,
   "id": "c0eb165c",
   "metadata": {},
   "outputs": [
    {
     "name": "stdout",
     "output_type": "stream",
     "text": [
      "[ 0. +0.j  -0.5-0.5j  0. +0.j  -0.5+0.5j]\n"
     ]
    }
   ],
   "source": [
    "d = 4; x = np.zeros(d, dtype = complex); \n",
    "#x = [1/2, 1/2, 1/2, 1/2]\n",
    "x = [-1/2, -1/2, 1/2, 1/2]\n",
    "y = tfc(x); print(y)"
   ]
  },
  {
   "cell_type": "markdown",
   "id": "d1fc8ea1",
   "metadata": {},
   "source": [
    "Usando a transformada de Fourier clássica codificada acima, vamos considerar como exemplos\n",
    "\\begin{align}\n",
    "& |x\\rangle = |++\\rangle \\ \\therefore\\ |y\\rangle = |00\\rangle, \\\\\n",
    "& |x\\rangle = |+0\\rangle \\ \\therefore\\ |y\\rangle \\approx 0.707|00\\rangle+(0.35+0.03i)|01\\rangle+0|10\\rangle+(0.35-0.03i)|11\\rangle, \\\\\n",
    "\\end{align}"
   ]
  },
  {
   "cell_type": "code",
   "execution_count": 81,
   "id": "c9703783",
   "metadata": {},
   "outputs": [
    {
     "data": {
      "image/png": "[encoded data removed]",
      "text/plain": [
       "<Figure size 366.775x144.48 with 1 Axes>"
      ]
     },
     "execution_count": 81,
     "metadata": {},
     "output_type": "execute_result"
    }
   ],
   "source": [
    "n = 2\n",
    "qr = QuantumRegister(n); qc = QuantumCircuit(qr)\n",
    "#qc.h([0,1]); qc.barrier() # ok\n",
    "qc.x([0]); qc.h([0,1]); qc.barrier() # ok a menos de uma fase global de pi\n",
    "qc_qft_ = qc_qft(n); qft = qc_qft_.to_gate(); qc.append(qft, [0,1])\n",
    "qc.draw(output='mpl')"
   ]
  },
  {
   "cell_type": "code",
   "execution_count": 82,
   "id": "bec7c882",
   "metadata": {},
   "outputs": [
    {
     "name": "stdout",
     "output_type": "stream",
     "text": [
      "[ 1.57009246e-16-1.39719255e-32j -1.23259516e-32+1.39719255e-32j\n",
      "  5.00000000e-01+5.00000000e-01j  5.00000000e-01-5.00000000e-01j]\n"
     ]
    }
   ],
   "source": [
    "svsimulator = Aer.get_backend('statevector_simulator')\n",
    "job = execute(qc, backend = svsimulator, shots = 1, memory = True)\n",
    "print(job.result().get_statevector(qc)) # para >1 qubit tem a questao da ordem da bc"
   ]
  },
  {
   "cell_type": "markdown",
   "id": "0526a802",
   "metadata": {},
   "source": [
    "## TFQ para um qutrit\n",
    "Se consideramos $d=3$, teremos $$x=(x_{0},x_{1},x_{2}).$$\n",
    "Nesse caso o circuito quântico para a TFQ que obtivemos não pode ser aplicado diretamente. Nesses casos, uma possibilidade é aumentarmos a dimensão dos dados de entrada até que $$d=2^{n}$$ para algum $n$ inteiro não nulo. No caso de $d=3$ obteremos isso fazendo $$x=(x_{0},x_{1},x_{2},0),$$ o que nos dá, efetivamente, $d'=4=2^{2},$ que pode ser codificada usando 2 qubits:\n",
    "$$|x\\rangle = x_{0}|00\\rangle_{q_{0}q_{1}}+x_{1}|01\\rangle_{q_{0}q_{1}}+x_{2}|10\\rangle_{q_{0}q_{1}}+0|11\\rangle_{q_{0}q_{1}}.$$"
   ]
  },
  {
   "cell_type": "code",
   "execution_count": 84,
   "id": "a44a3905",
   "metadata": {},
   "outputs": [
    {
     "name": "stdout",
     "output_type": "stream",
     "text": [
      "[ 0.81649658+0.00000000e+00j -0.20412415+2.04124145e-01j\n",
      "  0.40824829-7.49939943e-17j -0.20412415-2.04124145e-01j]\n"
     ]
    }
   ],
   "source": [
    "d = 4; x = np.zeros(d, dtype = complex); \n",
    "x = [math.sqrt(1/6), math.sqrt(1/6), math.sqrt(2/3), 0]\n",
    "y = tfc(x); print(y)"
   ]
  },
  {
   "cell_type": "markdown",
   "id": "30ea6582",
   "metadata": {},
   "source": [
    "Com este exemplo, vemos que saindo de um $x$ como a 4ª componente nula obtemos um $y$ com a 4ª componente não nula. Isso impossibilita de mantanhamos o problema efetivamente em subespaço de dimensão do espaço de estados dos dois qubits, que tem dimensão 4. Isso deve se manter em geral, complicando assim o uso da TFQ para implementar medidas na base de Bell generalizada de dois qudits."
   ]
  },
  {
   "cell_type": "markdown",
   "id": "6e5bcf0b",
   "metadata": {},
   "source": [
    "## Testes básicos da TFQ e TFQI\n",
    "Vamos considerar um estado da base computacional $$|101\\rangle.$$ Se aplicarmos a TFQ seguida da TFQI, devemos obter esse mesmo estado."
   ]
  },
  {
   "cell_type": "code",
   "execution_count": 103,
   "id": "200fa0b7",
   "metadata": {},
   "outputs": [
    {
     "data": {
      "image/png": "[encoded data removed]",
      "text/plain": [
       "<Figure size 668.066x264.88 with 1 Axes>"
      ]
     },
     "execution_count": 103,
     "metadata": {},
     "output_type": "execute_result"
    }
   ],
   "source": [
    "n = 3\n",
    "qr = QuantumRegister(n); cr = ClassicalRegister(n); qc = QuantumCircuit(qr, cr)\n",
    "qc.x([0,2]); qc.barrier()\n",
    "qc_qft_ = qc_qft(n); qft = qc_qft_.to_gate(); qc.append(qft, [0,1,2]); qc.barrier()\n",
    "qc_iqft_ = qc_iqft(n); iqft = qc_iqft_.to_gate(); qc.append(iqft, [0,1,2]); qc.barrier()\n",
    "qc.measure([0,1,2],[0,1,2])\n",
    "qc.draw(output='mpl')"
   ]
  },
  {
   "cell_type": "code",
   "execution_count": 107,
   "id": "7d45dc25",
   "metadata": {},
   "outputs": [
    {
     "name": "stdout",
     "output_type": "stream",
     "text": [
      "Job Status: job has successfully run\n"
     ]
    }
   ],
   "source": [
    "job_sim = execute(qc, backend = simulator, shots = nshots)\n",
    "job_exp = execute(qc, backend = device, shots = nshots)\n",
    "job_monitor(job_exp)"
   ]
  },
  {
   "cell_type": "code",
   "execution_count": 108,
   "id": "f3cddfd1",
   "metadata": {},
   "outputs": [
    {
     "data": {
      "image/png": "[encoded data removed]",
      "text/plain": [
       "<Figure size 504x360 with 1 Axes>"
      ]
     },
     "execution_count": 108,
     "metadata": {},
     "output_type": "execute_result"
    }
   ],
   "source": [
    "plot_histogram([job_sim.result().get_counts(), job_exp.result().get_counts()], \n",
    "               legend = ['sim', 'exp'])"
   ]
  },
  {
   "cell_type": "markdown",
   "id": "67fbe572",
   "metadata": {},
   "source": [
    "##### Exercício\n",
    "Teste para outros estados da base computacional e para outros números de qubits."
   ]
  },
  {
   "cell_type": "code",
   "execution_count": null,
   "id": "125803d0",
   "metadata": {},
   "outputs": [],
   "source": []
  }
 ],
 "metadata": {
  "kernelspec": {
   "display_name": "Python 3 (ipykernel)",
   "language": "python",
   "name": "python3"
  },
  "language_info": {
   "codemirror_mode": {
    "name": "ipython",
    "version": 3
   },
   "file_extension": ".py",
   "mimetype": "text/x-python",
   "name": "python",
   "nbconvert_exporter": "python",
   "pygments_lexer": "ipython3",
   "version": "3.9.13"
  }
 },
 "nbformat": 4,
 "nbformat_minor": 5
}
