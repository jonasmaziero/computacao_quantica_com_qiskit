{
 "cells": [
  {
   "cell_type": "markdown",
   "id": "bbf809b3",
   "metadata": {},
   "source": [
    "### Notas de aula de Computação Quântica <br> Autor: Jonas Maziero"
   ]
  },
  {
   "cell_type": "code",
   "execution_count": 1,
   "id": "1a226b95",
   "metadata": {},
   "outputs": [],
   "source": [
    "%run init.ipynb"
   ]
  },
  {
   "cell_type": "markdown",
   "id": "b12037b6",
   "metadata": {},
   "source": [
    "# Algoritmo de Bernstein-Vazirani\n",
    "\n",
    "Vamos considerar uma função \n",
    "$$f:\\{0,1\\}^{n}\\rightarrow \\{0,1\\}.$$\n",
    "Ou seja, $f$ tem como input sequências de $n$ bits $x=x_{n-1}\\cdots x_{1}x_{0}$ com $x_{j}=0$ ou $x_{j}=1$ para $j=0,\\cdots,n-1$ e tem como output 0 ou 1. Vamos considerar um oráculo que contém uma __sequência secreta__ de bits \n",
    "$$s=s_{n-1}\\cdots s_{1}s_{0}$$ \n",
    "e que, em cada _query_, nos retorna\n",
    "$$f_{s}(x) = s\\cdot x \\equiv s\\cdot x\\mod2 = \\sum_{j=0}^{n-1}s_{j}x_{j}\\mod2.$$ \n",
    "O problema a ser resolvido é encontrar $s$:\n",
    "$$s=?$$\n",
    "\n",
    "Como cada pergunta ao oráculo nos fornece um único escalar como resposta, _classicamente_ o melhor que podemos fazer é fazer as seguintes $n$ perguntas:\n",
    "\\begin{align}\n",
    "& f(100\\cdots 00) = s_{n-1}, \\\\\n",
    "& f(010\\cdots 00) = s_{n-2}, \\\\\n",
    "& f(001\\cdots 00) = s_{n-3}, \\\\\n",
    "& \\vdots \\\\\n",
    "& f(000\\cdots 10) = s_{1}, \\\\\n",
    "& f(000\\cdots 01) = s_{0}.\n",
    "\\end{align}\n",
    "Como exemplo, consideremos $n=3$ e $s=101$. Teremos que \n",
    "\\begin{align}\n",
    "& f(100) = 1s_{2}+0s_{1}+0s_{0} = s_{2},\\\\\n",
    "& f(010) = 0s_{2}+1s_{1}+0s_{0} = s_{1}, \\\\\n",
    "& f(001) = 0s_{2}+0s_{1}+1s_{0} = s_{0}.\n",
    "\\end{align}"
   ]
  },
  {
   "cell_type": "markdown",
   "id": "f6d41123",
   "metadata": {},
   "source": [
    "_Quanticamente_, assim como no algoritmo de Deutsch-Jozsa (ADJ), começamos com $n+1$ qubits preparados no estado\n",
    "$$|+\\rangle^{\\otimes n}\\otimes|-\\rangle = \\frac{1}{2^{n/2}}\\sum_{x=0}^{2^{n}-1}|x\\rangle\\otimes|-\\rangle =\\frac{1}{2^{(n+1)/2}}\\sum_{x=0}^{2^{n}-1}|x\\rangle\\otimes\\big(|0\\rangle-|1\\rangle\\big).$$\n",
    "O oráculo funciona de forma similar a no caso do ADJ ($U_{f}|x\\rangle|y\\rangle = |x\\rangle|y\\oplus f(x)\\rangle$):\n",
    "$$U_{s}|x\\rangle|y\\rangle = |x\\rangle|y\\oplus s\\cdot x\\rangle.$$\n",
    "Com isso, teremos que\n",
    "\\begin{align}\n",
    "U_{s}|+\\rangle^{n}|-\\rangle & = \\frac{1}{2^{(n+1)/2}}\\sum_{x=0}^{2^{n}-1}\\big(U_{s}|x\\rangle|0\\rangle - U_{s}|x\\rangle|1\\rangle\\big) \\\\\n",
    "& = \\frac{1}{2^{(n+1)/2}}\\sum_{x=0}^{2^{n}-1}\\big(|x\\rangle|0\\oplus s\\cdot x\\rangle - |x\\rangle|1\\oplus s\\cdot x\\rangle\\big) \\\\\n",
    "& = \\frac{1}{2^{(n+1)/2}}\\sum_{x=0}^{2^{n}-1}|x\\rangle\\big(|s\\cdot x\\rangle - |\\overline{s\\cdot x}\\rangle\\big) \\\\\n",
    "& = \\frac{1}{2^{(n+1)/2}}\\sum_{x=0}^{2^{n}-1}|x\\rangle(-1)^{s\\cdot x}\\big(|0\\rangle - |1\\rangle\\big) \\\\\n",
    "& = \\frac{1}{2^{n/2}}\\sum_{x=0}^{2^{n}-1}(-1)^{s\\cdot x}|x\\rangle |-\\rangle.\n",
    "\\end{align}\n",
    "Esse é o chamado __phase kickback__, pois a fase dependente de $x$ acaba sendo adicionada a este estado. Usar o estado $|-\\rangle$ para o qubit auxiliar é importante para este método."
   ]
  },
  {
   "cell_type": "markdown",
   "id": "b70a66ba",
   "metadata": {},
   "source": [
    "O algoritmo de Bernstein-Vazirani está ilustrado na figura abaixo.\n",
    "<img src='fig_bernstein_vazirani.png' width='300'>"
   ]
  },
  {
   "cell_type": "markdown",
   "id": "8a6da9ce",
   "metadata": {},
   "source": [
    "Os estados\n",
    "$$|\\psi_{s}\\rangle := \\frac{1}{2^{n/2}}\\sum_{x=0}^{2^{n}-1}(-1)^{s\\cdot x}|x\\rangle$$\n",
    "formam um conjunto ortonormal\n",
    "\\begin{align}\n",
    "\\langle\\psi_{s}|\\psi_{t}\\rangle & = \\frac{1}{2^{n}}\\sum_{x=0}^{2^{n}}(-1)^{s\\cdot x}\\langle x|\\sum_{y=0}^{2^{n}}(-1)^{t\\cdot y}|y\\rangle \\\\\n",
    "& = \\frac{1}{2^{n}}\\sum_{x,y=0}^{2^{n}}(-1)^{s\\cdot x + t\\cdot y}\\langle x|y\\rangle = \\frac{1}{2^{n}}\\sum_{x,y=0}^{2^{n}}(-1)^{s\\cdot x + t\\cdot y}\\delta_{y,x} \\\\\n",
    "& = \\frac{1}{2^{n}}\\sum_{x=0}^{2^{n}}(-1)^{s\\cdot x + t\\cdot x} \\\\\n",
    "& = \\frac{1}{2^{n}}\\sum_{x=0}^{2^{n}}(-1)^{(s+t)\\cdot x},\n",
    "\\end{align}\n",
    "em que usamos\n",
    "\\begin{align}\n",
    "s\\cdot x + t\\cdot x & = \\sum_{j=0}^{n-1}s_{j}x_{j}\\mod2 + \\sum_{j=0}^{n-1}t_{j}x_{j}\\mod2 \\\\\n",
    "& = \\Big(\\sum_{j=0}^{n-1}s_{j}x_{j} + \\sum_{j=0}^{n-1}t_{j}x_{j}\\Big)\\mod2 \\\\\n",
    "& = \\sum_{j=0}^{n-1}(s_{j}+t_{j})x_{j}\\mod2 \\\\\n",
    "& = (s+t)\\cdot x.\n",
    "\\end{align}"
   ]
  },
  {
   "cell_type": "markdown",
   "id": "d5775fa5",
   "metadata": {},
   "source": [
    "Agora, para um dado $k=s+t$ teremos\n",
    "\\begin{align}\n",
    "\\sum_{x=0}^{2^{n}}(-1)^{k\\cdot x} & \\equiv \\sum_{x_{1}=0}^{1}\\sum_{x_{2}=0}^{1}\\cdots\\sum_{x_{n}=0}^{1} (-1)^{k_{1}x_{1}+k_{2}x_{2}+\\cdots+k_{n}x_{n}} \\\\\n",
    " & = \\sum_{x_{1}=0}^{1}(-1)^{k_{1}x_{1}}\\sum_{x_{2}=0}^{1}(-1)^{k_{2}x_{2}}\\cdots\\sum_{x_{n}=0}^{1} (-1)^{k_{n}x_{n}} \\\\\n",
    "& = 2\\delta_{k_{1},0}2\\delta_{k_{2},0}\\cdots 2\\delta_{k_{n},0} \\\\\n",
    "& = 2^{n}\\delta_{k,0},\n",
    "\\end{align}\n",
    "em que usamos\n",
    "$$\\sum_{x_{j}=0}^{1}(-1)^{k_{j}x_{j}} = (-1)^{k_{j}0}+(-1)^{k_{j}1} = 1+(-1)^{k_{j}} = 2\\delta_{k_{j},0}.$$ \n",
    "Por conseguinte\n",
    "$$\\langle\\psi_{s}|\\psi_{t}\\rangle = \\frac{1}{2^{n}}\\sum_{x=0}^{2^{n}}(-1)^{(s+t)\\cdot x} =  \\frac{1}{2^{n}}2^{n}\\delta_{s+t,0} = \\delta_{s,t},$$\n",
    "pois a soma é feita bit a bit, e assim\n",
    "$$s+t=0\\ \\therefore\\ s=t.$$"
   ]
  },
  {
   "cell_type": "markdown",
   "id": "cf9498d3",
   "metadata": {},
   "source": [
    "Podemos verificar também que essa base é completa:\n",
    "\\begin{align}\n",
    "\\sum_{s=0}^{2^{n}-1}|\\psi_{s}\\rangle\\langle\\psi_{s}| & = \\sum_{s=0}^{2^{n}-1}\\frac{1}{2^{n/2}}\\sum_{x=0}^{2^{n}-1}(-1)^{s\\cdot x}|x\\rangle\\frac{1}{2^{n/2}}\\sum_{y=0}^{2^{n}-1}(-1)^{s\\cdot y}\\langle y| \\\\\n",
    "& = \\frac{1}{2^{n}}\\sum_{x,y=0}^{2^{n}-1}\\Big(\\sum_{s=0}^{2^{n}-1}(-1)^{s\\cdot(x+y)}\\Big)|x\\rangle\\langle y| \\\\\n",
    "& = \\frac{1}{2^{n}}\\sum_{x,y=0}^{2^{n}-1}2^{n}\\delta_{x,y}|x\\rangle\\langle y| \\\\\n",
    "& = \\sum_{x=0}^{2^{n}-1}|x\\rangle\\langle x| = \\mathbb{I}_{2^{n}}.\n",
    "\\end{align}\n",
    "A importância de $\\{|\\psi_{s}\\rangle\\}$ formar uma base ortonormal é que a princípio podemos medir nessa base, descobrindo assim o valor de $s$."
   ]
  },
  {
   "cell_type": "markdown",
   "id": "84dd78c0",
   "metadata": {},
   "source": [
    "Agora, tendo o estado \n",
    "$$U_{s}|+\\rangle^{\\otimes n}|-\\rangle = \\frac{1}{2^{n/2}}\\sum_{x=0}^{2^{n}-1}(-1)^{s\\cdot x}|x\\rangle |-\\rangle=|\\psi_{s}\\rangle|-\\rangle,$$\n",
    "vejamos como obter $s$. Consideremos a chamada __transformada de Hadamard__. Lembremos da porta de Hadamard,\n",
    "$$H=\\frac{1}{2^{1/2}}\\begin{bmatrix}1&1\\\\1&-1\\end{bmatrix} = \\frac{1}{2^{1/2}}\\sum_{x,y=0}^{1}(-1)^{xy}|x\\rangle\\langle y|,$$\n",
    "para escrever\n",
    "\\begin{align}\n",
    "H^{\\otimes n} & = H\\otimes H\\otimes\\cdots\\otimes H \\\\\n",
    "& = \\frac{1}{2^{1/2}}\\sum_{x_{1},y_{1}=0}^{1}(-1)^{x_{1}y_{1}}|x_{1}\\rangle\\langle y_{1}|\\otimes \\frac{1}{2^{1/2}}\\sum_{x_{2},y_{2}=0}^{1}(-1)^{x_{2}y_{2}}|x_{2}\\rangle\\langle y_{2}|\\otimes\\cdots\\otimes \\frac{1}{2^{1/2}}\\sum_{x_{n},y_{n}=0}^{1}(-1)^{x_{n}y_{n}}|x_{n}\\rangle\\langle y_{n}| \\\\\n",
    "& = \\frac{1}{2^{n/2}}\\sum_{x_{1},x_{2},\\cdots,x_{n},y_{1},y_{2},\\cdots,y_{n}=0}^{1}(-1)^{x_{1}y_{1}+x_{2}y_{2}+\\cdots+x_{n}y_{n}}|x_{1}x_{2}\\cdots x_{n}\\rangle\\langle y_{1}y_{2}\\cdots y_{n}| \\\\\n",
    "& = \\frac{1}{2^{n/2}}\\sum_{x,y=0}^{2^{n}-1}(-1)^{x\\cdot y}|x\\rangle\\langle y| \\\\\n",
    "& = \\sum_{x=0}^{2^{n}-1}|x\\rangle\\frac{1}{2^{n/2}}\\sum_{y=0}^{2^{n}-1}(-1)^{x\\cdot y}\\langle y| \\\\\n",
    "& = \\sum_{x=0}^{2^{n}-1}|x\\rangle\\langle\\psi_{x}|.\n",
    "\\end{align}"
   ]
  },
  {
   "cell_type": "markdown",
   "id": "a58282c5",
   "metadata": {},
   "source": [
    "Com isso, vem que\n",
    "\\begin{align}\n",
    "H^{\\otimes n}U_{s}|+\\rangle^{\\otimes n}|-\\rangle & = H^{\\otimes n}|\\psi_{s}\\rangle|-\\rangle \\\\\n",
    "& = \\sum_{x=0}^{2^{n}-1}|x\\rangle\\langle\\psi_{x}|\\psi_{s}\\rangle|-\\rangle \\\\\n",
    "& = \\sum_{x=0}^{2^{n}-1}|x\\rangle\\delta_{x,s}|-\\rangle \\\\\n",
    "& = |s\\rangle\\otimes|-\\rangle.\n",
    "\\end{align}\n",
    "Portanto, medindo os $n$ primeiros qubits na base computacional, descobriremos o valor de $s$. O circuito quântico completo para o algoritmo de Bernstein-Vazirani está mostrado na sequência, e é bem parecido com aquele referente ao algoritmo de Deutsch-Jozsa."
   ]
  },
  {
   "cell_type": "code",
   "execution_count": 24,
   "id": "f7c6fe27",
   "metadata": {},
   "outputs": [
    {
     "name": "stderr",
     "output_type": "stream",
     "text": [
      "ibmqfactory.load_account:WARNING:2022-07-07 16:37:05,933: Credentials are already in use. The existing account in the session will be replaced.\n"
     ]
    }
   ],
   "source": [
    "from qiskit import *\n",
    "nshots = 8192\n",
    "IBMQ.load_account()\n",
    "provider = IBMQ.get_provider(hub = 'ibm-q-research-2', group = 'federal-uni-sant-1', project = 'main')\n",
    "simulator = Aer.get_backend('qasm_simulator')\n",
    "device = provider.get_backend('ibmq_jakarta')\n",
    "from qiskit.tools.visualization import plot_histogram\n",
    "from qiskit.tools.monitor import job_monitor, backend_overview, backend_monitor"
   ]
  },
  {
   "cell_type": "code",
   "execution_count": 17,
   "id": "f3e3d5c2",
   "metadata": {},
   "outputs": [],
   "source": [
    "def bernstein_vazirani(s):\n",
    "    ls = len(s)\n",
    "    qc = QuantumCircuit(ls+1,ls)\n",
    "    qc.h(range(ls))\n",
    "    qc.x(ls)\n",
    "    qc.h(ls)\n",
    "    qc.barrier();\n",
    "    for ii, yesno in enumerate(reversed(s)): # the black box\n",
    "        if yesno == '1':\n",
    "            qc.cx(ii, ls);\n",
    "    qc.barrier();\n",
    "    qc.h(range(ls));\n",
    "    qc.barrier();\n",
    "    qc.measure(range(ls),range(ls))\n",
    "    return qc"
   ]
  },
  {
   "cell_type": "code",
   "execution_count": 18,
   "id": "cefd5d9d",
   "metadata": {},
   "outputs": [
    {
     "data": {
      "image/png": "[encoded data removed]",
      "text/plain": [
       "<Figure size 748.797x325.08 with 1 Axes>"
      ]
     },
     "execution_count": 18,
     "metadata": {},
     "output_type": "execute_result"
    }
   ],
   "source": [
    "s = '011' # secretnumber\n",
    "qc = bernstein_vazirani(s)\n",
    "qc.draw(output='mpl')"
   ]
  },
  {
   "cell_type": "code",
   "execution_count": 19,
   "id": "1c267b9e",
   "metadata": {},
   "outputs": [
    {
     "name": "stdout",
     "output_type": "stream",
     "text": [
      "{'011': 1}\n"
     ]
    }
   ],
   "source": [
    "simulator = Aer.get_backend('qasm_simulator')\n",
    "result = execute(qc, backend = simulator, shots = 1).result()\n",
    "counts = result.get_counts()\n",
    "print(counts)"
   ]
  },
  {
   "cell_type": "code",
   "execution_count": 26,
   "id": "f8f2d6a4",
   "metadata": {},
   "outputs": [
    {
     "name": "stdout",
     "output_type": "stream",
     "text": [
      "Job Status: job has successfully run\n"
     ]
    }
   ],
   "source": [
    "jobE = execute(qc, backend = device, shots = nshots)\n",
    "job_monitor(jobE)"
   ]
  },
  {
   "cell_type": "code",
   "execution_count": 28,
   "id": "bcab7210",
   "metadata": {},
   "outputs": [],
   "source": [
    "jobS = execute(qc, backend = simulator, shots = nshots)"
   ]
  },
  {
   "cell_type": "code",
   "execution_count": 29,
   "id": "3e17d6ca",
   "metadata": {},
   "outputs": [
    {
     "data": {
      "image/png": "[encoded data removed]",
      "text/plain": [
       "<Figure size 504x360 with 1 Axes>"
      ]
     },
     "execution_count": 29,
     "metadata": {},
     "output_type": "execute_result"
    }
   ],
   "source": [
    "plot_histogram([jobS.result().get_counts(0), jobE.result().get_counts(0)], \n",
    "               bar_labels = False, legend = ['sim', 'exp'])"
   ]
  },
  {
   "cell_type": "markdown",
   "id": "82871590",
   "metadata": {},
   "source": [
    "##### Exercício\n",
    "Usando menos bits para $s$, faça a simulação e experimento e plote o histograma para medidas na base computacional.\n",
    "\n",
    "_SOL._ Está apresentada acima."
   ]
  },
  {
   "cell_type": "markdown",
   "id": "c1af6df7",
   "metadata": {},
   "source": [
    "# Algoritmo de Bernstein-Vazirani recursivo\n",
    "\n",
    "Um problema com o problema de Bernstein-Vazirani é que ele é tratável classicamente, pois a complexidade computacional é polinomial no número de bits, $\\mathcal{O}(n)$. Estes autores desenlveram um problema relacionado que é não tratável classicamente, obtendo assim uma separação entre os algoritmos clássico e quântico.\n",
    "\n",
    "No __problema de Bersntein-Vazirani recursivo__ (PBVR) a entrada para o oráculo são 2 strings de $n$ bits cada $j\\in\\{0,1\\}^{n}$ e $k\\in\\{0,1\\}^{n}$. A função calculada pelo oráculo é tal que \n",
    "$$f(j,k)=s_{j}\\cdot k,$$\n",
    "com $s_{j}$ sendo uma de $2^{n}$ bit-strings indexadas por $j\\in\\{0,1\\}^{n}$.\n",
    "Quando calculamos uma função de $s_{j}$, exigimos que\n",
    "$$g(s_{j}) = j\\cdot s.$$"
   ]
  },
  {
   "cell_type": "markdown",
   "id": "9759a8eb",
   "metadata": {},
   "source": [
    "O Algoritmo de Bernstein-Vazirani recursivo de nível 2 está ilustrado na figura abaixo.\n",
    "<img src='fig_bernstein_vazirani_recursivo.png' width='600'>"
   ]
  },
  {
   "cell_type": "markdown",
   "id": "8a381669",
   "metadata": {},
   "source": [
    "O estado Inicial é \n",
    "$$|\\Psi_{0}\\rangle=|0\\rangle^{\\otimes 2n}|1\\rangle^{\\otimes 2}.$$\n",
    "Aplicando as portas de Hadamard teremos\n",
    "\\begin{align}\n",
    "|\\Psi_{1}\\rangle & = H^{\\otimes(2n+2)}|\\Psi_{0}\\rangle \\\\\n",
    "& = \\frac{1}{2^{n}}\\sum_{j,k=0}^{2^{n}-1}|j\\rangle|k\\rangle|-\\rangle|-\\rangle.\n",
    "\\end{align}\n",
    "O oráculo é representado pelo operador unitário\n",
    "$$U = \\sum_{j,k=0}^{2^{n}-1}\\sum_{l=0}^{1}|jk\\rangle\\langle jk|\\otimes|l\\oplus(s_{j}\\cdot k)\\rangle\\langle l|.$$"
   ]
  },
  {
   "cell_type": "markdown",
   "id": "90019d6f",
   "metadata": {},
   "source": [
    "Atuando o oráculo, obteremos o estado\n",
    "\\begin{align}\n",
    "|\\Psi_{2}\\rangle & = U\\otimes\\mathbb{I}|\\Psi_{1}\\rangle \\\\\n",
    "& = \\Big(\\sum_{j,k=0}^{2^{n}-1}\\sum_{l=0}^{1}|jk\\rangle\\langle jk|\\otimes|l\\oplus(s_{j}\\cdot k)\\rangle\\langle l|\\otimes\\mathbb{I}\\Big)\\Big(\\frac{1}{2^{n}}\\sum_{j',k'=0}^{2^{n}-1}|j'\\rangle|k'\\rangle|-\\rangle|-\\rangle\\Big) \\\\\n",
    "& = \\frac{1}{2^{n}}\\sum_{j,k=0}^{2^{n}-1}|j\\rangle|k\\rangle\\otimes\\sum_{l=0}^{1}\\langle l|-\\rangle|l\\oplus(s_{j}\\cdot k)\\rangle\\otimes|-\\rangle \\\\\n",
    "& = \\frac{1}{2^{n}}\\sum_{j,k=0}^{2^{n}-1}|j\\rangle|k\\rangle\\otimes\\frac{1}{\\sqrt{2}}\\big(|0\\oplus(s_{j}\\cdot k)\\rangle-|1\\oplus(s_{j}\\cdot k)\\rangle\\big)\\otimes|-\\rangle \\\\\n",
    "& = \\frac{1}{2^{n}}\\sum_{j,k=0}^{2^{n}-1}|j\\rangle|k\\rangle\\otimes\\frac{1}{\\sqrt{2}}\\big(|s_{j}\\cdot k\\rangle-|\\overline{s_{j}\\cdot k}\\rangle\\big)\\otimes|-\\rangle \\\\\n",
    "& = \\frac{1}{2^{n/2}}\\sum_{j=0}^{2^{n}-1}|j\\rangle\\Big(\\frac{1}{2^{n/2}}\\sum_{k=0}^{2^{n}-1}(-1)^{s_{j}\\cdot k}|k\\rangle\\Big)|-\\rangle|-\\rangle \\\\\n",
    "& = \\frac{1}{2^{n/2}}\\sum_{j=0}^{2^{n}-1}|j\\rangle|\\psi_{s_{j}}\\rangle|-\\rangle|-\\rangle.\n",
    "\\end{align}"
   ]
  },
  {
   "cell_type": "markdown",
   "id": "60c0e2f3",
   "metadata": {},
   "source": [
    "Aplicando portas de Hadamard no qubits do 2º registro, \n",
    "$$H^{\\otimes n} = \\sum_{k=0}^{2^{n}-1}|k\\rangle\\langle\\psi_{k}|,$$\n",
    "obteremos\n",
    "\\begin{align}\n",
    "|\\Psi_{3}\\rangle & = \\mathbb{I}_{n}\\otimes H^{\\otimes n}\\mathbb{I}_{2} \\\\\n",
    "& = \\frac{1}{2^{n/2}}\\sum_{j=0}^{2^{n}-1}|j\\rangle\\Big(\\sum_{k=0}^{2^{n}-1}|k\\rangle\\langle\\psi_{k}|\\psi_{s_{j}}\\rangle\\Big)|-\\rangle|-\\rangle \\\\\n",
    "& = \\frac{1}{2^{n/2}}\\sum_{j=0}^{2^{n}-1}|j\\rangle\\Big(\\sum_{k=0}^{2^{n}-1}|k\\rangle\\delta_{k,s_{j}}\\Big)|-\\rangle|-\\rangle \\\\\n",
    "& = \\frac{1}{2^{n/2}}\\sum_{j=0}^{2^{n}-1}|j\\rangle|s_{j}\\rangle|-\\rangle|-\\rangle.\n",
    "\\end{align}"
   ]
  },
  {
   "cell_type": "markdown",
   "id": "d58ef7a9",
   "metadata": {},
   "source": [
    "Até aqui foi basicamente uma repetição do algoritmo de Bernstein-Vazirani não recursivo. Para incluir o cálculo da função $g$, usamos um operador unitário que atua como segue:\n",
    "$$G = \\sum_{j=0}^{2^{n}-1}\\sum_{l=0}^{1}|j\\rangle\\langle j|\\otimes|l\\oplus g(j)\\rangle\\langle l|.$$\n",
    "Atuando $G$ nos 2º e 4º registros, obteremos\n",
    "\\begin{align}\n",
    "|\\Psi_{4}\\rangle & = G|\\Psi_{3}\\rangle \\\\\n",
    "& = \\Big(\\mathbb{I}_{n}\\otimes\\sum_{j'=0}^{2^{n}-1}\\sum_{l=0}^{1}|j'\\rangle\\langle j'|\\otimes\\mathbb{I}_{1}\\otimes|g(j')\\oplus l\\rangle\\langle l|\\Big)\\Big(\\frac{1}{2^{n/2}}\\sum_{j=0}^{2^{n}-1}|j\\rangle|s_{j}\\rangle|-\\rangle|-\\rangle\\Big) \\\\\n",
    "& = \\frac{1}{2^{n/2}}\\sum_{j,j'=0}^{2^{n}-1}|j\\rangle\\otimes\\langle j'|s_{j}\\rangle|j'\\rangle|-\\rangle\\otimes\\Big(\\sum_{l=0}^{1}\\langle l|-\\rangle|l\\oplus g(j')\\rangle\\Big) \\\\\n",
    "& = \\frac{1}{2^{n/2}}\\sum_{j,j'=0}^{2^{n}-1}|j\\rangle\\otimes\\delta_{j',s_{j}}|j'\\rangle|-\\rangle\\otimes\\Big(\\frac{1}{\\sqrt{2}}\\big(|0\\oplus g(j')\\rangle-|1\\oplus g(j')\\rangle\\big)\\Big) \\\\\n",
    "& = \\frac{1}{2^{n/2}}\\sum_{j=0}^{2^{n}-1}|j\\rangle|s_{j}\\rangle|-\\rangle\\otimes\\Big(\\frac{1}{\\sqrt{2}}\\big(|g(s_{j})\\rangle-|\\overline{g(s_{j})}\\rangle\\big)\\Big) \\\\\n",
    "& = \\frac{1}{2^{n/2}}\\sum_{j=0}^{2^{n}-1}(-1)^{g(s_{j})}|j\\rangle|s_{j}\\rangle|-\\rangle|-\\rangle.\n",
    "\\end{align}"
   ]
  },
  {
   "cell_type": "markdown",
   "id": "be572adf",
   "metadata": {},
   "source": [
    "Seguindo, aplicamos portas de Hadamard nos qubits do 2º registro, mas usando\n",
    "$$H^{\\otimes n}=\\frac{1}{2^{n/2}}\\sum_{j,k=0}^{2^{n}-1}(-1)^{j\\cdot k}|j\\rangle\\langle k|.$$\n",
    "Com isso, obteremos o estado\n",
    "\\begin{align}\n",
    "|\\Psi_{5}\\rangle & = \\mathbb{I}_{n}\\otimes H^{\\otimes n}\\mathbb{I}_{2} \\\\\n",
    "& = \\frac{1}{2^{n/2}}\\sum_{j=0}^{2^{n}-1}(-1)^{g(s_{j})}|j\\rangle\\Big(\\frac{1}{2^{n/2}}\\sum_{j',k=0}^{2^{n}-1}(-1)^{j'\\cdot k}|j'\\rangle\\langle k|s_{j}\\rangle\\Big)|-\\rangle|-\\rangle \\\\\n",
    "& = \\frac{1}{2^{n/2}}\\sum_{j=0}^{2^{n}-1}(-1)^{g(s_{j})}|j\\rangle\\Big(\\frac{1}{2^{n/2}}\\sum_{j',k=0}^{2^{n}-1}(-1)^{j'\\cdot k}|j'\\rangle\\delta_{k,s_{j}}\\Big)|-\\rangle|-\\rangle \\\\\n",
    "& = \\frac{1}{2^{n}}\\sum_{j,j'=0}^{2^{n}-1}(-1)^{g(s_{j})}(-1)^{j'\\cdot s_{j}}|j\\rangle|j'\\rangle|-\\rangle|-\\rangle.\n",
    "\\end{align}"
   ]
  },
  {
   "cell_type": "markdown",
   "id": "f18afe81",
   "metadata": {},
   "source": [
    "Seguindo, aplicamos novamente o oráculo para obter\n",
    "\\begin{align}\n",
    "|\\Psi_{6}\\rangle & = U\\otimes\\mathbb{I}_{1}|\\Psi_{5}\\rangle \\\\\n",
    "& = \\Big(\\sum_{j',k'=0}^{2^{n}-1}\\sum_{l=0}^{1}|j'k'\\rangle\\langle j'k'|\\otimes|l\\oplus(s_{j'}\\cdot k')\\rangle\\langle l|\\otimes\\mathbb{I}_{1}\\Big)\\Big(\\frac{1}{2^{n}}\\sum_{j,k=0}^{2^{n}-1}(-1)^{g(s_{j})}(-1)^{k\\cdot s_{j}}|j\\rangle|k\\rangle|-\\rangle|-\\rangle\\Big) \\\\\n",
    "& = \\frac{1}{2^{n}}\\sum_{j,k,j',k'=0}^{2^{n}-1}(-1)^{g(s_{j})}(-1)^{k\\cdot s_{j}}\\delta_{j,j'}|j'\\rangle\\delta_{k,k'}|k'\\rangle\\Big(\\sum_{l=0}^{1}\\langle l|-\\rangle|l\\oplus(s_{j'}\\cdot k')\\rangle\\Big)|-\\rangle \\\\\n",
    "& = \\frac{1}{2^{n}}\\sum_{j,k=0}^{2^{n}-1}(-1)^{g(s_{j})}(-1)^{k\\cdot s_{j}}|j\\rangle|k\\rangle\\Big(\\frac{1}{\\sqrt{2}}\\big(|0\\oplus(s_{j}\\cdot k)\\rangle-|1\\oplus(s_{j}\\cdot k)\\rangle\\big)\\Big)|-\\rangle \\\\\n",
    "& = \\frac{1}{2^{n}}\\sum_{j,k=0}^{2^{n}-1}(-1)^{g(s_{j})}(-1)^{k\\cdot s_{j}}|j\\rangle|k\\rangle\\Big(\\frac{1}{\\sqrt{2}}\\big(|s_{j}\\cdot k\\rangle-|\\overline{s_{j}\\cdot k}\\rangle\\big)\\Big)|-\\rangle \\\\\n",
    "& = \\frac{1}{2^{n}}\\sum_{j,k=0}^{2^{n}-1}(-1)^{g(s_{j})}(-1)^{k\\cdot s_{j}}(-1)^{k\\cdot s_{j}}|j\\rangle|k\\rangle|-\\rangle|-\\rangle \\\\\n",
    "& = \\frac{1}{2^{n}}\\sum_{j,k=0}^{2^{n}-1}(-1)^{g(s_{j})}|j\\rangle|k\\rangle|-\\rangle|-\\rangle \\\\\n",
    "& = \\frac{1}{2^{n/2}}\\sum_{j=0}^{2^{n}-1}(-1)^{s\\cdot j}|j\\rangle\\Big(\\frac{1}{2^{n/2}}\\sum_{k=0}^{2^{n}-1}|k\\rangle\\Big)|-\\rangle|-\\rangle \\\\\n",
    "& =: |\\psi_{s}\\rangle|\\psi\\rangle|-\\rangle|-\\rangle,\n",
    "\\end{align}\n",
    "em que definimos\n",
    "$$|\\psi\\rangle := \\frac{1}{2^{n/2}}\\sum_{k=0}^{2^{n}-1}|k\\rangle$$\n",
    "e usamos\n",
    "$$|\\psi_{s}\\rangle = \\frac{1}{2^{n/2}}\\sum_{j=0}^{2^{n}-1}(-1)^{s\\cdot j}|j\\rangle.$$"
   ]
  },
  {
   "cell_type": "markdown",
   "id": "4b0bb2bb",
   "metadata": {},
   "source": [
    "Por fim, aplicamos portas de Hadamard nos qubits do 1º registro. Usamos\n",
    "$$H^{\\otimes n} = \\sum_{j=0}^{2^{n}-1}|j\\rangle\\langle\\psi_{j}|$$ para obter\n",
    "\\begin{align}\n",
    "|\\Psi_{7}\\rangle & = \\big(H^{\\otimes n}\\otimes\\mathbb{I}_{n+2}\\big)|\\Psi_{6}\\rangle \\\\\n",
    "& = \\Big(\\sum_{j=0}^{2^{n}-1}|j\\rangle\\langle\\psi_{j}|\\Big)|\\psi_{s}\\rangle|\\psi\\rangle|-\\rangle|-\\rangle \\\\\n",
    "& = |s\\rangle|\\psi\\rangle|-\\rangle|-\\rangle.\n",
    "\\end{align}\n",
    "Medindo os qubits do 1º registro na base computacional, obtemos o valor de $s$."
   ]
  },
  {
   "cell_type": "markdown",
   "id": "949f4096",
   "metadata": {},
   "source": [
    "Esse procedimento pode ser repetido $k$ vezes. No nível $k$ da recursão, a entrada para o oráculo são $k$ strings com $n$ bits cada. O oráculo retorna\n",
    "$$f(x_{1},\\cdots,x_{k})=x_{k}\\cdot s_{x_{1},\\cdots,x_{k-1}}$$\n",
    "tal que\n",
    "$$g(s_{x_{1},\\cdots,x_{k-1}}) = x_{k-1}\\cdot s_{x_{1},\\cdots,x_{k-2}}.$$\n",
    "Em ambos os casos $s_{j}\\in\\{0,1\\}^{n}.$\n",
    "Esse processo continua até que no último nível de recursão teremos \n",
    "$$g(s_{x_{1}}) = s\\cdot x_{1}.$$"
   ]
  },
  {
   "cell_type": "markdown",
   "id": "f53c6eaa",
   "metadata": {},
   "source": [
    "A complexidade quântica neste caso é $\\mathcal{O}(n)$ enquanto que a complexidade clássica é $\\mathcal{O}(n^{\\log n})$. Existe assim uma separação superpolinomial clássico-quântica para o algoritmo de Bernstein-Vazirani recursivo. Este algoritmo tem importância histórica por ter sido a 1ª evidência sólida de que computadores quânticos poderiam desafiar algoritmos clássicos no que concerna à complexidade computacional."
   ]
  },
  {
   "cell_type": "markdown",
   "id": "f1133189",
   "metadata": {},
   "source": [
    "##### References:\n",
    "- Dave Bacon, Quantum Computing Course, https://courses.cs.washington.edu/courses/cse599d/06wi/."
   ]
  },
  {
   "cell_type": "code",
   "execution_count": null,
   "id": "55879611",
   "metadata": {},
   "outputs": [],
   "source": []
  }
 ],
 "metadata": {
  "kernelspec": {
   "display_name": "Python 3 (ipykernel)",
   "language": "python",
   "name": "python3"
  },
  "language_info": {
   "codemirror_mode": {
    "name": "ipython",
    "version": 3
   },
   "file_extension": ".py",
   "mimetype": "text/x-python",
   "name": "python",
   "nbconvert_exporter": "python",
   "pygments_lexer": "ipython3",
   "version": "3.8.11"
  }
 },
 "nbformat": 4,
 "nbformat_minor": 5
}
