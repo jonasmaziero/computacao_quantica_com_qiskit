{
 "cells": [
  {
   "cell_type": "code",
   "execution_count": 4,
   "id": "1085b111",
   "metadata": {},
   "outputs": [],
   "source": [
    "%run init.ipynb"
   ]
  },
  {
   "cell_type": "markdown",
   "id": "cfc42393",
   "metadata": {},
   "source": [
    "# Transformada de Fourier geral\n",
    "\n",
    "A TFQ atua da seguinte forma na base computacional\n",
    "$$F|j\\rangle = \\frac{1}{\\sqrt{d}}\\sum_{k=0}^{d-1}e^{2\\pi ijk/d}|k\\rangle =: |\\Phi_{j}\\rangle,$$\n",
    "para $j=0,\\cdots,d-1.$ Vimos um algoritmo para implementar essar operação quando $d=2^{n}$. Vimos também que a extensão para $d\\ne 2^{n}$ não é direta. Consideremos aqui o __algoritmo de Kitaev__ para implementar a transforma de Fourier quântica para um $d$ qualquer.\n",
    "\n",
    "Tendo $d$, usaremos 2 registros, cada um com $n$ qubits. Esse número de qubits é o menor $n$ tal que\n",
    "$$2^{n}\\ge d,$$\n",
    "i.e., \n",
    "$$2^{n-1}\\le d\\le 2^{n}.$$\n",
    "Primeiramente preparamos um registro auxiliar no estado padrão. A implementação da TFQ será via a seguinte operação\n",
    "$$|j\\rangle_{1,\\cdots,n}|0\\rangle_{n+1,\\cdots,2n} \\xrightarrow[]{TFQ} |j\\rangle_{1,\\cdots,n}|\\Phi_{j}\\rangle_{n+1,\\cdots,2n}.$$\n",
    "Ou seja, o estado de Fourier é preparado no sistema auxiliar. Claro, a transformada de Fourier inversa tem que implementar a seguinte operação\n",
    "$$|j\\rangle_{1,\\cdots,n}|\\Phi_{j}\\rangle_{n+1,\\cdots,2n} \\xrightarrow[]{TFQI} |j\\rangle_{1,\\cdots,n}|0\\rangle_{n+1,\\cdots,2n}.$$"
   ]
  },
  {
   "cell_type": "markdown",
   "id": "3344ee69",
   "metadata": {},
   "source": [
    "Para implementar a TFQ, primeiramente vejamos como __preparar um estado__ \n",
    "$$|\\Phi_{0}\\rangle  = \\frac{1}{\\sqrt{d}}\\sum_{k=0}^{d-1}|k\\rangle = \\frac{1}{\\sqrt{d}}\\sum_{k_{1},\\cdots,k_{n};k<d}|k_{1}\\cdots k_{n}\\rangle.$$\n",
    "\n",
    "Na sequência, vejamos como preparar um estado um pouco mais geral:\n",
    "$$|\\Phi\\rangle = \\sum_{j_{1},\\cdots,j_{n}=0}^{1}\\alpha_{j_{1},\\cdots,j_{n}}|j_{1}\\cdots j_{n}\\rangle$$\n",
    "com $\\alpha_{j_{1},\\cdots,j_{n}}$ sendo coeficientes reais positivos, i.e., \n",
    "$$\\alpha_{j_{1},\\cdots,j_{n}}\\in\\mathbb{R},\\ \\alpha_{j_{1},\\cdots,j_{n}}\\ge 0.$$ \n",
    "Para este estado, se medimos o 1º qubit teremos as seguintes probabilidades\n",
    "\\begin{align}\n",
    "& \\alpha_{0}^{2} := Pr(0_{1}|\\Phi)=\\sum_{j_{2},\\cdots,j_{n}=0}^{1}\\alpha_{0,j_{2},\\cdots,j_{n}}^{2}, \\\\\n",
    "& \\alpha_{1}^{2} := Pr(1_{1}|\\Phi)=\\sum_{j_{2},\\cdots,j_{n}=0}^{1}\\alpha_{1,j_{2},\\cdots,j_{n}}^{2}.\n",
    "\\end{align}\n",
    "Tendo essas probabilidades, aplicamos uma rotação no 1º qubit para produzir o estado\n",
    "$$|0\\rangle_{1} \\rightarrow \\alpha_{0}|0\\rangle_{1} + \\alpha_{1}|1\\rangle_{1}.$$\n",
    "A probabilidade condicional de obtermos $0$ ou $1$ em uma medida no 2º qubit dado que o estado do 1º qubit é $|0\\rangle$ é dada por\n",
    "$$\\alpha_{0_{2}|0_{1}}^{2} = a^{2}_{0_{1}0_{2}}a^{2}_{0_{1}} = \\Big(\\sum_{j_{3},\\cdots,j_{d}=0}^{1}\\alpha_{0,0,j_{3},\\cdots,j_{n}}^{2}\\Big)\\Big(\\sum_{j_{2},\\cdots,j_{n}=0}^{1}\\alpha_{0,j_{2},\\cdots,j_{n}}^{2}\\Big).$$\n",
    "De forma geral, denotamos $\\alpha_{j_{2}|j_{1}}^{2}$ como a probabilidade condicional de obter $|j_{2}\\rangle$ numa medida do 2º qubit condicionado no estado do 1º qubit ser $|j_{1}\\rangle$. Com isso, a seguinte operação será uma rotação no 2º qubit condicionada no estado do 1º qubit\n",
    "$$|j_{1},0\\rangle \\rightarrow |j_{1}\\rangle\\otimes\\big(\\alpha_{0_{2}|j_{1}}|0\\rangle_{2}+ \\alpha_{1_{2}|j_{1}}|1\\rangle_{2}\\big).$$"
   ]
  },
  {
   "cell_type": "markdown",
   "id": "0a997094",
   "metadata": {},
   "source": [
    "Seguimos aplicando a mesma ideia para todos os qubits do 2º registro. Denotando $\\alpha_{j_{k}|j_{1}\\cdots j_{k-1}}^{2}$ a probabilidade de obtermos $|j_{k}\\rangle$ em uma medida no $k$-ésimo qubit sendo que os estado dos primeiros $k-1$ qubits é $|j_{1}\\cdots j_{k-1}\\rangle$. Teremos assim a transformação\n",
    "$$|j_{1}\\cdots j_{k-1}0_{k}\\rangle \\rightarrow |j_{1}\\cdots j_{k-1}\\rangle\\otimes\\big(\\alpha_{0_{k}|j_{1}\\cdots j_{k-1}}|0\\rangle_{k}+\\alpha_{1|j_{1}\\cdots j_{k-1}}|1\\rangle_{k}\\big).$$\n",
    "\n",
    "##### Exemplo\n",
    "Como exemplo, vejamos como preparar o estado $|\\Phi_{0}\\rangle$. Começamos com 2 qubits\n",
    "\\begin{align}\n",
    "|\\Phi_{0}\\rangle & = \\frac{1}{\\sqrt{4}}\\sum_{k_{1},k_{2}=0}^{1}|k_{1}k_{2}\\rangle \\\\\n",
    "& = 2^{-1}\\big(|00\\rangle+|01\\rangle+|10\\rangle+|11\\rangle\\big).\n",
    "\\end{align}\n",
    "Neste caso\n",
    "\\begin{align}\n",
    "\\alpha_{0_{1}}^{2} = \\alpha_{0_{1}0_{2}}^{2} + \\alpha_{0_{1}1_{2}}^{2} = 2^{-2} + 2^{-2} = 2^{-1}, \\\\\n",
    "\\alpha_{1_{1}}^{2} = \\alpha_{1_{1}0_{2}}^{2} + \\alpha_{1_{1}1_{2}}^{2} = 2^{-2} + 2^{-2} = 2^{-1}.\n",
    "\\end{align}\n",
    "Assim, temos que aplicar a rotação no 1º qubit que prepara o estado\n",
    "$$2^{-1/2}|0_{1}\\rangle+2^{-1/2}|1_{1}\\rangle = |+\\rangle_{1} = H|0\\rangle_{1}.$$"
   ]
  },
  {
   "cell_type": "markdown",
   "id": "b3e3ea43",
   "metadata": {},
   "source": [
    "Seguindo temos que aplicar uma rotação no 2º qubit condicionada no estado do 1º qubit. Quanto às probabilidade condicionais, temos (depois de projetar, tem que normalizar o estado pós medida)\n",
    "\\begin{align}\n",
    "& \\alpha_{0_{2}|0_{1}}^{2} = 2^{-1} \\ne \\alpha_{0_{2}0_{1}}^{2}, \\\\\n",
    "& \\alpha_{1_{2}|0_{1}}^{2} = 2^{-1}, \\\\\n",
    "& \\alpha_{0_{2}|1_{1}}^{2} = 2^{-1}, \\\\\n",
    "& \\alpha_{1_{2}|1_{1}}^{2} = 2^{-1}.\n",
    "\\end{align}\n",
    "Nesse caso, como o estado rotacionado do 2º qbit é mesmo independente do estado selecionado do 1º qubit, não precisamos usar operações controladas, simplesmente aplicamos a rotação que produz o estado\n",
    "$$\\alpha_{0_{2}|j_{1}}|0\\rangle_{2}+ \\alpha_{1_{2}|j_{1}}|1\\rangle_{2} = 2^{-1/2}|0\\rangle_{2}+ 2^{-1/2}|1\\rangle_{2} = H|0\\rangle_{2},$$\n",
    "para $j_{1}=0,1$.\n",
    "\n",
    "Como poderia ter sido antecipado, vemos que\n",
    "$$|\\Phi_{0}\\rangle = HH|00\\rangle.$$\n",
    "$\\diamond$"
   ]
  },
  {
   "cell_type": "markdown",
   "id": "bc5922ce",
   "metadata": {},
   "source": [
    "##### Exemplo\n",
    "Vamos considerar a preparação de um estado de um qutrit\n",
    "\\begin{align}\n",
    "|\\Phi_{0}\\rangle & = \\frac{1}{\\sqrt{3}}\\sum_{k=0}^{2}|k\\rangle = 3^{-1/2}\\big(|0\\rangle+|1\\rangle+|2\\rangle\\big) \\\\\n",
    "& = 3^{-1/2}|00\\rangle_{12} + 3^{-1/2}|01\\rangle_{12} + 3^{-1/2}|10\\rangle_{12} + 0|11\\rangle_{12}.\n",
    "\\end{align}\n",
    "Neste caso $\\alpha_{0_{1}}^{2} = 2/3$ e $\\alpha_{1_{1}}^{2} = 1/3$. Temos que preparar\n",
    "\\begin{align}\n",
    "\\sqrt{2/3}|0\\rangle_{1} + \\sqrt{1/3}|1\\rangle_{1} = U(\\theta,0,0)|0\\rangle_{1}\n",
    "\\end{align}\n",
    "em que usamos \n",
    "$$\\theta=\\arccos(\\sqrt{2/3}) \\approx 1.23$$\n",
    "e\n",
    "$$U(\\theta,\\phi,\\lambda) = \\begin{bmatrix}\\cos(\\theta/2) & -e^{i\\lambda}\\sin(\\theta/2) \\\\ e^{i\\phi}\\sin(\\theta/2) & e^{i(\\phi+\\lambda)}\\cos(\\theta/2) \\end{bmatrix}$$"
   ]
  },
  {
   "cell_type": "code",
   "execution_count": 4,
   "id": "a8ddd564",
   "metadata": {},
   "outputs": [
    {
     "data": {
      "image/png": "[encoded data removed]",
      "text/latex": [
       "$\\displaystyle \\left( 1.23095941734077, \\  1.23095941734077\\right)$"
      ],
      "text/plain": [
       "(1.23095941734077, 1.23095941734077)"
      ]
     },
     "execution_count": 4,
     "metadata": {},
     "output_type": "execute_result"
    }
   ],
   "source": [
    "2*acos(sqrt(2/3)), 2*asin(sqrt(1/3))."
   ]
  },
  {
   "cell_type": "markdown",
   "id": "7b8d2a60",
   "metadata": {},
   "source": [
    "Passamos agora para o 2º qubit. Temos as probabilidades condicionais \n",
    "$$\\alpha_{0_{2}|0_{1}}^{2} = \\alpha_{1_{2}|0_{1}}^{2} = 2^{-1},\\ \\alpha_{0_{2}|1_{1}}^{2}=1,\\ \\alpha_{1_{2}|1_{1}}^{2}=0$$\n",
    "que correspondem aos estados\n",
    "$$|0\\rangle_{1}\\otimes H|0\\rangle_{2} \\text{ e } |1\\rangle_{1}\\otimes \\mathbb{I}|0\\rangle_{2}.$$\n",
    "Esses dois estados condicionais podem ser praparado através da porta controlada\n",
    "$$C_{H_{0}}^{1\\rightarrow 2} = |0\\rangle_{1}\\langle0|\\otimes H_{2} + |1\\rangle_{1}\\langle1|\\otimes \\mathbb{I}_{2}.$$\n",
    "Verificando\n",
    "\\begin{align}\n",
    "& C_{H_{0}}^{1\\rightarrow 2}\\big(\\sqrt{2/3}|0\\rangle_{1} + \\sqrt{1/3}|1\\rangle_{1}\\big)|0\\rangle_{2} = \\sqrt{2/3}|0\\rangle_{1}H|0\\rangle_{2} + \\sqrt{1/3}|1\\rangle_{1}|0\\rangle_{2} \\\\\n",
    "& = \\sqrt{2/3}|0\\rangle_{1}\\sqrt{1/2}(|0\\rangle_{2}+|1\\rangle_{2}) + \\sqrt{1/3}|1\\rangle_{1}|0\\rangle_{2} \\\\\n",
    "& = \\sqrt{1/3}|0\\rangle_{1}|0\\rangle_{2} + \\sqrt{1/3}|0\\rangle_{1}|1\\rangle_{2} + \\sqrt{1/3}|1\\rangle_{1}|0\\rangle_{2}.\n",
    "\\end{align}\n",
    "$\\diamond$"
   ]
  },
  {
   "cell_type": "markdown",
   "id": "51c715e6",
   "metadata": {},
   "source": [
    "Voltando para o __algoritmo de Kitaev__, uma vez preparado o estado $|\\Phi_{0}\\rangle$ no 2º registro, completamos a operação $|j\\rangle|0\\rangle \\xrightarrow[]{TFQ} |j\\rangle|\\Phi_{j}\\rangle$ como segue. Usaremos\n",
    "$$P_{k} = P(2\\pi2^{k}/d) = \\begin{bmatrix}1&0\\\\0&e^{2\\pi i2^{k}/d}\\end{bmatrix}.$$\n",
    "Seguindo aplicamos as portas de fase controladas\n",
    "$$\\Pi_{k=1}^{n}C_{P_{k}}^{k\\rightarrow n+k},$$\n",
    "como ilustrado na figura abaixo ($R_{k}\\equiv P_{k}$ e $|x\\rangle=|j\\rangle$).\n",
    "<img src='fig_fourier_kitaev.png' width='300'>"
   ]
  },
  {
   "cell_type": "markdown",
   "id": "038d6f21",
   "metadata": {},
   "source": [
    "Preparado o estado $|\\Phi_{0}\\rangle$, vamos para as contas da aplicação das fases controladas:\n",
    "\\begin{align}\n",
    "& \\Pi_{k=1}^{n}C_{P_{k}}^{k\\rightarrow n+k}|j\\rangle|\\Phi_{0}\\rangle = \\Pi_{k=1}^{n}C_{P_{k}}^{k\\rightarrow n+k}|j_{1}j_{2}\\cdots j_{n}\\rangle\\frac{1}{\\sqrt{d}}\\sum_{l=0}^{d-1}|l\\rangle \\\\\n",
    "& = \\frac{1}{\\sqrt{d}}\\Pi_{k=1}^{n}C_{P_{k}}^{k\\rightarrow n+k}|j_{1}j_{2}\\cdots j_{n}\\rangle\\sum_{l_{1},l_{2},\\cdots,l_{n};l<d}|l_{1},l_{2},\\cdots,l_{n}\\rangle \\\\\n",
    "& = \\frac{1}{\\sqrt{d}}\\sum_{l_{1},l_{2},\\cdots,l_{n};l<d}C_{P_{1}}^{1\\rightarrow n+1}|j_{1}\\rangle|l_{1}\\rangle C_{P_{2}}^{2\\rightarrow n+2}|j_{2}\\rangle|l_{2}\\rangle\\cdots C_{P_{n}}^{n\\rightarrow 2n}|j_{n}\\rangle|l_{n}\\rangle \\\\\n",
    "& = \\frac{1}{\\sqrt{d}}\\sum_{l_{1},l_{2},\\cdots,l_{n};l<d}e^{2\\pi i j_{1}l_{1}2^{1}/d}|j_{1}\\rangle|l_{1}\\rangle e^{2\\pi i j_{2}l_{2}2^{2}/d}|j_{2}\\rangle|l_{2}\\rangle\\cdots e^{2\\pi i j_{n}l_{n}2^{n}/d}|j_{n}\\rangle|l_{n}\\rangle \\\\\n",
    "& = |j_{1}j_{2}\\cdots j_{n}\\rangle\\frac{1}{\\sqrt{d}}\\sum_{l_{1},l_{2},\\cdots,l_{n};l<d}e^{2\\pi i(j_{1}l_{1}2^{1}+j_{2}l_{2}2^{2}+\\cdots+j_{n}l_{n}2^{n})/d}|l_{1}l_{2}\\cdots l_{n}\\rangle \\\\\n",
    "& = |j\\rangle\\frac{1}{\\sqrt{d}}\\sum_{l=0}^{d-1}e^{2\\pi ijl/d}|l\\rangle \\ ?\\\\\n",
    "& = |j\\rangle|\\Phi_{j}\\rangle.\n",
    "\\end{align}"
   ]
  },
  {
   "cell_type": "markdown",
   "id": "05fa5dcb",
   "metadata": {},
   "source": [
    "##### Exemplo\n",
    "Vamos considerar $d=3$, para o qual teremos $j=1,2,3$. Neste caso precisamos de dois registros com $n=2$ qubits cada. Representaremos $j=\\{1,2,3\\}\\doteq\\{00,01,10\\}$. O estado $|11\\rangle$ fica sobrando. Já vimos no exemplo anterior como preparar o estado \n",
    "\\begin{align}\n",
    "|\\Phi_{0}\\rangle & = 3^{-1/2}(|0\\rangle+|1\\rangle+|2\\rangle) \\\\\n",
    "& \\doteq 3^{-1/2}(|00\\rangle+|01\\rangle+|10\\rangle)+0|11\\rangle\n",
    "\\end{align}\n",
    "no 2º registro. Consideremos a 2ª parte do algoritmo de Kitaev:\n",
    "\\begin{align}\n",
    "& \\Pi_{k=1}^{n}C_{P_{k}}^{k\\rightarrow n+k}|j\\rangle|\\Phi_{0}\\rangle = \\Pi_{k=1}^{2}C_{P_{k}}^{k\\rightarrow n+k}|j_{1}j_{2}\\rangle\\big(3^{-1/2}(|00\\rangle+|01\\rangle+|10\\rangle)+0|11\\rangle\\big) \\\\\n",
    "& = 3^{-1/2}\\big(C_{P_{1}}^{1\\rightarrow 3}|j_{1}0\\rangle\\otimes C_{P_{2}}^{2\\rightarrow 4}|j_{2}0\\rangle +C_{P_{1}}^{1\\rightarrow 3}|j_{1}0\\rangle\\otimes C_{P_{2}}^{2\\rightarrow 4}|j_{2}1\\rangle + C_{P_{1}}^{1\\rightarrow 3}|j_{1}1\\rangle\\otimes C_{P_{2}}^{2\\rightarrow 4}|j_{2}0\\rangle\\big) \\\\\n",
    "& + 0 C_{P_{1}}^{1\\rightarrow 3}|j_{1}1\\rangle\\otimes C_{P_{2}}^{2\\rightarrow 4}|j_{2}1\\rangle \\\\\n",
    "& = 3^{-1/2}\\big(e^{2\\pi ij_{1}02^{1}/3}|j_{1}0\\rangle\\otimes e^{2\\pi ij_{2}02^{2}/3}|j_{2}0\\rangle + e^{2\\pi ij_{1}02^{1}/3}|j_{1}0\\rangle\\otimes e^{2\\pi ij_{2}(1)2^{2}/3}|j_{2}1\\rangle + e^{2\\pi ij_{1}(1)2^{1}/3}|j_{1}1\\rangle\\otimes e^{2\\pi ij_{2}(0)2^{2}/3}|j_{2}0\\rangle\\big) \\\\\n",
    "& + 0 e^{2\\pi ij_{1}(1)2^{1}/3}|j_{1}1\\rangle\\otimes e^{2\\pi ij_{2}(1)2^{2}/3}|j_{2}1\\rangle \\\\\n",
    "& = |j_{1}j_{2}\\rangle\\otimes 3^{-1/2}\\big(e^{2\\pi i(j_{1}0+j_{2}0)/3}|00\\rangle + e^{2\\pi i(j_{1}0+j_{2}2^{2})/3}|01\\rangle + e^{2\\pi i(j_{1}2^{1}+j_{2}0)/3}|10\\rangle + 0|11\\rangle\\big) \\\\\n",
    "& = |j_{1}j_{2}\\rangle\\otimes 3^{-1/2}\\big(|00\\rangle + e^{2\\pi i(j_{1}0+j_{2}2^{2})/3}|01\\rangle + e^{2\\pi i(j_{1}2^{1}+j_{2}0)/3}|10\\rangle + 0|11\\rangle\\big)\n",
    "\\end{align}"
   ]
  },
  {
   "cell_type": "markdown",
   "id": "631be278",
   "metadata": {},
   "source": [
    "Assim\n",
    "\\begin{align}\n",
    "& |0\\rangle|\\Phi_{0}\\rangle \\rightarrow |00\\rangle\\otimes 3^{-1/2}\\big(|00\\rangle + |01\\rangle + |10\\rangle + 0|11\\rangle\\big), \\\\\n",
    "& |1\\rangle|\\Phi_{0}\\rangle \\rightarrow |01\\rangle\\otimes 3^{-1/2}\\big(|00\\rangle + e^{8\\pi i/3}|01\\rangle + |10\\rangle + 0|11\\rangle\\big), \\\\\n",
    "& |2\\rangle|\\Phi_{0}\\rangle \\rightarrow |10\\rangle\\otimes 3^{-1/2}\\big(|00\\rangle + |01\\rangle + e^{2\\pi i/3}|10\\rangle + 0|11\\rangle\\big).\n",
    "\\end{align}"
   ]
  },
  {
   "cell_type": "markdown",
   "id": "6322ea1f",
   "metadata": {},
   "source": [
    "Esse resultado não é igual a\n",
    "\\begin{align}\n",
    "F|j\\rangle &= F|j_{1}j_{2}\\rangle = 3^{-1/2}\\sum_{k=0}^{2}e^{2\\pi ijk/3}|k\\rangle \\\\\n",
    "& = 3^{-1/2}\\big(e^{2\\pi ij0/3}|0\\rangle + e^{2\\pi ij1/3}|1\\rangle + e^{2\\pi ij2/3}|2\\rangle\\big) \\\\\n",
    "& \\doteq 3^{-1/2}\\big(|00\\rangle + e^{2\\pi ij/3}|01\\rangle + e^{2\\pi ij2/3}|10\\rangle + 0|11\\rangle\\big),\n",
    "\\end{align}\n",
    "Ou seja\n",
    "\\begin{align}\n",
    "F|0\\rangle & = 3^{-1/2}\\big(|00\\rangle + |01\\rangle + |10\\rangle + 0|11\\rangle\\big), \\\\\n",
    "F|1\\rangle & = 3^{-1/2}\\big(|00\\rangle + e^{2\\pi i/3}|01\\rangle + e^{4\\pi i/3}|10\\rangle + 0|11\\rangle\\big), \\\\\n",
    "F|2\\rangle & = 3^{-1/2}\\big(|00\\rangle + e^{4\\pi i/3}|01\\rangle + e^{8\\pi i/3}|10\\rangle + 0|11\\rangle\\big) \\\\\n",
    "& \\equiv 3^{-1/2}\\big(|00\\rangle + e^{4\\pi i/3}|01\\rangle + e^{2\\pi i/3}|10\\rangle + 0|11\\rangle\\big).\n",
    "\\end{align}\n",
    "$\\diamond$"
   ]
  },
  {
   "cell_type": "code",
   "execution_count": 3,
   "id": "9e5c4755",
   "metadata": {},
   "outputs": [
    {
     "data": {
      "image/png": "[encoded data removed]",
      "text/latex": [
       "$\\displaystyle \\left( - \\frac{1}{2}, \\  \\frac{\\sqrt{3}}{2}, \\  - \\frac{1}{2}, \\  - \\frac{\\sqrt{3}}{2}, \\  - \\frac{1}{2}, \\  \\frac{\\sqrt{3}}{2}\\right)$"
      ],
      "text/plain": [
       "⎛      √3        -√3         √3⎞\n",
       "⎜-1/2, ──, -1/2, ────, -1/2, ──⎟\n",
       "⎝      2          2          2 ⎠"
      ]
     },
     "execution_count": 3,
     "metadata": {},
     "output_type": "execute_result"
    }
   ],
   "source": [
    "cos(2*pi/3), sin(2*pi/3), cos(4*pi/3), sin(4*pi/3), cos(8*pi/3), sin(8*pi/3)"
   ]
  },
  {
   "cell_type": "markdown",
   "id": "1fe41bfc",
   "metadata": {},
   "source": [
    "# Exercícios\n",
    "\n",
    "1. Aplique o algoritmo de preparação de estados discutido acima para preparar o estado \n",
    "$$|W\\rangle = \\frac{1}{\\sqrt{3}}\\big(|001\\rangle + |010\\rangle + |100\\rangle\\big).$$\n",
    "Descreva todos os passos da aplicação do algoritmo."
   ]
  },
  {
   "cell_type": "markdown",
   "id": "6b4ff52d",
   "metadata": {},
   "source": [
    "_SOL._ Probabilidades para o qubit 1: $\\alpha_{0_{1}}^{2} = 2/3,\\ \\alpha_{1_{1}}^{2} = 1/3.$\n",
    "Começamos usando $U(\\theta,0,0)$ para preparar o estado \n",
    "$$\\sqrt{2/3}|0\\rangle_{1}+\\sqrt{1/3}|1\\rangle_{1}.$$\n",
    "Se o estado do qubit 1 colapsa para $|0\\rangle_{1}$, o estado dos outros 2 qubits será $(|01\\rangle_{23}+|10\\rangle_{23})/\\sqrt{2}.$ Teremos assim as probabilidades condicionais\n",
    "$$\\alpha^{2}_{0_{2}|0_{1}}=\\alpha^{2}_{1_{2}|0_{1}}=1/2$$\n",
    "e devemos prepar o estado\n",
    "$$H|0\\rangle_{2}.$$\n",
    "Se o qubit 1 colapsa para $|1\\rangle_{1}$, o estado dos outros 2 qubits será $|00\\rangle$. Teremos assim\n",
    "$$\\alpha^{2}_{0_{2}|1_{1}}=1 \\text{ e } \\alpha^{2}_{1_{2}|1_{1}}=0$$\n",
    "e devemos preparar o estado\n",
    "$$|0\\rangle_{2}.$$\n",
    "Fazemos essas preparações controladas usando a porta $C_{H_{0}}^{1\\rightarrow 2}$. Obteremos assim o estado\n",
    "\\begin{align}\n",
    "& C_{H}^{1_{0}\\rightarrow 2}\\big(\\sqrt{2/3}|0\\rangle_{1}+\\sqrt{1/3}|1\\rangle_{1}\\big)|0\\rangle_{2}|0\\rangle_{3} \\\\\n",
    "& = \\big(\\sqrt{2/3}|0\\rangle_{1}H|0\\rangle_{2}+\\sqrt{1/3}|1\\rangle_{1}|0\\rangle_{2}\\big)|0\\rangle_{3}  \\\\\n",
    "& = \\big(\\sqrt{1/3}|0\\rangle_{1}|0\\rangle_{2}+ \\sqrt{1/3}|0\\rangle_{1}|1\\rangle_{2} + \\sqrt{1/3}|1\\rangle_{1}|0\\rangle_{2}\\big)|0\\rangle_{3}.\n",
    "\\end{align}"
   ]
  },
  {
   "cell_type": "markdown",
   "id": "0394e757",
   "metadata": {},
   "source": [
    "As probabilidades, e estados a serem preparados, do qubit 3 condicionadas nos estados dos qubits 1 e 2 são\n",
    "\\begin{align}\n",
    "& \\alpha^{2}_{0_{3}|0_{1}0_{2}} = 0,\\ \\alpha^{2}_{1_{3}|0_{1}0_{2}} = 1\\ \\therefore\\ |1\\rangle_{3}, \\\\ \n",
    "& \\alpha^{2}_{0_{3}|0_{1}1_{2}} = 1,\\ \\alpha^{2}_{1_{3}|0_{1}0_{2}} = 0\\ \\therefore\\  |0\\rangle_{3}, \\\\ \n",
    "& \\alpha^{2}_{0_{3}|1_{1}0_{2}} = 1,\\ \\alpha^{2}_{1_{3}|0_{1}0_{2}} = 0\\ \\therefore\\  |0\\rangle_{3}, \\\\ \n",
    "& \\alpha^{2}_{0_{3}|1_{1}1_{2}} = 0,\\ \\alpha^{2}_{1_{3}|1_{1}1_{2}} = 0.\n",
    "\\end{align}\n",
    "Podemos preparar estes estados condicionais usando $C_{X}^{1_{0}2_{0}\\rightarrow 3}$:\n",
    "\\begin{align}\n",
    "& C_{X}^{1_{0}2_{0}\\rightarrow 3}\\big(\\sqrt{1/3}|0\\rangle_{1}|0\\rangle_{2}+ \\sqrt{1/3}|0\\rangle_{1}|1\\rangle_{2} + \\sqrt{1/3}|1\\rangle_{1}|0\\rangle_{2}\\big)|0\\rangle_{3} \\\\\n",
    "& = \\sqrt{1/3}|0\\rangle_{1}|0\\rangle_{2}|1\\rangle_{3}+ \\sqrt{1/3}|0\\rangle_{1}|1\\rangle_{2}|0\\rangle_{3} + \\sqrt{1/3}|1\\rangle_{1}|0\\rangle_{2}|0\\rangle_{3} \\\\\n",
    "& = |W\\rangle.\n",
    "\\end{align}"
   ]
  },
  {
   "cell_type": "markdown",
   "id": "de5707c8",
   "metadata": {},
   "source": [
    "### Referências\n",
    "\n",
    "* Kitaev, A.Y.. Quantum measurements and the Abelian Stabilizer Problem, http://arxiv.org/abs/quant-ph/9511026 (1995).\n",
    "\n",
    "* Bacon, D.. Quantum Computing, https://courses.cs.washington.edu/courses/cse599d/06wi/ (2006)."
   ]
  },
  {
   "cell_type": "code",
   "execution_count": 6,
   "id": "7a57e14f",
   "metadata": {},
   "outputs": [
    {
     "data": {
      "image/png": "[encoded data removed]",
      "text/latex": [
       "$\\displaystyle \\left( - \\frac{1}{2}, \\  \\frac{\\sqrt{3}}{2}, \\  - \\frac{1}{2}, \\  - \\frac{\\sqrt{3}}{2}, \\  - \\frac{1}{2}, \\  \\frac{\\sqrt{3}}{2}\\right)$"
      ],
      "text/plain": [
       "⎛      √3        -√3         √3⎞\n",
       "⎜-1/2, ──, -1/2, ────, -1/2, ──⎟\n",
       "⎝      2          2          2 ⎠"
      ]
     },
     "execution_count": 6,
     "metadata": {},
     "output_type": "execute_result"
    }
   ],
   "source": [
    "cos(2*pi/3), sin(2*pi/3), cos(4*pi/3), sin(4*pi/3), cos(8*pi/3), sin(8*pi/3)"
   ]
  },
  {
   "cell_type": "code",
   "execution_count": null,
   "id": "222cacab",
   "metadata": {},
   "outputs": [],
   "source": []
  }
 ],
 "metadata": {
  "kernelspec": {
   "display_name": "Python 3 (ipykernel)",
   "language": "python",
   "name": "python3"
  },
  "language_info": {
   "codemirror_mode": {
    "name": "ipython",
    "version": 3
   },
   "file_extension": ".py",
   "mimetype": "text/x-python",
   "name": "python",
   "nbconvert_exporter": "python",
   "pygments_lexer": "ipython3",
   "version": "3.9.13"
  }
 },
 "nbformat": 4,
 "nbformat_minor": 5
}
