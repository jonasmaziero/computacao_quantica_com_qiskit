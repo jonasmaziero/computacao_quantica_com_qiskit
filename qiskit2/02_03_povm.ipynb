{
 "cells": [
  {
   "cell_type": "markdown",
   "id": "40f378a6",
   "metadata": {},
   "source": [
    "### Notas de aula de Computação Quântica <br> Autor: Jonas Maziero"
   ]
  },
  {
   "cell_type": "markdown",
   "id": "41498cba",
   "metadata": {},
   "source": [
    "# POVMs (Positive operator-valued measurements)\n",
    "Em português, seria \"medidas valoradas por operadores positivos\" (MVOPs).\n",
    "\n",
    "## Medidas projetivas\n",
    "Consideremos um sistema com espaço de estados $\\mathcal{H}_{A}.$ \n",
    "Observáveis desse sistema são descritos por operadores Hermitianos\n",
    "\\begin{equation}\n",
    "A=\\sum_{j=1}^{d_{A}}a_{j}\\Pi_{a_{j}}\n",
    "\\end{equation}\n",
    "com \n",
    "\\begin{equation}\n",
    "a_{j}\\in\\mathbb{R} \\text{, } \\Pi_{a_{j}}=|a_{j}\\rangle\\langle a_{j}| \\text{, } \\Pi_{a_{j}}\\Pi_{a_{k}}=\\delta_{jk}\\Pi_{a_{j}} \\text{ e } \\sum_{j=1}^{d_{A}}\\Pi_{a_{j}}=\\mathbb{I}_{A}.\n",
    "\\end{equation}\n",
    "Os operadores $\\Pi_{a_{j}}$ são chamados de projetores (ficará claro o motivo a seguir). Na forma como escrevemos acima, eles são projetores unidimensionais ou de rank 1, pois o subespaço gerado pelo autovetor correspondete, $|a_{j}\\rangle$, tem dimensão igual a 1. Claro, podemos ter projetores com qualquer rank. Por exemplo, se os dois autovalores $a_{1}$ e $a_{2}$ são degenerados, i.e., tem o mesmo valor, então qualquer combinação linear \n",
    "\\begin{equation}\n",
    "c_{1}|a_{1}\\rangle + c_{2}|a_{2}\\rangle\n",
    "\\end{equation}\n",
    "também é um autovetor de $A$ correspondente ao mesmo autovalor $a_{1}=a_{2}=:a_{12}$. Nesse caso, poderíamos escrever \n",
    "\\begin{equation}\n",
    "A= a_{12}\\Pi_{a_{12}}+\\sum_{j=3}^{d_{A}}a_{j}\\Pi_{a_{j}}.\n",
    "\\end{equation}\n",
    "O projetor $\\Pi_{a_{12}}$ tem rank 2 pois envolve dois vetores ortogonais que geram um subespaço bidimensional. Uma possibilidade seria $\\Pi_{a_{12}}=\\Pi_{a_{1}}+\\Pi_{a_{2}}$, mas existem infinitas outras."
   ]
  },
  {
   "cell_type": "markdown",
   "id": "e3da26c1",
   "metadata": {},
   "source": [
    "Bom, e por que chamamos esses opedores de projetores. Considere que nosso sistema $\\mathcal{H}_{A}$ foi preparado em um estado qualquer $|\\psi\\rangle$ e medimos o observável $A$. Existem evidências experimentais que nos levam ao __postulado da repetibilidade__, que diz que se medimos um observável $A$ e obtemos o autovalor correspondente a $|a_{j}\\rangle$ e fazemos medidas subsequentes, uma imediatamente depois da outra (ou isolamos completamente o sistema entre medidas) obteremos 100% da vezes o resultado $|a_{j}\\rangle$. Ou seja\n",
    "\\begin{equation}\n",
    "|\\psi\\rangle \\xrightarrow[\\text{obtém } a_{j}]{\\text{mede } A} |a_{j}\\rangle = \\frac{|a_{j}\\rangle\\langle a_{j}|\\psi\\rangle}{|||a_{j}\\rangle\\langle a_{j}|\\psi\\rangle||}  = \\frac{\\Pi_{a_{j}}|\\psi\\rangle}{||\\Pi_{a_{j}}|\\psi\\rangle||}.\n",
    "\\end{equation}\n",
    "Como o estado antes da medida pode ser escrito como \n",
    "\\begin{equation}\n",
    "|\\psi\\rangle = \\sum_{j=1}^{d_{A}}c_{j}|a_{j}\\rangle = \\sum_{j=1}^{d_{A}}\\langle a_{j}|\\psi\\rangle|a_{j}\\rangle,\n",
    "\\end{equation}\n",
    "se $a_{j}$ é obtido ao medir $A$, então o estado $|\\psi\\rangle$ é projetado na direção de $|a_{j}\\rangle$, uma \"ação\" que pode ser descrita pelo operador $\\Pi_{a_{j}}.$ "
   ]
  },
  {
   "cell_type": "markdown",
   "id": "185d5059",
   "metadata": {},
   "source": [
    "Agora, se temos incerteza sobre a preparação do estado do sistema e este é descrito pelo operador densidade\n",
    "\\begin{equation}\n",
    "\\rho = \\sum_{k}p_{k}|\\psi_{k}\\rangle\\langle\\psi_{k}|,\n",
    "\\end{equation}\n",
    "com $0\\le p_{k}\\le 1$, $\\sum_{k}p_{k}=1$ e $|\\psi_{k}\\rangle$, pela interpretação do ensemble\n",
    "\\begin{equation}\n",
    "\\rho \\equiv \\{p_{k},|\\psi_{k}\\rangle\\},\n",
    "\\end{equation}\n",
    "teremos que, ao medir $A$ e obter $a_{j}$, se o estado do sistema for $|\\psi_{k}\\rangle$ então será projetado para\n",
    "\\begin{equation}\n",
    "|\\psi_{k}\\rangle \\xrightarrow[\\text{obtém } a_{j}]{\\text{mede } A} |a_{j}\\rangle = \\frac{\\Pi_{a_{j}}|\\psi_{k}\\rangle}{||\\Pi_{a_{j}}|\\psi_{k}\\rangle||}.\n",
    "\\end{equation}\n",
    "Aplicando ao operador densidade, teremos\n",
    "\\begin{equation}\n",
    "\\rho \\xrightarrow[\\text{obtém } a_{j}]{\\text{mede } A} \\frac{\\sum_{k}p_{k}\\Pi_{a_{j}}|\\psi_{k}\\rangle\\langle\\psi_{k}|\\Pi_{a_{j}}}{Tr\\big(\\sum_{k}p_{k}\\Pi_{a_{j}}|\\psi_{k}\\rangle\\langle\\psi_{k}|\\Pi_{a_{j}}\\big)} = \\frac{\\Pi_{a_{j}}\\rho\\Pi_{a_{j}}}{Tr\\big(\\Pi_{a_{j}}\\rho\\Pi_{a_{j}}\\big)},\n",
    "\\end{equation}"
   ]
  },
  {
   "cell_type": "markdown",
   "id": "b4d74d29",
   "metadata": {},
   "source": [
    "Vale observar, relacionado a probabilidades, que pela regra de Born teremos\n",
    "\\begin{align}\n",
    "Pr(a_{j}|\\psi) & = |\\langle a_{j}|\\psi\\rangle|^{2} \\\\\n",
    "& = \\langle\\psi|a_{j}\\rangle\\langle a_{j}|\\psi\\rangle = \\langle\\psi|\\Pi_{a_{j}}|\\psi\\rangle = Tr(\\Pi_{a_{j}}|\\psi\\rangle\\langle\\psi|)\n",
    "\\end{align}\n",
    "e\n",
    "\\begin{align}\n",
    "Pr(a_{j}|\\rho) & = \\sum_{k}p_{k}Pr(a_{j}|\\psi_{k}) = \\sum_{k}p_{k}Tr(\\Pi_{a_{j}}|\\psi_{k}\\rangle\\langle\\psi_{k}|) \\\\\n",
    "& = Tr\\big(\\Pi_{a_{j}}\\sum_{k}p_{k}|\\psi_{k}\\rangle\\langle\\psi_{k}|\\big) = Tr\\big(\\Pi_{a_{j}}\\rho\\big) = Tr\\big(\\Pi_{a_{j}}\\rho\\Pi_{a_{j}}\\big).\n",
    "\\end{align}"
   ]
  },
  {
   "cell_type": "markdown",
   "id": "9cf1cee3",
   "metadata": {},
   "source": [
    "## Medidas MVOPs\n",
    "Uma maneira simples de introduzir a razoabilidade de usarmos MVOPs é usando\n",
    "\\begin{align}\n",
    "Pr(a_{j}|\\psi) & = \\langle\\psi|\\Pi_{a_{j}}|\\psi\\rangle = \\langle\\psi|\\Pi_{a_{j}}\\Pi_{a_{j}}|\\psi\\rangle = \\langle\\psi|\\Pi_{a_{j}}^{\\dagger}\\Pi_{a_{j}}|\\psi\\rangle  \\\\\n",
    "& =: \\langle\\psi|E_{j}|\\psi\\rangle,\n",
    "\\end{align}\n",
    "onde definimos\n",
    "\\begin{equation}\n",
    "E_{j} := \\Pi_{a_{j}}^{\\dagger}\\Pi_{a_{j}}.\n",
    "\\end{equation}\n",
    "É fácil ver que esses operadores são positivos semidefinidos:\n",
    "\\begin{equation}\n",
    "\\langle\\psi|E_{j}|\\psi\\rangle = \\langle\\psi|\\Pi_{a_{j}}^{\\dagger}\\Pi_{a_{j}}|\\psi\\rangle = \\langle\\phi|\\phi\\rangle\\ge0 \\ \\therefore\\ E_{j}\\ge\\mathbb{O}. \n",
    "\\end{equation}\n",
    "Ademais, como para $\\Pi_{a_{j}}$ sendo projetores temos \n",
    "\\begin{equation}\n",
    "E_{j} = \\Pi_{a_{j}}^{\\dagger}\\Pi_{a_{j}} = \\Pi_{a_{j}}\\Pi_{a_{j}} = \\Pi_{a_{j}}^{2} = \\Pi_{a_{j}},\n",
    "\\end{equation}\n",
    "vem que\n",
    "\\begin{equation}\n",
    "\\sum_{j}E_{j} = \\sum_{j}\\Pi_{a_{j}} = \\mathbb{I}_{A}.\n",
    "\\end{equation}"
   ]
  },
  {
   "cell_type": "markdown",
   "id": "9eb53490",
   "metadata": {},
   "source": [
    "Visto isto, podemos supor que qualquer conjunto de operadores\n",
    "\\begin{equation}\n",
    "E_{j} = M_{j}^{\\dagger}M_{j},\n",
    "\\end{equation}\n",
    "com $M_{j}$ sendo operadores lineares quaisquer em $\\mathcal{H}_{A}$ (não necessariamente projetores), tais que\n",
    "\\begin{equation}\n",
    "E_{j}\\le \\mathbb{I}_{A} \\text{ e } \\sum_{j}E_{j} = \\mathbb{I}_{A},\n",
    "\\end{equation}\n",
    "nos fornecerá uma distribuição válida de probabilidades pois\n",
    "\\begin{align}\n",
    "Pr(E_{j}|\\rho) = \\sum_{k}p_{k}Pr(E_{j}|\\psi_{k}\\rangle) := \\sum_{k}p_{k}\\langle\\psi_{k}|E_{j}|\\psi_{k}\\rangle \\ge 0 \n",
    "\\end{align}\n",
    "e\n",
    "\\begin{align}\n",
    "\\sum_{j}Pr(E_{j}|\\rho) & = \\sum_{j}\\sum_{k}p_{k}\\langle\\psi_{k}|E_{j}|\\psi_{k}\\rangle = \\sum_{k}p_{k}\\langle\\psi_{k}|\\sum_{j}E_{j}|\\psi_{k}\\rangle \\\\\n",
    "& = \\sum_{k}p_{k}\\langle\\psi_{k}|\\mathbb{I}_{A}|\\psi_{k}\\rangle = \\sum_{k}p_{k} = 1.\n",
    "\\end{align}\n",
    "\n",
    "Uma grande diferença em relação a medidas projetivas é que, como $M_{j}$ são operadores quaisquer que satisfazem $\\sum_{j}M_{j}^{\\dagger}M_{j}=\\mathbb{I}_{A}$, o número de elementos $\\{E_{j}\\}$ da MVOPs pode ser menor, igual ou maior que a dimensão do espaço de estados $\\mathcal{H}_{A}.$"
   ]
  },
  {
   "cell_type": "markdown",
   "id": "da0a9376",
   "metadata": {},
   "source": [
    "## Aplicação em distinguibilidade de estados\n",
    "\n",
    "### Teorema\n",
    "É impossível distinguir com certeza estados não ortogonais usando medidas projetivas em um único sistema.\n",
    "#### Prova\n",
    "Considere que um qubit é preparado em um dos estados não ortogonais conhecidos\n",
    "\\begin{equation}\n",
    "|\\psi_{1}\\rangle \\text{ ou } |\\psi_{2}\\rangle \\text{, com } \\langle\\psi_{1}|\\psi_{2}\\rangle\\ne0,\n",
    "\\end{equation}\n",
    "mas não sabemos em qual.\n",
    "Queremos, medindo algum observável deste sistema, determinar com certeza em qual estado o sistema foi preparado. Vamos provar que isso é impossível por contradição. Se for possível, então teremos projetores $\\Pi_{1}$ e $\\Pi_{2}$ tais que\n",
    "\\begin{equation}\n",
    "Pr(\\Pi_{1}|\\psi_{1}) = \\langle\\psi_{1}|\\Pi_{1}|\\psi_{1}\\rangle = 1 \\text{ e } Pr(\\Pi_{2}|\\psi_{2}) = \\langle\\psi_{2}|\\Pi_{2}|\\psi_{2}\\rangle = 1,\n",
    "\\end{equation}\n",
    "com $\\Pi_{1}\\Pi_{1}=\\Pi_{1}$, $\\Pi_{2}\\Pi_{2}=\\Pi_{2}$, $\\Pi_{1}\\Pi_{2}=\\mathbb{O}$ e $\\Pi_{1}+\\Pi_{2}=\\mathbb{I}$. Seguindo, escrevemos \n",
    "\\begin{equation}\n",
    "|\\psi_{2}\\rangle = \\alpha|\\psi_{1}\\rangle+\\beta|\\phi\\rangle\n",
    "\\end{equation}\n",
    "com $\\langle\\phi|\\psi_{1}\\rangle=0$, $|\\alpha|^{2}+|\\beta|^{2}=1$ e $|\\beta|<1$ pois $|\\psi_{2}\\rangle$ e $|\\psi_{1}\\rangle$ não são ortogonais. Usando \n",
    "\\begin{align}\n",
    "\\langle\\phi|\\Pi_{2}|\\phi\\rangle & < \\langle\\phi|\\Pi_{1}|\\phi\\rangle + \\langle\\phi|\\Pi_{2}|\\phi\\rangle = \\langle\\phi|(\\Pi_{1}+\\Pi_{2})|\\phi\\rangle = \\langle\\phi|\\mathbb{I}|\\phi\\rangle = 1\n",
    "\\end{align}"
   ]
  },
  {
   "cell_type": "markdown",
   "id": "d1048b77",
   "metadata": {},
   "source": [
    "e\n",
    "\\begin{align}\n",
    "& 1 = \\langle\\psi_{1}|\\mathbb{I}|\\psi_{1}\\rangle = \\langle\\psi_{1}|(\\Pi_{1}+\\Pi_{2})|\\psi_{1}\\rangle = \\langle\\psi_{1}|\\Pi_{1}|\\psi_{1}\\rangle + \\langle\\psi_{1}|\\Pi_{2}|\\psi_{1}\\rangle \\\\\n",
    "& = 1 + \\langle\\psi_{1}|\\Pi_{2}|\\psi_{1}\\rangle \\\\\n",
    "& \\therefore \\langle\\psi_{1}|\\Pi_{2}|\\psi_{1}\\rangle = \\langle\\psi_{1}|\\sqrt{\\Pi_{2}}\\sqrt{\\Pi_{2}}|\\psi_{1}\\rangle = 0 \\ \\therefore\\ \\sqrt{\\Pi_{2}}|\\psi_{1}\\rangle=|\\oslash\\rangle\n",
    "\\end{align}\n",
    "vem que\n",
    "\\begin{align}\n",
    "\\langle\\psi_{2}|\\Pi_{2}|\\psi_{2}\\rangle & = \\big(\\alpha^{*}\\langle\\psi_{1}|+\\beta^{*}\\langle\\phi|\\big)\\Pi_{2}\\big(\\alpha|\\psi_{1}\\rangle+\\beta|\\phi\\rangle\\big) \\\\\n",
    "& = |\\alpha|^{2}\\langle\\psi_{1}|\\Pi_{2}|\\psi_{1}\\rangle + \\alpha^{*}\\beta\\langle\\psi_{1}|\\Pi_{2}|\\phi\\rangle + \\alpha\\beta^{*}\\langle\\phi|\\Pi_{2}|\\psi_{1}\\rangle + |\\beta|^{2}\\langle\\phi|\\Pi_{2}|\\phi\\rangle \\\\\n",
    "& = 0 + \\alpha^{*}\\beta\\langle\\psi_{1}|\\sqrt{\\Pi_{2}}\\sqrt{\\Pi_{2}}|\\phi\\rangle + \\alpha\\beta^{*}\\langle\\phi|\\sqrt{\\Pi_{2}}\\sqrt{\\Pi_{2}}|\\psi_{1}\\rangle + |\\beta|^{2}\\langle\\phi|\\Pi_{2}|\\phi\\rangle \\\\\n",
    "& = \\alpha^{*}\\beta\\langle\\oslash|\\sqrt{\\Pi_{2}}|\\phi\\rangle + \\alpha\\beta^{*}\\langle\\phi|\\sqrt{\\Pi_{2}}|\\oslash\\rangle + |\\beta|^{2}\\langle\\phi|\\Pi_{2}|\\phi\\rangle \\\\\n",
    "& = 0 + 0 + |\\beta|^{2}\\langle\\phi|\\Pi_{2}|\\phi\\rangle \\\\\n",
    "& \\le |\\beta|^{2} < 1.\n",
    "\\end{align}\n",
    "Mas isso contradiz nossa suposição inicial (de que $\\langle\\psi_{2}|\\Pi_{2}|\\psi_{2}\\rangle=1$), mostrando assim que não é possível distuinguir estados não ortogonais usando medidas projetivas. $\\hspace{2cm} \\square$"
   ]
  },
  {
   "cell_type": "markdown",
   "id": "628eb0ad",
   "metadata": {},
   "source": [
    "### Usando MVOPs para distuinguir estados não ortogonais\n",
    "Vamos considerar uma medida MVOP com elementos\n",
    "\\begin{align}\n",
    "& E_{1} = \\frac{\\sqrt{2}}{1+\\sqrt{2}}|\\psi_{1}^{\\perp}\\rangle\\langle \\psi_{1}^{\\perp}|, \\\\\n",
    "& E_{2} = \\frac{\\sqrt{2}}{1+\\sqrt{2}}|\\psi_{2}^{\\perp}\\rangle\\langle \\psi_{2}^{\\perp}|, \\\\\n",
    "& E_{3} = \\mathbb{I} - E_{1} - E_{2},\n",
    "\\end{align}\n",
    "com $\\langle\\psi_{j}^{\\perp}|\\psi_{j}\\rangle=0$ para $j=1,2$.\n",
    "É fácil ver que $E_{1},E_{2}\\ge \\mathbb{O}$, pois\n",
    "\\begin{equation}\n",
    "\\langle\\psi|E_{j}|\\psi\\rangle = \\frac{\\sqrt{2}}{1+\\sqrt{2}}|\\langle\\psi|\\psi_{j}^{\\perp}\\rangle|^{2}\\ge 0\\ \\forall\\ |\\psi\\rangle.\n",
    "\\end{equation}\n",
    "\n",
    "Da maneira como foi definido, obviamente $E_{1}+E_{2}+E_{3}=\\mathbb{I}$. O que não é trivial de ver é se $E_{1}+E_{2}\\le\\mathbb{I}$, o que garantiria que $E_{3}\\ge\\mathbb{O}$. <br>\n",
    "__Exercício:__ Verifique se $E_{1}+E_{2}\\le\\mathbb{I}$. <br>\n",
    "Por agora, vamos assumir que eles satisfazem as condições exigidas para os elementos de uma MVOP.\n",
    "\n",
    "OBS. Para sistemas de dois níveis, $|\\psi_{1}^{\\perp}\\rangle$ e $|\\psi_{2}^{\\perp}\\rangle$ são unicamente definidos.\n",
    "\n",
    "De forma geral, vemos que\n",
    "\\begin{align}\n",
    "& |\\psi_{1}\\rangle \\text{ foi preparado } \\therefore\\ Pr(E_{1}) = \\langle\\psi_{1}|E_{1}|\\psi_{1}\\rangle = 0, \\\\\n",
    "& |\\psi_{2}\\rangle \\text{ foi preparado } \\therefore\\ Pr(E_{2}) = \\langle\\psi_{2}|E_{2}|\\psi_{2}\\rangle = 0.\n",
    "\\end{align}\n",
    "Por conseguinte, se ao fazer a medida MVOP com os elementos $\\{E_{1},E_{2},E_{3}\\}$ temos:\n",
    "\\begin{align}\n",
    "& \\text{Obtém } E_{1}\\ \\therefore\\ \\text{ o estado preparado foi } |\\psi_{2}\\rangle, \\\\\n",
    "& \\text{Obtém } E_{2}\\ \\therefore\\ \\text{ o estado preparado foi } |\\psi_{1}\\rangle, \\\\\n",
    "& \\text{Obtém } E_{3}\\ \\therefore\\ \\text{ não podemos concluir nada. }\n",
    "\\end{align}\n",
    "Vemos assim que essa medida POVM nos possibilita distinguir perfeitamente qual dos dois estados foi preparado, com o ônus de que quando o resultado $E_{3}$ for obtido não podemos concluir nada sobre a preparação de estado. "
   ]
  },
  {
   "cell_type": "markdown",
   "id": "7c3818e9",
   "metadata": {},
   "source": [
    "Vamos analisar agora a frequência relativa com que a MVOP não nos permite concluir nada a respeito do estado preparado. Teremos que\n",
    "\\begin{align}\n",
    "Pr(E_{3}) & = Pr(E_{3}|\\psi_{1}) + Pr(E_{3}|\\psi_{2}) \\\\\n",
    "& = \\langle\\psi_{1}|E_{3}|\\psi_{1}\\rangle + \\langle\\psi_{2}|E_{3}|\\psi_{2}\\rangle \\\\\n",
    "& = \\langle\\psi_{1}|(\\mathbb{I} - E_{1} - E_{2})|\\psi_{1}\\rangle + \\langle\\psi_{2}|(\\mathbb{I} - E_{1} - E_{2})|\\psi_{2}\\rangle \\\\\n",
    "& = 1 - \\langle\\psi_{1}|E_{1}|\\psi_{1}\\rangle - \\langle\\psi_{1}|E_{2}|\\psi_{1}\\rangle + 1 - \\langle\\psi_{2}|E_{1}|\\psi_{2}\\rangle - \\langle\\psi_{2}|E_{2}|\\psi_{2}\\rangle \\\\\n",
    "& = 2 - 0 - Pr(E_{2}|\\psi_{1}) - Pr(E_{1}|\\psi_{2}) - 0.\n",
    "\\end{align}\n",
    "\n",
    "Vamos considerar como __exemplo__ dois estados de um qubit:\n",
    "\\begin{align}\n",
    "& |\\psi_{1}\\rangle = |0\\rangle, \\\\\n",
    "& |\\psi_{2}\\rangle = \\cos(\\theta/2)|0\\rangle + e^{i\\phi}\\sin(\\theta/2)|1\\rangle.\n",
    "\\end{align}\n",
    "Neste caso teremos que\n",
    "\\begin{align}\n",
    "& E_{1} = \\frac{\\sqrt{2}}{1+\\sqrt{2}}|1\\rangle\\langle 1|, \\\\\n",
    "& E_{2} = \\frac{\\sqrt{2}}{1+\\sqrt{2}}|n_{+}^{\\perp}\\rangle\\langle n_{+}^{\\perp}|, \\\\\n",
    "\\end{align}\n",
    "com \n",
    "\\begin{equation}\n",
    "|n_{+}^{\\perp}\\rangle=-\\sin(\\theta/2)|0\\rangle+e^{i\\phi}\\cos(\\theta/2)|1\\rangle.\n",
    "\\end{equation}"
   ]
  },
  {
   "cell_type": "markdown",
   "id": "a9c0a677",
   "metadata": {},
   "source": [
    "Assim\n",
    "\\begin{align}\n",
    "Pr(E_{1}|\\psi_{2}) & = \\langle\\psi_{2}|E_{1}|\\psi_{2}\\rangle \\\\\n",
    "& = \\langle\\psi_{2}|\\frac{\\sqrt{2}}{1+\\sqrt{2}}|1\\rangle\\langle 1|\\big(\\cos(\\theta/2)|0\\rangle + e^{i\\phi}\\sin(\\theta/2)|1\\rangle\\big) \\\\\n",
    "& = \\frac{\\sqrt{2}}{1+\\sqrt{2}} \\big(\\cos(\\theta/2)\\langle 0| + e^{-i\\phi}\\sin(\\theta/2)\\langle 1|\\big)e^{i\\phi}\\sin(\\theta/2)|1\\rangle \\\\\n",
    "& = \\frac{\\sqrt{2}\\sin^{2}(\\theta/2)}{1+\\sqrt{2}}\n",
    "\\end{align}\n",
    "e\n",
    "\\begin{align}\n",
    "Pr(E_{2}|\\psi_{1}) & = \\langle\\psi_{1}|E_{2}|\\psi_{1}\\rangle = \\langle 0|\\frac{\\sqrt{2}}{1+\\sqrt{2}}|n_{+}^{\\perp}\\rangle\\langle n_{+}^{\\perp}|0\\rangle \\\\\n",
    "& = \\frac{\\sqrt{2}}{1+\\sqrt{2}}\\langle 0|\\big(-\\sin(\\theta/2)|0\\rangle+e^{i\\phi}\\cos(\\theta/2)|1\\rangle\\big)\\big(-\\sin(\\theta/2)\\langle 0|+e^{-i\\phi}\\cos(\\theta/2)\\langle 1|\\big)|0\\rangle \\\\\n",
    "& = \\frac{\\sqrt{2}\\sin^{2}(\\theta/2)}{1+\\sqrt{2}}.\n",
    "\\end{align}\n",
    "Com isso, obtemos\n",
    "\\begin{equation}\n",
    "Pr(E_{3}) = 2 \\Big(1-\\frac{\\sqrt{2}\\sin^{2}(\\theta/2)}{1+\\sqrt{2}}\\Big).\n",
    "\\end{equation}"
   ]
  },
  {
   "cell_type": "code",
   "execution_count": 8,
   "id": "ffdad8b5",
   "metadata": {},
   "outputs": [],
   "source": [
    "import numpy as np\n",
    "import matplotlib\n",
    "from matplotlib import pyplot as plt\n",
    "import math"
   ]
  },
  {
   "cell_type": "code",
   "execution_count": 13,
   "id": "131de0aa",
   "metadata": {},
   "outputs": [
    {
     "data": {
      "image/png": "[encoded data removed]",
      "text/plain": [
       "<Figure size 500x300 with 1 Axes>"
      ]
     },
     "metadata": {
      "needs_background": "light"
     },
     "output_type": "display_data"
    }
   ],
   "source": [
    "th = np.arange(0, 2*math.pi, 0.1)\n",
    "prE3 = 2*(1-(math.sqrt(2)*(np.sin(th/2)**2))/(1+math.sqrt(2)))\n",
    "matplotlib.rcParams.update({'font.size':10})\n",
    "plt.figure(figsize = (5,3), dpi = 100)\n",
    "plt.plot(th, prE3)\n",
    "plt.xlabel(r'$\\theta$')\n",
    "plt.ylabel(r'$Pr(E_{3})$')\n",
    "plt.show()"
   ]
  },
  {
   "cell_type": "markdown",
   "id": "837ad7da",
   "metadata": {},
   "source": [
    "Em geral, a probabilidade de resposta inconclusiva é bem alta. É $>0.8$ mesmo para estados ortogonais $|\\psi_{1}\\rangle=|0\\rangle$ e $|\\psi_{1}(\\theta=\\pi)\\rangle=|1\\rangle$.\n",
    "\n",
    "Note que a probabilidade $Pr(E_{3})$ pode ser $>1$, poder ser inclusive $=2$ pois estamos considerando duas preparações de estado, de $|\\psi_{1}\\rangle$ e de $|\\psi_{2}\\rangle$."
   ]
  },
  {
   "cell_type": "markdown",
   "id": "048d508d",
   "metadata": {},
   "source": [
    "## Medidas quânticas gerais\n",
    "No caso das MVOPs, não temos a descrição do estado pós medida, só temos a estatística para as diferentes possibilidades (os diferentes elementos da MVOP). Nesse sentido, as MVOPs são um caso particular da seguinte descrição geral de medidas em MQ.\n",
    "\n",
    "### Postulado das medidas (geral)\n",
    "A medida mais geral em MQ é descrita por operadores de medida $\\{M_{j}\\}$ que satisfazem a restrição:\n",
    "\\begin{equation}\n",
    "\\sum_{j}M_{j}^{\\dagger}M_{j} = \\mathbb{I}_{A}.\n",
    "\\end{equation}\n",
    "Se o sistema $A$ foi preparado em um estado puro $|\\psi\\rangle$, a probabilidade de obtermos o resultado representado por $M_{j}$ é dada por\n",
    "\\begin{equation}\n",
    "Pr(M_{j}|\\psi) = \\langle\\psi|M_{j}^{\\dagger}M_{j}|\\psi\\rangle\n",
    "\\end{equation}\n",
    "e o estado pós-medida é\n",
    "\\begin{equation}\n",
    "|\\psi\\rangle \\xrightarrow[]{\\text{obtém } M_{j}} \\frac{M_{j}|\\psi\\rangle}{||M_{j}|\\psi\\rangle||} = \\frac{M_{j}|\\psi\\rangle}{\\sqrt{\\langle\\psi| M_{j}^{\\dagger}M_{j}|\\psi\\rangle}} = \\frac{M_{j}|\\psi\\rangle}{\\sqrt{Pr(M_{j}|\\psi)}}.\n",
    "\\end{equation}"
   ]
  },
  {
   "cell_type": "markdown",
   "id": "ca65c118",
   "metadata": {},
   "source": [
    "Se o sistema $A$ foi preparado no estado $\\rho\\equiv\\{|\\psi_{k}\\rangle,p_{k}\\}$, a probabilidade de obtermos o resultado representado por $M_{j}$ é dada por (__exercício__)\n",
    "\\begin{equation}\n",
    "Pr(M_{j}|\\rho) = Tr\\big(M_{j}\\rho M_{j}^{\\dagger}\\big)\n",
    "\\end{equation}\n",
    "e o estado pós-medida é (__exercício__)\n",
    "\\begin{equation}\n",
    "\\rho \\xrightarrow[]{\\text{obtém } M_{j}} \\frac{M_{j}\\rho M_{j}^{\\dagger}}{Tr\\big(M_{j}\\rho M_{j}^{\\dagger}\\big)} = \\frac{M_{j}\\rho M_{j}^{\\dagger}}{Pr\\big(M_{j}|\\rho\\big)}.\n",
    "\\end{equation}\n",
    "\n",
    "Podemos também incluir MVOPs nesse formalismo de medidas gerais. De\n",
    "\\begin{equation}\n",
    "Pr(E_{j}|\\psi) = \\langle\\psi|E_{j}|\\psi\\rangle = \\langle\\psi|\\sqrt{E_{j}}\\sqrt{E_{j}}|\\psi\\rangle\n",
    "\\end{equation}\n",
    "podemos identificar\n",
    "\\begin{equation}\n",
    "M_{j} = \\sqrt{E_{j}} = M_{j}^{\\dagger},\n",
    "\\end{equation}\n",
    "pois $\\sqrt{E_{j}}$ é um operador positivo (hermitiano). Com isso, poderíamos obter o estado pós-medida usando\n",
    "\\begin{equation}\n",
    "|\\psi\\rangle \\xrightarrow[]{\\text{obtém }E_{j}} \\frac{\\sqrt{E_{j}}|\\psi\\rangle}{Pr(E_{j}|\\psi)}.\n",
    "\\end{equation}"
   ]
  },
  {
   "cell_type": "markdown",
   "id": "76385cd8",
   "metadata": {},
   "source": [
    "#### Relação de completeza\n",
    "A relação de completeza imposta acima garante que as probabilidades somam para um:\n",
    "\\begin{align}\n",
    "\\sum_{j}Pr(M_{j}|\\rho) & = \\sum_{j}Tr\\big(M_{j}\\rho M_{j}^{\\dagger}\\big) = \\sum_{j}Tr\\big(M_{j}^{\\dagger}M_{j}\\rho\\big) \\\\\n",
    "& = Tr\\big(\\sum_{j}M_{j}^{\\dagger}M_{j}\\rho\\big) = Tr(\\rho) = 1\n",
    "\\end{align}\n",
    "se\n",
    "\\begin{equation}\n",
    "\\sum_{j}M_{j}^{\\dagger}M_{j} = \\mathbb{I}.\n",
    "\\end{equation}"
   ]
  },
  {
   "cell_type": "markdown",
   "id": "e68a3fe4",
   "metadata": {},
   "source": [
    "#### Relação de completeza alternativa\n",
    "Notamos que devemos ter $\\sum_{j}Pr(M_{j}|\\rho)=1$ para qualquer estado $\\rho$ e medida geral $\\{M_{j}\\}$. Vamos escolher \n",
    "\\begin{equation}\n",
    "\\rho=\\mathbb{I}/d,\n",
    "\\end{equation}\n",
    "com $d$ sendo a dimensão do espaço de estados do sistema no qual estamos fazendo uma medida geral. Com isso teremos que\n",
    "\\begin{align}\n",
    "1 & = \\sum_{j}Pr(M_{j}|\\rho) = \\sum_{j}Tr(M_{j}\\rho M_{j}^{\\dagger}) = Tr\\Big(\\sum_{j}M_{j}(\\mathbb{I}/d)M_{j}^{\\dagger}\\Big) \\\\\n",
    "& = \\frac{1}{d}Tr\\Big(\\sum_{j}M_{j}M_{j}^{\\dagger}\\Big) = \\frac{1}{d}Tr(\\mathbb{I}) = \\frac{1}{d}d,  \n",
    "\\end{align}\n",
    "o que é obtido se fazemos\n",
    "\\begin{equation}\n",
    "\\sum_{j}M_{j}M_{j}^{\\dagger} = \\mathbb{I}.\n",
    "\\end{equation}"
   ]
  },
  {
   "cell_type": "markdown",
   "id": "5de534c9",
   "metadata": {},
   "source": [
    "## Implementação \"unitária\" de medidas gerais\n",
    "Vamos considerar que nosso sistema de interesse está preparado no estado $\\rho_{A}=\\sum_{jk}\\rho_{jk}^{A}|j\\rangle_{A}\\langle k|$ e que um sistema auxiliar está preparado no estado $|0\\rangle_{B}$. Consideremos uma base $\\{|j\\rangle_{A}\\}$ e uma transformação unitária $U_{AB}$ que atua da seguinte forma\n",
    "\\begin{equation}\n",
    "U_{AB}|j\\rangle_{A}\\otimes|0\\rangle_{B} := \\sum_{k}(M_{k}|j\\rangle_{A})\\otimes|k\\rangle_{B},\n",
    "\\end{equation}\n",
    "em que $M_{j}$ atuam em vetores de $A$ e $\\{|k\\rangle_{B}\\}$ é uma base ortonormal de $B$. Com isso, vem que\n",
    "\\begin{align}\n",
    "U_{AB}(\\rho_{A}\\otimes|0\\rangle_{B}\\langle0|)U_{AB}^{\\dagger} & = U_{AB}\\sum_{jk}\\rho_{jk}^{A}|j\\rangle_{A}\\langle k|\\otimes|0\\rangle_{B}\\langle0|U_{AB}^{\\dagger} \\\\\n",
    "& = \\sum_{jk}\\rho_{jk}^{A}U_{AB}(|j\\rangle_{A}\\otimes|0\\rangle_{B})(\\langle k|\\otimes\\langle0|)U_{AB}^{\\dagger} \\\\\n",
    "& = \\sum_{jk}\\rho_{jk}^{A}\\sum_{l}(M_{l}|j\\rangle_{A})\\otimes|l\\rangle_{B}\\sum_{m}(\\langle k|M_{m}^{\\dagger})\\otimes\\langle m| \\\\\n",
    "& = \\sum_{lm}M_{l}\\sum_{jk}\\rho_{jk}^{A}|j\\rangle_{A}\\langle k|M_{m}^{\\dagger}\\otimes|l\\rangle_{B}\\langle m| \\\\\n",
    "& = \\sum_{lm}M_{l}\\rho_{A}M_{m}^{\\dagger}\\otimes|l\\rangle_{B}\\langle m| \\\\\n",
    "& =: \\tilde{\\rho}_{AB}.\n",
    "\\end{align}"
   ]
  },
  {
   "cell_type": "markdown",
   "id": "555bfa45",
   "metadata": {},
   "source": [
    "Se, depois de aplicar $U_{AB}$, fazemos uma medida projetiva na base $\\{|j\\rangle_{B}\\}$ de $B$, e o resultado obtido é $|j\\rangle_{B}$, o estado pós-medida é\n",
    "\\begin{align}\n",
    "\\tilde{\\rho}_{AB} \\xrightarrow[\\text{obtém } b_{j}]{\\text{mede }\\mathcal{B}=\\sum_{j}b_{j}|j\\rangle_{B}\\langle j|} & \\frac{1}{N}(\\mathbb{I}_{A}\\otimes|j\\rangle_{B}\\langle j|)\\tilde{\\rho}_{AB}(\\mathbb{I}_{A}\\otimes|j\\rangle_{B}\\langle j|) \\\\\n",
    "& \\frac{1}{N}(\\mathbb{I}_{A}\\otimes|j\\rangle_{B}\\langle j|)\\sum_{lm}M_{l}\\rho_{A}M_{m}^{\\dagger}\\otimes|l\\rangle_{B}\\langle m|(\\mathbb{I}_{A}\\otimes|j\\rangle_{B}\\langle j|) \\\\\n",
    "& = \\frac{1}{N}M_{j}\\rho_{A}M_{j}^{\\dagger}\\otimes|j\\rangle_{B}\\langle j|,\n",
    "\\end{align}\n",
    "em que $N$ é o fator de normalização\n",
    "\\begin{equation}\n",
    "N := Tr_{AB}\\big(M_{j}\\rho_{A}M_{j}^{\\dagger}\\otimes|j\\rangle_{B}\\langle j|\\big) \\equiv Tr_{A}\\big(M_{j}\\rho_{A}M_{j}^{\\dagger}\\big).\n",
    "\\end{equation}\n",
    "Tomando-se o traço parcial de $\\tilde{\\rho}_{AB}$ sobre $B$, vemos que o estado pós-medida é\n",
    "\\begin{equation}\n",
    "\\rho_{A}\\otimes|0\\rangle_{B}\\langle 0| \\xrightarrow[]{U_{AB}\\ + \\ \\Pi_{j}^{B}\\ + \\ Tr_{B}}  \\frac{M_{j}\\rho_{A}M_{j}^{\\dagger}}{Tr_{A}\\big(M_{j}\\rho_{A}M_{j}^{\\dagger}\\big)}, \n",
    "\\end{equation}\n",
    "que é o mesmo estado obtido ao fazer uma medida geral em $A$, preparado no estado $\\rho_{A}$, e obter o resultado $M_{j}$."
   ]
  },
  {
   "cell_type": "markdown",
   "id": "d4698419",
   "metadata": {},
   "source": [
    "Precisamos verificar ainda que a estatísitica obtida também é a mesma. Para o sistema composto preparado no estado $\\tilde{\\rho}_{AB}$ e para uma medida de um observável com autovetores $|j\\rangle_{B}$ no sistema $B$, a probabilidade de um desses autovetores é\n",
    "\\begin{align}\n",
    "Pr(j_{B}|\\tilde{\\rho}_{AB}) & = Tr_{AB}\\big((\\mathbb{I}_{A}\\otimes|j\\rangle_{B}\\langle j|)\\tilde{\\rho}_{AB}\\big) \\\\\n",
    "& = Tr_{AB}\\big((\\mathbb{I}_{A}\\otimes|j\\rangle_{B}\\langle j|) \\sum_{lm}M_{l}\\rho_{A}M_{m}^{\\dagger}\\otimes|l\\rangle_{B}\\langle m|\\big) \\\\\n",
    "& = \\sum_{lm}Tr_{A}(M_{l}\\rho_{A}M_{m}^{\\dagger})\\otimes Tr_{B}(|j\\rangle_{B}\\langle j|l\\rangle_{B}\\langle m|) \\\\\n",
    "& = \\sum_{lm}Tr_{A}(M_{l}\\rho_{A}M_{m}^{\\dagger})\\otimes \\delta_{jl}\\delta_{jm} \\\\\n",
    "& = Tr_{A}(M_{j}\\rho_{A}M_{j}^{\\dagger}) = Pr(M_{j}|\\rho_{A}).\n",
    "\\end{align}"
   ]
  },
  {
   "cell_type": "markdown",
   "id": "fc094f77",
   "metadata": {},
   "source": [
    "##### Solução dos exercícios\n",
    "Usamos a interpretação de que o operador densidade representa uma preparação tal que sabemos que o estado puro $|\\psi_{k}\\rangle$ foi preparado com probabilidade $p_{k}$. Cada quanton que \"recebemos\" está definitivamente no estado $|\\psi_{k}\\rangle$, só não sabemos o valor de $k$.\n",
    "\n",
    "Para o cálculo da probabilidade $Pr(M_{j}|\\rho)$ considere que $\\rho=\\sum_{k}p_{k}|\\psi_{k}\\rangle\\langle\\psi_{k}|$ é uma variável aleatória que pode assumir os valores $|\\psi_{k}\\rangle$ com probabilidades $p_{k}$. Como as probabilidades se conservam para funções da variável aleatória, podemos considerar a probabilidade média\n",
    "\\begin{align}\n",
    "Pr(M_{j}|\\rho) & = \\sum_{k}p_{k}Pr(M_{j}|\\psi_{k}) = \\sum_{k}p_{k}\\langle\\psi_{k}|M_{j}^{\\dagger}M_{j}|\\psi_{k}\\rangle  = \\sum_{k}p_{k}\\langle\\phi_{k}|\\phi_{k}\\rangle \\\\\n",
    "& = \\sum_{k}p_{k}Tr(|\\phi_{k}\\rangle\\langle\\phi_{k}|) = \\sum_{k}p_{k}Tr(M_{j}|\\psi_{k}\\rangle\\langle\\psi_{k}|M_{j}^{\\dagger}) \\\\\n",
    "& = Tr(M_{j}\\sum_{k}p_{k}|\\psi_{k}\\rangle\\langle\\psi_{k}|M_{j}^{\\dagger}) = Tr(M_{j}\\rho M_{j}^{\\dagger}).\n",
    "\\end{align}"
   ]
  },
  {
   "cell_type": "markdown",
   "id": "ac07b9e6",
   "metadata": {},
   "source": [
    "Com relação ao estado pós-medida, sabemos que se o quanton chega ao aparelho de medida no estado $|\\psi_{k}\\rangle$ e obtemos o resultado $M_{j}$, o estado pós-medida é proporcional a $M_{j}|\\psi_{k}\\rangle$. Como não sabemos qual $k$ entrou no aparelho de medida, também não sabemos qual $k$ saiu. Por isso descreveremos o estado pós-medida como uma mistúra estatística $\\{p_{k},M_{j}|\\psi_{k}\\rangle\\}$. Ou seja, o estado pós-medida é\n",
    "\\begin{align}\n",
    "\\rho\\xrightarrow[]{\\text{ obtém } M_{j}} & \\sum_{k}p_{k}M_{j}|\\psi_{k}\\rangle\\langle\\psi_{k}|M_{j}^{\\dagger} =  M_{j}\\sum_{k}p_{k}|\\psi_{k}\\rangle\\langle\\psi_{k}|M_{j}^{\\dagger} \\\\\n",
    "& = M_{j}\\rho M_{j}^{\\dagger}.\n",
    "\\end{align}\n",
    "Normalizando teremos\n",
    "\\begin{equation}\n",
    "\\rho\\xrightarrow[]{\\text{ obtém } M_{j}} \\frac{M_{j}\\rho M_{j}^{\\dagger}}{Tr(M_{j}\\rho M_{j}^{\\dagger})}.\n",
    "\\end{equation}"
   ]
  },
  {
   "cell_type": "code",
   "execution_count": null,
   "id": "ee2d32f5",
   "metadata": {},
   "outputs": [],
   "source": []
  }
 ],
 "metadata": {
  "kernelspec": {
   "display_name": "Python 3 (ipykernel)",
   "language": "python",
   "name": "python3"
  },
  "language_info": {
   "codemirror_mode": {
    "name": "ipython",
    "version": 3
   },
   "file_extension": ".py",
   "mimetype": "text/x-python",
   "name": "python",
   "nbconvert_exporter": "python",
   "pygments_lexer": "ipython3",
   "version": "3.9.13"
  }
 },
 "nbformat": 4,
 "nbformat_minor": 5
}
