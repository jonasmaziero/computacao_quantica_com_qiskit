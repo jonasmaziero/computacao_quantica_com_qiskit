{
 "cells": [
  {
   "cell_type": "markdown",
   "id": "6efd9a9c",
   "metadata": {},
   "source": [
    "### Notas de aula de Computação Quântica <br> Autor: Jonas Maziero"
   ]
  },
  {
   "cell_type": "markdown",
   "id": "425eaf5c",
   "metadata": {},
   "source": [
    "# Instrumentos Quânticos\n",
    "Um instrumento quântico descreve a dinâmica mais geral quando a entrada é um estado quântico e a saída é um estado quântico mais uma variável clássica:\n",
    "\\begin{equation}\n",
    "\\Gamma:D(\\mathcal{H}_{A})\\rightarrow D(\\mathcal{H}_{B})\\times J.\n",
    "\\end{equation}\n",
    "Esse tipo de dinâmica pode ser útil para descrever situações em que Alice quer enviar tanto informação quântica quanto informação clássica para Bob.\n",
    "\n",
    "## Introdução\n",
    "A dinâmica quântica mais geral pode ser descrita por um mapa completamente positivo que preserva o traço (CPTP):\n",
    "\\begin{equation}\n",
    "\\Lambda(\\rho_{A}) = \\sum_{j}K_{j}\\rho_{A} K_{j}^{\\dagger}\n",
    "\\end{equation}\n",
    "com os operadores de Kraus $K:\\mathcal{H}_{A}\\rightarrow\\mathcal{H}_{B}$ satisfazendo a restrição\n",
    "\\begin{equation}\n",
    "\\sum_{j}K_{j}^{\\dagger}K_{j} = \\mathbb{I},\n",
    "\\end{equation}\n",
    "o que garante que a dinâmica preserva o traço (probabilidades)."
   ]
  },
  {
   "cell_type": "markdown",
   "id": "cba3130e",
   "metadata": {},
   "source": [
    "### Medidas gerais não seletivas são mapas CPTP gerais\n",
    "Vamos considerar um sistema quântico preparado inicialmente no estado $\\rho_{A}$ e que uma medida geral é feita nesse sistema. Uma medida geral é descrita por um conjunto de operadores de medida $\\{M_{j}\\}$ que satisfaz a relação de completeza\n",
    "\\begin{equation}\n",
    "\\sum_{j}M_{j}^{\\dagger}M_{j}=\\mathbb{I}_{A}.\n",
    "\\end{equation}\n",
    "Sabemos que se o resultado $M_{j}$ é obtido, o estado pós-medida é\n",
    "\\begin{equation}\n",
    "\\rho_{A} \\xrightarrow[\\text{obtém }M_{j}]{\\text{mede } \\{M_{j}\\}} \\frac{M_{j}\\rho_{A} M_{j}^{\\dagger}}{Tr(M_{j}\\rho_{A} M_{j}^{\\dagger})}.\n",
    "\\end{equation}\n",
    "A probabilidade deste resultado ser obtido é\n",
    "\\begin{equation}\n",
    "Pr(M_{j}|\\rho_{A}) = Tr\\big(M_{j}\\rho_{A} M_{j}^{\\dagger}\\big) = Tr\\big(M_{j}^{\\dagger}M_{j}\\rho_{A}\\big) = \\langle M_{j}^{\\dagger}M_{j}\\rangle_{\\rho_{A}}.\n",
    "\\end{equation}\n",
    "\n",
    "Vimos também que esta medida geral pode ser implementada de forma coerente. Primeiro aplicamos uma tranformação uniária \n",
    "\\begin{equation}\n",
    "U_{AB}|j\\rangle_{A}\\otimes|0\\rangle_{B} := \\sum_{k}(M_{k}|j\\rangle_{A})\\otimes|k\\rangle_{B}\n",
    "\\end{equation}\n",
    "de forma que para $\\rho_{A}=\\sum_{j,k}\\rho_{j,k}^{A}|j\\rangle_{A}\\langle k|$ teremos\n",
    "\\begin{equation}\n",
    "U_{AB}(\\rho_{A}\\otimes|0\\rangle_{B}\\langle0|)U_{AB}^{\\dagger} =\\sum_{lm}M_{l}\\rho_{A}M_{m}^{\\dagger}\\otimes|l\\rangle_{B}\\langle m| =: \\tilde{\\rho}_{AB}.\n",
    "\\end{equation}"
   ]
  },
  {
   "cell_type": "markdown",
   "id": "251714f7",
   "metadata": {},
   "source": [
    "Seguindo, fazemos uma medida projetiva na base $\\{|j\\rangle_{B}\\}$ do sistema auxiliar $B$:\n",
    "\\begin{align}\n",
    "\\tilde{\\rho}_{AB} \\xrightarrow[\\text{obtém } |j\\rangle_{B}]{\\text{mede }\\{|j\\rangle_{B}\\}} \\frac{1}{Pr(j_{B}|\\tilde{\\rho}_{AB})}M_{j}\\rho_{A}M_{j}^{\\dagger}\\otimes|j\\rangle_{B}\\langle j|,\n",
    "\\end{align}\n",
    "em que o resultado $|j\\rangle_{B}$ é obtido com probabilidade\n",
    "\\begin{align}\n",
    "Pr(j_{B}|\\tilde{\\rho}_{AB}) = Tr\\big((\\mathbb{I}_{A}\\otimes|j\\rangle_{B}\\langle j|)\\tilde{\\rho}_{AB}(\\mathbb{I}_{A}\\otimes|j\\rangle_{B}\\langle j|)\\big) = Tr_{A}(M_{j}\\rho_{A}M_{j}^{\\dagger}) = Pr(M_{j}|\\rho_{A}).\n",
    "\\end{align}\n",
    "Se traçamos sobre o sistema auxiliar, obtemos o estado pós-medida do sistema $A$:\n",
    "\\begin{align}\n",
    "\\rho_{A} \\xrightarrow[]{U_{AB}+\\Pi_{j}^{B}+Tr_{B}}  \\frac{M_{j}\\rho_{A}M_{j}^{\\dagger}}{Tr(M_{j}\\rho_{A}M_{j}^{\\dagger})}.\n",
    "\\end{align}"
   ]
  },
  {
   "cell_type": "markdown",
   "id": "d4907389",
   "metadata": {},
   "source": [
    "Consideremos agora que no lugar de fazer uma seletiva no sistema $B$, fazemos uma __medida não revelada__. Como sabemos somente que o resultado $|j\\rangle_{B}$ é obtido com probabilidade $Pr(j_{B}|\\tilde{\\rho}_{AB})$, o estado que atribuiremos a esses sistemas será uma mistura estatística\n",
    "\\begin{align}\n",
    "\\tilde{\\rho}_{AB} \\xrightarrow[]{\\text{mede }\\{|j\\rangle_{B}\\}}  & \\sum_{j}Pr(j_{B}|\\tilde{\\rho}_{AB}) \\frac{(\\mathbb{I}_{A}\\otimes|j\\rangle_{B}\\langle j|)\\tilde{\\rho}_{AB}(\\mathbb{I}_{A}\\otimes|j\\rangle_{B}\\langle j|)}{Tr\\big((\\mathbb{I}_{A}\\otimes|j\\rangle_{B}\\langle j|)\\tilde{\\rho}_{AB}(\\mathbb{I}_{A}\\otimes|j\\rangle_{B}\\langle j|)\\big)}\\\\\n",
    "& = \\sum_{j}Pr(j_{B}|\\tilde{\\rho}_{AB})\\frac{1}{Pr(j_{B}|\\tilde{\\rho}_{AB})}M_{j}\\rho_{A}M_{j}^{\\dagger}\\otimes|j\\rangle_{B}\\langle j| \\\\\n",
    "& = \\sum_{j}M_{j}\\rho_{A}M_{j}^{\\dagger}\\otimes|j\\rangle_{B}\\langle j| \\\\\n",
    "& =: \\Pi_{B}\\big(\\tilde{\\rho}_{AB}\\big).\n",
    "\\end{align}\n",
    "Tomando-se o traço sobre o sistema auxiliar, obtemos o seguinte estado do sistema $A$:\n",
    "\\begin{equation}\n",
    "Tr_{B}\\big(\\Pi_{B}\\big(\\tilde{\\rho}_{AB}\\big)\\big) = \\sum_{j}M_{j}\\rho_{A}M_{j}^{\\dagger} \\equiv \\Lambda(\\rho_{A}).\n",
    "\\end{equation}\n",
    "Ou seja, uma medida geral não seletiva é equivalente a uma operação quântica geral, com $M_{j}:\\mathcal{H}_{A}\\rightarrow\\mathcal{H}_{B}$."
   ]
  },
  {
   "cell_type": "markdown",
   "id": "998c6f3b",
   "metadata": {},
   "source": [
    "Procedi como fiz acima para envolver as mais familiares medidas projetivas. Poderíamos no entanto ter demonstrado esse resultado de forma mais suscinta. Isso porque para o estado $\\rho_{A}$ sujeito a uma medida geral, se obtemos o resultado $M_{j}$, o estado $M_{j}\\rho_{A}M_{j}^{\\dagger}/Tr(M_{j}\\rho_{A}M_{j}^{\\dagger})$ é obtido com probabilidade $Pr(M_{j}|\\rho_{A})=Tr(M_{j}\\rho_{A}M_{j}^{\\dagger})$. Se sabemos que a medida geral foi feita mas não sabemos qual resultado foi obtido, atribuiremos o estado pós-medida como sendo a seguinte mistura estatística\n",
    "\\begin{align}\n",
    "\\rho_{A} \\xrightarrow[]{\\text{mede }\\{M_{j}\\}} \\sum_{j}Pr(M_{j}|\\rho_{A})\\frac{M_{j}\\rho_{A}M_{j}^{\\dagger}}{Tr(M_{j}\\rho_{A}M_{j}^{\\dagger})} = \\sum_{j}M_{j}\\rho_{A}M_{j}^{\\dagger} \\equiv \\Lambda(\\rho_{A}).\n",
    "\\end{align}"
   ]
  },
  {
   "cell_type": "markdown",
   "id": "630dc690",
   "metadata": {},
   "source": [
    "## Introduzindo instrumentos quânticos\n",
    "Voltando para os instrumentos quânticos, vamos considerar uma medida geral com dois índices, ou seja, uma medida geral dada pelos operadores de medida $\\{M_{j,k}\\}_{j,k}$ tais que\n",
    "\\begin{equation}\n",
    "\\sum_{j,k}M_{j,k}^{\\dagger}M_{j,k} = \\mathbb{I}.\n",
    "\\end{equation}\n",
    "Vamos associar os valores dos índices $j$ e $k$, respectivamente, a __variáveis aleatórias (clássicas)__ $J$ e $K$. Na medida geral, podemos escrever as probabilidades como probabilidades conjuntas de $J$ e $K$:\n",
    "\\begin{equation}\n",
    "p_{J,K}(j,k) = Pr(M_{j,k}|\\rho_{A}) = Tr\\big(M_{j,k}^{\\dagger}\\rho_{A} M_{j,k}\\big).\n",
    "\\end{equation}\n",
    "Com isso, podemos escrever as probabilidades marginais como\n",
    "\\begin{align}\n",
    "p_{J}(j) & = \\sum_{k}p_{J,K}(j,k) = \\sum_{k}Tr\\big(M_{j,k}^{\\dagger}\\rho_{A} M_{j,k}\\big), \\\\\n",
    "p_{K}(k) & = \\sum_{j}p_{J,K}(j,k) = \\sum_{j}Tr\\big(M_{j,k}^{\\dagger}\\rho_{A} M_{j,k}\\big).\n",
    "\\end{align}"
   ]
  },
  {
   "cell_type": "markdown",
   "id": "c0061291",
   "metadata": {},
   "source": [
    "Vamos supor que a máquina de medida coloca os valores das variáveis $J$ e $K$ em estados quânticos de forma que o estado pós-medida é\n",
    "\\begin{equation}\n",
    "\\frac{M_{j,k}\\rho_{A}M_{j,k}^{\\dagger}}{Tr(M_{j,k}\\rho_{A}M_{j,k}^{\\dagger})}\\otimes|j\\rangle_{J}\\langle j|\\otimes|k\\rangle_{K}\\langle k|,\n",
    "\\end{equation}\n",
    "com $\\{|j\\rangle_{J}\\}$ e $\\{|k\\rangle_{K}\\}$ sendo bases ortonormais. Com isso, podemos obter a informação clássica (os valores de $J$ e $K$) através de medidas projetivas de von Neumann.\n",
    "\n",
    "Se essa medida geral é feita de forma não seletiva, obteremos a seguinte operação quântica:\n",
    "\\begin{align}\n",
    "\\Xi(\\rho_{A}) & = \\sum_{j,k}p_{J,K}(j,k)\\frac{M_{j,k}\\rho_{A}M_{j,k}^{\\dagger}}{Tr(M_{j,k}\\rho_{A}M_{j,k}^{\\dagger})}\\otimes|j\\rangle_{J}\\langle j|\\otimes|k\\rangle_{K}\\langle k| \\\\\n",
    "& = \\sum_{j,k}M_{j,k}\\rho_{A}M_{j,k}^{\\dagger}\\otimes|j\\rangle_{J}\\langle j|\\otimes|k\\rangle_{K}\\langle k|.\n",
    "\\end{align}"
   ]
  },
  {
   "cell_type": "markdown",
   "id": "4633f1dd",
   "metadata": {},
   "source": [
    "Se traçamos sobre o sistema quântico $K$, obtemos a operação chamada de __instrumento quântico__\n",
    "\\begin{align}\n",
    "\\Gamma(\\rho_{A}) & = Tr_{K}\\big(\\Xi(\\rho_{A})\\big) = \\sum_{j,k}M_{j,k}\\rho_{A}M_{j,k}^{\\dagger}\\otimes|j\\rangle_{J}\\langle j| \\\\\n",
    "& = \\sum_{j}\\Big(\\sum_{k}M_{j,k}\\rho_{A}M_{j,k}^{\\dagger}\\Big)\\otimes|j\\rangle_{J}\\langle j| \\\\\n",
    "& = \\sum_{j}\\varepsilon_{j}(\\rho_{A})\\otimes|j\\rangle_{J}\\langle j|,\n",
    "\\end{align}\n",
    "em que\n",
    "\\begin{equation}\n",
    "\\varepsilon_{j}(\\rho_{A}) = \\sum_{k}M_{j,k}\\rho_{A}M_{j,k}^{\\dagger}\n",
    "\\end{equation}\n",
    "é um mapa completamente positivo reduzidor do traço, i.e., \n",
    "\\begin{equation}\n",
    "Tr(\\varepsilon_{j}(\\rho_{A}))\\le 1.\n",
    "\\end{equation}"
   ]
  },
  {
   "cell_type": "markdown",
   "id": "545f0b32",
   "metadata": {},
   "source": [
    "Vemos assim que\n",
    "\\begin{align}\n",
    "Tr(\\varepsilon_{j}(\\rho_{A})) & = Tr\\Big(\\sum_{k}M_{j,k}\\rho_{A}M_{j,k}^{\\dagger}\\Big) = \\sum_{k}Tr\\big(M_{j,k}\\rho_{A}M_{j,k}^{\\dagger}\\big) \\\\\n",
    "& = p_{J}(j).\n",
    "\\end{align}\n",
    "\n",
    "Se traçarmos sobre $J$, obteremos a saída quântica do intrumento quântico:\n",
    "\\begin{align}\n",
    "Tr_{J}\\big(\\Gamma(\\rho_{A})\\big) & = Tr_{J}\\Big(\\sum_{j}\\varepsilon_{j}(\\rho_{A})\\otimes|j\\rangle_{J}\\langle j|\\Big) = \\sum_{j}\\varepsilon_{j}(\\rho_{A}) \\\\\n",
    "& = \\sum_{j}Tr\\big(\\varepsilon_{j}(\\rho_{A})\\big)\\frac{\\varepsilon_{j}(\\rho_{A})}{Tr\\big(\\varepsilon_{j}(\\rho_{A})\\big)} = \\sum_{j}p_{J}(j)\\frac{\\varepsilon_{j}(\\rho_{A})}{Tr\\big(\\varepsilon_{j}(\\rho_{A})\\big)} \\\\\n",
    "& = \\sum_{j}p_{J}(j)\\Lambda_{j}(\\rho_{A}) = \\sum_{j}p_{J}(j)\\sigma_{j}^{A} \\\\\n",
    "& = \\xi_{A},\n",
    "\\end{align}\n",
    "em que\n",
    "\\begin{equation}\n",
    "\\sigma_{j}^{A} = \\Lambda_{j}(\\rho_{A}) = \\frac{\\varepsilon_{j}(\\rho_{A})}{Tr\\big(\\varepsilon_{j}(\\rho_{A})\\big)}\n",
    "\\end{equation}\n",
    "é um operador densidade válido. Claro\n",
    "\\begin{equation}\n",
    "Tr_{A}(\\xi_{A})=Tr_{A}\\Big(\\sum_{j}\\varepsilon_{j}(\\rho_{A})\\Big) = \\sum_{j}p_{J}(j)Tr(\\sigma_{j}^{A}) = \\sum_{j}p_{J}(j) = 1.\n",
    "\\end{equation}\n",
    "Por conseguinte, $\\xi_{A}$ é um operador densidade válido."
   ]
  },
  {
   "cell_type": "markdown",
   "id": "108cf84a",
   "metadata": {},
   "source": [
    "__Instrumento quântico $\\ne$ mistura de mapas CPTP__\n",
    "\n",
    "Consideremos que $\\{\\Lambda_{j}\\}$ é um conjunto de mapas $CPTP$. Se esses mapas são aplicados de forma não revelada, com o mapa $\\Lambda_{j}$ aplicado com probabilidade $q_{J}(j)$, o estado obtido será uma mistura estatística\n",
    "\\begin{equation}\n",
    "\\rho_{A} \\xrightarrow[]{\\text{aplica }\\{\\Lambda_{j}\\}} \\sum_{j}q_{J}(j)\\Lambda_{j}(\\rho_{A}).\n",
    "\\end{equation}\n",
    "Por conseguinte, um instrumento quântico é diferente de uma mistura estatística de mapas CPTP. Para o instrumento quântico temos\n",
    "\\begin{equation}\n",
    "\\rho_{A} \\xrightarrow[]{\\text{aplica }\\Gamma} \\sum_{j}p_{J}(j)\\Lambda_{j}(\\rho_{A}),\n",
    "\\end{equation}\n",
    "uma vez que neste caso as probabilidades dependem do estado:\n",
    "\\begin{equation}\n",
    "p_{J}(j) = p_{J}(j|\\rho_{A}) = Tr(\\varepsilon_{j}(\\rho_{A})) = Tr\\Big(\\sum_{k}M_{j,k}\\rho_{A}M_{j,k}^{\\dagger}\\Big).\n",
    "\\end{equation}"
   ]
  },
  {
   "cell_type": "markdown",
   "id": "fe62c6f1",
   "metadata": {},
   "source": [
    "## Implementação coerente do instrumento quântico\n",
    "Como vimos, um instrumento quântico é um mapa de um estado quântico para um sistema quântico mais uma variável clássica:\n",
    "\\begin{equation}\n",
    "\\Gamma(\\rho_{A}) = \\Gamma^{A\\rightarrow BJ}(\\rho_{A}) = \\sum_{j}\\varepsilon_{j}(\\rho_{A})\\otimes|j\\rangle_{J}\\langle j|\n",
    "\\end{equation}\n",
    "com \n",
    "\\begin{equation}\n",
    "\\varepsilon_{j}(\\rho_{A})=\\varepsilon_{j}^{A\\rightarrow B}(\\rho_{A}) = \\sum_{k}M_{j,k}\\rho_{A}M_{j,k}^{\\dagger},\n",
    "\\end{equation}\n",
    "com $\\sum_{j,k}M_{j,k}^{\\dagger}M_{j,k}=\\mathbb{I}\\ \\therefore\\ \\sum_{k}M_{j,k}^{\\dagger}M_{j,k}\\le\\mathbb{I}$ e $M_{j,k}:\\mathcal{H}_{A}\\rightarrow\\mathcal{H}_{B}$. Pode-se verificar que este último mapa, $\\varepsilon_{j}(\\rho_{A})$, pode ser obtido a partir da seguinte isometria:\n",
    "\\begin{equation}\n",
    "V_{\\varepsilon_{j}}^{A\\rightarrow BE_{j}} = \\sum_{k}M_{j,k}\\otimes|k\\rangle_{E_{j}}.\n",
    "\\end{equation}\n",
    "\n",
    "Com isso, também vemos que o instrumento quântico $\\Gamma^{A\\rightarrow BJ}$ pode ser purificado usando a seguinte isometria:\n",
    "\\begin{equation}\n",
    "V_{\\Gamma^{A\\rightarrow BJ}}^{AJ\\rightarrow BJE_{j}E_{J}} = \\sum_{j,k}M_{j,k}\\otimes|j\\rangle_{J}\\otimes|k\\rangle_{E_{j}}\\otimes|j\\rangle_{E_{J}}.\n",
    "\\end{equation}"
   ]
  },
  {
   "cell_type": "markdown",
   "id": "dce5f64a",
   "metadata": {},
   "source": [
    "##### Exercício\n",
    "Verifique que o mapa $\\varepsilon_{j}^{A\\rightarrow B}(\\rho_{A}) = \\sum_{k}M_{j,k}\\rho_{A}M_{j,k}^{\\dagger}$ pode ser obtido a partir da isometria $V_{\\varepsilon_{j}}^{A\\rightarrow BE_{j}} = \\sum_{k}M_{j,k}\\otimes|k\\rangle_{E_{j}}$, i.e., verifique que $Tr_{E_{j}}\\big(V_{\\varepsilon_{j}}^{A\\rightarrow BE_{j}}\\rho_{A}\\big(V_{\\varepsilon_{j}}^{A\\rightarrow BE_{j}}\\big)^{\\dagger}\\big)=\\varepsilon_{j}^{A\\rightarrow B}(\\rho_{A})$."
   ]
  },
  {
   "cell_type": "markdown",
   "id": "78a8d32c",
   "metadata": {},
   "source": [
    "_SOL._ Teremos\n",
    "\\begin{align}\n",
    "& Tr_{E_{j}}\\big(V_{\\varepsilon_{j}}^{A\\rightarrow BE_{j}}\\rho_{A}\\big(V_{\\varepsilon_{j}}^{A\\rightarrow BE_{j}}\\big)^{\\dagger}\\big) = Tr_{E_{j}}\\big(\\sum_{k}M_{j,k}\\otimes|k\\rangle_{E_{j}}\\rho_{A}\\sum_{l}M_{j,l}^{\\dagger}\\otimes\\langle l|_{E_{j}}\\big) \\\\\n",
    "& = \\sum_{k,l}Tr_{E_{j}}\\big(M_{j,k}\\rho_{A}M_{j,l}^{\\dagger}\\otimes|k\\rangle_{E_{j}}\\langle l|_{E_{j}}\\big) \\\\\n",
    "& = \\sum_{k,l}M_{j,k}\\rho_{A}M_{j,l}^{\\dagger}\\otimes Tr_{E_{j}}\\big(|k\\rangle_{E_{j}}\\langle l|_{E_{j}}\\big) \\\\\n",
    "&  = \\sum_{k,l}M_{j,k}\\rho_{A}M_{j,l}^{\\dagger}\\otimes\\delta_{k,l} \\\\\n",
    "& = \\sum_{k,l}M_{j,k}\\rho_{A}M_{j,l}^{\\dagger} \\\\\n",
    "& = \\varepsilon_{j}^{A\\rightarrow B}(\\rho_{A}).\n",
    "\\end{align}"
   ]
  },
  {
   "cell_type": "markdown",
   "id": "45fda8d0",
   "metadata": {},
   "source": [
    "##### Exercício\n",
    "Verifique que o instrumento quântico $\\Gamma^{A\\rightarrow BJ}(\\rho_{A}) = \\sum_{j}\\varepsilon_{j}(\\rho_{A})\\otimes|j\\rangle_{J}\\langle j|$ pode ser obtido a partir da isometria $V_{\\Gamma^{A\\rightarrow BJ}}^{AJ\\rightarrow BJE_{j}E_{J}} = \\sum_{j,k}M_{j,k}\\otimes|j\\rangle_{J}\\otimes|k\\rangle_{E_{j}}\\otimes|j\\rangle_{E_{J}}$, i.e., verifique que $Tr_{E_{j},E_{J}}\\big(V_{\\Gamma^{A\\rightarrow BJ}}^{AJ\\rightarrow BJE_{j}E_{J}}\\rho_{A}\\big(V_{\\Gamma^{A\\rightarrow BJ}}^{AJ\\rightarrow BJE_{j}E_{J}}\\big)^{\\dagger}\\big)=\\Gamma^{A\\rightarrow BJ}(\\rho_{A})$."
   ]
  },
  {
   "cell_type": "markdown",
   "id": "6c96b7d8",
   "metadata": {},
   "source": [
    "_SOL._ Teremos\n",
    "\\begin{align}\n",
    "& Tr_{E_{j},E_{J}}\\big(V_{\\Gamma^{A\\rightarrow BJ}}^{AJ\\rightarrow BJE_{j}E_{J}}\\rho_{A}\\big(V_{\\Gamma^{A\\rightarrow BJ}}^{AJ\\rightarrow BJE_{j}E_{J}}\\big)^{\\dagger}\\big) \\\\\n",
    "& = Tr_{E_{j},E_{J}}\\big(\\sum_{j,k}M_{j,k}\\otimes|j\\rangle_{J}\\otimes|k\\rangle_{E_{j}}\\otimes|j\\rangle_{E_{J}}\\rho_{A}\\sum_{l,m}M_{l,m}^{\\dagger}\\otimes\\langle l|_{J}\\otimes\\langle m|_{E_{j}}\\otimes\\langle l|_{E_{J}}\\big) \\\\\n",
    "& = \\sum_{j,k,l,m}M_{j,k}\\rho_{A}M_{l,m}^{\\dagger}\\otimes|j\\rangle_{J}\\langle l|_{J}\\otimes Tr_{E_{j},E_{J}}\\big(|k\\rangle_{E_{j}}\\langle m|_{E_{j}}\\otimes|j\\rangle_{E_{J}}\\langle l|_{E_{J}}\\big) \\\\\n",
    "& = \\sum_{j,k,l,m}M_{j,k}\\rho_{A}M_{l,m}^{\\dagger}\\otimes|j\\rangle_{J}\\langle l|_{J}\\otimes \\delta_{k,m}\\delta_{j,l} \\\\\n",
    "& = \\sum_{j}\\sum_{k}M_{j,k}\\rho_{A}M_{l,k}^{\\dagger}\\otimes|j\\rangle_{J}\\langle j|_{J} \\\\\n",
    "& = \\sum_{j}\\varepsilon_{j}(\\rho_{A})\\otimes|j\\rangle_{J}\\langle j|.\n",
    "\\end{align}"
   ]
  },
  {
   "cell_type": "code",
   "execution_count": null,
   "id": "c480eece",
   "metadata": {},
   "outputs": [],
   "source": []
  }
 ],
 "metadata": {
  "kernelspec": {
   "display_name": "Python 3 (ipykernel)",
   "language": "python",
   "name": "python3"
  },
  "language_info": {
   "codemirror_mode": {
    "name": "ipython",
    "version": 3
   },
   "file_extension": ".py",
   "mimetype": "text/x-python",
   "name": "python",
   "nbconvert_exporter": "python",
   "pygments_lexer": "ipython3",
   "version": "3.8.11"
  }
 },
 "nbformat": 4,
 "nbformat_minor": 5
}
