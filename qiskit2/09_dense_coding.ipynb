{
 "cells": [
  {
   "cell_type": "markdown",
   "id": "f8fec17b",
   "metadata": {},
   "source": [
    "### Notas de aula de Computação Quântica <br> Autor: Jonas Maziero"
   ]
  },
  {
   "cell_type": "markdown",
   "id": "1aaf9336",
   "metadata": {},
   "source": [
    "# Codificação superdensa\n",
    "A codificação superdensa (CSD) é uma forma de __enviar 2 cbits enviando \"somente\" 1 qubit__ (com alguns detalhes a serem discutidos a seguir). O protocolo foi proposto em\n",
    "* Bennett, Charles H., and Stephen J. Wiesner. “Communication via One- and Two-Particle Operators on Einstein-Podolsky-Rosen States.” Phys. Rev. Lett. 69, 2881 (1992).\n",
    "\n",
    "Esse protocolo funciona como segue. Alice e Bob estão em laboratórios diferentes e querem trocar bits clássicos de informação. Eles iniciam compartilhando um par de qubits em um estado maximamente emaranhado\n",
    "$$|\\Phi_{+}\\rangle = \\frac{1}{\\sqrt{2}}\\big(|00\\rangle + |11\\rangle\\big).$$\n",
    "O qubit da Alice é o da esquerda e o do Bob é o da direita.\n",
    "\n",
    "Dois bits de informação podem estar nas seguintes 4 configurações\n",
    "$$00,\\ 01,\\ 10,\\ 11.$$\n",
    "Seguindo, Alice percebe o seguinte efeito de __operações locais__ no estado compartilhado:\n",
    "\\begin{align}\n",
    "(I\\otimes I)|\\Phi_{+}\\rangle & = |\\Phi_{+}\\rangle, \\\\\n",
    "(Z\\otimes I)|\\Phi_{+}\\rangle & = (Z\\otimes I)\\frac{1}{\\sqrt{2}}\\big(|00\\rangle + |11\\rangle\\big) = \\frac{1}{\\sqrt{2}}\\big(|00\\rangle - |11\\rangle\\big) = |\\Phi_{-}\\rangle, \\\\\n",
    "(X\\otimes I)|\\Phi_{+}\\rangle & = (X\\otimes I)\\frac{1}{\\sqrt{2}}\\big(|00\\rangle + |11\\rangle\\big) = \\frac{1}{\\sqrt{2}}\\big(|10\\rangle + |01\\rangle\\big) = |\\Psi_{+}\\rangle, \\\\\n",
    "(ZX\\otimes I)|\\Phi_{+}\\rangle & = (ZX\\otimes I)\\frac{1}{\\sqrt{2}}\\big(|00\\rangle + |11\\rangle\\big) = \\frac{1}{\\sqrt{2}}\\big(-|10\\rangle + |01\\rangle\\big) = |\\Psi_{-}\\rangle, \\\\\n",
    "\\end{align}\n",
    "em que usamos \n",
    "\\begin{equation}\n",
    "Z|0\\rangle = |0\\rangle,\\ Z|1\\rangle = -|1\\rangle,\\ X|0\\rangle = |1\\rangle,\\ X|1\\rangle = |0\\rangle,\n",
    "\\end{equation}\n",
    "para $Z\\doteq\\begin{bmatrix}1&0\\\\0&-1\\end{bmatrix}$, $X\\doteq\\begin{bmatrix}0&1\\\\1&0\\end{bmatrix}$, $|0\\rangle\\doteq\\begin{bmatrix}1\\\\0\\end{bmatrix}$ e $|1\\rangle\\doteq\\begin{bmatrix}0\\\\1\\end{bmatrix}$."
   ]
  },
  {
   "cell_type": "markdown",
   "id": "683d293f",
   "metadata": {},
   "source": [
    "Ou seja, Alice consegue preparar os quatro estados ortogonais (completamente distinguíveis) da base de Bell usando somente operações locais. Então, conforme a sequência de bits de informação que Alice quer enviar para Bob, ela realiza uma das seguintes operações para __codificação__ da informação:\n",
    "\\begin{align}\n",
    "& 00\\ \\rightarrow\\ I \\ \\rightarrow |\\Phi_{+}\\rangle =: |B_{00}\\rangle, \\\\\n",
    "& 01\\ \\rightarrow\\ Z \\ \\rightarrow |\\Phi_{-}\\rangle =: |B_{01}\\rangle, \\\\\n",
    "& 10\\ \\rightarrow\\ X \\ \\rightarrow |\\Psi_{+}\\rangle =: |B_{10}\\rangle, \\\\\n",
    "& 11\\ \\rightarrow\\ ZX \\ \\rightarrow |\\Psi_{-}\\rangle =: |B_{11}\\rangle.\n",
    "\\end{align}\n",
    "Claro, Alice e Bob devem ter combinado essa codificação de antemão à implementação do protocolo.\n",
    "\n",
    "Depois de feita a escolha da sequência de bits clássicos a ser enviada e de aplicar a operação local correspondente, Alice envia seu qubit para o laboratório de Bob. Uma vez recebido o qubit de Alice, Bob, em posse dos dois qubits, precisa fazer a __decodificação__ da informação clássica transmitida. Ele faz isso através de uma __medida na base de Bell__. Essa medida tem como resultado um dos quatro estados \n",
    "\\begin{equation}\n",
    "\\{|\\Phi_{+}\\rangle,|\\Psi_{+}\\rangle,|\\Phi_{-}\\rangle,|\\Psi_{-}\\rangle\\}.\n",
    "\\end{equation}\n",
    "No IBMQ só temos medidas na base computacional \n",
    "\\begin{equation}\n",
    "\\{|00\\rangle,|01\\rangle,|10\\rangle,|11\\rangle\\}.\n",
    "\\end{equation}\n",
    "Por isso, implementamos a medida na base de Bell primeiro aplicando uma CNOT, \n",
    "\\begin{equation}\n",
    "C_{x}^{10} = I\\otimes|0\\rangle\\langle 0| + X\\otimes|1\\rangle\\langle 1|,\n",
    "\\end{equation}\n",
    "que tem a seguinte ação na base computacional\n",
    "\\begin{align}\n",
    "& C_{x}^{10}|00\\rangle = I|0\\rangle\\otimes|0\\rangle\\langle 0|0\\rangle + X|0\\rangle\\otimes|1\\rangle\\langle 1|0\\rangle = |00\\rangle, \\\\\n",
    "& C_{x}^{10}|01\\rangle = I|0\\rangle\\otimes|0\\rangle\\langle 0|1\\rangle + X|0\\rangle\\otimes|1\\rangle\\langle 1|1\\rangle = |11\\rangle, \\\\\n",
    "& C_{x}^{10}|10\\rangle = I|1\\rangle\\otimes|0\\rangle\\langle 0|0\\rangle + X|1\\rangle\\otimes|1\\rangle\\langle 1|0\\rangle = |10\\rangle, \\\\\n",
    "& C_{x}^{10}|11\\rangle = I|1\\rangle\\otimes|0\\rangle\\langle 0|1\\rangle + X|1\\rangle\\otimes|1\\rangle\\langle 1|1\\rangle = |01\\rangle.\n",
    "\\end{align}"
   ]
  },
  {
   "cell_type": "markdown",
   "id": "c2cdd4ee",
   "metadata": {},
   "source": [
    "Na sequência Bob aplica a chamada porta de Hadamard,\n",
    "\\begin{equation}\n",
    "H=\\frac{1}{\\sqrt{2}}\\big(Z+X\\big),\n",
    "\\end{equation}\n",
    "no qubit que estava originalmente com ele. A ação dessa porta na base computacional é a seguinte\n",
    "\\begin{align}\n",
    "& H|0\\rangle = \\frac{1}{\\sqrt{2}}\\big(Z|0\\rangle+X|0\\rangle\\big) = \\frac{1}{\\sqrt{2}}\\big(|0\\rangle+|1\\rangle\\big) =: |+\\rangle, \\\\\n",
    "& H|1\\rangle = \\frac{1}{\\sqrt{2}}\\big(Z|1\\rangle+X|1\\rangle\\big) = \\frac{1}{\\sqrt{2}}\\big(-|1\\rangle+|0\\rangle\\big) =: |-\\rangle, \\\\\n",
    "\\end{align}\n",
    "em que definimos a base de autovetores de $X$ (verifique) como\n",
    "\\begin{align}\n",
    "& |+\\rangle = \\frac{1}{\\sqrt{2}}\\big(|0\\rangle+|1\\rangle\\big), \\\\\n",
    "& |-\\rangle = \\frac{1}{\\sqrt{2}}\\big(|0\\rangle-|1\\rangle\\big).\n",
    "\\end{align}\n",
    "A ação da porta de Hadamard nessa base é a seguinte\n",
    "\\begin{align}\n",
    "H|+\\rangle & = \\frac{1}{\\sqrt{2}}\\big(H|0\\rangle+H|1\\rangle\\big)  = \\frac{1}{\\sqrt{2}}\\big(\\frac{1}{\\sqrt{2}}\\big(|0\\rangle+|1\\rangle\\big) + \\frac{1}{\\sqrt{2}}\\big(|0\\rangle-|1\\rangle\\big)\\big), \\\\\n",
    "& = \\frac{1}{2}\\big(|0\\rangle + |1\\rangle + |0\\rangle - |1\\rangle\\big) = |0\\rangle, \\\\\n",
    "H|-\\rangle & = \\frac{1}{\\sqrt{2}}\\big(H|0\\rangle-H|1\\rangle\\big)  = \\frac{1}{\\sqrt{2}}\\big(\\frac{1}{\\sqrt{2}}\\big(|0\\rangle+|1\\rangle\\big) - \\frac{1}{\\sqrt{2}}\\big(|0\\rangle-|1\\rangle\\big)\\big), \\\\\n",
    "& = \\frac{1}{2}\\big(|0\\rangle + |1\\rangle - |0\\rangle + |1\\rangle\\big) = |1\\rangle.\n",
    "\\end{align}"
   ]
  },
  {
   "cell_type": "markdown",
   "id": "29248e06",
   "metadata": {},
   "source": [
    "Com isso, teremos a mudança da base de Bell para a base computacional como segue\n",
    "\\begin{align}\n",
    "(I\\otimes H)C_{x}^{10}|\\Phi_{+}\\rangle & = (I\\otimes H)\\frac{1}{\\sqrt{2}}\\big(C_{x}^{10}|00\\rangle + C_{x}^{10}|11\\rangle\\big) = (I\\otimes H)\\frac{1}{\\sqrt{2}}\\big(|00\\rangle + |01\\rangle\\big) \\\\\n",
    "& = (I\\otimes H)|0\\rangle\\otimes\\frac{1}{\\sqrt{2}}\\big(|0\\rangle + |1\\rangle\\big) = (I\\otimes H)(|0\\rangle\\otimes|+\\rangle) \\\\\n",
    "& = |00\\rangle, \\\\\n",
    "(I\\otimes H)C_{x}^{10}|\\Psi_{+}\\rangle & = (I\\otimes H)\\frac{1}{\\sqrt{2}}\\big(C_{x}^{10}|01\\rangle + C_{x}^{10}|10\\rangle\\big) = (I\\otimes H)\\frac{1}{\\sqrt{2}}\\big(|11\\rangle + |10\\rangle\\big) \\\\\n",
    "& = (I\\otimes H)|1\\rangle\\otimes\\frac{1}{\\sqrt{2}}\\big(|1\\rangle + |0\\rangle\\big) = (I\\otimes H)(|1\\rangle\\otimes|+\\rangle) \\\\\n",
    "& = |10\\rangle, \\\\\n",
    "(I\\otimes H)C_{x}^{10}|\\Phi_{-}\\rangle & = (I\\otimes H)\\frac{1}{\\sqrt{2}}\\big(C_{x}^{10}|00\\rangle - C_{x}^{10}|11\\rangle\\big) = (I\\otimes H)\\frac{1}{\\sqrt{2}}\\big(|00\\rangle - |01\\rangle\\big) \\\\\n",
    "& = (I\\otimes H)|0\\rangle\\otimes\\frac{1}{\\sqrt{2}}\\big(|0\\rangle - |1\\rangle\\big) = (I\\otimes H)(|0\\rangle\\otimes|-\\rangle) \\\\\n",
    "& = |01\\rangle, \\\\\n",
    "(I\\otimes H)C_{x}^{10}|\\Psi_{-}\\rangle & = (I\\otimes H)\\frac{1}{\\sqrt{2}}\\big(C_{x}^{10}|01\\rangle - C_{x}^{10}|10\\rangle\\big) = (I\\otimes H)\\frac{1}{\\sqrt{2}}\\big(|11\\rangle - |10\\rangle\\big) \\\\\n",
    "& = (I\\otimes H)|1\\rangle\\otimes\\frac{1}{\\sqrt{2}}\\big(|1\\rangle - |0\\rangle\\big) = -(I\\otimes H)(|1\\rangle\\otimes|-\\rangle) \\\\\n",
    "& = e^{i\\pi}|11\\rangle.\n",
    "\\end{align}"
   ]
  },
  {
   "cell_type": "markdown",
   "id": "fa15636f",
   "metadata": {},
   "source": [
    "Então, uma vez que Bob aplique $C_{x}^{10}$ seguida de $I\\otimes H$ seguida da medida na base computacional, ele aprende os dois bits de informação clássica que Alice gostaria de comunicar para ele. O protocolo de codificação superdensa é simulado no IBMQ conforme mostrado abaixo.\n",
    "\n",
    "Para o que vem a seguir, um terceiro elemento, Charlie, precisa preparar um estado emaranhado de dois qubits e enviar um qubit para Alice e o outro para Bob. Partido do estado padrão no IBMQ, que é $|00\\rangle$, podemos obter o estado emaranhado de Bell como segue\n",
    "\\begin{align}\n",
    "C_{x}^{10}(I\\otimes H)|00\\rangle & = C_{x}^{10}|0+\\rangle = C_{x}^{10}\\frac{1}{\\sqrt{2}}\\big(|00\\rangle + |01\\rangle\\big) = \\frac{1}{\\sqrt{2}}\\big(|00\\rangle + |11\\rangle\\big) \\\\\n",
    "& = |\\Phi_{+}\\rangle.\n",
    "\\end{align}\n",
    "\n",
    "Vale observar aqui que o protocolo de CSD envia 2 cbits enviando 1 qubit, mas para isso precisa do par emaranhado compartilhado entre Alice e Bob. Então, no final do dia, 2 qubits foram enviados para Bob. Tem a questão da ordem temporal para levar em conta aqui, mas não discutiremos esse ponto."
   ]
  },
  {
   "cell_type": "code",
   "execution_count": 19,
   "id": "c526f3c7",
   "metadata": {},
   "outputs": [
    {
     "name": "stderr",
     "output_type": "stream",
     "text": [
      "ibmqfactory.load_account:WARNING:2022-01-20 09:35:22,727: Credentials are already in use. The existing account in the session will be replaced.\n"
     ]
    }
   ],
   "source": [
    "from qiskit import *\n",
    "nshots = 8192\n",
    "qiskit.IBMQ.load_account()\n",
    "provider = qiskit.IBMQ.get_provider(hub='ibm-q', group='open', project='main')\n",
    "simulator = Aer.get_backend('qasm_simulator')\n",
    "device = provider.get_backend('ibmq_bogota')\n",
    "from qiskit.tools.monitor import job_monitor\n",
    "from qiskit.tools.visualization import plot_histogram"
   ]
  },
  {
   "cell_type": "code",
   "execution_count": 28,
   "id": "1d0ee80c",
   "metadata": {},
   "outputs": [
    {
     "data": {
      "image/png": "[encoded data removed]",
      "text/plain": [
       "<Figure size 206.852x144.48 with 1 Axes>"
      ]
     },
     "execution_count": 28,
     "metadata": {},
     "output_type": "execute_result"
    }
   ],
   "source": [
    "def qc_ent_dist():\n",
    "    qc = QuantumCircuit(2, name = 'E dist')\n",
    "    qc.h([1]); qc.cx(1, 0)\n",
    "    return qc\n",
    "qc_ent_dist_ = qc_ent_dist()\n",
    "qc_ent_dist_.draw(output = 'mpl')"
   ]
  },
  {
   "cell_type": "code",
   "execution_count": 23,
   "id": "9698569a",
   "metadata": {},
   "outputs": [
    {
     "data": {
      "image/png": "[encoded data removed]",
      "text/plain": [
       "<Figure size 193.726x84.28 with 1 Axes>"
      ]
     },
     "execution_count": 23,
     "metadata": {},
     "output_type": "execute_result"
    }
   ],
   "source": [
    "def qc_encoding(cbits):\n",
    "    qc = QuantumCircuit(1, name = 'codificação')\n",
    "    if cbits == '00':\n",
    "        qc.id([0])\n",
    "    elif cbits == '01':\n",
    "        qc.z([0])\n",
    "    elif  cbits == '10':\n",
    "        qc.x([0])\n",
    "    elif  cbits == '11':\n",
    "        qc.x([0]); qc.z([0])\n",
    "    return qc\n",
    "qc_encoding_ = qc_encoding('11')\n",
    "qc_encoding_.draw(output = 'mpl')"
   ]
  },
  {
   "cell_type": "code",
   "execution_count": 24,
   "id": "eb7292a6",
   "metadata": {},
   "outputs": [
    {
     "data": {
      "image/png": "[encoded data removed]",
      "text/plain": [
       "<Figure size 206.852x144.48 with 1 Axes>"
      ]
     },
     "execution_count": 24,
     "metadata": {},
     "output_type": "execute_result"
    }
   ],
   "source": [
    "def qc_decoding():\n",
    "    qc = QuantumCircuit(2, name = 'decodificação')\n",
    "    qc.cx(1, 0); qc.h([1])\n",
    "    return qc\n",
    "qc_decoding_ = qc_decoding(); qc_decoding_.draw(output = 'mpl')"
   ]
  },
  {
   "cell_type": "code",
   "execution_count": 50,
   "id": "7691b2f8",
   "metadata": {},
   "outputs": [
    {
     "data": {
      "image/png": "[encoded data removed]",
      "text/plain": [
       "<Figure size 628.252x204.68 with 1 Axes>"
      ]
     },
     "execution_count": 50,
     "metadata": {},
     "output_type": "execute_result"
    }
   ],
   "source": [
    "cbits = '00'\n",
    "qc = QuantumCircuit(2, 2)\n",
    "qc_ent_dist_ = qc_ent_dist(); qc.append(qc_ent_dist_, [0,1])\n",
    "qc.barrier()\n",
    "qc_encoding_ = qc_encoding(cbits); qc.append(qc_encoding_, [0])\n",
    "qc.barrier()\n",
    "qc_decoding_ = qc_decoding(); qc.append(qc_decoding_, [0,1])\n",
    "qc.measure([0,1],[0,1])\n",
    "#qc.draw(output = 'mpl')\n",
    "qc.decompose().draw(output = 'mpl')"
   ]
  },
  {
   "cell_type": "code",
   "execution_count": 48,
   "id": "97974f40",
   "metadata": {},
   "outputs": [
    {
     "data": {
      "image/png": "[encoded data removed]",
      "text/plain": [
       "<Figure size 504x360 with 1 Axes>"
      ]
     },
     "execution_count": 48,
     "metadata": {},
     "output_type": "execute_result"
    }
   ],
   "source": [
    "result = execute(qc, backend = simulator, shots = nshots).result()\n",
    "plot_histogram(result.get_counts(qc))"
   ]
  },
  {
   "cell_type": "code",
   "execution_count": 35,
   "id": "e7f32e6f",
   "metadata": {},
   "outputs": [
    {
     "name": "stdout",
     "output_type": "stream",
     "text": [
      "Job Status: job has successfully run\n"
     ]
    }
   ],
   "source": [
    "job = execute(qc, backend = device, shots = nshots)\n",
    "job_monitor(job)"
   ]
  },
  {
   "cell_type": "code",
   "execution_count": 36,
   "id": "2008fc1a",
   "metadata": {},
   "outputs": [
    {
     "data": {
      "image/png": "[encoded data removed]",
      "text/plain": [
       "<Figure size 504x360 with 1 Axes>"
      ]
     },
     "execution_count": 36,
     "metadata": {},
     "output_type": "execute_result"
    }
   ],
   "source": [
    "plot_histogram(job.result().get_counts(qc))"
   ]
  },
  {
   "cell_type": "markdown",
   "id": "4a5c4607",
   "metadata": {},
   "source": [
    "##### Exercício\n",
    "Discuta a implementação do protocolo de codificação superdensa no caso em que Alice e Bob compartilham um estado possivelmente parcialmente emaranhado\n",
    "\\begin{equation}\n",
    "|\\Phi\\rangle = \\sqrt{p}|00\\rangle+\\sqrt{1-p}|11\\rangle,\n",
    "\\end{equation}\n",
    "com $p\\in[0,1]$."
   ]
  },
  {
   "cell_type": "markdown",
   "id": "ed0a1c7d",
   "metadata": {},
   "source": [
    "## Codificação superdensa com POVMs\n",
    "\n",
    "Alice poderia atuar __operações locais__ (mapas CPTP) que levam o estado $|\\Phi_{+}\\rangle$, ou qualquer outro estado compartilhado $\\rho_{AB}$, em estados que correspondem ao resultado de uma medida conjunta POVM nos sistemas $A$ e $B$. Como o número de resultados possíveis do POVM, $N$, pode ser maior que a dimensão do espaço de estados, $d_{AB}$, poderíamos aumentar assim capacidade de transmissão de comunicação clássica usando \"os mesmos\" recursos quânticos (número de qubits enviados). \n",
    "\n",
    "Em um espaço de Hilbert de dimensão $d$, em (https://arxiv.org/abs/quant-ph/0310075), os autores construíram POVMs constituídos por $d^{2}$ elementos de rank 1. Isso foi feito para $d=1,\\ 2,\\ 3,\\ 4$. O caso $d=4$ seria útil para o problema de codificação superdensa. Se usamos cada um dos $d^{2} = 4^{2}=16$ elementos da POVM para codificar uma sequência de cbits, conseguiríamos dobrar a capacidade do protocolo de codificação superdensa, enviando 4 cbits: \n",
    "$$0000,\\ 0001,\\ 0010,\\ 0011,\\ 0100,\\ 0101,\\ 0110,\\ 0111,\\ 1000,\\ 1001,\\ 1010,\\ 1011,\\ 1100,\\ 1101,\\ 1110,\\ 1111.$$\n",
    "\n",
    "A princípio não vejo nenhum impecílio fundamental. Precisa verificar se Alice consegue preparar os 16 estados puros que correspodem aos elementos com rank 1 da POVM usando operações locais em um dois qubits. Se isso for possível, a princípio Bob pode realizar a medida POVM e descobir qual é a mensagem enviada por Alice.\n",
    "\n",
    "Tem dois problemas interessantes para serem previamente estudados aqui: A preparação no IBMQ dos estados correspondentes aos elementos da POVM e a implementação da POVM de 2qubits no IBMQ."
   ]
  },
  {
   "cell_type": "markdown",
   "id": "628563c9",
   "metadata": {},
   "source": [
    "Considere o POVM de 4 elementos que consideramos anteriormente:\n",
    "\\begin{align}\n",
    "& M_{1} = 2^{-1/2}|0\\rangle\\langle 0| = 2^{-1/2}|\\psi(0,0)\\rangle\\langle \\psi(0,0)|, \\\\\n",
    "& M_{2} = 2^{-1/2}|+\\rangle\\langle +| = 2^{-1/2}|\\psi(\\pi/2,0)\\rangle\\langle \\psi(\\pi/2,0)|, \\\\\n",
    "& M_{3} = 2^{-1/2}|1\\rangle\\langle 1| = 2^{-1/2}|\\psi(\\pi,0)\\rangle\\langle \\psi(\\pi,0)|, \\\\\n",
    "& M_{4} = 2^{-1/2}|-\\rangle\\langle -| = 2^{-1/2}|\\psi(3\\pi/2,0)\\rangle\\langle \\psi(3\\pi/2,0)|, \n",
    "\\end{align}\n",
    "em que $|\\psi(\\theta,\\phi)\\rangle = \\cos(\\theta/2)|0\\rangle + e^{i\\phi}\\sin(\\theta/2)|1\\rangle$. Esses elementos são construídos então usando 4 estados do plano xz da esfera de Bloch separados consecutivamente por 90 graus.\n",
    "\n",
    "Vimos é possível fazer essa medida POVM adicionado um qubit auxiliar, evoluindo os 2 qubits unitariamente e medindo o qubit auxiliar projetivamente. Então, Alice poderia preparar um dos 4 estados de um qubit\n",
    "\\begin{equation}\n",
    "|\\psi(0,0)\\rangle, |\\psi(\\pi/2,0)\\rangle, |\\psi(\\pi,0)\\rangle, |\\psi(3\\pi/2,0)\\rangle\n",
    "\\end{equation}\n",
    "e enviar para Bob, que poderia fazer uma medida POVM identificando qual estado Alice preparou. Com isso Alice seria capaz de enviar 2 cbits enviando um único qubit. Mas o limite de Holevo diz que é possível estrairmos até n cbits de estados de n qubits. Qual é o problema então com essa proposta?"
   ]
  },
  {
   "cell_type": "markdown",
   "id": "cdef6d95",
   "metadata": {},
   "source": [
    "O problema é que não conseguimos distinguir esses 4 estados através do POVM correspondente. Por exemplo, se Alice preparou o estado $|0\\rangle$ teremos as seguintes probabilidades\n",
    "\\begin{align}\n",
    "& Pr(M_{1}|0) = \\langle 0|M_{1}^{\\dagger}M_{1}|0\\rangle = 1/2, \\\\\n",
    "& Pr(M_{2}|0) = \\langle 0|M_{2}^{\\dagger}M_{2}|0\\rangle = 1/4, \\\\\n",
    "& Pr(M_{3}|0) = \\langle 0|M_{3}^{\\dagger}M_{3}|0\\rangle = 0, \\\\\n",
    "& Pr(M_{4}|0) = \\langle 0|M_{4}^{\\dagger}M_{4}|0\\rangle = 1/4.\n",
    "\\end{align}\n",
    "Também temos\n",
    "\\begin{align}\n",
    "& Pr(M_{1}|+) = \\langle +|M_{1}^{\\dagger}M_{1}|+\\rangle = 1/4, \\\\\n",
    "& Pr(M_{2}|+) = \\langle +|M_{2}^{\\dagger}M_{2}|+\\rangle = 1/2, \\\\\n",
    "& Pr(M_{3}|+) = \\langle +|M_{3}^{\\dagger}M_{3}|+\\rangle = 1/4, \\\\\n",
    "& Pr(M_{4}|+) = \\langle +|M_{4}^{\\dagger}M_{4}|+\\rangle = 0.\n",
    "\\end{align}\n",
    "\n",
    "__Exercício:__ Calcule $Pr(M_{1}|1), Pr(M_{2}|1), Pr(M_{3}|1), Pr(M_{4}|1), Pr(M_{1}|-), Pr(M_{2}|-), Pr(M_{3}|-), Pr(M_{4}|-)$."
   ]
  },
  {
   "cell_type": "markdown",
   "id": "e20dc0fc",
   "metadata": {},
   "source": [
    "Vemos assim que Bob não consegui distinguir os 4 estados de um qubit através da POVM considerado, sendo por conseguinte impossível decodificar a informação que Alice pretendia enviar. Parece que não dá pra burlar o __limite de Holevo__ ..."
   ]
  },
  {
   "cell_type": "markdown",
   "id": "fbb38084",
   "metadata": {},
   "source": [
    "### Problema\n",
    "Fornecer um POVM que distingue três estados não ortogonais,\n",
    "\\begin{equation}\n",
    "|\\psi_{1}\\rangle=|0\\rangle,\\ |\\psi_{2}\\rangle=\\cos(\\pi/8)|0\\rangle+\\sin(\\pi/8)|1\\rangle,\\ |\\psi_{3}\\rangle=|+\\rangle, \n",
    "\\end{equation}\n",
    "de um qubit."
   ]
  }
 ],
 "metadata": {
  "kernelspec": {
   "display_name": "Python 3",
   "language": "python",
   "name": "python3"
  },
  "language_info": {
   "codemirror_mode": {
    "name": "ipython",
    "version": 3
   },
   "file_extension": ".py",
   "mimetype": "text/x-python",
   "name": "python",
   "nbconvert_exporter": "python",
   "pygments_lexer": "ipython3",
   "version": "3.11.1 (tags/v3.11.1:a7a450f, Dec  6 2022, 19:58:39) [MSC v.1934 64 bit (AMD64)]"
  },
  "vscode": {
   "interpreter": {
    "hash": "c261aea317cc0286b3b3261fbba9abdec21eaa57589985bb7a274bf54d6cc0a7"
   }
  }
 },
 "nbformat": 4,
 "nbformat_minor": 5
}
