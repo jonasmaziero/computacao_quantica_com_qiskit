{
 "cells": [
  {
   "cell_type": "markdown",
   "id": "41bae23e",
   "metadata": {},
   "source": [
    "### Notas de aula de Computação Quântica <br> Autor: Jonas Maziero"
   ]
  },
  {
   "cell_type": "code",
   "execution_count": 19,
   "id": "90848d5b",
   "metadata": {},
   "outputs": [],
   "source": [
    "%run init.ipynb"
   ]
  },
  {
   "cell_type": "markdown",
   "id": "1113df53",
   "metadata": {},
   "source": [
    "# Qudits\n",
    "\n",
    "Tanto em teleportação quanto em codificação superdensa com qubits, usamos estados maximamente emaranhados como recurso. Para qudits, sistemas quânticos de $d$ níveis, estados maximamente emaranhados tem a forma\n",
    "\\begin{equation}\n",
    "|\\Phi\\rangle_{AB} = \\frac{1}{\\sqrt{d}}\\sum_{j=0}^{d-1}|j\\rangle_{A}\\otimes|j\\rangle_{B}.\n",
    "\\end{equation}\n",
    "alguns casos particulares seriam\n",
    "\\begin{align}\n",
    "& d=2:\\ |\\Phi\\rangle_{AB} = 2^{-1/2}\\big(|00\\rangle_{AB}+|11\\rangle_{AB}\\big), \\\\\n",
    "& d=3:\\ |\\Phi\\rangle_{AB} = 3^{-1/2}\\big(|00\\rangle_{AB}+|11\\rangle_{AB}+|22\\rangle_{AB}\\big), \\\\\n",
    "& d=4:\\ |\\Phi\\rangle_{AB} = 4^{-1/2}\\big(|00\\rangle_{AB}+|11\\rangle_{AB}+|22\\rangle_{AB}+|33\\rangle_{AB}\\big), \\\\\n",
    "& \\vdots.\n",
    "\\end{align}\n",
    "\n",
    "__Exercício:__ Escreva um estado maximamente emaranhado para $d=5$."
   ]
  },
  {
   "cell_type": "markdown",
   "id": "68c971a2",
   "metadata": {},
   "source": [
    "Outra operação básica utilizada foi a porta de Hadamard. No caso de qubits, essa porta é generalizada pela __porta ou operador de Fourier__:\n",
    "\\begin{equation}\n",
    "F = \\frac{1}{\\sqrt{d}}\\sum_{j,k=0}^{d-1}e^{2\\pi ijk/d}|j\\rangle\\langle k|.\n",
    "\\end{equation}\n",
    "Novamente, alguns casos particulares seriam\n",
    "\\begin{align}\n",
    "d=2:\\ F &= \\frac{1}{\\sqrt{2}}\\sum_{j,k=0}^{2-1}e^{2\\pi ijk/2}|j\\rangle\\langle k| \\\\\n",
    "& = \\frac{1}{\\sqrt{2}}\\big(e^{\\pi i0\\cdot 0}|0\\rangle\\langle 0|+e^{\\pi i0\\cdot 1}|0\\rangle\\langle 1|+e^{\\pi i1\\cdot 0}|1\\rangle\\langle 0|+e^{\\pi i1\\cdot1}|1\\rangle\\langle 1|\\big) \\\\\n",
    "& = \\frac{1}{\\sqrt{2}}\\big(|0\\rangle\\langle 0|+|0\\rangle\\langle 1|+|1\\rangle\\langle 0|-|1\\rangle\\langle 1|\\big) \\\\\n",
    "& = \\frac{1}{\\sqrt{2}}\\begin{bmatrix}1&1\\\\1&-1\\end{bmatrix}, \\\\\n",
    "\\end{align}"
   ]
  },
  {
   "cell_type": "markdown",
   "id": "f3c1d304",
   "metadata": {},
   "source": [
    "\\begin{align}\n",
    "d=3:\\ F &= \\frac{1}{\\sqrt{3}}\\sum_{j,k=0}^{3-1}e^{2\\pi ijk/3}|j\\rangle\\langle k| \\\\\n",
    "& = \\frac{1}{\\sqrt{3}}\\big(e^{2\\pi i0\\cdot 0/3}|0\\rangle\\langle 0| + e^{2\\pi i0\\cdot 1/3}|0\\rangle\\langle 1| + e^{2\\pi i0\\cdot 2/3}|0\\rangle\\langle 2| \\\\\n",
    "& \\hspace{1.5cm} + e^{2\\pi i1\\cdot 0/3}|1\\rangle\\langle 0| + e^{2\\pi i1\\cdot 1/3}|1\\rangle\\langle 1| + e^{2\\pi i1\\cdot 2/3}|1\\rangle\\langle 2| \\\\\n",
    "& \\hspace{1.5cm} + e^{2\\pi i2\\cdot 0/3}|2\\rangle\\langle 0| + e^{2\\pi i2\\cdot 1/3}|2\\rangle\\langle 1| + e^{2\\pi i2\\cdot 2/3}|2\\rangle\\langle 2|\\big) \\\\\n",
    "& = \\frac{1}{\\sqrt{3}}\\big(|0\\rangle\\langle 0| + |0\\rangle\\langle 1| + |0\\rangle\\langle 2| + |1\\rangle\\langle 0| + e^{2\\pi i/3}|1\\rangle\\langle 1| + e^{4\\pi i/3}|1\\rangle\\langle 2| \\\\\n",
    "& \\hspace{1.5cm} + |2\\rangle\\langle 0| + e^{4\\pi i/3}|2\\rangle\\langle 1| + e^{8\\pi i/3}|2\\rangle\\langle 2|\\big) \\\\\n",
    "& = \\frac{1}{\\sqrt{3}}\\begin{bmatrix} 1&1&1 \\\\ 1 & e^{2\\pi i/3} & e^{4\\pi i/3} \\\\ 1 & e^{4\\pi i/3} & e^{8\\pi i/3} \\end{bmatrix}.\n",
    "\\end{align}"
   ]
  },
  {
   "cell_type": "markdown",
   "id": "c9f1ebc9",
   "metadata": {},
   "source": [
    "\\begin{align}\n",
    "d=4:\\ F =& \\frac{1}{\\sqrt{4}}\\sum_{j,k=0}^{4-1}e^{2\\pi ijk/4}|j\\rangle\\langle k| = \\frac{1}{2}\\sum_{j,k=0}^{3}e^{\\pi ijk/2}|j\\rangle\\langle k| \\\\\n",
    "& = \\frac{1}{2}\\big(e^{\\pi i0\\cdot 0/2}|0\\rangle\\langle 0| + e^{\\pi i0\\cdot 1/2}|0\\rangle\\langle 1| + e^{\\pi i0\\cdot 2/2}|0\\rangle\\langle 2| + e^{\\pi i0\\cdot 3/2}|0\\rangle\\langle 3| \\\\\n",
    "& \\hspace{1.2cm} + e^{\\pi i1\\cdot 0/2}|1\\rangle\\langle 0| + e^{\\pi i1\\cdot 1/2}|1\\rangle\\langle 1| + e^{\\pi i1\\cdot 2/2}|1\\rangle\\langle 2| + e^{\\pi i1\\cdot 3/2}|1\\rangle\\langle 3| \\\\\n",
    "& \\hspace{1.2cm} + e^{\\pi i2\\cdot 0/2}|2\\rangle\\langle 0| + e^{\\pi i2\\cdot 1/2}|2\\rangle\\langle 1| + e^{\\pi i2\\cdot 2/2}|2\\rangle\\langle 2| + e^{\\pi i2\\cdot 3/2}|2\\rangle\\langle 3| \\\\\n",
    "& \\hspace{1.2cm} + e^{\\pi i3\\cdot 0/2}|3\\rangle\\langle 0| + e^{\\pi i3\\cdot 1/2}|3\\rangle\\langle 1| + e^{\\pi i3\\cdot 2/2}|3\\rangle\\langle 2| + e^{\\pi i3\\cdot 3/2}|3\\rangle\\langle 3|\\big) \\\\\n",
    "& = \\frac{1}{2}\\big(|0\\rangle\\langle 0| + |0\\rangle\\langle 1| + |0\\rangle\\langle 2| + |0\\rangle\\langle 3| \\\\\n",
    "& \\hspace{1.2cm} + |1\\rangle\\langle 0| + e^{\\pi i/2}|1\\rangle\\langle 1| + e^{\\pi i}|1\\rangle\\langle 2| + e^{3\\pi i/2}|1\\rangle\\langle 3| \\\\\n",
    "& \\hspace{1.2cm} + |2\\rangle\\langle 0| + e^{\\pi i}|2\\rangle\\langle 1| + e^{2\\pi i}|2\\rangle\\langle 2| + e^{3\\pi i}|2\\rangle\\langle 3| \\\\\n",
    "& \\hspace{1.2cm} + |3\\rangle\\langle 0| + e^{3\\pi i/2}|3\\rangle\\langle 1| + e^{3\\pi i}|3\\rangle\\langle 2| + e^{9\\pi i/2}|3\\rangle\\langle 3|\\big) \\\\\n",
    "& = \\frac{1}{2}\\begin{bmatrix} 1&1&1&1 \\\\ 1 & e^{\\pi i/2} & e^{\\pi i} & e^{3\\pi i/2} \\\\ \n",
    "1 & e^{\\pi i} & e^{2\\pi i} & e^{3\\pi i} \\\\ 1& e^{3\\pi i/2} & e^{3\\pi i} & e^{9\\pi i/2} \\end{bmatrix}.\n",
    "\\end{align}\n",
    "\n",
    "\n",
    "__Exercício:__ Obter a matriz que representa $F$ para $d=5$, sem fazer a conta.\n",
    "\n",
    "__Exercício:__ Escreva a matriz que representa a porta de Fourier para $d=5$, fazendo a conta.\n"
   ]
  },
  {
   "cell_type": "markdown",
   "id": "5f7052a1",
   "metadata": {},
   "source": [
    "A ação da porta de Fourier na base computacional nos retorna os __estados de Fourier__:\n",
    "\\begin{align}\n",
    "F|l\\rangle & = \\frac{1}{\\sqrt{d}}\\sum_{j,k=0}^{d-1}e^{2\\pi ijk/d}|j\\rangle\\langle k|l\\rangle = \\frac{1}{\\sqrt{d}}\\sum_{j,k=0}^{d-1}e^{2\\pi ijk/d}|j\\rangle\\delta_{k,l} \\\\\n",
    "& = \\frac{1}{\\sqrt{d}}\\sum_{j=0}^{d-1}e^{2\\pi ijl/d}|j\\rangle,\n",
    "\\end{align}\n",
    "para \n",
    "\\begin{equation}\n",
    "l=0,\\cdots,d-1.\n",
    "\\end{equation}\n",
    "\n",
    "Exemplos:\n",
    "Para $d=2$ teremos\n",
    "\\begin{align}\n",
    "F|0\\rangle & = \\frac{1}{\\sqrt{2}}\\sum_{j=0}^{2-1}e^{2\\pi ij\\cdot 0/2}|j\\rangle = \\frac{1}{\\sqrt{2}}\\big(e^{2\\pi i0\\cdot 0/2}|0\\rangle+e^{2\\pi i1\\cdot 0/2}|1\\rangle\\big) = \\frac{1}{\\sqrt{2}}\\big(|0\\rangle+|1\\rangle\\big), \\\\\n",
    "F|1\\rangle & = \\frac{1}{\\sqrt{2}}\\sum_{j=0}^{2-1}e^{2\\pi ij\\cdot 0/2}|j\\rangle = \\frac{1}{\\sqrt{2}}\\big(e^{2\\pi i0\\cdot 1/2}|0\\rangle+e^{2\\pi i1\\cdot 1/2}|1\\rangle\\big) = \\frac{1}{\\sqrt{2}}\\big(|0\\rangle-|1\\rangle\\big).\n",
    "\\end{align}"
   ]
  },
  {
   "cell_type": "markdown",
   "id": "74b5af45",
   "metadata": {},
   "source": [
    "Para d = 3 teremos\n",
    "\\begin{align}\n",
    "F|0\\rangle & = \\frac{1}{\\sqrt{3}}\\sum_{j=0}^{3-1}e^{2\\pi ij\\cdot 0/3}|j\\rangle = \\frac{1}{\\sqrt{3}}\\big(e^{2\\pi i0\\cdot 0/3}|0\\rangle + e^{2\\pi i1\\cdot 0/3}|1\\rangle + e^{2\\pi i2\\cdot 0/3}|2\\rangle\\big) \\\\\n",
    "& = \\frac{1}{\\sqrt{3}}\\big(|0\\rangle + |1\\rangle + |2\\rangle\\big), \\\\\n",
    "F|1\\rangle & = \\frac{1}{\\sqrt{3}}\\sum_{j=0}^{3-1}e^{2\\pi ij\\cdot 1/3}|j\\rangle = \\frac{1}{\\sqrt{3}}\\big(e^{2\\pi i0\\cdot 1/3}|0\\rangle + e^{2\\pi i1\\cdot 1/3}|1\\rangle + e^{2\\pi i2\\cdot 1/3}|2\\rangle\\big) \\\\\n",
    "& = \\frac{1}{\\sqrt{3}}\\big(|0\\rangle +  e^{2\\pi i/3}|1\\rangle +  e^{4\\pi i/3}|2\\rangle\\big), \\\\\n",
    "F|2\\rangle & = \\frac{1}{\\sqrt{3}}\\sum_{j=0}^{3-1}e^{2\\pi ij\\cdot 2/3}|j\\rangle = \\frac{1}{\\sqrt{3}}\\big(e^{2\\pi i0\\cdot 2/3}|0\\rangle + e^{2\\pi i1\\cdot 2/3}|1\\rangle + e^{2\\pi i2\\cdot 2/3}|2\\rangle\\big) \\\\\n",
    "& = \\frac{1}{\\sqrt{3}}\\big(|0\\rangle +  e^{4\\pi i/3}|1\\rangle +  e^{8\\pi i/3}|2\\rangle\\big).\n",
    "\\end{align}"
   ]
  },
  {
   "cell_type": "markdown",
   "id": "474b11d6",
   "metadata": {},
   "source": [
    "Para d = 4 teremos\n",
    "\\begin{align}\n",
    "F|0\\rangle & = \\frac{1}{\\sqrt{4}}\\sum_{j=0}^{4-1}e^{2\\pi ij\\cdot 0/4}|j\\rangle = \\frac{1}{2}\\big(e^{2\\pi i0\\cdot 0/4}|0\\rangle + e^{2\\pi i1\\cdot 0/4}|1\\rangle + e^{2\\pi i2\\cdot 0/4}|2\\rangle + e^{2\\pi i3\\cdot 0/4}|2\\rangle\\big) \\\\\n",
    "& = \\frac{1}{2}\\big(|0\\rangle + |1\\rangle + |2\\rangle + |3\\rangle\\big), \\\\\n",
    "F|1\\rangle & = \\frac{1}{\\sqrt{4}}\\sum_{j=0}^{4-1}e^{2\\pi ij\\cdot 1/4}|j\\rangle = \\frac{1}{2}\\big(e^{2\\pi i0\\cdot 1/4}|0\\rangle + e^{2\\pi i1\\cdot 1/4}|1\\rangle + e^{2\\pi i2\\cdot 1/4}|2\\rangle + e^{2\\pi i3\\cdot 1/4}|3\\rangle\\big) \\\\\n",
    "& = \\frac{1}{2}\\big(|0\\rangle +  e^{\\pi i/2}|1\\rangle + e^{\\pi i}|2\\rangle + e^{3\\pi i/2}|3\\rangle\\big), \\\\\n",
    "F|2\\rangle & = \\frac{1}{\\sqrt{4}}\\sum_{j=0}^{4-1}e^{2\\pi ij\\cdot 2/4}|j\\rangle = \\frac{1}{2}\\big(e^{2\\pi i0\\cdot 2/4}|0\\rangle + e^{2\\pi i1\\cdot 2/4}|1\\rangle + e^{2\\pi i2\\cdot 2/4}|2\\rangle + e^{2\\pi i3\\cdot 2/4}|3\\rangle\\big) \\\\\n",
    "& = \\frac{1}{\\sqrt{3}}\\big(|0\\rangle +  e^{\\pi i}|1\\rangle + e^{2\\pi i}|2\\rangle + e^{3\\pi i}|3\\rangle\\big) \\\\\n",
    "F|3\\rangle & = \\frac{1}{\\sqrt{4}}\\sum_{j=0}^{4-1}e^{2\\pi ij\\cdot 3/4}|j\\rangle = \\frac{1}{2}\\big(e^{2\\pi i0\\cdot 3/4}|0\\rangle + e^{2\\pi i1\\cdot 3/4}|1\\rangle + e^{2\\pi i2\\cdot 3/4}|2\\rangle + e^{2\\pi i3\\cdot 3/4}|3\\rangle\\big) \\\\\n",
    "& = \\frac{1}{\\sqrt{3}}\\big(|0\\rangle +  e^{3\\pi i/2}|1\\rangle + e^{3\\pi i}|2\\rangle + e^{9\\pi i/2}|3\\rangle\\big).\n",
    "\\end{align}\n",
    "\n",
    "__Exercício:__ Obtenha a ação da porta de Fourier na base computacional para $d=5$."
   ]
  },
  {
   "cell_type": "markdown",
   "id": "64689745",
   "metadata": {},
   "source": [
    "Outra operação que precisaremos é o __operador de deslocamento cíclico__, ou __operador de deslocamento de estado__, $X(j)$, é definido por\n",
    "\\begin{equation}\n",
    "X(j)|k\\rangle = |j\\oplus k\\rangle \\equiv |(j+k)\\mod(d)\\rangle.\n",
    "\\end{equation}\n",
    "\n",
    "Para o caso particular $d=2$ vem que\n",
    "\\begin{align}\n",
    "CNOT_{2} =&  \\sum_{j=0}^{2-1}|j\\rangle\\langle j|\\otimes X(j) = |0\\rangle\\langle 0|\\otimes X(0) + |1\\rangle\\langle 1|\\otimes X(1) \\\\\n",
    "& = |0\\rangle\\langle 0|\\otimes \\mathbb{I} + |1\\rangle\\langle 1|\\otimes X,\n",
    "\\end{align}\n",
    "em que usamos\n",
    "\\begin{align}\n",
    "& X(0)|0\\rangle = |0\\oplus 0\\rangle = |0\\rangle, \\\\\n",
    "& X(0)|1\\rangle = |0\\oplus 1\\rangle = |1\\rangle, \\\\\n",
    "& \\therefore\\ X(0) = \\mathbb{I}, \\\\\n",
    "& X(1)|0\\rangle = |1\\oplus 0\\rangle = |1\\rangle, \\\\\n",
    "& X(1)|1\\rangle = |1\\oplus 1\\rangle = |0\\rangle, \\\\\n",
    "& \\therefore\\ X(1) = X.\n",
    "\\end{align}"
   ]
  },
  {
   "cell_type": "markdown",
   "id": "5e33e2ad",
   "metadata": {},
   "source": [
    "Para $d=3$ vem que\n",
    "\\begin{align}\n",
    "CNOT_{3} =&  \\sum_{j=0}^{3-1}|j\\rangle\\langle j|\\otimes X(j) \\\\\n",
    "& = |0\\rangle\\langle 0|\\otimes X(0) + |1\\rangle\\langle 1|\\otimes X(1)  + |2\\rangle\\langle 2|\\otimes X(2).\n",
    "\\end{align}\n",
    "com\n",
    "\\begin{align}\n",
    "& X(0)|0\\rangle = |0\\oplus 0\\rangle = |0\\rangle, \\\\\n",
    "& X(0)|1\\rangle = |0\\oplus 1\\rangle = |1\\rangle, \\\\\n",
    "& X(0)|2\\rangle = |0\\oplus 2\\rangle = |2\\rangle, \\\\\n",
    "& \\therefore\\ X(0) = \\mathbb{I}, \\\\\n",
    "& X(1)|0\\rangle = |1\\oplus 0\\rangle = |1\\rangle, \\\\\n",
    "& X(1)|1\\rangle = |1\\oplus 1\\rangle = |2\\rangle, \\\\\n",
    "& X(1)|2\\rangle = |1\\oplus 2\\rangle = |0\\rangle, \\\\\n",
    "& X(2)|0\\rangle = |2\\oplus 0\\rangle = |2\\rangle, \\\\\n",
    "& X(2)|1\\rangle = |2\\oplus 1\\rangle = |0\\rangle, \\\\\n",
    "& X(2)|2\\rangle = |2\\oplus 2\\rangle = |1\\rangle.\n",
    "\\end{align}\n",
    "Com esse exemplo fica claro porque chamamos $X(j)$ de operador de deslocamento. Vemos que $X(j)$ muda ciclicamente estados da base computacional $\\{|k\\rangle\\}$. Sempre teremos $X(0)=\\mathbb{I}$ pois o deslocamento por $0$ unidades equivale a não fazer nada.\n",
    "\n",
    "__Exercício:__ Mostre que os elementos de matriz do operador deslocamento na base computacional são dados por\n",
    "$\\langle k|X(j)|l\\rangle = \\delta_{k,j\\oplus l}$."
   ]
  },
  {
   "cell_type": "markdown",
   "id": "d7eeb6a9",
   "metadata": {},
   "source": [
    "Outra operacão básica é a __porta CNOT generalizada__:\n",
    "\\begin{equation}\n",
    "CNOT_{d} = \\sum_{j=0}^{d-1}|j\\rangle\\langle j|\\otimes X(j).\n",
    "\\end{equation}\n",
    "\n",
    "Para $d=2$ temos\n",
    "\\begin{align}\n",
    "CNOT_{2} =& \\sum_{j=0}^{2-1}|j\\rangle\\langle j|\\otimes X(j) = |0\\rangle\\langle 0|\\otimes X(0) + |1\\rangle\\langle 1|\\otimes X(1) \\\\\n",
    " =& |0\\rangle\\langle 0|\\otimes \\mathbb{I} + |1\\rangle\\langle 1|\\otimes X.\n",
    "\\end{align}\n",
    "A ação da $CNOT_{2}$ na base computacional é bem conhecida:\n",
    "\\begin{align}\n",
    "& CNOT_{2}|00\\rangle = |00\\rangle, \\\\\n",
    "& CNOT_{2}|01\\rangle = |01\\rangle, \\\\\n",
    "& CNOT_{2}|10\\rangle = |11\\rangle, \\\\\n",
    "& CNOT_{2}|11\\rangle = |10\\rangle.\n",
    "\\end{align}"
   ]
  },
  {
   "cell_type": "markdown",
   "id": "989eb203",
   "metadata": {},
   "source": [
    "Para $d=3$ teremos\n",
    "\\begin{align}\n",
    "CNOT_{3} =& \\sum_{j=0}^{3-1}|j\\rangle\\langle j|\\otimes X(j) \\\\\n",
    "& = |0\\rangle\\langle 0|\\otimes X(0) + |1\\rangle\\langle 1|\\otimes X(1) + |2\\rangle\\langle 2|\\otimes X(2).\n",
    "\\end{align}\n",
    "A ação da $CNOT_{3}$ na base computacional é a seguinte:\n",
    "\\begin{align}\n",
    "& CNOT_{3}|00\\rangle = |00\\rangle, \\\\\n",
    "& CNOT_{3}|01\\rangle = |01\\rangle, \\\\\n",
    "& CNOT_{3}|02\\rangle = |02\\rangle, \\\\\n",
    "& CNOT_{3}|10\\rangle = |11\\rangle, \\\\\n",
    "& CNOT_{3}|11\\rangle = |12\\rangle, \\\\\n",
    "& CNOT_{3}|12\\rangle = |10\\rangle, \\\\\n",
    "& CNOT_{3}|20\\rangle = |22\\rangle, \\\\\n",
    "& CNOT_{3}|21\\rangle = |20\\rangle, \\\\\n",
    "& CNOT_{3}|22\\rangle = |21\\rangle.\n",
    "\\end{align}\n",
    "\n",
    "\n",
    "Vemos assim que a porta $CNOT_{d}$ aplica um deslocamente $X(j)$ no estado do qudit target se o estado do qudit controle for $|j\\rangle$."
   ]
  },
  {
   "cell_type": "markdown",
   "id": "b8f64d5b",
   "metadata": {},
   "source": [
    "Outro operador importante é o __operador de deslocamento de fase__, que é denotado e definido por:\n",
    "\\begin{equation}\n",
    "Z(j)|k\\rangle = e^{2\\pi ijk/d}|k\\rangle.\n",
    "\\end{equation}\n",
    "__Exercício:__ Verifique que os elementos de matriz do operador de fase na base computacional são dados por $\\langle k|Z(j)|l\\rangle = e^{2\\pi ijl/d}\\delta_{k,l}$.\n",
    "\n",
    "\n",
    "É fácil ver que\n",
    "\\begin{align}\n",
    "& Z(0)|k\\rangle = e^{2\\pi ij0/d}|k\\rangle = |k\\rangle \\\\\n",
    "& \\therefore\\ Z(0) = \\mathbb{I}\\ \\forall\\ d.\n",
    "\\end{align}\n",
    "\n",
    "Ademais\n",
    "\\begin{equation}\n",
    "Z(j)|0\\rangle = e^{2\\pi ij0/d}|0\\rangle = |0\\rangle \\ \\forall\\ j.\n",
    "\\end{equation}"
   ]
  },
  {
   "cell_type": "markdown",
   "id": "b764d186",
   "metadata": {},
   "source": [
    "Para $d=2$ teremos\n",
    "\\begin{align}\n",
    "& Z(1)|0\\rangle = e^{2\\pi i1\\cdot 0/2}|1\\rangle = |0\\rangle, \\\\\n",
    "& Z(1)|1\\rangle = e^{2\\pi i1\\cdot 1/2}|1\\rangle = -|1\\rangle, \\\\\n",
    "& \\therefore\\ Z(1) = Z.\n",
    "\\end{align}\n",
    "Ou seja, para $d=2$ o operador de fase $Z(j)$ é o operador de Pauli $Z$.\n",
    "\n",
    "Para $d=3$ teremos\n",
    "\\begin{align}\n",
    "& Z(1)|1\\rangle = e^{2\\pi i1\\cdot 1/3}|1\\rangle = e^{2\\pi i/3}|1\\rangle, \\\\\n",
    "& Z(1)|2\\rangle = e^{2\\pi i1\\cdot 2/3}|2\\rangle = e^{4\\pi i/3}|2\\rangle, \\\\\n",
    "& Z(2)|1\\rangle = e^{2\\pi i2\\cdot 1/3}|1\\rangle = e^{4\\pi i/3}|1\\rangle, \\\\\n",
    "& Z(2)|2\\rangle = e^{2\\pi i2\\cdot 2/3}|2\\rangle = e^{8\\pi i/3}|2\\rangle.\n",
    "\\end{align}"
   ]
  },
  {
   "cell_type": "markdown",
   "id": "f00fc8d1",
   "metadata": {},
   "source": [
    "Para $d=4$ teremos\n",
    "\\begin{align}\n",
    "& Z(1)|1\\rangle = e^{2\\pi i1\\cdot 1/4}|1\\rangle = e^{\\pi i/2}|1\\rangle = i|1\\rangle, \\\\\n",
    "& Z(1)|2\\rangle = e^{2\\pi i1\\cdot 2/4}|2\\rangle = e^{\\pi i}|2\\rangle = -|2\\rangle, \\\\\n",
    "& Z(1)|3\\rangle = e^{2\\pi i1\\cdot 3/4}|3\\rangle = e^{3\\pi i/2}|3\\rangle = -i|3\\rangle, \\\\\n",
    "& Z(2)|1\\rangle = e^{2\\pi i2\\cdot 1/4}|1\\rangle = e^{\\pi i}|1\\rangle = -|1\\rangle, \\\\\n",
    "& Z(2)|2\\rangle = e^{2\\pi i2\\cdot 2/4}|2\\rangle = e^{2\\pi i}|2\\rangle = |2\\rangle, \\\\\n",
    "& Z(2)|3\\rangle = e^{2\\pi i2\\cdot 3/4}|3\\rangle = e^{3\\pi i}|3\\rangle = -|3\\rangle \\\\\n",
    "& Z(3)|1\\rangle = e^{2\\pi i3\\cdot 1/4}|1\\rangle = e^{3\\pi i/2}|1\\rangle = -i|1\\rangle, \\\\\n",
    "& Z(3)|2\\rangle = e^{2\\pi i3\\cdot 2/4}|2\\rangle = e^{3\\pi i}|2\\rangle = -|2\\rangle, \\\\\n",
    "& Z(3)|3\\rangle = e^{2\\pi i3\\cdot 3/4}|3\\rangle = e^{9\\pi i/2}|3\\rangle = |3\\rangle.\n",
    "\\end{align}\n",
    "\n",
    "O operador $Z(j)$ desloca a fase de $j\\pi/2$, consecutivamente, pra os estados da base computacional.\n",
    "\n",
    "__Exercício:__ Obtenha a ação do operador de fase na base computacional para $d=5$."
   ]
  },
  {
   "cell_type": "markdown",
   "id": "8e352788",
   "metadata": {},
   "source": [
    "Para dois qubits, temos que\n",
    "\\begin{equation}\n",
    "|\\Phi_{+}\\rangle_{AB} = CNOT^{A\\rightarrow B}_{2}(H\\otimes\\mathbb{I})(|0\\rangle_{A}\\otimes |0\\rangle_{B}).\n",
    "\\end{equation}\n",
    "\n",
    "Para dois qudits, também podemos obter um estado maximamente emaranhado:\n",
    "\\begin{align}\n",
    "& CNOT_{d}^{A\\rightarrow B}(F_{A}\\otimes\\mathbb{I}_{B})(|0\\rangle_{A}\\otimes|0\\rangle_{B}) = CNOT_{d}^{A\\rightarrow B}(F_{A}|0\\rangle_{A}\\otimes|0\\rangle_{B}) \\\\\n",
    "& = CNOT_{d}^{A\\rightarrow B}\\Big(\\frac{1}{\\sqrt{d}}\\sum_{j=0}^{d-1}e^{2\\pi ij0/d}|j\\rangle\\otimes|0\\rangle_{B}\\Big) = \\frac{1}{\\sqrt{d}}\\sum_{j=0}^{d-1}CNOT_{d}^{A\\rightarrow B}(|j\\rangle\\otimes|0\\rangle_{B}) \\\\\n",
    "& = \\frac{1}{\\sqrt{d}}\\sum_{j=0}^{d-1}\\Big(\\sum_{k=0}^{d-1}|k\\rangle\\langle k|\\otimes X(k)\\Big)(|j\\rangle\\otimes|0\\rangle_{B}) = \\frac{1}{\\sqrt{d}}\\sum_{j,k=0}^{d-1}\\delta_{k,j}|k\\rangle\\otimes X(k)|0\\rangle_{B} \\\\\n",
    "& = \\frac{1}{\\sqrt{d}}\\sum_{k=0}^{d-1}|k\\rangle\\otimes|k\\oplus 0\\rangle_{B} = \\frac{1}{\\sqrt{d}}\\sum_{k=0}^{d-1}|k\\rangle\\otimes|k\\rangle_{B} \\\\\n",
    "& = |\\Phi\\rangle_{AB}.\n",
    "\\end{align}\n",
    "\n",
    "\n",
    "__Exercício:__ Verifique que \n",
    "$$CNOT_{d}^{B\\rightarrow A}(\\mathbb{I}_{A}\\otimes F_{B})(|0\\rangle_{A}\\otimes|0\\rangle_{B})= |\\Phi\\rangle_{AB}.$$"
   ]
  },
  {
   "cell_type": "markdown",
   "id": "52b2b4e2",
   "metadata": {},
   "source": [
    "Os operadores \n",
    "\\begin{equation}\n",
    "\\{X(j)Z(k)\\}_{j,k\\in\\{0,\\cdots,d-1\\}}\n",
    "\\end{equation}\n",
    "são conhecidos como __operadores de Heisenberg-Weyl__. \n",
    "\n",
    "A __base de Bell para dois qudits__ pode ser\n",
    "\\begin{align}\n",
    "|\\Phi_{j,k}\\rangle_{AB} & = \\big(X_{A}(j)Z_{A}(k)\\otimes\\mathbb{I}_{B}\\big)|\\Phi\\rangle_{AB} \\\\\n",
    "& = \\big(X_{A}(j)Z_{A}(k)\\otimes\\mathbb{I}_{B}\\big)\\frac{1}{\\sqrt{d}}\\sum_{l=0}^{d-1}|l\\rangle_{A}\\otimes|l\\rangle_{B} \\\\\n",
    "& = \\frac{1}{\\sqrt{d}}\\sum_{l=0}^{d-1}(X_{A}(j)Z_{A}(k)|l\\rangle_{A})\\otimes|l\\rangle_{B} \\\\\n",
    "& = \\frac{1}{\\sqrt{d}}\\sum_{l=0}^{d-1}(X_{A}(j)e^{2\\pi ikl/d}|l\\rangle_{A})\\otimes|l\\rangle_{B} \\\\\n",
    "& = \\frac{1}{\\sqrt{d}}\\sum_{l=0}^{d-1}e^{2\\pi ikl/d}|j\\oplus l\\rangle_{A}\\otimes|l\\rangle_{B}.\n",
    "\\end{align}"
   ]
  },
  {
   "cell_type": "markdown",
   "id": "2efc773a",
   "metadata": {},
   "source": [
    "Também podemos obter a base de Bell generalizada diretamente da base computacional:\n",
    "\\begin{align}\n",
    "& CNOT^{B\\rightarrow A}_{d}\\big(\\mathbb{I}_{A}\\otimes F_{B}\\big)\\big(|j\\rangle_{A}\\otimes|k\\rangle_{B}\\big) \\\\\n",
    "& = CNOT^{B\\rightarrow A}_{d}\\Big(\\mathbb{I}_{A}\\otimes \\frac{1}{\\sqrt{d}}\\sum_{l,m=0}^{d-1}e^{2\\pi ilm/d}|l\\rangle_{B}\\langle m|\\Big)\\big(|j\\rangle_{A}\\otimes|k\\rangle_{B}\\big) \\\\\n",
    "& = \\frac{1}{\\sqrt{d}}\\sum_{l,m=0}^{d-1}e^{2\\pi ilm/d}CNOT^{B\\rightarrow A}_{d}\\big(|j\\rangle_{A}\\otimes|l\\rangle_{B}\\langle m|k\\rangle_{B}\\big) \\\\\n",
    "& = \\frac{1}{\\sqrt{d}}\\sum_{l=0}^{d-1}e^{2\\pi ilk/d}\\Big(\\sum_{n=0}^{d-1}X(n)_{A}\\otimes|n\\rangle_{B}\\langle n|\\Big)\\big(|j\\rangle_{A}\\otimes|l\\rangle_{B}\\big) \\\\\n",
    "& = \\frac{1}{\\sqrt{d}}\\sum_{l,n=0}^{d-1}e^{2\\pi ilk/d}\\big(|n\\oplus j\\rangle_{A}\\otimes|n\\rangle_{B}\\langle n|l\\rangle_{B}\\big) \\\\\n",
    "& = \\frac{1}{\\sqrt{d}}\\sum_{l=0}^{d-1}e^{2\\pi ilk/d}\\big(|l\\oplus j\\rangle_{A}\\otimes|l\\rangle_{B}\\big) \\\\\n",
    "& = \\frac{1}{\\sqrt{d}}\\sum_{l=0}^{d-1}e^{2\\pi ilk/d}\\big(|j\\oplus l\\rangle_{A}\\otimes|l\\rangle_{B}\\big) \\\\\n",
    "& = |\\Phi_{j,k}\\rangle_{AB}.\n",
    "\\end{align}\n",
    "Ou seja\n",
    "\\begin{equation}\n",
    "|\\Phi_{j,k}\\rangle_{AB} = CNOT^{B\\rightarrow A}_{d}\\big(\\mathbb{I}_{A}\\otimes F_{B}\\big)\\big(|j\\rangle_{A}\\otimes|k\\rangle_{B}\\big) =  \\big(X_{A}(j)Z_{A}(k)\\otimes\\mathbb{I}_{B}\\big)|\\Phi\\rangle_{AB}.\n",
    "\\end{equation}"
   ]
  },
  {
   "cell_type": "markdown",
   "id": "b2da247a",
   "metadata": {},
   "source": [
    "Essa base, que é constituída por $d^{2}$ vetores, é ortonormal\n",
    "\\begin{align}\n",
    "_{AB}\\langle\\Phi_{j,k}|\\Phi_{l,m}\\rangle_{AB} & = \\Big(\\frac{1}{\\sqrt{d}}\\sum_{n=0}^{d-1}e^{-2\\pi ikn/d}\\langle j\\oplus n|\\otimes\\langle n|\\Big)\\Big(\\frac{1}{\\sqrt{d}}\\sum_{p=0}^{d-1}e^{2\\pi imp/d}|l\\oplus p\\rangle\\otimes|p\\rangle\\Big) \\\\\n",
    "& = \\frac{1}{d}\\sum_{n,p=0}^{d-1}e^{-2\\pi i(kn-mp)/d} \\langle j\\oplus n|l\\oplus p\\rangle\\otimes\\langle n|p\\rangle \\\\\n",
    "& = \\frac{1}{d}\\sum_{n,p=0}^{d-1}e^{-2\\pi i(kn-mp)/d} \\langle j\\oplus n|l\\oplus p\\rangle\\delta_{n,p} \\\\\n",
    "& = \\frac{1}{d}\\sum_{n=0}^{d-1}e^{-2\\pi in(k-m)/d} \\langle j\\oplus n|l\\oplus n\\rangle \\\\\n",
    "& = \\frac{1}{d}\\sum_{n=0}^{d-1}e^{-2\\pi in(k-m)/d}\\delta_{j,l} = \\frac{1}{d}d\\delta_{k,m}\\delta_{j,l} \\\\\n",
    "& = \\delta_{k,m}\\delta_{j,l}.\n",
    "\\end{align}"
   ]
  },
  {
   "cell_type": "markdown",
   "id": "50125186",
   "metadata": {},
   "source": [
    "em que usamos\n",
    "\\begin{align}\n",
    "l=m: \\ \\therefore\\ & \\sum_{k=0}^{d-1}e^{2\\pi ik(l-m)/d} = \\sum_{k=0}^{d-1}e^{0} = d, \\\\\n",
    "l\\ne m: \\ \\therefore\\ & \\sum_{k=0}^{d-1}e^{2\\pi ik(l-m)/d} = \\sum_{k=0}^{d-1}\\big(e^{2\\pi i(l-m)/d}\\big)^{k} =  \\frac{1-\\big(e^{2\\pi i(l-m)/d}\\big)^{d}}{1-e^{2\\pi i(l-m)/d}} \\\\\n",
    "& =  \\frac{1-e^{2\\pi i(l-m)}}{1-e^{2\\pi i(l-m)/d}} = 0,\n",
    "\\end{align}\n",
    "em que usamos a série finita\n",
    "\\begin{equation}\n",
    "\\sum_{k=0}^{d-1}x^{k} = \\frac{1-x^{d}}{1-x}\n",
    "\\end{equation}\n",
    "e\n",
    "\\begin{align}\n",
    "& e^{2\\pi i(l-m)} = \\cos(2\\pi(l-m)) +i\\sin(2\\pi(l-m)) = 1-i0 = 1 \\text{ pois } l-m\\in\\mathbb{Z}, \\\\\n",
    "& e^{2\\pi i(l-m)/d} = \\cos(2\\pi(l-m)/d) +i\\sin(2\\pi(l-m)/d) \\ne 1 \\text{ pois } (l-m)/d\\notin\\mathbb{Z}.\n",
    "\\end{align}\n",
    "Ou seja\n",
    "\\begin{equation}\n",
    "\\sum_{k=0}^{d-1}e^{2\\pi ik(l-m)/d} = d\\delta_{l,m}.\n",
    "\\end{equation}"
   ]
  },
  {
   "cell_type": "markdown",
   "id": "bbccb542",
   "metadata": {},
   "source": [
    "E essa base é completa\n",
    "\\begin{align}\n",
    "& \\sum_{j,k=0}^{d-1}|\\Phi_{j,k}\\rangle_{AB}\\langle\\Phi_{j,k}| = \\sum_{j,k=0}^{d-1}\\frac{1}{\\sqrt{d}}\\sum_{l=0}^{d-1}e^{2\\pi ikl/d}|j\\oplus l\\rangle\\otimes|l\\rangle\\frac{1}{\\sqrt{d}}\\sum_{m=0}^{d-1}e^{-2\\pi ikm/d}\\langle j\\oplus m|\\otimes\\langle m| \\\\\n",
    "& = \\frac{1}{d}\\sum_{j,k,l,m=0}^{d-1}e^{2\\pi ik(l-m)/d}|j\\oplus l\\rangle\\langle j\\oplus m|\\otimes|l\\rangle\\langle m| \\\\\n",
    "& = \\frac{1}{d}\\sum_{j,l,m=0}^{d-1}\\Big(\\sum_{k=0}^{d-1}e^{2\\pi ik(l-m)/d}\\Big)|j\\oplus l\\rangle\\langle j\\oplus m|\\otimes|l\\rangle\\langle m| \\\\\n",
    "& = \\frac{1}{d}\\sum_{j,l,m=0}^{d-1}d\\delta_{l,m}|j\\oplus l\\rangle\\langle j\\oplus m|\\otimes|l\\rangle\\langle m| \\\\\n",
    "& = \\sum_{l=0}^{d-1}\\Big(\\sum_{j=0}^{d-1}|j\\oplus l\\rangle\\langle j\\oplus l|\\Big)\\otimes|l\\rangle\\langle l| \\\\\n",
    "& = \\sum_{l=0}^{d-1}\\mathbb{I}_{A}\\otimes|l\\rangle\\langle l| = \\mathbb{I}_{A}\\otimes\\sum_{l=0}^{d-1}|l\\rangle\\langle l| \\\\\n",
    "& = \\mathbb{I}_{A}\\otimes\\mathbb{I}_{B} = \\mathbb{I}_{AB}.\n",
    "\\end{align}"
   ]
  },
  {
   "cell_type": "code",
   "execution_count": null,
   "id": "379078b4",
   "metadata": {},
   "outputs": [],
   "source": []
  }
 ],
 "metadata": {
  "kernelspec": {
   "display_name": "Python 3 (ipykernel)",
   "language": "python",
   "name": "python3"
  },
  "language_info": {
   "codemirror_mode": {
    "name": "ipython",
    "version": 3
   },
   "file_extension": ".py",
   "mimetype": "text/x-python",
   "name": "python",
   "nbconvert_exporter": "python",
   "pygments_lexer": "ipython3",
   "version": "3.9.13"
  }
 },
 "nbformat": 4,
 "nbformat_minor": 5
}
