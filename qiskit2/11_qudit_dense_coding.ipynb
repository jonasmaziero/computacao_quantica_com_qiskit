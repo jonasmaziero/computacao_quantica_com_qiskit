{
 "cells": [
  {
   "cell_type": "markdown",
   "id": "783f5607",
   "metadata": {},
   "source": [
    "### Notas de aula de Computação Quântica <br> Autor: Jonas Maziero"
   ]
  },
  {
   "cell_type": "code",
   "execution_count": 2,
   "id": "41815a22",
   "metadata": {},
   "outputs": [],
   "source": [
    "%run init.ipynb"
   ]
  },
  {
   "cell_type": "markdown",
   "id": "a7d33f44",
   "metadata": {},
   "source": [
    "# Codificação superdensa para qudits\n",
    "\n",
    "## Protocolo\n",
    "O protocolo para qudits é análogo ao que vimos para qubits:\n",
    "1. Alice e Bob, em laboratórios distantes, recebem cada um um qubit de uma par de qudits prerarados em um estado maximamente emaranhados\n",
    "\\begin{equation}\n",
    "|\\Phi\\rangle_{AB} = \\frac{1}{\\sqrt{d}}\\sum_{j=0}^{d-1}|j\\rangle_{A}\\otimes|j\\rangle_{B}.\n",
    "\\end{equation}\n",
    "2. Alice aplica em seu qudit um dos $d^{2}$ operadores de Heisenberg-Weyl:\n",
    "\\begin{equation}\n",
    "X(j)Z(k),\n",
    "\\end{equation}\n",
    "preparando assim um dos estados da base de Bell generalizada:\n",
    "\\begin{equation}\n",
    "|\\Phi_{j,k}\\rangle_{AB} = \\big(X_{A}(j)Z_{A}(k)\\otimes\\mathbb{I}_{B}\\big)|\\Phi\\rangle_{AB}= \\frac{1}{\\sqrt{d}}\\sum_{l=0}^{d-1}e^{2\\pi ikl/d}|j\\oplus l\\rangle_{A}\\otimes|l\\rangle_{B}.\n",
    "\\end{equation}\n",
    "Bob e Alice devem combinar de antemão a codificação que definirá a correspondência entre os índices $(j,k)$ e os $d^{2}$ possíveis símbolos a serem transmitidos.\n",
    "3. Alice envia seu qudit para Bob através de um canal sem ruído.\n",
    "4. Bob faz uma medida na base de Bell generalizada, descobrindo assim qual mensagem Alice enviou."
   ]
  },
  {
   "cell_type": "markdown",
   "id": "f4040f31",
   "metadata": {},
   "source": [
    "## Qutrits ($d=3$)\n",
    "\n",
    "### Item 1\n",
    "\n",
    "Para dois qutrits, o estado maximamente emaranhado toma a forma\n",
    "\\begin{align}\n",
    "|\\Phi\\rangle_{AB} & = \\frac{1}{\\sqrt{3}}\\sum_{j=0}^{2}|j\\rangle_{A}\\otimes|j\\rangle_{B} \\\\\n",
    "& = \\frac{1}{\\sqrt{3}}\\big(|0\\rangle_{A}\\otimes|0\\rangle_{B} +|1\\rangle_{A}\\otimes|1\\rangle_{B} + |2\\rangle_{A}\\otimes|2\\rangle_{B}\\big).\n",
    "\\end{align}\n",
    "A base computacional para um qutrit,\n",
    "\\begin{equation}\n",
    "\\{|0\\rangle,|1\\rangle,|2\\rangle\\},\n",
    "\\end{equation}\n",
    "pode ser codificada usando dois qubits\n",
    "\\begin{align}\n",
    "& |0\\rangle_{A} \\equiv |00\\rangle_{q_{0}q_{1}}, \\\\\n",
    "& |1\\rangle_{A} \\equiv |01\\rangle_{q_{0}q_{1}}, \\\\\n",
    "& |2\\rangle_{A} \\equiv |10\\rangle_{q_{0}q_{1}}.\n",
    "\\end{align}"
   ]
  },
  {
   "cell_type": "markdown",
   "id": "170ac81b",
   "metadata": {},
   "source": [
    "O estado $|11\\rangle_{q_{0}q_{1}}$ não precisa ser utilizado neste caso. Para os dois qubits, por essa codificação, usaremos 4 qubits. O estado maximamente emaranhado de 2 qutrits codificados usando 4 qubits fica escrito como segue:\n",
    "\\begin{align}\n",
    "|\\Phi\\rangle_{AB} & = \\frac{1}{\\sqrt{3}}\\big(|00\\rangle_{q_{0}q_{1}}\\otimes|00\\rangle_{q_{2}q_{3}} +|01\\rangle_{q_{0}q_{1}}\\otimes|01\\rangle_{q_{2}q_{3}} + |10\\rangle_{q_{0}q_{1}}\\otimes|10\\rangle_{q_{0}q_{1}}\\big) \\\\\n",
    "& = \\frac{1}{\\sqrt{3}}\\big(|0000\\rangle_{q_{0}q_{1}q_{2}q_{3}} + |0101\\rangle_{q_{0}q_{1}q_{2}q_{3}} + |1010\\rangle_{q_{0}q_{1}q_{2}q_{3}}\\big).\n",
    "\\end{align}\n",
    "Esse estado pode ser preparado usando o algoritmo de (https://arxiv.org/abs/quant-ph/0406176). Com isso, o item 1 do algoritmo da codificação superdensa pode ser simulado em um computador quântico baseado em qubits."
   ]
  },
  {
   "cell_type": "markdown",
   "id": "1a8a4f81",
   "metadata": {},
   "source": [
    "### Item 2\n",
    "\n",
    "Lembrando\n",
    "\\begin{align}\n",
    "& X(j)|k\\rangle = |j\\oplus k\\rangle \\equiv |(j+k)\\mod(d)\\rangle, \\\\\n",
    "& Z(j)|k\\rangle = e^{2\\pi ijk/d}|k\\rangle.\n",
    "\\end{align}\n",
    "Temos que\n",
    "\\begin{equation}\n",
    "X(0)_{A} = \\mathbb{I}_{A} \\equiv \\mathbb{I}_{q_{0}q_{1}}.\n",
    "\\end{equation}\n",
    "Ademais\n",
    "\\begin{align}\n",
    "& X(1)_{A}|0\\rangle_{A} = |1\\rangle_{A}\\ \\therefore\\ X(1)_{q_{0}q_{1}}|00\\rangle_{q_{0}q_{1}} = |01\\rangle_{q_{0}q_{1}}, \\\\\n",
    "& X(1)_{A}|1\\rangle_{A} = |2\\rangle_{A}\\ \\therefore\\ X(1)_{q_{0}q_{1}}|01\\rangle_{q_{0}q_{1}} = |10\\rangle_{q_{0}q_{1}}, \\\\\n",
    "& X(1)_{A}|2\\rangle_{A} = |0\\rangle_{A}\\ \\therefore\\ X(1)_{q_{0}q_{1}}|10\\rangle_{q_{0}q_{1}} = |00\\rangle_{q_{0}q_{1}}.\n",
    "\\end{align}\n",
    "Notemos que\n",
    "\\begin{align}\n",
    "& C_{X_{0}}^{q_{1}\\rightarrow q_{0}}C_{X_{0}}^{q_{0}\\rightarrow q_{1}}|00\\rangle_{q_{0}q_{1}} = C_{X_{0}}^{q_{1}\\rightarrow q_{0}}|01\\rangle_{q_{0}q_{1}} = |01\\rangle_{q_{0}q_{1}}, \\\\\n",
    "& C_{X_{0}}^{q_{1}\\rightarrow q_{0}}C_{X_{0}}^{q_{0}\\rightarrow q_{1}}|01\\rangle_{q_{0}q_{1}} = C_{X_{0}}^{q_{1}\\rightarrow q_{0}}|00\\rangle_{q_{0}q_{1}} = |10\\rangle_{q_{0}q_{1}}, \\\\\n",
    "& C_{X_{0}}^{q_{1}\\rightarrow q_{0}}C_{X_{0}}^{q_{0}\\rightarrow q_{1}}|10\\rangle_{q_{0}q_{1}} = C_{X_{0}}^{q_{1}\\rightarrow q_{0}}|10\\rangle_{q_{0}q_{1}} = |00\\rangle_{q_{0}q_{1}}.\n",
    "\\end{align}\n",
    "Portanto\n",
    "\\begin{equation}\n",
    "X(1)_{A} \\equiv C_{X_{0}}^{q_{1}\\rightarrow q_{0}}C_{X_{0}}^{q_{0}\\rightarrow q_{1}}.\n",
    "\\end{equation}"
   ]
  },
  {
   "cell_type": "markdown",
   "id": "e8274220",
   "metadata": {},
   "source": [
    "Seguindo, temos que\n",
    "\\begin{align}\n",
    "& X(2)_{A}|0\\rangle_{A} = |2\\rangle_{A}\\ \\therefore\\ X(2)_{q_{0}q_{1}}|00\\rangle_{q_{0}q_{1}} = |10\\rangle_{q_{0}q_{1}}, \\\\\n",
    "& X(2)_{A}|1\\rangle_{A} = |0\\rangle_{A}\\ \\therefore\\ X(2)_{q_{0}q_{1}}|01\\rangle_{q_{0}q_{1}} = |00\\rangle_{q_{0}q_{1}}, \\\\\n",
    "& X(2)_{A}|2\\rangle_{A} = |1\\rangle_{A}\\ \\therefore\\ X(2)_{q_{0}q_{1}}|10\\rangle_{q_{0}q_{1}} = |01\\rangle_{q_{0}q_{1}}.\n",
    "\\end{align}\n",
    "Notemos também que\n",
    "\\begin{align}\n",
    "& C_{X_{0}}^{q_{0}\\rightarrow q_{1}}C_{X_{0}}^{q_{1}\\rightarrow q_{0}}|00\\rangle_{q_{0}q_{1}} = C_{X_{0}}^{q_{0}\\rightarrow q_{1}}|10\\rangle_{q_{0}q_{1}} = |10\\rangle_{q_{0}q_{1}}, \\\\\n",
    "& C_{X_{0}}^{q_{0}\\rightarrow q_{1}}C_{X_{0}}^{q_{1}\\rightarrow q_{0}}|01\\rangle_{q_{0}q_{1}} = C_{X_{0}}^{q_{0}\\rightarrow q_{1}}|01\\rangle_{q_{0}q_{1}} = |00\\rangle_{q_{0}q_{1}}, \\\\\n",
    "& C_{X_{0}}^{q_{0}\\rightarrow q_{1}}C_{X_{0}}^{q_{1}\\rightarrow q_{0}}|10\\rangle_{q_{0}q_{1}} = C_{X_{0}}^{q_{0}\\rightarrow q_{1}}|00\\rangle_{q_{0}q_{1}} = |01\\rangle_{q_{0}q_{1}}.\n",
    "\\end{align}\n",
    "Portanto\n",
    "\\begin{equation}\n",
    "X(2)_{A} \\equiv C_{X_{0}}^{q_{0}\\rightarrow q_{1}}C_{X_{0}}^{q_{1}\\rightarrow q_{0}}.\n",
    "\\end{equation}"
   ]
  },
  {
   "cell_type": "markdown",
   "id": "8af9d9ea",
   "metadata": {},
   "source": [
    "Passando para o operador de deslocamento de fase, $Z(j)|k\\rangle = e^{2\\pi ijk/d}|k\\rangle$, temos que\n",
    "\\begin{equation}\n",
    "Z(0)_{A}|k\\rangle_{A} = |k\\rangle_{A}\\ \\therefore\\ Z(0)_{A}=\\mathbb{I}_{A}\\equiv\\mathbb{I}_{q_{0}q_{1}}.\n",
    "\\end{equation}\n",
    "Também temos\n",
    "\\begin{align}\n",
    "& Z(1)_{A}|0\\rangle_{A} = e^{2\\pi i1\\cdot 0/3}|0\\rangle_{A}=|0\\rangle_{A} \\ \\therefore\\ Z(1)_{q_{0}q_{1}}|00\\rangle_{q_{0}q_{1}} = |00\\rangle_{q_{0}q_{1}}, \\\\\n",
    "& Z(1)_{A}|1\\rangle_{A} = e^{2\\pi i1\\cdot 1/3}|1\\rangle_{A}=e^{2\\pi i/3}|1\\rangle_{A} \\ \\therefore\\ Z(1)_{q_{0}q_{1}}|01\\rangle_{q_{0}q_{1}} = e^{2\\pi i/3}|01\\rangle_{q_{0}q_{1}}, \\\\\n",
    "& Z(1)_{A}|2\\rangle_{A} = e^{2\\pi i1\\cdot 2/3}|2\\rangle_{A}=e^{4\\pi i/3}|1\\rangle_{A} \\ \\therefore\\ Z(1)_{q_{0}q_{1}}|10\\rangle_{q_{0}q_{1}} = e^{4\\pi i/3}|10\\rangle_{q_{0}q_{1}}.\n",
    "\\end{align}\n",
    "Parece que a maneira mais simples de implementar essa operação é\n",
    "\\begin{equation}\n",
    "Z(1)_{q_{0}q_{1}} = (\\mathbb{I}_{q_{0}}\\otimes X_{q_{1}})C_{P(4\\pi/3)_{1}}^{q_{0}\\rightarrow q_{1}}(\\mathbb{I}_{q_{0}}\\otimes X_{q_{1}})(X_{q_{0}}\\otimes\\mathbb{I}_{q_{1}})C_{P(2\\pi/3)_{1}}^{q_{1}\\rightarrow q_{0}}(X_{q_{0}}\\otimes\\mathbb{I}_{q_{1}}).\n",
    "\\end{equation}"
   ]
  },
  {
   "cell_type": "markdown",
   "id": "c6610bdb",
   "metadata": {},
   "source": [
    "Por fim, teremos que\n",
    "\\begin{align}\n",
    "& Z(2)_{A}|0\\rangle_{A} = e^{2\\pi i2\\cdot 0/3}|0\\rangle_{A}=|0\\rangle_{A} \\ \\therefore\\ Z(2)_{q_{0}q_{1}}|00\\rangle_{q_{0}q_{1}} = |00\\rangle_{q_{0}q_{1}}, \\\\\n",
    "& Z(2)_{A}|1\\rangle_{A} = e^{2\\pi i2\\cdot 1/3}|1\\rangle_{A}=e^{4\\pi i/3}|1\\rangle_{A} \\ \\therefore\\ Z(2)_{q_{0}q_{1}}|01\\rangle_{q_{0}q_{1}} = e^{4\\pi i/3}|01\\rangle_{q_{0}q_{1}}, \\\\\n",
    "& Z(2)_{A}|2\\rangle_{A} = e^{2\\pi i2\\cdot 2/3}|2\\rangle_{A}=e^{8\\pi i/3}|1\\rangle_{A} \\ \\therefore\\ Z(2)_{q_{0}q_{1}}|10\\rangle_{q_{0}q_{1}} = e^{8\\pi i/3}|10\\rangle_{q_{0}q_{1}}.\n",
    "\\end{align}\n",
    "Essa operação pode ser implementada usando\n",
    "\\begin{align}\n",
    "Z(2)_{q_{0}q_{1}} & = (\\mathbb{I}_{q_{0}}\\otimes X_{q_{1}})C_{P(8\\pi/3)_{1}}^{q_{0}\\rightarrow q_{1}}(\\mathbb{I}_{q_{0}}\\otimes X_{q_{1}})(X_{q_{0}}\\otimes\\mathbb{I}_{q_{1}})C_{P(4\\pi/3)_{1}}^{q_{1}\\rightarrow q_{0}}(X_{q_{0}}\\otimes\\mathbb{I}_{q_{1}}) \\\\\n",
    "& = Z(1)_{q_{0}q_{1}}Z(1)_{q_{0}q_{1}}.\n",
    "\\end{align}"
   ]
  },
  {
   "cell_type": "markdown",
   "id": "8fc68ae8",
   "metadata": {},
   "source": [
    "Vamos listar os estados da base de Bell generalizada ($|\\Phi_{j,k}\\rangle_{AB} = \\frac{1}{\\sqrt{d}}\\sum_{l=0}^{d-1}e^{2\\pi ikl/d}|j\\oplus l\\rangle_{A}\\otimes|l\\rangle_{B}$ e $|\\Phi_{j,k}\\rangle_{AB}=|\\Phi_{j,k}\\rangle_{q_{0}q_{1}q_{2}q_{3}}$):\n",
    "\\begin{align}\n",
    "|\\Phi_{0,0}\\rangle_{AB} & = \\frac{1}{\\sqrt{3}}\\sum_{l=0}^{2}e^{2\\pi i0l/3}|0\\oplus l\\rangle_{A}\\otimes|l\\rangle_{B} = \\frac{1}{\\sqrt{3}}\\sum_{l=0}^{2}|l\\rangle_{A}\\otimes|l\\rangle_{B} \\\\\n",
    "& = \\frac{1}{\\sqrt{3}}\\big(|0\\rangle_{A}\\otimes|0\\rangle_{B} + |1\\rangle_{A}\\otimes|1\\rangle_{B} + |2\\rangle_{A}\\otimes|2\\rangle_{B}\\big) \\\\\n",
    "& = \\frac{1}{\\sqrt{3}}\\big(|0000\\rangle_{q_{0}q_{1}q_{2}q_{3}} + |0101\\rangle_{q_{0}q_{1}q_{2}q_{3}} + |1010\\rangle_{q_{0}q_{1}q_{2}q_{3}}\\big), \\\\\n",
    "|\\Phi_{0,1}\\rangle_{AB} & = \\frac{1}{\\sqrt{3}}\\sum_{l=0}^{2}e^{2\\pi i1\\cdot l/3}|0\\oplus l\\rangle_{A}\\otimes|l\\rangle_{B} = \\frac{1}{\\sqrt{3}}\\sum_{l=0}^{2}e^{2\\pi il/3}|l\\rangle_{A}\\otimes|l\\rangle_{B} \\\\\n",
    "& = \\frac{1}{\\sqrt{3}}\\big(|0\\rangle_{A}\\otimes|0\\rangle_{B} + e^{2\\pi i/3}|1\\rangle_{A}\\otimes|1\\rangle_{B} + e^{4\\pi il/3}|2\\rangle_{A}\\otimes|2\\rangle_{B}\\big) \\\\\n",
    "& = \\frac{1}{\\sqrt{3}}\\big(|0000\\rangle_{q_{0}q_{1}q_{2}q_{3}} + e^{2\\pi i/3}|0101\\rangle_{q_{0}q_{1}q_{2}q_{3}} + e^{4\\pi i/3}|1010\\rangle_{q_{0}q_{1}q_{2}q_{3}}\\big), \\\\\n",
    "|\\Phi_{0,2}\\rangle_{AB} & = \\frac{1}{\\sqrt{3}}\\sum_{l=0}^{2}e^{2\\pi i2\\cdot l/3}|0\\oplus l\\rangle_{A}\\otimes|l\\rangle_{B} = \\frac{1}{\\sqrt{3}}\\sum_{l=0}^{2}e^{4\\pi il/3}|l\\rangle_{A}\\otimes|l\\rangle_{B} \\\\\n",
    "& = \\frac{1}{\\sqrt{3}}\\big(|0\\rangle_{A}\\otimes|0\\rangle_{B} + e^{4\\pi i/3}|1\\rangle_{A}\\otimes|1\\rangle_{B} + e^{8\\pi il/3}|2\\rangle_{A}\\otimes|2\\rangle_{B}\\big) \\\\\n",
    "& = \\frac{1}{\\sqrt{3}}\\big(|0000\\rangle_{q_{0}q_{1}q_{2}q_{3}} + e^{4\\pi i/3}|0101\\rangle_{q_{0}q_{1}q_{2}q_{3}} + e^{8\\pi i/3}|1010\\rangle_{q_{0}q_{1}q_{2}q_{3}}\\big), \\\\\n",
    "\\end{align}"
   ]
  },
  {
   "cell_type": "markdown",
   "id": "006a9dad",
   "metadata": {},
   "source": [
    "\\begin{align}\n",
    "|\\Phi_{1,0}\\rangle_{AB} & = \\frac{1}{\\sqrt{3}}\\sum_{l=0}^{2}e^{2\\pi i0l/3}|1\\oplus l\\rangle_{A}\\otimes|l\\rangle_{B} = \\frac{1}{\\sqrt{3}}\\sum_{l=0}^{2}|1\\oplus l\\rangle_{A}\\otimes|l\\rangle_{B} \\\\\n",
    "& = \\frac{1}{\\sqrt{3}}\\big(|1\\rangle_{A}\\otimes|0\\rangle_{B} + |2\\rangle_{A}\\otimes|1\\rangle_{B} + |0\\rangle_{A}\\otimes|2\\rangle_{B}\\big) \\\\\n",
    "& = \\frac{1}{\\sqrt{3}}\\big(|0100\\rangle_{q_{0}q_{1}q_{2}q_{3}} + |1001\\rangle_{q_{0}q_{1}q_{2}q_{3}} + |0010\\rangle_{q_{0}q_{1}q_{2}q_{3}}\\big), \\\\\n",
    "|\\Phi_{1,1}\\rangle_{AB} & = \\frac{1}{\\sqrt{3}}\\sum_{l=0}^{2}e^{2\\pi i1\\cdot l/3}|1\\oplus l\\rangle_{A}\\otimes|l\\rangle_{B} = \\frac{1}{\\sqrt{3}}\\sum_{l=0}^{2}e^{2\\pi il/3}|1\\oplus l\\rangle_{A}\\otimes|l\\rangle_{B} \\\\\n",
    "& = \\frac{1}{\\sqrt{3}}\\big(|1\\rangle_{A}\\otimes|0\\rangle_{B} + e^{2\\pi i/3}|2\\rangle_{A}\\otimes|1\\rangle_{B} + e^{4\\pi il/3}|0\\rangle_{A}\\otimes|2\\rangle_{B}\\big) \\\\\n",
    "& = \\frac{1}{\\sqrt{3}}\\big(|0100\\rangle_{q_{0}q_{1}q_{2}q_{3}} + e^{2\\pi i/3}|1001\\rangle_{q_{0}q_{1}q_{2}q_{3}} + e^{4\\pi i/3}|0010\\rangle_{q_{0}q_{1}q_{2}q_{3}}\\big), \\\\\n",
    "|\\Phi_{1,2}\\rangle_{AB} & = \\frac{1}{\\sqrt{3}}\\sum_{l=0}^{2}e^{2\\pi i2\\cdot l/3}|1\\oplus l\\rangle_{A}\\otimes|l\\rangle_{B} = \\frac{1}{\\sqrt{3}}\\sum_{l=0}^{2}e^{4\\pi il/3}|1\\oplus l\\rangle_{A}\\otimes|l\\rangle_{B} \\\\\n",
    "& = \\frac{1}{\\sqrt{3}}\\big(|1\\rangle_{A}\\otimes|0\\rangle_{B} + e^{4\\pi i/3}|2\\rangle_{A}\\otimes|1\\rangle_{B} + e^{8\\pi il/3}|0\\rangle_{A}\\otimes|2\\rangle_{B}\\big) \\\\\n",
    "& = \\frac{1}{\\sqrt{3}}\\big(|0100\\rangle_{q_{0}q_{1}q_{2}q_{3}} + e^{4\\pi i/3}|1001\\rangle_{q_{0}q_{1}q_{2}q_{3}} + e^{8\\pi i/3}|0010\\rangle_{q_{0}q_{1}q_{2}q_{3}}\\big), \\\\\n",
    "\\end{align}"
   ]
  },
  {
   "cell_type": "markdown",
   "id": "bf081c42",
   "metadata": {},
   "source": [
    "\\begin{align}\n",
    "|\\Phi_{2,0}\\rangle_{AB} & = \\frac{1}{\\sqrt{3}}\\sum_{l=0}^{2}e^{2\\pi i0l/3}|2\\oplus l\\rangle_{A}\\otimes|l\\rangle_{B} = \\frac{1}{\\sqrt{3}}\\sum_{l=0}^{2}|2\\oplus l\\rangle_{A}\\otimes|l\\rangle_{B} \\\\\n",
    "& = \\frac{1}{\\sqrt{3}}\\big(|2\\rangle_{A}\\otimes|0\\rangle_{B} + |0\\rangle_{A}\\otimes|1\\rangle_{B} + |1\\rangle_{A}\\otimes|2\\rangle_{B}\\big) \\\\\n",
    "& = \\frac{1}{\\sqrt{3}}\\big(|1000\\rangle_{q_{0}q_{1}q_{2}q_{3}} + |0001\\rangle_{q_{0}q_{1}q_{2}q_{3}} + |0110\\rangle_{q_{0}q_{1}q_{2}q_{3}}\\big), \\\\\n",
    "|\\Phi_{2,1}\\rangle_{AB} & = \\frac{1}{\\sqrt{3}}\\sum_{l=0}^{2}e^{2\\pi i1\\cdot l/3}|2\\oplus l\\rangle_{A}\\otimes|l\\rangle_{B} = \\frac{1}{\\sqrt{3}}\\sum_{l=0}^{2}e^{2\\pi il/3}|2\\oplus l\\rangle_{A}\\otimes|l\\rangle_{B} \\\\\n",
    "& = \\frac{1}{\\sqrt{3}}\\big(|2\\rangle_{A}\\otimes|0\\rangle_{B} + e^{2\\pi i/3}|0\\rangle_{A}\\otimes|1\\rangle_{B} + e^{4\\pi il/3}|1\\rangle_{A}\\otimes|2\\rangle_{B}\\big) \\\\\n",
    "& = \\frac{1}{\\sqrt{3}}\\big(|1000\\rangle_{q_{0}q_{1}q_{2}q_{3}} + e^{2\\pi i/3}|0001\\rangle_{q_{0}q_{1}q_{2}q_{3}} + e^{4\\pi i/3}|0110\\rangle_{q_{0}q_{1}q_{2}q_{3}}\\big), \\\\\n",
    "|\\Phi_{2,2}\\rangle_{AB} & = \\frac{1}{\\sqrt{3}}\\sum_{l=0}^{2}e^{2\\pi i2\\cdot l/3}|2\\oplus l\\rangle_{A}\\otimes|l\\rangle_{B} = \\frac{1}{\\sqrt{3}}\\sum_{l=0}^{2}e^{4\\pi il/3}|2\\oplus l\\rangle_{A}\\otimes|l\\rangle_{B} \\\\\n",
    "& = \\frac{1}{\\sqrt{3}}\\big(|2\\rangle_{A}\\otimes|0\\rangle_{B} + e^{4\\pi i/3}|0\\rangle_{A}\\otimes|1\\rangle_{B} + e^{8\\pi il/3}|1\\rangle_{A}\\otimes|2\\rangle_{B}\\big) \\\\\n",
    "& = \\frac{1}{\\sqrt{3}}\\big(|1000\\rangle_{q_{0}q_{1}q_{2}q_{3}} + e^{4\\pi i/3}|0001\\rangle_{q_{0}q_{1}q_{2}q_{3}} + e^{8\\pi i/3}|0110\\rangle_{q_{0}q_{1}q_{2}q_{3}}\\big).\n",
    "\\end{align}\n",
    "\n",
    "Com o código abaixo, verificamos que essa base é de fato ortonormal, como esperado."
   ]
  },
  {
   "cell_type": "code",
   "execution_count": 3,
   "id": "2a5be478",
   "metadata": {},
   "outputs": [
    {
     "data": {
      "image/png": "[encoded data removed]",
      "text/latex": [
       "$\\displaystyle 0$"
      ],
      "text/plain": [
       "0"
      ]
     },
     "execution_count": 3,
     "metadata": {},
     "output_type": "execute_result"
    }
   ],
   "source": [
    "1 + cos(2*pi/3) + 1j*sin(2*pi/3) + cos(4*pi/3) + 1j*sin(4*pi/3)"
   ]
  },
  {
   "cell_type": "code",
   "execution_count": 4,
   "id": "bd120db8",
   "metadata": {},
   "outputs": [
    {
     "data": {
      "image/png": "[encoded data removed]",
      "text/latex": [
       "$\\displaystyle 0$"
      ],
      "text/plain": [
       "0"
      ]
     },
     "execution_count": 4,
     "metadata": {},
     "output_type": "execute_result"
    }
   ],
   "source": [
    "1 + cos(4*pi/3) + 1j*sin(4*pi/3) + cos(8*pi/3) + 1j*sin(8*pi/3)"
   ]
  },
  {
   "cell_type": "code",
   "execution_count": 6,
   "id": "4f3bc17c",
   "metadata": {},
   "outputs": [
    {
     "data": {
      "image/png": "[encoded data removed]",
      "text/latex": [
       "$\\displaystyle \\left( - \\frac{1}{2}, \\  - \\frac{1}{2}\\right)$"
      ],
      "text/plain": [
       "(-1/2, -1/2)"
      ]
     },
     "execution_count": 6,
     "metadata": {},
     "output_type": "execute_result"
    }
   ],
   "source": [
    "cos(2*pi/3), cos(4*pi/3)"
   ]
  },
  {
   "cell_type": "markdown",
   "id": "dcdbe1ff",
   "metadata": {},
   "source": [
    "### Item 3\n",
    "No canal sem ruído, nessa parte da simulação não se faz nada. O que se poderia fazer é simular um ruído nessa parte do circuito, para o qudit voador."
   ]
  },
  {
   "cell_type": "markdown",
   "id": "f65bebdb",
   "metadata": {},
   "source": [
    "### Item 4\n",
    "\n",
    "Vamos precisar fazer medidas na base de Bell generalizada. "
   ]
  },
  {
   "cell_type": "markdown",
   "id": "c909c156",
   "metadata": {},
   "source": [
    "Como no IBMQ só temos medidas prontas na base computacional, $\\{|j\\rangle_{A}\\otimes|k\\rangle_{B}\\}$, precisamos reverter as operações acima. Teremos que\n",
    "\\begin{align}\n",
    "\\big(CNOT^{B\\rightarrow A}_{d}\\big)^{\\dagger} = \\Big(\\sum_{n=0}^{d-1}X(n)_{A}\\otimes|n\\rangle_{B}\\langle n|\\Big)^{\\dagger} = \\sum_{n=0}^{d-1}X(n)_{A}^{\\dagger}\\otimes|n\\rangle_{B}\\langle n|.\n",
    "\\end{align}\n",
    "Temos que ter\n",
    "\\begin{align}\n",
    "& \\big(CNOT^{B\\rightarrow A}_{d}\\big)^{\\dagger}\\big(CNOT^{B\\rightarrow A}_{d}\\big)=\\big(CNOT^{B\\rightarrow A}_{d}\\big)\\big(CNOT^{B\\rightarrow A}_{d}\\big)^{\\dagger} = \\mathbb{I}_{AB} \\\\\n",
    "& \\therefore\\ \\sum_{n=0}^{d-1}X(n)_{A}^{\\dagger}\\otimes|n\\rangle_{B}\\langle n|\\sum_{m=0}^{d-1}X(m)_{A}^{\\dagger}\\otimes|m\\rangle_{B}\\langle m| = \\sum_{n=0}^{d-1}X(n)_{A}^{\\dagger}X(n)_{A}\\otimes|n\\rangle_{B}\\langle n| = \\mathbb{I}_{AB} \\\\\n",
    "& \\therefore\\ X(n)_{A}^{\\dagger}X(n)_{A} = X(n)_{A}X(n)_{A}^{\\dagger} = \\mathbb{I}_{A}.\n",
    "\\end{align}\n",
    "Lembrando $X(n)|m\\rangle = |n\\oplus m\\rangle = |(n+m)\\mod(d)\\rangle$. Podemos usar\n",
    "\\begin{equation}\n",
    "X(n)^{\\dagger} = X(-n)\n",
    "\\end{equation}\n",
    "com\n",
    "\\begin{equation}\n",
    "X(-n)|m\\rangle := |n\\ominus m\\rangle = |(n-m)\\mod(d)\\rangle.\n",
    "\\end{equation}"
   ]
  },
  {
   "cell_type": "markdown",
   "id": "6dcb3051",
   "metadata": {},
   "source": [
    "Para um qutrit, $d=3$, como vimos acima\n",
    "\\begin{align}\n",
    "& X(0)_{A} = \\mathbb{I}_{q_{0}q_{1}} \\ \\therefore\\ X(0)_{A}^{\\dagger}=X(0)_{A}, \\\\\n",
    "& X(1)_{A} \\equiv C_{X_{0}}^{q_{1}\\rightarrow q_{0}}C_{X_{0}}^{q_{0}\\rightarrow q_{1}}\\ \\therefore\\ X(1)_{A}^{\\dagger} \\equiv C_{X_{0}}^{q_{0}\\rightarrow q_{1}}C_{X_{0}}^{q_{1}\\rightarrow q_{0}}, \\\\\n",
    "& X(2)_{A} \\equiv C_{X_{0}}^{q_{0}\\rightarrow q_{1}}C_{X_{0}}^{q_{1}\\rightarrow q_{0}}\\ \\therefore\\ X(2)_{A}^{\\dagger} \\equiv C_{X_{0}}^{q_{1}\\rightarrow q_{0}}C_{X_{0}}^{q_{0}\\rightarrow q_{1}},\n",
    "\\end{align}\n",
    "em que usamos e.g.\n",
    "\\begin{align}\n",
    "\\big(C_{X_{0}}^{q_{0}\\rightarrow q_{1}}\\big)^{\\dagger} & = \\Big(|0\\rangle_{q_{0}}\\langle 0|\\otimes X_{q_{1}} + |1\\rangle_{q_{0}}\\langle 1|\\otimes\\mathbb{I}_{q_{1}} \\Big)^{\\dagger} \\\\\n",
    "& = |0\\rangle_{q_{0}}\\langle 0|\\otimes X_{q_{1}}^{\\dagger} + |1\\rangle_{q_{0}}\\langle 1|\\otimes\\mathbb{I}_{q_{1}}  \\\\\n",
    "& = |0\\rangle_{q_{0}}\\langle 0|\\otimes X_{q_{1}} + |1\\rangle_{q_{0}}\\langle 1|\\otimes\\mathbb{I}_{q_{1}}  \\\\\n",
    "& = C_{X_{0}}^{q_{0}\\rightarrow q_{1}}.\n",
    "\\end{align}"
   ]
  },
  {
   "cell_type": "markdown",
   "id": "c5d0ff61",
   "metadata": {},
   "source": [
    "Em relação ao operador de Fourier, $F = \\frac{1}{\\sqrt{d}}\\sum_{l,m=0}^{d-1}e^{2\\pi ilm/d}|l\\rangle\\langle m|$, para d = 3 teremos\n",
    "\\begin{align}\n",
    "F|0\\rangle & = \\frac{1}{\\sqrt{3}}\\big(|0\\rangle + |1\\rangle + |2\\rangle\\big) \\ \\therefore\\ F|00\\rangle_{q_{0}q_{1}} = \\frac{1}{\\sqrt{3}}\\big(|00\\rangle_{q_{0}q_{1}} + |01\\rangle_{q_{0}q_{1}} + |10\\rangle_{q_{0}q_{1}}\\big), \\\\\n",
    "F|1\\rangle & = \\frac{1}{\\sqrt{3}}\\big(|0\\rangle +  e^{2\\pi i/3}|1\\rangle +  e^{4\\pi i/3}|2\\rangle\\big)\\ \\therefore\\ F|01\\rangle_{q_{0}q_{1}} = \\frac{1}{\\sqrt{3}}\\big(|00\\rangle_{q_{0}q_{1}} +  e^{2\\pi i/3}|01\\rangle_{q_{0}q_{1}} +  e^{4\\pi i/3}|10\\rangle_{q_{0}q_{1}}\\big), \\\\\n",
    "F|2\\rangle & = \\frac{1}{\\sqrt{3}}\\big(|0\\rangle +  e^{4\\pi i/3}|1\\rangle +  e^{8\\pi i/3}|2\\rangle\\big)\\ \\therefore\\ F|10\\rangle_{q_{0}q_{1}} = \\frac{1}{\\sqrt{3}}\\big(|00\\rangle_{q_{0}q_{1}} +  e^{4\\pi i/3}|01\\rangle_{q_{0}q_{1}} +  e^{8\\pi i/3}|10\\rangle_{q_{0}q_{1}}\\big).\n",
    "\\end{align}"
   ]
  },
  {
   "cell_type": "code",
   "execution_count": null,
   "id": "5dfed316",
   "metadata": {},
   "outputs": [],
   "source": []
  },
  {
   "cell_type": "code",
   "execution_count": null,
   "id": "5b7867ed",
   "metadata": {},
   "outputs": [],
   "source": []
  }
 ],
 "metadata": {
  "kernelspec": {
   "display_name": "Python 3 (ipykernel)",
   "language": "python",
   "name": "python3"
  },
  "language_info": {
   "codemirror_mode": {
    "name": "ipython",
    "version": 3
   },
   "file_extension": ".py",
   "mimetype": "text/x-python",
   "name": "python",
   "nbconvert_exporter": "python",
   "pygments_lexer": "ipython3",
   "version": "3.8.11"
  }
 },
 "nbformat": 4,
 "nbformat_minor": 5
}
