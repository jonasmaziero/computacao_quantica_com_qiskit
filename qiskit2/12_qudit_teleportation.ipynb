{
 "cells": [
  {
   "cell_type": "markdown",
   "id": "90bbae94",
   "metadata": {},
   "source": [
    "### Notas de aula de Computação Quântica <br> Autor: Jonas Maziero"
   ]
  },
  {
   "cell_type": "code",
   "execution_count": 1,
   "id": "24c219a8",
   "metadata": {},
   "outputs": [],
   "source": [
    "%run init.ipynb"
   ]
  },
  {
   "cell_type": "markdown",
   "id": "831059da",
   "metadata": {},
   "source": [
    "# Teleportação quântica para qudits\n",
    "\n",
    "## Protocolo\n",
    "O protocolo de teleportação para qudits também é similar à teleportação de qubits. Alice e Bob querem preparar um qudit, no laboratório de Bob, em um estado desconhecido $|\\psi\\rangle_{A'}$ no qual está preparado um qudit que está com Alice, mas sem usar comunicação quântica, ou seja, usando somente comunicação clássica e operações quânticas locais, mas emaranhamento compartilhado. Alice e Bob podem realizar essa preparação remota de estados se compartilharem um estado maximamente emaranhado de dois qudits e seguirem a seguinte sequência de operações:\n",
    "1. Alice recebe um qudit em um estado qualquer desconhecido:\n",
    "\\begin{equation}\n",
    "|\\psi\\rangle_{A'} = \\sum_{j=0}^{d-1}c_{j}|j\\rangle_{A'}.\n",
    "\\end{equation}\n",
    "2. Alice e Bob, em laboratórios distantes, recebem cada um um qubit de uma par de qudits prerarados em um estado maximamente emaranhado\n",
    "\\begin{equation}\n",
    "|\\Phi\\rangle_{AB} = \\frac{1}{\\sqrt{d}}\\sum_{j=0}^{d-1}|j\\rangle_{A}\\otimes|j\\rangle_{B}.\n",
    "\\end{equation}\n",
    "3. Alice faz uma medida na base de Bell generalizada nos qudits $A'$ e $A$ que estão com ela:\n",
    "\\begin{equation}\n",
    "|\\Phi_{j,k}\\rangle_{A'A} = \\big(X_{A'}(j)Z_{A'}(k)\\otimes\\mathbb{I}_{A}\\big)|\\Phi\\rangle_{A'A}.\n",
    "\\end{equation}\n",
    "4. Alice manda informação clássica, cdits, pra Bob informando o para de índices $(j,k)$, que correspondem ao estado $|\\Phi_{j,k}\\rangle_{A'A}$ obtido na medida na base de Bell generalizada.\n",
    "5. Bob aplica uma operação\n",
    "\\begin{equation}\n",
    "X_{B}(j)Z_{B}(k)\n",
    "\\end{equation}\n",
    "para transformar o estado do seu qudit no estado $|\\psi\\rangle_{B}$, preparando assim seu qudit $B$ no estado no qual o qudit $A'$ estava no início do protocolo."
   ]
  },
  {
   "cell_type": "markdown",
   "id": "140801a7",
   "metadata": {},
   "source": [
    "## Contas\n",
    "\n",
    "Vamos começar verificando que para um estado maximamente emaranhado de dois qudits segue a igualdade\n",
    "\\begin{equation}\n",
    "(M_{A}\\otimes\\mathbb{I}_{B})|\\Phi\\rangle_{AB} = (\\mathbb{I}_{A}\\otimes M_{B}^{T})|\\Phi\\rangle_{AB},\n",
    "\\end{equation}\n",
    "com \n",
    "\\begin{equation}\n",
    "M=\\sum_{j,k=0}^{d-1}M_{j,k}|j\\rangle\\langle k|\n",
    "\\end{equation}\n",
    "sendo uma matriz qualquer. Com isso, teremos\n",
    "\\begin{align}\n",
    "(M_{A}\\otimes\\mathbb{I}_{B})|\\Phi\\rangle_{AB} & = \\Big(\\sum_{j,k=0}^{d-1}M_{j,k}|j\\rangle\\langle k|\\otimes\\mathbb{I}_{B}\\Big)\\Big(\\frac{1}{\\sqrt{d}}\\sum_{l=0}^{d-1}|l\\rangle_{A}\\otimes|l\\rangle_{B}\\Big) \\\\\n",
    "& = \\frac{1}{\\sqrt{d}}\\sum_{j,k,l=0}^{d-1}M_{j,k}|j\\rangle\\langle k|l\\rangle_{A}\\otimes|l\\rangle_{B} \\\\\n",
    "& = \\frac{1}{\\sqrt{d}}\\sum_{j,k,l=0}^{d-1}M_{j,k}|j\\rangle\\delta_{k,l}\\otimes|l\\rangle_{B} \\\\\n",
    "& = \\frac{1}{\\sqrt{d}}\\sum_{j,k=0}^{d-1}M_{j,k}|j\\rangle_{A}\\otimes|k\\rangle_{B}.\n",
    "\\end{align}"
   ]
  },
  {
   "cell_type": "markdown",
   "id": "2891cad1",
   "metadata": {},
   "source": [
    "A transposta de $M$ pode ser escrita como\n",
    "\\begin{equation}\n",
    "M^{T}=\\sum_{j,k=0}^{d-1}M_{k,j}|j\\rangle\\langle k|.\n",
    "\\end{equation}\n",
    "Assim\n",
    "\\begin{align}\n",
    "(\\mathbb{I}_{A}\\otimes M_{B}^{T})|\\Phi\\rangle_{AB} & = \\Big((\\mathbb{I}_{A}\\otimes \\sum_{j,k=0}^{d-1}M_{k,j}|j\\rangle\\langle k|\\Big)\\Big(\\frac{1}{\\sqrt{d}}\\sum_{l=0}^{d-1}|l\\rangle_{A}\\otimes|l\\rangle_{B}\\Big) \\\\\n",
    "& = \\frac{1}{\\sqrt{d}}\\sum_{j,k,l=0}^{d-1}M_{k,j}|l\\rangle_{A}\\otimes|j\\rangle\\langle k|l\\rangle_{B} \\\\\n",
    "& = \\frac{1}{\\sqrt{d}}\\sum_{j,k,l=0}^{d-1}M_{k,j}|l\\rangle_{A}\\otimes|j\\rangle\\delta_{k,l} \\\\\n",
    "& = \\frac{1}{\\sqrt{d}}\\sum_{j,k=0}^{d-1}M_{k,j}|k\\rangle_{A}\\otimes|j\\rangle \\\\\n",
    "& \\equiv \\frac{1}{\\sqrt{d}}\\sum_{j,k=0}^{d-1}M_{j,k}|j\\rangle_{A}\\otimes|k\\rangle \\\\\n",
    "& = (M_{A}\\otimes\\mathbb{I}_{B})|\\Phi\\rangle_{AB}.\n",
    "\\end{align}\n",
    "\n",
    "_OBS._ Me parece que essa igualdade não é válida se os qudits não tiverem a mesma dimensão."
   ]
  },
  {
   "cell_type": "markdown",
   "id": "2f2996f1",
   "metadata": {},
   "source": [
    "Seguindo, usaremos \n",
    "\\begin{align}\n",
    "& (M_{A}\\otimes\\mathbb{I}_{B})|\\Phi\\rangle_{AB} = (\\mathbb{I}_{A}\\otimes M_{B}^{T})|\\Phi\\rangle_{AB} \\\\\n",
    "& \\therefore\\ _{AB}\\langle\\Phi|(M_{A}^{\\dagger}\\otimes\\mathbb{I}_{B}) = _{AB}\\langle\\Phi|(\\mathbb{I}_{A}\\otimes (M_{B}^{T})^{\\dagger}) \\\\\n",
    "& \\therefore\\ _{AB}\\langle\\Phi|(M_{A}^{\\dagger}\\otimes\\mathbb{I}_{B}) = _{AB}\\langle\\Phi|(\\mathbb{I}_{A}\\otimes M_{B}^{*})\n",
    "\\end{align}\n",
    "algumas vezes na sequência. \n",
    "\n",
    "Depois de feita a distribuição de emaranhamento e Alice e Bob compartilharem o estado\n",
    "$$|\\psi\\rangle_{A'}|\\Phi\\rangle_{AB},$$\n",
    "Alice faz uma medida na base de Bell generalizada\n",
    "\\begin{equation}\n",
    "|\\Phi_{j,k}\\rangle_{A'A} = \\big(X_{A'}(j)Z_{A'}(k)\\otimes\\mathbb{I}_{A}\\big)|\\Phi\\rangle_{A'A}  = (U_{A'}^{(jk)}\\otimes\\mathbb{I}_{A}\\big)|\\Phi\\rangle_{A'A},\n",
    "\\end{equation}\n",
    "em que definimos\n",
    "$$U_{A'}^{(jk)} := X_{A'}(j)Z_{A'}(k).$$"
   ]
  },
  {
   "cell_type": "markdown",
   "id": "8fbb8aaf",
   "metadata": {},
   "source": [
    "Com isso, o __estado pós-medida__ não normalizado, quando Alice obtém o resultado $|\\Phi_{j,k}\\rangle_{A'A}$, será dado por\n",
    "\\begin{align}\n",
    "& \\big(|\\Phi_{j,k}\\rangle_{A'A}\\langle\\Phi_{j,k}|\\otimes\\mathbb{I}_{B}\\big)\\big(|\\psi\\rangle_{A'}|\\Phi\\rangle_{AB}\\big) \\\\\n",
    "& = \\big(|\\Phi_{j,k}\\rangle_{A'A}(_{AA'}\\langle\\Phi|(U_{A'}^{(jk)})^{\\dagger}\\otimes\\mathbb{I}_{A})\\otimes\\mathbb{I}_{B}\\big)\\big(|\\psi\\rangle_{A'}|\\Phi\\rangle_{AB}\\big) \\\\\n",
    "& = \\big(|\\Phi_{j,k}\\rangle_{A'A}(_{AA'}\\langle\\Phi|(\\mathbb{I}_{A'}\\otimes(U_{A}^{(jk)})^{*})\\otimes\\mathbb{I}_{B}\\big)\\big(|\\psi\\rangle_{A'}|\\Phi\\rangle_{AB}\\big) \\\\\n",
    "& = \\big((|\\Phi_{j,k}\\rangle_{A'A}\\langle\\Phi|\\otimes\\mathbb{I}_{B})(\\mathbb{I}_{A'}\\otimes(U_{A}^{(jk)})^{*}\\otimes\\mathbb{I}_{B}\\big)\\big(|\\psi\\rangle_{A'}|\\Phi\\rangle_{AB}\\big) \\\\\n",
    "& = \\big(|\\Phi_{j,k}\\rangle_{A'A}\\langle\\Phi|\\otimes\\mathbb{I}_{B}\\big)\\big(|\\psi\\rangle_{A'}\\otimes((U_{A}^{(jk)})^{*}\\otimes\\mathbb{I}_{B})|\\Phi\\rangle_{AB}\\big) \\\\\n",
    "& = \\big(|\\Phi_{j,k}\\rangle_{A'A}\\langle\\Phi|\\otimes\\mathbb{I}_{B}\\big)\\big(|\\psi\\rangle_{A'}\\otimes(\\mathbb{I}_{A}\\otimes((U_{B}^{(jk)})^{*})^{T})|\\Phi\\rangle_{AB}\\big) \\\\\n",
    "& = \\big(|\\Phi_{j,k}\\rangle_{A'A}\\langle\\Phi|\\otimes\\mathbb{I}_{B}\\big)\\big(|\\psi\\rangle_{A'}\\otimes(\\mathbb{I}_{A}\\otimes(U_{B}^{(jk)})^{\\dagger})|\\Phi\\rangle_{AB}\\big) \\\\\n",
    "& = \\big(|\\Phi_{j,k}\\rangle_{A'A}\\langle\\Phi|\\otimes\\mathbb{I}_{B}\\big)\\big(\\mathbb{I}_{A'}\\otimes\\mathbb{I}_{A}\\otimes(U_{B}^{(jk)})^{\\dagger}\\big)\\big(|\\psi\\rangle_{A'}|\\Phi\\rangle_{AB}\\big) \\\\\n",
    "& = \\big(|\\Phi_{j,k}\\rangle_{A'A}\\langle\\Phi|\\otimes(U_{B}^{(jk)})^{\\dagger}\\big)\\big(|\\psi\\rangle_{A'}|\\Phi\\rangle_{AB}\\big) \\\\\n",
    "& = \\big(\\mathbb{I}_{A'}\\otimes\\mathbb{I}_{A}\\otimes(U_{B}^{(jk)})^{\\dagger}\\big) \\big(|\\Phi_{j,k}\\rangle_{A'A}\\langle\\Phi|\\otimes\\mathbb{I}_{B}\\big)\\big(|\\psi\\rangle_{A'}|\\Phi\\rangle_{AB}\\big) \\\\\n",
    "\\end{align}"
   ]
  },
  {
   "cell_type": "markdown",
   "id": "fbac02e6",
   "metadata": {},
   "source": [
    "Agora notemos\n",
    "\\begin{align}\n",
    "& \\big(|\\Phi_{j,k}\\rangle_{A'A}\\langle\\Phi|\\otimes\\mathbb{I}_{B}\\big)\\big(|\\psi\\rangle_{A'}|\\Phi\\rangle_{AB}\\big) \\\\\n",
    "& = \\big(|\\Phi_{j,k}\\rangle_{A'A}d^{-1/2}\\sum_{l}\\langle l|_{A'}\\otimes\\langle l|_{A}\\otimes\\sum_{n}|n\\rangle_{B}\\langle n|\\big)\\big(|\\psi\\rangle_{A'}\\otimes d^{-1/2}\\sum_{m}|m\\rangle_{A}\\otimes|m\\rangle_{B}\\big) \\\\\n",
    "& = d^{-1}\\sum_{l,n,m}\\big(|\\Phi_{j,k}\\rangle_{A'A}\\otimes|n\\rangle_{B}\\big)\\big(\\langle l|_{A'}\\otimes\\langle l|_{A}\\otimes\\langle n|_{B}\\big)\\big(|\\psi\\rangle_{A'}\\otimes |m\\rangle_{A}\\otimes|m\\rangle_{B}\\big) \\\\\n",
    "& = d^{-1}\\sum_{l,n,m}\\big(|\\Phi_{j,k}\\rangle_{A'A}\\otimes|n\\rangle_{B}\\big)\\big(_{A'}\\langle l|\\psi\\rangle_{A'}\\otimes _{A}\\langle l|m\\rangle_{A}\\otimes _{B}\\langle n|m\\rangle_{B}\\big) \\\\\n",
    "& = d^{-1}\\sum_{l,n,m}\\big(|\\Phi_{j,k}\\rangle_{A'A}\\otimes|n\\rangle_{B}\\big)\\big(_{A'}\\langle l|\\psi\\rangle_{A'}\\otimes \\delta_{l,m}\\otimes \\delta_{n,m}\\big) \\\\\n",
    "& = d^{-1}\\sum_{l}\\big(|\\Phi_{j,k}\\rangle_{A'A}\\otimes|l\\rangle_{B}\\big)_{A'}\\langle l|\\psi\\rangle_{A'} \\\\\n",
    "& = d^{-1}|\\Phi_{j,k}\\rangle_{A'A}\\otimes\\sum_{l}(_{A'}\\langle l|\\psi\\rangle_{A'})|l\\rangle_{B} \\\\\n",
    "& \\equiv d^{-1}|\\Phi_{j,k}\\rangle_{A'A}\\otimes\\sum_{l}(_{B}\\langle l|\\psi\\rangle_{B})|l\\rangle_{B} \\\\\n",
    "& = d^{-1}|\\Phi_{j,k}\\rangle_{A'A}\\otimes|\\psi\\rangle_{B}.\n",
    "\\end{align}"
   ]
  },
  {
   "cell_type": "markdown",
   "id": "1846aa0a",
   "metadata": {},
   "source": [
    "Com isso, o estado pós-medida não normalizado fica escrito como\n",
    "\\begin{align}\n",
    "& \\big(|\\Phi_{j,k}\\rangle_{A'A}\\langle\\Phi_{j,k}|\\otimes\\mathbb{I}_{B}\\big)\\big(|\\psi\\rangle_{A'}|\\Phi\\rangle_{AB}\\big) \\\\\n",
    "& = \\big(\\mathbb{I}_{A'}\\otimes\\mathbb{I}_{A}\\otimes(U_{B}^{(jk)})^{\\dagger}\\big)\\big(d^{-1}|\\Phi_{j,k}\\rangle_{A'A}\\otimes|\\psi\\rangle_{B}\\big) \\\\\n",
    "& = d^{-1}|\\Phi_{j,k}\\rangle_{A'A}\\otimes(U_{B}^{(jk)})^{\\dagger}|\\psi\\rangle_{B}.\n",
    "\\end{align}\n",
    "\n",
    "Por conseguinte, uma vez que Alice envia o par de índices $(j,k)$ correspondente ao resultado da sua medida na base generalizada de Bell, Bob, conhecendo $(j,k)$, aplica\n",
    "\\begin{equation}\n",
    "U_{B}^{(jk)}(U_{B}^{(jk)})^{\\dagger}|\\psi\\rangle_{B} = \\mathbb{I}_{B}|\\psi\\rangle_{B} = |\\psi\\rangle_{B},\n",
    "\\end{equation}\n",
    "com \n",
    "$$U_{B}^{(jk)} = X_{B}(j)Z_{B}(k),$$\n",
    "completando assim o protocolo de teleportação."
   ]
  },
  {
   "cell_type": "markdown",
   "id": "ad474402",
   "metadata": {},
   "source": [
    "##### Exercício\n",
    "Calcule a probabilidade de Alice obter o resultado $|\\Phi_{j,k}\\rangle_{A'A}$ em sua medida na base de Bell generalizada.\n",
    "\n",
    "_SOL._ Para um sistema preparado antes da medida em um estado qualquer $|\\xi\\rangle$, o estado pós-medida se obtemos o resultado representado pelo projetor $\\Pi_{j}$ é\n",
    "$$ \\Pi_{j}|\\xi\\rangle/||\\Pi_{j}|\\xi\\rangle||.$$\n",
    "A probabilidade de obtermos o resultado correspondente ao projetor $\\Pi_{j}$ é\n",
    "$$Pr(j) = \\langle\\xi|\\Pi_{j}|\\xi\\rangle = \\langle\\xi|\\Pi_{j}\\Pi_{j}|\\xi\\rangle.$$\n",
    "\n",
    "Na verdade, é mais fácil lembrar do resultado geral\n",
    "$$Pr(M_{j}|\\rho) = Tr(M_{j}\\rho M_{j}^{\\dagger}),$$\n",
    "que para medidas projetivas, $M_{j}=\\Pi_{j}=\\Pi_{j}^{\\dagger}=\\Pi_{j}^{2}$, fica\n",
    "$$Pr(\\Pi_{j}|\\rho) = Tr(\\Pi_{j}\\rho\\Pi_{j}) = Tr(\\Pi_{j}\\Pi_{j}|\\xi\\rangle\\langle\\xi|) = \\langle\\xi|\\Pi_{j}\\Pi_{j}|\\xi\\rangle.$$\n",
    "\n",
    "Portanto, para o estado inicial dos 3 qudits $$|\\psi\\rangle_{A'}\\otimes|\\Phi\\rangle_{AB},$$ \n",
    "a probabilidade de Alice obter o estado $|\\Phi_{j,k}\\rangle_{A'A}$ é\n",
    "\\begin{align}\n",
    "Pr\\big(|\\Phi_{j,k}\\rangle_{A'A}\\big) & = \\big(_{A'}\\langle \\psi|\\otimes\\ _{AB}\\langle\\Phi|\\big)\\big(|\\Phi_{j,k}\\rangle_{A'A}\\langle\\Phi_{j,k}|\\otimes\\mathbb{I}_{B}\\big)\\big(|\\Phi_{j,k}\\rangle_{A'A}\\langle\\Phi_{j,k}|\\otimes\\mathbb{I}_{B}\\big)\\big(|\\psi\\rangle_{A'}|\\Phi\\rangle_{AB}\\big) \\\\\n",
    "& =  d^{-1}\\langle\\Phi_{j,k}|_{A'A}\\otimes\\langle\\psi|_{B}d^{-1}|\\Phi_{j,k}\\rangle_{A'A}\\otimes|\\psi\\rangle_{B} \\\\\n",
    "& = \\frac{1}{d^{2}}.\n",
    "\\end{align}"
   ]
  },
  {
   "cell_type": "markdown",
   "id": "e2a8154c",
   "metadata": {},
   "source": [
    "##### Exercício\n",
    "Considerando que Bob não conhece o resultado da medida feita por Alice, mas que ele sabe que ela fez tal medida, qual é o operador densidade que ele atribui ao seu qudit?\n",
    "\n",
    "_SOL._ Se Bob não sabe o resultado da medida na base de Bell que Alice fez, ele atribui a seguinte mistura estatística como estado do seu qudit:\n",
    "\\begin{align}\n",
    "\\tilde{\\rho}_{B} & = \\sum_{j,k}Pr(\\Phi_{j,k})(U_{B}^{(jk)})^{\\dagger}|\\psi\\rangle_{B}\\langle\\psi|U_{B}^{(jk)} \\\\\n",
    "& = \\frac{1}{d^{2}}\\sum_{j,k}(U_{B}^{(jk)})^{\\dagger}|\\psi\\rangle_{B}\\langle\\psi|U_{B}^{(jk)} \\\\\n",
    "& = \\frac{1}{d^{2}}\\sum_{j,k}Z_{B}(k)^{\\dagger}X_{B}(j)^{\\dagger}|\\psi\\rangle_{B}\\langle\\psi|X_{B}(j)Z_{B}(k) \\\\\n",
    "& = \\frac{\\mathbb{I}_{B}}{d}.\n",
    "\\end{align}"
   ]
  },
  {
   "cell_type": "markdown",
   "id": "5ab970ca",
   "metadata": {},
   "source": [
    "Para obter a última igualdade, aplicamos\n",
    "$$\\rho = \\sum_{l,m=0}^{d-1}\\rho_{l,m}|l\\rangle\\langle m|,$$\n",
    "e\n",
    "$$Z(j)|k\\rangle = e^{2\\pi ijk/d}|k\\rangle\\ \\therefore\\ \\langle k|Z(j)^{\\dagger} = e^{-2\\pi ijk/d}\\langle k|$$\n",
    "e\n",
    "$$X(j)|k\\rangle = |j\\oplus k\\rangle = |(j+k)\\mod(d)\\rangle\\ \\therefore\\ \\langle k|X(j)^{\\dagger}=\\langle j\\oplus k|$$\n",
    "para obter o resutado geral\n",
    "\\begin{align}\n",
    "& \\sum_{j,k=0}^{d-1}X(j)Z(k)\\rho Z(k)^{\\dagger}X(j)^{\\dagger} \\\\\n",
    "& = \\sum_{j,k=0}^{d-1}X(j)Z(k)\\sum_{l,m=0}^{d-1}\\rho_{l,m}|l\\rangle\\langle m| Z(k)^{\\dagger}X(j)^{\\dagger} \\\\ \n",
    "& = \\sum_{j,k,l,m=0}^{d-1}\\rho_{l,m}X(j)Z(k)|l\\rangle\\langle m|Z(k)^{\\dagger}X(j)^{\\dagger} \\\\\n",
    "& = \\sum_{j,k,l,m=0}^{d-1}\\rho_{l,m}X(j)e^{2\\pi ikl/d}|l\\rangle\\langle m|e^{-2\\pi ikm/d}X(j)^{\\dagger} \\\\\n",
    "& = \\sum_{j,k,l,m=0}^{d-1}\\rho_{l,m}e^{2\\pi ik(l-m)/d}X(j)|l\\rangle\\langle m|X(j)^{\\dagger} \\\\\n",
    "& = \\sum_{j,k,l,m=0}^{d-1}\\rho_{l,m}e^{2\\pi ik(l-m)/d}|j\\oplus l\\rangle\\langle j\\oplus m| \\\\\n",
    "& = \\sum_{j,l,m=0}^{d-1}\\rho_{l,m}\\Big(\\sum_{k=0}^{d-1}e^{2\\pi ik(l-m)/d}\\Big)|j\\oplus l\\rangle\\langle j\\oplus m| \\\\\n",
    "& = \\sum_{j,l,m=0}^{d-1}\\rho_{l,m}d\\delta_{l,m}|j\\oplus l\\rangle\\langle j\\oplus m| \\\\\n",
    "& = d\\sum_{l=0}^{d-1}\\rho_{l,l}\\sum_{j=0}^{d-1}|j\\oplus l\\rangle\\langle j\\oplus l| \\\\\n",
    "& = d(1)\\mathbb{I} = d^{2}\\frac{\\mathbb{I}}{d}=d\\mathbb{I},\n",
    "\\end{align}\n",
    "em que usamos $Tr(\\rho)=\\sum_{l=0}^{d-1}\\rho_{l,l}=1$ e $\\sum_{k=0}^{d-1}e^{2\\pi ik(l-m)/d} = d\\delta_{l,m}$. Essa operação é conhecida como __twirl operation__."
   ]
  },
  {
   "cell_type": "markdown",
   "id": "21bad391",
   "metadata": {},
   "source": [
    "Mas o que queremos verificar de fato é que\n",
    "$$\\sum_{j,k=0}^{d-1}Z(k)^{\\dagger}X(j)^{\\dagger}\\rho X(j)Z(k) = d^{2}\\frac{\\mathbb{I}}{d}.$$\n",
    "Mas não sabemos qual é a ação de $Z(k)^{\\dagger}$ e de $X(j)^{\\dagger}$ na base de kets, e isso complica a resolução deste exercício. Pela ação de \n",
    "$$Z(j)|k\\rangle = e^{2\\pi ijk/d}|k\\rangle,$$\n",
    "vemos que este pode ser escrito de forma geral como\n",
    "$$Z(j) = \\sum_{k=0}^{d-1}e^{2\\pi ijk/d}|k\\rangle\\langle k| \\ \\therefore\\ Z(j)^{\\dagger} = \\sum_{k=0}^{d-1}e^{-2\\pi ijk/d}|k\\rangle\\langle k|.$$\n",
    "Consequentemente\n",
    "$$Z(j)^{\\dagger}|k\\rangle = \\sum_{k'=0}^{d-1}e^{-2\\pi ijk'/d}|k'\\rangle\\langle k'|k\\rangle = e^{-2\\pi ijk/d}|k\\rangle \\ \\therefore\\ \\langle k|Z(j) = e^{2\\pi ijk/d}\\langle k|.$$\n",
    "\n",
    "Por outro lado, de $X(j)|k\\rangle = |j\\oplus k\\rangle$ sabemos que\n",
    "$$X(j)^{\\dagger}X(j)|k\\rangle = X(j)^{\\dagger}|j\\oplus k\\rangle := |k\\rangle.$$\n",
    "Podemos definir então\n",
    "$$X(j)^{\\dagger}|k\\rangle = |j\\ominus k\\rangle \\ \\therefore\\ \\langle k|X(j) = \\langle j\\ominus k|.$$"
   ]
  },
  {
   "cell_type": "markdown",
   "id": "a35c3b19",
   "metadata": {},
   "source": [
    "Com isso podemos obter\n",
    "\\begin{align}\n",
    "& \\sum_{j,k=0}^{d-1}Z(k)^{\\dagger}X(j)^{\\dagger}\\rho X(j)Z(k)  \\\\\n",
    "& = \\sum_{j,k=0}^{d-1}Z(k)^{\\dagger}X(j)^{\\dagger}\\sum_{l,m=0}^{d-1}\\rho_{l,m}|l\\rangle\\langle m|X(j)Z(k)  \\\\ \n",
    "& = \\sum_{j,k,l,m=0}^{d-1}\\rho_{l,m}Z(k)^{\\dagger}X(j)^{\\dagger}|l\\rangle\\langle m|X(j)Z(k) \\\\\n",
    "& = \\sum_{j,k,l,m=0}^{d-1}\\rho_{l,m}Z(k)^{\\dagger}|j\\ominus l\\rangle\\langle j\\ominus m|Z(k) \\\\\n",
    "& = \\sum_{j,k,l,m=0}^{d-1}\\rho_{l,m}e^{-2\\pi ik(j\\ominus l)/d}|j\\ominus l\\rangle\\langle j\\ominus m|e^{2\\pi ik(j\\ominus m)/d} \\\\\n",
    "& = \\sum_{j,l,m=0}^{d-1}\\rho_{l,m}\\Big(\\sum_{k=0}^{d-1}e^{2\\pi ik(j\\ominus m-j\\ominus l)/d}\\Big)|j\\ominus l\\rangle\\langle j\\ominus m| \\\\\n",
    "& = \\sum_{j,l,m=0}^{d-1}\\rho_{l,m}d\\delta_{j\\ominus m,j\\ominus l}|j\\ominus l\\rangle\\langle j\\ominus m| \\\\\n",
    "& = d\\sum_{j,l,m=0}^{d-1}\\rho_{l,m}\\delta_{m,l}|j\\ominus l\\rangle\\langle j\\ominus m| \\\\\n",
    "& = d\\sum_{l=0}^{d-1}\\rho_{l,l}\\sum_{j=0}^{d-1}|j\\ominus l\\rangle\\langle j\\ominus l| \\\\\n",
    "& = d\\sum_{l=0}^{d-1}\\rho_{l,l}\\mathbb{I} \\\\\n",
    "& = d(1)\\mathbb{I} = d^{2}\\frac{\\mathbb{I}}{d}.\n",
    "\\end{align}"
   ]
  },
  {
   "cell_type": "code",
   "execution_count": null,
   "id": "a99472f3",
   "metadata": {},
   "outputs": [],
   "source": []
  }
 ],
 "metadata": {
  "kernelspec": {
   "display_name": "Python 3 (ipykernel)",
   "language": "python",
   "name": "python3"
  },
  "language_info": {
   "codemirror_mode": {
    "name": "ipython",
    "version": 3
   },
   "file_extension": ".py",
   "mimetype": "text/x-python",
   "name": "python",
   "nbconvert_exporter": "python",
   "pygments_lexer": "ipython3",
   "version": "3.8.11"
  }
 },
 "nbformat": 4,
 "nbformat_minor": 5
}
