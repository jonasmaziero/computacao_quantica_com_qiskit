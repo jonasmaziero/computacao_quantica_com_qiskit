{
 "cells": [
  {
   "cell_type": "markdown",
   "id": "90bbae94",
   "metadata": {},
   "source": [
    "### Notas de aula de Computação Quântica <br> Autor: Jonas Maziero"
   ]
  },
  {
   "cell_type": "code",
   "execution_count": 1,
   "id": "24c219a8",
   "metadata": {},
   "outputs": [],
   "source": [
    "%run init.ipynb"
   ]
  },
  {
   "cell_type": "markdown",
   "id": "831059da",
   "metadata": {},
   "source": [
    "# Teleswap para qudits\n",
    "ou\n",
    "# Teletransporte de estados mistos de qudits\n",
    "\n",
    "## Protocolo\n",
    "O protocolo de teleswap para qudits também é similar à teleswap de qubits. Alice e Bob querem preparar um qudit, no laboratório de Bob, em um estado desconhecido \n",
    "$$\\rho_{B}=\\rho_{A'}=Tr_{C}\\big(|\\psi\\rangle_{CA'}\\langle\\psi|\\big),$$\n",
    "no qual está preparado um qudit que está com Alice, e que faz parte de um estado composto por 2 qudits e compartilhado com Charlie,\n",
    "$$|\\psi\\rangle_{CA'},$$\n",
    "mas sem usar comunicação quântica, ou seja, usando somente comunicação clássica e operações quânticas locais, mas com emaranhamento compartilhado. Alice e Bob podem realizar essa preparação remota de estados desconhecido se compartilharem um estado maximamente emaranhado de dois qudits e seguirem a seguinte sequência de operações:\n",
    "1. Alice recebe um qudit de um par de qudits preparado em um estado qualquer desconhecido:\n",
    "\\begin{equation}\n",
    "|\\psi\\rangle_{CA'} = \\sum_{j,k=0}^{d-1}c_{j,k}|j\\rangle_{C}\\otimes|k\\rangle_{A'}.\n",
    "\\end{equation}\n",
    "2. Alice e Bob, em laboratórios distantes, recebem cada um um qubit de uma par de qudits prerarados em um estado maximamente emaranhado\n",
    "\\begin{equation}\n",
    "|\\Phi\\rangle_{AB} = \\frac{1}{\\sqrt{d}}\\sum_{j=0}^{d-1}|j\\rangle_{A}\\otimes|j\\rangle_{B}.\n",
    "\\end{equation}\n",
    "3. Alice faz uma medida na base de Bell generalizada nos qudits $A'$ e $A$ que estão com ela:\n",
    "\\begin{equation}\n",
    "|\\Phi_{j,k}\\rangle_{A'A} = \\big(X_{A'}(j)Z_{A'}(k)\\otimes\\mathbb{I}_{A}\\big)|\\Phi\\rangle_{A'A}.\n",
    "\\end{equation}\n",
    "4. Alice manda informação clássica, cdits, pra Bob informando o par de índices $(j,k)$, que correspondem ao estado $|\\Phi_{j,k}\\rangle_{A'A}$ obtido na medida na base de Bell generalizada.\n",
    "5. Bob aplica uma operação\n",
    "\\begin{equation}\n",
    "X_{B}(j)Z_{B}(k)\n",
    "\\end{equation}\n",
    "para transformar o estado do seu qudit e do de Charlie no estado $|\\psi\\rangle_{CB}$, preparando assim seu qudit $B$ no estado no qual o qudit $A'$ estava no início do protocolo."
   ]
  },
  {
   "cell_type": "markdown",
   "id": "140801a7",
   "metadata": {},
   "source": [
    "## Contas\n",
    "\n",
    "Vamos usar a igualdade\n",
    "\\begin{equation}\n",
    "(M_{A}\\otimes\\mathbb{I}_{B})|\\Phi\\rangle_{AB} = (\\mathbb{I}_{A}\\otimes M_{B}^{T})|\\Phi\\rangle_{AB},\n",
    "\\end{equation}\n",
    "que vale para qualquer matriz $M$, se $|\\Phi\\rangle_{AB}$ é um estado maximamente emaranhado, como verificamos em aulas anteriores.\n",
    "\n",
    "Seguindo, usaremos \n",
    "\\begin{align}\n",
    "& (M_{A}\\otimes\\mathbb{I}_{B})|\\Phi\\rangle_{AB} = (\\mathbb{I}_{A}\\otimes M_{B}^{T})|\\Phi\\rangle_{AB} \\therefore\\ _{AB}\\langle\\Phi|(M_{A}^{\\dagger}\\otimes\\mathbb{I}_{B}) = _{AB}\\langle\\Phi|(\\mathbb{I}_{A}\\otimes M_{B}^{*})\n",
    "\\end{align}\n",
    "algumas vezes na sequência. \n",
    "\n",
    "Depois de feita a distribuição de emaranhamento e Charlie, Alice e Bob compartilharem o estado\n",
    "$$|\\psi\\rangle_{CA'}|\\Phi\\rangle_{AB},$$\n",
    "Alice faz uma medida na base de Bell generalizada\n",
    "\\begin{equation}\n",
    "|\\Phi_{j,k}\\rangle_{A'A} = \\big(X_{A'}(j)Z_{A'}(k)\\otimes\\mathbb{I}_{A}\\big)|\\Phi\\rangle_{A'A}  = (U_{A'}^{(jk)}\\otimes\\mathbb{I}_{A}\\big)|\\Phi\\rangle_{A'A},\n",
    "\\end{equation}\n",
    "em que definimos\n",
    "$$U_{A'}^{(jk)} := X_{A'}(j)Z_{A'}(k).$$"
   ]
  },
  {
   "cell_type": "markdown",
   "id": "8fbb8aaf",
   "metadata": {},
   "source": [
    "Com isso, o __estado pós-medida__ não normalizado será dado por\n",
    "\\begin{align}\n",
    "& \\big(\\mathbb{I}_{C}\\otimes|\\Phi_{j,k}\\rangle_{A'A}\\langle\\Phi_{j,k}|\\otimes\\mathbb{I}_{B}\\big)\\big(|\\psi\\rangle_{CA'}|\\Phi\\rangle_{AB}\\big) \\\\\n",
    "& = \\big(\\mathbb{I}_{C}\\otimes|\\Phi_{j,k}\\rangle_{A'A}(_{AA'}\\langle\\Phi|(U_{A'}^{(jk)})^{\\dagger}\\otimes\\mathbb{I}_{A})\\otimes\\mathbb{I}_{B}\\big)\\big(|\\psi\\rangle_{CA'}|\\Phi\\rangle_{AB}\\big) \\\\\n",
    "& = \\big(\\mathbb{I}_{C}\\otimes|\\Phi_{j,k}\\rangle_{A'A}(_{AA'}\\langle\\Phi|(\\mathbb{I}_{A'}\\otimes(U_{A}^{(jk)})^{*})\\otimes\\mathbb{I}_{B}\\big)\\big(|\\psi\\rangle_{CA'}|\\Phi\\rangle_{AB}\\big) \\\\\n",
    "& = \\big((\\mathbb{I}_{C}\\otimes|\\Phi_{j,k}\\rangle_{A'A}\\langle\\Phi|\\otimes\\mathbb{I}_{B})(\\mathbb{I}_{C}\\otimes\\mathbb{I}_{A'}\\otimes(U_{A}^{(jk)})^{*}\\otimes\\mathbb{I}_{B}\\big)\\big(|\\psi\\rangle_{CA'}|\\Phi\\rangle_{AB}\\big) \\\\\n",
    "& = \\big(\\mathbb{I}_{C}\\otimes|\\Phi_{j,k}\\rangle_{A'A}\\langle\\Phi|\\otimes\\mathbb{I}_{B}\\big)\\big(|\\psi\\rangle_{CA'}\\otimes((U_{A}^{(jk)})^{*}\\otimes\\mathbb{I}_{B})|\\Phi\\rangle_{AB}\\big) \\\\\n",
    "& = \\big(\\mathbb{I}_{C}\\otimes|\\Phi_{j,k}\\rangle_{A'A}\\langle\\Phi|\\otimes\\mathbb{I}_{B}\\big)\\big(|\\psi\\rangle_{CA'}\\otimes(\\mathbb{I}_{A}\\otimes((U_{B}^{(jk)})^{*})^{T})|\\Phi\\rangle_{AB}\\big) \\\\\n",
    "& = \\big(\\mathbb{I}_{C}\\otimes|\\Phi_{j,k}\\rangle_{A'A}\\langle\\Phi|\\otimes\\mathbb{I}_{B}\\big)\\big(|\\psi\\rangle_{CA'}\\otimes(\\mathbb{I}_{A}\\otimes(U_{B}^{(jk)})^{\\dagger})|\\Phi\\rangle_{AB}\\big) \\\\\n",
    "& = \\big(\\mathbb{I}_{C}\\otimes|\\Phi_{j,k}\\rangle_{A'A}\\langle\\Phi|\\otimes\\mathbb{I}_{B}\\big)\\big(\\mathbb{I}_{CA'}\\otimes\\mathbb{I}_{A}\\otimes(U_{B}^{(jk)})^{\\dagger}\\big)\\big(|\\psi\\rangle_{CA'}|\\Phi\\rangle_{AB}\\big) \\\\\n",
    "& = \\big(\\mathbb{I}_{C}\\otimes|\\Phi_{j,k}\\rangle_{A'A}\\langle\\Phi|\\otimes(U_{B}^{(jk)})^{\\dagger}\\big)\\big(|\\psi\\rangle_{CA'}|\\Phi\\rangle_{AB}\\big) \\\\\n",
    "& = \\big(\\mathbb{I}_{C}\\otimes\\mathbb{I}_{A'}\\otimes\\mathbb{I}_{A}\\otimes(U_{B}^{(jk)})^{\\dagger}\\big) \\big(\\mathbb{I}_{C}\\otimes|\\Phi_{j,k}\\rangle_{A'A}\\langle\\Phi|\\otimes\\mathbb{I}_{B}\\big)\\big(|\\psi\\rangle_{CA'}|\\Phi\\rangle_{AB}\\big).\n",
    "\\end{align}"
   ]
  },
  {
   "cell_type": "markdown",
   "id": "fbac02e6",
   "metadata": {},
   "source": [
    "Agora notemos\n",
    "\\begin{align}\n",
    "& \\big(\\mathbb{I}_{C}\\otimes|\\Phi_{j,k}\\rangle_{A'A}\\langle\\Phi|\\otimes\\mathbb{I}_{B}\\big)\\big(|\\psi\\rangle_{CA'}|\\Phi\\rangle_{AB}\\big) \\\\\n",
    "& = \\big(\\sum_{q}|q\\rangle_{C}\\langle q|\\otimes|\\Phi_{j,k}\\rangle_{A'A}d^{-1/2}\\sum_{l}\\langle l|_{A'}\\otimes\\langle l|_{A}\\otimes\\sum_{n}|n\\rangle_{B}\\langle n|\\big)\\big(|\\psi\\rangle_{CA'}\\otimes d^{-1/2}\\sum_{m}|m\\rangle_{A}\\otimes|m\\rangle_{B}\\big) \\\\\n",
    "& = d^{-1}\\sum_{l,n,m,q}\\big(|q\\rangle_{C}\\otimes|\\Phi_{j,k}\\rangle_{A'A}\\otimes|n\\rangle_{B}\\big)\\big(\\langle q|_{C}\\otimes\\langle l|_{A'}\\otimes\\langle l|_{A}\\otimes\\langle n|_{B}\\big)\\big(|\\psi\\rangle_{CA'}\\otimes |m\\rangle_{A}\\otimes|m\\rangle_{B}\\big) \\\\\n",
    "& = d^{-1}\\sum_{l,n,m,q}\\big(|q\\rangle_{C}\\otimes|\\Phi_{j,k}\\rangle_{A'A}\\otimes|n\\rangle_{B}\\big)\\big(_{CA'}\\langle ql|\\psi\\rangle_{CA'}\\otimes _{A}\\langle l|m\\rangle_{A}\\otimes _{B}\\langle n|m\\rangle_{B}\\big) \\\\\n",
    "& = d^{-1}\\sum_{l,n,m,q}\\big(|\\Phi_{j,k}\\rangle_{A'A}\\otimes|qn\\rangle_{CB}\\big)\\big(_{CA'}\\langle ql|\\psi\\rangle_{CA'}\\otimes \\delta_{l,m}\\otimes \\delta_{n,m}\\big) \\\\\n",
    "& = d^{-1}\\sum_{l,q}\\big(|\\Phi_{j,k}\\rangle_{A'A}\\otimes|ql\\rangle_{CB}\\big)_{CA'}\\langle ql|\\psi\\rangle_{CA'} \\\\\n",
    "& = d^{-1}|\\Phi_{j,k}\\rangle_{A'A}\\otimes\\sum_{l,q}(_{CA'}\\langle ql|\\psi\\rangle_{CA'})|ql\\rangle_{CB} \\\\\n",
    "& \\equiv d^{-1}|\\Phi_{j,k}\\rangle_{A'A}\\otimes\\sum_{l,q}(_{CB}\\langle ql|\\psi\\rangle_{CB})|ql\\rangle_{CB} \\\\\n",
    "& = d^{-1}|\\Phi_{j,k}\\rangle_{A'A}\\otimes|\\psi\\rangle_{CB}.\n",
    "\\end{align}"
   ]
  },
  {
   "cell_type": "markdown",
   "id": "1846aa0a",
   "metadata": {},
   "source": [
    "Com isso, o estado pós-medida não normalizado fica escrito como\n",
    "\\begin{align}\n",
    "& \\big(\\mathbb{I}_{C}\\otimes|\\Phi_{j,k}\\rangle_{A'A}\\langle\\Phi_{j,k}|\\otimes\\mathbb{I}_{B}\\big)\\big(|\\psi\\rangle_{CA'}|\\Phi\\rangle_{AB}\\big) \\\\\n",
    "& = \\big(\\mathbb{I}_{A'}\\otimes\\mathbb{I}_{A}\\otimes\\mathbb{I}_{C}\\otimes(U_{B}^{(jk)})^{\\dagger}\\big)\\big(d^{-1}|\\Phi_{j,k}\\rangle_{A'A}\\otimes|\\psi\\rangle_{CB}\\big) \\\\\n",
    "& = d^{-1}|\\Phi_{j,k}\\rangle_{A'A}\\otimes\\big(\\mathbb{I}_{C}\\otimes(U_{B}^{(jk)})^{\\dagger}\\big)|\\psi\\rangle_{CB}.\n",
    "\\end{align}\n",
    "\n",
    "Por conseguinte, uma vez que Alice envia o par de índices $(j,k)$ correspondente ao resultado da sua medida na base generalizada de Bell, Bob, conhecendo $(j,k)$, aplica\n",
    "\\begin{equation}\n",
    "\\big(\\mathbb{I}_{C}\\otimes U_{B}^{(jk)}\\big)\\big(\\mathbb{I}_{C}\\otimes U_{B}^{(jk)})^{\\dagger}\\big)|\\psi\\rangle_{CB} = \\mathbb{I}_{B}|\\psi\\rangle_{CB} = |\\psi\\rangle_{CB},\n",
    "\\end{equation}\n",
    "com \n",
    "$$U_{B}^{(jk)} = X_{B}(j)Z_{B}(k),$$\n",
    "completando assim o protocolo de teleswap."
   ]
  },
  {
   "cell_type": "markdown",
   "id": "405329f1",
   "metadata": {},
   "source": [
    "Neste caso, a probabilidade de Alice obter o resultado $|\\Phi_{j,k}\\rangle_{A'A}$ em sua medida na base de Bell generalizada é\n",
    "\\begin{align}\n",
    "Pr\\big(|\\Phi_{j,k}\\rangle_{A'A}\\big) & = \\big(_{CA'}\\langle \\psi|\\otimes\\ _{AB}\\langle\\Phi|\\big)\\big(\\mathbb{I}_{C}\\otimes|\\Phi_{j,k}\\rangle_{A'A}\\langle\\Phi_{j,k}|\\otimes\\mathbb{I}_{B}\\big)\\big(|\\Phi_{j,k}\\rangle_{A'A}\\langle\\Phi_{j,k}|\\otimes\\mathbb{I}_{B}\\big)\\big(|\\psi\\rangle_{CA'}|\\Phi\\rangle_{AB}\\big) \\\\\n",
    "& =  d^{-1}\\langle\\Phi_{j,k}|_{A'A}\\otimes\\langle\\psi|_{CB}d^{-1}|\\Phi_{j,k}\\rangle_{A'A}\\otimes|\\psi\\rangle_{CB} \\\\\n",
    "& = \\frac{1}{d^{2}}.\n",
    "\\end{align}"
   ]
  },
  {
   "cell_type": "markdown",
   "id": "6ac240f6",
   "metadata": {},
   "source": [
    "Se Bob não sabe o resultado da medida na base de Bell que Alice fez, ele atribui a seguinte mistura estatística como estado do seu qudit:\n",
    "\\begin{align}\n",
    "\\tilde{\\rho}_{B} & = \\sum_{j,k}Pr(\\Phi_{j,k})(U_{B}^{(jk)})^{\\dagger}Tr_{C}(|\\psi\\rangle_{CB}\\langle\\psi|)\\langle U_{B}^{(jk)} \\\\\n",
    "& = \\frac{1}{d^{2}}\\sum_{j,k}(U_{B}^{(jk)})^{\\dagger}\\rho_{B}U_{B}^{(jk)} \\\\\n",
    "& = \\frac{1}{d^{2}}\\sum_{j,k}Z_{B}(k)^{\\dagger}X_{B}(j)^{\\dagger}\\rho_{B}X_{B}(j)Z_{B}(k) \\\\\n",
    "& = \\frac{\\mathbb{I}_{B}}{d},\n",
    "\\end{align}\n",
    "em que usamos a operação twirl:\n",
    "$$\\sum_{j,k=0}^{d-1}Z(k)^{\\dagger}X(j)^{\\dagger}\\rho X(j)Z(k) = d\\mathbb{I}.$$"
   ]
  },
  {
   "cell_type": "markdown",
   "id": "ae66bca2",
   "metadata": {},
   "source": [
    "## Swap de emaranhamento\n",
    "Como no caso $d=2$, para um $d$ qualquer novamente se o estado inicial de Charlie e Alice é maximamente emaranhado, i.e.,\n",
    "$$|\\psi\\rangle_{CA'} = |\\Phi\\rangle_{CA'},$$\n",
    "no final do protocolo de telportação o estado dos qudits de Charlie e Bob,\n",
    "$$|\\Phi\\rangle_{CB},$$\n",
    "será maximamente emaranhado, sem que esses qudits tenham interagido diretamente."
   ]
  },
  {
   "cell_type": "code",
   "execution_count": null,
   "id": "85884947",
   "metadata": {},
   "outputs": [],
   "source": []
  }
 ],
 "metadata": {
  "kernelspec": {
   "display_name": "Python 3 (ipykernel)",
   "language": "python",
   "name": "python3"
  },
  "language_info": {
   "codemirror_mode": {
    "name": "ipython",
    "version": 3
   },
   "file_extension": ".py",
   "mimetype": "text/x-python",
   "name": "python",
   "nbconvert_exporter": "python",
   "pygments_lexer": "ipython3",
   "version": "3.8.11"
  }
 },
 "nbformat": 4,
 "nbformat_minor": 5
}
