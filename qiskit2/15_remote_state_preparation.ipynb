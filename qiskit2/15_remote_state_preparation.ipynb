{
 "cells": [
  {
   "cell_type": "markdown",
   "id": "018e23ce",
   "metadata": {},
   "source": [
    "### Notas de aula de Computação Quântica <br> Autor: Jonas Maziero"
   ]
  },
  {
   "cell_type": "code",
   "execution_count": 1,
   "id": "c59496d3",
   "metadata": {},
   "outputs": [],
   "source": [
    "%run init.ipynb"
   ]
  },
  {
   "cell_type": "markdown",
   "id": "1834da54",
   "metadata": {},
   "source": [
    "# Preparação remota de estados\n",
    "\n",
    "A preparação remota de estados (PRE) é uma variante do protocolo de teleportação quântica. Na PRE o estado $|\\psi\\rangle$ do quanton de Alice é conhecido, e Alice e Bob querem preparar um quanton no laboratório distante de Bob no estado $|\\psi\\rangle$.\n",
    "\n",
    "## Exemplo\n",
    "Consideremos que o qubit de Alice está preparado no estado \n",
    "$$|\\psi\\rangle_{A'} = 2^{-1/2}\\big(|0\\rangle_{A'} + e^{i\\phi}|1\\rangle_{A'}\\big).$$\n",
    "Como no protocolo de teleportação, consideraremos inicialmente que Alice e Bob compartilham um estado maximamente emaranhado de 2 qubits:\n",
    "$$|\\Phi\\rangle_{AB} = 2^{-1/2}\\big(|00\\rangle_{AB}+|11\\rangle_{AB}\\big).$$\n",
    "O estado inicial dos 3 qubits é\n",
    "\n",
    "Conhecendo o estado $|\\psi\\rangle$, Alice faz uma medida no qubit $A$ na base\n",
    "$$\\big\\{|\\psi^{*}\\rangle_{A},|\\psi^{*}_{\\perp}\\rangle_{A}\\big\\} = \\big\\{2^{-1/2}\\big(|0\\rangle_{A'} + e^{-i\\phi}|1\\rangle_{A'}\\big),2^{-1/2}\\big(|0\\rangle_{A'} - e^{-i\\phi}|1\\rangle_{A'}\\big)\\big\\}.$$"
   ]
  },
  {
   "cell_type": "markdown",
   "id": "297e65cb",
   "metadata": {},
   "source": [
    "Se Alice obtém $|\\psi^{*}\\rangle_{A}$ na medida, o estado pós-medida será proporcional a\n",
    "\\begin{align}\n",
    "& (|\\psi^{*}\\rangle_{A}\\langle\\psi^{*}|\\otimes\\mathbb{I}_{B}\\big)|\\Phi\\rangle_{AB} = (|\\psi^{*}\\rangle_{A}\\langle\\psi^{*}|\\otimes\\mathbb{I}_{B}\\big)2^{-1/2}\\big(|00\\rangle_{AB}+|11\\rangle_{AB}\\big) \\\\\n",
    "& = 2^{-1/2}\\big(|\\psi^{*}\\rangle_{A}\\langle\\psi^{*}|0\\rangle_{A}\\otimes|0\\rangle_{B}+|\\psi^{*}\\rangle_{A}\\langle\\psi^{*}|1\\rangle_{A}\\otimes|1\\rangle_{B}\\big) \\\\\n",
    "& = 2^{-1}|\\psi^{*}\\rangle_{A}\\otimes\\big(|0\\rangle_{B}+e^{i\\phi}|1\\rangle_{B}\\big) \\\\\n",
    "& = 2^{-1/2}|\\psi^{*}\\rangle_{A}\\otimes|\\psi\\rangle_{B}.\n",
    "\\end{align}\n",
    "Nesse caso o qubit de Bob acaba no estado desejado, sem necessitar de nenhuma operação local.\n",
    "\n",
    "Agora, se Alice obtém $|\\psi^{*}_{\\perp}\\rangle_{A}$ na sua medida, o estado pós-medida será proporcional a\n",
    "\\begin{align}\n",
    "& (|\\psi^{*}_{\\perp}\\rangle_{A}\\langle\\psi^{*}_{\\perp}|\\otimes\\mathbb{I}_{B}\\big)|\\Phi\\rangle_{AB} = (|\\psi^{*}_{\\perp}\\rangle_{A}\\langle\\psi^{*}_{\\perp}|\\otimes\\mathbb{I}_{B}\\big)2^{-1/2}\\big(|00\\rangle_{AB}+|11\\rangle_{AB}\\big) \\\\\n",
    "& = 2^{-1/2}\\big(|\\psi^{*}_{\\perp}\\rangle_{A}\\langle\\psi^{*}_{\\perp}|0\\rangle_{A}\\otimes|0\\rangle_{B}+|\\psi^{*}_{\\perp}\\rangle_{A}\\langle\\psi^{*}_{\\perp}|1\\rangle_{A}\\otimes|1\\rangle_{B}\\big) \\\\\n",
    "& = 2^{-1}|\\psi^{*}_{\\perp}\\rangle_{A}\\otimes\\big(|0\\rangle_{B}-e^{i\\phi}|1\\rangle_{B}\\big) \\\\\n",
    "& = 2^{-1/2}|\\psi^{*}_{\\perp}\\rangle_{A}\\otimes Z_{B}|\\psi\\rangle_{B}.\n",
    "\\end{align}\n",
    "Neste caso, para preparar o estado certo, Bob tem que aplicar $Z$ no seu qubit."
   ]
  },
  {
   "cell_type": "markdown",
   "id": "3dd9eecd",
   "metadata": {},
   "source": [
    "Vemos assim que, para esta classe particular de estados no equador da esfera de Bloch, se Alice conhece o estado $|\\psi\\rangle$ a ser preparado (conhece $\\phi$) e Alice e Bob compartilham um estado maximamente emaranhado, eles conseguem preparar o qubit de Bob no estado $|\\psi\\rangle$ se Alice faz medidas na base $\\big\\{|\\psi^{*}\\rangle_{A},|\\psi^{*}_{\\perp}\\rangle_{A}\\big\\}$ e envia um cbit para Bob informando o resultado\n",
    "\\begin{align}\n",
    "& |\\psi^{*}\\rangle_{A} \\rightarrow 0 \\rightarrow \\mathbb{I}_{B} \\rightarrow |\\psi\\rangle_{B}, \\\\\n",
    "& |\\psi^{*}_{\\perp}\\rangle_{A} \\rightarrow 1 \\rightarrow Z_{B} \\rightarrow |\\psi\\rangle_{B}.\n",
    "\\end{align}\n",
    "\n",
    "Alguns artigos forma publicados sobre PRE com estados mistos e o papel da discórdia quântica, e não do emaranhamento, neste caso:\n",
    "- B. Dakic et al., “Quantum discord as resource for remote state preparation,” Nature Phys. 8, 666 (2012).\n",
    "- G. L. Giorgi, “Quantum discord and remote state preparation,” Phys. Rev. A 88, 022315 (2013).\n",
    "\n"
   ]
  },
  {
   "cell_type": "markdown",
   "id": "b5f6bfb6",
   "metadata": {},
   "source": [
    "### Simulação no IBMQ\n",
    "Vamos considerar \n",
    "$$\\phi=\\pi/2\\ \\therefore\\ |\\psi\\rangle = 2^{-1/2}\\big(|0\\rangle+i|1\\rangle\\big) = |\\oplus\\rangle.$$\n",
    "Assim\n",
    "\\begin{align}\n",
    "& |\\psi^{*}\\rangle = 2^{-1/2}\\big(|0\\rangle-i|1\\rangle\\big) = |\\ominus\\rangle, \\\\\n",
    "& |\\psi^{*}_{\\perp}\\rangle = 2^{-1/2}\\big(|0\\rangle+i|1\\rangle\\big) = |\\oplus\\rangle.\n",
    "\\end{align}"
   ]
  },
  {
   "cell_type": "code",
   "execution_count": 63,
   "id": "b0be672a",
   "metadata": {},
   "outputs": [
    {
     "name": "stderr",
     "output_type": "stream",
     "text": [
      "ibmqfactory.load_account:WARNING:2022-06-28 11:17:19,003: Credentials are already in use. The existing account in the session will be replaced.\n"
     ]
    }
   ],
   "source": [
    "from qiskit import *\n",
    "nshots = 8192\n",
    "IBMQ.load_account()\n",
    "provider = qiskit.IBMQ.get_provider(hub = 'ibm-q-research-2', group = 'federal-uni-sant-1', project = 'main')\n",
    "device = provider.get_backend('ibmq_bogota')\n",
    "simulator = Aer.get_backend('qasm_simulator')\n",
    "from qiskit.tools.monitor import job_monitor, backend_overview, backend_monitor\n",
    "from qiskit.tools.visualization import plot_histogram"
   ]
  },
  {
   "cell_type": "code",
   "execution_count": 64,
   "id": "7d642488",
   "metadata": {},
   "outputs": [
    {
     "data": {
      "image/png": "[encoded data removed]",
      "text/plain": [
       "<Figure size 908.575x264.88 with 1 Axes>"
      ]
     },
     "execution_count": 64,
     "metadata": {},
     "output_type": "execute_result"
    }
   ],
   "source": [
    "q0 = QuantumRegister(1); q1 = QuantumRegister(1)\n",
    "c0 = ClassicalRegister(1); c1 = ClassicalRegister(1)\n",
    "qc = QuantumCircuit(q0,q1,c0,c1)\n",
    "qc.h(q0); qc.cx(q0,q1) # emaranhamento compartilhado entre Alice e Bob\n",
    "qc.barrier()\n",
    "qc.x(q0); qc.sdg(q0); qc.h(q0); qc.measure(q0,c0) # Medida de Alice\n",
    "qc.barrier()\n",
    "qc.z(q1).c_if(c0, 1) # acao de Bob condicionada no cbit enviado por Alice\n",
    "qc.barrier()\n",
    "qc.sdg(q1); qc.h(q1); qc.measure(q1,c1) # passa da base circular pra computacional\n",
    "qc.draw(output='mpl')"
   ]
  },
  {
   "cell_type": "code",
   "execution_count": 65,
   "id": "d9561929",
   "metadata": {},
   "outputs": [],
   "source": [
    "jobS = execute(qc, backend = simulator, shots = nshots)"
   ]
  },
  {
   "cell_type": "code",
   "execution_count": 67,
   "id": "d3428d1b",
   "metadata": {},
   "outputs": [
    {
     "data": {
      "image/png": "[encoded data removed]",
      "text/plain": [
       "<Figure size 504x360 with 1 Axes>"
      ]
     },
     "execution_count": 67,
     "metadata": {},
     "output_type": "execute_result"
    }
   ],
   "source": [
    "plot_histogram(jobS.result().get_counts(qc))"
   ]
  },
  {
   "cell_type": "markdown",
   "id": "f369fb6d",
   "metadata": {},
   "source": [
    "## Preparação remota de um estado qualquer de 1 qubit?\n",
    "Vamos considerar o protocolo de preparação remota para um estado qualquer\n",
    "$$|\\psi\\rangle = \\cos(\\theta/2)|0\\rangle + e^{i\\phi}\\sin(\\theta/2)|1\\rangle.$$\n",
    "Neste caso\n",
    "$$|\\psi^{*}\\rangle = \\cos(\\theta/2)|0\\rangle + e^{-i\\phi}\\sin(\\theta/2)|1\\rangle$$\n",
    "e\n",
    "$$|\\psi^{*}_{\\perp}\\rangle = e^{i\\phi}\\sin(\\theta/2)|0\\rangle - \\cos(\\theta/2)|1\\rangle.$$\n",
    "\n",
    "O estado pós-medida será proporcional a\n",
    "\\begin{align}\n",
    "& (|\\psi^{*}\\rangle_{A}\\langle\\psi^{*}|\\otimes\\mathbb{I}_{B}\\big)|\\Phi\\rangle_{AB} = (|\\psi^{*}\\rangle_{A}\\langle\\psi^{*}|\\otimes\\mathbb{I}_{B}\\big)2^{-1/2}\\big(|00\\rangle_{AB}+|11\\rangle_{AB}\\big) \\\\\n",
    "& = 2^{-1/2}\\big(|\\psi^{*}\\rangle_{A}\\langle\\psi^{*}|0\\rangle_{A}\\otimes|0\\rangle_{B}+|\\psi^{*}\\rangle_{A}\\langle\\psi^{*}|1\\rangle_{A}\\otimes|1\\rangle_{B}\\big) \\\\\n",
    "& = 2^{-1/2}|\\psi^{*}\\rangle_{A}\\otimes\\big(\\cos(\\theta/2)|0\\rangle_{B}+e^{i\\phi}\\sin(\\theta/2)|1\\rangle_{B}\\big) \\\\\n",
    "& = 2^{-1/2}|\\psi^{*}\\rangle_{A}\\otimes|\\psi\\rangle_{B}.\n",
    "\\end{align}"
   ]
  },
  {
   "cell_type": "markdown",
   "id": "ff5d0b27",
   "metadata": {},
   "source": [
    "ou\n",
    "\\begin{align}\n",
    "& (|\\psi^{*}_{\\perp}\\rangle_{A}\\langle\\psi^{*}_{\\perp}|\\otimes\\mathbb{I}_{B}\\big)|\\Phi\\rangle_{AB} = (|\\psi^{*}_{\\perp}\\rangle_{A}\\langle\\psi^{*}_{\\perp}|\\otimes\\mathbb{I}_{B}\\big)2^{-1/2}\\big(|00\\rangle_{AB}+|11\\rangle_{AB}\\big) \\\\\n",
    "& = 2^{-1/2}\\big(|\\psi^{*}_{\\perp}\\rangle_{A}\\langle\\psi^{*}_{\\perp}|0\\rangle_{A}\\otimes|0\\rangle_{B}+|\\psi^{*}_{\\perp}\\rangle_{A}\\langle\\psi^{*}_{\\perp}|1\\rangle_{A}\\otimes|1\\rangle_{B}\\big) \\\\\n",
    "& = 2^{-1}|\\psi^{*}_{\\perp}\\rangle_{A}\\otimes\\big(e^{-i\\phi}\\sin(\\theta/2)|0\\rangle_{B}-\\cos(\\theta/2)|1\\rangle_{B}\\big) \\\\\n",
    "& = 2^{-1/2}|\\psi^{*}_{\\perp}\\rangle_{A}\\otimes Z_{B}X_{B}|\\psi^{*}\\rangle_{B}.\n",
    "\\end{align}\n",
    "O problema aqui é que não tem uma operação local de Bob que troca \n",
    "$$e^{-i\\phi}\\rightarrow e^{i\\phi},$$\n",
    "ou tem (__exercício__)?"
   ]
  },
  {
   "cell_type": "markdown",
   "id": "c4b731ea",
   "metadata": {},
   "source": [
    "considerar mandar phi e aplicar P(phi) = diminui no. cbits"
   ]
  },
  {
   "cell_type": "markdown",
   "id": "bab76910",
   "metadata": {},
   "source": [
    "### Outra possibilidade para estado geral de 1 qubit\n",
    "Estado no equador definido por uma direção qualquer\n",
    "$$|\\psi\\rangle_{A'} = 2^{-1/2}\\big(|n_{+}\\rangle_{A'} + e^{i\\phi}|n_{-}\\rangle_{A'}\\big).$$\n",
    "Usar como canal quântico\n",
    "$$|\\Psi_{-}\\rangle_{AB} = 2^{-1/2}\\big(|n_{+}n_{-}\\rangle_{AB}-|n_{-}n_{+}\\rangle_{AB}\\big).$$\n",
    "\n",
    "Das contas que fizemos, é possível preparar remotamente estados no equador de qualquer direção $\\hat{n}$, mas para que seja vantajoso usar PRE Alice e Bob devem ter compartilhado de antemão esse referencial."
   ]
  },
  {
   "cell_type": "code",
   "execution_count": null,
   "id": "9a7fa8e9",
   "metadata": {},
   "outputs": [],
   "source": []
  }
 ],
 "metadata": {
  "kernelspec": {
   "display_name": "Python 3 (ipykernel)",
   "language": "python",
   "name": "python3"
  },
  "language_info": {
   "codemirror_mode": {
    "name": "ipython",
    "version": 3
   },
   "file_extension": ".py",
   "mimetype": "text/x-python",
   "name": "python",
   "nbconvert_exporter": "python",
   "pygments_lexer": "ipython3",
   "version": "3.9.13"
  }
 },
 "nbformat": 4,
 "nbformat_minor": 5
}
