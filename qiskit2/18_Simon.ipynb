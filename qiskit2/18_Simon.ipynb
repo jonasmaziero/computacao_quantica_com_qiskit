{
 "cells": [
  {
   "cell_type": "markdown",
   "id": "c1a5405f",
   "metadata": {},
   "source": [
    "### Notas de aula de Computação Quântica <br> Autor: Jonas Maziero"
   ]
  },
  {
   "cell_type": "code",
   "execution_count": 1,
   "id": "60988f0e",
   "metadata": {},
   "outputs": [],
   "source": [
    "%run init.ipynb"
   ]
  },
  {
   "cell_type": "markdown",
   "id": "d7595bcf",
   "metadata": {},
   "source": [
    "# Algoritmo de Simon\n",
    "\n",
    "Nos é fornecido um oráculo que retorna o valor de uma função\n",
    "$$f:\\{0,1\\}^{n}\\rightarrow \\{0,1\\}^{n}$$\n",
    "tal que\n",
    "$$f(x)=f(y) \\text{ se e somente se } x=y\\oplus s.$$\n",
    "O problema de Simon é, fazendo perguntas para o oráculo, determinar se\n",
    "$$s=00\\cdots0 \\text{ ou }s\\ne00\\cdots0.$$\n",
    "OBS. Algumas vezes o problema de Simon é dito como o problema de determinar $s$.\n",
    "\n",
    "Notemos que se\n",
    "$$s=00\\cdots 0 \\text{ a função é } 1\\text{-pra-}1,$$\n",
    "ou seja, para diferentes valores de $x$ teremos diferentes valores de $f(x)$. Mas se\n",
    "$$s\\ne00\\cdots 0 \\text{ a função é } 2\\text{-pra-}1,$$\n",
    "ou seja, teremos 2 valores $x$ mapeados em um único valor $f(x)$."
   ]
  },
  {
   "cell_type": "markdown",
   "id": "4841eb47",
   "metadata": {},
   "source": [
    "Começamos inicializando 2 grupos de $n$ qubits no estado\n",
    "$$|\\Psi_{0}\\rangle = |0\\rangle^{\\otimes n}\\otimes|0\\rangle^{\\otimes n}.$$\n",
    "\n",
    "Seguindo, como fizemos no algoritmo de Deutsch-Jozsa (ADJ) e no algoritmo de Bernstein-Vazirani (ABV), aplicamos portas de __Hadamard__ no primeiro grupo de $n$ qubits. Obtemos assim o estado\n",
    "\\begin{align}\n",
    "|\\Psi_{1}\\rangle & = \\big(H^{\\otimes n}\\otimes\\mathbb{I}^{\\otimes n}\\big)|\\Psi_{0}\\rangle \\\\\n",
    "& = H^{\\otimes n}|0\\rangle^{\\otimes n}\\otimes|0\\rangle^{\\otimes n} = |+\\rangle^{\\otimes n}\\otimes|0\\rangle^{\\otimes n} \\\\\n",
    "& = \\frac{1}{2^{n/2}}\\sum_{x=0}^{2^{n}-1}|x\\rangle\\otimes|0\\rangle^{\\otimes n}.\n",
    "\\end{align}\n",
    "O algoritmo de Simon está ilustrado na figura abaixo.\n",
    "<img src='fig_simon.png' width='400'>"
   ]
  },
  {
   "cell_type": "markdown",
   "id": "73427fa9",
   "metadata": {},
   "source": [
    "Também como nos ADJ e ABV, a ação do __oráculo__ é a seguinte\n",
    "$$U_{f}|x\\rangle\\otimes|y\\rangle=|x\\rangle\\otimes|y\\oplus f(x)\\rangle,$$\n",
    "ou\n",
    "$$U_{f} = \\sum_{x,y=0}^{2^{n}-1}|x\\rangle\\langle x|\\otimes|y\\oplus f(x)\\rangle\\langle y|.$$\n",
    "Com isso, aplicando o oráculo,  teremos que\n",
    "\\begin{align}\n",
    "|\\Psi_{2}\\rangle &= U_{f}|\\Psi_{1}\\rangle \\\\\n",
    "& = \\frac{1}{2^{n/2}}\\sum_{x=0}^{2^{n}-1}U_{f}|x\\rangle\\otimes|0\\rangle^{\\otimes n} \\\\\n",
    "& = \\frac{1}{2^{n/2}}\\sum_{x=0}^{2^{n}-1}U_{f}|x\\rangle\\otimes|0\\rangle \\\\\n",
    "& = \\frac{1}{2^{n/2}}\\sum_{x=0}^{2^{n}-1}|x\\rangle\\otimes|0\\oplus f(x)\\rangle \\\\\n",
    "& = \\frac{1}{2^{n/2}}\\sum_{x=0}^{2^{n}-1}|x\\rangle\\otimes|f(x)\\rangle.\n",
    "\\end{align}\n",
    "_OBS._ Diferente dos ADJ e ABV, neste ponto do algoritmo de Simon (AS) parece que temos emaranhamento criado. Isso é interessante, uma vez que o AS é o 1º desta classe a prover uma separação exponencial clássico-quântico."
   ]
  },
  {
   "cell_type": "markdown",
   "id": "7e1865e5",
   "metadata": {},
   "source": [
    "Seguindo, fazemos medidas no 2º grupo de $n$ qubits. A _probabilidade_ de obtermos o resultado $|j\\rangle=|j_{1}j_{2}\\cdots j_{n}\\rangle$ é\n",
    "\\begin{align}\n",
    "Pr(j|\\Psi_{2}) & = \\langle\\Psi_{2}|\\big(\\mathbb{I}_{n}\\otimes|j\\rangle\\langle j|\\big)|\\Psi_{2}\\rangle \\\\\n",
    "& = \\frac{1}{2^{n/2}}\\sum_{x=0}^{2^{n}-1}\\langle x|\\otimes\\langle f(x)|\\big(\\mathbb{I}_{n}\\otimes|j\\rangle\\langle j|\\big)\\frac{1}{2^{n/2}}\\sum_{y=0}^{2^{n}-1}|y\\rangle\\otimes|f(y)\\rangle \\\\\n",
    "& = \\frac{1}{2^{n}}\\sum_{x,y=0}^{2^{n}-1}\\langle x|y\\rangle\\otimes\\langle f(x)|j\\rangle\\langle j|f(y)\\rangle  \\\\\n",
    "& = \\frac{1}{2^{n}}\\sum_{x,y=0}^{2^{n}-1}\\delta_{x,y}\\otimes\\langle f(x)|j\\rangle\\langle j|f(y)\\rangle \\\\\n",
    "& = \\frac{1}{2^{n}}\\sum_{x=0}^{2^{n}-1}\\langle f(x)|j\\rangle\\langle j|f(x)\\rangle \\\\\n",
    "& = \\frac{1}{2^{n}}\\sum_{x=0}^{2^{n}-1}\\big|\\langle f(x)|j\\rangle\\big|^{2} \\\\\n",
    "& = \\begin{cases} 2^{-n} \\text{ se } f \\text{ é 1-pra-1} \\\\\n",
    "2^{-n+1} \\text{ se } f \\text{ é 2-pra-1} \\end{cases}.\n",
    "\\end{align}"
   ]
  },
  {
   "cell_type": "markdown",
   "id": "9c860beb",
   "metadata": {},
   "source": [
    "Se o resultado $|j\\rangle$ é obtido, o estado pós medida é proporcional a\n",
    "\\begin{align}\n",
    "\\big(\\mathbb{I}_{n}\\otimes|j\\rangle\\langle j|\\big)|\\Psi_{2}\\rangle  & = \\big(\\mathbb{I}_{n}\\otimes|j\\rangle\\langle j|\\big)\\frac{1}{2^{n/2}}\\sum_{x=0}^{2^{n}-1}|x\\rangle\\otimes|f(x)\\rangle \\\\\n",
    "& = \\frac{1}{2^{n/2}}\\sum_{x=0}^{2^{n}-1}|x\\rangle\\otimes\\langle j|f(x)\\rangle|j\\rangle.\n",
    "\\end{align}\n",
    "\n",
    "Então, se a função é $1\\text{-pra-}1$, os $f(x)$ são todos distintos e obteremos o estado pós-medida\n",
    "$$ |x\\rangle\\otimes|j\\rangle = |f^{-1}(j)\\rangle\\otimes|j\\rangle,$$\n",
    "em que usamos $f(x)=j\\ \\therefore\\ x=f^{-1}(f(x))=f^{-1}(j)$.\n",
    "\n",
    "Se a função é $2\\text{-pra-}1$, teremos 2 valores de $x$ tais que $f(x)=j$, e com isso o estado pós medida pode ser escrito como segue\n",
    "$$2^{-1/2}\\big(|x\\rangle+|x'\\rangle\\big)\\otimes|j\\rangle = 2^{-1/2}\\big(|x\\rangle+|x\\oplus s\\rangle\\big)\\otimes|j\\rangle.$$\n",
    "\n",
    "Até aqui, não conseguimos obter informação alguma sobre $s$ pois os estados $|x\\rangle$, tais que $f(x)=j$, são igualmente prováveis."
   ]
  },
  {
   "cell_type": "markdown",
   "id": "2962c94f",
   "metadata": {},
   "source": [
    "Seguindo, aplicaremos __portas de Hadamard__ em cada um dos $n$ qubits do 1º grupo de qubits. Antes, escrevemos\n",
    "\\begin{align}\n",
    "H^{\\otimes n} & = \\frac{1}{2^{n/2}}\\sum_{x,y=0}^{2^{n}-1}(-1)^{x\\cdot y}|x\\rangle\\langle y| \\\\\n",
    "& = \\sum_{y=0}^{2^{n}-1}\\Big(\\frac{1}{2^{n/2}}\\sum_{x=0}^{2^{n}-1}(-1)^{x\\cdot y}|x\\rangle\\Big)\\langle y| \\\\\n",
    "& = \\sum_{y=0}^{2^{n}-1}|\\psi_{y}\\rangle\\langle y|,\n",
    "\\end{align}\n",
    "em que usamos\n",
    "$$|\\psi_{y}\\rangle = \\frac{1}{2^{n/2}}\\sum_{x=0}^{2^{n}-1}(-1)^{x\\cdot y}|x\\rangle.$$"
   ]
  },
  {
   "cell_type": "markdown",
   "id": "6976a350",
   "metadata": {},
   "source": [
    "No caso em que $s=00\\cdots 0$, o estado evoluído será\n",
    "\\begin{align}\n",
    "& \\big(H^{\\otimes n}\\otimes\\mathbb{I}_{2}^{\\otimes n}\\big)\\big(|x\\rangle\\otimes|j\\rangle\\big) \\\\\n",
    "& = \\Big(\\sum_{y=0}^{2^{n}-1}|\\psi_{y}\\rangle\\langle y|\\otimes\\mathbb{I}_{2}^{\\otimes n}\\Big)\\big(|x\\rangle\\otimes|j\\rangle\\big) \\\\\n",
    "& = \\sum_{y=0}^{2^{n}-1}|\\psi_{y}\\rangle\\langle y|x\\rangle\\otimes|j\\rangle = \\sum_{y=0}^{2^{n}-1}|\\psi_{y}\\rangle\\delta_{y,x}\\otimes|j\\rangle \\\\\n",
    "& = |\\psi_{x}\\rangle\\otimes|j\\rangle = \\frac{1}{2^{n/2}}\\sum_{y=0}^{2^{n}-1}(-1)^{x\\cdot y}|y\\rangle\\otimes|j\\rangle \\\\\n",
    "& = \\frac{1}{2^{n/2}}\\sum_{y_{1},\\cdots,y_{n}=0}^{1}(-1)^{x_{1}y_{1}+\\cdots x_{n}y_{n}}|y_{1}\\cdots y_{n}\\rangle\\otimes|j\\rangle.\n",
    "\\end{align}\n",
    "Por conseguinte, neste caso, se medimos o 1º grupo de $n$ qubits na base computacional, obteremos qualquer um dos estados $|y_{1}\\cdots y_{n}\\rangle$ com igual probabilidade, $2^{-n}$."
   ]
  },
  {
   "cell_type": "markdown",
   "id": "cab1cfc6",
   "metadata": {},
   "source": [
    "No caso em que $s\\ne00\\cdots 0$, o estado evoluído será\n",
    "\\begin{align}\n",
    "& \\big(H^{\\otimes n}\\otimes\\mathbb{I}_{2}^{\\otimes n}\\big)2^{-1/2}\\big(\\big(|x\\rangle+|x\\oplus s\\rangle\\big))\\otimes|j\\rangle\\big) \\\\\n",
    "& = \\Big(\\sum_{y=0}^{2^{n}-1}|\\psi_{y}\\rangle\\langle y|\\otimes\\mathbb{I}_{2}^{\\otimes n}\\Big)2^{-1/2}\\big(\\big(|x\\rangle+|x\\oplus s\\rangle\\big)\\otimes|j\\rangle\\big) \\\\\n",
    "& = \\frac{1}{2^{1/2}}\\sum_{y=0}^{2^{n}-1}|\\psi_{y}\\rangle\\big(\\langle y|x\\rangle+\\langle y|x\\oplus s\\rangle\\big)\\otimes|j\\rangle \\\\\n",
    "& = \\frac{1}{2^{1/2}}\\sum_{y=0}^{2^{n}-1}|\\psi_{y}\\rangle\\big(\\delta_{y,x}+\\delta_{y,x\\oplus s}\\big)\\otimes|j\\rangle \\\\\n",
    "& = \\frac{1}{2^{1/2}}\\big(|\\psi_{x}\\rangle+|\\psi_{x\\oplus s}\\rangle\\big)\\otimes|j\\rangle \\\\\n",
    "& = \\frac{1}{2^{1/2}}\\Big(\\frac{1}{2^{n/2}}\\sum_{y=0}^{2^{n}-1}(-1)^{y\\cdot x}|y\\rangle + \\frac{1}{2^{n/2}}\\sum_{y=0}^{2^{n}-1}(-1)^{y\\cdot x\\oplus s}|y\\rangle\\Big)\\otimes|j\\rangle \\\\\n",
    "& = \\frac{1}{2^{(n+1)/2}}\\sum_{y=0}^{2^{n}-1}\\big((-1)^{y\\cdot x}+(-1)^{y\\cdot x\\oplus s}\\big)|y\\rangle\\otimes|j\\rangle \\\\\n",
    "& = \\frac{1}{2^{(n+1)/2}}\\sum_{y=0}^{2^{n}-1}\\big((-1)^{y\\cdot x}+(-1)^{y\\cdot x\\oplus y\\cdot s}\\big)|y\\rangle\\otimes|j\\rangle \\\\\n",
    "& = \\frac{1}{2^{(n+1)/2}}\\sum_{y=0}^{2^{n}-1}(-1)^{y\\cdot x}\\big(1+(-1)^{y\\cdot s}\\big)|y\\rangle\\otimes|j\\rangle.\n",
    "\\end{align}\n",
    " "
   ]
  },
  {
   "cell_type": "markdown",
   "id": "14246f0a",
   "metadata": {},
   "source": [
    "A amplitude de probabilidade do estado $|y\\rangle$ é não nula somente se\n",
    "$$y\\cdot s=0\\mod2.$$\n",
    "Todos os estados $|y\\rangle$ com probabilidade não nula de serem obtidos tem a mesma probabilidade de aparecer. Assim, fazendo aproximadamente $n$ execuções do circuito quântico do AS, obtemos o sistema de equações a serem resolvidas e.g. por eliminação gaussiana:\n",
    "\\begin{align}\n",
    "& y^{(1)}\\cdot s = 0\\mod2, \\\\\n",
    "& y^{(2)}\\cdot s = 0\\mod2, \\\\\n",
    "& \\vdots \\\\\n",
    "& y^{(n)}\\cdot s = 0\\mod2,\n",
    "\\end{align}\n",
    "ou\n",
    "\\begin{align}\n",
    "& \\big(y^{(1)}_{1}s_{1}+\\cdots+y^{(1)}_{1}s_{n}\\big)\\mod2 = 0\\mod2, \\\\\n",
    "& \\big(y^{(2)}_{1}s_{1}+\\cdots+y^{(2)}_{1}s_{n}\\big)\\mod2 = 0\\mod2, \\\\\n",
    "& \\vdots \\\\\n",
    "& \\big(y^{(n)}_{1}s_{1}+\\cdots+y^{(n)}_{1}s_{n}\\big)\\mod2 = 0\\mod2, \\\\\n",
    "\\end{align}\n",
    "\n",
    "Classicamente teríamos que chamar o oráculo, em média, $2^{n}/2+1 = 2^{n-1}+1$ vezes. Com isso, vemos que o algoritmo de Simon oferece um ganho exponencial em relação a algoritmos clássicos."
   ]
  },
  {
   "cell_type": "markdown",
   "id": "1ca882c5",
   "metadata": {},
   "source": [
    "#### Exemplo ($n=2$)\n",
    "Vamos considerar um exemplo de aplicação do algoritmo de Simon com string desconhecida\n",
    "$$s=11$$\n",
    "tal que $f(x)=f(y)\\ \\text{iff}\\ y=x\\oplus s$.\n",
    "\n",
    "Começamos o 4 qubits preparados no estado\n",
    "$$|\\Psi_{0}\\rangle = |00\\rangle|00\\rangle.$$\n",
    "Aplicando as portas de Hadamard nos 2 primeiros qubits, obtemos\n",
    "$$|\\Psi_{1}\\rangle = 2^{-2/2}\\big(|00\\rangle+|01\\rangle+|10\\rangle+|11\\rangle\\big)|00\\rangle.$$\n",
    "Seguindo aplicamos o oráculo\n",
    "$$U_{f} = C_{x}^{1\\rightarrow 3}C_{x}^{1\\rightarrow 2}C_{x}^{0\\rightarrow 3}C_{x}^{0\\rightarrow 2}.$$\n"
   ]
  },
  {
   "cell_type": "markdown",
   "id": "7b05640d",
   "metadata": {},
   "source": [
    "Com isso, obtemos o estado\n",
    "\\begin{align}\n",
    "|\\Psi_{2}\\rangle & = 2^{-1}\\big(|00\\rangle|00\\rangle + |01\\rangle|11\\rangle + |10\\rangle|11\\rangle + |11\\rangle|00\\rangle\\big)\n",
    "\\end{align}\n",
    "Medindo os 2 últimos qubits, obtemos os estados $|00\\rangle$ ou $|11\\rangle$, ambos com 50% de probabilidade. Se o resultado $|11\\rangle$ foi obtido, o estado dos 2 primeiros qubits será\n",
    "$$|\\psi_{4}(11)\\rangle = 2^{-1/2}(|01\\rangle+|10\\rangle).$$\n",
    "Aplicando as portas de Hadamard neste 2 qubits, obteremos o estado\n",
    "\\begin{align}\n",
    "|\\psi_{5}(11)\\rangle & = 2^{-1/2}(|+-\\rangle+|-+\\rangle) \\\\\n",
    "& = 2^{-3/2}\\big((|0\\rangle+|1\\rangle)(|0\\rangle-|1\\rangle) + (|0\\rangle-|1\\rangle)(|0\\rangle+|1\\rangle)\\big) \\\\\n",
    "& = 2^{-3/2}\\big(|00\\rangle-|01\\rangle+|10\\rangle-|11\\rangle + |00\\rangle+|01\\rangle-|10\\rangle-|11\\rangle\\big) \\\\\n",
    "& = 2^{-1/2}\\big(|00\\rangle-|11\\rangle\\big).\n",
    "\\end{align}\n",
    "Para este estado, obteremos os estados $|00\\rangle$ ou $|11\\rangle$ com mesma probabilidade, $1/2$. Teremos neste caso\n",
    "\\begin{align}\n",
    "11\\cdot s = 0, \\\\\n",
    "00\\cdot s = 0.\n",
    "\\end{align}\n",
    "$00$ é sempre solução (trivial) desta equação. A única solução não trivial seria $s=11$. "
   ]
  },
  {
   "cell_type": "markdown",
   "id": "824d4d59",
   "metadata": {},
   "source": [
    "Para o outro resultado possível na medida dos 2 últimos qubits, $|00\\rangle$, teremos o estado\n",
    "$$|\\psi_{4}(00)\\rangle = 2^{-1/2}(|00\\rangle+|11\\rangle).$$\n",
    "Neste caso o estado pós aplicação das Hadamard seria\n",
    "\\begin{align}\n",
    "|\\psi_{5}(00)\\rangle & = 2^{-1/2}(|++\\rangle+|--\\rangle) \\\\\n",
    "& = 2^{-3/2}\\big((|0\\rangle+|1\\rangle)(|0\\rangle+|1\\rangle) + (|0\\rangle-|1\\rangle)(|0\\rangle-|1\\rangle)\\big) \\\\\n",
    "& = 2^{-3/2}\\big(|00\\rangle+|01\\rangle+|10\\rangle+|11\\rangle + |00\\rangle-|01\\rangle-|10\\rangle+|11\\rangle\\big) \\\\\n",
    "& = 2^{-1/2}\\big(|00\\rangle+|11\\rangle\\big).\n",
    "\\end{align}\n",
    "Do mesmo modo que no caso anterior, chegaríamos na conclusão de que $s=11$. \n",
    "\n",
    "Note que queremos diferenciar os casos 1-pra-1 ou $s=00$ do caso 2-pra-1 ou $s\\ne 00$. Por isso, temos que executar o circuito várias vezes, para que a solução não trivial apareça. Com a inclusão do ruído, esse número de repetições tem que ser ainda maior, para que tenhamos certeza que a solução não trivial não é resultado só do ruído. Para o exemplo acima, a solução trivial é obtida 50% das vezes, embora a função seja 2-pra-1."
   ]
  },
  {
   "cell_type": "code",
   "execution_count": 1,
   "id": "7d5adc8f",
   "metadata": {},
   "outputs": [
    {
     "ename": "NameError",
     "evalue": "name 'IBMQ' is not defined",
     "output_type": "error",
     "traceback": [
      "\u001b[1;31m---------------------------------------------------------------------------\u001b[0m",
      "\u001b[1;31mNameError\u001b[0m                                 Traceback (most recent call last)",
      "Cell \u001b[1;32mIn[1], line 3\u001b[0m\n\u001b[0;32m      1\u001b[0m \u001b[38;5;28;01mfrom\u001b[39;00m \u001b[38;5;21;01mqiskit\u001b[39;00m \u001b[38;5;28;01mimport\u001b[39;00m \u001b[38;5;241m*\u001b[39m\n\u001b[0;32m      2\u001b[0m nshots \u001b[38;5;241m=\u001b[39m \u001b[38;5;241m8192\u001b[39m\n\u001b[1;32m----> 3\u001b[0m \u001b[43mIBMQ\u001b[49m\u001b[38;5;241m.\u001b[39mload_account()\n\u001b[0;32m      4\u001b[0m provider \u001b[38;5;241m=\u001b[39m IBMQ\u001b[38;5;241m.\u001b[39mget_provider(hub \u001b[38;5;241m=\u001b[39m \u001b[38;5;124m'\u001b[39m\u001b[38;5;124mibm-q-research-2\u001b[39m\u001b[38;5;124m'\u001b[39m, group \u001b[38;5;241m=\u001b[39m \u001b[38;5;124m'\u001b[39m\u001b[38;5;124mfederal-uni-sant-1\u001b[39m\u001b[38;5;124m'\u001b[39m, project \u001b[38;5;241m=\u001b[39m \u001b[38;5;124m'\u001b[39m\u001b[38;5;124mmain\u001b[39m\u001b[38;5;124m'\u001b[39m)\n\u001b[0;32m      5\u001b[0m simulator \u001b[38;5;241m=\u001b[39m Aer\u001b[38;5;241m.\u001b[39mget_backend(\u001b[38;5;124m'\u001b[39m\u001b[38;5;124mqasm_simulator\u001b[39m\u001b[38;5;124m'\u001b[39m)\n",
      "\u001b[1;31mNameError\u001b[0m: name 'IBMQ' is not defined"
     ]
    }
   ],
   "source": [
    "from qiskit import *\n",
    "nshots = 8192\n",
    "IBMQ.load_account()\n",
    "provider = IBMQ.get_provider(hub = 'ibm-q-research-2', group = 'federal-uni-sant-1', project = 'main')\n",
    "simulator = Aer.get_backend('qasm_simulator')\n",
    "device = provider.get_backend('ibm_nairobi')\n",
    "from qiskit.tools.visualization import plot_histogram\n",
    "from qiskit.tools.monitor import job_monitor, backend_overview, backend_monitor"
   ]
  },
  {
   "cell_type": "code",
   "execution_count": null,
   "id": "0617f2f9",
   "metadata": {},
   "outputs": [],
   "source": [
    "qr = QuantumRegister(4); cr = ClassicalRegister(4); qc = QuantumCircuit(qr,cr)\n",
    "qc.h([0,1])\n",
    "qc.barrier()\n",
    "qc.cx(0,2); qc.cx(0,3); qc.cx(1,2); qc.cx(1,3) # oraculo\n",
    "qc.barrier()\n",
    "qc.measure([2,3],[2,3])\n",
    "qc.barrier()\n",
    "qc.h([0,1]); qc.measure([0,1],[0,1])\n",
    "qc.draw(output='mpl')"
   ]
  },
  {
   "cell_type": "code",
   "execution_count": 5,
   "id": "0e3d20c6",
   "metadata": {},
   "outputs": [],
   "source": [
    "jobS = execute(qc, backend = simulator, shots = nshots)"
   ]
  },
  {
   "cell_type": "code",
   "execution_count": 13,
   "id": "e89e2a1d",
   "metadata": {},
   "outputs": [
    {
     "name": "stdout",
     "output_type": "stream",
     "text": [
      "Job Status: job has successfully run\n"
     ]
    }
   ],
   "source": [
    "jobE = execute(qc, backend = device, shots = nshots)\n",
    "job_monitor(jobE)"
   ]
  },
  {
   "cell_type": "code",
   "execution_count": 14,
   "id": "e33f8d8a",
   "metadata": {
    "scrolled": true
   },
   "outputs": [
    {
     "data": {
      "image/png": "[encoded data removed]",
      "text/plain": [
       "<Figure size 504x360 with 1 Axes>"
      ]
     },
     "execution_count": 14,
     "metadata": {},
     "output_type": "execute_result"
    }
   ],
   "source": [
    "plot_histogram([jobS.result().get_counts(0), jobE.result().get_counts(0)], \n",
    "               bar_labels = False, legend = ['sim', 'exp'])"
   ]
  },
  {
   "cell_type": "markdown",
   "id": "9c0f1a41",
   "metadata": {},
   "source": [
    "Não farei nenhuma análise sobre complexidade computacional. Mas observo que o algoritmo de Simon tem um ganho exponencial no número de queries em relação a algoritmos clássicos com erro limitado (ACEL). O algoritmo de Bernstein-Vazirani tem um ganho superpolinomial em relação a ACEL, enquanto que o algoritmo de Deutsch-Jozsa não tem ganho em relação a ACEL.\n",
    "\n",
    "Vale mencionar também que o algoritmo de Simon motivou Shor a propor seu bem conhecido algoritmo de fatoração."
   ]
  },
  {
   "cell_type": "markdown",
   "id": "19d68bd2",
   "metadata": {},
   "source": [
    "#### Exemplo ($n=3$)\n",
    "Agora \n",
    "$$s=110,$$\n",
    "que é implementada via\n",
    "$$U_{f} = C_{x}^{1\\rightarrow 5}C_{x}^{1\\rightarrow 4}C_{x}^{2\\rightarrow 5}C_{x}^{1\\rightarrow 4}C_{x}^{0\\rightarrow 3}.$$\n",
    "Começamos com o estado\n",
    "$$|\\Psi_{0}\\rangle = |000\\rangle|000\\rangle.$$\n",
    "Aplica Hadamard nos primeiros 3 qubit, obtendo\n",
    "\\begin{align}\n",
    "|\\Psi_{1}\\rangle = 2^{-3/2}\\big(|000\\rangle + |001\\rangle + |010\\rangle + |011\\rangle + |100\\rangle + |101\\rangle + |110\\rangle + |111\\rangle\\big)|000\\rangle.\n",
    "\\end{align}"
   ]
  },
  {
   "cell_type": "markdown",
   "id": "7327ca5f",
   "metadata": {},
   "source": [
    "Aplica o oráculo:\n",
    "\\begin{align}\n",
    "|\\Psi_{2}\\rangle = 2^{-3/2}\\big( |000\\rangle|000\\rangle + |001\\rangle|001\\rangle + |010\\rangle|001\\rangle + |011\\rangle|000\\rangle + |100\\rangle|100\\rangle + |101\\rangle|101\\rangle + |110\\rangle|101\\rangle + |111\\rangle|100\\rangle \\big).\n",
    "\\end{align}\n",
    "Medindo os qubits auxiliares, teremos os estados pós-medida nos qubits auxiliares:\n",
    "\\begin{align}\n",
    "|000\\rangle \\rightarrow 2^{-1/2}(|000\\rangle+|011\\rangle), \\\\\n",
    "|001\\rangle \\rightarrow 2^{-1/2}(|001\\rangle+|010\\rangle), \\\\\n",
    "|100\\rangle \\rightarrow 2^{-1/2}(|100\\rangle+|111\\rangle), \\\\\n",
    "|101\\rangle \\rightarrow 2^{-1/2}(|101\\rangle+|110\\rangle).\n",
    "\\end{align}"
   ]
  },
  {
   "cell_type": "markdown",
   "id": "f7e3a04c",
   "metadata": {},
   "source": [
    "Para medidas nos qubits de cima, se obtemos\n",
    "\\begin{align}\n",
    "& 001\\cdot 0s_1 + 0s_2+1s_3 =s_3= 0\\therefore s_3=0, \\\\\n",
    "& 100\\cdot 1s_1 + 0s_2+0s_3 = s_1= 0\\therefore s_3=0, \\\\\n",
    "\\end{align}"
   ]
  },
  {
   "cell_type": "code",
   "execution_count": null,
   "id": "e5114699",
   "metadata": {},
   "outputs": [],
   "source": []
  },
  {
   "cell_type": "markdown",
   "id": "d92ce474",
   "metadata": {},
   "source": [
    "### Exercícios\n",
    "\n",
    "1. Verifique que o operador $U_{f} = \\sum_{x,y=0}^{2^{n}-1}|x\\rangle\\langle x|\\otimes|y\\oplus f(x)\\rangle\\langle y|$ é unitário.\n",
    "\n",
    "1. Implemente a simulação e excução do algoritmo de Simon no IBMQ para $s$ com 3 bits. Sigua o exemplo da referência 1. \n",
    "\n",
    "\n",
    "#### References\n",
    "\n",
    "1. https://qiskit.org/textbook/ch-algorithms/simon.html\n",
    "\n",
    "1. https://courses.cs.washington.edu/courses/cse599d/06wi/"
   ]
  },
  {
   "cell_type": "code",
   "execution_count": null,
   "id": "b232f48c",
   "metadata": {},
   "outputs": [],
   "source": []
  }
 ],
 "metadata": {
  "kernelspec": {
   "display_name": "Python 3 (ipykernel)",
   "language": "python",
   "name": "python3"
  },
  "language_info": {
   "codemirror_mode": {
    "name": "ipython",
    "version": 3
   },
   "file_extension": ".py",
   "mimetype": "text/x-python",
   "name": "python",
   "nbconvert_exporter": "python",
   "pygments_lexer": "ipython3",
   "version": "3.11.1"
  }
 },
 "nbformat": 4,
 "nbformat_minor": 5
}
