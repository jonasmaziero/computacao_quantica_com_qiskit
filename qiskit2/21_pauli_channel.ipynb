{
 "cells": [
  {
   "cell_type": "markdown",
   "id": "79e5d70f-e9e9-4238-80e6-a6a83fa8f91d",
   "metadata": {},
   "source": [
    "# Canal de Pauli\n",
    "\n",
    "Este canal é importante em criptografia e é definido como\n",
    "$$\\Lambda_{p}(\\rho) = \\sum_{j,k=0}^{1}p_{j,k}Z^{j}X^{k}\\rho X^{k}Z^{j},$$\n",
    "em que $X,Z$ são as matrizes de Pauli e $p_{j,k}$ é uma distribuição de probabilidades.\n",
    "Usando $ZX=-iY$ obtemos\n",
    "\\begin{align}\n",
    "\\Lambda_{p}(\\rho) & = p_{0,0}\\rho + p_{0,1}X\\rho X + p_{1,0}Z\\rho Z + p_{1,1}ZX\\rho XZ \\\\\n",
    "& = p_{0,0}\\rho + p_{0,1}X\\rho X + p_{1,0}Z\\rho Z + p_{1,1}(-i)Y\\rho iY \\\\\n",
    "& = p_{0,0}\\rho + p_{0,1}X\\rho X + p_{1,0}Z\\rho Z + p_{1,1}Y\\rho Y \\\\\n",
    "& =: p_{I}\\rho + p_{X}X\\rho X + p_{Z}Z\\rho Z + p_{Y}Y\\rho Y \\\\\n",
    "& =: K_{0}\\rho K_{0}^{\\dagger} + K_{1}\\rho K_{1}^{\\dagger} + K_{2}\\rho K_{2}^{\\dagger} + K_{3}\\rho K_{3}^{\\dagger},\n",
    "\\end{align}\n",
    "com\n",
    "$$K_{0}=\\sqrt{p_{I}}\\mathbb{I},\\  K_{1} = \\sqrt{p_{X}}X,\\ K_{2} = \\sqrt{p_{Z}}Z,\\ K_{3} = \\sqrt{p_{Y}}Y.$$"
   ]
  },
  {
   "cell_type": "code",
   "execution_count": 1,
   "id": "cc7027f3-f822-4c8e-b310-a627d13a8fe3",
   "metadata": {},
   "outputs": [],
   "source": [
    "%run init.ipynb"
   ]
  },
  {
   "cell_type": "code",
   "execution_count": 2,
   "id": "afca2915-f3b3-4b8e-aa75-d837f9207048",
   "metadata": {},
   "outputs": [
    {
     "data": {
      "image/png": "[encoded data removed]",
      "text/latex": [
       "$\\displaystyle \\left[\\begin{matrix}0.5 r_{z} + 0.5 & 0.5 r_{x} - 0.5 i r_{y}\\\\0.5 r_{x} + 0.5 i r_{y} & 0.5 - 0.5 r_{z}\\end{matrix}\\right]$"
      ],
      "text/plain": [
       "⎡  0.5⋅r_z + 0.5     0.5⋅rₓ - 0.5⋅ⅈ⋅r_y⎤\n",
       "⎢                                      ⎥\n",
       "⎣0.5⋅rₓ + 0.5⋅ⅈ⋅r_y    0.5 - 0.5⋅r_z   ⎦"
      ]
     },
     "execution_count": 2,
     "metadata": {},
     "output_type": "execute_result"
    }
   ],
   "source": [
    "rx,ry,rz = symbols('r_x r_y r_z')\n",
    "rho1qb = (1/2)*(id(2) + rx*pauli(1) + ry*pauli(2) + rz*pauli(3))\n",
    "rho1qb"
   ]
  },
  {
   "cell_type": "code",
   "execution_count": 3,
   "id": "0f566bc6-1716-462f-be69-c0a225a35725",
   "metadata": {},
   "outputs": [],
   "source": [
    "pI,pX,pZ,pY = symbols('p_I p_X p_Z p_Y')\n",
    "K0 = sqrt(pI)*id(2); K1 = sqrt(pX)*pauli(1); K2 = sqrt(pZ)*pauli(3); K3 = sqrt(pY)*pauli(2)"
   ]
  },
  {
   "cell_type": "code",
   "execution_count": 5,
   "id": "4a521ef6-b9e0-4778-bfca-6c5cd2023413",
   "metadata": {},
   "outputs": [
    {
     "data": {
      "image/png": "[encoded data removed]",
      "text/latex": [
       "$\\displaystyle \\left[\\begin{matrix}0.5 p_{I} \\left(r_{z} + 1\\right) - 0.5 p_{X} \\left(r_{z} - 1\\right) - 0.5 p_{Y} \\left(r_{z} - 1\\right) + 0.5 p_{Z} \\left(r_{z} + 1\\right) & 0.5 p_{I} \\left(r_{x} - i r_{y}\\right) + 0.5 p_{X} \\left(r_{x} + i r_{y}\\right) - 0.5 p_{Y} \\left(r_{x} + i r_{y}\\right) - 0.5 p_{Z} \\left(r_{x} - i r_{y}\\right)\\\\0.5 p_{I} \\left(r_{x} + i r_{y}\\right) + 0.5 p_{X} \\left(r_{x} - i r_{y}\\right) - 0.5 p_{Y} \\left(r_{x} - i r_{y}\\right) - 0.5 p_{Z} \\left(r_{x} + i r_{y}\\right) & - 0.5 p_{I} \\left(r_{z} - 1\\right) + 0.5 p_{X} \\left(r_{z} + 1\\right) + 0.5 p_{Y} \\left(r_{z} + 1\\right) - 0.5 p_{Z} \\left(r_{z} - 1\\right)\\end{matrix}\\right]$"
      ],
      "text/plain": [
       "⎡      0.5⋅p_I⋅(r_z + 1) - 0.5⋅p_X⋅(r_z - 1) - 0.5⋅p_Y⋅(r_z - 1) + 0.5⋅p_Z⋅(r_\n",
       "⎢                                                                             \n",
       "⎣0.5⋅p_I⋅(rₓ + ⅈ⋅r_y) + 0.5⋅p_X⋅(rₓ - ⅈ⋅r_y) - 0.5⋅p_Y⋅(rₓ - ⅈ⋅r_y) - 0.5⋅p_Z⋅\n",
       "\n",
       "z + 1)        0.5⋅p_I⋅(rₓ - ⅈ⋅r_y) + 0.5⋅p_X⋅(rₓ + ⅈ⋅r_y) - 0.5⋅p_Y⋅(rₓ + ⅈ⋅r_\n",
       "                                                                              \n",
       "(rₓ + ⅈ⋅r_y)       -0.5⋅p_I⋅(r_z - 1) + 0.5⋅p_X⋅(r_z + 1) + 0.5⋅p_Y⋅(r_z + 1) \n",
       "\n",
       "y) - 0.5⋅p_Z⋅(rₓ - ⅈ⋅r_y)⎤\n",
       "                         ⎥\n",
       "- 0.5⋅p_Z⋅(r_z - 1)      ⎦"
      ]
     },
     "execution_count": 5,
     "metadata": {},
     "output_type": "execute_result"
    }
   ],
   "source": [
    "rho_p = K0*rho1qb*K0 + K1*rho1qb*K1 + K2*rho1qb*K2 + K3*rho1qb*K3\n",
    "simplify(rho_p)"
   ]
  },
  {
   "cell_type": "markdown",
   "id": "d348e81f-89ae-46fd-88c1-72b3513eb365",
   "metadata": {},
   "source": [
    "Vemos assim que o vetor de Bloch evoluído no tempo para um qubit sob o canal de Pauli é (usamos também $\\sum_{j=0}^{3}p_{j}=1$)\n",
    "\\begin{align}\n",
    "& r_{x}^{p} = \\big(p_{I}+p_{X}-p_{Z}-p_{Y}\\big)r_{x}, \\\\\n",
    "& r_{y}^{p} = \\big(p_{I}-p_{X}-p_{Z}+p_{Y}\\big)r_{y}, \\\\\n",
    "& r_{z}^{p} = \\big(p_{I}-p_{X}+p_{Z}-p_{Y}\\big)r_{z}.\n",
    "\\end{align}"
   ]
  },
  {
   "cell_type": "markdown",
   "id": "ddea634b-5eef-43e0-87f9-bb7acfbd15e4",
   "metadata": {},
   "source": [
    "## Implementação via preparação de estados\n",
    "\n",
    "Começamos com o cálculo de $|\\Psi\\rangle_{AB}$. Usamos \n",
    "$$|\\psi\\rangle = \\cos(\\theta/2)|0\\rangle + e^{i\\phi}\\sin(\\theta/2)|1\\rangle$$\n",
    "e $Y|0\\rangle=i|1\\rangle$ e $Y|1\\rangle=-i|0\\rangle$ para escrever\n",
    "\\begin{align}\n",
    "K_{0}|\\psi\\rangle & = \\sqrt{p_{I}}\\mathbb{I}|\\psi\\rangle = \\sqrt{p_{I}}\\big(\\cos(\\theta/2)|0\\rangle + e^{i\\phi}\\sin(\\theta/2)|1\\rangle\\big), \\\\ \n",
    "K_{1}|\\psi\\rangle & = \\sqrt{p_{X}}X|\\psi\\rangle = \\sqrt{p_{X}}\\big(\\cos(\\theta/2)|1\\rangle + e^{i\\phi}\\sin(\\theta/2)|0\\rangle\\big), \\\\\n",
    "K_{2}|\\psi\\rangle & = \\sqrt{p_{Z}}Z|\\psi\\rangle = \\sqrt{p_{Z}}\\big(\\cos(\\theta/2)|0\\rangle - e^{i\\phi}\\sin(\\theta/2)|1\\rangle\\big), \\\\\n",
    "K_{3}|\\psi\\rangle & = \\sqrt{p_{Y}}Y|\\psi\\rangle = i\\sqrt{p_{Y}}\\big(\\cos(\\theta/2)|1\\rangle - e^{i\\phi}\\sin(\\theta/2)|0\\rangle\\big).\n",
    "\\end{align}"
   ]
  },
  {
   "cell_type": "markdown",
   "id": "243dcc1c-4063-4b40-85f2-402ed744aa12",
   "metadata": {},
   "source": [
    "Teremos assim que\n",
    "\\begin{align}\n",
    "|\\Psi\\rangle_{AB} & = K_{0}|\\psi\\rangle_{A}\\otimes|0\\rangle_{B} + K_{1}|\\psi\\rangle_{A}\\otimes|1\\rangle_{B} + K_{2}|\\psi\\rangle_{A}\\otimes|2\\rangle_{B} + K_{3}|\\psi\\rangle_{A}\\otimes|3\\rangle_{B} \\\\\n",
    "& = \\sqrt{p_{I}}\\big(\\cos(\\theta/2)|0\\rangle_{A} + e^{i\\phi}\\sin(\\theta/2)|1\\rangle_{A}\\big)\\otimes|0\\rangle_{B} + \\sqrt{p_{X}}\\big(\\cos(\\theta/2)|1\\rangle_{A} + e^{i\\phi}\\sin(\\theta/2)|0\\rangle_{A}\\big)\\otimes|1\\rangle_{B} \\\\\n",
    "& + \\sqrt{p_{Z}}\\big(\\cos(\\theta/2)|0\\rangle_{A} - e^{i\\phi}\\sin(\\theta/2)|1\\rangle_{A}\\big)\\otimes|2\\rangle_{B} + i\\sqrt{p_{Y}}\\big(\\cos(\\theta/2)|1\\rangle_{A} - e^{i\\phi}\\sin(\\theta/2)|0\\rangle_{A}\\big)\\otimes|3\\rangle_{B} \\\\\n",
    "& = \\sqrt{p_{I}}\\cos(\\theta/2)|00\\rangle_{AB} + \\sqrt{p_{I}}e^{i\\phi}\\sin(\\theta/2)|10\\rangle_{AB} + \\sqrt{p_{X}}\\cos(\\theta/2)|11\\rangle_{AB} + \\sqrt{p_{X}}e^{i\\phi}\\sin(\\theta/2)|01\\rangle_{AB} \\\\\n",
    "& + \\sqrt{p_{Z}}\\cos(\\theta/2)|02\\rangle_{AB} - \\sqrt{p_{Z}}e^{i\\phi}\\sin(\\theta/2)|12\\rangle_{AB} + \\sqrt{p_{Y}}\\cos(\\theta/2)|13\\rangle_{AB} - \\sqrt{p_{Y}}e^{i\\phi}\\sin(\\theta/2)|03\\rangle_{AB} \\\\\n",
    "& \\doteq \\sqrt{p_{I}}\\cos(\\theta/2)|000\\rangle_{abc} + \\sqrt{p_{I}}e^{i\\phi}\\sin(\\theta/2)|100\\rangle_{abc} + \\sqrt{p_{X}}\\cos(\\theta/2)|101\\rangle_{abc} + \\sqrt{p_{X}}e^{i\\phi}\\sin(\\theta/2)|001\\rangle_{abc} \\\\\n",
    "& + \\sqrt{p_{Z}}\\cos(\\theta/2)|010\\rangle_{abc} - \\sqrt{p_{Z}}e^{i\\phi}\\sin(\\theta/2)|110\\rangle_{abc} + i\\sqrt{p_{Y}}\\cos(\\theta/2)|111\\rangle_{abc} - i\\sqrt{p_{Y}}e^{i\\phi}\\sin(\\theta/2)|011\\rangle_{abc},\n",
    "\\end{align}\n",
    "em que usamos o qubit $a$ para representar $A$ e os qubits $b$ e $c$ para representar $B$."
   ]
  },
  {
   "cell_type": "markdown",
   "id": "7c64c1ee-f031-4c6e-829d-f5ebd78cf1f0",
   "metadata": {},
   "source": [
    "### Casos particulares\n",
    "Denotemos\n",
    "$$\\Lambda_{p} = \\Lambda_{p}^{p_{I},p_{X},P_{Z},P_{Y}}.$$\n",
    "O canal de Pauli generaliza os canais bit flip, phase flip, bit-phase flip e depolarizing:\n",
    "\\begin{align}\n",
    "& \\Lambda_{bf}(\\rho) := p\\rho + (1-p)X\\rho X \\equiv \\Lambda_{p}^{p,1-p,0,0}, \\\\\n",
    "& \\Lambda_{pf}(\\rho) := p\\rho + (1-p)Z\\rho Z \\equiv \\Lambda_{p}^{p,0,1-p,0}, \\\\\n",
    "& \\Lambda_{bpf}(\\rho) := p\\rho + (1-p)Y\\rho Y \\equiv \\Lambda_{p}^{p,0,0,1-p}, \\\\\n",
    "& \\Lambda_{d}(\\rho) := p\\rho + (1-p)\\frac{\\mathbb{I}_{2}}{2} \\equiv \\Lambda_{p}^{(1+3p)/4,(1-p)/4,(1-p)/4,(1-p)/4},\n",
    "\\end{align}\n",
    "com $p\\in[0,1]$."
   ]
  },
  {
   "cell_type": "markdown",
   "id": "ddfb40a7-14b6-400f-8069-69453640d4e2",
   "metadata": {},
   "source": [
    "Com isso, o estado a ser preparado para simular o o canal bit flip,\n",
    "$$p_{I}=p,\\ p_{X}=1-p,\\ p_{Z}=p_{Y}=0,$$\n",
    "é\n",
    "\\begin{align}\n",
    "|\\Psi_{bf}\\rangle_{AB} & = \\sqrt{p}\\cos(\\theta/2)|000\\rangle_{abc} + \\sqrt{p}e^{i\\phi}\\sin(\\theta/2)|100\\rangle_{abc} + \\sqrt{1-p}\\cos(\\theta/2)|101\\rangle_{abc} + \\sqrt{1-p}e^{i\\phi}\\sin(\\theta/2)|001\\rangle_{abc} \\\\\n",
    "& + \\sqrt{0}\\cos(\\theta/2)|010\\rangle_{abc} - \\sqrt{0}e^{i\\phi}\\sin(\\theta/2)|110\\rangle_{abc} + \\sqrt{0}\\cos(\\theta/2)|111\\rangle_{abc} - \\sqrt{0}e^{i\\phi}\\sin(\\theta/2)|011\\rangle_{abc} \\\\\n",
    "& = \\big(\\sqrt{p}\\cos(\\theta/2)|00\\rangle_{ac} + \\sqrt{p}e^{i\\phi}\\sin(\\theta/2)|10\\rangle_{ac} + \\sqrt{1-p}\\cos(\\theta/2)|11\\rangle_{ac} + \\sqrt{1-p}e^{i\\phi}\\sin(\\theta/2)|01\\rangle_{ac}\\big)|0\\rangle_{b}.\n",
    "\\end{align}\n",
    "Ou seja, nesse caso particular precisamos somente um qubit auxiliar."
   ]
  },
  {
   "cell_type": "markdown",
   "id": "dbe9c253-3026-4b90-8a61-64b78f944ee2",
   "metadata": {},
   "source": [
    "O estado a ser preparado para simular o o canal phase flip,\n",
    "$$p_{I}=p,\\ p_{X}=0,\\ p_{Z}=1-p,\\ p_{Y}=0,$$\n",
    "é\n",
    "\\begin{align}\n",
    "|\\Psi_{pf}\\rangle_{AB} & = \\sqrt{p}\\cos(\\theta/2)|000\\rangle_{abc} + \\sqrt{p}e^{i\\phi}\\sin(\\theta/2)|100\\rangle_{abc} + \\sqrt{0}\\cos(\\theta/2)|101\\rangle_{abc} + \\sqrt{0}e^{i\\phi}\\sin(\\theta/2)|001\\rangle_{abc} \\\\\n",
    "& + \\sqrt{1-p}\\cos(\\theta/2)|010\\rangle_{abc} - \\sqrt{1-p}e^{i\\phi}\\sin(\\theta/2)|110\\rangle_{abc} + \\sqrt{0}\\cos(\\theta/2)|111\\rangle_{abc} - \\sqrt{0}e^{i\\phi}\\sin(\\theta/2)|011\\rangle_{abc} \\\\\n",
    " & = \\big(\\sqrt{p}\\cos(\\theta/2)|00\\rangle_{ab} + \\sqrt{p}e^{i\\phi}\\sin(\\theta/2)|10\\rangle_{ab} + \\sqrt{1-p}\\cos(\\theta/2)|01\\rangle_{ab} - \\sqrt{1-p}e^{i\\phi}\\sin(\\theta/2)|11\\rangle_{ab}\\big)|0\\rangle_{c}.\n",
    "\\end{align}\n",
    "Neste caso particular também precisamos somente um qubit auxiliar."
   ]
  },
  {
   "cell_type": "markdown",
   "id": "afd68729-3f25-459f-959c-2605e8221b2a",
   "metadata": {},
   "source": [
    "O estado a ser preparado para simular o o canal bit-phase flip,\n",
    "$$p_{I}=p,\\ p_{X}=0,\\ p_{Z}=0,\\ p_{Y}=1-p,$$\n",
    "é\n",
    "\\begin{align}\n",
    "|\\Psi_{bpf}\\rangle_{AB} & = \\sqrt{p}\\cos(\\theta/2)|000\\rangle_{abc} + \\sqrt{p}e^{i\\phi}\\sin(\\theta/2)|100\\rangle_{abc} + \\sqrt{0}\\cos(\\theta/2)|101\\rangle_{abc} + \\sqrt{0}e^{i\\phi}\\sin(\\theta/2)|001\\rangle_{abc} \\\\\n",
    "& + \\sqrt{0}\\cos(\\theta/2)|010\\rangle_{abc} - \\sqrt{0}e^{i\\phi}\\sin(\\theta/2)|110\\rangle_{abc} + i\\sqrt{1-p}\\cos(\\theta/2)|111\\rangle_{abc} - i\\sqrt{1-p}e^{i\\phi}\\sin(\\theta/2)|011\\rangle_{abc} \\\\\n",
    "& = \\sqrt{p}\\cos(\\theta/2)|000\\rangle_{abc} + \\sqrt{p}e^{i\\phi}\\sin(\\theta/2)|100\\rangle_{abc} + i\\sqrt{1-p}\\cos(\\theta/2)|111\\rangle_{abc} - i\\sqrt{1-p}e^{i\\phi}\\sin(\\theta/2)|011\\rangle_{abc} \\\\\n",
    "& = \\sqrt{p}\\cos(\\theta/2)|00\\rangle_{ad} + \\sqrt{p}e^{i\\phi}\\sin(\\theta/2)|10\\rangle_{ad} + i\\sqrt{1-p}\\cos(\\theta/2)|11\\rangle_{ad} - i\\sqrt{1-p}e^{i\\phi}\\sin(\\theta/2)|01\\rangle_{ad} \\\\\n",
    "\\end{align}\n",
    "Neste caso particular, pela maneira como definimos a isometria, precisamos de dois qubits auxiliares."
   ]
  },
  {
   "cell_type": "markdown",
   "id": "6f44bb2d-929b-436f-8114-2269380eb444",
   "metadata": {},
   "source": [
    "O estado a ser preparado para simular o canal depolarizing,\n",
    "$$p_{I}=\\frac{1+3p}{4},\\ p_{X}=p_{Z}=p_{Y}=\\frac{1-p}{4},$$\n",
    "é\n",
    "\\begin{align}\n",
    "|\\Psi_{d}\\rangle_{AB} & = \\sqrt{\\frac{1+3p}{4}}\\cos(\\theta/2)|000\\rangle_{abc} + \\sqrt{\\frac{1+3p}{4}}e^{i\\phi}\\sin(\\theta/2)|100\\rangle_{abc} + \\sqrt{\\frac{1-p}{4}}\\cos(\\theta/2)|101\\rangle_{abc} + \\sqrt{\\frac{1-p}{4}}e^{i\\phi}\\sin(\\theta/2)|001\\rangle_{abc} \\\\\n",
    "& + \\sqrt{\\frac{1-p}{4}}\\cos(\\theta/2)|010\\rangle_{abc} - \\sqrt{\\frac{1-p}{4}}e^{i\\phi}\\sin(\\theta/2)|110\\rangle_{abc} + \\sqrt{\\frac{1-p}{4}}\\cos(\\theta/2)|111\\rangle_{abc} - \\sqrt{\\frac{1-p}{4}}e^{i\\phi}\\sin(\\theta/2)|011\\rangle_{abc}.\n",
    "\\end{align}\n",
    "Neste caso particular também precisamos de dois qubits auxiliares."
   ]
  },
  {
   "cell_type": "code",
   "execution_count": 6,
   "id": "92663477-81c1-4c9e-b75e-3cd75325920a",
   "metadata": {},
   "outputs": [
    {
     "data": {
      "image/png": "[encoded data removed]",
      "text/latex": [
       "$\\displaystyle \\left[\\begin{matrix}0.5 p_{I} \\left(r_{z} + 1\\right) - 0.5 p_{X} \\left(r_{z} - 1\\right) - 0.5 p_{Y} \\left(r_{z} - 1\\right) + 0.5 p_{Z} \\left(r_{z} + 1\\right) & 0.5 p_{I} \\left(r_{x} - i r_{y}\\right) + 0.5 p_{X} \\left(r_{x} + i r_{y}\\right) - 0.5 p_{Y} \\left(r_{x} + i r_{y}\\right) - 0.5 p_{Z} \\left(r_{x} - i r_{y}\\right)\\\\0.5 p_{I} \\left(r_{x} + i r_{y}\\right) + 0.5 p_{X} \\left(r_{x} - i r_{y}\\right) - 0.5 p_{Y} \\left(r_{x} - i r_{y}\\right) - 0.5 p_{Z} \\left(r_{x} + i r_{y}\\right) & - 0.5 p_{I} \\left(r_{z} - 1\\right) + 0.5 p_{X} \\left(r_{z} + 1\\right) + 0.5 p_{Y} \\left(r_{z} + 1\\right) - 0.5 p_{Z} \\left(r_{z} - 1\\right)\\end{matrix}\\right]$"
      ],
      "text/plain": [
       "⎡      0.5⋅p_I⋅(r_z + 1) - 0.5⋅p_X⋅(r_z - 1) - 0.5⋅p_Y⋅(r_z - 1) + 0.5⋅p_Z⋅(r_\n",
       "⎢                                                                             \n",
       "⎣0.5⋅p_I⋅(rₓ + ⅈ⋅r_y) + 0.5⋅p_X⋅(rₓ - ⅈ⋅r_y) - 0.5⋅p_Y⋅(rₓ - ⅈ⋅r_y) - 0.5⋅p_Z⋅\n",
       "\n",
       "z + 1)        0.5⋅p_I⋅(rₓ - ⅈ⋅r_y) + 0.5⋅p_X⋅(rₓ + ⅈ⋅r_y) - 0.5⋅p_Y⋅(rₓ + ⅈ⋅r_\n",
       "                                                                              \n",
       "(rₓ + ⅈ⋅r_y)       -0.5⋅p_I⋅(r_z - 1) + 0.5⋅p_X⋅(r_z + 1) + 0.5⋅p_Y⋅(r_z + 1) \n",
       "\n",
       "y) - 0.5⋅p_Z⋅(rₓ - ⅈ⋅r_y)⎤\n",
       "                         ⎥\n",
       "- 0.5⋅p_Z⋅(r_z - 1)      ⎦"
      ]
     },
     "execution_count": 6,
     "metadata": {},
     "output_type": "execute_result"
    }
   ],
   "source": [
    "p = symbols('p')\n",
    "pI = (1+3*p)/4; pX = (1-p)/4; pY = pX; pZ = pX\n",
    "rho_p = K0*rho1qb*K0 + K1*rho1qb*K1 + K2*rho1qb*K2 + K3*rho1qb*K3\n",
    "simplify(rho_p)"
   ]
  },
  {
   "cell_type": "code",
   "execution_count": 1,
   "id": "d9dac35f-ee9f-4ad8-8905-6cc560594d91",
   "metadata": {},
   "outputs": [],
   "source": [
    "import numpy as np\n",
    "from matplotlib import pyplot as plt"
   ]
  },
  {
   "cell_type": "code",
   "execution_count": 2,
   "id": "6648e0ae",
   "metadata": {},
   "outputs": [
    {
     "data": {
      "image/png": "[encoded data removed]",
      "text/plain": [
       "<Figure size 432x288 with 1 Axes>"
      ]
     },
     "metadata": {
      "needs_background": "light"
     },
     "output_type": "display_data"
    }
   ],
   "source": [
    "p = np.arange(0,1.1,0.1) # PD channel\n",
    "C = np.sqrt(1-p)\n",
    "plt.plot(p,C)\n",
    "plt.show()"
   ]
  },
  {
   "cell_type": "code",
   "execution_count": 3,
   "id": "ac2bd9f0",
   "metadata": {},
   "outputs": [],
   "source": [
    "from sympy import *"
   ]
  },
  {
   "cell_type": "code",
   "execution_count": 7,
   "id": "39456a4d",
   "metadata": {},
   "outputs": [],
   "source": [
    "N,p = symbols('N p')\n",
    "K0 = sqrt(1-N)*Matrix([[1,0],[0,sqrt(1-p)]])\n",
    "K1 = sqrt(1-N)*Matrix([[0,sqrt(p)],[0,0]])\n",
    "K2 = sqrt(N)*Matrix([[sqrt(1-p),0],[0,1]])\n",
    "K3 = sqrt(N)*Matrix([[0,0],[sqrt(p),0]])\n",
    "#K0"
   ]
  },
  {
   "cell_type": "code",
   "execution_count": 11,
   "id": "ac4ff316",
   "metadata": {},
   "outputs": [],
   "source": [
    "r00,r01,r10,r11 = symbols('r_{00} r_{01} r_{10} r_{11}')#; r00\n",
    "rho = Matrix([[r00,r01],[r10,r11]])#; rho"
   ]
  },
  {
   "cell_type": "code",
   "execution_count": 13,
   "id": "8903b137",
   "metadata": {},
   "outputs": [
    {
     "data": {
      "text/latex": [
       "$\\displaystyle \\left[\\begin{matrix}- N p r_{00} - N p r_{11} + p r_{11} + r_{00} & r_{01} \\sqrt{1 - p}\\\\r_{10} \\sqrt{1 - p} & N p r_{00} + N p r_{11} - p r_{11} + r_{11}\\end{matrix}\\right]$"
      ],
      "text/plain": [
       "Matrix([\n",
       "[-N*p*r_{00} - N*p*r_{11} + p*r_{11} + r_{00},                          r_{01}*sqrt(1 - p)],\n",
       "[                          r_{10}*sqrt(1 - p), N*p*r_{00} + N*p*r_{11} - p*r_{11} + r_{11}]])"
      ]
     },
     "execution_count": 13,
     "metadata": {},
     "output_type": "execute_result"
    }
   ],
   "source": [
    "rho_gad = K0*rho*K0 + K1*rho*K1.T + K2*rho*K2 + K3*rho*K3.T\n",
    "simplify(rho_gad)"
   ]
  },
  {
   "cell_type": "code",
   "execution_count": null,
   "id": "3898219e",
   "metadata": {},
   "outputs": [],
   "source": []
  }
 ],
 "metadata": {
  "kernelspec": {
   "display_name": "Python 3 (ipykernel)",
   "language": "python",
   "name": "python3"
  },
  "language_info": {
   "codemirror_mode": {
    "name": "ipython",
    "version": 3
   },
   "file_extension": ".py",
   "mimetype": "text/x-python",
   "name": "python",
   "nbconvert_exporter": "python",
   "pygments_lexer": "ipython3",
   "version": "3.8.11"
  }
 },
 "nbformat": 4,
 "nbformat_minor": 5
}
