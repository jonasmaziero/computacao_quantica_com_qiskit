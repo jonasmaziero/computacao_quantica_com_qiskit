{
 "cells": [
  {
   "cell_type": "markdown",
   "id": "7a983940",
   "metadata": {},
   "source": [
    "# Canais quânticos para qudits\n",
    "\n",
    "Uma dinâmica escrita como uma representação da soma de operadores de Kraus,\n",
    "$$\\Lambda(\\rho) = \\sum_{j}K_{j}\\rho K_{j}^{\\dagger},$$\n",
    "com os operadores de Kraus $K_{j}$ satisfazendo a restrição\n",
    "$$\\sum_{j}K_{j}^{\\dagger}K_{j}=\\mathbb{I},$$\n",
    "é uma operação completamente positiva e que preserva o traço."
   ]
  },
  {
   "cell_type": "markdown",
   "id": "5b0db5a3",
   "metadata": {},
   "source": [
    "A operação quântica acima, aplicada a um sistema $A$, pode ser obtida a partir da isometria\n",
    "$$|\\Psi\\rangle_{AB} = V_{AB}\\big(|\\psi\\rangle_{A}\\otimes|0\\rangle_{B}\\big) = \\sum_{j}\\big(K_{j}|\\psi\\rangle_{A}\\big)\\otimes|j\\rangle_{B},$$\n",
    "ou seja\n",
    "$$Tr_{B}\\big(|\\Psi\\rangle_{AB}\\langle\\Psi|\\big) = \\Lambda(\\psi).$$\n",
    "\n",
    "Assim como fizemos para medidas gerais, podemos implementar operações quânticas usando protocolos de preparação de estados. Uma vez que conhecemos os operadores de Kraus $K_{j}$, podemos calcular o estado $|\\Psi\\rangle_{AB}$. Uma vez preparado este estado, via algoritmo de preparação de estados, traçamos (ignoramos) o sistema $B$, obtendo assim o estado evoluído do sistema $A$, que será $\\Lambda(\\rho)$. \n",
    "\n",
    "OBS. Uma operação quântica geral, ou mapa completamente positivo que preserva o traço, é equivalente a um medida quântica geral não seletiva.\n",
    "\n",
    "OBS. Podemos, de uma medida seletiva no sistema $B$ e pós-seleção, estudar a ação de cada um dos operadores de Kraus $K_j$."
   ]
  },
  {
   "cell_type": "markdown",
   "id": "8cb3f52d",
   "metadata": {},
   "source": [
    "## Operadores de Heisenberg-Weyl\n",
    "\\begin{align}\n",
    "& X(j) = \\sum_{k=0}^{d-1}|j\\oplus k\\rangle\\langle k|, \\\\\n",
    "& Z(j) = \\sum_{k=0}^{d-1}e^{i2\\pi jk/d}|k\\rangle\\langle k|.\n",
    "\\end{align}\n",
    "Para $d=2$ temos\n",
    "\\begin{align}\n",
    "X(0) & = \\sum_{k=0}^{1}|0\\oplus k\\rangle k| = |0\\oplus 0\\rangle\\langle 0| + |0\\oplus 1\\rangle\\langle 1| = |0\\rangle\\langle 0| + |1\\rangle\\langle 1| = \\mathbb{I}, \\\\\n",
    "X(1) & = \\sum_{k=0}^{1}|1\\oplus k\\rangle k| = |1\\oplus 0\\rangle\\langle 0| + |1\\oplus 1\\rangle\\langle 1| = |1\\rangle\\langle 0| + |0\\rangle\\langle 1| = X, \\\\\n",
    "Z(0) & = \\sum_{k=0}^{1}e^{i2\\pi 0k/2}|k\\rangle\\langle k| = |0\\rangle\\langle 0| + |1\\rangle\\langle 1| = \\mathbb{I}, \\\\ \n",
    "Z(1) & = \\sum_{k=0}^{1}e^{i2\\pi k/2}|k\\rangle\\langle k| = |0\\rangle\\langle 0| + e^{i\\pi}|1\\rangle\\langle 1| = Z.\n",
    "\\end{align}"
   ]
  },
  {
   "cell_type": "markdown",
   "id": "ba638a86",
   "metadata": {},
   "source": [
    "Também verificamos a operação TWIRL:\n",
    "$$\\sum_{j,k=0}^{d-1}X(j)Z(k)\\rho Z(k)^{\\dagger}X(j)^{\\dagger} = d\\mathbb{I}_{d}.$$\n",
    "Para $d=2$ teremos\n",
    "\\begin{align}\n",
    "2\\mathbb{I}_{2} & = \\sum_{j,k=0}^{1}X(j)Z(k)\\rho Z(k)^{\\dagger}X(j)^{\\dagger} \\\\\n",
    "& = X(0)Z(0)\\rho Z(0)^{\\dagger}X(0)^{\\dagger} + X(0)Z(1)\\rho Z(1)^{\\dagger}X(0)^{\\dagger} \\\\\n",
    "& + X(1)Z(0)\\rho Z(0)^{\\dagger}X(1)^{\\dagger} + X(1)Z(1)\\rho Z(1)^{\\dagger}X(1)^{\\dagger} \\\\\n",
    "& = \\rho + Z\\rho Z + X\\rho X + XZ\\rho ZX \\\\\n",
    "& = \\rho + Z\\rho Z + X\\rho X + Y\\rho Y.\n",
    "\\end{align}\n",
    "Com isso, o canal depolarizing pode ser reescrito como\n",
    "\\begin{align}\n",
    "\\Lambda_{d}(\\rho) & = p\\rho + \\frac{1-p}{4}2\\mathbb{I}_{2} \\\\\n",
    "& = p\\rho + \\frac{1-p}{4}\\big(\\rho + Z\\rho Z + X\\rho X + Y\\rho Y\\big) \\\\\n",
    "& = \\frac{1+3p}{4}\\rho + \\frac{1-p}{4}\\big(X\\rho X +Z\\rho Z + Y\\rho Y\\big).\n",
    "\\end{align}"
   ]
  },
  {
   "cell_type": "markdown",
   "id": "1f2522b6",
   "metadata": {},
   "source": [
    "## Canal de Heisenberg-Weyl\n",
    "Analogamente que fizemos para qubits, vamos definir o canal de Heisenberg-Weyl como a aplicação aleatória, segundo a distribuição de probabilidade $p_{j,k}$, dos operadores de Heisenberg-Weyl em um estado de um qudit:\n",
    "$$\\Lambda_{hw}(\\rho) = \\sum_{j,k=0}^{d-1}p_{j,k}X(j)Z(k)\\rho Z(k)^{\\dagger}X(j)^{\\dagger}.$$\n",
    "Nesse caso, os operadores de Kraus são \n",
    "$$K_{j,k} = \\sqrt{p_{j,k}}X(j)Z(k).$$\n",
    "\n",
    "O estado a ser preparado para simular essa operação é\n",
    "$$|\\Psi\\rangle_{AB} = \\sum_{j,k=0}^{d-1}\\big(K_{j,k}|\\psi\\rangle_{A}\\big)\\otimes|j\\rangle_{B}|k\\rangle_{C}.$$"
   ]
  },
  {
   "cell_type": "markdown",
   "id": "a50526b6",
   "metadata": {},
   "source": [
    "A ação desses operadores de Krays em um estado qualquer de um qudit,\n",
    "$$|\\psi\\rangle=\\sum_{l=0}^{d-1}\\psi_{l}|l\\rangle,$$\n",
    "é dada como segue\n",
    "\\begin{align}\n",
    "K_{j,k}|\\psi\\rangle & = \\sqrt{p_{j,k}}X(j)Z(k)|\\psi\\rangle \\\\\n",
    "& = \\sqrt{p_{j,k}}X(j)\\sum_{k'=0}^{d-1}e^{i2\\pi kk'/d}|k'\\rangle\\langle k'|\\sum_{l=0}^{d-1}\\psi_{l}|l\\rangle \\\\\n",
    "& = \\sqrt{p_{j,k}}X(j)\\sum_{k',l=0}^{d-1}\\psi_{l}e^{i2\\pi kk'/d}|k'\\rangle\\delta_{k',l} \\\\\n",
    "& = \\sqrt{p_{j,k}}\\sum_{l=0}^{d-1}\\psi_{l}e^{i2\\pi kl/d}X(j)|l\\rangle \\\\\n",
    "& = \\sqrt{p_{j,k}}\\sum_{l=0}^{d-1}\\psi_{l}e^{i2\\pi kl/d}\\sum_{j'=0}^{d-1}|j\\oplus j'\\rangle\\langle j'|l\\rangle \\\\\n",
    "& = \\sqrt{p_{j,k}}\\sum_{l=0}^{d-1}\\psi_{l}e^{i2\\pi kl/d}|j\\oplus l\\rangle.\n",
    "\\end{align}"
   ]
  },
  {
   "cell_type": "markdown",
   "id": "e894a883",
   "metadata": {},
   "source": [
    "Assim o estado a ser preparado fica escrito como \n",
    "$$|\\Psi\\rangle_{AB} = \\sum_{j,k,l=0}^{d-1} \\sqrt{p_{j,k}}\\psi_{l}e^{i2\\pi kl/d}|j\\oplus l\\rangle_{A}|j\\rangle_{B}|k\\rangle_{C}.$$\n",
    "Para 1 qutrit este estado tem 27 termos. Vamos olhar pra casos particulares. Podemos \n",
    "$$\\psi_{l}=1$$\n",
    "para $l=0$, $l=1$ ou $l=2$. Com isso não temos mais soma em $l$ e o estado a ser preparado fica escrito como\n",
    "$$|\\Psi\\rangle_{AB} = \\sum_{j,k=0}^{d-1} \\sqrt{p_{j,k}}e^{i2\\pi kl/d}|j\\oplus l\\rangle_{A}|j\\rangle_{B}|k\\rangle_{C}.$$"
   ]
  },
  {
   "cell_type": "markdown",
   "id": "d98bec12",
   "metadata": {},
   "source": [
    "Este estado tem 9 termos:\n",
    "\\begin{align}\n",
    "|\\Psi\\rangle_{AB} & = \\sqrt{p_{0,0}}|l\\rangle_{A}|0\\rangle_{B}|0\\rangle_{C} + \\sqrt{p_{0,1}}e^{i2\\pi l/d}|l\\rangle_{A}|0\\rangle_{B}|1\\rangle_{C} + \\sqrt{p_{0,2}}e^{i4\\pi l/d}|l\\rangle_{A}|0\\rangle_{B}|2\\rangle_{C} \\\\\n",
    "& + \\sqrt{p_{1,0}}|1\\oplus l\\rangle_{A}|1\\rangle_{B}|0\\rangle_{C} + \\sqrt{p_{1,1}}e^{i2\\pi l/d}|1\\oplus l\\rangle_{A}|1\\rangle_{B}|1\\rangle_{C} + \\sqrt{p_{1,2}}e^{i4\\pi l/d}|1\\oplus l\\rangle_{A}|1\\rangle_{B}|2\\rangle_{C} \\\\\n",
    "& + \\sqrt{p_{2,0}}|2\\oplus l\\rangle_{A}|2\\rangle_{B}|0\\rangle_{C} + \\sqrt{p_{2,1}}e^{i2\\pi l/d}|2\\oplus l\\rangle_{A}|2\\rangle_{B}|1\\rangle_{C} + \\sqrt{p_{2,2}}e^{i4\\pi l/d}|2\\oplus l\\rangle_{A}|2\\rangle_{B}|2\\rangle_{C}.\n",
    "\\end{align}"
   ]
  },
  {
   "cell_type": "markdown",
   "id": "3204821d",
   "metadata": {},
   "source": [
    "Se usamos uma distribuição de probabilidade uniforme,\n",
    "$$p_{j,k}=\\frac{1}{d^{2}}\\ \\forall\\ j,k,$$\n",
    "obtemos a operação TWIRL\n",
    "$$\\Lambda_{t}(\\rho) = \\frac{1}{d^{2}}\\sum_{j,k=0}^{d-1}Z(j)X(k)\\rho X(k)^{\\dagger}Z(j)^{\\dagger} = \\frac{\\mathbb{I}_{d}}{d}.$$\n",
    "Neste caso os operadores de Kraus são dados por\n",
    "$$K_{j,k} = d^{-1}X(j)Z(k).$$"
   ]
  },
  {
   "cell_type": "markdown",
   "id": "0d221e16",
   "metadata": {},
   "source": [
    "## Qudit dephasing \n",
    "\n",
    "Uma forma de apagar por completo a coerência de um estado em relação à base computacional é fazendo uma medida não seletiva nessa base\n",
    "\\begin{align}\n",
    "\\Lambda_{d}^{\\max}(\\rho) = \\sum_{j=0}^{d-1}|j\\rangle\\langle j|\\rho |j\\rangle\\langle j| = \\sum_{j=0}^{d-1}\\rho_{j,j}|j\\rangle\\langle j|,\n",
    "\\end{align}\n",
    "em que usamos \n",
    "$$\\rho_{j,j}=\\langle j|\\rho |j\\rangle.$$\n",
    "Podemos chamar esse canal de __canal de phase flip completo__.\n",
    "\n",
    "Note que neste caso os operadores de Kraus são\n",
    "$$K_{j} = |j\\rangle\\langle j|.$$\n",
    "Para a simulação, termos que preparar o estado\n",
    "\\begin{align}\n",
    "|\\Psi\\rangle_{AB} & = \\sum_{j=0}^{d-1}\\big(K_{j}|\\psi\\rangle_{A}\\big)\\otimes|j\\rangle_{B} \\\\\n",
    "& = \\sum_{j=0}^{d-1}\\big(|j\\rangle\\langle j|\\psi\\rangle_{A}\\big)\\otimes|j\\rangle_{B} \\\\\n",
    "& = \\sum_{j=0}^{d-1}\\psi_{j}|j\\rangle_{A}\\otimes|j\\rangle_{B},\n",
    "\\end{align}\n",
    "com \n",
    "$$\\psi_{j} := _{A}\\langle j|\\psi\\rangle_{B}.$$"
   ]
  },
  {
   "cell_type": "markdown",
   "id": "0f6c499a",
   "metadata": {},
   "source": [
    "Podemos obter este canal como um caso particular do canal de Heisenberg-Weyl (CHW). Consideremos inicialmente um canal similar ao de CHW, mas onde somente os operadores de deslocamento de fase são aplicados, i.e., consideremos o __canal de phase flip the Heisenberg-Weyl__\n",
    "\\begin{align}\n",
    "\\Lambda_{d}(\\rho) & = \\sum_{j=0}^{d-1}p_{j}Z(j)\\rho Z(j)^{\\dagger} \\\\\n",
    "& = \\sum_{j=0}^{d-1}\\sum_{k,l=0}^{d-1}\\rho_{k,l}p_{j}Z(j)|k\\rangle\\langle l|Z(j)^{\\dagger} \\\\\n",
    "& = \\sum_{j=0}^{d-1}\\sum_{k,l=0}^{d-1}\\rho_{k,l}p_{j}e^{i2\\pi jk/d}|k\\rangle\\langle l|e^{-i2\\pi jl/d} \\\\\n",
    "& = \\sum_{k,l=0}^{d-1}\\rho_{k,l}\\Big(\\sum_{j=0}^{d-1}p_{j}e^{i2\\pi j(k-l)/d}\\Big)|k\\rangle\\langle l| \\\\\n",
    "& = \\sum_{k,l=0}^{d-1}\\Lambda_{d}(\\rho)_{k,l}|k\\rangle\\langle l|.\n",
    "\\end{align}\n",
    "Neste caso os operadores de Kraus seriam\n",
    "$$K_{j} = \\sqrt{p_{j}}Z(j).$$"
   ]
  },
  {
   "cell_type": "markdown",
   "id": "89d4661e",
   "metadata": {},
   "source": [
    "Vale notar que os elemtos diagonais da matriz evoluída não mudam. Ou seja, para \n",
    "$$k=l$$\n",
    "teremos\n",
    "\\begin{align}\n",
    "\\big(\\Lambda_{d}(\\rho)\\big)_{k,k} & = \\rho_{k,k}\\Big(\\sum_{j=0}^{d-1}p_{j}e^{i2\\pi j(k-k)/d}\\Big) \\\\\n",
    "& = \\rho_{k,k}.\n",
    "\\end{align}\n",
    "Esse é um requisito básico para uma operação de dephasing: não afetar as populaçõese só modificar as coerências.\n",
    "\n",
    "As coerências da matriz densidade serão afetadas. Para \n",
    "$$k\\ne l$$\n",
    "temos que\n",
    "$$\\big(\\Lambda_{d}(\\rho)\\big)_{k,l} = \\rho_{k,l}\\Big(\\sum_{j=0}^{d-1}p_{j}e^{i2\\pi j(k-l)/d}\\Big).$$\n",
    "Ou seja, as coerências são multiplicadas por um fator $\\sum_{j=0}^{d-1}p_{j}e^{i2\\pi j(k-l)/d}$ que depende das probabilidades dos operadores de HW atuarem no sistema."
   ]
  },
  {
   "cell_type": "markdown",
   "id": "54d93bd1",
   "metadata": {},
   "source": [
    "Vimos, na aula sobre qudits, que\n",
    "$$\\sum_{k=0}^{d-1}e^{2\\pi ik(l-m)/d} = d\\delta_{l,m}.$$\n",
    "Então, se na expressão acima para $\\Lambda_{d}(\\rho)$ fazemos todas as probabilidades $p_{j}$ iguais, i.e., se fazemos\n",
    "$$p_{j} = \\frac{1}{d},$$\n",
    "obteremos\n",
    "\\begin{align}\n",
    "\\Lambda_{d}^{p_{j}=1/d}(\\rho) & = \\sum_{k,l=0}^{d-1}\\rho_{k,l}\\frac{1}{d}\\Big(\\sum_{j=0}^{d-1}e^{i2\\pi j(k-l)/d}\\Big)|k\\rangle\\langle l| \\\\\n",
    " & = \\sum_{k,l=0}^{d-1}\\rho_{k,l}\\frac{1}{d}d\\delta_{k,l}|k\\rangle\\langle l| \\\\\n",
    " & = \\sum_{k=0}^{d-1}\\rho_{k,k}|k\\rangle\\langle k| \\\\\n",
    " & = \\Lambda_{d}^{\\max}(\\rho).\n",
    "\\end{align}"
   ]
  },
  {
   "cell_type": "markdown",
   "id": "dfe5782e",
   "metadata": {},
   "source": [
    "#### Casos particulares\n",
    "\n",
    "Para \n",
    "$$d=2$$\n",
    "temos\n",
    "\\begin{align}\n",
    "\\Lambda_{d}(\\rho) & = p_{0}Z(0)\\rho Z(0)^{\\dagger} + p_{1}Z(1)\\rho Z(1)^{\\dagger} \\\\\n",
    "& = p_{0}\\rho + (1-p_{0})Z\\rho Z \\\\\n",
    "& = \\Lambda_{pf}(\\rho),\n",
    "\\end{align}\n",
    "que é igual ao canal de phase flip."
   ]
  },
  {
   "cell_type": "markdown",
   "id": "5d3eb92f",
   "metadata": {},
   "source": [
    "Para \n",
    "$$d = 3$$\n",
    "teremos\n",
    "\\begin{align}\n",
    "\\Lambda_{d}(\\rho) & = p_{0}Z(0)\\rho Z(0)^{\\dagger} + p_{1}Z(1)\\rho Z(1)^{\\dagger} +  p_{2}Z(2)\\rho Z(2)^{\\dagger}.\n",
    "\\end{align}\n",
    "Neste caso, vamos tentar ganhar insight olhando para os elementos de matriz. Para $k=l$ temos\n",
    "$$\\big(\\Lambda_{d}(\\rho)\\big)_{k,l}=\\rho_{k,k}.$$\n",
    "Para $k\\ne l$ e $k,l=0,1,2$ teremos\n",
    "\\begin{align}\n",
    "\\big(\\Lambda_{d}(\\rho)\\big)_{k,l} & = \\rho_{k,l}\\Big(\\sum_{j=0}^{2}p_{j}e^{i2\\pi j(k-l)/d}\\Big) \\\\\n",
    " & = \\rho_{k,l}\\big(p_{0} + p_{1}e^{i2\\pi(k-l)/3} + p_{2}e^{i4\\pi(k-l)/3}\\big).\n",
    "\\end{align}\n",
    "Nos falta entender o significado físico destas expressões matemáticas. Vale observar já que como \n",
    "$$Z(0)=\\mathbb{I},$$\n",
    "teremos a correspondência\n",
    "$$p_{0}=1\\Leftrightarrow t=0 \\text{ e } p_{0}=0\\Leftrightarrow t=\\infty.$$"
   ]
  },
  {
   "cell_type": "markdown",
   "id": "33e0eece",
   "metadata": {},
   "source": [
    "Explicitamente, os elementos de matriz ficam escritos como segue\n",
    "\\begin{align}\n",
    "\\big(\\Lambda_{d}(\\rho)\\big)_{0,1} & = \\rho_{0,1}\\big(p_{0} + p_{1}e^{i2\\pi(0-1)/3} + p_{2}e^{i4\\pi(0-1)/3}\\big) \\\\\n",
    " & = \\rho_{0,1}\\big(p_{0} + p_{1}e^{-i2\\pi/3} + p_{2}e^{-i4\\pi/3}\\big) \\\\\n",
    " & = \\rho_{0,1}\\big(p_{0} - p_{1}(1+i\\sqrt{3})/2 - p_{2}(1-i\\sqrt{3})/2\\big), \\\\\n",
    "\\big(\\Lambda_{d}(\\rho)\\big)_{0,2} & = \\rho_{0,2}\\big(p_{0} + p_{1}e^{i2\\pi(0-2)/3} + p_{2}e^{i4\\pi(0-2)/3}\\big) \\\\\n",
    "& = \\rho_{0,2}\\big(p_{0} + p_{1}e^{-i4\\pi/3} + p_{2}e^{-i8\\pi/3}\\big) \\\\\n",
    "& = \\rho_{0,2}\\big(p_{0} + p_{1}e^{-i4\\pi/3} + p_{2}e^{-i2\\pi/3}\\big) \\\\\n",
    "& = \\rho_{0,2}\\big(p_{0} - p_{1}(1-i\\sqrt{3})/2 - p_{2}(1+i\\sqrt{3})/2\\big), \\\\\n",
    "\\big(\\Lambda_{d}(\\rho)\\big)_{1,2} & = \\rho_{1,2}\\big(p_{0} + p_{1}e^{i2\\pi(1-2)/3} + p_{2}e^{i4\\pi(1-2)/3}\\big) \\\\\n",
    "& = \\rho_{1,2}\\big(p_{0} + p_{1}e^{-i2\\pi/3} + p_{2}e^{-i4\\pi/3}\\big) \\\\\n",
    "& = \\rho_{1,2}\\big(p_{0} - p_{1}(1+i\\sqrt{3})/2 - p_{2}(1-i\\sqrt{3})/2\\big), \\\\\n",
    "\\end{align}"
   ]
  },
  {
   "cell_type": "code",
   "execution_count": 7,
   "id": "bbcc0378",
   "metadata": {},
   "outputs": [
    {
     "data": {
      "image/png": "[encoded data removed]",
      "text/latex": [
       "$\\displaystyle \\left( - \\frac{1}{2}, \\  - \\frac{\\sqrt{3}}{2}, \\  - \\frac{1}{2}, \\  \\frac{\\sqrt{3}}{2}, \\  - \\frac{1}{2}, \\  - \\frac{\\sqrt{3}}{2}\\right)$"
      ],
      "text/plain": [
       "⎛      -√3         √3        -√3 ⎞\n",
       "⎜-1/2, ────, -1/2, ──, -1/2, ────⎟\n",
       "⎝       2          2          2  ⎠"
      ]
     },
     "execution_count": 7,
     "metadata": {},
     "output_type": "execute_result"
    }
   ],
   "source": [
    "cos(-2*pi/3), sin(-2*pi/3), cos(-4*pi/3), sin(-4*pi/3), cos(-8*pi/3), sin(-8*pi/3)"
   ]
  },
  {
   "cell_type": "markdown",
   "id": "b35eec08",
   "metadata": {},
   "source": [
    "Para uma matriz densidade de um qutrit,\n",
    "$$\\rho \\doteq \\begin{bmatrix}\\rho_{0,0}&\\rho_{0,1}&\\rho_{0,2} \\\\ \\rho_{1,0}&\\rho_{1,1}&\\rho_{1,2} \\\\ \\rho_{2,0}&\\rho_{2,1}&\\rho_{2,2}\\end{bmatrix},$$\n",
    "a coerência norma $l_{1}$ é dada por\n",
    "\\begin{align}\n",
    "C_{l_{1}}(\\rho) & = \\sum_{k\\ne l}|\\rho_{k,l}| = 2\\big(|\\rho_{0,1}|+|\\rho_{0,2}|+|\\rho_{1,2}|\\big).\n",
    "\\end{align}"
   ]
  },
  {
   "cell_type": "markdown",
   "id": "1228bd6f",
   "metadata": {},
   "source": [
    "Para este estado evoluído sob dephasing de HW teremos\n",
    "\\begin{align}\n",
    "C_{l_{1}}(\\Lambda_{d}(\\rho)) & = \\sum_{k\\ne l}\\big|\\Lambda_{d}(\\rho)_{k,l}\\big| \\\\\n",
    "& = 2\\big(\\big|\\Lambda_{d}(\\rho)_{0,1}\\big|+\\big|\\Lambda_{d}(\\rho)_{0,2}\\big|+\\big|\\Lambda_{d}(\\rho)_{1,2}\\big|\\big).\n",
    "\\end{align}\n",
    "Essa conta é longa, então vamos olhar termo a termo\n",
    "\\begin{align}\n",
    "\\big|\\Lambda_{d}(\\rho)_{0,1}\\big| & = |\\rho_{0,1}|\\big|\\big(p_{0} + p_{1}e^{-i2\\pi/3} + p_{2}e^{-i4\\pi/3}\\big)\\big| \\\\\n",
    "& = |\\rho_{0,1}|\\sqrt{\\big(p_{0} + p_{1}e^{-i2\\pi/3} + p_{2}e^{-i4\\pi/3}\\big)\\big(p_{0} + p_{1}e^{i2\\pi/3} + p_{2}e^{i4\\pi/3}\\big)} \\\\\n",
    "& = |\\rho_{0,1}|\\sqrt{\\big(p_{0}^{2} + p_{1}^{2} + p_{2}^{2} + p_{0}p_{1}\\big(e^{i2\\pi/3}+e^{-i2\\pi/3}\\big) + p_{0}p_{2}\\big(e^{i4\\pi/3}+e^{-i4\\pi/3}\\big) + p_{1}p_{2}\\big(e^{i2\\pi/3}+e^{-i2\\pi/3}\\big)\\big)} \\\\\n",
    "& = |\\rho_{0,1}|\\sqrt{\\big(p_{0}^{2} + p_{1}^{2} + p_{2}^{2} + 2p_{0}p_{1}\\cos(2\\pi/3) + 2p_{0}p_{2}\\cos(4\\pi/3) + 2p_{1}p_{2}\\cos(2\\pi/3)\\big)} \\\\\n",
    "& = |\\rho_{0,1}|\\sqrt{\\big((2p_{0}^{2} + 2p_{1}^{2} + 2p_{2}^{2})/2 + 2p_{0}p_{1}(-1/2) + 2p_{0}p_{2}(-1/2) + 2p_{1}p_{2}(-1/2)\\big)} \\\\\n",
    "& = |\\rho_{0,1}|\\sqrt{\\big((p_{0}-p_{1})^{2}+(p_{0}-p_{2})^{2}+(p_{1}-p_{2})^{2}\\big)/2}\n",
    "\\end{align}"
   ]
  },
  {
   "cell_type": "markdown",
   "id": "307818ac",
   "metadata": {},
   "source": [
    "Pode-se verificar (__exercício__) também que\n",
    "\\begin{align}\n",
    "& \\big|\\Lambda_{d}(\\rho)_{0,2}\\big| = |\\rho_{0,2}|\\sqrt{\\big((p_{0}-p_{1})^{2}+(p_{0}-p_{2})^{2}+(p_{1}-p_{2})^{2}\\big)/2}, \\\\\n",
    "& \\big|\\Lambda_{d}(\\rho)_{1,2}\\big| = |\\rho_{1,2}|\\sqrt{\\big((p_{0}-p_{1})^{2}+(p_{0}-p_{2})^{2}+(p_{1}-p_{2})^{2}\\big)/2}.\n",
    "\\end{align}\n",
    "Com isso, podemos escrever a coerência quântica como\n",
    "\\begin{align}\n",
    "C_{l_{1}}(\\Lambda_{d}(\\rho)) & = 2\\big(|\\rho_{0,1}|+|\\rho_{0,2}|+|\\rho_{1,2}|\\big)\\sqrt{\\big((p_{0}-p_{1})^{2}+(p_{0}-p_{2})^{2}+(p_{1}-p_{2})^{2}\\big)/2} \\\\\n",
    "& = C_{l_{1}}(\\rho)\\sqrt{\\big((p_{0}-p_{1})^{2}+(p_{0}-p_{2})^{2}+(p_{1}-p_{2})^{2}\\big)/2}.\n",
    "\\end{align}\n",
    "\n",
    "Olhando para esta expressão, vemos que se as probabilidades são iguais, i.e., \n",
    "$$p_{0}=p_1=p_2=1/3\\ \\therefore\\ C_{l_{1}}(\\Lambda_{d}(\\rho))=0,$$\n",
    "como esperado. No entanto, se $p_0=1$ e $p_1=p_2=0$, teremos $C_{l_{1}}(\\Lambda_{d}(\\rho))=C_{l_{1}}(\\rho)$, também é esperado pois $Z(0)=\\mathbb{I}$. Na verdade, se só um dos operadores atua, ou seja, se só um dos estados base recebe uma mudança de fase, então a coerência não muda:\n",
    "\\begin{align}\n",
    "& p_0=1,\\ p_1=p_2=0\\ \\therefore\\ C_{l_{1}}(\\Lambda_{d}(\\rho))=C_{l_{1}}(\\rho), \\\\\n",
    "& p_1=1,\\ p_0=p_2=0\\ \\therefore\\ C_{l_{1}}(\\Lambda_{d}(\\rho))=C_{l_{1}}(\\rho), \\\\\n",
    "& p_2=1,\\ p_0=p_1=0\\ \\therefore\\ C_{l_{1}}(\\Lambda_{d}(\\rho))=C_{l_{1}}(\\rho).\n",
    "\\end{align}"
   ]
  },
  {
   "cell_type": "markdown",
   "id": "1a96eba7",
   "metadata": {},
   "source": [
    "## Qudit bit flip\n",
    "\n",
    "De forma análoga ao que fizemos acima, podemos definir o canal de bit-flip de Heisenberg-Weyl como\n",
    "$$\\Lambda_{bf}(\\rho) = \\sum_{j=0}^{d-1}p_{j}X(j)\\rho X(j)^{\\dagger},$$\n",
    "com $\\{p_j\\}$ sendo uma distribuição de probabilidades. Aqui é mais complicado ainda para se ter o que esperar sobre a ação do canal para qubits. Por isso, vamos olhar para alguns casos particulares. Termos assim que\n",
    "\\begin{align}\n",
    "\\Lambda_{bf}(\\rho) & = \\sum_{j=0}^{d-1}p_{j}X(j)\\sum_{k,l=0}^{d-1}\\rho_{k,l}|k\\rangle\\langle l| X(j)^{\\dagger} \\\\\n",
    "& = \\sum_{k,l=0}^{d-1}\\rho_{k,l}\\sum_{j=0}^{d-1}p_{j}X(j)|k\\rangle\\langle l| X(j)^{\\dagger} \\\\\n",
    "& = \\sum_{k,l=0}^{d-1}\\rho_{k,l}\\sum_{j=0}^{d-1}p_{j}|j\\oplus k\\rangle\\langle j\\oplus l|.\n",
    "\\end{align}\n",
    "Essa expressão não ajuda muito de forma geral. Vamos olhar para alguns exemplos."
   ]
  },
  {
   "cell_type": "markdown",
   "id": "9504ec7e",
   "metadata": {},
   "source": [
    "### $d=2$\n",
    "Neste caso teremos\n",
    "\\begin{align}\n",
    "\\Lambda_{bf}(\\rho) & = \\sum_{j=0}^{1}p_{j}X(j)\\rho X(j)^{\\dagger} \\\\\n",
    "& = p_{0}X(0)\\rho X(0)^{\\dagger} + p_{1}X(1)\\rho X(1)^{\\dagger} \\\\\n",
    "& = p_{0}\\rho + (1-p_{0})X\\rho X,\n",
    "\\end{align}\n",
    "que é o bem conhecido canal de inversão de bits para qubits."
   ]
  },
  {
   "cell_type": "markdown",
   "id": "2c049925",
   "metadata": {},
   "source": [
    "### $d=3$\n",
    "Neste caso teremos\n",
    "\\begin{align}\n",
    "\\Lambda_{bf}(\\rho) & = \\sum_{j=0}^{2}p_{j}X(j)\\rho X(j)^{\\dagger} \\\\\n",
    "& = p_{0}X(0)\\rho X(0)^{\\dagger} + p_{1}X(1)\\rho X(1)^{\\dagger} + p_{2}X(2)\\rho X(2)^{\\dagger} \\\\\n",
    "& = p_{0}\\rho + p_{1}X(1)\\rho X(1)^{\\dagger} + p_{2}X(2)\\rho X(2)^{\\dagger}.\n",
    "\\end{align}\n",
    "Temos que\n",
    "\\begin{align}\n",
    "X(1)\\rho X(1)^{\\dagger} = & \\sum_{k,l=0}^{2}\\rho_{k,l}X(1)|k\\rangle\\langle l|X(1)^{\\dagger} \\\\\n",
    "= & \\sum_{k,l=0}^{2}\\rho_{k,l}|1\\oplus k\\rangle\\langle 1\\oplus l| \\\\\n",
    "= & \\rho_{0,0}|1\\oplus 0\\rangle\\langle 1\\oplus 0| + \\rho_{0,1}|1\\oplus 0\\rangle\\langle 1\\oplus 1| + \\rho_{0,2}|1\\oplus 0\\rangle\\langle 1\\oplus 2| \\\\\n",
    "& + \\rho_{1,0}|1\\oplus 1\\rangle\\langle 1\\oplus 0| + \\rho_{1,1}|1\\oplus 1\\rangle\\langle 1\\oplus 1| + \\rho_{1,2}|1\\oplus 1\\rangle\\langle 1\\oplus 2| \\\\\n",
    "& + \\rho_{2,0}|1\\oplus 2\\rangle\\langle 1\\oplus 0| + \\rho_{2,1}|1\\oplus 2\\rangle\\langle 1\\oplus 1| + \\rho_{2,2}|1\\oplus 2\\rangle\\langle 1\\oplus 2| \\\\\n",
    "= & \\rho_{0,0}|1\\rangle\\langle 1| + \\rho_{0,1}|1\\rangle\\langle 2| + \\rho_{0,2}|1\\rangle\\langle 0| \\\\\n",
    "& + \\rho_{1,0}|2\\rangle\\langle 1| + \\rho_{1,1}|2\\rangle\\langle 2| + \\rho_{1,2}|2\\rangle\\langle 0| \\\\\n",
    "& + \\rho_{2,0}|0\\rangle\\langle 1| + \\rho_{2,1}|0\\rangle\\langle 2| + \\rho_{2,2}|0\\rangle\\langle 0|\n",
    "\\end{align}"
   ]
  },
  {
   "cell_type": "markdown",
   "id": "66a23c7a",
   "metadata": {},
   "source": [
    "e\n",
    "\\begin{align}\n",
    "X(2)\\rho X(2)^{\\dagger} = & \\sum_{k,l=0}^{2}\\rho_{k,l}X(2)|k\\rangle\\langle l|X(2)^{\\dagger} \\\\\n",
    "= & \\sum_{k,l=0}^{2}\\rho_{k,l}|2\\oplus k\\rangle\\langle 2\\oplus l| \\\\\n",
    "= & \\rho_{0,0}|2\\oplus 0\\rangle\\langle 2\\oplus 0| + \\rho_{0,1}|2\\oplus 0\\rangle\\langle 2\\oplus 1| + \\rho_{0,2}|2\\oplus 0\\rangle\\langle 2\\oplus 2| \\\\\n",
    "& + \\rho_{1,0}|2\\oplus 1\\rangle\\langle 2\\oplus 0| + \\rho_{1,1}|2\\oplus 1\\rangle\\langle 2\\oplus 1| + \\rho_{1,2}|2\\oplus 1\\rangle\\langle 2\\oplus 2| \\\\\n",
    "& + \\rho_{2,0}|2\\oplus 2\\rangle\\langle 2\\oplus 0| + \\rho_{2,1}|2\\oplus 2\\rangle\\langle 2\\oplus 1| + \\rho_{2,2}|2\\oplus 2\\rangle\\langle 2\\oplus 2| \\\\\n",
    "= & \\rho_{0,0}|2\\rangle\\langle 2| + \\rho_{0,1}|2\\rangle\\langle 0| + \\rho_{0,2}|2\\rangle\\langle 1| \\\\\n",
    "& + \\rho_{1,0}|0\\rangle\\langle 2| + \\rho_{1,1}|0\\rangle\\langle 0| + \\rho_{1,2}|0\\rangle\\langle 1| \\\\\n",
    "& + \\rho_{2,0}|1\\rangle\\langle 2| + \\rho_{2,1}|1\\rangle\\langle 0| + \\rho_{2,2}|1\\rangle\\langle 1|.\n",
    "\\end{align}"
   ]
  },
  {
   "cell_type": "markdown",
   "id": "a4f49f20",
   "metadata": {},
   "source": [
    "Com isso, o operador densidade evoluído é dado por\n",
    "\\begin{align}\n",
    "\\Lambda_{bf}(\\rho) & = \\big( p_{0}\\rho_{0,0} + p_{1}\\rho_{2,2} + p_{2}\\rho_{1,1} \\big)|0\\rangle\\langle 0| +  \\big( p_{0}\\rho_{0,1} + p_{1}\\rho_{2,0} + p_{2}\\rho_{1,2} \\big)|0\\rangle\\langle 1| +  \\big( p_{0}\\rho_{0,2} + p_{1}\\rho_{2,1} + p_{2}\\rho_{1,0} \\big)|0\\rangle\\langle 2| \\\\\n",
    " & = \\big( p_{0}\\rho_{1,0} + p_{1}\\rho_{0,2} + p_{2}\\rho_{2,1} \\big)|1\\rangle\\langle 0| +  \\big( p_{0}\\rho_{1,1} + p_{1}\\rho_{0,0} + p_{2}\\rho_{2,2} \\big)|1\\rangle\\langle 1| +  \\big( p_{0}\\rho_{1,2} + p_{1}\\rho_{0,1} + p_{2}\\rho_{2,0} \\big)|1\\rangle\\langle 2| \\\\\n",
    "& = \\big( p_{0}\\rho_{2,0} + p_{1}\\rho_{1,2} + p_{2}\\rho_{0,1} \\big)|2\\rangle\\langle 0| +  \\big( p_{0}\\rho_{2,1} + p_{1}\\rho_{1,0} + p_{2}\\rho_{0,2} \\big)|2\\rangle\\langle 1| +  \\big( p_{0}\\rho_{2,2} + p_{1}\\rho_{1,1} + p_{2}\\rho_{0,0} \\big)|2\\rangle\\langle 2|.\n",
    "\\end{align}\n",
    "Como esperado, é fácil ver que $Tr(\\Lambda_{bf}(\\rho))=1$. Note também que tanto as populações quanto as coerências são afetadas por este canal.\n",
    "\n",
    "Para o cálculo da coerência quântica, notemos que\n",
    "\\begin{align}\n",
    "\\big|\\Lambda_{bf}(\\rho)_{0,1}\\big|^{2} = & \\big|p_{0}\\rho_{0,1} + p_{1}\\rho_{2,0} + p_{2}\\rho_{1,2}\\big|^{2} \\\\\n",
    "= & \\big(p_{0}\\rho_{0,1} + p_{1}\\rho_{2,0} + p_{2}\\rho_{1,2}\\big)\\big(p_{0}\\rho_{0,1}^{*} + p_{1}\\rho_{2,0}^{*} + p_{2}\\rho_{1,2}^{*} \\big) \\\\\n",
    "= & p_{0}^{2}|\\rho_{0,1}|^{2} + p_{1}^{2}|\\rho_{2,0}|^{2} + p_{2}^{2}\\rho_{1,2}^{2} + 2p_{0}p_{1}\\Re\\big(\\rho_{0,1}\\rho_{2,0}^{*}\\big) + 2p_{0}p_{2}\\Re\\big(\\rho_{0,1}\\rho_{1,2}^{*}\\big)  + 2p_{1}p_{2}\\Re\\big(\\rho_{2,0}\\rho_{1,2}^{*}\\big), \\\\\n",
    "\\big|\\Lambda_{bf}(\\rho)_{0,2}\\big|^{2} = & p_{0}^{2}|\\rho_{0,2}|^{2} + p_{1}^{2}|\\rho_{2,1}|^{2} + p_{2}^{2}\\rho_{1,0}^{2} + 2p_{0}p_{1}\\Re\\big(\\rho_{0,2}\\rho_{2,1}^{*}\\big) + 2p_{0}p_{2}\\Re\\big(\\rho_{0,2}\\rho_{1,0}^{*}\\big)  + 2p_{1}p_{2}\\Re\\big(\\rho_{2,1}\\rho_{1,0}^{*}\\big), \\\\\n",
    "\\big|\\Lambda_{bf}(\\rho)_{1,2}\\big|^{2} = & p_{0}^{2}|\\rho_{1,2}|^{2} + p_{1}^{2}|\\rho_{0,1}|^{2} + p_{2}^{2}\\rho_{2,0}^{2} + 2p_{0}p_{1}\\Re\\big(\\rho_{1,2}\\rho_{0,1}^{*}\\big) + 2p_{0}p_{2}\\Re\\big(\\rho_{1,2}\\rho_{2,0}^{*}\\big)  + 2p_{1}p_{2}\\Re\\big(\\rho_{0,1}\\rho_{2,0}^{*}\\big).\n",
    "\\end{align}"
   ]
  },
  {
   "cell_type": "markdown",
   "id": "33725e5c",
   "metadata": {},
   "source": [
    "Pela forma das expressões, vemos que será difícil obter uma equação sucinta para a coerência norma l1. Por isso, vamos considerar a coerência norma l2 (que não é um monótono de coerência):\n",
    "\\begin{align}\n",
    "C_{l_{2}}(\\rho) = & \\sum_{k\\ne l}|\\rho_{k,l}|^{2} \\\\\n",
    "= & 2\\big(\\big|\\Lambda_{bf}(\\rho)_{0,1}\\big|^{2} + \\big|\\Lambda_{bf}(\\rho)_{0,2}\\big|^{2} + \\big|\\Lambda_{bf}(\\rho)_{1,2}\\big|^{2}\\big) \\\\\n",
    "& = 2\\big(\\big(p_{0}^{2}+p_{1}^{2}+p_{2}^{2}\\big)\\big(|\\rho_{0,1}|^{2}+|\\rho_{0,2}|^{2}+|\\rho_{1,2}|^{2}\\big) + cdots\n",
    "\\end{align}"
   ]
  },
  {
   "cell_type": "markdown",
   "id": "12f4297f",
   "metadata": {},
   "source": [
    "Parece que não simplifica. Então não consideraremos este canal para o artigo..."
   ]
  },
  {
   "cell_type": "markdown",
   "id": "60ed886c",
   "metadata": {},
   "source": [
    "---\n",
    "# Exercícios\n",
    "\n",
    "1. Verifique que os operadores de Kraus\n",
    "$$K_{j,k} = \\sqrt{p_{j,k}}X(j)Z(k)$$\n",
    "satisfazem a relação de completeza\n",
    "$$\\sum_{j,k}K_{j,k}^{\\dagger}K_{j,k} = \\mathbb{I}_{d}.$$"
   ]
  },
  {
   "cell_type": "markdown",
   "id": "6d923f0c",
   "metadata": {},
   "source": [
    "_SOL._ Usando\n",
    "\\begin{align}\n",
    "Z(j)^{\\dagger}Z(j) & = \\sum_{k=0}^{d-1}e^{-i2\\pi jk/d}|k\\rangle\\langle k|\\sum_{l=0}^{d-1}e^{i2\\pi jl/d}|l\\rangle\\langle l| \\\\\n",
    "& = \\sum_{k,l=0}^{d-1}e^{-i2\\pi j(k-l)/d}|k\\rangle\\langle k|l\\rangle\\langle l| \\\\\n",
    "& = \\sum_{k,l=0}^{d-1}e^{-i2\\pi j(k-l)/d}\\delta_{k,l}|k\\rangle\\langle l| \\\\\n",
    "& = \\sum_{k=0}^{d-1}(1)|k\\rangle\\langle k| \\\\\n",
    "& = \\mathbb{I}.\n",
    "\\end{align}"
   ]
  },
  {
   "cell_type": "markdown",
   "id": "cee06d14",
   "metadata": {},
   "source": [
    "e\n",
    "\\begin{align}\n",
    "X(j)^{\\dagger}X(j) & = \\sum_{k=0}^{d-1}|k\\rangle\\langle j\\oplus k|\\sum_{l=0}^{d-1}|j\\oplus l\\rangle\\langle l| \\\\\n",
    "& = \\sum_{k,l=0}^{d-1}|k\\rangle\\langle j\\oplus k|j\\oplus l\\rangle\\langle l| \\\\\n",
    "& = \\sum_{k,l=0}^{d-1}\\delta_{k,l}|k\\rangle\\langle l| \\\\\n",
    "& = \\sum_{k=0}^{d-1}|k\\rangle\\langle k| \\\\\n",
    "& = \\mathbb{I}\n",
    "\\end{align}"
   ]
  },
  {
   "cell_type": "markdown",
   "id": "f56ca951",
   "metadata": {},
   "source": [
    "teremos que\n",
    "\\begin{align}\n",
    "\\sum_{j,k=0}^{d-1}K_{j,k}^{\\dagger}K_{j,k} & = \\sum_{j,k=0}^{d-1}p_{j,k}Z(k)^{\\dagger}X(j)^{\\dagger}X(j)Z(k) \\\\\n",
    "& = \\sum_{j,k=0}^{d-1}p_{j,k}Z(k)^{\\dagger}Z(k) \\\\\n",
    "& = \\sum_{j,k=0}^{d-1}p_{j,k}\\mathbb{I}_{d} \\\\\n",
    "& = \\mathbb{I}_{d}.\n",
    "\\end{align}"
   ]
  },
  {
   "cell_type": "markdown",
   "id": "9b5989ba",
   "metadata": {},
   "source": [
    "### Referências\n",
    "\n",
    "1. M. Wilde, Quantum information theory, Second edition. New York: Cambridge University Press, 2017.\n",
    "\n",
    "1. T. F. Jordan, A. Shaji, and E. C. G. Sudarshan, “Maps for Lorentz transformations of spin,” Phys. Rev. A, vol. 73, no. 3, p. 032104, Mar. 2006, doi: 10.1103/PhysRevA.73.032104.\n"
   ]
  },
  {
   "cell_type": "code",
   "execution_count": null,
   "id": "bc9bef56",
   "metadata": {},
   "outputs": [],
   "source": []
  }
 ],
 "metadata": {
  "kernelspec": {
   "display_name": "Python 3 (ipykernel)",
   "language": "python",
   "name": "python3"
  },
  "language_info": {
   "codemirror_mode": {
    "name": "ipython",
    "version": 3
   },
   "file_extension": ".py",
   "mimetype": "text/x-python",
   "name": "python",
   "nbconvert_exporter": "python",
   "pygments_lexer": "ipython3",
   "version": "3.9.13"
  }
 },
 "nbformat": 4,
 "nbformat_minor": 5
}
