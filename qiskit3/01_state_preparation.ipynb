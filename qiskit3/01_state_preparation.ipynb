{
 "cells": [
  {
   "cell_type": "markdown",
   "id": "55a88f70",
   "metadata": {},
   "source": [
    "# Preparação de estados\n",
    "\n",
    "## 1 qubit\n",
    "Um estado qualquer de um qubit pode ser escrito como\n",
    "\\begin{align}\n",
    "|\\psi\\rangle & = c_{0}|0\\rangle + c_{1}|1\\rangle \\\\\n",
    "& = |c_{0}|e^{i\\phi_{0}}|0\\rangle + |c_{1}|e^{i\\phi_{1}}|1\\rangle \\\\\n",
    "& = e^{i\\phi_{0}}\\big(|c_{0}||0\\rangle + |c_{1}|e^{i(\\phi_{1}-\\phi_{0})}|1\\rangle\\big) \\\\\n",
    "& = e^{i\\phi_{0}}\\big(\\cos(\\theta/2)|0\\rangle + \\sin(\\theta/2)e^{i\\phi}|1\\rangle\\big) \\hspace{2cm} (\\star) \\\\\n",
    "& = e^{i\\phi_{0}}e^{i\\phi/2}\\big(e^{-i\\phi/2}\\cos(\\theta/2)|0\\rangle + e^{-i\\phi/2}e^{i\\phi}\\sin(\\theta/2)|1\\rangle\\big) \\\\\n",
    "& = e^{i\\phi_{0}}e^{i\\phi/2}\\big(e^{-i\\phi/2}\\cos(\\theta/2)|0\\rangle + e^{i\\phi/2}\\sin(\\theta/2)|1\\rangle\\big) \\\\\n",
    "& = e^{i(\\phi_{1}+\\phi_{0})/2}\\big(e^{-i\\phi/2}\\cos(\\theta/2)|0\\rangle + e^{i\\phi/2}\\sin(\\theta/2)|1\\rangle\\big) \\\\\n",
    "& = e^{it/2}\\big(e^{-i\\phi/2}\\cos(\\theta/2)|0\\rangle + e^{i\\phi/2}\\sin(\\theta/2)|1\\rangle\\big),\n",
    "\\end{align}\n",
    "em que definimos\n",
    "\\begin{align}\n",
    "& \\phi:=\\phi_{1}-\\phi_{0}, \\\\\n",
    "& t := \\phi_{1}+\\phi_{0}\n",
    "\\end{align}\n",
    "e\n",
    "$$\\cos(\\theta/2):=|c_{0}| \\text{ e } \\sin(\\theta/2)=|c_{1}|,$$\n",
    "pois $0\\le|c_{j}|\\le1$ para $j=0,1$ e $|c_{0}|^{2}+|c_{1}|^{2}=1$. Note que essa definição implica na restrição\n",
    "$$\\theta\\in[0,\\pi].$$ "
   ]
  },
  {
   "cell_type": "markdown",
   "id": "bc9c2b39",
   "metadata": {},
   "source": [
    "A menos de uma fase global, o estado ($\\star$) é determinado por 2 ângulos em coordenadas esféricas na esfera de Bloch. Fazendo uma rotação $R_{z}(-\\phi)$ zeramos a coordenada $y$ do vetor de Bloch. Na sequência, aplicando uma rotação $R_{y}(-\\theta)$ zeramos a componente $x$ do vetor de Bloch, o levando assim para o eixo $z$, ou seja, obtendo assim o estado $|0\\rangle$.\n",
    "\n",
    "De forma geral, uma rotação por um ângulo $\\theta$ em torno da direção $\\hat{n}$ é implementada usando\n",
    "$$R_{\\hat{n}}(\\theta) = e^{-i\\theta \\hat{n}\\cdot\\vec{\\sigma}/2} = \\cos(\\theta/2)\\mathbb{I} - i\\sin(\\theta/2)\\hat{n}\\cdot\\vec{\\sigma}.$$\n",
    "Teremos assim os casos particulares\n",
    "\\begin{align}\n",
    "& R_{z}(\\theta) = \\cos(\\theta/2)\\mathbb{I} - i\\sin(\\theta/2)\\sigma_{z} = \\begin{bmatrix} e^{-i\\theta/2} & 0 \\\\ 0 & e^{i\\theta/2} \\end{bmatrix}, \\\\\n",
    "& R_{y}(\\theta) = \\cos(\\theta/2)\\mathbb{I} - i\\sin(\\theta/2)\\sigma_{y} = \\begin{bmatrix} \\cos(\\theta/2) & -\\sin(\\theta/2) \\\\ \\sin(\\theta/2) & \\cos(\\theta/2) \\end{bmatrix}.\n",
    "\\end{align}\n",
    "Ou seja\n",
    "\\begin{align}\n",
    "& R_{z}(\\theta)|0\\rangle = e^{-i\\theta/2}|0\\rangle, \\\\\n",
    "& R_{z}(\\theta)|1\\rangle = e^{i\\theta/2}|1\\rangle, \\\\\n",
    "& R_{y}(\\theta)|0\\rangle = \\cos(\\theta/2)|0\\rangle+\\sin(\\theta/2)|1\\rangle, \\\\\n",
    "& R_{y}(\\theta)|1\\rangle = -\\sin(\\theta/2)|0\\rangle+\\cos(\\theta/2)|1\\rangle.\n",
    "\\end{align}"
   ]
  },
  {
   "cell_type": "markdown",
   "id": "ba01d617",
   "metadata": {},
   "source": [
    "Com isso, vem que\n",
    "\\begin{align}\n",
    "R_{z}(-\\phi)|\\psi\\rangle & = e^{it/2}\\big(e^{-i\\phi/2}\\cos(\\theta/2)R_{z}(-\\phi)|0\\rangle + e^{i\\phi/2}\\sin(\\theta/2)R_{z}(-\\phi)|1\\rangle\\big) \\\\\n",
    "& = e^{it/2}\\big(e^{-i\\phi/2}\\cos(\\theta/2)e^{i\\phi/2}|0\\rangle + e^{i\\phi/2}\\sin(\\theta/2)e^{-i\\phi/2}|1\\rangle\\big) \\\\\n",
    "& = e^{it/2}\\big(\\cos(\\theta/2)|0\\rangle + \\sin(\\theta/2)|1\\rangle\\big), \\\\\n",
    "R_{y}(-\\theta)R_{z}(-\\phi)|\\psi\\rangle & = e^{it/2}\\big(\\cos(\\theta/2)R_{y}(-\\theta)|0\\rangle + \\sin(\\theta/2)R_{y}(-\\theta)|1\\rangle\\big) \\\\\n",
    "& = e^{it/2}\\big(\\cos(\\theta/2)\\big(\\cos(\\theta/2)|0\\rangle-\\sin(\\theta/2)|1\\rangle\\big) + \\sin(\\theta/2)\\big(\\sin(\\theta/2)|0\\rangle+\\cos(\\theta/2)|1\\rangle\\big)\\big) \\\\\n",
    "& = e^{it/2}|0\\rangle.\n",
    "\\end{align}\n",
    "Por conseguinte\n",
    "\\begin{align}\n",
    "& |0\\rangle = e^{-it/2}R_{y}(-\\theta)R_{z}(-\\phi)|\\psi\\rangle, \\\\\n",
    "& |\\psi\\rangle = e^{it/2}R_{z}(\\phi)R_{y}(\\theta)|0\\rangle =  R_{z}(\\phi)R_{y}(\\theta)XP(t/2)X|0\\rangle,\n",
    "\\end{align}\n",
    "com \n",
    "\\begin{align}\n",
    "& \\theta=2\\arccos(|c_{0}|),\\\\\n",
    "& \\phi=\\phi_{1}-\\phi_{0}, \\\\\n",
    "& t=\\phi_{1}+\\phi_{0}, \\\\\n",
    "& \\phi_{j} = \\arctan(\\Im(c_{j})/\\Re(c_{j})),\\ j=0,1.\n",
    "\\end{align}\n",
    "Se $\\Re(c_{j})=0$ então $\\phi_j=\\pi/2$."
   ]
  },
  {
   "cell_type": "markdown",
   "id": "e14d63f5",
   "metadata": {},
   "source": [
    "Acima usamos a porta de fase\n",
    "$$P(\\phi)=|0\\rangle\\langle 0|+e^{i\\phi}|1\\rangle\\langle 1|.$$\n",
    "\n",
    "Vale observar que se os coeficientes são reais, i.e.,\n",
    "$$|\\psi\\rangle = r_{0}|0\\rangle+r_{1}|1\\rangle,$$\n",
    "então podemos prepará-lo usando\n",
    "$$|\\psi\\rangle = R_{y}(\\theta)|0\\rangle$$\n",
    "com\n",
    "$$\\theta = 2\\arccos(r_0).$$\n",
    "\n",
    "__Exercício:__ Fazer o algoritmo e implementar a preparação de um estado puro qualquer de 1 qubit, usando o método descrito acima."
   ]
  },
  {
   "cell_type": "markdown",
   "id": "0719e336",
   "metadata": {},
   "source": [
    "## 2 qubits\n",
    "Um estado puro geral de 2 qubits pode ser escrito como segue\n",
    "\\begin{align}\n",
    "|\\psi\\rangle & = c_{00}|00\\rangle + c_{01}|01\\rangle + c_{10}|10\\rangle + c_{11}|11\\rangle \\\\\n",
    "& = |0\\rangle\\big(c_{00}|0\\rangle + c_{01}|1\\rangle\\big) + |1\\rangle\\big(c_{10}|0\\rangle + c_{11}|1\\rangle\\big) \\\\\n",
    "& = r_{0}|0\\rangle r_{0}^{-1}\\big(c_{00}|0\\rangle + c_{01}|1\\rangle\\big) + r_{1}|1\\rangle r_{1}^{-1}\\big(c_{10}|0\\rangle + c_{11}|1\\rangle\\big) \\\\\n",
    "& =: r_{0}|0\\rangle|\\psi_{0}\\rangle + r_{1}|1\\rangle|\\psi_1\\rangle,\n",
    "\\end{align}\n",
    "com\n",
    "\\begin{align}\n",
    "& r_{0}^{2} := |c_{00}|^{2} + |c_{01}|^{2}, \\\\\n",
    "& r_{1}^{2} := |c_{10}|^{2} + |c_{11}|^{2}.\n",
    "\\end{align}\n",
    "Assim como fizemos para 1 qubit, aqui podemos escrever\n",
    "\\begin{align}\n",
    "|\\psi_0\\rangle & = r_{0}^{-1}\\big(c_{00}|0\\rangle + c_{01}|1\\rangle\\big) \\\\\n",
    "& = r_{0}^{-1}\\big(|c_{00}|e^{i\\phi_{00}}|0\\rangle + |c_{01}|e^{i\\phi_{01}}|1\\rangle\\big) \\\\\n",
    "& = r_{0}^{-1}e^{it_{0}/2}\\big(|c_{00}|e^{-i\\phi_{0}/2}|0\\rangle + |c_{01}|e^{i\\phi_{0}/2}|1\\rangle\\big),\n",
    "\\end{align}\n",
    "com\n",
    "\\begin{align}\n",
    "& t_0 := \\phi_{01}+\\phi_{00}, \\\\ \n",
    "& \\phi_{0}  := \\phi_{01}-\\phi_{00}.\n",
    "\\end{align}\n",
    "Teremos assim que\n",
    "\\begin{align}\n",
    "R_{z}(-\\phi_0)|\\psi_0\\rangle & = r_{0}^{-1}e^{it_{0}/2}\\big(|c_{00}|e^{-i\\phi_{0}/2}R_{z}(-\\phi_0)|0\\rangle + |c_{01}|e^{i\\phi_{0}/2}R_{z}(-\\phi_0)|1\\rangle\\big) \\\\\n",
    "& = r_{0}^{-1}e^{it_{0}/2}\\big(|c_{00}|e^{-i\\phi_{0}/2}e^{i\\phi_{0}/2}|0\\rangle + |c_{01}|e^{i\\phi_{0}/2}e^{-i\\phi_{0}/2}|1\\rangle\\big) \\\\\n",
    "& = r_{0}^{-1}e^{it_{0}/2}\\big(|c_{00}||0\\rangle + |c_{01}||1\\rangle\\big).\n",
    "\\end{align}"
   ]
  },
  {
   "cell_type": "markdown",
   "id": "de4d1881",
   "metadata": {},
   "source": [
    "Não obstante, devemos notar que neste caso\n",
    "$$|c_{00}|^{2} + |c_{01}|^{2} =: r_{0}^{2}\\le 1.$$\n",
    "Vamos escrever então\n",
    "$$|c_{00}| = r_{0}\\cos(\\theta_0/2) \\text{ e } |c_{01}| = r_{0}\\sin(\\theta_0/2).$$\n",
    "Com isso, vem que\n",
    "\\begin{align}\n",
    "R_{z}(-\\phi_0)|\\psi_0\\rangle & = r_{0}^{-1}r_{0}e^{it_{0}/2}\\big(\\cos(\\theta_0/2)|0\\rangle + \\sin(\\theta_0/2)|1\\rangle\\big) \\\\\n",
    "& = e^{it_{0}/2}\\big(\\cos(\\theta_0/2)|0\\rangle + \\sin(\\theta_0/2)|1\\rangle\\big).\n",
    "\\end{align}\n",
    "Assim\n",
    "\\begin{align}\n",
    "& R_{y}(-\\theta_0)R_{z}(-\\phi_0)|\\psi_0\\rangle \\\\\n",
    "& = e^{it_{0}/2}\\big(\\cos(\\theta_0/2)R_{y}(-\\theta_0)|0\\rangle + \\sin(\\theta_0/2)R_{y}(-\\theta_0)|1\\rangle\\big) \\\\\n",
    "& = e^{it_{0}/2}\\big(\\cos(\\theta_0/2)\\big(\\cos(\\theta_0/2)|0\\rangle-\\sin(\\theta_0/2)|1\\rangle\\big) + \\sin(\\theta_0/2)\\big(\\sin(\\theta_0/2)|0\\rangle+\\cos(\\theta_0/2)|1\\rangle\\big)\\big) \\\\\n",
    "& = e^{it_{0}/2}|0\\rangle.\n",
    "\\end{align}\n",
    "Portanto, se $r_{0}\\ne 0$, teremos\n",
    "\\begin{align}\n",
    "|0\\rangle & = e^{-it_{0}/2}R_{y}(-\\theta_0)R_{z}(-\\phi_0)|\\psi_0\\rangle, \\\\\n",
    "|\\psi_0\\rangle & = e^{it_{0}/2}R_{z}(\\phi_0)R_{y}(\\theta_0)|0\\rangle \\\\\n",
    "& =: U_{0}|0\\rangle,\n",
    "\\end{align}\n",
    "com\n",
    "\\begin{align}\n",
    "& t_{0}=\\phi_{01}+\\phi_{00}, \\\\\n",
    "& \\phi_{0}=\\phi_{01}-\\phi_{00}, \\\\\n",
    "& \\theta_0 = 2\\arctan(|c_{01}|/|c_{00}|).\n",
    "\\end{align}"
   ]
  },
  {
   "cell_type": "markdown",
   "id": "6d2bbea8",
   "metadata": {},
   "source": [
    "Analogamente, pode-se mostrar que\n",
    "\\begin{align}\n",
    "|0\\rangle & = e^{-it_{1}/2}R_{y}(-\\theta_1)R_{z}(-\\phi_1)|\\psi_1\\rangle, \\\\\n",
    "|\\psi_1\\rangle & = r_{1}^{-1}\\big(c_{10}|0\\rangle + c_{11}|1\\rangle\\big) \\\\\n",
    "& = e^{it_{1}/2}R_{z}(\\phi_1)R_{y}(\\theta_1)|0\\rangle \\\\\n",
    "& =: U_{1}|0\\rangle,\n",
    "\\end{align}\n",
    "com\n",
    "\\begin{align}\n",
    "& t_{1}=\\phi_{11}+\\phi_{10}, \\\\\n",
    "& \\phi_{1}=\\phi_{11}-\\phi_{10}, \\\\\n",
    "& \\theta_1 = 2\\arctan(|c_{11}|/|c_{10}|).\n",
    "\\end{align}\n",
    "\n",
    "Notemos que\n",
    "$$r_{0}^{2}+r_{1}^{2} = |c_{00}|^{2} + |c_{01}|^{2} + |c_{10}|^{2} + |c_{11}|^{2} =1.$$\n",
    "Como \n",
    "$$0\\le r_0,r_1\\le 1$$\n",
    "podemos fazer\n",
    "$$r_0 =: \\cos(\\xi/2) \\text{ e } r_1 =: \\sin(\\xi/2).$$\n",
    "Como\n",
    "\\begin{align}\n",
    "|\\psi\\rangle & =  r_{0}|0\\rangle|\\psi_{0}\\rangle + r_{1}|1\\rangle|\\psi_1\\rangle \\\\\n",
    "& = r_{0}|0\\rangle\\otimes U_{0}|0\\rangle + r_{1}|1\\rangle\\otimes U_{1}|0\\rangle,\n",
    "\\end{align}"
   ]
  },
  {
   "cell_type": "markdown",
   "id": "1948d8a0",
   "metadata": {},
   "source": [
    "podemos preparar qualquer estado de 2 qubits usando operações unitárias controladas como segue\n",
    "$$|\\psi\\rangle = C_{U_0}^{0_0\\rightarrow 1}C_{U_1}^{0_1\\rightarrow 1}\\big(R_y(\\xi)\\otimes\\mathbb{I}\\big)\\big(|0\\rangle\\otimes|0\\rangle\\big)$$\n",
    "com\n",
    "\\begin{align}\n",
    "& U_0 = e^{it_{0}/2}R_{z}(\\phi_0)R_{y}(\\theta_0), \\\\\n",
    "& U_1 = e^{it_{1}/2}R_{z}(\\phi_1)R_{y}(\\theta_1).\n",
    "\\end{align}\n",
    "\n",
    "Vale observar que para __coeficientes reais__, podemos usar\n",
    "\\begin{align}\n",
    "& U_0 = R_{y}(\\theta_0), \\\\\n",
    "& U_1 = R_{y}(\\theta_1).\n",
    "\\end{align}\n",
    "Vale observar também que para preparar estados gerais de 2 qubits, utilizaremos o algoritmo de preparação de estados de 1 qubit com coeficientes reais, para preparar\n",
    "$$r_{0}|0\\rangle + r_{1}|1\\rangle = \\cos(\\xi/2)|0\\rangle +\\sin(\\xi/2)|1\\rangle = R_{y}(\\xi)|0\\rangle.$$\n",
    "\n",
    "__Exercício:__ Fazer o algoritmo e implementar a preparação de um estado puro qualquer de 2 qubits, usando o método descrito acima."
   ]
  },
  {
   "cell_type": "markdown",
   "id": "3f47475a",
   "metadata": {},
   "source": [
    "## 3 qubits\n",
    "\n",
    "Começamos olhando para\n",
    "\\begin{align}\n",
    "|\\psi\\rangle & = c_{000}|000\\rangle + c_{001}|001\\rangle + c_{010}|010\\rangle + c_{011}|011\\rangle + c_{100}|100\\rangle + c_{101}|101\\rangle + c_{110}|110\\rangle + c_{111}|111\\rangle \\\\\n",
    "& = |00\\rangle\\big(c_{000}|0\\rangle + c_{001}|1\\rangle\\big) + |01\\rangle\\big(c_{010}|0\\rangle + c_{011}|1\\rangle\\big) + |10\\rangle\\big(c_{100}|0\\rangle + c_{101}|1\\rangle\\big) + |11\\rangle\\big(c_{110}|0\\rangle + c_{111}|1\\rangle\\big) \\\\\n",
    "& = r_{00}|00\\rangle r_{00}^{-1}\\big(c_{000}|0\\rangle + c_{001}|1\\rangle\\big) + r_{01}|01\\rangle r_{00}^{-1}\\big(c_{010}|0\\rangle + c_{011}|1\\rangle\\big) + r_{10}|10\\rangle r_{10}^{-1}\\big(c_{100}|0\\rangle + c_{101}|1\\rangle\\big) + r_{11}|11\\rangle r_{11}^{-1}\\big(c_{110}|0\\rangle + c_{111}|1\\rangle\\big) \\\\\n",
    "& = r_{00}|00\\rangle|\\psi_{00}\\rangle + r_{01}|01\\rangle|\\psi_{01}\\rangle + r_{10}|10\\rangle|\\psi_{10}\\rangle + r_{11}|11\\rangle|\\psi_{11}\\rangle \\\\\n",
    "& = r_{00}|00\\rangle\\otimes U_{00}|0\\rangle + r_{01}|01\\rangle\\otimes U_{01}|0\\rangle + r_{10}|10\\rangle\\otimes U_{10}|0\\rangle + r_{11}|11\\rangle\\otimes U_{11}|0\\rangle \\\\\n",
    "\\end{align}\n",
    "em que definimos\n",
    "\\begin{align}\n",
    "& |\\psi_{00}\\rangle := r_{00}^{-1}\\big(c_{000}|0\\rangle + c_{001}|1\\rangle\\big), \\\\\n",
    "& |\\psi_{01}\\rangle := r_{01}^{-1}\\big(c_{010}|0\\rangle + c_{011}|1\\rangle\\big), \\\\\n",
    "& |\\psi_{10}\\rangle := r_{10}^{-1}\\big(c_{100}|0\\rangle + c_{101}|1\\rangle\\big), \\\\\n",
    "& |\\psi_{11}\\rangle := r_{11}^{-1}\\big(c_{110}|0\\rangle + c_{111}|1\\rangle\\big),\n",
    "\\end{align}\n",
    "com\n",
    "\\begin{align}\n",
    "& r_{00}^{2} := |c_{000}|^{2} + |c_{001}|^{2}, \\\\\n",
    "& r_{01}^{2} := |c_{010}|^{2} + |c_{011}|^{2}, \\\\\n",
    "& r_{10}^{2} := |c_{100}|^{2} + |c_{101}|^{2}, \\\\\n",
    "& r_{11}^{2} := |c_{110}|^{2} + |c_{111}|^{2}.\n",
    "\\end{align}"
   ]
  },
  {
   "cell_type": "markdown",
   "id": "e4181be8",
   "metadata": {},
   "source": [
    "Começamos então usando o algoritmo para preparação de estados de 2 qubits como coeficientes reais para preparar\n",
    "$$r_{00}|00\\rangle + r_{01}|01\\rangle + r_{10}|10\\rangle + r_{11}|11\\rangle =: |\\Phi\\rangle.$$\n",
    "Feito isso, podemos preparar o estado geral de 3 qubits usando a seguinte sequência de operações unitárias controladas\n",
    "$$|\\psi\\rangle = C_{U_{00}}^{0_{0}1_{0}\\rightarrow 2}C_{U_{01}}^{0_{0}1_{1}\\rightarrow 2}C_{U_{10}}^{0_{1}1_{0}\\rightarrow 2}C_{U_{11}}^{0_{1}1_{1}\\rightarrow 2}\\big(|\\Phi\\rangle_{01}\\otimes|0\\rangle_2\\big).$$\n",
    "Analogamente ao que obtivemos para os casos de 1 e 2 qubits, aqui no caso de 3 qubits teremos\n",
    "\\begin{align}\n",
    "& U_{00} = e^{it_{00}/2}R_{z}(\\phi_{00})R_{y}(\\theta_{00}), \\\\\n",
    "& U_{01} = e^{it_{01}/2}R_{z}(\\phi_{01})R_{y}(\\theta_{01}), \\\\\n",
    "& U_{10} = e^{it_{10}/2}R_{z}(\\phi_{10})R_{y}(\\theta_{10}), \\\\\n",
    "& U_{11} = e^{it_{11}/2}R_{z}(\\phi_{11})R_{y}(\\theta_{11}),\n",
    "\\end{align}\n",
    "com\n",
    "\\begin{align}\n",
    "& t_{jk} = \\phi_{jk0}+\\phi_{jk1},\\\\\n",
    "& \\phi_{jk} = \\phi_{jk1}-\\phi_{jk0}, \\\\\n",
    "& \\theta_{jk} = 2\\arctan(|c_{jk1}|/|c_{jk0}|)\n",
    "\\end{align}\n",
    "para $j,k=0,1$, e escrevemos\n",
    "$$c_{jkl}=|c_{jkl}|e^{i\\phi_{jkl}}.$$\n",
    "\n",
    "__Exercício:__ Fazer o algoritmo e implementar a preparação de um estado puro qualquer de 3 qubits, usando o método descrito acima."
   ]
  },
  {
   "cell_type": "markdown",
   "id": "fc0e5157-586a-4357-9fdc-cc31ebc42c22",
   "metadata": {},
   "source": [
    "## 4 qubits\n",
    "\n"
   ]
  },
  {
   "cell_type": "code",
   "execution_count": 7,
   "id": "13e590c9-d2e8-4fd4-aa9b-611a00246439",
   "metadata": {},
   "outputs": [
    {
     "name": "stdout",
     "output_type": "stream",
     "text": [
      "['0000', '0001', '0010', '0011', '0100', '0101', '0110', '0111', '1000', '1001', '1010', '1011', '1100', '1101', '1110', '1111']\n"
     ]
    }
   ],
   "source": [
    "list_bin = []\n",
    "for j in range(0,2**4):\n",
    "    b = \"{:04b}\".format(j)\n",
    "    list_bin.append(b)\n",
    "print(list_bin)"
   ]
  },
  {
   "cell_type": "code",
   "execution_count": 8,
   "id": "b9bd8c06-09ad-47bd-8096-040e606a9d32",
   "metadata": {},
   "outputs": [
    {
     "name": "stdout",
     "output_type": "stream",
     "text": [
      "[0, 1, 2, 3, 4, 5, 6, 7, 8, 9, 10, 11, 12, 13, 14, 15]\n"
     ]
    }
   ],
   "source": [
    "list_int = []\n",
    "for j in range(0,2**4):\n",
    "    list_int.append(int(list_bin[j],2))\n",
    "print(list_int)"
   ]
  },
  {
   "cell_type": "markdown",
   "id": "b4b5523c-b149-4a18-97bd-1b08a2438627",
   "metadata": {},
   "source": [
    "Teremos assim\n",
    "\\begin{align}\n",
    "|\\psi\\rangle & = c_{0000}|0000\\rangle + c_{0001}|0001\\rangle + c_{0010}|0010\\rangle + c_{0011}|0011\\rangle + c_{0100}|0100\\rangle + c_{0101}|0101\\rangle + c_{0110}|0110\\rangle + c_{0111}|0111\\rangle \\\\\n",
    "& + c_{1000}|1000\\rangle + c_{1001}|1001\\rangle + c_{1010}|1010\\rangle + c_{1011}|1011\\rangle + c_{1100}|1100\\rangle + c_{1101}|1101\\rangle + c_{1110}|1110\\rangle + c_{1111}|1111\\rangle \\\\\n",
    "& = |000\\rangle\\big(c_{0000}|0\\rangle + c_{0001}|1\\rangle\\big) + |001\\rangle\\big(c_{0010}|0\\rangle + c_{0011}|1\\rangle\\big) + |010\\rangle\\big(c_{0100}|0\\rangle + c_{0101}|1\\rangle\\big) + |011\\rangle\\big(c_{0110}|0\\rangle + c_{0111}|1\\rangle\\big) \\\\\n",
    "& + |100\\rangle\\big(c_{1000}|0\\rangle + c_{1001}|1\\rangle\\big) + |101\\rangle\\big(c_{1010}|0\\rangle + c_{1011}|1\\rangle\\big) + |110\\rangle\\big(c_{1100}|0\\rangle + c_{1101}|1\\rangle\\big) + |111\\rangle\\big(c_{1110}|0\\rangle + c_{1111}|1\\rangle\\big) \\\\\n",
    "& = r_{000}|000\\rangle r_{000}^{-1}\\big(c_{0000}|0\\rangle + c_{0001}|1\\rangle\\big) + r_{001}|001\\rangle r_{001}^{-1}\\big(c_{0010}|0\\rangle + c_{0011}|1\\rangle\\big) + r_{010}|010\\rangle r_{010}^{-1}\\big(c_{0100}|0\\rangle + c_{0101}|1\\rangle\\big) \\\\\n",
    "& + r_{011}|011\\rangle r_{011}^{-1}\\big(c_{0110}|0\\rangle + c_{0111}|1\\rangle\\big) + r_{100}|100\\rangle r_{100}^{-1}\\big(c_{1000}|0\\rangle + c_{1001}|1\\rangle\\big) + r_{101}|101\\rangle r_{101}^{-1}\\big(c_{1010}|0\\rangle \\\\\n",
    "& + c_{1011}|1\\rangle\\big) + r_{110}|110\\rangle r_{110}^{-1}\\big(c_{1100}|0\\rangle + c_{1101}|1\\rangle\\big) + r_{111}|111\\rangle r_{111}^{-1}\\big(c_{1110}|0\\rangle + c_{1111}|1\\rangle\\big) \\\\\n",
    "& = r_{000}|000\\rangle|\\psi_{000}\\rangle + r_{001}|001\\rangle|\\psi_{001}\\rangle  + r_{010}|010\\rangle|\\psi_{010}\\rangle + r_{011}|011\\rangle|\\psi_{011}\\rangle \\\\\n",
    "& + r_{100}|100\\rangle|\\psi_{100}\\rangle + r_{101}|101\\rangle|\\psi_{101}\\rangle + r_{110}|110\\|\\psi_{110}\\rangle + r_{111}|111\\rangle|\\psi_{111}\\rangle \\\\\n",
    "& = r_{000}|000\\rangle U_{000}|0\\rangle + r_{001}|001\\rangle U_{001}|0\\rangle  + r_{010}|010\\rangle U_{010}|0\\rangle + r_{011}|011\\rangle U_{011}|0\\rangle \\\\\n",
    "& + r_{100}|100\\rangle U_{100}|0\\rangle + r_{101}|101\\rangle U_{101}|0\\rangle + r_{110}|110\\rangle U_{110}|0\\rangle + r_{111}|111\\rangle U_{111}|0\\rangle \\\\\n",
    "& = C_{U_{000}}^{0_{0}1_{0}2_0\\rightarrow 3}C_{U_{001}}^{0_{0}1_{0}2_1\\rightarrow 3}C_{U_{010}}^{0_{0}1_{1}2_0\\rightarrow 3}C_{U_{011}}^{0_{0}1_{1}2_1\\rightarrow 3}C_{U_{100}}^{0_{1}1_{0}2_0\\rightarrow 3}C_{U_{101}}^{0_{1}1_{0}2_1\\rightarrow 3}C_{U_{110}}^{0_{1}1_{1}2_0\\rightarrow 3}C_{U_{111}}^{0_{1}1_{1}2_1\\rightarrow 3}\\big(|\\Phi\\rangle_{012}\\otimes|0\\rangle_3\\big)\n",
    "\\end{align}"
   ]
  },
  {
   "cell_type": "markdown",
   "id": "8d369927-15ee-40a9-ac62-beb450ffdb0b",
   "metadata": {},
   "source": [
    "com\n",
    "\\begin{align}\n",
    "& |\\psi_{000}\\rangle = r_{000}^{-1}\\big(c_{0000}|0\\rangle + c_{0001}|1\\rangle\\big), \\\\\n",
    "& |\\psi_{001}\\rangle = r_{001}^{-1}\\big(c_{0010}|0\\rangle + c_{0011}|1\\rangle\\big), \\\\\n",
    "& |\\psi_{010}\\rangle = r_{010}^{-1}\\big(c_{0100}|0\\rangle + c_{0101}|1\\rangle\\big), \\\\\n",
    "& |\\psi_{011}\\rangle = r_{011}^{-1}\\big(c_{0110}|0\\rangle + c_{0111}|1\\rangle\\big), \\\\\n",
    "& |\\psi_{100}\\rangle = r_{100}^{-1}\\big(c_{1000}|0\\rangle + c_{1001}|1\\rangle\\big), \\\\\n",
    "& |\\psi_{101}\\rangle = r_{101}^{-1}\\big(c_{1010}|0\\rangle + c_{1011}|1\\rangle\\big) , \\\\\n",
    "& |\\psi_{110}\\rangle = r_{110}^{-1}\\big(c_{1100}|0\\rangle + c_{1101}|1\\rangle\\big), \\\\\n",
    "& |\\psi_{111}\\rangle = r_{111}^{-1}\\big(c_{1110}|0\\rangle + c_{1111}|1\\rangle\\big).\n",
    "\\end{align}\n",
    "e \n",
    "\\begin{align}\n",
    "|\\Phi\\rangle & = r_{000}|000\\rangle + r_{001}|001\\rangle  + r_{010}|010\\rangle + r_{011}|011\\rangle \\\\\n",
    "& + r_{100}|100\\rangle + r_{101}|101\\rangle + r_{110}|110\\rangle + r_{111}|111\\rangle.\n",
    "\\end{align}"
   ]
  },
  {
   "cell_type": "markdown",
   "id": "cbfd3496-7bfd-4087-9bbf-7c0c80d59ce5",
   "metadata": {},
   "source": [
    "Ademais, temos que \n",
    "$$U_{jkl} = e^{it_{jkl}/2}R_{z}(\\phi_{jkl})R_{y}(\\theta_{jkl}) $$\n",
    "com\n",
    "\\begin{align}\n",
    "& t_{jkl} = \\phi_{jkl0}+\\phi_{jkl1},\\\\\n",
    "& \\phi_{jkl} = \\phi_{jkl1}-\\phi_{jkl0}, \\\\\n",
    "& \\theta_{jkl} = 2\\arctan(|c_{jkl1}|/|c_{jkl0}|)\n",
    "\\end{align}\n",
    "para $j,k,l=0,1$, e escrevemos\n",
    "$$c_{jklm}=|c_{jklm}|e^{i\\phi_{jklm}}.$$"
   ]
  },
  {
   "cell_type": "markdown",
   "id": "d61bf110",
   "metadata": {},
   "source": [
    "## $n$ qubits\n",
    "Podemos estender os resultados particulares acima para obter um algoritmo geral para preparação de estados puros quaisquer de $n$ qubits:\n",
    "1. Prepara um estado de $n-1$ qubits\n",
    "$$|\\psi\\rangle_{n-1} = \\sum_{j_0,j_1,\\cdots,j_{n-2}=0}^{1}r_{j_0,j_1,\\cdots,j_{n-2}}|j_0,j_1,\\cdots,j_{n-2}\\rangle$$\n",
    "com coeficientes reais \n",
    "$$r_{j_0,j_1,\\cdots,j_{n-2}} = \\sqrt{|c_{j_0,j_1,\\cdots,j_{n-2},0}|^{2} + |c_{j_0,j_1,\\cdots,j_{n-2},1}|^{2}}.$$\n",
    "\n",
    "2. Aplica $2^{n-1}$ portas multicontroladas com os primeiros $n-1$ qubits como controle e com o último qubit como target:\n",
    "$$C_{U_{j_0,j_1,\\cdots,j_{n-2}}}^{0_{j_0},1_{j_1},\\cdots,(n-2)_{j_{n-2}}\\rightarrow n-1}$$\n",
    "para \n",
    "$$j_0,j_1,\\cdots,j_{n-2}=0,1$$\n",
    "e\n",
    "$$U_{j_0,j_1,\\cdots,j_{n-2}} = e^{it_{j_0,j_1,\\cdots,j_{n-2}}/2}R_{z}(\\phi_{j_0,j_1,\\cdots,j_{n-2}})R_{y}(\\theta_{j_0,j_1,\\cdots,j_{n-2}})$$\n",
    "em que\n",
    "\\begin{align}\n",
    "& t_{j_0,j_1,\\cdots,j_{n-2}} = \\phi_{j_0,j_1,\\cdots,j_{n-2},1} + \\phi_{j_0,j_1,\\cdots,j_{n-2},0}, \\\\\n",
    "& \\phi_{j_0,j_1,\\cdots,j_{n-2}} = \\phi_{j_0,j_1,\\cdots,j_{n-2},1} - \\phi_{j_0,j_1,\\cdots,j_{n-2},0}, \\\\\n",
    "& \\theta_{j_0,j_1,\\cdots,j_{n-2}} = 2\\arctan\\big(|c_{j_0,j_1,\\cdots,j_{n-2},1}|/|c_{j_0,j_1,\\cdots,j_{n-2},0}|\\big), \\\\\n",
    "\\end{align}"
   ]
  },
  {
   "cell_type": "markdown",
   "id": "e285e956",
   "metadata": {},
   "source": [
    "Vale notar que para a preparação de estados com coeficientes reais, usamos o mesmo algoritmo mas com\n",
    "$$U_{j_0,j_1,\\cdots,j_{n-2}} = R_{y}(\\theta_{j_0,j_1,\\cdots,j_{n-2}})$$\n",
    "com\n",
    "$$\\theta_{j_0,j_1,\\cdots,j_{n-2}} = 2\\arctan\\big(c_{j_0,j_1,\\cdots,j_{n-2},1}/c_{j_0,j_1,\\cdots,j_{n-2},0}\\big).$$\n",
    "\n",
    "Maneiras otimizadas que implementar as operações unitárias envolvidas neste algoritmo estão discutidas na ref. 2."
   ]
  },
  {
   "cell_type": "markdown",
   "id": "c8d42cfb",
   "metadata": {},
   "source": [
    "## La pregunta\n",
    "Tem uma forma de fazer a preparação de estados sem recorrer a estas operações multicontroladas?"
   ]
  },
  {
   "cell_type": "markdown",
   "id": "e17e5d38",
   "metadata": {},
   "source": [
    "### Referências\n",
    "\n",
    "1. https://qiskit.org/documentation/tutorials/circuits/3_summary_of_quantum_operations.html\n",
    "\n",
    "1. V. V. Shende, S. S. Bullock, and I. L. Markov, “Synthesis of Quantum Logic Circuits,” IEEE Trans. Comput.-Aided Des. Integr. Circuits Syst., vol. 25, no. 6, pp. 1000–1010, Jun. 2006, doi: 10.1109/TCAD.2005.855930."
   ]
  }
 ],
 "metadata": {
  "kernelspec": {
   "display_name": "Python 3 (ipykernel)",
   "language": "python",
   "name": "python3"
  },
  "language_info": {
   "codemirror_mode": {
    "name": "ipython",
    "version": 3
   },
   "file_extension": ".py",
   "mimetype": "text/x-python",
   "name": "python",
   "nbconvert_exporter": "python",
   "pygments_lexer": "ipython3",
   "version": "3.9.13"
  }
 },
 "nbformat": 4,
 "nbformat_minor": 5
}
