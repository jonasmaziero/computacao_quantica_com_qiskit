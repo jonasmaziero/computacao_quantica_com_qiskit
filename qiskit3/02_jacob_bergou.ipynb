{
 "cells": [
  {
   "cell_type": "markdown",
   "id": "a33b426c",
   "metadata": {},
   "source": [
    "## Relação de complementariedade completa de Jacob e Bergou\n",
    "\n",
    "Para um estado de um qubit $\\rho$, eles definem a preditibilidade como\n",
    "\\begin{align}\n",
    "P & = |\\langle\\sigma_z\\rangle_{\\rho}| \\\\\n",
    "& = |Tr(\\rho\\sigma_z)| \\\\\n",
    "& = |Tr(\\rho(|0\\rangle\\langle 0|-|1\\rangle\\langle 1|))| \\\\\n",
    "& = |\\langle 0|\\rho|0\\rangle - \\langle 1|\\rho|1\\rangle| \\\\\n",
    "& = |\\rho_{00}-\\rho_{11}| \\\\\n",
    "& = \\sqrt{2P_{hs}(\\rho)}.\n",
    "\\end{align}\n",
    "\n",
    "Já a visibilidade é definida como\n",
    "\\begin{align}\n",
    "V & = 2|\\langle\\sigma_+\\rangle_{\\rho}| \\\\\n",
    "& = 2|Tr(\\rho\\sigma_+)| \\\\\n",
    "& = 2|Tr(\\rho|0\\rangle\\langle 1|)| \\\\\n",
    "& = 2|\\langle 1|\\rho|0\\rangle| \\\\\n",
    "& = 2|\\rho_{10}| = |\\rho_{10}|+|\\rho_{01}| \\\\\n",
    "& = C_{l_{1}}(\\rho).\n",
    "\\end{align}"
   ]
  },
  {
   "cell_type": "markdown",
   "id": "c16159de",
   "metadata": {},
   "source": [
    "Para um estado puro geral de dois qubits,\n",
    "$$|\\psi\\rangle_{AB} = c_{00}|00\\rangle+c_{01}|01\\rangle+c_{10}|10\\rangle+c_{11}|11\\rangle,$$\n",
    "o emaranhamento concurrence é dado por\n",
    "$$E_{conc}(|\\psi\\rangle_{AB}) = 2|c_{00}c_{11}-c_{01}c_{10}|.$$\n",
    "Os estados reduzidos são\n",
    "$$\\rho_A = \\begin{bmatrix} |c_{00}|^{2}+|c_{01}|^{2} & c_{00}c_{10}^{*}+c_{01}c_{11}^{*} \\\\ c_{00}^{*}c_{10}+c_{01}^{*}c_{11} & |c_{10}|^{2}+|c_{11}|^{2} \\end{bmatrix}$$\n",
    "e\n",
    "$$\\rho_B = \\begin{bmatrix} |c_{00}|^{2}+|c_{10}|^{2} & c_{00}c_{01}^{*}+c_{10}c_{11}^{*} \\\\ c_{00}^{*}c_{01}+c_{10}^{*}c_{11} & |c_{01}|^{2}+|c_{11}|^{2} \\end{bmatrix}.$$"
   ]
  },
  {
   "cell_type": "markdown",
   "id": "9ba87ea2",
   "metadata": {},
   "source": [
    "Vem assim que\n",
    "\\begin{align}\n",
    "P(\\rho_A) & = \\big||c_{00}|^{2}+|c_{01}|^{2} - |c_{10}|^{2}-|c_{11}|^{2}\\big|, \\\\\n",
    "P(\\rho_B) & = \\big||c_{00}|^{2}+|c_{10}|^{2} - |c_{01}|^{2}-|c_{11}|^{2}\\big|, \\\\\n",
    "V(\\rho_A) & = 2\\big|c_{00}c_{10}^{*}+c_{01}c_{11}^{*}\\big|, \\\\\n",
    "V(\\rho_B) & = 2\\big|c_{00}c_{01}^{*}+c_{10}c_{11}^{*}\\big|. \\\\\n",
    "\\end{align}\n",
    "Usando \n",
    "\\begin{align}\n",
    "1 & = \\big(|c_{00}|^{2}+|c_{01}|^{2}+|c_{10}|^{2}+|c_{11}|^{2}\\big)^{2} \\\\\n",
    "& = \\big(|c_{00}|^{2}+|c_{01}|^{2}\\big)^{2} + \\big(|c_{10}|^{2}+|c_{11}|^{2}\\big)^{2} + 2\\big(|c_{00}|^{2}+|c_{01}|^{2}\\big)\\big(|c_{10}|^{2}+|c_{11}|^{2}\\big) \\\\\n",
    "& = |c_{00}|^{4}+|c_{01}|^{4}+2|c_{00}|^{2}|c_{01}|^{2} + |c_{10}|^{4}+|c_{11}|^{4} + 2|c_{10}|^{2}|c_{11}|^{2} \\\\\n",
    "& \\hspace{0.5cm} + 2|c_{00}|^{2}|c_{10}|^{2} + 2|c_{00}|^{2}|c_{11}|^{2} + 2|c_{01}|^{2}|c_{10}|^{2} + 2|c_{01}|^{2}|c_{11}|^{2}\n",
    "\\end{align}"
   ]
  },
  {
   "cell_type": "markdown",
   "id": "7ae1efd0",
   "metadata": {},
   "source": [
    "vemos que\n",
    "\\begin{align}\n",
    "& E_{conc}(|\\psi\\rangle_{AB})^{2} + P(\\rho_A)^{2} + V(\\rho_A)^{2} \\\\\n",
    "& = 4\\big|c_{00}c_{11}-c_{01}c_{10}\\big|^{2} + \\big||c_{00}|^{2}+|c_{01}|^{2} - |c_{10}|^{2}-|c_{11}|^{2}\\big|^{2} + 4\\big|c_{00}c_{10}^{*}+c_{01}c_{11}^{*}\\big|^{2} \\\\\n",
    "& = 4\\big(c_{00}c_{11}-c_{01}c_{10}\\big)\\big(c_{00}^{*}c_{11}^{*}-c_{01}^{*}c_{10}^{*}\\big) + \\big(|c_{00}|^{2}+|c_{01}|^{2} - |c_{10}|^{2}-|c_{11}|^{2}\\big)\\big(|c_{00}|^{2}+|c_{01}|^{2} - |c_{10}|^{2}-|c_{11}|^{2}\\big) \\\\\n",
    "& \\hspace{0.5cm} + 4\\big(c_{00}c_{10}^{*}+c_{01}c_{11}^{*}\\big)\\big(c_{00}^{*}c_{10}+c_{01}^{*}c_{11}\\big) \\\\\n",
    "& = 4|c_{00}|^{2}|c_{11}|^{2} + 4|c_{01}|^{2}|c_{10}|^{2} - 4c_{00}c_{11}c_{01}^{*}c_{10}^{*} - 4c_{00}^{*}c_{11}^{*}c_{01}c_{10} \\\\\n",
    "& \\hspace{0.5cm} + 4|c_{00}|^{2}|c_{10}|^{2} + 4|c_{11}|^{2}|c_{01}|^{2} + 4c_{00}c_{10}^{*}c_{01}^{*}c_{11} + 4c_{00}^{*}c_{10}c_{01}c_{11}^{*} \\\\\n",
    "&  \\hspace{0.5cm} + |c_{00}|^{4} + |c_{01}|^{4} + |c_{10}|^{4} + |c_{11}|^{4} + 2|c_{00}|^{2}|c_{01}|^{2} - 2|c_{00}|^{2}|c_{10}|^{2} - 2|c_{00}|^{2}|c_{11}|^{2} - 2|c_{01}|^{2}|c_{10}|^{2} - 2|c_{01}|^{2}|c_{11}|^{2} + 2|c_{10}|^{2}|c_{11}|^{2} \\\\\n",
    "& = |c_{00}|^{4} + |c_{01}|^{4} + |c_{10}|^{4} + |c_{11}|^{4} + 2|c_{00}|^{2}|c_{01}|^{2} + 2|c_{00}|^{2}|c_{10}|^{2} + 2|c_{00}|^{2}|c_{11}|^{2} + 2|c_{01}|^{2}|c_{10}|^{2} + 2|c_{01}|^{2}|c_{11}|^{2} + 2|c_{10}|^{2}|c_{11}|^{2} \\\\\n",
    "& = \\big(|c_{00}|^{2}+|c_{01}|^{2}+|c_{10}|^{2}+|c_{11}|^{2}\\big)^{2} \\\\\n",
    "& = 1.\n",
    "\\end{align}\n",
    "\n",
    "__Exercício:__ Verifique que\n",
    "$$E_{conc}(|\\psi\\rangle_{AB})^{2} + P(\\rho_B)^{2} + V(\\rho_B)^{2}=1.$$"
   ]
  },
  {
   "cell_type": "code",
   "execution_count": null,
   "id": "0da94dce",
   "metadata": {},
   "outputs": [],
   "source": []
  }
 ],
 "metadata": {
  "kernelspec": {
   "display_name": "Python 3 (ipykernel)",
   "language": "python",
   "name": "python3"
  },
  "language_info": {
   "codemirror_mode": {
    "name": "ipython",
    "version": 3
   },
   "file_extension": ".py",
   "mimetype": "text/x-python",
   "name": "python",
   "nbconvert_exporter": "python",
   "pygments_lexer": "ipython3",
   "version": "3.9.13"
  }
 },
 "nbformat": 4,
 "nbformat_minor": 5
}
