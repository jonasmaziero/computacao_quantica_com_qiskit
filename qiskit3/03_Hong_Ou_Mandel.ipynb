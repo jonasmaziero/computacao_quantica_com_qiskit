{
 "cells": [
  {
   "cell_type": "markdown",
   "id": "7e2aa54a",
   "metadata": {},
   "source": [
    "# O efeito Hong-Ou-Mandel\n",
    "\n",
    "Para iniciar o estudo do efeito Hong-Ou-Mandel (HOM), vamos usar a notação de vetores de estados, sem usar a quantização da radiação eletromagnética (REM) diretamente. Vamos considerar que dois fótons, um no modo horizontal e o outro no modo vertical, incidem em um divisor de feixes 50:50. Usando \n",
    "\\begin{align}\n",
    "&|0\\rangle=|H\\rangle=\\text{ 1 fóton no caminho horizontal},\\\\\n",
    "&\\ |1\\rangle=|V\\rangle=\\text{ 1 fóton no caminho vertical},\n",
    "\\end{align}\n",
    "o estado inicial, de caminho, dos 2 fótons é\n",
    "$$|0\\rangle|1\\rangle.$$\n",
    "Como a ação do BS é deixar o fóton no mesmo caminho com probabilidade $1/2$ ou mudar o caminho do fóton com probabilidade $1/2$ e dando uma fase $i$ ao estado. Com isso, teremos\n",
    "\\begin{align}\n",
    "U_{bs}|01\\rangle & = 2^{-1/2}\\big(|01\\rangle + i|00\\rangle + i|11\\rangle + i^2|10\\rangle\\big) \\\\\n",
    " & = i2^{-1/2}\\big(|00\\rangle + |11\\rangle\\big).\n",
    "\\end{align}\n",
    "Note que usamos\n",
    "$$|01\\rangle=|10\\rangle$$\n",
    "pois os fótons são indistinguíveis. Ou seja, como os fótons são indistinguíveis, e os fótons são bósons, eles tendem a se agrupar (_bunching_). No final das contas, eles acabam os dois no modo $|0\\rangle$ ou os dois no modo $|1\\rangle$.\n",
    "\n",
    "Este é o efeito HOM, que é frequentemente usado para testar a qualidade de fontes de fótons únicos, que devem ser indistinguíveis."
   ]
  },
  {
   "cell_type": "markdown",
   "id": "f01e91e2",
   "metadata": {},
   "source": [
    "A descrição mais correta da REM é tratando cada modo da REM como um oscilador harmônico quântico. Então, se consideramos somente os modos espaciais horizontal e vertical, o estado inicial antes do BS é\n",
    "$$|n_h\\rangle|n_v\\rangle,$$\n",
    "com $n_h,n_v$ sendo o número de fótons no modo espacial horizontal e vertical, respectivamente."
   ]
  },
  {
   "cell_type": "markdown",
   "id": "b7263a55",
   "metadata": {},
   "source": [
    "## BS clássico\n",
    "No caso clássico, as amplitudes dos campos elétricos nas duas entradas do BS são relacionadas com os campos elétricos nas saídas pela seguinte equação\n",
    "$$\\vec{E}_{out} := \\begin{bmatrix}E_{h}^{out} \\\\ E_{v}^{out}\\end{bmatrix} = \\begin{bmatrix}  t_{hh} & r_{vh} \\\\ r_{hv} & t_{vv} \\end{bmatrix} \\begin{bmatrix} E_{h}^{in} \\\\ E_{v}^{in}\\end{bmatrix} =: \\tau\\vec{E}_{in},$$\n",
    "em que $r,t$ são os coeficientes de reflexão e transmissão, respectivamente, os os sub-índices indicam de que modo para que modo que a reflexão ou transmissão ocorre.\n",
    "\n",
    "Impondo conservação da energia, devemos ter que\n",
    "$$|E_{h}^{out}|^2 + |E_{v}^{out}|^2 = |E_{h}^{in}|^2 + |E_{v}^{in}|^2.$$\n",
    "Essa relação implica que a matriz $\\tau$ deve ser unitártia:\n",
    "$$\\vec{E}_{out}^{\\dagger}\\vec{E}_{out} = \\vec{E}_{in}^{\\dagger}\\tau^{\\dagger}\\tau\\vec{E}_{in}= \\vec{E}_{in}^{\\dagger}\\vec{E}_{in}\\ \\therefore\\ \\tau^{\\dagger}\\tau=\\mathbb{I}.$$"
   ]
  },
  {
   "cell_type": "markdown",
   "id": "e92bc087",
   "metadata": {},
   "source": [
    "Por sua vez, essa propriedades implica em várias relações entre os coeficientes de reflexão e transmissão:\n",
    "\\begin{align}\n",
    "& |t_{hh}|^2 + |r_{hv}|^2 = 1, \\\\\n",
    "& |r_{vh}|^2 + |t_{vv}|^2 = 1, \\\\\n",
    "& |t_{hh}|^2 + |r_{vh}|^2 = 1, \\\\\n",
    "& |r_{hv}|^2 + |t_{vv}|^2 = 1, \\\\\n",
    "& t_{hh}^{*}r_{hv} + r_{vh}^{*}t_{vv} = 0, \\\\\n",
    "& t_{hh}^{*}r_{vh} + r_{hv}^{*}t_{vv} = 0.\n",
    "\\end{align}\n",
    "\n",
    "Escrevendo os coeficientes de transmissão e reflexão na forma polar, das equações acima teremos que\n",
    "\\begin{align}\n",
    "& |t_{hh}||r_{hv}|e^{i(\\phi_{hv}-\\phi_{hh})} + |r_{vh}||t_{vv}|e^{i(\\phi_{vv}-\\phi_{vh})} = 0 \\\\\n",
    "& |t_{hh}||r_{hv}| =  -|r_{vh}||t_{vv}|e^{i(\\phi_{vv}-\\phi_{vh}-\\phi_{hv}+\\phi_{hh})} \\\\\n",
    "& \\therefore\\ |t_{hh}|^2 |r_{hv}|^2 = |r_{vh}|^2 |t_{vv}|^2 \\\\\n",
    "& \\therefore\\ |t_{hh}|^2(1-|t_{hh}|^2) = (1-|t_{vv}|^2 ) |t_{vv}|^2 \\\\\n",
    "& \\therefore |t_{hh}|=|t_{vv}|=:T,\n",
    "\\end{align}\n",
    "em que fizemos\n",
    "$$\\phi_{vv}-\\phi_{vh}-\\phi_{hv}+\\phi_{hh}:=\\pi.$$"
   ]
  },
  {
   "cell_type": "markdown",
   "id": "599a642b",
   "metadata": {},
   "source": [
    "De forma análoga\n",
    "\\begin{align}\n",
    "& |t_{hh}||r_{vh}|e^{i(\\phi_{vh}-\\phi_{hh})} + |r_{hv}||t_{vv}|e^{i(\\phi_{vv}-\\phi_{hv})} = 0 \\\\\n",
    "& |t_{hh}||r_{vh}| =  -|r_{hv}||t_{vv}|e^{i(\\phi_{vv}-\\phi_{hv}-\\phi_{vh}+\\phi_{hh})} \\\\\n",
    "& \\therefore\\ |t_{hh}|^2 |r_{vh}|^2 = |r_{hv}|^2 |t_{vv}|^2 \\\\\n",
    "& \\therefore\\ (1-|r_{vh}|^2)|r_{vh}|^2 = |r_{hv}|^2(1-|r_{hv}|^2 ) \\\\\n",
    "& \\therefore |r_{vh}|=|r_{hv}|=:R.\n",
    "\\end{align}\n",
    "Com isso, podemos escrever\n",
    "$$\\tau = \\begin{bmatrix} T e^{i\\phi_{hh}} & R e^{i\\phi_{vh}} \\\\ R e^{i\\phi_{hv}} & T e^{i\\phi_{vv}} \\end{bmatrix} = \\begin{bmatrix} e^{i\\phi_{hh}}\\sin\\theta & e^{i\\phi_{vh}}\\cos\\theta \\\\ e^{i\\phi_{hv}}\\cos\\theta & e^{i\\phi_{vv}}\\sin\\theta \\end{bmatrix},$$\n",
    "em que usamos \n",
    "$$T^2+R^2=1,\\ T,R\\in[0,1]$$\n",
    "para escrever \n",
    "$$T:=\\sin\\theta,\\ R:=\\cos\\theta,\\ \\theta = \\arctan(T/R),$$\n",
    "com esta última equação podendo ser usada quando $R\\ne 0$."
   ]
  },
  {
   "cell_type": "markdown",
   "id": "13f3e7c6",
   "metadata": {},
   "source": [
    "Pela restrição dos ângulo, podemos diminuir uma variável na equação para $\\tau$. Vamos definir\n",
    "\\begin{align}\n",
    "& \\phi_{hh} := \\phi_0 + \\phi_T, \\\\\n",
    "& \\phi_{vv} := \\phi_0 - \\phi_T - \\pi, \\\\\n",
    "& \\phi_{hv} := \\phi_0 + \\phi_R, \\\\\n",
    "& \\phi_{vh} := \\phi_0 - \\phi_R,\n",
    "\\end{align}\n",
    "em que\n",
    "\\begin{align}\n",
    "& \\phi_T = 2^{-1}(\\phi_{hh} - \\phi_{vv} + \\pi), \\\\ \n",
    "& \\phi_R = 2^{-1}(\\phi_{hv} - \\phi_{vh}), \\\\\n",
    "& \\phi_0 = 2^{-1}(\\phi_{hh} + \\phi_{vv}).\n",
    "\\end{align}"
   ]
  },
  {
   "cell_type": "markdown",
   "id": "148009d4",
   "metadata": {},
   "source": [
    "Com isso, vem que\n",
    "$$\\tau = e^{i\\phi_0}\\begin{bmatrix} e^{i\\phi_{T}}\\sin\\theta & e^{-i\\phi_{R}}\\cos\\theta \\\\ e^{i\\phi_{R}}\\cos\\theta & -e^{-i\\phi_{T}}\\sin\\theta \\end{bmatrix}.$$\n",
    "\n",
    "Se fazemos $\\theta=\\pi/4$ e $\\phi_0=\\phi_T=\\phi_R=0$ teremos o BS 50:50 com dielétrico\n",
    "$$\\tau = \\frac{1}{\\sqrt{2}}\\begin{bmatrix} 1 & 1 \\\\ 1 & -1 \\end{bmatrix} = H.$$\n",
    "\n",
    "Fazendo $\\theta=\\pi/4$ e $\\phi_0=\\pi/2$, $\\phi_T=-\\pi/2$, $\\phi_R=0$ teremos o BS 50:50 de Loudon\n",
    "$$\\tau = \\frac{1}{\\sqrt{2}}\\begin{bmatrix} 1 & i \\\\ i & 1 \\end{bmatrix} = SHS.$$\n",
    "Na verdade, a forma exata do BS depende de como ele é construído."
   ]
  },
  {
   "cell_type": "markdown",
   "id": "cdb227ba",
   "metadata": {},
   "source": [
    "## BS quântico\n",
    "Nesse caso, a matriz de transferência $\\tau$ relaciona os operador de criação antes e depois da ação do BS:\n",
    "$$\\begin{bmatrix}a_{h,out}^{\\dagger} \\\\ a_{v,out}^{\\dagger} \\end{bmatrix}=\\tau \\begin{bmatrix} a_{h,in}^{\\dagger} \\\\ a_{v,in}^{\\dagger}\\end{bmatrix} \\ \\therefore\\ \\begin{bmatrix}a_{h,in}^{\\dagger} \\\\ a_{v,in}^{\\dagger} \\end{bmatrix}=\\tau^{\\dagger}\\begin{bmatrix} a_{h,out}^{\\dagger} \\\\ a_{v,out}^{\\dagger}\\end{bmatrix}.$$\n",
    "OBS. Esta última eq., que tirei na wikipedia, está errada, pois na representação de Heisenberg, operadores evoluem por $O_t=U^\\dagger O U$.\n",
    "\n",
    "Seguindo, usando $\\tau^\\dagger=\\begin{bmatrix}  t_{hh}^{*} & r_{hv}^{*} \\\\ r_{vh}^{*} & t_{vv}^{*} \\end{bmatrix}$, obtemos\n",
    "\\begin{align}\n",
    "& a_{h,in}^{\\dagger} = t_{hh}^{*}a_{h,out}^{\\dagger} + r_{hv}^{*}a_{v,out}^{\\dagger}, \\\\\n",
    "& a_{v,in}^{\\dagger} = r_{vh}^{*}a_{h,out}^{\\dagger} + t_{vv}^{*}a_{v,out}^{\\dagger}.\n",
    "\\end{align}"
   ]
  },
  {
   "cell_type": "markdown",
   "id": "acfc5645",
   "metadata": {},
   "source": [
    "Lembrando da álgebra do oscilador harmônico quântico, temos que\n",
    "$$a^\\dagger|n\\rangle = \\sqrt{n+1}|n+1\\rangle.$$\n",
    "Com isso, se consideremos 1 fóton no modo horizontal e 0 fóton no modo vertical, podemos escrever o estado inicial como\n",
    "$$|1_h 0_v\\rangle = a_{h,in}^\\dagger|0_h 0_v\\rangle.$$\n",
    "Para obter o estado após o BS, usamos\n",
    "\\begin{align}\n",
    "|\\psi_{out}\\rangle & = \\big(t_{hh}^{*}a_{h,out}^{\\dagger} + r_{hv}^{*}a_{v,out}^{\\dagger}\\big)|0_h 0_v\\rangle \\\\\n",
    "& = t_{hh}^{*}|1_h 0_v\\rangle + r_{hv}^{*}|0_h 1_v\\rangle \\\\\n",
    "& = 2^{-1/2}\\big(|1_h 0_v\\rangle -i|0_h 1_v\\rangle\\big),\n",
    "\\end{align}\n",
    "com a última igualdade valendo quando aplicamos o BS de Loudon."
   ]
  },
  {
   "cell_type": "markdown",
   "id": "3a826cde",
   "metadata": {},
   "source": [
    "## HOM\n",
    "Vamos aplicar esse formalismo no caso de um fóton em cada um dos modos espaciais de entrada\n",
    "$$|1_h 1_v\\rangle = a_{h,in}^\\dagger a_{v,in}^\\dagger|0_h\\rangle| 0_v\\rangle.$$\n",
    "Nesse caso teremos\n",
    "\\begin{align}\n",
    "|\\psi_{out}\\rangle & = \\big(t_{hh}^{*}a_{h,out}^{\\dagger} + r_{hv}^{*}a_{v,out}^{\\dagger}\\big)\\big(r_{vh}^{*}a_{h,out}^{\\dagger} + t_{vv}^{*}a_{v,out}^{\\dagger}\\big)|0_h\\rangle|0_v\\rangle \\\\\n",
    "& = \\big(t_{hh}^{*}a_{h,out}^{\\dagger} + r_{hv}^{*}a_{v,out}^{\\dagger}\\big)\\big(r_{vh}^{*}|1_h\\rangle|0_v\\rangle + t_{vv}^{*}|0_h\\rangle|1_v\\rangle\\big) \\\\\n",
    "& = t_{hh}^{*}r_{vh}^{*}\\sqrt{2}|2_h\\rangle|0_v\\rangle + t_{hh}^{*}t_{vv}^{*}|1_h\\rangle|1_v\\rangle + r_{hv}^{*}r_{vh}^{*}|1_h\\rangle|1_v\\rangle + r_{hv}^{*}t_{vv}^{*}\\sqrt{2}|0_h\\rangle|2_v\\rangle \\\\\n",
    "& = 2^{-1/2}\\big(|2_h\\rangle|0_v\\rangle +|0_h\\rangle|2_v\\rangle\\big),\n",
    "\\end{align}\n",
    "com a última igualdade valendo quando aplicamos o BS de Loudon.\n",
    "\n",
    "##### Exercício\n",
    "Calcule o estado depois do divisor de feixes para o seguinte estado de entrada: $|2_h\\rangle|1_v\\rangle$."
   ]
  },
  {
   "cell_type": "markdown",
   "id": "56d54ec5",
   "metadata": {},
   "source": [
    "##  DF seguindo Ref. 4\n",
    "\n",
    "Considera 1 fóton incidindo no modo horizontal e 0 no vertical. Os campos elétricos da saída do DF é\n",
    "$$E_h^{out} = t E_h^{in},\\ E_v^{out} = r E_h^{in}.$$\n",
    "Por conservação da energia, devemos ter\n",
    "$$|E_h^{out}|^2+ |E_v^{out}|^2 = |E_h^{in}|^2\\ \\therefore\\ |r|^2+|t|^2=1.$$\n",
    "\n",
    "Se, para tratar o campo eletromagnético quanticamente, substituímos os campos elétricos por operadores de aniquilação, teríamos que\n",
    "$$a_h^{out} = t a_h^{in},\\ a_v^{out} = r a_h^{in}.$$\n",
    "No entanto, para cada modo do campo eletromagnético, esses operadores devem satisfazer as relações de comutação\n",
    "$$[a_j,a_k^\\dagger]=\\delta_{j,k},\\ [a_j,a_k]=[a_j^\\dagger,a_k^\\dagger]=0,$$\n",
    "para $j,k=1,2,3$. No entanto, para os operadores acima, obtemos\n",
    "\\begin{align}\n",
    "& [a_h^{out},(a_h^{out})^{\\dagger}] = |t|^2[a_h^{in},(a_h^{in})^\\dagger] = |t|^2\\ne 1, \\\\\n",
    "& [a_v^{out},(a_v^{out})^{\\dagger}] = |r|^2[a_h^{in},(a_h^{in})^\\dagger] = |r|^2\\ne 1, \\\\\n",
    "& [a_h^{out},(a_v^{out})^{\\dagger}] = t r^* [a_h^{in},(a_h^{in})^\\dagger] = t r^*\\ne 0.\n",
    "\\end{align}\n",
    "Portanto, essas relações não podem ser usadas."
   ]
  },
  {
   "cell_type": "markdown",
   "id": "b2d809ba",
   "metadata": {},
   "source": [
    "No caso do campo quântico, as flutuações do vácuo tem efeitos importantes. Então, mesmo que não tenha campo elétrico no modo vertical da entrada, este deve ser levado em conta. Por isso, devemos ter relações que incluem os operadores em ambas as entradas:\n",
    "\\begin{align}\n",
    "& a_v^{out} = r_{hv} a_h^{in} + t_{vv} a_v^{in}, \\\\ \n",
    "& a_h^{out} = t_{hh} a_h^{in} + r_{vh} a_v^{in} \n",
    "\\end{align}\n",
    "ou\n",
    "$$\\begin{bmatrix}a_v^{out} \\\\ a_h^{out}\\end{bmatrix} = \\begin{bmatrix}r_{hv}&t_{vv}\\\\t_{hh}&r_{vh}\\end{bmatrix}\\begin{bmatrix}a_v^{in} \\\\ a_h^{in}\\end{bmatrix}.$$\n",
    "Dessas equações, impondo as relações de comutação para os operadores de criação e aniquilação, teremos que\n",
    "\\begin{align}\n",
    "[a_v^{out},(a_v^{out})^\\dagger] & = [r_{hv} a_h^{in} + t_{vv} a_v^{in},r_{hv}^* (a_h^{in})^\\dagger + t_{vv}^* (a_v^{in})^\\dagger] \\\\\n",
    " & = r_{hv}r_{hv}^*[a_h^{in},(a_h^{in})^\\dagger] + r_{hv}t_{vv}^*[a_h^{in},(a_v^{in})^\\dagger] + t_{vv}r_{hv}^*[a_v^{in},(a_h^{in})^\\dagger] + t_{vv}t_{vv}^*[a_v^{in},(a_v^{in})^\\dagger] \\\\\n",
    "& = |r_{hv}|^2 + |t_{vv}|^2 =1, \\\\\n",
    "[a_h^{out},(a_h^{out})^\\dagger] & = [t_{hh} a_h^{in} + r_{vh} a_v^{in},t_{hh}^* (a_h^{in})^\\dagger + r_{vh}^* (a_v^{in})^\\dagger] \\\\\n",
    "& = t_{hh}t_{hh}^*[a_h^{in},(a_h^{in})^\\dagger] + t_{hh}r_{vh}^*[a_h^{in},(a_v^{in})^\\dagger] + r_{vh}t_{hh}^*[a_v^{in},(a_h^{in})^\\dagger] + r_{vh}r_{vh}^*[a_v^{in},(a_v^{in})^\\dagger] \\\\\n",
    "& = |t_{hh}|^2 + |r_{vh}|^2 =1,\n",
    "\\end{align}"
   ]
  },
  {
   "cell_type": "markdown",
   "id": "f2fdb4bf",
   "metadata": {},
   "source": [
    "\\begin{align}\n",
    "[a_v^{out},(a_h^{out})^\\dagger] & = [r_{hv} a_h^{in} + t_{vv} a_v^{in},t_{hh}^*(a_h^{in})^\\dagger + r_{vh}^*(a_v^{in})^\\dagger] \\\\\n",
    "& = r_{hv}t_{hh}^*[a_h^{in},(a_h^{in})^\\dagger] + r_{hv}r_{vh}^*[a_h^{in},(a_v^{in})^\\dagger] + t_{vv}t_{hh}^*[a_v^{in},(a_h^{in})^\\dagger] + t_{vv}r_{vh}^*[a_v^{in},(a_v^{in})^\\dagger] \\\\\n",
    "& = r_{hv}t_{hh}^* + t_{vv}r_{vh}^* = 0, \\\\\n",
    "[a_h^{out},(a_v^{out})^\\dagger] & = [t_{hh} a_h^{in} + r_{vh} a_v^{in} , r_{hv}^* (a_h^{in})^\\dagger + t_{vv}^* (a_v^{in})^\\dagger] \\\\\n",
    "& = t_{hh}r_{hv}^*[a_h^{in},(a_h^{in})^\\dagger] + t_{hh}t_{vv}^*[a_h^{in},(a_v^{in})^\\dagger] + r_{vh}r_{hv}^*[a_v^{in},(a_h^{in})^\\dagger] + r_{vh}t_{vv}^*[a_v^{in},(a_v^{in})^\\dagger] \\\\\n",
    "& = t_{hh}r_{hv}^* + r_{vh}t_{vv}^* = 0, \\\\\n",
    "[a_v^{out},a_v^{out}] & = [r_{hv} a_h^{in} + t_{vv} a_v^{in},r_{hv} a_h^{in} + t_{vv} a_v^{in}] \\\\\n",
    "& = r_{hv}r_{hv}[a_h^{in},a_h^{in}] + r_{hv}t_{vv}[a_h^{in},a_v^{in}] + t_{vv}r_{hv}[a_v^{in},a_h^{in}] + t_{vv}t_{vv}[a_v^{in},a_v^{in}] \\\\\n",
    "& = 0, \\\\\n",
    "[a_h^{out},a_h^{out}] & = \\cdots = 0.\n",
    "\\end{align}\n",
    "OBS. Não consegui mostrar que \n",
    "$$|t_{hh}|=|t_{vv}| \\text{ e } |r_{hv}|=|r_{vh}|.$$"
   ]
  },
  {
   "cell_type": "markdown",
   "id": "04eb2b07",
   "metadata": {},
   "source": [
    "Os autores também comentam que a fase adicionada na reflexão depende de como o DF é construído. Para DF feito com uma única camanda de dielétrico, a fase ganha é $e^{\\pm i\\pi/2}=\\pm i$. Para um DF 50:50, assumindo uma fase $i$ na reflexão, teremos\n",
    "\\begin{align}\n",
    "& a_v^{out} = 2^{-1/2}\\big(ia_h^{in} + a_v^{in}\\big), \\\\ \n",
    "& a_h^{out} = 2^{-1/2}\\big(a_h^{in} + i a_v^{in}\\big). \n",
    "\\end{align}\n",
    "Como a ação do DF é unitária, temos que\n",
    "$$\\begin{bmatrix}a_v^{out} \\\\ a_h^{out}\\end{bmatrix} = U^\\dagger \\begin{bmatrix}a_v^{in} \\\\ a_h^{in}\\end{bmatrix}U.$$\n",
    "Vamos verificar que para o caso especial acima, o __operador unitário do DF__ é\n",
    "$$U = e^{i\\pi((a_v^{in})^\\dagger a_h^{in}+a_v^{in}(a_h^{in})^\\dagger)/4}.$$\n",
    "Verifica-se essa relação usando a fórmula de Baker-Campbel-Hausdorf\n",
    "$$e^{cB}Ae^{-cB} = A + c[B,A] + \\frac{c^{2}}{2!}[B,[B,A]] + \\frac{c^{3}}{3!}[B,[B,[B,A]]] + \\cdots.$$"
   ]
  },
  {
   "cell_type": "markdown",
   "id": "bee2f34d",
   "metadata": {},
   "source": [
    "Vamos fazer \n",
    "$$c=-i\\pi/4,\\ A = a_v,\\ B = a_v^\\dagger a_h + a_v a_h^\\dagger$$\n",
    "com $a_v:=a_v^{in},\\ a_h:=a_h^{in}.$ Usando\n",
    "$$[AB,C]=A[B,C]+[A,C]B$$\n",
    "teremos que\n",
    "\\begin{align}\n",
    "[B,A] & = [a_v^\\dagger a_h + a_v a_h^\\dagger,a_v] \\\\\n",
    "& = a_v^\\dagger[a_h,a_v] + [a_v^\\dagger,a_v]a_h + a_v[a_h^\\dagger,a_v] + [a_v,a_v]a_h^\\dagger \\\\\n",
    "& = 0 - a_h + 0 + 0 \\\\\n",
    "& = -a_h, \\\\\n",
    "[B,[B,A]] & = -[a_v^\\dagger a_h + a_v a_h^\\dagger,a_h] \\\\\n",
    "& = a_v, \\\\\n",
    "[B,[B,[B,A]]] & = [a_v^\\dagger a_h + a_v a_h^\\dagger,a_v] \\\\\n",
    "& = -a_h, \\\\\n",
    "[B,[B,[B,[B,A]]]] & = -[a_v^\\dagger a_h + a_v a_h^\\dagger,a_h] \\\\\n",
    "& = a_v, \\\\\n",
    "& \\vdots.\n",
    "\\end{align}"
   ]
  },
  {
   "cell_type": "markdown",
   "id": "3fb1b4ae",
   "metadata": {},
   "source": [
    "Assim\n",
    "\\begin{align}\n",
    "a_v^{out} & = a_v - (-i\\pi/4)a_h + \\frac{(-i\\pi/4)^2}{2!}a_v - \\frac{(-i\\pi/4)^3}{3!}a_h + \\frac{(-i\\pi/4)^4}{4!}a_v + \\cdots  \\\\\n",
    "& = a_v\\big(1 - \\frac{(\\pi/4)^2}{2!} + \\frac{(\\pi/4)^4}{4!} - \\cdots\\big) + ia_h\\big(\\pi/4 - \\frac{(\\pi/4)^3}{3!} + \\cdots\\big) \\\\\n",
    "& = a_v\\cos(\\pi/4) + ia_h\\sin(\\pi/4) \\\\\n",
    "& = 2^{-1/2}\\big(a_v + ia_h\\big).\n",
    "\\end{align}\n",
    "\n",
    "Para \n",
    "$$A=a_h$$\n",
    "teremos\n",
    "\\begin{align}\n",
    "[B,A] & = [a_v^\\dagger a_h + a_v a_h^\\dagger,a_h] \\\\\n",
    "& = -a_v, \\\\\n",
    "[B,[B,A]] & = -[a_v^\\dagger a_h + a_v a_h^\\dagger,a_v] \\\\\n",
    "& = a_h, \\\\\n",
    "[B,[B,[B,A]]] & = [a_v^\\dagger a_h + a_v a_h^\\dagger,a_h] \\\\\n",
    "& = -a_v, \\\\\n",
    "[B,[B,[B,[B,A]]]] & = -[a_v^\\dagger a_h + a_v a_h^\\dagger,a_v] \\\\\n",
    "& = a_h, \\\\\n",
    "& \\vdots.\n",
    "\\end{align}"
   ]
  },
  {
   "cell_type": "markdown",
   "id": "c8ddda67",
   "metadata": {},
   "source": [
    "Assim\n",
    "\\begin{align}\n",
    "a_h^{out} & = a_h - (-i\\pi/4)a_v + \\frac{(-i\\pi/4)^2}{2!}a_h - \\frac{(-i\\pi/4)^3}{3!}a_v + \\frac{(-i\\pi/4)^4}{4!}a_h + \\cdots  \\\\\n",
    "& = a_h\\big(1 - \\frac{(\\pi/4)^2}{2!} + \\frac{(\\pi/4)^4}{4!} - \\cdots\\big) + ia_v\\big(\\pi/4 - \\frac{(\\pi/4)^3}{3!} + \\cdots\\big) \\\\\n",
    "& = a_h\\cos(\\pi/4) + ia_v\\sin(\\pi/4) \\\\\n",
    "& = 2^{-1/2}\\big(a_h + ia_v\\big).\n",
    "\\end{align}\n",
    "\n",
    "OBS. Embora tenhamos uma forma para o operador unitário do DF em um caso particular, o caso geral não parece ser tão simples, e ademais parece ser mais fácil usar o mapa entre operadores de aniquilação entrada-saída do DF para obter diretamente os estados. "
   ]
  },
  {
   "cell_type": "markdown",
   "id": "1fe3ea01",
   "metadata": {},
   "source": [
    "O raciocínio geral usado pelos autores para fazer a conta do __estado depois do DF__ é que se temos 0 fótons nos 2 modos de entrada, teremos 0 fótons nos 2 modos de saída:\n",
    "$$|0_h\\rangle|0_v\\rangle \\xrightarrow[]{DF} |0_h\\rangle|0_v\\rangle.$$\n",
    "Então, por exemplo,\n",
    "$$|1_h\\rangle|0_v\\rangle=(a_h^{in})^\\dagger|0_h\\rangle|0_v\\rangle \\xrightarrow[]{DF} (a_h^{ou})^\\dagger|0_h\\rangle|0_v\\rangle.$$\n",
    "Isso é razoável pois primeiro, usando a representação de Heisenberg, \"não evoluímos o estado\" através do DF, evoluímos o operador. Depois voltamos para a representação de Schrödinger e evoluímos o estado.\n",
    "\n",
    "__Exercício:__ Calcule o estado de saída para o seguinte estado de entrada \n",
    "$$|2_h\\rangle|1_v\\rangle.$$"
   ]
  },
  {
   "cell_type": "code",
   "execution_count": null,
   "id": "70fe311c",
   "metadata": {},
   "outputs": [],
   "source": []
  },
  {
   "cell_type": "code",
   "execution_count": null,
   "id": "b76f1230",
   "metadata": {},
   "outputs": [],
   "source": []
  },
  {
   "cell_type": "markdown",
   "id": "15ec8552",
   "metadata": {},
   "source": [
    "## Emaranhamento de um único fóton\n"
   ]
  },
  {
   "cell_type": "code",
   "execution_count": null,
   "id": "ee097a19",
   "metadata": {},
   "outputs": [],
   "source": []
  },
  {
   "cell_type": "code",
   "execution_count": 1,
   "id": "579bddac",
   "metadata": {},
   "outputs": [
    {
     "data": {
      "text/plain": [
       "3.04"
      ]
     },
     "execution_count": 1,
     "metadata": {},
     "output_type": "execute_result"
    }
   ],
   "source": [
    "0.4*7.6"
   ]
  },
  {
   "cell_type": "markdown",
   "id": "008515b6",
   "metadata": {},
   "source": [
    "### Referências\n",
    "\n",
    "1. S. Chin, J. Kim, and J. Huh, “Digital quantum simulation of boson systems with Jordan-Wigner transformation: Generating Hong-Ou-Mandel dip in quantum computers.” arXiv, Aug. 31, 2022. doi: 10.48550/arXiv.2209.00207.\n",
    "\n",
    "1. N. Pathania and T. Qureshi, “Characterization of Two-Particle Interference by Complementarity,” Phys. Rev. A, vol. 106, no. 1, p. 012213, Jul. 2022, doi: 10.1103/PhysRevA.106.012213.\n",
    "\n",
    "1. P. Abiuso, T. Kriváchy, E.-C. Boghiu, M.-O. Renou, A. Pozas-Kerstjens, and A. Acín, “Single-photon nonlocality in quantum networks,” Phys. Rev. Research, vol. 4, no. 1, p. L012041, Mar. 2022, doi: 10.1103/PhysRevResearch.4.L012041.\n",
    "\n",
    "1. C.C. Gerry, P. Knight, Introductory Quantum Optics (Cambridge University Press, Cambridge, 2005).\n",
    "\n"
   ]
  },
  {
   "cell_type": "code",
   "execution_count": null,
   "id": "f64dd488",
   "metadata": {},
   "outputs": [],
   "source": []
  }
 ],
 "metadata": {
  "kernelspec": {
   "display_name": "Python 3 (ipykernel)",
   "language": "python",
   "name": "python3"
  },
  "language_info": {
   "codemirror_mode": {
    "name": "ipython",
    "version": 3
   },
   "file_extension": ".py",
   "mimetype": "text/x-python",
   "name": "python",
   "nbconvert_exporter": "python",
   "pygments_lexer": "ipython3",
   "version": "3.8.11"
  }
 },
 "nbformat": 4,
 "nbformat_minor": 5
}
