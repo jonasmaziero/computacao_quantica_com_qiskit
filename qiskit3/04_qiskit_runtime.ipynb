{
 "cells": [
  {
   "cell_type": "markdown",
   "id": "dd10b2ec",
   "metadata": {},
   "source": [
    "# QiskitRuntimeService\n",
    "\n",
    "1. Primeiro passo:\n",
    "* Renova o qiskit: pip install qiskit -U\n",
    "* Renova o qiskit-ibm-runtime: pip install qiskit-ibm-runtime -U\n",
    "\n",
    "Se quer instalar ao invéz de renovar, tira o -U dos comandos.\n",
    "\n",
    "2. Segundo passo: <br>\n",
    "Tendo criado o API token, copie como abaixo para salvar sua conta na memória (disco). Depois crie a variável serviço e defina a partir dela o backend a ser usado."
   ]
  },
  {
   "cell_type": "code",
   "execution_count": 1,
   "id": "4522e274",
   "metadata": {},
   "outputs": [],
   "source": [
    "from qiskit_ibm_runtime import QiskitRuntimeService\n",
    "# Save an IBM Quantum account.\n",
    "QiskitRuntimeService.save_account(channel='ibm_quantum', \n",
    "                                  #channel='ibm_cloud', \n",
    "                                  token='17efde49764005e8eeb00dd065d44bc208778be72d44b475e508d20504818786f842988b0e506515c78debdd1b0c4b570717863db5e4f85569fb43c4c8626b8a',\n",
    "                                  overwrite=True)\n",
    "service = QiskitRuntimeService(\n",
    "    channel='ibm_quantum',\n",
    "    instance='ibm-q/open/main'\n",
    "    #instance='ibm-q-research-2/federal-uni-sant-1/main'\n",
    ")"
   ]
  },
  {
   "cell_type": "markdown",
   "id": "f90a8731",
   "metadata": {},
   "source": [
    "3. Terceiro passo\n",
    "\n",
    "Teste sua instalação e configuração."
   ]
  },
  {
   "cell_type": "code",
   "execution_count": 3,
   "id": "581e18a8",
   "metadata": {},
   "outputs": [
    {
     "name": "stderr",
     "output_type": "stream",
     "text": [
      "runtime_job._start_websocket_client:WARNING:2022-12-19 17:10:56,195: An error occurred while streaming results from the server for job cegcaf5iubo7eglqcqj0:\n",
      "Traceback (most recent call last):\n",
      "  File \"/Users/jonasmaziero/opt/anaconda3/lib/python3.8/site-packages/qiskit_ibm_runtime/runtime_job.py\", line 454, in _start_websocket_client\n",
      "    self._ws_client.job_results()\n",
      "  File \"/Users/jonasmaziero/opt/anaconda3/lib/python3.8/site-packages/qiskit_ibm_runtime/api/clients/runtime_ws.py\", line 70, in job_results\n",
      "    self.stream(url=url, retries=max_retries, backoff_factor=backoff_factor)\n",
      "  File \"/Users/jonasmaziero/opt/anaconda3/lib/python3.8/site-packages/qiskit_ibm_runtime/api/clients/base.py\", line 230, in stream\n",
      "    raise WebsocketError(error_message)\n",
      "qiskit_ibm_runtime.api.exceptions.WebsocketError: 'Max retries exceeded: Failed to establish a websocket connection.'\n",
      "\n"
     ]
    },
    {
     "name": "stdout",
     "output_type": "stream",
     "text": [
      "Hello, World!\n"
     ]
    }
   ],
   "source": [
    "program_inputs = {'iterations': 1}\n",
    "options = {\"backend_name\": \"ibmq_qasm_simulator\"}\n",
    "job = service.run(program_id=\"hello-world\",\n",
    "                  options=options,\n",
    "                  inputs=program_inputs\n",
    "                 )\n",
    "#print(f\"job id: {job.job_id()}\")\n",
    "result = job.result()\n",
    "print(result)"
   ]
  },
  {
   "cell_type": "markdown",
   "id": "810f58bb",
   "metadata": {},
   "source": [
    "4. Quarto passo\n",
    "\n",
    "Escolha um primitive para executar: Estimator ou Sampler.\n",
    "\n",
    "## Estimator\n",
    "Dado um ou mais circuitos, o Estimator calcula eficientemente, com mitigação de erros, o valor esperado de um ou mais observáveis. \n",
    "\n",
    "### Um circuito, um job\n",
    "Primeiramente, vejamos um exemplo no qual usamos o Estimator para estimar o valor esperado de um único par circuito-observável, ou seja, temos um circuito e um observável."
   ]
  },
  {
   "cell_type": "code",
   "execution_count": 4,
   "id": "2d091a8b",
   "metadata": {},
   "outputs": [],
   "source": [
    "backend = service.get_backend(\"ibmq_qasm_simulator\")"
   ]
  },
  {
   "cell_type": "code",
   "execution_count": 5,
   "id": "3c2c3aac",
   "metadata": {},
   "outputs": [
    {
     "data": {
      "image/png": "[encoded data removed]",
      "text/plain": [
       "<Figure size 146.652x144.48 with 1 Axes>"
      ]
     },
     "metadata": {},
     "output_type": "display_data"
    },
    {
     "name": "stdout",
     "output_type": "stream",
     "text": [
      " > Observable: ['IZ']\n",
      " > Expectation value: -1.0\n",
      " > Metadata: {}\n"
     ]
    }
   ],
   "source": [
    "from qiskit.circuit.random import random_circuit\n",
    "from qiskit.quantum_info import SparsePauliOp\n",
    "from qiskit.primitives import Estimator\n",
    "from qiskit import QuantumCircuit\n",
    "\n",
    "#circuit = random_circuit(2, 2, seed=1).decompose(reps=1)\n",
    "circuit = QuantumCircuit(2)\n",
    "circuit.x(0)\n",
    "circuit.draw(output='mpl')\n",
    "observable = SparsePauliOp(\"IZ\") # ordem ...210\n",
    "\n",
    "#options = {\"backend_name\": \"ibmq_qasm_simulator\"}\n",
    "estimator = Estimator()#options=options)\n",
    "job = estimator.run(circuit, observable)\n",
    "result = job.result()\n",
    "\n",
    "display(circuit.draw(\"mpl\"))\n",
    "print(f\" > Observable: {observable.paulis}\")\n",
    "print(f\" > Expectation value: {result.values[0]}\")\n",
    "print(f\" > Metadata: {result.metadata[0]}\")"
   ]
  },
  {
   "cell_type": "markdown",
   "id": "6628d516",
   "metadata": {},
   "source": [
    "### Vários circuitos, um único job"
   ]
  },
  {
   "cell_type": "code",
   "execution_count": 6,
   "id": "1bb27381",
   "metadata": {},
   "outputs": [
    {
     "data": {
      "image/png": "[encoded data removed]",
      "text/plain": [
       "<Figure size 146.652x144.48 with 1 Axes>"
      ]
     },
     "metadata": {},
     "output_type": "display_data"
    },
    {
     "data": {
      "image/png": "[encoded data removed]",
      "text/plain": [
       "<Figure size 206.852x144.48 with 1 Axes>"
      ]
     },
     "metadata": {},
     "output_type": "display_data"
    },
    {
     "name": "stdout",
     "output_type": "stream",
     "text": [
      " > Observables: [PauliList(['XZ']), PauliList(['IY'])]\n",
      " > Expectation values: [0.9999999999999998, -0.9999999999999998]\n",
      " > Metadata: [{}, {}]\n"
     ]
    }
   ],
   "source": [
    "import math\n",
    "qc1 = QuantumCircuit(2); qc2 = QuantumCircuit(2)\n",
    "qc1.h(1)\n",
    "qc2.h(0); qc2.p(-math.pi/2, 0)\n",
    "\n",
    "circuits = (\n",
    "    #random_circuit(2, 2, seed=0).decompose(reps=1),\n",
    "    #random_circuit(2, 2, seed=1).decompose(reps=1),\n",
    "    qc1, qc2\n",
    ")\n",
    "observables = (\n",
    "    SparsePauliOp(\"XZ\"),\n",
    "    SparsePauliOp(\"IY\"),\n",
    ")\n",
    "\n",
    "estimator = Estimator()\n",
    "job = estimator.run(circuits, observables)\n",
    "result = job.result()\n",
    "\n",
    "[display(cir.draw(\"mpl\")) for cir in circuits]\n",
    "print(f\" > Observables: {[obs.paulis for obs in observables]}\")\n",
    "print(f\" > Expectation values: {result.values.tolist()}\")\n",
    "print(f\" > Metadata: {result.metadata}\")"
   ]
  },
  {
   "cell_type": "markdown",
   "id": "9285e187",
   "metadata": {},
   "source": [
    "### Executar vários circuitos quânticos em paralelo"
   ]
  },
  {
   "cell_type": "code",
   "execution_count": 7,
   "id": "5aec3e15",
   "metadata": {},
   "outputs": [
    {
     "data": {
      "image/png": "[encoded data removed]",
      "text/plain": [
       "<Figure size 447.652x144.48 with 1 Axes>"
      ]
     },
     "metadata": {},
     "output_type": "display_data"
    },
    {
     "data": {
      "image/png": "[encoded data removed]",
      "text/plain": [
       "<Figure size 929.252x144.48 with 1 Axes>"
      ]
     },
     "metadata": {},
     "output_type": "display_data"
    },
    {
     "name": "stdout",
     "output_type": "stream",
     "text": [
      " > Observables: [PauliList(['XZ']), PauliList(['IY'])]\n",
      " > Expectation values [0]: 0.8534781134132173\n",
      " > Metadata [0]: {}\n",
      " > Expectation values [1]: -1.1102230246251563e-16\n",
      " > Metadata [1]: {}\n"
     ]
    }
   ],
   "source": [
    "circuits = (\n",
    "    random_circuit(2, 2, seed=0).decompose(reps=1),\n",
    "    random_circuit(2, 2, seed=1).decompose(reps=1),\n",
    ")\n",
    "observables = (\n",
    "    SparsePauliOp(\"XZ\"),\n",
    "    SparsePauliOp(\"IY\"),\n",
    ")\n",
    "\n",
    "estimator = Estimator()\n",
    "job_0 = estimator.run(circuits[0], observables[0])\n",
    "job_1 = estimator.run(circuits[1], observables[1])\n",
    "result_0 = job_0.result()\n",
    "result_1 = job_1.result()\n",
    "\n",
    "[display(cir.draw(\"mpl\")) for cir in circuits]\n",
    "print(f\" > Observables: {[obs.paulis for obs in observables]}\")\n",
    "print(f\" > Expectation values [0]: {result_0.values.tolist()[0]}\")\n",
    "print(f\" > Metadata [0]: {result_0.metadata[0]}\")\n",
    "print(f\" > Expectation values [1]: {result_1.values.tolist()[0]}\")\n",
    "print(f\" > Metadata [1]: {result_1.metadata[0]}\")"
   ]
  },
  {
   "cell_type": "markdown",
   "id": "b2ebe0f1",
   "metadata": {},
   "source": [
    "### Executando circuitos parametrizados"
   ]
  },
  {
   "cell_type": "code",
   "execution_count": 8,
   "id": "d0e5ad58",
   "metadata": {},
   "outputs": [
    {
     "data": {
      "image/png": "[encoded data removed]",
      "text/plain": [
       "<Figure size 387.452x144.48 with 1 Axes>"
      ]
     },
     "metadata": {},
     "output_type": "display_data"
    },
    {
     "name": "stdout",
     "output_type": "stream",
     "text": [
      " > Observable: ['ZI']\n",
      " > Parameter values: [0, 1, 2, 3, 4, 5]\n",
      " > Expectation value: [-0.64855684]\n",
      " > Metadata: {}\n"
     ]
    }
   ],
   "source": [
    "from qiskit.circuit.library import RealAmplitudes\n",
    "\n",
    "circuit = RealAmplitudes(num_qubits=2, reps=2).decompose(reps=1)\n",
    "observable = SparsePauliOp(\"ZI\")\n",
    "parameter_values = [0, 1, 2, 3, 4, 5]\n",
    "\n",
    "estimator = Estimator()\n",
    "job = estimator.run(circuit, observable, parameter_values)\n",
    "result = job.result()\n",
    "\n",
    "display(circuit.draw(\"mpl\"))\n",
    "print(f\" > Observable: {observable.paulis}\")\n",
    "print(f\" > Parameter values: {parameter_values}\")\n",
    "print(f\" > Expectation value: {result.values}\")\n",
    "print(f\" > Metadata: {result.metadata[0]}\")"
   ]
  },
  {
   "cell_type": "code",
   "execution_count": 9,
   "id": "f33c462b",
   "metadata": {},
   "outputs": [
    {
     "data": {
      "image/png": "[encoded data removed]",
      "text/plain": [
       "<Figure size 267.052x144.48 with 1 Axes>"
      ]
     },
     "metadata": {},
     "output_type": "display_data"
    }
   ],
   "source": [
    "circuit = RealAmplitudes(num_qubits=2, reps=1).decompose(reps=1)\n",
    "display(circuit.draw(\"mpl\"))"
   ]
  },
  {
   "cell_type": "markdown",
   "id": "5dde2110",
   "metadata": {},
   "source": [
    "### Executando nos chips reais"
   ]
  },
  {
   "cell_type": "code",
   "execution_count": 10,
   "id": "be403fcc",
   "metadata": {},
   "outputs": [
    {
     "name": "stderr",
     "output_type": "stream",
     "text": [
      "runtime_job._start_websocket_client:WARNING:2022-12-19 17:12:28,179: An error occurred while streaming results from the server for job cegcb5tiubo7eglqcseg:\n",
      "Traceback (most recent call last):\n",
      "  File \"/Users/jonasmaziero/opt/anaconda3/lib/python3.8/site-packages/qiskit_ibm_runtime/runtime_job.py\", line 454, in _start_websocket_client\n",
      "    self._ws_client.job_results()\n",
      "  File \"/Users/jonasmaziero/opt/anaconda3/lib/python3.8/site-packages/qiskit_ibm_runtime/api/clients/runtime_ws.py\", line 70, in job_results\n",
      "    self.stream(url=url, retries=max_retries, backoff_factor=backoff_factor)\n",
      "  File \"/Users/jonasmaziero/opt/anaconda3/lib/python3.8/site-packages/qiskit_ibm_runtime/api/clients/base.py\", line 230, in stream\n",
      "    raise WebsocketError(error_message)\n",
      "qiskit_ibm_runtime.api.exceptions.WebsocketError: 'Max retries exceeded: Failed to establish a websocket connection.'\n",
      "\n"
     ]
    },
    {
     "data": {
      "image/png": "[encoded data removed]",
      "text/plain": [
       "<Figure size 929.252x144.48 with 1 Axes>"
      ]
     },
     "metadata": {},
     "output_type": "display_data"
    },
    {
     "name": "stdout",
     "output_type": "stream",
     "text": [
      " > Observable: ['IY']\n",
      " > Expectation value: 0.006625000000000004\n",
      " > Metadata: {'zne': {'noise_amplification': {'noise_amplifier': \"<TwoQubitAmplifier:{'noise_factor_relative_tolerance': 0.01, 'random_seed': None, 'sub_folding_option': 'from_first'}>\", 'noise_factors': [1, 3, 5], 'values': [0.005, 0.0205, 0.0135], 'variance': [0.999975, 0.99957975, 0.99981775], 'shots': [4000, 4000, 4000]}, 'extrapolation': {'extrapolator': 'LinearExtrapolator'}}}\n"
     ]
    }
   ],
   "source": [
    "from qiskit.circuit.random import random_circuit\n",
    "from qiskit.quantum_info import SparsePauliOp\n",
    "from qiskit_ibm_runtime import QiskitRuntimeService, Session, Estimator, Options\n",
    "\n",
    "circuit = random_circuit(2, 2, seed=1).decompose(reps=1)\n",
    "observable = SparsePauliOp(\"IY\")\n",
    "\n",
    "options = Options()\n",
    "options.optimization_level = 2\n",
    "options.resilience_level = 2\n",
    "\n",
    "service = QiskitRuntimeService()\n",
    "with Session(service=service, backend=\"ibmq_qasm_simulator\") as session:\n",
    "    estimator = Estimator(session=session, options=options)\n",
    "    job = estimator.run(circuit, observable)\n",
    "\n",
    "result = job.result()\n",
    "\n",
    "display(circuit.draw(\"mpl\"))\n",
    "print(f\" > Observable: {observable.paulis}\")\n",
    "print(f\" > Expectation value: {result.values[0]}\")\n",
    "print(f\" > Metadata: {result.metadata[0]}\")"
   ]
  },
  {
   "cell_type": "code",
   "execution_count": null,
   "id": "74ec9595",
   "metadata": {},
   "outputs": [],
   "source": [
    "from qiskit.circuit.random import random_circuit\n",
    "from qiskit.quantum_info import SparsePauliOp\n",
    "from qiskit_ibm_runtime import QiskitRuntimeService, Session, Estimator, Options\n",
    "\n",
    "circuit = random_circuit(2, 2, seed=1).decompose(reps=1)\n",
    "observable = SparsePauliOp(\"IY\")\n",
    "\n",
    "options = Options()\n",
    "options.optimization_level = 2\n",
    "options.resilience_level = 2\n",
    "\n",
    "service = QiskitRuntimeService()\n",
    "with Session(service=service, backend=\"ibmq_belem\") as session:\n",
    "    estimator = Estimator(session=session, options=options)\n",
    "    job = estimator.run(circuit, observable)\n",
    "\n",
    "result = job.result()\n",
    "\n",
    "display(circuit.draw(\"mpl\"))\n",
    "print(f\" > Observable: {observable.paulis}\")\n",
    "print(f\" > Expectation value: {result.values[0]}\")\n",
    "print(f\" > Metadata: {result.metadata[0]}\")"
   ]
  },
  {
   "cell_type": "code",
   "execution_count": 101,
   "id": "585001c5",
   "metadata": {
    "scrolled": true
   },
   "outputs": [
    {
     "data": {
      "image/png": "[encoded data removed]",
      "text/plain": [
       "<Figure size 929.252x144.48 with 1 Axes>"
      ]
     },
     "metadata": {},
     "output_type": "display_data"
    },
    {
     "name": "stdout",
     "output_type": "stream",
     "text": [
      " > Observable: ['IY']\n",
      " > Expectation value: -1.1102230246251563e-16\n",
      " > Metadata: {}\n"
     ]
    }
   ],
   "source": [
    "from qiskit_ibm_runtime import Session, Options\n",
    "\n",
    "circuit = random_circuit(2, 2, seed=1).decompose(reps=1)\n",
    "observable = SparsePauliOp(\"IY\")\n",
    "\n",
    "options = Options()\n",
    "options.optimization_level = 2\n",
    "options.resilience_level = 2\n",
    "\n",
    "service = QiskitRuntimeService()\n",
    "backend = service.get_backend(\"ibmq_belem\")\n",
    "with Session(service=service, backend=backend):\n",
    "    estimator = Estimator()\n",
    "    job = estimator.run(circuit, observable)\n",
    "\n",
    "result = job.result()\n",
    "\n",
    "display(circuit.draw(\"mpl\"))\n",
    "print(f\" > Observable: {observable.paulis}\")\n",
    "print(f\" > Expectation value: {result.values[0]}\")\n",
    "print(f\" > Metadata: {result.metadata[0]}\")"
   ]
  },
  {
   "cell_type": "markdown",
   "id": "dd2ff3e7",
   "metadata": {},
   "source": [
    "## Sampler\n",
    "\n",
    "O primitive Sampler gera distribuições de quasi-probabilidades a partir de um circuito quântico definido.\n",
    "\n",
    "Começamos com um único circuito quântico."
   ]
  },
  {
   "cell_type": "code",
   "execution_count": null,
   "id": "3a9b5312",
   "metadata": {},
   "outputs": [],
   "source": [
    "from qiskit.circuit.random import random_circuit\n",
    "from qiskit.primitives import Sampler\n",
    "\n",
    "circuit = random_circuit(2, 2, seed=1).decompose(reps=1)\n",
    "circuit.measure_all()\n",
    "\n",
    "sampler = Sampler()\n",
    "job = sampler.run(circuit)\n",
    "result = job.result()\n",
    "\n",
    "display(circuit.draw(\"mpl\"))\n",
    "print(f\" > Quasi probability distribution: {result.quasi_dists[0]}\")\n",
    "#print(f\" > Metadata: {result.metadata[0]}\")\n",
    "#print(result.quasi_dists,result.quasi_dists[0][1])\n",
    "print(result.quasi_dists[0][0]+result.quasi_dists[0][1]+result.quasi_dists[0][2]+result.quasi_dists[0][3])"
   ]
  },
  {
   "cell_type": "markdown",
   "id": "5467c7bf",
   "metadata": {},
   "source": [
    "Executando múltiplos experimentos em um único job."
   ]
  },
  {
   "cell_type": "code",
   "execution_count": 110,
   "id": "18b1106e",
   "metadata": {},
   "outputs": [
    {
     "data": {
      "image/png": "[encoded data removed]",
      "text/plain": [
       "<Figure size 658.679x204.68 with 1 Axes>"
      ]
     },
     "metadata": {},
     "output_type": "display_data"
    },
    {
     "data": {
      "image/png": "[encoded data removed]",
      "text/plain": [
       "<Figure size 1140.28x204.68 with 1 Axes>"
      ]
     },
     "metadata": {},
     "output_type": "display_data"
    },
    {
     "name": "stdout",
     "output_type": "stream",
     "text": [
      " > Quasi probability distributions: [{0: 0.4999999999999999, 1: 0.0, 2: 0.4999999999999998, 3: 0.0}, {0: 0.9999999999999996, 1: 3.087157319438412e-33, 2: 0.0, 3: 0.0}]\n",
      " > Metadata: [{}, {}]\n"
     ]
    }
   ],
   "source": [
    "from qiskit.circuit.random import random_circuit\n",
    "from qiskit.primitives import Sampler\n",
    "\n",
    "circuits = (\n",
    "random_circuit(2, 2, seed=0).decompose(reps=1),\n",
    "random_circuit(2, 2, seed=1).decompose(reps=1),\n",
    ")\n",
    "[c.measure_all() for c in circuits]\n",
    "\n",
    "sampler = Sampler()\n",
    "job = sampler.run(circuits)\n",
    "result = job.result()\n",
    "\n",
    "[display(cir.draw(\"mpl\")) for cir in circuits]\n",
    "print(f\" > Quasi probability distributions: {result.quasi_dists}\")\n",
    "#print(f\" > Metadata: {result.metadata}\")"
   ]
  },
  {
   "cell_type": "markdown",
   "id": "781ba745",
   "metadata": {},
   "source": [
    "Executando circuitos parametrizados."
   ]
  },
  {
   "cell_type": "code",
   "execution_count": 113,
   "id": "41d4db9f",
   "metadata": {},
   "outputs": [
    {
     "data": {
      "image/png": "[encoded data removed]",
      "text/plain": [
       "<Figure size 598.479x204.68 with 1 Axes>"
      ]
     },
     "metadata": {},
     "output_type": "display_data"
    },
    {
     "name": "stdout",
     "output_type": "stream",
     "text": [
      " > Parameter values: [0, 1, 2, 3, 4, 5]\n",
      " > Quasi probability distribution: {0: 0.1715845100481531, 1: 0.0041370682135240654, 2: 0.2040212941849271, 3: 0.6202571275533961}\n",
      " > Metadata: {}\n"
     ]
    }
   ],
   "source": [
    "from qiskit.circuit.library import RealAmplitudes\n",
    "# RealAmplitudes is one way to generate a parametrized circuit\n",
    "from qiskit.primitives import Sampler\n",
    "\n",
    "circuit = RealAmplitudes(num_qubits=2, reps=2).decompose(reps=1)\n",
    "circuit.measure_all()\n",
    "parameter_values = [0, 1, 2, 3, 4, 5]\n",
    "\n",
    "sampler = Sampler()\n",
    "job = sampler.run(circuit, parameter_values)\n",
    "result = job.result()\n",
    "\n",
    "display(circuit.draw(\"mpl\"))\n",
    "print(f\" > Parameter values: {parameter_values}\")\n",
    "print(f\" > Quasi probability distribution: {result.quasi_dists[0]}\")\n",
    "print(f\" > Metadata: {result.metadata[0]}\")"
   ]
  },
  {
   "cell_type": "markdown",
   "id": "53060a6c",
   "metadata": {},
   "source": [
    "Executando no chip real."
   ]
  },
  {
   "cell_type": "code",
   "execution_count": 52,
   "id": "e2a079ae",
   "metadata": {},
   "outputs": [
    {
     "data": {
      "image/png": "[encoded data removed]",
      "text/plain": [
       "<Figure size 417.879x204.68 with 1 Axes>"
      ]
     },
     "metadata": {},
     "output_type": "display_data"
    },
    {
     "name": "stdout",
     "output_type": "stream",
     "text": [
      " > Quasi probability distribution: {3: 1.0}\n",
      " > Metadata: {'header_metadata': {}, 'shots': 4000, 'readout_mitigation_overhead': 1.0, 'readout_mitigation_time': 0.009805227629840374}\n"
     ]
    }
   ],
   "source": [
    "from qiskit.circuit.random import random_circuit\n",
    "from qiskit_ibm_runtime import QiskitRuntimeService, Session, Sampler, Options\n",
    "backend = service.get_backend(\"ibmq_qasm_simulator\")\n",
    "\n",
    "circuit = random_circuit(2, 2, seed=2).decompose(reps=1)\n",
    "circuit.measure_all()\n",
    "\n",
    "options = Options()\n",
    "options.optimization_level = 2\n",
    "options.resilience_level = 0\n",
    "\n",
    "service = QiskitRuntimeService()\n",
    "with Session(service=service, backend=backend):\n",
    "    sampler = Sampler()\n",
    "    job = sampler.run(circuit)\n",
    "\n",
    "result = job.result()\n",
    "\n",
    "display(circuit.draw(\"mpl\"))\n",
    "print(f\" > Quasi probability distribution: {result.quasi_dists[0]}\")\n",
    "print(f\" > Metadata: {result.metadata[0]}\")"
   ]
  },
  {
   "cell_type": "code",
   "execution_count": null,
   "id": "105163a8",
   "metadata": {},
   "outputs": [
    {
     "name": "stdout",
     "output_type": "stream",
     "text": [
      "cdtrum89dr0di7m6u73g\n"
     ]
    }
   ],
   "source": [
    "from qiskit.circuit.random import random_circuit\n",
    "from qiskit_ibm_runtime import QiskitRuntimeService, Session, Sampler, Options\n",
    "backend = service.get_backend(\"ibmq_quito\")\n",
    "\n",
    "circuit = random_circuit(2, 2, seed=2).decompose(reps=1)\n",
    "circuit.measure_all()\n",
    "\n",
    "options = Options()\n",
    "options.optimization_level = 2\n",
    "options.resilience_level = 0\n",
    "\n",
    "service = QiskitRuntimeService()\n",
    "with Session(service=service, backend=backend):\n",
    "    sampler = Sampler()\n",
    "    job = sampler.run(circuit)\n",
    "    print(job.job_id())\n",
    "\n",
    "result = job.result()\n",
    "\n",
    "display(circuit.draw(\"mpl\"))\n",
    "print(f\" > Quasi probability distribution: {result.quasi_dists[0]}\")\n",
    "print(f\" > Metadata: {result.metadata[0]}\")"
   ]
  },
  {
   "cell_type": "markdown",
   "id": "47ba34eb",
   "metadata": {},
   "source": [
    "### Referências\n",
    "\n",
    "1. https://qiskit.org/documentation/partners/qiskit_ibm_runtime/\n",
    "\n",
    "2. https://quantum-computing.ibm.com/services/programs/docs/runtime/programs/start\n",
    "\n",
    "3. https://quantum-computing.ibm.com/services/programs/primitives?program=estimator\n",
    "\n",
    "4. https://youtu.be/gSK3XRuLKB4\n",
    "\n",
    "5. https://quantum-computing.ibm.com/services/programs/primitives?tab=estimator\n",
    "\n",
    "6. https://quantum-computing.ibm.com/services/programs/primitives?program=sampler\n",
    "\n",
    "A princípio, esses o Estimator e Sampler nos permitem executar programas com maior eficiência. No entanto, existem limites tanto para o tempo de execução quanto para os tamanhos dos programas enviados e para os dados de entrada:\n",
    "\n",
    "7. https://qiskit.org/documentation/partners/qiskit_ibm_runtime/faqs/max_execution_time.html\n",
    "\n",
    "8. https://youtu.be/b9mdMye-iVk\n",
    "\n",
    "9. Blog post: So, what is Qiskit Runtime, Anyway? https://medium.com/qiskit/so-what-is-qiskit-runtime-anyway-c78aecf3742"
   ]
  },
  {
   "cell_type": "code",
   "execution_count": null,
   "id": "52e15eee",
   "metadata": {},
   "outputs": [],
   "source": []
  }
 ],
 "metadata": {
  "kernelspec": {
   "display_name": "Python 3 (ipykernel)",
   "language": "python",
   "name": "python3"
  },
  "language_info": {
   "codemirror_mode": {
    "name": "ipython",
    "version": 3
   },
   "file_extension": ".py",
   "mimetype": "text/x-python",
   "name": "python",
   "nbconvert_exporter": "python",
   "pygments_lexer": "ipython3",
   "version": "3.8.8"
  }
 },
 "nbformat": 4,
 "nbformat_minor": 5
}
