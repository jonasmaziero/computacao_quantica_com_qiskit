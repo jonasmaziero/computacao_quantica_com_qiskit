{
 "cells": [
  {
   "cell_type": "markdown",
   "id": "dcddfbf2",
   "metadata": {
    "tags": []
   },
   "source": [
    "# Igualdade de Jarzynski (IJ)\n",
    "\n",
    "Considere um sistema quântico preparado em $t=0$ no estado térmico de Gibbs\n",
    "$$\\rho_0 = Z_0^{-1} e^{-\\beta H_0},$$\n",
    "em que \n",
    "$$\\beta=\\frac{1}{k_B T}$$\n",
    "e $H_0$ é o hamiltoniano do sistema em $t=0$. Considerando que\n",
    "$$H_0|\\epsilon^0_m \\rangle = \\epsilon^0_m |\\epsilon^0_m \\rangle,$$\n",
    "com $m=1,\\cdots,\\dim\\mathcal{H}$, se fazemos uma medida da energia em $t=0$, tirando o sistema do estado de equilíbrio térmico, obteremos o resultado $\\epsilon^0_m$ com probabilidade\n",
    "$$Pr(\\epsilon^0_m|\\rho_0) = Tr(|\\epsilon^0_m\\rangle\\langle \\epsilon^0_m|\\rho_0) = Z_0^{-1} e^{-\\beta \\epsilon^0_m}.$$\n",
    " \n",
    "Imediatamente depois da medida de $H_0$, uma vez obtido o resultado $\\epsilon^0_m$, consideramos que esse sistema evolui por um tempo $\\tau$ sob a ação de um canal quântico qualquer\n",
    "$$\\rho_\\tau = \\Lambda(|\\epsilon^0_m \\rangle) = \\sum_j K_j |\\epsilon^0_m \\rangle\\langle\\epsilon^0_m | K_j^\\dagger,$$\n",
    "com $\\sum_j K_j^\\dagger K_j = \\mathbb{I}.$ Se \n",
    "$$\\sum_j K_j K_j^\\dagger = \\mathbb{I}$$\n",
    "o canal é dito __unital__, pois preserva a identidade:\n",
    "$$\\Lambda(\\mathbb{I}/d) = d^{-1}\\sum_j K_j \\mathbb{I} K_j^\\dagger = d^{-1}\\sum_j K_j K_j^\\dagger = d^{-1}\\mathbb{I}.$$\n",
    "OBS. O canal de Pauli é unital, assim como o canal dephasing. Por outro lado, o canal de amplitude damping (generalizado) não é unital."
   ]
  },
  {
   "cell_type": "markdown",
   "id": "6608258f-7762-4c66-833d-888371f395ab",
   "metadata": {},
   "source": [
    "Vamos considerar que o hamiltoniano do sistema no tempo $\\tau$ é $H_\\tau$ com\n",
    "$$H_\\tau|\\epsilon_n^\\tau \\rangle = \\epsilon_n^\\tau|\\epsilon_n^\\tau \\rangle.$$\n",
    "Se medimos a energia em $t=\\tau$, a probabilidade de obtermos o valor $\\epsilon_n^\\tau$ é\n",
    "\\begin{align}\n",
    "Pr(\\epsilon_n^\\tau|\\rho_\\tau) & = Tr(|\\epsilon_n^\\tau\\rangle\\langle \\epsilon_n^\\tau|\\rho_\\tau) \\\\\n",
    "& = \\langle \\epsilon_n^\\tau|\\rho_\\tau|\\epsilon_n^\\tau\\rangle \\\\\n",
    "& = \\langle \\epsilon_n^\\tau|\\Lambda(|\\epsilon_m^0\\rangle)|\\epsilon_n^\\tau\\rangle.\n",
    "\\end{align}\n",
    "\n",
    "O Trabalho feito pelo ou sobre o sistema, devido à ação do canal quântico $\\Lambda$, é igual à variação da energia do sistema\n",
    "$$W_{n,m} = \\epsilon_n^\\tau - \\epsilon_m^0,$$\n",
    "que a princípio é uma variável aleatória, uma vez que o sistema é quântico e o estado $\\rho_\\tau$ pode ter coerência em relação a base $\\{|\\epsilon_n^\\tau\\rangle\\}$.\n",
    "Seja\n",
    "$$Pr(\\epsilon_m^0,\\epsilon_n^\\tau)$$\n",
    "a probabilidade conjunta de obtermos as energias $\\epsilon_m^0$ e $\\epsilon_n^\\tau$ na sequência de medidas, podemos escrever a densidade de probabilidade do valor $W$ do trabalho como\n",
    "\\begin{align}\n",
    "Pr(W) = \\sum_{m,n}Pr(\\epsilon_m^0,\\epsilon_n^\\tau)\\delta(W-W_{n,m})),\n",
    "\\end{align}\n",
    "pois estaremos somando sobre todos os pares de estados inicial (pós 1ª medida), $|\\epsilon_m^0\\rangle$, e final (pós 2ª medida), $|\\epsilon_n^\\tau\\rangle$, para os quais $W=\\epsilon_n^\\tau - \\epsilon_m^0$."
   ]
  },
  {
   "cell_type": "markdown",
   "id": "cfe2b4bc-fdc5-429a-be58-d421f31d5842",
   "metadata": {},
   "source": [
    "Dito isto, agora podemos considerar funções de $W$. Por exemplo, podemos considerar\n",
    "\\begin{align}\n",
    "\\langle e^{-\\beta W}\\rangle & = \\int dW Pr(W)e^{-\\beta W} \\\\\n",
    "& = \\int dW \\sum_{m,n}Pr(\\epsilon_m^0,\\epsilon_n^\\tau)\\delta(W-W_{n,m}))e^{-\\beta W} \\\\\n",
    "& = \\sum_{m,n}Pr(\\epsilon_m^0,\\epsilon_n^\\tau)\\int dW \\delta(W-W_{n,m}))e^{-\\beta W} \\\\\n",
    "& = \\sum_{m,n}Pr(\\epsilon_m^0)Pr(\\epsilon_n^\\tau|\\epsilon_m^0)e^{-\\beta W_{n,m}} \\\\\n",
    "& = \\sum_{m,n}Z_0^{-1}e^{-\\beta\\epsilon_m^0}Pr(\\epsilon_n^\\tau|\\rho_\\tau)e^{-\\beta (\\epsilon_n^\\tau-\\epsilon_m^0)} \\\\\n",
    "& = Z_0^{-1}\\sum_{m,n}\\langle \\epsilon_n^\\tau|\\Lambda(|\\epsilon_m^0\\rangle)|\\epsilon_n^\\tau\\rangle e^{-\\beta \\epsilon_n^\\tau} \\\\\n",
    "& = Z_0^{-1}\\sum_{n}e^{-\\beta \\epsilon_n^\\tau}\\langle \\epsilon_n^\\tau|\\sum_m \\Lambda(|\\epsilon_m^0\\rangle)|\\epsilon_n^\\tau\\rangle \\\\\n",
    "& = Z_0^{-1}\\sum_{n}e^{-\\beta \\epsilon_n^\\tau}\\langle \\epsilon_n^\\tau| \\Lambda(\\sum_m|\\epsilon_m^0\\rangle\\langle \\epsilon_m^0|)|\\epsilon_n^\\tau\\rangle \\\\\n",
    "& = Z_0^{-1}\\sum_{n}e^{-\\beta \\epsilon_n^\\tau}\\langle \\epsilon_n^\\tau| \\Lambda(\\mathbb{I})|\\epsilon_n^\\tau\\rangle,\n",
    "\\end{align}"
   ]
  },
  {
   "cell_type": "markdown",
   "id": "753e507d-e1ed-4978-8c02-f986a2fe49ca",
   "metadata": {},
   "source": [
    "em que usamos que para uma base ortonormal $|m\\rangle$ temos que\n",
    "\\begin{align}\n",
    "\\sum_m \\Lambda(|m\\rangle) & = \\sum_m \\sum_j K_j |m\\rangle\\langle m| K_j^\\dagger \\\\\n",
    "& =  \\sum_j K_j \\big(\\sum_m|m\\rangle\\langle m|) K_j^\\dagger \\\\\n",
    "& = \\sum_j K_j \\mathbb{I} K_j^\\dagger = \\sum_j K_j K_j^\\dagger \\\\\n",
    "& = \\Lambda(\\mathbb{I}),\n",
    "\\end{align}\n",
    "se o canal quântico $\\Lambda$ for __unital__,\n",
    "e em particular se a operação quântica $\\Lambda$ é uma __mapa unitário__. Com isso, temos que\n",
    "$$\\Lambda(\\mathbb{I}) = U\\mathbb{I}U^\\dagger = UU^\\dagger = \\mathbb{I}.$$\n",
    "Assim\n",
    "\\begin{align}\n",
    "\\langle e^{-\\beta W}\\rangle & = Z_0^{-1}\\sum_{n}e^{-\\beta \\epsilon_n^\\tau}\\langle \\epsilon_n^\\tau| \\Lambda(\\mathbb{I})|\\epsilon_n^\\tau\\rangle \\\\\n",
    "& = Z_0^{-1}\\sum_{n}e^{-\\beta \\epsilon_n^\\tau}\\langle \\epsilon_n^\\tau|\\mathbb{I}|\\epsilon_n^\\tau\\rangle \\\\\n",
    "& = Z_0^{-1}\\sum_{n}e^{-\\beta \\epsilon_n^\\tau} \\\\\n",
    "& = Z_0^{-1}Z_\\tau.\n",
    "\\end{align}\n",
    "OBS. Essa igualdade é obtida para qualquer operação quântica __unital__, $\\Lambda(\\mathbb{I})=\\mathbb{I}.$"
   ]
  },
  {
   "cell_type": "markdown",
   "id": "df750542-aa95-44ae-8556-11f0a47dca8c",
   "metadata": {},
   "source": [
    "A energia livre de Gibbs é definida como\n",
    "$$F := -\\beta^{-1}\\ln Z.$$\n",
    "Com isso, temos que\n",
    "\\begin{align}\n",
    "e^{-\\beta\\Delta F} & = e^{-\\beta(F_\\tau - F_0)} \\\\\n",
    "& = e^{-\\beta(-\\beta^{-1}\\ln Z_\\tau + \\beta^{-1}\\ln Z_0)} \\\\\n",
    "& = e^{\\ln Z_\\tau - \\ln Z_0} \\\\\n",
    "& = e^{\\ln(Z_\\tau/Z_0)} \\\\\n",
    "& = Z_\\tau/Z_0.\n",
    "\\end{align}\n",
    "\n",
    "Portanto, para canais unitais, em particular para operações unitárias, obtemos a __igualdade de Jarzynski__ (IJ):\n",
    "$$\\langle e^{-\\beta W}\\rangle = e^{-\\beta\\Delta F}.$$\n",
    "Com isso, relacionamos propriedades de estados de equilíbrio térmico, $\\Delta F$, com propriedades envolvidas no processo fora do equilíbrio que é usado para levar o sistema de um estado de equilíbrio para outro. \n",
    "\n",
    "Vale observar que faz sentido falar de energia livre de Gibbs do estado inicial $\\rho_0$, que é um estado térmico, mas não do estado obtido na medida de $H_\\tau$ (para o sistema previamente preparado no estado $\\rho_\\tau)$. Por isso, consideramos que, depois da medida de $H_\\tau$, o sistema termaliza com esse mesmo hamiltoniano, ou seja, o sistema vai para o estado\n",
    "$$|\\epsilon_n^\\tau\\rangle\\ \\rightarrow\\ Z_\\tau^{-1}e^{-\\beta H_\\tau}.$$"
   ]
  },
  {
   "cell_type": "markdown",
   "id": "78e64c2a-75cf-4f55-a64c-b200524114d8",
   "metadata": {},
   "source": [
    "## 2ª lei da termodinâmica a partir da IJ\n",
    "Verifiquemos que a exponencial é uma função convexa. Ou seja, para $0\\le t\\le 1$ e $a<b$, teremos que\n",
    "\\begin{align}\n",
    "& e^{ta+(1-t)b} = e^{ta}e^{(1-t)b} \\le te^{a}+(1-t)e^{b} \\ ? \\\\\n",
    "&\\therefore\\ x^t y^{1-t} \\le tx+(1-t)y\\ ? \\\\\n",
    "&\\therefore\\  x^t y^{-t}y y^{-1} \\le txy^{-1}+(1-t)yy^{-1}\\ ? \\\\\n",
    "&\\therefore\\  r^t \\le tr+(1-t)\\ ? \\\\\n",
    "&\\therefore\\  t-tr \\le 1-r^t\\ ? \\\\\n",
    "&\\therefore\\ t\\le\\frac{1-r^t}{1-r}\\ (\\text{ está verificado graficamente abaixo})\n",
    "\\end{align}\n",
    "em que definimos\n",
    "$$x:=e^a ,\\ y:=e^b ,\\ r=xy^{-1},\\ 0<x<y,\\ 0<r<1.$$\n"
   ]
  },
  {
   "cell_type": "code",
   "execution_count": 1,
   "id": "adc0205b-3f0f-4fc9-97f7-1896e58ef0a1",
   "metadata": {},
   "outputs": [],
   "source": [
    "%run init.ipynb"
   ]
  },
  {
   "cell_type": "code",
   "execution_count": 2,
   "id": "6363cc1b-4c3a-419b-a3ac-846fff5e3803",
   "metadata": {},
   "outputs": [],
   "source": [
    "def pf(t,r):\n",
    "    f = (1-r**t)/(1-r) - t\n",
    "    return f"
   ]
  },
  {
   "cell_type": "code",
   "execution_count": 3,
   "id": "931225ec-4589-432d-a960-a8a976ba054c",
   "metadata": {},
   "outputs": [
    {
     "data": {
      "application/vnd.jupyter.widget-view+json": {
       "model_id": "432a0bd2bdff438a8a147c11e16953c0",
       "version_major": 2,
       "version_minor": 0
      },
      "text/plain": [
       "interactive(children=(IntSlider(value=40, description='th', max=90, step=10), IntSlider(value=180, description…"
      ]
     },
     "metadata": {},
     "output_type": "display_data"
    }
   ],
   "source": [
    "from mpl_toolkits import mplot3d\n",
    "def pf_3d(th,ph):\n",
    "    import matplotlib\n",
    "    matplotlib.rcParams.update({'font.size':12}); \n",
    "    #plt.figure(figsize = (6,4,4), dpi = 100)\n",
    "    x = np.linspace(0, 1, 20)\n",
    "    y = np.linspace(0, 1, 20) \n",
    "    X, Y = np.meshgrid(x, y)\n",
    "    Z = pf(X,Y)\n",
    "    fig = plt.figure(); \n",
    "    ax = plt.axes(projection=\"3d\")\n",
    "    ax.plot_wireframe(X, Y, Z, color='blue')\n",
    "    ax.set_xlabel(r'$\\lambda$')\n",
    "    ax.set_ylabel(r'$t$'); ax.set_zlabel(r'$r$')\n",
    "    ax.view_init(th, ph)\n",
    "    fig.tight_layout()\n",
    "    plt.show()\n",
    "interactive(pf_3d, th = (0,90,10), ph = (0,360,10))"
   ]
  },
  {
   "cell_type": "markdown",
   "id": "181d8ded-ad90-4d5c-ae5c-ddbc307da8d9",
   "metadata": {},
   "source": [
    "A convexidade da exponencial implica que\n",
    "\\begin{align}\n",
    "& e^{-\\beta\\Delta F} = \\langle e^{-\\beta W}\\rangle \\ge e^{\\langle-\\beta W\\rangle} = e^{-\\beta\\langle W\\rangle} \\\\\n",
    "& \\therefore\\ \\ln e^{-\\beta\\Delta F} \\ge \\ln e^{-\\beta\\langle W\\rangle} \\\\\n",
    "& \\therefore\\ -\\beta\\Delta F \\ge -\\beta\\langle W\\rangle \\\\\n",
    "& \\therefore\\ \\Delta F \\le \\langle W\\rangle,\n",
    "\\end{align}\n",
    "que é a 2ª lei da termodinâmica.\n",
    "\n",
    "Se incluímos o trabalho dissipado, tornamos essa equação em uma igualdade:\n",
    "$$W_{diss} = \\langle W\\rangle - \\Delta F \\ \\therefore\\ \\langle W\\rangle = W_{diss} + \\Delta F.$$"
   ]
  },
  {
   "cell_type": "markdown",
   "id": "3dc8b4ad-283d-4f79-a9b8-ef74a111546c",
   "metadata": {},
   "source": [
    "# Igualdade de Jarzynski e relatividade"
   ]
  },
  {
   "cell_type": "markdown",
   "id": "0cf95c7f-7ee6-4f0c-bc79-d42bd6fe0f76",
   "metadata": {},
   "source": [
    "Considera o oscilador harmônico quântico:\n",
    "$$\\epsilon_m = \\hbar\\omega(m+1/2).$$\n",
    "Usando $\\sum_{j=0}^\\infty x^j = 1/(1-x)$ para $-1<x<1$, teremos que\n",
    "\\begin{align}\n",
    "\\beta\\Delta F & = \\beta(F_\\tau - F_0) \\\\\n",
    "& = \\beta\\big(-\\beta^{-1}\\ln Z_\\tau + \\beta^{-1}\\ln Z_0\\big) \\\\\n",
    "& = -\\ln \\sum_{m=0}^{\\infty}e^{-\\beta\\epsilon_m^\\tau} + \\ln \\sum_{m=0}^{\\infty}e^{-\\beta\\epsilon_m^0} \\\\\n",
    "& = -\\ln \\sum_{m=0}^{\\infty}e^{-\\beta\\epsilon_m^0\\frac{d\\tau}{d t}} + \\ln \\sum_{m=0}^{\\infty}e^{-\\beta\\epsilon_m^0} \\\\\n",
    "& = -\\ln \\sum_{m=0}^{\\infty}e^{-\\beta\\hbar\\omega(m+1/2)\\frac{d\\tau}{d t}} + \\ln \\sum_{m=0}^{\\infty}e^{-\\beta\\hbar\\omega(m+1/2)} \\\\\n",
    "& = -\\ln \\sum_{m=0}^{\\infty}e^{-\\beta 2^{-1}\\hbar\\omega\\frac{d\\tau}{d t}}e^{-\\beta\\hbar\\omega m\\frac{d\\tau}{d t}} + \\ln \\sum_{m=0}^{\\infty}e^{-\\beta 2^{-1}\\hbar\\omega}e^{-\\beta\\hbar\\omega m} \\\\\n",
    "& = -\\ln e^{-\\beta 2^{-1}\\hbar\\omega\\frac{d\\tau}{d t}}\\sum_{m=0}^{\\infty}e^{-\\beta\\hbar\\omega m\\frac{d\\tau}{d t}} + \\ln e^{-\\beta 2^{-1}\\hbar\\omega}\\sum_{m=0}^{\\infty}e^{-\\beta\\hbar\\omega m}  \\\\\n",
    "& = -\\ln e^{-\\beta 2^{-1}\\hbar\\omega\\frac{d\\tau}{d t}} -\\ln\\big(1-e^{-\\beta\\hbar\\omega \\frac{d\\tau}{d t}}\\big)^{-1} + \\ln e^{-\\beta 2^{-1}\\hbar\\omega} + \\ln\\big(1-e^{-\\beta\\hbar\\omega}\\big)^{-1}  \\\\\n",
    "& = \\beta 2^{-1}\\hbar\\omega\\frac{d\\tau}{d t} + \\ln\\big(1-e^{-\\beta\\hbar\\omega \\frac{d\\tau}{d t}}\\big) -\\beta 2^{-1}\\hbar\\omega - \\ln\\big(1-e^{-\\beta\\hbar\\omega}\\big)  \\\\\n",
    "& = \\frac{\\beta\\hbar\\omega}{2}\\Big(\\frac{d\\tau}{d t}-1\\Big) + \\ln\\frac{1-e^{-\\beta\\hbar\\omega \\frac{d\\tau}{d t}}}{1-e^{-\\beta\\hbar\\omega}}  \\\\\n",
    "& = \\frac{\\beta\\hbar\\omega}{2}\\Big(\\frac{d\\tau}{d t}-1\\Big) + \\ln\\frac{e^{-\\frac{\\beta\\hbar\\omega}{2} \\frac{d\\tau}{d t}}}{e^{-\\frac{\\beta\\hbar\\omega}{2}}}\\frac{\\Big(e^{\\frac{\\beta\\hbar\\omega}{2} \\frac{d\\tau}{d t}}-e^{-\\frac{\\beta\\hbar\\omega}{2} \\frac{d\\tau}{d t}}\\Big)/2}{\\Big(e^{\\frac{\\beta\\hbar\\omega}{2}}-e^{-\\frac{\\beta\\hbar\\omega}{2}}\\Big)/2}  \\\\\n",
    "& = \\frac{\\beta\\hbar\\omega}{2}\\Big(\\frac{d\\tau}{d t}-1\\Big) + \\ln\\frac{e^{-\\frac{\\beta\\hbar\\omega}{2} \\frac{d\\tau}{d t}}}{e^{-\\frac{\\beta\\hbar\\omega}{2}}} + \\ln\\frac{\\sinh\\frac{\\beta\\hbar\\omega}{2}\\frac{d\\tau}{d t}}{\\sinh\\frac{\\beta\\hbar\\omega}{2}} \\\\\n",
    "& = \\frac{\\beta\\hbar\\omega}{2}\\Big(\\frac{d\\tau}{d t}-1\\Big) -\\frac{\\beta\\hbar\\omega}{2} \\frac{d\\tau}{d t} +\\frac{\\beta\\hbar\\omega}{2} + \\ln\\frac{\\sinh\\frac{\\beta\\hbar\\omega}{2}\\frac{d\\tau}{d t}}{\\sinh\\frac{\\beta\\hbar\\omega}{2}} \\\\\n",
    "& = \\ln\\frac{\\sinh\\frac{\\beta\\hbar\\omega}{2}\\frac{d\\tau}{d t}}{\\sinh\\frac{\\beta\\hbar\\omega}{2}}.\n",
    "\\end{align}"
   ]
  },
  {
   "cell_type": "code",
   "execution_count": 21,
   "id": "2d587a08-1a80-4e81-b438-23dc5aded435",
   "metadata": {},
   "outputs": [
    {
     "data": {
      "image/png": "[encoded data removed]",
      "text/plain": [
       "<Figure size 640x480 with 1 Axes>"
      ]
     },
     "metadata": {},
     "output_type": "display_data"
    }
   ],
   "source": [
    "import numpy as np\n",
    "import math\n",
    "from matplotlib import pyplot as plt\n",
    "x = np.arange(0.1,5,0.1) # d tau/dt\n",
    "y = np.log(np.sinh(x/2)/math.sinh(1/2)) #faz beta*hbat*omega/2 = 1\n",
    "plt.plot(x,y)\n",
    "plt.show()"
   ]
  },
  {
   "cell_type": "code",
   "execution_count": 18,
   "id": "929c8b0c-e33e-4bc1-9dfe-a7853f9ce81f",
   "metadata": {},
   "outputs": [
    {
     "data": {
      "image/png": "[encoded data removed]",
      "text/plain": [
       "<Figure size 640x480 with 1 Axes>"
      ]
     },
     "metadata": {},
     "output_type": "display_data"
    }
   ],
   "source": [
    "x = np.arange(0,10,0.1) # x = hb*omega, kT=1\n",
    "y1 = np.exp(-x) # dtau/dt = 1\n",
    "y2 = np.exp(-0.5*x) # dtau/dt = 0.5\n",
    "y3 = np.exp(-1.5*x) # dtau/dt = 1.5\n",
    "plt.plot(x,y1,label='1')\n",
    "plt.plot(x,y2,label='0.5')\n",
    "plt.plot(x,y3,label='1.5')\n",
    "plt.legend()\n",
    "plt.show()"
   ]
  }
 ],
 "metadata": {
  "kernelspec": {
   "display_name": "Python 3 (ipykernel)",
   "language": "python",
   "name": "python3"
  },
  "language_info": {
   "codemirror_mode": {
    "name": "ipython",
    "version": 3
   },
   "file_extension": ".py",
   "mimetype": "text/x-python",
   "name": "python",
   "nbconvert_exporter": "python",
   "pygments_lexer": "ipython3",
   "version": "3.9.13"
  }
 },
 "nbformat": 4,
 "nbformat_minor": 5
}
