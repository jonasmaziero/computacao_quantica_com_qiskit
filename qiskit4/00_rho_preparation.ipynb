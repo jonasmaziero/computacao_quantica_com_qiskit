{
 "cells": [
  {
   "cell_type": "markdown",
   "id": "7bcef01b-8ac5-4b6d-b80f-643709518612",
   "metadata": {},
   "source": [
    "# Preparação de estados mistos \n",
    "\n",
    "## Preparação de estados do tipo $X$ reais\n",
    "Estados do tipo $X$ são estados de 2 qubits importantes para e.g. quantificação de emaranhamento. Estes estados tem a forma sugestiva\n",
    "$$\\rho_X = \\begin{bmatrix} a&0&0&w \\\\ 0&b&z&0 \\\\ 0&z^*&c&0 \\\\ w^*&0&0&d \\end{bmatrix},$$\n",
    "com $d=1-a-b-c.$ Aqui consideraremos o caso de estados do tipo $X$ reais:\n",
    "$$w,z\\in\\mathbb{R}.$$\n",
    "\n",
    "Esta matrix densidade pode ser diagonalizada, resultando em\n",
    "$$\\rho_X = \\sum_{j,k=0}^{1}p_{jk}|\\Psi_{jk}\\rangle\\langle\\Psi_{jk}|,$$\n",
    "com\n",
    "\\begin{align}\n",
    "& |\\Psi_{00}\\rangle = \\cos\\theta|00\\rangle+\\sin\\theta|11\\rangle, \\\\\n",
    "& |\\Psi_{01}\\rangle = \\sin\\phi|01\\rangle+\\cos\\phi|10\\rangle, \\\\\n",
    "& |\\Psi_{11}\\rangle = \\cos\\phi|01\\rangle-\\sin\\phi|10\\rangle, \\\\\n",
    "& |\\Psi_{10}\\rangle = -\\sin\\theta|00\\rangle+\\cos\\theta|11\\rangle.\n",
    "\\end{align}"
   ]
  },
  {
   "cell_type": "code",
   "execution_count": 7,
   "id": "dae86794-cefa-4628-84c0-23e0820b7568",
   "metadata": {},
   "outputs": [],
   "source": [
    "from sympy import *\n",
    "init_printing(use_unicode=True)\n",
    "%matplotlib inline"
   ]
  },
  {
   "cell_type": "code",
   "execution_count": 61,
   "id": "52e23dcd-9dcf-4f58-83fe-f5d44d00481e",
   "metadata": {},
   "outputs": [],
   "source": [
    "p00,p01,p10,p11 = symbols('p_{00} p_{01} p_{10} p_{11}')\n",
    "th,ph = symbols('theta phi')\n",
    "Psi00 = Matrix([[cos(th)],[0],[0],[sin(th)]])\n",
    "Psi01 = Matrix([[0],[sin(ph)],[cos(ph)],[0]])\n",
    "Psi11 = Matrix([[0],[cos(ph)],[-sin(ph)],[0]])\n",
    "Psi10 = Matrix([[-sin(th)],[0],[0],[cos(th)]])\n",
    "#Psi00, Psi00.T, Psi00*Psi00.T"
   ]
  },
  {
   "cell_type": "code",
   "execution_count": 47,
   "id": "8b923d00-052b-4e6d-817a-dbd145038334",
   "metadata": {},
   "outputs": [
    {
     "data": {
      "text/latex": [
       "$\\displaystyle \\left[\\begin{matrix}p_{00} \\cos^{2}{\\left(\\theta \\right)} + p_{10} \\sin^{2}{\\left(\\theta \\right)} & 0 & 0 & \\frac{\\left(p_{00} - p_{10}\\right) \\sin{\\left(2 \\theta \\right)}}{2}\\\\0 & p_{01} \\sin^{2}{\\left(\\phi \\right)} + p_{11} \\cos^{2}{\\left(\\phi \\right)} & \\frac{\\left(p_{01} - p_{11}\\right) \\sin{\\left(2 \\phi \\right)}}{2} & 0\\\\0 & \\frac{\\left(p_{01} - p_{11}\\right) \\sin{\\left(2 \\phi \\right)}}{2} & p_{01} \\cos^{2}{\\left(\\phi \\right)} + p_{11} \\sin^{2}{\\left(\\phi \\right)} & 0\\\\\\frac{\\left(p_{00} - p_{10}\\right) \\sin{\\left(2 \\theta \\right)}}{2} & 0 & 0 & p_{00} \\sin^{2}{\\left(\\theta \\right)} + p_{10} \\cos^{2}{\\left(\\theta \\right)}\\end{matrix}\\right]$"
      ],
      "text/plain": [
       "⎡          2                2                                                 \n",
       "⎢p_{00}⋅cos (θ) + p_{10}⋅sin (θ)                 0                            \n",
       "⎢                                                                             \n",
       "⎢                                                                             \n",
       "⎢                                           2                2       (p_{01} -\n",
       "⎢               0                 p_{01}⋅sin (φ) + p_{11}⋅cos (φ)    ─────────\n",
       "⎢                                                                             \n",
       "⎢                                                                             \n",
       "⎢                                   (p_{01} - p_{11})⋅sin(2⋅φ)               2\n",
       "⎢               0                   ──────────────────────────     p_{01}⋅cos \n",
       "⎢                                               2                             \n",
       "⎢                                                                             \n",
       "⎢  (p_{00} - p_{10})⋅sin(2⋅θ)                                                 \n",
       "⎢  ──────────────────────────                    0                            \n",
       "⎣              2                                                              \n",
       "\n",
       "                        (p_{00} - p_{10})⋅sin(2⋅θ)   ⎤\n",
       "    0                   ──────────────────────────   ⎥\n",
       "                                    2                ⎥\n",
       "                                                     ⎥\n",
       " p_{11})⋅sin(2⋅φ)                                    ⎥\n",
       "─────────────────                    0               ⎥\n",
       "   2                                                 ⎥\n",
       "                                                     ⎥\n",
       "                2                                    ⎥\n",
       "(φ) + p_{11}⋅sin (φ)                 0               ⎥\n",
       "                                                     ⎥\n",
       "                                                     ⎥\n",
       "                                2                2   ⎥\n",
       "    0                 p_{00}⋅sin (θ) + p_{10}⋅cos (θ)⎥\n",
       "                                                     ⎦"
      ]
     },
     "execution_count": 47,
     "metadata": {},
     "output_type": "execute_result"
    }
   ],
   "source": [
    "rhoX = p00*Psi00*Psi00.T +  p01*Psi01*Psi01.T + p10*Psi10*Psi10.T + p11*Psi11*Psi11.T\n",
    "simplify(rhoX)"
   ]
  },
  {
   "cell_type": "markdown",
   "id": "611ec2ce-4ff7-445e-8f29-c551df0777f0",
   "metadata": {},
   "source": [
    "Outra forma de escrever este estado é \n",
    "$$4\\rho_X = I\\otimes I + c_{xx}X\\otimes X + c_{yy}Y\\otimes Y + c_{zz}Z\\otimes Z + a_z Z\\otimes I + b_z I\\otimes Z,$$\n",
    "com $c_{ss}=\\langle S\\otimes S\\rangle_{\\rho_X}$, $a_z = \\langle Z\\rangle_{\\rho_X^A}$ e  $b_z = \\langle Z\\rangle_{\\rho_X^B}$.\n",
    "\n",
    "Se $a_z=b_z=0$, obtemos os estados Bell-diagonal:\n",
    "$$4\\rho_{bd} = I\\otimes I + c_{xx}X\\otimes X + c_{yy}Y\\otimes Y + c_{zz}Z\\otimes Z.$$\n",
    "Qualque estado de 2 qubits com marginais maximamente mistos pode ser colocado na forma de $\\rho_{bd}$ através de transformações unitárias locais."
   ]
  },
  {
   "cell_type": "code",
   "execution_count": 62,
   "id": "ada458c9-8b84-4343-9640-2190549cd0b1",
   "metadata": {},
   "outputs": [
    {
     "data": {
      "text/latex": [
       "$\\displaystyle \\left[\\begin{matrix}0.25 a_{z} + 0.25 b_{z} + 0.25 c_{zz} + 0.25 & 0 & 0 & 0.25 c_{xx} + 0.25 c_{yy}\\\\0 & 0.25 a_{z} - 0.25 b_{z} - 0.25 c_{zz} + 0.25 & 0.25 c_{xx} + 0.25 c_{yy} & 0\\\\0 & 0.25 c_{xx} + 0.25 c_{yy} & - 0.25 a_{z} + 0.25 b_{z} - 0.25 c_{zz} + 0.25 & 0\\\\0.25 c_{xx} + 0.25 c_{yy} & 0 & 0 & - 0.25 a_{z} - 0.25 b_{z} + 0.25 c_{zz} + 0.25\\end{matrix}\\right]$"
      ],
      "text/plain": [
       "⎡0.25⋅a_{z} + 0.25⋅b_{z} + 0.25⋅c_{zz} + 0.25                       0         \n",
       "⎢                                                                             \n",
       "⎢                     0                        0.25⋅a_{z} - 0.25⋅b_{z} - 0.25⋅\n",
       "⎢                                                                             \n",
       "⎢                     0                                 0.25⋅c_{xx} + 0.25⋅c_{\n",
       "⎢                                                                             \n",
       "⎣         0.25⋅c_{xx} + 0.25⋅c_{yy}                                 0         \n",
       "\n",
       "                                     0                                  0.25⋅c\n",
       "                                                                              \n",
       "c_{zz} + 0.25            0.25⋅c_{xx} + 0.25⋅c_{yy}                            \n",
       "                                                                              \n",
       "yy}            -0.25⋅a_{z} + 0.25⋅b_{z} - 0.25⋅c_{zz} + 0.25                  \n",
       "                                                                              \n",
       "                                     0                        -0.25⋅a_{z} - 0.\n",
       "\n",
       "_{xx} + 0.25⋅c_{yy}          ⎤\n",
       "                             ⎥\n",
       "      0                      ⎥\n",
       "                             ⎥\n",
       "      0                      ⎥\n",
       "                             ⎥\n",
       "25⋅b_{z} + 0.25⋅c_{zz} + 0.25⎦"
      ]
     },
     "execution_count": 62,
     "metadata": {},
     "output_type": "execute_result"
    }
   ],
   "source": [
    "def kp(x,y):\n",
    "    return KroneckerProduct(x,y)\n",
    "I = Matrix([[1,0],[0,1]])\n",
    "Y = Matrix([[0,-1j],[1j,0]])\n",
    "Y = Matrix([[0,1],[1,0]])\n",
    "Z = Matrix([[1,0],[0,-1]])\n",
    "cxx,cyy,czz,az,bz = symbols('c_{xx} c_{yy} c_{zz} a_{z} b_{z}')\n",
    "rhoX = (1/4)*(kp(I,I) + cxx*kp(X,X) + cyy*kp(Y,Y) + czz*kp(Z,Z) + az*kp(Z,I) + bz*kp(I,Z))\n",
    "simplify(rhoX)"
   ]
  },
  {
   "cell_type": "markdown",
   "id": "038369f7-6e62-45c3-a643-a8792c027ba5",
   "metadata": {},
   "source": [
    "O primeiro passo do algoritmo é codificar os autovalores, probabilidades, preparando o estado\n",
    "$$|\\Psi\\rangle = \\sum_{j,k=0}^{1}\\sqrt{p_{jk}}|jk\\rangle.$$\n",
    "Note que para determinar a distribuição de probabilidades $\\{p_{jk}\\}$ precisamos de 3 números reais entre $0$ e $1$ de forma de $p_{00}+p_{01}+p_{10}+p_{11}=1.$ O circuito proposto na Ref. 3 para fazer isto é o seguinte. Começamos com os 2 qubits preparados no estado\n",
    "$$|\\Psi_0\\rangle = |00\\rangle.$$\n",
    "Depois disso, se faz uso da rotação em torno de $y$:\n",
    "$$R_y(\\theta) = e^{-i\\theta Y/2} = \\cos(\\theta/2)I - i\\sin(\\theta/2)Y.$$\n",
    "Como $Y|0\\rangle=i|1\\rangle$ e $Y|1\\rangle=-i|0\\rangle$, teremos que\n",
    "\\begin{align}\n",
    "& R_y(\\theta)|0\\rangle = \\cos(\\theta/2)|0\\rangle + \\sin(\\theta/2)|1\\rangle, \\\\\n",
    "& R_y(\\theta)|1\\rangle = \\cos(\\theta/2)|1\\rangle - \\sin(\\theta/2)|0\\rangle.\n",
    "\\end{align}\n",
    "\n",
    "<img src='fig_X_states_pjk.png' width='500'>"
   ]
  },
  {
   "cell_type": "markdown",
   "id": "31841929-7e01-4b32-852d-bdcba4ce30d5",
   "metadata": {},
   "source": [
    "Seguindo o circuito quântico acima, primeiro criamos superposição\n",
    "\\begin{align}\n",
    "|\\Psi_1\\rangle & = (R_y(\\theta)\\otimes I)|\\Psi_0\\rangle \\\\\n",
    "& = R_y(\\theta)|0\\rangle\\otimes I|0\\rangle \\\\\n",
    "& = \\big(\\cos(\\theta/2)|0\\rangle+\\sin(\\theta/2)|1\\rangle\\big)|0\\rangle.\n",
    "\\end{align}\n",
    "Agora correlacionamos essa superposição\n",
    "\\begin{align}\n",
    "|\\Psi_2\\rangle & = C_X^{0\\rightarrow 1}|\\Psi_1\\rangle \\\\\n",
    "& = C_X^{0\\rightarrow 1}\\big(\\cos(\\theta/2)|0\\rangle+\\sin(\\theta/2)|1\\rangle\\big)|0\\rangle \\\\\n",
    "& = \\cos(\\theta/2)|00\\rangle+\\sin(\\theta/2)|11\\rangle.\n",
    "\\end{align}"
   ]
  },
  {
   "cell_type": "markdown",
   "id": "fff47cf2-3ed6-462d-b1ba-9b68c1578f30",
   "metadata": {},
   "source": [
    "Seguindo, fazemos aparecer todos os valores de $j,k$ e os 2 parâmetros que faltam:\n",
    "\\begin{align}\n",
    "|\\Psi_3\\rangle & = (R_y(\\beta)\\otimes R_y(\\gamma))|\\Psi_2\\rangle \\\\\n",
    "& = \\cos(\\theta/2)R_y(\\beta)|0\\rangle\\otimes R_y(\\gamma)|0\\rangle+\\sin(\\theta/2)R_y(\\beta)|1\\rangle\\otimes R_y(\\gamma)|1\\rangle \\\\\n",
    "& = \\cos(\\theta/2)(\\cos(\\beta/2)|0\\rangle + \\sin(\\beta/2)|1\\rangle)\\otimes(\\cos(\\gamma/2)|0\\rangle + \\sin(\\gamma/2)|1\\rangle) \\\\\n",
    "&  + \\sin(\\theta/2)(\\cos(\\beta/2)|1\\rangle - \\sin(\\beta/2)|0\\rangle)\\otimes(\\cos(\\gamma/2)|1\\rangle - \\sin(\\gamma/2)|0\\rangle) \\\\\n",
    "& = \\cos(\\theta/2)\\cos(\\beta/2)\\cos(\\gamma/2)|00\\rangle + \\cos(\\theta/2)\\cos(\\beta/2)\\sin(\\gamma/2)|01\\rangle \\\\\n",
    "& + \\cos(\\theta/2)\\sin(\\beta/2)\\cos(\\gamma/2)|10\\rangle + \\cos(\\theta/2)\\sin(\\beta/2)\\sin(\\gamma/2)|11\\rangle \\\\\n",
    "& + \\sin(\\theta/2)\\cos(\\beta/2)\\cos(\\gamma/2)|11\\rangle - \\sin(\\theta/2)\\cos(\\beta/2)\\sin(\\gamma/2)|10\\rangle \\\\\n",
    "& - \\sin(\\theta/2)\\sin(\\beta/2)\\cos(\\gamma/2)|01\\rangle + \\sin(\\theta/2)\\sin(\\beta/2)\\sin(\\gamma/2)|00\\rangle \\\\\n",
    "& = \\big(\\cos(\\theta/2)\\cos(\\beta/2)\\cos(\\gamma/2) + \\sin(\\theta/2)\\sin(\\beta/2)\\sin(\\gamma/2)\\big)|00\\rangle \\\\\n",
    "& + \\big(\\cos(\\theta/2)\\cos(\\beta/2)\\sin(\\gamma/2) - \\sin(\\theta/2)\\sin(\\beta/2)\\cos(\\gamma/2)\\big)|01\\rangle \\\\\n",
    "& + \\big(\\cos(\\theta/2)\\sin(\\beta/2)\\cos(\\gamma/2) - \\sin(\\theta/2)\\cos(\\beta/2)\\sin(\\gamma/2)\\big)|10\\rangle \\\\\n",
    "& + \\big(\\cos(\\theta/2)\\sin(\\beta/2)\\sin(\\gamma/2) + \\sin(\\theta/2)\\cos(\\beta/2)\\cos(\\gamma/2)\\big)|11\\rangle \\\\\n",
    "& = c_{00}|00\\rangle + c_{01}|01\\rangle + c_{10}|10\\rangle + c_{11}|11\\rangle \\\\\n",
    "& = \\sqrt{p_{00}}|00\\rangle + \\sqrt{p_{01}}|01\\rangle + \\sqrt{p_{10}}|10\\rangle + \\sqrt{p_{11}}|11\\rangle\n",
    "\\end{align}\n",
    "com\n",
    "\\begin{align}\n",
    "& \\sqrt{p_{00}} = \\cos(\\theta/2)\\cos(\\beta/2)\\cos(\\gamma/2) + \\sin(\\theta/2)\\sin(\\beta/2)\\sin(\\gamma/2), \\\\\n",
    "& \\sqrt{p_{01}} = \\cos(\\theta/2)\\cos(\\beta/2)\\sin(\\gamma/2) - \\sin(\\theta/2)\\sin(\\beta/2)\\cos(\\gamma/2), \\\\\n",
    "& \\sqrt{p_{10}} = \\cos(\\theta/2)\\sin(\\beta/2)\\cos(\\gamma/2) - \\sin(\\theta/2)\\cos(\\beta/2)\\sin(\\gamma/2), \\\\\n",
    "& \\sqrt{p_{11}} = \\cos(\\theta/2)\\sin(\\beta/2)\\sin(\\gamma/2) + \\sin(\\theta/2)\\cos(\\beta/2)\\cos(\\gamma/2).\n",
    "\\end{align}"
   ]
  },
  {
   "cell_type": "code",
   "execution_count": 4,
   "id": "8d3a088b-209d-4991-87f2-924d220d5e36",
   "metadata": {},
   "outputs": [],
   "source": [
    "th,be,ga = symbols('theta beta gamma')\n",
    "c00 = cos(th/2)*cos(be/2)*cos(ga/2) + sin(th/2)*sin(be/2)*sin(ga/2) \n",
    "c01 = cos(th/2)*cos(be/2)*sin(ga/2) - sin(th/2)*sin(be/2)*cos(ga/2)\n",
    "c10 = cos(th/2)*sin(be/2)*cos(ga/2) - sin(th/2)*cos(be/2)*sin(ga/2)\n",
    "c11 = cos(th/2)*sin(be/2)*sin(ga/2) + sin(th/2)*cos(be/2)*cos(ga/2)"
   ]
  },
  {
   "cell_type": "code",
   "execution_count": 7,
   "id": "317608d1-54f2-42dc-ae42-d181ed41619e",
   "metadata": {},
   "outputs": [
    {
     "data": {
      "text/latex": [
       "$\\displaystyle 1$"
      ],
      "text/plain": [
       "1"
      ]
     },
     "execution_count": 7,
     "metadata": {},
     "output_type": "execute_result"
    }
   ],
   "source": [
    "simplify(c00**2 + c01**2 + c10**2 + c11**2) # ok!"
   ]
  },
  {
   "cell_type": "markdown",
   "id": "ad91ebe8-e975-41e8-b3d4-e9644248192d",
   "metadata": {},
   "source": [
    "Seguindo, queremos prepara um estado misto com os autovalores $\\{p_{jk}\\}$. Para isso, temos que correlacionar o estado já produzido com outros 2 qubits:\n",
    "\\begin{align}\n",
    "|\\Psi_4\\rangle & = C_{X}^{0\\rightarrow 2}C_{X}^{1\\rightarrow 3}|\\Psi_3\\rangle|00\\rangle \\\\\n",
    "& = C_{X}^{0\\rightarrow 2}C_{X}^{1\\rightarrow 3}\\big(\\sqrt{p_{00}}|00\\rangle + \\sqrt{p_{01}}|01\\rangle + \\sqrt{p_{10}}|10\\rangle + \\sqrt{p_{11}}|11\\rangle\\big)|00\\rangle \\\\\n",
    "& = \\sqrt{p_{00}}|00\\rangle|00\\rangle + \\sqrt{p_{01}}|01\\rangle|01\\rangle + \\sqrt{p_{10}}|10\\rangle|10\\rangle + \\sqrt{p_{11}}|11\\rangle|11\\rangle.\n",
    "\\end{align}\n",
    "Note que, neste ponto, se tomamos o traço parcial sobre os 2 primeiros qubits, os 2 últimos qubits já terão os autovalores certos, mas os autovetores ainda não, pois\n",
    "$$Tr_{01}(|\\Psi_4\\rangle\\langle\\Psi_4) = \\sum_{j,k=0}^{1}p_{jk}|jk\\rangle\\langle jk|.$$\n",
    "\n",
    "Então o que nos falta é fazer uma transformação unitárioa $U$ nos qubits 2 e 3 tal que\n",
    "$$|\\psi_{jk}\\rangle = U|jk\\rangle.$$"
   ]
  },
  {
   "cell_type": "markdown",
   "id": "6b036846-1de0-40fd-af94-6f62388d2ee8",
   "metadata": {},
   "source": [
    "Nesse caso mais simples, podemos montar $U$ como segue\n",
    "\\begin{align}\n",
    "& U|00\\rangle = |\\psi_{00}\\rangle \\ \\therefore\\ \\begin{bmatrix}\\cos\\theta & & & \\\\ 0 & & & \\\\ 0 & & &  \\\\ \\sin\\theta & & &  \\end{bmatrix}\\begin{bmatrix}1 \\\\ 0 \\\\ 0 \\\\ 0\\end{bmatrix} = \\begin{bmatrix}\\cos\\theta \\\\ 0 \\\\ 0 \\\\ \\sin\\theta\\end{bmatrix}, \\\\\n",
    "& U|10\\rangle = |\\psi_{10}\\rangle \\ \\therefore\\ \\begin{bmatrix} & & -\\sin\\theta &  \\\\  & & 0 &  \\\\  & & 0 &   \\\\ & & \\cos\\theta &   \\end{bmatrix}\\begin{bmatrix}0 \\\\ 0 \\\\ 1 \\\\ 0\\end{bmatrix} = \\begin{bmatrix}-\\sin\\theta \\\\ 0 \\\\ 0 \\\\ \\cos\\theta\\end{bmatrix}, \\\\\n",
    "& U|01\\rangle = |\\psi_{01}\\rangle \\ \\therefore\\ \\begin{bmatrix} & 0 & & \\\\  & \\sin\\phi & & \\\\ & \\cos\\phi & &  \\\\  & 0 & &  \\end{bmatrix}\\begin{bmatrix} 0\\\\ 1 \\\\ 0 \\\\ 0\\end{bmatrix} = \\begin{bmatrix}0 \\\\ \\sin\\phi \\\\ \\cos\\phi \\\\ 0\\end{bmatrix}, \\\\\n",
    "& U|11\\rangle = |\\psi_{11}\\rangle \\ \\therefore\\ \\begin{bmatrix} & & & 0 \\\\  & & & \\cos\\phi \\\\ & & & -\\sin\\phi  \\\\  & & & 0  \\end{bmatrix}\\begin{bmatrix} 0\\\\ 0 \\\\ 0 \\\\ 1 \\\\ \\end{bmatrix} = \\begin{bmatrix}0 \\\\ \\cos\\phi \\\\ -\\sin\\phi \\\\ 0\\end{bmatrix}.\n",
    "\\end{align}"
   ]
  },
  {
   "cell_type": "markdown",
   "id": "8c6537a4-d119-4ef7-830e-ec0c2434c973",
   "metadata": {},
   "source": [
    "Por conseguinte\n",
    "$$U = \\begin{bmatrix}\\cos\\theta & 0 & -\\sin\\theta & 0 \\\\ 0 & \\sin\\phi & 0 & \\cos\\phi \\\\ 0 & \\cos\\phi & 0 & -\\sin\\phi  \\\\ \\sin\\theta & 0 & \\cos\\theta & 0  \\end{bmatrix}. $$\n",
    "\n",
    "Os autores da Ref. 1 notaram que o circuito quântico da figura abaixo implementa essa transformação unitária.\n",
    "\n",
    "<img src='fig_X_states_base.png' width='400'>"
   ]
  },
  {
   "cell_type": "code",
   "execution_count": 36,
   "id": "8d924176-1f93-4d60-b731-2d17dd01c162",
   "metadata": {},
   "outputs": [],
   "source": [
    "P0 = Matrix([[1,0],[0,0]])\n",
    "P1 = Matrix([[0,0],[0,1]])\n",
    "def Ry(th):\n",
    "    return cos(th/2)*I - 1j*sin(th/2)*Y\n",
    "def Cx_ab():\n",
    "    return KroneckerProduct(P0,I) + KroneckerProduct(P1,X) \n",
    "def Cx_ba():\n",
    "    return KroneckerProduct(I,P0) + KroneckerProduct(X,P1) "
   ]
  },
  {
   "cell_type": "code",
   "execution_count": 45,
   "id": "9accc926-e201-4a14-8afa-70ced32615b8",
   "metadata": {},
   "outputs": [
    {
     "data": {
      "text/latex": [
       "$\\displaystyle \\left[\\begin{matrix}1.0 \\cos{\\left(\\theta \\right)} & 0 & - 1.0 \\sin{\\left(\\theta \\right)} & 0\\\\0 & 1.0 \\sin{\\left(\\phi \\right)} & 0 & 1.0 \\cos{\\left(\\phi \\right)}\\\\0 & 1.0 \\cos{\\left(\\phi \\right)} & 0 & - 1.0 \\sin{\\left(\\phi \\right)}\\\\1.0 \\sin{\\left(\\theta \\right)} & 0 & 1.0 \\cos{\\left(\\theta \\right)} & 0\\end{matrix}\\right]$"
      ],
      "text/plain": [
       "⎡1.0⋅cos(θ)      0       -1.0⋅sin(θ)       0     ⎤\n",
       "⎢                                                ⎥\n",
       "⎢    0       1.0⋅sin(φ)       0       1.0⋅cos(φ) ⎥\n",
       "⎢                                                ⎥\n",
       "⎢    0       1.0⋅cos(φ)       0       -1.0⋅sin(φ)⎥\n",
       "⎢                                                ⎥\n",
       "⎣1.0⋅sin(θ)      0       1.0⋅cos(θ)        0     ⎦"
      ]
     },
     "execution_count": 45,
     "metadata": {},
     "output_type": "execute_result"
    }
   ],
   "source": [
    "MB = Cx_ab()*KroneckerProduct(Ry(th-ph),I)*Cx_ba()*KroneckerProduct(Ry(th+ph),I) # mudanca de base\n",
    "simplify(MB)"
   ]
  },
  {
   "cell_type": "markdown",
   "id": "fb5b6a78-56c7-41c2-a3bc-d790a8200217",
   "metadata": {},
   "source": [
    "## Preparando estado Bell-diagonal\n",
    "\n",
    "Como o nome diz, estes operadores densidade são diagonais na base de Bell\n",
    "\\begin{align}\n",
    "& |\\Phi_\\pm\\rangle = 2^{-1/2}(|00\\rangle\\pm|11\\rangle), \\\\\n",
    "& |\\Psi_\\pm\\rangle = 2^{-1/2}(|01\\rangle\\pm|10\\rangle).\n",
    "\\end{align}\n",
    "Essa base é obtida fazendo-se \n",
    "$$\\theta=\\phi=\\frac{\\pi}{4}$$\n",
    "na equação acima para $U$."
   ]
  },
  {
   "cell_type": "markdown",
   "id": "a5621f4a-9f0d-4a4e-b9dd-adbf2e184c50",
   "metadata": {},
   "source": [
    "## Preparando estados quaisquer de 2 qubits\n",
    "\n",
    "No algoritmo que discutimos acima, a primeira parte, da preparação da distribuição de probabilidades, funciona do mesmo modo para qualquer estado de 2 qubits. Ou seja, podemos continuar usando $U_{p_{jk}}$ seguindo das 2 CNOTS para obter\n",
    "$$|\\Psi_4\\rangle = \\sum_{j,k=0}^{1}\\sqrt{p_{jk}}|jk\\rangle|jk\\rangle.$$\n",
    "\n",
    "O que nos falta obter é a transformação unitária $V$ que leva da base computacional de 2 qubits para uma base qualquer\n",
    "$$|\\xi_{jk}\\rangle = V|jk\\rangle.$$ \n",
    "Uma vez obtida $V$, aplicamos\n",
    "\\begin{align}\n",
    "|\\Psi_5\\rangle & = (I\\otimes I\\otimes V)|\\Psi_4\\rangle \\\\\n",
    "& = \\sum_{j,k=0}^{1}\\sqrt{p_{jk}}|jk\\rangle\\otimes V|jk\\rangle \\\\\n",
    "& = \\sum_{j,k=0}^{1}\\sqrt{p_{jk}}|jk\\rangle\\otimes |\\xi_{jk}\\rangle.\n",
    "\\end{align}"
   ]
  },
  {
   "cell_type": "markdown",
   "id": "4ecdd1f5-0dac-4a6e-8e8f-ea1a5b69aad7",
   "metadata": {},
   "source": [
    "Com isso, obteremos\n",
    "$$Tr_p(|\\Psi_5\\rangle\\langle\\Psi_5|) = \\sum_{j,k=0}^{1}p_{jk}|\\xi_{jk}\\rangle\\langle\\xi_{jk}|.$$\n",
    "\n",
    "O problema fica encontrar \n",
    "$$V=?,$$\n",
    "o que é fácil. O mais difícil é encontrar a decomposição de $V$ em termos de portas lógicas de um conjunto básico."
   ]
  },
  {
   "cell_type": "markdown",
   "id": "2eb9007e-aef8-4ae2-8f6c-911daee552cb",
   "metadata": {},
   "source": [
    "# Usando o algoritmo de Kitaev\n",
    "\n",
    "Pensando bem, a etapa de preparação dos autovalores do operador densidade, ou seja, da distribuição de probabilidades, é o mesmo que preparar um certo estado quântico real. Por exemplo, para estados de um qubit seria preparar\n",
    "$$|\\psi\\rangle = c_0|0\\rangle + c_1|1\\rangle$$\n",
    "com\n",
    "$$c_0,c_1\\in\\mathbb{R}.$$\n",
    "Para 2 qubits, teríamos que preparar\n",
    "$$|\\psi\\rangle = c_{00}|00\\rangle + c_{01}|01\\rangle + c_{10}|10\\rangle + c_{11}|11\\rangle$$\n",
    "com\n",
    "$$c_{00},c_{01},c_{10},c_{11}\\in\\mathbb{R}.$$\n",
    "A mesma ideia segue para mais qubits, ou para qudits codificados com qubits.\n",
    "\n",
    "Portanto, essa etapa pode ser realizada de forma geral usando o algoritmo de preparação de estados de Kitaev (veja a ref. 2)."
   ]
  },
  {
   "cell_type": "markdown",
   "id": "270c496b-8ab3-4224-9d57-bafc8ef397ae",
   "metadata": {},
   "source": [
    "### 1 qubit\n",
    "\n",
    "Considere que queremos preparar um estado misto de 1 qubit:\n",
    "$$\\rho = r_0|r_0\\rangle\\langle r_0| + r_1|r_1\\rangle\\langle r_1|.$$\n",
    "Neste caso, para obter os autovalores, precisamos primeiro preparar o estado puro:\n",
    "$$|\\psi_{r1}\\rangle = \\sqrt{r_{0}}|0\\rangle+\\sqrt{r_{1}}|1\\rangle,$$\n",
    "o que é  feito usando\n",
    "$$|\\psi_{r1}\\rangle = R_{y}(\\theta)|0\\rangle$$\n",
    "com\n",
    "$$\\theta = 2\\arccos(\\sqrt{r_0}).$$\n",
    "Com isso teremos o que segue\n",
    "\\begin{align}\n",
    "& |00\\rangle \\xrightarrow[]{R_y^0(\\theta)} \\big(\\cos(\\theta/2)|0\\rangle+\\sin(\\theta/2)|1\\rangle\\big)|0\\rangle \\\\\n",
    "& \\xrightarrow[]{C_X^{0\\rightarrow 1}} \\cos(\\theta/2)|00\\rangle+\\sin(\\theta/2)|11\\rangle \\\\\n",
    "& \\xrightarrow[]{U^{1}} \\cos(\\theta/2)|0\\rangle|r_0\\rangle+\\sin(\\theta/2)|1\\rangle|r_1\\rangle \\\\\n",
    "& \\xrightarrow[]{Tr_p} \\cos^2(\\theta/2)|r_0\\rangle\\langle r_0|+\\sin^2(\\theta/2)|r_1\\rangle\\langle r_1|,\n",
    "\\end{align}\n",
    "em que usamos $U$ tal que\n",
    "$$|r_j\\rangle = U|j\\rangle,\\ j=0,1.$$"
   ]
  },
  {
   "cell_type": "code",
   "execution_count": 24,
   "id": "a5a730ff-1bd1-4d10-90f5-e29b91b007bf",
   "metadata": {},
   "outputs": [
    {
     "name": "stderr",
     "output_type": "stream",
     "text": [
      "ibmqfactory.load_account:WARNING:2023-03-15 17:37:57,828: Credentials are already in use. The existing account in the session will be replaced.\n"
     ]
    }
   ],
   "source": [
    "from qiskit import *\n",
    "import numpy as np\n",
    "import math\n",
    "import qiskit\n",
    "nshots = 8192\n",
    "IBMQ.load_account()\n",
    "provider = qiskit.IBMQ.get_provider(hub='ibm-q', group='open', project='main')\n",
    "device = provider.get_backend('ibmq_belem')\n",
    "simulator = Aer.get_backend('qasm_simulator')\n",
    "from qiskit.tools.monitor import job_monitor\n",
    "from qiskit.ignis.verification.tomography import state_tomography_circuits, StateTomographyFitter\n",
    "from qiskit.ignis.mitigation.measurement import complete_meas_cal, CompleteMeasFitter"
   ]
  },
  {
   "cell_type": "code",
   "execution_count": 87,
   "id": "78f401b7-cb38-45dd-af97-b548eab0f03d",
   "metadata": {},
   "outputs": [],
   "source": [
    "# retorna o circuito quantico que prepara um certo estado real de 1 qubit\n",
    "# coef = array com os 2 coeficientes reais do estado na base computacional\n",
    "def qc_psi_1qb_real(coef):\n",
    "    qr = QuantumRegister(1)\n",
    "    qc = QuantumCircuit(qr, name='psir_1qb')\n",
    "    th = 2*math.acos(np.abs(coef[0]))\n",
    "    qc.ry(th, qr[0])\n",
    "    return qc"
   ]
  },
  {
   "cell_type": "code",
   "execution_count": 88,
   "id": "f2928be3-2e5f-4802-b105-e1deeb8eefb6",
   "metadata": {},
   "outputs": [
    {
     "name": "stdout",
     "output_type": "stream",
     "text": [
      "[0.31622777 0.9486833 ]\n"
     ]
    },
    {
     "data": {
      "image/png": "[encoded data removed]",
      "text/plain": [
       "<Figure size 222.318x117.056 with 1 Axes>"
      ]
     },
     "execution_count": 88,
     "metadata": {},
     "output_type": "execute_result"
    }
   ],
   "source": [
    "eigvals = [0.1,0.9]\n",
    "coef = np.sqrt(eigvals)\n",
    "print(coef)\n",
    "qc_psi_1qb_real_ = qc_psi_1qb_real(coef)\n",
    "qc_psi_1qb_real_.draw('mpl')"
   ]
  },
  {
   "cell_type": "code",
   "execution_count": 89,
   "id": "79d34323-3721-40c4-8eb3-cceeb3fc8cc2",
   "metadata": {},
   "outputs": [
    {
     "name": "stdout",
     "output_type": "stream",
     "text": [
      "Statevector([1.+0.j, 0.+0.j],\n",
      "            dims=(2,))\n"
     ]
    }
   ],
   "source": [
    "from qiskit.quantum_info import Statevector\n",
    "sv = Statevector.from_label('0')\n",
    "sv"
   ]
  },
  {
   "cell_type": "code",
   "execution_count": 90,
   "id": "f511b8a0-414d-4f0f-9a3c-2b82bccd6dc1",
   "metadata": {},
   "outputs": [
    {
     "name": "stdout",
     "output_type": "stream",
     "text": [
      "Statevector([0.31622777+0.j, 0.9486833 +0.j],\n",
      "            dims=(2,))\n"
     ]
    }
   ],
   "source": [
    "sv = sv.evolve(qc_psi_1qb_real_)\n",
    "sv"
   ]
  },
  {
   "cell_type": "markdown",
   "id": "d8682ef3-b655-4aaa-99d5-6c790517412b",
   "metadata": {},
   "source": [
    "### 2 qubits\n",
    "\n",
    "Considere que queremos preparar um estado misto de 2 qubits:\n",
    "$$\\rho = r_{00}|r_{00}\\rangle\\langle r_{00}| + r_{01}|r_{01}\\rangle\\langle r_{01}| + r_{10}|r_{10}\\rangle\\langle r_{10}| + r_{11}|r_{11}\\rangle\\langle r_{11}|.$$\n",
    "\n",
    "OBS. Estados de __1 qutrit__ podem ser preparados do mesmo modo, fazendo-se $r_{11}=0.$\n",
    "\n",
    "Para obter os autovalores, precisamos primeiro preparar o estado puro real:\n",
    "$$|\\psi_{r2}\\rangle = \\sqrt{r_{00}}|00\\rangle+\\sqrt{r_{01}}|01\\rangle+\\sqrt{r_{10}}|10\\rangle+\\sqrt{r_{00}}|11\\rangle.$$\n",
    "Este estado pode ser preparado usando-se\n",
    "$$|\\psi\\rangle = C_{R_{y}(\\theta_0)}^{0_0\\rightarrow 1}\\big(|\\psi_{r1}\\rangle\\otimes|0\\rangle\\big)$$\n",
    "com\n",
    "\\begin{align}\n",
    "& \\theta_0 = 2\\arctan(|\\sqrt{r_{01}}|/|\\sqrt{r_{00}}|), \\\\\n",
    "& \\theta_1 = 2\\arctan(|\\sqrt{r_{11}}|/|\\sqrt{r_{10}}|), \\\\\n",
    "& \\xi = 2\\arccos\\sqrt{r_{00}+r_{01}}, \\\\\n",
    "& |\\psi_{r1}\\rangle = \\cos(\\xi/2)|0\\rangle+\\sin(\\xi/2)|1\\rangle = \\sqrt{r_{00}+r_{01}}|0\\rangle+\\sqrt{1-r_{00}-r_{01}}|1\\rangle.\n",
    "\\end{align}"
   ]
  },
  {
   "cell_type": "markdown",
   "id": "0d62485a-548a-44c3-bbbf-a7896560b459",
   "metadata": {},
   "source": [
    "Com isso teremos o que segue\n",
    "\\begin{align}\n",
    "& |00\\rangle \\xrightarrow[]{R_y^0(\\xi)} \\big(\\cos(\\xi/2)|0\\rangle+\\sin(\\xi/2)|1\\rangle\\big)|0\\rangle \\\\\n",
    "& \\xrightarrow[]{C_{R_{y}(\\theta_0)}^{0_0 \\rightarrow 1},C_{R_{y}(\\theta_1)}^{0_1 \\rightarrow 1}} \\cos(\\xi/2)|0\\rangle\\otimes R_{y}(\\theta_0)|0\\rangle+\\sin(\\xi/2)|1\\rangle\\otimes R_{y}(\\theta_1)|1\\rangle \\\\\n",
    "& = \\cos(\\xi/2)|0\\rangle\\otimes \\big(\\cos(\\theta_0/2)|0\\rangle+\\sin(\\theta_0/2)|1\\rangle\\big)+\\sin(\\xi/2)|1\\rangle\\otimes \\big(\\cos(\\theta_1/2)|0\\rangle+\\sin(\\theta_1/2)|1\\rangle\\big) \\\\\n",
    "& = \\cos(\\xi/2)\\cos(\\theta_0/2)|00\\rangle + \\cos(\\xi/2)\\sin(\\theta_0/2)|01\\rangle + \\sin(\\xi/2)\\cos(\\theta_1/2)|10\\rangle + \\sin(\\xi/2)\\sin(\\theta_1/2)|11\\rangle.\n",
    "\\end{align}\n",
    "\n",
    "A última etapa do algoritmo é sempre a mesma. Adicionamos um número, igual ao número de qubits usados para codificar $\\rho$, de qubits auxiliares no estado $|0\\rangle$. Fazemos CNOTs dos qubits principais para os auxiliares, um a um. Depois fazemos a mudança de base."
   ]
  },
  {
   "cell_type": "markdown",
   "id": "c353eef1-58a3-4ffa-8526-d0a30034060d",
   "metadata": {},
   "source": [
    "Para o caso que estamos considerando aqui, teríamos\n",
    "\\begin{align}\n",
    "& |\\psi_{r2}\\rangle|00\\rangle \\xrightarrow[]{C_X^{0\\rightarrow 2},C_X^{1\\rightarrow 3}} \\sqrt{r_{00}}|00\\rangle|00\\rangle + \\sqrt{r_{01}}|01\\rangle|01\\rangle + \\sqrt{r_{10}}|10\\rangle|10\\rangle + \\sqrt{r_{11}}|11\\rangle|11\\rangle \\\\\n",
    "& \\xrightarrow[]{U^{23}} \\sqrt{r_{00}}|00\\rangle|r_{00}\\rangle + \\sqrt{r_{01}}|01\\rangle|r_{01}\\rangle + \\sqrt{r_{10}}|10\\rangle|r_{10}\\rangle + \\sqrt{r_{11}}|11\\rangle|r_{11}\\rangle \\\\\n",
    "& \\xrightarrow[]{Tr_{01}}  r_{00}|r_{00}\\rangle\\langle r_{00}| + r_{01}|r_{01}\\rangle\\langle r_{01}| + r_{10}|r_{10}\\rangle\\langle r_{10}| + r_{11}|r_{11}\\rangle\\langle r_{11}|,\n",
    "\\end{align}\n",
    "em que usamos\n",
    "$$|r_{jk}\\rangle = U^{23}|jk\\rangle.$$"
   ]
  },
  {
   "cell_type": "code",
   "execution_count": 114,
   "id": "b29a4eda-898d-43bf-bbd9-cf0d1f7efeed",
   "metadata": {},
   "outputs": [],
   "source": [
    "# retorna o circuito quantico que prepara um certo estado real de 2 qubits\n",
    "# coef = array com os 4 coeficientes reais do estado na base computacional\n",
    "def qc_psi_2qb_real(coef):\n",
    "    qr = QuantumRegister(2)\n",
    "    qc = QuantumCircuit(qr, name = 'psir_2qb')\n",
    "    xi = 2*math.acos(math.sqrt(coef[0]**2+coef[1]**2))\n",
    "    coef1 = [math.sqrt(coef[0]**2+coef[1]**2),math.sqrt(1-coef[0]**2-coef[1]**2)]\n",
    "    c_psi_1qb_real_ = qc_psi_1qb_real(coef1)\n",
    "    qc.append(c_psi_1qb_real_, [qr[0]])\n",
    "    th0 = 2*math.atan(np.abs(coef[1])/np.abs(coef[0]))\n",
    "    th1 = 2*math.atan(np.abs(coef[3])/np.abs(coef[2]))\n",
    "    qc.x(0)\n",
    "    qc.cry(th0, 0, 1)\n",
    "    qc.x(0)\n",
    "    qc.cry(th1, 0, 1)\n",
    "    return qc"
   ]
  },
  {
   "cell_type": "code",
   "execution_count": 115,
   "id": "46992c9b-ad7f-4153-a012-a57693b4456e",
   "metadata": {},
   "outputs": [
    {
     "name": "stdout",
     "output_type": "stream",
     "text": [
      "[0.31622777 0.4472136  0.54772256 0.63245553]\n"
     ]
    },
    {
     "data": {
      "image/png": "[encoded data removed]",
      "text/plain": [
       "<Figure size 658.604x200.667 with 1 Axes>"
      ]
     },
     "execution_count": 115,
     "metadata": {},
     "output_type": "execute_result"
    }
   ],
   "source": [
    "eigvals = [0.1, 0.2, 0.3, 0.4]\n",
    "coef = np.sqrt(eigvals)\n",
    "print(coef)\n",
    "qc_psi_2qb_real_ = qc_psi_2qb_real(coef)\n",
    "qc_psi_2qb_real_.draw('mpl')"
   ]
  },
  {
   "cell_type": "code",
   "execution_count": 116,
   "id": "7cf5d673-2af2-4f28-8313-f88e7c2a740e",
   "metadata": {},
   "outputs": [
    {
     "name": "stdout",
     "output_type": "stream",
     "text": [
      "Statevector([1.+0.j, 0.+0.j, 0.+0.j, 0.+0.j],\n",
      "            dims=(2, 2))\n"
     ]
    }
   ],
   "source": [
    "sv = Statevector.from_label('00')\n",
    "sv"
   ]
  },
  {
   "cell_type": "code",
   "execution_count": 117,
   "id": "0179f8d5-71ac-48dd-beb9-d61f83877b53",
   "metadata": {},
   "outputs": [
    {
     "name": "stdout",
     "output_type": "stream",
     "text": [
      "Statevector([0.31622777+0.j, 0.54772256+0.j, 0.4472136 +0.j,\n",
      "             0.63245553+0.j],\n",
      "            dims=(2, 2))\n"
     ]
    }
   ],
   "source": [
    "sv = sv.evolve(qc_psi_2qb_real_)\n",
    "sv # note o ordenamento, o 2º qb é o 1º e o 1º é o 2º (00,10,01,11)"
   ]
  },
  {
   "cell_type": "markdown",
   "id": "3fe9cf7b-b2d4-43df-9668-4c06cba8fbc3",
   "metadata": {},
   "source": [
    "## 3 qubits\n",
    "\n",
    "Consideremos um estado misto de 3 qubits:\n",
    "$$\\rho = \\sum_{j,k,l=0}^{1}r_{jkl}|r_{jkl}\\rangle\\langle r_{jkl}|.$$\n",
    "Começamos com os autovalores preparando o estado puro real de 3 qubits:\n",
    "$$|\\psi_{r3}\\rangle = \\sum_{j,k,l=0}^{1}\\sqrt{r_{jkl}}|jkl\\rangle.$$\n",
    "Este estado é preparado usando\n",
    "\\begin{align}\n",
    "|\\psi_{r3}\\rangle & = C_{R_{y}(\\theta_{00})}^{0_{0}1_{0}\\rightarrow 2}C_{R_{y}(\\theta_{01})}^{0_{0}1_{1}\\rightarrow 2}C_{R_{y}(\\theta_{10})}^{0_{1}1_{0}\\rightarrow 2}C_{R_{y}(\\theta_{11})}^{0_{1}1_{1}\\rightarrow 2}\\big(|\\psi_{r2}\\rangle_{01}\\otimes|0\\rangle_2\\big) \\\\\n",
    "& = \\Pi_{j,k=0,1}C_{R_{y}(\\theta_{jk})}^{0_{j}1_{k}\\rightarrow 2}\\big(|\\psi_{r2}\\rangle_{01}\\otimes|0\\rangle_2\\big)\n",
    "\\end{align}\n",
    "com\n",
    "$$\\theta_{jk} = 2\\arctan(|\\sqrt{r_{jk1}}|/|\\sqrt{r_{jk0}}|)$$\n",
    "e\n",
    "$$|\\psi_{r2}\\rangle = \\sum_{j,k=0}^{1}c_{jk}|jk\\rangle$$\n",
    "para\n",
    "$$c_{jk} = \\sqrt{r_{jk0}+r_{jk1}}.$$"
   ]
  },
  {
   "cell_type": "code",
   "execution_count": 145,
   "id": "2b2455b9-7f16-4f19-b791-e5961f3b6e31",
   "metadata": {},
   "outputs": [],
   "source": [
    "def qc_ry(th):\n",
    "    qr = QuantumRegister(1)\n",
    "    qc = QuantumCircuit(qr, name = 'RY')\n",
    "    qc.ry(th, 0)\n",
    "    return qc"
   ]
  },
  {
   "cell_type": "code",
   "execution_count": 157,
   "id": "b548eb27-be60-448f-af09-b2057600c6df",
   "metadata": {},
   "outputs": [],
   "source": [
    "# retorna o circuito quantico que prepara um certo estado real de 3 qubits\n",
    "# coef = array com os 8 coeficientes reais do estado na base computacional\n",
    "def qc_psi_3qb_real(coef):\n",
    "    qr = QuantumRegister(3)\n",
    "    qc = QuantumCircuit(qr, name = 'psir_3qb')\n",
    "    d = len(coef)\n",
    "    coef2 = np.zeros(d//2)\n",
    "    th = np.zeros(d//2)\n",
    "    for j in range(0,2):\n",
    "        for k in range(0,2):\n",
    "            coef2[int(str(j)+str(k),2)] = math.sqrt(coef[int(str(j)+str(k)+str(0),2)]**2+coef[int(str(j)+str(k)+str(1),2)]**2) \n",
    "    c_psi_2qb_real_ = qc_psi_2qb_real(coef2)\n",
    "    qc.append(c_psi_2qb_real_, [qr[0],qr[1]])\n",
    "    for j in range(0,2):\n",
    "        for k in range(0,2):\n",
    "            th[int(str(j)+str(k),2)] = 2*math.atan(np.abs(coef[int(str(j)+str(k)+str(1),2)])/np.abs(coef[int(str(j)+str(k)+str(0),2)]))\n",
    "            if j == 0:\n",
    "                qc.x(0)\n",
    "            if k == 0:\n",
    "                qc.x(1)\n",
    "            qc_ry_ = qc_ry(th[int(str(j)+str(k),2)])\n",
    "            ccry = qc_ry_.to_gate().control(2)\n",
    "            qc.append(ccry, [0,1,2])\n",
    "            if j == 0:\n",
    "                qc.x(0)\n",
    "            if k == 0:\n",
    "                qc.x(1)\n",
    "    return qc"
   ]
  },
  {
   "cell_type": "code",
   "execution_count": 197,
   "id": "b1814616-2b26-4635-8e81-43ad20ee88ef",
   "metadata": {},
   "outputs": [
    {
     "name": "stdout",
     "output_type": "stream",
     "text": [
      "['000', '001', '010', '011', '100', '101', '110', '111']\n"
     ]
    }
   ],
   "source": [
    "list_bin = []\n",
    "for j in range(0,2**3):\n",
    "    b = \"{:03b}\".format(j)\n",
    "    list_bin.append(b)\n",
    "print(list_bin)"
   ]
  },
  {
   "cell_type": "code",
   "execution_count": 147,
   "id": "0c0a1128-0d73-4668-b08a-cfe484602f08",
   "metadata": {},
   "outputs": [
    {
     "name": "stdout",
     "output_type": "stream",
     "text": [
      "[0.1        0.31622777 0.2        0.4472136  0.2236068  0.54772256\n",
      " 0.42426407 0.34641016]\n"
     ]
    },
    {
     "data": {
      "image/png": "[encoded data removed]",
      "text/plain": [
       "<Figure size 1076.86x284.278 with 1 Axes>"
      ]
     },
     "execution_count": 147,
     "metadata": {},
     "output_type": "execute_result"
    }
   ],
   "source": [
    "eigvals = [0.01,0.1,0.04,0.2,0.05,0.3,0.18,0.12]\n",
    "coef = np.sqrt(eigvals)\n",
    "print(coef)\n",
    "qc_psi_3qb_real_ = qc_psi_3qb_real(coef)\n",
    "qc_psi_3qb_real_.draw('mpl') # odernamento: '000', '001', '010', '011', '100', '101', '110', '111'"
   ]
  },
  {
   "cell_type": "code",
   "execution_count": 149,
   "id": "f601c38b-fe5b-4a1e-9779-0f799f30def8",
   "metadata": {},
   "outputs": [
    {
     "name": "stdout",
     "output_type": "stream",
     "text": [
      "Statevector([1.+0.j, 0.+0.j, 0.+0.j, 0.+0.j, 0.+0.j, 0.+0.j, 0.+0.j,\n",
      "             0.+0.j],\n",
      "            dims=(2, 2, 2))\n"
     ]
    }
   ],
   "source": [
    "sv = Statevector.from_label('000')\n",
    "sv"
   ]
  },
  {
   "cell_type": "code",
   "execution_count": 150,
   "id": "c6c5ef42-aa2a-4479-8721-def27900fc7e",
   "metadata": {},
   "outputs": [
    {
     "name": "stdout",
     "output_type": "stream",
     "text": [
      "Statevector([0.1       +0.j, 0.2236068 +0.j, 0.2       +0.j,\n",
      "             0.42426407+0.j, 0.31622777+0.j, 0.54772256+0.j,\n",
      "             0.4472136 +0.j, 0.34641016+0.j],\n",
      "            dims=(2, 2, 2))\n"
     ]
    }
   ],
   "source": [
    "sv = sv.evolve(qc_psi_3qb_real_)\n",
    "sv # ordenamento aqui: 000 100 010 110 001 101 011 111"
   ]
  },
  {
   "cell_type": "markdown",
   "id": "64af6a19-576d-40dc-81bc-77eb01b1867f",
   "metadata": {},
   "source": [
    "## 4 qubits\n",
    "\n",
    "Consideremos um estado misto de 4 qubits:\n",
    "$$\\rho = \\sum_{j,k,l,m=0}^{1}r_{jklm}|r_{jklm}\\rangle\\langle r_{jklm}|.$$\n",
    "Começamos com os autovalores preparando o estado puro real de 4 qubits:\n",
    "$$|\\psi_{r4}\\rangle = \\sum_{j,k,l,m=0}^{1}\\sqrt{r_{jklm}}|jklm\\rangle.$$\n",
    "Este estado é preparado usando\n",
    "\\begin{align}\n",
    "|\\psi\\rangle & =  \\Pi_{j,k,l=0}^{1}C_{R_y(\\theta_{jkl})}^{0_{j}1_{k}2_l\\rightarrow 3}\\big(|\\Phi\\rangle_{012}\\otimes|0\\rangle_3\\big)\n",
    "\\end{align}\n",
    "com o uso do estado real de 3 qubits:\n",
    "\\begin{align}\n",
    "|\\Phi\\rangle & = \\sum_{j,k,l=0}^{1}c_{jkl}|jkl\\rangle\n",
    "\\end{align}\n",
    "em que\n",
    "$$c_{jkl} = \\sqrt{r_{jkl0}+r_{jkl1}}$$\n",
    "e\n",
    "$$\\theta_{jkl} = 2\\arctan(\\sqrt{r_{jkl1}}/\\sqrt{r_{jkl0}}).$$"
   ]
  },
  {
   "cell_type": "code",
   "execution_count": 165,
   "id": "740a1911-69d6-4a59-a1c9-942fe5a7a32a",
   "metadata": {},
   "outputs": [],
   "source": [
    "# retorna o circuito quantico que prepara um certo estado real de 4 qubits\n",
    "# coef = array com os 16 coeficientes reais do estado na base computacional\n",
    "def qc_psi_4qb_real(coef):\n",
    "    qr = QuantumRegister(4)\n",
    "    qc = QuantumCircuit(qr, name = 'psir_4qb')\n",
    "    d = len(coef)\n",
    "    coef3 = np.zeros(d//2)\n",
    "    th = np.zeros(d//2)\n",
    "    for j in range(0,2):\n",
    "        for k in range(0,2):\n",
    "            for l in range(0,2):\n",
    "                coef3[int(str(j)+str(k)+str(l),2)] = math.sqrt(coef[int(str(j)+str(k)+str(l)+str(0),2)]**2+coef[int(str(j)+str(k)+str(l)+str(1),2)]**2) \n",
    "    c_psi_3qb_real_ = qc_psi_3qb_real(coef3)\n",
    "    qc.append(c_psi_3qb_real_, [qr[0],qr[1],qr[2]])\n",
    "    for j in range(0,2):\n",
    "        for k in range(0,2):\n",
    "            for l in range(0,2):\n",
    "                th[int(str(j)+str(k)+str(l),2)] = 2*math.atan(np.abs(coef[int(str(j)+str(k)+str(l)+str(1),2)])/np.abs(coef[int(str(j)+str(k)+str(l)+str(0),2)]))\n",
    "                if j == 0:\n",
    "                    qc.x(0)\n",
    "                if k == 0:\n",
    "                    qc.x(1)\n",
    "                if l == 0:\n",
    "                    qc.x(2)\n",
    "                qc_ry_ = qc_ry(th[int(str(j)+str(k)+str(l),2)])\n",
    "                ccry = qc_ry_.to_gate().control(3)\n",
    "                qc.append(ccry, [0,1,2,3])\n",
    "                if j == 0:\n",
    "                    qc.x(0)\n",
    "                if k == 0:\n",
    "                    qc.x(1)                \n",
    "                if l == 0:\n",
    "                    qc.x(2)\n",
    "    return qc"
   ]
  },
  {
   "cell_type": "code",
   "execution_count": 198,
   "id": "34f50795-74cc-4a30-8404-70ca6442f286",
   "metadata": {},
   "outputs": [
    {
     "name": "stdout",
     "output_type": "stream",
     "text": [
      "['0000', '0001', '0010', '0011', '0100', '0101', '0110', '0111', '1000', '1001', '1010', '1011', '1100', '1101', '1110', '1111']\n"
     ]
    }
   ],
   "source": [
    "list_bin = []\n",
    "for j in range(0,2**4):\n",
    "    b = \"{:04b}\".format(j)\n",
    "    list_bin.append(b)\n",
    "print(list_bin)"
   ]
  },
  {
   "cell_type": "code",
   "execution_count": 195,
   "id": "eea89cb8-1ea1-4fa8-bc13-72e24a04863d",
   "metadata": {},
   "outputs": [
    {
     "name": "stdout",
     "output_type": "stream",
     "text": [
      "[0.08944272 0.11401754 0.13416408 0.15165751 0.16733201 0.18165902\n",
      " 0.19493589 0.20736441 0.21908902 0.23021729 0.24083189 0.25099801\n",
      " 0.2607681  0.27018512 0.2792848  0.59581876]\n"
     ]
    },
    {
     "data": {
      "image/png": "[encoded data removed]",
      "text/plain": [
       "<Figure size 2014.81x367.889 with 1 Axes>"
      ]
     },
     "execution_count": 195,
     "metadata": {},
     "output_type": "execute_result"
    }
   ],
   "source": [
    "eigvals = np.zeros(2**4)\n",
    "eigvals[0] = 0.008\n",
    "for j in range(1,len(eigvals)-1):\n",
    "    eigvals[j] = eigvals[j-1]+0.005\n",
    "#print(np.sum(eigvals))\n",
    "eigvals[j+1] = 1 - np.sum(eigvals)\n",
    "#print(eigvals)\n",
    "#print(np.sum(eigvals))\n",
    "coef = np.sqrt(eigvals)\n",
    "print(coef)\n",
    "qc_psi_4qb_real_ = qc_psi_4qb_real(coef)\n",
    "qc_psi_4qb_real_.draw('mpl') \n",
    "# '0000', '0001', '0010', '0011', '0100', '0101', '0110', '0111', '1000', '1001', '1010', '1011', '1100', '1101', '1110', '1111'"
   ]
  },
  {
   "cell_type": "code",
   "execution_count": 199,
   "id": "9d08a580-048b-409f-a7c7-6107139172d9",
   "metadata": {},
   "outputs": [
    {
     "name": "stdout",
     "output_type": "stream",
     "text": [
      "Statevector([1.+0.j, 0.+0.j, 0.+0.j, 0.+0.j, 0.+0.j, 0.+0.j, 0.+0.j,\n",
      "             0.+0.j, 0.+0.j, 0.+0.j, 0.+0.j, 0.+0.j, 0.+0.j, 0.+0.j,\n",
      "             0.+0.j, 0.+0.j],\n",
      "            dims=(2, 2, 2, 2))\n"
     ]
    }
   ],
   "source": [
    "sv = Statevector.from_label('0000')\n",
    "sv"
   ]
  },
  {
   "cell_type": "code",
   "execution_count": 200,
   "id": "64a42f5a-9631-4d8c-8391-d75b98325c4f",
   "metadata": {},
   "outputs": [
    {
     "name": "stdout",
     "output_type": "stream",
     "text": [
      "Statevector([0.08944272+0.j, 0.21908902+0.j, 0.16733201+0.j,\n",
      "             0.2607681 +0.j, 0.13416408+0.j, 0.24083189+0.j,\n",
      "             0.19493589+0.j, 0.2792848 +0.j, 0.11401754+0.j,\n",
      "             0.23021729+0.j, 0.18165902+0.j, 0.27018512+0.j,\n",
      "             0.15165751+0.j, 0.25099801+0.j, 0.20736441+0.j,\n",
      "             0.59581876+0.j],\n",
      "            dims=(2, 2, 2, 2))\n"
     ]
    }
   ],
   "source": [
    "sv = sv.evolve(qc_psi_4qb_real_)\n",
    "sv # ordenamento aqui: 0000 1000 0100 1100 0010 1010 0110 1110 0001 1001 0101 1101 0011 1011 0111 1111"
   ]
  },
  {
   "cell_type": "code",
   "execution_count": 202,
   "id": "7685ba4d-b737-4611-8c81-6fc2c913c8af",
   "metadata": {},
   "outputs": [
    {
     "data": {
      "text/plain": [
       "(0.2190890230020668+0j)"
      ]
     },
     "execution_count": 202,
     "metadata": {},
     "output_type": "execute_result"
    }
   ],
   "source": [
    "sv[1]"
   ]
  },
  {
   "cell_type": "markdown",
   "id": "ae8333f1",
   "metadata": {},
   "source": [
    "# Algoritmo geral para preparação de estados mistos\n",
    "\n",
    "<img src='fig_rho_preparation.png' width='500'>"
   ]
  },
  {
   "cell_type": "markdown",
   "id": "5a318cf5",
   "metadata": {},
   "source": [
    "Para \n",
    "$$\\rho = \\sum_{j=0}^{d-1} r_j|r_j\\rangle\\langle r_j|,$$\n",
    "com \n",
    "$$d=2^n,$$\n",
    "começamos preparando\n",
    "\\begin{align}\n",
    "|\\psi_{real}\\rangle & = U|0\\rangle^{\\otimes n} \\\\\n",
    "& = \\sum_{j=0}^{d-1} \\sqrt{r_j}|j\\rangle \\\\\n",
    "& = \\sum_{j_{0},\\cdots,j_{n-1}=0}^{1} \\sqrt{r_{j_{0},\\cdots,j_{n-1}}}|j_{0} \\cdots j_{n-1}\\rangle.\n",
    "\\end{align}"
   ]
  },
  {
   "cell_type": "markdown",
   "id": "4108b434",
   "metadata": {},
   "source": [
    "Depois se insere incerteza clássica (mistura estatística) nesse estado o correlacionando com outros $n$ qubits auxiliares\n",
    "\\begin{align}\n",
    "|\\psi_{pur}\\rangle & = C_{X}^{\\otimes n}|\\psi_{real}\\rangle|0\\rangle^{\\otimes n} \\\\\n",
    "& = \\sum_{j_{0},\\cdots,j_{n-1}=0}^{1} \\sqrt{r_{j_{0},\\cdots,j_{n-1}}} C_{X}^{0\\rightarrow n}|j_{0}\\rangle_{0}|0\\rangle_{n}\\otimes\\cdots\\otimes C_{X}^{n-1\\rightarrow 2n-1}|j_{n-1}\\rangle_{n-1}|0\\rangle_{2n-1} \\\\\n",
    "& = \\sum_{j_{0},\\cdots,j_{n-1}=0}^{1} \\sqrt{r_{j_{0},\\cdots,j_{n-1}}} |j_{0}\\rangle_{0}|j_0\\rangle_{n}\\otimes \\cdots \\otimes |j_{n-1}\\rangle_{n-1}|j_{n-1}\\rangle_{2n-1} \\\\\n",
    "& = \\sum_{j_{0},\\cdots,j_{n-1}=0}^{1} \\sqrt{r_{j_{0},\\cdots,j_{n-1}}} |j_{0}\\cdots j_{n-1}\\rangle_{0,\\cdots,n-1}|j_0\\cdots j_{m-1}\\rangle_{n-1,\\cdots,2n-1} \\\\\n",
    "& = \\sum_{j=0}^{2^n -1} \\sqrt{r_{j}} |j\\rangle_{0,\\cdots,n-1}|j\\rangle_{n-1,\\cdots,2n-1}.\n",
    "\\end{align}"
   ]
  },
  {
   "cell_type": "markdown",
   "id": "b80b855e",
   "metadata": {},
   "source": [
    "Definindo\n",
    "$$V|j\\rangle = |r_j\\rangle$$\n",
    "Teremos que\n",
    "\\begin{align}\n",
    "|\\psi_{f}\\rangle & = (V\\otimes I)|\\psi_{pur}\\rangle \\\\\n",
    "& = \\sum_{j=0}^{2^n -1} \\sqrt{r_{j}} V|j\\rangle_{0,\\cdots,n-1}|j\\rangle_{n-1,\\cdots,2n-1} \\\\\n",
    "& = \\sum_{j=0}^{2^n -1} \\sqrt{r_{j}} |r_j\\rangle_{0,\\cdots,n-1}|j\\rangle_{n-1,\\cdots,2n-1}.\n",
    "\\end{align}\n",
    "\n",
    "Assim\n",
    "\\begin{align}\n",
    "Tr_{n-1,\\cdots,2n-1}(|\\psi_f\\rangle\\langle\\psi_f|) & = \\sum_{j=0}^{2^n -1} r_{j} |r_j\\rangle\\langle r_j|_{0,\\cdots,n-1} \\\\\n",
    "& = \\rho.\n",
    "\\end{align}"
   ]
  },
  {
   "cell_type": "markdown",
   "id": "4d8f9341",
   "metadata": {},
   "source": [
    "Algoritmo\n",
    "\\begin{align}\n",
    "& Lapack \\rightarrow W = \\begin{bmatrix} r_0 \\\\ \\vdots \\\\ r_{d-1} \\end{bmatrix},\\ M = \\begin{bmatrix} |r_0\\rangle & \\cdots & |r_{d-1}\\rangle \\end{bmatrix} \\\\\n",
    "& \\downarrow \\\\\n",
    "& W \\rightarrow qiskit\\ state\\ preparation \\rightarrow U \\\\\n",
    "& M \\rightarrow qiskit\\ unitary\\ compilation \\rightarrow V \\\\\n",
    "& \\downarrow \\\\\n",
    "& |0\\rangle^{2n} \\rightarrow U \\rightarrow CNOTs \\rightarrow V \\rightarrow state\\ tomography \n",
    "\\end{align}"
   ]
  },
  {
   "cell_type": "code",
   "execution_count": null,
   "id": "3c4c1b5d",
   "metadata": {},
   "outputs": [],
   "source": []
  },
  {
   "cell_type": "markdown",
   "id": "495a037e",
   "metadata": {},
   "source": [
    "## Preparação de estados térmicos\n",
    "\n",
    "Estados térmicos tem a forma\n",
    "$$\\rho_{th} = \\frac{e^{-\\beta H}}{Z} = \\sum_j \\frac{e^{-\\beta E_j}}{Z}|E_j\\rangle\\langle E_j| = \\sum_j Pr(E_j)|E_j\\rangle\\langle E_j|,$$\n",
    "com\n",
    "$$Z = Tr(e^{-\\beta H}) = \\sum_j e^{-\\beta E_j}.$$"
   ]
  },
  {
   "cell_type": "code",
   "execution_count": null,
   "id": "f8353d89",
   "metadata": {},
   "outputs": [],
   "source": []
  },
  {
   "cell_type": "code",
   "execution_count": null,
   "id": "c533adb6",
   "metadata": {},
   "outputs": [],
   "source": []
  },
  {
   "cell_type": "code",
   "execution_count": null,
   "id": "7f44081a",
   "metadata": {},
   "outputs": [],
   "source": []
  },
  {
   "cell_type": "markdown",
   "id": "8bdec51e-b526-42c6-9ce9-feafc3124a17",
   "metadata": {},
   "source": [
    "### Referências\n",
    "\n",
    "1. M. B. Pozzobom and J. Maziero, “Preparing tunable Bell-diagonal states on a quantum computer,” Quantum Inf Process, vol. 18, no. 5, p. 142, Mar. 2019, doi: 10.1007/s11128-019-2264-z.\n",
    "\n",
    "1. E. Riedel Gårding et al., “Bell Diagonal and Werner State Generation: Entanglement, Non-Locality, Steering and Discord on the IBM Quantum Computer,” Entropy, vol. 23, no. 7, Art. no. 7, Jul. 2021, doi: 10.3390/e23070797.\n",
    "\n",
    "1. F. Shahbeigi, M. Karimi, and V. Karimipour, “Simulating of X-states and the two-qubit XYZ Heisenberg system on IBM quantum computer,” Phys. Scr., vol. 97, no. 2, p. 025101, Feb. 2022, doi: 10.1088/1402-4896/ac49b0.\n",
    "\n",
    "1. https://github.com/jonasmaziero/qiskit3/blob/main/01_state_preparation.ipynb\n",
    "\n",
    "1. L. Madden and A. Simonetto, “Best Approximate Quantum Compiling Problems.” arXiv, Nov. 26, 2021. doi: 10.48550/arXiv.2106.05649.\n",
    "\n",
    "1. “Approximate Quantum Compiler qiskit.” https://qiskit.org/documentation/apidoc/synthesis_aqc.html (accessed Mar. 16, 2023).\n"
   ]
  },
  {
   "cell_type": "code",
   "execution_count": null,
   "id": "5cb293ee-f668-4223-b3d0-f05a5d3b7454",
   "metadata": {},
   "outputs": [],
   "source": []
  }
 ],
 "metadata": {
  "kernelspec": {
   "display_name": "Python 3 (ipykernel)",
   "language": "python",
   "name": "python3"
  },
  "language_info": {
   "codemirror_mode": {
    "name": "ipython",
    "version": 3
   },
   "file_extension": ".py",
   "mimetype": "text/x-python",
   "name": "python",
   "nbconvert_exporter": "python",
   "pygments_lexer": "ipython3",
   "version": "3.9.13"
  }
 },
 "nbformat": 4,
 "nbformat_minor": 5
}
