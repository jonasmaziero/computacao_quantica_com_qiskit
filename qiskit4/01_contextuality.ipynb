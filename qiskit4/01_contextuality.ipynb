{
 "cells": [
  {
   "cell_type": "markdown",
   "id": "3511f0fe-2ece-4f6e-8e69-e992468c9879",
   "metadata": {},
   "source": [
    "# Contextualidade quântica\n",
    "\n",
    "## Introdução \n",
    "\n",
    "Um sistema clássico $S$ é caracterizado por uma tupla de atributos \n",
    "$$\\vec{a}=\\begin{bmatrix} a_1 & \\cdots & a_N\\end{bmatrix}^T.$$\n",
    "Esses atributos podem ser posição, momento, spin, etc. Medidas clássicas são funções determinísticas,\n",
    "$$\\hat{a}_j:S\\rightarrow a_j\\in\\mathbb{R},$$\n",
    "que meramente revelam o valor pré-existente de um atributo sem perturbá-lo. Por isso, dizemos que $\\vec{a}$ são __estados ônticos__:\n",
    "$$\\text{Ôntico = que realmente existe.}$$\n",
    "\n",
    "Por outro lado:\n",
    "$$\\text{Epistêmico = relacionado a conhecimento.}$$\n",
    "Quando existe ignorância epistêmica, ou seja, quando os valores dos atributos estão bem definidos previamente mas não os conhecemos por alguma razão, a física clássica lida com esse aparente indeterminismo e modela $S$ usando um ensemble estatístico, ou __estado epistêmico__, que é uma combinação convexa de $K$ tuplas\n",
    "\\begin{align}\n",
    "\\langle\\vec{a}\\rangle & = \\begin{bmatrix} \\vec{a}^{(1)} & \\cdots & \\vec{a}^{(K)}\\end{bmatrix}\\vec{p} \\\\\n",
    "& = \\vec{a}^{(1)}p_1 + \\vec{a}^{(2)}p_2 + \\cdots + \\vec{a}^{(K)}p_K,\n",
    "\\end{align}\n",
    "em que $\\vec{p}$ é uma distribuição de probabilidades, ou seja\n",
    "$$p_j\\in[0,1],\\ \\sum_{j=1}^{K}p_j=1.$$"
   ]
  },
  {
   "cell_type": "markdown",
   "id": "d25b96a6-fa2b-4d9d-ae8c-e86525b09e31",
   "metadata": {},
   "source": [
    "Consideremos explicitamente o caso com $N=2$. Ou seja, consideramos um sistema com 2 atributos. Consideremos ainda que esses atributos somente podem assumir os valores $+1$ e $-1$. Você pode pensar esses atributos como sendo as componentes de spin 1/2 no paradoxo EPR. Os possíveis estados ônticos são então\n",
    "$$\\vec{a}^{(1)}=\\begin{bmatrix}+1 \\\\ +1\\end{bmatrix},\\ \\vec{a}^{(2)}=\\begin{bmatrix}+1 \\\\ -1\\end{bmatrix},\\ \\vec{a}^{(3)}=\\begin{bmatrix}-1 \\\\ +1\\end{bmatrix},\\ \\vec{a}^{(4)}=\\begin{bmatrix}-1 \\\\ -1\\end{bmatrix}.$$\n",
    "Seja $p_j$ a probabilidade do estado ôntico $\\vec{a}^{(j)}$. Teremos assim que o estado epistêmico é dado por\n",
    "$$\\langle \\vec{a}\\rangle = \\begin{bmatrix}\\langle a_1\\rangle \\\\ \\langle a_2\\rangle \\end{bmatrix} = \\begin{bmatrix}+1&+1&-1&-1 \\\\ +1&-1&+1&-1\\end{bmatrix}\\begin{bmatrix}p_1\\\\p_2\\\\p_3\\\\p_4\\end{bmatrix} = \\begin{bmatrix}p_1+p_2-p_3-p_4 \\\\ p_1-p_2+p_3-p_4\\end{bmatrix}.$$\n",
    "Para estimar o estado epistêmico, temos que estimar as probabilidades (frequências relativas) das diferentes combinações de valores dos atributos. No entanto, vemos de pronto que este procedimento é problemático no caso quântico, onde podemos ter atributos que não comutam e que portanto não podem ser medidos conjuntamente, como é o caso por exemplo de 2 componentes $\\sigma_1$ e $\\sigma_2$ de um spin 1/2."
   ]
  },
  {
   "cell_type": "markdown",
   "id": "d62b2530-1d52-44ed-b2fb-1f5318841ba5",
   "metadata": {},
   "source": [
    "## Conjuntos de medidas compatíveis\n",
    "No entanto, se consideramos somente _atributos comutantes_, não precisaremos nos preocupar com a questão de perturbação pela medida. Neste cenário, um conjunto de atributos mutuamente comutantes é chamado de __contexto__:\n",
    "$$C_1=\\{\\hat{a}_n,\\hat{a}_k,\\hat{a}_l,\\hat{a}_m,\\cdots\\}.$$\n",
    "Qualquer sequência de medidas feitas no mesmo contexto é esperada levar para a mesma estatística para um certo atributo.\n",
    "\n",
    "Se existe um contexto diferente\n",
    "$$C_2=\\{\\hat{a}_n,\\hat{a}_\\kappa,\\hat{a}_\\lambda,\\hat{a}_\\mu,\\cdots\\}$$\n",
    "com um elemento \n",
    "$$\\hat{a}_n = C_1\\cup C_2$$\n",
    "comum a ambos os contextos, __não contextualidade__ é a afirmação de que a estatística estimada para $a_n$ deve ser a mesma, independente do contexto em que este é medido. O caso oposto é o da __contextualidade__, que é quando a estatística para $a_n$ depende do contexto em que este atributo é medido."
   ]
  },
  {
   "cell_type": "markdown",
   "id": "e886ae30-091b-42c6-9a1a-cf8318142924",
   "metadata": {},
   "source": [
    "## Produtos de atributos\n",
    "Podemos considerar sequências, ou produtos, de medidas de atributos, se estes estiverem no mesmo contexto. Um exemplo seria\n",
    "$$\\hat{a}_{(n,k)}:S\\rightarrow a_n a_k\\in\\mathbb{R}.$$\n",
    "\n",
    "Estes produtos de atributos podem ser agrupados em um grupo de produtos mutuamente comutantes, ou seja, em um contexto:\n",
    "$$C=\\{\\hat{a}_{(n,k)},\\hat{a}_{(l,m)},\\cdots\\}.$$\n",
    "Vale observar que embora os produtos que compõem este contexto são mutuamente compatíveis, ou seja, \n",
    "$$[\\hat{a}_{(n,k)},\\hat{a}_{(l,m)}]=0,$$\n",
    "os atributos individuais que compõem esses produtos podem não ser compatíveis, ou seja, podemos ter e.g.\n",
    "$$[\\hat{a}_{n},\\hat{a}_{k}]\\ne 0.$$"
   ]
  },
  {
   "cell_type": "markdown",
   "id": "bf73e241-95fd-45a2-9de8-f889edffc568",
   "metadata": {},
   "source": [
    "## Resultados impossíveis para produtos de medidas\n",
    "\n",
    "Vamos usar como exemplo um sistema com três atributos dicotómicos, que podem assumir os valores $\\{+1,-1\\}$. Nesse caso, o estado epistêmico seria dado por\n",
    "$$\n",
    "\\langle\\vec{a}\\rangle = \\begin{bmatrix}\\langle a_1\\rangle \\\\ \\langle a_2\\rangle \\\\ \\langle a_3\\rangle \\end{bmatrix} = \\begin{bmatrix} \n",
    "+1 & +1 & +1 & +1 & -1 & -1 & -1 & -1 \\\\ \n",
    "+1 & +1 & -1 & -1 & +1 & +1 & -1 & -1 \\\\ \n",
    "+1 & -1 & +1 & -1 & +1 & -1 & +1 & -1 \\\\ \\end{bmatrix}\\vec{p}.\n",
    "$$\n",
    "Agora, se consideramos o estado epistêmico para o produtos dos atributos, teremos o __vetor de medidas__\n",
    "$$\n",
    "\\vec{\\mu}_R=\\begin{bmatrix}\\langle a_1 a_2\\rangle \\\\ \\langle a_1 a_3\\rangle \\\\ \\langle a_2 a_3\\rangle \\end{bmatrix} = \\begin{bmatrix} \n",
    "+1 & +1 & -1 & -1 & -1 & -1 & +1 & +1 \\\\ \n",
    "+1 & -1 & +1 & -1 & -1 & +1 & -1 & +1 \\\\ \n",
    "+1 & -1 & -1 & +1 & +1 & -1 & -1 & +1 \\\\ \\end{bmatrix}\\vec{p} = \\hat{A}\\vec{p}.\n",
    "$$\n",
    "Desconsiderando as colunas repetidas, podemos escrever este estado epistêmico usando um vetor de probabilidade de dimensão menor:\n",
    "$$\n",
    "\\vec{\\mu}_R=\\begin{bmatrix}\\langle a_1 a_2\\rangle \\\\ \\langle a_1 a_3\\rangle \\\\ \\langle a_2 a_3\\rangle \\end{bmatrix} = \\begin{bmatrix} \n",
    "+1 & +1 & -1 & -1 \\\\ \n",
    "+1 & -1 & -1 & +1 \\\\ \n",
    "+1 & -1 & +1 & -1 \\\\ \\end{bmatrix}\\vec{p} = \\hat{A}^{(R)}\\vec{p}_\\pi.\n",
    "$$\n",
    "Qualquer combinação convexa deste tipo é dita __real__ segundo o critério de __realismo de EPR__."
   ]
  },
  {
   "cell_type": "markdown",
   "id": "d6feaf34-f6df-49e3-8498-fdd9dbbdd57b",
   "metadata": {},
   "source": [
    "Vemos assim que todas as combinações convexas das colunas de\n",
    "$$\n",
    "\\hat{A}^{(U)} = \\begin{bmatrix} \n",
    "-1 & -1 & +1 & +1 \\\\ \n",
    "-1 & +1 & -1 & +1 \\\\ \n",
    "-1 & +1 & +1 & -1 \\\\ \\end{bmatrix} \n",
    "$$\n",
    "são __estados epistêmicos não reais__, ou impossíveis segundo a construção que fizemos de estados epistêmicos a partir de estados ônticos. \n",
    "\n",
    "Com isso, podemos definir uma __métrica__ para o quanto um certo estado epistêmico $\\vec{\\mu}$ falha em ser real. Isso pode ser feito usando a mínima distância euclidiana de $\\vec{\\mu}$ ao conjunto convexo de estados epistêmicos reais:\n",
    "$$D(\\vec{\\mu}) = \\min_{\\vec{p}_{\\pi}}||\\vec{\\mu}-\\hat{A}^{(R)}\\vec{p}_\\pi||.$$\n",
    "Se $D(\\vec{\\mu}) = 0$, o vetor de medias $\\vec{\\mu}$ é dito real, caso contrário é dito irreal. Quanto maior for $D(\\vec{\\mu})$ mais irreal seria o vetor de medidas $\\vec{\\mu}$."
   ]
  },
  {
   "cell_type": "markdown",
   "id": "3b5fde05-cd25-4e9e-9c32-5144fc7d5391",
   "metadata": {},
   "source": [
    "## Contextualidade e medidas não reais\n",
    "\n",
    "E se no experimento obtivermos um vetor irreal (classicamente impossível), qual interpretação devemos fazer deste resultado? Devemos abandonar a suposição de que os atributos tem valores pré-definidos? Ou será que a distribuição de probabilidades $\\vec{p}$ muda de um contexto para o outro? \n",
    "\n",
    "Para ajudar com essas interpretações, frequentemente se utiliza representações por grafos. Consideremos o exemplo de um sistema $S$ con 3 atributos. Na representação por grafos, os diferentes contextos são destacados como os conjuntos de vértices conectados, e cujos vértices são mutuamente compatíveis. Veja a figura abaixo.\n",
    "\n",
    "<img src='fig_graph.png' width='150'>"
   ]
  },
  {
   "cell_type": "markdown",
   "id": "b4b71792-1d75-406e-b497-64037f474a2d",
   "metadata": {},
   "source": [
    "Consideremos um vetor real\n",
    "$$\\vec{\\mu}_R=\\begin{bmatrix} -1 & +1 & -1\\end{bmatrix}^T.$$\n",
    "Vemos que este vetor pode ser escrito como a combinação de estados ônticos, satisfazendo assim todos os contextos no grafo (todos os pares de vértices conectados):\n",
    "$$\\begin{bmatrix}\\langle a_1 a_2\\rangle \\\\ \\langle a_1 a_3\\rangle \\\\ \\langle a_2 a_3\\rangle \\end{bmatrix} = \\begin{bmatrix} \n",
    "+1 & +1 & \\mathbf{-1} & \\mathbf{-1} & \\mathbf{-1} & \\mathbf{-1} & +1 & +1 \\\\ \n",
    "\\mathbf{+1} & -1 & \\mathbf{+1} & -1 & -1 & \\mathbf{+1} & -1 & \\mathbf{+1} \\\\ \n",
    "+1 & \\mathbf{-1} & \\mathbf{-1} & +1 & +1 & \\mathbf{-1} & \\mathbf{-1} & +1 \\\\ \\end{bmatrix}\\begin{bmatrix} p_1 & p_2 & p_3 & p_4 & p_5 & p_6 & p_7 & p_8 \\end{bmatrix}^T.$$\n",
    "Ou seja, podemos obter $\\vec{\\mu}_R$ e.g. usando combinações tais que \n",
    "$$p_3+p_6=1$$\n",
    "e as outras probabilidades são nulas."
   ]
  },
  {
   "cell_type": "markdown",
   "id": "0b0a08a2-c833-4931-9333-c58f33ef1366",
   "metadata": {},
   "source": [
    "Por outro lado, se o vetor é irreal, como por exemplo\n",
    "$$\\vec{\\mu}_U=\\begin{bmatrix} -1 & +1 & +1\\end{bmatrix}^T,$$\n",
    "teremos a seguinte identificação de consistência a partir dos pares de vértices do grafo:\n",
    "$$\\begin{bmatrix}\\langle a_1 a_2\\rangle \\\\ \\langle a_1 a_3\\rangle \\\\ \\langle a_2 a_3\\rangle \\end{bmatrix} = \\begin{bmatrix} \n",
    "+1 & +1 & \\mathbf{-1} & \\mathbf{-1} & \\mathbf{-1} & \\mathbf{-1} & +1 & +1 \\\\ \n",
    "\\mathbf{+1} & -1 & \\mathbf{+1} & -1 & -1 & \\mathbf{+1} & -1 & \\mathbf{+1} \\\\ \n",
    "\\mathbf{+1} & -1 & -1 & \\mathbf{+1} & \\mathbf{+1} & -1 & -1 & \\mathbf{+1} \\\\ \\end{bmatrix}\\begin{bmatrix} p_1 & p_2 & p_3 & p_4 & p_5 & p_6 & p_7 & p_8 \\end{bmatrix}^T.$$\n",
    "Vemos assim que $\\vec{\\mu}_U$ não satisfaz todos contextos do grafo. Ou seja, não existe combinação convexa dos estados ônticos que nos fornece esse vetor irreal.\n",
    "\n",
    "Vemos assim que é possível determinar se um vetor é real ou não verificando se este satisfaz ou não todos os contextos no grafo que representa os atributos e/ou combinações de atributos de um sistema $S$. Isso leva à definição de __contextualidade de Abramsky__:\n",
    "* Contextualidade é o cenário em que as estatísticas de medidas são localmente consistentes mas globalmente inconsistentes.\n",
    "Ou seja, um vetor irreal até pode satisfazer algumas conecções no grafo, mas nunca vai satisfazer todas. Enquanto que um vetor real satisfaz todos as conecções no grafo.\n",
    "\n",
    "Abaixo verificamos que de fato não podemos escrever $\\vec{\\mu}_u = \\hat{A}^{(R)}\\vec{p}_\\pi$."
   ]
  },
  {
   "cell_type": "code",
   "execution_count": 56,
   "id": "b1ccccda-caeb-4443-9ba5-930e71712863",
   "metadata": {},
   "outputs": [],
   "source": [
    "from sympy import * \n",
    "init_printing(use_unicode=True)"
   ]
  },
  {
   "cell_type": "code",
   "execution_count": 57,
   "id": "1c8a06af-27da-4efa-916d-23dea230baa7",
   "metadata": {},
   "outputs": [
    {
     "data": {
      "text/latex": [
       "$\\displaystyle \\left[\\begin{matrix}-1\\\\1\\\\1\\end{matrix}\\right]$"
      ],
      "text/plain": [
       "⎡-1⎤\n",
       "⎢  ⎥\n",
       "⎢1 ⎥\n",
       "⎢  ⎥\n",
       "⎣1 ⎦"
      ]
     },
     "execution_count": 57,
     "metadata": {},
     "output_type": "execute_result"
    }
   ],
   "source": [
    "mu_u = Matrix([[-1],[+1],[+1]]); mu_u"
   ]
  },
  {
   "cell_type": "code",
   "execution_count": 58,
   "id": "852abbb5-c61b-49af-a778-100a6b31d1d3",
   "metadata": {},
   "outputs": [
    {
     "data": {
      "text/latex": [
       "$\\displaystyle \\left[\\begin{matrix}1 & 1 & -1 & -1\\\\1 & -1 & 1 & -1\\\\1 & -1 & -1 & 1\\end{matrix}\\right]$"
      ],
      "text/plain": [
       "⎡1  1   -1  -1⎤\n",
       "⎢             ⎥\n",
       "⎢1  -1  1   -1⎥\n",
       "⎢             ⎥\n",
       "⎣1  -1  -1  1 ⎦"
      ]
     },
     "execution_count": 58,
     "metadata": {},
     "output_type": "execute_result"
    }
   ],
   "source": [
    "A_R = Matrix([[1,1,-1,-1],[1,-1,1,-1],[1,-1,-1,1]]); A_R"
   ]
  },
  {
   "cell_type": "code",
   "execution_count": 59,
   "id": "1255674e-dccf-4b04-a1a5-94056357afde",
   "metadata": {},
   "outputs": [
    {
     "data": {
      "text/latex": [
       "$\\displaystyle \\left[\\begin{matrix}- 2 p_{1} - 2 p_{2}\\\\- 2 p_{1} - 2 p_{3} + 2\\\\2 p_{2} + 2 p_{3}\\end{matrix}\\right]$"
      ],
      "text/plain": [
       "⎡  -2⋅p₁ - 2⋅p₂  ⎤\n",
       "⎢                ⎥\n",
       "⎢-2⋅p₁ - 2⋅p₃ + 2⎥\n",
       "⎢                ⎥\n",
       "⎣  2⋅p₂ + 2⋅p₃   ⎦"
      ]
     },
     "execution_count": 59,
     "metadata": {},
     "output_type": "execute_result"
    }
   ],
   "source": [
    "p1,p2,p3,p4 = symbols('p_1 p_2 p_3 p_4')\n",
    "p4 = 1-p1-p2-p3\n",
    "cl = A_R[:,0]*p1 + A_R[:,1]*p2 + A_R[:,2]*p3 + A_R[:,3]*p4\n",
    "mu_u - cl"
   ]
  },
  {
   "cell_type": "markdown",
   "id": "4cfd2ec6-0a91-4df5-9131-d85fcb992262",
   "metadata": {},
   "source": [
    "Para que $\\vec{\\mu}_u = \\hat{A}^{(R)}\\vec{p}_\\pi$ devemos ter \n",
    "$$p_1=-p_2=p_3 \\ \\therefore\\ p_1 + p_1 - 1=0\\ \\therefore\\ p_1=1/2.$$\n",
    "Mas como $p_2$ é uma probabilidade, não podemos ter $p_2=-1/2$. Isso mostra que não podemos escrever $\\vec{\\mu}_u = \\hat{A}^{(R)}\\vec{p}_\\pi$."
   ]
  },
  {
   "cell_type": "markdown",
   "id": "4c440ee9-6656-4f0a-ba4a-03e7d22360e2",
   "metadata": {},
   "source": [
    "## O quadrado de Peres-Mermin\n",
    "\n",
    "Consideremos as matrizes de Pauli\n",
    "$$\\sigma_0 = \\begin{bmatrix}1&0\\\\0&1\\end{bmatrix},\\ \\sigma_1 = \\begin{bmatrix}0&1\\\\1&0\\end{bmatrix},\\ \\sigma_2 = \\begin{bmatrix}0&-i\\\\i&0\\end{bmatrix},\\ \\sigma_3 = \\begin{bmatrix}1&0\\\\0&-1\\end{bmatrix}.$$\n",
    "Pode-se identificar a partir desses atributos os seguintes seis contextos para 2 qubits:\n",
    "\\begin{align}\n",
    "& C_1 = \\{\\sigma_1\\otimes\\sigma_0,\\sigma_0\\otimes\\sigma_1,\\sigma_1\\otimes\\sigma_1\\}, \\\\\n",
    "& C_2 = \\{\\sigma_0\\otimes\\sigma_2,\\sigma_2\\otimes\\sigma_0,\\sigma_2\\otimes\\sigma_2\\}, \\\\\n",
    "& C_3 = \\{\\sigma_1\\otimes\\sigma_2,\\sigma_2\\otimes\\sigma_1,\\sigma_3\\otimes\\sigma_3\\}, \\\\\n",
    "& C_4 = \\{\\sigma_1\\otimes\\sigma_0,\\sigma_0\\otimes\\sigma_2,\\sigma_1\\otimes\\sigma_2\\}, \\\\\n",
    "& C_5 = \\{\\sigma_0\\otimes\\sigma_1,\\sigma_2\\otimes\\sigma_0,\\sigma_2\\otimes\\sigma_1\\}, \\\\\n",
    "& C_6 = \\{\\sigma_1\\otimes\\sigma_1,\\sigma_2\\otimes\\sigma_2,\\sigma_3\\otimes\\sigma_3\\}.\n",
    "\\end{align}"
   ]
  },
  {
   "cell_type": "markdown",
   "id": "3cecce31-98e4-4fd8-b653-56db5590d16b",
   "metadata": {},
   "source": [
    "Esses 6 contextos podem ser mostrados em um tabela, como é feito abaixo:\n",
    "\\begin{bmatrix}\n",
    "    & & C_4 & C_5 & C_6 & &  \\\\\n",
    "    & & \\text{___} & \\text{___} & \\text{___} &  & \\\\\n",
    "C_1 & | & \\sigma_1\\otimes\\sigma_0 & \\sigma_0\\otimes\\sigma_1 & \\sigma_1\\otimes\\sigma_1 & | & \\sigma_0\\otimes\\sigma_0 \\\\\n",
    "C_2 & | & \\sigma_0\\otimes\\sigma_2 & \\sigma_2\\otimes\\sigma_0 & \\sigma_2\\otimes\\sigma_2 & | & \\sigma_0\\otimes\\sigma_0 \\\\\n",
    "C_3 & | & \\sigma_1\\otimes\\sigma_2 & \\sigma_2\\otimes\\sigma_1 & \\sigma_3\\otimes\\sigma_3 & | & \\sigma_0\\otimes\\sigma_0 \\\\\n",
    "    & & \\text{___} & \\text{___} & \\text{___} & &   \\\\\n",
    "    & & \\sigma_0\\otimes\\sigma_0  & \\sigma_0\\otimes\\sigma_0  & -\\sigma_0\\otimes\\sigma_0 & \n",
    "\\end{bmatrix}\n",
    "Ao lado e abaixo dos contextos, mostramos a multiplicação dos atributos em um dado contexto."
   ]
  },
  {
   "cell_type": "code",
   "execution_count": 8,
   "id": "2eec44a3-349e-4318-a133-680636b54b5c",
   "metadata": {},
   "outputs": [
    {
     "data": {
      "image/png": "[encoded data removed]",
      "text/latex": [
       "$\\displaystyle \\left[\\begin{matrix}1.0 i & 0\\\\0 & - 1.0 i\\end{matrix}\\right]$"
      ],
      "text/plain": [
       "⎡1.0⋅ⅈ    0   ⎤\n",
       "⎢             ⎥\n",
       "⎣  0    -1.0⋅ⅈ⎦"
      ]
     },
     "execution_count": 8,
     "metadata": {},
     "output_type": "execute_result"
    }
   ],
   "source": [
    "s1 = Matrix([[0,1],[1,0]])\n",
    "s2 = Matrix([[0,-1j],[1j,0]])\n",
    "s1*s2 "
   ]
  },
  {
   "cell_type": "markdown",
   "id": "1ceb34b3-d539-45e6-97ad-2565ab331713",
   "metadata": {},
   "source": [
    "Podemos assumir classicamente que\n",
    "* (i) Cada atributo tem valor predeteminado $+1$ ou $-1$;\n",
    "* (ii) Os resultados das medidas conjuntas não dependem se usamos um contexto linha ou contexto coluna para obtê-lo. \n",
    "\n",
    "A matriz identidade tem todos os autovalores iguais a +1. Se assumimos que todos os atributos nas linhas e colunas da matriz acima devem ter valores pré-definidos iguais a $+1$ ou $-1$, chegaremos a um __paradoxo lógico__. \n",
    "\n",
    "Isso porque todos os produtos nas __linhas__ devem ter valor $+1$, o que implicaria que todos os 3 atributos de uma dada linha, em diferentes colunas, são iguais a $+1$ ou que um atributo é $+1$ e dois atributos são iguais a $-1$. Sumarizando, para ter o que temos nas linhas, estas linhas devem ter um número ímpar de atributos com valor $+1$. Mas isso implica que das $2^9=512$ possibilidades, somente são reais as que tem um número ímpar de atributos com valor $+1$ no quadrado de Peres-Mermin como um todo. \n",
    "\n",
    "No entando, quando olhamos para as __colunas__, as 2 primeiras colunas requerem um número ímpar de atributos com valor $+1$, mas a 3ª coluna requer um número par de atributos com valor $+1$, pois o produto dos atributos na 3ª coluna deve ser igual a $-1$. Isso implicaria em um número par de atributos com valor $+1$ no quadrado como um todo. Mas isso está em contradição com o resultado da análize feita usando os contextos nas linhas do quadrado de Peres-Mermin.\n",
    "\n",
    "Por conseguinte, as suposições (i) e (ii) não podem ser satisfeitas simultaneamente. Se (i) for verdade, perdemos não contextualidade e se (ii) for verdade, perdemos realismo. Ou podemos perder ambos. "
   ]
  },
  {
   "cell_type": "markdown",
   "id": "0fc13f60-af08-41ae-acbb-4dd64f0f9b38",
   "metadata": {},
   "source": [
    "### Vetores de medida irreais\n",
    "\n",
    "Vamos organizar os atributos\n",
    "$$\\hat{a} = \\begin{bmatrix} \\sigma_1\\otimes\\sigma_0 & \\sigma_0\\otimes\\sigma_1 & \\sigma_1\\otimes\\sigma_1 & \\sigma_0\\otimes\\sigma_2 & \\sigma_2\\otimes\\sigma_0 & \\sigma_2\\otimes\\sigma_2 & \\sigma_1\\otimes\\sigma_2 & \\sigma_2\\otimes\\sigma_1 & \\sigma_3\\otimes\\sigma_3 \\end{bmatrix}^T$$\n",
    "conforme listados na tabela acima e considerar o estado ôntico correspondente:\n",
    "$$\\vec{a} = \\begin{bmatrix} a_{11} & a_{12} & a_{13} &  a_{21} & a_{22} & a_{23} &  a_{31} & a_{32} & a_{33} \\end{bmatrix}^T.$$\n",
    "Lembrando, $a_{jk}=\\{+1,-1\\}$ e temos $2^9=512$ possíveis estados ônticos. \n",
    "\n",
    "Na forma de grafo, o quadrado de Peres-Mermin está ilustrado na figura abaixo.\n",
    "\n",
    "<img src='fig_graph_peres_mermin.png' width='150'>"
   ]
  },
  {
   "cell_type": "markdown",
   "id": "8d1d8664-9aa8-4d2b-88d2-edfdc0cf6465",
   "metadata": {},
   "source": [
    "Como vimos no exemplo acima, vetores de medida falsos não são obtidos diretamente dos estados ônticos, mas sim de combinações lógicas destes estados. No caso do quadrado de Peres-Mermin, considerandos os 6 contextos, vamos tomar o produto dos elementos em cada linha e em cada coluna (o produto dos elementos em um dado contexto):\n",
    "\\begin{align}\n",
    "& \\hat{r}_j = \\Pi_{k=1}^{3}\\hat{a}_{jk},\\ j=1,2,3 \\\\\n",
    "& \\hat{c}_k = \\Pi_{j=1}^{3}\\hat{a}_{jk},\\ k=1,2,3.\n",
    "\\end{align}\n",
    "Formamos o vetor de medida usando\n",
    "$$\\vec{\\mu} = \\begin{bmatrix} r_1 &  r_2 &  r_3 &  c_1 &  c_2 &  c_3 \\end{bmatrix}^T.$$\n",
    "A princípio, dos $2^9=512$ estados ônticos, poderíamos ter $2^6=64$ vetores de medida diferentes (pois $r_j$ e $c_j$ também podem assumir os valores $\\{+1,-1\\}$). No entanto, como verificado com o código abaixo, pela forma como esse vetor de medida foi definido, acabamos tendo somente $16$ vetores de medida diferentes."
   ]
  },
  {
   "cell_type": "code",
   "execution_count": 60,
   "id": "b43beb25-f47c-47f5-8302-d5d495f52584",
   "metadata": {},
   "outputs": [],
   "source": [
    "import numpy as np"
   ]
  },
  {
   "cell_type": "code",
   "execution_count": 61,
   "id": "51d3feb2-c078-4f25-afa3-693d8468e284",
   "metadata": {},
   "outputs": [],
   "source": [
    "a = [] # gera uma lista com com todos os 512 estados ônticos\n",
    "for j in range(-1,2,2):\n",
    "    for k in range(-1,2,2):\n",
    "        for l in range(-1,2,2):\n",
    "            for m in range(-1,2,2):\n",
    "                for n in range(-1,2,2):\n",
    "                    for o in range(-1,2,2):\n",
    "                        for p in range(-1,2,2):\n",
    "                            for q in range(-1,2,2):\n",
    "                                for r in range(-1,2,2):\n",
    "                                    a.append(np.array([j,k,l,m,n,o,p,q,r]))"
   ]
  },
  {
   "cell_type": "code",
   "execution_count": 62,
   "id": "57288ad0-09cc-4418-8a73-1bbc8758227a",
   "metadata": {},
   "outputs": [
    {
     "data": {
      "text/plain": [
       "(array([-1, -1, -1, -1, -1,  1, -1,  1, -1]), 1, 512)"
      ]
     },
     "execution_count": 62,
     "metadata": {},
     "output_type": "execute_result"
    }
   ],
   "source": [
    "a[10], a[10][5], len(a)"
   ]
  },
  {
   "cell_type": "code",
   "execution_count": 63,
   "id": "0c8bc8bf-473a-4216-85d0-839a20c0cefd",
   "metadata": {},
   "outputs": [
    {
     "data": {
      "text/plain": [
       "([-1, -1, -1, -1, -1, -1], 512)"
      ]
     },
     "execution_count": 63,
     "metadata": {},
     "output_type": "execute_result"
    }
   ],
   "source": [
    "mu = [] # gera, a partir dos estados ônticos, uma lista com os 512 vetores de medida, muitos dos quais são iguais\n",
    "for j in range(0,2**9):\n",
    "    r1 = a[j][0]*a[j][1]*a[j][2]\n",
    "    r2 = a[j][3]*a[j][4]*a[j][5]\n",
    "    r3 = a[j][6]*a[j][7]*a[j][8]\n",
    "    c1 = a[j][0]*a[j][3]*a[j][6]\n",
    "    c2 = a[j][1]*a[j][4]*a[j][7]\n",
    "    c3 = a[j][2]*a[j][5]*a[j][8]\n",
    "    mu.append([r1,r2,r3,c1,c2,c3])\n",
    "mu[0], len(mu)"
   ]
  },
  {
   "cell_type": "code",
   "execution_count": 64,
   "id": "3215e1f7-d58a-425c-a6bf-c925d5bdd935",
   "metadata": {},
   "outputs": [
    {
     "data": {
      "text/plain": [
       "([[-1, -1, -1, -1, -1, -1],\n",
       "  [-1, -1, 1, -1, -1, 1],\n",
       "  [-1, -1, 1, -1, 1, -1],\n",
       "  [-1, -1, -1, -1, 1, 1],\n",
       "  [-1, -1, 1, 1, -1, -1],\n",
       "  [-1, -1, -1, 1, -1, 1],\n",
       "  [-1, -1, -1, 1, 1, -1],\n",
       "  [-1, -1, 1, 1, 1, 1],\n",
       "  [-1, 1, -1, -1, -1, 1],\n",
       "  [-1, 1, 1, -1, -1, -1],\n",
       "  [-1, 1, 1, -1, 1, 1],\n",
       "  [-1, 1, -1, -1, 1, -1],\n",
       "  [-1, 1, 1, 1, -1, 1],\n",
       "  [-1, 1, -1, 1, -1, -1],\n",
       "  [-1, 1, -1, 1, 1, 1],\n",
       "  [-1, 1, 1, 1, 1, -1]],\n",
       " 16,\n",
       " [-1, -1, 1, -1, -1, 1])"
      ]
     },
     "execution_count": 64,
     "metadata": {},
     "output_type": "execute_result"
    }
   ],
   "source": [
    "mu_ = [] # remove as repeticoes do vetor de medida\n",
    "for j in range(0,2**6):\n",
    "    if mu[j] not in mu_:\n",
    "        mu_.append(mu[j])\n",
    "mu_, len(mu_), mu_[1]"
   ]
  },
  {
   "cell_type": "markdown",
   "id": "79ffd0e2-faeb-4ba1-942a-ad3c673a627b",
   "metadata": {},
   "source": [
    "Assim, neste caso, teremos que\n",
    "$$\\hat{A}^{(R)} = \\begin{bmatrix} \n",
    "-1 & -1 & -1 & -1 & -1 & -1 & -1 & -1 & -1 & -1 & -1 & -1 & -1 & -1 & -1 & -1 \\\\ \n",
    "-1 & -1 & -1 & -1 & -1 & -1 & -1 & -1 & +1 & +1 & +1 & +1 & +1 & +1 & +1 & +1 \\\\ \n",
    "-1 & +1 & +1 & -1 & +1 & -1 & -1 & +1 & -1 & +1 & +1 & -1 & +1 & -1 & -1 & +1 \\\\\n",
    "-1 & -1 & -1 & -1 & +1 & +1 & +1 & +1 & -1 & -1 & -1 & -1 & +1 & +1 & +1 & +1 \\\\\n",
    "-1 & -1 & +1 & +1 & -1 & -1 & +1 & +1 & -1 & -1 & +1 & +1 & -1 & -1 & +1 & +1 \\\\\n",
    "-1 & +1 & -1 & +1 & -1 & +1 & -1 & +1 & +1 & -1 & +1 & -1 & +1 & -1 & +1 & -1.\n",
    "\\end{bmatrix}$$\n",
    "\n",
    "Comforme a predição da mecânica quântica, o vetor de medida tem os autovalores determinísticos como componentes:\n",
    "$$\\vec{\\mu}_Q = \\begin{bmatrix} +1 & +1 & +1 & +1 & +1 & -1 \\end{bmatrix}^T.$$\n",
    "Este vetor não pode ser escrito como a soma convexa dos vetores coluna da matrix de estados ônticos reais."
   ]
  },
  {
   "cell_type": "markdown",
   "id": "5b699079-32b8-462d-a5d0-0b825fd7ab39",
   "metadata": {},
   "source": [
    "Usando optimização não linear com vínculos, pode-se obter\n",
    "\\begin{align}\n",
    "D(\\vec{\\mu}_Q) & = \\min_{\\vec{p}_{\\pi}}||\\vec{\\mu}-\\hat{A}^{(R)}\\vec{p}_\\pi|| \\\\\n",
    "& \\vdots \\\\\n",
    "& = \\sqrt{2/3} \\approx 0.8165.\n",
    "\\end{align}"
   ]
  },
  {
   "cell_type": "code",
   "execution_count": 65,
   "id": "e7771203-1cf2-4224-bbae-43595cbbdbcf",
   "metadata": {},
   "outputs": [
    {
     "name": "stdout",
     "output_type": "stream",
     "text": [
      "[[-1. -1. -1. -1. -1. -1. -1. -1. -1. -1. -1. -1. -1. -1. -1. -1.]\n",
      " [-1. -1. -1. -1. -1. -1. -1. -1.  1.  1.  1.  1.  1.  1.  1.  1.]\n",
      " [-1.  1.  1. -1.  1. -1. -1.  1. -1.  1.  1. -1.  1. -1. -1.  1.]\n",
      " [-1. -1. -1. -1.  1.  1.  1.  1. -1. -1. -1. -1.  1.  1.  1.  1.]\n",
      " [-1. -1.  1.  1. -1. -1.  1.  1. -1. -1.  1.  1. -1. -1.  1.  1.]\n",
      " [-1.  1. -1.  1. -1.  1. -1.  1.  1. -1.  1. -1.  1. -1.  1. -1.]]\n",
      "(6, 16)\n"
     ]
    }
   ],
   "source": [
    "A_R = np.zeros((6,16))#; A_R\n",
    "for j in range(0,16):\n",
    "    A_R[:,j] = mu_[j]\n",
    "print(A_R)\n",
    "print(A_R.shape)"
   ]
  },
  {
   "cell_type": "code",
   "execution_count": 66,
   "id": "daac695b-4261-4a34-a17c-c06ce3d8d213",
   "metadata": {},
   "outputs": [
    {
     "name": "stdout",
     "output_type": "stream",
     "text": [
      "[0.06490919 0.01015735 0.11001806 0.04357806 0.12049963 0.06639329\n",
      " 0.02266979 0.02061369 0.05691299 0.07347729 0.01587404 0.04431653\n",
      " 0.09203248 0.02308606 0.11759053 0.11787102]\n"
     ]
    }
   ],
   "source": [
    "def rpv_zhsl(d): # vetor de probabilidades aleatório\n",
    "  rn = np.zeros(d-1)\n",
    "  for j in range(0,d-1):\n",
    "    rn[j] = np.random.random()\n",
    "  rpv = np.zeros(d)\n",
    "  rpv[0] = 1.0 - rn[0]**(1.0/(d-1.0))\n",
    "  norm = rpv[0]\n",
    "  if d > 2:\n",
    "    for j in range(1,d-1):        \n",
    "      rpv[j] = (1.0 - rn[j]**(1.0/(d-j-1)))*(1.0-norm)\n",
    "      norm = norm + rpv[j]\n",
    "  rpv[d-1] = 1.0 - norm\n",
    "  return rpv\n",
    "rpv = rpv_zhsl(16)\n",
    "print(rpv)"
   ]
  },
  {
   "cell_type": "code",
   "execution_count": 67,
   "id": "ef083a71-a836-4482-ba02-f07ef1c66bce",
   "metadata": {},
   "outputs": [
    {
     "name": "stdout",
     "output_type": "stream",
     "text": [
      "0.2928557067275221\n"
     ]
    }
   ],
   "source": [
    "print(np.linalg.norm(rpv))"
   ]
  },
  {
   "cell_type": "code",
   "execution_count": 68,
   "id": "3521c78b-2f25-42e5-ad01-0ff6acf0a099",
   "metadata": {},
   "outputs": [
    {
     "name": "stdout",
     "output_type": "stream",
     "text": [
      "(6,)\n",
      "(16,)\n",
      "[ 2.          1.39167748  0.53560072  0.65335445  0.9888027  -1.04311901]\n"
     ]
    }
   ],
   "source": [
    "mu_Q = np.zeros((6,1)); mu_Q = np.array([1,1,1,1,1,-1]); print(mu_Q.shape)\n",
    "p = np.zeros((16,1)); p =  rpv_zhsl(16); print(p.shape)\n",
    "vec = mu_Q - A_R@p\n",
    "print(vec)"
   ]
  },
  {
   "cell_type": "code",
   "execution_count": 69,
   "id": "3f246f1f-3e34-4964-9e77-f4f5aed049ca",
   "metadata": {},
   "outputs": [],
   "source": [
    "def objective(x):\n",
    "    mu_Q = np.array([1,1,1,1,1,-1])\n",
    "    vec = mu_Q - A_R@x\n",
    "    return np.linalg.norm(vec)"
   ]
  },
  {
   "cell_type": "code",
   "execution_count": 70,
   "id": "78207ade-3f31-4a7f-9c84-aeb2437d370c",
   "metadata": {},
   "outputs": [],
   "source": [
    "from scipy.optimize import minimize"
   ]
  },
  {
   "cell_type": "code",
   "execution_count": 79,
   "id": "29f8be83-d0c5-4945-924c-1da0ddef1ea0",
   "metadata": {},
   "outputs": [],
   "source": [
    "# define o vinculo como sendo uma distribuicao de probabilidades\n",
    "constraints = [{'type': 'eq', 'fun': lambda x: np.sum(x)-1},\n",
    "               {'type':'ineq', 'fun': lambda x: x},\n",
    "               {'type':'ineq', 'fun': lambda x: 1-x}]\n",
    "# 'eq' quer dizer = 0 e 'ineq' quer dizer >=0"
   ]
  },
  {
   "cell_type": "code",
   "execution_count": 101,
   "id": "b73c5f2d-e09a-45e9-8c5c-591675b36427",
   "metadata": {},
   "outputs": [
    {
     "name": "stdout",
     "output_type": "stream",
     "text": [
      "[0.0130561  0.0387218  0.09795637 0.01251784 0.27413116 0.05247023\n",
      " 0.11424491 0.0654157  0.04964531 0.02033241 0.07039055 0.01567509\n",
      " 0.08200593 0.02188078 0.04683333 0.02472251]\n"
     ]
    }
   ],
   "source": [
    "np.random.seed(130000)\n",
    "x0 = rpv_zhsl(16)\n",
    "print(x0)"
   ]
  },
  {
   "cell_type": "code",
   "execution_count": 104,
   "id": "a2d6bf7f-77f3-4403-8230-ee8474019d77",
   "metadata": {},
   "outputs": [
    {
     "name": "stdout",
     "output_type": "stream",
     "text": [
      "melhor distribuicao de probabilidades [0.00280611 0.00280712 0.00584877 0.00279889 0.00586139 0.0028067\n",
      " 0.00585168 0.00583243 0.0027862  0.00584393 0.005861   0.00585617\n",
      " 0.00585689 0.00584401 0.00585973 0.92747897]\n"
     ]
    }
   ],
   "source": [
    "result = minimize(objective, x0, constraints=constraints, method='trust-constr')\n",
    "print('melhor distribuicao de probabilidades', result.x)"
   ]
  },
  {
   "cell_type": "code",
   "execution_count": 105,
   "id": "7fa6c4b6-1244-408f-ad80-866968cc2249",
   "metadata": {},
   "outputs": [
    {
     "name": "stdout",
     "output_type": "stream",
     "text": [
      "2.005980464242345\n"
     ]
    }
   ],
   "source": [
    "print(objective(result.x))"
   ]
  },
  {
   "cell_type": "markdown",
   "id": "f2e44410-05de-49cc-ade3-def670c325f4",
   "metadata": {},
   "source": [
    "Me parece ser um __problema__ importante ter que resolver um problema de minimização de uma função não linear, uma vez que não temos como ter garantia que chegamos em um mínimo global. Aí, mesmo que o resultado for positivo para a mínima distância, não teremos certeza de se continuássemos com a extremização, não obteríamos um valor menor, ou mesmo nulo."
   ]
  },
  {
   "cell_type": "markdown",
   "id": "60cea0a7-4326-4972-ac71-3813264da599",
   "metadata": {},
   "source": [
    "\n",
    "\n"
   ]
  },
  {
   "cell_type": "markdown",
   "id": "c6df0fab-c858-443d-a278-1e8f56d08e33",
   "metadata": {},
   "source": [
    "### Demonstração no IBMQ\n",
    "\n",
    "### Contexto $C_1 = \\{\\sigma_1\\otimes\\sigma_0,\\sigma_0\\otimes\\sigma_1,\\sigma_1\\otimes\\sigma_1\\}.$\n",
    "Dado que $\\sigma_1|+\\rangle=(+1)|+\\rangle$ e $\\sigma_1|-\\rangle=(-1)|-\\rangle$, é fácil ver que a base\n",
    "$$\\{|+\\rangle\\otimes|+\\rangle,|+\\rangle\\otimes|-\\rangle,|-\\rangle\\otimes|+\\rangle,|-\\rangle\\otimes|-\\rangle\\}$$\n",
    "é base de autovetores dos atributos desse contexto. Explicitamente, podemos escrever\n",
    "\\begin{align}\n",
    "\\sigma_1\\otimes\\sigma_0 & = XI \\\\\n",
    "& = (|+\\rangle\\langle +|-|-\\rangle\\langle -|)\\otimes(|+\\rangle\\langle +|+|-\\rangle\\langle -|) \\\\\n",
    "& = (+1)(|++\\rangle\\langle ++| + |+-\\rangle\\langle +-|) + (-1)(|-+\\rangle\\langle -+| + |--\\rangle\\langle --|), \\\\\n",
    "\\sigma_0\\otimes\\sigma_1 & = IX \\\\\n",
    "& = (|+\\rangle\\langle +|+|-\\rangle\\langle -|)\\otimes(|+\\rangle\\langle +|-|-\\rangle\\langle -|) \\\\\n",
    "& = (+1)(|++\\rangle\\langle ++| + |-+\\rangle\\langle -+|) + (-1)(|+-\\rangle\\langle +-| + |--\\rangle\\langle --|), \\\\\n",
    "\\sigma_1\\otimes\\sigma_1 & = XX \\\\\n",
    "& = (|+\\rangle\\langle +|-|-\\rangle\\langle -|)\\otimes(|+\\rangle\\langle +|-|-\\rangle\\langle -|) \\\\\n",
    "& = (+1)(|++\\rangle\\langle ++| + |--\\rangle\\langle --|) + (-1)(|+-\\rangle\\langle +-| + |-+\\rangle\\langle -+|).\n",
    "\\end{align}"
   ]
  },
  {
   "cell_type": "markdown",
   "id": "f48b1046-350c-4d42-9896-c1d95b2c8dcf",
   "metadata": {},
   "source": [
    "Fazendo medida nessa base, teremos os valores correspondentes dos atributos:\n",
    "\\begin{align}\n",
    "|++\\rangle \\rightarrow XI=+1,\\ IX=+1,\\ XX=+1,\\\\\n",
    "|+-\\rangle \\rightarrow XI=+1,\\ IX=-1,\\ XX=-1,\\\\\n",
    "|-+\\rangle \\rightarrow XI=-1,\\ IX=+1,\\ XX=-1,\\\\\n",
    "|--\\rangle \\rightarrow XI=-1,\\ IX=-1,\\ XX=+1.\n",
    "\\end{align}\n",
    "Quanto ao vetor de medidas, teremos que a componente $r_1$, que é o produto dos atributos no contexto $C_1$, para qualquer um dos resultados obtidos nas medidas nessa base, será dada por\n",
    "$$r_1=1.$$\n",
    "Isso implica em algo curioso, pois medidas nessa base, que implementa uma medida conjunta dos três observáveis no contexto $C_1$, não pode ser utilizada para medir $r_1$. Isso porque para qualquer um dos estados obtidos, temos teoricamente que o produto é $=+1$.\n",
    "\n",
    "Vemos com isso que teremos que medir os observáveis um por um. Mas para isso precisaremos usar __medidas não demolidoras__ (ou também como as __medidas de paridade__ usadas em protocolos de correção de erros quânticos). Um pouco de análise mostra que no circuito abaixo o resultado da medida no qubit auxiliar q2 for $|0\\rangle$, o produto dos atributos é $+1$, se o resultado for $|1\\rangle$, o produto dos atributos é $-1$. "
   ]
  },
  {
   "cell_type": "code",
   "execution_count": 16,
   "id": "a6461e48-b7ed-445e-8ada-2cc676390334",
   "metadata": {},
   "outputs": [],
   "source": [
    "from qiskit import *\n",
    "import numpy as np\n",
    "import math\n",
    "import qiskit\n",
    "nshots = 8192\n",
    "IBMQ.load_account()\n",
    "provider = qiskit.IBMQ.get_provider(hub='ibm-q', group='open', project='main')\n",
    "device = provider.get_backend('ibmq_manila')\n",
    "simulator = Aer.get_backend('qasm_simulator')\n",
    "from qiskit.tools.monitor import job_monitor\n",
    "#from qiskit.ignis.verification.tomography import state_tomography_circuits, StateTomographyFitter\n",
    "#from qiskit.ignis.mitigation.measurement import complete_meas_cal, CompleteMeasFitter\n",
    "from qiskit.visualization import plot_histogram"
   ]
  },
  {
   "cell_type": "code",
   "execution_count": 17,
   "id": "292c9c4d-38ee-4fa8-8c5d-8099eed01814",
   "metadata": {},
   "outputs": [
    {
     "data": {
      "image/png": "[encoded data removed]",
      "text/plain": [
       "<Figure size 761.778x264.88 with 1 Axes>"
      ]
     },
     "execution_count": 17,
     "metadata": {},
     "output_type": "execute_result"
    }
   ],
   "source": [
    "qr = QuantumRegister(3)\n",
    "cr = ClassicalRegister(1)\n",
    "qc = QuantumCircuit(qr,cr)\n",
    "qc.barrier() # mede XI\n",
    "qc.h(0)\n",
    "qc.cx(0,2) \n",
    "qc.barrier() # mede IX\n",
    "qc.h(1)\n",
    "qc.cx(1,2) \n",
    "qc.barrier() # mede XX\n",
    "qc.cx(0,2)\n",
    "qc.cx(1,2)\n",
    "qc.barrier()\n",
    "qc.measure(2,0)\n",
    "qc.draw('mpl')"
   ]
  },
  {
   "cell_type": "code",
   "execution_count": 18,
   "id": "3b742855-94b7-478d-84f6-1f96843b42d4",
   "metadata": {},
   "outputs": [
    {
     "name": "stdout",
     "output_type": "stream",
     "text": [
      "641f9d4853c4bdedc795acfa\n",
      "Job Status: job has successfully run\n"
     ]
    }
   ],
   "source": [
    "job_sim = execute(qc, backend=simulator, shots=nshots)\n",
    "counts_sim = job_sim.result().get_counts(qc)\n",
    "job_exp = execute(qc, backend=device, shots=nshots)\n",
    "print(job_exp.job_id())\n",
    "job_monitor(job_exp)\n",
    "counts_exp = job_exp.result().get_counts(qc)"
   ]
  },
  {
   "cell_type": "code",
   "execution_count": 19,
   "id": "71ecb9f1-f517-4249-b9e5-88807e58147c",
   "metadata": {},
   "outputs": [
    {
     "data": {
      "text/plain": [
       "{'0': 7921, '1': 271}"
      ]
     },
     "execution_count": 19,
     "metadata": {},
     "output_type": "execute_result"
    }
   ],
   "source": [
    "counts_exp"
   ]
  },
  {
   "cell_type": "code",
   "execution_count": 20,
   "id": "53df9421-7c73-48f2-a6eb-f6e2b80a3910",
   "metadata": {},
   "outputs": [
    {
     "data": {
      "image/png": "[encoded data removed]",
      "text/plain": [
       "<Figure size 504x360 with 1 Axes>"
      ]
     },
     "execution_count": 20,
     "metadata": {},
     "output_type": "execute_result"
    }
   ],
   "source": [
    "plot_histogram([counts_sim, counts_exp], legend=['sim', 'exp'])"
   ]
  },
  {
   "cell_type": "markdown",
   "id": "ee858304-4b78-4f72-ae2c-7c696d016747",
   "metadata": {},
   "source": [
    "### Contexto $C_2 = \\{\\sigma_0\\otimes\\sigma_2,\\sigma_2\\otimes\\sigma_0,\\sigma_2\\otimes\\sigma_2\\}.$\n",
    "Usando $\\sigma_2|\\oplus\\rangle=(+1)|\\oplus\\rangle$ e $\\sigma_2|\\ominus\\rangle=(-1)|\\ominus\\rangle$ vemos que a base\n",
    "$$\\{|\\oplus\\rangle\\otimes|\\oplus\\rangle,|\\oplus\\rangle\\otimes|\\ominus\\rangle,|\\ominus\\rangle\\otimes|\\oplus\\rangle,|\\ominus\\rangle\\otimes|\\ominus\\rangle\\}$$\n",
    "é base de autovetores dos atributos desse contexto. Explicitamente, podemos escrever\n",
    "\\begin{align}\n",
    "\\sigma_0\\otimes\\sigma_2 & = IY \\\\\n",
    "& = (+1)(|\\oplus\\oplus\\rangle\\langle \\oplus\\oplus| + |\\oplus\\ominus\\rangle\\langle \\oplus\\ominus|) + (-1)(|\\ominus\\oplus\\rangle\\langle \\ominus\\oplus| + |\\ominus\\ominus\\rangle\\langle \\ominus\\ominus|), \\\\\n",
    "\\sigma_2\\otimes\\sigma_0 & = YI \\\\\n",
    "& = (+1)(|\\oplus\\oplus\\rangle\\langle \\oplus\\oplus| + |\\ominus\\oplus\\rangle\\langle \\ominus\\oplus|) + (-1)(|\\oplus\\ominus\\rangle\\langle \\oplus\\ominus| + |\\ominus\\ominus\\rangle\\langle \\ominus\\ominus|), \\\\\n",
    "\\sigma_2\\otimes\\sigma_2 & = YY \\\\\n",
    "& = (+1)(|\\oplus\\oplus\\rangle\\langle \\oplus\\oplus| + |\\ominus\\ominus\\rangle\\langle \\ominus\\ominus|) + (-1)(|\\oplus\\ominus\\rangle\\langle \\oplus\\ominus| + |\\ominus\\oplus\\rangle\\langle \\ominus\\oplus|).\n",
    "\\end{align}"
   ]
  },
  {
   "cell_type": "code",
   "execution_count": 21,
   "id": "4f531cb5-e63e-4b2c-9a89-20ef4ce075a1",
   "metadata": {},
   "outputs": [
    {
     "data": {
      "image/png": "[encoded data removed]",
      "text/plain": [
       "<Figure size 882.469x264.88 with 1 Axes>"
      ]
     },
     "execution_count": 21,
     "metadata": {},
     "output_type": "execute_result"
    }
   ],
   "source": [
    "qr = QuantumRegister(3)\n",
    "cr = ClassicalRegister(1)\n",
    "qc = QuantumCircuit(qr,cr)\n",
    "qc.barrier() # mede YI\n",
    "qc.sdg(0)\n",
    "qc.h(0)\n",
    "qc.cx(0,2) \n",
    "qc.barrier() # mede IY\n",
    "qc.sdg(1)\n",
    "qc.h(1)\n",
    "qc.cx(1,2) \n",
    "qc.barrier() # mede YY\n",
    "qc.cx(0,2)\n",
    "qc.cx(1,2)\n",
    "qc.barrier()\n",
    "qc.measure(2,0)\n",
    "qc.draw('mpl')"
   ]
  },
  {
   "cell_type": "code",
   "execution_count": 22,
   "id": "f423bd74-f7b4-44b0-a7da-90d024440e1c",
   "metadata": {},
   "outputs": [
    {
     "name": "stdout",
     "output_type": "stream",
     "text": [
      "6420201796cd39eef3ca91d2\n",
      "Job Status: job has successfully run\n"
     ]
    },
    {
     "data": {
      "text/plain": [
       "{'0': 7944, '1': 248}"
      ]
     },
     "execution_count": 22,
     "metadata": {},
     "output_type": "execute_result"
    }
   ],
   "source": [
    "job_sim = execute(qc, backend=simulator, shots=nshots)\n",
    "counts_sim = job_sim.result().get_counts(qc)\n",
    "job_exp = execute(qc, backend=device, shots=nshots)\n",
    "print(job_exp.job_id())\n",
    "job_monitor(job_exp)\n",
    "counts_exp = job_exp.result().get_counts(qc)\n",
    "counts_exp"
   ]
  },
  {
   "cell_type": "code",
   "execution_count": 23,
   "id": "af91b937-8e2d-495b-96fd-3be36fb1804c",
   "metadata": {},
   "outputs": [
    {
     "data": {
      "image/png": "[encoded data removed]",
      "text/plain": [
       "<Figure size 504x360 with 1 Axes>"
      ]
     },
     "execution_count": 23,
     "metadata": {},
     "output_type": "execute_result"
    }
   ],
   "source": [
    "plot_histogram([counts_sim, counts_exp], legend=['sim', 'exp'])"
   ]
  },
  {
   "cell_type": "markdown",
   "id": "c29b638f-8631-4aff-adaa-4b4159d9a959",
   "metadata": {},
   "source": [
    "### Contexto $C_4 = \\{\\sigma_1\\otimes\\sigma_0,\\sigma_0\\otimes\\sigma_2,\\sigma_1\\otimes\\sigma_2\\}.$\n",
    "Também vemos que a base\n",
    "$$\\{|+\\rangle\\otimes|\\oplus\\rangle,|+\\rangle\\otimes|\\ominus\\rangle,|-\\rangle\\otimes|\\oplus\\rangle,|-\\rangle\\otimes|\\ominus\\rangle\\}$$\n",
    "é base de autovetores dos atributos desse contexto. Explicitamente, podemos escrever\n",
    "\\begin{align}\n",
    "\\sigma_1\\otimes\\sigma_0 & = XI \\\\\n",
    "& = (+1)(|+\\oplus\\rangle\\langle +\\oplus| + |+\\ominus\\rangle\\langle +\\ominus|) + (-1)(|-\\oplus\\rangle\\langle -\\oplus| + |-\\ominus\\rangle\\langle -\\ominus|), \\\\\n",
    "\\sigma_0\\otimes\\sigma_2 & = IY \\\\\n",
    "& = (+1)(|+\\oplus\\rangle\\langle +\\oplus| + |-\\oplus\\rangle\\langle -\\oplus|) + (-1)(|+\\ominus\\rangle\\langle +\\ominus| + |-\\ominus\\rangle\\langle -\\ominus|), \\\\\n",
    "\\sigma_1\\otimes\\sigma_2 & = XY \\\\\n",
    "& = (+1)(|+\\oplus\\rangle\\langle +\\oplus| + |-\\ominus\\rangle\\langle -\\ominus|) + (-1)(|+\\ominus\\rangle\\langle +\\ominus| + |-\\oplus\\rangle\\langle -\\oplus|).\n",
    "\\end{align}"
   ]
  },
  {
   "cell_type": "code",
   "execution_count": 24,
   "id": "c826bba4-443d-4d2f-be67-f8470951541f",
   "metadata": {},
   "outputs": [
    {
     "data": {
      "image/png": "[encoded data removed]",
      "text/plain": [
       "<Figure size 835.249x264.88 with 1 Axes>"
      ]
     },
     "execution_count": 24,
     "metadata": {},
     "output_type": "execute_result"
    }
   ],
   "source": [
    "qr = QuantumRegister(3)\n",
    "cr = ClassicalRegister(1)\n",
    "qc = QuantumCircuit(qr,cr)\n",
    "qc.barrier()\n",
    "qc.h(0)\n",
    "qc.cx(0,2) # mede XI\n",
    "qc.barrier()\n",
    "qc.sdg(1)\n",
    "qc.h(1)\n",
    "qc.cx(1,2) # mede IX\n",
    "qc.barrier()\n",
    "qc.cx(0,2); qc.cx(1,2)\n",
    "qc.barrier()\n",
    "qc.measure(2,0)\n",
    "qc.draw('mpl')"
   ]
  },
  {
   "cell_type": "code",
   "execution_count": 25,
   "id": "7de50f86-3974-4b7c-896b-abcc53413d7e",
   "metadata": {},
   "outputs": [
    {
     "name": "stdout",
     "output_type": "stream",
     "text": [
      "642029d932d978005ff08f75\n",
      "Job Status: job has successfully run\n"
     ]
    },
    {
     "data": {
      "text/plain": [
       "{'0': 7913, '1': 279}"
      ]
     },
     "execution_count": 25,
     "metadata": {},
     "output_type": "execute_result"
    }
   ],
   "source": [
    "job_sim = execute(qc, backend=simulator, shots=nshots)\n",
    "counts_sim = job_sim.result().get_counts(qc)\n",
    "job_exp = execute(qc, backend=device, shots=nshots)\n",
    "print(job_exp.job_id())\n",
    "job_monitor(job_exp)\n",
    "counts_exp = job_exp.result().get_counts(qc)\n",
    "counts_exp"
   ]
  },
  {
   "cell_type": "code",
   "execution_count": 26,
   "id": "72141427-419c-433e-858f-3ce3399c51b8",
   "metadata": {},
   "outputs": [
    {
     "data": {
      "image/png": "[encoded data removed]",
      "text/plain": [
       "<Figure size 504x360 with 1 Axes>"
      ]
     },
     "execution_count": 26,
     "metadata": {},
     "output_type": "execute_result"
    }
   ],
   "source": [
    "plot_histogram([counts_sim, counts_exp], legend=['sim', 'exp'])"
   ]
  },
  {
   "cell_type": "markdown",
   "id": "10ff88bc-b596-4c54-a839-1d0a81fdd69a",
   "metadata": {},
   "source": [
    "### Contexto $C_5 = \\{\\sigma_0\\otimes\\sigma_1,\\sigma_2\\otimes\\sigma_0,\\sigma_2\\otimes\\sigma_1\\}.$\n",
    "Também vemos que a base\n",
    "$$\\{|\\oplus\\rangle\\otimes|+\\rangle,|\\oplus\\rangle\\otimes|-\\rangle,|\\ominus\\rangle\\otimes|+\\rangle,|\\ominus\\rangle\\otimes|-\\rangle\\}$$\n",
    "é base de autovetores dos atributos desse contexto. Explicitamente, podemos escrever\n",
    "\\begin{align}\n",
    "\\sigma_0\\otimes\\sigma_1 & = IX \\\\\n",
    "& = (+1)(|\\oplus +\\rangle\\langle \\oplus +| + |\\ominus +\\rangle\\langle \\ominus +|) + (-1)(|\\oplus -\\rangle\\langle \\oplus -| + |\\ominus -\\rangle\\langle \\ominus -|), \\\\\n",
    "\\sigma_2\\otimes\\sigma_0 & = YI \\\\\n",
    "& = (+1)(|\\oplus +\\rangle\\langle \\oplus +| + |\\oplus -\\rangle\\langle \\oplus -|) + (-1)(|\\ominus +\\rangle\\langle \\ominus +| + |\\ominus -\\rangle\\langle \\ominus -|), \\\\\n",
    "\\sigma_2\\otimes\\sigma_1 & = YX \\\\\n",
    "& = (+1)(|\\oplus +\\rangle\\langle \\oplus +| + |\\ominus -\\rangle\\langle \\ominus -|) + (-1)(|\\ominus +\\rangle\\langle \\ominus +| + |\\oplus -\\rangle\\langle \\oplus -|).\n",
    "\\end{align}"
   ]
  },
  {
   "cell_type": "code",
   "execution_count": 27,
   "id": "8a0c28d9-47ca-45ba-a806-8ff7a86b625b",
   "metadata": {},
   "outputs": [
    {
     "data": {
      "image/png": "[encoded data removed]",
      "text/plain": [
       "<Figure size 835.395x264.88 with 1 Axes>"
      ]
     },
     "execution_count": 27,
     "metadata": {},
     "output_type": "execute_result"
    }
   ],
   "source": [
    "qr = QuantumRegister(3)\n",
    "cr = ClassicalRegister(1)\n",
    "qc = QuantumCircuit(qr,cr)\n",
    "qc.barrier()\n",
    "qc.sdg(0)\n",
    "qc.h(0)\n",
    "qc.cx(0,2) # mede XI\n",
    "qc.barrier()\n",
    "qc.h(1)\n",
    "qc.cx(1,2) # mede IX\n",
    "qc.barrier()\n",
    "qc.cx(0,2); qc.cx(1,2)\n",
    "qc.barrier()\n",
    "qc.measure(2,0)\n",
    "qc.draw('mpl')"
   ]
  },
  {
   "cell_type": "code",
   "execution_count": 28,
   "id": "4122583a-59cf-4054-b1e5-38406964c726",
   "metadata": {},
   "outputs": [
    {
     "name": "stdout",
     "output_type": "stream",
     "text": [
      "64204875a99134d4aee70924\n",
      "Job Status: job has successfully run\n"
     ]
    },
    {
     "data": {
      "text/plain": [
       "{'0': 7940, '1': 252}"
      ]
     },
     "execution_count": 28,
     "metadata": {},
     "output_type": "execute_result"
    }
   ],
   "source": [
    "job_sim = execute(qc, backend=simulator, shots=nshots)\n",
    "counts_sim = job_sim.result().get_counts(qc)\n",
    "job_exp = execute(qc, backend=device, shots=nshots)\n",
    "print(job_exp.job_id())\n",
    "job_monitor(job_exp)\n",
    "counts_exp = job_exp.result().get_counts(qc)\n",
    "counts_exp"
   ]
  },
  {
   "cell_type": "code",
   "execution_count": 29,
   "id": "c05fcd80-1e2b-45d3-9f23-514d3387da29",
   "metadata": {},
   "outputs": [
    {
     "data": {
      "image/png": "[encoded data removed]",
      "text/plain": [
       "<Figure size 504x360 with 1 Axes>"
      ]
     },
     "execution_count": 29,
     "metadata": {},
     "output_type": "execute_result"
    }
   ],
   "source": [
    "plot_histogram([counts_sim, counts_exp], legend=['sim', 'exp'])"
   ]
  },
  {
   "cell_type": "markdown",
   "id": "b35b01dd-8040-4ed9-91bf-c8300d08e3b0",
   "metadata": {},
   "source": [
    "### Contexto $C_6 = \\{\\sigma_1\\otimes\\sigma_1,\\sigma_2\\otimes\\sigma_2,\\sigma_3\\otimes\\sigma_3\\}$\n",
    "Usando os cálculos abaixo, feitos usando Sympy, vemos que para esse contexto, a base de autovetores comum a todos os atributos é a base de Bell:\n",
    "$$\\{|\\Phi_+\\rangle,|\\Phi_-\\rangle,|\\Psi_+\\rangle,|\\Psi_-\\rangle\\},$$\n",
    "com\n",
    "\\begin{align}\n",
    "& |\\Phi_\\pm\\rangle = 2^{-1/2}\\big(|00\\rangle \\pm |11\\rangle\\big), \\\\\n",
    "& |\\Psi_\\pm\\rangle = 2^{-1/2}\\big(|01\\rangle \\pm |10\\rangle\\big).\n",
    "\\end{align}\n",
    "uma vez que podemos escrever as decomposições espectrais\n",
    "\\begin{align}\n",
    "\\sigma_1\\otimes\\sigma_1 & = XX \\\\\n",
    "& = (+1)(|\\Phi_+\\rangle\\langle\\Phi_+|+|\\Psi_+\\rangle\\langle\\Psi_+|) + (-1)(|\\Phi_-\\rangle\\langle\\Phi_-|+|\\Psi_-\\rangle\\langle\\Psi_-|), \\\\\n",
    "\\sigma_2\\otimes\\sigma_2 & = YY \\\\\n",
    "& = (+1)(|\\Phi_-\\rangle\\langle\\Phi_-|+|\\Psi_+\\rangle\\langle\\Psi_+|) + (-1)(|\\Phi_+\\rangle\\langle\\Phi_+|+|\\Psi_-\\rangle\\langle\\Psi_-|), \\\\\n",
    "\\sigma_3\\otimes\\sigma_3 & = ZZ \\\\\n",
    "& = (+1)(|\\Phi_+\\rangle\\langle\\Phi_+|+|\\Phi_-\\rangle\\langle\\Phi_-|) + (-1)(|\\Psi_+\\rangle\\langle\\Psi_+|+|\\Psi_-\\rangle\\langle\\Psi_-|).\n",
    "\\end{align}"
   ]
  },
  {
   "cell_type": "code",
   "execution_count": 31,
   "id": "6061db93-ebd8-4c49-9886-9177ac58ff58",
   "metadata": {},
   "outputs": [],
   "source": [
    "I = Matrix([[1,0],[0,1]]); X = Matrix([[0,1],[1,0]]); \n",
    "Y = Matrix([[0,-1j],[1j,0]]); Z = Matrix([[1,0],[0,-1]])"
   ]
  },
  {
   "cell_type": "code",
   "execution_count": 32,
   "id": "7d1d002e-9219-4727-a11e-a73907e1c1e9",
   "metadata": {},
   "outputs": [
    {
     "data": {
      "image/png": "[encoded data removed]",
      "text/latex": [
       "$\\displaystyle \\left( \\left[\\begin{matrix}1 & 0\\\\0 & 1\\end{matrix}\\right], \\  \\left[\\begin{matrix}0 & 1\\\\1 & 0\\end{matrix}\\right], \\  \\left[\\begin{matrix}0 & - 1.0 i\\\\1.0 i & 0\\end{matrix}\\right], \\  \\left[\\begin{matrix}1 & 0\\\\0 & -1\\end{matrix}\\right]\\right)$"
      ],
      "text/plain": [
       "⎛⎡1  0⎤  ⎡0  1⎤  ⎡  0    -1.0⋅ⅈ⎤  ⎡1  0 ⎤⎞\n",
       "⎜⎢    ⎥, ⎢    ⎥, ⎢             ⎥, ⎢     ⎥⎟\n",
       "⎝⎣0  1⎦  ⎣1  0⎦  ⎣1.0⋅ⅈ    0   ⎦  ⎣0  -1⎦⎠"
      ]
     },
     "execution_count": 32,
     "metadata": {},
     "output_type": "execute_result"
    }
   ],
   "source": [
    "I,X,Y,Z"
   ]
  },
  {
   "cell_type": "code",
   "execution_count": 33,
   "id": "699790ea-d7fe-417e-bb5a-c49f669656e7",
   "metadata": {},
   "outputs": [
    {
     "data": {
      "image/png": "[encoded data removed]",
      "text/latex": [
       "$\\displaystyle \\left[ \\left( -1, \\  2, \\  \\left[ \\left[\\begin{matrix}0\\\\-1\\\\1\\\\0\\end{matrix}\\right], \\  \\left[\\begin{matrix}-1\\\\0\\\\0\\\\1\\end{matrix}\\right]\\right]\\right), \\  \\left( 1, \\  2, \\  \\left[ \\left[\\begin{matrix}0\\\\1\\\\1\\\\0\\end{matrix}\\right], \\  \\left[\\begin{matrix}1\\\\0\\\\0\\\\1\\end{matrix}\\right]\\right]\\right)\\right]$"
      ],
      "text/plain": [
       "⎡⎛       ⎡⎡0 ⎤  ⎡-1⎤⎤⎞  ⎛      ⎡⎡0⎤  ⎡1⎤⎤⎞⎤\n",
       "⎢⎜       ⎢⎢  ⎥  ⎢  ⎥⎥⎟  ⎜      ⎢⎢ ⎥  ⎢ ⎥⎥⎟⎥\n",
       "⎢⎜       ⎢⎢-1⎥  ⎢0 ⎥⎥⎟  ⎜      ⎢⎢1⎥  ⎢0⎥⎥⎟⎥\n",
       "⎢⎜-1, 2, ⎢⎢  ⎥, ⎢  ⎥⎥⎟, ⎜1, 2, ⎢⎢ ⎥, ⎢ ⎥⎥⎟⎥\n",
       "⎢⎜       ⎢⎢1 ⎥  ⎢0 ⎥⎥⎟  ⎜      ⎢⎢1⎥  ⎢0⎥⎥⎟⎥\n",
       "⎢⎜       ⎢⎢  ⎥  ⎢  ⎥⎥⎟  ⎜      ⎢⎢ ⎥  ⎢ ⎥⎥⎟⎥\n",
       "⎣⎝       ⎣⎣0 ⎦  ⎣1 ⎦⎦⎠  ⎝      ⎣⎣0⎦  ⎣1⎦⎦⎠⎦"
      ]
     },
     "execution_count": 33,
     "metadata": {},
     "output_type": "execute_result"
    }
   ],
   "source": [
    "XX = kronecker_product(X,X); XX.eigenvects()"
   ]
  },
  {
   "cell_type": "code",
   "execution_count": 34,
   "id": "7902316d-a63c-4dd3-a6ef-9e6b23a8b8a0",
   "metadata": {},
   "outputs": [
    {
     "data": {
      "image/png": "[encoded data removed]",
      "text/latex": [
       "$\\displaystyle \\left[ \\left( -1.0, \\  1, \\  \\left[ \\left[\\begin{matrix}0\\\\0.707106781186548\\\\-0.707106781186548\\\\0\\end{matrix}\\right]\\right]\\right), \\  \\left( 1.0, \\  1, \\  \\left[ \\left[\\begin{matrix}0\\\\-0.707106781186548\\\\-0.707106781186548\\\\0\\end{matrix}\\right]\\right]\\right), \\  \\left( -1.0, \\  1, \\  \\left[ \\left[\\begin{matrix}-0.707106781186548\\\\0\\\\0\\\\-0.707106781186548\\end{matrix}\\right]\\right]\\right), \\  \\left( 1.0, \\  1, \\  \\left[ \\left[\\begin{matrix}0.707106781186548\\\\0\\\\0\\\\-0.707106781186548\\end{matrix}\\right]\\right]\\right)\\right]$"
      ],
      "text/plain": [
       "⎡⎛         ⎡⎡        0         ⎤⎤⎞  ⎛        ⎡⎡        0         ⎤⎤⎞  ⎛       \n",
       "⎢⎜         ⎢⎢                  ⎥⎥⎟  ⎜        ⎢⎢                  ⎥⎥⎟  ⎜       \n",
       "⎢⎜         ⎢⎢0.707106781186548 ⎥⎥⎟  ⎜        ⎢⎢-0.707106781186548⎥⎥⎟  ⎜       \n",
       "⎢⎜-1.0, 1, ⎢⎢                  ⎥⎥⎟, ⎜1.0, 1, ⎢⎢                  ⎥⎥⎟, ⎜-1.0, 1\n",
       "⎢⎜         ⎢⎢-0.707106781186548⎥⎥⎟  ⎜        ⎢⎢-0.707106781186548⎥⎥⎟  ⎜       \n",
       "⎢⎜         ⎢⎢                  ⎥⎥⎟  ⎜        ⎢⎢                  ⎥⎥⎟  ⎜       \n",
       "⎣⎝         ⎣⎣        0         ⎦⎦⎠  ⎝        ⎣⎣        0         ⎦⎦⎠  ⎝       \n",
       "\n",
       "  ⎡⎡-0.707106781186548⎤⎤⎞  ⎛        ⎡⎡0.707106781186548 ⎤⎤⎞⎤\n",
       "  ⎢⎢                  ⎥⎥⎟  ⎜        ⎢⎢                  ⎥⎥⎟⎥\n",
       "  ⎢⎢        0         ⎥⎥⎟  ⎜        ⎢⎢        0         ⎥⎥⎟⎥\n",
       ", ⎢⎢                  ⎥⎥⎟, ⎜1.0, 1, ⎢⎢                  ⎥⎥⎟⎥\n",
       "  ⎢⎢        0         ⎥⎥⎟  ⎜        ⎢⎢        0         ⎥⎥⎟⎥\n",
       "  ⎢⎢                  ⎥⎥⎟  ⎜        ⎢⎢                  ⎥⎥⎟⎥\n",
       "  ⎣⎣-0.707106781186548⎦⎦⎠  ⎝        ⎣⎣-0.707106781186548⎦⎦⎠⎦"
      ]
     },
     "execution_count": 34,
     "metadata": {},
     "output_type": "execute_result"
    }
   ],
   "source": [
    "YY = kronecker_product(Y,Y); YY.eigenvects()"
   ]
  },
  {
   "cell_type": "code",
   "execution_count": 35,
   "id": "f8a82f45-004d-4ca1-bac1-631706fe6387",
   "metadata": {},
   "outputs": [
    {
     "data": {
      "image/png": "[encoded data removed]",
      "text/latex": [
       "$\\displaystyle \\left[ \\left( -1, \\  2, \\  \\left[ \\left[\\begin{matrix}0\\\\1\\\\0\\\\0\\end{matrix}\\right], \\  \\left[\\begin{matrix}0\\\\0\\\\1\\\\0\\end{matrix}\\right]\\right]\\right), \\  \\left( 1, \\  2, \\  \\left[ \\left[\\begin{matrix}1\\\\0\\\\0\\\\0\\end{matrix}\\right], \\  \\left[\\begin{matrix}0\\\\0\\\\0\\\\1\\end{matrix}\\right]\\right]\\right)\\right]$"
      ],
      "text/plain": [
       "⎡⎛       ⎡⎡0⎤  ⎡0⎤⎤⎞  ⎛      ⎡⎡1⎤  ⎡0⎤⎤⎞⎤\n",
       "⎢⎜       ⎢⎢ ⎥  ⎢ ⎥⎥⎟  ⎜      ⎢⎢ ⎥  ⎢ ⎥⎥⎟⎥\n",
       "⎢⎜       ⎢⎢1⎥  ⎢0⎥⎥⎟  ⎜      ⎢⎢0⎥  ⎢0⎥⎥⎟⎥\n",
       "⎢⎜-1, 2, ⎢⎢ ⎥, ⎢ ⎥⎥⎟, ⎜1, 2, ⎢⎢ ⎥, ⎢ ⎥⎥⎟⎥\n",
       "⎢⎜       ⎢⎢0⎥  ⎢1⎥⎥⎟  ⎜      ⎢⎢0⎥  ⎢0⎥⎥⎟⎥\n",
       "⎢⎜       ⎢⎢ ⎥  ⎢ ⎥⎥⎟  ⎜      ⎢⎢ ⎥  ⎢ ⎥⎥⎟⎥\n",
       "⎣⎝       ⎣⎣0⎦  ⎣0⎦⎦⎠  ⎝      ⎣⎣0⎦  ⎣1⎦⎦⎠⎦"
      ]
     },
     "execution_count": 35,
     "metadata": {},
     "output_type": "execute_result"
    }
   ],
   "source": [
    "ZZ = kronecker_product(Z,Z); ZZ.eigenvects()"
   ]
  },
  {
   "cell_type": "code",
   "execution_count": 36,
   "id": "ba670927-9890-4551-a759-ebb904cd2e94",
   "metadata": {},
   "outputs": [
    {
     "data": {
      "image/png": "[encoded data removed]",
      "text/plain": [
       "<Figure size 1016.14x264.88 with 1 Axes>"
      ]
     },
     "execution_count": 36,
     "metadata": {},
     "output_type": "execute_result"
    }
   ],
   "source": [
    "qr = QuantumRegister(3)\n",
    "cr = ClassicalRegister(1)\n",
    "qc = QuantumCircuit(qr,cr)\n",
    "qc.barrier() # mede ZZ\n",
    "qc.cx(0,2)\n",
    "qc.cx(1,2)\n",
    "qc.barrier() # mede XX\n",
    "qc.h([0,1])\n",
    "qc.cx(0,2)\n",
    "qc.cx(1,2)\n",
    "qc.barrier() # mede YY\n",
    "qc.h([0,1])\n",
    "qc.sdg([0,1])\n",
    "qc.h([0,1])\n",
    "qc.cx(0,2)\n",
    "qc.cx(1,2)\n",
    "qc.barrier()\n",
    "qc.measure(2,0)\n",
    "qc.draw('mpl')"
   ]
  },
  {
   "cell_type": "code",
   "execution_count": 37,
   "id": "e100accc-c80d-436d-be00-c194949f7f45",
   "metadata": {},
   "outputs": [
    {
     "name": "stdout",
     "output_type": "stream",
     "text": [
      "64205d6d1c0ff45cfcc543e4\n",
      "Job Status: job has successfully run\n"
     ]
    },
    {
     "data": {
      "text/plain": [
       "{'0': 610, '1': 7582}"
      ]
     },
     "execution_count": 37,
     "metadata": {},
     "output_type": "execute_result"
    }
   ],
   "source": [
    "job_sim = execute(qc, backend=simulator, shots=nshots)\n",
    "counts_sim = job_sim.result().get_counts(qc)\n",
    "job_exp = execute(qc, backend=device, shots=nshots)\n",
    "print(job_exp.job_id())\n",
    "job_monitor(job_exp)\n",
    "counts_exp = job_exp.result().get_counts(qc)\n",
    "counts_exp"
   ]
  },
  {
   "cell_type": "code",
   "execution_count": 38,
   "id": "16c9be1b-6e14-4380-9a12-fd8e2fa67310",
   "metadata": {},
   "outputs": [
    {
     "data": {
      "image/png": "[encoded data removed]",
      "text/plain": [
       "<Figure size 504x360 with 1 Axes>"
      ]
     },
     "execution_count": 38,
     "metadata": {},
     "output_type": "execute_result"
    }
   ],
   "source": [
    "plot_histogram([counts_sim, counts_exp], legend=['sim', 'exp'])"
   ]
  },
  {
   "cell_type": "markdown",
   "id": "584233f7-e6dc-4777-8532-ad3428947d6f",
   "metadata": {},
   "source": [
    "### Contexto $C_3 = \\{\\sigma_1\\otimes\\sigma_2,\\sigma_2\\otimes\\sigma_1,\\sigma_3\\otimes\\sigma_3\\}$\n",
    "Como poder ser verificado com o código abaixo, para este contexto, a base de autovetores comuns é\n",
    "\\begin{align}\n",
    "& |\\tilde{\\Phi}_\\pm\\rangle = 2^{-1/2}\\big(|00\\rangle \\pm i|11\\rangle\\big), \\\\\n",
    "& |\\tilde{\\Psi}_\\pm\\rangle = 2^{-1/2}\\big(|01\\rangle \\pm i|10\\rangle\\big).\n",
    "\\end{align}\n",
    "e podemos escrever\n",
    "\\begin{align}\n",
    "\\sigma_1\\otimes\\sigma_2 & = XY \\\\\n",
    "& = (+1)(|\\tilde{\\Phi}_-\\rangle\\langle\\tilde{\\Phi}_-|+|\\tilde{\\Psi}_-\\rangle\\langle\\tilde{\\Psi}_-|) + (-1)(|\\tilde{\\Phi}_+\\rangle\\langle\\tilde{\\Phi}_+|+|\\tilde{\\Psi}_+\\rangle\\langle\\tilde{\\Psi}_+|), \\\\\n",
    "\\sigma_2\\otimes\\sigma_1 & = YX \\\\\n",
    "& = (+1)(|\\tilde{\\Phi}_-\\rangle\\langle\\tilde{\\Phi}_-|+|\\tilde{\\Psi}_+\\rangle\\langle\\tilde{\\Psi}_+|) + (-1)(|\\tilde{\\Phi}_+\\rangle\\langle\\tilde{\\Phi}_+|+|\\tilde{\\Psi}_-\\rangle\\langle\\tilde{\\Psi}_-|), \\\\\n",
    "\\sigma_3\\otimes\\sigma_3 & = ZZ \\\\\n",
    "& = (+1)(|\\tilde{\\Phi}_+\\rangle\\langle\\tilde{\\Phi}_+|+|\\tilde{\\Phi}_-\\rangle\\langle\\tilde{\\Phi}_-|) + (-1)(|\\tilde{\\Psi}_+\\rangle\\langle\\tilde{\\Psi}_+|+|\\tilde{\\Psi}_-\\rangle\\langle\\tilde{\\Psi}_-|).\n",
    "\\end{align}"
   ]
  },
  {
   "cell_type": "code",
   "execution_count": 39,
   "id": "87a4e7ee-c846-4aa3-b960-054d28e4bbb7",
   "metadata": {},
   "outputs": [
    {
     "data": {
      "image/png": "[encoded data removed]",
      "text/latex": [
       "$\\displaystyle \\left[ \\left( -1.0, \\  1, \\  \\left[ \\left[\\begin{matrix}0\\\\0.707106781186548\\\\0.707106781186548 i\\\\0\\end{matrix}\\right]\\right]\\right), \\  \\left( 1.0, \\  1, \\  \\left[ \\left[\\begin{matrix}0\\\\-0.707106781186548\\\\0.707106781186548 i\\\\0\\end{matrix}\\right]\\right]\\right), \\  \\left( -1.0, \\  1, \\  \\left[ \\left[\\begin{matrix}- 0.707106781186548 i\\\\0\\\\0\\\\-0.707106781186548\\end{matrix}\\right]\\right]\\right), \\  \\left( 1.0, \\  1, \\  \\left[ \\left[\\begin{matrix}0.707106781186548 i\\\\0\\\\0\\\\-0.707106781186548\\end{matrix}\\right]\\right]\\right)\\right]$"
      ],
      "text/plain": [
       "⎡⎛         ⎡⎡         0         ⎤⎤⎞  ⎛        ⎡⎡         0         ⎤⎤⎞  ⎛     \n",
       "⎢⎜         ⎢⎢                   ⎥⎥⎟  ⎜        ⎢⎢                   ⎥⎥⎟  ⎜     \n",
       "⎢⎜         ⎢⎢ 0.707106781186548 ⎥⎥⎟  ⎜        ⎢⎢-0.707106781186548 ⎥⎥⎟  ⎜     \n",
       "⎢⎜-1.0, 1, ⎢⎢                   ⎥⎥⎟, ⎜1.0, 1, ⎢⎢                   ⎥⎥⎟, ⎜-1.0,\n",
       "⎢⎜         ⎢⎢0.707106781186548⋅ⅈ⎥⎥⎟  ⎜        ⎢⎢0.707106781186548⋅ⅈ⎥⎥⎟  ⎜     \n",
       "⎢⎜         ⎢⎢                   ⎥⎥⎟  ⎜        ⎢⎢                   ⎥⎥⎟  ⎜     \n",
       "⎣⎝         ⎣⎣         0         ⎦⎦⎠  ⎝        ⎣⎣         0         ⎦⎦⎠  ⎝     \n",
       "\n",
       "    ⎡⎡-0.707106781186548⋅ⅈ⎤⎤⎞  ⎛        ⎡⎡0.707106781186548⋅ⅈ⎤⎤⎞⎤\n",
       "    ⎢⎢                    ⎥⎥⎟  ⎜        ⎢⎢                   ⎥⎥⎟⎥\n",
       "    ⎢⎢         0          ⎥⎥⎟  ⎜        ⎢⎢         0         ⎥⎥⎟⎥\n",
       " 1, ⎢⎢                    ⎥⎥⎟, ⎜1.0, 1, ⎢⎢                   ⎥⎥⎟⎥\n",
       "    ⎢⎢         0          ⎥⎥⎟  ⎜        ⎢⎢         0         ⎥⎥⎟⎥\n",
       "    ⎢⎢                    ⎥⎥⎟  ⎜        ⎢⎢                   ⎥⎥⎟⎥\n",
       "    ⎣⎣ -0.707106781186548 ⎦⎦⎠  ⎝        ⎣⎣-0.707106781186548 ⎦⎦⎠⎦"
      ]
     },
     "execution_count": 39,
     "metadata": {},
     "output_type": "execute_result"
    }
   ],
   "source": [
    "XY = kronecker_product(X,Y); XY.eigenvects()"
   ]
  },
  {
   "cell_type": "code",
   "execution_count": 40,
   "id": "4f3e1c71-5e01-4453-b86a-769828d08ddc",
   "metadata": {},
   "outputs": [
    {
     "data": {
      "image/png": "[encoded data removed]",
      "text/latex": [
       "$\\displaystyle \\left[ \\left( -1.0, \\  1, \\  \\left[ \\left[\\begin{matrix}0\\\\-0.707106781186548\\\\0.707106781186548 i\\\\0\\end{matrix}\\right]\\right]\\right), \\  \\left( 1.0, \\  1, \\  \\left[ \\left[\\begin{matrix}0\\\\-0.707106781186548\\\\- 0.707106781186548 i\\\\0\\end{matrix}\\right]\\right]\\right), \\  \\left( -1.0, \\  1, \\  \\left[ \\left[\\begin{matrix}- 0.707106781186548 i\\\\0\\\\0\\\\-0.707106781186548\\end{matrix}\\right]\\right]\\right), \\  \\left( 1.0, \\  1, \\  \\left[ \\left[\\begin{matrix}0.707106781186548 i\\\\0\\\\0\\\\-0.707106781186548\\end{matrix}\\right]\\right]\\right)\\right]$"
      ],
      "text/plain": [
       "⎡⎛         ⎡⎡         0         ⎤⎤⎞  ⎛        ⎡⎡         0          ⎤⎤⎞  ⎛    \n",
       "⎢⎜         ⎢⎢                   ⎥⎥⎟  ⎜        ⎢⎢                    ⎥⎥⎟  ⎜    \n",
       "⎢⎜         ⎢⎢-0.707106781186548 ⎥⎥⎟  ⎜        ⎢⎢ -0.707106781186548 ⎥⎥⎟  ⎜    \n",
       "⎢⎜-1.0, 1, ⎢⎢                   ⎥⎥⎟, ⎜1.0, 1, ⎢⎢                    ⎥⎥⎟, ⎜-1.0\n",
       "⎢⎜         ⎢⎢0.707106781186548⋅ⅈ⎥⎥⎟  ⎜        ⎢⎢-0.707106781186548⋅ⅈ⎥⎥⎟  ⎜    \n",
       "⎢⎜         ⎢⎢                   ⎥⎥⎟  ⎜        ⎢⎢                    ⎥⎥⎟  ⎜    \n",
       "⎣⎝         ⎣⎣         0         ⎦⎦⎠  ⎝        ⎣⎣         0          ⎦⎦⎠  ⎝    \n",
       "\n",
       "     ⎡⎡-0.707106781186548⋅ⅈ⎤⎤⎞  ⎛        ⎡⎡0.707106781186548⋅ⅈ⎤⎤⎞⎤\n",
       "     ⎢⎢                    ⎥⎥⎟  ⎜        ⎢⎢                   ⎥⎥⎟⎥\n",
       "     ⎢⎢         0          ⎥⎥⎟  ⎜        ⎢⎢         0         ⎥⎥⎟⎥\n",
       ", 1, ⎢⎢                    ⎥⎥⎟, ⎜1.0, 1, ⎢⎢                   ⎥⎥⎟⎥\n",
       "     ⎢⎢         0          ⎥⎥⎟  ⎜        ⎢⎢         0         ⎥⎥⎟⎥\n",
       "     ⎢⎢                    ⎥⎥⎟  ⎜        ⎢⎢                   ⎥⎥⎟⎥\n",
       "     ⎣⎣ -0.707106781186548 ⎦⎦⎠  ⎝        ⎣⎣-0.707106781186548 ⎦⎦⎠⎦"
      ]
     },
     "execution_count": 40,
     "metadata": {},
     "output_type": "execute_result"
    }
   ],
   "source": [
    "YX = kronecker_product(Y,X); YX.eigenvects()"
   ]
  },
  {
   "cell_type": "code",
   "execution_count": 48,
   "id": "ead3f42f-1c58-4ee1-b04c-5c54f1d3256f",
   "metadata": {},
   "outputs": [
    {
     "data": {
      "image/png": "[encoded data removed]",
      "text/plain": [
       "<Figure size 1076.34x264.88 with 1 Axes>"
      ]
     },
     "execution_count": 48,
     "metadata": {},
     "output_type": "execute_result"
    }
   ],
   "source": [
    "qr = QuantumRegister(3)\n",
    "cr = ClassicalRegister(1)\n",
    "qc = QuantumCircuit(qr,cr)\n",
    "qc.barrier() # mede ZZ\n",
    "qc.cx(0,2)\n",
    "qc.cx(1,2)\n",
    "qc.barrier() # mede XX\n",
    "qc.sdg(1)\n",
    "qc.h([0,1])\n",
    "qc.cx(0,2)\n",
    "qc.cx(1,2)\n",
    "qc.barrier() # mede YY\n",
    "qc.h([0,1])\n",
    "qc.sdg(0)\n",
    "qc.s(1)\n",
    "qc.h([0,1])\n",
    "qc.cx(0,2)\n",
    "qc.cx(1,2)\n",
    "qc.barrier()\n",
    "qc.measure(2,0)\n",
    "qc.draw('mpl')"
   ]
  },
  {
   "cell_type": "code",
   "execution_count": 51,
   "id": "e389882e-38ab-4df6-8155-46fdde0b3feb",
   "metadata": {},
   "outputs": [
    {
     "name": "stdout",
     "output_type": "stream",
     "text": [
      "6420a33596cd3947a7ca929e\n",
      "Job Status: job has successfully run\n"
     ]
    },
    {
     "data": {
      "text/plain": [
       "{'0': 7754, '1': 438}"
      ]
     },
     "execution_count": 51,
     "metadata": {},
     "output_type": "execute_result"
    }
   ],
   "source": [
    "job_sim = execute(qc, backend=simulator, shots=nshots)\n",
    "counts_sim = job_sim.result().get_counts(qc)\n",
    "job_exp = execute(qc, backend=device, shots=nshots)\n",
    "print(job_exp.job_id())\n",
    "job_monitor(job_exp)\n",
    "counts_exp = job_exp.result().get_counts(qc)\n",
    "counts_exp"
   ]
  },
  {
   "cell_type": "code",
   "execution_count": 52,
   "id": "0f28ce8b-a8fd-46ca-baed-4ce9f02f89c5",
   "metadata": {},
   "outputs": [
    {
     "data": {
      "image/png": "[encoded data removed]",
      "text/plain": [
       "<Figure size 504x360 with 1 Axes>"
      ]
     },
     "execution_count": 52,
     "metadata": {},
     "output_type": "execute_result"
    }
   ],
   "source": [
    "plot_histogram([counts_sim, counts_exp], legend=['sim', 'exp'])"
   ]
  },
  {
   "cell_type": "markdown",
   "id": "3dbfe316-01de-4ccd-b30e-577747083155",
   "metadata": {},
   "source": [
    "### Vetor de medida\n",
    "\n"
   ]
  },
  {
   "cell_type": "code",
   "execution_count": 54,
   "id": "7a154c89-135b-43f5-9fb5-ac1c7ad7d617",
   "metadata": {},
   "outputs": [],
   "source": [
    "cr1 = {'0': 7921, '1': 271}\n",
    "cr2 = {'0': 7944, '1': 248}\n",
    "cr3 = {'0': 7754, '1': 438}\n",
    "cc1 = {'0': 7913, '1': 279}\n",
    "cc2 = {'0': 7940, '1': 252}\n",
    "cc3 = {'0': 610, '1': 7582}"
   ]
  },
  {
   "cell_type": "code",
   "execution_count": 55,
   "id": "4e5461af-45aa-4c65-983e-366b3113c5b3",
   "metadata": {},
   "outputs": [
    {
     "name": "stdout",
     "output_type": "stream",
     "text": [
      "0.933837890625 0.939453125 0.89306640625 0.931884765625 0.9384765625 -0.85107421875\n"
     ]
    }
   ],
   "source": [
    "r1a = (cr1['0']-cr1['1'])/(cr1['0']+cr1['1'])\n",
    "r2a = (cr2['0']-cr2['1'])/(cr2['0']+cr2['1'])\n",
    "r3a = (cr3['0']-cr3['1'])/(cr3['0']+cr3['1'])\n",
    "c1a = (cc1['0']-cc1['1'])/(cc1['0']+cc1['1'])\n",
    "c2a = (cc2['0']-cc2['1'])/(cc2['0']+cc2['1'])\n",
    "c3a = (cc3['0']-cc3['1'])/(cc3['0']+cc3['1'])\n",
    "print(r1a,r2a,r3a,c1a,c2a,c3a)"
   ]
  },
  {
   "cell_type": "markdown",
   "id": "0ea8cf80-f13b-4e44-bc38-3392d9ba4024",
   "metadata": {},
   "source": [
    "Para fazer a estatística, teríamos que acompanhar a combinação de resultados individiais. No entanto, podemos considerar um vetor de medida médio como segue\n",
    "\\begin{align}\n",
    "\\langle\\vec{\\mu}_Q^{exp}\\rangle & = \\begin{bmatrix}\\langle r_1\\rangle & \\langle r_2\\rangle & \\langle r_3\\rangle & \\langle c_1\\rangle & \\langle c_2\\rangle & \\langle c_3\\rangle \\end{bmatrix}^T \\\\\n",
    "& \\approx \\begin{bmatrix} 0.93 & 0.94 & 0.89 & 0.93 & 0.94 & -0.85 \\end{bmatrix}^T.\n",
    "\\end{align}"
   ]
  },
  {
   "cell_type": "code",
   "execution_count": 111,
   "id": "acdaba94-e750-47d6-abc6-aeae4a5a2a2b",
   "metadata": {},
   "outputs": [],
   "source": [
    "def objective(x):\n",
    "    mu_Q = np.array([0.93,0.94,0.89,0.93,0.94,-0.85])\n",
    "    vec = mu_Q - A_R@x\n",
    "    return np.linalg.norm(vec)"
   ]
  },
  {
   "cell_type": "code",
   "execution_count": 112,
   "id": "f502bade-b0c7-4c1b-b7b7-ed9587154e8f",
   "metadata": {},
   "outputs": [],
   "source": [
    "constraints = [{'type': 'eq', 'fun': lambda x: np.sum(x)-1},\n",
    "               {'type':'ineq', 'fun': lambda x: x},\n",
    "               {'type':'ineq', 'fun': lambda x: 1-x}]"
   ]
  },
  {
   "cell_type": "code",
   "execution_count": 113,
   "id": "305f4a6d-71cb-4307-bedd-9f17ba5852a6",
   "metadata": {},
   "outputs": [],
   "source": [
    "np.random.seed(130000)\n",
    "x0 = rpv_zhsl(16)"
   ]
  },
  {
   "cell_type": "code",
   "execution_count": 114,
   "id": "d10d6fb0-7e35-4e96-a74b-57640650717e",
   "metadata": {},
   "outputs": [
    {
     "name": "stdout",
     "output_type": "stream",
     "text": [
      "melhor distribuicao de probabilidades [0.00178145 0.00230651 0.00309086 0.00308262 0.00289763 0.00296653\n",
      " 0.0044315  0.00953317 0.00310075 0.00309702 0.01397259 0.00465453\n",
      " 0.00946641 0.00448244 0.03054705 0.90058893]\n"
     ]
    }
   ],
   "source": [
    "result = minimize(objective, x0, constraints=constraints, method='trust-constr')\n",
    "print('melhor distribuicao de probabilidades', result.x)"
   ]
  },
  {
   "cell_type": "code",
   "execution_count": 115,
   "id": "8f867933-1aa7-42b8-bd19-273e53ac5abb",
   "metadata": {},
   "outputs": [
    {
     "name": "stdout",
     "output_type": "stream",
     "text": [
      "1.9300000291674635\n"
     ]
    }
   ],
   "source": [
    "print(objective(result.x))"
   ]
  },
  {
   "cell_type": "markdown",
   "id": "6afc6ff2-0b2f-4114-9274-4e9f25b7c048",
   "metadata": {},
   "source": [
    "### Referências\n",
    "\n",
    "1. C. Budroni, A. Cabello, O. Gühne, M. Kleinmann, and J.-Å. Larsson, “Kochen-Specker Contextuality,” Rev. Mod. Phys., vol. 94, no. 4, p. 045007, Dec. 2022, doi: 10.1103/RevModPhys.94.045007.\n",
    "\n",
    "1. J. Singh, R. S. Bhati, and Arvind, “Revealing quantum contextuality using a single measurement device,” Phys. Rev. A, vol. 107, no. 1, p. 012201, Jan. 2023, doi: 10.1103/PhysRevA.107.012201.\n",
    "\n",
    "1. Adán Cabello, Historical Introduction to Quantum Contextuality, https://youtu.be/5r6J-PQVo_s.\n",
    "\n",
    "1. A. Laghaout, A. Dikme, N. Reichel, and G. Björk, “A demonstration of contextuality using quantum computers,” Eur. J. Phys., vol. 43, no. 5, p. 055401, Jul. 2022, doi: 10.1088/1361-6404/ac79e0.\n"
   ]
  },
  {
   "cell_type": "code",
   "execution_count": null,
   "id": "a6a21c4f-9d65-4520-a504-9bdb76880875",
   "metadata": {},
   "outputs": [],
   "source": []
  }
 ],
 "metadata": {
  "kernelspec": {
   "display_name": "Python 3 (ipykernel)",
   "language": "python",
   "name": "python3"
  },
  "language_info": {
   "codemirror_mode": {
    "name": "ipython",
    "version": 3
   },
   "file_extension": ".py",
   "mimetype": "text/x-python",
   "name": "python",
   "nbconvert_exporter": "python",
   "pygments_lexer": "ipython3",
   "version": "3.9.13"
  }
 },
 "nbformat": 4,
 "nbformat_minor": 5
}
