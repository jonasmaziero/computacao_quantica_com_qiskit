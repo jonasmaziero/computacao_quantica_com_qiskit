{
 "cells": [
  {
   "cell_type": "markdown",
   "id": "25e99fb0",
   "metadata": {},
   "source": [
    "# Fidelidade\n",
    "\n",
    "A fidelidade quântica entre dois estados quânticos $\\rho$ e $\\sigma$ é um medida da similaridade entre estes estados definida como\n",
    "$$F(\\rho,\\sigma) = Tr\\sqrt{\\sqrt{\\rho}\\sigma\\sqrt{\\rho}}.$$\n",
    "\n",
    "Se um dos estados é puro ($A=\\sum_j a_j|a_j\\rangle\\langle a_j|\\ \\therefore\\ \\sqrt{A}=\\sum_j \\sqrt{a_j}|a_j\\rangle\\langle a_j|$),\n",
    "$$\\rho=|\\psi\\rangle\\langle\\psi|\\ \\therefore\\ \\sqrt{\\rho}=\\sqrt{1}|\\psi\\rangle\\langle\\psi|=|\\psi\\rangle\\langle\\psi|,$$\n",
    "teremos\n",
    "\\begin{align}\n",
    "F(|\\psi\\rangle,\\sigma) & = Tr\\sqrt{\\sqrt{|\\psi\\rangle\\langle\\psi|}\\sigma\\sqrt{|\\psi\\rangle\\langle\\psi|}} \\\\\n",
    "& = Tr\\sqrt{|\\psi\\rangle\\langle\\psi|\\sigma|\\psi\\rangle\\langle\\psi|} \\\\\n",
    "& = Tr\\sqrt{\\langle\\psi|\\sigma|\\psi\\rangle|\\psi\\rangle\\langle\\psi|} \\\\\n",
    "& = Tr(\\sqrt{\\langle\\psi|\\sigma|\\psi\\rangle}|\\psi\\rangle\\langle\\psi|) \\\\\n",
    "& = \\sqrt{\\langle\\psi|\\sigma|\\psi\\rangle}Tr(|\\psi\\rangle\\langle\\psi|) \\\\\n",
    "& = \\sqrt{\\langle\\psi|\\sigma|\\psi\\rangle}.\n",
    "\\end{align}"
   ]
  },
  {
   "cell_type": "markdown",
   "id": "4afbf840",
   "metadata": {},
   "source": [
    "Se os dois estados são puros, então\n",
    "\\begin{align}\n",
    "F(|\\psi\\rangle,|\\phi\\rangle) & = \\sqrt{\\langle\\psi|\\phi\\rangle\\langle\\phi|\\psi\\rangle} \\\\\n",
    "& = \\sqrt{|\\langle\\psi|\\phi\\rangle|^2} \\\\\n",
    "& = |\\langle\\psi|\\phi\\rangle|.\n",
    "\\end{align}\n",
    "\n",
    "Para provar o teorema de Uhlmann, o que faremos na sequência, precisaremos do seguinte resultado para o produto interno de Hilbert-Schmidt.\n"
   ]
  },
  {
   "cell_type": "markdown",
   "id": "7f4d71c7",
   "metadata": {},
   "source": [
    "## Fórmula alternativa para o produto interno de Hilbert-Schmidt\n",
    "\n",
    "O produto interno de Hilbert-Schmidt é definido e pode ser escrito como segue\n",
    "\\begin{align}\n",
    "\\langle A|B\\rangle & = Tr(A^\\dagger B) \\\\\n",
    "& = \\sum_j \\langle j|A^\\dagger B|j\\rangle \\\\\n",
    "& = \\sum_j \\langle j|A^\\dagger I B|j\\rangle \\\\\n",
    "& = \\sum_{j,k} \\langle j|A^\\dagger|k\\rangle\\langle k| B|j\\rangle \\\\\n",
    "& = \\sum_{j,k} \\langle j|(A^*)^T |k\\rangle\\langle k| B|j\\rangle \\\\\n",
    "& = \\sum_{j,k} \\langle k|A^* |j\\rangle\\langle k| B|j\\rangle.\n",
    "\\end{align}"
   ]
  },
  {
   "cell_type": "markdown",
   "id": "840bc5d6",
   "metadata": {},
   "source": [
    "Agora consideremos que o operador $A$ atua em $\\mathcal{H}_A$ e o operador $B$ atua no espaço de Hilbert $\\mathcal{H}_B$, com  $\\mathcal{H}_A= \\mathcal{H}_B$. Consideremos o seguinte vetor do espaço composto $\\mathcal{H}_A\\otimes\\mathcal{H}_B$:\n",
    "$$|\\Phi\\rangle = \\sum_j |j\\rangle\\otimes|j\\rangle.$$\n",
    "Teremos assim que\n",
    "\\begin{align}\n",
    "\\langle \\Phi|(A^*\\otimes B)|\\Phi\\rangle & = \\sum_j\\langle j|\\otimes\\langle j| (A^*\\otimes B)\\sum_k |k\\rangle\\otimes|k\\rangle \\\\\n",
    "& = \\sum_{j,k}\\langle j|A^*|k\\rangle\\otimes\\langle j|B|k\\rangle \\\\\n",
    "& = \\sum_{j,k}\\langle j|A^*|k\\rangle\\langle j|B|k\\rangle \\\\\n",
    "& = \\sum_{j,k}\\langle k|A^*|j\\rangle\\langle k|B|j\\rangle.\n",
    "\\end{align}\n",
    "\n",
    "Por conseguinte\n",
    "$$\\langle A|B\\rangle = Tr(A^\\dagger B) = \\langle \\Phi|(A^*\\otimes B)|\\Phi\\rangle.$$"
   ]
  },
  {
   "cell_type": "markdown",
   "id": "936fd318",
   "metadata": {},
   "source": [
    "Para provar o teorema de Uhlmann, o que faremos na sequência, precisaremos do seguinte lema.\n",
    "## Lema\n",
    "Seja $A$ um operador linear qualquer e $U$ um operador unitário. Então\n",
    "$$|Tr(AU)|\\le Tr|A|,$$\n",
    "com a igualdade obtida com \n",
    "$$U=V^\\dagger,$$\n",
    "em que\n",
    "$$A=|A|V$$\n",
    "é a decomposição polar do operador $A$.\n",
    "\n",
    "Com relação à notação, define-se\n",
    "$$|A| = \\sqrt{A^\\dagger A}.$$"
   ]
  },
  {
   "cell_type": "markdown",
   "id": "0bad14c6",
   "metadata": {},
   "source": [
    "### Prova\n",
    "Usando a igualdade obtida acima para o produto interno de Hilbert-Schmidt e a desigualdade de Cauchy-Schwarz ($|\\langle\\psi|\\phi\\rangle|^2\\le\\langle\\psi|\\psi\\rangle\\langle\\phi|\\phi\\rangle\\ \\forall |\\psi\\rangle,|\\phi\\rangle$).\n",
    "Teremos assim que\n",
    "\\begin{align}\n",
    "|Tr(AU)| & = |Tr(|A|VU)| \\\\\n",
    "& = |Tr(|A|^{1/2}|A|^{1/2}VU)| \\\\\n",
    "& = |\\langle|A|^{1/2}\\big| |A|^{1/2}VU)\\rangle| \\\\\n",
    "& \\le \\sqrt{\\langle|A|^{1/2}\\big| |A|^{1/2}\\rangle\\langle|A|^{1/2}VU\\big| |A|^{1/2}VU)\\rangle} \\\\\n",
    "& = \\sqrt{Tr(|A|^{1/2}|A|^{1/2})Tr(U^\\dagger V^\\dagger|A|^{1/2}|A|^{1/2}VU))} \\\\\n",
    "& = \\sqrt{Tr(|A|)Tr(VUU^\\dagger V^\\dagger|A|))} \\\\\n",
    "& = \\sqrt{Tr(|A|)Tr(|A|))} \\\\\n",
    "& = Tr(|A|).\n",
    "\\end{align}"
   ]
  },
  {
   "cell_type": "markdown",
   "id": "a7606c7f",
   "metadata": {},
   "source": [
    "A condição de igualdade é facilmente verificada\n",
    "\\begin{align}\n",
    "Tr(AU) & = Tr(|A|V V^\\dagger) \\\\\n",
    "& = Tr(|A|).\n",
    "\\end{align}\n",
    "Completamos assim a prova do lema. $\\square$"
   ]
  },
  {
   "cell_type": "markdown",
   "id": "b17149b6",
   "metadata": {},
   "source": [
    "## Teorema de Uhlmann\n",
    "Consideremos dois operadores densidade \n",
    "\\begin{align}\n",
    "& \\rho = \\sum_j r_j|r_j\\rangle\\langle r_j|, \\\\\n",
    "& \\sigma = \\sum_j s_j|s_j\\rangle\\langle s_j|,\n",
    "\\end{align}\n",
    "definidos no espaço de Hilbert $\\mathcal{H}_A$. Usando um sistema auxiliar $\\mathcal{H}_B$, com $\\mathcal{H}_B=\\mathcal{H}_A$, podemos escrever as seguinte purificações gerais\n",
    "\\begin{align}\n",
    "& |\\psi\\rangle = \\sum_j \\sqrt{r_j}|r_j\\rangle\\otimes|b_j\\rangle, \\\\\n",
    "& |\\phi\\rangle = \\sum_j \\sqrt{s_j}|s_j\\rangle\\otimes|c_j\\rangle.\n",
    "\\end{align}\n",
    "Ou seja\n",
    "\\begin{align}\n",
    "& \\rho = Tr_B (|\\psi\\rangle\\langle \\psi|), \\\\\n",
    "& \\sigma = Tr_B (|\\phi\\rangle\\langle \\phi|).\n",
    "\\end{align}\n",
    "Teremos assim que\n",
    "$$F(\\rho,\\sigma) = Tr\\sqrt{\\sqrt{\\rho}\\sigma\\sqrt{\\rho}} = \\max_{|\\psi\\rangle,|\\phi\\rangle}|\\langle\\psi|\\phi\\rangle|.$$"
   ]
  },
  {
   "cell_type": "markdown",
   "id": "c631b670",
   "metadata": {},
   "source": [
    "### Prova\n",
    "Para \n",
    "$$|\\Phi\\rangle = \\sum_j |j\\rangle\\otimes|j\\rangle,$$\n",
    "podemos verificar que as purificações acima podem ser escritas como segue\n",
    "\\begin{align}\n",
    "|\\psi\\rangle & = (\\sqrt{\\rho}U\\otimes V)|\\Phi\\rangle \\\\\n",
    "& = (\\sum_j r_j |r_j\\rangle\\langle r_j| U\\otimes V)\\sum_k|k\\rangle\\otimes|k\\rangle \\\\\n",
    "& = \\sum_{j,k} r_j |r_j\\rangle\\langle r_j| U|k\\rangle\\otimes V|k\\rangle \\\\\n",
    "& =: \\sum_{j,k} r_j |r_j\\rangle\\langle r_j|r_k\\rangle\\otimes |b_k\\rangle \\\\\n",
    "& = \\sum_{j} r_j |r_j\\rangle\\otimes |b_k\\rangle,\n",
    "\\end{align}\n",
    "em que usamos\n",
    "$$|b_j\\rangle := V|j\\rangle,\\ |r_j\\rangle = U|j\\rangle.$$\n",
    "Claro, $U$ e $V$ devem ser matrizes unitárias."
   ]
  },
  {
   "cell_type": "markdown",
   "id": "608014e7",
   "metadata": {},
   "source": [
    "Analogamente, pode ser mostrar que\n",
    "$$|\\phi\\rangle  = (\\sqrt{\\sigma}W\\otimes X)|\\Phi\\rangle$$\n",
    "com\n",
    "$$|b_j\\rangle := X|j\\rangle,\\ |s_j\\rangle = W|j\\rangle,$$\n",
    "$W$ e $X$ sendo matrizes unitárias.\n",
    "\n",
    "Com isso, vem que\n",
    "\\begin{align}\n",
    "|\\langle\\psi|\\phi\\rangle| & = \\big|\\langle\\Phi|(U^\\dagger\\otimes V^\\dagger\\sqrt{\\rho})(W\\otimes\\sqrt{\\sigma}X)|\\Phi\\rangle\\big| \\\\\n",
    "& = \\big|\\langle\\Phi|(U^\\dagger W\\otimes V^\\dagger\\sqrt{\\rho}\\sqrt{\\sigma}X)|\\Phi\\rangle\\big| \\\\\n",
    "& = \\big|\\langle\\Phi|((U^T W^*)^*\\otimes V^\\dagger\\sqrt{\\rho}\\sqrt{\\sigma}X)|\\Phi\\rangle\\big| \\\\\n",
    "& = \\big|Tr\\big((U^T W^*)^\\dagger V^\\dagger\\sqrt{\\rho}\\sqrt{\\sigma}X\\big)\\big| \\\\\n",
    "& = \\big|Tr\\big(XW^T U^*V^\\dagger\\sqrt{\\rho}\\sqrt{\\sigma}\\big)\\big| \\\\\n",
    "& = \\big|Tr\\big(\\sqrt{\\rho}\\sqrt{\\sigma}XW^T U^*V^\\dagger\\big)\\big| \\\\\n",
    "& =: \\big|Tr\\big(\\sqrt{\\rho}\\sqrt{\\sigma}Y\\big)\\big| \\\\\n",
    "& \\le Tr\\big|\\sqrt{\\rho}\\sqrt{\\sigma}\\big| \\\\\n",
    "& = Tr\\sqrt{\\sqrt{\\sigma}\\sqrt{\\rho}\\sqrt{\\rho}\\sqrt{\\sigma}} \\\\\n",
    "& = Tr\\sqrt{\\sqrt{\\sigma}\\rho\\sqrt{\\sigma}} \\\\\n",
    "& = F(\\sigma,\\rho),\n",
    "\\end{align}\n",
    "com $Y := XW^T U^*V^\\dagger$ sendo uma matriz unitária.\n",
    "\n",
    "Completamos assim a prova do teorema. $\\square$"
   ]
  },
  {
   "cell_type": "markdown",
   "id": "f77166a9",
   "metadata": {},
   "source": [
    "## Expressão mais simples pra a fidelidade\n",
    "Dado que \n",
    "$$F(\\rho,\\sigma) = \\max_{|\\psi\\rangle,|\\phi\\rangle}|\\langle\\psi|\\phi\\rangle|,$$\n",
    "com $|\\psi\\rangle$ e $|\\phi\\rangle$ sendo purificações de $\\rho$ e $\\sigma$, respectivamente, podemos verificar que \n",
    "$$F(\\rho,\\sigma) = \\max_{|\\phi\\rangle}|\\langle\\psi|\\phi\\rangle|.$$\n",
    "Ou seja, podemos usar uma purificação, $|\\psi\\rangle$, fixa e maximizar somente sobre a outra purificação $|\\phi\\rangle$.\n",
    "\n",
    "As purificações gerais dos operadores densidade\n",
    "\\begin{align}\n",
    "& \\rho = \\sum_j r_j|r_j\\rangle\\langle r_j|, \\\\\n",
    "& \\sigma = \\sum_j s_j|s_j\\rangle\\langle s_j|,\n",
    "\\end{align}\n",
    "podem ser escritas como\n",
    "\\begin{align}\n",
    "& |\\psi\\rangle = \\sum_j \\sqrt{r_j}|r_j\\rangle\\otimes|b_j\\rangle, \\\\\n",
    "& |\\phi\\rangle = \\sum_j \\sqrt{s_j}|s_j\\rangle\\otimes|c_j\\rangle\n",
    "\\end{align}\n",
    "com as bases ortonormais dadas por\n",
    "\\begin{align}\n",
    "& |b_j\\rangle = U|j\\rangle, \\\\\n",
    "& |c_j\\rangle = V|j\\rangle,\n",
    "\\end{align}\n",
    "em que $U$ e $V$ são matrizes unitárias e $\\{|j\\rangle\\}$ é a base computacional."
   ]
  },
  {
   "cell_type": "markdown",
   "id": "dbd7797c",
   "metadata": {},
   "source": [
    "Teremos assim que\n",
    "\\begin{align}\n",
    "\\langle\\psi|\\phi\\rangle & = \\sum_j\\sqrt{r_j}\\langle r_j|\\otimes\\langle b_j|\\sum_k \\sqrt{s_k}|s_k\\rangle\\otimes|c_k\\rangle \\\\\n",
    "& = \\sum_j\\sqrt{r_j}\\langle r_j|\\sum_k \\sqrt{s_k}|s_k\\rangle\\otimes\\langle b_j|c_k\\rangle \\\\\n",
    "& = \\sum_j\\sqrt{r_j}\\langle r_j|\\sum_k \\sqrt{s_k}|s_k\\rangle\\otimes\\langle j|U^\\dagger V|k\\rangle \\\\\n",
    "& =: \\sum_j\\sqrt{r_j}\\langle r_j|\\sum_k \\sqrt{s_k}|s_k\\rangle\\otimes\\langle j|W|k\\rangle \\\\\n",
    "& = \\sum_j\\sqrt{r_j}\\langle r_j|\\sum_k \\sqrt{s_k}|s_k\\rangle\\otimes\\langle j|d_k\\rangle \\\\\n",
    "& = \\sum_j\\sqrt{r_j}\\langle r_j|\\otimes\\langle j|\\sum_k \\sqrt{s_k}|s_k\\rangle\\otimes|d_k\\rangle \\\\\n",
    "& =: \\langle\\psi'|\\phi'\\rangle,\n",
    "\\end{align}\n",
    "em que definimos\n",
    "\\begin{align}\n",
    "& |\\psi'\\rangle := \\sum_j\\sqrt{r_j}|r_j\\rangle\\otimes|j\\rangle, \\\\\n",
    "& |\\phi'\\rangle := \\sum_k \\sqrt{s_k}|s_k\\rangle\\otimes|d_k\\rangle,\n",
    "\\end{align}\n",
    "e\n",
    "$$W:= U^\\dagger V,$$\n",
    "que também é uma matriz unitária, e portanto \n",
    "$$|d_k\\rangle=W|k\\rangle$$\n",
    "é uma base ortonormal geral do espaço de Hilbert correspondente. \n",
    "\n",
    "_OBS_. Esta expressão simplificada vai ser particularmente útil para estudar discórdia de Bures."
   ]
  },
  {
   "cell_type": "markdown",
   "id": "d395b0c4",
   "metadata": {},
   "source": [
    "# Cálculo mais eficiente da fidelidade\n",
    "\n",
    "Na ref. 2, mostrou-se que a fidelidade pode ser escrita como\n",
    "$$F(\\rho,\\sigma) = Tr\\sqrt{\\sqrt{\\rho}\\sigma\\sqrt{\\rho}} = Tr\\sqrt{\\rho\\sigma}. $$\n",
    "Note que o cálculo dessa nova expressão envolve somente uma diagonalização de matriz, enquanto que calcular a expressão original envolve 2 diagonalizações de matriz.\n",
    "\n",
    "Observa-se que os autores usaram alguns resultados (não totalmente convincentes) de álgebra linear para provar esse resultado. A seguir apresentamos uma demonstração alternativa."
   ]
  },
  {
   "cell_type": "markdown",
   "id": "07cfbf7a",
   "metadata": {},
   "source": [
    "Vamos considerar uma função $f$ que pode ser expandida em série de Taylor. Assim, para 3 operadores lineares quaisquer $A,B,C$, podemos escrever\n",
    "$$f(ABC) = \\sum_{j=0}^{\\infty}c_j(ABC)^j.$$\n",
    "\n",
    "Podemos usar a propriedade cíclica do traço para notar que\n",
    "\\begin{align}\n",
    "Tr((ABC)^j) & = Tr((ABC)(ABC)\\cdots (ABC)) \\\\\n",
    "& = Tr((CAB)(CAB)\\cdots (CAB)) \\\\\n",
    "& = Tr((CAB)^j).\n",
    "\\end{align}"
   ]
  },
  {
   "cell_type": "markdown",
   "id": "cd142f3e",
   "metadata": {},
   "source": [
    "Com isso, vemos que\n",
    "\\begin{align}\n",
    "Tr(f(ABC)) & = Tr(\\sum_{j=0}^{\\infty}c_j(ABC)^j) \\\\\n",
    "& = \\sum_{j=0}^{\\infty}c_jTr((ABC)^j) \\\\\n",
    "& = \\sum_{j=0}^{\\infty}c_jTr((CAB)^j) \\\\\n",
    "& = Tr(\\sum_{j=0}^{\\infty}c_j(CAB)^j) \\\\\n",
    "& = Tr(f(CAB)).\n",
    "\\end{align}"
   ]
  },
  {
   "cell_type": "markdown",
   "id": "91fe9ebe",
   "metadata": {},
   "source": [
    "Por conseguinte, considerando a fidelidade, com \n",
    "$$f(.)=\\sqrt{.},$$\n",
    "e \n",
    "$$A=\\sqrt{\\rho},\\ B=\\sigma,\\ C=\\sqrt{\\rho},$$\n",
    "teremos que\n",
    "\\begin{align}\n",
    "F(\\rho,\\sigma) & = Tr\\sqrt{\\sqrt{\\rho}\\sigma\\sqrt{\\rho}} \\\\\n",
    "& = Tr\\sqrt{\\sqrt{\\rho}\\sqrt{\\rho}\\sigma} \\\\\n",
    "& = Tr\\sqrt{\\rho\\sigma}.\n",
    "\\end{align}"
   ]
  },
  {
   "cell_type": "markdown",
   "id": "b97ec18f",
   "metadata": {},
   "source": [
    "Vale observar que\n",
    "\\begin{align}\n",
    "& (\\rho\\sigma)^\\dagger(\\rho\\sigma) = \\sigma\\rho\\rho\\sigma = \\sigma\\rho^2\\sigma \\\\\n",
    "& \\ne (\\rho\\sigma)(\\rho\\sigma)^\\dagger = \\rho\\sigma\\sigma\\rho = \\rho\\sigma^2\\rho.\n",
    "\\end{align}\n",
    "Ou seja, $\\rho\\sigma$ __não é um operador normal__, e portanto não há garantia de que seja diagonalizável. Por outro lado, é fácil verificar que o operador $\\sqrt{\\rho}\\sigma\\sqrt{\\rho}$ é normal.\n",
    "\n",
    "Se\n",
    "$$[\\rho,\\sigma]=0,$$\n",
    "então\n",
    "$$\\rho\\sigma = \\sum_j r_j|c_j\\rangle\\langle c_j|\\sum_k s_k|c_k\\rangle\\langle c_k| = \\sum_j r_j s_j|c_j\\rangle\\langle c_j|$$\n",
    "é um operador positivo. Nesse caso, podemos calcular $\\sqrt{\\rho\\sigma}$ sem problemas.\n",
    "\n",
    "E no caso geral?"
   ]
  },
  {
   "cell_type": "code",
   "execution_count": 26,
   "id": "1d07517b",
   "metadata": {},
   "outputs": [],
   "source": [
    "from sympy import *\n",
    "init_printing(use_unicode=True)"
   ]
  },
  {
   "cell_type": "code",
   "execution_count": 28,
   "id": "e4444ef5",
   "metadata": {},
   "outputs": [],
   "source": [
    "r1,r2,r3,s1,s2,s3 = symbols('r_1 r_2 r_3 s_1 s_2 s_3')\n",
    "I = Matrix([[1,0],[0,1]]); X = Matrix([[0,1],[1,0]]); Y = Matrix([[0,-1j],[1j,0]]); Z = Matrix([[1,0],[0,-1]])\n",
    "rho = (1/2)*(I+r1*X+r2*Y+r3*Z); sigma = (1/2)*(I+s1*X+s2*Y+s3*Z)\n",
    "#rho, sigma"
   ]
  },
  {
   "cell_type": "code",
   "execution_count": 29,
   "id": "757d80b1",
   "metadata": {},
   "outputs": [],
   "source": [
    "def frho(r1,r2,r3):\n",
    "    return (1/2)*(I+r1*X+r2*Y+r3*Z)\n",
    "def fsigma(s1,s2,s3):\n",
    "    return (1/2)*(I+s1*X+s2*Y+s3*Z)"
   ]
  },
  {
   "cell_type": "code",
   "execution_count": null,
   "id": "88526697",
   "metadata": {},
   "outputs": [],
   "source": [
    "A = frho(r1,0,r2)*fsigma(0,s2,0)\n",
    "simplify(A.eigenvals())"
   ]
  },
  {
   "cell_type": "code",
   "execution_count": 40,
   "id": "bb5e0244",
   "metadata": {},
   "outputs": [
    {
     "data": {
      "text/latex": [
       "$\\displaystyle \\left[\\begin{matrix}0.25 r_{3} \\left(s_{1}^{2} + s_{2}^{2}\\right) & 0.25 r_{3}^{2} \\left(- s_{1} + i s_{2}\\right)\\\\0.25 r_{3}^{2} \\left(- s_{1} - i s_{2}\\right) & 0.25 r_{3} \\left(- s_{1}^{2} - s_{2}^{2}\\right)\\end{matrix}\\right]$"
      ],
      "text/plain": [
       "⎡         ⎛  2     2⎞          2             ⎤\n",
       "⎢ 0.25⋅r₃⋅⎝s₁  + s₂ ⎠   0.25⋅r₃ ⋅(-s₁ + ⅈ⋅s₂)⎥\n",
       "⎢                                            ⎥\n",
       "⎢       2                       ⎛    2     2⎞⎥\n",
       "⎣0.25⋅r₃ ⋅(-s₁ - ⅈ⋅s₂)  0.25⋅r₃⋅⎝- s₁  - s₂ ⎠⎦"
      ]
     },
     "execution_count": 40,
     "metadata": {},
     "output_type": "execute_result"
    }
   ],
   "source": [
    "A = frho(0,0,r3); B = fsigma(s1,s2,0)\n",
    "simplify(A*(B**2)*A - B*(A**2)*B)"
   ]
  },
  {
   "cell_type": "code",
   "execution_count": 41,
   "id": "ca69bf24",
   "metadata": {},
   "outputs": [
    {
     "data": {
      "text/latex": [
       "$\\displaystyle \\left[\\begin{matrix}0.25 r_{3} + 0.25 & 0.25 \\left(r_{3} + 1\\right) \\left(s_{1} - i s_{2}\\right)\\\\- 0.25 \\left(r_{3} - 1\\right) \\left(s_{1} + i s_{2}\\right) & 0.25 - 0.25 r_{3}\\end{matrix}\\right]$"
      ],
      "text/plain": [
       "⎡      0.25⋅r₃ + 0.25        0.25⋅(r₃ + 1)⋅(s₁ - ⅈ⋅s₂)⎤\n",
       "⎢                                                     ⎥\n",
       "⎣-0.25⋅(r₃ - 1)⋅(s₁ + ⅈ⋅s₂)       0.25 - 0.25⋅r₃      ⎦"
      ]
     },
     "execution_count": 41,
     "metadata": {},
     "output_type": "execute_result"
    }
   ],
   "source": [
    "M = A*B; simplify(M)"
   ]
  },
  {
   "cell_type": "code",
   "execution_count": 43,
   "id": "89948597",
   "metadata": {},
   "outputs": [
    {
     "data": {
      "image/png": "[encoded data removed]",
      "text/latex": [
       "$\\displaystyle \\left\\{ 0.25 - 0.25 \\sqrt{- r_{3}^{2} s_{1}^{2} - r_{3}^{2} s_{2}^{2} + r_{3}^{2} + s_{1}^{2} + s_{2}^{2}} : 1, \\  0.25 \\sqrt{- r_{3}^{2} s_{1}^{2} - r_{3}^{2} s_{2}^{2} + r_{3}^{2} + s_{1}^{2} + s_{2}^{2}} + 0.25 : 1\\right\\}$"
      ],
      "text/plain": [
       "⎧               _______________________________________             __________\n",
       "⎨              ╱     2   2     2   2     2     2     2             ╱     2   2\n",
       "⎩0.25 - 0.25⋅╲╱  - r₃ ⋅s₁  - r₃ ⋅s₂  + r₃  + s₁  + s₂  : 1, 0.25⋅╲╱  - r₃ ⋅s₁ \n",
       "\n",
       "_____________________________          ⎫\n",
       "     2   2     2     2     2           ⎬\n",
       " - r₃ ⋅s₂  + r₃  + s₁  + s₂   + 0.25: 1⎭"
      ]
     },
     "execution_count": 43,
     "metadata": {},
     "output_type": "execute_result"
    }
   ],
   "source": [
    "simplify(M.eigenvals()) # parecem ser positivos o que esta na raiz e o autovalores"
   ]
  },
  {
   "cell_type": "markdown",
   "id": "4f7afebd",
   "metadata": {
    "slideshow": {
     "slide_type": "subslide"
    }
   },
   "source": [
    "## Resultado relacionado ao teorema de Uhlmann\n",
    "\n",
    "Se $\\rho\\sigma$ pode ser diagonalizado, ou seja, se existe uma decomposição espectral de $\\rho\\sigma$, podemos considerar a seguinte decomposição espectral:\n",
    "$$\\rho\\sigma = \\sum_j p_j|p_j\\rangle\\langle p_j|.$$\n",
    "Assumiremos também que \n",
    "$$p_j\\in\\mathbb{R}.$$\n",
    "Essa suposição é suportada pela ref. 2, que diz que $\\rho\\sigma$ e $\\sqrt{\\rho}\\sigma\\sqrt{\\rho}$ possuem os mesmos valores singulares. Essa última matriz é facilmente vista com sendo uma matriz positiva. Então $p_j\\ge 0$ e $\\{|p_j\\rangle\\}$ é uma base ortonormal.\n",
    "\n",
    "O operador $\\sqrt{\\rho\\sigma}$ tem a seguinte purificação\n",
    "\\begin{align}\n",
    "|\\psi\\rangle & = \\big((\\rho\\sigma)^{1/4}U\\otimes V\\big)|\\Phi\\rangle \\\\\n",
    "& = \\Big(\\sum_j p_j^{1/4}|p_j\\rangle\\langle p_j|U\\otimes V\\Big)\\sum_k|k\\rangle\\otimes|k\\rangle \\\\\n",
    "& = \\sum_{j,k} p_j^{1/4}|p_j\\rangle\\langle p_j|U|k\\rangle\\otimes V|k\\rangle \\\\\n",
    "& =: \\sum_{j,k} p_j^{1/4}|p_j\\rangle\\langle p_j|p_k\\rangle\\otimes |b_k\\rangle \\\\\n",
    "& = \\sum_{j} p_j^{1/4}|p_j\\rangle\\otimes |b_j\\rangle.\n",
    "\\end{align}\n",
    "Ou seja\n",
    "$$Tr_p(|\\psi\\rangle\\langle\\psi|) = \\sum_j\\sqrt{p_j}|p_j\\rangle\\langle p_j| = \\sqrt{\\rho\\sigma}.$$"
   ]
  },
  {
   "cell_type": "markdown",
   "id": "c83dba9a",
   "metadata": {},
   "source": [
    "Vem assim que\n",
    "\\begin{align}\n",
    "\\langle\\psi|\\psi\\rangle & = \\langle\\Phi|\\big(U^\\dagger \\big((\\rho\\sigma)^{1/4}\\big)^\\dagger \\otimes V^\\dagger\\big)\\big((\\rho\\sigma)^{1/4}U\\otimes V\\big)|\\Phi\\rangle \\\\\n",
    "& = \\langle\\Phi|\\big(U^\\dagger (\\rho\\sigma)^{1/4}(\\rho\\sigma)^{1/4}U\\otimes V^\\dagger V\\big)|\\Phi\\rangle \\\\\n",
    "& = \\langle\\Phi|\\big(U^\\dagger \\sqrt{\\rho\\sigma}U\\otimes I\\big)|\\Phi\\rangle \\\\\n",
    "& = Tr\\big(((U^\\dagger \\sqrt{\\rho\\sigma}U)^*)^\\dagger I\\big) \\\\\n",
    "& = Tr\\big(U^T \\sqrt{\\rho\\sigma}^{T}U^{*}\\big) \\\\\n",
    "& = Tr\\big(U^* U^T \\sqrt{\\rho\\sigma}^T\\big) \\\\\n",
    "& = Tr\\big(\\sqrt{\\rho\\sigma}^T\\big) \\\\\n",
    "& = Tr\\big(\\sqrt{\\rho\\sigma}\\big) \\\\\n",
    "& = F(\\rho,\\sigma).\n",
    "\\end{align}\n"
   ]
  },
  {
   "cell_type": "markdown",
   "id": "51c411a2",
   "metadata": {},
   "source": [
    "Acima usamos\n",
    "\\begin{align}\n",
    "& UU^\\dagger = U^\\dagger U = I \\\\\n",
    "& \\therefore\\ U(U^*)^T = (U^*)^T U = I \\\\\n",
    "& \\therefore\\ (U(U^*)^T)^T = ((U^*)^T U)^T = I^T = I \\\\\n",
    "& \\therefore\\ ((U^*)^T)^T U^T = U^T ((U^*)^T)^T = I \\\\\n",
    "& \\therefore\\ U^* U^T = U^T U^* = I.\n",
    "\\end{align}"
   ]
  },
  {
   "cell_type": "markdown",
   "id": "cabcc862",
   "metadata": {},
   "source": [
    "Como o a transformação unitária $V$, que faz com que a purificação seja geral, cancela quando tomamos o produto interno, poderíamos tão bem ter usado a purificação fixa\n",
    "\\begin{align}\n",
    "|\\psi\\rangle & = \\big((\\rho\\sigma)^{1/4}U\\otimes I\\big)|\\Phi\\rangle \\\\\n",
    "& = \\sum_j p_j^{1/4}|p_j\\rangle\\otimes|j\\rangle.\n",
    "\\end{align}\n",
    "\n",
    "Para não precisar lidar com o conjugado que aparece na igualdade para o produto interno de Hilbert-Schmidt, poderíamos usar\n",
    "\\begin{align}\n",
    "|\\psi\\rangle & = \\big(I\\otimes(\\rho\\sigma)^{1/4}U\\big)|\\Phi\\rangle \\\\\n",
    "& = \\Big(I\\otimes\\sum_j p_j^{1/4}|p_j\\rangle\\langle p_j|U\\Big)\\sum_k|k\\rangle\\otimes|k\\rangle \\\\\n",
    "& = \\sum_{j,k} |k\\rangle\\otimes p_j^{1/4}|p_j\\rangle\\langle p_j|U|k\\rangle \\\\\n",
    "& =: \\sum_{j,k} |k\\rangle\\otimes p_j^{1/4}|p_j\\rangle\\delta_{j,k} \\\\\n",
    "& = \\sum_{j}p_j^{1/4}|j\\rangle\\otimes|p_j\\rangle.\n",
    "\\end{align}"
   ]
  },
  {
   "cell_type": "markdown",
   "id": "742508d2",
   "metadata": {},
   "source": [
    "Vem assim que\n",
    "\\begin{align}\n",
    "\\langle\\psi|\\psi\\rangle & = \\langle\\Phi|\\big(I\\otimes U^\\dagger \\big((\\rho\\sigma)^{1/4}\\big)^\\dagger\\big)\\big(I\\otimes(\\rho\\sigma)^{1/4}U\\big)|\\Phi\\rangle \\\\\n",
    "& = \\langle\\Phi|\\big(I\\otimes U^\\dagger (\\rho\\sigma)^{1/4}(\\rho\\sigma)^{1/4}U\\big)|\\Phi\\rangle \\\\\n",
    "& = \\langle\\Phi|\\big(I\\otimes U^\\dagger \\sqrt{\\rho\\sigma}U\\big)|\\Phi\\rangle \\\\\n",
    "& = Tr\\big(I^* U^\\dagger \\sqrt{\\rho\\sigma}U\\big) \\\\\n",
    "& = Tr\\big(\\sqrt{\\rho\\sigma}\\big) \\\\\n",
    "& = F(\\rho,\\sigma).\n",
    "\\end{align}"
   ]
  },
  {
   "cell_type": "markdown",
   "id": "f6144f9f",
   "metadata": {},
   "source": [
    "## Divergência de Rényi quântica\n",
    "\n",
    "Seguindo a ref. 3, temos que a divergência de Rényi de ordem $\\alpha$ ($\\alpha\\in(0,1)\\cup(1,\\infty)$):\n",
    "$$D_\\alpha (\\rho||\\sigma) = \\frac{1}{\\alpha -1}\\log Tr(\\rho^\\alpha \\sigma^{1-\\alpha})$$\n",
    "Entropia relativa:\n",
    "$$\\lim_{\\alpha\\rightarrow 1} D_\\alpha (\\rho||\\sigma) = D(\\rho||\\sigma) = Tr(\\rho(\\log\\rho-\\log\\sigma)).$$\n",
    "\n",
    "Divergência de Rényi de ordem $\\alpha$ sanduichada:\n",
    "$$\\tilde{D}_\\alpha (\\rho||\\sigma) = \n",
    "\\frac{1}{\\alpha-1}\\log Tr\\big[\\sigma^{(1-\\alpha)/2\\alpha}\\rho\\sigma^{(1-\\alpha)/2\\alpha}\\big]^\\alpha.$$"
   ]
  },
  {
   "cell_type": "markdown",
   "id": "d9ebd34e",
   "metadata": {},
   "source": [
    "Divergência de Rényi de ordem $\\alpha,z$:\n",
    "$$D_{\\alpha,z}(\\rho||\\sigma) = \\frac{1}{\\alpha-1}\\log Tr\\big[\\sigma^{(1-\\alpha)/2z}\\rho^{\\alpha/z}\\sigma^{(1-\\alpha)/2z}\\big]^z$$\n",
    "em que\n",
    "\\begin{align}\n",
    "& D_{\\alpha,1}(\\rho||\\sigma)=D_{\\alpha}(\\rho||\\sigma), \\\\\n",
    "& D_{\\alpha,\\alpha}(\\rho||\\sigma)=\\tilde{D}_{\\alpha}(\\rho||\\sigma).\n",
    "\\end{align}\n",
    "Ou seja, $D_{\\alpha,z}(\\rho||\\sigma)$ generaliza $D_\\alpha (\\rho||\\sigma)$ e $\\tilde{D}_\\alpha (\\rho||\\sigma)$.\n",
    "\n",
    "Aplicando nosso resultado\n",
    "$$Tr(f(ABC)) = Tr(f(CAB))$$\n",
    "com\n",
    "$$f(x)=x^z,\\ A=C=\\sigma^{(1-\\alpha)/2z},\\ B = \\rho^{\\alpha/z}$$\n",
    "podemos escrever\n",
    "\\begin{align}\n",
    "D_{\\alpha,z}(\\rho||\\sigma) & = \\frac{1}{\\alpha-1}\\log Tr\\big[\\sigma^{(1-\\alpha)/2z}\\rho^{\\alpha/z}\\sigma^{(1-\\alpha)/2z}\\big]^z \\\\\n",
    "& = \\frac{1}{\\alpha-1}\\log Tr\\big[\\sigma^{(1-\\alpha)/2z}\\sigma^{(1-\\alpha)/2z}\\rho^{\\alpha/z}\\big]^z \\\\\n",
    "& = \\frac{1}{\\alpha-1}\\log Tr\\big[\\sigma^{(1-\\alpha)/z}\\rho^{\\alpha/z}\\big]^z .\n",
    "\\end{align}"
   ]
  },
  {
   "cell_type": "markdown",
   "id": "f3e6473f",
   "metadata": {},
   "source": [
    "Por enquanto não evitamos a diagonalização de $\\sigma$, mas poupamos um produto matricial no cálculo de $D_{\\alpha,z}(\\rho||\\sigma)$. No entanto, considerando\n",
    "\\begin{align}\n",
    "D_{\\alpha,\\alpha}(\\rho||\\sigma) & = \\frac{1}{\\alpha-1}\\log Tr\\big[\\sigma^{(1-\\alpha)/\\alpha}\\rho^{\\alpha/\\alpha}\\big]^\\alpha \\\\\n",
    "& = \\frac{1}{\\alpha-1}\\log Tr\\big[\\sigma^{(1-\\alpha)/\\alpha}\\rho\\big]^\\alpha \\\\\n",
    "\\end{align}\n",
    "evitamos uma diagonalização no seguinte caso particular\n",
    "\\begin{align}\n",
    "D_{1/2,1/2}(\\rho||\\sigma) & = \\frac{1}{1/2-1}\\log Tr\\big[\\sigma^{(1-1/2)/(1/2)}\\rho\\big]^{1/2} \\\\\n",
    "& = -2\\log Tr\\sqrt{\\sigma\\rho} \\\\\n",
    "& = -2\\log(F(\\rho,\\sigma)),\n",
    "\\end{align}\n",
    "além de mostrar que neste caso particular a divergência de Rényi está diretamente relacionada com a fidelidade de Uhlmann."
   ]
  },
  {
   "cell_type": "markdown",
   "id": "2490a211",
   "metadata": {},
   "source": [
    "## Informação enviesada de Wigner, Yanase e Dyson\n",
    "\n",
    "A informação enviesada de Wigner e Yanase (IWY) é definida por\n",
    "\\begin{align}\n",
    "I_{wy}(\\rho,H) & = -2^{-1}Tr[\\sqrt{\\rho},H]^2 \\\\\n",
    "& = -2^{-1}Tr(\\sqrt{\\rho}H-H\\sqrt{\\rho})^2 \\\\\n",
    "& = -2^{-1}Tr(\\sqrt{\\rho}H\\sqrt{\\rho}H - \\sqrt{\\rho}HH\\sqrt{\\rho} - H\\sqrt{\\rho}\\sqrt{\\rho}H + H\\sqrt{\\rho}H\\sqrt{\\rho}) \\\\\n",
    "& = Tr(H^2\\rho) - Tr(\\sqrt{\\rho}H\\sqrt{\\rho}H).\n",
    "\\end{align}\n",
    "Aqui, mesmo que nosso resultado possa ser usado para simplificar o cálculo analítico do último termo, não haverá ganho computacional. Por conseguinte, desconsiderar essa aplicação! O mesmo vale para a informação enviesada de Wigner, Yanase e Dyson:\n",
    "\\begin{align}\n",
    "I_{wyd}^s(\\rho,H) & = -2^{-1}Tr[\\rho^s,H][\\rho^{1-s},H] \\\\\n",
    "& = Tr(H^2\\rho)-Tr(\\rho^s H\\rho^{1-s}H).\n",
    "\\end{align}\n",
    "Vale observar que $I_{wyd}^{1/2}=I_{wy}$ e que\n",
    "$$I_{wyd}^s(|\\psi\\rangle,H)=Var(H)_\\psi.$$\n",
    "\n",
    "Neste caso, não há nenhuma possibilidade de aplicação do nosso resultado."
   ]
  },
  {
   "cell_type": "markdown",
   "id": "c4c5676a",
   "metadata": {},
   "source": [
    "# Outra relação\n",
    "Pode-se mostrar também que\n",
    "$$Tr(ABC f(ABC)) = Tr(CAB f(CAB)).$$\n",
    "A demonstração é parecida com a anterior e é feita como segue\n",
    "\\begin{align}\n",
    "Tr(ABC f(ABC)) & = Tr\\left(ABC \\sum_{j=0}^{\\infty}c_j(ABC)^j\\right) \\\\\n",
    "& = Tr\\left(\\sum_{j=0}^{\\infty}c_j(ABC)^{j+1}\\right) \\\\\n",
    "& = \\sum_{j=0}^{\\infty}c_j Tr\\left((ABC)^{j+1}\\right) \\\\\n",
    "& = \\sum_{j=0}^{\\infty}c_j Tr\\left((CAB)^{j+1}\\right) \\\\\n",
    "& = Tr\\left(\\sum_{j=0}^{\\infty}c_j (CAB)^{j+1}\\right) \\\\\n",
    "& = Tr\\left(CAB\\sum_{j=0}^{\\infty}c_j (CAB)^{j}\\right) \\\\\n",
    "& = Tr\\left(CAB f(CAB)\\right).\n",
    "\\end{align}"
   ]
  },
  {
   "cell_type": "markdown",
   "id": "02bdc47a",
   "metadata": {},
   "source": [
    "Essa relação pode ser aplicada a funções do tipo de um dos termos nos limites superiores da ref. 4:\n",
    "\\begin{align}\n",
    "Tr\\left(\\sqrt{\\rho}\\tilde{E}_j\\sqrt{\\rho}\\log\\big(\\sqrt{\\rho}\\tilde{E}_j\\sqrt{\\rho}\\big)\\right) & = Tr\\left(\\sqrt{\\rho}\\sqrt{\\rho}\\tilde{E}_j\\log\\big(\\sqrt{\\rho}\\sqrt{\\rho}\\tilde{E}_j\\big)\\right) \\\\\n",
    "& = Tr\\left(\\rho\\tilde{E}_j\\log\\big(\\rho\\tilde{E}_j\\big)\\right), \n",
    "\\end{align}\n",
    "em que usamos \n",
    "$$\\tilde{E}_j = \\tau_j^{-1}E_j$$\n",
    "com\n",
    "$$\\tau_j = Tr(E_j\\rho)$$\n",
    "e $\\{E_j\\}$ são os elementos de uma POVM.\n",
    "\n",
    "OBS. Tem uma questões sobre a série de Taylor para o logaritmo que devem ser cuidadas."
   ]
  },
  {
   "cell_type": "code",
   "execution_count": null,
   "id": "886cb483",
   "metadata": {},
   "outputs": [],
   "source": []
  },
  {
   "cell_type": "markdown",
   "id": "d97182be",
   "metadata": {},
   "source": [
    "# $Tr\\sqrt{\\sqrt{\\rho}\\sigma\\sqrt{\\rho}} = Tr\\sqrt{\\rho\\sigma}$?\n",
    "\n",
    "$\\rho\\sigma$ não é uma matriz normal, e portanto não há garantia que esta matriz tenha uma base ortonormal de autovetores.\n",
    "\n",
    "O Traço é definido como\n",
    "$$Tr(A) = \\sum_j \\langle b_j|A|b_j\\rangle,$$\n",
    "e é independente da base ortornomal $\\{|b_j\\rangle\\}$ usada.\n"
   ]
  },
  {
   "cell_type": "code",
   "execution_count": null,
   "id": "5d8dfc58",
   "metadata": {},
   "outputs": [],
   "source": []
  },
  {
   "cell_type": "code",
   "execution_count": null,
   "id": "28af4a10",
   "metadata": {},
   "outputs": [],
   "source": []
  },
  {
   "cell_type": "code",
   "execution_count": null,
   "id": "3fd73538",
   "metadata": {},
   "outputs": [],
   "source": []
  },
  {
   "cell_type": "markdown",
   "id": "cda3e8ad",
   "metadata": {},
   "source": [
    "### Referências\n",
    "\n",
    "1. M. A. Nielsen and I. L. Chuang, Quantum Computation and Quantum Information (Cambridge University Press, Cambridge, England, 2000).\n",
    "\n",
    "1. A. J. Baldwin and J. A. Jones, “Efficiently computing the Uhlmann fidelity for density matrices,” Phys. Rev. A, vol. 107, no. 1, p. 012427, Jan. 2023, doi: 10.1103/PhysRevA.107.012427.\n",
    "\n",
    "1. S. M. Lin and M. Tomamichel, “Investigating properties of a family of quantum Rényi divergences,” Quantum Inf Process, vol. 14, no. 4, pp. 1501–1512, Apr. 2015, doi: 10.1007/s11128-015-0935-y.\n",
    "\n",
    "1. M. J. W. Hall, “Quantum information and correlation bounds,” Phys. Rev. A, vol. 55, no. 1, pp. 100–113, Jan. 1997, doi: 10.1103/PhysRevA.55.100.\n"
   ]
  },
  {
   "cell_type": "code",
   "execution_count": null,
   "id": "0b8f800e",
   "metadata": {},
   "outputs": [],
   "source": []
  }
 ],
 "metadata": {
  "kernelspec": {
   "display_name": "Python 3 (ipykernel)",
   "language": "python",
   "name": "python3"
  },
  "language_info": {
   "codemirror_mode": {
    "name": "ipython",
    "version": 3
   },
   "file_extension": ".py",
   "mimetype": "text/x-python",
   "name": "python",
   "nbconvert_exporter": "python",
   "pygments_lexer": "ipython3",
   "version": "3.9.13"
  }
 },
 "nbformat": 4,
 "nbformat_minor": 5
}
