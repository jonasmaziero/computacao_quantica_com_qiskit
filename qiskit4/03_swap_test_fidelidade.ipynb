{
 "cells": [
  {
   "cell_type": "markdown",
   "id": "b29104c3",
   "metadata": {},
   "source": [
    "# O teste swap\n",
    "\n",
    "O teste swap pode ser utilizado para medir a fidelidade entre dois estados quânticos desconhecidos $|\\psi\\rangle$ e $|\\phi\\rangle$ de um qudit estimando-se as probabilidades para medidas em um qubit auxiliar.\n",
    "\n",
    "Consideremos um qubit preparado no estado padrão, e dois sistemas de $n$ qubits, um preparado no estado $|\\psi\\rangle$ e outro no estado $|\\phi\\rangle$. Consideremos também a porta SWAP para qudits. Sabemos que a porta \n",
    "$$SWAP = C_X^{j\\rightarrow k}C_X^{k\\rightarrow j}C_X^{j\\rightarrow k}$$\n",
    "troca dos estados de dois qubits. Vamos assumir a existência de uma SWAP que faz isso para qudits. Depois podemos voltar e verificar isso. Dito isto, consideremos as seguintes etapas:\n",
    "* Prepara o qubit e os 2 qudits no estado\n",
    "$$|\\Psi_0\\rangle = |0\\rangle|\\psi\\rangle|\\phi\\rangle.$$\n",
    "* Aplica uma porta Hadamard no qubit:\n",
    "\\begin{align}\n",
    "|\\Psi_1\\rangle & = (H\\otimes\\mathbb{I}\\otimes\\mathbb{I})|\\Psi_0\\rangle \\\\\n",
    "& = (H|0\\rangle)|\\psi\\rangle|\\phi\\rangle) \\\\\n",
    "& = |+\\rangle|\\psi\\rangle|\\phi\\rangle.\n",
    "\\end{align}\n",
    "\n",
    "<img src='fig_swap_test.png' width='400'>"
   ]
  },
  {
   "cell_type": "markdown",
   "id": "e5ad688a",
   "metadata": {},
   "source": [
    "* Aplica uma __SWAP controlada__ com o qubit como controle e os qudits como target:\n",
    "\\begin{align}\n",
    "|\\Psi_2\\rangle & = C_{SWAP}|\\Psi_1\\rangle \\\\\n",
    "& = 2^{-1/2}C_{SWAP}(|0\\rangle+|1\\rangle)|\\psi\\rangle|\\phi\\rangle \\\\\n",
    "& = 2^{-1/2}\\big(|0\\rangle|\\psi\\rangle|\\phi\\rangle + |1\\rangle C_{SWAP}(|\\psi\\rangle|\\phi\\rangle)\\big) \\\\\n",
    "& = 2^{-1/2}\\big(|0\\rangle|\\psi\\rangle|\\phi\\rangle + |1\\rangle|\\phi\\rangle|\\psi\\rangle\\big).\n",
    "\\end{align}\n",
    "* Aplica a Hadamard no qubit:\n",
    "\\begin{align}\n",
    "|\\Psi_3\\rangle & = 2^{-1/2}\\big(|+\\rangle|\\psi\\rangle|\\phi\\rangle + |-\\rangle|\\phi\\rangle|\\psi\\rangle\\big).\n",
    "\\end{align}"
   ]
  },
  {
   "cell_type": "markdown",
   "id": "1132f494",
   "metadata": {},
   "source": [
    "* Toma o traço sobre os qudits\n",
    "\\begin{align}\n",
    "\\rho_{qb} & = Tr_{qds}\\big(|\\Psi_3\\rangle\\langle\\Psi_3|\\big) \\\\\n",
    "& = 2^{-1}Tr_{qds}\\big(\\big(|+\\rangle|\\psi\\rangle|\\phi\\rangle + |-\\rangle|\\phi\\rangle|\\psi\\rangle\\big)\\big(\\langle+|\\langle\\psi|\\langle\\phi| + \\langle-|\\langle\\phi|\\langle\\psi|\\big)\\big) \\\\\n",
    "& = 2^{-1}Tr_{qds}\\big(|+\\rangle|\\psi\\rangle|\\phi\\rangle\\langle +|\\langle\\psi|\\langle\\phi| + |+\\rangle|\\psi\\rangle|\\phi\\rangle\\langle-|\\langle\\phi|\\langle\\psi| + |-\\rangle|\\phi\\rangle|\\psi\\rangle\\langle +|\\langle\\psi|\\langle\\phi| + |-\\rangle|\\phi\\rangle|\\psi\\rangle\\langle-|\\langle\\phi|\\langle\\psi|\\big) \\\\\n",
    "& = 2^{-1}\\big(|+\\rangle\\langle +|\\ ||\\psi||^2||\\phi||^2 + |+\\rangle\\langle-|\\ |\\langle\\phi|\\psi\\rangle|^2 + |-\\rangle\\langle +|\\ |\\langle\\psi|\\phi\\rangle|^2 + |-\\rangle\\langle-|\\ ||\\phi||^2||\\psi||^2\\big) \\\\\n",
    "& = 2^{-2}\\big(\\big(|0\\rangle\\langle 0|+|0\\rangle\\langle 1|+|1\\rangle\\langle 0|+|1\\rangle\\langle 1|\\big) \\\\\n",
    "& \\hspace{1cm} + \\big(|0\\rangle\\langle 0|-|0\\rangle\\langle 1|+|1\\rangle\\langle 0|-|1\\rangle\\langle 1|\\big) |\\langle\\phi|\\psi\\rangle|^2 \\\\\n",
    "& \\hspace{1cm} + \\big(|0\\rangle\\langle 0|+|0\\rangle\\langle 1|-|1\\rangle\\langle 0|-|1\\rangle\\langle 1|\\big) |\\langle\\psi|\\phi\\rangle|^2 \\\\\n",
    "& \\hspace{1cm} + \\big(|0\\rangle\\langle 0|-|0\\rangle\\langle 1|-|1\\rangle\\langle 0|+|1\\rangle\\langle 1|\\big)\\big) \\\\\n",
    "& = 2^{-1}\\big(|0\\rangle\\langle 0|\\big(1+|\\langle\\phi|\\psi\\rangle|^2\\big) + |1\\rangle\\langle 1|\\big(1-|\\langle\\phi|\\psi\\rangle|^2\\big) \\big)\n",
    "\\end{align}\n",
    "em que usamos \n",
    "$$||\\psi||^2=||\\phi||^2=1.$$"
   ]
  },
  {
   "cell_type": "markdown",
   "id": "f778d50c",
   "metadata": {},
   "source": [
    "Temos assim as probabilidades:\n",
    "\\begin{align}\n",
    "& Pr(0|\\Psi_3) = 2^{-1}\\big(1+|\\langle\\phi|\\psi\\rangle|^2\\big), \\\\\n",
    "& Pr(1|\\Psi_3) = 2^{-1}\\big(1-|\\langle\\phi|\\psi\\rangle|^2\\big).\n",
    "\\end{align}\n",
    "\n",
    "Teremos assim que a fidelidade entre os 2 estados de qudits pode ser estimanda por\n",
    "\\begin{align}\n",
    "F(|\\psi\\rangle,|\\phi\\rangle) & = |\\langle\\phi|\\psi\\rangle|^2 \\\\\n",
    "& = Pr(0|\\Psi_3) - Pr(1|\\Psi_3) \\\\\n",
    "& = 2Pr(0|\\Psi_3)-1 \\\\\n",
    "& = 1 - 2Pr(1|\\Psi_3).\n",
    "\\end{align}"
   ]
  },
  {
   "cell_type": "markdown",
   "id": "7ee4fe6d",
   "metadata": {},
   "source": [
    "Vamos considerar como exemplo\n",
    "\\begin{align}\n",
    "& |\\psi\\rangle = |0\\rangle, \\\\\n",
    "& |\\phi\\rangle = \\cos(\\theta/2)|0\\rangle + \\sin(\\theta/2)|1\\rangle.\n",
    "\\end{align}\n",
    "Assim, teoricamente temos que\n",
    "$$F(|\\psi\\rangle,|\\phi\\rangle)=\\cos^2(\\theta/2).$$"
   ]
  },
  {
   "cell_type": "code",
   "execution_count": 35,
   "id": "830c11d1",
   "metadata": {},
   "outputs": [
    {
     "name": "stderr",
     "output_type": "stream",
     "text": [
      "ibmqfactory.load_account:WARNING:2023-02-11 09:10:42,286: Credentials are already in use. The existing account in the session will be replaced.\n"
     ]
    }
   ],
   "source": [
    "from qiskit import *\n",
    "import numpy as np\n",
    "import math\n",
    "import qiskit\n",
    "nshots = 8192\n",
    "IBMQ.load_account()\n",
    "#provider= qiskit.IBMQ.get_provider(hub='ibm-q-research-2',group='federal-uni-sant-1',project='main')\n",
    "provider = qiskit.IBMQ.get_provider(hub='ibm-q', group='open', project='main')\n",
    "device = provider.get_backend('ibmq_belem')\n",
    "simulator = Aer.get_backend('qasm_simulator')\n",
    "from qiskit.tools.monitor import job_monitor\n",
    "from qiskit.ignis.verification.tomography import state_tomography_circuits, StateTomographyFitter\n",
    "from qiskit.ignis.mitigation.measurement import complete_meas_cal, CompleteMeasFitter"
   ]
  },
  {
   "cell_type": "code",
   "execution_count": 36,
   "id": "c21e9999",
   "metadata": {},
   "outputs": [
    {
     "name": "stdout",
     "output_type": "stream",
     "text": [
      "63e785cb5ddc10d87e304840\n",
      "Job Status: job has successfully run\n",
      "63e7868d3c90801d698f0de5\n",
      "Job Status: job has successfully run\n",
      "63e78771c0aeb05da73e92ab\n",
      "Job Status: job has successfully run\n",
      "63e788073c908063ed8f0df0\n",
      "Job Status: job has successfully run\n",
      "63e7884e009ce47c336f9caa\n",
      "Job Status: job has successfully run\n",
      "63e7888b5ddc105eaa304853\n",
      "Job Status: job has successfully run\n",
      "63e788c6ce494c32dfb83b5e\n",
      "Job Status: job has successfully run\n",
      "63e789a26fb5c065d4d7f226\n",
      "Job Status: job has successfully run\n",
      "63e78a2d5ddc108218304862\n",
      "Job Status: job has successfully run\n",
      "63e78b091e8effd74f26f928\n",
      "Job Status: job has successfully run\n",
      "63e78be55a24fc2ba1f347ff\n",
      "Job Status: job has successfully run\n"
     ]
    },
    {
     "data": {
      "image/png": "[encoded data removed]",
      "text/plain": [
       "<Figure size 509.612x367.889 with 1 Axes>"
      ]
     },
     "execution_count": 36,
     "metadata": {},
     "output_type": "execute_result"
    }
   ],
   "source": [
    "dth = math.pi/10\n",
    "th = np.arange(0,math.pi+dth,dth)\n",
    "ph = 0; lb = 0\n",
    "N = len(th)\n",
    "F_the = np.zeros(N); F_sim = np.zeros(N); F_exp = np.zeros(N)\n",
    "for j in range(0,N):\n",
    "    F_the[j] = math.cos(th[j]/2)**2\n",
    "    qr = QuantumRegister(3)\n",
    "    cr = ClassicalRegister(1)\n",
    "    qc = QuantumCircuit(qr,cr)\n",
    "    qc.u(th[j],ph,lb,qr[2])\n",
    "    qc.h(qr[0])\n",
    "    qc.cswap(qr[0],qr[1],qr[2])\n",
    "    qc.h(qr[0])\n",
    "    qc.measure(qr[0],cr[0])\n",
    "    job_sim = execute(qc, backend=simulator, shots=nshots)\n",
    "    counts = job_sim.result().get_counts(qc)\n",
    "    if '0' in counts:\n",
    "        F_sim[j] = 2*counts['0']/nshots - 1\n",
    "    job_exp = execute(qc, backend=device, shots=nshots)\n",
    "    print(job_exp.job_id())\n",
    "    job_monitor(job_exp)\n",
    "    counts = job_exp.result().get_counts(qc)\n",
    "    if '0' in counts:\n",
    "        F_exp[j] = 2*counts['0']/nshots - 1\n",
    "qc.draw('mpl')"
   ]
  },
  {
   "cell_type": "code",
   "execution_count": 40,
   "id": "2905ef99",
   "metadata": {},
   "outputs": [
    {
     "data": {
      "image/png": "[encoded data removed]",
      "text/plain": [
       "<Figure size 1429.33x367.889 with 1 Axes>"
      ]
     },
     "execution_count": 40,
     "metadata": {},
     "output_type": "execute_result"
    }
   ],
   "source": [
    "qc.decompose().decompose().draw('mpl') # o circuito é \"profundo\" por causa da swap controlada"
   ]
  },
  {
   "cell_type": "code",
   "execution_count": 37,
   "id": "a6b4b876",
   "metadata": {},
   "outputs": [
    {
     "data": {
      "text/plain": [
       "(array([1.00000000e+00, 9.75528258e-01, 9.04508497e-01, 7.93892626e-01,\n",
       "        6.54508497e-01, 5.00000000e-01, 3.45491503e-01, 2.06107374e-01,\n",
       "        9.54915028e-02, 2.44717419e-02, 3.74939946e-33]),\n",
       " array([ 1.        ,  0.97924805,  0.90625   ,  0.78393555,  0.65771484,\n",
       "         0.50146484,  0.35375977,  0.19165039,  0.09277344,  0.03100586,\n",
       "        -0.00512695]),\n",
       " array([0.81103516, 0.67822266, 0.63916016, 0.60009766, 0.36425781,\n",
       "        0.35229492, 0.17797852, 0.1730957 , 0.08325195, 0.01586914,\n",
       "        0.07373047]))"
      ]
     },
     "execution_count": 37,
     "metadata": {},
     "output_type": "execute_result"
    }
   ],
   "source": [
    "F_the, F_sim, F_exp"
   ]
  },
  {
   "cell_type": "code",
   "execution_count": 25,
   "id": "9bdf3572",
   "metadata": {},
   "outputs": [],
   "source": [
    "from matplotlib import pyplot as plt"
   ]
  },
  {
   "cell_type": "code",
   "execution_count": 38,
   "id": "b98680df",
   "metadata": {},
   "outputs": [
    {
     "data": {
      "image/png": "[encoded data removed]",
      "text/plain": [
       "<Figure size 640x480 with 1 Axes>"
      ]
     },
     "metadata": {},
     "output_type": "display_data"
    }
   ],
   "source": [
    "plt.plot(th, F_the, label=r'$F_{the}$')\n",
    "plt.plot(th, F_sim, '*', label=r'$F_{sim}$')\n",
    "plt.plot(th, F_exp, 'o', label=r'$F_{exp}$')\n",
    "plt.xlabel(r'$\\theta$')\n",
    "plt.legend()\n",
    "plt.show()"
   ]
  },
  {
   "cell_type": "markdown",
   "id": "d3d31ece",
   "metadata": {},
   "source": [
    "## Porta swap para __qudits__\n",
    "\n",
    "Se a dimensão dos qudits é \n",
    "$$d=2^n$$\n",
    "com $n$ inteiro positivo, é fácil extender a SWAP através da __composição de SWAPs de 2 qubits__. Com isso, no final, teremos a troca dos estados dos qudits.\n",
    "\n",
    "No entando, quando\n",
    "$$d\\ne 2^n$$\n",
    "teremos que apelar para a __álgebra de qudits__ para obter a troca de estados."
   ]
  },
  {
   "cell_type": "markdown",
   "id": "59450b72",
   "metadata": {},
   "source": [
    "Como para estados de dois qubits a porta SWAP é obtida através da CNOT, vamos verificar se esse também é o caso para qudits. Neste caso, a porta __CNOT generalizada__ é dada por\n",
    "\\begin{equation}\n",
    "C_{x}^{A\\rightarrow B} = \\sum_{j=0}^{d-1}|j\\rangle\\langle j|\\otimes X(j),\n",
    "\\end{equation}\n",
    "com o _operador de deslocamento de estado_ definido por\n",
    "\\begin{equation}\n",
    "X(j)|k\\rangle = |j\\oplus k\\rangle \\equiv |(j+k)\\mod(d)\\rangle.\n",
    "\\end{equation}"
   ]
  },
  {
   "cell_type": "markdown",
   "id": "958b84e3-c87e-4cae-95f6-189bd4eb908c",
   "metadata": {},
   "source": [
    "A porta de troca de estados seria então e.g.\n",
    "\\begin{align}\n",
    "SWAP & = C_{x}^{A\\rightarrow B}C_{x}^{B\\rightarrow A}C_{x}^{A\\rightarrow B} \\\\\n",
    "& = \\sum_{j=0}^{d-1}|j\\rangle\\langle j|\\otimes X(j)\\sum_{k=0}^{d-1}X(k)\\otimes|k\\rangle\\langle k|\\sum_{l=0}^{d-1}|l\\rangle\\langle l|\\otimes X(l) \\\\\n",
    "& = \\sum_{j,k,l=0}^{d-1}|j\\rangle\\langle j|X(k)|l\\rangle\\langle l|\\otimes X(j)|k\\rangle\\langle k|X(l) \\\\\n",
    "& = \\sum_{j,k,l=0}^{d-1}|j\\rangle\\langle j|k\\oplus l\\rangle\\langle l|\\otimes |j\\oplus k\\rangle\\langle l\\oplus k| \\\\\n",
    "& = \\sum_{j,k,l=0}^{d-1}|j\\rangle\\delta_{j,k\\oplus l}\\langle l|\\otimes |j\\oplus k\\rangle\\langle l\\oplus k| \\\\\n",
    "& = \\sum_{k,l=0}^{d-1}|k\\oplus l\\rangle\\langle l|\\otimes |k\\oplus l\\oplus k\\rangle\\langle l\\oplus k| \\\\\n",
    "& = \\sum_{k,l=0}^{d-1}|k\\oplus l\\rangle\\langle l|\\otimes |l\\rangle\\langle l\\oplus k|,\n",
    "\\end{align}\n",
    "em que usamos\n",
    "$$k\\oplus l\\oplus k =l. ????$$"
   ]
  },
  {
   "cell_type": "markdown",
   "id": "2d4da5f9-164b-4bfb-9282-5b3a14d9c6f3",
   "metadata": {},
   "source": [
    "Com isso, usando os estados\n",
    "\\begin{align}\n",
    "& |\\psi\\rangle = \\sum_{p=0}^{d-1}\\psi_p|p\\rangle, \\\\\n",
    "& |\\phi\\rangle = \\sum_{q=0}^{d-1}\\phi_q|q\\rangle,\n",
    "\\end{align}\n",
    "teremos que\n",
    "\\begin{align}\n",
    "& SWAP(|\\psi\\rangle\\otimes|\\phi\\rangle) \\\\\n",
    "& = SWAP \\big(\\sum_{p=0}^{d-1}\\psi_p|p\\rangle\\otimes\\sum_{q=0}^{d-1}\\psi_q|q\\rangle\\big) \\\\\n",
    "& = \\sum_{p,q=0}^{d-1}\\psi_p\\phi_q SWAP(|p\\rangle\\otimes|q\\rangle) \\\\\n",
    "& = \\sum_{p,q=0}^{d-1}\\psi_p\\phi_q\\sum_{k,l=0}^{d-1}(|k\\oplus l\\rangle\\langle l|\\otimes|l\\rangle\\langle l\\oplus k|)(|p\\rangle\\otimes|q\\rangle) \\\\\n",
    "& = \\sum_{p,q,k,l=0}^{d-1}\\psi_p\\phi_q(|k\\oplus l\\rangle\\langle l|p\\rangle\\otimes|l\\rangle\\langle l\\oplus k|q\\rangle) \\\\\n",
    "& = \\sum_{p,q,k,l=0}^{d-1}\\psi_p\\phi_q(|k\\oplus l\\rangle\\delta_{l,p}\\otimes|l\\rangle\\delta_{l\\oplus k,q}) \\\\\n",
    "& = \\sum_{k,l=0}^{d-1}\\psi_l\\phi_{l\\oplus k}(|k\\oplus l\\rangle\\otimes|l\\rangle) \\\\\n",
    "& = \\sum_{l=0}^{d-1}\\Big(\\sum_{k=0}^{d-1}\\phi_{l\\oplus k}|k\\oplus l\\rangle\\Big)\\otimes \\psi_l|l\\rangle \\\\\n",
    "& = \\sum_{l=0}^{d-1}|\\phi\\rangle\\otimes \\psi_l|l\\rangle \\\\\n",
    "& = |\\phi\\rangle\\otimes \\sum_{l=0}^{d-1}\\psi_l|l\\rangle \\\\\n",
    "& = |\\phi\\rangle\\otimes|\\psi\\rangle,\n",
    "\\end{align}\n",
    "como queríamos verificar."
   ]
  },
  {
   "cell_type": "markdown",
   "id": "ae1964f2-7a71-454d-95e8-e1f77411bf86",
   "metadata": {},
   "source": [
    "## Exercícios\n",
    "1. Implemente o teste SWAP para estimar a fidelidade entre dois bons exemplos de estados de 2 qubits.\n",
    "\n",
    "1. Escreva um algoritmo para estimar a fidelidade entre dois estados mistos $\\rho$ e $\\sigma$.\n",
    "\n",
    "1. Verifique que a porta SWAP para 2 qubits pode ser escrita como $SWAP=\\sum_{k,l=0}^{1}|k\\oplus l\\rangle\\langle l|\\otimes |l\\rangle\\langle l\\oplus k|$."
   ]
  },
  {
   "cell_type": "markdown",
   "id": "f287742a-941e-49d3-9cf6-a83fd3091232",
   "metadata": {},
   "source": [
    "## Implementação com qubits da porta SWAP para $d\\ne 2^n$"
   ]
  },
  {
   "cell_type": "markdown",
   "id": "cb9a025f-e24d-4c62-9831-0d642e44c5a2",
   "metadata": {},
   "source": [
    "## Outras medidas de \"distância\"\n",
    "Estimativa de outras medidas de distância em computadores quânticos"
   ]
  },
  {
   "cell_type": "markdown",
   "id": "78ed6faa",
   "metadata": {},
   "source": [
    "# Teste swap para estados mistos\n",
    "\n",
    "O teste swap pode ser utilizado para estimar a sobreposição $|\\langle\\psi|\\phi'\\rangle|$ entre 2 estados puros quaisquer. Ademais, do teorema de Uhlmann temos que a fidelidade entre dois estados mistos pode ser escrita em termos da fidelidade de suas purificações como\n",
    "$$F(\\rho,\\sigma) = \\max_{|\\phi'\\rangle}F(|\\psi\\rangle,|\\phi'\\rangle),$$\n",
    "em que\n",
    "$$|\\psi\\rangle = \\sum_j \\sqrt{r_j}|r_j\\rangle\\otimes|j\\rangle$$\n",
    "é uma purificação fixa de\n",
    "$$\\rho = \\sum_j r_j |r_j\\rangle\\langle r_j|.$$\n",
    "A maximização é feita sobre as purificações\n",
    "\\begin{align}\n",
    "|\\phi'\\rangle & = \\sum_j \\sqrt{s_j}|s_j\\rangle\\otimes|b_j\\rangle \\\\\n",
    "& = \\sum_j \\sqrt{s_j}|s_j\\rangle\\otimes U|j\\rangle \\\\\n",
    "& = (I\\otimes U)\\sum_j \\sqrt{s_j}|s_j\\rangle\\otimes|j\\rangle \\\\\n",
    "& = (I\\otimes U)|\\phi\\rangle,\n",
    "\\end{align}"
   ]
  },
  {
   "cell_type": "markdown",
   "id": "e8adbc4c",
   "metadata": {},
   "source": [
    "onde definimos a purificação fixa\n",
    "$$|\\phi\\rangle = \\sum_j \\sqrt{s_j}|s_j\\rangle\\otimes|j\\rangle$$\n",
    "do estado\n",
    "$$\\sigma = \\sum_j s_j|s_j\\rangle\\langle s_j|.$$\n",
    "\n",
    "\n",
    "Podemos escrever assim\n",
    "$$F(\\rho,\\sigma) = \\max_{U}F(|\\psi\\rangle,(I\\otimes U)|\\phi\\rangle).$$\n",
    "\n",
    "O algoritmo para uso do test swap para estimar a fidelidade entre estados mistos está ilustrado na figura abaixo.\n",
    "\n",
    "<img src='fig_swap_test_rho.png' width='400'>"
   ]
  },
  {
   "cell_type": "markdown",
   "id": "09ba38fd",
   "metadata": {},
   "source": [
    "* Começamos com $\\rho$ e $\\sigma$ e calculamos suas respectivas purificações $|\\psi\\rangle$ e $|\\phi\\rangle$. Feito isso, usamos um algoritmo (determinístico ou variacional) para preparação de estados quânticos (sugiro usar o do qiskit).  \n",
    "\n",
    "* O próximo passo é aplicar a transformação unitária $U$, que generaliza a purificação de $\\sigma$. A optimização de $U$ pode ser feita de forma simplória (varrendo os valores dos parâmetros que determinam $U$), ou aplicando ferramentas mais modernas, em particular o algoritmo variacional quântico (sugiro ir por esse caminho).\n",
    "\n",
    "* Como vimos acima, temos que as probabilidades das medidas do 1º qubit são tais que\n",
    "\\begin{align}\n",
    "& p_0 -p_1 = 2p_0 -1 = 1-2p_1 \\\\\n",
    "& = |\\langle\\psi|\\phi'\\rangle|^2 = |\\langle\\psi|(I\\otimes U)\\phi\\rangle|^2 \\\\\n",
    "& =: |\\langle\\psi|\\phi_U\\rangle|^2.\n",
    "\\end{align}\n",
    "Teremos assim que\n",
    "\\begin{align}\n",
    "F(\\rho,\\sigma) & = \\max_{U}|\\langle\\psi|\\phi_U\\rangle| \\\\\n",
    "& = \\max_{p_0}\\sqrt{2p_0-1} \\\\\n",
    "& = \\min_{p_1}\\sqrt{1-2p_1}.\n",
    "\\end{align}\n",
    "\n",
    "Sugiro aplicar primeiramente para estados de um qubit."
   ]
  },
  {
   "cell_type": "markdown",
   "id": "7a09910c",
   "metadata": {},
   "source": [
    "## Estimativa da \"discórdia quântica\" via o teste swap\n",
    "\n",
    "Vamos considerar inicialmente que $\\rho$ é um estado qualquer de 2 qubits."
   ]
  },
  {
   "cell_type": "code",
   "execution_count": null,
   "id": "ab0a65fd",
   "metadata": {},
   "outputs": [],
   "source": []
  },
  {
   "cell_type": "code",
   "execution_count": null,
   "id": "6b6f5673",
   "metadata": {},
   "outputs": [],
   "source": []
  },
  {
   "cell_type": "markdown",
   "id": "b3a92ed0",
   "metadata": {},
   "source": [
    "### Referências\n",
    "\n",
    "1. L. Cincio, Y. Subaşı, A. T. Sornborger, and P. J. Coles, “Learning the quantum algorithm for state overlap,” New J. Phys., vol. 20, no. 11, p. 113022, Nov. 2018, doi: 10.1088/1367-2630/aae94a.\n"
   ]
  },
  {
   "cell_type": "code",
   "execution_count": null,
   "id": "b1aad705",
   "metadata": {},
   "outputs": [],
   "source": []
  }
 ],
 "metadata": {
  "kernelspec": {
   "display_name": "Python 3 (ipykernel)",
   "language": "python",
   "name": "python3"
  },
  "language_info": {
   "codemirror_mode": {
    "name": "ipython",
    "version": 3
   },
   "file_extension": ".py",
   "mimetype": "text/x-python",
   "name": "python",
   "nbconvert_exporter": "python",
   "pygments_lexer": "ipython3",
   "version": "3.9.13"
  }
 },
 "nbformat": 4,
 "nbformat_minor": 5
}
