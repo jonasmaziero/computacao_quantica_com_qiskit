{
 "cells": [
  {
   "cell_type": "markdown",
   "id": "8c4f573d",
   "metadata": {},
   "source": [
    "# Discórdia quântica\n",
    "\n",
    "## Discórdia de Ollivier-Zurek-Henderson-Vedral\n",
    "\n",
    "A entropia de Shannon,\n",
    "$$H(A) = -\\sum_j p_j\\log_2(p_j),$$\n",
    "mede incerteza sobre uma variável aleatória $A$ cujos valores $A_j$ são obtidos com probabilidade\n",
    "$$Pr(A_j)=p_j.$$ \n",
    "Veja a ref. 1. Operacionalmente, $H(A)$ mede o número médio de bits de informação necessários para transmitir a informação contida em uma fonte que emite símbolos com essa distribuição de probabilidades através de um canal sem ruído.\n",
    "\n",
    "A informação mútua entre duas variáveis aleatórias $A$ e $B$,\n",
    "$$I(A:B) = H(A) + H(B) - H(A,B),$$\n",
    "mede a correlação que existe entre essas duas variáveis aleatórias. Operacionalmente, se enviamos os símbolos emitidos por uma fonte com probabilidades\n",
    "$$Pr(A_j)$$\n",
    "através de um canal ruidoso, e no final obtemos símbolos com distribuição de probabilidades\n",
    "$$Pr(B_j)$$\n",
    "a informação mútua quantifica a correlação entre a saída e a entrada do canal de comunicação, e é chamada de capacidade de comunicação daquele canal ruidoso.\n",
    "\n"
   ]
  },
  {
   "cell_type": "markdown",
   "id": "95791641",
   "metadata": {},
   "source": [
    "Existe uma outra forma de entropia que é utilizada em teoria de informação, que é a entropia condicional\n",
    "$$H(A|B) = H(A,B) - H(B).$$\n",
    "Essa função mede a incerteza sobre a variável aleatória $A$ quando conhecemos o valor da variável aleatória $B$. A ideia é que se existe correlação entre $A$ e $B$, então se temos conhecimento sobre $B$ podemos usar a correlação existente entre as duas variáveis aleatórias para diminuir nossa incerteza sobre $A$.\n",
    "\n",
    "Usando essa ideia, podemos definir a medida de correlação como sendo a incerteza sobre $A$ subtraída da incerteza sobre $A$ quando conhecemos $B$, que seria uma nova forma de definir a informação mútua:\n",
    "\\begin{align}\n",
    "J(A:B) & = H(A) - H(A|B) \\\\\n",
    "& = H(A) - (H(A,B) - H(B)) \\\\\n",
    "& = I(A:B).\n",
    "\\end{align}\n",
    "\n",
    "Vale mencionar que a entropia conjunta,\n",
    "$$H(A,B) = -\\sum_{j,k}p_{j,k}\\log_2(p_{j,k}),$$\n",
    "é dada em termos da distribuição de probabilidades conjunta\n",
    "$$p_{j,k} = Pr(A_j,B_k).$$\n",
    "Ademais, as distribuições de probabilidade marginais são dadas como segue\n",
    "$$Pr(A_j) = \\sum_k p_{j,k},\\ Pr(B_k) = \\sum_j p_{j,k}.$$"
   ]
  },
  {
   "cell_type": "markdown",
   "id": "b29f8052",
   "metadata": {},
   "source": [
    "As funções definidas acima podem ser visualizadas de forma intuitiva na figura abaixo.\n",
    "\n",
    "<img src='fig_venn.png' width='400'>"
   ]
  },
  {
   "cell_type": "markdown",
   "id": "fa386f1a",
   "metadata": {},
   "source": [
    "A entropia de von Neumann,\n",
    "$$S(\\rho)=-Tr(\\rho\\log_2\\rho)),$$\n",
    "mede a quantidade de informação que obtemos ao tomar conhecimento do estado de um sistema quântico, ou nossa incerteza sobre esse estado antes de obtermos esse conhecimento. A entropia de von Neumann é uma generalização da entropia de Shannon. Na verdade, se \n",
    "$$\\rho=\\sum_j r_j|r_j\\rangle\\langle r_j|,$$\n",
    "podemos escrever\n",
    "$$S(\\rho) = -\\sum_j r_j\\log_2(r_j) = H(\\{r_j\\}).$$\n",
    "\n",
    "De forma análoga ao caso clássico, podemos definir a informação mútua entre dois subsistemas $A$ e $B$ como\n",
    "$$I(A:B) = S(\\rho_A) + S(\\rho_B) - S(\\rho_{AB}),$$\n",
    "em que $\\rho_{AB}$ é o estado conjunto dos 2 subsistemas. Foi mostrado na ref. 2 que essa função mede a correlação total existente entre $A$ e $B$ no sentido de que esta quantifica a quantidade total de ruído que precisa ser adicionado ao sistema para levar este a um estado quântico totalmente descorrelacionado, o chamado estado produto\n",
    "$$\\rho_A\\otimes\\rho_B.$$"
   ]
  },
  {
   "cell_type": "markdown",
   "id": "c2eb6fd8",
   "metadata": {},
   "source": [
    "Agora, vamos passar para a versão quântica da informação mútua $J(A:B)$, que envolve a entropia condicional $S(A|B)$. No caso clássico, assumimos que podemos obter informação sobre $A$ conhecendo/medindo $B$ sem perturbar o sistema, e sem destruir as correlações. No entanto, é bem conhecido que em geral medidas perturbam o estado de sistemas quânticos. \n",
    "\n",
    "Procederemos então como segue. Consideremos um sistema quântico bipartido preparado no estado $\\rho_{AB}$. Para obter informação sobre $A$ faremos uma medida geral $\\{M_j\\}$ no sistema $B$. Se obtivermos o resultado $M_j$, o estado pós-medida será\n",
    "$$\\rho_j^A = Tr_B\\Big(\\frac{(I\\otimes M_j)\\rho_{AB}(I\\otimes M_j^\\dagger)}{Tr\\big((I\\otimes M_j)\\rho_{AB}(I\\otimes M_j^\\dagger)\\big)}\\Big).$$\n",
    "A probabilidade de obtermos esse resultado é\n",
    "$$Pr(M_j|\\rho_{AB}) = Tr\\big((I\\otimes M_j)\\rho_{AB}(I\\otimes M_j^\\dagger)\\big).$$"
   ]
  },
  {
   "cell_type": "markdown",
   "id": "ce863485",
   "metadata": {},
   "source": [
    "Como não temos como prever exatamente qual resultado será obtido, vamos calcular a entropia condicional da seguinte forma. Se obtemos o resultado $M_j$, o estado pós-medida de $A$ é $\\rho_j^A$ e a incerteza associada é $S(\\rho_j^A)$. Como esta incerteza é uma variável aleatória, a entropia condicional será dada pela seguinte média\n",
    "$$S(A|\\{M_j\\}_B) = \\sum_j Pr(M_j|\\rho_{AB})S(\\rho_j^A).$$\n",
    "\n",
    "Com isso, podemos definir a informação mútua dependente de medida como\n",
    "\\begin{align}\n",
    "J(A:B)_{\\{M_j\\}_B} & = S(\\rho_A) - S(A|\\{M_j\\}_B) \\\\\n",
    "& = S(\\rho_A) - \\sum_j Pr(M_j|\\rho_{AB})S(\\rho_j^A).\n",
    "\\end{align}\n",
    "Como essa função tem uma forma similar com a quantidade de Holevo, na ref. 3 os autores a identificaram como uma medida de __correlações clássicas__ entre $A$ e $B$. Esses autores notaram também que esta função em geral é diferente da correlação total, $I(A:B)$, e do emeranhamento, que era tido na época como uma medida de correlação quântica.\n",
    "\n",
    "No entanto, os autores foram um passo adiante, e definiram uma medida de correlação clássica maximizando a função acima sobre todas as medidas gerais locais:\n",
    "\\begin{align}\n",
    "C_B(\\rho_{AB}) & = \\max_{\\{M_j\\}_B}J(A:B)_{\\{M_j\\}_B} \\\\\n",
    "& = \\max_{\\{M_j\\}_B}\\big(S(\\rho_A) - S(A|\\{M_j\\}_B)\\big) \\\\\n",
    "& = S(\\rho_A) - \\min_{\\{M_j\\}_B}S(A|\\{M_j\\}_B).\n",
    "\\end{align}\n",
    "Ou seja, buscamos a medida geral em $B$ que minimiza a incerteza média sobre $A$. Note que essa função tem o objetivo obter as medidas de maximizam a entropia condicional de $A$, que são portanto as medidas que maximizam a correlação obtida."
   ]
  },
  {
   "cell_type": "markdown",
   "id": "0666d2ad",
   "metadata": {},
   "source": [
    "No mesmo ano, mas de um ponto de vista diferente, na ref. 4 notou-se que as duas expressões quântica para a informação mútua em geral não coincidem (discordam). No entando esses autores usaram medidas projetivas no lugar de medidas gerais. Eles definiram assim a hoje bem conhecida discórdia quântica\n",
    "\\begin{align}\n",
    "D_B(\\rho_{AB}) & = I(A:B) - C_B(\\rho_{AB}) \\\\\n",
    "& = I(A:B) - \\max_{\\{M_j\\}_B}J(A:B)_{\\{M_j\\}_B} \\\\\n",
    "& = \\min_{\\{M_j\\}_B}\\big(I(A:B) - J(A:B)_{\\{M_j\\}_B}\\big) \\\\\n",
    "& = \\min_{\\{M_j\\}_B}\\big(S(\\rho_A) + S(\\rho_B) - S(\\rho_{AB}) - S(\\rho_A) + S(A|\\{M_j\\}_B)\\big) \\\\\n",
    "& = \\min_{\\{M_j\\}_B}\\big(S(A|\\{M_j\\}_B) - S(\\rho_{A|B})\\big),\n",
    "\\end{align}\n",
    "em que definimos a entropia condicional quântica\n",
    "$$S(\\rho_{A|B}) = S(\\rho_{AB}) - S(\\rho_B).$$\n",
    "A discórdia quântica é uma medida de correlação quântica diferente e mais geral que o emaranhamento. Essa quantidade foi relacionado com o ganho de eficiência em vários protocolos de computação, comunicação e metrologia quântica. Como Ollivier e Zurek usaram somente medidas projetivas, essa função é chamada hoje em dia de __discórdia quântica de Ollivier-Zurek-Henderson-Vedral__ (DOZHV).\n",
    "\n",
    "No entando, a extremização envolvida no cálculo da discórdia é muito difícil. Na verdade, esse problema foi mostrado ser NP-completo, na ref. 5."
   ]
  },
  {
   "cell_type": "markdown",
   "id": "cb2d8263",
   "metadata": {},
   "source": [
    "## Discórdia geométrica\n",
    "\n",
    "Nesses primeiros trabalhos sobre discórdia quântica com __medidas projetivas__, se percebeu que estados que possuem discórdia quântica nula tem a forma\n",
    "$$\\rho_{AB}^{qc} = \\sum_j p_j \\rho_j^A \\otimes |b_j\\rangle\\langle b_j|.$$\n",
    "Estes estados são chamados hoje em dia de estados quântico-clássicos. Acima $\\{p_j\\}$ é uma distribuição de probabilidades, $\\rho_j^A$ são operadores densidade do sistema $A$ e $\\{|b_j\\rangle\\}$ é uma base ortonormal qualquer para o sistema $B$.\n",
    "\n",
    "Este estado bipartido é quântico-clássico no sentido de que existe uma medida de von Neumann não seletiva local no sistema $B$ que não perturba o estado:\n",
    "\\begin{align}\n",
    "\\Pi_B(\\rho_{AB}^{qc}) & = \\sum_j (I\\otimes\\Pi_j^B)\\rho_{AB}^{qc}(I\\otimes\\Pi_j^B) \\\\\n",
    "& = \\sum_j (I\\otimes\\Pi_j^B)\\sum_k p_k \\rho_k^A \\otimes |b_k\\rangle\\langle b_k|(I\\otimes\\Pi_j^B) \\\\\n",
    "& = \\sum_{j,k}  p_k \\rho_k^A \\otimes \\Pi_j^B|b_k\\rangle\\langle b_k|\\Pi_j^B \\\\\n",
    "& = \\sum_{j,k}  p_k \\rho_k^A \\otimes |b_k\\rangle\\langle b_k|\\delta_{j,k} \\\\\n",
    "& = \\sum_{j}  p_j \\rho_j^A \\otimes |b_j\\rangle\\langle b_j| \\\\\n",
    "& = \\rho_{AB}^{qc}\n",
    "\\end{align}"
   ]
  },
  {
   "cell_type": "markdown",
   "id": "710f2e1a",
   "metadata": {},
   "source": [
    "se\n",
    "$$\\Pi_j^B = |b_j\\rangle\\langle b_j|.$$ \n",
    "\n",
    "OBS. Estados com discórdia nula são estados para os quais o observável\n",
    "$$\\mathcal{B} = \\sum_j b_j|b_j\\rangle\\langle b_j|$$\n",
    "são reais, segundo o critério da ref. 6.\n",
    "\n",
    "Com vistas nessas observações, podemos definir dois tipos de quantificadores geométricos de discórdia quântica. Vemos considerar que\n",
    "$$d(.,.)$$\n",
    "seja uma medida de distância ou de dissimilaridade. A __discórdia geométrica__ (DG) é então definida por\n",
    "$$D_B^G(\\rho_{AB}) = \\min_{\\rho_{AB}^{qc}}d(\\rho_{AB},\\rho_{AB}^{qc}).$$\n",
    "A __discórdia geométrica induzida por medida local__ (DGIML) está mais diretamente ligada ao estado $\\rho_{AB}$ do sistema. Nesse caso usamos o estádo pós-medida para uma medida projetiva não seletiva \n",
    "$$\\Pi_B(\\rho_{AB}) = \\sum_j (I\\otimes\\Pi_j^B)\\rho_{AB}(I\\otimes\\Pi_j^B)$$\n",
    "para definir\n",
    "$$D_B^{M}(\\rho_{AB}) = \\min_{\\Pi_B} d(\\rho_{AB},\\Pi_B(\\rho_{AB})).$$"
   ]
  },
  {
   "cell_type": "markdown",
   "id": "daab9731",
   "metadata": {},
   "source": [
    "Uma boa referência sobre esse tipo de medida é a ref. 7. \n",
    "\n",
    "Um observação óbvia aqui é que diversar medidas de distância/dissimilaridade pode ser utilizadas para definir a DG e a DGIML. Essas definições foram feitas. Também foram feitas muitas aplicações dessas medidas de discórdia em transições de fase, decoerência, etc. Isso fez com que a bibliografia no assunto seja muito extensa. Um artigo de revisão pode ser encontrado na ref. 8. Um review mais recente é o da ref. 9.\n",
    "\n",
    "Outra observação a se fazer é que, além da introdução de outras funções do tipo da DOZHV, o que já foi feito, também podemos pensar em introduzir discórdias geométricas utilizando medidas gerais. Nesse caso, seria mais natural utilizar a DGIML. Isso porque no caso particular das medidas projetivas, se \n",
    "$$\\Pi_B(\\rho_{AB}) = \\rho_{AB}$$\n",
    "então o observável definido pelos projetores $\\{\\Pi_j\\}$ tem realidade, ou seja, a medida $\\Pi_B$ não perturba o sistema, não destruindo assim as correlações quântica. Poderíamos fazer a interpretação análoga para medidas gerais, embora essa interpretação é menos direta. Vale notar que as medidas gerais podem ser obtidas de medidas projetivas gerais em um espaço maior ou em termos de uma evolução unitária no espaço maior mais uma medida projetiva no sistema auxiliar."
   ]
  },
  {
   "cell_type": "markdown",
   "id": "da1c6f52",
   "metadata": {},
   "source": [
    "## Discórdia geométrica de Bures\n",
    "\n",
    "A distância de Bures é definida como\n",
    "$$d_b(\\rho,\\sigma) = \\sqrt{2\\big(1-F(\\rho,\\sigma)\\big)},$$\n",
    "em que\n",
    "$$F(\\rho,\\sigma) = Tr\\sqrt{\\sqrt{\\rho}\\sigma\\sqrt{\\rho}} = Tr\\sqrt{\\rho\\sigma}$$\n",
    "é a fidelidade de Uhlmann entre os estados $\\rho$ e $\\sigma$.\n",
    "\n",
    "A discórdia geométrica de Bures é definida então como\n",
    "\\begin{align}\n",
    "D_B^{Gb}(\\rho_{AB}) & = \\min_{\\rho_{AB}^{qc}}d_b(\\rho_{AB},\\rho_{AB}^{qc}) \\\\\n",
    "& = \\min_{\\rho_{AB}^{qc}} \\sqrt{2\\big(1-F(\\rho_{AB},\\rho_{AB}^{qc})\\big)}.\n",
    "\\end{align}"
   ]
  },
  {
   "cell_type": "markdown",
   "id": "e761d451",
   "metadata": {},
   "source": [
    "## Algoritmo variacional para estimar a discórdia de Bures\n",
    "\n",
    "Vamos escrever a discórdia geométrica de Bures da seguinte forma\n",
    "\\begin{align}\n",
    "D_B^{Gb}(\\rho_{AB}) & = \\min_{\\rho_{AB}^{qc}} \\sqrt{2\\big(1-F(\\rho_{AB},\\rho_{AB}^{qc})\\big)} \\\\\n",
    "& = \\min_{\\rho_{AB}^{qc}} \\sqrt{2\\big(1-\\max_{|\\phi\\rangle}F(|\\psi\\rangle,|\\phi\\rangle)\\big)} \\\\\n",
    "& = \\min_{\\rho_{AB}^{qc}} \\sqrt{\\min_{|\\phi\\rangle}2\\big(1-F(|\\psi\\rangle,|\\phi\\rangle)\\big)} \\\\\n",
    "& = \\min_{\\rho_{AB}^{qc},|\\phi\\rangle} \\sqrt{2\\big(1-F(|\\psi\\rangle,|\\phi\\rangle)\\big)},\n",
    "\\end{align}\n",
    "em que $|\\psi\\rangle$ é uma purificação fixa de $\\rho_{AB}$ e $|\\phi\\rangle$ é uma purificação geral de $\\rho_{AB}^{qc}$.\n"
   ]
  },
  {
   "cell_type": "markdown",
   "id": "2e6f62f3",
   "metadata": {},
   "source": [
    "Vamos considerar que o estado bipartido tem decomposição espectral\n",
    "$$\\rho_{AB} = \\sum_{j=1}^{d_a d_b}R_j|R_j\\rangle\\langle R_j|.$$\n",
    "Este operador densidade tem a seguinte purificação fixa:\n",
    "$$|\\psi\\rangle = \\sum_{j=1}^{d_a d_b}\\sqrt{R_j}|R_j\\rangle\\otimes|j\\rangle$$\n",
    "com $\\{|j\\rangle\\}_{j=1}^{d_a d_b}$ sendo uma base ortornormal do sistema auxiliar. Para estados de 2 qubits, teremos $d_a d_b=4,$ e portanto precisaremos de mais 2 qubits auxiliares para fazer a purificação."
   ]
  },
  {
   "cell_type": "markdown",
   "id": "0c97a18c",
   "metadata": {},
   "source": [
    "Aqui prontamente identificamos um problema com a nossa técnica. Temos que começar implementando uma purificação fixa do estado\n",
    "\\begin{align}\n",
    "\\rho_{AB}^{qc} & = \\sum_{j=1}^{d_B} p_j \\rho_j^A \\otimes |b_j\\rangle\\langle b_j| \\\\\n",
    "& = (I\\otimes U)\\Big(\\sum_{j=1}^{d_B} p_j \\rho_j^A \\otimes |j\\rangle\\langle j|\\Big)(I\\otimes U^\\dagger).\n",
    "\\end{align}\n",
    "O $U$ é facilmente incorporado no circuito variacional. No entanto, temos muita liberdade nos $\\rho_j^A$ para estabelecermos suas purificações. Vamos tentar resolver essa questão aplicando a discórdia quântica geométrica induzida por medida local."
   ]
  },
  {
   "cell_type": "markdown",
   "id": "3e7679e9",
   "metadata": {},
   "source": [
    "A __discórdia geométrica de Bures induzida por medida local__ é definida e dada por\n",
    "\\begin{align}\n",
    "D_B^{Mb}(\\rho_{AB}) & = \\min_{\\Pi_B}d_b(\\rho_{AB},\\Pi_B(\\rho_{AB})) \\\\\n",
    "& = \\min_{\\Pi_B} \\sqrt{2\\big(1-F(\\rho_{AB},\\Pi_B(\\rho_{AB}))\\big)} \\\\\n",
    "& = \\min_{\\Pi_B} \\sqrt{2\\big(1-\\max_{|\\phi\\rangle}F(|\\psi\\rangle,|\\phi\\rangle)\\big)} \\\\\n",
    "& = \\min_{\\Pi_B} \\sqrt{\\min_{|\\phi\\rangle}2\\big(1-F(|\\psi\\rangle,|\\phi\\rangle)\\big)} \\\\\n",
    "& = \\min_{\\Pi_B,|\\phi\\rangle} \\sqrt{2\\big(1-F(|\\psi\\rangle,|\\phi\\rangle)\\big)}\n",
    "\\end{align}"
   ]
  },
  {
   "cell_type": "markdown",
   "id": "e62de7bb",
   "metadata": {},
   "source": [
    "com \n",
    "$$|\\psi\\rangle_{ABC} = \\sum_{j=1}^{d_a d_b}\\sqrt{R_j}|R_j\\rangle_{AB}\\otimes|j\\rangle_{C}$$\n",
    "sendo uma purificação fixa de \n",
    "$$\\rho_{AB} = \\sum_{j=1}^{d_a d_b}R_j|R_j\\rangle_{AB}\\langle R_j|$$\n",
    "e $|\\phi\\rangle$ é uma __purificação geral__ de $\\Pi_B(\\rho_{AB})$. Ou seja, se\n",
    "$$\\Pi_B(\\rho_{AB}) = \\sum_{j=1}^{d_a d_b}P_j|P_j\\rangle\\langle P_j|_{AB}$$\n",
    "então\n",
    "$$|\\phi\\rangle_{ABC} = \\sum_{j=1}^{d_a d_b}\\sqrt{P_j}|P_j\\rangle_{AB}\\otimes U|j\\rangle_C$$\n",
    "com $U$ sendo uma tranformação unitária em $\\mathbb{C}^{d_a d_b}$.\n",
    "\n",
    "A questão que fica agora é como implementar a purificação geral de $\\Pi_B(\\rho_{AB})$ de forma variacional. Já sabemos implementar a medida não seletiva numa base qualquer. Podemos usar isso?"
   ]
  },
  {
   "cell_type": "markdown",
   "id": "aaf6c949",
   "metadata": {},
   "source": [
    "Pode-se verificar que\n",
    "\\begin{align}\n",
    "\\Pi_B(|\\psi\\rangle_{ABC}\\langle\\psi|) & = \\sum_j (I_A\\otimes\\Pi_j^B\\otimes I_C)\\sum_k \\sqrt{R_k}(|R_k\\rangle_{AB}\\otimes|k\\rangle_C)\\sum_l \\sqrt{R_l}(\\langle R_l|_{AB}\\otimes\\langle l|_C)(I_A\\otimes\\Pi_j^B\\otimes I_C) \\\\\n",
    "& = \\sum_{j,k,l}\\sqrt{R_k}\\sqrt{R_l} (I_A\\otimes\\Pi_j^B)|R_k\\rangle_{AB}\\langle R_l|(I_A\\otimes\\Pi_j^B)\\otimes|k\\rangle_C\\langle l|.\n",
    "\\end{align}\n",
    "Assim\n",
    "\\begin{align}\n",
    "Tr_C\\big(\\Pi_B(|\\psi\\rangle_{ABC}\\langle\\psi|)\\big) & = \\sum_{j,k,l}\\sqrt{R_k}\\sqrt{R_l} (I_A\\otimes\\Pi_j^B)|R_k\\rangle_{AB}\\langle R_l|(I_A\\otimes\\Pi_j^B)\\otimes Tr(|k\\rangle_C\\langle l|) \\\\\n",
    "& = \\sum_{j,k,l}\\sqrt{R_k}\\sqrt{R_l} (I_A\\otimes\\Pi_j^B)|R_k\\rangle_{AB}\\langle R_l|(I_A\\otimes\\Pi_j^B)\\otimes \\delta_{l,k} \\\\\n",
    "& = \\sum_{j,k}\\sqrt{R_k}\\sqrt{R_k} (I_A\\otimes\\Pi_j^B)|R_k\\rangle_{AB}\\langle R_k|(I_A\\otimes\\Pi_j^B) \\\\\n",
    "& = \\sum_j (I_A\\otimes\\Pi_j^B) \\Big(\\sum_k R_k |R_k\\rangle_{AB}\\langle R_k|\\Big)(I_A\\otimes\\Pi_j^B) \\\\\n",
    "& = \\sum_j (I_A\\otimes\\Pi_j^B) \\rho_{AB}(I_A\\otimes\\Pi_j^B) \\\\\n",
    "& = \\Pi_B(\\rho_{AB}).\n",
    "\\end{align}"
   ]
  },
  {
   "cell_type": "markdown",
   "id": "c84666d8",
   "metadata": {},
   "source": [
    "Vale observar também que\n",
    "\\begin{align}\n",
    "\\Pi_B(\\rho_{AB}) & = Tr_C (|\\phi\\rangle\\langle\\phi|_{ABC}) \\\\\n",
    "& = Tr_C \\big(\\Pi_B(|\\psi\\rangle\\langle\\psi|_{ABC})\\big).\n",
    "\\end{align}\n",
    "por conseguinte, por causa da invariância do traço parcial por mudança de base, teremos que\n",
    "$$|\\phi\\rangle\\langle\\phi|_{ABC} = (I_{AB}\\otimes U_C)\\Pi_B(|\\psi\\rangle\\langle\\psi|_{ABC})(I_{AB}\\otimes U_C^\\dagger).$$\n",
    "Assim, teremos\n",
    "\\begin{align}\n",
    "D_B^{Mb}(\\rho_{AB}) & = \\min_{\\Pi_B,|\\phi\\rangle} \\sqrt{2\\big(1-F(|\\psi\\rangle,|\\phi\\rangle)\\big)} \\\\\n",
    "& = \\min_{\\Pi_B,U_C} \\sqrt{2\\big(1-F(|\\psi\\rangle,(I_{AB}\\otimes U_C)\\Pi_B(|\\psi\\rangle_{ABC}))\\big)}.\n",
    "\\end{align}"
   ]
  },
  {
   "cell_type": "markdown",
   "id": "850a50cd",
   "metadata": {},
   "source": [
    "Com isso, a discórdia de Bures poderia ser estimada usando o seguinte circuito variacional\n",
    "<img src='fig_discord.png' width='400'>\n",
    "\n",
    "A medida projetiva não seletiva que aparece no circuito acima, quando aplicada a 1 qubit, é implementada conforme reportado na ref. 11 e mostrado na figura abaixo.\n",
    "<img src='fig_discord_.png' width='400'>"
   ]
  },
  {
   "cell_type": "markdown",
   "id": "f8bcaab8",
   "metadata": {},
   "source": [
    "Sobre a pureza do estado pós medida\n",
    "\n",
    "Consideremos\n",
    "\\begin{align}\n",
    "& |\\phi\\rangle\\langle\\phi|_{ABC}|\\phi\\rangle\\langle\\phi|_{ABC} \\\\\n",
    "& = (I_{AB}\\otimes U_C)\\Pi_B(|\\psi\\rangle\\langle\\psi|_{ABC})(I_{AB}\\otimes U_C^\\dagger)(I_{AB}\\otimes U_C)\\Pi_B(|\\psi\\rangle\\langle\\psi|_{ABC})(I_{AB}\\otimes U_C^\\dagger) \\\\\n",
    "& = (I_{AB}\\otimes U_C)\\Pi_B(|\\psi\\rangle\\langle\\psi|_{ABC})\\Pi_B(|\\psi\\rangle\\langle\\psi|_{ABC})(I_{AB}\\otimes U_C^\\dagger) \\\\\n",
    "& = |\\phi\\rangle\\langle\\phi|_{ABC} \\\\\n",
    "& = (I_{AB}\\otimes U_C)\\Pi_B(|\\psi\\rangle\\langle\\psi|_{ABC})(I_{AB}\\otimes U_C^\\dagger).\n",
    "\\end{align}\n",
    "\n",
    "Então, se a igualdade acima é verdadeira, implicaria que\n",
    "$$\\Pi_B(|\\psi\\rangle\\langle\\psi|_{ABC})\\Pi_B(|\\psi\\rangle\\langle\\psi|_{ABC})=\\Pi_B(|\\psi\\rangle\\langle\\psi|_{ABC}),$$\n",
    "ou seja, implicaria que o estado \n",
    "$$\\Pi_B(|\\psi\\rangle\\langle\\psi|_{ABC})$$\n",
    "é puro. No entanto, sabemos que medidas não seletivas em geral aumentam a entropia."
   ]
  },
  {
   "cell_type": "code",
   "execution_count": null,
   "id": "b816aeb7",
   "metadata": {},
   "outputs": [],
   "source": []
  },
  {
   "cell_type": "code",
   "execution_count": null,
   "id": "1f3e3b38",
   "metadata": {},
   "outputs": [],
   "source": []
  },
  {
   "cell_type": "markdown",
   "id": "9a0da402",
   "metadata": {},
   "source": [
    "## Referências\n",
    "\n",
    "1. C. E. Shannon, “A Mathematical Theory of Communication”, The Bell System Technical Journal, Vol. 27, pp. 379–423, 623–656, July, October, 1948.\n",
    "\n",
    "1. B. Groisman, S. Popescu, and A. Winter, “Quantum, classical, and total amount of correlations in a quantum state,” Phys. Rev. A, vol. 72, no. 3, p. 032317, Sep. 2005, doi: 10.1103/PhysRevA.72.032317.\n",
    "\n",
    "1. L. Henderson and V. Vedral, “Classical, quantum and total correlations,” J. Phys. A: Math. Gen., vol. 34, no. 35, p. 6899, Aug. 2001, doi: 10.1088/0305-4470/34/35/315.\n",
    "\n",
    "1. H. Ollivier and W. H. Zurek, “Quantum Discord: A Measure of the Quantumness of Correlations,” Phys. Rev. Lett., vol. 88, no. 1, p. 017901, Dec. 2001, doi: 10.1103/PhysRevLett.88.017901.\n",
    "\n",
    "1. Y. Huang, “Computing quantum discord is NP-complete,” New J. Phys., vol. 16, no. 3, p. 033027, Mar. 2014, doi: 10.1088/1367-2630/16/3/033027.\n",
    "\n",
    "1. A. L. O. Bilobran and R. M. Angelo, “A measure of physical reality,” EPL, vol. 112, no. 4, p. 40005, Nov. 2015, doi: 10.1209/0295-5075/112/40005.\n",
    "\n",
    "1. W. Roga, D. Spehner, and F. Illuminati, “Geometric measures of quantum correlations: characterization, quantification, and comparison by distances and operations,” J. Phys. A: Math. Theor., vol. 49, no. 23, p. 235301, May 2016, doi: 10.1088/1751-8113/49/23/235301.\n",
    "\n",
    "1. K. Modi, A. Brodutch, H. Cable, T. Paterek, and V. Vedral, “The classical-quantum boundary for correlations: Discord and related measures,” Rev. Mod. Phys., vol. 84, no. 4, pp. 1655–1707, Nov. 2012, doi: 10.1103/RevModPhys.84.1655.\n",
    "\n",
    "1. A. Bera, T. Das, D. Sadhukhan, S. S. Roy, A. Sen(De), and U. Sen, “Quantum discord and its allies: a review of recent progress,” Rep. Prog. Phys., vol. 81, no. 2, p. 024001, Dec. 2017, doi: 10.1088/1361-6633/aa872f.\n",
    "\n",
    "1. D. Spehner and M. Orszag, “Geometric quantum discord with Bures distance,” New J. Phys., vol. 15, no. 10, p. 103001, Oct. 2013, doi: 10.1088/1367-2630/15/10/103001.\n",
    "\n",
    "1. M. L. W. Basso and J. Maziero, “Predictability as a quantum resource,” Quantum Inf Process, vol. 21, no. 5, p. 187, May 2022, doi: 10.1007/s11128-022-03503-y.\n",
    "\n",
    "1. D. Spehner and M. Orszag, “Geometric quantum discord with Bures distance: the qubit case,” J. Phys. A: Math. Theor., vol. 47, no. 3, p. 035302, Dec. 2013, doi: 10.1088/1751-8113/47/3/035302.\n"
   ]
  },
  {
   "cell_type": "code",
   "execution_count": null,
   "id": "4c27a9c6",
   "metadata": {},
   "outputs": [],
   "source": []
  }
 ],
 "metadata": {
  "kernelspec": {
   "display_name": "Python 3 (ipykernel)",
   "language": "python",
   "name": "python3"
  },
  "language_info": {
   "codemirror_mode": {
    "name": "ipython",
    "version": 3
   },
   "file_extension": ".py",
   "mimetype": "text/x-python",
   "name": "python",
   "nbconvert_exporter": "python",
   "pygments_lexer": "ipython3",
   "version": "3.9.13"
  }
 },
 "nbformat": 4,
 "nbformat_minor": 5
}
