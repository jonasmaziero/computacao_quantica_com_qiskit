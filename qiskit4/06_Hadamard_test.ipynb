{
 "cells": [
  {
   "cell_type": "markdown",
   "id": "fbe01abc-5d8e-461b-804e-fa110e44d855",
   "metadata": {},
   "source": [
    "# O teste de Hadamard\n",
    "\n",
    "O teste de Hadamard é uma maneira para medirmos valores esperados de operadores unitários. Este teste é uma subrotina de alguns algoritmos quânticos, tais como o algoritmo variacional para solução de sistemas de equações lineares.\n",
    "\n",
    "Vamos considerar um circuito quântico parecido como o da DQC1, mas com todos os qubits preparados em estados puros. Ou seja, consideremos um qubit preparado no estado $|0\\rangle$ e $n$ qubits preparados no estado $|\\psi\\rangle$. Assim o estado inicial é\n",
    "$$|\\Psi_0\\rangle = |0\\rangle\\otimes|\\psi\\rangle.$$\n",
    "Seguindo, aplicamos uma Hadamard no qubit de controle, obtendo assim o estado\n",
    "$$|\\Psi_1\\rangle = (H\\otimes I)(|0\\rangle\\otimes|\\psi\\rangle) = |+\\rangle\\otimes|\\psi\\rangle.$$\n",
    "Depois aplicamos a $U$ controlada\n",
    "$$C_U = |0\\rangle\\langle 0|\\otimes I + |1\\rangle\\langle 1|\\otimes U.$$\n",
    "Com isso, obteremos o estado\n",
    "\\begin{align}\n",
    "|\\Psi_2\\rangle & = C_U|\\Psi_1\\rangle \\\\\n",
    "& = C_U 2^{-1/2}\\big(|0\\rangle\\otimes|\\psi\\rangle + |1\\rangle\\otimes|\\psi\\rangle\\big) \\\\ \n",
    "& = 2^{-1/2}\\big(|0\\rangle\\otimes|\\psi\\rangle + |1\\rangle\\otimes U|\\psi\\rangle\\big).\n",
    "\\end{align}\n",
    "\n",
    "<img src='fig_hadamard_test.png' width='400'>"
   ]
  },
  {
   "cell_type": "markdown",
   "id": "c699139e-8e19-4802-94cf-c0601f079f2a",
   "metadata": {},
   "source": [
    "Tomando o traço parcial obtemos o estado reduzido\n",
    "\\begin{align}\n",
    "\\rho & = Tr_p\\big(|\\Psi_2\\rangle\\langle\\Psi_2|\\big) \\\\\n",
    "& = 2^{-1}Tr_p\\big((|0\\rangle\\otimes|\\psi\\rangle + |1\\rangle\\otimes U|\\psi\\rangle)(\\langle 0|\\otimes\\langle\\psi|+\\langle 1|\\otimes\\langle\\psi|U^\\dagger)\\big) \\\\\n",
    "& = 2^{-1}Tr_p\\big(|0\\rangle\\langle 0|\\otimes|\\psi\\rangle\\langle\\psi| + |0\\rangle\\langle 1|\\otimes|\\psi\\rangle\\langle\\psi|U^\\dagger + |1\\rangle\\langle 0|\\otimes U|\\psi\\rangle\\langle\\psi| + |1\\rangle\\langle 1| U|\\psi\\rangle\\langle\\psi|U^\\dagger) \\\\\n",
    "& = 2^{-1}\\big(|0\\rangle\\langle 0|\\otimes\\langle\\psi|\\psi\\rangle + |0\\rangle\\langle 1|\\otimes\\langle\\psi|U^\\dagger|\\psi\\rangle + |1\\rangle\\langle 0|\\otimes \\langle\\psi|U|\\psi\\rangle + |1\\rangle\\langle 1|\\otimes\\langle\\psi|U^\\dagger U|\\psi\\rangle) \\\\\n",
    "& = 2^{-1}\\big(|0\\rangle\\langle 0| + \\langle\\psi|U^\\dagger|\\psi\\rangle|0\\rangle\\langle 1| + \\langle\\psi|U|\\psi\\rangle|1\\rangle\\langle 0| + |1\\rangle\\langle 1|) \\\\\n",
    "& = \\frac{1}{2}\\begin{bmatrix} 1 & \\langle\\psi|U^\\dagger|\\psi\\rangle \\\\ \\langle\\psi|U|\\psi\\rangle  & 1 \\end{bmatrix}.\n",
    "\\end{align}\n",
    "\n",
    "Como o estado de um qubit pode ser escrito na base de Pauli como\n",
    "\\begin{align}\n",
    "\\rho & = 2^{-1}\\big(I + \\langle X\\rangle X + \\langle Y\\rangle Y + \\langle Z\\rangle Z\\big) \\\\\n",
    "& = \\frac{1}{2}\\begin{bmatrix} 1 + \\langle Z\\rangle & \\langle X\\rangle - i\\langle Y\\rangle \\\\ \\langle X\\rangle + i\\langle Y\\rangle  & 1 - \\langle Z\\rangle \\end{bmatrix},\n",
    "\\end{align}\n",
    "vemos que\n",
    "$$\\langle U\\rangle = \\langle\\psi|U|\\psi\\rangle = \\langle X\\rangle + i\\langle Y\\rangle.$$\n",
    "Então o valor médio da unitária pode ser obtido medindo-se os valores médios dos observáveis $X$ e $Y$. Vale reforçar que $U$ pode atuar em um número qualquer de qubits."
   ]
  },
  {
   "cell_type": "markdown",
   "id": "4652acbc",
   "metadata": {},
   "source": [
    "### Referências\n",
    "\n",
    "1. Qiskit textbook: The variational quantum linear solver. https://learn.qiskit.org/course/ch-applications/the-variational-quantum-linear-solver"
   ]
  },
  {
   "cell_type": "code",
   "execution_count": null,
   "id": "a6542d72",
   "metadata": {},
   "outputs": [],
   "source": []
  }
 ],
 "metadata": {
  "kernelspec": {
   "display_name": "Python 3 (ipykernel)",
   "language": "python",
   "name": "python3"
  },
  "language_info": {
   "codemirror_mode": {
    "name": "ipython",
    "version": 3
   },
   "file_extension": ".py",
   "mimetype": "text/x-python",
   "name": "python",
   "nbconvert_exporter": "python",
   "pygments_lexer": "ipython3",
   "version": "3.9.13"
  }
 },
 "nbformat": 4,
 "nbformat_minor": 5
}
