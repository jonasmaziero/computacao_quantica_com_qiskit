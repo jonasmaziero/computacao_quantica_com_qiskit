{
 "cells": [
  {
   "cell_type": "markdown",
   "id": "08c9dfc7",
   "metadata": {},
   "source": [
    "# Paradoxo de Afshar: <br> Violação de relações de complementariedade?\n",
    "\n",
    "O princípio de complementariedade de Bohr (PCB) diz que em um dado experimento podemos ou traçar o caminho percorrido por uma partícula ou observar fenômenos ondulatórios de interferência, mas não podemos fazer as duas coisas no mesmo experimento. \n",
    "O experimento de Afshar seria uma contraposição ao PCB.\n",
    "\n",
    "## Experimento de Afshar\n",
    "\n",
    "O experimento de dupla fenda está ilustrado na figura abaixo.\n",
    "\n",
    "<img src='fig_double_slit.png' width='300'>\n",
    "\n",
    "As franjas de interferência construtiva e destrutiva entre as ondas vindas das 2 fendas são marcadas pelas faixas claras e escuras na tela de detecção. \n",
    "\n",
    "No entanto, esse mesmo padrão de interferência é observado no regime em que um único quanton (fóton, elétron, etc) chega na placa de detecção. Nesse caso, se de qualquer modo colocamos um detector de caminho capaz de nos informar por quanl fenda o quanton passo, o padrão de interferência desaparecerá. \n",
    "\n",
    "Sabe-se que a informação de caminho também pode ser obtida de forma parcial. Nesse caso, a visibilidade do padrão de interferência será intermediária. No entanto, respeitando o PCB, nunca se observou, até o experimento de Afshar, a máxima informação de caminho e a máxima visibilidade, para um mesmo arranjo experimental."
   ]
  },
  {
   "cell_type": "markdown",
   "id": "9722cd39",
   "metadata": {},
   "source": [
    "A figura abaixo ilustra o experimento de Afshar.\n",
    "\n",
    "<img src='fig_afshar.png' width='300'>"
   ]
  },
  {
   "cell_type": "markdown",
   "id": "3e2a92ed",
   "metadata": {},
   "source": [
    "No lugar da tela de detecção agora temos um conjunto de fios metálicos que são colocados justamente onde eram observados as faixas escuras no padrão de interferência, ou seja, onde não era detectado nenhum quanton. Observamos que Afshar e colaboradores fizeram o experimento primeiramente usando luz LASER.\n",
    "\n",
    "Logo depois dos fios é colocada uma lente, que redireciona os fótons como mostrado na figura. Com isso, se o fóton veio da fenda 1, este será detectado no detector 1, e se ele veio da fenda 2 então será detectado no detector 2. Com isso, sabendo qual detector disparou sabemos por fenda o fóton passou. Com isso, teremos __máxima informação de caminho__.\n",
    "\n",
    "Afshar et al. observaram que ao colocar os fios metálicos, a quantidade de fótons que chega no detector não mudou apreciavelmente em relação ao caso sem os fios. Com isso, eles concluíram que na posição da fenda, depois de inserir a lente, continuaria acontecendo a interferência com as posições de maior interferência destrutiva sendo as posições dos fios. Com isso se testemunharia que há __comportamento ondulatório máximo__. Os autores então concluiram que para esse aparato experimental temos comportamento ondulatório e corpurcuslar aparecendo com máxima intensidade."
   ]
  },
  {
   "cell_type": "markdown",
   "id": "f430e852",
   "metadata": {},
   "source": [
    "A lente emaranha posição e momento linear através de um giro no momento inicial que depende da posição de chegada na lente. Esse emaranhamento destrói a superposição de caminho. Obter a U da lente. Fazer as contas para cada t.\n",
    "\n",
    "Implementar experimento de Unruh e de Oliveira Jr\n",
    "\n",
    "Usar nossos trabalhos para refutar o argumento de Afshar."
   ]
  },
  {
   "cell_type": "code",
   "execution_count": null,
   "id": "af9d90c7",
   "metadata": {},
   "outputs": [],
   "source": []
  },
  {
   "cell_type": "markdown",
   "id": "e78c4c92",
   "metadata": {},
   "source": [
    "### Referências\n",
    "\n",
    "1. S. S. Afshar, “Sharp complementary wave and particle behaviours in the same welcher weg experiment,” Proc. SPIE 5866, 229–244 (2005); http://www.irims.org/quantph/030503; http://arxiv.org/abs/quant-ph/0701027.\n",
    "\n",
    "1. S. S. Afshar, E. Flores, K. F. McDonald, and E. Knoesel, “Paradox in Wave-Particle Duality,” Found Phys, vol. 37, no. 2, pp. 295–305, Feb. 2007, doi: 10.1007/s10701-006-9102-8.\n",
    "\n",
    "1. B. Gergely and H. Batelaan, “Simulation of Afshar’s Double Slit Experiment,” Found Phys, vol. 52, no. 4, p. 69, Jul. 2022, doi: 10.1007/s10701-022-00585-7.\n",
    "\n",
    "1. P. M. Q. Cruz and J. Fernández-Rossier, “Testing complementarity on a transmon quantum processor,” Phys. Rev. A, vol. 104, no. 3, p. 032223, Sep. 2021, doi: 10.1103/PhysRevA.104.032223.\n",
    "\n",
    "1. T. Qureshi, “Understanding Modified Two-Slit Experiments Using Path Markers,” Found Phys, vol. 53, no. 2, p. 38, Mar. 2023, doi: 10.1007/s10701-023-00684-z.\n",
    "\n"
   ]
  },
  {
   "cell_type": "code",
   "execution_count": null,
   "id": "f61e20bb",
   "metadata": {},
   "outputs": [],
   "source": []
  }
 ],
 "metadata": {
  "kernelspec": {
   "display_name": "Python 3 (ipykernel)",
   "language": "python",
   "name": "python3"
  },
  "language_info": {
   "codemirror_mode": {
    "name": "ipython",
    "version": 3
   },
   "file_extension": ".py",
   "mimetype": "text/x-python",
   "name": "python",
   "nbconvert_exporter": "python",
   "pygments_lexer": "ipython3",
   "version": "3.9.13"
  }
 },
 "nbformat": 4,
 "nbformat_minor": 5
}
