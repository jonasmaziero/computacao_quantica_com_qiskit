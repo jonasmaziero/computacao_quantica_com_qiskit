{
 "cells": [
  {
   "cell_type": "markdown",
   "id": "24c94d68",
   "metadata": {},
   "source": [
    "# Unitária diagonal\n",
    "\n",
    "Tem a forma\n",
    "\\begin{align}\n",
    "U_d & = \\begin{bmatrix} e^{i\\phi_0} & 0 & 0 & \\cdots \\\\ 0 & e^{i\\phi_1} & 0 & \\cdots \\\\ 0 & 0 & e^{i\\phi_2} & \\cdots \\\\ \n",
    "\\vdots & \\vdots & \\vdots & \\ddots\\end{bmatrix} \\\\\n",
    "& = \\sum_{j=0}^{d-1} e^{i\\phi_j}|j\\rangle\\langle j| \\\\\n",
    "& = \\sum_{j_0,\\cdots,j_{d-1}=0}^{1} e^{i\\phi_{j_0,\\cdots,j_{d-1}}}|j_0,\\cdots,j_{d-1}\\rangle\\langle j_0,\\cdots,j_{d-1}|\n",
    "\\end{align}\n",
    "e aparece em simulação quântica e no algoritmo de Grover, sendo uma operação muito custosa computacionalmente."
   ]
  },
  {
   "cell_type": "markdown",
   "id": "a141a967",
   "metadata": {},
   "source": [
    "A ação dessa porta na base computacional é\n",
    "$$U_d |j_0,\\cdots,j_{d-1}\\rangle = e^{i\\phi_{j_0,\\cdots,j_{d-1}}}|j_0,\\cdots,j_{d-1}\\rangle.$$\n",
    "Ou seja, a ação dessa porta necessita do valor do estado de todos os $n=\\log_2(d)$ qubits.\n",
    "\n",
    "Lembrando que a porta de fase é\n",
    "$$P(\\phi) = |0\\rangle\\langle 0| + e^{i\\phi}|1\\rangle\\langle 1|,$$\n",
    "vemos que se usamos um qubit auxiliar inicialmente preparado no estado $|1\\rangle$ e portas multicontroladas, com os controles sendos os estados da base computacional, teremos a mesma ação que $U_d$."
   ]
  },
  {
   "cell_type": "markdown",
   "id": "39ee6f08",
   "metadata": {},
   "source": [
    "Consideremos alguns exemplos. Para __1 qubit__ temos\n",
    "$$U_d = e^{i\\phi_0}|0\\rangle\\langle 0| + e^{i\\phi_1}|1\\rangle\\langle 1|.$$\n",
    "Agora considera esse qubit em um estado qualquer e um qubit auxiliar preparado no estado $|1\\rangle$. Considera também as seguinte portas de fase controladas\n",
    "\\begin{align}\n",
    "& C_{P(\\phi_0)}^{0_0\\rightarrow 1} = |0\\rangle\\langle 0|\\otimes P(\\phi_0) + |1\\rangle\\langle 1|\\otimes I, \\\\\n",
    "& C_{P(\\phi_1)}^{0_1\\rightarrow 1} = |0\\rangle\\langle 0|\\otimes I + |1\\rangle\\langle 1|\\otimes P(\\phi_1).\n",
    "\\end{align}\n",
    "Vem assim que\n",
    "\\begin{align}\n",
    "& C_{P(\\phi_0)}^{0_0\\rightarrow 1}C_{P(\\phi_1)}^{0_1\\rightarrow 1}|0\\rangle|1\\rangle = C_{P(\\phi_0)}^{0_0\\rightarrow 1}|0\\rangle|1\\rangle = e^{i\\phi_0}|0\\rangle|1\\rangle, \\\\\n",
    "& C_{P(\\phi_0)}^{0_0\\rightarrow 1}C_{P(\\phi_1)}^{0_1\\rightarrow 1}|1\\rangle|1\\rangle = C_{P(\\phi_0)}^{0_0\\rightarrow 1}e^{i\\phi_1}|1\\rangle|1\\rangle = e^{i\\phi_1}|1\\rangle|1\\rangle.\n",
    "\\end{align}\n",
    "Ou seja\n",
    "$$C_{P(\\phi_0)}^{0_0\\rightarrow 1}C_{P(\\phi_1)}^{0_1\\rightarrow 1}|j\\rangle|1\\rangle = e^{i\\phi_j}|j\\rangle|1\\rangle,$$\n",
    "que é a mesma ação de $U_d$ na base computacional."
   ]
  },
  {
   "cell_type": "markdown",
   "id": "a9811d58",
   "metadata": {},
   "source": [
    "Para __2 qubits__ usamos a mesma ideia, mas aplicamos as portas de fase controladas por 2 qubits:\n",
    "$$C_{P(\\phi_{j_0 j_1})}^{0_{j_0}1_{j_1}\\rightarrow 2}|j_0 j_1\\rangle|1\\rangle = e^{i\\phi_{j_0 j_1}}|j_0 j_1\\rangle|1\\rangle,$$\n",
    "que também é a mesma ação de $U_d$. Acima temos e.g.\n",
    "$$C_{P(\\phi_{0 0})}^{0_{0}1_{0}\\rightarrow 2} = |00\\rangle\\langle 00|\\otimes P(\\phi_{00}) + (I-|00\\rangle\\langle 00|)\\otimes I.$$\n",
    "Neste caso teremos que\n",
    "$$U_d = C_{P(\\phi_{0 0})}^{0_{0}1_{0}\\rightarrow 2}C_{P(\\phi_{0 1})}^{0_{0}1_{1}\\rightarrow 2}C_{P(\\phi_{1 0})}^{0_{1}1_{0}\\rightarrow 2}C_{P(\\phi_{1 1})}^{0_{1}1_{1}\\rightarrow 2}.$$\n",
    "\n",
    "Em geral, para __$n$ qubits__, precisaremos de $2^n$ portal multicontroladas. Além disso, teremos que decompor essas portas multicontroladas em portas básicas. Ou seja, a complexidade para implementação de $U_d$ cresce mais rápido que $\\mathcal{O}(2^n)$."
   ]
  },
  {
   "cell_type": "markdown",
   "id": "54d4090c",
   "metadata": {},
   "source": [
    "### Referências\n",
    "\n",
    "1. J. Welch, D. Greenbaum, S. Mostame, and A. Aspuru-Guzik, “Efficient quantum circuits for diagonal unitaries without ancillas,” New J. Phys., vol. 16, no. 3, p. 033040, Mar. 2014, doi: 10.1088/1367-2630/16/3/033040.\n"
   ]
  },
  {
   "cell_type": "code",
   "execution_count": null,
   "id": "50ec3c18",
   "metadata": {},
   "outputs": [],
   "source": []
  }
 ],
 "metadata": {
  "kernelspec": {
   "display_name": "Python 3 (ipykernel)",
   "language": "python",
   "name": "python3"
  },
  "language_info": {
   "codemirror_mode": {
    "name": "ipython",
    "version": 3
   },
   "file_extension": ".py",
   "mimetype": "text/x-python",
   "name": "python",
   "nbconvert_exporter": "python",
   "pygments_lexer": "ipython3",
   "version": "3.9.13"
  }
 },
 "nbformat": 4,
 "nbformat_minor": 5
}
