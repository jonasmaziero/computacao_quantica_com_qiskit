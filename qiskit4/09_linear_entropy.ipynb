{
 "cells": [
  {
   "cell_type": "markdown",
   "id": "9b291c3d",
   "metadata": {},
   "source": [
    "# Entropia linear\n",
    "\n",
    "$$S_L(\\rho) = 1 - Tr(\\rho^2)$$"
   ]
  },
  {
   "cell_type": "code",
   "execution_count": null,
   "id": "e55cffb4",
   "metadata": {},
   "outputs": [],
   "source": []
  },
  {
   "cell_type": "code",
   "execution_count": null,
   "id": "48493499",
   "metadata": {},
   "outputs": [],
   "source": []
  },
  {
   "cell_type": "code",
   "execution_count": null,
   "id": "3d9aa1a1",
   "metadata": {},
   "outputs": [],
   "source": []
  },
  {
   "cell_type": "code",
   "execution_count": null,
   "id": "f5938d73",
   "metadata": {},
   "outputs": [],
   "source": []
  },
  {
   "cell_type": "markdown",
   "id": "e3a81306",
   "metadata": {},
   "source": [
    "### Referências\n",
    "\n",
    "- A. K. Ekert, C. M. Alves, D. K. L. Oi, M. Horodecki, P. Horodecki, and L. C. Kwek, “Direct Estimations of Linear and Nonlinear Functionals of a Quantum State,” Phys. Rev. Lett., vol. 88, no. 21, p. 217901, May 2002, doi: 10.1103/PhysRevLett.88.217901.\n"
   ]
  },
  {
   "cell_type": "code",
   "execution_count": null,
   "id": "22ee68f3",
   "metadata": {},
   "outputs": [],
   "source": []
  }
 ],
 "metadata": {
  "kernelspec": {
   "display_name": "Python 3 (ipykernel)",
   "language": "python",
   "name": "python3"
  },
  "language_info": {
   "codemirror_mode": {
    "name": "ipython",
    "version": 3
   },
   "file_extension": ".py",
   "mimetype": "text/x-python",
   "name": "python",
   "nbconvert_exporter": "python",
   "pygments_lexer": "ipython3",
   "version": "3.9.13"
  }
 },
 "nbformat": 4,
 "nbformat_minor": 5
}
