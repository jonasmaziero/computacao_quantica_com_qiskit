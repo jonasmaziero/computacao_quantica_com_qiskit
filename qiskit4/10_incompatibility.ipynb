{
 "cells": [
  {
   "cell_type": "markdown",
   "id": "05fb737b",
   "metadata": {},
   "source": [
    "# Incompatibility of a context\n",
    "\n",
    "Goal: Use the algorithm of ref. 3 to simulate non-selective general measurements of a qubit to demonstrate in a quantum computer the incompatibility results of refs. 1 and 2. Besides that, we can use the results of ref. 4 and 5 to include the effect of noisy. This effect can be included in a way using weak measurements discussed in ref. 3.\n",
    "\n",
    "Introduction\n",
    "\n",
    "Non-selective measurement of an observable $A = \\sum_j a_j|a_j\\rangle\\langle a_j|$:\n",
    "$$\\Pi_A(\\rho) = \\sum_j |a_j\\rangle\\langle a_j|\\rho|a_j\\rangle\\langle a_j|$$\n",
    "Sequential measurement of observables:\n",
    "$$\\Pi_{AB} = \\Pi_A(\\Pi_B(\\rho))$$\n",
    "with $B = \\sum_j b_j|b_j\\rangle\\langle b_j|$"
   ]
  },
  {
   "cell_type": "markdown",
   "id": "bca3539f",
   "metadata": {},
   "source": [
    "Incompatibility of a context quantifiers: From ref. 1 we have the von Neumann incompatibility\n",
    "$$\\Upsilon(A,B|\\rho) = I(\\Pi_A(\\rho)) - I(\\Pi_{AB}(\\rho))$$\n",
    "where we used the von Neumann information\n",
    "$$I(\\rho) = \\log_2(d) - S_vn(\\rho)$$\n",
    "in which $d$ is the system dimension.\n",
    "\n"
   ]
  },
  {
   "cell_type": "markdown",
   "id": "f5144ee9",
   "metadata": {},
   "source": [
    "Understand the measure of ref. 2"
   ]
  },
  {
   "cell_type": "markdown",
   "id": "68f2d31f",
   "metadata": {},
   "source": [
    "See how to simulate the noisy measurement of ref. 4\n",
    "\n",
    "Non-selective measurement in the computational basis of a qubit: <br>\n",
    "\\begin{align}\n",
    "& Tr_B(C_X^{A\\rightarrow B}\\rho\\otimes|0\\rangle\\langle 0|C_X^{A\\rightarrow B}) \n",
    "\\end{align}"
   ]
  },
  {
   "cell_type": "code",
   "execution_count": null,
   "id": "d00f272a",
   "metadata": {},
   "outputs": [],
   "source": []
  },
  {
   "cell_type": "code",
   "execution_count": null,
   "id": "9080f3b3",
   "metadata": {},
   "outputs": [],
   "source": []
  },
  {
   "cell_type": "code",
   "execution_count": null,
   "id": "18ebd3a4",
   "metadata": {},
   "outputs": [],
   "source": []
  },
  {
   "cell_type": "markdown",
   "id": "f102d044",
   "metadata": {},
   "source": [
    "### References\n",
    "\n",
    "1. E. Martins, M. F. Savi, and R. M. Angelo, “Quantum Incompatibility of a Physical Context,” Phys. Rev. A, vol. 102, no. 5, p. 050201, Nov. 2020, doi: 10.1103/PhysRevA.102.050201.\n",
    "\n",
    "2. A. Mitra, G. Sharma, and S. Ghosh, “Information leak and incompatibility of physical context: A modified approach,” Phys. Rev. A, vol. 104, no. 3, p. 032225, Sep. 2021, doi: 10.1103/PhysRevA.104.032225.\n",
    "\n",
    "3. M. L. W. Basso and J. Maziero, “Reality variation under monitoring with weak measurements,” Quantum Inf Process, vol. 21, no. 7, p. 255, Jul. 2022, doi: 10.1007/s11128-022-03618-2.\n",
    "\n",
    "4. M. J. Renner, “Compatibility of all noisy qubit observables.” arXiv, Sep. 21, 2023. doi: 10.48550/arXiv.2309.12290.\n",
    "\n",
    "5. Y. Zhang and E. Chitambar, “Exact Steering Bound for Two-Qubit Werner States.” arXiv, Sep. 18, 2023. doi: 10.48550/arXiv.2309.09960.\n",
    "\n"
   ]
  },
  {
   "cell_type": "code",
   "execution_count": null,
   "id": "18a052df",
   "metadata": {},
   "outputs": [],
   "source": []
  }
 ],
 "metadata": {
  "kernelspec": {
   "display_name": "Python 3 (ipykernel)",
   "language": "python",
   "name": "python3"
  },
  "language_info": {
   "codemirror_mode": {
    "name": "ipython",
    "version": 3
   },
   "file_extension": ".py",
   "mimetype": "text/x-python",
   "name": "python",
   "nbconvert_exporter": "python",
   "pygments_lexer": "ipython3",
   "version": "3.9.13"
  }
 },
 "nbformat": 4,
 "nbformat_minor": 5
}
