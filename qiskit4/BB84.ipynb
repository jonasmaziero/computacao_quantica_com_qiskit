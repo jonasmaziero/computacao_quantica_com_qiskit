{
 "cells": [
  {
   "cell_type": "markdown",
   "id": "409bedb6-43c7-489c-9be7-8bb9d662dacd",
   "metadata": {},
   "source": [
    "# Criptografia quântica\n",
    "## Simulação do protocolo BB84 no IBMQ\n",
    "\n",
    "O protocolo quântico para distribuição de chaves criptográficas proposto por Bennett e Brassard em 1984 (BB84) funciona da seguinte forma. Alice e Bob querem compartilhar uma chave criptográfica, ou seja, eles querem compartilhar uma sequência de bits (zeros e uns) aleatórios, de forma que ninguém mais consiga ter acesso a essa chave. Ademais, se alguém tentar descobrir a chave, pelo sistema físico ser quântico, este será perturbado e Alice e Bob perceberão isso, não usando a dita chave para comunicação. \n",
    "\n",
    "* No BB84, Alice começa preparando, de forma aleatória e com mesma probabilidade, um dos 4 estados:\n",
    "$$\\{|0\\rangle,|1\\rangle,|+\\rangle,|-\\rangle\\},$$\n",
    "em que $\\{|0\\rangle,|1\\rangle\\}$ são autovetores do observável\n",
    "$$Z = \\begin{bmatrix}1&0\\\\0&-1\\end{bmatrix} = (+1)|0\\rangle\\langle 0| + (-1)|1\\rangle\\langle 1|$$\n",
    "enquanto que $\\{|+\\rangle,|-\\rangle\\}$, com\n",
    "$$|\\pm\\rangle = 2^{-1/2}\\big(|0\\rangle\\pm|1\\rangle\\big),$$\n",
    "são autovetores do observável\n",
    "$$X = \\begin{bmatrix}0&1\\\\1&0\\end{bmatrix} = (+1)|+\\rangle\\langle +| + (-1)|-\\rangle\\langle -|.$$"
   ]
  },
  {
   "cell_type": "markdown",
   "id": "5c1c69c6-20cc-466e-9571-af6763762f3b",
   "metadata": {},
   "source": [
    "* Depois de ter preparado um desses 4 estados, Alice envia o qubit para Bob. \n",
    "\n",
    "No meio do caminho, a espiã, Eva, pode tentar descobrir qual foi o estado enviado por Alice. No entanto, para isso ela terá que medir o qubit, mudando assim, em geral, seu estado. \n",
    "\n",
    "* De qualquer modo, Bob, ao receber esse qubit, escolhe, de forma aleatória e equiprovável, medir o observável $Z$ ou $X.$\n",
    "Note que se Bob tem $50\\ \\%$ de chance de escolher um observável tal que o estado preparado por Alice é autovetor desse observável.\n",
    "Por exemplo, se Alice preparou o estado $|0\\rangle$ e Bob mediu o observável $Z$, ele certamente obterá o valor $+1$, que corresponde ao autovetor $|0\\rangle$. No entanto, se Bob escolheu medir o observável $X$, ele obterá os valores (estados) $+1\\ (|+\\rangle)$ e $-1\\ (|-\\rangle)$ com igual chance, pois $|0\\rangle=2^{-1/2}(|+\\rangle+|-\\rangle)$. \n",
    "Do mesmo modo, se Alice preparou o estado $|1\\rangle$ e Bob mediu o observável $Z$, ele certamente obterá o valor (estado) $-1\\ (|1\\rangle)$. No entanto, se Bob escolheu medir o observável $X$, ele obterá os valores (estados) $+1\\ (|+\\rangle)$ e $-1\\ (|-\\rangle)$ com a mesma probabilidade, pois $|1\\rangle=2^{-1/2}(|+\\rangle-|-\\rangle)$.\n",
    "Também, se Alice preparou o estado $|+\\rangle$ e Bob mediu o observável $X$, ele certamente obterá o valor (estado) $+1\\ (|+\\rangle)$. No entanto, se Bob escolheu medir o observável $Z$, ele obterá os valores (estados) $+1\\ (|0\\rangle)$ e $-1\\ (|1\\rangle)$ com a mesma probabilidade, pois $|+\\rangle=2^{-1/2}(|0\\rangle+|1\\rangle)$.\n",
    "Com uma última possibilidade, se Alice preparou o estado $|-\\rangle$ e Bob mediu o observável $X$, ele certamente obterá o valor (estado) $-1\\ (|-\\rangle)$. No entanto, se Bob escolheu medir o observável $Z$, ele obterá os valores (estados) $+1\\ (|0\\rangle)$ e $-1\\ (|1\\rangle)$ com a mesma probabilidade, pois $|-\\rangle=2^{-1/2}(|0\\rangle-|1\\rangle)$."
   ]
  },
  {
   "cell_type": "markdown",
   "id": "1f930a4a-c437-45ba-98a6-9afcd009effd",
   "metadata": {},
   "source": [
    "* Esse procedimento:\n",
    "$$\\text{preparação de Alice - envio do qubit - medida de Bob},$$\n",
    "é repetido um número $N$ (grande) de vezes. Feito isso, Bob envia para Alice um vetor \n",
    "$$\\vec{m}^B$$\n",
    "cujas componentes são bits de informação clássica (cbits) e informam Alice qual foi a escolha de observável dele para cada um dos qubits que ela enviou pra ele. Por exemplo, Alice e Bob podem combinar a seguinte associação de valor de cbit com o observável medido por Bob:\n",
    "\\begin{align}\n",
    "Z \\rightarrow 0, \\\\\n",
    "X \\rightarrow 1.\n",
    "\\end{align}\n",
    "Alice e Bob também convencionam que, para comparação, Alice irá usar um vetor\n",
    "$$\\vec{p}^A$$\n",
    "cujas componentes são cbits que guardam informação de se o estado que foi preparado por Alice é autovetor de $Z$ ou de $X$:\n",
    "\\begin{align}\n",
    "|0\\rangle,|1\\rangle \\rightarrow 0, \\\\\n",
    "|+\\rangle,|-\\rangle \\rightarrow 1.\n",
    "\\end{align}\n",
    "Com isso, Alice obtém um vetor de comparação fazendo a soma binária dos vetores componente a componente:\n",
    "$$\\vec{c} = \\vec{m}^B \\oplus \\vec{p}^A.$$\n",
    "Ou seja\n",
    "$$c_j = (m^B_j + p^A_j)\\mod 2.$$\n",
    "Se a escolha de Alice e Bob foi a \"mesma\", então $c_j = 0$, se foi diferente então $c_j=1$."
   ]
  },
  {
   "cell_type": "code",
   "execution_count": null,
   "id": "aebdb9a3-71f4-4d18-9b73-f7ef740a8d2a",
   "metadata": {},
   "outputs": [],
   "source": []
  },
  {
   "cell_type": "code",
   "execution_count": null,
   "id": "ef62b8ca-c64c-4c06-a3de-737c1dcd41b1",
   "metadata": {},
   "outputs": [],
   "source": []
  },
  {
   "cell_type": "code",
   "execution_count": 7,
   "id": "83359ccc-64f5-4918-9306-6f903e85558b",
   "metadata": {},
   "outputs": [],
   "source": [
    "from qiskit import *\n",
    "import numpy as np\n",
    "import math\n",
    "import qiskit\n",
    "nshots = 8192\n",
    "IBMQ.load_account()\n",
    "provider = qiskit.IBMQ.get_provider(hub='ibm-q', group='open', project='main')\n",
    "device = provider.get_backend('ibmq_manila')\n",
    "simulator = Aer.get_backend('qasm_simulator')\n",
    "from qiskit.tools.monitor import job_monitor\n",
    "#from qiskit.ignis.verification.tomography import state_tomography_circuits, StateTomographyFitter\n",
    "#from qiskit.ignis.mitigation.measurement import complete_meas_cal, CompleteMeasFitter\n",
    "from qiskit.visualization import plot_histogram"
   ]
  },
  {
   "cell_type": "code",
   "execution_count": 16,
   "id": "92725fc8-0cf5-4fa2-9583-52f1e3c6be64",
   "metadata": {},
   "outputs": [
    {
     "data": {
      "image/png": "[encoded data removed]",
      "text/plain": [
       "<Figure size 762.069x325.08 with 1 Axes>"
      ]
     },
     "execution_count": 16,
     "metadata": {},
     "output_type": "execute_result"
    }
   ],
   "source": [
    "def qc_bb84():\n",
    "    qr = QuantumRegister(4)\n",
    "    cr = ClassicalRegister(4)\n",
    "    qc = QuantumCircuit(qr,cr)\n",
    "    qc.h([1,2])\n",
    "    qc.measure([1,2],[1,2])\n",
    "    qc.x(0).c_if(cr[1],1)\n",
    "    qc.h(0).c_if(cr[2],1)\n",
    "    qc.barrier()\n",
    "    qc.barrier()\n",
    "    qc.h(3)\n",
    "    qc.measure(qr[3],cr[3])\n",
    "    qc.h(0).c_if(cr[3],1)\n",
    "    qc.measure(0,0)\n",
    "    return qc\n",
    "qc_bb84_ = qc_bb84(); qc_bb84_.draw('mpl')"
   ]
  },
  {
   "cell_type": "code",
   "execution_count": 31,
   "id": "8e45a47e-86c3-4841-a74a-07e48370b0d0",
   "metadata": {},
   "outputs": [
    {
     "data": {
      "text/plain": [
       "[{'0000': 1}, {'1100': 1}, {'1010': 1}, {'0110': 1}, {'0000': 1}]"
      ]
     },
     "execution_count": 31,
     "metadata": {},
     "output_type": "execute_result"
    }
   ],
   "source": [
    "nshots = 1\n",
    "N = 100\n",
    "counts = []\n",
    "for j in range(0,N):\n",
    "    job_sim = execute(qc, backend=simulator, shots=nshots)\n",
    "    counts_sim = job_sim.result().get_counts(qc)\n",
    "    counts.append(counts_sim)\n",
    "counts[0:5]"
   ]
  },
  {
   "cell_type": "code",
   "execution_count": 39,
   "id": "e7c4c008-5659-4d6f-8323-690de7c8b427",
   "metadata": {},
   "outputs": [
    {
     "data": {
      "text/plain": [
       "[{'0000': 1},\n",
       " {'1100': 1},\n",
       " {'1010': 1},\n",
       " {'0110': 1},\n",
       " {'0000': 1},\n",
       " {'0000': 1},\n",
       " {'0011': 1},\n",
       " {'0101': 1},\n",
       " {'1000': 1},\n",
       " {'0101': 1},\n",
       " {'0011': 1},\n",
       " {'1001': 1},\n",
       " {'1100': 1},\n",
       " {'1111': 1},\n",
       " {'1111': 1},\n",
       " {'0011': 1},\n",
       " {'1011': 1},\n",
       " {'0110': 1},\n",
       " {'0000': 1},\n",
       " {'1100': 1},\n",
       " {'1000': 1},\n",
       " {'0011': 1},\n",
       " {'1011': 1},\n",
       " {'0000': 1},\n",
       " {'0111': 1},\n",
       " {'1000': 1},\n",
       " {'1001': 1},\n",
       " {'0011': 1},\n",
       " {'1010': 1},\n",
       " {'0110': 1},\n",
       " {'0000': 1},\n",
       " {'1001': 1},\n",
       " {'0000': 1},\n",
       " {'0100': 1},\n",
       " {'1111': 1},\n",
       " {'0110': 1},\n",
       " {'1010': 1},\n",
       " {'0000': 1},\n",
       " {'1111': 1},\n",
       " {'1000': 1},\n",
       " {'0011': 1},\n",
       " {'1100': 1},\n",
       " {'0000': 1},\n",
       " {'0011': 1},\n",
       " {'0011': 1},\n",
       " {'1000': 1},\n",
       " {'1111': 1},\n",
       " {'1100': 1},\n",
       " {'1100': 1},\n",
       " {'0011': 1},\n",
       " {'1100': 1},\n",
       " {'1100': 1},\n",
       " {'1010': 1},\n",
       " {'1001': 1},\n",
       " {'0000': 1},\n",
       " {'0000': 1},\n",
       " {'1011': 1},\n",
       " {'1011': 1},\n",
       " {'1100': 1},\n",
       " {'0011': 1},\n",
       " {'0111': 1},\n",
       " {'0111': 1},\n",
       " {'0011': 1},\n",
       " {'1100': 1},\n",
       " {'1100': 1},\n",
       " {'1111': 1},\n",
       " {'0011': 1},\n",
       " {'0000': 1},\n",
       " {'1111': 1},\n",
       " {'0100': 1},\n",
       " {'0000': 1},\n",
       " {'0011': 1},\n",
       " {'0011': 1},\n",
       " {'1011': 1},\n",
       " {'1010': 1},\n",
       " {'0011': 1},\n",
       " {'1000': 1},\n",
       " {'1011': 1},\n",
       " {'1010': 1},\n",
       " {'0100': 1},\n",
       " {'1001': 1},\n",
       " {'0011': 1},\n",
       " {'1001': 1},\n",
       " {'1111': 1},\n",
       " {'0101': 1},\n",
       " {'0000': 1},\n",
       " {'0110': 1},\n",
       " {'0011': 1},\n",
       " {'1010': 1},\n",
       " {'1111': 1},\n",
       " {'0000': 1},\n",
       " {'1000': 1},\n",
       " {'1100': 1},\n",
       " {'0011': 1},\n",
       " {'0111': 1},\n",
       " {'0000': 1},\n",
       " {'1011': 1},\n",
       " {'1001': 1},\n",
       " {'1010': 1},\n",
       " {'0000': 1}]"
      ]
     },
     "execution_count": 39,
     "metadata": {},
     "output_type": "execute_result"
    }
   ],
   "source": [
    "counts_keys = [j for j in counts]\n",
    "counts_keys"
   ]
  },
  {
   "cell_type": "code",
   "execution_count": 25,
   "id": "04e65d81-e097-4778-b924-ed83273bd06d",
   "metadata": {},
   "outputs": [
    {
     "data": {
      "text/plain": [
       "'0100'"
      ]
     },
     "execution_count": 25,
     "metadata": {},
     "output_type": "execute_result"
    }
   ],
   "source": [
    "k=0;l=1;m=0;n=0\n",
    "s= str(k)+str(l)+str(m)+str(n)\n",
    "s"
   ]
  },
  {
   "cell_type": "code",
   "execution_count": 29,
   "id": "a4175370-60a1-4d74-979c-22f90b83452e",
   "metadata": {},
   "outputs": [
    {
     "ename": "KeyError",
     "evalue": "'0000'",
     "output_type": "error",
     "traceback": [
      "\u001b[0;31m---------------------------------------------------------------------------\u001b[0m",
      "\u001b[0;31mKeyError\u001b[0m                                  Traceback (most recent call last)",
      "Input \u001b[0;32mIn [29]\u001b[0m, in \u001b[0;36m<cell line: 2>\u001b[0;34m()\u001b[0m\n\u001b[1;32m      6\u001b[0m \u001b[38;5;28;01mfor\u001b[39;00m n \u001b[38;5;129;01min\u001b[39;00m \u001b[38;5;28mrange\u001b[39m(\u001b[38;5;241m0\u001b[39m,\u001b[38;5;241m2\u001b[39m):\n\u001b[1;32m      7\u001b[0m     s \u001b[38;5;241m=\u001b[39m \u001b[38;5;28mstr\u001b[39m(n) \u001b[38;5;241m+\u001b[39m \u001b[38;5;28mstr\u001b[39m(m) \u001b[38;5;241m+\u001b[39m \u001b[38;5;28mstr\u001b[39m(l) \u001b[38;5;241m+\u001b[39m \u001b[38;5;28mstr\u001b[39m(k)\n\u001b[0;32m----> 8\u001b[0m     \u001b[38;5;28;01mif\u001b[39;00m \u001b[43mcounts\u001b[49m\u001b[43m[\u001b[49m\u001b[43mj\u001b[49m\u001b[43m]\u001b[49m\u001b[43m[\u001b[49m\u001b[43ms\u001b[49m\u001b[43m]\u001b[49m \u001b[38;5;129;01min\u001b[39;00m counts \u001b[38;5;129;01mand\u001b[39;00m  counts[j][s] \u001b[38;5;241m==\u001b[39m \u001b[38;5;241m1\u001b[39m:\n\u001b[1;32m      9\u001b[0m         \u001b[38;5;28;01mif\u001b[39;00m l\u001b[38;5;241m==\u001b[39m\u001b[38;5;241m0\u001b[39m \u001b[38;5;129;01mand\u001b[39;00m m\u001b[38;5;241m==\u001b[39m\u001b[38;5;241m0\u001b[39m:\n\u001b[1;32m     10\u001b[0m             eo\u001b[38;5;241m.\u001b[39mappend(\u001b[38;5;241m0\u001b[39m)\n",
      "\u001b[0;31mKeyError\u001b[0m: '0000'"
     ]
    }
   ],
   "source": [
    "eo = [] # observavel escolhido por Alice e Bob (mesmo = 0, diferente=1)\n",
    "for j in range(0,N):\n",
    "    for k in range(0,2):\n",
    "        for l in range(0,2):\n",
    "            for m in range(0,2):\n",
    "                for n in range(0,2):\n",
    "                    s = str(n) + str(m) + str(l) + str(k)\n",
    "                    if counts[j][s] in counts and  counts[j][s] == 1:\n",
    "                        if l==0 and m==0:\n",
    "                            eo.append(0)\n",
    "                        else:\n",
    "                            eo.append(1)\n",
    "eo\n",
    "                        "
   ]
  },
  {
   "cell_type": "code",
   "execution_count": null,
   "id": "d9a273ea-8c5d-4ac6-a0b9-d2b3af1f4216",
   "metadata": {},
   "outputs": [],
   "source": [
    "qr = QuantumRegister(4)\n"
   ]
  }
 ],
 "metadata": {
  "kernelspec": {
   "display_name": "Python 3 (ipykernel)",
   "language": "python",
   "name": "python3"
  },
  "language_info": {
   "codemirror_mode": {
    "name": "ipython",
    "version": 3
   },
   "file_extension": ".py",
   "mimetype": "text/x-python",
   "name": "python",
   "nbconvert_exporter": "python",
   "pygments_lexer": "ipython3",
   "version": "3.9.13"
  }
 },
 "nbformat": 4,
 "nbformat_minor": 5
}
