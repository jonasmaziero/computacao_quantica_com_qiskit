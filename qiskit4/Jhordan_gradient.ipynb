{
 "cells": [
  {
   "cell_type": "markdown",
   "id": "9f9e0e8e",
   "metadata": {},
   "source": [
    "### Notas de aula de Computação Quântica <br> Autor: Jonas Maziero"
   ]
  },
  {
   "cell_type": "code",
   "execution_count": 1,
   "id": "bef719d6",
   "metadata": {},
   "outputs": [],
   "source": [
    "%run init.ipynb"
   ]
  },
  {
   "cell_type": "markdown",
   "id": "852f139e",
   "metadata": {},
   "source": [
    "# Algoritmo de Jhordan para cálculo do gradiente\n",
    "\n",
    "Dada uma caixa preta que calcula a função $f:\\mathbb{R}^{d}\\rightarrow\\mathbb{R}$ em um domínio finito, queremos calcular o gradiente dessa função:\n",
    "$$\\nabla f = \\big(\\partial_{1}f,\\partial_{2}f,\\cdots,\\partial_{d}f\\big),$$\n",
    "com \n",
    "$$\\partial_{j}=\\frac{\\partial}{\\partial_{x_{j}}}.$$\n",
    "Cada umas das componentes \n",
    "$$(x_{1},\\cdots,x_{d})$$\n",
    "é representada por uma string de $n$ bits. O cálculo deve ser feito com $n_{o}$ bits de precisão. \n",
    "\n",
    "Em um computador clássico precisamos chamar o oráculo $d+1$ vezes, pois precisamos calcular a função em $(x_{1},\\cdots,x_{d})$ e em $(\\cdots,x_{j}+l,\\cdots)$ para $j=1,\\cdots,d$ e $l\\ll 1$. Também poderíamos estimar essas derivadas calculando a função em $(\\cdots,x_{j}-l/2,\\cdots)$ e $(\\cdots,x_{j}+l/2,\\cdots)$, que envolveria chamar o oráculo $2d$ vezes. Esse cálculo pode ser feito em um computador quântico chamando-se o oráculo uma única vez. Vejamos como funciona o algoritmo de Jhordan.\n",
    "\n",
    "Vamos assumir, sem perda de generalidade, $(x_{1},\\cdots,x_{d})=(0,\\cdots,0)$ e reescalar o intervalor de valores do argumento da função para $[0,1]$, ou seja,\n",
    "$$x_{j}\\rightarrow x_{j}\\in[0,1].$$\n",
    "\n",
    "\n",
    "Consideramos $d$ registros de entrada, com $n$ qubits cada, e um registro de saída com $n_{o}$ qubits, todos inicializados no estado padrão\n",
    "$$|\\Psi_{0}\\rangle = |0\\rangle^{\\otimes n}_{1}\\otimes\\cdots\\otimes|0\\rangle^{\\otimes n}_{d}\\otimes|0\\rangle^{\\otimes n_{o}}.$$"
   ]
  },
  {
   "cell_type": "markdown",
   "id": "57881cd5",
   "metadata": {},
   "source": [
    "Definindo \n",
    "$$N=2^{n} \\text{ e } N_{o}=2^{n_{o}}$$\n",
    "aplicamos a porta de Hadamard em cada um dos qubits de entrada, passamos o registro de saída para o estado $|1\\rangle$ (aplicando $X$ no último qubit deste registro) e aplicamos a transformada de Fourier no registro de saída\n",
    "\\begin{align}\n",
    "|\\Psi_{1}\\rangle & = \\frac{1}{\\sqrt{N^{d}N_{o}}}\\sum_{\\delta_{1}=0}^{N-1}\\cdots\\sum_{\\delta_{d}=0}^{N-1}|\\delta_{1}\\rangle\\cdots|\\delta_{d}\\rangle\\otimes\\sum_{a=0}^{N_{o}-1}e^{i2\\pi a/N_{o}}|a\\rangle,\n",
    "\\end{align}\n",
    "em que usamos $U_{tfq}|j\\rangle = \\frac{1}{\\sqrt{d}}\\sum_{k=0}^{d-1}e^{2\\pi ijk/d}|k\\rangle$.\n",
    "\n",
    "\n",
    "Seguindo, vamos supor que temos acesso à função através de um oráculo que atua como segue\n",
    "$$U_{f}|x\\rangle|y\\rangle = |x\\rangle|y+f\\big(-l/2+x_{1}l/N_{o},\\cdots,-l/2+x_{1}l/N_{o}\\big)\\mod N_{o}\\rangle.$$\n",
    "Aplicando este oráculo, obteremos\n",
    "\\begin{align}\n",
    "|\\Psi_{3}\\rangle & = U_{f}|\\Psi_{2}\\rangle \\\\\n",
    "& = \\frac{1}{\\sqrt{N^{d}N_{o}}}\\sum_{\\delta_{1},\\cdots,\\delta_{d}=0}^{N-1}\\sum_{a=0}^{N_{o}-1}e^{2\\pi ia/N_{o}}U_{f}\\big(|\\delta_{1}\\cdots\\delta_{d}\\rangle\\otimes|a\\rangle\\big) \\\\\n",
    "& = \\frac{1}{\\sqrt{N^{d}N_{o}}}\\sum_{\\delta_{1},\\cdots,\\delta_{d}=0}^{N-1}\\sum_{a=0}^{N_{o}-1}e^{2\\pi ia/N_{o}}|\\delta_{1}\\cdots\\delta_{d}\\rangle\\otimes\\big|a+f\\big(-l/2+x_{1}l/N_{o},\\cdots,-l/2+x_{1}l/N_{o}\\big)\\mod N_{o}\\big\\rangle\n",
    "\\end{align}"
   ]
  },
  {
   "cell_type": "code",
   "execution_count": 4,
   "id": "dab25fe8",
   "metadata": {},
   "outputs": [
    {
     "data": {
      "text/plain": [
       "9.883333333333333"
      ]
     },
     "execution_count": 4,
     "metadata": {},
     "output_type": "execute_result"
    }
   ],
   "source": [
    "((10+9.8+9.5)/3+10)/2"
   ]
  },
  {
   "cell_type": "code",
   "execution_count": 5,
   "id": "3640a91a",
   "metadata": {},
   "outputs": [
    {
     "data": {
      "text/plain": [
       "9.885"
      ]
     },
     "execution_count": 5,
     "metadata": {},
     "output_type": "execute_result"
    }
   ],
   "source": [
    "(9.77+10)/2"
   ]
  },
  {
   "cell_type": "code",
   "execution_count": null,
   "id": "79d3b2df",
   "metadata": {},
   "outputs": [],
   "source": []
  }
 ],
 "metadata": {
  "kernelspec": {
   "display_name": "Python 3 (ipykernel)",
   "language": "python",
   "name": "python3"
  },
  "language_info": {
   "codemirror_mode": {
    "name": "ipython",
    "version": 3
   },
   "file_extension": ".py",
   "mimetype": "text/x-python",
   "name": "python",
   "nbconvert_exporter": "python",
   "pygments_lexer": "ipython3",
   "version": "3.9.13"
  }
 },
 "nbformat": 4,
 "nbformat_minor": 5
}
