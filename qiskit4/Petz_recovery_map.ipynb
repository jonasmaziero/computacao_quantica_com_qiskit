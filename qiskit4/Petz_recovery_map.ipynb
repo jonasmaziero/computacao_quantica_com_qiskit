{
 "cells": [
  {
   "cell_type": "markdown",
   "id": "3194f9fb",
   "metadata": {},
   "source": [
    "# Mapa de Petz para reversão de um canal quântico "
   ]
  },
  {
   "cell_type": "code",
   "execution_count": null,
   "id": "08827eef",
   "metadata": {},
   "outputs": [],
   "source": []
  },
  {
   "cell_type": "code",
   "execution_count": null,
   "id": "4ce7dbbc",
   "metadata": {},
   "outputs": [],
   "source": []
  },
  {
   "cell_type": "code",
   "execution_count": null,
   "id": "b8b02d93",
   "metadata": {},
   "outputs": [],
   "source": []
  },
  {
   "cell_type": "markdown",
   "id": "68ad32c6",
   "metadata": {},
   "source": [
    "### Referências\n",
    "\n",
    "1. 1. Gilyén, A., Lloyd, S., Marvian, I., Quek, Y. & Wilde, M. M. Quantum algorithm for Petz recovery channels and pretty good measurements. Phys. Rev. Lett. 128, 220502 (2022)."
   ]
  },
  {
   "cell_type": "code",
   "execution_count": null,
   "id": "24d66ce8",
   "metadata": {},
   "outputs": [],
   "source": []
  }
 ],
 "metadata": {
  "kernelspec": {
   "display_name": "Python 3 (ipykernel)",
   "language": "python",
   "name": "python3"
  },
  "language_info": {
   "codemirror_mode": {
    "name": "ipython",
    "version": 3
   },
   "file_extension": ".py",
   "mimetype": "text/x-python",
   "name": "python",
   "nbconvert_exporter": "python",
   "pygments_lexer": "ipython3",
   "version": "3.8.11"
  }
 },
 "nbformat": 4,
 "nbformat_minor": 5
}
