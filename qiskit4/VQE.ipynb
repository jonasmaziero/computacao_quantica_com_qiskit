{
 "cells": [
  {
   "cell_type": "markdown",
   "id": "0fc1b354",
   "metadata": {},
   "source": [
    "# Variational Quantum Eigensolver (VQE)\n",
    "\n",
    "## Teorema variacional (estado fundamental)\n",
    "Seja $H$ um hamiltoniano com espectro discreto de autovalores e seja \n",
    "$$H|\\psi_{n}\\rangle = E_{n}|\\psi_{n}\\rangle,\\ \\text{com } n = 0,1,2,\\cdots,$$\n",
    "tal que\n",
    "$$E_{n+1}\\ge E_{n}.$$\n",
    "Ou seja, ordenamos os autovaores em ordem não crescente. Seque que\n",
    "$$\\langle H\\rangle_{\\phi} \\ge E_{0}\\ \\forall \\phi \\text{ com } ||\\phi||=1.$$\n",
    "\n",
    "### Prova\n",
    "A prova deste teorema é uma aplicação simples do fato de que o valor médio de uma variável aleatória é um número que está entre seus valores mínimo e máximo. No entanto, vamos repetir aqui essa prova:\n",
    "\\begin{align}\n",
    "\\langle H\\rangle_{\\phi} & = \\sum_{n}E_{n}Pr(E_{n}|\\phi) \\\\\n",
    "& = \\sum_{n}E_{n}|\\langle\\psi_{n}|\\phi\\rangle|^{2} \\\\\n",
    "& \\ge \\sum_{n}E_{0}|\\langle\\psi_{n}|\\phi\\rangle|^{2} \\\\\n",
    "& = E_{0}\\sum_{n}|\\langle\\psi_{n}|\\phi\\rangle|^{2} \\\\\n",
    "& = E_{0}\\sum_{n}Pr(E_{n}|\\phi) \\\\\n",
    "& = E_{0}(1) \\\\\n",
    "& = E_{0},\n",
    "\\end{align}\n",
    "em que usamos $E_{n}\\ge E_{0}$, a regra de Born e a normalização para as probabilidades. <br>\n",
    "$\\square$"
   ]
  },
  {
   "cell_type": "code",
   "execution_count": null,
   "id": "66d8fff2",
   "metadata": {},
   "outputs": [],
   "source": []
  }
 ],
 "metadata": {
  "kernelspec": {
   "display_name": "Python 3 (ipykernel)",
   "language": "python",
   "name": "python3"
  },
  "language_info": {
   "codemirror_mode": {
    "name": "ipython",
    "version": 3
   },
   "file_extension": ".py",
   "mimetype": "text/x-python",
   "name": "python",
   "nbconvert_exporter": "python",
   "pygments_lexer": "ipython3",
   "version": "3.9.13"
  }
 },
 "nbformat": 4,
 "nbformat_minor": 5
}
