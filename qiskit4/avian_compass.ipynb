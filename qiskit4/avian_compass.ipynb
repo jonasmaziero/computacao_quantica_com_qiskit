{
 "cells": [
  {
   "cell_type": "markdown",
   "id": "871ec18f",
   "metadata": {},
   "source": [
    "Y. Zhang, Z. Hu, Y. Wang, and S. Kais, “Quantum Simulation of the Radical Pair Dynamics of the Avian Compass.” arXiv, Nov. 28, 2022. doi: 10.48550/arXiv.2211.15427."
   ]
  },
  {
   "cell_type": "code",
   "execution_count": null,
   "id": "9214614e",
   "metadata": {},
   "outputs": [],
   "source": []
  }
 ],
 "metadata": {
  "kernelspec": {
   "display_name": "Python 3 (ipykernel)",
   "language": "python",
   "name": "python3"
  },
  "language_info": {
   "codemirror_mode": {
    "name": "ipython",
    "version": 3
   },
   "file_extension": ".py",
   "mimetype": "text/x-python",
   "name": "python",
   "nbconvert_exporter": "python",
   "pygments_lexer": "ipython3",
   "version": "3.8.11"
  }
 },
 "nbformat": 4,
 "nbformat_minor": 5
}
