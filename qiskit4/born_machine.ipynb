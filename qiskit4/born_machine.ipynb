{
 "cells": [
  {
   "cell_type": "code",
   "execution_count": null,
   "id": "6fc88110",
   "metadata": {},
   "outputs": [],
   "source": []
  },
  {
   "cell_type": "code",
   "execution_count": null,
   "id": "50726095",
   "metadata": {},
   "outputs": [],
   "source": []
  },
  {
   "cell_type": "code",
   "execution_count": null,
   "id": "2bdf820b",
   "metadata": {},
   "outputs": [],
   "source": []
  },
  {
   "cell_type": "markdown",
   "id": "e81f61ab",
   "metadata": {},
   "source": [
    "### References\n",
    "\n",
    "1. O. Kiss, M. Grossi, E. Kajomovitz, and S. Vallecorsa, “Conditional Born machine for Monte Carlo event generation,” Phys. Rev. A, vol. 106, no. 2, p. 022612, Aug. 2022, doi: 10.1103/PhysRevA.106.022612.\n"
   ]
  },
  {
   "cell_type": "code",
   "execution_count": null,
   "id": "1b35e975",
   "metadata": {},
   "outputs": [],
   "source": []
  }
 ],
 "metadata": {
  "kernelspec": {
   "display_name": "Python 3 (ipykernel)",
   "language": "python",
   "name": "python3"
  },
  "language_info": {
   "codemirror_mode": {
    "name": "ipython",
    "version": 3
   },
   "file_extension": ".py",
   "mimetype": "text/x-python",
   "name": "python",
   "nbconvert_exporter": "python",
   "pygments_lexer": "ipython3",
   "version": "3.8.11"
  }
 },
 "nbformat": 4,
 "nbformat_minor": 5
}
