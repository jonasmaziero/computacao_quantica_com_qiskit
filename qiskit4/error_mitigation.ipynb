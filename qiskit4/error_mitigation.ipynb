{
 "cells": [
  {
   "cell_type": "markdown",
   "id": "b1ec452b",
   "metadata": {},
   "source": [
    "# Mitigação de erros de medidas\n",
    "\n",
    "## 1 qubit\n",
    "Consideremos experimentos em um qubit. Consideremos a preparação dos estados da base computacional, $|0\\rangle$ ou $|1\\rangle$, e a imediata medida subsequente, na base computacional. Como uma primeira aproximação, consideremos que os estados da base computacional são modificados pelos erros de preparação e portas e pelo ruído, sem modificar a pureza/entropia do estado, como segue\n",
    "\\begin{align}\n",
    "& |0\\rangle\\ \\rightarrow\\ R_{00}|0\\rangle + R_{10}|1\\rangle =: |r_0\\rangle, \\\\\n",
    "& |1\\rangle\\ \\rightarrow\\ R_{01}|0\\rangle + R_{11}|1\\rangle =: |r_1\\rangle.\n",
    "\\end{align}\n",
    "Podemos dizer então que a base computacional é trasformada pela __matriz de ruído__\n",
    "$$R = \\begin{bmatrix}R_{00}&R_{01} \\\\ R_{10}&R_{11}\\end{bmatrix}$$\n",
    "como segue\n",
    "\\begin{align}\n",
    "& R|0\\rangle = \\begin{bmatrix}R_{00}&R_{01} \\\\ R_{10}&R_{11}\\end{bmatrix}\\begin{bmatrix}1 \\\\ 0\\end{bmatrix} = \\begin{bmatrix}R_{00} \\\\ R_{10}\\end{bmatrix} = |r_0\\rangle, \\\\ \n",
    "& R|1\\rangle = \\begin{bmatrix}R_{00}&R_{01} \\\\ R_{10}&R_{11}\\end{bmatrix}\\begin{bmatrix}0 \\\\ 1\\end{bmatrix} = \\begin{bmatrix}R_{01} \\\\ R_{11}\\end{bmatrix} = |r_1\\rangle. \n",
    "\\end{align}\n",
    "Nesse caso, um estado puro qualquer será transformado por\n",
    "$$R|\\psi\\rangle = R(c_0|0\\rangle+c_1|1\\rangle) = c_0|r_0\\rangle+c_1|r_1\\rangle =: |r\\rangle.$$"
   ]
  },
  {
   "cell_type": "markdown",
   "id": "326ca3dd",
   "metadata": {},
   "source": [
    "Se $\\det(R)\\ne 0$, a matriz de ruído possui inversa e podemos reverter o seu efeito:\n",
    "\\begin{align}\n",
    "& |0\\rangle = R^{-1}|r_0\\rangle, \\\\\n",
    "& |1\\rangle = R^{-1}|r_1\\rangle.\n",
    "\\end{align}\n",
    "Ou seja\n",
    "$$|\\psi\\rangle = R^{-1}|r\\rangle.$$\n",
    "\n",
    "De forma análoga, para um operador densidade o efeito do ruído será\n",
    "\\begin{align}\n",
    "& \\rho = \\rho_{00}|0\\rangle\\langle 0| + \\rho_{01}|0\\rangle\\langle 1| + \\rho_{10}|1\\rangle\\langle 0| + \\rho_{11}|1\\rangle\\langle 1| \\\\\n",
    "& \\downarrow \\\\\n",
    "&  \\rho_{00}|r_0\\rangle\\langle r_0| + \\rho_{01}|r_0\\rangle\\langle r_1| + \\rho_{10}|r_1\\rangle\\langle r_0| + \\rho_{11}|r_1\\rangle\\langle r_1| =: \\rho_r = R\\rho R^\\dagger,\n",
    "\\end{align}\n",
    "em que assumimos que $R$ pode ser uma matriz complexa. Nesse caso reverteremos o efeito do ruído aplicando\n",
    "$$\\rho = R^{-1}\\rho_r (R^\\dagger)^{-1}.$$"
   ]
  },
  {
   "cell_type": "markdown",
   "id": "759e6810",
   "metadata": {},
   "source": [
    "Com relação a experimentos, o que temos que fazer então é preparar todos os estados da base computacional, $|j\\rangle$, e medir na base computacional para obter $|r_j\\rangle$. A matriz de ruído é então dada por\n",
    "$$R = \\big[|r_0\\rangle\\ |r_1\\rangle\\big].$$\n",
    "Como tomografia de estados é muito custosa, como uma primeira melhoria, ou melhor, como uma correção parcial de erros, reconstruiremos $R$ somente a partir das contagens das medidas. Ou seja, os elementos da matriz de ruído, $R_{jk}$, serão simplesmente as amplitudades de probabilidade de transição $|k\\rangle\\rightarrow|j\\rangle$. Ou seja, para o estado preparado $|j\\rangle$, se a contagem do estado $|k\\rangle$ é $N_{k|j}$ e o número total de medidas (shots) é $N$, teremos que\n",
    "$$R_{kj} = \\sqrt{Pr(|k\\rangle\\rightarrow|j\\rangle)} = \\sqrt{\\frac{N_{k|j}}{N}}.$$"
   ]
  },
  {
   "cell_type": "markdown",
   "id": "8e3d0446",
   "metadata": {},
   "source": [
    "## 2 qubits\n",
    "Nesse caso consideraremos que o efeito do ruído é\n",
    "\\begin{align}\n",
    "& |00\\rangle\\ \\rightarrow\\ R_{00,00}|00\\rangle + R_{01,00}|01\\rangle + R_{10,00}|10\\rangle + R_{11,00}|11\\rangle =: |r_{00}\\rangle, \\\\\n",
    "& |01\\rangle\\ \\rightarrow\\ R_{00,01}|00\\rangle + R_{01,01}|01\\rangle + R_{10,01}|10\\rangle + R_{11,01}|11\\rangle =: |r_{01}\\rangle, \\\\\n",
    "& |10\\rangle\\ \\rightarrow\\ R_{00,10}|00\\rangle + R_{01,10}|01\\rangle + R_{10,10}|10\\rangle + R_{11,10}|11\\rangle =: |r_{10}\\rangle, \\\\\n",
    "& |11\\rangle\\ \\rightarrow\\ R_{00,11}|00\\rangle + R_{01,11}|01\\rangle + R_{10,11}|10\\rangle + R_{11,11}|11\\rangle =: |r_{11}\\rangle, \\\\\n",
    "\\end{align}\n",
    "ou seja, o ruído atua como segue\n",
    "$$R|jk\\rangle = |r_{jk}\\rangle$$\n",
    "com\n",
    "$$R = \\begin{bmatrix}|r_{00}\\rangle & |r_{01}\\rangle & |r_{10}\\rangle & |r_{11}\\rangle \\end{bmatrix}.$$\n",
    "Novamente, ao invéz de usar os estados tomografados para calcuralar $R$, usamos somente as contagens\n",
    "$$R_{jk,lm} = \\sqrt{Pr(|lm\\rangle\\rightarrow|jk\\rangle)} = \\sqrt{\\frac{N_{jk|lm}}{N}}.$$"
   ]
  },
  {
   "cell_type": "markdown",
   "id": "f11bf196",
   "metadata": {},
   "source": [
    "## $n$ qubits\n",
    "Para $n$ qubits, o efeito do ruído pode ser representado por\n",
    "$$R|j_0 j_1 \\cdots j_n\\rangle = |r_{j_0 j_1 \\cdots j_n}\\rangle$$\n",
    "com\n",
    "$$R = \\begin{bmatrix}\\{|r_{j_0 j_1 \\cdots j_n}\\rangle\\} \\end{bmatrix},$$\n",
    "em que faremos a aproximação\n",
    "$$R_{k_0 k_1 \\cdots k_n ,j_0 j_1 \\cdots j_n} = \\sqrt{\\frac{N_{k_0 k_1 \\cdots k_n |j_0 j_1 \\cdots j_n}}{N}}.$$"
   ]
  },
  {
   "cell_type": "code",
   "execution_count": null,
   "id": "00e9f9a1",
   "metadata": {},
   "outputs": [],
   "source": []
  },
  {
   "cell_type": "code",
   "execution_count": null,
   "id": "a2882e9a",
   "metadata": {},
   "outputs": [],
   "source": []
  },
  {
   "cell_type": "markdown",
   "id": "539bd024",
   "metadata": {},
   "source": [
    "## Referências\n",
    "\n",
    "1. L. Funcke, T. Hartung, K. Jansen, S. Kühn, P. Stornati, and X. Wang, “Measurement Error Mitigation in Quantum Computers Through Classical Bit-Flip Correction,” Phys. Rev. A, vol. 105, no. 6, p. 062404, Jun. 2022, doi: 10.1103/PhysRevA.105.062404.\n",
    "\n",
    "1. D. Bultrini et al., “Unifying and benchmarking state-of-the-art quantum error mitigation techniques.” arXiv, May 22, 2023. doi: 10.48550/arXiv.2107.13470.\n",
    "\n",
    "1. S. Stein, N. Wiebe, Y. Ding, J. Ang, and A. Li, “Q-BEEP: Quantum Bayesian Error Mitigation Employing Poisson Modeling over the Hamming Spectrum,” in Proceedings of the 50th Annual International Symposium on Computer Architecture, in ISCA ’23. New York, NY, USA: Association for Computing Machinery, Jun. 2023, pp. 1–13. doi: 10.1145/3579371.3589043.\n",
    "\n"
   ]
  },
  {
   "cell_type": "code",
   "execution_count": null,
   "id": "046b9df9",
   "metadata": {},
   "outputs": [],
   "source": []
  }
 ],
 "metadata": {
  "kernelspec": {
   "display_name": "Python 3 (ipykernel)",
   "language": "python",
   "name": "python3"
  },
  "language_info": {
   "codemirror_mode": {
    "name": "ipython",
    "version": 3
   },
   "file_extension": ".py",
   "mimetype": "text/x-python",
   "name": "python",
   "nbconvert_exporter": "python",
   "pygments_lexer": "ipython3",
   "version": "3.9.13"
  }
 },
 "nbformat": 4,
 "nbformat_minor": 5
}
