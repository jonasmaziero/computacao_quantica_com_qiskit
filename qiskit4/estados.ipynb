{
 "cells": [
  {
   "cell_type": "code",
   "execution_count": 1,
   "id": "a9379d14",
   "metadata": {},
   "outputs": [],
   "source": [
    "%run init.ipynb"
   ]
  },
  {
   "cell_type": "markdown",
   "id": "5af0e9e1",
   "metadata": {},
   "source": [
    "# Preparação de estados\n",
    "A preparação de alguns estados mistos foi discutida quando falamos sobre purificação de estados.\n",
    "\n",
    "## Estados de Bell\n",
    "Já discutimos estados de Bell quando falamos sobre correção de erros quânticos (bit flip). \n"
   ]
  },
  {
   "cell_type": "code",
   "execution_count": null,
   "id": "320b98c4",
   "metadata": {},
   "outputs": [],
   "source": []
  }
 ],
 "metadata": {
  "kernelspec": {
   "display_name": "Python 3 (ipykernel)",
   "language": "python",
   "name": "python3"
  },
  "language_info": {
   "codemirror_mode": {
    "name": "ipython",
    "version": 3
   },
   "file_extension": ".py",
   "mimetype": "text/x-python",
   "name": "python",
   "nbconvert_exporter": "python",
   "pygments_lexer": "ipython3",
   "version": "3.8.11"
  }
 },
 "nbformat": 4,
 "nbformat_minor": 5
}
