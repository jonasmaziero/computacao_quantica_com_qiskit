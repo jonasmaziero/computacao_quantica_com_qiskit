{
 "cells": [
  {
   "cell_type": "markdown",
   "id": "ec7e5bd2",
   "metadata": {},
   "source": [
    "# Padaroxo de Hardy\n",
    "\n"
   ]
  },
  {
   "cell_type": "code",
   "execution_count": null,
   "id": "0b9d4536",
   "metadata": {},
   "outputs": [],
   "source": []
  },
  {
   "cell_type": "code",
   "execution_count": null,
   "id": "942e07c4",
   "metadata": {},
   "outputs": [],
   "source": []
  },
  {
   "cell_type": "code",
   "execution_count": null,
   "id": "2adc78a4",
   "metadata": {},
   "outputs": [],
   "source": []
  },
  {
   "cell_type": "markdown",
   "id": "4ff613f2",
   "metadata": {},
   "source": [
    "## Referências\n",
    "\n",
    "1. L. Hardy, “Quantum mechanics, local realistic theories, and Lorentz-invariant realistic theories,” Phys. Rev. Lett., vol. 68, no. 20, pp. 2981–2984, May 1992, doi: 10.1103/PhysRevLett.68.2981.\n",
    "\n",
    "1. minutephysics, Hardy’s Paradox | Quantum Double Double Slit Experiment, (2018). Accessed: Aug. 29, 2022. [Online Video]. Available: https://www.youtube.com/watch?v=Ph3d-ByEA7Q\n",
    "\n"
   ]
  },
  {
   "cell_type": "code",
   "execution_count": null,
   "id": "b5b67b6d",
   "metadata": {},
   "outputs": [],
   "source": []
  }
 ],
 "metadata": {
  "kernelspec": {
   "display_name": "Python 3 (ipykernel)",
   "language": "python",
   "name": "python3"
  },
  "language_info": {
   "codemirror_mode": {
    "name": "ipython",
    "version": 3
   },
   "file_extension": ".py",
   "mimetype": "text/x-python",
   "name": "python",
   "nbconvert_exporter": "python",
   "pygments_lexer": "ipython3",
   "version": "3.8.11"
  }
 },
 "nbformat": 4,
 "nbformat_minor": 5
}
