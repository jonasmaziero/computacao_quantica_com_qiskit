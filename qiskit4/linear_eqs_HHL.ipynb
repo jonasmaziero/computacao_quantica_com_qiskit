{
 "cells": [
  {
   "cell_type": "markdown",
   "id": "c35abd05-257a-4eaf-bd10-2a1b45cf5113",
   "metadata": {},
   "source": [
    "# Sistemas de equações lineares "
   ]
  },
  {
   "cell_type": "code",
   "execution_count": null,
   "id": "fe8e9858-b9d3-43da-ac97-4b1fa9a72b3e",
   "metadata": {},
   "outputs": [],
   "source": []
  },
  {
   "cell_type": "code",
   "execution_count": null,
   "id": "ed56fdd2-3d72-4bfb-9c32-2527210ec4b9",
   "metadata": {},
   "outputs": [],
   "source": []
  },
  {
   "cell_type": "code",
   "execution_count": null,
   "id": "dc8b96b7-4432-4fe0-b297-2d00f1e5c279",
   "metadata": {},
   "outputs": [],
   "source": []
  },
  {
   "cell_type": "markdown",
   "id": "6dc521ea-59f9-4198-8e37-7849a2f24060",
   "metadata": {},
   "source": [
    "### Referências\n",
    "\n",
    "1. H. J. Morrell Jr, A. Zaman, and H. Y. Wong, “Step-by-Step HHL Algorithm Walkthrough to Enhance the Understanding of Critical Quantum Computing Concepts.” arXiv, Mar. 24, 2023. doi: 10.48550/arXiv.2108.09004.\n"
   ]
  },
  {
   "cell_type": "code",
   "execution_count": null,
   "id": "1ae94865-5a23-4971-ac27-e34cdde8afc4",
   "metadata": {},
   "outputs": [],
   "source": []
  }
 ],
 "metadata": {
  "kernelspec": {
   "display_name": "Python 3 (ipykernel)",
   "language": "python",
   "name": "python3"
  },
  "language_info": {
   "codemirror_mode": {
    "name": "ipython",
    "version": 3
   },
   "file_extension": ".py",
   "mimetype": "text/x-python",
   "name": "python",
   "nbconvert_exporter": "python",
   "pygments_lexer": "ipython3",
   "version": "3.9.13"
  }
 },
 "nbformat": 4,
 "nbformat_minor": 5
}
