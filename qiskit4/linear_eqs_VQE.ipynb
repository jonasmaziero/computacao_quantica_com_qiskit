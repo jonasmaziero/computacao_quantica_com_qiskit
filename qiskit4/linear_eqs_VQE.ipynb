{
 "cells": [
  {
   "cell_type": "markdown",
   "id": "cfa3cf60-418c-4a90-9df0-2b737851c4b2",
   "metadata": {},
   "source": [
    "# Algoritmo variacional para solução de sistemas de equações lineares\n",
    "\n",
    "Vamos considerar \n",
    "$$A|x\\rangle = |b\\rangle$$\n",
    "com $A$ e $|b\\rangle$ conhecidos, e queremos encontrar $|x\\rangle$ que satisfaz essa equação.\n",
    "\n",
    "O algoritmo variacional para solução de equações lineares (VQLS = variation quantum linear solver), tem um speedup menor que o algoritmo HHL, mas é mais conveniente para a aplicação na era NISQ.\n",
    "\n",
    "Pra começar, temos que decompor a matrix em termos de um conjunto de matrizes unitárias $\\{A_n\\}$:\n",
    "$$A = \\sum_n c_n A_n,$$\n",
    "com $c_n\\in\\mathbb{C}.$ Além disso, precisaremos obter uma matriz unitária $U$ tal que\n",
    "$$|b\\rangle = U|0\\rangle.$$"
   ]
  },
  {
   "cell_type": "markdown",
   "id": "36a3d535-2801-4f6b-bc42-60555adc880f",
   "metadata": {},
   "source": []
  },
  {
   "cell_type": "code",
   "execution_count": null,
   "id": "80dfdaf8-0dc7-4ddc-bd9d-5fb4ec974b55",
   "metadata": {},
   "outputs": [],
   "source": []
  }
 ],
 "metadata": {
  "kernelspec": {
   "display_name": "Python 3 (ipykernel)",
   "language": "python",
   "name": "python3"
  },
  "language_info": {
   "codemirror_mode": {
    "name": "ipython",
    "version": 3
   },
   "file_extension": ".py",
   "mimetype": "text/x-python",
   "name": "python",
   "nbconvert_exporter": "python",
   "pygments_lexer": "ipython3",
   "version": "3.9.13"
  }
 },
 "nbformat": 4,
 "nbformat_minor": 5
}
