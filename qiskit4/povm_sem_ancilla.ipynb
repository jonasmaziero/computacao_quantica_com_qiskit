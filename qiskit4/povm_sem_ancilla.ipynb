{
 "cells": [
  {
   "cell_type": "markdown",
   "id": "9c0b8e46",
   "metadata": {},
   "source": [
    "[1] L. E. Fischer, D. Miller, F. Tacchino, P. Kl. Barkoutsos, D. J. Egger, and I. Tavernelli, “Ancilla-free implementation of generalized measurements for qubits embedded in a qudit space,” Phys. Rev. Research, vol. 4, no. 3, p. 033027, Jul. 2022, doi: 10.1103/PhysRevResearch.4.033027.\n"
   ]
  },
  {
   "cell_type": "code",
   "execution_count": null,
   "id": "9583f669",
   "metadata": {},
   "outputs": [],
   "source": []
  }
 ],
 "metadata": {
  "kernelspec": {
   "display_name": "Python 3 (ipykernel)",
   "language": "python",
   "name": "python3"
  },
  "language_info": {
   "codemirror_mode": {
    "name": "ipython",
    "version": 3
   },
   "file_extension": ".py",
   "mimetype": "text/x-python",
   "name": "python",
   "nbconvert_exporter": "python",
   "pygments_lexer": "ipython3",
   "version": "3.8.11"
  }
 },
 "nbformat": 4,
 "nbformat_minor": 5
}
