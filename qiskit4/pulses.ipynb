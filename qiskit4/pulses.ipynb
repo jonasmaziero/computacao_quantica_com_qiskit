{
 "cells": [
  {
   "cell_type": "markdown",
   "id": "41498cba",
   "metadata": {},
   "source": [
    "# Programando computadores quânticos com pulsos"
   ]
  },
  {
   "cell_type": "code",
   "execution_count": null,
   "id": "ffa40326",
   "metadata": {},
   "outputs": [],
   "source": []
  },
  {
   "cell_type": "code",
   "execution_count": null,
   "id": "c196faa1",
   "metadata": {},
   "outputs": [],
   "source": []
  },
  {
   "cell_type": "code",
   "execution_count": null,
   "id": "d52677f9",
   "metadata": {},
   "outputs": [],
   "source": []
  },
  {
   "cell_type": "markdown",
   "id": "c8974d05",
   "metadata": {},
   "source": [
    "### References\n",
    "\n",
    "1. Smith, K. N. et al. Programming physical quantum systems with pulse-level control. Frontiers in Physics 10, 900099 (2022). https://doi.org/10.3389/fphy.2022.900099\n",
    "\n",
    "1. https://qiskit.org/documentation/tutorials/circuits_advanced/05_pulse_gates.html"
   ]
  },
  {
   "cell_type": "code",
   "execution_count": null,
   "id": "dbf62c55",
   "metadata": {},
   "outputs": [],
   "source": []
  }
 ],
 "metadata": {
  "kernelspec": {
   "display_name": "Python 3 (ipykernel)",
   "language": "python",
   "name": "python3"
  },
  "language_info": {
   "codemirror_mode": {
    "name": "ipython",
    "version": 3
   },
   "file_extension": ".py",
   "mimetype": "text/x-python",
   "name": "python",
   "nbconvert_exporter": "python",
   "pygments_lexer": "ipython3",
   "version": "3.8.11"
  }
 },
 "nbformat": 4,
 "nbformat_minor": 5
}
