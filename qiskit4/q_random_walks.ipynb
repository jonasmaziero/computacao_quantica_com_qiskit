{
 "cells": [
  {
   "cell_type": "markdown",
   "id": "45c97328",
   "metadata": {},
   "source": [
    "# Caminhante aleatório quântico\n",
    "\n"
   ]
  },
  {
   "cell_type": "code",
   "execution_count": null,
   "id": "68bb1459",
   "metadata": {},
   "outputs": [],
   "source": []
  },
  {
   "cell_type": "code",
   "execution_count": null,
   "id": "03cad1ac",
   "metadata": {},
   "outputs": [],
   "source": []
  },
  {
   "cell_type": "code",
   "execution_count": null,
   "id": "dc469944",
   "metadata": {},
   "outputs": [],
   "source": []
  },
  {
   "cell_type": "markdown",
   "id": "edbe7a1c",
   "metadata": {},
   "source": [
    "### Referências\n",
    "* Acasiete, F., Agostini, F. P., Moqadam, J. K. & Portugal, R. Implementation of quantum walks on IBM quantum computers. Quantum Inf Process 19, 426 (2020). https://doi.org/10.1007/s11128-020-02938-5"
   ]
  },
  {
   "cell_type": "code",
   "execution_count": null,
   "id": "b21f7490",
   "metadata": {},
   "outputs": [],
   "source": []
  }
 ],
 "metadata": {
  "kernelspec": {
   "display_name": "Python 3 (ipykernel)",
   "language": "python",
   "name": "python3"
  },
  "language_info": {
   "codemirror_mode": {
    "name": "ipython",
    "version": 3
   },
   "file_extension": ".py",
   "mimetype": "text/x-python",
   "name": "python",
   "nbconvert_exporter": "python",
   "pygments_lexer": "ipython3",
   "version": "3.8.8"
  }
 },
 "nbformat": 4,
 "nbformat_minor": 5
}
