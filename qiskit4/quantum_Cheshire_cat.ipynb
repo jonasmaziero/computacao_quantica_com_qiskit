{
 "cells": [
  {
   "cell_type": "markdown",
   "id": "0db6e990",
   "metadata": {},
   "source": [
    "# Quantum Cheshire cat"
   ]
  },
  {
   "cell_type": "code",
   "execution_count": null,
   "id": "433b3933",
   "metadata": {},
   "outputs": [],
   "source": []
  },
  {
   "cell_type": "code",
   "execution_count": null,
   "id": "8285bab1",
   "metadata": {},
   "outputs": [],
   "source": []
  },
  {
   "cell_type": "code",
   "execution_count": null,
   "id": "e71d870a",
   "metadata": {},
   "outputs": [],
   "source": []
  },
  {
   "cell_type": "markdown",
   "id": "16202d71",
   "metadata": {},
   "source": [
    "### Referências\n",
    "\n",
    "1. Y. Aharonov, S. Popescu, D. Rohrlich, and P. Skrzypczyk, “Quantum Cheshire Cats,” New J. Phys., vol. 15, no. 11, p. 113015, Nov. 2013, doi: 10.1088/1367-2630/15/11/113015.\n",
    "\n",
    "1. P. Chowdhury, P. Chowdhury, A. K. Pati, A. K. Pati, and J.-L. Chen, “Wave and particle properties can be spatially separated in a quantum entity,” Photon. Res., PRJ, vol. 9, no. 7, pp. 1379–1383, Jul. 2021, doi: 10.1364/PRJ.425101.\n"
   ]
  },
  {
   "cell_type": "code",
   "execution_count": null,
   "id": "b3cd0d89",
   "metadata": {},
   "outputs": [],
   "source": []
  }
 ],
 "metadata": {
  "kernelspec": {
   "display_name": "Python 3 (ipykernel)",
   "language": "python",
   "name": "python3"
  },
  "language_info": {
   "codemirror_mode": {
    "name": "ipython",
    "version": 3
   },
   "file_extension": ".py",
   "mimetype": "text/x-python",
   "name": "python",
   "nbconvert_exporter": "python",
   "pygments_lexer": "ipython3",
   "version": "3.8.11"
  }
 },
 "nbformat": 4,
 "nbformat_minor": 5
}
