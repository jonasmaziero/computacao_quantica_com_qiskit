{
 "cells": [
  {
   "cell_type": "markdown",
   "id": "8bf4f6db",
   "metadata": {},
   "source": [
    "# Quantificação de superposição"
   ]
  },
  {
   "cell_type": "code",
   "execution_count": null,
   "id": "0450317c",
   "metadata": {},
   "outputs": [],
   "source": []
  }
 ],
 "metadata": {
  "kernelspec": {
   "display_name": "Python 3 (ipykernel)",
   "language": "python",
   "name": "python3"
  },
  "language_info": {
   "codemirror_mode": {
    "name": "ipython",
    "version": 3
   },
   "file_extension": ".py",
   "mimetype": "text/x-python",
   "name": "python",
   "nbconvert_exporter": "python",
   "pygments_lexer": "ipython3",
   "version": "3.8.11"
  }
 },
 "nbformat": 4,
 "nbformat_minor": 5
}
