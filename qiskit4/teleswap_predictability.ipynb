{
 "cells": [
  {
   "cell_type": "markdown",
   "id": "537c9e4b",
   "metadata": {},
   "source": [
    "### Lectures notes on Quantum Computation <br> Autor: Jonas Maziero"
   ]
  },
  {
   "cell_type": "code",
   "execution_count": 1,
   "id": "d201cf8c",
   "metadata": {},
   "outputs": [],
   "source": [
    "%run init.ipynb"
   ]
  },
  {
   "cell_type": "markdown",
   "id": "eefbc3fc",
   "metadata": {},
   "source": [
    "# Predictability in teleswap\n",
    "\n",
    "Let's consider 3 labs, where are Charlie, Alice and Bob. Charlie and Alice receive each one one qubit from a pair of qubits prepared in a pure state\n",
    "$$|\\psi\\rangle_{CA'} = c_{00}|00\\rangle_{CA'}+c_{01}|01\\rangle_{CA'}+c_{10}|10\\rangle_{CA'}+c_{11}|11\\rangle_{CA'}.$$\n",
    "Alice and Bob receive each one one qubit from a pair of qubits in a state\n",
    "$$|\\Phi\\rangle_{AB} = \\alpha_{0}|00\\rangle_{AB} + \\alpha_{1}|11\\rangle_{AB}.$$"
   ]
  },
  {
   "cell_type": "markdown",
   "id": "f12e1667",
   "metadata": {},
   "source": [
    "The state of the four qubits can be written as:\n",
    "\\begin{align}\n",
    "& |\\Xi\\rangle_{CA'AB} := |\\psi\\rangle_{CA'}|\\Phi\\rangle_{AB} \\\\ \n",
    "= & \\big(c_{00}|00\\rangle_{CA'}+c_{01}|01\\rangle_{CA'}+c_{10}|10\\rangle_{CA'}+c_{11}|11\\rangle_{CA'}\\big)\\big(\\alpha_{0}|00\\rangle_{AB}+\\alpha_{1}|11\\rangle_{AB}\\big) \\\\\n",
    "= & c_{00}\\alpha_{0}|0000\\rangle_{CA'AB} + c_{00}\\alpha_{1}|0011\\rangle_{CA'AB} + c_{01}\\alpha_{0}|0100\\rangle_{CA'AB} + c_{01}\\alpha_{1}|0111\\rangle_{CA'AB} \\\\\n",
    "& + c_{10}\\alpha_{0}|1000\\rangle_{CA'AB} + c_{10}\\alpha_{1}|1011\\rangle_{CA'AB} + c_{11}\\alpha_{0}|1100\\rangle_{CA'AB} + c_{11}\\alpha_{1}|1111\\rangle_{CA'AB} \\\\\n",
    "= & c_{00}\\alpha_{0}|00\\rangle_{CB}\\big(|\\Phi_{+}\\rangle_{A'A}+|\\Phi_{-}\\rangle_{A'A}\\big) + c_{00}\\alpha_{1}|01\\rangle_{CB}\\big(|\\Psi_{+}\\rangle_{A'A}+|\\Psi_{-}\\rangle_{A'A}\\big) \\\\\n",
    "& + c_{01}|00\\rangle_{CB}\\big(|\\Psi_{+}\\rangle_{A'A}-|\\Psi_{-}\\rangle_{A'A}\\big) + c_{01}|01\\rangle_{CB}\\big(|\\Phi_{+}\\rangle_{A'A}-|\\Phi_{-}\\rangle_{A'A} \\\\\n",
    "& + c_{10}|10\\rangle_{CB}\\big(|\\Phi_{+}\\rangle_{A'A}+|\\Phi_{-}\\rangle_{A'A}\\big) + c_{10}|11\\rangle_{CB}\\big(|\\Psi_{+}\\rangle_{A'A}+|\\Psi_{-}\\rangle_{A'A}\\big) \\\\\n",
    "& + c_{11}|10\\rangle_{CB}\\big(|\\Psi_{+}\\rangle_{A'A}-|\\Psi_{-}\\rangle_{A'A}\\big) + c_{11}|11\\rangle_{CB}\\big(|\\Phi_{+}\\rangle_{A'A}-|\\Phi_{-}\\rangle_{A'A}\\big)\\Big) \\\\\n",
    "= &  2^{-1}\\Big(|\\Phi_{+}\\rangle_{A'A}\\big(c_{00}|00\\rangle_{CB}+c_{01}|01\\rangle_{CB}+c_{10}|10\\rangle_{CB} + c_{11}|11\\rangle_{CB}\\big) \\\\\n",
    "& \\hspace{1cm} + |\\Phi_{-}\\rangle_{A'A}\\big(c_{00}|00\\rangle_{CB}-c_{01}|01\\rangle_{CB}+c_{10}|10\\rangle_{CB} - c_{11}|11\\rangle_{CB}\\big) \\\\\n",
    "& \\hspace{1cm} + |\\Psi_{+}\\rangle_{A'A}\\big(c_{00}|01\\rangle_{CB}+c_{01}|00\\rangle_{CB}+c_{10}|11\\rangle_{CB} + c_{11}|10\\rangle_{CB}\\big) \\\\\n",
    "& \\hspace{1cm} + |\\Psi_{-}\\rangle_{A'A}\\big(c_{00}|01\\rangle_{CB}-c_{01}|00\\rangle_{CB}+c_{10}|11\\rangle_{CB} - c_{11}|10\\rangle_{CB}\\big)\\Big) \\\\ \n",
    "& = 2^{-1}\\big(|\\Phi_{+}\\rangle_{A'A}|\\psi\\rangle_{CB} \\\\\n",
    "& \\hspace{1cm} + |\\Phi_{-}\\rangle_{A'A}\\big(\\mathbb{I}_{C}\\otimes Z_{B}\\big)|\\psi\\rangle_{CB} \\\\\n",
    "& \\hspace{1cm} + |\\Psi_{+}\\rangle_{A'A}\\big(\\mathbb{I}_{C}\\otimes X_{B}\\big)|\\psi\\rangle_{CB} \\\\\n",
    "& \\hspace{1cm} + |\\Psi_{-}\\rangle_{A'A}\\big(\\mathbb{I}_{C}\\otimes X_{B}Z_{B}\\big)|\\psi\\rangle_{CB} \\big). \n",
    "\\end{align}"
   ]
  },
  {
   "cell_type": "markdown",
   "id": "93f6ce9b",
   "metadata": {},
   "source": [
    "Com isso, se Alice faz uma medida na base de Bell e envia 2 cbits (00, 01, 10 ou 11) para Bob informando o resultado, Bob aplica a operação local apropriada para fazer com que o estado do seu qubit,\n",
    "$$\\tilde{\\rho}_{B},$$\n",
    "seja igual ao estado original do qubit da Alice\n",
    "$$\\rho_{A'} = Tr_{C}(|\\psi\\rangle_{CA'}\\langle\\psi|).$$\n",
    "Como consequência, o estado global dos qubits de Bob e Charlie depois da medida é igual ao estado original dos qubits de Alice e Charlie.\n",
    "\n",
    "As operações condicionadas são as seguintes\n",
    "\\begin{align}\n",
    "& \\text{Alice obtém } |\\Phi_{+}\\rangle_{A'A} \\ \\therefore\\ \\text{ Bob aplica } \\mathbb{I}_{B}, \\\\\n",
    "& \\text{Alice obtém } |\\Phi_{-}\\rangle_{A'A} \\ \\therefore\\ \\text{ Bob aplica } Z_{B}, \\\\\n",
    "& \\text{Alice obtém } |\\Psi_{+}\\rangle_{A'A} \\ \\therefore\\ \\text{ Bob aplica } X_{B}, \\\\\n",
    "& \\text{Alice obtém } |\\Psi_{-}\\rangle_{A'A} \\ \\therefore\\ \\text{ Bob aplica } Z_{B}X_{B}.\n",
    "\\end{align}"
   ]
  },
  {
   "cell_type": "markdown",
   "id": "8e931459",
   "metadata": {},
   "source": [
    "## Swap de emaranhamento como teleportação de $\\mathbb{I}/2$\n",
    "Como consequência do protocolo acima, o estado final dos qubits de Charlie e Bob,\n",
    "$$|\\psi\\rangle_{CB},$$\n",
    "é igual ao estado inicial dos qubits de Alice e Charlie,\n",
    "$$|\\psi\\rangle_{CA'}.$$\n",
    "\n",
    "Se consideramos que o estado desconhecido compartilhado inicialmente por Charlie e Alice é maximamente emaranhado, o estado final dos qubits de Bob e Charlie será maximamente emaranhado. Em particular, se Alice e Charlie compartilham inicialmente o estado\n",
    "$$|\\Phi_{+}\\rangle_{CA'},$$\n",
    "depois de completado o protocolo de teleportação, o estado compartilhado por Charlie e Bob é\n",
    "$$|\\Phi_{+}\\rangle_{CB}.$$\n",
    "Isso mostra que esse protocolo generaliza o protocolo de swap de emaranhamento, que é o caso particular do protocolo de teleportação de estados mistos quando teletransportamos o estado maximamente misto $\\mathbb{I}/2$."
   ]
  },
  {
   "cell_type": "markdown",
   "id": "3539616d",
   "metadata": {},
   "source": [
    "## Implementação no IBMQ\n"
   ]
  },
  {
   "cell_type": "code",
   "execution_count": 3,
   "id": "c673ac21",
   "metadata": {},
   "outputs": [
    {
     "name": "stderr",
     "output_type": "stream",
     "text": [
      "ibmqfactory.load_account:WARNING:2022-06-07 11:22:27,691: Credentials are already in use. The existing account in the session will be replaced.\n"
     ]
    }
   ],
   "source": [
    "from qiskit import *\n",
    "nshots = 8192\n",
    "IBMQ.load_account()\n",
    "provider= qiskit.IBMQ.get_provider(hub='ibm-q-research-2',group='federal-uni-sant-1',project='main')\n",
    "device = provider.get_backend('ibmq_bogota')\n",
    "simulator = Aer.get_backend('qasm_simulator')\n",
    "from qiskit.visualization import plot_histogram\n",
    "from qiskit.tools.monitor import job_monitor\n",
    "from qiskit.quantum_info import state_fidelity"
   ]
  },
  {
   "cell_type": "code",
   "execution_count": null,
   "id": "8a744a70",
   "metadata": {},
   "outputs": [],
   "source": []
  },
  {
   "cell_type": "code",
   "execution_count": null,
   "id": "efdf9587",
   "metadata": {},
   "outputs": [],
   "source": []
  },
  {
   "cell_type": "code",
   "execution_count": null,
   "id": "694a4dce",
   "metadata": {},
   "outputs": [],
   "source": []
  },
  {
   "cell_type": "markdown",
   "id": "71d70e7f",
   "metadata": {},
   "source": [
    "## Papel da preditibilidade local\n",
    "Vamos considerar esse protocolo no caso em que Alice e Bob campartilham inicialmente um estado puro, mas que pode ser parcialmente emaranhado:\n",
    "$$|\\Phi_{+}\\rangle_{AB} = \\sqrt{w}|00\\rangle_{AB} + \\sqrt{1-w}|11\\rangle_{AB}.$$"
   ]
  },
  {
   "cell_type": "code",
   "execution_count": null,
   "id": "eff68fea",
   "metadata": {},
   "outputs": [],
   "source": []
  }
 ],
 "metadata": {
  "kernelspec": {
   "display_name": "Python 3 (ipykernel)",
   "language": "python",
   "name": "python3"
  },
  "language_info": {
   "codemirror_mode": {
    "name": "ipython",
    "version": 3
   },
   "file_extension": ".py",
   "mimetype": "text/x-python",
   "name": "python",
   "nbconvert_exporter": "python",
   "pygments_lexer": "ipython3",
   "version": "3.8.11"
  }
 },
 "nbformat": 4,
 "nbformat_minor": 5
}
