{
 "cells": [
  {
   "cell_type": "markdown",
   "id": "9b291c3d",
   "metadata": {},
   "source": [
    "# Entropia linear: Estimativa usando o teste swap\n",
    "\n",
    "$$S_l(\\rho) = 1 - Tr(\\rho^2) = 1-P(\\rho).$$"
   ]
  },
  {
   "cell_type": "markdown",
   "id": "dd1dbc44",
   "metadata": {},
   "source": [
    "## Igualdade principal: $Tr(AB) = Tr((A\\otimes B)S)$\n",
    "Notação: $S=SWAP = C_X^{a\\rightarrow b}C_X^{b\\rightarrow a}C_X^{a\\rightarrow b}= C_X^{b\\rightarrow a}C_X^{a\\rightarrow b}C_X^{b\\rightarrow a}$.\n",
    "\n",
    "Verificação: Começamos com\n",
    "\\begin{align}\n",
    "Tr(AB) & = Tr\\Big(\\sum_{j,k}A_{j,k}|j\\rangle\\langle k|\\sum_{l,m}B_{l,m}|l\\rangle\\langle m|\\Big) \\\\\n",
    "& = \\sum_{j,k,l,m}A_{j,k}B_{l,m}Tr\\Big(|j\\rangle\\langle k|l\\rangle\\langle m|\\Big) \\\\\n",
    "& = \\sum_{j,k,l,m}A_{j,k}B_{l,m}\\delta_{k,l}\\delta_{m,j} \\\\\n",
    "& = \\sum_{j,k}A_{j,k}B_{k,j}.\n",
    "\\end{align}"
   ]
  },
  {
   "cell_type": "markdown",
   "id": "350fecdb",
   "metadata": {},
   "source": [
    "Concluímos com\n",
    "\\begin{align}\n",
    "Tr((A\\otimes B)S) & = Tr(S(A\\otimes B)) \\\\\n",
    "& = Tr\\Big(S\\sum_{j,k}A_{j,k}|j\\rangle\\langle k|\\otimes\\sum_{l,m}B_{l,m}|l\\rangle\\langle m|\\Big) \\\\\n",
    "& = \\sum_{j,k,l,m}A_{j,k}B_{l,m}Tr\\Big(S(|j\\rangle\\otimes|l\\rangle)(\\langle k|\\otimes\\langle m|)\\Big) \\\\\n",
    "& = \\sum_{j,k,l,m}A_{j,k}B_{l,m}Tr\\Big(|l\\rangle\\otimes|j\\rangle)(\\langle k|\\otimes\\langle m|\\Big) \\\\\n",
    "& = \\sum_{j,k,l,m}A_{j,k}B_{l,m}\\langle k|l\\rangle\\otimes\\langle m|j\\rangle \\\\\n",
    "& = \\sum_{j,k,l,m}A_{j,k}B_{l,m}\\delta_{k,l}\\delta_{m,j} \\\\\n",
    "& = \\sum_{j,k}A_{j,k}B_{k,j}.\n",
    "\\end{align}"
   ]
  },
  {
   "cell_type": "markdown",
   "id": "77960625",
   "metadata": {},
   "source": [
    "## Estimando $Tr(\\rho_A \\rho_B)$ usando o teste swap\n",
    "\n",
    "<img src='Tr_rho2_estimation.png' width='350'>"
   ]
  },
  {
   "cell_type": "markdown",
   "id": "5d5c6b12",
   "metadata": {},
   "source": [
    "Consideramos dois registros quânticos preparados nos estados $\\rho_A$ e $\\rho_B$, respectivamente. Consideramos um qubit auxiliar preparado no estado $|+\\rangle=H|0\\rangle$. O estado inicial é\n",
    "$$\\rho_0 = |+\\rangle\\langle +|\\otimes \\rho_A\\otimes\\rho_B.$$\n",
    "Aplicamos uma SWAP controlada,\n",
    "$$C_{swap}^{a\\rightarrow AB} = |0\\rangle\\langle 0|\\otimes I + |1\\rangle\\langle 1|\\otimes S = |0\\rangle\\langle 0|\\otimes I + |1\\rangle\\langle 1|\\otimes S^\\dagger = (C_{swap}^{a\\rightarrow AB})^\\dagger,$$\n",
    "com o qubit auxiliar como controle e os registros A e B como target:\n",
    "\\begin{align}\n",
    "\\rho_1 & = C_{swap}^{a\\rightarrow AB}\\rho_0 (C_{swap}^{a\\rightarrow AB})^\\dagger \\\\\n",
    "& = C_{swap}^{a\\rightarrow AB}\\frac{1}{2}(|0\\rangle\\langle 0|+|0\\rangle\\langle 1|+|1\\rangle\\langle 0|+|1\\rangle\\langle 1|)\\otimes \\rho_A\\otimes\\rho_B (C_{swap}^{a\\rightarrow AB})^\\dagger \\\\\n",
    "& = \\frac{1}{2}\\Big(|0\\rangle\\langle 0|\\otimes \\rho_A\\otimes\\rho_B + |0\\rangle\\langle 1|\\otimes (\\rho_A\\otimes\\rho_B)S + |1\\rangle\\langle 0|\\otimes S(\\rho_A\\otimes\\rho_B) + |1\\rangle\\langle 1|\\otimes S(\\rho_A\\otimes\\rho_B)S\\Big).\n",
    "\\end{align}\n",
    "\n",
    "Seguindo aplica a porta de Hadamard no qubit auxiliar para obter\n",
    "\\begin{align}\n",
    "\\rho_2 & = H\\otimes I \\rho_1 H\\otimes I \\\\\n",
    "& = \\frac{1}{2}\\Big(|+\\rangle\\langle +|\\otimes \\rho_A\\otimes\\rho_B + |-\\rangle\\langle -|\\otimes (\\rho_A\\otimes\\rho_B)S + |-\\rangle\\langle +|\\otimes S(\\rho_A\\otimes\\rho_B) + |-\\rangle\\langle -|\\otimes S(\\rho_A\\otimes\\rho_B)S\\Big).\n",
    "\\end{align}"
   ]
  },
  {
   "cell_type": "markdown",
   "id": "475ee77f",
   "metadata": {},
   "source": [
    "Temos assim o estado reduzido\n",
    "\\begin{align}\n",
    "\\rho_2^a & = Tr_{AB}(\\rho_2) \\\\\n",
    "& = \\frac{1}{2}\\Big(|+\\rangle\\langle +|\\otimes Tr(\\rho_A\\otimes\\rho_B) + |+\\rangle\\langle -|\\otimes Tr((\\rho_A\\otimes\\rho_B)S) + |-\\rangle\\langle +|\\otimes Tr(S(\\rho_A\\otimes\\rho_B)) + |-\\rangle\\langle -|\\otimes Tr(S(\\rho_A\\otimes\\rho_B)S)\\Big) \\\\\n",
    "& = \\frac{1}{2}\\Big(|+\\rangle\\langle +| + Tr((\\rho_A\\otimes\\rho_B)S)|+\\rangle\\langle -| + Tr(S(\\rho_A\\otimes\\rho_B)) |-\\rangle\\langle +|+ |-\\rangle\\langle -|\\otimes Tr(\\rho_A\\otimes\\rho_B)\\Big) \\\\\n",
    "& = \\frac{1}{2}\\Big(|+\\rangle\\langle +| + Tr(S(\\rho_A\\otimes\\rho_B))|+\\rangle\\langle -| + Tr(S(\\rho_A\\otimes\\rho_B)) |-\\rangle\\langle +|+ |-\\rangle\\langle -|\\Big) \\\\\n",
    "& = \\frac{1}{2}\\Big(|+\\rangle\\langle +| + Tr(\\rho_A\\rho_B)|+\\rangle\\langle -| + Tr(\\rho_A\\rho_B) |-\\rangle\\langle +|+ |-\\rangle\\langle -|\\Big) \\\\\n",
    "& = \\frac{1}{4}\\Big((|0\\rangle\\langle 0|+|0\\rangle\\langle 1|+|1\\rangle\\langle 0|+|1\\rangle\\langle 1|) + Tr(\\rho_A\\rho_B)(|0\\rangle\\langle 0|-|0\\rangle\\langle 1|+|1\\rangle\\langle 0|-|1\\rangle\\langle 1|) \\\\\n",
    "& + Tr(\\rho_A\\rho_B)(|0\\rangle\\langle 0|+|0\\rangle\\langle 1|-|1\\rangle\\langle 0|-|1\\rangle\\langle 1|)+ (|0\\rangle\\langle 0|-|0\\rangle\\langle 1|-|1\\rangle\\langle 0|+|1\\rangle\\langle 1|)\\Big) \\\\\n",
    "& = \\frac{1}{2}\\Big((1+Tr(\\rho_A\\rho_B))|0\\rangle\\langle 0|+(1-Tr(\\rho_A\\rho_B))|1\\rangle\\langle 1|\\Big).\n",
    "\\end{align}"
   ]
  },
  {
   "cell_type": "markdown",
   "id": "fa7375df",
   "metadata": {},
   "source": [
    "Para um medida na base computacional para o sistema preparado no estado $\\rho_2^a$, temos que\n",
    "\\begin{align}\n",
    "& Pr(0|\\rho_2^a) = (1+Tr(\\rho_A\\rho_B))/2 =: p_0, \\\\\n",
    "& Pr(1|\\rho_2^a) = (1-Tr(\\rho_A\\rho_B))/2 =: p_1.\n",
    "\\end{align}\n",
    "\n",
    "Assim, se\n",
    "$$\\rho_A = \\rho_B := \\rho$$\n",
    "temos que\n",
    "$$p_0 = (1+Tr(\\rho^2))/2 = (1+P(\\rho))/2 \\therefore\\ P(\\rho) = 2p_0 - 1.$$\n",
    "A entropia linear é então dada por\n",
    "$$S_l(\\rho) = 1-Tr(\\rho^2) = 1-P(\\rho) = 1-(2p_0 - 1) = 2(1-p_0).$$"
   ]
  },
  {
   "cell_type": "markdown",
   "id": "cc8308b6",
   "metadata": {},
   "source": [
    "## Cálculos a partir das purificações\n",
    "\n",
    "<img src='Tr_rho2_estimation_purification.png' width='350'>"
   ]
  },
  {
   "cell_type": "markdown",
   "id": "9b287bdb",
   "metadata": {},
   "source": [
    "Consideremos as decomposições espectrais\n",
    "\\begin{align}\n",
    "& \\rho_A = \\sum_j a_j|a_j\\rangle\\langle a_j|, \\\\\n",
    "& \\rho_B = \\sum_j b_j|b_j\\rangle\\langle b_j|,\n",
    "\\end{align}\n",
    "e suas purificações\n",
    "\\begin{align}\n",
    "& |\\psi\\rangle_{A'A} = \\sum_j \\sqrt{a_j}|\\alpha_j\\rangle_{A'}\\otimes|a_j\\rangle_A, \\\\\n",
    "& |\\phi\\rangle_{BB'} = \\sum_j \\sqrt{b_j}|b_j\\rangle_{B}\\otimes|\\beta_j\\rangle_{B'},\n",
    "\\end{align}\n",
    "com $\\{|\\alpha_j\\rangle\\}$ e $\\{|\\beta_j\\rangle\\}$ sendo bases ortonormais."
   ]
  },
  {
   "cell_type": "markdown",
   "id": "8b8054b6",
   "metadata": {},
   "source": [
    "Vamos para os cálculos. Estado inicial:\n",
    "$$|\\Psi_0\\rangle = |0\\rangle_a\\otimes|\\psi\\rangle_{A'A}\\otimes|\\phi\\rangle_{BB'}.$$\n",
    "Aplica a porta de Hadamard:\n",
    "\\begin{align}\n",
    "|\\Psi_1\\rangle & = |+\\rangle_a\\otimes|\\psi\\rangle_{A'A}\\otimes|\\phi\\rangle_{BB'} \\\\\n",
    "& = 2^{-1/2}(|0\\rangle_a + |1\\rangle_a)\\sum_j \\sqrt{a_j}|\\alpha_j\\rangle_{A'}\\otimes|a_j\\rangle_A\\sum_k \\sqrt{b_k}|b_k\\rangle_{B}\\otimes|\\beta_k\\rangle_{B'} \\\\\n",
    "& = 2^{-1/2}\\sum_{j,k} \\sqrt{a_j}\\sqrt{b_k}(|0\\rangle_a + |1\\rangle_a)|\\alpha_j\\rangle_{A'}\\otimes|a_j\\rangle_A\\otimes |b_k\\rangle_{B}\\otimes|\\beta_k\\rangle_{B'} \\\\\n",
    "& = 2^{-1/2}\\sum_{j,k} \\sqrt{a_j}\\sqrt{b_k}\\big(|0\\rangle_a|\\alpha_j\\rangle_{A'}|a_j\\rangle_A |b_k\\rangle_{B}|\\beta_k\\rangle_{B'} + |1\\rangle_a|\\alpha_j\\rangle_{A'}|a_j\\rangle_A |b_k\\rangle_{B}|\\beta_k\\rangle_{B'}\\big).\n",
    "\\end{align}"
   ]
  },
  {
   "cell_type": "markdown",
   "id": "85b9b61d",
   "metadata": {},
   "source": [
    "Aplica a SWAP controlada:\n",
    "\\begin{align}\n",
    "|\\Psi_2\\rangle & = C_S^{a\\rightarrow AB}|\\Psi_1\\rangle \\\\\n",
    "& = 2^{-1/2}\\sum_{j,k} \\sqrt{a_j}\\sqrt{b_k}\\big(|0\\rangle_a|\\alpha_j\\rangle_{A'}|a_j\\rangle_A |b_k\\rangle_{B}|\\beta_k\\rangle_{B'} + |1\\rangle_a|\\alpha_j\\rangle_{A'}(S|a_j\\rangle_A |b_k\\rangle_{B})|\\beta_k\\rangle_{B'}\\big) \\\\\n",
    "& = 2^{-1/2}\\sum_{j,k} \\sqrt{a_j}\\sqrt{b_k}\\big(|0\\rangle_a|\\alpha_j\\rangle_{A'}|a_j\\rangle_A |b_k\\rangle_{B}|\\beta_k\\rangle_{B'} + |1\\rangle_a|\\alpha_j\\rangle_{A'}(|b_k\\rangle_A |a_j\\rangle_{B})|\\beta_k\\rangle_{B'}\\big). \\\\\n",
    "\\end{align}\n",
    "Por fim, aplica a porta Hadamard em $a$ para obter:\n",
    "\\begin{align}\n",
    "|\\Psi_3\\rangle = 2^{-1/2}\\sum_{j,k} \\sqrt{a_j}\\sqrt{b_k}\\big(|+\\rangle_a|\\alpha_j\\rangle_{A'}|a_j\\rangle_A |b_k\\rangle_{B}|\\beta_k\\rangle_{B'} + |-\\rangle_a|\\alpha_j\\rangle_{A'}|b_k\\rangle_A |a_j\\rangle_{B}|\\beta_k\\rangle_{B'}\\big).\n",
    "\\end{align}"
   ]
  },
  {
   "cell_type": "markdown",
   "id": "f62b67a4",
   "metadata": {},
   "source": [
    "Por fim, tomamos o traço parcial\n",
    "\\begin{align}\n",
    "\\rho_3^a & = Tr_{A'ABB'}(|\\Psi_3\\rangle\\langle\\Psi_3) \\\\\n",
    "& = 2^{-1}Tr_{A'ABB'}\\Big(\\sum_{j,k} \\sqrt{a_j}\\sqrt{b_k}\\big(|+\\rangle_a|\\alpha_j\\rangle_{A'}|a_j\\rangle_A |b_k\\rangle_{B}|\\beta_k\\rangle_{B'} + |-\\rangle_a|\\alpha_j\\rangle_{A'}|b_k\\rangle_A |a_j\\rangle_{B}|\\beta_k\\rangle_{B'}\\big)\\Big)\\\\\n",
    "&\\times\\Big(\\sum_{l,m} \\sqrt{a_l}\\sqrt{b_m}\\big(\\langle +|_a\\langle\\alpha_l|_{A'}\\langle a_l|_A\\langle b_m|_{B}\\langle \\beta_m|_{B'} + \\langle -|_a\\langle \\alpha_l|_{A'}\\langle b_m|_A \\langle a_l|_{B}\\langle \\beta_m|_{B'}\\big)\\Big) \\\\\n",
    "& = 2^{-1}\\sum_{j,k,l,m} \\sqrt{a_j}\\sqrt{b_k}\\sqrt{a_l}\\sqrt{b_m}Tr_{A'ABB'}\\Big( |+\\rangle_a|\\alpha_j\\rangle_{A'}|a_j\\rangle_A |b_k\\rangle_{B}|\\beta_k\\rangle_{B'}\\langle +|_a\\langle\\alpha_l|_{A'}\\langle a_l|_A\\langle b_m|_{B}\\langle\\beta_m|_{B'} \\\\\n",
    "& + |-\\rangle_a|\\alpha_j\\rangle_{A'}|b_k\\rangle_A |a_j\\rangle_{B}|\\beta_k\\rangle_{B'}\\langle + |_a\\langle\\alpha_l|_{A'}\\langle a_l|_A\\langle b_m|_{B}\\langle\\beta_m|_{B'} \\\\\n",
    "& + |+\\rangle_a|\\alpha_j\\rangle_{A'}|a_j\\rangle_A |b_k\\rangle_{B}|\\beta_k\\rangle_{B'}\\langle -|_a\\langle \\alpha_l|_{A'}\\langle b_m|_A \\langle a_l|_{B}\\langle \\beta_m|_{B'} \\\\\n",
    "& + |-\\rangle_a|\\alpha_j\\rangle_{A'}|b_k\\rangle_A |a_j\\rangle_{B}|\\beta_k\\rangle_{B'}\\langle -|_a\\langle \\alpha_l|_{A'}\\langle b_m|_A \\langle a_l|_{B}\\langle \\beta_m|_{B'} \\Big) \\\\\n",
    "& = 2^{-1}\\sum_{j,k,l,m} \\sqrt{a_j}\\sqrt{b_k}\\sqrt{a_l}\\sqrt{b_m}\\Big( |+\\rangle\\langle +|_a\\langle\\alpha_l|\\alpha_j\\rangle_{A'}\\langle a_l|a_j\\rangle_A\\langle b_m|b_k\\rangle_{B}\\langle\\beta_m|\\beta_k\\rangle_{B'} + |-\\rangle\\langle + |_a\\langle\\alpha_l|\\alpha_j\\rangle_{A'}\\langle a_l|b_k\\rangle_A \\langle b_m|a_j\\rangle_{B}\\langle\\beta_m|\\beta_k\\rangle_{B'} \\\\\n",
    "& + |+\\rangle\\langle -|_a\\langle \\alpha_l|\\alpha_j\\rangle_{A'}\\langle b_m|a_j\\rangle_A \\langle a_l|b_k\\rangle_{B}\\langle \\beta_m|\\beta_k\\rangle_{B'} + |-\\rangle\\langle -|_a\\langle \\alpha_l|\\alpha_j\\rangle_{A'}\\langle b_m|b_k\\rangle_A \\langle a_l|a_j\\rangle_{B}\\langle \\beta_m|\\beta_k\\rangle_{B'} \\Big) \\\\\n",
    "& = 2^{-1}\\sum_{j,k,l,m} \\sqrt{a_j}\\sqrt{b_k}\\sqrt{a_l}\\sqrt{b_m}\\Big( |+\\rangle\\langle +|_a\\delta_{lj}\\delta_{lj}\\delta_{mk}\\delta_{mk} + |-\\rangle\\langle + |_a\\delta_{lj}\\langle a_l|b_k\\rangle_A \\langle b_m|a_j\\rangle_{B}\\delta_{mk} \\\\\n",
    "& + |+\\rangle\\langle -|_a \\delta_{lj}\\langle b_m|a_j\\rangle_A \\langle a_l|b_k\\rangle_{B}\\delta_{mk} + |-\\rangle\\langle -|_a \\delta_{lj}\\delta_{mk}\\delta_{lj}\\delta_{mk} \\Big) \\\\\n",
    "& = 2^{-1}\\sum_{j,k} \\sqrt{a_j}\\sqrt{b_k}\\sqrt{a_j}\\sqrt{b_k}\\Big( |+\\rangle\\langle +|_a + |-\\rangle\\langle + |_a\\langle a_j|b_k\\rangle_A \\langle b_k|a_j\\rangle_{B} + |+\\rangle\\langle -|_a \\langle b_k|a_j\\rangle_A \\langle a_j|b_k\\rangle_{B} + |-\\rangle\\langle -|_a\\ \\Big) \\\\\n",
    "& = 2^{-1}\\Big( |+\\rangle\\langle +|_a + |-\\rangle\\langle + |_a\\sum_{j} a_j\\langle a_j|\\sum_k b_k|b_k\\rangle_A \\langle b_k|a_j\\rangle_{B} + |+\\rangle\\langle -|_a \\sum_k b_k\\langle b_k|\\sum_j a_j |a_j\\rangle_A \\langle a_j|b_k\\rangle_{B} + |-\\rangle\\langle -|_a\\ \\Big) \\\\\n",
    "& = 2^{-1}\\big( |+\\rangle\\langle +|_a + Tr(\\rho_A \\rho_B)|-\\rangle\\langle + |_a + Tr(\\rho_A \\rho_B)|+\\rangle\\langle -|_a + |-\\rangle\\langle -|_a\\ \\big),\n",
    "\\end{align}"
   ]
  },
  {
   "cell_type": "markdown",
   "id": "0305fc62",
   "metadata": {},
   "source": [
    "em que usamos\n",
    "\\begin{align}\n",
    "Tr(\\rho_A\\rho_B) & = Tr\\Big(\\sum_j a_j|a_j\\rangle\\langle a_j|\\sum_k b_k|b_k\\rangle\\langle b_k|\\Big) \\\\\n",
    "& = Tr\\Big(\\sum_j a_j|a_j\\rangle\\langle a_j|\\rho_B\\Big) = Tr\\Big(\\rho_A\\sum_k b_k|b_k\\rangle\\langle b_k|\\Big) \\\\ \\\\\n",
    "& = \\sum_j a_jTr\\big(|a_j\\rangle\\langle a_j|\\rho_B\\big) = \\sum_k b_kTr\\big(\\rho_A|b_k\\rangle\\langle b_k|\\big) \\\\\n",
    "& = \\sum_j a_j\\langle a_j|\\rho_B|a_j\\rangle =  \\sum_k b_k\\langle b_k|\\rho_A|b_k\\rangle.\n",
    "\\end{align}"
   ]
  },
  {
   "cell_type": "markdown",
   "id": "8599c97a",
   "metadata": {},
   "source": [
    "## Sobre a complexidade computacional\n",
    "\n",
    "Dadas as preparações $\\rho_A$ e $\\rho_B$, se estes estados estão definidos em um espaço de Hilbert de dimensão $d$, consideremos o número inteiro maior ou igual a $d$ e que é uma potência de 2:\n",
    "$$d' = 2^n.$$\n",
    "Precisaremos portanto de\n",
    "$$n = \\log_2(d')$$\n",
    "qubits para codificar estes estados. Uma vez feito isso, precisaremos de __$n$ portas SWAP controladas__ atuando em um par de qubits. A princípio, esse número de portas básica escala bem com $d$."
   ]
  },
  {
   "cell_type": "code",
   "execution_count": 1,
   "id": "d77f8c32",
   "metadata": {},
   "outputs": [],
   "source": [
    "import numpy as np\n",
    "N = 10**7; d = np.arange(2,N+1,1); dl = np.zeros(len(d)); nv = np.zeros(len(d))\n",
    "n = 1\n",
    "for j in range(2,len(d)):\n",
    "    nv[j] = n\n",
    "    dl[j] = 2**n\n",
    "    if d[j] >= dl[j]:\n",
    "        n += 1"
   ]
  },
  {
   "cell_type": "code",
   "execution_count": 2,
   "id": "f3ac3e18",
   "metadata": {},
   "outputs": [
    {
     "data": {
      "image/png": "[encoded data removed]",
      "text/plain": [
       "<Figure size 640x480 with 1 Axes>"
      ]
     },
     "metadata": {},
     "output_type": "display_data"
    }
   ],
   "source": [
    "from matplotlib import pyplot as plt\n",
    "plt.plot(d,d, label=r'$d$')\n",
    "plt.plot(d,dl, label=r'$dl$')\n",
    "plt.xlabel(r'$d$'); plt.ylabel(r'$dl$'); plt.show()"
   ]
  },
  {
   "cell_type": "code",
   "execution_count": 3,
   "id": "8ce56c6b",
   "metadata": {},
   "outputs": [
    {
     "data": {
      "image/png": "[encoded data removed]",
      "text/plain": [
       "<Figure size 640x480 with 1 Axes>"
      ]
     },
     "metadata": {},
     "output_type": "display_data"
    }
   ],
   "source": [
    "plt.plot(d,nv, label=r'$n$')\n",
    "plt.xlabel(r'$d$'); plt.ylabel(r'$n$'); plt.show()"
   ]
  },
  {
   "cell_type": "markdown",
   "id": "e3a81306",
   "metadata": {},
   "source": [
    "### Referências\n",
    "\n",
    "- A. K. Ekert, C. M. Alves, D. K. L. Oi, M. Horodecki, P. Horodecki, and L. C. Kwek, “Direct Estimations of Linear and Nonlinear Functionals of a Quantum State,” Phys. Rev. Lett., vol. 88, no. 21, p. 217901, May 2002, doi: 10.1103/PhysRevLett.88.217901.\n"
   ]
  }
 ],
 "metadata": {
  "kernelspec": {
   "display_name": "Python 3 (ipykernel)",
   "language": "python",
   "name": "python3"
  },
  "language_info": {
   "codemirror_mode": {
    "name": "ipython",
    "version": 3
   },
   "file_extension": ".py",
   "mimetype": "text/x-python",
   "name": "python",
   "nbconvert_exporter": "python",
   "pygments_lexer": "ipython3",
   "version": "3.9.13"
  }
 },
 "nbformat": 4,
 "nbformat_minor": 5
}
