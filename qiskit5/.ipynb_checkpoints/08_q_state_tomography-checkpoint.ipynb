{
 "cells": [
  {
   "cell_type": "markdown",
   "id": "584e5ee3",
   "metadata": {},
   "source": [
    "### Notas de aula de Computação Quântica <br> Autor: Jonas Maziero"
   ]
  },
  {
   "cell_type": "markdown",
   "id": "21d5031c",
   "metadata": {},
   "source": [
    "# Tomografia de estados quânticos\n",
    "\n",
    "Um estado quântico é, de forma mais geral, representado por uma matriz densidade, que é uma matriz positiva-semidefinida ($\\rho\\ge 0$) com traço igual a um ($Tr(\\rho)=1$).\n",
    "\n",
    "As matrizes complexas e dimensão $d\\times d$ formam um espaço vetorial. Por conseguinte, qualquer matrix $A\\in\\mathbb{C}^{d\\times d}$ pode ser escrita em termos de uma base qualquer $\\{B_{j}\\in\\mathbb{C}^{d\\times d}\\}$, i.e.,\n",
    "$$A = \\sum_{j=1}^{d^2} c_j B_j.$$\n",
    "Se a base $\\{B_j\\}$ for ortonormal sob o produto interno de Hilbert-Schmidt, i.e.,\n",
    "$$\\langle B_j|B_k\\rangle = Tr(B_j^\\dagger B_k) = \\delta_{j,k},$$\n",
    "teremos que\n",
    "$$c_j = \\langle B_j|A\\rangle = Tr(B_j^\\dagger A).$$"
   ]
  },
  {
   "cell_type": "markdown",
   "id": "93f7d9df",
   "metadata": {},
   "source": [
    "Como o conjunto de matrizes densidade é um subconjunto de $\\mathbb{C}^{d\\times d}$, também podemos escrever qualquer $\\rho$ em termos da base $\\{B_j\\}$:\n",
    "$$\\rho = \\sum_{j=1}^{d^2} c_j B_j.$$\n",
    "\n",
    "Nesse caso, se escolhemos uma base constituída por operadores hermitianos, teremos que\n",
    "$$c_j = Tr(B_j^\\dagger \\rho) = Tr(B_j \\rho) = \\langle B_j\\rangle_\\rho,$$\n",
    "que são os valores médios do elementos da base $B_j$ para o sistema quântico preparado no estado $\\rho$, ou seja\n",
    "$$\\rho = \\sum_{j=1}^{d^2}\\langle B_j\\rangle_\\rho B_j.$$\n",
    "Então, se conseguimos preparar nosso sistema quântico de interesse muitas vezes no estado $\\rho$, podemos estimar esses valores médios e com isso estimar a matrix densidade $\\rho$.\n",
    "\n",
    "No entando, por causa do número limitado de medidas que podemos fazer experimentalmente para estimar esses valores médios, teremos uma incerteza estatística associada com o estado quântico estimado, que pode inclusive ter autovalores negativos. Métodos de __tomografia de estados quânticos__ são utilizados para lidar com essas questões. A seguir discutiremos alguns desses métodos."
   ]
  },
  {
   "cell_type": "markdown",
   "id": "56b6f25b",
   "metadata": {},
   "source": [
    "## Inversão linear"
   ]
  },
  {
   "cell_type": "markdown",
   "id": "b0b14ca0",
   "metadata": {},
   "source": [
    "### 1 qubit\n",
    "Podemos usar as matrizes de Pauli ($\\sigma_1=X=\\begin{bmatrix}0&1\\\\1&0\\end{bmatrix},\\ \\sigma_2=Y=\\begin{bmatrix}0&-i\\\\i&0\\end{bmatrix},\\ \\sigma_3=Z=\\begin{bmatrix}1&0\\\\0&-1\\end{bmatrix}$) e a matriz identidade ($\\sigma_0 = I=\\begin{bmatrix}1&0\\\\0&1\\end{bmatrix}$) para formar uma base para $\\mathbb{C}^{2\\times 2}$:\n",
    "$$\\{\\sigma_0/\\sqrt{2},\\sigma_1/\\sqrt{2},\\sigma_2/\\sqrt{2},\\sigma_3/\\sqrt{2}\\}.$$\n",
    "Qualquer matriz densidade de um qubit poder ser escrita como\n",
    "\\begin{align}\n",
    "\\rho & = \\sum_{j=0}^{2^2-1}\\langle(\\sigma_j/\\sqrt{2})\\rangle_\\rho (\\sigma_j/\\sqrt{2}) \\\\\n",
    "& = \\frac{1}{2}\\sum_{j=0}^{3}\\langle\\sigma_j\\rangle_\\rho \\sigma_j \\\\\n",
    "& = \\frac{1}{2}\\Big(\\sigma_0 + \\sum_{j=1}^{3}\\langle\\sigma_j\\rangle_\\rho \\sigma_j\\Big),\n",
    "\\end{align}\n",
    "em que usamos que $\\langle\\sigma_0\\rangle_\\rho = Tr(\\sigma_0\\rho) = Tr(\\rho)=1$."
   ]
  },
  {
   "cell_type": "markdown",
   "id": "0a1ee0ff",
   "metadata": {},
   "source": [
    "Os observáveis $X,Y,Z$ podem assumir os valores $-1,+1$:\n",
    "\\begin{align}\n",
    "& X = |+\\rangle\\langle +| - |-\\rangle\\langle -|\\ \\therefore\\ \\langle X\\rangle_\\rho = (+1)Pr(+|\\psi)+(-1)Pr(-|\\psi), \\\\\n",
    "& Y = |\\oplus\\rangle\\langle \\oplus| - |\\ominus\\rangle\\langle \\ominus|\\ \\therefore\\ \\langle Y\\rangle_\\rho = (+1)Pr(\\oplus|\\psi)+(-1)Pr(\\ominus|\\psi), \\\\\n",
    "& Z = |0\\rangle\\langle 0| - |1\\rangle\\langle 1|\\ \\therefore\\ \\langle Z\\rangle_\\rho = (+1)Pr(0|\\psi)+(-1)Pr(1|\\psi),\n",
    "\\end{align}\n",
    "com $|\\pm\\rangle = (|0\\rangle\\pm|1\\rangle)/\\sqrt{2}$, $|\\oplus\\rangle = (|0\\rangle+i|1\\rangle)/\\sqrt{2}$ e $|\\ominus\\rangle = (|0\\rangle-i|1\\rangle)/\\sqrt{2}$.\n",
    "\n",
    "Para medir esses observáveis notamos que se uma unitária $U$ conecta uma base quaquer $\\{|b_j\\rangle\\}$ com a base computacional $\\{|j\\rangle\\}$, i.e.,\n",
    "$$|b_j\\rangle=U|j\\rangle,$$\n",
    "então teremos\n",
    "$$Pr(b_j|\\psi) = |\\langle b_j|\\psi\\rangle|^2 = |\\langle j|U^\\dagger|\\psi\\rangle|^2 = |\\langle j|\\psi'\\rangle|^2=Pr(j|\\psi'),$$\n",
    "em que definimos a nova preparação\n",
    "$$|\\psi'\\rangle = U^\\dagger|\\psi\\rangle$$\n",
    "que será seguida de uma medida na base padrão. Com isso, obtermos a estatística para medidas na base geral  dada a preparação $|\\psi\\rangle$."
   ]
  },
  {
   "cell_type": "markdown",
   "id": "7eada4bb",
   "metadata": {},
   "source": [
    "A base de autoverores de $X$ é obtida da base de autovetores de $Z$ usando a porta de Hadamard:\n",
    "$$|+\\rangle = H|0\\rangle,\\ |-\\rangle=H|1\\rangle,$$\n",
    "com\n",
    "$$H = \\frac{1}{\\sqrt{2}}\\begin{bmatrix}1&1\\\\1&-1\\end{bmatrix} = H^\\dagger.$$\n",
    "Nesse caso \n",
    "$$|\\psi'\\rangle=H^\\dagger|\\psi\\rangle=H|\\psi\\rangle.$$\n",
    "\n",
    "A base de autoverores de $Y$ é obtida da base de autovetores de $Z$ usando a porta de Hadamard e a porta $S$:\n",
    "$$|\\oplus\\rangle = SH|0\\rangle,\\ |\\ominus\\rangle=SH|1\\rangle,$$\n",
    "com\n",
    "$$S = \\begin{bmatrix}1&0\\\\0&i\\end{bmatrix}\\ \\therefore\\ S^\\dagger = \\begin{bmatrix}1&0\\\\0&-i\\end{bmatrix}.$$\n",
    "Nesse caso\n",
    "$$|\\psi'\\rangle=(SH)^\\dagger|\\psi\\rangle=HS^\\dagger|\\psi\\rangle.$$"
   ]
  },
  {
   "cell_type": "code",
   "execution_count": 31,
   "id": "9e1ff5a4",
   "metadata": {},
   "outputs": [],
   "source": [
    "#!pip install pylatexenc # para desenhar os circuitos quânticos"
   ]
  },
  {
   "cell_type": "code",
   "execution_count": 6,
   "id": "6b1e5058",
   "metadata": {},
   "outputs": [
    {
     "data": {
      "image/png": "[encoded data removed]",
      "text/plain": [
       "<Figure size 269.064x200.667 with 1 Axes>"
      ]
     },
     "execution_count": 6,
     "metadata": {},
     "output_type": "execute_result"
    }
   ],
   "source": [
    "from qiskit import QuantumCircuit\n",
    "qc = QuantumCircuit(1,1)\n",
    "qc.barrier()\n",
    "qc.measure(0,0)\n",
    "qc.draw('mpl') # Para medidas de Z"
   ]
  },
  {
   "cell_type": "code",
   "execution_count": 7,
   "id": "8f2439d9",
   "metadata": {},
   "outputs": [
    {
     "data": {
      "image/png": "[encoded data removed]",
      "text/plain": [
       "<Figure size 352.675x200.667 with 1 Axes>"
      ]
     },
     "execution_count": 7,
     "metadata": {},
     "output_type": "execute_result"
    }
   ],
   "source": [
    "qc = QuantumCircuit(1,1)\n",
    "qc.barrier()\n",
    "qc.h(0)\n",
    "qc.measure(0,0)\n",
    "qc.draw('mpl') # Para medidas de X"
   ]
  },
  {
   "cell_type": "code",
   "execution_count": 8,
   "id": "a97d8984",
   "metadata": {},
   "outputs": [
    {
     "data": {
      "image/png": "[encoded data removed]",
      "text/plain": [
       "<Figure size 436.286x200.667 with 1 Axes>"
      ]
     },
     "execution_count": 8,
     "metadata": {},
     "output_type": "execute_result"
    }
   ],
   "source": [
    "qc = QuantumCircuit(1,1)\n",
    "qc.barrier()\n",
    "qc.sdg(0)\n",
    "qc.h(0)\n",
    "qc.measure(0,0)\n",
    "qc.draw('mpl') # Para medidas de Y"
   ]
  },
  {
   "cell_type": "markdown",
   "id": "9d816c5b",
   "metadata": {},
   "source": [
    "Executando esses circuitos quânticos, obteremos, em qualquer um dos casos, a frequência relativa (estimativa da probabilidade) dos estados $|0\\rangle$ e $|1\\rangle$. Ou seja, obteremos o seguinte vetor\n",
    "$$\\vec{f} = \\begin{bmatrix}f_0 \\\\ f_1\\end{bmatrix}.$$\n",
    "Em preparação para o que veremos a seguir, vamos usar a __matriz de Hadamard__ e sua inversa:\n",
    "$$H_2 = \\begin{bmatrix}1&1\\\\1&-1\\end{bmatrix}\\ \\therefore\\ H_2^{-1} = \\frac{1}{2}\\begin{bmatrix}1&1\\\\1&-1\\end{bmatrix}.$$\n",
    "É fácil verificar que\n",
    "$$\\vec{f} = \\frac{1}{2}H_2\\vec{\\alpha}\\ \\therefore\\ \\vec{\\alpha}=2(H_2)^{-1}\\vec{f},$$\n",
    "com \n",
    "$$\\vec{\\alpha} = \\begin{bmatrix}\\langle I\\rangle \\\\ \\langle X\\rangle\\end{bmatrix}.$$\n",
    "Explicitamente\n",
    "\\begin{align}\n",
    "\\begin{bmatrix}\\langle I\\rangle \\\\ \\langle X\\rangle\\end{bmatrix} & = 2\\frac{1}{2}\\begin{bmatrix}1&1\\\\1&-1\\end{bmatrix}\\begin{bmatrix}f_0 \\\\ f_1\\end{bmatrix} = \\begin{bmatrix}f_0+f_1 \\\\ f_0-f_1\\end{bmatrix} = \\begin{bmatrix}1 \\\\ f_0-f_1\\end{bmatrix}.\n",
    "\\end{align}\n",
    "Claro, do mesmo modo podemos obter $\\langle Y\\rangle$ e $\\langle Z\\rangle$.\n",
    "\n",
    "OBS. Esse formalismo só será útil de fato quando considerarmos sistemas com 2 ou mais qubits."
   ]
  },
  {
   "cell_type": "code",
   "execution_count": 9,
   "id": "b8ccf9cd",
   "metadata": {},
   "outputs": [
    {
     "data": {
      "text/latex": [
       "$\\displaystyle \\left[\\begin{matrix}1 & 1\\\\1 & -1\\end{matrix}\\right]$"
      ],
      "text/plain": [
       "Matrix([\n",
       "[1,  1],\n",
       "[1, -1]])"
      ]
     },
     "execution_count": 9,
     "metadata": {},
     "output_type": "execute_result"
    }
   ],
   "source": [
    "# Calculo da inversa da matrix de Hadamard\n",
    "from sympy import Matrix\n",
    "H2 = Matrix([[1,1],[1,-1]]); H2"
   ]
  },
  {
   "cell_type": "code",
   "execution_count": 10,
   "id": "5a713652",
   "metadata": {},
   "outputs": [
    {
     "data": {
      "text/latex": [
       "$\\displaystyle \\left[\\begin{matrix}\\frac{1}{2} & \\frac{1}{2}\\\\\\frac{1}{2} & - \\frac{1}{2}\\end{matrix}\\right]$"
      ],
      "text/plain": [
       "Matrix([\n",
       "[1/2,  1/2],\n",
       "[1/2, -1/2]])"
      ]
     },
     "execution_count": 10,
     "metadata": {},
     "output_type": "execute_result"
    }
   ],
   "source": [
    "H2.inv()"
   ]
  },
  {
   "cell_type": "markdown",
   "id": "eb3df328",
   "metadata": {},
   "source": [
    "#### Código para a tomografia IL"
   ]
  },
  {
   "cell_type": "code",
   "execution_count": 11,
   "id": "852dca0f",
   "metadata": {},
   "outputs": [],
   "source": [
    "def tomo_1qb(avgs):\n",
    "    import numpy as np\n",
    "    s0 = np.array([[1,0],[0,1]]); s1 = np.array([[0,1],[1,0]])\n",
    "    s2 = np.array([[0,-1j],[1j,0]]); s3 = np.array([[1,0],[0,-1]])\n",
    "    return 0.5*(s0 + avgs[1]*s1 + avgs[2]*s2 + avgs[3]*s3)"
   ]
  },
  {
   "cell_type": "code",
   "execution_count": 12,
   "id": "2717eb59",
   "metadata": {},
   "outputs": [
    {
     "data": {
      "text/plain": [
       "array([[0.75+0.j , 0.05+0.1j],\n",
       "       [0.05-0.1j, 0.25+0.j ]])"
      ]
     },
     "execution_count": 12,
     "metadata": {},
     "output_type": "execute_result"
    }
   ],
   "source": [
    "import numpy as np\n",
    "avgs = np.array([1,0.1,-0.2,0.5]); rho1qb = tomo_1qb(avgs); rho1qb"
   ]
  },
  {
   "cell_type": "code",
   "execution_count": 13,
   "id": "5744bf44",
   "metadata": {},
   "outputs": [],
   "source": [
    "def qc_test_1qb():\n",
    "    from qiskit import QuantumCircuit\n",
    "    qc = QuantumCircuit(1, name='qc')\n",
    "    qc.h(0)\n",
    "    return qc"
   ]
  },
  {
   "cell_type": "code",
   "execution_count": 14,
   "id": "d8015e43",
   "metadata": {},
   "outputs": [
    {
     "name": "stdout",
     "output_type": "stream",
     "text": [
      "counts_x= {'0': 8192}\n",
      "1.0\n",
      "counts_y= {'0': 4044, '1': 4148}\n",
      "-0.0126953125\n",
      "counts_z= {'1': 4130, '0': 4062}\n",
      "-0.00830078125\n"
     ]
    }
   ],
   "source": [
    "from qiskit import QuantumCircuit, execute\n",
    "from qiskit import Aer\n",
    "simulator = Aer.get_backend('qasm_simulator')\n",
    "nshots = 2**13\n",
    "\n",
    "qct = qc_test_1qb() # circuito quantico principal\n",
    "\n",
    "# medida de X\n",
    "qc = QuantumCircuit(1,1)\n",
    "qc.append(qct,[0])\n",
    "qc.h(0); qc.measure(0,0)\n",
    "qcx = qc\n",
    "job = execute(qc, backend = simulator, shots = nshots)\n",
    "counts_x = job.result().get_counts()\n",
    "print('counts_x=',counts_x)\n",
    "if '0' in counts_x:\n",
    "    Xavg = counts_x['0']\n",
    "if '1' in counts_x:\n",
    "    Xavg -= counts_x['1']\n",
    "Xavg = Xavg/nshots\n",
    "print(Xavg)\n",
    "\n",
    "# medida de Y\n",
    "qc = QuantumCircuit(1,1)\n",
    "qc.append(qct,[0])\n",
    "qc.sdg(0); qc.h(0); qc.measure(0,0)\n",
    "qcy = qc\n",
    "job = execute(qc, backend = simulator, shots = nshots)\n",
    "counts_y = job.result().get_counts()\n",
    "print('counts_y=',counts_y)\n",
    "if '0' in counts_y:\n",
    "    Yavg = counts_y['0']\n",
    "if '1' in counts_y:\n",
    "    Yavg -= counts_y['1']\n",
    "Yavg = Yavg/nshots\n",
    "print(Yavg)\n",
    "\n",
    "# medida de Z\n",
    "qc = QuantumCircuit(1,1)\n",
    "qc.append(qct,[0])\n",
    "qc.measure(0,0)\n",
    "qcz = qc\n",
    "job = execute(qc, backend = simulator, shots = nshots)\n",
    "counts_z = job.result().get_counts()\n",
    "print('counts_z=',counts_z)\n",
    "if '0' in counts_z:\n",
    "    Zavg = counts_z['0']\n",
    "if '1' in counts_y:\n",
    "    Zavg -= counts_z['1']\n",
    "Zavg = Zavg/nshots\n",
    "print(Zavg)"
   ]
  },
  {
   "cell_type": "code",
   "execution_count": 16,
   "id": "47613dc8",
   "metadata": {},
   "outputs": [
    {
     "data": {
      "image/png": "[encoded data removed]",
      "text/plain": [
       "<Figure size 436.286x200.667 with 1 Axes>"
      ]
     },
     "execution_count": 16,
     "metadata": {},
     "output_type": "execute_result"
    }
   ],
   "source": [
    "#qcx.draw('mpl') #ok\n",
    "qcy.draw('mpl')\n",
    "#qcz.draw('mpl')"
   ]
  },
  {
   "cell_type": "code",
   "execution_count": 17,
   "id": "8d402338",
   "metadata": {},
   "outputs": [
    {
     "data": {
      "text/plain": [
       "array([[0.49584961+0.j        , 0.5       +0.00634766j],\n",
       "       [0.5       -0.00634766j, 0.50415039+0.j        ]])"
      ]
     },
     "execution_count": 17,
     "metadata": {},
     "output_type": "execute_result"
    }
   ],
   "source": [
    "avgs = [1, Xavg, Yavg, Zavg]\n",
    "rho1qb = tomo_1qb(avgs)\n",
    "rho1qb"
   ]
  },
  {
   "cell_type": "code",
   "execution_count": 18,
   "id": "559470f2",
   "metadata": {},
   "outputs": [
    {
     "data": {
      "text/plain": [
       "array([-5.75151742e-05-1.29382872e-18j,  1.00005752e+00-4.40894759e-19j])"
      ]
     },
     "execution_count": 18,
     "metadata": {},
     "output_type": "execute_result"
    }
   ],
   "source": [
    "from numpy import linalg as LA\n",
    "evals, evecs = LA.eig(rho1qb)\n",
    "evals"
   ]
  },
  {
   "cell_type": "code",
   "execution_count": 19,
   "id": "57b3e67f",
   "metadata": {},
   "outputs": [
    {
     "data": {
      "text/plain": [
       "array([[ 0.71003515+0.j        ,  0.7041095 +0.00893889j],\n",
       "       [-0.7041095 +0.00893889j,  0.71003515+0.j        ]])"
      ]
     },
     "execution_count": 19,
     "metadata": {},
     "output_type": "execute_result"
    }
   ],
   "source": [
    "evecs"
   ]
  },
  {
   "cell_type": "markdown",
   "id": "b02437ca",
   "metadata": {},
   "source": [
    "### 2 qubits\n",
    "\n",
    "Podemos formar uma base de matrizes para $\\mathbb{C}^{4\\times 4} = \\mathbb{C}^{2\\times 2}\\otimes \\mathbb{C}^{2\\times 2}$ usando o produto tensorial das bases individuais\n",
    "$$\\{(\\sigma_j/\\sqrt{2})\\otimes(\\sigma_k/\\sqrt{2})\\}_{j,k=0}^3.$$\n",
    "Assim\n",
    "\\begin{align}\n",
    "\\rho & = \\sum_{j,k=0}^3\\langle (\\sigma_j/\\sqrt{2})\\otimes(\\sigma_k/\\sqrt{2})\\rangle_\\rho (\\sigma_j/\\sqrt{2})\\otimes(\\sigma_k/\\sqrt{2}) \\\\\n",
    "& = \\frac{1}{2^2}\\sum_{j,k=0}^3\\langle\\sigma_j\\otimes\\sigma_k\\rangle_\\rho \\sigma_j\\otimes\\sigma_k.\n",
    "\\end{align}\n",
    "Como $\\langle\\sigma_0\\otimes\\sigma_0\\rangle_\\rho=1$, a princípio precisaríamos medir \n",
    "$$4^n-1=4^2-1=15$$\n",
    "valores médios. No entando, veremos a seguir que isso pode ser feito usando as distribuições de probabilidade estimadas usando-se\n",
    "$$3^n = 3^2 = 9$$\n",
    "experimentos (executando $9$ circuitos quânticos no computador quântico)."
   ]
  },
  {
   "cell_type": "markdown",
   "id": "41807bbf",
   "metadata": {},
   "source": [
    "Nesse caso, por exemplo, se __medimos $XX=X\\otimes X$__, obteremos o seguinte vetor de frequências relativas\n",
    "$$\\vec{f} = \\begin{bmatrix} f_{00} & f_{01} & f_{10} & f_{11} \\end{bmatrix}^T.$$\n",
    "Pode-se escrever\n",
    "$$\\vec{f} = \\frac{1}{2^2}H_{2^2}\\vec{\\alpha}_{xx} \\ \\therefore\\ \\vec{\\alpha}_{xx} = 2^{2}H_{2^2}^{-1}\\vec{f},$$\n",
    "com \n",
    "$$\\vec{\\alpha}_{xx} = \\begin{bmatrix} \\langle II\\rangle & \\langle IX\\rangle & \\langle XI\\rangle & \\langle XX\\rangle \\end{bmatrix}^T$$\n",
    "e \n",
    "$$H_{2^2} = H_2\\otimes H_2.$$\n",
    "\n",
    "OBS. Acima e doravante usamos a notação $\\sigma_j\\otimes\\sigma_k=\\sigma_j\\sigma_k$. Por exemplo $I\\otimes X=IX$."
   ]
  },
  {
   "cell_type": "markdown",
   "id": "68bc165f",
   "metadata": {},
   "source": [
    "Explicitamente\n",
    "\\begin{align}\n",
    "\\begin{bmatrix} \\langle II\\rangle \\\\ \\langle IX\\rangle \\\\ \\langle XI\\rangle \\\\ \\langle XX\\rangle \\end{bmatrix} & = 4\\frac{1}{4}\\begin{bmatrix} 1 & 1 & 1 & 1 \\\\ 1 & -1 & 1 & -1 \\\\ 1 & 1 & -1 & -1 \\\\ 1 & -1 & -1 & 1 \\end{bmatrix}\\begin{bmatrix} f_{00} \\\\ f_{01} \\\\ f_{10} \\\\ f_{11} \\end{bmatrix} = \\begin{bmatrix} f_{00} + f_{01} + f_{10} + f_{11} \\\\ f_{00} - f_{01} + f_{10} - f_{11} \\\\ f_{00} + f_{01} - f_{10} - f_{11} \\\\ f_{00} - f_{01} - f_{10} + f_{11} \\end{bmatrix} \\\\\n",
    "& = \\begin{bmatrix} 1 \\\\ (f_{00} + f_{10}) - (f_{01} + f_{11}) \\\\ (f_{00} + f_{01}) - (f_{10} + f_{11}) \\\\ (f_{00} + f_{11}) - (f_{01} + f_{10}) \\end{bmatrix} = \\begin{bmatrix} 1 \\\\ f_{0}^b  - f_{1}^b \\\\ f_{0}^a - f_{1}^a \\\\ (f_{00} + f_{11}) - (f_{01} + f_{10}) \\end{bmatrix}.\n",
    "\\end{align}\n",
    "Acima $a$ e $b$ denotam os qubits."
   ]
  },
  {
   "cell_type": "markdown",
   "id": "048f6bc5",
   "metadata": {},
   "source": [
    "Do mesmo modo, podemos obter\n",
    "\\begin{align}\n",
    "& \\vec{\\alpha}_{xy} = \\begin{bmatrix} \\langle II\\rangle \\\\ \\langle IY\\rangle \\\\ \\langle XI\\rangle \\\\ \\langle XY\\rangle \\end{bmatrix},\\ \n",
    "\\vec{\\alpha}_{xz} = \\begin{bmatrix} \\langle II\\rangle \\\\ \\langle IZ\\rangle \\\\ \\langle XI\\rangle \\\\ \\langle XZ\\rangle \\end{bmatrix},\\ \n",
    "\\vec{\\alpha}_{yx} = \\begin{bmatrix} \\langle II\\rangle \\\\ \\langle IX\\rangle \\\\ \\langle YI\\rangle \\\\ \\langle YX\\rangle \\end{bmatrix},\\ \n",
    "\\vec{\\alpha}_{yy} = \\begin{bmatrix} \\langle II\\rangle \\\\ \\langle IY\\rangle \\\\ \\langle YI\\rangle \\\\ \\langle YY\\rangle \\end{bmatrix},\\\\ \n",
    "& \\vec{\\alpha}_{yz} = \\begin{bmatrix} \\langle II\\rangle \\\\ \\langle IZ\\rangle \\\\ \\langle YI\\rangle \\\\ \\langle YZ\\rangle \\end{bmatrix},\\ \n",
    "\\vec{\\alpha}_{zx} = \\begin{bmatrix} \\langle II\\rangle \\\\ \\langle IX\\rangle \\\\ \\langle ZI\\rangle \\\\ \\langle ZX\\rangle \\end{bmatrix},\\ \n",
    "\\vec{\\alpha}_{zy} = \\begin{bmatrix} \\langle II\\rangle \\\\ \\langle IY\\rangle \\\\ \\langle ZI\\rangle \\\\ \\langle ZY\\rangle \\end{bmatrix},\\ \n",
    "\\vec{\\alpha}_{zz} = \\begin{bmatrix} \\langle II\\rangle \\\\ \\langle IZ\\rangle \\\\ \\langle ZI\\rangle \\\\ \\langle ZZ\\rangle \\end{bmatrix}.\n",
    "\\end{align}\n",
    "Note que desta forma estimaremos o valor médio de observáveis locais (e.g. $\\langle IY\\rangle$) 3 vezes. Podemos usar a média desses três valores para diminuir o erro estatístico associado."
   ]
  },
  {
   "cell_type": "code",
   "execution_count": 20,
   "id": "34824347",
   "metadata": {},
   "outputs": [
    {
     "data": {
      "text/latex": [
       "$\\displaystyle \\left[\\begin{matrix}1 & 1 & 1 & 1\\\\1 & -1 & 1 & -1\\\\1 & 1 & -1 & -1\\\\1 & -1 & -1 & 1\\end{matrix}\\right]$"
      ],
      "text/plain": [
       "Matrix([\n",
       "[1,  1,  1,  1],\n",
       "[1, -1,  1, -1],\n",
       "[1,  1, -1, -1],\n",
       "[1, -1, -1,  1]])"
      ]
     },
     "execution_count": 20,
     "metadata": {},
     "output_type": "execute_result"
    }
   ],
   "source": [
    "from sympy.physics.quantum import TensorProduct as tp\n",
    "H4 = tp(H2,H2); H4"
   ]
  },
  {
   "cell_type": "code",
   "execution_count": 22,
   "id": "ebe48c7b",
   "metadata": {},
   "outputs": [
    {
     "data": {
      "text/latex": [
       "$\\displaystyle \\left[\\begin{matrix}\\frac{1}{4} & \\frac{1}{4} & \\frac{1}{4} & \\frac{1}{4}\\\\\\frac{1}{4} & - \\frac{1}{4} & \\frac{1}{4} & - \\frac{1}{4}\\\\\\frac{1}{4} & \\frac{1}{4} & - \\frac{1}{4} & - \\frac{1}{4}\\\\\\frac{1}{4} & - \\frac{1}{4} & - \\frac{1}{4} & \\frac{1}{4}\\end{matrix}\\right]$"
      ],
      "text/plain": [
       "Matrix([\n",
       "[1/4,  1/4,  1/4,  1/4],\n",
       "[1/4, -1/4,  1/4, -1/4],\n",
       "[1/4,  1/4, -1/4, -1/4],\n",
       "[1/4, -1/4, -1/4,  1/4]])"
      ]
     },
     "execution_count": 22,
     "metadata": {},
     "output_type": "execute_result"
    }
   ],
   "source": [
    "H4i = H4.inv(); H4i"
   ]
  },
  {
   "cell_type": "markdown",
   "id": "4e999d8c",
   "metadata": {},
   "source": [
    "#### Código para a tomografia por IL"
   ]
  },
  {
   "cell_type": "code",
   "execution_count": 24,
   "id": "30c6bc73",
   "metadata": {},
   "outputs": [],
   "source": [
    "def tomo_2qb(avgs):\n",
    "    # avgs e uma lista com 16 valores medios na seguinte ordem [II,IX,IY,IZ,XI,XX,XY,XZ,YI,YX,YY,YZ,ZI,ZX,ZY,ZZ]\n",
    "    import numpy as np\n",
    "    s0 = np.array([[1,0],[0,1]]); s1 = np.array([[0,1],[1,0]])\n",
    "    s2 = np.array([[0,-1j],[1j,0]]); s3 = np.array([[1,0],[0,-1]])\n",
    "    paulis = [s0,s1,s2,s3] # lista com as matrizes de Pauli\n",
    "    rho = np.zeros([4,4],dtype=complex)\n",
    "    l = 0\n",
    "    for j in range(0,3):\n",
    "        for k in range(0,3):\n",
    "            l += 1\n",
    "            rho += avgs[l]*tp(paulis[j],paulis[k])\n",
    "    return 0.25*rho       "
   ]
  },
  {
   "cell_type": "code",
   "execution_count": 25,
   "id": "40fe130a",
   "metadata": {},
   "outputs": [
    {
     "data": {
      "text/plain": [
       "array([[0.025+0.j   , 0.   +0.j   , 0.025+0.j   , 0.075-0.075j],\n",
       "       [0.   +0.j   , 0.025+0.j   , 0.075-0.075j, 0.025+0.j   ],\n",
       "       [0.025+0.j   , 0.075+0.075j, 0.025+0.j   , 0.   +0.j   ],\n",
       "       [0.075+0.075j, 0.025+0.j   , 0.   +0.j   , 0.025+0.j   ]])"
      ]
     },
     "execution_count": 25,
     "metadata": {},
     "output_type": "execute_result"
    }
   ],
   "source": [
    "avgs = [1,0.1,0,0,0.1,0.3,0,0,0.3,0,0.2,0,0,0.1,0,0.5] #[II,IX,IY,IZ,XI,XX,XY,XZ,YI,YX,YY,YZ,ZI,ZX,ZY,ZZ]\n",
    "rho = tomo_2qb(avgs); rho"
   ]
  },
  {
   "cell_type": "code",
   "execution_count": 26,
   "id": "2259bdf5",
   "metadata": {},
   "outputs": [
    {
     "data": {
      "text/plain": [
       "array([[ 1,  1,  1,  1],\n",
       "       [ 1, -1,  1, -1],\n",
       "       [ 1,  1, -1, -1],\n",
       "       [ 1, -1, -1,  1]])"
      ]
     },
     "execution_count": 26,
     "metadata": {},
     "output_type": "execute_result"
    }
   ],
   "source": [
    "# Inversa da matriz de Hadamard 4x4 (sem o multiplo 1/4)\n",
    "H4i = np.array([[1,1,1,1],[1,-1,1,-1],[1,1,-1,-1],[1,-1,-1,1]]); H4i"
   ]
  },
  {
   "cell_type": "code",
   "execution_count": 33,
   "id": "cea77b26",
   "metadata": {},
   "outputs": [],
   "source": [
    "def qc_test_2qb():\n",
    "    from qiskit import QuantumCircuit\n",
    "    qc = QuantumCircuit(2, name='qc2qb')\n",
    "    qc.h(0); qc.cx(0,1)\n",
    "    return qc"
   ]
  },
  {
   "cell_type": "code",
   "execution_count": 34,
   "id": "1622dfae",
   "metadata": {},
   "outputs": [],
   "source": [
    "def tomo_2qb(avgs):\n",
    "    # avgs e uma lista com 64 valores medios na seguinte ordem [III,IIX,IIY,IIZ,IXI,IXX,IXY,IXZ,...]\n",
    "    import numpy as np\n",
    "    s0 = np.array([[1,0],[0,1]]); s1 = np.array([[0,1],[1,0]])\n",
    "    s2 = np.array([[0,-1j],[1j,0]]); s3 = np.array([[1,0],[0,-1]])\n",
    "    paulis = [s0,s1,s2,s3]\n",
    "    rho = np.zeros([4,4],dtype=complex)\n",
    "    m = 0\n",
    "    for j in range(0,4):\n",
    "        for k in range(0,4):\n",
    "            for l in range(0,4):\n",
    "                rho += avgs[m]*np.kron(np.kron(paulis[j],paulis[k]),paulis[l])\n",
    "                m += 1\n",
    "    return 0.25*rho"
   ]
  },
  {
   "cell_type": "code",
   "execution_count": 44,
   "id": "cdbd0a12",
   "metadata": {},
   "outputs": [
    {
     "name": "stdout",
     "output_type": "stream",
     "text": [
      "counts_xx= {'11': 4066, '00': 4126} [0.50366211 0.         0.         0.49633789]\n",
      "XX_vec= [1.         0.00732422 0.00732422 1.        ]\n"
     ]
    }
   ],
   "source": [
    "from qiskit import QuantumCircuit, execute\n",
    "from qiskit import Aer\n",
    "simulator = Aer.get_backend('qasm_simulator')\n",
    "nshots = 2**13\n",
    "\n",
    "qct = qc_test_2qb() # circuito quantico principal\n",
    "\n",
    "\n",
    "# medida de XX\n",
    "qc = QuantumCircuit(2,2); qc.append(qct,[0,1]); qc.h([0,1]); qc.measure([0,1],[0,1]); qcxx = qc\n",
    "job = execute(qc, backend = simulator, shots = nshots); counts_xx = job.result().get_counts()\n",
    "pr_xx = np.zeros(4); cb2_labels = ['00','10','01','11']\n",
    "for j in range(0,4):\n",
    "    if cb2_labels[j] in counts_xx:\n",
    "        pr_xx[j] = counts_xx[cb2_labels[j]]/nshots\n",
    "print('counts_xx=',counts_xx, pr_xx)   \n",
    "XX_vec = np.matmul(H4i,pr_xx); print('XX_vec=',XX_vec) # =[II,IX,XI,XX]"
   ]
  },
  {
   "cell_type": "code",
   "execution_count": 39,
   "id": "e9d6657d",
   "metadata": {},
   "outputs": [
    {
     "data": {
      "image/png": "[encoded data removed]",
      "text/plain": [
       "<Figure size 538.128x284.278 with 1 Axes>"
      ]
     },
     "execution_count": 39,
     "metadata": {},
     "output_type": "execute_result"
    }
   ],
   "source": [
    "qcxx.draw('mpl')"
   ]
  },
  {
   "cell_type": "code",
   "execution_count": null,
   "id": "fdb380f3",
   "metadata": {},
   "outputs": [],
   "source": [
    "ss_vecs = [] # list with the averages of the observables\n",
    "obs = ['x','y','z']\n",
    "for j in range(0,3):\n",
    "    lo = obs[j] # left observable\n",
    "    for k in range(0,3):\n",
    "        ro = obs[k] # right observable\n",
    "        qc = QuantumCircuit(2,2)\n",
    "        qc.append(qct,[0,1]) # the quantum circuit for preparing psi\n",
    "        if lo == 'x' and ro = 'x':\n",
    "            qc.h([0,1])\n",
    "        elif lo == 'x' and ro = 'y':\n",
    "            qc.sdg(1); qc.h([0,1])\n",
    "        elif lo == 'y' and ro = 'x':\n",
    "            qc.sdg(0); qc.h([0,1])\n",
    "        elif lo == 'y' and ro = 'y':\n",
    "            qc.sdg([0,1]); qc.h([0,1])        \n",
    "        qc.measure([0,1],[0,1])\n",
    "        job = execute(qc, backend = simulator, shots = nshots)\n",
    "        counts = job.result().get_counts()\n",
    "        pr = np.zeros(4); cb2_labels = ['00','10','01','11']\n",
    "        for j in range(0,4):\n",
    "            if cb2_labels[j] in counts_xx:\n",
    "                pr_xx[j] = counts_xx[cb2_labels[j]]/nshots\n",
    "        ss_vec = np.matmul(H4i,pr)\n",
    "        ss_vecs.append(ss_vec)"
   ]
  },
  {
   "cell_type": "code",
   "execution_count": null,
   "id": "2527213a",
   "metadata": {},
   "outputs": [],
   "source": []
  },
  {
   "cell_type": "code",
   "execution_count": null,
   "id": "1359478b",
   "metadata": {},
   "outputs": [],
   "source": []
  },
  {
   "cell_type": "code",
   "execution_count": null,
   "id": "30cab1e6",
   "metadata": {},
   "outputs": [],
   "source": []
  },
  {
   "cell_type": "code",
   "execution_count": null,
   "id": "9b61759c",
   "metadata": {},
   "outputs": [],
   "source": []
  },
  {
   "cell_type": "markdown",
   "id": "052bd1b0",
   "metadata": {},
   "source": [
    "### 3 qubits\n",
    "\n",
    "Nesse caso temos que\n",
    "$$\\rho = \\frac{1}{2^3}\\sum_{j_1,j_2,j_3=0}^{3}\\langle\\sigma_{j_1}\\sigma_{j_2}\\sigma_{j_3}\\rangle_\\rho \\sigma_{j_1}\\sigma_{j_2}\\sigma_{j_3},$$\n",
    "em que usamos a notação\n",
    "$$\\sigma_{j_1}\\sigma_{j_2}\\sigma_{j_3} = \\sigma_{j_1}\\otimes\\sigma_{j_2}\\otimes\\sigma_{j_3}.$$\n",
    "Os \n",
    "$$4^3-1=63$$\n",
    "valores médios que precisamos calcular nesse caso podem ser obtidos através de \n",
    "$$3^3= 27$$\n",
    "experimentos, pois mediremos\n",
    "$$\\sigma_{j_1}\\sigma_{j_2}\\sigma_{j_3}$$\n",
    "para $j_1\\ne 0,\\ j_2\\ne 0,\\ j_3\\ne 0.$"
   ]
  },
  {
   "cell_type": "markdown",
   "id": "5ee04ef2",
   "metadata": {},
   "source": [
    "Aqui também podemos escrever\n",
    "$$\\vec{f} = \\frac{1}{2^3}H_{2^3}\\vec{\\alpha}_{j_1 j_2 j_3} \\ \\therefore\\ \\vec{\\alpha}_{j_1 j_2 j_3} = 2^{3}H_{2^3}^{-1}\\vec{f},$$\n",
    "com $j_1\\ne0,\\ j_2\\ne0,\\ j_3\\ne0$ indicando os observáveis locais que serão medidos.\n",
    "\n",
    "Abaixo usamos o Sympy para verificar que de fato obtemos os valores médios conforme esperado."
   ]
  },
  {
   "cell_type": "code",
   "execution_count": 32,
   "id": "60f9dea6",
   "metadata": {},
   "outputs": [
    {
     "data": {
      "text/latex": [
       "$\\displaystyle \\left[\\begin{matrix}1 & 1 & 1 & 1 & 1 & 1 & 1 & 1\\\\1 & -1 & 1 & -1 & 1 & -1 & 1 & -1\\\\1 & 1 & -1 & -1 & 1 & 1 & -1 & -1\\\\1 & -1 & -1 & 1 & 1 & -1 & -1 & 1\\\\1 & 1 & 1 & 1 & -1 & -1 & -1 & -1\\\\1 & -1 & 1 & -1 & -1 & 1 & -1 & 1\\\\1 & 1 & -1 & -1 & -1 & -1 & 1 & 1\\\\1 & -1 & -1 & 1 & -1 & 1 & 1 & -1\\end{matrix}\\right]$"
      ],
      "text/plain": [
       "Matrix([\n",
       "[1,  1,  1,  1,  1,  1,  1,  1],\n",
       "[1, -1,  1, -1,  1, -1,  1, -1],\n",
       "[1,  1, -1, -1,  1,  1, -1, -1],\n",
       "[1, -1, -1,  1,  1, -1, -1,  1],\n",
       "[1,  1,  1,  1, -1, -1, -1, -1],\n",
       "[1, -1,  1, -1, -1,  1, -1,  1],\n",
       "[1,  1, -1, -1, -1, -1,  1,  1],\n",
       "[1, -1, -1,  1, -1,  1,  1, -1]])"
      ]
     },
     "execution_count": 32,
     "metadata": {},
     "output_type": "execute_result"
    }
   ],
   "source": [
    "# matriz de Hadamard\n",
    "H8 = tp(H2,H4); H8"
   ]
  },
  {
   "cell_type": "code",
   "execution_count": 35,
   "id": "3bc27d71",
   "metadata": {},
   "outputs": [
    {
     "data": {
      "text/latex": [
       "$\\displaystyle \\left[\\begin{matrix}\\frac{1}{8} & \\frac{1}{8} & \\frac{1}{8} & \\frac{1}{8} & \\frac{1}{8} & \\frac{1}{8} & \\frac{1}{8} & \\frac{1}{8}\\\\\\frac{1}{8} & - \\frac{1}{8} & \\frac{1}{8} & - \\frac{1}{8} & \\frac{1}{8} & - \\frac{1}{8} & \\frac{1}{8} & - \\frac{1}{8}\\\\\\frac{1}{8} & \\frac{1}{8} & - \\frac{1}{8} & - \\frac{1}{8} & \\frac{1}{8} & \\frac{1}{8} & - \\frac{1}{8} & - \\frac{1}{8}\\\\\\frac{1}{8} & - \\frac{1}{8} & - \\frac{1}{8} & \\frac{1}{8} & \\frac{1}{8} & - \\frac{1}{8} & - \\frac{1}{8} & \\frac{1}{8}\\\\\\frac{1}{8} & \\frac{1}{8} & \\frac{1}{8} & \\frac{1}{8} & - \\frac{1}{8} & - \\frac{1}{8} & - \\frac{1}{8} & - \\frac{1}{8}\\\\\\frac{1}{8} & - \\frac{1}{8} & \\frac{1}{8} & - \\frac{1}{8} & - \\frac{1}{8} & \\frac{1}{8} & - \\frac{1}{8} & \\frac{1}{8}\\\\\\frac{1}{8} & \\frac{1}{8} & - \\frac{1}{8} & - \\frac{1}{8} & - \\frac{1}{8} & - \\frac{1}{8} & \\frac{1}{8} & \\frac{1}{8}\\\\\\frac{1}{8} & - \\frac{1}{8} & - \\frac{1}{8} & \\frac{1}{8} & - \\frac{1}{8} & \\frac{1}{8} & \\frac{1}{8} & - \\frac{1}{8}\\end{matrix}\\right]$"
      ],
      "text/plain": [
       "Matrix([\n",
       "[1/8,  1/8,  1/8,  1/8,  1/8,  1/8,  1/8,  1/8],\n",
       "[1/8, -1/8,  1/8, -1/8,  1/8, -1/8,  1/8, -1/8],\n",
       "[1/8,  1/8, -1/8, -1/8,  1/8,  1/8, -1/8, -1/8],\n",
       "[1/8, -1/8, -1/8,  1/8,  1/8, -1/8, -1/8,  1/8],\n",
       "[1/8,  1/8,  1/8,  1/8, -1/8, -1/8, -1/8, -1/8],\n",
       "[1/8, -1/8,  1/8, -1/8, -1/8,  1/8, -1/8,  1/8],\n",
       "[1/8,  1/8, -1/8, -1/8, -1/8, -1/8,  1/8,  1/8],\n",
       "[1/8, -1/8, -1/8,  1/8, -1/8,  1/8,  1/8, -1/8]])"
      ]
     },
     "execution_count": 35,
     "metadata": {},
     "output_type": "execute_result"
    }
   ],
   "source": [
    "H8i = H8.inv(); H8i"
   ]
  },
  {
   "cell_type": "code",
   "execution_count": 43,
   "id": "f9c24d4b",
   "metadata": {},
   "outputs": [
    {
     "data": {
      "text/latex": [
       "$\\displaystyle \\left[\\begin{matrix}f_{000} & f_{001} & f_{010} & f_{011} & f_{100} & f_{101} & f_{110} & f_{111}\\end{matrix}\\right]$"
      ],
      "text/plain": [
       "Matrix([[f_{000}, f_{001}, f_{010}, f_{011}, f_{100}, f_{101}, f_{110}, f_{111}]])"
      ]
     },
     "execution_count": 43,
     "metadata": {},
     "output_type": "execute_result"
    }
   ],
   "source": [
    "from sympy import symbols\n",
    "f000,f001,f010,f011,f100,f101,f110,f111 = symbols('f_{000},f_{001},f_{010},f_{011},f_{100},f_{101},f_{110},f_{111}')\n",
    "f = Matrix([[f000],[f001],[f010],[f011],[f100],[f101],[f110],[f111]])\n",
    "f.T"
   ]
  },
  {
   "cell_type": "code",
   "execution_count": 44,
   "id": "3389deff",
   "metadata": {},
   "outputs": [
    {
     "data": {
      "text/latex": [
       "$\\displaystyle \\left[\\begin{matrix}f_{000} + f_{001} + f_{010} + f_{011} + f_{100} + f_{101} + f_{110} + f_{111}\\\\f_{000} - f_{001} + f_{010} - f_{011} + f_{100} - f_{101} + f_{110} - f_{111}\\\\f_{000} + f_{001} - f_{010} - f_{011} + f_{100} + f_{101} - f_{110} - f_{111}\\\\f_{000} - f_{001} - f_{010} + f_{011} + f_{100} - f_{101} - f_{110} + f_{111}\\\\f_{000} + f_{001} + f_{010} + f_{011} - f_{100} - f_{101} - f_{110} - f_{111}\\\\f_{000} - f_{001} + f_{010} - f_{011} - f_{100} + f_{101} - f_{110} + f_{111}\\\\f_{000} + f_{001} - f_{010} - f_{011} - f_{100} - f_{101} + f_{110} + f_{111}\\\\f_{000} - f_{001} - f_{010} + f_{011} - f_{100} + f_{101} + f_{110} - f_{111}\\end{matrix}\\right]$"
      ],
      "text/plain": [
       "Matrix([\n",
       "[f_{000} + f_{001} + f_{010} + f_{011} + f_{100} + f_{101} + f_{110} + f_{111}],\n",
       "[f_{000} - f_{001} + f_{010} - f_{011} + f_{100} - f_{101} + f_{110} - f_{111}],\n",
       "[f_{000} + f_{001} - f_{010} - f_{011} + f_{100} + f_{101} - f_{110} - f_{111}],\n",
       "[f_{000} - f_{001} - f_{010} + f_{011} + f_{100} - f_{101} - f_{110} + f_{111}],\n",
       "[f_{000} + f_{001} + f_{010} + f_{011} - f_{100} - f_{101} - f_{110} - f_{111}],\n",
       "[f_{000} - f_{001} + f_{010} - f_{011} - f_{100} + f_{101} - f_{110} + f_{111}],\n",
       "[f_{000} + f_{001} - f_{010} - f_{011} - f_{100} - f_{101} + f_{110} + f_{111}],\n",
       "[f_{000} - f_{001} - f_{010} + f_{011} - f_{100} + f_{101} + f_{110} - f_{111}]])"
      ]
     },
     "execution_count": 44,
     "metadata": {},
     "output_type": "execute_result"
    }
   ],
   "source": [
    "al = 8*H8i*f; al"
   ]
  },
  {
   "cell_type": "markdown",
   "id": "486198c2",
   "metadata": {},
   "source": [
    "Nesse caso obteremos\n",
    "\\begin{align}\n",
    "& \\begin{bmatrix} \\alpha_{000} \\\\ \\alpha_{001} \\\\ \\alpha_{010} \\\\ \\alpha_{011} \\\\ \\alpha_{100} \\\\  \\alpha_{101} \\\\ \\alpha_{110} \\\\ \\alpha_{111} \\end{bmatrix}\n",
    "= \\begin{bmatrix} \\langle III\\rangle \\\\ \\langle IIX\\rangle \\\\ \\langle IXI\\rangle \\\\ \\langle IXX\\rangle \\\\ \\langle XII\\rangle \\\\  \\langle XIX\\rangle \\\\ \\langle XXI\\rangle \\\\ \\langle XXX\\rangle \\end{bmatrix}\n",
    "= 8\\frac{1}{8}\\begin{bmatrix} 1&1&1&1&1&1&1&1 \\\\ 1&-1&1&-1&1&-1&1&-1 \\\\ 1&1&-1&-1&1&1&-1&-1 \\\\ 1&-1&-1&1&1&-1&-1&1 \\\\ 1&1&1&1&-1&-1&-1&-1 \\\\ 1&-1&1&-1&-1&1&-1&1 \\\\ 1&1&-1&-1&-1&-1&1&1 \\\\ 1&-1&-1&1&-1&1&1&-1 \\end{bmatrix}\\begin{bmatrix} f_{000} \\\\ f_{001} \\\\ f_{010} \\\\ f_{011} \\\\ f_{100} \\\\ f_{101} \\\\ f_{110} \\\\ f_{111} \\end{bmatrix} \\\\\n",
    "& = \\begin{bmatrix} f_{000}+f_{010}+f_{100}+f_{110} + f_{001}+f_{011}+f_{101}+f_{111} \\\\ (f_{000}+f_{010}+f_{100}+f_{110}) - (f_{001}+f_{011}+f_{101}+f_{111}) \\\\ (f_{000}+f_{001}+f_{100}+f_{101}) - (f_{010}+f_{011}+f_{110}+f_{111}) \\\\ (f_{000}+f_{100})-(f_{001}+f_{101}) - (f_{010}+f_{110})+(f_{011}+f_{111}) \\\\ (f_{000}+f_{001}+f_{010}+f_{011}) - (f_{100}+f_{101}+f_{110}+f_{111}) \\\\  (f_{000}+f_{010})-(f_{001}+f_{011})-(f_{100}+f_{110})+(f_{101}+f_{111}) \\\\ (f_{000}+f_{001})-(f_{010}+f_{011})-(f_{100}+f_{101})+(f_{110}+f_{111}) \\\\ f_{000}-f_{001})-f_{010}+f_{011}-f_{100}+f_{101})+f_{110}-f_{111} \\end{bmatrix} \\\\\n",
    "& = \\begin{bmatrix} 1 \\\\ f_{0}^c - f_{1}^c \\\\ f_{0}^b - f_{1}^b \\\\ f_{00}^{bc} - f_{01}^{bc} - f_{10}^{bc} + f_{11}^{bc} \\\\  f_{0}^a - f_{1}^a \\\\  f_{00}^{ac} - f_{01}^{ac} - f_{10}^{ac} + f_{11}^{ac} \\\\ f_{00}^{ab} - f_{01}^{ab} - f_{10}^{ab} + f_{11}^{ab} \\\\ f_{000}-f_{001}-f_{010}+f_{011}-f_{100}+f_{101}+f_{110}-f_{111} \\end{bmatrix},\n",
    "\\end{align}\n",
    "como esperado."
   ]
  },
  {
   "cell_type": "markdown",
   "id": "35eff947",
   "metadata": {},
   "source": [
    "#### Código para a tomografia por IL"
   ]
  },
  {
   "cell_type": "code",
   "execution_count": 69,
   "id": "8b851b6c",
   "metadata": {},
   "outputs": [],
   "source": [
    "import numpy as np\n",
    "s0 = np.array([[1,0],[0,1]]); s1 = np.array([[0,1],[1,0]]); s2 = np.array([[0,-1j],[1j,0]]); s3 = np.array([[1,0],[0,-1]])\n",
    "paulis = [s0,s1,s2,s3] # lista com as matrizes de Pauli\n",
    "list_avgs = []\n",
    "m = 0\n",
    "for j in range(0,4):\n",
    "        for k in range(0,4):\n",
    "            for l in range(0,4):\n",
    "                list_avgs.append((j,k,l))\n",
    "                m += 1"
   ]
  },
  {
   "cell_type": "code",
   "execution_count": 68,
   "id": "3dcd23e2",
   "metadata": {},
   "outputs": [],
   "source": [
    " "
   ]
  },
  {
   "cell_type": "code",
   "execution_count": null,
   "id": "368b60fe",
   "metadata": {},
   "outputs": [],
   "source": []
  },
  {
   "cell_type": "code",
   "execution_count": null,
   "id": "c42800bb",
   "metadata": {},
   "outputs": [],
   "source": []
  },
  {
   "cell_type": "code",
   "execution_count": null,
   "id": "3350c210",
   "metadata": {},
   "outputs": [],
   "source": []
  },
  {
   "cell_type": "code",
   "execution_count": null,
   "id": "ba7070cb",
   "metadata": {},
   "outputs": [],
   "source": []
  },
  {
   "cell_type": "markdown",
   "id": "641efea1",
   "metadata": {},
   "source": [
    "### $n$ qubits\n",
    "\n",
    "No caso geral temos que\n",
    "$$\\rho = \\frac{1}{2^3}\\sum_{j_1,J_2,\\cdots,j_n=0}^{3}\\langle\\sigma_{j_1}\\sigma_{j_2}\\cdots\\sigma_{j_n}\\rangle_\\rho \\sigma_{j_1}\\sigma_{j_2}\\cdots\\sigma_{j_n},$$\n",
    "em que usamos a notação\n",
    "$$\\sigma_{j_1}\\sigma_{j_2}\\cdots\\sigma_{j_n} = \\sigma_{j_1}\\otimes\\sigma_{j_2}\\otimes\\cdots\\otimes\\sigma_{j_n}.$$\n",
    "Os \n",
    "$$4^n-1$$\n",
    "valores médios que precisamos calcular para reconstruir esse estado podem ser obtidos através de \n",
    "$$3^n$$\n",
    "experimentos, pois mediremos\n",
    "$$\\sigma_{j_1}\\sigma_{j_2}\\cdots\\sigma_{j_n}$$\n",
    "para $j_1\\ne 0,\\ j_2\\ne 0,\\cdots, j_n\\ne 0.$"
   ]
  },
  {
   "cell_type": "markdown",
   "id": "ed3ce825",
   "metadata": {},
   "source": [
    "Neste caso geral, teremos que\n",
    "\\begin{align}\n",
    "& \\vec{f} = \\frac{1}{2^n}H_{2^n}\\vec{\\alpha}_{j_1 j_2 \\cdots j_n} \\\\\n",
    "& \\therefore\\ \\vec{\\alpha}_{j_1 j_2 \\cdots j_n} = 2^{n}H_{2^n}^{-1}\\vec{f},\n",
    "\\end{align}\n",
    "com $j_1\\ne0,\\ j_2\\ne0,\\ \\cdots,\\ j_n\\ne0$ indicando os observáveis locais que serão medidos."
   ]
  },
  {
   "cell_type": "code",
   "execution_count": null,
   "id": "36e9552f",
   "metadata": {},
   "outputs": [],
   "source": []
  },
  {
   "cell_type": "code",
   "execution_count": null,
   "id": "25fb8d7c",
   "metadata": {},
   "outputs": [],
   "source": []
  },
  {
   "cell_type": "markdown",
   "id": "37f0e90f",
   "metadata": {},
   "source": [
    "## Estimativa de Máxima Verossimilhança (maximum likelihood)"
   ]
  },
  {
   "cell_type": "code",
   "execution_count": null,
   "id": "a6b9a3a1",
   "metadata": {},
   "outputs": [],
   "source": []
  },
  {
   "cell_type": "markdown",
   "id": "0b0b0400",
   "metadata": {},
   "source": [
    "## Inferência Bayesiana"
   ]
  },
  {
   "cell_type": "code",
   "execution_count": null,
   "id": "90253978",
   "metadata": {},
   "outputs": [],
   "source": []
  },
  {
   "cell_type": "code",
   "execution_count": null,
   "id": "548b70c2",
   "metadata": {},
   "outputs": [],
   "source": []
  },
  {
   "cell_type": "markdown",
   "id": "9fb550b6",
   "metadata": {},
   "source": [
    "## Referências\n",
    "\n",
    "1. Casper Wied, Quantum State Tomography: A Comparison Between Linear Inversion, Maximum Likelihood Estimation and Bayesian Inference, Bachelor Thesis, University of Copenhagem."
   ]
  },
  {
   "cell_type": "code",
   "execution_count": null,
   "id": "b1797e40",
   "metadata": {},
   "outputs": [],
   "source": []
  }
 ],
 "metadata": {
  "kernelspec": {
   "display_name": "Python 3 (ipykernel)",
   "language": "python",
   "name": "python3"
  },
  "language_info": {
   "codemirror_mode": {
    "name": "ipython",
    "version": 3
   },
   "file_extension": ".py",
   "mimetype": "text/x-python",
   "name": "python",
   "nbconvert_exporter": "python",
   "pygments_lexer": "ipython3",
   "version": "3.11.1"
  }
 },
 "nbformat": 4,
 "nbformat_minor": 5
}
