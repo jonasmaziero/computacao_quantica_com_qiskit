{
 "cells": [
  {
   "cell_type": "markdown",
   "id": "2a2146fd-9f15-48b6-8b4a-ccf9772c4dfc",
   "metadata": {},
   "source": [
    "### Notas de aula de Computação Quântica <br> Autor: Jonas Maziero"
   ]
  },
  {
   "cell_type": "markdown",
   "id": "feb80f77-ec63-4063-afb5-e12e630e4fcc",
   "metadata": {},
   "source": [
    "# Qiskit Runtime\n",
    "\n",
    "https://youtube.com/playlist?list=PLOFEBzvs-VvqAC8DnVoLOzg2bKE4C7ARM&si=87UI7aWtFdk3f4y0\n",
    "\n",
    "https://docs.quantum.ibm.com/api/qiskit-ibm-runtime\n",
    "\n",
    "Permite\n",
    "- Uso eficiente de filas e redução de latência de hardware;\n",
    "- Várias possibilidades para supressão e mitigação de erros;\n",
    "- Um serviço controlado pela IBM atualizado com melhorias de performance.\n",
    "\n",
    "Primitivos:\n",
    "- __Sampler__: Retorna quasiprobabilidades.\n",
    "- __Estimator__: Retorna valores médios. Mede conjuntos de observáveis compatíveis de uma única vez."
   ]
  },
  {
   "cell_type": "markdown",
   "id": "e6e8707f-bd0f-4cf9-925d-7efeffd292a6",
   "metadata": {},
   "source": [
    "## Instalação\n",
    "\n",
    "- Instala o Anaconda (https://www.anaconda.com/)\n",
    "- Instala o qiskit (pip install qiskit)\n",
    "- Instala o qiskit runtime (pip install qiskit-ibm-runtime)\n",
    "\n",
    "### Comandos básicos iniciais"
   ]
  },
  {
   "cell_type": "code",
   "execution_count": 3,
   "id": "c0cd6eca-8124-439c-a79e-219a769c9e8b",
   "metadata": {},
   "outputs": [],
   "source": [
    "from qiskit_ibm_runtime import QiskitRuntimeService"
   ]
  },
  {
   "cell_type": "code",
   "execution_count": 4,
   "id": "616b6c51-c996-4c16-8354-88e418a0190f",
   "metadata": {},
   "outputs": [],
   "source": [
    "QiskitRuntimeService.save_account(channel='ibm_quantum', \n",
    "                                  token='83ab2a86232e48767228534cdae2cf55b8e8ea4e0eb1e57804268f40d7bee64692f719528e8871de617ffc35040d21bd389f4696313f46900c077c7f617a1512',\n",
    "                                  overwrite=True)"
   ]
  },
  {
   "cell_type": "code",
   "execution_count": 5,
   "id": "54c91aea-0050-4be0-9909-bbbbe3a6f3c2",
   "metadata": {},
   "outputs": [],
   "source": [
    "service = QiskitRuntimeService(instance='ibm-q/open/main')"
   ]
  },
  {
   "cell_type": "code",
   "execution_count": 67,
   "id": "cd227383-b693-484f-a509-d3b6904d2eae",
   "metadata": {},
   "outputs": [
    {
     "name": "stdout",
     "output_type": "stream",
     "text": [
      "[<IBMBackend('ibm_brisbane')>, <IBMBackend('ibm_kyoto')>, <IBMBackend('ibm_osaka')>, <IBMBackend('ibmq_qasm_simulator')>, <IBMBackend('simulator_extended_stabilizer')>, <IBMBackend('simulator_mps')>, <IBMBackend('simulator_statevector')>, <IBMBackend('simulator_stabilizer')>]\n"
     ]
    }
   ],
   "source": [
    "print(service.backends())"
   ]
  },
  {
   "cell_type": "markdown",
   "id": "b246f8a0-de24-4b71-9e5a-84595d850be3",
   "metadata": {},
   "source": [
    "## Cria o circuito quântico"
   ]
  },
  {
   "cell_type": "code",
   "execution_count": 68,
   "id": "cb6ee0d2-aea8-49c7-9c23-52dc96fef260",
   "metadata": {},
   "outputs": [
    {
     "data": {
      "text/html": [
       "<pre style=\"word-wrap: normal;white-space: pre;background: #fff0;line-height: 1.1;font-family: &quot;Courier New&quot;,Courier,monospace\">        ┌───┐      ░ ┌─┐   \n",
       "   q_0: ┤ H ├──■───░─┤M├───\n",
       "        └───┘┌─┴─┐ ░ └╥┘┌─┐\n",
       "   q_1: ─────┤ X ├─░──╫─┤M├\n",
       "             └───┘ ░  ║ └╥┘\n",
       "meas: 2/══════════════╩══╩═\n",
       "                      0  1 </pre>"
      ],
      "text/plain": [
       "        ┌───┐      ░ ┌─┐   \n",
       "   q_0: ┤ H ├──■───░─┤M├───\n",
       "        └───┘┌─┴─┐ ░ └╥┘┌─┐\n",
       "   q_1: ─────┤ X ├─░──╫─┤M├\n",
       "             └───┘ ░  ║ └╥┘\n",
       "meas: 2/══════════════╩══╩═\n",
       "                      0  1 "
      ]
     },
     "execution_count": 68,
     "metadata": {},
     "output_type": "execute_result"
    }
   ],
   "source": [
    "from qiskit import QuantumCircuit\n",
    "qc = QuantumCircuit(2)\n",
    "qc.h(0)\n",
    "qc.cx(0,1)\n",
    "qc.measure_all()\n",
    "qc.draw()"
   ]
  },
  {
   "cell_type": "markdown",
   "id": "b9042e6c-8d23-4756-b9ce-62f3eced0435",
   "metadata": {},
   "source": [
    "## Sampler\n",
    "### Emulação clássica"
   ]
  },
  {
   "cell_type": "code",
   "execution_count": 2,
   "id": "f59f6b9b-73a3-4414-ba76-954a0a0533c4",
   "metadata": {},
   "outputs": [],
   "source": [
    "from qiskit_ibm_runtime import Sampler, Options, Session\n",
    "\n",
    "options = Options(optimization_level=1)"
   ]
  },
  {
   "cell_type": "code",
   "execution_count": 70,
   "id": "274fa8d6-62d9-43f0-829f-0adccb7cb5b1",
   "metadata": {},
   "outputs": [],
   "source": [
    "with Session(service=service, backend=\"ibmq_qasm_simulator\") as session:\n",
    "    sampler = Sampler(session=session, options=options)\n",
    "    job = sampler.run(circuits=qc) # foi usado 18 s dos 10 min (por conjunto de 4000 prepara-evolui-mede experimentos)"
   ]
  },
  {
   "cell_type": "code",
   "execution_count": 71,
   "id": "8d710c62-4825-4600-a7ba-be63872e9bf6",
   "metadata": {},
   "outputs": [
    {
     "data": {
      "text/plain": [
       "SamplerResult(quasi_dists=[{0: 0.49775, 3: 0.50225}], metadata=[{'shots': 4000, 'circuit_metadata': {}}])"
      ]
     },
     "execution_count": 71,
     "metadata": {},
     "output_type": "execute_result"
    }
   ],
   "source": [
    "job.result() # 'probabilidades' (eles chamam de quasiprobabilidades)"
   ]
  },
  {
   "cell_type": "code",
   "execution_count": 72,
   "id": "80ff1580-ae23-403e-b3c3-f8b035fcdd5e",
   "metadata": {},
   "outputs": [
    {
     "data": {
      "text/plain": [
       "{'00': 0.49775, '11': 0.50225}"
      ]
     },
     "execution_count": 72,
     "metadata": {},
     "output_type": "execute_result"
    }
   ],
   "source": [
    "counts = job.result().quasi_dists[0].binary_probabilities()\n",
    "counts"
   ]
  },
  {
   "cell_type": "code",
   "execution_count": 73,
   "id": "f990219d-3f8f-4dae-8b62-726a896073f3",
   "metadata": {},
   "outputs": [
    {
     "data": {
      "image/png": "[encoded data removed]",
      "text/plain": [
       "<Figure size 700x500 with 1 Axes>"
      ]
     },
     "execution_count": 73,
     "metadata": {},
     "output_type": "execute_result"
    }
   ],
   "source": [
    "from qiskit.visualization import plot_histogram\n",
    "plot_histogram(counts)"
   ]
  },
  {
   "cell_type": "markdown",
   "id": "ba2dbcf6-2b13-4c4d-b99c-20367fd0aad9",
   "metadata": {},
   "source": [
    "### Experimento"
   ]
  },
  {
   "cell_type": "code",
   "execution_count": 61,
   "id": "96afb72c-65d2-4e62-9b27-96576540b908",
   "metadata": {},
   "outputs": [
    {
     "name": "stdout",
     "output_type": "stream",
     "text": [
      "cnvn5zzvn4c0008a6df0\n"
     ]
    }
   ],
   "source": [
    "backend = service.get_backend(\"ibm_osaka\")\n",
    "\n",
    "with Session(service=service, backend=backend) as session:\n",
    "    sampler = Sampler(session=session, options=options)\n",
    "    job = sampler.run(circuits=qc)\n",
    "    print(job.job_id())"
   ]
  },
  {
   "cell_type": "code",
   "execution_count": null,
   "id": "b7e71681-513a-4616-8e22-a637c9ffa2ba",
   "metadata": {},
   "outputs": [],
   "source": [
    "jobr = service.job('cnvn5zzvn4c0008a6df0')\n",
    "jobr.result()"
   ]
  },
  {
   "cell_type": "code",
   "execution_count": 42,
   "id": "aaaad515-98e2-42bb-9106-a75d99638153",
   "metadata": {},
   "outputs": [
    {
     "data": {
      "text/plain": [
       "{'00': 0.8910291757857182,\n",
       " '01': -0.35698633686810594,\n",
       " '10': -0.3586351220914648,\n",
       " '11': 0.8245922831738525}"
      ]
     },
     "execution_count": 42,
     "metadata": {},
     "output_type": "execute_result"
    }
   ],
   "source": [
    "counts = jobr.result().quasi_dists[0].binary_probabilities()\n",
    "counts  # ?"
   ]
  },
  {
   "cell_type": "code",
   "execution_count": 46,
   "id": "68e31284-152f-49cb-82a9-015a6f1e6e64",
   "metadata": {},
   "outputs": [
    {
     "data": {
      "image/png": "[encoded data removed]",
      "text/plain": [
       "<Figure size 700x500 with 1 Axes>"
      ]
     },
     "execution_count": 46,
     "metadata": {},
     "output_type": "execute_result"
    }
   ],
   "source": [
    "plot_histogram(counts) "
   ]
  },
  {
   "cell_type": "code",
   "execution_count": 63,
   "id": "e9fab0f7-2dbd-4b72-868b-f301c7a88593",
   "metadata": {},
   "outputs": [
    {
     "name": "stdout",
     "output_type": "stream",
     "text": [
      "\n"
     ]
    }
   ],
   "source": [
    "print(jobr.logs())"
   ]
  },
  {
   "cell_type": "markdown",
   "id": "3e9041d3-b943-41ff-8a6d-507652a72b1e",
   "metadata": {},
   "source": [
    "## Estimator\n",
    "\n",
    "Estima vários operadores comutantes usando um único circuito quântico. Mesma ideia usada em tomografia de estados."
   ]
  },
  {
   "cell_type": "code",
   "execution_count": null,
   "id": "bb2758bb-2be4-4096-a9d5-563cd1216cfd",
   "metadata": {},
   "outputs": [],
   "source": [
    "from qiskit.circuit.library import RealAmplitudes\n",
    "from qiskit.quantum_info import SparsePauliOp\n",
    " \n",
    "from qiskit_ibm_runtime import QiskitRuntimeService, Estimator\n",
    " \n",
    "service = QiskitRuntimeService(channel=\"ibm_cloud\")\n",
    " \n",
    "psi1 = RealAmplitudes(num_qubits=2, reps=2)\n",
    " \n",
    "H1 = SparsePauliOp.from_list([(\"II\", 1), (\"IZ\", 2), (\"XI\", 3)])\n",
    "H2 = SparsePauliOp.from_list([(\"IZ\", 1)])\n",
    "H3 = SparsePauliOp.from_list([(\"ZI\", 1), (\"ZZ\", 1)])\n",
    " \n",
    "with Session(service=service, backend=\"ibmq_qasm_simulator\") as session:\n",
    "    estimator = Estimator(session=session)\n",
    " \n",
    "    theta1 = [0, 1, 1, 2, 3, 5]\n",
    " \n",
    "    # calculate [ <psi1(theta1)|H1|psi1(theta1)> ]\n",
    "    psi1_H1 = estimator.run(circuits=[psi1], observables=[H1], parameter_values=[theta1])\n",
    "    print(psi1_H1.result())\n",
    " \n",
    "    # calculate [ <psi1(theta1)|H2|psi1(theta1)>, <psi1(theta1)|H3|psi1(theta1)> ]\n",
    "    psi1_H23 = estimator.run(\n",
    "        circuits=[psi1, psi1],\n",
    "        observables=[H2, H3],\n",
    "        parameter_values=[theta1]*2\n",
    "    )\n",
    "    print(psi1_H23.result())"
   ]
  },
  {
   "cell_type": "code",
   "execution_count": null,
   "id": "7732e11e-1c68-4bd7-80a7-0dd97d159599",
   "metadata": {},
   "outputs": [],
   "source": []
  }
 ],
 "metadata": {
  "kernelspec": {
   "display_name": "Python 3 (ipykernel)",
   "language": "python",
   "name": "python3"
  },
  "language_info": {
   "codemirror_mode": {
    "name": "ipython",
    "version": 3
   },
   "file_extension": ".py",
   "mimetype": "text/x-python",
   "name": "python",
   "nbconvert_exporter": "python",
   "pygments_lexer": "ipython3",
   "version": "3.11.1"
  }
 },
 "nbformat": 4,
 "nbformat_minor": 5
}
