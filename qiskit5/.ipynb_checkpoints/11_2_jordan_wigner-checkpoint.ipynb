{
 "cells": [
  {
   "cell_type": "markdown",
   "id": "ca3f8592-a035-4781-97e2-79d8afa81129",
   "metadata": {
    "jp-MarkdownHeadingCollapsed": true,
    "tags": []
   },
   "source": [
    "### Notas de aula de Computação Quântica <br> Autor: Jonas Maziero"
   ]
  },
  {
   "cell_type": "markdown",
   "id": "d6c6f540-0090-4d78-86da-295b306b0ec8",
   "metadata": {},
   "source": [
    "# A transformada de Jordan-Wigner (TJW)\n",
    "\n",
    "A TJW é usada para mapear um sistema de férmions em um sistema de qubits (spins 1/2) e vice-versa. Essa técnica é usada, por exemplo, para se resolver exatamente o problema da diagonalização de hamiltonianos de cadeias unidimensionais de spin 1/2. Mas uma das aplicações mais promissoras atualmente é a simulação de sisteams fermiônicos usando computadores quânticos.\n",
    "\n",
    "## Um qubit - um férmion\n",
    "\n",
    "Tendo que para um __férmion__ segue que\n",
    "$$\\{a,a^\\dagger\\}=I,\\ \\{a,a\\}=0,$$\n",
    "vimos que para um férmion os autovetores de $N=a^\\dagger a$ são $0$ ou $1$, vimos que os operadores escada atuam como \n",
    "$$a|1\\rangle = |0\\rangle,\\ a|0\\rangle = |\\oslash\\rangle, a^\\dagger|0\\rangle = |1\\rangle, a^\\dagger|1\\rangle=|\\oslash\\rangle.$$ \n",
    "\n",
    "Para um __qubit__, considere os operadores escada \n",
    "$$\\sigma^+ = |1\\rangle\\langle 0|,\\ \\sigma^- = |0\\rangle\\langle 1| = (\\sigma^+)^\\dagger.$$\n",
    "Vemos nesse caso que\n",
    "\\begin{align}\n",
    "& \\{\\sigma^-,(\\sigma^-)^\\dagger\\} = \\{\\sigma^-,\\sigma^+\\} = \\sigma^-\\sigma^+ + \\sigma^+\\sigma^- = |0\\rangle\\langle 1||1\\rangle\\langle 0| + |1\\rangle\\langle 0||0\\rangle\\langle 1| = |0\\rangle\\langle 0| + |1\\rangle\\langle 1| = I, \\\\\n",
    "& \\{\\sigma^-,\\sigma^-\\} = 2\\sigma^-\\sigma^- = |0\\rangle\\langle 1||0\\rangle\\langle 1| = 0_V.\n",
    "\\end{align}\n",
    "Ademais\n",
    "\\begin{align}\n",
    "& \\sigma^-|1\\rangle =  |0\\rangle\\langle 1||1\\rangle = |0\\rangle, \\ \\sigma^-|0\\rangle =  |0\\rangle\\langle 1||0\\rangle = |\\oslash\\rangle, \\\\\n",
    "& \\sigma^+|1\\rangle =  |1\\rangle\\langle 0||1\\rangle = |\\oslash\\rangle, \\ \\sigma^+|0\\rangle =  |1\\rangle\\langle 0||0\\rangle = |1\\rangle.\n",
    "\\end{align}\n",
    "\n",
    "Isso mostra um completa equivalência entre um qubit (um spin 1/2) e um férmion, com o estado $|\\downarrow\\rangle$ correspondendo a um modo fermiônico não ocupado $|n=0\\rangle$ e o estado $|\\uparrow\\rangle$ correspondendo a um modo fermiônico ocupado $|n=1\\rangle$. "
   ]
  },
  {
   "cell_type": "markdown",
   "id": "67095e5c-181c-4524-a442-4d249e982564",
   "metadata": {},
   "source": [
    "Sobre um qubit, pode ser útil considerar as seguintes relações em termos dos operadores escada:\n",
    "\\begin{align}\n",
    "& \\sigma^-\\sigma^- = \\sigma^+\\sigma^+ = 0_V, \\\\\n",
    "& \\sigma^-\\sigma^+ = |0\\rangle\\langle 0|, \\\\\n",
    "& \\sigma^+\\sigma^- = |1\\rangle\\langle 1|, \\\\\n",
    "& Z = |0\\rangle\\langle 0| - |1\\rangle\\langle 1| = 2|0\\rangle\\langle 0| - (|0\\rangle\\langle 0|+|1\\rangle\\langle 1|) = 2\\sigma^-\\sigma^+ - I, \\\\\n",
    "& X = |0\\rangle\\langle 1| + |1\\rangle\\langle 0| = \\sigma^- + \\sigma^+, \\\\\n",
    "& Y = -i(|0\\rangle\\langle 1| - |1\\rangle\\langle 0|) = -i(\\sigma^- - \\sigma^+).\n",
    "\\end{align}"
   ]
  },
  {
   "cell_type": "markdown",
   "id": "e28d38d9-00c5-4ff9-92af-55b4a6e20cb7",
   "metadata": {},
   "source": [
    "### Vários qubits - vários férmions\n",
    "\n",
    "No entanto, quando consideramos vários qubits, os operadores de spin de qubits diferentes comutam. Mas operadores fermiônicos independentes não comutam, eles anticomutam. Por isso não é direto mapear qubits - férmions.\n",
    "\n",
    "Jordan e Wigner, em 1961, resolveram esse problema adicionando um fator de fase \n",
    "$$\\phi_j = \\pi\\sum_{l<j}n_j,$$\n",
    "chamado de string, de forma que\n",
    "$$\\sigma_j^- = a e^{-i\\phi_j}.$$\n",
    "\n",
    "A transformada de Jordan-Wigner é então definida por\n",
    "\\begin{align}\n",
    "& \\sigma_j^- = a e^{-i\\pi\\sum_{l<j}n_l}, \\\\\n",
    "& \\sigma_j^+ = a^\\dagger e^{i\\pi\\sum_{l<j}n_l}, \\\\\n",
    "& Z_j = 2a_j^\\dagger a_j - I\n",
    "\\end{align}"
   ]
  },
  {
   "cell_type": "markdown",
   "id": "e07dc84e-6ab8-4b71-8800-fcf625107931",
   "metadata": {},
   "source": []
  },
  {
   "cell_type": "markdown",
   "id": "77c7b22a-8414-45f3-a5f4-8aa69bfc482e",
   "metadata": {},
   "source": []
  },
  {
   "cell_type": "code",
   "execution_count": null,
   "id": "16a084ef-58e6-4b84-b83c-d4caa5e05381",
   "metadata": {},
   "outputs": [],
   "source": []
  }
 ],
 "metadata": {
  "kernelspec": {
   "display_name": "Python 3 (ipykernel)",
   "language": "python",
   "name": "python3"
  },
  "language_info": {
   "codemirror_mode": {
    "name": "ipython",
    "version": 3
   },
   "file_extension": ".py",
   "mimetype": "text/x-python",
   "name": "python",
   "nbconvert_exporter": "python",
   "pygments_lexer": "ipython3",
   "version": "3.11.1"
  }
 },
 "nbformat": 4,
 "nbformat_minor": 5
}
