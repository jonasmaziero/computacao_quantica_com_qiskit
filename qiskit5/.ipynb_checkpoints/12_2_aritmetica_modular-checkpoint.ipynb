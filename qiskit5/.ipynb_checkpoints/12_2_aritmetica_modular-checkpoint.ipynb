{
 "cells": [
  {
   "cell_type": "markdown",
   "id": "9ee43e18-0714-461e-8711-22303f1db03f",
   "metadata": {},
   "source": [
    "### Notas de aula de Computação Quântica <br> Autor: Jonas Maziero"
   ]
  },
  {
   "cell_type": "markdown",
   "id": "8cbe333d-c7ba-468f-b516-a4483d7df2f1",
   "metadata": {},
   "source": [
    "# Aritmética modular \n",
    "\n",
    "Temos que\n",
    "$$j\\ (\\text{mod}\\ d) = r,$$\n",
    "com $r$ sendo o resto da divisão de $j$ por $d$. Ou seja\n",
    "$$j = Rd + r,$$\n",
    "com $R\\in\\mathbb{N}_0$. Mas não estaremos interessados no resultado da divisão, $R$, mas sim na sobra $r$.\n",
    "Por exemplo\n",
    "\\begin{align}\n",
    "& 2\\ (\\text{mod}\\ 5) = 2\\ \\therefore\\ 2=(0)(5)+2, \\\\\n",
    "& 10\\ (\\text{mod}\\ 5) = 0\\ \\therefore\\ 10=(2)(5)+0, \\\\\n",
    "& 13\\ (\\text{mod}\\ 5) = 3\\ \\therefore\\ 13=(2)(5)+3.\n",
    "\\end{align}\n",
    "Vale observar que \n",
    "$$j<d\\ \\Rightarrow\\ r=j.$$\n",
    "\n",
    "\n",
    "## Adição modular\n",
    "\n",
    "A aritmética modular pode ser pensada com a _\"aritmética do relógio\"_. A soma módulo $d$ será denotada aqui por\n",
    "$$j(\\text{mod}\\ d)+ k(\\text{mod}\\ d) = (j+k)(\\text{mod}\\ d) = j\\oplus_d k.$$\n",
    "Por exemplo, para $d=2$ temos\n",
    "\\begin{align}\n",
    "& 0\\oplus_2 0 = 0,\\ 0\\oplus_2 1 = 1,\\\\\n",
    "& 1\\oplus_2 0 = 1,\\ 1\\oplus_2 1 = 0.\n",
    "\\end{align}\n",
    "Para $d=3$ temos\n",
    "\\begin{align}\n",
    "0\\oplus_3 0 = 0,\\ 0\\oplus_3 1 = 1,\\ 0\\oplus_3 2 = 2,\\\\\n",
    "1\\oplus_3 0 = 1,\\ 1\\oplus_3 1 = 2,\\ 1\\oplus_3 2 = 0,\\\\\n",
    "2\\oplus_3 0 = 2,\\ 2\\oplus_3 1 = 0,\\ 2\\oplus_3 2 = 1.   \n",
    "\\end{align}"
   ]
  },
  {
   "cell_type": "markdown",
   "id": "c5f648ad-72a5-48f8-b5f1-65a5f46bfe14",
   "metadata": {},
   "source": [
    "### Propriedades da adição modular\n",
    "\n",
    "* __Fechamento:__ Para $j\\in\\{0,1,\\cdots,d-1\\}$ e $k\\in\\{0,1,\\cdots,d-1\\}$ temos por definição que $j\\oplus_d k\\in\\{0,1,\\cdots,d-1\\}.$\n",
    "\n",
    "* __Associatividade:__ $(j\\oplus_d k)\\oplus_d l = j\\oplus_d(k\\oplus_d l).$ \n",
    "\n",
    "Exemplo: $(1\\oplus_4 2)\\oplus_4 3 = 3\\oplus_4 3 = 2$ e $1\\oplus_4 (2\\oplus_4 3) = 1\\oplus_4 1 = 2$.\n",
    "\n",
    "* __Comutatividade:__ $j\\oplus_d k = k\\oplus_d j.$ \n",
    "\n",
    "Exemplo: $2\\oplus_3 3 = 1$ e $3\\oplus_4 2 = 1.$\n",
    "\n",
    "* __Identidade:__ Existe o elemento identidade $0$ da soma modular tal que $j\\oplus_d 0 = j\\ \\forall j.$\n",
    "\n",
    "O elemento identidade é o número inteiro $0$."
   ]
  },
  {
   "cell_type": "markdown",
   "id": "ff9ca224-2335-40ef-ab6f-9a5afad02f37",
   "metadata": {},
   "source": [
    "* __Inverso:__ Para qualquer $j\\in\\{0,1,\\cdots,d-1\\}$ existe um elemento $k\\in\\{0,1,\\cdots,d-1\\}$, chamado de elemento inverso, tal que $j\\oplus_d k =0.$ \n",
    "\n",
    "Se caminharmos no sentido anti-horário do relógio, denotamos o número com o sinal negativo. Por exemplo, para $d=4$, temos que $-3=1$ pois dando 3 passos no sentido anti-horário é equivalente a dar 1 passo no sentido horário. Dito isto, é fácil ver que o elemento inverso de $j$ é \n",
    "$$k=-j=d-j.$$\n",
    "Por exemplo para $d=4$ e $j=1$ temos que\n",
    "$k=-1=4-1=3$\n",
    "pois \n",
    "$$1\\oplus_4 3 = 0.$$\n",
    "\n",
    "* __Distributividade:__ A propriedade $(j\\oplus_d k)\\oplus_d l = (j\\oplus_d l) \\oplus_d (k\\oplus_d l)$ __não vale__ em geral para aritmética modular.\n",
    "\n",
    "Exemplo: $(2\\oplus_4 3)\\oplus_4 1 = 1\\oplus_4 1 = 2$ mas $(2\\oplus_4 1)\\oplus_4(3\\oplus_4 1) = 3\\oplus_4 0 = 3.$"
   ]
  },
  {
   "cell_type": "markdown",
   "id": "4954069b-7280-4d9d-8574-fec0ebcceab5",
   "metadata": {},
   "source": [
    "## Subtração modular\n",
    "\n",
    "A subtração modular é a soma com o negativo do número:\n",
    "$$(j-k)(\\text{mod}\\ d) = j\\ominus_d k = j\\oplus_d(-k).$$\n",
    "Também podemos entender a subtração modular usando a aritmética do relógio. Vale observar que a subtração modular não herda as mesmas propriedades da soma modular.\n",
    "\n",
    "### Propriedades da subtração modular\n",
    "\n",
    "* __Fechamento:__ Para $j\\in\\{0,1,\\cdots,d-1\\}$ e $k\\in\\{0,1,\\cdots,d-1\\}$ temos por definição que $j\\ominus_d k\\in\\{0,1,\\cdots,d-1\\}.$\n",
    "\n",
    "* __Associatividade:__ $(j\\ominus_d k)\\ominus_d l = j\\ominus_d(k\\ominus_d l)$ __não vale__ em geral. \n",
    "\n",
    "Exemplo: $(1\\ominus_4 2)\\ominus_4 3 = (-1)\\ominus_4 3 = (4-1)\\ominus_4 3 = 3\\ominus_4 3 = 0$ e $1\\ominus_4 (2\\ominus_4 3) = 1\\ominus_4 (-1) = 1\\ominus_4 (4-1) = 1\\ominus_4 3 = -2 = 4-2 = 2$.\n",
    "\n",
    "* __Comutatividade:__ $j\\ominus_d k = k\\ominus_d j$ __não vale__ em geral. \n",
    "\n",
    "Exemplo: $7\\ominus_{10} 5 = 2$ e $5\\ominus_{10} 7 = -2 = 10 -2= 8.$\n",
    "\n",
    "* __Identidade:__ Existe o elemento identidade $0$ da subtração modular tal que $j\\ominus_d 0 = j\\ \\forall j.$\n",
    "\n",
    "O elemento identidade nesse caso também é o número inteiro $0$."
   ]
  },
  {
   "cell_type": "markdown",
   "id": "239a895c-e6fe-4efb-bd4c-e5d9cafec286",
   "metadata": {},
   "source": [
    "* __Inverso:__ Para qualquer $j\\in\\{0,1,\\cdots,d-1\\}$ existe um elemento $k\\in\\{0,1,\\cdots,d-1\\}$, chamado de elemento inverso, tal que $j\\ominus_d k =0.$ \n",
    "\n",
    "É fácil ver que o elemento inverso de $-j$ é o elemento $j.$ Por exemplo, para $d=4$ e $j=-2$ temos que\n",
    "$k=2$ pois $-2\\ominus_4 2 = 0.$\n",
    "\n",
    "* __Distributividade:__ A propriedade $(j\\ominus_d k)\\ominus_d l = (j\\ominus_d l)\\ominus_d (k\\ominus_d l)$ __não vale__ em geral para aritmética modular.\n",
    "\n",
    "Exemplo: $(2\\ominus_4 3)\\ominus_4 1 = (-1)\\ominus_4 1 = 3\\ominus_4 1 = 2$ mas $(2\\ominus_4 1)\\ominus_4(3\\ominus_4 1) = 1\\oplus_4 2 = -1 = 3.$\n",
    "\n",
    "Vemos assim que a similaridade de propriedade da subtração e soma na aritmética regular não se mantém na aritmética modular."
   ]
  },
  {
   "cell_type": "code",
   "execution_count": null,
   "id": "779a2709-b6ca-4110-b499-9c34840cce0a",
   "metadata": {},
   "outputs": [],
   "source": []
  }
 ],
 "metadata": {
  "kernelspec": {
   "display_name": "Python 3 (ipykernel)",
   "language": "python",
   "name": "python3"
  },
  "language_info": {
   "codemirror_mode": {
    "name": "ipython",
    "version": 3
   },
   "file_extension": ".py",
   "mimetype": "text/x-python",
   "name": "python",
   "nbconvert_exporter": "python",
   "pygments_lexer": "ipython3",
   "version": "3.11.1"
  }
 },
 "nbformat": 4,
 "nbformat_minor": 5
}
