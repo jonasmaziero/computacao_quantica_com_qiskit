{
 "cells": [
  {
   "cell_type": "markdown",
   "id": "ecdfab65-7ae4-47f5-9232-6eca34816957",
   "metadata": {},
   "source": [
    "### Notas de aula de Computação Quântica <br> Autor: Jonas Maziero\n",
    "\n",
    "# Porta SWAP para qudits\n",
    "A porta SWAP é definida por\n",
    "$$\\text{SWAP}(|\\psi\\rangle\\otimes|\\phi\\rangle) := |\\phi\\rangle\\otimes|\\psi\\rangle\\ \\forall\\ \\psi,\\phi.$$\n",
    "\n",
    "Se escrevemos estes estados na base computacional\n",
    "$$|\\psi\\rangle = \\sum_{j=0}^{d-1}\\psi_j|j\\rangle,\\ |\\phi\\rangle = \\sum_{j=0}^{d-1}\\phi_j|j\\rangle,$$\n",
    "vemos que\n",
    "\\begin{align}\n",
    "\\text{SWAP}(|\\psi\\rangle\\otimes|\\phi\\rangle) & = \\text{SWAP}\\Big(\\sum_{j=0}^{d-1}\\psi_j|j\\rangle\\otimes\\sum_{k=0}^{d-1}\\phi_k|k\\rangle\\Big) \\\\\n",
    "& = \\sum_{j,k=0}^{d-1}\\psi_j \\phi_k\\text{SWAP}\\Big(|j\\rangle\\otimes|k\\rangle\\Big) \\\\\n",
    "& := \\sum_{j,k=0}^{d-1}\\psi_j \\phi_k (|k\\rangle\\otimes|j\\rangle) \\\\\n",
    "& = \\sum_{k=0}^{d-1} \\phi_k |k\\rangle\\otimes\\sum_{j=0}^{d-1}\\psi_j|j\\rangle \\\\\n",
    "& = |\\phi\\rangle\\otimes|\\psi\\rangle,\n",
    "\\end{align}\n",
    "em que vimos que devemos ter\n",
    "$$\\text{SWAP}(|j\\rangle\\otimes|k\\rangle) := |k\\rangle\\otimes|j\\rangle\\ \\forall\\ j,k\\in\\{0,1,\\cdots,d-1\\}$$\n",
    "para obter a operação de troca de estados gerais puros."
   ]
  },
  {
   "cell_type": "markdown",
   "id": "dedfc15e-7d20-4d41-b319-19051c3f20ce",
   "metadata": {},
   "source": [
    "## 1ª tentativa: Generalização direta usando $C_X$\n",
    "\n",
    "Para 2 qubits a porta SWAP é implementada usando aplicações sucessivas da $\\text{CNOT} = C_X$:\n",
    "$$\\text{SWAP} = C_X^{a\\rightarrow b} C_X^{b\\rightarrow a}C_X^{a\\rightarrow b} = C_X^{b\\rightarrow a} C_X^{a\\rightarrow b}C_X^{b\\rightarrow a},$$\n",
    "com\n",
    "$$C_X^{a\\rightarrow b} = |0\\rangle\\langle 0|\\otimes I + |1\\rangle\\langle 1|\\otimes X,\\ C_X^{b\\rightarrow a} = I\\otimes|0\\rangle\\langle 0| + X\\otimes|1\\rangle\\langle 1|$$\n",
    "para porta NOT (flip de estado) dada por\n",
    "$$X|0\\rangle=|1\\rangle,\\ X|1\\rangle=|0\\rangle.$$"
   ]
  },
  {
   "cell_type": "markdown",
   "id": "0116e042-a76d-40a8-8e8a-7632802f68ef",
   "metadata": {},
   "source": [
    "Uma possível e bem motivada generalização para a CNOT no caso de qudits é\n",
    "$$C_{X_d}^{a\\rightarrow b} = \\sum_{j=0}^{d-1}|j\\rangle\\langle j|\\otimes X_d(j),\\ C_{X_d}^{b\\rightarrow a} = \\sum_{j=0}^{d-1} X_d(j)\\otimes|j\\rangle\\langle j|,$$\n",
    "com a porta de deslocamento de estado definida por\n",
    "$$X_d(j)|k\\rangle = |j\\oplus_d k\\rangle,$$\n",
    "em que $\\oplus_d$ denota a soma módulo $d$.\n",
    "Essa operação pode ser escrita na forma de produto externo como\n",
    "$$X_d(j) = \\sum_{k=0}^{d-1}|j\\oplus_d k\\rangle\\langle k|.$$"
   ]
  },
  {
   "cell_type": "markdown",
   "id": "b25f30d2-ec93-47b5-b47c-1b6c74d45246",
   "metadata": {},
   "source": [
    "## 1ª tentativa \n",
    "de generalização para a SWAP para estados de qudits seria então \n",
    "$$\\text{SWAP} = C_{X_d}^{a\\rightarrow b} C_{X_d}^{b\\rightarrow a}C_{X_d}^{a\\rightarrow b} = C_{X_d}^{b\\rightarrow a} C_{X_d}^{a\\rightarrow b}C_{X_d}^{b\\rightarrow a},$$\n",
    "onde $X_2 = X.$\n",
    "\n",
    "Vamos verificar a ação dessa porta na base computacional produto:\n",
    "\\begin{align}\n",
    "\\text{SWAP}|j\\rangle\\otimes|k\\rangle & = C_{X_d}^{a\\rightarrow b} C_{X_d}^{b\\rightarrow a}C_{X_d}^{a\\rightarrow b}|j\\rangle\\otimes|k\\rangle \\\\\n",
    "& = C_{X_d}^{a\\rightarrow b} C_{X_d}^{b\\rightarrow a}\\sum_{l=0}^{d-1}\\big(|l\\rangle\\langle l|\\otimes X_d(l)\\big)\\big(|j\\rangle\\otimes|k\\rangle\\big) \\\\\n",
    "& = C_{X_d}^{a\\rightarrow b} C_{X_d}^{b\\rightarrow a}\\sum_{l=0}^{d-1}|l\\rangle\\langle l||j\\rangle\\otimes X_d(l)|k\\rangle \\\\\n",
    "& = C_{X_d}^{a\\rightarrow b} C_{X_d}^{b\\rightarrow a}\\sum_{l=0}^{d-1}|l\\rangle\\delta_{lj}\\otimes |l\\oplus_d k\\rangle \\\\\n",
    "& = C_{X_d}^{a\\rightarrow b} \\sum_{l=0}^{d-1} \\big(X_d(l)\\otimes|l\\rangle\\langle l|\\big)\\big(|j\\rangle\\otimes |j\\oplus_d k\\rangle\\big) \\\\\n",
    "& = C_{X_d}^{a\\rightarrow b} \\sum_{l=0}^{d-1} |l\\oplus_d j\\rangle\\otimes |l\\rangle\\delta_{l,j\\oplus_d k} \\\\\n",
    "& = \\sum_{l=0}^{d-1}\\big(|l\\rangle\\langle l|\\otimes X_d(l)\\big)\\big( |(j\\oplus_d k)\\oplus_d j\\rangle\\otimes |j\\oplus_d k\\rangle\\big) \\\\\n",
    "& = \\sum_{l=0}^{d-1}|l\\rangle\\delta_{l,(j\\oplus_d k)\\oplus_d j}\\otimes|l\\oplus_d(j\\oplus_d k)\\rangle \\\\\n",
    "& = \\sum_{l=0}^{d-1}|(j\\oplus_d k)\\oplus_d j\\rangle\\otimes|((j\\oplus_d k)\\oplus_d j)\\oplus_d(j\\oplus_d k)\\rangle.\n",
    "\\end{align}"
   ]
  },
  {
   "cell_type": "markdown",
   "id": "9dd39083-6ea1-4c2f-b9ac-5ee0ec73b877",
   "metadata": {},
   "source": [
    "Assim, para obtermos $\\text{SWAP}|j\\rangle\\otimes|k\\rangle = |k\\rangle\\otimes|j\\rangle$, devem ser verdadeiras as seguintes igualdades\n",
    "\\begin{align}\n",
    "& (j\\oplus_d k)\\oplus_d j  = k, \\\\\n",
    "& ((j\\oplus_d k)\\oplus_d j)\\oplus_d(j\\oplus_d k) = j.\n",
    "\\end{align}\n",
    "Não é difícil encontrar exemplos para os quais essas igualdades não se mantém:\n",
    "\\begin{align}\n",
    "& (3\\oplus_d 2)\\oplus_d 3 = 1 \\oplus_d 3 = 0 \\ne 2, \\\\\n",
    "& ((3\\oplus_d 2)\\oplus_d 3)\\oplus_d(3\\oplus_d 2) = (1\\oplus_d 3)\\oplus_d 1 = 0\\oplus_d 1 = 1 \\ne 3.\n",
    "\\end{align}"
   ]
  },
  {
   "cell_type": "code",
   "execution_count": null,
   "id": "44a362b2-8da6-4f04-b1c5-73d96655db65",
   "metadata": {},
   "outputs": [],
   "source": []
  },
  {
   "cell_type": "markdown",
   "id": "7c8a55a0-3827-41e3-86c2-0d158b657644",
   "metadata": {},
   "source": [
    "## 2ª tentativa: Definição usando GX\n",
    "\n",
    "A ref. 1 apresenta uma espécie de revisão sobre computação quântica com qudits. Os autores comentam duas formas de aplicar a SWAP para qudits. Uma dessas formas é\n",
    "$$\\text{SWAP} = \\text{GXOR}^{a\\rightarrow b}\\text{GXOR}^{b\\rightarrow a}\\text{GXOR}^{a\\rightarrow b}(K_d\\otimes K_d),$$\n",
    "com \n",
    "$$K_d|j\\rangle = |d\\ominus_d j\\rangle = |-j\\rangle,$$\n",
    "em que $\\ominus_d$ é a subtração módulo $d$. A outra porta envolvida é\n",
    "$$\\text{GXOR}^{a\\rightarrow b}|j\\rangle\\otimes|k\\rangle := |k\\rangle\\otimes|j\\ominus k\\rangle.$$"
   ]
  },
  {
   "cell_type": "code",
   "execution_count": null,
   "id": "1381529f-18b0-4ccc-a3c2-f823bc587ff1",
   "metadata": {},
   "outputs": [],
   "source": []
  },
  {
   "cell_type": "code",
   "execution_count": null,
   "id": "b4d8afc0-b7b6-4bd1-aecf-46e54223d3d6",
   "metadata": {},
   "outputs": [],
   "source": []
  },
  {
   "cell_type": "markdown",
   "id": "8ff8cedc-6889-4078-88b9-ca722de45761",
   "metadata": {},
   "source": [
    "## Referências\n",
    "\n",
    "1. Y. Wang, Z. Hu, B. C. Sanders, and S. Kais, “Qudits and High-Dimensional Quantum Computing,” Frontiers in Physics, vol. 8, 2020, Accessed: Mar. 05, 2023. [Online]. Available: https://www.frontiersin.org/articles/10.3389/fphy.2020.589504\n"
   ]
  },
  {
   "cell_type": "code",
   "execution_count": null,
   "id": "b9522126-c723-4b3e-8122-ad3847c77267",
   "metadata": {},
   "outputs": [],
   "source": []
  }
 ],
 "metadata": {
  "kernelspec": {
   "display_name": "Python 3 (ipykernel)",
   "language": "python",
   "name": "python3"
  },
  "language_info": {
   "codemirror_mode": {
    "name": "ipython",
    "version": 3
   },
   "file_extension": ".py",
   "mimetype": "text/x-python",
   "name": "python",
   "nbconvert_exporter": "python",
   "pygments_lexer": "ipython3",
   "version": "3.11.1"
  }
 },
 "nbformat": 4,
 "nbformat_minor": 5
}
