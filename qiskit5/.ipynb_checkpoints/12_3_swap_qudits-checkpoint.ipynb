{
 "cells": [
  {
   "cell_type": "markdown",
   "id": "ecdfab65-7ae4-47f5-9232-6eca34816957",
   "metadata": {},
   "source": [
    "### Notas de aula de Computação Quântica <br> Autor: Jonas Maziero\n",
    "\n",
    "# Porta SWAP para qudits\n",
    "A porta SWAP é definida por\n",
    "$$\\text{SWAP}(|\\psi\\rangle\\otimes|\\phi\\rangle) := |\\phi\\rangle\\otimes|\\psi\\rangle\\ \\forall\\ \\psi,\\phi.$$\n",
    "\n",
    "Se escrevemos estes estados na base computacional\n",
    "$$|\\psi\\rangle = \\sum_{j=0}^{d-1}\\psi_j|j\\rangle,\\ |\\phi\\rangle = \\sum_{j=0}^{d-1}\\phi_j|j\\rangle,$$\n",
    "vemos que\n",
    "\\begin{align}\n",
    "\\text{SWAP}(|\\psi\\rangle\\otimes|\\phi\\rangle) & = \\text{SWAP}\\Big(\\sum_{j=0}^{d-1}\\psi_j|j\\rangle\\otimes\\sum_{k=0}^{d-1}\\phi_k|k\\rangle\\Big) \\\\\n",
    "& = \\sum_{j,k=0}^{d-1}\\psi_j \\phi_k\\text{SWAP}\\Big(|j\\rangle\\otimes|k\\rangle\\Big) \\\\\n",
    "& := \\sum_{j,k=0}^{d-1}\\psi_j \\phi_k (|k\\rangle\\otimes|j\\rangle) \\\\\n",
    "& = \\sum_{k=0}^{d-1} \\phi_k |k\\rangle\\otimes\\sum_{j=0}^{d-1}\\psi_j|j\\rangle \\\\\n",
    "& = |\\phi\\rangle\\otimes|\\psi\\rangle,\n",
    "\\end{align}\n",
    "em que vimos que devemos ter\n",
    "$$\\text{SWAP}(|j\\rangle\\otimes|k\\rangle) := |k\\rangle\\otimes|j\\rangle\\ \\forall\\ j,k\\in\\{0,1,\\cdots,d-1\\}$$\n",
    "para obter a operação de troca de estados gerais puros."
   ]
  },
  {
   "cell_type": "markdown",
   "id": "dedfc15e-7d20-4d41-b319-19051c3f20ce",
   "metadata": {},
   "source": [
    "## 1ª tentativa: Generalização direta usando $C_X$\n",
    "\n",
    "Para 2 qubits a porta SWAP é implementada usando aplicações sucessivas da $\\text{CNOT} = C_X$:\n",
    "$$\\text{SWAP} = C_X^{a\\rightarrow b} C_X^{b\\rightarrow a}C_X^{a\\rightarrow b} = C_X^{b\\rightarrow a} C_X^{a\\rightarrow b}C_X^{b\\rightarrow a},$$\n",
    "com\n",
    "$$C_X^{a\\rightarrow b} = |0\\rangle\\langle 0|\\otimes I + |1\\rangle\\langle 1|\\otimes X,\\ C_X^{b\\rightarrow a} = I\\otimes|0\\rangle\\langle 0| + X\\otimes|1\\rangle\\langle 1|$$\n",
    "para porta NOT (flip de estado) dada por\n",
    "$$X|0\\rangle=|1\\rangle,\\ X|1\\rangle=|0\\rangle.$$"
   ]
  },
  {
   "cell_type": "markdown",
   "id": "0116e042-a76d-40a8-8e8a-7632802f68ef",
   "metadata": {},
   "source": [
    "Uma possível e bem motivada generalização para a CNOT no caso de qudits é\n",
    "$$C_{X_d}^{a\\rightarrow b} = \\sum_{j=0}^{d-1}|j\\rangle\\langle j|\\otimes X_d(j),\\ C_{X_d}^{b\\rightarrow a} = \\sum_{j=0}^{d-1} X_d(j)\\otimes|j\\rangle\\langle j|,$$\n",
    "com a porta de deslocamento de estado definida por\n",
    "$$X_d(j)|k\\rangle = |j\\oplus_d k\\rangle,$$\n",
    "em que $\\oplus_d$ denota a soma módulo $d$.\n",
    "Essa operação pode ser escrita na forma de produto externo como\n",
    "$$X_d(j) = \\sum_{k=0}^{d-1}|j\\oplus_d k\\rangle\\langle k|.$$"
   ]
  },
  {
   "cell_type": "markdown",
   "id": "b25f30d2-ec93-47b5-b47c-1b6c74d45246",
   "metadata": {},
   "source": [
    "## 1ª tentativa \n",
    "de generalização para a SWAP para estados de qudits seria então \n",
    "$$\\text{SWAP} = C_{X_d}^{a\\rightarrow b} C_{X_d}^{b\\rightarrow a}C_{X_d}^{a\\rightarrow b} = C_{X_d}^{b\\rightarrow a} C_{X_d}^{a\\rightarrow b}C_{X_d}^{b\\rightarrow a},$$\n",
    "onde $X_2 = X.$\n",
    "\n",
    "Vamos verificar a ação dessa porta na base computacional produto:\n",
    "\\begin{align}\n",
    "\\text{SWAP}|j\\rangle\\otimes|k\\rangle & = C_{X_d}^{a\\rightarrow b} C_{X_d}^{b\\rightarrow a}C_{X_d}^{a\\rightarrow b}|j\\rangle\\otimes|k\\rangle \\\\\n",
    "& = C_{X_d}^{a\\rightarrow b} C_{X_d}^{b\\rightarrow a}\\sum_{l=0}^{d-1}\\big(|l\\rangle\\langle l|\\otimes X_d(l)\\big)\\big(|j\\rangle\\otimes|k\\rangle\\big) \\\\\n",
    "& = C_{X_d}^{a\\rightarrow b} C_{X_d}^{b\\rightarrow a}\\sum_{l=0}^{d-1}|l\\rangle\\langle l||j\\rangle\\otimes X_d(l)|k\\rangle \\\\\n",
    "& = C_{X_d}^{a\\rightarrow b} C_{X_d}^{b\\rightarrow a}\\sum_{l=0}^{d-1}|l\\rangle\\delta_{lj}\\otimes |l\\oplus_d k\\rangle \\\\\n",
    "& = C_{X_d}^{a\\rightarrow b} \\sum_{l=0}^{d-1} \\big(X_d(l)\\otimes|l\\rangle\\langle l|\\big)\\big(|j\\rangle\\otimes |j\\oplus_d k\\rangle\\big) \\\\\n",
    "& = C_{X_d}^{a\\rightarrow b} \\sum_{l=0}^{d-1} |l\\oplus_d j\\rangle\\otimes |l\\rangle\\delta_{l,j\\oplus_d k} \\\\\n",
    "& = \\sum_{l=0}^{d-1}\\big(|l\\rangle\\langle l|\\otimes X_d(l)\\big)\\big( |(j\\oplus_d k)\\oplus_d j\\rangle\\otimes |j\\oplus_d k\\rangle\\big) \\\\\n",
    "& = \\sum_{l=0}^{d-1}|l\\rangle\\delta_{l,(j\\oplus_d k)\\oplus_d j}\\otimes|l\\oplus_d(j\\oplus_d k)\\rangle \\\\\n",
    "& = \\sum_{l=0}^{d-1}|(j\\oplus_d k)\\oplus_d j\\rangle\\otimes|((j\\oplus_d k)\\oplus_d j)\\oplus_d(j\\oplus_d k)\\rangle.\n",
    "\\end{align}"
   ]
  },
  {
   "cell_type": "markdown",
   "id": "9dd39083-6ea1-4c2f-b9ac-5ee0ec73b877",
   "metadata": {},
   "source": [
    "Assim, para obtermos $\\text{SWAP}|j\\rangle\\otimes|k\\rangle = |k\\rangle\\otimes|j\\rangle$, devem ser verdadeiras as seguintes igualdades\n",
    "\\begin{align}\n",
    "& (j\\oplus_d k)\\oplus_d j  = k, \\\\\n",
    "& ((j\\oplus_d k)\\oplus_d j)\\oplus_d(j\\oplus_d k) = j.\n",
    "\\end{align}\n",
    "Não é difícil encontrar exemplos para os quais essas igualdades não se mantém:\n",
    "\\begin{align}\n",
    "& (3\\oplus_d 2)\\oplus_d 3 = 1 \\oplus_d 3 = 0 \\ne 2, \\\\\n",
    "& ((3\\oplus_d 2)\\oplus_d 3)\\oplus_d(3\\oplus_d 2) = (1\\oplus_d 3)\\oplus_d 1 = 0\\oplus_d 1 = 1 \\ne 3.\n",
    "\\end{align}"
   ]
  },
  {
   "cell_type": "markdown",
   "id": "7c8a55a0-3827-41e3-86c2-0d158b657644",
   "metadata": {},
   "source": [
    "## 2ª tentativa: Definição usando GX\n",
    "\n",
    "A ref. 1 apresenta uma espécie de revisão sobre computação quântica com qudits. Os autores comentam duas formas de aplicar a SWAP para qudits. Uma dessas formas é\n",
    "$$\\text{SWAP} = \\text{GXOR}^{a\\rightarrow b}\\text{GXOR}^{b\\rightarrow a}\\text{GXOR}^{a\\rightarrow b}(K_d\\otimes K_d),$$\n",
    "com \n",
    "$$K_d|j\\rangle = |d\\ominus_d j\\rangle = |-j\\rangle,$$\n",
    "em que $\\ominus_d$ é a subtração módulo $d$. A outra porta envolvida é\n",
    "$$\\text{GXOR}^{a\\rightarrow b}|j\\rangle\\otimes|k\\rangle := |j\\rangle\\otimes|j\\ominus_d k\\rangle.$$\n",
    "\n",
    "Podemos escrever essas operações explicitamente na forma produto externo:\n",
    "$$K_d = \\sum_{l=0}^{d-1}|-l\\rangle\\langle l|$$\n",
    "e\n",
    "$$\\text{GXOR}^{a\\rightarrow b} = C_{X_d^-}^{a\\rightarrow b} = \\sum_{l=0}^{d-1}|l\\rangle\\langle l|\\otimes X_d^-(l)$$\n",
    "com\n",
    "$$X_d^-(l)|j\\rangle := |l\\ominus_d j\\rangle\\ \\therefore\\ X_d^-(l) = \\sum_{m=0}^{d-1}|l\\ominus_d m\\rangle\\langle m|.$$"
   ]
  },
  {
   "cell_type": "markdown",
   "id": "77560e02-4962-4a9c-9447-1b91fbffd73f",
   "metadata": {},
   "source": [
    "### Verificação\n",
    "\\begin{align}\n",
    "\\text{SWAP}(|j\\rangle\\otimes|k\\rangle) & = C_{X_d^-}^{a\\rightarrow b}C_{X_d^-}^{b\\rightarrow a}C_{X_d^-}^{a\\rightarrow b}(K_d\\otimes K_d)(|j\\rangle\\otimes|k\\rangle) \\\\\n",
    "& = C_{X_d^-}^{a\\rightarrow b}C_{X_d^-}^{b\\rightarrow a}C_{X_d^-}^{a\\rightarrow b}(|-j\\rangle\\otimes|-k\\rangle) \\\\\n",
    "& = C_{X_d^-}^{a\\rightarrow b}C_{X_d^-}^{b\\rightarrow a}(|-j\\rangle\\otimes|(-j)\\ominus_d(-k)\\rangle) \\\\\n",
    "& = C_{X_d^-}^{a\\rightarrow b}(|((-j)\\ominus_d(-k))\\ominus_d (-j)\\rangle\\otimes|(-j)\\ominus_d(-k)\\rangle) \\\\\n",
    "& = |((-j)\\ominus_d(-k))\\ominus_d(-j)\\rangle\\otimes|(((-j)\\ominus_d(-k))\\ominus_d(-j))\\ominus_d((-j)\\ominus_d(-k))\\rangle \\\\\n",
    "& = |((-j)\\oplus_d k)\\oplus_d j\\rangle\\otimes|(((-j)\\oplus_d k)\\oplus_d j)\\ominus_d(k\\oplus_d(-j))\\rangle \\\\\n",
    "& = |(k\\oplus_d(-j))\\oplus_d j\\rangle\\otimes|((k\\oplus_d(-j))\\oplus_d j)\\ominus_d(k\\oplus_d(-j))\\rangle \\\\\n",
    "& = |k\\oplus_d((-j)\\oplus_d j)\\rangle\\otimes|(k\\oplus_d((-j)\\oplus_d j))\\ominus_d(k\\oplus_d(-j))\\rangle \\\\\n",
    "& = |k\\oplus_d 0\\rangle\\otimes|(k\\oplus_d 0)\\ominus_d(k\\oplus_d(-j))\\rangle \\\\\n",
    "& = |k\\rangle\\otimes|k\\ominus_d(k\\oplus_d(-j))\\rangle \\\\\n",
    "& = |k\\rangle\\otimes|k\\oplus_d(-(k\\oplus_d(-j)))\\rangle \\\\\n",
    "& = |k\\rangle\\otimes|k\\oplus_d((-k)\\oplus_d j)\\rangle \\\\\n",
    "& = |k\\rangle\\otimes|(k\\oplus_d(-k))\\oplus_d j\\rangle \\\\\n",
    "& = |k\\rangle\\otimes|0\\oplus_d j\\rangle \\\\\n",
    "& = |k\\rangle\\otimes|j\\rangle.\n",
    "\\end{align}"
   ]
  },
  {
   "cell_type": "markdown",
   "id": "eb1d4b97-9a4e-4912-8e26-039a165eac46",
   "metadata": {},
   "source": [
    "Acima assumimos que $-(k\\oplus_d(-j)) = (-k)\\oplus_d j.$ Vamos verificar que isso é verdade. Para isso, é importante observar que \n",
    "$$j = R_j d+r_j\\ \\therefore\\ -j = (-R_j)d - r_j\\ \\therefore\\ r_{-j} = -r_j.$$\n",
    "Por exemplo\n",
    "$$13 = (2)(5)+3,\\ -13 = (-2)5 - 3.$$\n",
    "Teremos assim que\n",
    "\\begin{align}\n",
    "(-k)\\oplus_d j & = (-k)(\\text{mod}d) \\oplus_d j(\\text{mod}d) \\\\\n",
    "& = (-r_k) + r_j = -r_k + r_j\n",
    "\\end{align}\n",
    "e \n",
    "\\begin{align}\n",
    "-(k\\oplus_d(-j)) & = -(k(\\text{mod}d) \\oplus_d (-j)(\\text{mod}d) \\\\\n",
    "& = -(r_k + (-r_j)) = -r_k + r_j.\n",
    "\\end{align}"
   ]
  },
  {
   "cell_type": "markdown",
   "id": "d5c4d190-3a86-41f8-bb23-80376fae3350",
   "metadata": {},
   "source": [
    "#### Caso especial de qubit da 2ª tentativa\n",
    "\n",
    "De $K_d|j\\rangle = |-j\\rangle = |d-j\\rangle$ temos que\n",
    "\\begin{align}\n",
    "& K_2|0\\rangle = |-0\\rangle = |0\\rangle, \\\\\n",
    "& K_2|1\\rangle = |-1\\rangle = |2-1\\rangle = |1\\rangle.\n",
    "\\end{align}\n",
    "Por conseguinte\n",
    "$$K_2 = I.$$\n",
    "\n",
    "Também temos que $C_{X_d^-}^{a\\rightarrow b} = \\sum_{l=0}^{d-1}|l\\rangle\\langle l|\\otimes X_d^-(l)$ com $X_d^-(l)=\\sum_{m=0}^{d-1}|l\\ominus_d m\\rangle\\langle m|$. Vem assim que\n",
    "\\begin{align}\n",
    "X_d^-(0) & = \\sum_{m=0}^{d-1}|0\\ominus_d m\\rangle\\langle m| \\\\\n",
    "& = \\sum_{m=0}^{d-1}|m\\rangle\\langle m| \\\\\n",
    "& = I, \\\\\n",
    "X_2^-(1) & = \\sum_{m=0}^{2-1}|1\\ominus_2 m\\rangle\\langle m| \\\\\n",
    "& = |1\\ominus_2 0\\rangle\\langle 0| + |1\\ominus_2 1\\rangle\\langle 1| \\\\\n",
    "& = |1\\rangle\\langle 0| + |0\\rangle\\langle 1| \\\\\n",
    "& = X.\n",
    "\\end{align}\n",
    "Por conseguinte\n",
    "$$C_{X_2^-}^{a\\rightarrow b} = C_{X}^{a\\rightarrow b}.$$\n",
    "Vemos assim que essa SWAP recai na bem conhecida SWAP de qubits."
   ]
  },
  {
   "cell_type": "markdown",
   "id": "eb473508-f3fc-4db7-957a-c9ea3d66cd9c",
   "metadata": {},
   "source": [
    "## 3ª tentativa: Definição usando $C_\\tilde{X}$\n",
    "\n",
    "Considere \n",
    "\\begin{align}\n",
    "& C_\\tilde{X}^{a\\rightarrow b}|j\\rangle\\otimes|k\\rangle = |j\\rangle\\otimes|-j-k\\rangle, \\\\\n",
    "& C_\\tilde{X}^{b\\rightarrow a}|j\\rangle\\otimes|k\\rangle = |-k-j\\rangle\\otimes|k\\rangle.\n",
    "\\end{align}"
   ]
  },
  {
   "cell_type": "code",
   "execution_count": null,
   "id": "56de2cff-7dd3-4fa8-9151-f4e9754a22da",
   "metadata": {},
   "outputs": [],
   "source": []
  },
  {
   "cell_type": "markdown",
   "id": "4f609703-2d40-4b27-b87c-6cbeec70a5f4",
   "metadata": {},
   "source": [
    "## Elementos não nulos da SWAP para $N$ qudits\n",
    "\n",
    "Para 2 qudits, os elementos de matriz da SWAP são\n",
    "\\begin{align} \n",
    "\\langle l,m|\\text{SWAP}|p,q\\rangle & = (\\langle l|\\otimes\\langle m|)(|p\\rangle\\otimes|q\\rangle) \\\\\n",
    "& = \\langle l|p\\rangle\\otimes\\langle m|q\\rangle \\\\\n",
    "& = \\delta_{l,p}\\delta_{m,q}.\n",
    "\\end{align}"
   ]
  },
  {
   "cell_type": "markdown",
   "id": "c648ba1b-e03f-4a21-b9b8-74ca9fd169b7",
   "metadata": {},
   "source": [
    "Para $N$ qudits, se aplicarmos a SWAP nos qudits $c$ e $t$ teremos\n",
    "\\begin{align}\n",
    "\\langle j|\\text{SWAP}^{c\\leftrightarrow t}|k\\rangle & = \\langle \\cdots j_{c-1}j_c j_{c+1}\\cdots j_{t-1}j_t j_{t+1}\\cdots|\\text{SWAP}^{c\\leftrightarrow t}|\\cdots k_{c-1}k_c k_{c+1}\\cdots k_{t-1}k_t k_{t+1}\\cdots\\rangle \\\\\n",
    "& = \\langle \\cdots j_{c-1}j_c j_{c+1}\\cdots j_{t-1}j_t j_{t+1}\\cdots|\\cdots k_{c-1}k_t k_{c+1}\\cdots k_{t-1}k_c k_{t+1}\\cdots\\rangle \\\\\n",
    "& = \\cdots\\delta_{j_{c-1},k_{c-1}}\\delta_{j_c,k_t}\\delta_{j_{c+1},k_{c+1}}\\cdots\\delta_{j_{t-1},k_{t-1}}\\delta_{j_t,k_c}\\delta_{j_{t+1},k_{t+1}}\\cdots,\n",
    "\\end{align}\n",
    "em que $j,k=0,\\cdots,d^N -1$, $j_s,k_s=0,\\cdots,d-1$ e $s=0,\\cdots,N-1$.\n",
    "\n",
    "Assim, para obter os elementos não nulos da SWAP, começamos com $k=\\cdots k_{c-1}k_c k_{c+1}\\cdots k_{t-1}k_t k_{t+1}\\cdots$ para $k=0,\\cdots,d^N -1$ e obtemos $j=\\cdots j_{c-1}k_t j_{c+1}\\cdots j_{t-1}k_c j_{t+1}\\cdots.$"
   ]
  },
  {
   "cell_type": "code",
   "execution_count": 7,
   "id": "30cb3c9f-a498-457c-871b-1029b1f35222",
   "metadata": {},
   "outputs": [],
   "source": [
    "def dec2den(j,N,d):\n",
    "    den = [0 for k in range(0,N)]\n",
    "    jv = j\n",
    "    for k in range(0,N):\n",
    "        if jv >= d**(N-1-k):\n",
    "            den[k] = jv//(d**(N-1-k))\n",
    "            jv = jv - den[k]*d**(N-1-k)\n",
    "    return den\n",
    "\n",
    "def den2dec(local,d):\n",
    "    # local = list with the local computational base state values \n",
    "    # d = individual qudit dimension\n",
    "    N = len(local)\n",
    "    j = 0\n",
    "    for k in range(0,N):\n",
    "        j += local[k]*d**(N-1-k)\n",
    "    return j # value of the global computational basis index"
   ]
  },
  {
   "cell_type": "code",
   "execution_count": 58,
   "id": "3d437bd4-30a5-45a3-ac48-9d94e2d2f6af",
   "metadata": {},
   "outputs": [],
   "source": [
    "import numpy as np\n",
    "\n",
    "def swap_qudits(d,N,t,c):\n",
    "    # d = qudit dimension; N = No. of qudits; t = target qudit (0,...,N-1); c = control qudit (0,...,N-1)\n",
    "    D = d**N; swap = np.zeros((D,D), dtype=int) # set all d^2N elements to 0\n",
    "    for k in range (0,d**N):\n",
    "        localr = dec2den(k,N,d) # sequence of values for the local basis\n",
    "        locall = [0 for k in range(0,N)]\n",
    "        for s in range(0,N):\n",
    "            locall[s] = localr[s]\n",
    "        rt = localr[t]; locall[c] = rt\n",
    "        rc = localr[c]; locall[t] = rc\n",
    "        globall = den2dec(locall,d)\n",
    "        swap[globall,k] = 1\n",
    "    return swap"
   ]
  },
  {
   "cell_type": "code",
   "execution_count": 59,
   "id": "ff7f3289-b599-4c19-bf11-0da0be84d9c9",
   "metadata": {},
   "outputs": [
    {
     "name": "stdout",
     "output_type": "stream",
     "text": [
      "[[1 0 0 0]\n",
      " [0 0 1 0]\n",
      " [0 1 0 0]\n",
      " [0 0 0 1]]\n"
     ]
    }
   ],
   "source": [
    "d=2; N=2; t=0; c=1; print(swap_qudits(d,N,t,c)) # ok"
   ]
  },
  {
   "cell_type": "code",
   "execution_count": 60,
   "id": "3ae53355-801f-47bd-a4d0-53be60d72cf6",
   "metadata": {},
   "outputs": [
    {
     "name": "stdout",
     "output_type": "stream",
     "text": [
      "[[1 0 0 0 0 0 0 0 0]\n",
      " [0 0 0 1 0 0 0 0 0]\n",
      " [0 0 0 0 0 0 1 0 0]\n",
      " [0 1 0 0 0 0 0 0 0]\n",
      " [0 0 0 0 1 0 0 0 0]\n",
      " [0 0 0 0 0 0 0 1 0]\n",
      " [0 0 1 0 0 0 0 0 0]\n",
      " [0 0 0 0 0 1 0 0 0]\n",
      " [0 0 0 0 0 0 0 0 1]]\n"
     ]
    }
   ],
   "source": [
    "d=3; N=2; t=0; c=1; print(swap_qudits(d,N,t,c)) # ok"
   ]
  },
  {
   "cell_type": "code",
   "execution_count": 63,
   "id": "62656c02-9981-4fcc-81d1-7667f0cca17e",
   "metadata": {},
   "outputs": [
    {
     "name": "stdout",
     "output_type": "stream",
     "text": [
      "[[1 0 0 0 0 0 0 0]\n",
      " [0 0 0 0 1 0 0 0]\n",
      " [0 0 1 0 0 0 0 0]\n",
      " [0 0 0 0 0 0 1 0]\n",
      " [0 1 0 0 0 0 0 0]\n",
      " [0 0 0 0 0 1 0 0]\n",
      " [0 0 0 1 0 0 0 0]\n",
      " [0 0 0 0 0 0 0 1]]\n"
     ]
    }
   ],
   "source": [
    "d=2; N=3; t=0; c=2; print(swap_qudits(d,N,t,c)) # ok"
   ]
  },
  {
   "cell_type": "markdown",
   "id": "8ff8cedc-6889-4078-88b9-ca722de45761",
   "metadata": {},
   "source": [
    "## Referências\n",
    "\n",
    "1. Y. Wang, Z. Hu, B. C. Sanders, and S. Kais, “Qudits and High-Dimensional Quantum Computing,” Frontiers in Physics, vol. 8, 2020, Accessed: Mar. 05, 2023. [Online]. Available: https://www.frontiersin.org/articles/10.3389/fphy.2020.589504\n"
   ]
  },
  {
   "cell_type": "code",
   "execution_count": null,
   "id": "b9522126-c723-4b3e-8122-ad3847c77267",
   "metadata": {},
   "outputs": [],
   "source": []
  }
 ],
 "metadata": {
  "kernelspec": {
   "display_name": "Python 3 (ipykernel)",
   "language": "python",
   "name": "python3"
  },
  "language_info": {
   "codemirror_mode": {
    "name": "ipython",
    "version": 3
   },
   "file_extension": ".py",
   "mimetype": "text/x-python",
   "name": "python",
   "nbconvert_exporter": "python",
   "pygments_lexer": "ipython3",
   "version": "3.11.1"
  }
 },
 "nbformat": 4,
 "nbformat_minor": 5
}
