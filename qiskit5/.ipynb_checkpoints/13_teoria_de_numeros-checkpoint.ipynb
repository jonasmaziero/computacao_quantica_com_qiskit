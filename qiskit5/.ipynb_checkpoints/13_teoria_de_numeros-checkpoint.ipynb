{
 "cells": [
  {
   "cell_type": "markdown",
   "id": "9ee43e18-0714-461e-8711-22303f1db03f",
   "metadata": {},
   "source": [
    "### Notas de aula de Computação Quântica <br> Autor: Jonas Maziero"
   ]
  },
  {
   "cell_type": "markdown",
   "id": "c1832e87-5d81-451c-91dd-b1f4bd2f6f97",
   "metadata": {},
   "source": [
    "# Teoria de números \n",
    "\n",
    "O conjunto de números inteiros é denotado por\n",
    "$$\\mathbb{Z} = \\{\\cdots,-3,-2,-1,0,1,2,3,\\cdots\\}.$$\n",
    "O conjunto de números naturais é denotado por\n",
    "$$\\mathbb{N} = \\{1,2,3,\\cdots\\}.$$\n",
    "Para os naturais incluindo o zero usaremos $\\mathbb{N}_0 = \\{0,1,2,3,\\cdots\\}.$\n",
    "\n",
    "Seja $n,d\\in\\mathbb{Z}$. Dizemos que $d$ divide $n$ se exite um $k\\in\\mathbb{Z}$ tal que\n",
    "$$n=kd.$$\n",
    "Nesse caso, usamos a notação \n",
    "$$d\\mid n$$\n",
    "e dizemos que $d$ é um fator ou divisor de $n$. Se $d$ não divide $n$ usamos a notação \n",
    "$$d\\nmid n.$$\n",
    "Por exemplo\n",
    "$$3\\mid 6,\\ 5\\mid 20,\\ 3\\nmid 5,\\ 7\\nmid 22.$$\n",
    "\n",
    "Seguem alguns resultados relacionados. "
   ]
  },
  {
   "cell_type": "markdown",
   "id": "0e21d762-17ff-4155-b8a6-b2f6dd55ca5e",
   "metadata": {},
   "source": [
    "__Transitividade.__ Se $a\\mid b$ e $b\\mid c$ então $a\\mid c$, para $a,b,c\\in\\mathbb{Z}$.\n",
    "\n",
    "Para demonstrar essa propriedade, notamos que se \n",
    "\\begin{align}\n",
    "& a\\mid b\\ \\therefore \\exists\\ k\\in\\mathbb{Z}\\mid b=ka, \\\\\n",
    "& b\\mid c\\ \\therefore \\exists\\ l\\in\\mathbb{Z}\\mid c=lb = lka=ma\\ \\text{com}\\ m\\in\\mathbb{Z}, \\\\\n",
    "& \\therefore\\ a\\mid c.\n",
    "\\end{align}\n",
    "Acima usamos que o produto de dois números inteiros é um número inteiro.\n",
    "\n",
    "__Combinação linear.__ Se $d\\mid a$ e $d\\mid b$ então $d\\mid (ax+by)$ com $a,b,c,x,y\\in\\mathbb{Z}.$\n",
    "\n",
    "Para demonstrar esse resultado, notamos que \n",
    "$$d\\mid a\\ \\therefore\\ a=dk\\ \\text{e}\\ d\\mid b\\ \\therefore\\ b=dl$$\n",
    "com $k,l\\in\\mathbb{Z}.$ Vem assim que\n",
    "\\begin{align}\n",
    "\\frac{ax+by}{d} & = \\frac{ax}{d} + \\frac{by}{d} \\\\\n",
    "& = \\frac{a}{d}x + \\frac{b}{d}y \\\\\n",
    "& = kx + ly \\\\\n",
    "& = m + n \\\\\n",
    "& = p,\n",
    "\\end{align}\n",
    "com $m,n,p\\in\\mathbb{Z}$. Acima usamos as propriedades do produto e da divisão. Vemos assim que se $d$ divide $a$ e divide $b$, então $d$ também divide qualquer combinação dinear de $a$ e $b$ com coeficientes inteiros, i.e.,\n",
    "$$d\\mid (ax+by).$$"
   ]
  },
  {
   "cell_type": "markdown",
   "id": "d721ad00-8025-44f4-b54f-40075ea6c3b2",
   "metadata": {},
   "source": [
    "__Ordenamento.__ Sejam $a,b\\in\\mathbb{N}.$ Temos que $a\\mid b\\ \\therefore\\ a\\le b.$ Por conseguinte, se $a\\mid b$ e $b\\mid a$ então $a=b.$\n",
    "\n",
    "Para demonstrar esse resultado, começamos notando que $a\\mid b\\ \\therefore\\ b = ak\\ \\text{com}\\ k\\in\\mathbb{N}.$ Teremos assim que\n",
    "\\begin{align}\n",
    "& b-a = ak-a = a(k-1) \\ge 0\\ \\text{pois}\\ k\\ge 1, \\\\\n",
    "& b-a\\ge 0\\ \\therefore\\ b\\ge a.\n",
    "\\end{align}\n",
    "Do mesmo modo, vemos que\n",
    "$$b\\mid a\\ \\therefore\\ b\\le a.$$\n",
    "Com isso, vem que\n",
    "$$(a\\mid b\\ \\text{e}\\ b\\mid a)\\ \\therefore\\ (a\\le b\\ \\text{e}\\ b\\le a)\\ \\therefore\\ a=b.$$"
   ]
  },
  {
   "cell_type": "markdown",
   "id": "f6f7b90c-cc0b-4b52-a3cb-a84a9419d94b",
   "metadata": {},
   "source": [
    "__Números primos__ são números $p\\in\\mathbb{N}_{>1}$ que tem somente $1$ e $p$ como fatores, ou seja, \n",
    "$$d|p\\ \\iff\\ d=1\\ \\text{ou}\\ d=p.$$\n",
    "Vamos denotar o conjunto formado por todos os números primos por $\\mathbb{P}.$ \n",
    "\n",
    "Uma outra forma de definir números primos é dizer que $p\\in\\mathbb{P}$ se $p\\in\\mathbb{N}$ e $p$ tem exatamente dois divisores ($1$ e $p$) em $\\mathbb{N}.$ Essa última definição excluí $1$ automaticamente, pois $1$ tem um único divisor em $\\mathbb{N},$ que é o próprio $1$."
   ]
  },
  {
   "cell_type": "markdown",
   "id": "ccf0baea-cbd7-44d1-9f4c-9d5230029346",
   "metadata": {},
   "source": [
    "__Teorema fundamental da aritmética.__ Seja $a\\in\\mathbb{N}_{>1}$. Esse número tem uma única fatoração em termos de números primos diferentes:\n",
    "$$a=p_1^{a_1}p_2^{a_2}\\cdots p_n^{a_n},$$\n",
    "com $a_1,a_2,\\cdots,a_n\\in\\mathbb{N}$ e $p_1,p_2,\\cdots,p_n\\in\\mathbb{P}.$\n",
    "\n",
    "_Prova._ Para $a,b\\in\\mathbb{N}$, se \n",
    "$$p\\in\\mathbb{P}\\ \\text{e}\\ p\\mid(ab)\\ \\therefore\\ p|a\\ \\text{ou}\\ p|b.$$\n",
    "Vamos supor que \n",
    "$$p\\nmid b\\ \\therefore\\ b=cp+r$$\n",
    "com $r,c\\in\\mathbb{N}$ e \n",
    "$$r<p.$$\n",
    "Por exemplo $8=(2)(3)+2$). Assim, temos que\n",
    "\\begin{align}\n",
    "& p\\mid(ab)\\ \\therefore\\ p\\mid(a(cp+r))\\\\\n",
    "& \\therefore\\ p\\mid(acp + ar)\\\\\n",
    "& \\therefore p\\mid(ar) \\\\\n",
    "& \\therefore p\\mid a,\n",
    "\\end{align}\n",
    "pois $r<p$ e assim $p$ não pode dividir $r$."
   ]
  },
  {
   "cell_type": "markdown",
   "id": "c3e922c1-bafc-4fc7-be4a-2300a1ae46cc",
   "metadata": {},
   "source": [
    "Com isso, dado um número $n\\in\\mathbb{N}$ qualquer, vemos que exite $p\\in\\mathbb{P}$ tal que\n",
    "$$n=pm$$\n",
    "com $m\\in\\mathbb{N}.$ Do mesmo modo, existe $q\\in\\mathbb{P}$ tal que\n",
    "$$m=qf\\ \\therefore\\ n = pqf,$$\n",
    "com $f\\in\\mathbb{N}.$ Claro, podemos ter $q=p$ ou $q\\ne p$. Para completar a prova, seguimos aplicando essa ideia até que nos restam somente fatores primos. \n",
    "<br>** não estou satisfeito com a parte final da prova **\n",
    "<br> $\\square$"
   ]
  },
  {
   "cell_type": "markdown",
   "id": "2f428844-9dbd-41f3-a472-32077d292252",
   "metadata": {},
   "source": [
    "OBS. Por causa deste último teorema é que se diz que os números primos são as unidades básicas (os átomos) dos números naturais e inteiros.\n",
    "\n",
    "__Proposição.__ Existe um número infinito de números primos.\n",
    "\n",
    "_Prova._ Vamos assumir que existe um número finito de números primos \n",
    "$$p_1,p_2,\\cdots,p_N\\in\\mathbb{P}_f.$$\n",
    "Para qualquer número $p_j\\in\\mathbb{P}_f$, como $p_j$ divide $p_1\\cdots p_{j-1}p_j p_{j+1}\\cdots p_N$, temos que $p_j$ não divide \n",
    "$$c=p_1\\cdots p_{j-1}p_j p_{j+1}\\cdots p_N +1$$\n",
    "(sobra $1$). Então, ou $c\\in\\mathbb{P}$ e não está em $\\mathbb{P}_f$ ou $c$ tem um fator primo que não está em $\\mathbb{P}_f$. De qualquer forma, concluímos que $\\mathbb{P}_f$ não podem ser os únicos números primos que existem. Esse raciocínio pode ser aplicado para qualquer $N$. Com isso, concluímos que existem infinitos números primos.\n",
    "<br> $\\square$\n",
    "\n",
    "__Maior divisor comum.__ O maior divisor comum de dois números inteiros $a$ e $b$ é o maior número inteiro $\\gcd(a,b)$ que divide $a$ e divide $b$."
   ]
  },
  {
   "cell_type": "markdown",
   "id": "40ef24af-3d9b-4706-88c3-77550f8d9d31",
   "metadata": {},
   "source": [
    "__Teorema.__ O $\\gcd(a,b)$ é o menor inteiro que pode ser escrito na forma $xa+yb$, com $x,y\\in\\mathbb{Z}.$\n",
    "\n",
    "_Prova._ Consideremos que $s=xa+yb$ é o menor inteiro que pode ser escrito dessa forma. Da definição de mdc, temos que\n",
    "\\begin{align}\n",
    "& \\gcd(a,b)|a\\ \\text{e}\\ \\gcd(a,b)|b\\ \\therefore\\ \\gcd(a,b)|s\\\\\n",
    "& \\therefore\\ \\gcd(a,b)\\le s.\n",
    "\\end{align}\n",
    "\n",
    "Vamos supor agora que\n",
    "$$s\\nmid a\\ \\therefore\\ a=ks+r$$\n",
    "com $k\\in\\mathbb{N}$ e o resto da divisão é tal que\n",
    "$$r\\in[1,s-1]\\ \\therefore\\ r< s.$$\n",
    "Assim, podemos escrever\n",
    "\\begin{align}\n",
    "r & = a - ks = a - k(xa+yb) \\\\\n",
    "& = (1-kx)a + (-ky)b \\\\\n",
    "& < s.\n",
    "\\end{align}\n",
    "Ou seja, a suposição $s\\nmid a$ implicaria que existe uma outra combinação linear $(1-kx)a + (-ky)b$ que é menor que $s=xa+yb$.\n",
    "No entanto, isso contradiz nossa suposição inicial, de que a combinação linear $xa+yb$ é o menor inteiro que pode ser escrito nessa forma. Devemos ter portanto que nossa suposição inicial, $s\\nmid a$, deve estar errada. Assim, concluímos que\n",
    "$$s|a.$$\n",
    "\n",
    "Da mesma forma, podemos mostrar que\n",
    "$$s|b.$$\n",
    "Por conseguinte $s=xa+yb$ é divisor comum de $a$ e de $b$. Como vimos que $\\gcd(a,b)\\le s$, e $s$ é o menor inteiro que pode ser escrito na forma $xa+yb$, temos que ter que o maior divisor comum de $a$ e de $b$ é dado por\n",
    "$$\\gcd(a,b)=s=xa+yb$$\n",
    "com $x,y\\in\\mathbb{Z}$\n",
    "<br>$\\square$"
   ]
  },
  {
   "cell_type": "markdown",
   "id": "e3279906-52f1-4910-bb17-08165b297c4d",
   "metadata": {},
   "source": [
    "Por exemplo, consideremos que $a=100$ e $b=350$. Temos que $\\gcd(100,350)=50$. Também temos que $s=(-2)(100)+(1)(350)=50$. "
   ]
  },
  {
   "cell_type": "markdown",
   "id": "5498a2b8-61fa-4102-9fde-1a84ac580132",
   "metadata": {},
   "source": [
    "__Corolário.__ Para $c\\in\\mathbb{Z}$, se $c|a$ e $c|b$, então $c|\\gcd(a,b)$.\n",
    "\n",
    "_Prova._ Como podemos escrever $\\gcd(a,b)=xa+yb$ com $x,y\\in\\mathbb{Z}$, vem que\n",
    "\\begin{align}\n",
    "c|a\\ \\text{e}\\ c|b\\ \\therefore\\ c|(xa+yb)\\ \\therefore\\ c|\\gcd(a,b).\n",
    "\\end{align}\n",
    "$\\square$\n",
    "\n",
    "Por exemplo, para $a=100$ e $b=350$ temos que $\\gcd(100,350)=50.$ Assim, e.g. $10|100\\ \\text{e} 10|350\\ \\therefore\\ 10|50$.\n",
    "\n",
    "__Coprimos.__ Dois números $a,b\\in\\mathbb{Z}$ são ditos coprimos se $\\gcd(a,b)=1.$ <br>\n",
    "Por exemplo, $9$ e $14$ são coprimos, pois seus divisores são, respectivamente, $1,\\ 3$ e $1,\\ 2,\\ 7$. Já $10$ e $14$ não são coprimos, pois os divisores de $10$ são $1, 2,\\ 5$ e assim $\\gcd(10,14)=2\\ne 1.$ \n",
    "\n",
    "__Inversa multiplicativa na aritmética modular.__ Dizemos que $b\\in\\mathbb{Z}$ é a inversa multiplicativa de $a\\in\\mathbb{Z}$ módulo $n\\in\\mathbb{Z}$ se\n",
    "$$ab=1(\\bmod n)\\ \\therefore\\ (a(\\bmod n))(b(\\bmod n)) = 1(\\bmod n).$$ \n",
    "Não é sempre que a inversa multiplicativa existe. Por exemplo\n",
    "$$(2)(3)=1(\\bmod 5),$$\n",
    "e assim $3$ é a inversa multiplicativa de $2$ no módulo $5$, e vice versa. No entanto, $2$ não tem inversa multiplicativa módulo $4$. \n"
   ]
  },
  {
   "cell_type": "markdown",
   "id": "2b116f73-584a-4d03-8369-a2f6246c2b7f",
   "metadata": {},
   "source": [
    "__Corolário.__ Consideremos $n\\in\\mathbb{Z}_{>1}$ e $a\\in\\mathbb{Z}$. Existe a inversa multiplicativa $a^{-1}$ de $a$ módulo $n$ se e somente se $\\gcd(a,n)=1$ (ou seja, se e somente se $a$ e $n$ são coprimos).\n",
    "\n",
    "_Prova._ Supomos inicialmente que existe $a^{-1}$ tal que $a^{-1}a = 1(\\bmod n)$. Teremos assim que\n",
    "$$a^{-1}a = kn +1\\ \\therefore\\ (a^{-1})a + (k)n = 1,$$\n",
    "com $k\\in\\mathbb{Z}$. Temos assim que $\\gcd(a,n)\\le 1$. Mas como $1$ divide qualquer número, então\n",
    "$$\\gcd(a,n)=1.$$\n",
    "\n",
    "Vamos assumir agora que $\\gcd(a,n)=1.$ Do último teorema temos que existem $a^{-1},-k\\in\\mathbb{Z}$ tal que\n",
    "$$(a^{-1})a+(-k)n=1\\ \\therefore\\ a^{-1}a = kn+1\\ \\therefore\\ a^{-1}a=1(\\bmod n).$$\n",
    "$\\square$"
   ]
  },
  {
   "cell_type": "markdown",
   "id": "bbbbf6ab-7ec8-4943-ae12-012d0977a9d5",
   "metadata": {},
   "source": [
    "__Resultado.__ Para $p\\in\\mathbb{P}$, todos os inteiros $a\\in[1,p-1]$ possuem inversa multiplicativa módulo $p$. <br>\n",
    "Para obter esse resultado, lembramos que $a$ possui inversa multiplicativa módulo $p$ se e semente se $a$ e $p$ são coprimos (iff $\\gcd(a,p)=1$). Como $p$ é primo, sabemos que os seus únicos divisores são $1$ e $p$. No entanto $p>a$ não pode ser divisor de $a$, e $1$ divide qualquer número. Vemos assim que o único divisor comum de $p$ e $a$ no intervalo $[1,p-1]$ é $1$. Por conseguinte \n",
    "$$\\exists a^{-1}\\forall a\\in[1,p-1]$$\n",
    "tal que\n",
    "$$a^{-1}a=1(\\bmod p).$$\n",
    "\n",
    "Por exemplo, para $p=5$ temos que\n",
    "\\begin{align}\n",
    "& 1^{-1}=1\\ \\text{pois}\\ (1)(1) = 1(\\bmod 5),\\\\\n",
    "& 2^{-1}=3\\ \\text{pois}\\ (3)(2) = 1(\\bmod 5),\\\\\n",
    "& 3^{-1}=2\\ \\text{pois}\\ (2)(3) = 1(\\bmod 5),\\\\\n",
    "& 4^{-1}=4\\ \\text{pois}\\ (4)(4) = 1(\\bmod 5).\n",
    "\\end{align}"
   ]
  },
  {
   "cell_type": "markdown",
   "id": "c8364395-537c-4e5a-9acf-34e3b6c4c4c8",
   "metadata": {},
   "source": [
    "Relacionado a esse resultado, consideremos $a\\in[1,p^2-1]$ e olhemos para quais valores de $a$ não existe a inversa multiplicativa módulo $p^2$. Os únicos divisores de $p^2$ são $1,\\ p,\\ p^2$, com este último sendo maior que $a$ e portanto não divide $a$. Para $a\\in[1,p-1]$ e $a\\in[p+1,p^2-1]$ só $1$ divide $a$ e $p^2$, e portanto $\\exists a^{-1}|a^{-1}a=1\\bmod p^2.$ Para $a=p$ não existe $a^{-1}$ pois $1$ e $p$ dividem $a$ e $p^2$.   "
   ]
  },
  {
   "cell_type": "markdown",
   "id": "e50f3141-de61-4bd7-9b2e-c92244b1a5df",
   "metadata": {},
   "source": [
    "__Teorema.__ Sejam $a,b\\in\\mathbb{Z}$ e $r$ o resto da divisão de $a$ por $b$. Então, se $r\\ne 0$ vem que\n",
    "$$\\gcd(b,a)=\\gcd(b,r).$$\n",
    "\n",
    "_Prova._ Provamos este teorema provando que cada lado da igualdade divide o outro. Começamos notando que\n",
    "$$a = kb+r\\ \\therefore\\ r = a +(k)b,$$\n",
    "com $k\\in\\mathbb{Z}$. Como $\\gcd(a,b)$ divide $a$ e $b$, este divide combinações lineares de $a$ e $b$ e portanto divide $r$. Por conseguinte \n",
    "$$\\gcd(a,b)|\\gcd(b,r)$$\n",
    "pois $\\gcd(b,r)=xb+yr$ para $x,y\\in\\mathbb{Z}.$\n",
    "\n",
    "Agora, temos que $\\gcd(b,r)|b$ e $\\gcd(b,r)|r$ implica que $\\gcd(b,r)$ divide qualque combinação linear de $b$ e $r$, e portanto divide $a=ka+r$. Temos assim que\n",
    "$$\\gcd(b,r)|b,\\ \\gcd(b,r)|a\\ \\therefore\\ \\gcd(b,r)|\\gcd(a,b)$$\n",
    "pois $\\gcd(a,b)=za+wb$ com $z,w\\in\\mathbb{Z}.$\n",
    "<br>** não entendi pq um lado dividir o outro implica na igualdade **\n",
    "<br>$\\square$"
   ]
  },
  {
   "cell_type": "markdown",
   "id": "3f8b6c1d-eab2-4e32-a8b8-1e63c1e288b5",
   "metadata": {},
   "source": [
    "__Algoritmo de Euclides.__ para obter $\\gcd(a,b)$ <br>\n",
    "Os seguintes passos podem ser utilizados para obter o maior divisor comum de 2 números inteiros $a$ e $b$:\n",
    "1. Ordena $a$ e $b$ tal que $a>b$.\n",
    "\n",
    "2. Divide $a$ por $b$ para obter \n",
    "$$a=k_1 b+r_1.$$\n",
    "Do último teorema temos que\n",
    "$$\\gcd(a,b) = \\gcd(b,r_1).$$\n",
    "\n",
    "3. Divide $b$ por $r_1$ para obter\n",
    "$$b=k_2 r_1 + r_2.$$\n",
    "Do último teorema segue que \n",
    "$$\\gcd(b,r_1)=\\gcd(r_1,r_2).$$\n",
    "\n",
    "4. Divide $r_1$ por $r_2$ para obter\n",
    "$$r_1=k_3 r_2 + r_3.$$\n",
    "Do último teorema segue que \n",
    "$$\\gcd(r_1,r_2)=\\gcd(r_2,r_3).$$\n",
    "\n",
    "5. Continua esse processo até que o resto da divisão é nulo. Nesse caso\n",
    "$$r_m = k_{m+2}r_{m+1}+0.$$\n",
    "Obtemos assim\n",
    "$$\\gcd(a,b) = \\gcd(r_m,r_{m+1}) = r_{m+1}.$$"
   ]
  },
  {
   "cell_type": "code",
   "execution_count": 17,
   "id": "e5a46dbc-7bba-4c3f-88cb-7a727009f01d",
   "metadata": {},
   "outputs": [],
   "source": [
    "def euclides_gcd(a,b):\n",
    "    if b > a: # put in order\n",
    "        t = a; a = b; b = t\n",
    "    if a == b or a%b == 0: # test equality or null remainder\n",
    "        return b    \n",
    "    r = a%b\n",
    "    print('a =', a, ', b =', b, ', k =', a//b, ', r =', r)\n",
    "    while r != 0:\n",
    "        a = b; b = r\n",
    "        gcd = b\n",
    "        r = a%b\n",
    "        print('a =', a, ', b =', b, ', k =', a//b, ', r =', r)\n",
    "    return b"
   ]
  },
  {
   "cell_type": "code",
   "execution_count": 18,
   "id": "0e2b85c3-fd5c-4299-bd65-f1d65e04c3bd",
   "metadata": {},
   "outputs": [
    {
     "name": "stdout",
     "output_type": "stream",
     "text": [
      "a = 6825 , b = 1430 , k = 4 , r = 1105\n",
      "a = 1430 , b = 1105 , k = 1 , r = 325\n",
      "a = 1105 , b = 325 , k = 3 , r = 130\n",
      "a = 325 , b = 130 , k = 2 , r = 65\n",
      "a = 130 , b = 65 , k = 2 , r = 0\n",
      "egcd(6825,1430)= 65 , pgcd =  65\n"
     ]
    }
   ],
   "source": [
    "import math\n",
    "a = 6825; b = 1430; egcd = euclides_gcd(a,b)\n",
    "print('egcd('+str(a)+','+str(b)+')=',egcd, ', pgcd = ', math.gcd(a,b))"
   ]
  },
  {
   "cell_type": "markdown",
   "id": "4261d1b2-2648-48fe-ab2a-d8c2d04fda41",
   "metadata": {},
   "source": [
    "__Algoritmo de Euclides para obter $x,y$ tais que $\\gcd(a,b)=xa+yb$__. <br>\n",
    "Do exemplo acima, começando da penúltima linha do algoritmo acima e considerando as linhas sucessivas acima vemos que $\\gcd(6825,1430) = 65$ pode ser escrito como\n",
    "\\begin{align}\n",
    "& 65 = 325 + (-2)(130), \\\\\n",
    "& 65 = 325 + (-2)(1105 + (-3)(325)) = (-2)(1105) + (1+6)(325), \\\\\n",
    "& 65 = (-2)(1105) + (7)(1430 + (-1)(1105)) = (7)(1430) + (-2-7)(1105) , \\\\\n",
    "& 65 = (7)(1430) + (-9)(6825 + (-4)(1430)) = (-9)(6825) + (7+36)(1430).\n",
    "\\end{align}\n",
    "Assim\n",
    "$$\\gcd(6825,1430) = 65 = (-9)(6825) + (43)(1430).$$"
   ]
  },
  {
   "cell_type": "code",
   "execution_count": 16,
   "id": "7a615bc3-eac8-4c20-85c6-eb1885f2f77c",
   "metadata": {},
   "outputs": [
    {
     "data": {
      "text/plain": [
       "65"
      ]
     },
     "execution_count": 16,
     "metadata": {},
     "output_type": "execute_result"
    }
   ],
   "source": [
    "-9*6825 + 43*1430 # ok!"
   ]
  },
  {
   "cell_type": "markdown",
   "id": "303f0ecd-4814-41dc-bac0-d2a74de067e5",
   "metadata": {},
   "source": [
    "Vamos tentar obter um algoritmo geral a partir das contas acima feitas em termos de variáveis em vez de números. Começamos com\n",
    "\\begin{align}\n",
    "& a_0 = 6825,\\ b_0=1430,\\ k_0 = 4,\\ r_0 = 1105, \\\\\n",
    "& a_1 = 1430,\\ b_1=1105,\\ k_1 = 1,\\ r_1 = 325, \\\\\n",
    "& a_2 = 1105,\\ b_2=325,\\ k_2 = 3,\\ r_2 = 130, \\\\\n",
    "& a_3 = 325,\\ b_3=130,\\ k_3 = 2,\\ r_3 = 65, \\\\\n",
    "& a_4 = 130,\\ b_4=65,\\ k_4 = 3,\\ r_4 = 0.\n",
    "\\end{align}\n",
    "Notamos que\n",
    "$$a_j = b_{j-1},\\ b_j = r_{j-1}.$$"
   ]
  },
  {
   "cell_type": "markdown",
   "id": "0c288c68-90d2-4811-a93a-3469c0a2df6e",
   "metadata": {},
   "source": [
    "Temos assim que\n",
    "\\begin{align}\n",
    "r_{3} & = a_3 + (-k_3)(b_3) \\\\ \n",
    "& = b_2 + (-k_3)(r_2) \\\\\n",
    "& = r_1 + (-k_3)(a_2 + (-k_2)(b_2)) \\\\\n",
    "& = (a_1 + (-k_1)(b_1)) + (-k_3)(a_2) + (-k_3)(-k_2)(b_2) \\\\\n",
    "& = b_0 + (-k_1)(r_0) + (-k_3)(b_1) + (-k_3)(-k_2)(r_1) \\\\\n",
    "& = b_0 + (-k_1)(a_0 +(-k_0)(b_0)) + (-k_3)(r_0) + (-k_3)(-k_2)(a_1+(-k_1)(b_1)) \\\\\n",
    "& = b_0 + (-k_1)a_0 + (-k_1)(-k_0)(b_0) + (-k_3)(a_0+(-k_0)(b_0)) + (-k_3)(-k_2)(a_1) + (-k_3)(-k_2)(-k_1)(b_1) \\\\\n",
    "& = b_0 + (-k_1)a_0 + (-k_1)(-k_0)(b_0) + (-k_3)(a_0) + (-k_3)(-k_0)(b_0) + (-k_3)(-k_2)(b_0) + (-k_3)(-k_2)(-k_1)(r_0) \\\\\n",
    "& = b_0 + (-k_1)a_0 + (-k_1)(-k_0)b_0 + (-k_3)a_0 + (-k_3)(-k_0)b_0 + (-k_3)(-k_2)b_0 + (-k_3)(-k_2)(-k_1)(a_0+(-k_0)(b_0)) \\\\\n",
    "& = b_0 + (-k_1)a_0 + (-k_1)(-k_0)b_0 + (-k_3)a_0 + (-k_3)(-k_0)b_0 + (-k_3)(-k_2)b_0 + (-k_3)(-k_2)(-k_1)a_0 + (-k_3)(-k_2)(-k_1)(-k_0)b_0 \\\\\n",
    "& = a_0\\big((-k_1) + (-k_3) + (-k_3)(-k_2)(-k_1)\\big) + b_0\\big(1 + (-k_1)(-k_0) + (-k_3)(-k_0) + (-k_3)(-k_2) + (-k_3)(-k_2)(-k_1)(-k_0)\\big).\n",
    "\\end{align}\n",
    "Não consegui ver padrão aqui ..."
   ]
  },
  {
   "cell_type": "markdown",
   "id": "02c0978e-7479-4bd0-a6c1-70d42f98719f",
   "metadata": {},
   "source": [
    "__Algoritmo de Euclides para a inversa multiplicativa.__"
   ]
  },
  {
   "cell_type": "markdown",
   "id": "fb2e6a44-2500-4b29-80a4-66c17f3c1b47",
   "metadata": {},
   "source": [
    "__Complexidade computacional do algoritmo de Euclides.__\n",
    "\n",
    "$$\\mathcal{O}(N^3).$$"
   ]
  },
  {
   "cell_type": "markdown",
   "id": "19e5e492-9ff9-40ae-8b24-f3112590cb45",
   "metadata": {},
   "source": [
    "__Teorema Chinês dos restos.__ Sejam $\\{m_j\\}_{j=1}^{n}\\in\\mathbb{N}$ tais que $m_j=1(\\bmod m_k)\\ \\forall j\\ne k$ ($m_j$ e $m_k$ são coprimos para $j\\ne k$). Então o sistema de equações\n",
    "\\begin{align}\n",
    "& x = a_1(\\bmod m_1), \\\\\n",
    "& x = a_2(\\bmod m_2), \\\\\n",
    "& \\vdots \\\\\n",
    "& x = a_n(\\bmod m_n), \\\\\n",
    "\\end{align}\n",
    "tem solução. Ademais, quaisquer duas solução desse sistema de equações são iguais módulo $M=\\Pi_{j=1}^{n}m_j.$\n",
    "\n",
    "_Prova._"
   ]
  },
  {
   "cell_type": "code",
   "execution_count": null,
   "id": "6e8172a8-ef5c-47d1-9cfd-05f523521260",
   "metadata": {},
   "outputs": [],
   "source": []
  },
  {
   "cell_type": "markdown",
   "id": "2f4a0344-4801-44fb-a141-71d03617122d",
   "metadata": {},
   "source": [
    "__Lema.__ Se $p\\in\\mathbb{P}$ e $k\\in\\mathbb{Z}$ com $k\\in[1,p-1]$, então $p\\mid\\binom{p}{k}.$\n",
    "\n",
    "_Prova._ Temos que \n",
    "\\begin{align}\n",
    "& \\binom{p}{k} = \\frac{p!}{k!(p-k)!} \\\\\n",
    "& \\therefore\\ \\binom{p}{k}k! = \\frac{p!}{(p-k)!} \\\\\n",
    "& \\therefore\\ \\binom{p}{k}k(k-1)(k-2)\\cdots(2)(1) = \\frac{p(p-1)(p-2)\\cdots(p-k+1)(p-k)(p-k-1)\\cdots(2)(1)}{(p-k)(p-k-1)\\cdots(2)(1)} \\\\\n",
    "& \\therefore\\ \\binom{p}{k}k(k-1)(k-2)\\cdots(2)(1) = p(p-1)(p-2)\\cdots(p-k+1).\n",
    "\\end{align}\n",
    "Agora temos que $p$ divide o lado direito dessa última equação, e portanto também deve dividir o lado esquerdo. Com $p>k$, temos que $p\\nmid k$ e não divide nenhum dos termos multiplicando $k$ pela direita, no lado esquerdo da igualdade. Devemos ter portanto que $p$ divide $\\binom{p}{k}.$\n",
    "<br>$\\square$\n",
    "\n",
    "_OBS._ Este último lema vale tanto para $p$ primo quanto para $p$ um inteiro quailquer, pois durante a prova não usamos em momento algum o fato de $p$ ser primo."
   ]
  },
  {
   "cell_type": "markdown",
   "id": "9b0a0e97-282b-464a-9f7a-6f354e4d15b0",
   "metadata": {},
   "source": [
    "__Pequeno teorema de Fermat.__ Para $p\\in\\mathbb{P}$ e $a\\in\\mathbb{Z}$, temos que $a^p = a(\\bmod p).$ Ademais, se $p\\nmid a$ então $a^{p-1}=1(\\bmod p)$, ou seja, se $p\\nmid a$ os números $a^{p-1}$ e $a$ são coprimos.\n",
    "\n",
    "_Prova._"
   ]
  },
  {
   "cell_type": "code",
   "execution_count": null,
   "id": "766d57ad-c6f5-4a2c-8915-20d321cf1280",
   "metadata": {},
   "outputs": [],
   "source": []
  },
  {
   "cell_type": "markdown",
   "id": "d3efc332-590f-4ce0-b3c1-aaf1cbca4d56",
   "metadata": {},
   "source": [
    "## Referências\n",
    "\n",
    "1. M. A. Nielsen and I. L. Chuang, Quantum Computation and Quantum Information (Cambridge University Press,Cambridge, 2000).\n",
    "\n",
    "2. S. Aaronson, The Prime Facts: From Euclid to AKS, https://www.scottaaronson.com/writings/prime.pdf (2003)."
   ]
  },
  {
   "cell_type": "code",
   "execution_count": null,
   "id": "a718e955-2be3-45bb-b3d0-e79fe60a5dea",
   "metadata": {},
   "outputs": [],
   "source": []
  }
 ],
 "metadata": {
  "kernelspec": {
   "display_name": "Python 3 (ipykernel)",
   "language": "python",
   "name": "python3"
  },
  "language_info": {
   "codemirror_mode": {
    "name": "ipython",
    "version": 3
   },
   "file_extension": ".py",
   "mimetype": "text/x-python",
   "name": "python",
   "nbconvert_exporter": "python",
   "pygments_lexer": "ipython3",
   "version": "3.11.1"
  }
 },
 "nbformat": 4,
 "nbformat_minor": 5
}
