{
 "cells": [
  {
   "cell_type": "markdown",
   "id": "9ee43e18-0714-461e-8711-22303f1db03f",
   "metadata": {},
   "source": [
    "### Notas de aula de Computação Quântica <br> Autor: Jonas Maziero"
   ]
  },
  {
   "cell_type": "markdown",
   "id": "c1832e87-5d81-451c-91dd-b1f4bd2f6f97",
   "metadata": {},
   "source": [
    "# Teoria de números \n",
    "\n",
    "O conjunto de números inteiros é denotado por\n",
    "$$\\mathbb{Z} = \\{\\cdots,-3,-2,-1,0,1,2,3,\\cdots\\}.$$\n",
    "O conjunto de números naturais é denotado por\n",
    "$$\\mathbb{N} = \\{1,2,3,\\cdots\\}.$$\n",
    "\n",
    "Seja $n,d\\in\\mathbb{Z}$. Dizemos que $d$ divide $n$ se exite um $k\\in\\mathbb{Z}$ tal que\n",
    "$$n=dk.$$\n",
    "Nesse caso, usamos a notação \n",
    "$$d\\mid n.$$\n",
    "Se $d$ não divide $n$ usamos a notação \n",
    "$$d\\nmid n.$$\n",
    "Por exemplo\n",
    "$$3\\mid 6,\\ 5\\mid 20,\\ 3\\nmid 5,\\ 7\\nmid 22.$$"
   ]
  },
  {
   "cell_type": "markdown",
   "id": "0e21d762-17ff-4155-b8a6-b2f6dd55ca5e",
   "metadata": {},
   "source": [
    "__Transitividade.__ Se $a\\mid b$ e $b\\mid c$ então $a\\mid c$.\n",
    "\n",
    "Para demonstrar essa propriedade, notamos que se \n",
    "\\begin{align}\n",
    "& a\\mid b\\ \\therefore \\exists\\ k\\in\\mathbb{Z}\\mid b=ka, \\\\\n",
    "& b\\mid c\\ \\therefore \\exists\\ l\\in\\mathbb{Z}\\mid c=lb = lka=ma\\ \\text{com}\\ m\\in\\mathbb{Z}, \\\\\n",
    "& \\therefore\\ a\\mid c.\n",
    "\\end{align}\n",
    "Acima usamos que o produto de dois números inteiros é um número inteiro.\n",
    "\n",
    "__Combinação linear.__ Se $d\\mid a$ e $d\\mid b$ então $d\\mid (ax+by)$ com $x,y\\in\\mathbb{Z}.$\n",
    "\n",
    "Para demonstrar essas notamos que $d\\mid a\\ \\therefore\\ a=dk$ e $d\\mid b\\ \\therefore\\ b=dl$ com $k,l\\in\\mathbb{Z}.$ Vem assim que\n",
    "\\begin{align}\n",
    "\\frac{ax+by}{d} & = \\frac{ax}{d} + \\frac{by}{d} \\\\\n",
    "& = \\frac{a}{d}x + \\frac{b}{d}y \\\\\n",
    "& = kx + ly \\\\\n",
    "& = m + n \\\\\n",
    "& = p,\n",
    "\\end{align}\n",
    "com $m,n,p\\in\\mathbb{Z}$. Acima usamos as propriedades do produto e da divisão. Vemos assim que se $d$ divide $a$ e divide $b$, então $d$ também divide qualquer combinação dinear de $a$ e $b$ com coeficientes inteiros, i.e.,\n",
    "$$d\\mid (ax+by).$$"
   ]
  },
  {
   "cell_type": "markdown",
   "id": "d721ad00-8025-44f4-b54f-40075ea6c3b2",
   "metadata": {},
   "source": [
    "__Ordenamento.__ Sejam $a,b\\in\\mathbb{N}.$ Temos que $a\\mid b\\ \\therefore\\ a\\le b.$ Por conseguinte, se $a\\mid b$ e $b\\mid a$ então $a=b.$\n",
    "\n",
    "Para demonstrar esse resultado, começamos notando que $a\\mid b\\ \\therefore\\ b = ak\\ \\text{com}\\ k\\in\\mathbb{N}.$ Teremos assim que\n",
    "\\begin{align}\n",
    "& b-a = ak-a = a(k-1) \\ge 0\\ \\text{pois}\\ k\\ge 1, \\\\\n",
    "& b-a\\ge 0\\ \\therefore\\ b\\ge a.\n",
    "\\end{align}\n",
    "Com isso, vem que\n",
    "$$$$"
   ]
  },
  {
   "cell_type": "markdown",
   "id": "f6f7b90c-cc0b-4b52-a3cb-a84a9419d94b",
   "metadata": {},
   "source": []
  },
  {
   "cell_type": "code",
   "execution_count": null,
   "id": "e9bd3e04-9182-4106-8c6a-3c836b7a6a30",
   "metadata": {},
   "outputs": [],
   "source": []
  },
  {
   "cell_type": "code",
   "execution_count": null,
   "id": "ee776849-2d21-4b08-9488-22fdd34480fa",
   "metadata": {},
   "outputs": [],
   "source": []
  },
  {
   "cell_type": "code",
   "execution_count": null,
   "id": "18d1e529-7d72-4dfc-ac99-c4e6385f968e",
   "metadata": {},
   "outputs": [],
   "source": []
  },
  {
   "cell_type": "code",
   "execution_count": null,
   "id": "4537be45-39a3-44f9-887d-e57ea6a53900",
   "metadata": {},
   "outputs": [],
   "source": []
  }
 ],
 "metadata": {
  "kernelspec": {
   "display_name": "Python 3 (ipykernel)",
   "language": "python",
   "name": "python3"
  },
  "language_info": {
   "codemirror_mode": {
    "name": "ipython",
    "version": 3
   },
   "file_extension": ".py",
   "mimetype": "text/x-python",
   "name": "python",
   "nbconvert_exporter": "python",
   "pygments_lexer": "ipython3",
   "version": "3.11.1"
  }
 },
 "nbformat": 4,
 "nbformat_minor": 5
}
