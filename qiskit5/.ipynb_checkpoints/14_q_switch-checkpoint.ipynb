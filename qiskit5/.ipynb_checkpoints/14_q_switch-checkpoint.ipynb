{
 "cells": [
  {
   "cell_type": "markdown",
   "id": "6be42e05-2fc5-4b76-80f4-7ccdcf5040a3",
   "metadata": {},
   "source": [
    "### Notas de aula de Computação Quântica <br> Autor: Jonas Maziero\n",
    "\n",
    "# O trocador quântico (q-switch)\n",
    "\n",
    "Considere matrizes complexas \n",
    "$$M\\in\\mathbb{C}^{p\\times p}$$\n",
    "e $I$ sendo a matriz identidade $p\\times p$. \n",
    "\n",
    "Se \n",
    "$$|M_{jk}|=1 \\text{ e } MM^\\dagger = I$$\n",
    "chamamos $M$ de matriz __complexa de Hadamard__. O conjunto de matrizes desse tipo é denotado por $CH(p).$\n",
    "\n",
    "Os elementos de uma matriz complexa qualquer pode ser escritos como \n",
    "$$M_{jk}=|M_{jk}|e^{i\\phi_{jk}},$$\n",
    "com $\\phi_{jk}\\in[0,2\\pi).$ Por conseguinte\n",
    "$$M\\in CH(p)\\ \\Rightarrow\\ M_{jk}=e^{i\\phi_{jk}}.$$\n",
    "\n",
    "Vale observar também que se $M\\in CH(p),$ então $M/\\sqrt{p}$ é uma matriz unitária:\n",
    "$$(M/\\sqrt{p})(M/\\sqrt{p})^\\dagger = MM^\\dagger /p = pI/p = I.$$"
   ]
  },
  {
   "cell_type": "markdown",
   "id": "69c7cd97-f1c4-4ad8-a834-806467e447f7",
   "metadata": {},
   "source": [
    "A matriz de fases\n",
    "$$\\phi = (\\phi_{jk})$$\n",
    "é chamada de matriz __log-Hadamard__.\n",
    "\n",
    "A __forma defasada__ de uma matriz $M\\in CH(p)$ é uma matriz com a 1ª linha e a 1ª coluna iguais a 1, ou seja\n",
    "$$M_{0,:} = M_{:,0}=1\\ \\therefore\\ \\phi_{0,:}=\\phi_{:,0}=0.$$\n",
    "\n",
    "Uma matriz $M\\in CH(p)$ é chamada de matriz de __Butson-Hadamard__ de ordem/complexidade $d$ se $M_{jk}$ é a raíz de ordem $d$ da unidade. O conjunto das matrizes de Butson-Hadamard de ordem $d$ é denotado por\n",
    "$$BH(p,d).$$\n",
    "Por exemplo, as __matrizes de Fourier__\n",
    "$$(F^d)_{jk} = \\big(e^{i2\\pi jk/d}\\big)$$ é tal que $F^d\\in BH(p,d).$\n",
    "Se a ordem de uma matriz em $BH(p,d)$ é $d=2$, a matriz é chamada de __matriz de Hadamard real__. Se $M\\in BH(p,2)$ temos que\n",
    "$$M_{jk} = \\pm 1.$$"
   ]
  },
  {
   "cell_type": "markdown",
   "id": "39ecb999-84c6-4245-8ee3-081ac18cc34c",
   "metadata": {},
   "source": [
    "__Proposição:__ Considera todas as matrizes $M\\in CH(p)$. Existem matrizes unitárias diagonais $V,W$ tais que $VMW$ é uma matriz complexa de Hadamard defasada.\n",
    "\n",
    "__Prova.__ Temos que\n",
    "\\begin{align}\n",
    "(VMW)_{jk} & = \\sum_l V_{jl}(MW)_{lk} = \\sum_{l,m} V_{jl}M_{lm}W_{mk} \\\\\n",
    "& =  \\sum_{l,m} e^{i\\nu_j}\\delta_{jl}M_{lm}e^{i\\mu_m}\\delta_{mk} = e^{i\\nu_j}M_{jk}e^{i\\mu_k} \\\\\n",
    "& = e^{i\\nu_j}e^{i\\phi_{jk}}e^{i\\mu_k}.\n",
    "\\end{align}\n",
    "\n",
    "Devemos ter\n",
    "\\begin{align}\n",
    "& (VMW)_{0,k} = 1 = e^{i\\nu_0}e^{i\\phi_{0k}}e^{i\\mu_k} = e^{i(\\nu_0+\\phi_{0k}+\\mu_k)} \\\\\n",
    "& \\therefore\\ \\nu_0+\\mu_k = \\phi_{0k}, \\\\\n",
    "& (VMW)_{j,0} = 1 = e^{i\\nu_j}e^{i\\phi_{j0}}e^{i\\mu_0} = e^{i(\\nu_j+\\phi_{j0}+\\mu_0)} \\\\\n",
    "& \\therefore\\ \\nu_j+\\mu_0 = \\phi_{j0}.\n",
    "\\end{align}\n",
    "Então, a princípio podemos escolher $\\vec{\\nu} = (\\nu_0,\\cdots,\\nu_{p-1})$ e $\\vec{\\mu} = (\\mu_0,\\cdots,\\mu_{p-1})$ satisfazendo as equações acima, dada $\\phi_{jk}$. Com isso completamos a prova da proposição. $\\hspace{5cm} \\square$ \n",
    "\n",
    "Fica a questão de se podemos ou não obter a solução explícita para $\\nu_j$ e $\\mu_j$."
   ]
  },
  {
   "cell_type": "markdown",
   "id": "0bb02e9f-d0c5-472e-a866-91385bc5d252",
   "metadata": {},
   "source": [
    "__Definição.__ Sejam $M_1,M_2\\in CH(p)$, $P_1,P_2$ matrizes de permutação e $D_1,D_2$ matrizes diagonais. Se \n",
    "$$M_1 = D_1 P_1 M_2 P_2 D_2$$\n",
    "dizemos que as matrizes $M_1$ e $M_2$ são equivalentes.\n",
    "\n",
    "Vale comentar que __matrizes de permutação__ são matrizes $p\\times p$ que possum somente $p$ elementos não nulos e iguais a 1, com somente um elemento não nulo em cada linha. Por exemplo, para $p=3$ podemos ter\n",
    "$$P = \\begin{bmatrix}0&1&0 \\\\ 1&0&0 \\\\ 0&0&1\\end{bmatrix}.$$\n",
    "Essa matriz troca as 2 primeiras componentes de um vetor:\n",
    "$$P\\vec{v} = \\begin{bmatrix}0&1&0 \\\\ 1&0&0 \\\\ 0&0&1\\end{bmatrix}\\begin{bmatrix}v_0 \\\\ v_1 \\\\ v_2\\end{bmatrix} = \\begin{bmatrix}v_1 \\\\ v_0 \\\\ v_2\\end{bmatrix}=\\vec{v}'.$$\n",
    "Ou seja, se o elemento $P_{jk}$ é não nulo, o efeito no vetor é fazer a componente $k$ virar a componente $j$. \n"
   ]
  },
  {
   "cell_type": "markdown",
   "id": "1fba939e-3e07-4e1d-9224-6fb9741903c1",
   "metadata": {},
   "source": [
    "A ação da permutação em uma matriz é a seguinte\n",
    "$$PA = \\begin{bmatrix}0&1&0 \\\\ 1&0&0 \\\\ 0&0&1\\end{bmatrix}\\begin{bmatrix}A_{00}&A_{01}&A_{02} \\\\ A_{10}&A_{11}&A_{12} \\\\ A_{20}&A_{21}&A_{22}\\end{bmatrix} = \\begin{bmatrix}A_{10}&A_{11}&A_{12} \\\\ A_{00}&A_{01}&A_{02} \\\\  A_{20}&A_{21}&A_{22}\\end{bmatrix}.$$\n",
    "Ou seja, se $P_{jk}=1$, a matriz de permutação $P$ atuando pela esquerda leva todos os elementos da linha $k$ de $A$ para a linha $j$.\n",
    "\n",
    "Agora, se a matriz de permutação atua pela direita na matriz\n",
    "$$AP = \\begin{bmatrix}A_{00}&A_{01}&A_{02} \\\\ A_{10}&A_{11}&A_{12} \\\\ A_{20}&A_{21}&A_{22}\\end{bmatrix}\\begin{bmatrix}0&1&0 \\\\ 1&0&0 \\\\ 0&0&1\\end{bmatrix} = \\begin{bmatrix}A_{10}&A_{11}&A_{12} \\\\ A_{00}&A_{01}&A_{02} \\\\  A_{20}&A_{21}&A_{22}\\end{bmatrix}.$$\n",
    "Ou seja, se $P_{jk}=1$, a matriz de permutação $P$ atuando pela direita leva todos os elementos da coluna $k$ de $A$ para a coluna $j$."
   ]
  },
  {
   "cell_type": "markdown",
   "id": "dade9434-a99c-4c39-a657-a551e50422d5",
   "metadata": {},
   "source": [
    "## Problema de promessa matriz de Hadamard complexa (CHPP)\n",
    "\n",
    "Seja $M\\in CH(p)$ defasada e $U_0,U_1,\\cdots,U_{N-1}$ matrizes unitárias desconhecidas. Definimos \n",
    "$$\\Pi_0 = U_{N-1}U_{N-2}\\cdots U_1 U_0.$$\n",
    "Sejam \n",
    "$$\\Pi_1,\\Pi_2,\\cdots,\\Pi_{p-1}$$\n",
    "permutações dessas matrizes unitárias. A _promessa_ é que essas unitárias são tais que\n",
    "$$\\Pi_j = M_{jk}\\Pi_0\\ \\forall j\\in\\{0,1,\\cdots,p-1\\}.$$\n",
    "O _problema_ é encontrar a coluna $k$ de $M$ que satisfaz essas $p$ equações."
   ]
  },
  {
   "cell_type": "markdown",
   "id": "a2de843f-13aa-42fe-add0-f36eedddf8e8",
   "metadata": {},
   "source": [
    "### Existência das unitárias - sistemas discretos\n",
    "\n",
    "Considera um sistema quântico de dimensão $D$. Assim as unitárias $U_j\\in\\mathbb{C}^{D\\times D}$.Se a promessa é satisfeita, teremos que\n",
    "\\begin{align}\n",
    "\\det(\\Pi_j) & = \\det(M_{jk}\\Pi_0) \\\\\n",
    "& = (M_{jk})^D \\det(\\Pi_0).\n",
    "\\end{align}\n",
    "Também temos que\n",
    "\\begin{align}\n",
    "\\det(\\Pi_0) & = \\det(U_{N-1}U_{N-2}\\cdots U_1 U_0) \\\\\n",
    "& = \\det(U_{N-1})\\det(U_{N-2}\\cdots \\det(U_1)\\det(U_0) \\\\\n",
    "& = e^{i\\xi_{N-1}}e^{i\\xi_{N-2}}\\cdots e^{i\\xi_1}e^{i\\xi_0} \\\\\n",
    "& = \\det(\\Pi_j),\n",
    "\\end{align}\n",
    "pois a ordem dos escalares não altera o produto."
   ]
  },
  {
   "cell_type": "markdown",
   "id": "d93374a1-69fa-4287-957e-d675224faa5e",
   "metadata": {},
   "source": [
    "Por conseguinte, devemos ter\n",
    "$$(M_{jk})^D=1.$$"
   ]
  },
  {
   "cell_type": "code",
   "execution_count": null,
   "id": "5c5789b3-1902-463d-807d-506706d6b506",
   "metadata": {},
   "outputs": [],
   "source": []
  },
  {
   "cell_type": "markdown",
   "id": "066c9630-3651-4427-ae5f-1515ff6066fb",
   "metadata": {},
   "source": [
    "### Referências\n",
    "\n",
    "1. J. Escandón-Monardes, A. Delgado, and S. P. Walborn, “Practical computational advantage from the quantum switch on a generalized family of promise problems,” Quantum, vol. 7, p. 945, Mar. 2023, doi: 10.22331/q-2023-03-09-945.\n"
   ]
  },
  {
   "cell_type": "code",
   "execution_count": null,
   "id": "67c9c12e-8f5e-4f9c-8a14-db1972f1cf9a",
   "metadata": {},
   "outputs": [],
   "source": []
  }
 ],
 "metadata": {
  "kernelspec": {
   "display_name": "Python 3 (ipykernel)",
   "language": "python",
   "name": "python3"
  },
  "language_info": {
   "codemirror_mode": {
    "name": "ipython",
    "version": 3
   },
   "file_extension": ".py",
   "mimetype": "text/x-python",
   "name": "python",
   "nbconvert_exporter": "python",
   "pygments_lexer": "ipython3",
   "version": "3.11.1"
  }
 },
 "nbformat": 4,
 "nbformat_minor": 5
}
