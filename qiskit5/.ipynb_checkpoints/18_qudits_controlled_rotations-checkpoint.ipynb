{
 "cells": [
  {
   "cell_type": "markdown",
   "id": "aef48433-a1b2-458e-a8c3-e1ecaba2651d",
   "metadata": {},
   "source": [
    "# Porta de rotação controlada\n",
    "\n",
    "## Portas de rotação\n",
    "\n",
    "Lembrando, as matrizes de Gell-Mann são\n",
    "\\begin{align}\n",
    "& S_x^{jk} = |j\\rangle\\langle k| + |k\\rangle\\langle j|;\\ 1\\le j< k\\le d, \\\\\n",
    "& S_y^{jk} = -i|j\\rangle\\langle k| + i|k\\rangle\\langle j|;\\ 1\\le j< k\\le d, \\\\\n",
    "& S_z^j = \\sqrt{\\frac{2}{j(j+1)}}\\Big(\\sum_{k=1}^{j}|k\\rangle\\langle k|-j|j+1\\rangle\\langle j+1|\\Big);\\ j=1,\\cdots,d-1.\n",
    "\\end{align}\n",
    "Essas matrizes são hermitianas e, junto com a matriz identidade, formam uma base para $\\mathbb{C}^{d\\times d}.$\n",
    "\n",
    "Rotações\n",
    "$$R_\\alpha^{jk}(\\theta) = e^{-i\\theta S_\\alpha^{jk}/2}.$$"
   ]
  },
  {
   "cell_type": "markdown",
   "id": "06646163-7bb3-4bfa-a82d-f29e1d56029a",
   "metadata": {},
   "source": [
    "---\n",
    "Digressão:\n",
    "\n",
    "Temos que\n",
    "\\begin{align}\n",
    "(S_x^{jk})^2 & = (|j\\rangle\\langle k| + |k\\rangle\\langle j|)(|j\\rangle\\langle k| + |k\\rangle\\langle j|) \\\\\n",
    "& = |j\\rangle\\langle k|\\delta_{kj} + |j\\rangle\\langle j| + |k\\rangle\\langle k| + |k\\rangle\\langle j|\\delta_{jk} \\\\\n",
    "& = |j\\rangle\\langle j| + |k\\rangle\\langle k| \\\\\n",
    "& = I_{jk}, \\\\\n",
    "(S_y^{jk})^2 & = (-i|j\\rangle\\langle k| + i|k\\rangle\\langle j|)(-i|j\\rangle\\langle k| + i|k\\rangle\\langle j|) \\\\\n",
    "& = i^2|j\\rangle\\langle k|\\delta_{kj} - i^2|j\\rangle\\langle j| - i^2|k\\rangle\\langle k| + i^2|k\\rangle\\langle j|\\delta_{kj} \\\\\n",
    "& = |j\\rangle\\langle j| + |k\\rangle\\langle k| \\\\\n",
    "& = I_{jk}, \\\\\n",
    "(S_z^j)^2 & = \\sum_{k=1}^{j+1}\\sqrt{\\frac{2}{j(j+1)}}(-j)^{\\delta_{k,j+1}}|k\\rangle\\langle k|\\sum_{k'=1}^{j+1}\\sqrt{\\frac{2}{j(j+1)}}(-j)^{\\delta_{k',j+1}}|k'\\rangle\\langle k|' \\\\\n",
    "& = \\sum_{k,k'=1}^{j+1}\\frac{2}{j(j+1)}(-j)^{\\delta_{k,j+1}}(-j)^{\\delta_{k',j+1}}|k\\rangle\\langle k'|\\delta_{k,k'} \\\\\n",
    "& = \\frac{2}{j(j+1)}\\sum_{k=1}^{j+1}(-j)^{2\\delta_{k,j+1}}|k\\rangle\\langle k| = \\frac{2}{j(j+1)}\\sum_{k=1}^{j+1}j|k\\rangle\\langle k| \\\\\n",
    "& = \\frac{2}{j+1}\\sum_{k=1}^{j+1}|k\\rangle\\langle k|,\n",
    "\\end{align}\n",
    "em que $I_{jk}$ é o subespaço gerado por $\\{|j\\rangle,|k\\rangle\\}.$"
   ]
  },
  {
   "cell_type": "markdown",
   "id": "a71851b9-a672-40d6-8792-3c4d70661ed2",
   "metadata": {},
   "source": [
    "Para qualquer matriz $S$ tal que\n",
    "$$S^2=I$$\n",
    "temos que\n",
    "\\begin{align}\n",
    "e^{-i\\theta S} & = \\sum_{j=0}^\\infty \\frac{(-i\\theta S)^j}{j!} \\\\\n",
    "& = \\frac{(-i\\theta S)^0}{0!} + \\frac{(-i\\theta S)^1}{1!} + \\frac{(-i\\theta S)^2}{2!} + \\frac{(-i\\theta S)^3}{3!} + \\frac{(-i\\theta S)^4}{4!} + \\frac{(-i\\theta S)^5}{5!} + \\frac{(-i\\theta S)^6}{6!} + \\frac{(-i\\theta S)^7}{7!} + \\cdots \\\\\n",
    "& = I -i\\theta S - \\frac{\\theta^2 S^2}{2!} + i \\frac{\\theta^3 S^2 S}{3!} + \\frac{\\theta^4 S^2 S^2}{4!} -i \\frac{\\theta^5 S^2 S^2 S}{5!} - \\frac{\\theta^6 S^2 S^2 S^2}{6!} + i \\frac{\\theta^7 S^2 S^2 S^2 S}{7!} \\cdots \\\\\n",
    "& = \\Big(1 - \\frac{\\theta^2}{2!} + \\frac{\\theta^4}{4!} - \\frac{\\theta^6}{6!} + \\cdots \\Big)I -i\\Big(\\theta - \\frac{\\theta^3}{3!} + \\frac{\\theta^5}{5!} - \\frac{\\theta^7}{7!} + \\cdots\\Big) \\\\\n",
    "& = \\cos(\\theta)I -i\\sin(\\theta)S.\n",
    "\\end{align}\n",
    "\n",
    "No entanto, para matrizes de Gell-Mann temos que\n",
    "$$(S_\\alpha^{jk})^2\\ne I,$$\n",
    "e a fórmula acima não pode ser aplicada. Na verdade\n",
    "$$(S_\\alpha^{jk})^2\\ne I_{jk},$$\n",
    "em que $I_{jk}$ é o operador identidade no subespaço gerado por $\\{|j\\rangle,|k\\rangle\\}.$"
   ]
  },
  {
   "cell_type": "code",
   "execution_count": 1,
   "id": "54d75208-d777-4eab-9329-787d210fe432",
   "metadata": {},
   "outputs": [
    {
     "data": {
      "text/latex": [
       "$\\displaystyle 1 - \\frac{\\theta^{2}}{2} + \\frac{\\theta^{4}}{24} - \\frac{\\theta^{6}}{720} + \\frac{\\theta^{8}}{40320} + O\\left(\\theta^{10}\\right)$"
      ],
      "text/plain": [
       "1 - theta**2/2 + theta**4/24 - theta**6/720 + theta**8/40320 + O(theta**10)"
      ]
     },
     "execution_count": 1,
     "metadata": {},
     "output_type": "execute_result"
    }
   ],
   "source": [
    "from sympy import series, symbols, cos, sin\n",
    "th = symbols('theta')\n",
    "series(cos(th),th,0,10)"
   ]
  },
  {
   "cell_type": "code",
   "execution_count": 2,
   "id": "4c58d31e-97b3-492e-badc-c1c162596757",
   "metadata": {},
   "outputs": [
    {
     "data": {
      "text/latex": [
       "$\\displaystyle \\theta - \\frac{\\theta^{3}}{6} + \\frac{\\theta^{5}}{120} - \\frac{\\theta^{7}}{5040} + \\frac{\\theta^{9}}{362880} + O\\left(\\theta^{10}\\right)$"
      ],
      "text/plain": [
       "theta - theta**3/6 + theta**5/120 - theta**7/5040 + theta**9/362880 + O(theta**10)"
      ]
     },
     "execution_count": 2,
     "metadata": {},
     "output_type": "execute_result"
    }
   ],
   "source": [
    "series(sin(th),th,0,10)"
   ]
  },
  {
   "cell_type": "markdown",
   "id": "e61433f9-4f0f-4119-9603-5ef54c461f77",
   "metadata": {},
   "source": [
    "---\n",
    "\n",
    "Então, para as matrizes de Gell-Mann definimos\n",
    "\\begin{align}\n",
    "& |\\pm\\rangle_{jk} = (|j\\rangle\\pm|k\\rangle)/\\sqrt{2}, \\\\\n",
    "& |\\oplus\\rangle_{jk} = (|j\\rangle+i|k\\rangle)/\\sqrt{2}, \\\\\n",
    "& |\\ominus\\rangle_{jk} = (|j\\rangle-i|k\\rangle)/\\sqrt{2}.\n",
    "\\end{align}\n",
    "Teremos assim que\n",
    "\\begin{align}\n",
    "S_x^{jk}|\\pm\\rangle_{jk} & = (|j\\rangle\\langle k|+|k\\rangle\\langle j|)(|j\\rangle\\pm|k\\rangle)/\\sqrt{2} \\\\\n",
    "& = (|k\\rangle\\pm|j\\rangle)/\\sqrt{2} \\\\\n",
    "& = (\\pm 1)(|j\\rangle\\pm|k\\rangle)/\\sqrt{2} \\\\\n",
    "& = (\\pm 1)|\\pm\\rangle_{jk}, \\\\\n",
    "S_y^{jk}|\\oplus\\rangle_{jk} & = (-i|j\\rangle\\langle k|+i|k\\rangle\\langle j|)(|j\\rangle+i|k\\rangle)/\\sqrt{2} \\\\\n",
    "& = (i|k\\rangle+|j\\rangle)/\\sqrt{2} \\\\\n",
    "& = (+ 1)|\\oplus\\rangle_{jk}, \\\\\n",
    "S_y^{jk}|\\ominus\\rangle_{jk} & = (-i|j\\rangle\\langle k|+i|k\\rangle\\langle j|)(|j\\rangle-i|k\\rangle)/\\sqrt{2} \\\\\n",
    "& = (i|k\\rangle-|j\\rangle)/\\sqrt{2} \\\\\n",
    "& = (-1)(-i|k\\rangle+|j\\rangle)/\\sqrt{2} \\\\\n",
    "& = (-1)|\\ominus\\rangle_{jk}.\n",
    "\\end{align}"
   ]
  },
  {
   "cell_type": "markdown",
   "id": "36885a4a-2354-4f8b-ac83-3b07374af628",
   "metadata": {},
   "source": [
    "Por conseguinte, podemos escrever as decomposições espectrais\n",
    "\\begin{align}\n",
    "& S_x^{jk} = |+\\rangle\\langle +|_{jk} - |-\\rangle\\langle -|_{jk} + \\sum_{l(l\\ne j,l\\ne k)}(0)|l\\rangle\\langle l|, \\\\\n",
    "& S_y^{jk} = |\\oplus\\rangle\\langle \\oplus|_{jk} - |\\ominus\\rangle\\langle \\ominus|_{jk} + \\sum_{l(l\\ne j,l\\ne k)}(0)|l\\rangle\\langle l|,\n",
    "\\end{align}\n",
    "e as matrizes de rotação ficam dadas por\n",
    "\\begin{align}\n",
    "R_x^{jk}(\\theta) & = e^{-i\\theta S_x^{jk}/2} \\\\\n",
    "& = e^{-i\\theta/2}|+\\rangle\\langle +| + e^{i\\theta/2}|-\\rangle\\langle - | + \\sum_{l(l\\ne j,l\\ne k)}e^{-i\\theta(0)/2}|l\\rangle\\langle l|, \\\\\n",
    "& = e^{-i\\theta/2}\\frac{1}{2}(|j\\rangle\\langle j|+|j\\rangle\\langle k|+|k\\rangle\\langle j|+|k\\rangle\\langle k|) + e^{i\\theta/2}\\frac{1}{2}(|j\\rangle\\langle j|-|j\\rangle\\langle k|-|k\\rangle\\langle j|+|k\\rangle\\langle k|) + \\sum_{l(l\\ne j,l\\ne k)}(1)|l\\rangle\\langle l|, \\\\\n",
    "& = \\cos(\\theta/2)(|j\\rangle\\langle j|+|k\\rangle\\langle k|) - i\\sin(\\theta/2)(|j\\rangle\\langle k|+|k\\rangle\\langle j|) + \\sum_{l(l\\ne j,l\\ne k)}|l\\rangle\\langle l|, \\\\\n",
    "R_y^{jk}(\\theta) & = e^{-i\\theta S_y^{jk}/2} \\\\\n",
    "& = e^{-i\\theta/2}|\\oplus\\rangle\\langle \\oplus| + e^{i\\theta/2}|\\ominus\\rangle\\langle \\ominus| + \\sum_{l(l\\ne j,l\\ne k)}e^{-i\\theta(0)/2}|l\\rangle\\langle l|, \\\\\n",
    "& = e^{-i\\theta/2}\\frac{1}{2}(|j\\rangle\\langle j|-i|j\\rangle\\langle k|+i|k\\rangle\\langle j|+|k\\rangle\\langle k|) + e^{i\\theta/2}\\frac{1}{2}(|j\\rangle\\langle j|+i|j\\rangle\\langle k|-i|k\\rangle\\langle j|+|k\\rangle\\langle k|) + \\sum_{l(l\\ne j,l\\ne k)}(1)|l\\rangle\\langle l|, \\\\\n",
    "& = \\cos(\\theta/2)(|j\\rangle\\langle j|+|k\\rangle\\langle k|) - \\sin(\\theta/2)(|j\\rangle\\langle k|-|k\\rangle\\langle j|) + \\sum_{l(l\\ne j,l\\ne k)}|l\\rangle\\langle l|.\n",
    "\\end{align}"
   ]
  },
  {
   "cell_type": "markdown",
   "id": "29e1cf9b-8b55-4260-8169-db94f959b146",
   "metadata": {},
   "source": [
    "Os elementos de matriz das matrizes de rotação são dados por\n",
    "\\begin{align}\n",
    "\\langle m|R_x^{jk}(\\theta)|n\\rangle & = \\cos(\\theta/2)(\\langle m|j\\rangle\\langle j|n\\rangle+\\langle m|k\\rangle\\langle k|n\\rangle) - i\\sin(\\theta/2)(\\langle m|j\\rangle\\langle k|n\\rangle+\\langle m|k\\rangle\\langle j|n\\rangle) + \\sum_{l(l\\ne j,l\\ne k)}\\langle m|l\\rangle\\langle l|n\\rangle \\\\\n",
    "& = \\cos(\\theta/2)(\\delta_{mj}\\delta_{jn}+\\delta_{mk}\\delta_{kn}) - i\\sin(\\theta/2)(\\delta_{mj}\\delta_{kn}+\\delta_{mk}\\delta_{jn}) + \\sum_{l(l\\ne j,l\\ne k)}\\delta_{ml}\\delta_{ln}, \\\\\n",
    "\\langle m|R_y^{jk}(\\theta)|n\\rangle & = \\cos(\\theta/2)(\\langle m|j\\rangle\\langle j|n\\rangle+\\langle m|k\\rangle\\langle k|n\\rangle) - \\sin(\\theta/2)(\\langle m|j\\rangle\\langle k|n\\rangle-\\langle m|k\\rangle\\langle j|n\\rangle) + \\sum_{l(l\\ne j,l\\ne k)}\\langle m|l\\rangle\\langle l|n\\rangle \\\\\n",
    "& = \\cos(\\theta/2)(\\delta_{mj}\\delta_{jn}+\\delta_{mk}\\delta_{kn}) - \\sin(\\theta/2)(\\delta_{mj}\\delta_{kn}-\\delta_{mk}\\delta_{jn}) + \\sum_{l(l\\ne j,l\\ne k)}\\delta_{ml}\\delta_{ln}.\n",
    "\\end{align}"
   ]
  },
  {
   "cell_type": "markdown",
   "id": "29ef4ac2-cb1a-4ad9-8189-875462b248b3",
   "metadata": {},
   "source": [
    "Vemos assim que os elementos não nulos de $R_x^{jk}$ são\n",
    "\\begin{align}\n",
    "& \\langle j|R_x^{jk}(\\theta)|j\\rangle = \\langle k|R_x^{jk}(\\theta)|k\\rangle = \\cos(\\theta/2), \\\\ \n",
    "& \\langle j|R_x^{jk}(\\theta)|k\\rangle = \\langle k|R_x^{jk}(\\theta)|j\\rangle = -i\\sin(\\theta/2),\\\\\n",
    "& \\langle l|R_x^{jk}(\\theta)|l\\rangle = 1;\\ l\\ne j\\ \\text{e}\\ l\\ne k.\n",
    "\\end{align}\n",
    "Os elementos não nulos de $R_y^{jk}$ são\n",
    "\\begin{align}\n",
    "& \\langle j|R_y^{jk}(\\theta)|j\\rangle = \\langle k|R_y^{jk}(\\theta)|k\\rangle = \\cos(\\theta/2), \\\\ \n",
    "& \\langle j|R_y^{jk}(\\theta)|k\\rangle = -\\langle k|R_y^{jk}(\\theta)|j\\rangle = -\\sin(\\theta/2),\\\\\n",
    "& \\langle l|R_y^{jk}(\\theta)|l\\rangle = 1;\\ l\\ne j\\ \\text{e}\\ l\\ne k.\n",
    "\\end{align}"
   ]
  },
  {
   "cell_type": "code",
   "execution_count": 3,
   "id": "0220bd31-21a2-4327-a99f-5c92d31cd4e7",
   "metadata": {},
   "outputs": [],
   "source": [
    "from sympy import symbols, sin, cos, eye, sqrt, simplify\n",
    "th = symbols('theta')\n",
    "\n",
    "def f_Rx(j,k,d,th):\n",
    "    # d = qudit dimension\n",
    "    # j,k = identification of the Gell-Mann x-type matrix\n",
    "    # th = rotation angle\n",
    "    j = j-1; k = k-1\n",
    "    rx = eye(d)\n",
    "    rx[j,j] = cos(th/2); rx[k,k] = rx[j,j]\n",
    "    rx[j,k] = -1j*sin(th/2); rx[k,j] = rx[j,k]\n",
    "    return rx\n",
    "\n",
    "def f_Ry(j,k,d,th):\n",
    "    # d = qudit dimension\n",
    "    # j,k = identification of the Gell-Mann y-type matrix\n",
    "    # th = rotation angle\n",
    "    j = j-1; k = k-1\n",
    "    ry = eye(d)\n",
    "    ry[j,j] = cos(th/2); ry[k,k] = ry[j,j]\n",
    "    ry[j,k] = -sin(th/2); ry[k,j] = -ry[j,k]\n",
    "    return ry"
   ]
  },
  {
   "cell_type": "code",
   "execution_count": 4,
   "id": "2f293f33-4ea2-4666-b9df-b97400009732",
   "metadata": {},
   "outputs": [
    {
     "data": {
      "text/latex": [
       "$\\displaystyle \\left[\\begin{matrix}\\cos{\\left(\\frac{\\theta}{2} \\right)} & - 1.0 i \\sin{\\left(\\frac{\\theta}{2} \\right)}\\\\- 1.0 i \\sin{\\left(\\frac{\\theta}{2} \\right)} & \\cos{\\left(\\frac{\\theta}{2} \\right)}\\end{matrix}\\right]$"
      ],
      "text/plain": [
       "Matrix([\n",
       "[       cos(theta/2), -1.0*I*sin(theta/2)],\n",
       "[-1.0*I*sin(theta/2),        cos(theta/2)]])"
      ]
     },
     "execution_count": 4,
     "metadata": {},
     "output_type": "execute_result"
    }
   ],
   "source": [
    "j=1;k=2;d=2; Rx = f_Rx(j,k,d,th); Rx"
   ]
  },
  {
   "cell_type": "code",
   "execution_count": 6,
   "id": "542731a4-cbde-424d-bdfb-82dd21afd8df",
   "metadata": {},
   "outputs": [
    {
     "data": {
      "text/latex": [
       "$\\displaystyle \\left[\\begin{matrix}\\cos{\\left(\\frac{\\theta}{2} \\right)} & - 1.0 i \\sin{\\left(\\frac{\\theta}{2} \\right)} & 0\\\\- 1.0 i \\sin{\\left(\\frac{\\theta}{2} \\right)} & \\cos{\\left(\\frac{\\theta}{2} \\right)} & 0\\\\0 & 0 & 1\\end{matrix}\\right]$"
      ],
      "text/plain": [
       "Matrix([\n",
       "[       cos(theta/2), -1.0*I*sin(theta/2), 0],\n",
       "[-1.0*I*sin(theta/2),        cos(theta/2), 0],\n",
       "[                  0,                   0, 1]])"
      ]
     },
     "execution_count": 6,
     "metadata": {},
     "output_type": "execute_result"
    }
   ],
   "source": [
    "j=1;k=2;d=3; Rx = f_Rx(j,k,d,th); Rx"
   ]
  },
  {
   "cell_type": "code",
   "execution_count": 5,
   "id": "e6825df6-3a43-481b-be68-6bf0d3a52bc0",
   "metadata": {},
   "outputs": [
    {
     "data": {
      "text/latex": [
       "$\\displaystyle \\left[\\begin{matrix}\\cos{\\left(\\frac{\\theta}{2} \\right)} & - \\sin{\\left(\\frac{\\theta}{2} \\right)}\\\\\\sin{\\left(\\frac{\\theta}{2} \\right)} & \\cos{\\left(\\frac{\\theta}{2} \\right)}\\end{matrix}\\right]$"
      ],
      "text/plain": [
       "Matrix([\n",
       "[cos(theta/2), -sin(theta/2)],\n",
       "[sin(theta/2),  cos(theta/2)]])"
      ]
     },
     "execution_count": 5,
     "metadata": {},
     "output_type": "execute_result"
    }
   ],
   "source": [
    "j=1;k=2;d=2; Ry = f_Ry(1,2,d,th); Ry"
   ]
  },
  {
   "cell_type": "code",
   "execution_count": 9,
   "id": "8085302c-ac8b-40bd-ad57-f642e046abb2",
   "metadata": {},
   "outputs": [
    {
     "data": {
      "text/latex": [
       "$\\displaystyle \\left[\\begin{matrix}\\cos{\\left(\\frac{\\theta}{2} \\right)} & - \\sin{\\left(\\frac{\\theta}{2} \\right)} & 0\\\\\\sin{\\left(\\frac{\\theta}{2} \\right)} & \\cos{\\left(\\frac{\\theta}{2} \\right)} & 0\\\\0 & 0 & 1\\end{matrix}\\right]$"
      ],
      "text/plain": [
       "Matrix([\n",
       "[cos(theta/2), -sin(theta/2), 0],\n",
       "[sin(theta/2),  cos(theta/2), 0],\n",
       "[           0,             0, 1]])"
      ]
     },
     "execution_count": 9,
     "metadata": {},
     "output_type": "execute_result"
    }
   ],
   "source": [
    "j=1;k=2;d=3; Ry = f_Ry(1,2,d,th); Ry"
   ]
  },
  {
   "cell_type": "markdown",
   "id": "ec82f34a-2a1e-462c-9cfd-e092adcba6f0",
   "metadata": {},
   "source": [
    "Já para as matrizes de Gell da família $z$ escrevemos a decomposição espectral\n",
    "$$S_z^j = \\sqrt{\\frac{2}{j(j+1)}}\\Big(\\sum_{k=1}^{j}|k\\rangle\\langle k|-j|j+1\\rangle\\langle j+1|\\Big) + \\sum_{k=j+2}^d (0)|k\\rangle\\langle k|$$\n",
    "com $j=1,\\cdots,d-1.$\n",
    "\n",
    "Assim a matriz de rotação fica escrita como\n",
    "\\begin{align}\n",
    "R_z^j(\\theta) & = e^{-i\\theta S_x^{jk}/2} \\\\\n",
    "& = \\sum_{k=1}^{j}\\exp\\Big(-i\\sqrt{\\frac{2}{j(j+1)}}\\theta/2\\Big)|k\\rangle\\langle k| + \\exp\\Big(i\\sqrt{\\frac{2}{j(j+1)}}j\\theta/2\\Big)|j+1\\rangle\\langle j+1| + \\sum_{k=j+2}^d e^0|k\\rangle\\langle k| \\\\\n",
    "& = \\sum_{k=1}^{j}\\exp\\Big(-i\\sqrt{\\frac{2}{j(j+1)}}\\theta/2\\Big)|k\\rangle\\langle k| + \\exp\\Big(i\\sqrt{\\frac{2}{j(j+1)}}j\\theta/2\\Big)|j+1\\rangle\\langle j+1| + \\sum_{k=j+2}^d |k\\rangle\\langle k|.\n",
    "\\end{align}\n",
    "\n",
    "Os elementos não nulos de $R_z^{j}$ são\n",
    "\\begin{align}\n",
    "& \\langle k|R_z^{j}(\\theta)|k\\rangle = \\exp\\Big(-i\\frac{\\theta}{2}\\sqrt{\\frac{2}{j(j+1)}}\\Big);\\ k=1,\\cdots,j,\\\\\n",
    "& \\langle k|R_z^{j}(\\theta)|k\\rangle = \\exp\\Big(i\\frac{j\\theta}{2}\\sqrt{\\frac{2}{j(j+1)}}\\Big);\\ k=j+1,\\\\\n",
    "& \\langle k|R_z^{j}(\\theta)|k\\rangle = 1;\\ k=j+2,\\cdots,d.\n",
    "\\end{align}"
   ]
  },
  {
   "cell_type": "code",
   "execution_count": 66,
   "id": "93878ac9-ad08-4607-ab91-4462b332e009",
   "metadata": {},
   "outputs": [],
   "source": [
    "def f_Rz(j,d,th):\n",
    "    # d = qudit dimension\n",
    "    # j = identification of the Gell-Mann matrix\n",
    "    # th = rotation angle\n",
    "    rz = eye(d)\n",
    "    angle = (th/2)*sqrt(2/(j*(j+1)))\n",
    "    for k in range(0,j):\n",
    "        rz[k,k] = cos(angle) - 1j*sin(angle)\n",
    "    angle = j*angle\n",
    "    rz[j,j] = cos(angle) + 1j*sin(angle)\n",
    "    if j < d-1:\n",
    "        for k in range(j+1,d):\n",
    "            rz[k,k] = 1\n",
    "    return rz"
   ]
  },
  {
   "cell_type": "code",
   "execution_count": 67,
   "id": "e8b94e4b-935d-43ca-817b-95fa81c685cd",
   "metadata": {},
   "outputs": [
    {
     "data": {
      "text/latex": [
       "$\\displaystyle \\left[\\begin{matrix}1.0 e^{- 0.5 i \\theta} & 0\\\\0 & 1.0 e^{0.5 i \\theta}\\end{matrix}\\right]$"
      ],
      "text/plain": [
       "Matrix([\n",
       "[1.0*exp(-0.5*I*theta),                    0],\n",
       "[                    0, 1.0*exp(0.5*I*theta)]])"
      ]
     },
     "execution_count": 67,
     "metadata": {},
     "output_type": "execute_result"
    }
   ],
   "source": [
    "th = symbols('theta')\n",
    "j=1; d=2; Rz = simplify(f_Rz(j,d,th)); Rz"
   ]
  },
  {
   "cell_type": "code",
   "execution_count": 68,
   "id": "0089d41f-442a-4e6b-a9fa-1b0901a6372e",
   "metadata": {},
   "outputs": [
    {
     "data": {
      "text/latex": [
       "$\\displaystyle \\left[\\begin{matrix}- 1.0 i & 0\\\\0 & 1.0 i\\end{matrix}\\right]$"
      ],
      "text/plain": [
       "Matrix([\n",
       "[-1.0*I,     0],\n",
       "[     0, 1.0*I]])"
      ]
     },
     "execution_count": 68,
     "metadata": {},
     "output_type": "execute_result"
    }
   ],
   "source": [
    "from sympy import pi; th = pi\n",
    "j=1; d=2; Rz = simplify(f_Rz(j,d,th)); Rz"
   ]
  },
  {
   "cell_type": "code",
   "execution_count": 52,
   "id": "b54a5079-58bb-4178-8c2c-ab3ba9b24197",
   "metadata": {},
   "outputs": [
    {
     "data": {
      "text/latex": [
       "$\\displaystyle \\left[\\begin{matrix}1 & 0 & 0\\\\0 & 1.0 e^{0.5 i \\theta} & 0\\\\0 & 0 & 1\\end{matrix}\\right]$"
      ],
      "text/plain": [
       "Matrix([\n",
       "[1,                    0, 0],\n",
       "[0, 1.0*exp(0.5*I*theta), 0],\n",
       "[0,                    0, 1]])"
      ]
     },
     "execution_count": 52,
     "metadata": {},
     "output_type": "execute_result"
    }
   ],
   "source": [
    "th = symbols('theta')\n",
    "j=1; d=3; Rz = simplify(f_Rz(j,d,th)); Rz"
   ]
  },
  {
   "cell_type": "code",
   "execution_count": 20,
   "id": "1923501e-4aca-4579-8a19-f8f4f005ab59",
   "metadata": {},
   "outputs": [
    {
     "data": {
      "text/plain": [
       "(Matrix([\n",
       " [     0, -1.0*I],\n",
       " [-1.0*I,      0]]),\n",
       " array([[0.+0.j, 0.-1.j],\n",
       "        [0.-1.j, 0.+0.j]]))"
      ]
     },
     "execution_count": 20,
     "metadata": {},
     "output_type": "execute_result"
    }
   ],
   "source": [
    "# transform from sympy Matrix to numpy array\n",
    "from sympy import Matrix, matrix2numpy, pi\n",
    "#Msp = Matrix([[1,2],[3,4]])\n",
    "j=1; k=2; d=2; Rx = f_Rx(j,k,d,pi); Msp = Rx\n",
    "Mnp = matrix2numpy(Msp, dtype=complex)\n",
    "Msp,Mnp"
   ]
  },
  {
   "cell_type": "markdown",
   "id": "f1208398-9e55-48d3-aa01-603a4bcbebe7",
   "metadata": {},
   "source": [
    "## Porta de rotação controlada\n",
    "$$C_{R_\\alpha^{jk}(\\theta)}^{c\\rightarrow t} = \\sum_{l=0}^{d-1}|l\\rangle\\langle l|\\otimes R_\\alpha^{jk}(l\\theta) = \\sum_{l=0}^{D-1}|l\\rangle\\langle l|\\otimes e^{-il\\theta S_\\alpha^{jk}/2}.$$\n",
    "\n",
    "Elementos de matriz da rotação controlada\n",
    "\\begin{align}\n",
    "\\langle m n|C_{R_\\alpha^{jk}(\\theta)}^{c\\rightarrow t}|pq\\rangle & = \\sum_{l=0}^{d-1}\\langle m|l\\rangle\\langle l|p\\rangle\\otimes \\langle n|R_\\alpha^{jk}(l\\theta)|q\\rangle \\\\ \n",
    "& = \\sum_{l=0}^{d-1}\\delta_{m,l}\\delta_{l,p}\\otimes \\langle n|R_\\alpha^{jk}(l\\theta)|q\\rangle \\\\\n",
    "& = \\delta_{m,p}\\langle n|R_\\alpha^{jk}(p\\theta)|q\\rangle.\n",
    "\\end{align}"
   ]
  },
  {
   "cell_type": "markdown",
   "id": "f8c506c2-df0c-4359-ab97-b0ccb4d972c6",
   "metadata": {},
   "source": [
    "Os elementos não nulos de $C_{R_x^{jk}(\\theta)}^{c\\rightarrow t}$ são\n",
    "\\begin{align}\n",
    "& \\langle pj|C_{R_x^{jk}(\\theta)}^{c\\rightarrow t}|pj\\rangle = \\langle pk|C_{R_x^{jk}(\\theta)}^{c\\rightarrow t}|pk\\rangle = \\cos(p\\theta/2), \\\\ \n",
    "& \\langle pj|C_{R_x^{jk}(\\theta)}^{c\\rightarrow t}|pk\\rangle = \\langle pk|C_{R_x^{jk}(\\theta)}^{c\\rightarrow t}|pj\\rangle = -i\\sin(p\\theta/2),\\\\\n",
    "& \\langle pl|C_{R_x^{jk}(\\theta)}^{c\\rightarrow t}|pl\\rangle = 1;\\ l\\ne j\\ \\text{e}\\ l\\ne k;\\ p=1,\\cdots,d.\n",
    "\\end{align}\n",
    "Os elementos não nulos de $C_{R_y^{jk}(\\theta)}^{c\\rightarrow t}$ são\n",
    "\\begin{align}\n",
    "& \\langle pj|C_{R_y^{jk}(\\theta)}^{c\\rightarrow t}|pj\\rangle = \\langle pk|C_{R_y^{jk}(\\theta)}^{c\\rightarrow t}|pk\\rangle = \\cos(p\\theta/2), \\\\ \n",
    "& \\langle pj|C_{R_y^{jk}(\\theta)}^{c\\rightarrow t}|pk\\rangle = -\\langle pk|C_{R_y^{jk}(\\theta)}^{c\\rightarrow t}|pj\\rangle = -\\sin(p\\theta/2),\\\\\n",
    "& \\langle pl|C_{R_y^{jk}(\\theta)}^{c\\rightarrow t}|pl\\rangle = 1;\\ l\\ne j\\ \\text{e}\\ l\\ne k;\\ p=1,\\cdots,d.\n",
    "\\end{align}\n",
    "Já os elementos não nulos de $C_{R_z^j(\\theta)}^{c\\rightarrow t}$ são\n",
    "\\begin{align}\n",
    "& \\langle pk|C_{R_z^j(\\theta)}^{c\\rightarrow t}|pk\\rangle = \\exp\\Big(-i\\frac{p\\theta}{2}\\sqrt{\\frac{2}{j(j+1)}}\\Big);\\ k=1,\\cdots,j,\\\\\n",
    "& \\langle pk|C_{R_z^j(\\theta)}^{c\\rightarrow t}|pk\\rangle = \\exp\\Big(i\\frac{jp\\theta}{2}\\sqrt{\\frac{2}{j(j+1)}}\\Big);\\ k=j+1,\\\\\n",
    "& \\langle pk|C_{R_z^j(\\theta)}^{c\\rightarrow t}|pk\\rangle = 1;\\ k=j+2,\\cdots,d.\n",
    "\\end{align}\n",
    "\n",
    "Abaixo faço a programação em Sympy e em Numpy para comparação. No caso do Sympy é programado a simples soma das matrizes."
   ]
  },
  {
   "cell_type": "code",
   "execution_count": 69,
   "id": "1c230063-6e5f-466e-980f-3cd8f0709e81",
   "metadata": {},
   "outputs": [],
   "source": [
    "# Numpy\n",
    "\n",
    "import numpy as np\n",
    "import math\n",
    "\n",
    "def f_CRx(j,k,d,th):\n",
    "    # d = qudit dimension\n",
    "    # j,k = identification of the Gell-Mann matrix\n",
    "    # th = rotation angle\n",
    "    crx = np.eye(d*d, dtype=complex)\n",
    "    j = j-1; k = k-1\n",
    "    for p in range(0,d):\n",
    "        angle = (p*th)/2\n",
    "        jl = p*d+j; kl = p*d+k \n",
    "        crx[jl,jl] = math.cos(angle); crx[kl,kl] = crx[jl,jl]\n",
    "        crx[jl,kl] = -1j*math.sin(angle); crx[kl,jl] = crx[jl,kl]\n",
    "    return crx\n",
    "\n",
    "def f_CRy(j,k,d,th):\n",
    "    # d = qudit dimension\n",
    "    # j,k = identification of the Gell-Mann matrix\n",
    "    # th = rotation angle\n",
    "    j = j-1; k = k-1\n",
    "    cry = np.eye(d*d, dtype=complex)\n",
    "    for p in range(0,d):\n",
    "        angle = (p*th)/2\n",
    "        jl = p*d+j; kl = p*d+k\n",
    "        cry[jl,jl] = math.cos(angle); cry[kl,kl] = cry[jl,jl]\n",
    "        cry[jl,kl] = -math.sin(angle); cry[kl,jl] = -cry[jl,kl]\n",
    "    return cry\n",
    "\n",
    "def f_CRz(j,d,th):\n",
    "    # d = qudit dimension\n",
    "    # j = identification of the Gell-Mann matrix\n",
    "    # th = rotation angle\n",
    "    crz = np.eye(d*d, dtype=complex)\n",
    "    for p in range(0,d):\n",
    "        angle = ((p*th)/2)*math.sqrt(2/(j*(j+1)))\n",
    "        for k in range(0,j):\n",
    "            kl = p*d+k\n",
    "            crz[kl,kl] = math.cos(angle) - 1j*math.sin(angle)\n",
    "        angle = angle*j\n",
    "        jl = p*d+j\n",
    "        crz[jl,jl] = math.cos(angle) + 1j*math.sin(angle)\n",
    "        if j < d:\n",
    "            for k in range(j+1,d):\n",
    "                kl = p*d+k\n",
    "                rz[kl,kl] = 1\n",
    "    return crz"
   ]
  },
  {
   "cell_type": "code",
   "execution_count": 14,
   "id": "a932dd54-53cb-4cf4-ac83-d47f637e5d20",
   "metadata": {},
   "outputs": [
    {
     "data": {
      "text/latex": [
       "$\\displaystyle \\left[\\begin{matrix}1 & 0\\\\0 & 0\\end{matrix}\\right]$"
      ],
      "text/plain": [
       "Matrix([\n",
       "[1, 0],\n",
       "[0, 0]])"
      ]
     },
     "execution_count": 14,
     "metadata": {},
     "output_type": "execute_result"
    }
   ],
   "source": [
    "# Sympy\n",
    "\n",
    "from sympy.physics.quantum import TensorProduct\n",
    "from sympy import zeros\n",
    "\n",
    "def tp(A,B):\n",
    "    return TensorProduct(A,B)\n",
    "\n",
    "def ket(d,j):\n",
    "    ke = zeros(d,1)\n",
    "    ke[j] = 1\n",
    "    return ke\n",
    "\n",
    "ke = ket(2,0); ke*ke.T"
   ]
  },
  {
   "cell_type": "markdown",
   "id": "3033a0a5-1570-4525-99c1-54f26a253473",
   "metadata": {},
   "source": [
    "Para a implementação em Sympy:\n",
    "$$C_{R_x^{jk}(\\theta)}^{c\\rightarrow t} = I_{\\overline{c}}\\otimes I_{\\overline{t}}\\otimes\\sum_{l=0}^{d-1}|l\\rangle\\langle l|_c \\otimes R_x^{jk}(l\\theta)_t.$$"
   ]
  },
  {
   "cell_type": "code",
   "execution_count": 27,
   "id": "ffecdd7b-b227-4ac8-8709-5cd2192db912",
   "metadata": {},
   "outputs": [],
   "source": [
    "def ctrl_R(al,j,k,d,th,c,t):\n",
    "    D = d*d\n",
    "    CR = zeros(D,D)\n",
    "    for l in range(0,d):\n",
    "        ke = ket(d,l)\n",
    "        if al == 'x':\n",
    "            if c == 0 and t == 1:\n",
    "                CR = CR + tp((ke*ke.T),f_Rx(j,k,d,l*th))\n",
    "            elif c == 1 and t == 0:\n",
    "                CR = CR + tp(f_Rx(j,k,d,l*th),(ke*ke.T))\n",
    "        elif al == 'y':\n",
    "            if c == 0 and t == 1:\n",
    "                CR = CR + tp((ke*ke.T),f_Ry(j,k,d,l*th))\n",
    "            elif c == 1 and t == 0:\n",
    "                CR = CR + tp(f_Ry(j,k,d,l*th),(ke*ke.T))\n",
    "        elif al == 'z':\n",
    "            if c == 0 and t == 1:\n",
    "                CR = CR + tp((ke*ke.T),f_Rz(j,d,l*th))\n",
    "            elif c == 1 and t == 0:\n",
    "                CR = CR + tp(f_Rz(j,d,l*th),(ke*ke.T))\n",
    "    return CR"
   ]
  },
  {
   "cell_type": "code",
   "execution_count": 28,
   "id": "b1ca70fe-a582-42c3-b484-8cbc3716de96",
   "metadata": {},
   "outputs": [
    {
     "data": {
      "text/latex": [
       "$\\displaystyle \\left[\\begin{matrix}1 & 0 & 0 & 0\\\\0 & 1 & 0 & 0\\\\0 & 0 & \\cos{\\left(\\frac{\\theta}{2} \\right)} & - 1.0 i \\sin{\\left(\\frac{\\theta}{2} \\right)}\\\\0 & 0 & - 1.0 i \\sin{\\left(\\frac{\\theta}{2} \\right)} & \\cos{\\left(\\frac{\\theta}{2} \\right)}\\end{matrix}\\right]$"
      ],
      "text/plain": [
       "Matrix([\n",
       "[1, 0,                   0,                   0],\n",
       "[0, 1,                   0,                   0],\n",
       "[0, 0,        cos(theta/2), -1.0*I*sin(theta/2)],\n",
       "[0, 0, -1.0*I*sin(theta/2),        cos(theta/2)]])"
      ]
     },
     "execution_count": 28,
     "metadata": {},
     "output_type": "execute_result"
    }
   ],
   "source": [
    "al='x'; j=1; k=2; d=2; c=0; t=1; th = symbols('theta'); ctrl_R(al,j,k,d,th,c,t)"
   ]
  },
  {
   "cell_type": "code",
   "execution_count": 30,
   "id": "85fd0533-369b-4f70-b4a9-5e0d71b96733",
   "metadata": {},
   "outputs": [
    {
     "data": {
      "text/latex": [
       "$\\displaystyle \\left[\\begin{matrix}1 & 0 & 0 & 0\\\\0 & \\cos{\\left(\\frac{\\theta}{2} \\right)} & 0 & - \\sin{\\left(\\frac{\\theta}{2} \\right)}\\\\0 & 0 & 1 & 0\\\\0 & \\sin{\\left(\\frac{\\theta}{2} \\right)} & 0 & \\cos{\\left(\\frac{\\theta}{2} \\right)}\\end{matrix}\\right]$"
      ],
      "text/plain": [
       "Matrix([\n",
       "[1,            0, 0,             0],\n",
       "[0, cos(theta/2), 0, -sin(theta/2)],\n",
       "[0,            0, 1,             0],\n",
       "[0, sin(theta/2), 0,  cos(theta/2)]])"
      ]
     },
     "execution_count": 30,
     "metadata": {},
     "output_type": "execute_result"
    }
   ],
   "source": [
    "al='y'; j=1; k=2; d=2; c=1; t=0; th = symbols('theta'); ctrl_R(al,j,k,d,th,c,t)"
   ]
  },
  {
   "cell_type": "code",
   "execution_count": 33,
   "id": "7c06ce19-f656-4740-a797-3068745385f4",
   "metadata": {},
   "outputs": [
    {
     "data": {
      "text/latex": [
       "$\\displaystyle \\left[\\begin{matrix}1 & 0 & 0 & 0\\\\0 & 1 & 0 & 0\\\\0 & 0 & 1 & 0\\\\0 & 0 & 0 & 1.0 e^{0.5 i \\theta}\\end{matrix}\\right]$"
      ],
      "text/plain": [
       "Matrix([\n",
       "[1, 0, 0,                    0],\n",
       "[0, 1, 0,                    0],\n",
       "[0, 0, 1,                    0],\n",
       "[0, 0, 0, 1.0*exp(0.5*I*theta)]])"
      ]
     },
     "execution_count": 33,
     "metadata": {},
     "output_type": "execute_result"
    }
   ],
   "source": [
    "al='z'; j=1; k=j; d=2; c=1; t=0; th = symbols('theta'); simplify(ctrl_R(al,j,k,d,th,c,t))"
   ]
  },
  {
   "cell_type": "code",
   "execution_count": 70,
   "id": "c246ae8a-b6e2-4544-90aa-bb1f97f2ed45",
   "metadata": {},
   "outputs": [
    {
     "data": {
      "text/latex": [
       "$\\displaystyle \\left[\\begin{matrix}1 & 0 & 0 & 0\\\\0 & 1 & 0 & 0\\\\0 & 0 & 0 & - 1.0 i\\\\0 & 0 & - 1.0 i & 0\\end{matrix}\\right]$"
      ],
      "text/plain": [
       "Matrix([\n",
       "[1, 0,      0,      0],\n",
       "[0, 1,      0,      0],\n",
       "[0, 0,      0, -1.0*I],\n",
       "[0, 0, -1.0*I,      0]])"
      ]
     },
     "execution_count": 70,
     "metadata": {},
     "output_type": "execute_result"
    }
   ],
   "source": [
    "from sympy import pi\n",
    "al='x'; j=1; k=2; d=2; c=0; t=1; th = pi; ctrl_R(al,j,k,d,th,c,t)"
   ]
  },
  {
   "cell_type": "code",
   "execution_count": 71,
   "id": "76cea30d-e8bf-4526-bf94-ae1e3cb08162",
   "metadata": {},
   "outputs": [
    {
     "data": {
      "text/plain": [
       "array([[1.000000e+00+0.j, 0.000000e+00-0.j, 0.000000e+00+0.j,\n",
       "        0.000000e+00+0.j],\n",
       "       [0.000000e+00-0.j, 1.000000e+00+0.j, 0.000000e+00+0.j,\n",
       "        0.000000e+00+0.j],\n",
       "       [0.000000e+00+0.j, 0.000000e+00+0.j, 6.123234e-17+0.j,\n",
       "        0.000000e+00-1.j],\n",
       "       [0.000000e+00+0.j, 0.000000e+00+0.j, 0.000000e+00-1.j,\n",
       "        6.123234e-17+0.j]])"
      ]
     },
     "execution_count": 71,
     "metadata": {},
     "output_type": "execute_result"
    }
   ],
   "source": [
    "j=1; k=2; d=2; th = math.pi; crx = f_CRx(j,k,d,th); crx # ok!"
   ]
  },
  {
   "cell_type": "code",
   "execution_count": 72,
   "id": "574280f9-f78f-477b-a592-01804606f4dc",
   "metadata": {},
   "outputs": [
    {
     "data": {
      "text/latex": [
       "$\\displaystyle \\left[\\begin{matrix}1 & 0 & 0 & 0\\\\0 & 1 & 0 & 0\\\\0 & 0 & 0 & -1\\\\0 & 0 & 1 & 0\\end{matrix}\\right]$"
      ],
      "text/plain": [
       "Matrix([\n",
       "[1, 0, 0,  0],\n",
       "[0, 1, 0,  0],\n",
       "[0, 0, 0, -1],\n",
       "[0, 0, 1,  0]])"
      ]
     },
     "execution_count": 72,
     "metadata": {},
     "output_type": "execute_result"
    }
   ],
   "source": [
    "al='y'; j=1; k=2; d=2; c=0; t=1; th = pi; ctrl_R(al,j,k,d,th,c,t)"
   ]
  },
  {
   "cell_type": "code",
   "execution_count": 73,
   "id": "8014eb32-411f-4f22-b0d8-9d667d8dde89",
   "metadata": {},
   "outputs": [
    {
     "data": {
      "text/plain": [
       "array([[ 1.000000e+00+0.j, -0.000000e+00+0.j,  0.000000e+00+0.j,\n",
       "         0.000000e+00+0.j],\n",
       "       [ 0.000000e+00-0.j,  1.000000e+00+0.j,  0.000000e+00+0.j,\n",
       "         0.000000e+00+0.j],\n",
       "       [ 0.000000e+00+0.j,  0.000000e+00+0.j,  6.123234e-17+0.j,\n",
       "        -1.000000e+00+0.j],\n",
       "       [ 0.000000e+00+0.j,  0.000000e+00+0.j,  1.000000e+00-0.j,\n",
       "         6.123234e-17+0.j]])"
      ]
     },
     "execution_count": 73,
     "metadata": {},
     "output_type": "execute_result"
    }
   ],
   "source": [
    "j=1; k=2; d=2; th = math.pi; cry = f_CRy(j,k,d,th); cry # ok!"
   ]
  },
  {
   "cell_type": "code",
   "execution_count": 76,
   "id": "81cb9339-e549-4fb3-be68-14c0bb20ee51",
   "metadata": {},
   "outputs": [
    {
     "data": {
      "text/latex": [
       "$\\displaystyle \\left[\\begin{matrix}1 & 0 & 0 & 0\\\\0 & 1 & 0 & 0\\\\0 & 0 & - 1.0 i & 0\\\\0 & 0 & 0 & 1.0 i\\end{matrix}\\right]$"
      ],
      "text/plain": [
       "Matrix([\n",
       "[1, 0,      0,     0],\n",
       "[0, 1,      0,     0],\n",
       "[0, 0, -1.0*I,     0],\n",
       "[0, 0,      0, 1.0*I]])"
      ]
     },
     "execution_count": 76,
     "metadata": {},
     "output_type": "execute_result"
    }
   ],
   "source": [
    "al='z'; j=1; k=j; d=2; c=0; t=1; th = pi; simplify(ctrl_R(al,j,k,d,th,c,t))"
   ]
  },
  {
   "cell_type": "code",
   "execution_count": 77,
   "id": "b09395b0-dd80-4c55-8005-ba02860bae85",
   "metadata": {},
   "outputs": [
    {
     "data": {
      "text/plain": [
       "array([[1.000000e+00+0.j, 0.000000e+00+0.j, 0.000000e+00+0.j,\n",
       "        0.000000e+00+0.j],\n",
       "       [0.000000e+00+0.j, 1.000000e+00+0.j, 0.000000e+00+0.j,\n",
       "        0.000000e+00+0.j],\n",
       "       [0.000000e+00+0.j, 0.000000e+00+0.j, 6.123234e-17-1.j,\n",
       "        0.000000e+00+0.j],\n",
       "       [0.000000e+00+0.j, 0.000000e+00+0.j, 0.000000e+00+0.j,\n",
       "        6.123234e-17+1.j]])"
      ]
     },
     "execution_count": 77,
     "metadata": {},
     "output_type": "execute_result"
    }
   ],
   "source": [
    "j=1; d=2; th = math.pi; crz = f_CRz(j,d,th); crz # ok!"
   ]
  },
  {
   "cell_type": "markdown",
   "id": "da2dceab-e823-4def-ac26-e00771f0e823",
   "metadata": {},
   "source": [
    "## Caso geral\n",
    "\n",
    "### Elementos não nulos de $C_{R_x^{jk}(\\theta)}^{c\\rightarrow t}$\n",
    "\n",
    "Depois de algumas contas, notamos o seguinte. Se \n",
    "$$c<t$$\n",
    "os elementos não nulos da rotação controlada são\n",
    "\\begin{align}\n",
    "& \\langle\\cdots,k_{c-1},k_c,k_{c+1},\\cdots,k_{t-1},j,k_{t+1},\\cdots|C_{R_x^{jk}(\\theta)}^{c\\rightarrow t}|\\cdots,k_{c-1},k_c,k_{c+1},\\cdots,k_{t-1},j,k_{t+1},\\cdots\\rangle=\\cos(k_c \\theta/2), \\\\\n",
    "& \\langle\\cdots,k_{c-1},k_c,k_{c+1},\\cdots,k_{t-1},k,k_{t+1},\\cdots|C_{R_x^{jk}(\\theta)}^{c\\rightarrow t}|\\cdots,k_{c-1},k_c,k_{c+1},\\cdots,k_{t-1},k,k_{t+1},\\cdots\\rangle=\\cos(k_c \\theta/2), \\\\\n",
    "& \\langle\\cdots,k_{c-1},k_c,k_{c+1},\\cdots,k_{t-1},j,k_{t+1},\\cdots|C_{R_x^{jk}(\\theta)}^{c\\rightarrow t}|\\cdots,k_{c-1},k_c,k_{c+1},\\cdots,k_{t-1},k,k_{t+1},\\cdots\\rangle = -i\\sin(k_c \\theta/2), \\\\\n",
    "& \\langle\\cdots,k_{c-1},k_c,k_{c+1},\\cdots,k_{t-1},k,k_{t+1},\\cdots|C_{R_x^{jk}(\\theta)}^{c\\rightarrow t}|\\cdots,k_{c-1},k_c,k_{c+1},\\cdots,k_{t-1},j,k_{t+1},\\cdots\\rangle = -i\\sin(k_c \\theta/2), \\\\\n",
    "& \\langle\\cdots,k_{c-1},k_c,k_{c+1},\\cdots,k_{t-1},l,k_{t+1},\\cdots|C_{R_x^{jk}(\\theta)}^{c\\rightarrow t}|\\cdots,k_{c-1},k_c,k_{c+1},\\cdots,k_{t-1},l,k_{t+1},\\cdots\\rangle = 1, \\\\\n",
    "\\end{align}\n",
    "pra $l\\ne j;\\ l\\ne k;\\ k_s = 0,\\cdots,d-1;\\ s=1,\\cdots,N.$\n",
    "Se \n",
    "$$c>t$$\n",
    "os elementos não nulos da rotação controlada são\n",
    "\\begin{align}\n",
    "& \\langle\\cdots,k_{t-1},j,k_{t+1},\\cdots,k_{c-1},k_c,k_{c+1},\\cdots|C_{R_x^{jk}(\\theta)}^{c\\rightarrow t}|\\cdots,k_{t-1},j,k_{t+1},\\cdots,k_{c-1},k_c,k_{c+1},\\cdots\\rangle=\\cos(k_c \\theta/2), \\\\\n",
    "& \\langle\\cdots,k_{t-1},k,k_{t+1},\\cdots,k_{c-1},k_c,k_{c+1},\\cdots|C_{R_x^{jk}(\\theta)}^{c\\rightarrow t}|\\cdots,k_{t-1},k,k_{t+1},\\cdots,k_{c-1},k_c,k_{c+1},\\cdots\\rangle=\\cos(k_c \\theta/2), \\\\\n",
    "& \\langle\\cdots,k_{t-1},j,k_{t+1},\\cdots,k_{c-1},k_c,k_{c+1},\\cdots|C_{R_x^{jk}(\\theta)}^{c\\rightarrow t}|\\cdots,k_{t-1},k,k_{t+1},\\cdots,k_{c-1},k_c,k_{c+1},\\cdots\\rangle = -i\\sin(k_c \\theta/2), \\\\\n",
    "& \\langle\\cdots,k_{t-1},k,k_{t+1},\\cdots,k_{c-1},k_c,k_{c+1},\\cdots|C_{R_x^{jk}(\\theta)}^{c\\rightarrow t}|\\cdots,k_{t-1},j,k_{t+1},\\cdots,k_{c-1},k_c,k_{c+1},\\cdots\\rangle = -i\\sin(k_c \\theta/2), \\\\\n",
    "& \\langle\\cdots,k_{t-1},l,k_{t+1},\\cdots,k_{c-1},k_c,k_{c+1},\\cdots|C_{R_x^{jk}(\\theta)}^{c\\rightarrow t}|\\cdots,k_{t-1},l,k_{t+1},\\cdots,k_{c-1},k_c,k_{c+1},\\cdots\\rangle = 1,\n",
    "\\end{align}\n",
    "pra $l\\ne j;\\ l\\ne k;\\ k_s = 0,\\cdots,d-1;\\ s=1,\\cdots,N.$\n",
    "\n",
    "No final, os dois casos puderam ser implementados diretamente usando uma única função, sem necessidade de usar condicionais."
   ]
  },
  {
   "cell_type": "code",
   "execution_count": 121,
   "id": "ed8c92ca-d926-4104-a33f-4738b7408bfe",
   "metadata": {},
   "outputs": [],
   "source": [
    "# Numpy\n",
    "\n",
    "import numpy as np\n",
    "\n",
    "def ctrl_Rx_qudits(d,N,t,c,j,k,th): # return the controlled-rotation gate\n",
    "    # d = qudit dimension; N = No. of qudits; t = target qudit (0,...,N-1); c = control qudit (0,...,N-1)\n",
    "    # j,k are the Gell-Mann matrix indeces; th is the rotation angle\n",
    "    D = d**N\n",
    "    CR = np.zeros((D,D), dtype=complex) # set all d^2N elements to 0\n",
    "    Dl = D//d # dimension for N-1 qudits\n",
    "    for m in range (0,Dl): # run over all states of N-1 qdits\n",
    "        local = dec2den(m,N-1,d) # values for the local basis of N-1 qudits\n",
    "        if N == 2: # to avoid issues in this case\n",
    "            angle = (local[0]*th)/2\n",
    "        else:\n",
    "            angle = (local[c]*th)/2\n",
    "        listj = local.copy(); listj.insert(t,j-1); intj = den2dec(listj,d) # integer for the j state\n",
    "        listk = local.copy(); listk.insert(t,k-1); intk = den2dec(listk,d) # integer for the k state        \n",
    "        CR[intj,intj] = math.cos(angle); CR[intk,intk] = CR[intj,intj]\n",
    "        CR[intj,intk] = -1j*math.sin(angle); CR[intk,intj] = CR[intj,intk]\n",
    "        for l in range(0,d):\n",
    "            if l != j-1 and l != k-1:\n",
    "                listl = local.copy(); listl.insert(t,l); intl = den2dec(listl,d) # integer for the l state\n",
    "                CR[intl,intl] = 1\n",
    "    return CR   "
   ]
  },
  {
   "cell_type": "code",
   "execution_count": 123,
   "id": "465452ca-2ff6-4288-8440-b0a9024b8dd7",
   "metadata": {},
   "outputs": [
    {
     "data": {
      "text/latex": [
       "$\\displaystyle \\left[\\begin{matrix}0 & 0 & 0 & 0 & 0 & 0 & 1 & 0\\\\0 & 0 & 0 & 0 & 0 & 0 & 0 & 1\\\\0 & 0 & 0 & 0 & 1 & 0 & 0 & 0\\\\0 & 0 & 0 & 0 & 0 & 1 & 0 & 0\\\\0 & 0 & 1 & 0 & 0 & 0 & 0 & 0\\\\0 & 0 & 0 & 1 & 0 & 0 & 0 & 0\\\\1 & 0 & 0 & 0 & 0 & 0 & 0 & 0\\\\0 & 1 & 0 & 0 & 0 & 0 & 0 & 0\\end{matrix}\\right]$"
      ],
      "text/plain": [
       "Matrix([\n",
       "[0, 0, 0, 0, 0, 0, 1, 0],\n",
       "[0, 0, 0, 0, 0, 0, 0, 1],\n",
       "[0, 0, 0, 0, 1, 0, 0, 0],\n",
       "[0, 0, 0, 0, 0, 1, 0, 0],\n",
       "[0, 0, 1, 0, 0, 0, 0, 0],\n",
       "[0, 0, 0, 1, 0, 0, 0, 0],\n",
       "[1, 0, 0, 0, 0, 0, 0, 0],\n",
       "[0, 1, 0, 0, 0, 0, 0, 0]])"
      ]
     },
     "execution_count": 123,
     "metadata": {},
     "output_type": "execute_result"
    }
   ],
   "source": [
    "# tests for the tensor product of several matrices. One cannot start from a scalar. \n",
    "# The dimension is updated automatically.\n",
    "s1 = Matrix([[0,1],[1,0]]); I2 = eye(2)\n",
    "#M = 1; M = tp(M,s1); M = tp(M,I2); M # did not work\n",
    "M = s1; M = tp(M,s1); M = tp(M,I2); M"
   ]
  },
  {
   "cell_type": "markdown",
   "id": "95a756d4-44d7-4b62-8e8a-8a5a9984d8f6",
   "metadata": {},
   "source": [
    "Para a implementação em Sympy:\n",
    "$$C_{R_y^{jk}(\\theta)}^{c\\rightarrow t} = I_{\\overline{c}}\\otimes I_{\\overline{t}}\\otimes\\sum_{l=0}^{d-1}|l\\rangle\\langle l|_c \\otimes R_y^{jk}(l\\theta)_t.$$"
   ]
  },
  {
   "cell_type": "code",
   "execution_count": 124,
   "id": "a3af8928-f924-4a16-b471-039b4af8a155",
   "metadata": {},
   "outputs": [],
   "source": [
    "# Sympy\n",
    "\n",
    "# general controlled rotation in sympy (seems ok)\n",
    "def CRx_qudits_sympy(d,N,t,c,j,k,th):\n",
    "    D = d**N\n",
    "    CR = zeros(D,D)\n",
    "    Id = eye(d)\n",
    "    for m in range(0,d):\n",
    "        ke = ket(d,m)\n",
    "        s = 0\n",
    "        if s == c:\n",
    "            CRl = ke*ke.T\n",
    "        elif s == t:\n",
    "            CRl = f_Rx(j,k,d,m*th)\n",
    "        else:\n",
    "            CRl = Id\n",
    "        for s in range(1,N):\n",
    "            if s == c:\n",
    "                CRl = tp(CRl,(ke*ke.T))\n",
    "            elif s == t:\n",
    "                CRl = tp(CRl,f_Rx(j,k,d,m*th))\n",
    "            else:\n",
    "                CRl = tp(CRl,Id)\n",
    "        CR = CR + CRl\n",
    "    return CR"
   ]
  },
  {
   "cell_type": "code",
   "execution_count": 125,
   "id": "c661fde4-f209-4485-92f1-cfe2209a1797",
   "metadata": {},
   "outputs": [
    {
     "data": {
      "text/latex": [
       "$\\displaystyle \\left[\\begin{matrix}1 & 0 & 0 & 0 & 0 & 0 & 0 & 0\\\\0 & 1 & 0 & 0 & 0 & 0 & 0 & 0\\\\0 & 0 & \\cos{\\left(\\frac{\\theta}{2} \\right)} & - 1.0 i \\sin{\\left(\\frac{\\theta}{2} \\right)} & 0 & 0 & 0 & 0\\\\0 & 0 & - 1.0 i \\sin{\\left(\\frac{\\theta}{2} \\right)} & \\cos{\\left(\\frac{\\theta}{2} \\right)} & 0 & 0 & 0 & 0\\\\0 & 0 & 0 & 0 & 1 & 0 & 0 & 0\\\\0 & 0 & 0 & 0 & 0 & 1 & 0 & 0\\\\0 & 0 & 0 & 0 & 0 & 0 & \\cos{\\left(\\frac{\\theta}{2} \\right)} & - 1.0 i \\sin{\\left(\\frac{\\theta}{2} \\right)}\\\\0 & 0 & 0 & 0 & 0 & 0 & - 1.0 i \\sin{\\left(\\frac{\\theta}{2} \\right)} & \\cos{\\left(\\frac{\\theta}{2} \\right)}\\end{matrix}\\right]$"
      ],
      "text/plain": [
       "Matrix([\n",
       "[1, 0,                   0,                   0, 0, 0,                   0,                   0],\n",
       "[0, 1,                   0,                   0, 0, 0,                   0,                   0],\n",
       "[0, 0,        cos(theta/2), -1.0*I*sin(theta/2), 0, 0,                   0,                   0],\n",
       "[0, 0, -1.0*I*sin(theta/2),        cos(theta/2), 0, 0,                   0,                   0],\n",
       "[0, 0,                   0,                   0, 1, 0,                   0,                   0],\n",
       "[0, 0,                   0,                   0, 0, 1,                   0,                   0],\n",
       "[0, 0,                   0,                   0, 0, 0,        cos(theta/2), -1.0*I*sin(theta/2)],\n",
       "[0, 0,                   0,                   0, 0, 0, -1.0*I*sin(theta/2),        cos(theta/2)]])"
      ]
     },
     "execution_count": 125,
     "metadata": {},
     "output_type": "execute_result"
    }
   ],
   "source": [
    "j=1; k=2; d=2; N=3; th=symbols('theta'); c=1; t=2; crx = CRx_qudits_sympy(d,N,t,c,j,k,th); crx"
   ]
  },
  {
   "cell_type": "code",
   "execution_count": 126,
   "id": "b68da191-12b1-42e0-a372-df2a771c87ff",
   "metadata": {},
   "outputs": [
    {
     "data": {
      "text/plain": [
       "[33, 1, 2]"
      ]
     },
     "execution_count": 126,
     "metadata": {},
     "output_type": "execute_result"
    }
   ],
   "source": [
    "def dec2den(j,N,d): # converte de decimal para representação denária\n",
    "    # j = valor decimal; \n",
    "    den = [0 for k in range(0,N)]\n",
    "    jv = j\n",
    "    for k in range(0,N):\n",
    "        if jv >= d**(N-1-k):\n",
    "            den[k] = jv//(d**(N-1-k))\n",
    "            jv = jv - den[k]*d**(N-1-k)\n",
    "    return den\n",
    "\n",
    "dec2den(832,3,5)"
   ]
  },
  {
   "cell_type": "code",
   "execution_count": 127,
   "id": "7d5c4215-d2e6-44fb-a225-1d67b76a7579",
   "metadata": {},
   "outputs": [
    {
     "data": {
      "text/plain": [
       "832"
      ]
     },
     "execution_count": 127,
     "metadata": {},
     "output_type": "execute_result"
    }
   ],
   "source": [
    "def den2dec(local,d): # converte da representação denária pra a decimal\n",
    "    # local = list with the local computational base state values \n",
    "    # d = individual qudit dimension\n",
    "    N = len(local)\n",
    "    j = 0\n",
    "    for k in range(0,N):\n",
    "        j += local[k]*d**(N-1-k)\n",
    "    return j # value of the global computational basis index\n",
    "\n",
    "den2dec([33,1,2],5)"
   ]
  },
  {
   "cell_type": "code",
   "execution_count": 128,
   "id": "baa32855-76fd-48d1-83a0-8ed62f39021d",
   "metadata": {},
   "outputs": [
    {
     "name": "stdout",
     "output_type": "stream",
     "text": [
      "l1= [1, 2, 3, 5, 6]\n",
      "l2= [1, 2, 3, 4, 5, 6]\n"
     ]
    }
   ],
   "source": [
    "# inserindo elementos em listas no numpy\n",
    "l1 = [1, 2, 3, 5, 6]; print('l1=',l1)\n",
    "l2 = l1.copy()\n",
    "l2.insert(3,4) # 1º nº é a posição e o 2º nº é o valor a ser inserido\n",
    "print('l2=',l2)"
   ]
  },
  {
   "cell_type": "code",
   "execution_count": 129,
   "id": "d7358950-7d62-46c8-aa97-db833819fee4",
   "metadata": {},
   "outputs": [
    {
     "data": {
      "text/plain": [
       "array([[1.000000e+00+0.j, 0.000000e+00-0.j, 0.000000e+00+0.j,\n",
       "        0.000000e+00+0.j],\n",
       "       [0.000000e+00-0.j, 1.000000e+00+0.j, 0.000000e+00+0.j,\n",
       "        0.000000e+00+0.j],\n",
       "       [0.000000e+00+0.j, 0.000000e+00+0.j, 6.123234e-17+0.j,\n",
       "        0.000000e+00-1.j],\n",
       "       [0.000000e+00+0.j, 0.000000e+00+0.j, 0.000000e+00-1.j,\n",
       "        6.123234e-17+0.j]])"
      ]
     },
     "execution_count": 129,
     "metadata": {},
     "output_type": "execute_result"
    }
   ],
   "source": [
    "import math\n",
    "j=1; k=2; d=2; N=2; th=math.pi; t=1; c=0; crx = ctrl_Rx_qudits(d,N,t,c,j,k,th); crx # ok!"
   ]
  },
  {
   "cell_type": "code",
   "execution_count": 130,
   "id": "65a37072-eb32-4fb6-965b-bd6695f2dcc5",
   "metadata": {},
   "outputs": [
    {
     "data": {
      "text/plain": [
       "array([[1.+0.j, 0.+0.j, 0.+0.j, 0.+0.j],\n",
       "       [0.+0.j, 1.+0.j, 0.+0.j, 0.+0.j],\n",
       "       [0.+0.j, 0.+0.j, 0.+0.j, 0.-1.j],\n",
       "       [0.+0.j, 0.+0.j, 0.-1.j, 0.+0.j]])"
      ]
     },
     "execution_count": 130,
     "metadata": {},
     "output_type": "execute_result"
    }
   ],
   "source": [
    "al='x';j=1;k=2;d=2; th=pi; c=0; t=1; crx = ctrl_R(al,j,k,d,th,c,t); Mnp = matrix2numpy(crx, dtype=complex); Mnp # sympy"
   ]
  },
  {
   "cell_type": "code",
   "execution_count": 131,
   "id": "10c557b5-3705-4a95-981e-96446a878ab1",
   "metadata": {},
   "outputs": [
    {
     "data": {
      "text/plain": [
       "array([[1.000000e+00+0.j, 0.000000e+00+0.j, 0.000000e+00-0.j,\n",
       "        0.000000e+00+0.j],\n",
       "       [0.000000e+00+0.j, 6.123234e-17+0.j, 0.000000e+00+0.j,\n",
       "        0.000000e+00-1.j],\n",
       "       [0.000000e+00-0.j, 0.000000e+00+0.j, 1.000000e+00+0.j,\n",
       "        0.000000e+00+0.j],\n",
       "       [0.000000e+00+0.j, 0.000000e+00-1.j, 0.000000e+00+0.j,\n",
       "        6.123234e-17+0.j]])"
      ]
     },
     "execution_count": 131,
     "metadata": {},
     "output_type": "execute_result"
    }
   ],
   "source": [
    "j=1; k=2; d=2; N=2; th=math.pi; t=0; c=1; crx = ctrl_Rx_qudits(d,N,t,c,j,k,th); crx # ok!"
   ]
  },
  {
   "cell_type": "code",
   "execution_count": 132,
   "id": "563f8b20-1cfd-4b28-b80e-9317a78c1c85",
   "metadata": {},
   "outputs": [
    {
     "data": {
      "text/plain": [
       "array([[1.+0.j, 0.+0.j, 0.+0.j, 0.+0.j],\n",
       "       [0.+0.j, 0.+0.j, 0.+0.j, 0.-1.j],\n",
       "       [0.+0.j, 0.+0.j, 1.+0.j, 0.+0.j],\n",
       "       [0.+0.j, 0.-1.j, 0.+0.j, 0.+0.j]])"
      ]
     },
     "execution_count": 132,
     "metadata": {},
     "output_type": "execute_result"
    }
   ],
   "source": [
    "al='x';j=1;k=2;d=2; th=pi; c=1; t=0; crx = ctrl_R(al,j,k,d,th,c,t); Mnp = matrix2numpy(crx, dtype=complex); Mnp # sympy"
   ]
  },
  {
   "cell_type": "code",
   "execution_count": 138,
   "id": "c0ecd673-badb-4066-8a98-4aa68618dd4a",
   "metadata": {},
   "outputs": [
    {
     "name": "stdout",
     "output_type": "stream",
     "text": [
      "1.7319121124709866e-16\n"
     ]
    }
   ],
   "source": [
    "j=1; k=2; d=2; N=3; th=math.pi; t=2; c=1; CRxnp = ctrl_Rx_qudits(d,N,t,c,j,k,th) # numpy # ok!\n",
    "th=pi; crx = CRx_qudits_sympy(d,N,t,c,j,k,th); CRxsp = matrix2numpy(crx, dtype=complex) # sympy\n",
    "print(np.linalg.norm(CRznp-CRzsp))"
   ]
  },
  {
   "cell_type": "markdown",
   "id": "36dbb3d0-3082-4be5-9820-45cd955213d7",
   "metadata": {},
   "source": [
    "### Elementos não nulos de $C_{R_y^{jk}(\\theta)}^{c\\rightarrow t}$\n",
    "\n",
    "Depois de algumas contas, notamos o seguinte. Se \n",
    "$$c<t$$\n",
    "os elementos não nulos da rotação controlada são\n",
    "\\begin{align}\n",
    "& \\langle\\cdots,k_{c-1},k_c,k_{c+1},\\cdots,k_{t-1},j,k_{t+1},\\cdots|C_{R_y^{jk}(\\theta)}^{c\\rightarrow t}|\\cdots,k_{c-1},k_c,k_{c+1},\\cdots,k_{t-1},j,k_{t+1},\\cdots\\rangle=\\cos(k_c \\theta/2), \\\\\n",
    "& \\langle\\cdots,k_{c-1},k_c,k_{c+1},\\cdots,k_{t-1},k,k_{t+1},\\cdots|C_{R_y^{jk}(\\theta)}^{c\\rightarrow t}|\\cdots,k_{c-1},k_c,k_{c+1},\\cdots,k_{t-1},k,k_{t+1},\\cdots\\rangle=\\cos(k_c \\theta/2), \\\\\n",
    "& \\langle\\cdots,k_{c-1},k_c,k_{c+1},\\cdots,k_{t-1},j,k_{t+1},\\cdots|C_{R_y^{jk}(\\theta)}^{c\\rightarrow t}|\\cdots,k_{c-1},k_c,k_{c+1},\\cdots,k_{t-1},k,k_{t+1},\\cdots\\rangle = -\\sin(k_c \\theta/2), \\\\\n",
    "& \\langle\\cdots,k_{c-1},k_c,k_{c+1},\\cdots,k_{t-1},k,k_{t+1},\\cdots|C_{R_y^{jk}(\\theta)}^{c\\rightarrow t}|\\cdots,k_{c-1},k_c,k_{c+1},\\cdots,k_{t-1},j,k_{t+1},\\cdots\\rangle = -\\sin(k_c \\theta/2), \\\\\n",
    "& \\langle\\cdots,k_{c-1},k_c,k_{c+1},\\cdots,k_{t-1},l,k_{t+1},\\cdots|C_{R_y^{jk}(\\theta)}^{c\\rightarrow t}|\\cdots,k_{c-1},k_c,k_{c+1},\\cdots,k_{t-1},l,k_{t+1},\\cdots\\rangle = 1, \\\\\n",
    "\\end{align}\n",
    "pra $l\\ne j;\\ l\\ne k;\\ k_s = 1,\\cdots,d;\\ s=1,\\cdots,N.$ Se \n",
    "$$c>t$$\n",
    "os elementos não nulos da rotação controlada são\n",
    "\\begin{align}\n",
    "& \\langle\\cdots,k_{t-1},j,k_{t+1},\\cdots,k_{c-1},k_c,k_{c+1},\\cdots|C_{R_y^{jk}(\\theta)}^{c\\rightarrow t}|\\cdots,k_{t-1},j,k_{t+1},\\cdots,k_{c-1},k_c,k_{c+1},\\cdots\\rangle=\\cos(k_c \\theta/2), \\\\\n",
    "& \\langle\\cdots,k_{t-1},k,k_{t+1},\\cdots,k_{c-1},k_c,k_{c+1},\\cdots|C_{R_y^{jk}(\\theta)}^{c\\rightarrow t}|\\cdots,k_{t-1},k,k_{t+1},\\cdots,k_{c-1},k_c,k_{c+1},\\cdots\\rangle=\\cos(k_c \\theta/2), \\\\\n",
    "& \\langle\\cdots,k_{t-1},j,k_{t+1},\\cdots,k_{c-1},k_c,k_{c+1},\\cdots|C_{R_y^{jk}(\\theta)}^{c\\rightarrow t}|\\cdots,k_{t-1},k,k_{t+1},\\cdots,k_{c-1},k_c,k_{c+1},\\cdots\\rangle = -\\sin(k_c \\theta/2), \\\\\n",
    "& \\langle\\cdots,k_{t-1},k,k_{t+1},\\cdots,k_{c-1},k_c,k_{c+1},\\cdots|C_{R_y^{jk}(\\theta)}^{c\\rightarrow t}|\\cdots,k_{t-1},j,k_{t+1},\\cdots,k_{c-1},k_c,k_{c+1},\\cdots\\rangle = -\\sin(k_c \\theta/2), \\\\\n",
    "& \\langle\\cdots,k_{t-1},l,k_{t+1},\\cdots,k_{c-1},k_c,k_{c+1},\\cdots|C_{R_y^{jk}(\\theta)}^{c\\rightarrow t}|\\cdots,k_{t-1},l,k_{t+1},\\cdots,k_{c-1},k_c,k_{c+1},\\cdots\\rangle = 1,\n",
    "\\end{align}\n",
    "pra $l\\ne j;\\ l\\ne k;\\ k_s = 1,\\cdots,d;\\ s=1,\\cdots,N.$\n",
    "\n",
    "No final, os dois casos puderam ser implementados diretamente usando uma única função, sem necessidade de usar condicionais."
   ]
  },
  {
   "cell_type": "code",
   "execution_count": 144,
   "id": "005770d2-2960-4ced-b72a-7a7572f8f600",
   "metadata": {},
   "outputs": [],
   "source": [
    "# Numpy\n",
    "\n",
    "def ctrl_Ry_qudits(d,N,t,c,j,k,th): # return the controlled-rotation gate\n",
    "    # d = qudit dimension; N = No. of qudits; t = target qudit (0,...,N-1); c = control qudit (0,...,N-1)\n",
    "    # j,k are the Gell-Mann matrix indeces; th is the rotation angle\n",
    "    D = d**N\n",
    "    CR = np.zeros((D,D), dtype=complex) # set all d^2N elements to 0\n",
    "    Dl = D//d # dimension for N-1 qudits\n",
    "    for m in range (0,Dl): # run over all states of N-1 qdits\n",
    "        local = dec2den(m,N-1,d) # values for the local basis of N-1 qudits\n",
    "        if N == 2: # to avoid issues in this case\n",
    "            angle = (local[0]*th)/2\n",
    "        else:\n",
    "            angle = (local[c]*th)/2\n",
    "        listj = local.copy(); listj.insert(t,j-1); intj = den2dec(listj,d) # integer for the j state\n",
    "        listk = local.copy(); listk.insert(t,k-1); intk = den2dec(listk,d) # integer for the k state\n",
    "        CR[intj,intj] = math.cos(angle); CR[intk,intk] = CR[intj,intj]\n",
    "        CR[intj,intk] = -math.sin(angle); CR[intk,intj] = -CR[intj,intk]\n",
    "        for l in range(0,d):\n",
    "            if l != j-1 and l != k-1:\n",
    "                listl = local.copy(); listl.insert(t,l); intl = den2dec(listl,d) # integer for the l state\n",
    "                CR[intl,intl] = 1\n",
    "    return CR   "
   ]
  },
  {
   "cell_type": "code",
   "execution_count": 145,
   "id": "7484b75f-7349-4fb1-9b59-f1c07d7f7c7f",
   "metadata": {},
   "outputs": [],
   "source": [
    "# Sympy\n",
    "\n",
    "# general controlled rotation in sympy\n",
    "def CRy_qudits_sympy(d,N,t,c,j,k,th):\n",
    "    D = d**N\n",
    "    CR = zeros(D,D)#; print(CR)\n",
    "    Id = eye(d)#; print(Id)\n",
    "    for m in range(0,d):\n",
    "        ke = ket(d,m)#; print(ke)\n",
    "        proj_m = ke*ke.T\n",
    "        if c == 0:\n",
    "            CRl = proj_m\n",
    "        elif t == 0:\n",
    "            CRl = f_Ry(j,k,d,m*th)\n",
    "        else:\n",
    "            CRl = Id\n",
    "        for s in range(1,N):\n",
    "            if s == c:\n",
    "                CRl = tp(CRl,proj_m)\n",
    "            elif s == t:\n",
    "                CRl = tp(CRl,f_Ry(j,k,d,m*th))\n",
    "            else:\n",
    "                CRl = tp(CRl,Id)\n",
    "        CR = CR + CRl\n",
    "    return CR"
   ]
  },
  {
   "cell_type": "code",
   "execution_count": 146,
   "id": "2f57d2d0-8b8d-420b-b620-a87e3e733c5f",
   "metadata": {},
   "outputs": [
    {
     "name": "stdout",
     "output_type": "stream",
     "text": [
      "[[ 1.+0.j  0.+0.j  0.+0.j  0.+0.j]\n",
      " [ 0.+0.j  1.+0.j  0.+0.j  0.+0.j]\n",
      " [ 0.+0.j  0.+0.j  0.+0.j -1.+0.j]\n",
      " [ 0.+0.j  0.+0.j  1.+0.j  0.+0.j]]\n"
     ]
    }
   ],
   "source": [
    "j=1; k=2; d=2; N=2; th=pi; c=0; t=1; cry = CRy_qudits_sympy(d,N,t,c,j,k,th); CRsp = matrix2numpy(cry, dtype=complex); print(CRsp) # sympy"
   ]
  },
  {
   "cell_type": "code",
   "execution_count": 147,
   "id": "93622204-bf5d-48bb-a2e9-b96893e3dae3",
   "metadata": {},
   "outputs": [
    {
     "name": "stdout",
     "output_type": "stream",
     "text": [
      "[[ 1.000000e+00+0.j -0.000000e+00+0.j  0.000000e+00+0.j  0.000000e+00+0.j]\n",
      " [ 0.000000e+00-0.j  1.000000e+00+0.j  0.000000e+00+0.j  0.000000e+00+0.j]\n",
      " [ 0.000000e+00+0.j  0.000000e+00+0.j  6.123234e-17+0.j -1.000000e+00+0.j]\n",
      " [ 0.000000e+00+0.j  0.000000e+00+0.j  1.000000e+00-0.j  6.123234e-17+0.j]]\n"
     ]
    }
   ],
   "source": [
    "j=1; k=2; d=2; N=2; th=math.pi; c=0; t=1; CRnp = ctrl_Ry_qudits(d,N,t,c,j,k,th); print(CRnp) # numpy # not ok"
   ]
  },
  {
   "cell_type": "code",
   "execution_count": 148,
   "id": "623c8f1a-f3bd-4a79-b8ce-62a26438423b",
   "metadata": {},
   "outputs": [
    {
     "name": "stdout",
     "output_type": "stream",
     "text": [
      "8.659560562354933e-17\n"
     ]
    }
   ],
   "source": [
    "print(np.linalg.norm(CRsp-CRnp))"
   ]
  },
  {
   "cell_type": "code",
   "execution_count": 150,
   "id": "cc4b371f-7a6f-4f73-a8f8-9d6539742e9b",
   "metadata": {},
   "outputs": [
    {
     "name": "stdout",
     "output_type": "stream",
     "text": [
      "1.2246467991473532e-16\n"
     ]
    }
   ],
   "source": [
    "j=1; k=2; d=2; N=3; th=pi; c=0; t=2; cry = CRy_qudits_sympy(d,N,t,c,j,k,th); CRsp = matrix2numpy(cry, dtype=complex) # sympy\n",
    "th=math.pi; CRnp = ctrl_Ry_qudits(d,N,t,c,j,k,th) # numpy # not ok\n",
    "print(np.linalg.norm(CRsp-CRnp))"
   ]
  },
  {
   "cell_type": "code",
   "execution_count": 151,
   "id": "6c592caf-3f33-44a6-b744-2c953f939ca3",
   "metadata": {},
   "outputs": [
    {
     "name": "stdout",
     "output_type": "stream",
     "text": [
      "1.7319121124709866e-16\n"
     ]
    }
   ],
   "source": [
    "j=1; k=2; d=2; N=4; th=pi; c=0; t=1; cry = CRy_qudits_sympy(d,N,t,c,j,k,th); CRsp = matrix2numpy(cry, dtype=complex) # sympy\n",
    "th=math.pi; CRnp = ctrl_Ry_qudits(d,N,t,c,j,k,th) # numpy # not ok\n",
    "print(np.linalg.norm(CRsp-CRnp))"
   ]
  },
  {
   "cell_type": "markdown",
   "id": "b56b52b4-99ca-4ff7-96b3-9a9e45bd5174",
   "metadata": {},
   "source": [
    "Já os elementos não nulos de $C_{R_z^j(\\theta)}^{c\\rightarrow t}$ são\n",
    "\\begin{align}\n",
    "& \\langle\\cdots,k_{c-1},k_c,k_{c+1},\\cdots,k_{t-1},k,k_{t+1},\\cdots|C_{R_z^{j}(\\theta)}^{c\\rightarrow t}|\\cdots,k_{c-1},k_c,k_{c+1},\\cdots,k_{t-1},k,k_{t+1},\\cdots\\rangle =  \\exp\\Big(-i\\frac{k_c \\theta}{2}\\sqrt{\\frac{2}{j(j+1)}}\\Big);\\ k=1,\\cdots,j, \\\\\n",
    "& \\langle\\cdots,k_{c-1},k_c,k_{c+1},\\cdots,k_{t-1},k,k_{t+1},\\cdots|C_{R_z^{j}(\\theta)}^{c\\rightarrow t}|\\cdots,k_{c-1},k_c,k_{c+1},\\cdots,k_{t-1},k,k_{t+1},\\cdots\\rangle =  \\exp\\Big(i\\frac{jk_c \\theta}{2}\\sqrt{\\frac{2}{j(j+1)}}\\Big);\\ k=j+1, \\\\\n",
    "& \\langle\\cdots,k_{c-1},k_c,k_{c+1},\\cdots,k_{t-1},k,k_{t+1},\\cdots|C_{R_z^{j}(\\theta)}^{c\\rightarrow t}|\\cdots,k_{c-1},k_c,k_{c+1},\\cdots,k_{t-1},k,k_{t+1},\\cdots\\rangle =  1;\\ k=j,\\cdots,d.\n",
    "\\end{align}"
   ]
  },
  {
   "cell_type": "code",
   "execution_count": 108,
   "id": "876fb67d-7b9f-4378-9b28-129df4396cfe",
   "metadata": {},
   "outputs": [],
   "source": [
    "# Numpy\n",
    "\n",
    "def ctrl_Rz_qudits(d,N,t,c,j,th): # return the controlled-rotation gate\n",
    "    # d = qudit dimension; N = No. of qudits; t = target qudit (0,...,N-1); c = control qudit (0,...,N-1)\n",
    "    # j,k are the Gell-Mann matrix indeces; th is the rotation angle\n",
    "    D = d**N\n",
    "    CR = np.zeros((D,D), dtype=complex) # set all d^2N elements to 0\n",
    "    Dl = D//d # dimension for N-1 qudits\n",
    "    for m in range (0,Dl): # run over all states of N-1 qdits\n",
    "        local = dec2den(m,N-1,d) # values for the local basis of N-1 qudits\n",
    "        if N == 2: # to avoid problems when N=2\n",
    "            loc = local[0]\n",
    "        else:\n",
    "            loc = local[c]\n",
    "        angle = ((loc*th)/2)*sqrt(2/(j*(j+1)))\n",
    "        for k in range(0,d):\n",
    "            listk = local.copy(); listk.insert(t,k) # insert k in position t of the list\n",
    "            intk = den2dec(listk,d) # integer for the k state\n",
    "            if k < j:\n",
    "                CR[intk,intk] = math.cos(angle) - 1j*math.sin(angle)\n",
    "            elif k == j:\n",
    "                angle = j*angle\n",
    "                CR[intk,intk] = math.cos(angle) + 1j*math.sin(angle)\n",
    "            elif k > j:\n",
    "                CR[intk,intk] = 1\n",
    "    return CR   "
   ]
  },
  {
   "cell_type": "markdown",
   "id": "c9291c22-daac-4100-a143-ee21a0e96314",
   "metadata": {},
   "source": [
    "Para a implementação em Sympy:\n",
    "$$C_{R_z^{jk}(\\theta)}^{c\\rightarrow t} = I_{\\overline{c}}\\otimes I_{\\overline{t}}\\otimes\\sum_{l=0}^{d-1}|l\\rangle\\langle l|_c \\otimes R_z^{jk}(l\\theta)_t.$$"
   ]
  },
  {
   "cell_type": "code",
   "execution_count": 109,
   "id": "5df9d995-d90a-488f-9886-49fa88b3557d",
   "metadata": {},
   "outputs": [],
   "source": [
    "# Sympy\n",
    "\n",
    "# general controlled rotation in sympy\n",
    "def CRz_qudits_sympy(d,N,t,c,j,k,th):\n",
    "    D = d**N\n",
    "    CR = zeros(D,D)\n",
    "    Id = eye(d)\n",
    "    for m in range(0,d):\n",
    "        ke = ket(d,m)\n",
    "        s = 0\n",
    "        if s == c:\n",
    "            CRl = ke*ke.T\n",
    "        elif s == t:\n",
    "            CRl = f_Rz(j,d,m*th)\n",
    "        else:\n",
    "            CRl = Id\n",
    "        for s in range(1,N):\n",
    "            if s == c:\n",
    "                CRl = tp(CRl,(ke*ke.T))\n",
    "            elif s == t:\n",
    "                CRl = tp(CRl,f_Rz(j,d,m*th))\n",
    "            else:\n",
    "                CRl = tp(CRl,Id)\n",
    "        CR = CR + CRl\n",
    "    return CR"
   ]
  },
  {
   "cell_type": "code",
   "execution_count": 110,
   "id": "455ecbd7-80db-465a-b9ed-b22332ab253a",
   "metadata": {},
   "outputs": [
    {
     "name": "stdout",
     "output_type": "stream",
     "text": [
      "[[1.000000e+00+0.j 0.000000e+00+0.j 0.000000e+00+0.j 0.000000e+00+0.j]\n",
      " [0.000000e+00+0.j 1.000000e+00+0.j 0.000000e+00+0.j 0.000000e+00+0.j]\n",
      " [0.000000e+00+0.j 0.000000e+00+0.j 6.123234e-17-1.j 0.000000e+00+0.j]\n",
      " [0.000000e+00+0.j 0.000000e+00+0.j 0.000000e+00+0.j 6.123234e-17+1.j]]\n"
     ]
    }
   ],
   "source": [
    "j=1; d=2; N=2; th=math.pi; c=0; t=1; CRznp = ctrl_Rz_qudits(d,N,t,c,j,th); print(CRznp) # numpy # ok!"
   ]
  },
  {
   "cell_type": "code",
   "execution_count": 111,
   "id": "846a8859-7daa-4aed-b349-646ca94149c3",
   "metadata": {},
   "outputs": [
    {
     "name": "stdout",
     "output_type": "stream",
     "text": [
      "[[1.+0.j 0.+0.j 0.+0.j 0.+0.j]\n",
      " [0.+0.j 1.+0.j 0.+0.j 0.+0.j]\n",
      " [0.+0.j 0.+0.j 0.-1.j 0.+0.j]\n",
      " [0.+0.j 0.+0.j 0.+0.j 0.+1.j]]\n"
     ]
    }
   ],
   "source": [
    "j=1; d=2; N=2; th=pi; c=0; t=1; crz = CRz_qudits_sympy(d,N,t,c,j,k,th); CRzsp = matrix2numpy(crz, dtype=complex); print(CRzsp) # sympy"
   ]
  },
  {
   "cell_type": "code",
   "execution_count": 112,
   "id": "0b656008-24ba-4437-af55-17c86cabfcb7",
   "metadata": {},
   "outputs": [
    {
     "name": "stdout",
     "output_type": "stream",
     "text": [
      "[[1.000000e+00+0.j 0.000000e+00+0.j 0.000000e+00+0.j 0.000000e+00+0.j]\n",
      " [0.000000e+00+0.j 6.123234e-17-1.j 0.000000e+00+0.j 0.000000e+00+0.j]\n",
      " [0.000000e+00+0.j 0.000000e+00+0.j 1.000000e+00+0.j 0.000000e+00+0.j]\n",
      " [0.000000e+00+0.j 0.000000e+00+0.j 0.000000e+00+0.j 6.123234e-17+1.j]]\n"
     ]
    }
   ],
   "source": [
    "j=1; d=2; N=2; th=math.pi; c=1; t=0; CRznp = ctrl_Rz_qudits(d,N,t,c,j,th); print(CRznp) # numpy # ok!"
   ]
  },
  {
   "cell_type": "code",
   "execution_count": 113,
   "id": "b94bd693-285d-43cf-8e00-8242bbbd04f2",
   "metadata": {},
   "outputs": [
    {
     "name": "stdout",
     "output_type": "stream",
     "text": [
      "[[1.+0.j 0.+0.j 0.+0.j 0.+0.j]\n",
      " [0.+0.j 0.-1.j 0.+0.j 0.+0.j]\n",
      " [0.+0.j 0.+0.j 1.+0.j 0.+0.j]\n",
      " [0.+0.j 0.+0.j 0.+0.j 0.+1.j]]\n"
     ]
    }
   ],
   "source": [
    "j=1; d=2; N=2; th=pi; c=1; t=0; crz = CRz_qudits_sympy(d,N,t,c,j,k,th); CRzsp = matrix2numpy(crz, dtype=complex); print(CRzsp) # sympy"
   ]
  },
  {
   "cell_type": "code",
   "execution_count": 117,
   "id": "8099e85f-e950-445a-8c57-b1098b53a7e7",
   "metadata": {},
   "outputs": [
    {
     "name": "stdout",
     "output_type": "stream",
     "text": [
      "1.2246467991473532e-16\n"
     ]
    }
   ],
   "source": [
    "# use this kind of code to do more tests\n",
    "j=1; d=2; N=3; th=math.pi; c=0; t=2; CRznp = ctrl_Rz_qudits(d,N,t,c,j,th) # numpy # ok!\n",
    "th=pi; crz = CRz_qudits_sympy(d,N,t,c,j,k,th); CRzsp = matrix2numpy(crz, dtype=complex) # sympy\n",
    "print(np.linalg.norm(CRznp-CRzsp))"
   ]
  },
  {
   "cell_type": "code",
   "execution_count": 118,
   "id": "a6bfefb9-9cb5-4334-b46c-f39a5059fa6e",
   "metadata": {},
   "outputs": [
    {
     "name": "stdout",
     "output_type": "stream",
     "text": [
      "1.2246467991473532e-16\n"
     ]
    }
   ],
   "source": [
    "j=1; d=2; N=3; th=math.pi; c=0; t=1; CRznp = ctrl_Rz_qudits(d,N,t,c,j,th) # numpy # ok!\n",
    "th=pi; crz = CRz_qudits_sympy(d,N,t,c,j,k,th); CRzsp = matrix2numpy(crz, dtype=complex) # sympy\n",
    "print(np.linalg.norm(CRznp-CRzsp))"
   ]
  },
  {
   "cell_type": "code",
   "execution_count": 119,
   "id": "611eb6dc-7944-4bde-8f42-6fcb811374e3",
   "metadata": {},
   "outputs": [
    {
     "name": "stdout",
     "output_type": "stream",
     "text": [
      "1.7319121124709866e-16\n"
     ]
    }
   ],
   "source": [
    "j=1; d=2; N=4; th=math.pi; c=0; t=1; CRznp = ctrl_Rz_qudits(d,N,t,c,j,th) # numpy # ok!\n",
    "th=pi; crz = CRz_qudits_sympy(d,N,t,c,j,k,th); CRzsp = matrix2numpy(crz, dtype=complex) # sympy\n",
    "print(np.linalg.norm(CRznp-CRzsp))"
   ]
  },
  {
   "cell_type": "code",
   "execution_count": null,
   "id": "e201d806-5c80-419d-bed7-d004bce67d63",
   "metadata": {},
   "outputs": [],
   "source": []
  }
 ],
 "metadata": {
  "kernelspec": {
   "display_name": "Python 3 (ipykernel)",
   "language": "python",
   "name": "python3"
  },
  "language_info": {
   "codemirror_mode": {
    "name": "ipython",
    "version": 3
   },
   "file_extension": ".py",
   "mimetype": "text/x-python",
   "name": "python",
   "nbconvert_exporter": "python",
   "pygments_lexer": "ipython3",
   "version": "3.11.1"
  }
 },
 "nbformat": 4,
 "nbformat_minor": 5
}
