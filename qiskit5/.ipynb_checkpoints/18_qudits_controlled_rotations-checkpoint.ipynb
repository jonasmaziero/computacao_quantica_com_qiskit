{
 "cells": [
  {
   "cell_type": "markdown",
   "id": "aef48433-a1b2-458e-a8c3-e1ecaba2651d",
   "metadata": {},
   "source": [
    "# Porta de rotação controlada\n",
    "\n",
    "## Portas de rotação\n",
    "\n",
    "Lembrando, as matrizes de Gell-Mann são\n",
    "\\begin{align}\n",
    "& S_x^{jk} = |j\\rangle\\langle k| + |k\\rangle\\langle j|;\\ 1\\le j< k\\le d, \\\\\n",
    "& S_y^{jk} = -i|j\\rangle\\langle k| + i|k\\rangle\\langle j|;\\ 1\\le j< k\\le d, \\\\\n",
    "& S_z^j = \\sum_{k=1}^{j+1}\\sqrt{\\frac{2}{j(j+1)}}(-j)^{\\delta_{k,j+1}}|k\\rangle\\langle k|;\\ j=1,\\cdots,d-1 .\n",
    "\\end{align}\n",
    "\n",
    "Rotações\n",
    "$$R_\\alpha^{jk}(\\theta) = e^{-i\\theta S_\\alpha^{jk}/2}.$$"
   ]
  },
  {
   "cell_type": "markdown",
   "id": "06646163-7bb3-4bfa-a82d-f29e1d56029a",
   "metadata": {},
   "source": [
    "Temos que\n",
    "\\begin{align}\n",
    "(S_x^{jk})^2 & = (|j\\rangle\\langle k| + |k\\rangle\\langle j|)(|j\\rangle\\langle k| + |k\\rangle\\langle j|) \\\\\n",
    "& = |j\\rangle\\langle k|\\delta_{kj} + |j\\rangle\\langle j| + |k\\rangle\\langle k| + |k\\rangle\\langle j|\\delta_{jk} \\\\\n",
    "& = |j\\rangle\\langle j| + |k\\rangle\\langle k| \\\\\n",
    "& = I, \\\\\n",
    "(S_y^{jk})^2 & = (-i|j\\rangle\\langle k| + i|k\\rangle\\langle j|)(-i|j\\rangle\\langle k| + i|k\\rangle\\langle j|) \\\\\n",
    "& = i^2|j\\rangle\\langle k|\\delta_{kj} - i^2|j\\rangle\\langle j| - i^2|k\\rangle\\langle k| + i^2|k\\rangle\\langle j|\\delta_{kj} \\\\\n",
    "& = |j\\rangle\\langle j| + |k\\rangle\\langle k| \\\\\n",
    "& = I, \\\\\n",
    "(S_z^j)^2 & = \\sum_{k=1}^{j+1}\\sqrt{\\frac{2}{j(j+1)}}(-j)^{\\delta_{k,j+1}}|k\\rangle\\langle k|\\sum_{k'=1}^{j+1}\\sqrt{\\frac{2}{j(j+1)}}(-j)^{\\delta_{k',j+1}}|k'\\rangle\\langle k|' \\\\\n",
    "& = \\sum_{k,k'=1}^{j+1}\\frac{2}{j(j+1)}(-j)^{\\delta_{k,j+1}}(-j)^{\\delta_{k',j+1}}|k\\rangle\\langle k'|\\delta_{k,k'} \\\\\n",
    "& = \\frac{2}{j(j+1)}\\sum_{k=1}^{j+1}(-j)^{2\\delta_{k,j+1}}|k\\rangle\\langle k| = \\frac{2}{j(j+1)}\\sum_{k=1}^{j+1}j|k\\rangle\\langle k| \\\\\n",
    "& = \\frac{2}{j+1}\\sum_{k=1}^{j+1}|k\\rangle\\langle k| \\\\\n",
    "\\end{align}"
   ]
  },
  {
   "cell_type": "markdown",
   "id": "a71851b9-a672-40d6-8792-3c4d70661ed2",
   "metadata": {},
   "source": [
    "Para qualquer matriz $S$ tal que\n",
    "$$S^2=I$$\n",
    "temos que\n",
    "\\begin{align}\n",
    "e^{-i\\theta S} & = \\sum_{j=0}^\\infty \\frac{(-i\\theta S)^j}{j!} \\\\\n",
    "& = \\frac{(-i\\theta S)^0}{0!} + \\frac{(-i\\theta S)^1}{1!} + \\frac{(-i\\theta S)^2}{2!} + \\frac{(-i\\theta S)^3}{3!} + \\frac{(-i\\theta S)^4}{4!} + \\frac{(-i\\theta S)^5}{5!} + \\frac{(-i\\theta S)^6}{6!} + \\frac{(-i\\theta S)^7}{7!} + \\cdots \\\\\n",
    "& = I -i\\theta S - \\frac{\\theta^2 S^2}{2!} + i \\frac{\\theta^3 S^2 S}{3!} + \\frac{\\theta^4 S^2 S^2}{4!} -i \\frac{\\theta^5 S^2 S^2 S}{5!} - \\frac{\\theta^6 S^2 S^2 S^2}{6!} + i \\frac{\\theta^7 S^2 S^2 S^2 S}{7!} \\cdots \\\\\n",
    "& = \\Big(1 - \\frac{\\theta^2}{2!} + \\frac{\\theta^4}{4!} - \\frac{\\theta^6}{6!} + \\cdots \\Big)I -i\\Big(\\theta - \\frac{\\theta^3}{3!} + \\frac{\\theta^5}{5!} - \\frac{\\theta^7}{7!} + \\cdots\\Big) \\\\\n",
    "& = \\cos(\\theta)I -i\\sin(\\theta)S.\n",
    "\\end{align}\n",
    "\n",
    "No entanto, para matrizes de Gell-Mann temos que\n",
    "$$(S_\\alpha^{jk})^2\\ne I,$$\n",
    "e a fórmula acima não pode ser aplicada. Na verdade\n",
    "$$(S_\\alpha^{jk})^2\\ne I_{jk},$$\n",
    "em que $I_{jk}$ é o operador identidade no subespaço gerado por $\\{|j\\rangle,|k\\rangle\\}.$"
   ]
  },
  {
   "cell_type": "code",
   "execution_count": 80,
   "id": "54d75208-d777-4eab-9329-787d210fe432",
   "metadata": {},
   "outputs": [
    {
     "data": {
      "text/latex": [
       "$\\displaystyle 1 - \\frac{\\theta^{2}}{2} + \\frac{\\theta^{4}}{24} - \\frac{\\theta^{6}}{720} + \\frac{\\theta^{8}}{40320} + O\\left(\\theta^{10}\\right)$"
      ],
      "text/plain": [
       "1 - theta**2/2 + theta**4/24 - theta**6/720 + theta**8/40320 + O(theta**10)"
      ]
     },
     "execution_count": 80,
     "metadata": {},
     "output_type": "execute_result"
    }
   ],
   "source": [
    "from sympy import series, symbols, cos, sin\n",
    "th = symbols('theta')\n",
    "series(cos(th),th,0,10)"
   ]
  },
  {
   "cell_type": "code",
   "execution_count": 81,
   "id": "4c58d31e-97b3-492e-badc-c1c162596757",
   "metadata": {},
   "outputs": [
    {
     "data": {
      "text/latex": [
       "$\\displaystyle \\theta - \\frac{\\theta^{3}}{6} + \\frac{\\theta^{5}}{120} - \\frac{\\theta^{7}}{5040} + \\frac{\\theta^{9}}{362880} + O\\left(\\theta^{10}\\right)$"
      ],
      "text/plain": [
       "theta - theta**3/6 + theta**5/120 - theta**7/5040 + theta**9/362880 + O(theta**10)"
      ]
     },
     "execution_count": 81,
     "metadata": {},
     "output_type": "execute_result"
    }
   ],
   "source": [
    "series(sin(th),th,0,10)"
   ]
  },
  {
   "cell_type": "markdown",
   "id": "e61433f9-4f0f-4119-9603-5ef54c461f77",
   "metadata": {},
   "source": [
    "Então, para as matrizes de Gell-Mann definimos\n",
    "\\begin{align}\n",
    "& |\\pm\\rangle = (|j\\rangle\\pm|k\\rangle)/\\sqrt{2}, \\\\\n",
    "& |\\oplus\\rangle = (|j\\rangle+i|k\\rangle)/\\sqrt{2}, \\\\\n",
    "& |\\ominus\\rangle = (|j\\rangle-i|k\\rangle)/\\sqrt{2}.\n",
    "\\end{align}\n",
    "Teremos assim que\n",
    "\\begin{align}\n",
    "S_x^{jk}|\\pm\\rangle & = (|j\\rangle\\langle k|+|k\\rangle\\langle j|)(|j\\rangle\\pm|k\\rangle)/\\sqrt{2} \\\\\n",
    "& = (|k\\rangle\\pm|j\\rangle)/\\sqrt{2} \\\\\n",
    "& = (\\pm 1)(|j\\rangle\\pm|k\\rangle)/\\sqrt{2} \\\\\n",
    "& = (\\pm 1)|\\pm\\rangle, \\\\\n",
    "S_y^{jk}|\\oplus\\rangle & = (-i|j\\rangle\\langle k|+i|k\\rangle\\langle j|)(|j\\rangle+i|k\\rangle)/\\sqrt{2} \\\\\n",
    "& = (i|k\\rangle+|j\\rangle)/\\sqrt{2} \\\\\n",
    "& = (+ 1)|\\oplus\\rangle, \\\\\n",
    "S_y^{jk}|\\ominus\\rangle & = (-i|j\\rangle\\langle k|+i|k\\rangle\\langle j|)(|j\\rangle-i|k\\rangle)/\\sqrt{2} \\\\\n",
    "& = (i|k\\rangle-|j\\rangle)/\\sqrt{2} \\\\\n",
    "& = (-1)(-i|k\\rangle+|j\\rangle)/\\sqrt{2} \\\\\n",
    "& = (-1)|\\ominus\\rangle.\n",
    "\\end{align}"
   ]
  },
  {
   "cell_type": "markdown",
   "id": "36885a4a-2354-4f8b-ac83-3b07374af628",
   "metadata": {},
   "source": [
    "Por conseguinte, podemos escrever\n",
    "\\begin{align}\n",
    "& S_x^{jk} = |+\\rangle\\langle +| - |-\\rangle\\langle -| + \\sum_{l\\ne j,l\\ne k}(0)|l\\rangle\\langle l|, \\\\\n",
    "& S_y^{jk} = |\\oplus\\rangle\\langle \\oplus| - |\\ominus\\rangle\\langle \\ominus| + \\sum_{l\\ne j,l\\ne k}(0)|l\\rangle\\langle l|,\n",
    "\\end{align}\n",
    "e as matrizes de rotação ficam dadas por\n",
    "\\begin{align}\n",
    "R_x^{jk}(\\theta) & = e^{-i\\theta S_x^{jk}/2} \\\\\n",
    "& = e^{-i\\theta/2}|+\\rangle\\langle +| + e^{i\\theta/2}|-\\rangle\\langle - | + \\sum_{l(l\\ne j,l\\ne k)}e^{-i\\theta(0)/2}|l\\rangle\\langle l|, \\\\\n",
    "& = e^{-i\\theta/2}\\frac{1}{2}(|j\\rangle\\langle j|+|j\\rangle\\langle k|+|k\\rangle\\langle j|+|k\\rangle\\langle k|) + e^{i\\theta/2}\\frac{1}{2}(|j\\rangle\\langle j|-|j\\rangle\\langle k|-|k\\rangle\\langle j|+|k\\rangle\\langle k|) + \\sum_{l(l\\ne j,l\\ne k)}(1)|l\\rangle\\langle l|, \\\\\n",
    "& = \\cos(\\theta/2)(|j\\rangle\\langle j|+|k\\rangle\\langle k|) - i\\sin(\\theta/2)(|j\\rangle\\langle k|+|k\\rangle\\langle j|) + \\sum_{l(l\\ne j,l\\ne k)}|l\\rangle\\langle l|, \\\\\n",
    "R_y^{jk}(\\theta) & = e^{-i\\theta S_y^{jk}/2} \\\\\n",
    "& = e^{-i\\theta/2}|\\oplus\\rangle\\langle \\oplus| + e^{i\\theta/2}|\\ominus\\rangle\\langle \\ominus| + \\sum_{l(l\\ne j,l\\ne k)}e^{-i\\theta(0)/2}|l\\rangle\\langle l|, \\\\\n",
    "& = e^{-i\\theta/2}\\frac{1}{2}(|j\\rangle\\langle j|-i|j\\rangle\\langle k|+i|k\\rangle\\langle j|+|k\\rangle\\langle k|) + e^{i\\theta/2}\\frac{1}{2}(|j\\rangle\\langle j|+i|j\\rangle\\langle k|-i|k\\rangle\\langle j|+|k\\rangle\\langle k|) + \\sum_{l(l\\ne j,l\\ne k)}(1)|l\\rangle\\langle l|, \\\\\n",
    "& = \\cos(\\theta/2)(|j\\rangle\\langle j|+|k\\rangle\\langle k|) - \\sin(\\theta/2)(|j\\rangle\\langle k|-|k\\rangle\\langle j|) + \\sum_{l(l\\ne j,l\\ne k)}|l\\rangle\\langle l|.\n",
    "\\end{align}"
   ]
  },
  {
   "cell_type": "markdown",
   "id": "29e1cf9b-8b55-4260-8169-db94f959b146",
   "metadata": {},
   "source": [
    "Os elementos de matriz das matrizes de rotação são dados por\n",
    "\\begin{align}\n",
    "\\langle m|R_x^{jk}(\\theta)|n\\rangle & = \\cos(\\theta/2)(\\langle m|j\\rangle\\langle j|n\\rangle+\\langle m|k\\rangle\\langle k|n\\rangle) - i\\sin(\\theta/2)(\\langle m|j\\rangle\\langle k|n\\rangle+\\langle m|k\\rangle\\langle j|n\\rangle) + \\sum_{l(l\\ne j,l\\ne k)}\\langle m|l\\rangle\\langle l|n\\rangle \\\\\n",
    "& = \\cos(\\theta/2)(\\delta_{mj}\\delta_{jn}+\\delta_{mk}\\delta_{kn}) - i\\sin(\\theta/2)(\\delta_{mj}\\delta_{kn}+\\delta_{mk}\\delta_{jn}) + \\sum_{l(l\\ne j,l\\ne k)}\\delta_{ml}\\delta_{ln}, \\\\\n",
    "\\langle m|R_y^{jk}(\\theta)|n\\rangle & = \\cos(\\theta/2)(\\langle m|j\\rangle\\langle j|n\\rangle+\\langle m|k\\rangle\\langle k|n\\rangle) - \\sin(\\theta/2)(\\langle m|j\\rangle\\langle k|n\\rangle-\\langle m|k\\rangle\\langle j|n\\rangle) + \\sum_{l(l\\ne j,l\\ne k)}\\langle m|l\\rangle\\langle l|n\\rangle \\\\\n",
    "& = \\cos(\\theta/2)(\\delta_{mj}\\delta_{jn}+\\delta_{mk}\\delta_{kn}) - \\sin(\\theta/2)(\\delta_{mj}\\delta_{kn}-\\delta_{mk}\\delta_{jn}) + \\sum_{l(l\\ne j,l\\ne k)}\\delta_{ml}\\delta_{ln}.\n",
    "\\end{align}"
   ]
  },
  {
   "cell_type": "markdown",
   "id": "29ef4ac2-cb1a-4ad9-8189-875462b248b3",
   "metadata": {},
   "source": [
    "Vemos assim que os elementos não nulos de $R_x^{jk}$ são\n",
    "\\begin{align}\n",
    "& \\langle j|R_x^{jk}(\\theta)|j\\rangle = \\langle k|R_x^{jk}(\\theta)|k\\rangle = \\cos(\\theta/2), \\\\ \n",
    "& \\langle j|R_x^{jk}(\\theta)|k\\rangle = \\langle k|R_x^{jk}(\\theta)|j\\rangle = -i\\sin(\\theta/2),\\\\\n",
    "& \\langle l|R_x^{jk}(\\theta)|l\\rangle = 1;\\ l\\ne j\\ \\text{e}\\ l\\ne k.\n",
    "\\end{align}\n",
    "Os elementos não nulos de $R_y^{jk}$ são\n",
    "\\begin{align}\n",
    "& \\langle j|R_y^{jk}(\\theta)|j\\rangle = \\langle k|R_y^{jk}(\\theta)|k\\rangle = \\cos(\\theta/2), \\\\ \n",
    "& \\langle j|R_y^{jk}(\\theta)|k\\rangle = -\\langle k|R_y^{jk}(\\theta)|j\\rangle = -\\sin(\\theta/2),\\\\\n",
    "& \\langle l|R_y^{jk}(\\theta)|l\\rangle = 1;\\ l\\ne j\\ \\text{e}\\ l\\ne k.\n",
    "\\end{align}\n",
    "Já os elementos não nulos de $R_z^{j}$ são\n",
    "\\begin{align}\n",
    "& \\langle k|R_z^{j}(\\theta)|k\\rangle = \\exp\\Big(-i\\frac{\\theta}{2}\\sqrt{\\frac{2}{j(j+1)}}(-j)^{\\delta_{k,j+1}}\\Big);\\ k=1,\\cdots,j-1,\\\\\n",
    "& \\langle k|R_z^{j}(\\theta)|k\\rangle = 1;\\ k=j,\\cdots,d.\n",
    "\\end{align}"
   ]
  },
  {
   "cell_type": "code",
   "execution_count": 115,
   "id": "93878ac9-ad08-4607-ab91-4462b332e009",
   "metadata": {},
   "outputs": [],
   "source": [
    "from sympy import symbols, sin, cos, eye, sqrt, simplify\n",
    "th = symbols('theta')\n",
    "\n",
    "def Rx(j,k,d,th):\n",
    "    # d = qudit dimension\n",
    "    # j,k = identification of the Gell-Mann matrix\n",
    "    # th = rotation angle\n",
    "    j = j-1; k = k-1\n",
    "    rx = eye(d,d)\n",
    "    rx[j,j] = cos(th/2)\n",
    "    rx[k,k] = rx[j,j]\n",
    "    rx[j,k] = -1j*sin(th/2)\n",
    "    rx[k,j] = rx[j,k]\n",
    "    return rx\n",
    "\n",
    "def Ry(j,k,d,th):\n",
    "    # d = qudit dimension\n",
    "    # j,k = identification of the Gell-Mann matrix\n",
    "    # th = rotation angle\n",
    "    j = j-1; k = k-1\n",
    "    ry = eye(d,d)\n",
    "    ry[j,j] = cos(th/2)\n",
    "    ry[k,k] = ry[j,j]\n",
    "    ry[j,k] = -sin(th/2)\n",
    "    ry[k,j] = -ry[j,k]\n",
    "    return ry\n",
    "\n",
    "def Rz(j,d,th):\n",
    "    # d = qudit dimension\n",
    "    # j = identification of the Gell-Mann matrix\n",
    "    # th = rotation angle\n",
    "    rz = eye(d,d)\n",
    "    for k in range(0,j+1):\n",
    "        angle = (th/2)*sqrt(2/(j*(j+1)))\n",
    "        if k == j: # corrige para iniciar k em 0\n",
    "            angle = angle*(-j)\n",
    "        rz[k,k] = cos(angle) - 1j*sin(angle)\n",
    "    return rz"
   ]
  },
  {
   "cell_type": "code",
   "execution_count": 117,
   "id": "2f293f33-4ea2-4666-b9df-b97400009732",
   "metadata": {},
   "outputs": [
    {
     "data": {
      "text/latex": [
       "$\\displaystyle \\left[\\begin{matrix}\\cos{\\left(\\frac{\\theta}{2} \\right)} & - 1.0 i \\sin{\\left(\\frac{\\theta}{2} \\right)}\\\\- 1.0 i \\sin{\\left(\\frac{\\theta}{2} \\right)} & \\cos{\\left(\\frac{\\theta}{2} \\right)}\\end{matrix}\\right]$"
      ],
      "text/plain": [
       "Matrix([\n",
       "[       cos(theta/2), -1.0*I*sin(theta/2)],\n",
       "[-1.0*I*sin(theta/2),        cos(theta/2)]])"
      ]
     },
     "execution_count": 117,
     "metadata": {},
     "output_type": "execute_result"
    }
   ],
   "source": [
    "j=1;k=2;d=2; Rx(j,k,d,th)"
   ]
  },
  {
   "cell_type": "code",
   "execution_count": 118,
   "id": "e6825df6-3a43-481b-be68-6bf0d3a52bc0",
   "metadata": {},
   "outputs": [
    {
     "data": {
      "text/latex": [
       "$\\displaystyle \\left[\\begin{matrix}\\cos{\\left(\\frac{\\theta}{2} \\right)} & - \\sin{\\left(\\frac{\\theta}{2} \\right)}\\\\\\sin{\\left(\\frac{\\theta}{2} \\right)} & \\cos{\\left(\\frac{\\theta}{2} \\right)}\\end{matrix}\\right]$"
      ],
      "text/plain": [
       "Matrix([\n",
       "[cos(theta/2), -sin(theta/2)],\n",
       "[sin(theta/2),  cos(theta/2)]])"
      ]
     },
     "execution_count": 118,
     "metadata": {},
     "output_type": "execute_result"
    }
   ],
   "source": [
    "j=1;k=2;d=2; Ry(1,2,d,th)"
   ]
  },
  {
   "cell_type": "code",
   "execution_count": 119,
   "id": "e8b94e4b-935d-43ca-817b-95fa81c685cd",
   "metadata": {},
   "outputs": [
    {
     "data": {
      "text/latex": [
       "$\\displaystyle \\left[\\begin{matrix}1.0 e^{- 0.5 i \\theta} & 0\\\\0 & 1.0 e^{0.5 i \\theta}\\end{matrix}\\right]$"
      ],
      "text/plain": [
       "Matrix([\n",
       "[1.0*exp(-0.5*I*theta),                    0],\n",
       "[                    0, 1.0*exp(0.5*I*theta)]])"
      ]
     },
     "execution_count": 119,
     "metadata": {},
     "output_type": "execute_result"
    }
   ],
   "source": [
    "j=1;d=2;  simplify(Rz(j,d,th))"
   ]
  },
  {
   "cell_type": "markdown",
   "id": "f1208398-9e55-48d3-aa01-603a4bcbebe7",
   "metadata": {},
   "source": [
    "## Porta de rotação controlada\n",
    "$$C_{R_\\alpha^{jk}(\\theta)}^{c\\rightarrow t} = \\sum_{l=0}^{d-1}|l\\rangle\\langle l|\\otimes R_\\alpha^{jk}(l\\theta) = \\sum_{l=0}^{D-1}|l\\rangle\\langle l|\\otimes e^{-il\\theta S_\\alpha^{jk}/2}.$$\n",
    "\n",
    "Elementos de matriz da rotação controlada\n",
    "\\begin{align}\n",
    "\\langle m n|C_{R_\\alpha^{jk}(\\theta)}^{c\\rightarrow t}|pq\\rangle & = \\sum_{l=0}^{d-1}\\langle m|l\\rangle\\langle l|p\\rangle\\otimes \\langle n|R_\\alpha^{jk}(l\\theta)|q\\rangle \\\\ \n",
    "& = \\sum_{l=0}^{d-1}\\delta_{m,l}\\delta_{l,p}\\otimes \\langle n|R_\\alpha^{jk}(l\\theta)|q\\rangle \\\\\n",
    "& = \\delta_{m,p}\\langle n|R_\\alpha^{jk}(p\\theta)|q\\rangle.\n",
    "\\end{align}"
   ]
  },
  {
   "cell_type": "markdown",
   "id": "f8c506c2-df0c-4359-ab97-b0ccb4d972c6",
   "metadata": {},
   "source": [
    "Os elementos não nulos de $C_{R_x^{jk}(\\theta)}^{c\\rightarrow t}$ são\n",
    "\\begin{align}\n",
    "& \\langle pj|C_{R_x^{jk}(\\theta)}^{c\\rightarrow t}|pj\\rangle = \\langle pk|C_{R_x^{jk}(\\theta)}^{c\\rightarrow t}|pk\\rangle = \\cos(p\\theta/2), \\\\ \n",
    "& \\langle pj|C_{R_x^{jk}(\\theta)}^{c\\rightarrow t}|pk\\rangle = \\langle pk|C_{R_x^{jk}(\\theta)}^{c\\rightarrow t}|pj\\rangle = -i\\sin(p\\theta/2),\\\\\n",
    "& \\langle pl|C_{R_x^{jk}(\\theta)}^{c\\rightarrow t}|pl\\rangle = 1;\\ l\\ne j\\ \\text{e}\\ l\\ne k.\n",
    "\\end{align}\n",
    "Os elementos não nulos de $C_{R_y^{jk}(\\theta)}^{c\\rightarrow t}$ são\n",
    "\\begin{align}\n",
    "& \\langle pj|C_{R_y^{jk}(\\theta)}^{c\\rightarrow t}|pj\\rangle = \\langle pk|C_{R_y^{jk}(\\theta)}^{c\\rightarrow t}|pk\\rangle = \\cos(p\\theta/2), \\\\ \n",
    "& \\langle pj|C_{R_y^{jk}(\\theta)}^{c\\rightarrow t}|pk\\rangle = -\\langle pk|C_{R_y^{jk}(\\theta)}^{c\\rightarrow t}|pj\\rangle = -\\sin(p\\theta/2),\\\\\n",
    "& \\langle pl|C_{R_y^{jk}(\\theta)}^{c\\rightarrow t}|pl\\rangle = 1;\\ l\\ne j\\ \\text{e}\\ l\\ne k.\n",
    "\\end{align}\n",
    "Já os elementos não nulos de $C_{R_z^j(\\theta)}^{c\\rightarrow t}$ são\n",
    "\\begin{align}\n",
    "& \\langle pk|C_{R_z^j(\\theta)}^{c\\rightarrow t}|pk\\rangle = \\exp\\Big(-i\\frac{p\\theta}{2}\\sqrt{\\frac{2}{j(j+1)}}(-j)^{\\delta_{k,j+1}}\\Big);\\ k=1,\\cdots,j-1,\\\\\n",
    "& \\langle pk|C_{R_z^j(\\theta)}^{c\\rightarrow t}|pk\\rangle = 1;\\ k=j,\\cdots,d.\n",
    "\\end{align}\n",
    "\n",
    "Abaixo faço a programação em Sympy e em Numpy para comparação. No caso do Sympy é programado a simples soma das matrizes."
   ]
  },
  {
   "cell_type": "code",
   "execution_count": 120,
   "id": "a932dd54-53cb-4cf4-ac83-d47f637e5d20",
   "metadata": {},
   "outputs": [
    {
     "data": {
      "text/latex": [
       "$\\displaystyle \\left[\\begin{matrix}1 & 0\\\\0 & 0\\end{matrix}\\right]$"
      ],
      "text/plain": [
       "Matrix([\n",
       "[1, 0],\n",
       "[0, 0]])"
      ]
     },
     "execution_count": 120,
     "metadata": {},
     "output_type": "execute_result"
    }
   ],
   "source": [
    "# Sympy\n",
    "\n",
    "from sympy.physics.quantum import TensorProduct\n",
    "def tp(A,B):\n",
    "    return TensorProduct(A,B)\n",
    "\n",
    "def ket(d,j):\n",
    "    ke = zeros(d,1)\n",
    "    ke[j] = 1\n",
    "    return ke\n",
    "\n",
    "ke = ket(2,0); ke*ke.T"
   ]
  },
  {
   "cell_type": "code",
   "execution_count": 123,
   "id": "ffecdd7b-b227-4ac8-8709-5cd2192db912",
   "metadata": {},
   "outputs": [],
   "source": [
    "def ctrl_R(al,j,k,d,th):\n",
    "    D = d*d\n",
    "    CR = zeros(D,D)\n",
    "    for l in range(0,d):\n",
    "        ke = ket(d,l)\n",
    "        #print(Rx(j,k,d,l*th))\n",
    "        if al == 'x':\n",
    "            CR = CR + tp((ke*ke.T),Rx(j,k,d,l*th))\n",
    "        elif al == 'y':\n",
    "            CR = CR + tp((ke*ke.T),Ry(j,k,d,l*th))\n",
    "        elif al == 'z':\n",
    "            CR = CR + tp((ke*ke.T),Rz(j,d,l*th))\n",
    "    return CR"
   ]
  },
  {
   "cell_type": "code",
   "execution_count": 122,
   "id": "b1ca70fe-a582-42c3-b484-8cbc3716de96",
   "metadata": {},
   "outputs": [
    {
     "name": "stdout",
     "output_type": "stream",
     "text": [
      "Matrix([[1, 0], [0, 1]])\n",
      "Matrix([[cos(theta/2), -1.0*I*sin(theta/2)], [-1.0*I*sin(theta/2), cos(theta/2)]])\n"
     ]
    },
    {
     "data": {
      "text/latex": [
       "$\\displaystyle \\left[\\begin{matrix}1 & 0 & 0 & 0\\\\0 & 1 & 0 & 0\\\\0 & 0 & \\cos{\\left(\\frac{\\theta}{2} \\right)} & - 1.0 i \\sin{\\left(\\frac{\\theta}{2} \\right)}\\\\0 & 0 & - 1.0 i \\sin{\\left(\\frac{\\theta}{2} \\right)} & \\cos{\\left(\\frac{\\theta}{2} \\right)}\\end{matrix}\\right]$"
      ],
      "text/plain": [
       "Matrix([\n",
       "[1, 0,                   0,                   0],\n",
       "[0, 1,                   0,                   0],\n",
       "[0, 0,        cos(theta/2), -1.0*I*sin(theta/2)],\n",
       "[0, 0, -1.0*I*sin(theta/2),        cos(theta/2)]])"
      ]
     },
     "execution_count": 122,
     "metadata": {},
     "output_type": "execute_result"
    }
   ],
   "source": [
    "ctrl_R('x',1,2,2,th)"
   ]
  },
  {
   "cell_type": "code",
   "execution_count": 134,
   "id": "1c230063-6e5f-466e-980f-3cd8f0709e81",
   "metadata": {},
   "outputs": [],
   "source": [
    "# Numpy\n",
    "\n",
    "import numpy as np\n",
    "import math\n",
    "\n",
    "def CRx(j,k,d,th):\n",
    "    # d = qudit dimension\n",
    "    # j,k = identification of the Gell-Mann matrix\n",
    "    # th = rotation angle\n",
    "    j = j-1; k = k-1\n",
    "    crx = np.eye(d*d, dtype=complex)\n",
    "    for p in range(0,d):\n",
    "        crx[p*d+j,p*d+j] = math.cos((p*th)/2)\n",
    "        crx[p*d+k,p*d+k] = crx[p*d+j,p*d+j]\n",
    "        crx[p*d+j,p*d+k] = -1j*math.sin((p*th)/2)\n",
    "        crx[p*d+k,p*d+j] = crx[p*d+j,p*d+k]\n",
    "    return crx\n",
    "\n",
    "def CRy(j,k,d,th):\n",
    "    # d = qudit dimension\n",
    "    # j,k = identification of the Gell-Mann matrix\n",
    "    # th = rotation angle\n",
    "    j = j-1; k = k-1\n",
    "    cry = np.eye(d*d, dtype=complex)\n",
    "    for p in range(0,d):\n",
    "        cry[p*d+j,p*d+j] = math.cos((p*th)/2)\n",
    "        cry[p*d+k,p*d+k] = cry[p*d+j,p*d+j]\n",
    "        cry[p*d+j,p*d+k] = -math.sin((p*th)/2)\n",
    "        cry[p*d+k,p*d+j] = -cry[p*d+j,p*d+k]\n",
    "    return cry\n",
    "\n",
    "def CRz(j,d,th):\n",
    "    # d = qudit dimension\n",
    "    # j = identification of the Gell-Mann matrix\n",
    "    # th = rotation angle\n",
    "    crz = np.eye(d*d, dtype=complex)\n",
    "    for p in range(0,d):\n",
    "        for k in range(0,j+1):\n",
    "            angle = ((p*th)/2)*math.sqrt(2/(j*(j+1)))\n",
    "            if k == j: # corrige para iniciar k em 0\n",
    "                angle = angle*(-j)\n",
    "            crz[p*d+k,p*d+k] = math.cos(angle) - 1j*math.sin(angle)\n",
    "    return crz"
   ]
  },
  {
   "cell_type": "code",
   "execution_count": 140,
   "id": "76cea30d-e8bf-4526-bf94-ae1e3cb08162",
   "metadata": {},
   "outputs": [
    {
     "data": {
      "text/latex": [
       "$\\displaystyle \\left[\\begin{matrix}1 & 0 & 0 & 0\\\\0 & 1 & 0 & 0\\\\0 & 0 & 0 & - 1.0 i\\\\0 & 0 & - 1.0 i & 0\\end{matrix}\\right]$"
      ],
      "text/plain": [
       "Matrix([\n",
       "[1, 0,      0,      0],\n",
       "[0, 1,      0,      0],\n",
       "[0, 0,      0, -1.0*I],\n",
       "[0, 0, -1.0*I,      0]])"
      ]
     },
     "execution_count": 140,
     "metadata": {},
     "output_type": "execute_result"
    }
   ],
   "source": [
    "from sympy import pi\n",
    "al='x';j=1;k=2;d=2; th=pi; crx = ctrl_R(al,j,k,d,th); crx # ok!"
   ]
  },
  {
   "cell_type": "code",
   "execution_count": 137,
   "id": "e9ff3a6c-04c4-4cb0-99f2-900f65c3e710",
   "metadata": {},
   "outputs": [
    {
     "data": {
      "text/plain": [
       "array([[1.000000e+00+0.j, 0.000000e+00-0.j, 0.000000e+00+0.j,\n",
       "        0.000000e+00+0.j],\n",
       "       [0.000000e+00-0.j, 1.000000e+00+0.j, 0.000000e+00+0.j,\n",
       "        0.000000e+00+0.j],\n",
       "       [0.000000e+00+0.j, 0.000000e+00+0.j, 6.123234e-17+0.j,\n",
       "        0.000000e+00-1.j],\n",
       "       [0.000000e+00+0.j, 0.000000e+00+0.j, 0.000000e+00-1.j,\n",
       "        6.123234e-17+0.j]])"
      ]
     },
     "execution_count": 137,
     "metadata": {},
     "output_type": "execute_result"
    }
   ],
   "source": [
    "j=1;k=2;d=2; th = math.pi; CRX = CRx(j,k,d,th); CRX"
   ]
  },
  {
   "cell_type": "code",
   "execution_count": null,
   "id": "a1cc9892-3de3-4868-beef-87acb77a6a68",
   "metadata": {},
   "outputs": [],
   "source": []
  }
 ],
 "metadata": {
  "kernelspec": {
   "display_name": "Python 3 (ipykernel)",
   "language": "python",
   "name": "python3"
  },
  "language_info": {
   "codemirror_mode": {
    "name": "ipython",
    "version": 3
   },
   "file_extension": ".py",
   "mimetype": "text/x-python",
   "name": "python",
   "nbconvert_exporter": "python",
   "pygments_lexer": "ipython3",
   "version": "3.11.1"
  }
 },
 "nbformat": 4,
 "nbformat_minor": 5
}
