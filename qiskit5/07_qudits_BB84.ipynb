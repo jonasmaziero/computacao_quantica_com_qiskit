{
 "cells": [
  {
   "cell_type": "markdown",
   "id": "8481ca83",
   "metadata": {},
   "source": [
    "# Distribuição de chaves quânticas com qudits"
   ]
  },
  {
   "cell_type": "code",
   "execution_count": null,
   "id": "46bda23e",
   "metadata": {},
   "outputs": [],
   "source": []
  },
  {
   "cell_type": "code",
   "execution_count": null,
   "id": "e173e5d6",
   "metadata": {},
   "outputs": [],
   "source": []
  },
  {
   "cell_type": "code",
   "execution_count": null,
   "id": "48816896",
   "metadata": {},
   "outputs": [],
   "source": []
  },
  {
   "cell_type": "code",
   "execution_count": null,
   "id": "20b9ff4a",
   "metadata": {},
   "outputs": [],
   "source": []
  },
  {
   "cell_type": "code",
   "execution_count": null,
   "id": "d11c58cd",
   "metadata": {},
   "outputs": [],
   "source": []
  },
  {
   "cell_type": "markdown",
   "id": "acb9cf26",
   "metadata": {},
   "source": [
    "## Referências\n",
    "\n",
    "1. S. P. Walborn, D. S. Lemelle, M. P. Almeida, and P. H. S. Ribeiro, “Quantum Key Distribution with Higher-Order Alphabets Using Spatially Encoded Qudits,” Phys. Rev. Lett., vol. 96, no. 9, p. 090501, Mar. 2006, doi: 10.1103/PhysRevLett.96.090501.\n"
   ]
  },
  {
   "cell_type": "code",
   "execution_count": null,
   "id": "d9441560",
   "metadata": {},
   "outputs": [],
   "source": []
  }
 ],
 "metadata": {
  "kernelspec": {
   "display_name": "Python 3 (ipykernel)",
   "language": "python",
   "name": "python3"
  },
  "language_info": {
   "codemirror_mode": {
    "name": "ipython",
    "version": 3
   },
   "file_extension": ".py",
   "mimetype": "text/x-python",
   "name": "python",
   "nbconvert_exporter": "python",
   "pygments_lexer": "ipython3",
   "version": "3.9.13"
  }
 },
 "nbformat": 4,
 "nbformat_minor": 5
}
