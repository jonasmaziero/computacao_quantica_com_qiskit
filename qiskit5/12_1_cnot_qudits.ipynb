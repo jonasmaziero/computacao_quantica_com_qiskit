{
 "cells": [
  {
   "cell_type": "markdown",
   "id": "c1642e47-18de-4971-ad5d-19cacf43ab3f",
   "metadata": {},
   "source": [
    "### Notas de aula de Computação Quântica <br> Autor: Jonas Maziero"
   ]
  },
  {
   "cell_type": "markdown",
   "id": "11628662",
   "metadata": {},
   "source": [
    "# CNOT para qudits\n",
    "\n",
    "A porta CNOT para qudits é definida como\n",
    "$$C_{Xd}^{a\\rightarrow b} \\equiv C_{Xd} = \\sum_{j=0}^{d-1}|j\\rangle\\langle j|\\otimes X(j),$$\n",
    "em que o operador de deslocamento de estado é dado por\n",
    "$$X(j)|k\\rangle = |j\\oplus_d k\\rangle \\equiv |(j+k)\\mod(d)\\rangle.$$\n",
    "Essa porta CNOT leva da base computacional, de 2 qudits, para a base de Bell generalizada, como esperado.\n",
    "\n",
    "Os elementos de matriz desse operador CNOT são então\n",
    "\\begin{align}\n",
    "\\langle l\\ m|C_{Xd}|p\\ q\\rangle & = \\langle l|\\otimes\\langle m|\\Big(\\sum_{j=0}^{d-1}|j\\rangle\\langle j|\\otimes X(j)\\Big)|p\\rangle\\otimes| q\\rangle \\\\\n",
    "& = \\sum_{j=0}^{d-1}\\langle l|j\\rangle\\langle j|p\\rangle\\otimes \\langle m|X(j)| q\\rangle \\\\\n",
    "& = \\sum_{j=0}^{d-1}\\delta_{l,j}\\delta_{j,p} \\langle m|j\\oplus_d q\\rangle \\\\\n",
    "& = \\sum_{j=0}^{d-1}\\delta_{l,j}\\delta_{j,p}\\delta_{m,j\\oplus_d q} \\\\\n",
    "& = \\sum_{j=0}^{d-1}\\delta_{j,l}\\delta_{j,p}\\delta_{j,m\\ominus_d q}.\n",
    "\\end{align}"
   ]
  },
  {
   "cell_type": "markdown",
   "id": "4da9a5df-2f60-461f-b180-75b52e8edc2b",
   "metadata": {},
   "source": [
    "Acima eu assumi que a subtração módulo $d$ é a operação inversa da soma módulo $d$ (acho que isso não é tão simples assim). Com essa suposição, vemos prontamente que\n",
    "\\begin{align}\n",
    "& l\\ne p\\ \\Rightarrow\\ \\langle l\\ m|C_{Xd}|p\\ q\\rangle=0, \\\\\n",
    "& l\\ne m\\ominus q\\ \\Rightarrow\\ \\langle l\\ m|C_{Xd}|p\\ q\\rangle=0, \\\\\n",
    "& p\\ne m\\ominus q\\ \\Rightarrow\\ \\langle l\\ m|C_{Xd}|p\\ q\\rangle=0, \\\\\n",
    "& l=p= m\\ominus q\\ \\Rightarrow\\ \\langle l\\ m|C_{Xd}|p\\ q\\rangle=1.\n",
    "\\end{align}\n",
    "A última igualdade segue pois só pode haver um valor de $j$ que satisfaz tal condição.\n",
    "\n",
    "Notando-se que o único elemento não nulo do projetor $P_j = |j\\rangle\\langle j|$ é o elemento diagonal $(P_j)_{jj}$, vemos que a forma geral da control not em dimensão $d$ é seguinte matriz bloco-diagonal:\n",
    "$$C_{Xd} = \\begin{bmatrix} I_d & 0_d & 0_d & \\cdots & 0_d \\\\ 0_d & X(1) & 0_d & \\cdots & 0_d \\\\ 0_d & 0_d & X(2) & \\cdots & 0_d \\\\ \\vdots & \\vdots & \\vdots & \\ddots & \\vdots \\\\ 0_d & 0_d & 0_d & \\cdots & X(d-1)  \\end{bmatrix},$$\n",
    "em que $I_d$ é a matriz identidade $d\\times d$ e $0_d$ é a matriz nula $d\\times d$."
   ]
  },
  {
   "cell_type": "markdown",
   "id": "c36c607d-1141-4a0d-a9d5-893f03e8a298",
   "metadata": {},
   "source": [
    "Vejamos como passar da base computacional de 2 qudits para a base computacional de um sistema de dimensão $d^2$, e vicê versa. Para 2 qudits o ordenamento é como esperado, ou seja, se usamos\n",
    "$$|l\\ m\\rangle\\ \\rightarrow |l\\times d^1 + m\\times d^0\\rangle$$\n",
    "teremos os estados da base computacional composta já ordenados\n",
    "$$|0\\rangle,|1\\rangle,\\cdots,|d^2-1\\rangle.$$\n",
    "Por exemplo\n",
    "\\begin{align}\n",
    "& d=2:\\ \\{|00\\rangle,|01\\rangle,|10\\rangle,|11\\rangle\\}\\equiv\\{|0\\rangle,|1\\rangle,|2\\rangle,|3\\rangle\\}, \\\\\n",
    "& d=3:\\ \\{|00\\rangle,|01\\rangle,|02\\rangle,|10\\rangle\\,|11\\rangle,|12\\rangle,|20\\rangle,|21\\rangle,|22\\rangle\\} \\equiv \\{|0\\rangle,|1\\rangle,|2\\rangle,|3\\rangle\\,|4\\rangle,|5\\rangle,|6\\rangle,|7\\rangle,|8\\rangle\\}, \\\\\n",
    "\\end{align}"
   ]
  },
  {
   "cell_type": "markdown",
   "id": "5b9e4428-b6b6-45c0-8a42-2a63ef31157a",
   "metadata": {},
   "source": [
    "Aplicando as restrições\n",
    "$$l=p=j,\\ m=(j+q)\\mod d=(p+q)\\mod d$$ \n",
    "vemos que os elementos de matriz não nulos da CNOT são\n",
    "$$\\langle pd+(p+q)\\mod d|C_{Xd}|pd+q\\rangle = 1$$\n",
    "com \n",
    "$$p,q=0,1,\\cdots,d-1.$$ \n",
    "Ou seja, existem \n",
    "$$d^2 \\text{ elementos de matriz não nulos}.$$\n",
    "Abaixo está o código para gerar esses elementos de matrix. Verifiquei analiticamente que os resultados estão certos até $d=4.$"
   ]
  },
  {
   "cell_type": "code",
   "execution_count": 58,
   "id": "dbc42db0",
   "metadata": {},
   "outputs": [],
   "source": [
    "import numpy as np\n",
    "\n",
    "def cnot_matrix_ab(d):\n",
    "        cn = np.zeros((d**2,d**2),dtype=int)\n",
    "        for p in range(0,d): # d^2 elementos não nulos\n",
    "            for q in range(0,d):\n",
    "                cn[p*d+(p+q)%d,p*d+q] = 1\n",
    "        return cn"
   ]
  },
  {
   "cell_type": "code",
   "execution_count": 59,
   "id": "49d27816-8835-48bc-a695-ed4cfcad32fa",
   "metadata": {},
   "outputs": [
    {
     "name": "stdout",
     "output_type": "stream",
     "text": [
      "[[1 0 0 0]\n",
      " [0 1 0 0]\n",
      " [0 0 0 1]\n",
      " [0 0 1 0]]\n"
     ]
    }
   ],
   "source": [
    "d=2; cn = cnot_matrix_ab(d); print(cn)"
   ]
  },
  {
   "cell_type": "code",
   "execution_count": 60,
   "id": "6e2a29a8",
   "metadata": {},
   "outputs": [
    {
     "name": "stdout",
     "output_type": "stream",
     "text": [
      "[[1 0 0 0 0 0 0 0 0]\n",
      " [0 1 0 0 0 0 0 0 0]\n",
      " [0 0 1 0 0 0 0 0 0]\n",
      " [0 0 0 0 0 1 0 0 0]\n",
      " [0 0 0 1 0 0 0 0 0]\n",
      " [0 0 0 0 1 0 0 0 0]\n",
      " [0 0 0 0 0 0 0 1 0]\n",
      " [0 0 0 0 0 0 0 0 1]\n",
      " [0 0 0 0 0 0 1 0 0]]\n"
     ]
    }
   ],
   "source": [
    "d=3; cn = cnot_matrix_ab(d); print(cn)"
   ]
  },
  {
   "cell_type": "code",
   "execution_count": 61,
   "id": "1ab8fd95",
   "metadata": {},
   "outputs": [
    {
     "name": "stdout",
     "output_type": "stream",
     "text": [
      "[[1 0 0 0 0 0 0 0 0 0 0 0 0 0 0 0]\n",
      " [0 1 0 0 0 0 0 0 0 0 0 0 0 0 0 0]\n",
      " [0 0 1 0 0 0 0 0 0 0 0 0 0 0 0 0]\n",
      " [0 0 0 1 0 0 0 0 0 0 0 0 0 0 0 0]\n",
      " [0 0 0 0 0 0 0 1 0 0 0 0 0 0 0 0]\n",
      " [0 0 0 0 1 0 0 0 0 0 0 0 0 0 0 0]\n",
      " [0 0 0 0 0 1 0 0 0 0 0 0 0 0 0 0]\n",
      " [0 0 0 0 0 0 1 0 0 0 0 0 0 0 0 0]\n",
      " [0 0 0 0 0 0 0 0 0 0 1 0 0 0 0 0]\n",
      " [0 0 0 0 0 0 0 0 0 0 0 1 0 0 0 0]\n",
      " [0 0 0 0 0 0 0 0 1 0 0 0 0 0 0 0]\n",
      " [0 0 0 0 0 0 0 0 0 1 0 0 0 0 0 0]\n",
      " [0 0 0 0 0 0 0 0 0 0 0 0 0 1 0 0]\n",
      " [0 0 0 0 0 0 0 0 0 0 0 0 0 0 1 0]\n",
      " [0 0 0 0 0 0 0 0 0 0 0 0 0 0 0 1]\n",
      " [0 0 0 0 0 0 0 0 0 0 0 0 1 0 0 0]]\n"
     ]
    }
   ],
   "source": [
    "d=4; cn = cnot_matrix_ab(d); print(cn)"
   ]
  },
  {
   "cell_type": "markdown",
   "id": "d8915865",
   "metadata": {},
   "source": [
    "\n"
   ]
  },
  {
   "cell_type": "markdown",
   "id": "6d2f8180-63d9-4d2d-93ea-5582437f040f",
   "metadata": {},
   "source": [
    "Pode-se verificar também que para\n",
    "$$C_{Xd}^{b\\rightarrow a} = \\sum_{j=0}^{d-1}X(j)\\otimes |j\\rangle\\langle j|$$\n",
    "teremos os elementos de matrix dados por\n",
    "$$\\langle l\\ m|C_{Xd}^{b\\rightarrow a}|p\\ q\\rangle = \\sum_{j=0}^{d-1}\\delta_{l,j\\oplus p}\\delta_{m,j}\\delta_{j,q}. $$\n",
    "Então para ter um elemento não nulo devemos ter\n",
    "$$j=m=q,\\ l=j\\oplus p = q\\oplus p. $$\n",
    "Então os elementos não nulos são\n",
    "$$\\langle (q\\oplus p)d+q|C_{Xd}^{b\\rightarrow a}|pd+q\\rangle = 1. $$"
   ]
  },
  {
   "cell_type": "code",
   "execution_count": 62,
   "id": "db7f2767-f1e7-433c-bbfe-4fc750782a58",
   "metadata": {},
   "outputs": [],
   "source": [
    "import numpy as np\n",
    "\n",
    "def cnot_matrix(d, ctr):\n",
    "    cn = np.zeros((d**2,d**2),dtype=int)\n",
    "    if ctr == 'a':        \n",
    "        for p in range(0,d):\n",
    "            for q in range(0,d):\n",
    "                cn[p*d+(p+q)%d,p*d+q] = 1\n",
    "    elif ctr == 'b':\n",
    "        for p in range(0,d):\n",
    "            for q in range(0,d):\n",
    "                cn[((q+p)%d)*d+q,p*d+q] = 1\n",
    "    return cn"
   ]
  },
  {
   "cell_type": "code",
   "execution_count": 63,
   "id": "65bdc298-671e-420c-af74-81d43c818038",
   "metadata": {},
   "outputs": [
    {
     "name": "stdout",
     "output_type": "stream",
     "text": [
      "[[1 0 0 0]\n",
      " [0 0 0 1]\n",
      " [0 0 1 0]\n",
      " [0 1 0 0]]\n"
     ]
    }
   ],
   "source": [
    "d=2; print(cnot_matrix(d, 'b')) # ok!"
   ]
  },
  {
   "cell_type": "code",
   "execution_count": 64,
   "id": "37db9083-a2d6-498d-af26-815cda3e662a",
   "metadata": {},
   "outputs": [
    {
     "name": "stdout",
     "output_type": "stream",
     "text": [
      "[[1 0 0 0 0 0 0 0 0]\n",
      " [0 0 0 0 0 0 0 1 0]\n",
      " [0 0 0 0 0 1 0 0 0]\n",
      " [0 0 0 1 0 0 0 0 0]\n",
      " [0 1 0 0 0 0 0 0 0]\n",
      " [0 0 0 0 0 0 0 0 1]\n",
      " [0 0 0 0 0 0 1 0 0]\n",
      " [0 0 0 0 1 0 0 0 0]\n",
      " [0 0 1 0 0 0 0 0 0]]\n"
     ]
    }
   ],
   "source": [
    "d=3; print(cnot_matrix(d, 'b'))"
   ]
  },
  {
   "cell_type": "markdown",
   "id": "f6ebcbcc-b73d-43ee-87de-896df82a9a6f",
   "metadata": {
    "tags": []
   },
   "source": [
    "---\n",
    "# Caso geral: $N$ qudits\n",
    "\n",
    "## Base computacional para $N$ qudits a partir das bases locais\n",
    "\n",
    "Um estado da base computacional de $N$ qudits pode ser representado por\n",
    "$$|j_0\\rangle\\otimes| j_1\\rangle\\otimes \\cdots |j_{N-2}\\rangle\\otimes| j_{N-1}\\rangle \\equiv|j_0 j_1 \\cdots j_{N-2} j_{N-1}\\rangle \\equiv |j\\rangle $$\n",
    "com o índice do estado local sendo\n",
    "$$j_s = 0,1,\\cdots,d-1$$\n",
    "e o índice do qudit sendo\n",
    "$$s=0,1,\\cdots,N-1.$$\n",
    "A correspondência, a __representação denária__ é calculada como segue\n",
    "\\begin{align}\n",
    "j & = j_0 d^{N-1} + j_1 d^{N-2} + \\cdots + j_{N-2}d^1 + j_{N-1} d^0 \\\\\n",
    "& = \\sum_{k=0}^{N-1}j_k d^{N-1-k}.\n",
    "\\end{align}"
   ]
  },
  {
   "cell_type": "markdown",
   "id": "c9e794f3-2fc1-4b4b-bb4b-e39b6b474605",
   "metadata": {},
   "source": [
    "### Representação decimal\n",
    "A função abaixo calcula $j$ dada uma lista com $[j_0 j_1 \\cdots j_{N-2} j_{N-1}].$"
   ]
  },
  {
   "cell_type": "code",
   "execution_count": 65,
   "id": "52440c12-96c1-4d9e-85cb-8b8ce478f073",
   "metadata": {},
   "outputs": [],
   "source": [
    "def den2dec(local,d):\n",
    "    # local = list with the local computational base state values \n",
    "    # d = individual qudit dimension\n",
    "    N = len(local)\n",
    "    j = 0\n",
    "    for k in range(0,N):\n",
    "        j += local[k]*d**(N-1-k)\n",
    "    return j # value of the global computational basis index"
   ]
  },
  {
   "cell_type": "markdown",
   "id": "759b0abf-edb5-4975-b547-00b062c8843d",
   "metadata": {},
   "source": [
    "__Exemplo__: Abaixo aplicamos a função acima para 3 qutrits. Nesse caso\n",
    "$$j = 9j_0+3j_1+j_2.$$"
   ]
  },
  {
   "cell_type": "code",
   "execution_count": 66,
   "id": "6d06f4ee-6454-4b2c-bd4b-004d568d8479",
   "metadata": {},
   "outputs": [
    {
     "name": "stdout",
     "output_type": "stream",
     "text": [
      "j0 j1 j2 = 0 0 0 , j = 0\n",
      "j0 j1 j2 = 0 0 1 , j = 1\n",
      "j0 j1 j2 = 0 0 2 , j = 2\n",
      "j0 j1 j2 = 0 1 0 , j = 3\n",
      "j0 j1 j2 = 0 1 1 , j = 4\n",
      "j0 j1 j2 = 0 1 2 , j = 5\n",
      "j0 j1 j2 = 0 2 0 , j = 6\n",
      "j0 j1 j2 = 0 2 1 , j = 7\n",
      "j0 j1 j2 = 0 2 2 , j = 8\n",
      "j0 j1 j2 = 1 0 0 , j = 9\n",
      "j0 j1 j2 = 1 0 1 , j = 10\n",
      "j0 j1 j2 = 1 0 2 , j = 11\n",
      "j0 j1 j2 = 1 1 0 , j = 12\n",
      "j0 j1 j2 = 1 1 1 , j = 13\n",
      "j0 j1 j2 = 1 1 2 , j = 14\n",
      "j0 j1 j2 = 1 2 0 , j = 15\n",
      "j0 j1 j2 = 1 2 1 , j = 16\n",
      "j0 j1 j2 = 1 2 2 , j = 17\n",
      "j0 j1 j2 = 2 0 0 , j = 18\n",
      "j0 j1 j2 = 2 0 1 , j = 19\n",
      "j0 j1 j2 = 2 0 2 , j = 20\n",
      "j0 j1 j2 = 2 1 0 , j = 21\n",
      "j0 j1 j2 = 2 1 1 , j = 22\n",
      "j0 j1 j2 = 2 1 2 , j = 23\n",
      "j0 j1 j2 = 2 2 0 , j = 24\n",
      "j0 j1 j2 = 2 2 1 , j = 25\n",
      "j0 j1 j2 = 2 2 2 , j = 26\n"
     ]
    }
   ],
   "source": [
    "# example: 3 qutrits\n",
    "d = 3; N = 3\n",
    "local = [0,0,0]\n",
    "for j0 in range(0,3):\n",
    "    for j1 in range(0,3):\n",
    "        for j2 in range(0,3):\n",
    "            local = [j0,j1,j2]\n",
    "            j = den2dec(local,d)\n",
    "            print('j0 j1 j2 =',j0,j1,j2,', j =',j)"
   ]
  },
  {
   "cell_type": "markdown",
   "id": "4bc8694d-69b2-4921-9cbf-4b3d1347d6bf",
   "metadata": {},
   "source": [
    "### Representação denária\n",
    "\n",
    "Dada a representação decimal global, ou seja, dado $j$, vamos obter a representação denária:\n",
    "$$j\\rightarrow j_0 j_1 \\cdots j_{N-2} j_{N-1}.$$\n",
    "Lembrando\n",
    "$$j = j_0 d^{N-1} + j_1 d^{N-2} + \\cdots + j_{N-2}d^1 + j_{N-1} d^0.$$"
   ]
  },
  {
   "cell_type": "code",
   "execution_count": 67,
   "id": "b15212e0-dd9a-4442-98ec-ac5a34cd1377",
   "metadata": {},
   "outputs": [],
   "source": [
    "def dec2den(j,N,d):\n",
    "    den = [0 for k in range(0,N)]\n",
    "    jv = j\n",
    "    for k in range(0,N):\n",
    "        if jv >= d**(N-1-k):\n",
    "            den[k] = jv//(d**(N-1-k))\n",
    "            jv = jv - den[k]*d**(N-1-k)\n",
    "    return den"
   ]
  },
  {
   "cell_type": "code",
   "execution_count": 68,
   "id": "cb923be4-6b5d-4435-bd01-a1db7b09e5e5",
   "metadata": {},
   "outputs": [
    {
     "name": "stdout",
     "output_type": "stream",
     "text": [
      "j= 0 , den= [0, 0, 0]\n",
      "j= 1 , den= [0, 0, 1]\n",
      "j= 2 , den= [0, 0, 2]\n",
      "j= 3 , den= [0, 1, 0]\n",
      "j= 4 , den= [0, 1, 1]\n",
      "j= 5 , den= [0, 1, 2]\n",
      "j= 6 , den= [0, 2, 0]\n",
      "j= 7 , den= [0, 2, 1]\n",
      "j= 8 , den= [0, 2, 2]\n",
      "j= 9 , den= [1, 0, 0]\n",
      "j= 10 , den= [1, 0, 1]\n",
      "j= 11 , den= [1, 0, 2]\n",
      "j= 12 , den= [1, 1, 0]\n",
      "j= 13 , den= [1, 1, 1]\n",
      "j= 14 , den= [1, 1, 2]\n",
      "j= 15 , den= [1, 2, 0]\n",
      "j= 16 , den= [1, 2, 1]\n",
      "j= 17 , den= [1, 2, 2]\n",
      "j= 18 , den= [2, 0, 0]\n",
      "j= 19 , den= [2, 0, 1]\n",
      "j= 20 , den= [2, 0, 2]\n",
      "j= 21 , den= [2, 1, 0]\n",
      "j= 22 , den= [2, 1, 1]\n",
      "j= 23 , den= [2, 1, 2]\n",
      "j= 24 , den= [2, 2, 0]\n",
      "j= 25 , den= [2, 2, 1]\n",
      "j= 26 , den= [2, 2, 2]\n"
     ]
    }
   ],
   "source": [
    "N = 3; d = 3\n",
    "for j in range(0,d**N):\n",
    "    print('j=',j,', den=', dec2den(j,N,d))"
   ]
  },
  {
   "cell_type": "code",
   "execution_count": 69,
   "id": "424fbd41-a98f-4cf3-9ac1-bb26c75f248b",
   "metadata": {},
   "outputs": [],
   "source": [
    "def dec2den_opt(j,N,d): # optmized version\n",
    "    den = [0 for k in range(0,N)]\n",
    "    if j < d:\n",
    "        den[N-1] = j; return den\n",
    "    rem = [] # list for the remainder\n",
    "    k = j\n",
    "    while k >= d:\n",
    "        rem.append(k%d)\n",
    "        k = k//d\n",
    "    rem.append(k%d)\n",
    "    for j in range(0,len(rem)):\n",
    "        den[N-1-j] = rem[j]\n",
    "    return den"
   ]
  },
  {
   "cell_type": "code",
   "execution_count": 70,
   "id": "89f9c40d-0c42-458e-a322-6fbe31e99992",
   "metadata": {},
   "outputs": [
    {
     "name": "stdout",
     "output_type": "stream",
     "text": [
      "j= 0 , den= [0, 0, 0]\n",
      "j= 1 , den= [0, 0, 1]\n",
      "j= 2 , den= [0, 0, 2]\n",
      "j= 3 , den= [0, 1, 0]\n",
      "j= 4 , den= [0, 1, 1]\n",
      "j= 5 , den= [0, 1, 2]\n",
      "j= 6 , den= [0, 2, 0]\n",
      "j= 7 , den= [0, 2, 1]\n",
      "j= 8 , den= [0, 2, 2]\n",
      "j= 9 , den= [1, 0, 0]\n",
      "j= 10 , den= [1, 0, 1]\n",
      "j= 11 , den= [1, 0, 2]\n",
      "j= 12 , den= [1, 1, 0]\n",
      "j= 13 , den= [1, 1, 1]\n",
      "j= 14 , den= [1, 1, 2]\n",
      "j= 15 , den= [1, 2, 0]\n",
      "j= 16 , den= [1, 2, 1]\n",
      "j= 17 , den= [1, 2, 2]\n",
      "j= 18 , den= [2, 0, 0]\n",
      "j= 19 , den= [2, 0, 1]\n",
      "j= 20 , den= [2, 0, 2]\n",
      "j= 21 , den= [2, 1, 0]\n",
      "j= 22 , den= [2, 1, 1]\n",
      "j= 23 , den= [2, 1, 2]\n",
      "j= 24 , den= [2, 2, 0]\n",
      "j= 25 , den= [2, 2, 1]\n",
      "j= 26 , den= [2, 2, 2]\n"
     ]
    }
   ],
   "source": [
    "N = 3; d = 3\n",
    "for j in range(0,d**N):\n",
    "    print('j=',j,', den=', dec2den_opt(j,N,d))"
   ]
  },
  {
   "cell_type": "markdown",
   "id": "9c85cfe8-039e-43b6-9f69-72e2eb122a64",
   "metadata": {},
   "source": [
    "## Elementos não nulos da CNOT para $N$ qudits\n",
    "\n",
    "Depois de algumas contas, notamos o seguinte. Seja o índice do o qudit controle\n",
    "$$s=c$$ \n",
    "e o índice do qudit target\n",
    "$$s=t.$$\n",
    "Se \n",
    "$$c<t$$\n",
    "os  $d^N$ elementos não nulos da CNOT são\n",
    "$$\\langle\\cdots,k_{c-1},k_c,k_{c+1},\\cdots,k_{t-1},k_t\\oplus k_c,k_{t+1},\\cdots|C_x|\\cdots,k_{c-1},k_c,k_{c+1},\\cdots,k_{t-1},k_t,k_{t+1},\\cdots\\rangle=1.$$\n",
    "Por outro lado, se \n",
    "$$c>t$$\n",
    "os $d^N$ elementos não nulos da CNOT são\n",
    "$$\\langle\\cdots,k_{t-1},k_t\\oplus k_c,k_{t+1},\\cdots,k_{c-1},k_c,k_{c+1},\\cdots|C_x|\\cdots,k_{t-1},k_t,k_{t+1},\\cdots,k_{c-1},k_c,k_{c+1},\\cdots\\rangle=1.$$\n",
    "\n",
    "Então, uma possibilidade para gerar os elementos não nulos da CNOT é, dados somente $N$ e $d$, gerar todas as sequências de bases locais\n",
    "$$|j_0 j_1 \\cdots j_{N-2} j_{N-1}\\rangle.$$\n",
    "A representação na base $d^N$ dessa sequência nos dá o índice de matrix da direita. Depois fazemos\n",
    "$$j_t \\rightarrow j_t\\oplus j_c$$\n",
    "para obter o índice da base da esquerda para o qubit target."
   ]
  },
  {
   "cell_type": "code",
   "execution_count": 71,
   "id": "92859947-d7ba-4859-adb8-10a273159b79",
   "metadata": {},
   "outputs": [],
   "source": [
    "def cnot_qudits(d,N,t,c):\n",
    "    # d = qudit dimension; N = No. of qudits; t = target qudit (0,...,N-1); c = control qudit (0,...,N-1)\n",
    "    D = d**N; cnot = np.zeros((D,D), dtype=int) # set all d^2N elements to 0\n",
    "    for k in range (0,d**N):\n",
    "        localr = dec2den(k,N,d) # sequence os values for the local basis\n",
    "        locall = localr.copy() # copy the right list to the left list\n",
    "        locall[t] = (localr[t]+localr[c])%d\n",
    "        globall = den2dec(locall,d)\n",
    "        cnot[globall,k] = 1\n",
    "    return cnot    "
   ]
  },
  {
   "cell_type": "code",
   "execution_count": 72,
   "id": "e7df689c-0654-4a1c-9147-7d5964713f20",
   "metadata": {},
   "outputs": [
    {
     "name": "stdout",
     "output_type": "stream",
     "text": [
      "[[1 0 0 0]\n",
      " [0 1 0 0]\n",
      " [0 0 0 1]\n",
      " [0 0 1 0]]\n"
     ]
    }
   ],
   "source": [
    "d=2; N=2; t=1; c=0; cnot = cnot_qudits(d,N,t,c); print(cnot) # ok!"
   ]
  },
  {
   "cell_type": "code",
   "execution_count": 73,
   "id": "bdc1152e-8ca1-428b-abc2-828f49f4ce91",
   "metadata": {},
   "outputs": [
    {
     "name": "stdout",
     "output_type": "stream",
     "text": [
      "[[1 0 0 0]\n",
      " [0 0 0 1]\n",
      " [0 0 1 0]\n",
      " [0 1 0 0]]\n"
     ]
    }
   ],
   "source": [
    "d=2; N=2; t=0; c=1; cnot = cnot_qudits(d,N,t,c); print(cnot) # ok!"
   ]
  },
  {
   "cell_type": "code",
   "execution_count": 74,
   "id": "cf6148bd-76f9-4c46-a231-7f3ffbd4bae1",
   "metadata": {},
   "outputs": [
    {
     "name": "stdout",
     "output_type": "stream",
     "text": [
      "[[1 0 0 0 0 0 0 0 0]\n",
      " [0 1 0 0 0 0 0 0 0]\n",
      " [0 0 1 0 0 0 0 0 0]\n",
      " [0 0 0 0 0 1 0 0 0]\n",
      " [0 0 0 1 0 0 0 0 0]\n",
      " [0 0 0 0 1 0 0 0 0]\n",
      " [0 0 0 0 0 0 0 1 0]\n",
      " [0 0 0 0 0 0 0 0 1]\n",
      " [0 0 0 0 0 0 1 0 0]]\n"
     ]
    }
   ],
   "source": [
    "d=3; N=2; t=1; c=0; cnot = cnot_qudits(d,N,t,c); print(cnot) # ok!"
   ]
  },
  {
   "cell_type": "code",
   "execution_count": 75,
   "id": "8cd5839e-b33e-4af5-b33c-8684889e2c20",
   "metadata": {},
   "outputs": [
    {
     "name": "stdout",
     "output_type": "stream",
     "text": [
      "[[1 0 0 0 0 0 0 0]\n",
      " [0 1 0 0 0 0 0 0]\n",
      " [0 0 1 0 0 0 0 0]\n",
      " [0 0 0 1 0 0 0 0]\n",
      " [0 0 0 0 0 1 0 0]\n",
      " [0 0 0 0 1 0 0 0]\n",
      " [0 0 0 0 0 0 0 1]\n",
      " [0 0 0 0 0 0 1 0]]\n"
     ]
    }
   ],
   "source": [
    "d=2; N=3; t=2; c=0; cnot = cnot_qudits(d,N,t,c); print(cnot) # ok"
   ]
  },
  {
   "cell_type": "code",
   "execution_count": 76,
   "id": "1ca813d8-4f63-49a7-a18d-367dcb49296d",
   "metadata": {},
   "outputs": [
    {
     "data": {
      "image/png": "[encoded data removed]",
      "text/latex": [
       "$\\displaystyle \\left[\\begin{matrix}1 & 0 & 0 & 0 & 0 & 0 & 0 & 0\\\\0 & 1 & 0 & 0 & 0 & 0 & 0 & 0\\\\0 & 0 & 1 & 0 & 0 & 0 & 0 & 0\\\\0 & 0 & 0 & 1 & 0 & 0 & 0 & 0\\\\0 & 0 & 0 & 0 & 0 & 1 & 0 & 0\\\\0 & 0 & 0 & 0 & 1 & 0 & 0 & 0\\\\0 & 0 & 0 & 0 & 0 & 0 & 0 & 1\\\\0 & 0 & 0 & 0 & 0 & 0 & 1 & 0\\end{matrix}\\right]$"
      ],
      "text/plain": [
       "⎡1  0  0  0  0  0  0  0⎤\n",
       "⎢                      ⎥\n",
       "⎢0  1  0  0  0  0  0  0⎥\n",
       "⎢                      ⎥\n",
       "⎢0  0  1  0  0  0  0  0⎥\n",
       "⎢                      ⎥\n",
       "⎢0  0  0  1  0  0  0  0⎥\n",
       "⎢                      ⎥\n",
       "⎢0  0  0  0  0  1  0  0⎥\n",
       "⎢                      ⎥\n",
       "⎢0  0  0  0  1  0  0  0⎥\n",
       "⎢                      ⎥\n",
       "⎢0  0  0  0  0  0  0  1⎥\n",
       "⎢                      ⎥\n",
       "⎣0  0  0  0  0  0  1  0⎦"
      ]
     },
     "execution_count": 76,
     "metadata": {},
     "output_type": "execute_result"
    }
   ],
   "source": [
    "from sympy import init_printing, Matrix\n",
    "init_printing(use_unicode=True)\n",
    "from sympy.physics.quantum import TensorProduct\n",
    "def tp(x,y):\n",
    "    return TensorProduct(x,y)\n",
    "s1 = Matrix([[0,1],[1,0]]); s0 = Matrix([[1,0],[0,1]]); P0 = Matrix([[1,0],[0,0]]); P1 = Matrix([[0,0],[0,1]])\n",
    "cnot03 = tp(tp(P0,s0),s0) + tp(tp(P1,s0),s1); cnot03                                                                                             "
   ]
  },
  {
   "cell_type": "code",
   "execution_count": 77,
   "id": "35fbbcc0-a467-4e9a-a002-ebed824a047b",
   "metadata": {},
   "outputs": [
    {
     "name": "stdout",
     "output_type": "stream",
     "text": [
      "[[1 0 0 0 0 0 0 0 0 0 0 0 0 0 0 0 0 0 0 0 0 0 0 0 0 0 0]\n",
      " [0 1 0 0 0 0 0 0 0 0 0 0 0 0 0 0 0 0 0 0 0 0 0 0 0 0 0]\n",
      " [0 0 1 0 0 0 0 0 0 0 0 0 0 0 0 0 0 0 0 0 0 0 0 0 0 0 0]\n",
      " [0 0 0 1 0 0 0 0 0 0 0 0 0 0 0 0 0 0 0 0 0 0 0 0 0 0 0]\n",
      " [0 0 0 0 1 0 0 0 0 0 0 0 0 0 0 0 0 0 0 0 0 0 0 0 0 0 0]\n",
      " [0 0 0 0 0 1 0 0 0 0 0 0 0 0 0 0 0 0 0 0 0 0 0 0 0 0 0]\n",
      " [0 0 0 0 0 0 1 0 0 0 0 0 0 0 0 0 0 0 0 0 0 0 0 0 0 0 0]\n",
      " [0 0 0 0 0 0 0 1 0 0 0 0 0 0 0 0 0 0 0 0 0 0 0 0 0 0 0]\n",
      " [0 0 0 0 0 0 0 0 1 0 0 0 0 0 0 0 0 0 0 0 0 0 0 0 0 0 0]\n",
      " [0 0 0 0 0 0 0 0 0 0 0 0 0 0 0 1 0 0 0 0 0 0 0 0 0 0 0]\n",
      " [0 0 0 0 0 0 0 0 0 0 0 0 0 0 0 0 1 0 0 0 0 0 0 0 0 0 0]\n",
      " [0 0 0 0 0 0 0 0 0 0 0 0 0 0 0 0 0 1 0 0 0 0 0 0 0 0 0]\n",
      " [0 0 0 0 0 0 0 0 0 1 0 0 0 0 0 0 0 0 0 0 0 0 0 0 0 0 0]\n",
      " [0 0 0 0 0 0 0 0 0 0 1 0 0 0 0 0 0 0 0 0 0 0 0 0 0 0 0]\n",
      " [0 0 0 0 0 0 0 0 0 0 0 1 0 0 0 0 0 0 0 0 0 0 0 0 0 0 0]\n",
      " [0 0 0 0 0 0 0 0 0 0 0 0 1 0 0 0 0 0 0 0 0 0 0 0 0 0 0]\n",
      " [0 0 0 0 0 0 0 0 0 0 0 0 0 1 0 0 0 0 0 0 0 0 0 0 0 0 0]\n",
      " [0 0 0 0 0 0 0 0 0 0 0 0 0 0 1 0 0 0 0 0 0 0 0 0 0 0 0]\n",
      " [0 0 0 0 0 0 0 0 0 0 0 0 0 0 0 0 0 0 0 0 0 1 0 0 0 0 0]\n",
      " [0 0 0 0 0 0 0 0 0 0 0 0 0 0 0 0 0 0 0 0 0 0 1 0 0 0 0]\n",
      " [0 0 0 0 0 0 0 0 0 0 0 0 0 0 0 0 0 0 0 0 0 0 0 1 0 0 0]\n",
      " [0 0 0 0 0 0 0 0 0 0 0 0 0 0 0 0 0 0 0 0 0 0 0 0 1 0 0]\n",
      " [0 0 0 0 0 0 0 0 0 0 0 0 0 0 0 0 0 0 0 0 0 0 0 0 0 1 0]\n",
      " [0 0 0 0 0 0 0 0 0 0 0 0 0 0 0 0 0 0 0 0 0 0 0 0 0 0 1]\n",
      " [0 0 0 0 0 0 0 0 0 0 0 0 0 0 0 0 0 0 1 0 0 0 0 0 0 0 0]\n",
      " [0 0 0 0 0 0 0 0 0 0 0 0 0 0 0 0 0 0 0 1 0 0 0 0 0 0 0]\n",
      " [0 0 0 0 0 0 0 0 0 0 0 0 0 0 0 0 0 0 0 0 1 0 0 0 0 0 0]]\n"
     ]
    }
   ],
   "source": [
    "d=3; N=3; t=1; c=0; cnot = cnot_qudits(d,N,t,c); print(cnot) # ok"
   ]
  },
  {
   "cell_type": "code",
   "execution_count": null,
   "id": "03325677-78a9-41c1-a414-c434b5f76652",
   "metadata": {},
   "outputs": [],
   "source": []
  }
 ],
 "metadata": {
  "kernelspec": {
   "display_name": "Python 3 (ipykernel)",
   "language": "python",
   "name": "python3"
  },
  "language_info": {
   "codemirror_mode": {
    "name": "ipython",
    "version": 3
   },
   "file_extension": ".py",
   "mimetype": "text/x-python",
   "name": "python",
   "nbconvert_exporter": "python",
   "pygments_lexer": "ipython3",
   "version": "3.11.1"
  }
 },
 "nbformat": 4,
 "nbformat_minor": 5
}
