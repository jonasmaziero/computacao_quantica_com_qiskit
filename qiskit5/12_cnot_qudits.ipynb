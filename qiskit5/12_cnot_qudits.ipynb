{
 "cells": [
  {
   "cell_type": "markdown",
   "id": "c1642e47-18de-4971-ad5d-19cacf43ab3f",
   "metadata": {},
   "source": [
    "### Notas de aula de Computação Quântica <br> Autor: Jonas Maziero"
   ]
  },
  {
   "cell_type": "markdown",
   "id": "11628662",
   "metadata": {},
   "source": [
    "# CNOT para qudits - Mais detalhes\n",
    "\n",
    "A porta CNOT para qudits é definida como\n",
    "$$C_{Xd}^{a\\rightarrow b} \\equiv C_{Xd} = \\sum_{j=0}^{d-1}|j\\rangle\\langle j|\\otimes X(j),$$\n",
    "em que o operador de deslocamento de estado é dado por\n",
    "$$X(j)|k\\rangle = |j\\oplus k\\rangle \\equiv |(j+k)\\mod(d)\\rangle.$$\n",
    "Essa porta CNOT leva da base computacional, de 2 qudits, para a base de Bell generalizada, como esperado.\n",
    "\n",
    "Os elementos de matriz desse operador CNOT são então\n",
    "\\begin{align}\n",
    "\\langle l\\ m|C_{Xd}|p\\ q\\rangle & = \\langle l|\\otimes\\langle m|\\Big(\\sum_{j=0}^{d-1}|j\\rangle\\langle j|\\otimes X(j)\\Big)|p\\rangle\\otimes| q\\rangle \\\\\n",
    "& = \\sum_{j=0}^{d-1}\\langle l|j\\rangle\\langle j|p\\rangle\\otimes \\langle m|X(j)| q\\rangle \\\\\n",
    "& = \\sum_{j=0}^{d-1}\\delta_{l,j}\\delta_{j,p} \\langle m|j\\oplus q\\rangle \\\\\n",
    "& = \\sum_{j=0}^{d-1}\\delta_{l,j}\\delta_{j,p}\\delta_{m,j\\oplus q} \\\\\n",
    "& = \\sum_{j=0}^{d-1}\\delta_{j,l}\\delta_{j,p}\\delta_{j,m\\ominus q}.\n",
    "\\end{align}"
   ]
  },
  {
   "cell_type": "markdown",
   "id": "4da9a5df-2f60-461f-b180-75b52e8edc2b",
   "metadata": {},
   "source": [
    "Acima eu assumi que a subtração módulo $d$ é a operação inversa da soma módulo $d$ (acho que isso não é tão simples assim). Com essa suposição, vemos prontamente que\n",
    "\\begin{align}\n",
    "& l\\ne p\\ \\Rightarrow\\ \\langle l\\ m|C_{Xd}|p\\ q\\rangle=0, \\\\\n",
    "& l\\ne m\\ominus q\\ \\Rightarrow\\ \\langle l\\ m|C_{Xd}|p\\ q\\rangle=0, \\\\\n",
    "& p\\ne m\\ominus q\\ \\Rightarrow\\ \\langle l\\ m|C_{Xd}|p\\ q\\rangle=0, \\\\\n",
    "& l=p= m\\ominus q\\ \\Rightarrow\\ \\langle l\\ m|C_{Xd}|p\\ q\\rangle=1.\n",
    "\\end{align}\n",
    "A última igualdade segue pois só pode haver um valor de $j$ que satisfaz tal condição.\n",
    "\n",
    "Notando-se que o único elemento não nulo do projetor $P_j = |j\\rangle\\langle j|$ é o elemento diagonal $(P_j)_{jj}$, vemos que a forma geral da control not em dimensão $d$ é seguinte matriz bloco-diagonal:\n",
    "$$C_{Xd} = \\begin{bmatrix} I_d & 0_d & 0_d & \\cdots & 0_d \\\\ 0_d & X(1) & 0_d & \\cdots & 0_d \\\\ 0_d & 0_d & X(2) & \\cdots & 0_d \\\\ \\vdots & \\vdots & \\vdots & \\ddots & \\vdots \\\\ 0_d & 0_d & 0_d & \\cdots & X(d-1)  \\end{bmatrix},$$\n",
    "em que $I_d$ é a matriz identidade $d\\times d$ e $0_d$ é a matriz nula $d\\times d$."
   ]
  },
  {
   "cell_type": "markdown",
   "id": "c36c607d-1141-4a0d-a9d5-893f03e8a298",
   "metadata": {},
   "source": [
    "Vejamos como passar da base computacional de 2 qudits para a base computacional de um sistema de dimensão $d^2$, e vicê versa. Para 2 qudits o ordenamento é como esperado, ou seja, se usamos\n",
    "$$|l\\ m\\rangle\\ \\rightarrow |l\\times d^1 + m\\times d^0\\rangle$$\n",
    "teremos os estados da base computacional composta já ordenados\n",
    "$$|0\\rangle,|1\\rangle,\\cdots,|d^2-1\\rangle.$$\n",
    "Por exemplo\n",
    "\\begin{align}\n",
    "& d=2:\\ \\{|00\\rangle,|01\\rangle,|10\\rangle,|11\\rangle\\}\\equiv\\{|0\\rangle,|1\\rangle,|2\\rangle,|3\\rangle\\}, \\\\\n",
    "& d=3:\\ \\{|00\\rangle,|01\\rangle,|02\\rangle,|10\\rangle\\,|11\\rangle,|12\\rangle,|20\\rangle,|21\\rangle,|22\\rangle\\} \\equiv \\{|0\\rangle,|1\\rangle,|2\\rangle,|3\\rangle\\,|4\\rangle,|5\\rangle,|6\\rangle,|7\\rangle,|8\\rangle\\}, \\\\\n",
    "\\end{align}"
   ]
  },
  {
   "cell_type": "markdown",
   "id": "5b9e4428-b6b6-45c0-8a42-2a63ef31157a",
   "metadata": {},
   "source": [
    "Aplicando as restrições\n",
    "$$l=p=j,\\ m=(j+q)\\mod d=(p+q)\\mod d$$ \n",
    "vemos que os elementos de matriz não nulos da CNOT são\n",
    "$$\\langle pd+(p+q)\\mod d|C_{Xd}|pd+q\\rangle = 1$$\n",
    "com \n",
    "$$p,q=0,1,\\cdots,d-1.$$ \n",
    "Ou seja, existem \n",
    "$$d^2 \\text{ elementos de matriz não nulos}.$$\n",
    "Abaixo está o código para gerar esses elementos de matrix. Verifiquei analiticamente que os resultados estão certos até $d=4.$"
   ]
  },
  {
   "cell_type": "code",
   "execution_count": 11,
   "id": "dbc42db0",
   "metadata": {},
   "outputs": [],
   "source": [
    "import numpy as np\n",
    "\n",
    "def cnot_matrix_ab(d):\n",
    "        cn = np.zeros((d**2,d**2),dtype=int)\n",
    "        for p in range(0,d): # d^2 elementos não nulos\n",
    "            for q in range(0,d):\n",
    "                cn[p*d+(p+q)%d,p*d+q] = 1\n",
    "        return cn"
   ]
  },
  {
   "cell_type": "code",
   "execution_count": 12,
   "id": "49d27816-8835-48bc-a695-ed4cfcad32fa",
   "metadata": {},
   "outputs": [
    {
     "name": "stdout",
     "output_type": "stream",
     "text": [
      "[[1 0 0 0]\n",
      " [0 1 0 0]\n",
      " [0 0 0 1]\n",
      " [0 0 1 0]]\n"
     ]
    }
   ],
   "source": [
    "d=2; cn = cnot_matrix_ab(d); print(cn)"
   ]
  },
  {
   "cell_type": "code",
   "execution_count": 13,
   "id": "6e2a29a8",
   "metadata": {},
   "outputs": [
    {
     "name": "stdout",
     "output_type": "stream",
     "text": [
      "[[1 0 0 0 0 0 0 0 0]\n",
      " [0 1 0 0 0 0 0 0 0]\n",
      " [0 0 1 0 0 0 0 0 0]\n",
      " [0 0 0 0 0 1 0 0 0]\n",
      " [0 0 0 1 0 0 0 0 0]\n",
      " [0 0 0 0 1 0 0 0 0]\n",
      " [0 0 0 0 0 0 0 1 0]\n",
      " [0 0 0 0 0 0 0 0 1]\n",
      " [0 0 0 0 0 0 1 0 0]]\n"
     ]
    }
   ],
   "source": [
    "d=3; cn = cnot_matrix_ab(d); print(cn)"
   ]
  },
  {
   "cell_type": "code",
   "execution_count": 14,
   "id": "1ab8fd95",
   "metadata": {},
   "outputs": [
    {
     "name": "stdout",
     "output_type": "stream",
     "text": [
      "[[1 0 0 0 0 0 0 0 0 0 0 0 0 0 0 0]\n",
      " [0 1 0 0 0 0 0 0 0 0 0 0 0 0 0 0]\n",
      " [0 0 1 0 0 0 0 0 0 0 0 0 0 0 0 0]\n",
      " [0 0 0 1 0 0 0 0 0 0 0 0 0 0 0 0]\n",
      " [0 0 0 0 0 0 0 1 0 0 0 0 0 0 0 0]\n",
      " [0 0 0 0 1 0 0 0 0 0 0 0 0 0 0 0]\n",
      " [0 0 0 0 0 1 0 0 0 0 0 0 0 0 0 0]\n",
      " [0 0 0 0 0 0 1 0 0 0 0 0 0 0 0 0]\n",
      " [0 0 0 0 0 0 0 0 0 0 1 0 0 0 0 0]\n",
      " [0 0 0 0 0 0 0 0 0 0 0 1 0 0 0 0]\n",
      " [0 0 0 0 0 0 0 0 1 0 0 0 0 0 0 0]\n",
      " [0 0 0 0 0 0 0 0 0 1 0 0 0 0 0 0]\n",
      " [0 0 0 0 0 0 0 0 0 0 0 0 0 1 0 0]\n",
      " [0 0 0 0 0 0 0 0 0 0 0 0 0 0 1 0]\n",
      " [0 0 0 0 0 0 0 0 0 0 0 0 0 0 0 1]\n",
      " [0 0 0 0 0 0 0 0 0 0 0 0 1 0 0 0]]\n"
     ]
    }
   ],
   "source": [
    "d=4; cn = cnot_matrix_ab(d); print(cn)"
   ]
  },
  {
   "cell_type": "markdown",
   "id": "d8915865",
   "metadata": {},
   "source": [
    "\n"
   ]
  },
  {
   "cell_type": "markdown",
   "id": "6d2f8180-63d9-4d2d-93ea-5582437f040f",
   "metadata": {},
   "source": [
    "Pode-se verificar também que para\n",
    "$$C_{Xd}^{b\\rightarrow a} = \\sum_{j=0}^{d-1}X(j)\\otimes |j\\rangle\\langle j|$$\n",
    "teremos os elementos de matrix dados por\n",
    "$$\\langle l\\ m|C_{Xd}^{b\\rightarrow a}|p\\ q\\rangle = \\sum_{j=0}^{d-1}\\delta_{l,j\\oplus p}\\delta_{m,j}\\delta_{j,q}. $$\n",
    "Então para ter um elemento não nulo devemos ter\n",
    "$$j=m=q,\\ l=j\\oplus p = q\\oplus p. $$\n",
    "Então os elementos não nulos são\n",
    "$$\\langle (q\\oplus p)d+q|C_{Xd}^{b\\rightarrow a}|pd+q\\rangle = 1. $$"
   ]
  },
  {
   "cell_type": "code",
   "execution_count": 17,
   "id": "db7f2767-f1e7-433c-bbfe-4fc750782a58",
   "metadata": {},
   "outputs": [],
   "source": [
    "import numpy as np\n",
    "\n",
    "def cnot_matrix(d, ctr):\n",
    "    cn = np.zeros((d**2,d**2),dtype=int)\n",
    "    if ctr == 'a':        \n",
    "        for p in range(0,d):\n",
    "            for q in range(0,d):\n",
    "                cn[p*d+(p+q)%d,p*d+q] = 1\n",
    "    elif ctr == 'b':\n",
    "        for p in range(0,d):\n",
    "            for q in range(0,d):\n",
    "                cn[((q+p)%d)*d+q,p*d+q] = 1\n",
    "    return cn"
   ]
  },
  {
   "cell_type": "code",
   "execution_count": 24,
   "id": "65bdc298-671e-420c-af74-81d43c818038",
   "metadata": {},
   "outputs": [
    {
     "name": "stdout",
     "output_type": "stream",
     "text": [
      "[[1 0 0 0]\n",
      " [0 0 0 1]\n",
      " [0 0 1 0]\n",
      " [0 1 0 0]]\n"
     ]
    }
   ],
   "source": [
    "d=2; print(cnot_matrix(d, 'b')) # ok!"
   ]
  },
  {
   "cell_type": "code",
   "execution_count": 23,
   "id": "37db9083-a2d6-498d-af26-815cda3e662a",
   "metadata": {},
   "outputs": [
    {
     "name": "stdout",
     "output_type": "stream",
     "text": [
      "[[1 0 0 0 0 0 0 0 0]\n",
      " [0 0 0 0 0 0 0 1 0]\n",
      " [0 0 0 0 0 1 0 0 0]\n",
      " [0 0 0 1 0 0 0 0 0]\n",
      " [0 1 0 0 0 0 0 0 0]\n",
      " [0 0 0 0 0 0 0 0 1]\n",
      " [0 0 0 0 0 0 1 0 0]\n",
      " [0 0 0 0 1 0 0 0 0]\n",
      " [0 0 1 0 0 0 0 0 0]]\n"
     ]
    }
   ],
   "source": [
    "d=3; print(cnot_matrix(d, 'b'))"
   ]
  },
  {
   "cell_type": "code",
   "execution_count": null,
   "id": "cb9cf6d3-5773-4bad-a188-93900b875d0e",
   "metadata": {},
   "outputs": [],
   "source": []
  }
 ],
 "metadata": {
  "kernelspec": {
   "display_name": "Python 3 (ipykernel)",
   "language": "python",
   "name": "python3"
  },
  "language_info": {
   "codemirror_mode": {
    "name": "ipython",
    "version": 3
   },
   "file_extension": ".py",
   "mimetype": "text/x-python",
   "name": "python",
   "nbconvert_exporter": "python",
   "pygments_lexer": "ipython3",
   "version": "3.11.1"
  }
 },
 "nbformat": 4,
 "nbformat_minor": 5
}
