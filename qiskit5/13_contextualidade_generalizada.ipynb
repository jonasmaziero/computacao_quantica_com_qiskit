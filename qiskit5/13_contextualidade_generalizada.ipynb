{
 "cells": [
  {
   "cell_type": "markdown",
   "id": "e6cc2eb7-5e50-4794-8808-5ef2ef8b6c78",
   "metadata": {},
   "source": [
    "### Notas de aula de Computação Quântica <br> Autor: Jonas Maziero\n",
    "\n",
    "# Contextualidade generalizada\n",
    "\n",
    "## Teorias operacionais\n",
    "\n",
    "Dado um procedimento de preparação $P$ e um procedimento de medida $M$, uma teoria operacional (TO) é um algoritmo para calcular as probabilidades\n",
    "$$p(x|M,P),$$\n",
    "onde $x$ são os possíveis resultados da medida $M$.\n"
   ]
  },
  {
   "cell_type": "markdown",
   "id": "a34753fb-82b3-4cb7-a474-c9f6e1fcf505",
   "metadata": {},
   "source": [
    "## Modelo ontológico\n",
    "\n",
    "Um modelo ontológio (MO) é uma maneira de explicar as estatísticas obtidas em uma TO. Podemos dizer que o MO conecta causalmente $P$ e $M$ através de propriedades física pré-definidas através de estados ônticos $\\lambda$ (ôntico = relatico a ser). O espaço de estados ônticos é denotado por $\\Lambda$.\n",
    "\n",
    "Ao desenvolver o MO, não precisamos descrever cada preparação da TO através de um único estado ôntico. Podemos, de forma não determinística subjetiva, associar uma preparação ao uma distribuição de probabilidades\n",
    "$$P\\rightarrow \\mu(\\lambda,P).$$\n",
    "Os estados ônticos determinam, de forma não necessariamente determinística, os resultados dos procedimentos de medida da TO:\n",
    "$$M\\rightarrow \\xi(x|M,\\lambda).$$\n",
    "Essa distribuição de probabilidade $\\xi$ é muitas vezes chamada de função resposta."
   ]
  },
  {
   "cell_type": "markdown",
   "id": "fb4b51dd-32d6-4f43-b151-8d8e798e222b",
   "metadata": {},
   "source": [
    "## Não contextualidade de preparação\n",
    "\n",
    "A seguir usamos a ideia de que 2 procedimentos experimentais equivalentes na TO devem ter representados representações equivalentes no MO.\n",
    "\n",
    "### Preparação equivalentes\n",
    "\n",
    "Dizemos que 2 preparações $P$ e $P'$ (denotado por $P\\simeq P'$) são equivalentes levam à mesma distribuição de probabilidades para todos os procedimentos possíveis de medida:\n",
    "$$P\\simeq P'\\ \\text{if}\\ p(x|M,P)=p(x|M,P')\\ \\forall M.$$\n",
    "\n",
    "Por exemplo, os estados $\\rho=2^{-1}|0\\rangle\\rangle 0|+2^{-1}|1\\rangle\\rangle 1|$ e $\\rho=2^{-1}|+\\rangle\\rangle +|+2^{-1}|-\\rangle\\rangle -|$, com $|\\pm\\rangle=2^{-1/2}(|0\\rangle\\pm|1\\rangle)$, levam à mesma distribuição de probabilidades para qualquer medida. A diferenças entres os detalhes de preparação indicam diferentes __contextos__. \n",
    "\n",
    "### Modelo não contextual de preparação\n",
    "\n",
    "Um MO é dito não contextual se atribui os mesmos estados ônticos para preparações equivalentes na TO:\n",
    "$$\\mu(\\lambda,P)=\\mu(\\lambda,P').$$\n",
    "Caso contrário o MO é dito contextual."
   ]
  },
  {
   "cell_type": "markdown",
   "id": "15dc30e3-54d1-439b-a629-44d9913271d9",
   "metadata": {},
   "source": [
    "## Não contextualidade de medida"
   ]
  },
  {
   "cell_type": "code",
   "execution_count": null,
   "id": "83615020-9e4b-419d-8c7e-fd550ec311f4",
   "metadata": {},
   "outputs": [],
   "source": []
  }
 ],
 "metadata": {
  "kernelspec": {
   "display_name": "Python 3 (ipykernel)",
   "language": "python",
   "name": "python3"
  },
  "language_info": {
   "codemirror_mode": {
    "name": "ipython",
    "version": 3
   },
   "file_extension": ".py",
   "mimetype": "text/x-python",
   "name": "python",
   "nbconvert_exporter": "python",
   "pygments_lexer": "ipython3",
   "version": "3.11.1"
  }
 },
 "nbformat": 4,
 "nbformat_minor": 5
}
