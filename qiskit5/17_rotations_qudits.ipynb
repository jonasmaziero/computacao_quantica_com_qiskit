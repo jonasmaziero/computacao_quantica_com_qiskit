{
 "cells": [
  {
   "cell_type": "markdown",
   "id": "ecdfab65-7ae4-47f5-9232-6eca34816957",
   "metadata": {},
   "source": [
    "### Notas de aula de Computação Quântica <br> Autor: Jonas Maziero\n",
    "\n",
    "# Portas de rotação para qudits\n",
    "\n",
    "Vamos começar escrevendo as matrizes de Gell-Mann generalizadas para qudits:\n",
    "\\begin{align}\n",
    "& S_x^{j,k} = |j\\rangle\\langle k| + |k\\rangle\\langle j|,\\ 1\\le j< k\\le d,\\\\ \n",
    "& S_y^{j,k} = -i|j\\rangle\\langle k| + i|k\\rangle\\langle j|,\\ 1\\le j< k\\le d,\\\\\n",
    "& S_z^{j} = \\sum_{k=1}^{j+1}\\sqrt{\\frac{2}{j(j+1)}}(-j)^{\\delta_{k,j+1}}|k\\rangle\\langle k|,\\ j=1,\\cdots,d-1. \n",
    "\\end{align}\n",
    "\n",
    "As matrizes de rotação são então definidas por\n",
    "$$R_\\alpha^{j,k}(\\theta) = e^{-i\\theta S_\\alpha^{j,k}/2},$$\n",
    "com $\\alpha=x,y,z.$"
   ]
  },
  {
   "cell_type": "markdown",
   "id": "bf2cc654-0a20-4ea9-9007-7e1424c57a4e",
   "metadata": {},
   "source": [
    "## Matrizes de Gell-Mann"
   ]
  },
  {
   "cell_type": "code",
   "execution_count": 44,
   "id": "9ff80ffd-4fc5-4cb1-842a-fcd21a8fc0ac",
   "metadata": {},
   "outputs": [],
   "source": [
    "import numpy as np\n",
    "import math"
   ]
  },
  {
   "cell_type": "code",
   "execution_count": 52,
   "id": "29e68686-5024-4481-910c-b19890929fed",
   "metadata": {},
   "outputs": [],
   "source": [
    "def Sx(j,k,d):\n",
    "    # d = qudit dimension\n",
    "    # j,k = identification of the Gell-Mann matrix\n",
    "    # th = rotation angle\n",
    "    j = j-1; k = k-1\n",
    "    sx = np.zeros((d,d), dtype=complex)\n",
    "    sx[j,k] = 1\n",
    "    sx[k,j] = sx[j,k]\n",
    "    return sx\n",
    "\n",
    "def Sy(j,k,d):\n",
    "    # d = qudit dimension\n",
    "    # j,k = identification of the Gell-Mann matrix\n",
    "    # th = rotation angle\n",
    "    j = j-1; k = k-1\n",
    "    sy = np.zeros((d,d), dtype=complex)\n",
    "    sy[j,k] = -1j\n",
    "    sy[k,j] = -sy[j,k]\n",
    "    return sy\n",
    "\n",
    "def Sz(j,d):\n",
    "    # d = qudit dimension\n",
    "    # j = identification of the Gell-Mann matrix\n",
    "    # th = rotation angle\n",
    "    sz = np.zeros((d,d), dtype=complex)\n",
    "    for k in range(0,j+1):\n",
    "        sz[k,k] = math.sqrt(2/(j*(j+1)))\n",
    "        if k == j: # corrige para iniciar k em 0\n",
    "            sz[k,k] = sz[k,k]*(-j)\n",
    "    return sz"
   ]
  },
  {
   "cell_type": "code",
   "execution_count": 53,
   "id": "bd5be8c1-6457-43d2-8d31-06f422c1f37e",
   "metadata": {},
   "outputs": [
    {
     "data": {
      "text/plain": [
       "(array([[0.+0.j, 1.+0.j],\n",
       "        [1.+0.j, 0.+0.j]]),\n",
       " array([[ 0.+0.j, -0.-1.j],\n",
       "        [ 0.+1.j,  0.+0.j]]),\n",
       " array([[ 1.+0.j,  0.+0.j],\n",
       "        [ 0.+0.j, -1.+0.j]]))"
      ]
     },
     "execution_count": 53,
     "metadata": {},
     "output_type": "execute_result"
    }
   ],
   "source": [
    "d = 2; j = 1; k = 2; Sx(j,k,d), Sy(j,k,d), Sz(j,d)"
   ]
  },
  {
   "cell_type": "code",
   "execution_count": 54,
   "id": "91669252-c71a-494f-bf83-d0bd95300e19",
   "metadata": {},
   "outputs": [
    {
     "data": {
      "text/plain": [
       "(array([[0.+0.j, 1.+0.j, 0.+0.j],\n",
       "        [1.+0.j, 0.+0.j, 0.+0.j],\n",
       "        [0.+0.j, 0.+0.j, 0.+0.j]]),\n",
       " array([[0.+0.j, 0.+0.j, 1.+0.j],\n",
       "        [0.+0.j, 0.+0.j, 0.+0.j],\n",
       "        [1.+0.j, 0.+0.j, 0.+0.j]]),\n",
       " array([[0.+0.j, 0.+0.j, 0.+0.j],\n",
       "        [0.+0.j, 0.+0.j, 1.+0.j],\n",
       "        [0.+0.j, 1.+0.j, 0.+0.j]]))"
      ]
     },
     "execution_count": 54,
     "metadata": {},
     "output_type": "execute_result"
    }
   ],
   "source": [
    "d = 3; Sx(1,2,d), Sx(1,3,d), Sx(2,3,d)"
   ]
  },
  {
   "cell_type": "code",
   "execution_count": 55,
   "id": "053137f3-4099-4b02-8d6c-f0404dac6ee2",
   "metadata": {},
   "outputs": [
    {
     "data": {
      "text/plain": [
       "(array([[ 0.+0.j, -0.-1.j,  0.+0.j],\n",
       "        [ 0.+1.j,  0.+0.j,  0.+0.j],\n",
       "        [ 0.+0.j,  0.+0.j,  0.+0.j]]),\n",
       " array([[ 0.+0.j,  0.+0.j, -0.-1.j],\n",
       "        [ 0.+0.j,  0.+0.j,  0.+0.j],\n",
       "        [ 0.+1.j,  0.+0.j,  0.+0.j]]),\n",
       " array([[ 0.+0.j,  0.+0.j,  0.+0.j],\n",
       "        [ 0.+0.j,  0.+0.j, -0.-1.j],\n",
       "        [ 0.+0.j,  0.+1.j,  0.+0.j]]))"
      ]
     },
     "execution_count": 55,
     "metadata": {},
     "output_type": "execute_result"
    }
   ],
   "source": [
    "d = 3; Sy(1,2,d), Sy(1,3,d), Sy(2,3,d)"
   ]
  },
  {
   "cell_type": "code",
   "execution_count": 56,
   "id": "1be61c9a-7cc3-493f-936f-8e2798f24118",
   "metadata": {},
   "outputs": [
    {
     "data": {
      "text/plain": [
       "(array([[ 1.+0.j,  0.+0.j,  0.+0.j],\n",
       "        [ 0.+0.j, -1.+0.j,  0.+0.j],\n",
       "        [ 0.+0.j,  0.+0.j,  0.+0.j]]),\n",
       " array([[ 0.57735027+0.j,  0.        +0.j,  0.        +0.j],\n",
       "        [ 0.        +0.j,  0.57735027+0.j,  0.        +0.j],\n",
       "        [ 0.        +0.j,  0.        +0.j, -1.15470054+0.j]]))"
      ]
     },
     "execution_count": 56,
     "metadata": {},
     "output_type": "execute_result"
    }
   ],
   "source": [
    "d = 3; Sz(1,d), Sz(2,d)"
   ]
  },
  {
   "cell_type": "code",
   "execution_count": 58,
   "id": "986089ff-c53b-41fe-b872-ef6f33242a3d",
   "metadata": {},
   "outputs": [
    {
     "data": {
      "text/plain": [
       "(0.5773502691896258, -1.1547005383792517)"
      ]
     },
     "execution_count": 58,
     "metadata": {},
     "output_type": "execute_result"
    }
   ],
   "source": [
    "1/math.sqrt(3), -2/math.sqrt(3)"
   ]
  },
  {
   "cell_type": "markdown",
   "id": "4e56bac9-4cb7-4150-8865-b5cc1176ca07",
   "metadata": {},
   "source": [
    "## $d=2$\n",
    "Nesse caso temos uma única possibilidade em cada \"direção\":\n",
    "\\begin{align}\n",
    "& S_x^{1,2} = |1\\rangle\\langle 2| + |2\\rangle\\langle 1| = \\begin{bmatrix}0&1\\\\1&0\\end{bmatrix} = |+\\rangle\\langle +| - |-\\rangle\\langle -|, \\\\ \n",
    "& S_y^{1,2} = -i|1\\rangle\\langle 2| + i|2\\rangle\\langle 1| = \\begin{bmatrix}0&-i\\\\i&0\\end{bmatrix} = |\\oplus\\rangle\\langle \\oplus| - |\\ominus\\rangle\\langle \\ominus|, \\\\\n",
    "& S_z^{1} = \\sum_{k=1}^{1+1}\\sqrt{\\frac{2}{1(1+1)}}(-1)^{\\delta_{k,1+1}}|k\\rangle\\langle k| = \\sum_{k=1}^{2}\\sqrt{1}(-1)^{\\delta_{k,2}}|k\\rangle\\langle k| = |1\\rangle\\langle 1| - |2\\rangle\\langle 2| = \\begin{bmatrix}1&0\\\\0&1\\end{bmatrix}, \n",
    "\\end{align}\n",
    "em que\n",
    "\\begin{align}\n",
    "& |\\pm\\rangle = (|1\\rangle \\pm |2\\rangle)/\\sqrt{2}, \\\\\n",
    "& |\\oplus\\rangle = (|1\\rangle + i |2\\rangle)/\\sqrt{2}, \\\\\n",
    "& |\\ominus\\rangle = (|1\\rangle - i |2\\rangle)/\\sqrt{2}.\n",
    "\\end{align}"
   ]
  },
  {
   "cell_type": "markdown",
   "id": "1cd54a69-6741-409a-b4e2-0b2d2e94758c",
   "metadata": {},
   "source": [
    "As matrizes de rotação correspondentes são\n",
    "\\begin{align}\n",
    "R_x^{1,2}(\\theta) & = e^{-i\\theta S_x^{1,2}/2} = e^{(-i\\theta/2)(|+\\rangle\\langle +| - |-\\rangle\\langle -|)} \\\\ \n",
    "& = e^{-i\\theta/2}|+\\rangle\\langle +| + e^{i\\theta/2}|-\\rangle\\langle -| \\\\ \n",
    "& = e^{-i\\theta/2}(|1\\rangle\\langle 1|+|1\\rangle\\langle 2|+|2\\rangle\\langle 1|+|2\\rangle\\langle 2|)/2 + e^{i\\theta/2}(|1\\rangle\\langle 1|-|1\\rangle\\langle 2|-|2\\rangle\\langle 1|+|2\\rangle\\langle 2|)/2 \\\\\n",
    "& = \\frac{e^{-i\\theta/2}+e^{i\\theta/2}}{2}(|1\\rangle\\langle 1|+|2\\rangle\\langle 2|) + \\frac{e^{-i\\theta/2}-e^{i\\theta/2}}{2}(|1\\rangle\\langle 2|+|2\\rangle\\langle 1|) \\\\\n",
    "& = \\cos(\\theta/2)(|1\\rangle\\langle 1|+|2\\rangle\\langle 2|) -i\\sin(\\theta/2)(|1\\rangle\\langle 2|+|2\\rangle\\langle 1|) \\\\\n",
    "& = \\begin{bmatrix}\\cos(\\theta/2)&-i\\sin(\\theta/2)\\\\-i\\sin(\\theta/2)&\\cos(\\theta/2)\\end{bmatrix},\\\\\n",
    "R_y^{1,2}(\\theta) & = e^{-i\\theta S_y^{1,2}/2} = e^{(-i\\theta/2)(|\\oplus\\rangle\\langle \\oplus| - |\\ominus\\rangle\\langle \\ominus|)} \\\\ \n",
    "& = e^{-i\\theta/2}|\\oplus\\rangle\\langle \\oplus| + e^{i\\theta/2}|\\ominus\\rangle\\langle \\ominus| \\\\ \n",
    "& = e^{-i\\theta/2}(|1\\rangle\\langle 1|-i|1\\rangle\\langle 2|+i|2\\rangle\\langle 1|+|2\\rangle\\langle 2|)/2 + e^{i\\theta/2}(|1\\rangle\\langle 1|+i|1\\rangle\\langle 2|-i|2\\rangle\\langle 1|+|2\\rangle\\langle 2|)/2 \\\\\n",
    "& = \\frac{e^{-i\\theta/2}+e^{i\\theta/2}}{2}(|1\\rangle\\langle 1|+|2\\rangle\\langle 2|) + \\frac{e^{-i\\theta/2}-e^{i\\theta/2}}{2}(-i|1\\rangle\\langle 2|+i|2\\rangle\\langle 1|) \\\\\n",
    "& = \\cos(\\theta/2)(|1\\rangle\\langle 1|+|2\\rangle\\langle 2|) -i\\sin(\\theta/2)(-i|1\\rangle\\langle 2|+i|2\\rangle\\langle 1|) \\\\\n",
    "& = \\begin{bmatrix}\\cos(\\theta/2)&-\\sin(\\theta/2)\\\\ \\sin(\\theta/2)&\\cos(\\theta/2)\\end{bmatrix},\\\\\n",
    "R_z^{1}(\\theta) & = e^{-i\\theta S_z^{1}/2} = e^{(-i\\theta/2)(|1\\rangle\\langle 1| - |2\\rangle\\langle 2|)} \\\\ \n",
    "& = e^{-i\\theta/2}|1\\rangle\\langle 1| + e^{i\\theta/2}|2\\rangle\\langle 2| \\\\ \n",
    "& = \\begin{bmatrix}e^{-i\\theta/2}&0\\\\ 0&e^{i\\theta/2}\\end{bmatrix}.\n",
    "\\end{align}"
   ]
  },
  {
   "cell_type": "markdown",
   "id": "a466a358-1a1a-4660-9b5d-45ec3bde1c7a",
   "metadata": {},
   "source": [
    "## d=3\n",
    "\n",
    "Nesse caso, vamos fazer só alguns exemplos para notar o padrão geral:\n",
    "\\begin{align}\n",
    "& S_x^{1,2} = |1\\rangle\\langle 2| + |2\\rangle\\langle 1| = \\begin{bmatrix}0&1&0\\\\1&0&0\\\\0&0&0\\end{bmatrix} = |+\\rangle\\langle +| - |-\\rangle\\langle -| + (0)|3\\rangle\\langle 3|,  \n",
    "\\end{align}\n",
    "em que\n",
    "\\begin{align}\n",
    "|\\pm\\rangle = (|1\\rangle \\pm |2\\rangle)/\\sqrt{2}.\n",
    "\\end{align}\n",
    "\n",
    "Teremos assim que\n",
    "\\begin{align}\n",
    "R_x^{1,2}(\\theta) & = e^{-i\\theta S_x^{1,2}/2} = e^{(-i\\theta/2)(|+\\rangle\\langle +| - |-\\rangle\\langle -| + (0)|3\\rangle\\langle 3|)} \\\\ \n",
    "& = e^{-i\\theta/2}|+\\rangle\\langle +| + e^{i\\theta/2}|-\\rangle\\langle -| + e^{0}|3\\rangle\\langle 3| \\\\ \n",
    "& = e^{-i\\theta/2}(|1\\rangle\\langle 1|+|1\\rangle\\langle 2|+|2\\rangle\\langle 1|+|2\\rangle\\langle 2|)/2 + e^{i\\theta/2}(|1\\rangle\\langle 1|-|1\\rangle\\langle 2|-|2\\rangle\\langle 1|+|2\\rangle\\langle 2|)/2  + |3\\rangle\\langle 3| \\\\\n",
    "& = \\frac{e^{-i\\theta/2}+e^{i\\theta/2}}{2}(|1\\rangle\\langle 1|+|2\\rangle\\langle 2|) + \\frac{e^{-i\\theta/2}-e^{i\\theta/2}}{2}(|1\\rangle\\langle 2|+|2\\rangle\\langle 1|)  + |3\\rangle\\langle 3| \\\\\n",
    "& = \\cos(\\theta/2)(|1\\rangle\\langle 1|+|2\\rangle\\langle 2|) -i\\sin(\\theta/2)(|1\\rangle\\langle 2|+|2\\rangle\\langle 1|)  + |3\\rangle\\langle 3| \\\\\n",
    "& = \\begin{bmatrix}\\cos(\\theta/2)&-i\\sin(\\theta/2) & 0 \\\\ -i\\sin(\\theta/2)&\\cos(\\theta/2)&0 \\\\ 0&0&1\\end{bmatrix}.\n",
    "\\end{align}"
   ]
  },
  {
   "cell_type": "markdown",
   "id": "7436f443-c901-48a7-8dbd-497bc7dbd788",
   "metadata": {},
   "source": [
    "## d=4\n",
    "\n",
    "Nesse caso, temos\n",
    "\\begin{align}\n",
    "& S_x^{1,2} = |1\\rangle\\langle 2| + |2\\rangle\\langle 1| = \\begin{bmatrix}0&1&0&0\\\\1&0&0&0\\\\0&0&0&0\\\\0&0&0&0\\end{bmatrix} = |+\\rangle\\langle +| - |-\\rangle\\langle -| + (0)|3\\rangle\\langle 3| + (0)|4\\rangle\\langle 4|,  \n",
    "\\end{align}\n",
    "em que\n",
    "\\begin{align}\n",
    "|\\pm\\rangle = (|1\\rangle \\pm |2\\rangle)/\\sqrt{2}.\n",
    "\\end{align}\n",
    "\n",
    "Teremos assim que\n",
    "\\begin{align}\n",
    "R_x^{1,2}(\\theta) & = e^{-i\\theta S_x^{1,2}/2} = e^{(-i\\theta/2)(|+\\rangle\\langle +| - |-\\rangle\\langle -| + (0)|3\\rangle\\langle 3| + (0)|4\\rangle\\langle 4|)} \\\\ \n",
    "& = e^{-i\\theta/2}|+\\rangle\\langle +| + e^{i\\theta/2}|-\\rangle\\langle -| + e^{0}|3\\rangle\\langle 3| + e^{0}|4\\rangle\\langle 4| \\\\ \n",
    "& = e^{-i\\theta/2}(|1\\rangle\\langle 1|+|1\\rangle\\langle 2|+|2\\rangle\\langle 1|+|2\\rangle\\langle 2|)/2 + e^{i\\theta/2}(|1\\rangle\\langle 1|-|1\\rangle\\langle 2|-|2\\rangle\\langle 1|+|2\\rangle\\langle 2|)/2  + |3\\rangle\\langle 3| + |4\\rangle\\langle 4| \\\\\n",
    "& = \\frac{e^{-i\\theta/2}+e^{i\\theta/2}}{2}(|1\\rangle\\langle 1|+|2\\rangle\\langle 2|) + \\frac{e^{-i\\theta/2}-e^{i\\theta/2}}{2}(|1\\rangle\\langle 2|+|2\\rangle\\langle 1|) + |3\\rangle\\langle 3| + |4\\rangle\\langle 4| \\\\\n",
    "& = \\cos(\\theta/2)(|1\\rangle\\langle 1|+|2\\rangle\\langle 2|) -i\\sin(\\theta/2)(|1\\rangle\\langle 2|+|2\\rangle\\langle 1|) + |3\\rangle\\langle 3| + |4\\rangle\\langle 4| \\\\\n",
    "& = \\begin{bmatrix}\\cos(\\theta/2)&-i\\sin(\\theta/2) & 0 & 0 \\\\ -i\\sin(\\theta/2)&\\cos(\\theta/2)&0&0 \\\\ 0&0&1&0\\\\ 0&0&0&1\\end{bmatrix}.\n",
    "\\end{align}"
   ]
  },
  {
   "cell_type": "markdown",
   "id": "45029a92-511a-44fd-83c9-a45dee2b6012",
   "metadata": {},
   "source": [
    "## Caso geral\n",
    "\n",
    "Esse mesmo padrão vai se repetir para qualquer dimensão. Ou seja, a rotação bidimensional é aplicada no sub-espaço com índeces $j,k$ e a indentidade é aplicada no resto do espaço vetorial. \n",
    "\n",
    "Os elementos não nulos de $R_x^{j,k}$ são\n",
    "\\begin{align}\n",
    "& \\langle j|R_x^{j,k}(\\theta)|j\\rangle = \\langle k|R_x^{j,k}(\\theta)|k\\rangle = \\cos(\\theta/2), \\\\ \n",
    "& \\langle j|R_x^{j,k}(\\theta)|k\\rangle = \\langle k|R_x^{j,k}(\\theta)|j\\rangle = -i\\sin(\\theta/2),\\\\\n",
    "& \\langle l|R_x^{j,k}(\\theta)|l\\rangle = 1;\\ l\\ne j\\ \\text{e}\\ l\\ne k.\n",
    "\\end{align}\n",
    "\n",
    "Os elementos não nulos de $R_y^{j,k}$ são\n",
    "\\begin{align}\n",
    "& \\langle j|R_y^{j,k}(\\theta)|j\\rangle = \\langle k|R_y^{j,k}(\\theta)|k\\rangle = \\cos(\\theta/2), \\\\ \n",
    "& \\langle j|R_y^{j,k}(\\theta)|k\\rangle = -\\langle k|R_y^{j,k}(\\theta)|j\\rangle = -\\sin(\\theta/2),\\\\\n",
    "& \\langle l|R_y^{j,k}(\\theta)|l\\rangle = 1;\\ l\\ne j\\ \\text{e}\\ l\\ne k.\n",
    "\\end{align}\n",
    "\n",
    "Os elementos não nulos de $R_z^{j}$ são\n",
    "\\begin{align}\n",
    "& \\langle k|R_z^{j}(\\theta)|k\\rangle = \\exp\\Big(-i\\frac{\\theta}{2}\\sqrt{\\frac{2}{j(j+1)}}(-j)^{\\delta_{k,j+1}}\\Big);\\ k=1,\\cdots,j+1,\\\\\n",
    "& \\langle k|R_z^{j}(\\theta)|k\\rangle = 1;\\ k=j,\\cdots,d.\n",
    "\\end{align}"
   ]
  },
  {
   "cell_type": "code",
   "execution_count": 65,
   "id": "3d437bd4-30a5-45a3-ac48-9d94e2d2f6af",
   "metadata": {},
   "outputs": [],
   "source": [
    "def Rx(j,k,d,th):\n",
    "    # d = qudit dimension\n",
    "    # j,k = identification of the Gell-Mann matrix\n",
    "    # th = rotation angle\n",
    "    j = j-1; k = k-1\n",
    "    rx = np.eye(d, dtype=complex)\n",
    "    rx[j,j] = math.cos(th/2)\n",
    "    rx[k,k] = rx[j,j]\n",
    "    rx[j,k] = -1j*math.sin(th/2)\n",
    "    rx[k,j] = rx[j,k]\n",
    "    return rx\n",
    "\n",
    "def Ry(j,k,d,th):\n",
    "    # d = qudit dimension\n",
    "    # j,k = identification of the Gell-Mann matrix\n",
    "    # th = rotation angle\n",
    "    j = j-1; k = k-1\n",
    "    ry = np.eye(d, dtype=complex)\n",
    "    ry[j,j] = math.cos(th/2)\n",
    "    ry[k,k] = ry[j,j]\n",
    "    ry[j,k] = -math.sin(th/2)\n",
    "    ry[k,j] = -ry[j,k]\n",
    "    return ry\n",
    "\n",
    "def Rz(j,d,th):\n",
    "    # d = qudit dimension\n",
    "    # j = identification of the Gell-Mann matrix\n",
    "    # th = rotation angle\n",
    "    rz = np.eye(d, dtype=complex)\n",
    "    for k in range(0,j+1):\n",
    "        angle = (th/2)*math.sqrt(2/(j*(j+1)))\n",
    "        if k == j: # corrige para iniciar k em 0\n",
    "            angle = angle*(-j)\n",
    "        rz[k,k] = math.cos(angle) - 1j*math.sin(angle)\n",
    "    return rz"
   ]
  },
  {
   "cell_type": "code",
   "execution_count": 66,
   "id": "a845b91b-fd8c-4b46-95b2-b7bbffa99f68",
   "metadata": {},
   "outputs": [
    {
     "data": {
      "text/plain": [
       "(array([[1.+0.j, 0.-0.j],\n",
       "        [0.-0.j, 1.+0.j]]),\n",
       " array([[ 1.+0.j, -0.+0.j],\n",
       "        [ 0.-0.j,  1.+0.j]]),\n",
       " array([[1.+0.j, 0.+0.j],\n",
       "        [0.+0.j, 1.+0.j]]))"
      ]
     },
     "execution_count": 66,
     "metadata": {},
     "output_type": "execute_result"
    }
   ],
   "source": [
    "d = 2; j = 1; k = 2; th = 0; Rx(j,k,d,th), Ry(j,k,d,th), Rz(j,d,th)"
   ]
  },
  {
   "cell_type": "code",
   "execution_count": 67,
   "id": "4fc144a1-6066-4a8f-98c5-ad29fb2a958b",
   "metadata": {},
   "outputs": [
    {
     "data": {
      "text/plain": [
       "(array([[1.+0.j, 0.-0.j, 0.+0.j],\n",
       "        [0.-0.j, 1.+0.j, 0.+0.j],\n",
       "        [0.+0.j, 0.+0.j, 1.+0.j]]),\n",
       " array([[ 1.+0.j, -0.+0.j,  0.+0.j],\n",
       "        [ 0.-0.j,  1.+0.j,  0.+0.j],\n",
       "        [ 0.+0.j,  0.+0.j,  1.+0.j]]),\n",
       " array([[1.+0.j, 0.+0.j, 0.+0.j],\n",
       "        [0.+0.j, 1.+0.j, 0.+0.j],\n",
       "        [0.+0.j, 0.+0.j, 1.+0.j]]))"
      ]
     },
     "execution_count": 67,
     "metadata": {},
     "output_type": "execute_result"
    }
   ],
   "source": [
    "d = 3; j = 1; k = 2; th = 0; Rx(j,k,d,th), Ry(j,k,d,th), Rz(j,d,th)"
   ]
  },
  {
   "cell_type": "markdown",
   "id": "8ff8cedc-6889-4078-88b9-ca722de45761",
   "metadata": {},
   "source": [
    "## Referências\n",
    "\n",
    "1. J. Maziero, “Computing Coherence Vectors and Correlation Matrices with Application to Quantum Discord Quantification,” Advances in Mathematical Physics, vol. 2016, p. e6892178, Jun. 2016, doi: 10.1155/2016/6892178.\n",
    "\n"
   ]
  },
  {
   "cell_type": "code",
   "execution_count": null,
   "id": "b9522126-c723-4b3e-8122-ad3847c77267",
   "metadata": {},
   "outputs": [],
   "source": []
  }
 ],
 "metadata": {
  "kernelspec": {
   "display_name": "Python 3 (ipykernel)",
   "language": "python",
   "name": "python3"
  },
  "language_info": {
   "codemirror_mode": {
    "name": "ipython",
    "version": 3
   },
   "file_extension": ".py",
   "mimetype": "text/x-python",
   "name": "python",
   "nbconvert_exporter": "python",
   "pygments_lexer": "ipython3",
   "version": "3.11.1"
  }
 },
 "nbformat": 4,
 "nbformat_minor": 5
}
