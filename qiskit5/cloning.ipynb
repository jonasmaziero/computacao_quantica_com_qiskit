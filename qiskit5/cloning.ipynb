{
 "cells": [
  {
   "cell_type": "markdown",
   "id": "41498cba",
   "metadata": {},
   "source": [
    "# Clonagem de estados quânticos\n",
    "\n",
    "## O teorema da não clonagem\n",
    "\n"
   ]
  },
  {
   "cell_type": "markdown",
   "id": "ec43c04d",
   "metadata": {},
   "source": [
    "## Máquinas de clonar"
   ]
  },
  {
   "cell_type": "code",
   "execution_count": null,
   "id": "5ec0f879",
   "metadata": {},
   "outputs": [],
   "source": []
  }
 ],
 "metadata": {
  "kernelspec": {
   "display_name": "Python 3 (ipykernel)",
   "language": "python",
   "name": "python3"
  },
  "language_info": {
   "codemirror_mode": {
    "name": "ipython",
    "version": 3
   },
   "file_extension": ".py",
   "mimetype": "text/x-python",
   "name": "python",
   "nbconvert_exporter": "python",
   "pygments_lexer": "ipython3",
   "version": "3.8.11"
  }
 },
 "nbformat": 4,
 "nbformat_minor": 5
}
