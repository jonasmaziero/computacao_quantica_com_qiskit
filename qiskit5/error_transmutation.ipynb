{
 "cells": [
  {
   "cell_type": "markdown",
   "id": "11628662",
   "metadata": {},
   "source": [
    "# Transmutação de erros quânticos"
   ]
  },
  {
   "cell_type": "code",
   "execution_count": null,
   "id": "91f185b1",
   "metadata": {},
   "outputs": [],
   "source": []
  },
  {
   "cell_type": "code",
   "execution_count": null,
   "id": "dbc42db0",
   "metadata": {},
   "outputs": [],
   "source": []
  },
  {
   "cell_type": "code",
   "execution_count": null,
   "id": "6e2a29a8",
   "metadata": {},
   "outputs": [],
   "source": []
  },
  {
   "cell_type": "code",
   "execution_count": null,
   "id": "1ab8fd95",
   "metadata": {},
   "outputs": [],
   "source": []
  },
  {
   "cell_type": "markdown",
   "id": "d8915865",
   "metadata": {},
   "source": [
    "## Referências\n",
    "\n",
    "1. D. Zhang and T. Cubitt, “Quantum Error Transmutation.” arXiv, Oct. 16, 2023. doi: 10.48550/arXiv.2310.10278.\n"
   ]
  },
  {
   "cell_type": "code",
   "execution_count": null,
   "id": "0c04eea1",
   "metadata": {},
   "outputs": [],
   "source": []
  }
 ],
 "metadata": {
  "kernelspec": {
   "display_name": "Python 3 (ipykernel)",
   "language": "python",
   "name": "python3"
  },
  "language_info": {
   "codemirror_mode": {
    "name": "ipython",
    "version": 3
   },
   "file_extension": ".py",
   "mimetype": "text/x-python",
   "name": "python",
   "nbconvert_exporter": "python",
   "pygments_lexer": "ipython3",
   "version": "3.9.13"
  }
 },
 "nbformat": 4,
 "nbformat_minor": 5
}
