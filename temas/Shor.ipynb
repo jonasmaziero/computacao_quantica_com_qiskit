{
 "cells": [
  {
   "cell_type": "markdown",
   "id": "41498cba",
   "metadata": {},
   "source": [
    "# Algoritmo de Shor\n",
    "\n",
    "\n"
   ]
  },
  {
   "cell_type": "code",
   "execution_count": null,
   "id": "ffa40326",
   "metadata": {},
   "outputs": [],
   "source": []
  },
  {
   "cell_type": "code",
   "execution_count": null,
   "id": "8b39f62b",
   "metadata": {},
   "outputs": [],
   "source": []
  },
  {
   "cell_type": "code",
   "execution_count": null,
   "id": "5973877b",
   "metadata": {},
   "outputs": [],
   "source": []
  },
  {
   "cell_type": "code",
   "execution_count": null,
   "id": "45660078",
   "metadata": {},
   "outputs": [],
   "source": []
  },
  {
   "cell_type": "code",
   "execution_count": null,
   "id": "8ee16d5b",
   "metadata": {},
   "outputs": [],
   "source": []
  },
  {
   "cell_type": "markdown",
   "id": "b0d46410",
   "metadata": {},
   "source": [
    "### Referências\n",
    "\n",
    "1. U. Skosana and M. Tame, “Demonstration of Shor’s factoring algorithm for N=21 on IBM quantum processors,” Sci Rep, vol. 11, no. 1, p. 16599, Dec. 2021, doi: 10.1038/s41598-021-95973-w.\n",
    "\n",
    "1. F. Ahnefeld, T. Theurer, D. Egloff, J. M. Matera, and M. B. Plenio, “Coherence as a Resource for Shor’s Algorithm,” Phys. Rev. Lett., vol. 129, no. 12, p. 120501, Sep. 2022, doi: 10.1103/PhysRevLett.129.120501.\n"
   ]
  },
  {
   "cell_type": "code",
   "execution_count": null,
   "id": "749a1777",
   "metadata": {},
   "outputs": [],
   "source": []
  }
 ],
 "metadata": {
  "kernelspec": {
   "display_name": "Python 3 (ipykernel)",
   "language": "python",
   "name": "python3"
  },
  "language_info": {
   "codemirror_mode": {
    "name": "ipython",
    "version": 3
   },
   "file_extension": ".py",
   "mimetype": "text/x-python",
   "name": "python",
   "nbconvert_exporter": "python",
   "pygments_lexer": "ipython3",
   "version": "3.8.11"
  }
 },
 "nbformat": 4,
 "nbformat_minor": 5
}
