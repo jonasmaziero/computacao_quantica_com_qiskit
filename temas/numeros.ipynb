{
 "cells": [
  {
   "cell_type": "markdown",
   "id": "a8dda790",
   "metadata": {},
   "source": [
    "# Teoria de números\n",
    "\n",
    "O conjunto de números inteiros é denotado por\n",
    "$$\\mathbb{Z} = \\{\\cdots,-2,-1,0,1,2,\\cdots\\}.$$\n",
    "O conjunto de número naturais, ou inteiros não negativos, é definido por\n",
    "$$\\mathbb{N} = \\{0,1,2,\\cdots\\}.$$\n",
    "Já o cojunto de números inteiros positivos, ou naturais positivos, é\n",
    "$$\\mathbb{N}_+ = \\{1,2,\\cdots\\}.$$\n"
   ]
  },
  {
   "cell_type": "markdown",
   "id": "14a0ee7f-2555-4211-a0c7-18a818f49aa7",
   "metadata": {},
   "source": [
    "Consideremos dois números $n,d\\in\\mathbb{Z}$. Dizemos que $d$ divide $n$ se existe $k\\in\\mathbb{Z}$ tal que\n",
    "$$\\frac{n}{d}=k\\ \\therefore\\ n=k*d.$$\n",
    "Em alguns casos usaremos $*$ para denotar a multiplicação de dois números.\n",
    "No caso em que $d$ divide $n$, i.e., no qual $d$ é um fator de $n$, usamos a notação\n",
    "$$d|n.$$\n",
    "Por exemplo, como $10=2*5$ então $2|10$ e $5|10$.\n",
    "Se um $d\\in\\mathbb{Z}$ não divide $n\\in\\mathbb{Z}$, denotamos por\n",
    "$$d\\nmid n.$$\n",
    "Por exemplo, $2\\nmid 5$ e $5\\nmid 7$.\n",
    "\n",
    "Vale mencionar que\n",
    "$$1|n\\ \\forall n\\in\\mathbb{Z}.$$"
   ]
  },
  {
   "cell_type": "markdown",
   "id": "6db50156-6a05-4fd3-8c7f-3453b2f99ddb",
   "metadata": {},
   "source": [
    "__Proposição.__ Para $a,b,c\\in\\mathbb{Z}$, se $a|b$ e $b|c$ então $a|c$.\n",
    "\n",
    "__Prova.__ Verificamos essa proposição como segue\n",
    "\\begin{align}\n",
    "& a|b \\ \\therefore\\ b = ka \\text{ com } k\\in\\mathbb{Z},\\\\\n",
    "& b|c \\ \\therefore\\ c = lb \\text{ com } l\\in\\mathbb{Z},\\\\\n",
    "& \\therefore\\ c=lb = lka = ma \\text{ com } lk=m\\in\\mathbb{Z} \\\\\n",
    "& \\therefore\\ a|c.\n",
    "\\end{align}"
   ]
  },
  {
   "cell_type": "markdown",
   "id": "ae6f60e8-e61c-478b-890f-2ec4cda22b62",
   "metadata": {},
   "source": [
    "__Proposição.__ Para $a,b,d,x,y\\in\\mathbb{Z}$, se $d|a$ e $d|b$ então $d$ também é um fator da combinação linear $xa+yb$.\n",
    "\n",
    "__Prova.__ Aqui teremos que\n",
    "\\begin{align}\n",
    "& d|a\\ \\therefore\\ a = fd \\text{ com } f\\in\\mathbb{Z}, \\\\\n",
    "& d|b\\ \\therefore\\ b = gd \\text{ com } g\\in\\mathbb{Z}, \\\\\n",
    "& xa+yb = xfd+ygd = (xf+yg)d = hd \\text{ com } xf+yg=h\\in\\mathbb{Z}.\n",
    "\\end{align}"
   ]
  },
  {
   "cell_type": "markdown",
   "id": "f9acb70d-a3dc-4fac-9bf0-cd81dfc6db7a",
   "metadata": {},
   "source": [
    "__Proposição.__ Para $a,b\\in\\mathbb{N}_+$, se $a|b$ então $a\\le b$. Por conseguinte se $a|b$ e $b|a$ então $a=b$.\n",
    "\n",
    "__Prova.__ Vemos que\n",
    "\\begin{align}\n",
    "& a|b\\ \\therefore\\ b = ka \\text{ com } k\\in\\mathbb{N}_+ \\\\\n",
    "& \\therefore\\ b-a = ka-a = (k-1)a =la\\ge 0 \\text{ pois } l=k-1\\ge 0 \\\\\n",
    "& \\therefore b \\ge a.\n",
    "\\end{align}\n",
    "Assim\n",
    "\\begin{align}\n",
    "& a|b\\ \\therefore\\ b\\ge a \\text{ e } b|a\\ \\therefore\\ a\\ge b \\\\\n",
    "& \\therefore\\ a = b.\n",
    "\\end{align}"
   ]
  },
  {
   "cell_type": "markdown",
   "id": "2a3c39fc-20a9-4674-a81a-55c09ad14e30",
   "metadata": {},
   "source": [
    "__Números primos.__ Números primos são números inteiros positivos maiores que 1 e que possuem somente $1$ e eles mesmos como fatores. \n",
    "\n",
    "Denotemos o conjunto de números primos por $\\mathbb{P}$. Então, para $p\\in\\mathbb{N}_+$, temos que $p\\in\\mathbb{P}$ se \n",
    "$$1|p \\text{ e } p|p \\text{ mas } q\\nmid p\\ \\forall\\ q\\in\\mathbb{N}_+,q\\ne p.$$\n",
    "\n",
    "Alguns exemplos de números primos são\n",
    "$$2,3,5,7,11,13,17,19,23,29,\\cdots.$$"
   ]
  },
  {
   "cell_type": "markdown",
   "id": "063d65b3-0dfe-42a8-b7e2-a5bdf426b4de",
   "metadata": {},
   "source": [
    "__Teorema fundamental da aritmética.__ Seja $a\\in\\mathbb{N}_{>1}$, ou seja, $a$ é um número inteiro maior que 1. Então $a$ pode ser fatorado de forma única em termos de números primos. Ou seja\n",
    "$$a = p_1^{q_1}p_2^{q_2}\\cdots p_n^{q_n}$$\n",
    "onde $p_j\\in\\mathbb{P}$ para $j=1,2,\\cdots,n$, com $n\\in\\mathbb{N}_{\\ge1}$  e $p_1,p_2,\\cdots,p_n$ sendo números primos distintos. Ademais $q_j\\in\\mathbb{N}_+$ para $j=1,\\cdots,n$. Claro, a decomposição é única a menos da ordem dos farores primos."
   ]
  },
  {
   "cell_type": "code",
   "execution_count": null,
   "id": "d251df38-141e-4e2d-97c7-cca1d2ef41d8",
   "metadata": {},
   "outputs": [],
   "source": []
  }
 ],
 "metadata": {
  "kernelspec": {
   "display_name": "Python 3 (ipykernel)",
   "language": "python",
   "name": "python3"
  },
  "language_info": {
   "codemirror_mode": {
    "name": "ipython",
    "version": 3
   },
   "file_extension": ".py",
   "mimetype": "text/x-python",
   "name": "python",
   "nbconvert_exporter": "python",
   "pygments_lexer": "ipython3",
   "version": "3.8.11"
  }
 },
 "nbformat": 4,
 "nbformat_minor": 5
}
