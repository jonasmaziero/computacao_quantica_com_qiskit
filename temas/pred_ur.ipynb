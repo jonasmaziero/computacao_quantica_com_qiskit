{
 "cells": [
  {
   "cell_type": "markdown",
   "id": "ff37809a-9a2c-42eb-9564-3909e3fee507",
   "metadata": {},
   "source": [
    "# Catani, L., Leifer, M., Scala, G., Schmid, D. & Spekkens, R. W. What is nonclassical about uncertainty relations? Phys. Rev. Lett. 129, 240401 (2022)."
   ]
  },
  {
   "cell_type": "markdown",
   "id": "d6036536-3e32-4669-839d-296f2a25dcac",
   "metadata": {},
   "source": [
    "Relaciona preditibilidade e contextualidade"
   ]
  },
  {
   "cell_type": "code",
   "execution_count": null,
   "id": "9e3f8b95-c05b-4b3d-929e-d32600e031ea",
   "metadata": {},
   "outputs": [],
   "source": []
  }
 ],
 "metadata": {
  "kernelspec": {
   "display_name": "Python 3 (ipykernel)",
   "language": "python",
   "name": "python3"
  },
  "language_info": {
   "codemirror_mode": {
    "name": "ipython",
    "version": 3
   },
   "file_extension": ".py",
   "mimetype": "text/x-python",
   "name": "python",
   "nbconvert_exporter": "python",
   "pygments_lexer": "ipython3",
   "version": "3.8.11"
  }
 },
 "nbformat": 4,
 "nbformat_minor": 5
}
