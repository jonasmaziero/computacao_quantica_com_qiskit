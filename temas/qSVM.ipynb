{
 "cells": [
  {
   "cell_type": "markdown",
   "id": "b5b72693",
   "metadata": {},
   "source": [
    "# Quantum support vector machine"
   ]
  },
  {
   "cell_type": "code",
   "execution_count": null,
   "id": "bed6622e",
   "metadata": {},
   "outputs": [],
   "source": []
  },
  {
   "cell_type": "code",
   "execution_count": null,
   "id": "74c2dfb3",
   "metadata": {},
   "outputs": [],
   "source": []
  },
  {
   "cell_type": "code",
   "execution_count": null,
   "id": "8ed54840",
   "metadata": {},
   "outputs": [],
   "source": []
  },
  {
   "cell_type": "markdown",
   "id": "8df395ba",
   "metadata": {},
   "source": [
    "### Referências\n",
    "\n",
    "1. https://qiskit.org/documentation/stable/0.24/tutorials/machine_learning/01_qsvm_classification.html\n",
    "\n",
    "1. 1. Rebentrost, P., Mohseni, M. & Lloyd, S. Quantum support vector machine for big data classification. Phys. Rev. Lett. 113, 130503 (2014)."
   ]
  },
  {
   "cell_type": "code",
   "execution_count": null,
   "id": "f476e3af",
   "metadata": {},
   "outputs": [],
   "source": []
  }
 ],
 "metadata": {
  "kernelspec": {
   "display_name": "Python 3 (ipykernel)",
   "language": "python",
   "name": "python3"
  },
  "language_info": {
   "codemirror_mode": {
    "name": "ipython",
    "version": 3
   },
   "file_extension": ".py",
   "mimetype": "text/x-python",
   "name": "python",
   "nbconvert_exporter": "python",
   "pygments_lexer": "ipython3",
   "version": "3.8.11"
  }
 },
 "nbformat": 4,
 "nbformat_minor": 5
}
