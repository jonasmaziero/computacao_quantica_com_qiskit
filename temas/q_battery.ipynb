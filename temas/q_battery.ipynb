{
 "cells": [
  {
   "cell_type": "markdown",
   "id": "b5edb676",
   "metadata": {},
   "source": [
    "# Bateria quântica\n",
    "\n",
    "\n",
    "Ref. https://doi.org/10.48550/arXiv.2204.10786"
   ]
  },
  {
   "cell_type": "code",
   "execution_count": null,
   "id": "c71cc5e3",
   "metadata": {},
   "outputs": [],
   "source": []
  }
 ],
 "metadata": {
  "kernelspec": {
   "display_name": "Python 3 (ipykernel)",
   "language": "python",
   "name": "python3"
  },
  "language_info": {
   "codemirror_mode": {
    "name": "ipython",
    "version": 3
   },
   "file_extension": ".py",
   "mimetype": "text/x-python",
   "name": "python",
   "nbconvert_exporter": "python",
   "pygments_lexer": "ipython3",
   "version": "3.8.8"
  }
 },
 "nbformat": 4,
 "nbformat_minor": 5
}
