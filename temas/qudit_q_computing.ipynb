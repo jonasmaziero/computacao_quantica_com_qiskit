{
 "cells": [
  {
   "cell_type": "markdown",
   "id": "8195c3a5-5d65-4e34-ac70-4ee8fbf75cd5",
   "metadata": {},
   "source": [
    "# Computação quântica com qudits"
   ]
  },
  {
   "cell_type": "code",
   "execution_count": null,
   "id": "467fc6d2-cd1b-47b5-82f7-2c50e34cb84b",
   "metadata": {},
   "outputs": [],
   "source": []
  },
  {
   "cell_type": "markdown",
   "id": "48e1e9db-193e-4519-bbce-ab31c96855f9",
   "metadata": {},
   "source": [
    "* Y. Wang, Z. Hu, B. C. Sanders, and S. Kais, “Qudits and High-Dimensional Quantum Computing,” Frontiers in Physics, vol. 8, 2020, Accessed: Mar. 05, 2023. [Online]. Available: https://www.frontiersin.org/articles/10.3389/fphy.2020.589504\n"
   ]
  }
 ],
 "metadata": {
  "kernelspec": {
   "display_name": "Python 3 (ipykernel)",
   "language": "python",
   "name": "python3"
  },
  "language_info": {
   "codemirror_mode": {
    "name": "ipython",
    "version": 3
   },
   "file_extension": ".py",
   "mimetype": "text/x-python",
   "name": "python",
   "nbconvert_exporter": "python",
   "pygments_lexer": "ipython3",
   "version": "3.9.13"
  }
 },
 "nbformat": 4,
 "nbformat_minor": 5
}
