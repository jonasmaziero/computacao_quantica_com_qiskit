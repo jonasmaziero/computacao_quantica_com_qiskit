{
 "cells": [
  {
   "cell_type": "markdown",
   "id": "41498cba",
   "metadata": {},
   "source": [
    "# Experimento do amigo de Wigner\n",
    "\n"
   ]
  },
  {
   "cell_type": "code",
   "execution_count": null,
   "id": "ffa40326",
   "metadata": {},
   "outputs": [],
   "source": []
  },
  {
   "cell_type": "code",
   "execution_count": null,
   "id": "008e31af",
   "metadata": {},
   "outputs": [],
   "source": []
  },
  {
   "cell_type": "code",
   "execution_count": null,
   "id": "c57ed4e9",
   "metadata": {},
   "outputs": [],
   "source": []
  },
  {
   "cell_type": "code",
   "execution_count": null,
   "id": "4ecbea98",
   "metadata": {},
   "outputs": [],
   "source": []
  },
  {
   "cell_type": "markdown",
   "id": "508fc748",
   "metadata": {},
   "source": [
    "### Referências\n",
    "\n",
    "1. N. Nurgalieva, S. Mathis, L. del Rio, and R. Renner, “Thought experiments in a quantum computer.” arXiv, Sep. 13, 2022. doi: 10.48550/arXiv.2209.06236.\n",
    "\n",
    "1. V. Vilasini and M. P. Woods, “A general framework for consistent logical reasoning in Wigner’s friend scenarios: subjective perspectives of agents within a single quantum circuit.” arXiv, Sep. 19, 2022. doi: 10.48550/arXiv.2209.09281.\n",
    "\n"
   ]
  },
  {
   "cell_type": "code",
   "execution_count": null,
   "id": "b300a462",
   "metadata": {},
   "outputs": [],
   "source": []
  }
 ],
 "metadata": {
  "kernelspec": {
   "display_name": "Python 3 (ipykernel)",
   "language": "python",
   "name": "python3"
  },
  "language_info": {
   "codemirror_mode": {
    "name": "ipython",
    "version": 3
   },
   "file_extension": ".py",
   "mimetype": "text/x-python",
   "name": "python",
   "nbconvert_exporter": "python",
   "pygments_lexer": "ipython3",
   "version": "3.8.11"
  }
 },
 "nbformat": 4,
 "nbformat_minor": 5
}
