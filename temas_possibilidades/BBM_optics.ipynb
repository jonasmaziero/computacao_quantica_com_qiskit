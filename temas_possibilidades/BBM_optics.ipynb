{
 "cells": [
  {
   "cell_type": "markdown",
   "id": "d1937a83",
   "metadata": {},
   "source": [
    "https://arxiv.org/abs/quant-ph/0212058"
   ]
  },
  {
   "cell_type": "markdown",
   "id": "1ffa9f71",
   "metadata": {},
   "source": [
    "# Medida na base de Bell com óptica linear\n",
    "\n"
   ]
  },
  {
   "cell_type": "code",
   "execution_count": null,
   "id": "be80e02b",
   "metadata": {},
   "outputs": [],
   "source": []
  }
 ],
 "metadata": {
  "kernelspec": {
   "display_name": "Python 3 (ipykernel)",
   "language": "python",
   "name": "python3"
  },
  "language_info": {
   "codemirror_mode": {
    "name": "ipython",
    "version": 3
   },
   "file_extension": ".py",
   "mimetype": "text/x-python",
   "name": "python",
   "nbconvert_exporter": "python",
   "pygments_lexer": "ipython3",
   "version": "3.8.8"
  }
 },
 "nbformat": 4,
 "nbformat_minor": 5
}
