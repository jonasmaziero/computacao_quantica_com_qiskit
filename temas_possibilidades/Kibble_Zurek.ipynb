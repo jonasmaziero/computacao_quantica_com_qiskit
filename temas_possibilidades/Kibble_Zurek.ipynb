{
 "cells": [
  {
   "cell_type": "markdown",
   "id": "91c257e6",
   "metadata": {},
   "source": [
    "# Mecanismo de Kibble-Zurek <br> Transições de fase para sistemas fora do equilíbrio"
   ]
  },
  {
   "cell_type": "markdown",
   "id": "438fe157",
   "metadata": {},
   "source": []
  },
  {
   "cell_type": "code",
   "execution_count": null,
   "id": "e310f9c0",
   "metadata": {},
   "outputs": [],
   "source": []
  },
  {
   "cell_type": "code",
   "execution_count": null,
   "id": "b25384a5",
   "metadata": {},
   "outputs": [],
   "source": []
  },
  {
   "cell_type": "markdown",
   "id": "7441fad5",
   "metadata": {},
   "source": [
    "## Referências\n",
    "\n",
    "1. S. Higuera-Quintero, F. J. Rodríguez, L. Quiroga, and F. J. Gómez-Ruiz, “Experimental validation of the Kibble-Zurek Mechanism on a Digital Quantum Computer.” arXiv, Aug. 23, 2022. doi: 10.48550/arXiv.2208.01050.\n"
   ]
  },
  {
   "cell_type": "code",
   "execution_count": null,
   "id": "98ac9722",
   "metadata": {},
   "outputs": [],
   "source": []
  }
 ],
 "metadata": {
  "kernelspec": {
   "display_name": "Python 3 (ipykernel)",
   "language": "python",
   "name": "python3"
  },
  "language_info": {
   "codemirror_mode": {
    "name": "ipython",
    "version": 3
   },
   "file_extension": ".py",
   "mimetype": "text/x-python",
   "name": "python",
   "nbconvert_exporter": "python",
   "pygments_lexer": "ipython3",
   "version": "3.8.11"
  }
 },
 "nbformat": 4,
 "nbformat_minor": 5
}
