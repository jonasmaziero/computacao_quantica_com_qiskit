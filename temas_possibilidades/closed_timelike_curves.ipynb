{
 "cells": [
  {
   "cell_type": "markdown",
   "id": "ba56916b",
   "metadata": {},
   "source": [
    "[1] M. Ringbauer, M. A. Broome, C. R. Myers, A. G. White, and T. C. Ralph, “Experimental simulation of closed timelike curves,” Nat Commun, vol. 5, no. 1, Art. no. 1, Jun. 2014, doi: 10.1038/ncomms5145.\n"
   ]
  },
  {
   "cell_type": "code",
   "execution_count": null,
   "id": "72e846c0",
   "metadata": {},
   "outputs": [],
   "source": []
  }
 ],
 "metadata": {
  "kernelspec": {
   "display_name": "Python 3 (ipykernel)",
   "language": "python",
   "name": "python3"
  },
  "language_info": {
   "codemirror_mode": {
    "name": "ipython",
    "version": 3
   },
   "file_extension": ".py",
   "mimetype": "text/x-python",
   "name": "python",
   "nbconvert_exporter": "python",
   "pygments_lexer": "ipython3",
   "version": "3.8.11"
  }
 },
 "nbformat": 4,
 "nbformat_minor": 5
}
