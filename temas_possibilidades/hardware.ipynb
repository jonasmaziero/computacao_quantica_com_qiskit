{
 "cells": [
  {
   "cell_type": "markdown",
   "id": "5013cf4d",
   "metadata": {},
   "source": [
    "# Implementação física de computadores quânticos"
   ]
  },
  {
   "cell_type": "code",
   "execution_count": null,
   "id": "d73f65d1",
   "metadata": {},
   "outputs": [],
   "source": []
  }
 ],
 "metadata": {
  "kernelspec": {
   "display_name": "Python 3 (ipykernel)",
   "language": "python",
   "name": "python3"
  },
  "language_info": {
   "codemirror_mode": {
    "name": "ipython",
    "version": 3
   },
   "file_extension": ".py",
   "mimetype": "text/x-python",
   "name": "python",
   "nbconvert_exporter": "python",
   "pygments_lexer": "ipython3",
   "version": "3.8.11"
  }
 },
 "nbformat": 4,
 "nbformat_minor": 5
}
