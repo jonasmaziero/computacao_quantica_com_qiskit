{
 "cells": [
  {
   "cell_type": "markdown",
   "id": "266a728c",
   "metadata": {},
   "source": [
    "# Inicialização de estados e a 3ª lei da termodinâmica"
   ]
  },
  {
   "cell_type": "code",
   "execution_count": null,
   "id": "669c81b8",
   "metadata": {},
   "outputs": [],
   "source": []
  },
  {
   "cell_type": "code",
   "execution_count": null,
   "id": "5a0f36d2",
   "metadata": {},
   "outputs": [],
   "source": []
  },
  {
   "cell_type": "code",
   "execution_count": null,
   "id": "4c9cb236",
   "metadata": {},
   "outputs": [],
   "source": []
  },
  {
   "cell_type": "code",
   "execution_count": null,
   "id": "d0adc514",
   "metadata": {},
   "outputs": [],
   "source": []
  },
  {
   "cell_type": "markdown",
   "id": "4df393c3",
   "metadata": {},
   "source": [
    "### Referências\n",
    "\n",
    "1. L. Buffoni, S. Gherardini, E. Z. Cruzeiro, and Y. Omar, “Third law of thermodynamics and the scaling of quantum computers,” Phys. Rev. Lett., vol. 129, no. 15, p. 150602, Oct. 2022, doi: 10.1103/PhysRevLett.129.150602.\n",
    "\n",
    "1. M. A. I. Johnson et al., “Beating the thermal limit of qubit initialization with a Bayesian Maxwell’s demon,” Phys. Rev. X, vol. 12, no. 4, p. 041008, Oct. 2022, doi: 10.1103/PhysRevX.12.041008.\n",
    "\n",
    "1. L. Masanes and J. Oppenheim, “A general derivation and quantification of the third law of thermodynamics,” Nat Commun, vol. 8, no. 1, Art. no. 1, Mar. 2017, doi: 10.1038/ncomms14538.\n",
    "\n",
    "\n"
   ]
  },
  {
   "cell_type": "code",
   "execution_count": null,
   "id": "042d5303",
   "metadata": {},
   "outputs": [],
   "source": []
  }
 ],
 "metadata": {
  "kernelspec": {
   "display_name": "Python 3 (ipykernel)",
   "language": "python",
   "name": "python3"
  },
  "language_info": {
   "codemirror_mode": {
    "name": "ipython",
    "version": 3
   },
   "file_extension": ".py",
   "mimetype": "text/x-python",
   "name": "python",
   "nbconvert_exporter": "python",
   "pygments_lexer": "ipython3",
   "version": "3.8.11"
  }
 },
 "nbformat": 4,
 "nbformat_minor": 5
}
