{
 "cells": [
  {
   "cell_type": "markdown",
   "id": "3ce6f330",
   "metadata": {},
   "source": [
    "# Problema das rotas veiculares"
   ]
  },
  {
   "cell_type": "code",
   "execution_count": null,
   "id": "1cdba044",
   "metadata": {},
   "outputs": [],
   "source": []
  },
  {
   "cell_type": "code",
   "execution_count": null,
   "id": "8939509e",
   "metadata": {},
   "outputs": [],
   "source": []
  },
  {
   "cell_type": "code",
   "execution_count": null,
   "id": "879cb169",
   "metadata": {},
   "outputs": [],
   "source": []
  },
  {
   "cell_type": "code",
   "execution_count": null,
   "id": "83f2e64a",
   "metadata": {},
   "outputs": [],
   "source": []
  },
  {
   "cell_type": "markdown",
   "id": "797e50e7",
   "metadata": {},
   "source": [
    "### Referências\n",
    "\n",
    "1. U. Azad, B. K. Behera, E. A. Ahmed, P. K. Panigrahi, and A. Farouk, “Solving Vehicle Routing Problem Using Quantum Approximate Optimization Algorithm,” IEEE Trans. Intell. Transport. Syst., pp. 1–10, 2022, doi: 10.1109/TITS.2022.3172241.\n"
   ]
  },
  {
   "cell_type": "code",
   "execution_count": null,
   "id": "69c7f720",
   "metadata": {},
   "outputs": [],
   "source": []
  }
 ],
 "metadata": {
  "kernelspec": {
   "display_name": "Python 3 (ipykernel)",
   "language": "python",
   "name": "python3"
  },
  "language_info": {
   "codemirror_mode": {
    "name": "ipython",
    "version": 3
   },
   "file_extension": ".py",
   "mimetype": "text/x-python",
   "name": "python",
   "nbconvert_exporter": "python",
   "pygments_lexer": "ipython3",
   "version": "3.8.11"
  }
 },
 "nbformat": 4,
 "nbformat_minor": 5
}
